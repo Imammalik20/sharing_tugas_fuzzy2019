{
 "cells": [
  {
   "cell_type": "markdown",
   "metadata": {},
   "source": [
    "#                                                       CRYOTHERAPY\n",
    "## Nama                        : Nur Faizah\n",
    "## NIM                           : 09011181722027\n",
    "## Kelas                        : SK 5A\n",
    "## Dosen Pembimbing : Prof.Dr.Ir. Siti Nurmaini, M.T."
   ]
  },
  {
   "cell_type": "markdown",
   "metadata": {},
   "source": [
    "### IMPORT PACKAGES\n",
    "Berikut kegunaan import packages yaitu, Numpy digunakan untuk generate array untuk membuat grafik confusion matriks.Pandas digunakan untuk Load Dataset. matplotlib digunakan untuk mencetak grafik pada beberapa event seperti grafik distribusi variabel, grafik confusion matrix dan grafik akurasi. Seaborn digunakan untuk plot grafik distribusi nilai dari Class (output), seaborn ini berbasis matplotlib. Sklearn digunakan untuk mengolah data Machine Learning seperti preprocessing. Keras digunakan untuk membuat, menambah, dan mengevaluasi model neural network. "
   ]
  },
  {
   "cell_type": "code",
   "execution_count": 1,
   "metadata": {},
   "outputs": [
    {
     "name": "stderr",
     "output_type": "stream",
     "text": [
      "Using TensorFlow backend.\n"
     ]
    }
   ],
   "source": [
    "import numpy as np\n",
    "np.random.seed(7)\n",
    "import pandas as pd\n",
    "import seaborn as sns\n",
    "import matplotlib.pyplot as plt\n",
    "from keras.models import Sequential\n",
    "from keras.layers import Dense\n",
    "from keras.optimizers import Adam\n",
    "from sklearn.utils import resample\n",
    "from sklearn.preprocessing import MinMaxScaler\n",
    "scaler = MinMaxScaler\n",
    "from sklearn.preprocessing import LabelEncoder\n",
    "from sklearn.metrics import confusion_matrix\n",
    "from sklearn.model_selection import train_test_split"
   ]
  },
  {
   "cell_type": "markdown",
   "metadata": {},
   "source": [
    "### IMPORT DATASET\n",
    "Dataset yang dugunakan dalam hal ini adalah Cryotherapy by UCI Machine Learning.\n",
    "head() berfungsi untuk melihat data sebanyak n pada kolom awal (jika tidak diisi, akan tampil secara random).\n"
   ]
  },
  {
   "cell_type": "code",
   "execution_count": 2,
   "metadata": {},
   "outputs": [
    {
     "data": {
      "text/html": [
       "<div>\n",
       "<style scoped>\n",
       "    .dataframe tbody tr th:only-of-type {\n",
       "        vertical-align: middle;\n",
       "    }\n",
       "\n",
       "    .dataframe tbody tr th {\n",
       "        vertical-align: top;\n",
       "    }\n",
       "\n",
       "    .dataframe thead th {\n",
       "        text-align: right;\n",
       "    }\n",
       "</style>\n",
       "<table border=\"1\" class=\"dataframe\">\n",
       "  <thead>\n",
       "    <tr style=\"text-align: right;\">\n",
       "      <th></th>\n",
       "      <th>sex</th>\n",
       "      <th>age</th>\n",
       "      <th>Time</th>\n",
       "      <th>Number_of_Warts</th>\n",
       "      <th>Type</th>\n",
       "      <th>Area</th>\n",
       "      <th>Result_of_Treatment</th>\n",
       "    </tr>\n",
       "  </thead>\n",
       "  <tbody>\n",
       "    <tr>\n",
       "      <td>0</td>\n",
       "      <td>1</td>\n",
       "      <td>35</td>\n",
       "      <td>12.00</td>\n",
       "      <td>5</td>\n",
       "      <td>1</td>\n",
       "      <td>100</td>\n",
       "      <td>0</td>\n",
       "    </tr>\n",
       "    <tr>\n",
       "      <td>1</td>\n",
       "      <td>1</td>\n",
       "      <td>29</td>\n",
       "      <td>7.00</td>\n",
       "      <td>5</td>\n",
       "      <td>1</td>\n",
       "      <td>96</td>\n",
       "      <td>1</td>\n",
       "    </tr>\n",
       "    <tr>\n",
       "      <td>2</td>\n",
       "      <td>1</td>\n",
       "      <td>50</td>\n",
       "      <td>8.00</td>\n",
       "      <td>1</td>\n",
       "      <td>3</td>\n",
       "      <td>132</td>\n",
       "      <td>0</td>\n",
       "    </tr>\n",
       "    <tr>\n",
       "      <td>3</td>\n",
       "      <td>1</td>\n",
       "      <td>32</td>\n",
       "      <td>11.75</td>\n",
       "      <td>7</td>\n",
       "      <td>3</td>\n",
       "      <td>750</td>\n",
       "      <td>0</td>\n",
       "    </tr>\n",
       "    <tr>\n",
       "      <td>4</td>\n",
       "      <td>1</td>\n",
       "      <td>67</td>\n",
       "      <td>9.25</td>\n",
       "      <td>1</td>\n",
       "      <td>1</td>\n",
       "      <td>42</td>\n",
       "      <td>0</td>\n",
       "    </tr>\n",
       "  </tbody>\n",
       "</table>\n",
       "</div>"
      ],
      "text/plain": [
       "   sex  age   Time  Number_of_Warts  Type  Area  Result_of_Treatment\n",
       "0    1   35  12.00                5     1   100                    0\n",
       "1    1   29   7.00                5     1    96                    1\n",
       "2    1   50   8.00                1     3   132                    0\n",
       "3    1   32  11.75                7     3   750                    0\n",
       "4    1   67   9.25                1     1    42                    0"
      ]
     },
     "execution_count": 2,
     "metadata": {},
     "output_type": "execute_result"
    }
   ],
   "source": [
    "df = pd.read_csv('Cryotherapy.csv')\n",
    "df.head()"
   ]
  },
  {
   "cell_type": "code",
   "execution_count": 3,
   "metadata": {},
   "outputs": [
    {
     "name": "stdout",
     "output_type": "stream",
     "text": [
      "<class 'pandas.core.frame.DataFrame'>\n",
      "RangeIndex: 105 entries, 0 to 104\n",
      "Data columns (total 7 columns):\n",
      "sex                    105 non-null int64\n",
      "age                    105 non-null int64\n",
      "Time                   105 non-null float64\n",
      "Number_of_Warts        105 non-null int64\n",
      "Type                   105 non-null int64\n",
      "Area                   105 non-null int64\n",
      "Result_of_Treatment    105 non-null int64\n",
      "dtypes: float64(1), int64(6)\n",
      "memory usage: 5.9 KB\n"
     ]
    }
   ],
   "source": [
    "df.info()"
   ]
  },
  {
   "cell_type": "code",
   "execution_count": 4,
   "metadata": {},
   "outputs": [
    {
     "data": {
      "text/html": [
       "<div>\n",
       "<style scoped>\n",
       "    .dataframe tbody tr th:only-of-type {\n",
       "        vertical-align: middle;\n",
       "    }\n",
       "\n",
       "    .dataframe tbody tr th {\n",
       "        vertical-align: top;\n",
       "    }\n",
       "\n",
       "    .dataframe thead th {\n",
       "        text-align: right;\n",
       "    }\n",
       "</style>\n",
       "<table border=\"1\" class=\"dataframe\">\n",
       "  <thead>\n",
       "    <tr style=\"text-align: right;\">\n",
       "      <th></th>\n",
       "      <th>sex</th>\n",
       "      <th>Number_of_Warts</th>\n",
       "      <th>Type</th>\n",
       "      <th>Area</th>\n",
       "      <th>Result_of_Treatment</th>\n",
       "    </tr>\n",
       "  </thead>\n",
       "  <tbody>\n",
       "    <tr>\n",
       "      <td>0</td>\n",
       "      <td>1</td>\n",
       "      <td>5</td>\n",
       "      <td>1</td>\n",
       "      <td>100</td>\n",
       "      <td>0</td>\n",
       "    </tr>\n",
       "    <tr>\n",
       "      <td>1</td>\n",
       "      <td>1</td>\n",
       "      <td>5</td>\n",
       "      <td>1</td>\n",
       "      <td>96</td>\n",
       "      <td>1</td>\n",
       "    </tr>\n",
       "    <tr>\n",
       "      <td>2</td>\n",
       "      <td>1</td>\n",
       "      <td>1</td>\n",
       "      <td>3</td>\n",
       "      <td>132</td>\n",
       "      <td>0</td>\n",
       "    </tr>\n",
       "    <tr>\n",
       "      <td>3</td>\n",
       "      <td>1</td>\n",
       "      <td>7</td>\n",
       "      <td>3</td>\n",
       "      <td>750</td>\n",
       "      <td>0</td>\n",
       "    </tr>\n",
       "    <tr>\n",
       "      <td>4</td>\n",
       "      <td>1</td>\n",
       "      <td>1</td>\n",
       "      <td>1</td>\n",
       "      <td>42</td>\n",
       "      <td>0</td>\n",
       "    </tr>\n",
       "  </tbody>\n",
       "</table>\n",
       "</div>"
      ],
      "text/plain": [
       "   sex  Number_of_Warts  Type  Area  Result_of_Treatment\n",
       "0    1                5     1   100                    0\n",
       "1    1                5     1    96                    1\n",
       "2    1                1     3   132                    0\n",
       "3    1                7     3   750                    0\n",
       "4    1                1     1    42                    0"
      ]
     },
     "execution_count": 4,
     "metadata": {},
     "output_type": "execute_result"
    }
   ],
   "source": [
    "df_1 = df.drop(columns=[\"age\",\"Time\",])\n",
    "df_1.head()"
   ]
  },
  {
   "cell_type": "code",
   "execution_count": 5,
   "metadata": {},
   "outputs": [
    {
     "data": {
      "text/html": [
       "<div>\n",
       "<style scoped>\n",
       "    .dataframe tbody tr th:only-of-type {\n",
       "        vertical-align: middle;\n",
       "    }\n",
       "\n",
       "    .dataframe tbody tr th {\n",
       "        vertical-align: top;\n",
       "    }\n",
       "\n",
       "    .dataframe thead th {\n",
       "        text-align: right;\n",
       "    }\n",
       "</style>\n",
       "<table border=\"1\" class=\"dataframe\">\n",
       "  <thead>\n",
       "    <tr style=\"text-align: right;\">\n",
       "      <th></th>\n",
       "      <th>sex</th>\n",
       "      <th>Number_of_Warts</th>\n",
       "      <th>Type</th>\n",
       "      <th>Area</th>\n",
       "      <th>Result_of_Treatment</th>\n",
       "    </tr>\n",
       "  </thead>\n",
       "  <tbody>\n",
       "    <tr>\n",
       "      <td>0</td>\n",
       "      <td>0</td>\n",
       "      <td>4</td>\n",
       "      <td>0</td>\n",
       "      <td>22</td>\n",
       "      <td>0</td>\n",
       "    </tr>\n",
       "    <tr>\n",
       "      <td>1</td>\n",
       "      <td>0</td>\n",
       "      <td>4</td>\n",
       "      <td>0</td>\n",
       "      <td>21</td>\n",
       "      <td>1</td>\n",
       "    </tr>\n",
       "    <tr>\n",
       "      <td>2</td>\n",
       "      <td>0</td>\n",
       "      <td>0</td>\n",
       "      <td>2</td>\n",
       "      <td>25</td>\n",
       "      <td>0</td>\n",
       "    </tr>\n",
       "    <tr>\n",
       "      <td>3</td>\n",
       "      <td>0</td>\n",
       "      <td>6</td>\n",
       "      <td>2</td>\n",
       "      <td>28</td>\n",
       "      <td>0</td>\n",
       "    </tr>\n",
       "    <tr>\n",
       "      <td>4</td>\n",
       "      <td>0</td>\n",
       "      <td>0</td>\n",
       "      <td>0</td>\n",
       "      <td>9</td>\n",
       "      <td>0</td>\n",
       "    </tr>\n",
       "  </tbody>\n",
       "</table>\n",
       "</div>"
      ],
      "text/plain": [
       "   sex  Number_of_Warts  Type  Area  Result_of_Treatment\n",
       "0    0                4     0    22                    0\n",
       "1    0                4     0    21                    1\n",
       "2    0                0     2    25                    0\n",
       "3    0                6     2    28                    0\n",
       "4    0                0     0     9                    0"
      ]
     },
     "execution_count": 5,
     "metadata": {},
     "output_type": "execute_result"
    }
   ],
   "source": [
    "enc = LabelEncoder()\n",
    "df_2 = df_1.apply(enc.fit_transform)\n",
    "df_2.head()"
   ]
  },
  {
   "cell_type": "code",
   "execution_count": 6,
   "metadata": {},
   "outputs": [
    {
     "name": "stdout",
     "output_type": "stream",
     "text": [
      "<class 'pandas.core.frame.DataFrame'>\n",
      "RangeIndex: 105 entries, 0 to 104\n",
      "Data columns (total 5 columns):\n",
      "sex                    105 non-null int64\n",
      "Number_of_Warts        105 non-null int64\n",
      "Type                   105 non-null int64\n",
      "Area                   105 non-null int64\n",
      "Result_of_Treatment    105 non-null int64\n",
      "dtypes: int64(5)\n",
      "memory usage: 4.2 KB\n"
     ]
    }
   ],
   "source": [
    "df_2.info()"
   ]
  },
  {
   "cell_type": "code",
   "execution_count": 7,
   "metadata": {},
   "outputs": [
    {
     "data": {
      "text/plain": [
       "(105, 5)"
      ]
     },
     "execution_count": 7,
     "metadata": {},
     "output_type": "execute_result"
    }
   ],
   "source": [
    "df_2.shape"
   ]
  },
  {
   "cell_type": "code",
   "execution_count": 8,
   "metadata": {},
   "outputs": [
    {
     "data": {
      "text/plain": [
       "1    57\n",
       "0    48\n",
       "Name: Result_of_Treatment, dtype: int64"
      ]
     },
     "execution_count": 8,
     "metadata": {},
     "output_type": "execute_result"
    }
   ],
   "source": [
    "df_2.Result_of_Treatment.value_counts()"
   ]
  },
  {
   "cell_type": "code",
   "execution_count": 9,
   "metadata": {},
   "outputs": [
    {
     "data": {
      "text/plain": [
       "4     10\n",
       "22    10\n",
       "1      9\n",
       "18     6\n",
       "15     6\n",
       "7      5\n",
       "3      4\n",
       "17     4\n",
       "12     4\n",
       "28     3\n",
       "13     3\n",
       "2      3\n",
       "6      3\n",
       "9      3\n",
       "0      3\n",
       "27     3\n",
       "16     3\n",
       "20     3\n",
       "21     3\n",
       "23     3\n",
       "25     3\n",
       "26     3\n",
       "5      2\n",
       "11     1\n",
       "10     1\n",
       "19     1\n",
       "8      1\n",
       "24     1\n",
       "14     1\n",
       "Name: Area, dtype: int64"
      ]
     },
     "execution_count": 9,
     "metadata": {},
     "output_type": "execute_result"
    }
   ],
   "source": [
    "df_2['Area'].value_counts()"
   ]
  },
  {
   "cell_type": "code",
   "execution_count": 10,
   "metadata": {},
   "outputs": [
    {
     "name": "stderr",
     "output_type": "stream",
     "text": [
      "C:\\Users\\NurFaizah\\Anaconda3\\envs\\tensorflow-session\\lib\\site-packages\\ipykernel_launcher.py:1: FutureWarning: \n",
      ".ix is deprecated. Please use\n",
      ".loc for label based indexing or\n",
      ".iloc for positional indexing\n",
      "\n",
      "See the documentation here:\n",
      "http://pandas.pydata.org/pandas-docs/stable/user_guide/indexing.html#ix-indexer-is-deprecated\n",
      "  \"\"\"Entry point for launching an IPython kernel.\n",
      "C:\\Users\\NurFaizah\\Anaconda3\\envs\\tensorflow-session\\lib\\site-packages\\pandas\\core\\indexing.py:822: FutureWarning: \n",
      ".ix is deprecated. Please use\n",
      ".loc for label based indexing or\n",
      ".iloc for positional indexing\n",
      "\n",
      "See the documentation here:\n",
      "http://pandas.pydata.org/pandas-docs/stable/user_guide/indexing.html#ix-indexer-is-deprecated\n",
      "  retval = getattr(retval, self.name)._getitem_axis(key, axis=i)\n",
      "C:\\Users\\NurFaizah\\Anaconda3\\envs\\tensorflow-session\\lib\\site-packages\\ipykernel_launcher.py:2: FutureWarning: \n",
      ".ix is deprecated. Please use\n",
      ".loc for label based indexing or\n",
      ".iloc for positional indexing\n",
      "\n",
      "See the documentation here:\n",
      "http://pandas.pydata.org/pandas-docs/stable/user_guide/indexing.html#ix-indexer-is-deprecated\n",
      "  \n"
     ]
    }
   ],
   "source": [
    "x = np.array(df_2.ix[:, 0:4])\n",
    "y = np.array(df_2.ix[:, 4])"
   ]
  },
  {
   "cell_type": "code",
   "execution_count": 11,
   "metadata": {},
   "outputs": [
    {
     "data": {
      "text/html": [
       "<div>\n",
       "<style scoped>\n",
       "    .dataframe tbody tr th:only-of-type {\n",
       "        vertical-align: middle;\n",
       "    }\n",
       "\n",
       "    .dataframe tbody tr th {\n",
       "        vertical-align: top;\n",
       "    }\n",
       "\n",
       "    .dataframe thead th {\n",
       "        text-align: right;\n",
       "    }\n",
       "</style>\n",
       "<table border=\"1\" class=\"dataframe\">\n",
       "  <thead>\n",
       "    <tr style=\"text-align: right;\">\n",
       "      <th></th>\n",
       "      <th>sex</th>\n",
       "      <th>Number_of_Warts</th>\n",
       "      <th>Type</th>\n",
       "      <th>Area</th>\n",
       "      <th>Result_of_Treatment</th>\n",
       "    </tr>\n",
       "  </thead>\n",
       "  <tbody>\n",
       "    <tr>\n",
       "      <td>count</td>\n",
       "      <td>105.000000</td>\n",
       "      <td>105.000000</td>\n",
       "      <td>105.000000</td>\n",
       "      <td>105.000000</td>\n",
       "      <td>105.000000</td>\n",
       "    </tr>\n",
       "    <tr>\n",
       "      <td>mean</td>\n",
       "      <td>0.514286</td>\n",
       "      <td>4.580952</td>\n",
       "      <td>0.723810</td>\n",
       "      <td>13.085714</td>\n",
       "      <td>0.542857</td>\n",
       "    </tr>\n",
       "    <tr>\n",
       "      <td>std</td>\n",
       "      <td>0.539128</td>\n",
       "      <td>3.455155</td>\n",
       "      <td>0.882471</td>\n",
       "      <td>8.767416</td>\n",
       "      <td>0.500549</td>\n",
       "    </tr>\n",
       "    <tr>\n",
       "      <td>min</td>\n",
       "      <td>0.000000</td>\n",
       "      <td>0.000000</td>\n",
       "      <td>0.000000</td>\n",
       "      <td>0.000000</td>\n",
       "      <td>0.000000</td>\n",
       "    </tr>\n",
       "    <tr>\n",
       "      <td>25%</td>\n",
       "      <td>0.000000</td>\n",
       "      <td>2.000000</td>\n",
       "      <td>0.000000</td>\n",
       "      <td>4.000000</td>\n",
       "      <td>0.000000</td>\n",
       "    </tr>\n",
       "    <tr>\n",
       "      <td>50%</td>\n",
       "      <td>0.000000</td>\n",
       "      <td>4.000000</td>\n",
       "      <td>0.000000</td>\n",
       "      <td>14.000000</td>\n",
       "      <td>1.000000</td>\n",
       "    </tr>\n",
       "    <tr>\n",
       "      <td>75%</td>\n",
       "      <td>1.000000</td>\n",
       "      <td>7.000000</td>\n",
       "      <td>2.000000</td>\n",
       "      <td>21.000000</td>\n",
       "      <td>1.000000</td>\n",
       "    </tr>\n",
       "    <tr>\n",
       "      <td>max</td>\n",
       "      <td>2.000000</td>\n",
       "      <td>11.000000</td>\n",
       "      <td>2.000000</td>\n",
       "      <td>28.000000</td>\n",
       "      <td>1.000000</td>\n",
       "    </tr>\n",
       "  </tbody>\n",
       "</table>\n",
       "</div>"
      ],
      "text/plain": [
       "              sex  Number_of_Warts        Type        Area  \\\n",
       "count  105.000000       105.000000  105.000000  105.000000   \n",
       "mean     0.514286         4.580952    0.723810   13.085714   \n",
       "std      0.539128         3.455155    0.882471    8.767416   \n",
       "min      0.000000         0.000000    0.000000    0.000000   \n",
       "25%      0.000000         2.000000    0.000000    4.000000   \n",
       "50%      0.000000         4.000000    0.000000   14.000000   \n",
       "75%      1.000000         7.000000    2.000000   21.000000   \n",
       "max      2.000000        11.000000    2.000000   28.000000   \n",
       "\n",
       "       Result_of_Treatment  \n",
       "count           105.000000  \n",
       "mean              0.542857  \n",
       "std               0.500549  \n",
       "min               0.000000  \n",
       "25%               0.000000  \n",
       "50%               1.000000  \n",
       "75%               1.000000  \n",
       "max               1.000000  "
      ]
     },
     "execution_count": 11,
     "metadata": {},
     "output_type": "execute_result"
    }
   ],
   "source": [
    "df_2.describe()"
   ]
  },
  {
   "cell_type": "code",
   "execution_count": 12,
   "metadata": {},
   "outputs": [],
   "source": [
    "true = df_2[df_2.Result_of_Treatment==1]\n",
    "false = df_2[df_2.Result_of_Treatment==0]"
   ]
  },
  {
   "cell_type": "code",
   "execution_count": 13,
   "metadata": {},
   "outputs": [
    {
     "data": {
      "text/plain": [
       "Text(0, 0.5, 'Frequency')"
      ]
     },
     "execution_count": 13,
     "metadata": {},
     "output_type": "execute_result"
    },
    {
     "data": {
      "image/png": "[encoded data removed]",
      "text/plain": [
       "<Figure size 432x288 with 1 Axes>"
      ]
     },
     "metadata": {
      "needs_background": "light"
     },
     "output_type": "display_data"
    }
   ],
   "source": [
    "hazardous = ['False','True']\n",
    "classes = pd.value_counts(df_2['Result_of_Treatment'], sort = True)\n",
    "classes.plot(kind = 'bar', rot=0)\n",
    "plt.title(\"Cryotherapy\")\n",
    "plt.xlabel(\"Result_of_Treatment\")\n",
    "plt.ylabel(\"Frequency\")"
   ]
  },
  {
   "cell_type": "markdown",
   "metadata": {},
   "source": [
    "### HISTOGRAM\n",
    "Histogram adalah plot yang memungkinkan dapat menemukan dan menunjukkan distribusi frekuensi (bentuk) yang mendasari serangkaian data.\n",
    "hist() befungsi untuk menemukan dan menunjukan distribusi frekuensi berdasarkan serangkaian data, dan plt.show() berfungsi untuk menampilkannya dalam bentuk grafik."
   ]
  },
  {
   "cell_type": "code",
   "execution_count": 14,
   "metadata": {},
   "outputs": [
    {
     "data": {
      "image/png": "[encoded data removed]",
      "text/plain": [
       "<Figure size 1080x1080 with 6 Axes>"
      ]
     },
     "metadata": {
      "needs_background": "light"
     },
     "output_type": "display_data"
    }
   ],
   "source": [
    "df_2.hist(figsize=(15,15))\n",
    "plt.show()"
   ]
  },
  {
   "cell_type": "markdown",
   "metadata": {},
   "source": [
    "### BOXPLOT\n",
    "Boxplot berfungsi sebagai penyajian grafis lainnya yang bisa merangkum informasi lebih detail mengenai distribusi nilai-nilai data pengamatan adalah Box and Whisker Plots atau lebih sering disebut dengan BoxPlot. Seperti namanya, Box and Whisker, bentuknya terdiri dari Box (kotak) dan Whisker. Boxplot merupakan ringkasan distribusi sampel yang disajikan secara grafis yang bisa menggambarkan bentuk distribusi data, ukuran tendensi sentral dan ukuran penyebaran data pengamatan. "
   ]
  },
  {
   "cell_type": "code",
   "execution_count": 15,
   "metadata": {},
   "outputs": [
    {
     "data": {
      "text/plain": [
       "sex                       AxesSubplot(0.125,0.821923;0.168478x0.0580769)\n",
       "Number_of_Warts        AxesSubplot(0.327174,0.821923;0.168478x0.0580769)\n",
       "Type                   AxesSubplot(0.529348,0.821923;0.168478x0.0580769)\n",
       "Area                   AxesSubplot(0.731522,0.821923;0.168478x0.0580769)\n",
       "Result_of_Treatment       AxesSubplot(0.125,0.752231;0.168478x0.0580769)\n",
       "dtype: object"
      ]
     },
     "execution_count": 15,
     "metadata": {},
     "output_type": "execute_result"
    },
    {
     "data": {
      "image/png": "[encoded data removed]",
      "text/plain": [
       "<Figure size 1440x3960 with 44 Axes>"
      ]
     },
     "metadata": {
      "needs_background": "light"
     },
     "output_type": "display_data"
    }
   ],
   "source": [
    "df_2.plot(kind='box', subplots=True, layout=(11,4), sharex=False, sharey=False, figsize=(20,55))"
   ]
  },
  {
   "cell_type": "markdown",
   "metadata": {},
   "source": [
    "### FEATURE NORMALIZATION\n",
    "Normalisasi adalah konsep penting lainnya yang diperlukan untuk mengubah semua fitur ke skala yang sama. \n",
    "Hal ini memungkinkan konvergensi yang lebih cepat pada pembelajaran, dan pengaruh yang lebih seragam untuk semua bobot. \n",
    "Dalam hal ini digunakan MinMaxScaler yang mengubah fitur dengan penskalaan setiap fitur ke rentang yang diberikan (menjadi antara 0 dan 1).\n",
    "Melakukan scaling dataset dan Mengubah fitur dengan penskalaan setiap fitur ke rentang yang diberikan."
   ]
  },
  {
   "cell_type": "code",
   "execution_count": 16,
   "metadata": {},
   "outputs": [
    {
     "data": {
      "text/plain": [
       "(105, 4)"
      ]
     },
     "execution_count": 16,
     "metadata": {},
     "output_type": "execute_result"
    }
   ],
   "source": [
    "scaler = MinMaxScaler()\n",
    "feature_scaled = scaler.fit_transform(x)\n",
    "feature_scaled.shape"
   ]
  },
  {
   "cell_type": "code",
   "execution_count": 17,
   "metadata": {},
   "outputs": [
    {
     "name": "stdout",
     "output_type": "stream",
     "text": [
      "[0 1 0 0 0 1 0 0 1 0 0 1 1 1 0 1 0 0 1 1 1 1 1 0 1 0 1 0 0 1 1 1 0 0 0 1 0\n",
      " 0 1 0 0 1 1 1 0 1 0 0 1 1 1 1 1 0 1 0 1 0 1 1 1 0 0 0 0 1 0 0 1 0 0 1 1 1\n",
      " 0 1 0 0 1 1 1 1 1 0 1 0 1 0 1 1 0 0 1 1 1 0 0 1 1 1 0 1 1 0 1]\n"
     ]
    }
   ],
   "source": [
    "print(y)"
   ]
  },
  {
   "cell_type": "code",
   "execution_count": 18,
   "metadata": {},
   "outputs": [],
   "source": [
    "x_train, x_test, y_train, y_test = train_test_split(x, y, test_size=0.2, random_state=2)"
   ]
  },
  {
   "cell_type": "markdown",
   "metadata": {},
   "source": [
    "### SEQUENTIAL MODEL\n",
    "\n",
    "Model Sekuensial adalah tumpukan lapisan linear. Dalam menentukan bentuk masukan, model perlu tahu bentuk masukan apa yang diharapkan. Lapisan pertama dalam model Sequential (dan hanya yang pertama, karena lapisan berikutnya dapat melakukan inferensi bentuk otomatis) perlu menerima informasi tentang bentuk inputnya. Kemudian untuk menambahkan lapisan cukup dengan menambahkan perintah add."
   ]
  },
  {
   "cell_type": "code",
   "execution_count": 19,
   "metadata": {},
   "outputs": [
    {
     "name": "stdout",
     "output_type": "stream",
     "text": [
      "WARNING:tensorflow:From C:\\Users\\NurFaizah\\Anaconda3\\envs\\tensorflow-session\\lib\\site-packages\\keras\\backend\\tensorflow_backend.py:74: The name tf.get_default_graph is deprecated. Please use tf.compat.v1.get_default_graph instead.\n",
      "\n",
      "WARNING:tensorflow:From C:\\Users\\NurFaizah\\Anaconda3\\envs\\tensorflow-session\\lib\\site-packages\\keras\\backend\\tensorflow_backend.py:517: The name tf.placeholder is deprecated. Please use tf.compat.v1.placeholder instead.\n",
      "\n",
      "WARNING:tensorflow:From C:\\Users\\NurFaizah\\Anaconda3\\envs\\tensorflow-session\\lib\\site-packages\\keras\\backend\\tensorflow_backend.py:4138: The name tf.random_uniform is deprecated. Please use tf.random.uniform instead.\n",
      "\n"
     ]
    }
   ],
   "source": [
    "model = Sequential()\n",
    "model.add(Dense(units= 10, input_dim= 4, activation='relu'))\n",
    "model.add(Dense(units= 7, activation='relu'))\n",
    "model.add(Dense(units= 3, activation='sigmoid'))"
   ]
  },
  {
   "cell_type": "code",
   "execution_count": 20,
   "metadata": {},
   "outputs": [
    {
     "name": "stdout",
     "output_type": "stream",
     "text": [
      "_________________________________________________________________\n",
      "Layer (type)                 Output Shape              Param #   \n",
      "=================================================================\n",
      "dense_1 (Dense)              (None, 10)                50        \n",
      "_________________________________________________________________\n",
      "dense_2 (Dense)              (None, 7)                 77        \n",
      "_________________________________________________________________\n",
      "dense_3 (Dense)              (None, 3)                 24        \n",
      "=================================================================\n",
      "Total params: 151\n",
      "Trainable params: 151\n",
      "Non-trainable params: 0\n",
      "_________________________________________________________________\n"
     ]
    }
   ],
   "source": [
    "model.summary()"
   ]
  },
  {
   "cell_type": "code",
   "execution_count": 21,
   "metadata": {},
   "outputs": [
    {
     "name": "stdout",
     "output_type": "stream",
     "text": [
      "WARNING:tensorflow:From C:\\Users\\NurFaizah\\Anaconda3\\envs\\tensorflow-session\\lib\\site-packages\\keras\\optimizers.py:790: The name tf.train.Optimizer is deprecated. Please use tf.compat.v1.train.Optimizer instead.\n",
      "\n",
      "WARNING:tensorflow:From C:\\Users\\NurFaizah\\Anaconda3\\envs\\tensorflow-session\\lib\\site-packages\\keras\\backend\\tensorflow_backend.py:3341: The name tf.log is deprecated. Please use tf.math.log instead.\n",
      "\n"
     ]
    }
   ],
   "source": [
    "model.compile(optimizer=Adam(lr=0.1), loss='sparse_categorical_crossentropy', metrics=['accuracy'])"
   ]
  },
  {
   "cell_type": "code",
   "execution_count": 22,
   "metadata": {},
   "outputs": [
    {
     "name": "stdout",
     "output_type": "stream",
     "text": [
      "WARNING:tensorflow:From C:\\Users\\NurFaizah\\Anaconda3\\envs\\tensorflow-session\\lib\\site-packages\\tensorflow\\python\\ops\\math_grad.py:1250: add_dispatch_support.<locals>.wrapper (from tensorflow.python.ops.array_ops) is deprecated and will be removed in a future version.\n",
      "Instructions for updating:\n",
      "Use tf.where in 2.0, which has the same broadcast rule as np.where\n",
      "WARNING:tensorflow:From C:\\Users\\NurFaizah\\Anaconda3\\envs\\tensorflow-session\\lib\\site-packages\\keras\\backend\\tensorflow_backend.py:986: The name tf.assign_add is deprecated. Please use tf.compat.v1.assign_add instead.\n",
      "\n",
      "Train on 84 samples, validate on 21 samples\n",
      "Epoch 1/30\n",
      "84/84 [==============================] - 5s 54ms/step - loss: 1.6636 - acc: 0.3690 - val_loss: 1.4496 - val_acc: 0.4286\n",
      "Epoch 2/30\n",
      "84/84 [==============================] - 0s 596us/step - loss: 1.0228 - acc: 0.4762 - val_loss: 0.9629 - val_acc: 0.4762\n",
      "Epoch 3/30\n",
      "84/84 [==============================] - 0s 357us/step - loss: 0.8711 - acc: 0.4643 - val_loss: 0.7926 - val_acc: 0.4762\n",
      "Epoch 4/30\n",
      "84/84 [==============================] - 0s 357us/step - loss: 0.7670 - acc: 0.4643 - val_loss: 0.7214 - val_acc: 0.4762\n",
      "Epoch 5/30\n",
      "84/84 [==============================] - 0s 476us/step - loss: 0.7221 - acc: 0.4643 - val_loss: 0.7026 - val_acc: 0.4762\n",
      "Epoch 6/30\n",
      "84/84 [==============================] - 0s 238us/step - loss: 0.7072 - acc: 0.4643 - val_loss: 0.6967 - val_acc: 0.4762\n",
      "Epoch 7/30\n",
      "84/84 [==============================] - 0s 357us/step - loss: 0.7005 - acc: 0.4524 - val_loss: 0.6944 - val_acc: 0.4762\n",
      "Epoch 8/30\n",
      "84/84 [==============================] - 0s 357us/step - loss: 0.6972 - acc: 0.4524 - val_loss: 0.6938 - val_acc: 0.4762\n",
      "Epoch 9/30\n",
      "84/84 [==============================] - 0s 357us/step - loss: 0.6945 - acc: 0.5000 - val_loss: 0.6937 - val_acc: 0.5238\n",
      "Epoch 10/30\n",
      "84/84 [==============================] - 0s 238us/step - loss: 0.6933 - acc: 0.5476 - val_loss: 0.6938 - val_acc: 0.5714\n",
      "Epoch 11/30\n",
      "84/84 [==============================] - 0s 238us/step - loss: 0.6927 - acc: 0.5476 - val_loss: 0.6939 - val_acc: 0.5714\n",
      "Epoch 12/30\n",
      "84/84 [==============================] - 0s 238us/step - loss: 0.6924 - acc: 0.5476 - val_loss: 0.6942 - val_acc: 0.5238\n",
      "Epoch 13/30\n",
      "84/84 [==============================] - 0s 238us/step - loss: 0.6921 - acc: 0.5595 - val_loss: 0.6950 - val_acc: 0.5238\n",
      "Epoch 14/30\n",
      "84/84 [==============================] - 0s 238us/step - loss: 0.6914 - acc: 0.5595 - val_loss: 0.6954 - val_acc: 0.5238\n",
      "Epoch 15/30\n",
      "84/84 [==============================] - 0s 238us/step - loss: 0.6911 - acc: 0.5476 - val_loss: 0.6960 - val_acc: 0.5238\n",
      "Epoch 16/30\n",
      "84/84 [==============================] - 0s 357us/step - loss: 0.6915 - acc: 0.5476 - val_loss: 0.6973 - val_acc: 0.5238\n",
      "Epoch 17/30\n",
      "84/84 [==============================] - 0s 357us/step - loss: 0.6912 - acc: 0.5476 - val_loss: 0.6964 - val_acc: 0.5238\n",
      "Epoch 18/30\n",
      "84/84 [==============================] - 0s 238us/step - loss: 0.6901 - acc: 0.5476 - val_loss: 0.6978 - val_acc: 0.5238\n",
      "Epoch 19/30\n",
      "84/84 [==============================] - 0s 238us/step - loss: 0.6885 - acc: 0.5476 - val_loss: 0.6980 - val_acc: 0.5238\n",
      "Epoch 20/30\n",
      "84/84 [==============================] - 0s 238us/step - loss: 0.6869 - acc: 0.5476 - val_loss: 0.7060 - val_acc: 0.5238\n",
      "Epoch 21/30\n",
      "84/84 [==============================] - 0s 238us/step - loss: 0.6815 - acc: 0.5476 - val_loss: 0.7154 - val_acc: 0.5238\n",
      "Epoch 22/30\n",
      "84/84 [==============================] - 0s 238us/step - loss: 0.7069 - acc: 0.5476 - val_loss: 0.7039 - val_acc: 0.5238\n",
      "Epoch 23/30\n",
      "84/84 [==============================] - 0s 238us/step - loss: 0.6777 - acc: 0.5476 - val_loss: 0.6980 - val_acc: 0.5238\n",
      "Epoch 24/30\n",
      "84/84 [==============================] - 0s 238us/step - loss: 0.6804 - acc: 0.5476 - val_loss: 0.7007 - val_acc: 0.5238\n",
      "Epoch 25/30\n",
      "84/84 [==============================] - 0s 238us/step - loss: 0.6752 - acc: 0.5476 - val_loss: 0.7095 - val_acc: 0.5238\n",
      "Epoch 26/30\n",
      "84/84 [==============================] - 0s 238us/step - loss: 0.6752 - acc: 0.5476 - val_loss: 0.7047 - val_acc: 0.5238\n",
      "Epoch 27/30\n",
      "84/84 [==============================] - 0s 238us/step - loss: 0.6823 - acc: 0.5476 - val_loss: 0.6979 - val_acc: 0.5238\n",
      "Epoch 28/30\n",
      "84/84 [==============================] - 0s 238us/step - loss: 0.6725 - acc: 0.5476 - val_loss: 0.7088 - val_acc: 0.5238\n",
      "Epoch 29/30\n",
      "84/84 [==============================] - 0s 357us/step - loss: 0.6740 - acc: 0.5476 - val_loss: 0.7023 - val_acc: 0.5238\n",
      "Epoch 30/30\n",
      "84/84 [==============================] - 0s 952us/step - loss: 0.6724 - acc: 0.5476 - val_loss: 0.6985 - val_acc: 0.5238\n"
     ]
    }
   ],
   "source": [
    "acc_training = model.fit(x_train, y_train, validation_data=(x_test, y_test), batch_size=10, epochs=30)"
   ]
  },
  {
   "cell_type": "code",
   "execution_count": 23,
   "metadata": {},
   "outputs": [
    {
     "name": "stdout",
     "output_type": "stream",
     "text": [
      "21/21 [==============================] - 0s 11ms/step\n",
      "\n",
      "Accuracy is 0.523809552192688\n"
     ]
    }
   ],
   "source": [
    "acc_testing  = model.evaluate(x_test, y_test) \n",
    "print('\\nAccuracy is', acc_testing[1])"
   ]
  },
  {
   "cell_type": "markdown",
   "metadata": {},
   "source": [
    "### TRAINING AND TESTING ACCURACY"
   ]
  },
  {
   "cell_type": "code",
   "execution_count": 30,
   "metadata": {},
   "outputs": [
    {
     "data": {
      "image/png": "[encoded data removed]",
      "text/plain": [
       "<Figure size 432x288 with 1 Axes>"
      ]
     },
     "metadata": {
      "needs_background": "light"
     },
     "output_type": "display_data"
    },
    {
     "data": {
      "text/plain": [
       "<Figure size 432x288 with 0 Axes>"
      ]
     },
     "metadata": {},
     "output_type": "display_data"
    }
   ],
   "source": [
    "plt.plot(acc_training.history['acc'])\n",
    "plt.plot(acc_training.history['val_acc'])\n",
    "plt.title('Accuracy Model')\n",
    "plt.ylabel('Accuracy')\n",
    "plt.xlabel('Epoch')\n",
    "plt.legend(['Training Data', 'Testing Data'], loc='center right')\n",
    "plt.show()\n",
    "plt.savefig('Cryotherapy akurasi')"
   ]
  },
  {
   "cell_type": "markdown",
   "metadata": {},
   "source": [
    "### TRAINING AND TESTING LOSS"
   ]
  },
  {
   "cell_type": "code",
   "execution_count": 31,
   "metadata": {},
   "outputs": [
    {
     "data": {
      "image/png": "[encoded data removed]",
      "text/plain": [
       "<Figure size 432x288 with 1 Axes>"
      ]
     },
     "metadata": {
      "needs_background": "light"
     },
     "output_type": "display_data"
    },
    {
     "data": {
      "text/plain": [
       "<Figure size 432x288 with 0 Axes>"
      ]
     },
     "metadata": {},
     "output_type": "display_data"
    }
   ],
   "source": [
    "plt.plot(acc_training.history['loss'])\n",
    "plt.plot(acc_training.history['val_loss'])\n",
    "plt.title('Loss Model')\n",
    "plt.ylabel('Loss')\n",
    "plt.xlabel('Epoch')\n",
    "plt.legend(['Training Data', 'Testing Data'], loc='center right')\n",
    "plt.show()\n",
    "plt.savefig('Cryotherapy loss')"
   ]
  },
  {
   "cell_type": "markdown",
   "metadata": {},
   "source": [
    "### CONFUSION MATRIX\n",
    "Confusion matrix merupakan salah satu metode yang dapat digunakan untuk mengukur kinerja suatu metode klasifikasi. Pada dasarnya confusion matrix mengandung informasi yang membandingkan hasil klasifikasi yang dilakukan oleh sistem dengan hasil klasifikasi yang seharusnya "
   ]
  },
  {
   "cell_type": "code",
   "execution_count": 26,
   "metadata": {},
   "outputs": [],
   "source": [
    "prediction = model.predict_classes(x_test)\n",
    "cm = confusion_matrix(y_test, prediction)\n",
    "tp = cm[0,0]\n",
    "tn = cm[1,1]\n",
    "fp = cm[0,1]\n",
    "fn = cm[1,0]"
   ]
  },
  {
   "cell_type": "code",
   "execution_count": 27,
   "metadata": {},
   "outputs": [
    {
     "name": "stdout",
     "output_type": "stream",
     "text": [
      "Confussion matrix:\n",
      " [[ 0 10]\n",
      " [ 0 11]]\n"
     ]
    }
   ],
   "source": [
    "print(\"Confussion matrix:\\n\",cm)"
   ]
  },
  {
   "cell_type": "code",
   "execution_count": 28,
   "metadata": {},
   "outputs": [
    {
     "name": "stderr",
     "output_type": "stream",
     "text": [
      "C:\\Users\\NurFaizah\\Anaconda3\\envs\\tensorflow-session\\lib\\site-packages\\ipykernel_launcher.py:2: RuntimeWarning: invalid value encountered in longlong_scalars\n",
      "  \n",
      "C:\\Users\\NurFaizah\\Anaconda3\\envs\\tensorflow-session\\lib\\site-packages\\ipykernel_launcher.py:5: RuntimeWarning: invalid value encountered in longlong_scalars\n",
      "  \"\"\"\n"
     ]
    }
   ],
   "source": [
    "precision = tp / ( tp + fp)\n",
    "recall = tp/(tp+fn)\n",
    "f1=(2*precision*recall)/ (precision+recall)\n",
    "accuracy = (tp+tn)/(tp+tn+fp+fn)\n",
    "sensitivity = tp/(tp + fn)"
   ]
  },
  {
   "cell_type": "code",
   "execution_count": 29,
   "metadata": {},
   "outputs": [
    {
     "name": "stdout",
     "output_type": "stream",
     "text": [
      "precesion   :  0.0\n",
      "recall      :  nan\n",
      "F1          :  nan\n",
      "sensitivity :  nan\n",
      "accuracy    :  0.5238095238095238\n"
     ]
    }
   ],
   "source": [
    "print(\"precesion   : \",precision)\n",
    "print(\"recall      : \",recall)\n",
    "print(\"F1          : \",f1)\n",
    "print(\"sensitivity : \",sensitivity)\n",
    "print(\"accuracy    : \",accuracy)"
   ]
  }
 ],
 "metadata": {
  "kernelspec": {
   "display_name": "Python 3",
   "language": "python",
   "name": "python3"
  },
  "language_info": {
   "codemirror_mode": {
    "name": "ipython",
    "version": 3
   },
   "file_extension": ".py",
   "mimetype": "text/x-python",
   "name": "python",
   "nbconvert_exporter": "python",
   "pygments_lexer": "ipython3",
   "version": "3.6.9"
  }
 },
 "nbformat": 4,
 "nbformat_minor": 2
}
