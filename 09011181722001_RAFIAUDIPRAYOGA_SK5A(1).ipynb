{
 "cells": [
  {
   "cell_type": "markdown",
   "metadata": {},
   "source": [
    "<div class=\"\">\n",
    "<center><br><font size=\"12\"><font face=\"calibri\"><strong>Tugas UAS \n",
    "    <br>\n",
    "<br><strong>Mata Kuliah Kecerdasan Buatan"
   ]
  },
  {
   "cell_type": "markdown",
   "metadata": {},
   "source": [
    "# Breast Cancer"
   ]
  },
  {
   "cell_type": "markdown",
   "metadata": {},
   "source": [
    "Kanker payudara adalah kondisi ketika sel kanker terbentuk di jaringan payudara. Kanker bisa terbentuk di kelenjar yang menghasilkan susu (lobulus), atau di saluran (duktus) yang membawa air susu dari kelenjar ke puting payudara. Kanker juga bisa terbentuk di jaringan lemak atau jaringan ikat di dalam payudara.Di seluruh dunia, kanker payudara adalah jenis kanker yang paling umum pada wanita dan tertinggi kedua dalam hal tingkat kematian. Diagnosis kanker payudara dilakukan ketika benjolan abnormal ditemukan (dari pemeriksaan sendiri atau x-ray) atau setitik kecil dari kalsium terlihat (pada x-ray). Setelah benjolan yang mencurigakan ditemukan, dokter akan melakukan diagnosis untuk menentukan apakah itu adalah kanker dan, jika demikian, apakah telah menyebar ke bagian lain dari tubuh."
   ]
  },
  {
   "cell_type": "markdown",
   "metadata": {},
   "source": [
    "# Dataset"
   ]
  },
  {
   "cell_type": "markdown",
   "metadata": {},
   "source": [
    "Disini Saya menggunakan DataSet Breast Cancer Winconsin(Prognostic) Yang saya dapat dari website database yang bernama KAGGLE\n",
    "Adapun Linknya : https://www.kaggle.com/sarahvch/breast-cancer-wisconsin-prognostic-data-set\n",
    "\n",
    "Pada Dataset ini terdapat 569 data dan 31 Variabel Yang Terdiri dari :\n",
    "1. radius_mean                    \n",
    "2. texture_mean\n",
    "3. perimeter_mean\n",
    "4. area_mean\n",
    "5. smoothness_mean\n",
    "6. compactness_mean\n",
    "7. concavity_mean\n",
    "8. concave points_mean\n",
    "9. symmetry_mean\n",
    "10. fractal_dimension_mean\n",
    "11. radius_se\n",
    "12. texture_se\n",
    "13. perimeter_se\n",
    "14. area_se\n",
    "15. smoothness_se\n",
    "16. compactness_se\n",
    "17. concavity_se\n",
    "18. concave points_se\n",
    "19. symmetry_se\n",
    "20. fractal_dimension_se\n",
    "21. radius_worst\n",
    "22. texture_worst\n",
    "23. perimeter_worst\n",
    "24. area_worst\n",
    "25. smoothness_worst\n",
    "26. compactness_worst\n",
    "27. concavity_worst\n",
    "28. concave points_worst\n",
    "29. symmetry_worst\n",
    "30. fractal_dimension_worst\n",
    "31. Diagnosis\n",
    "    - 0 = B Atau Tidak terdiagnosis Kanker payudara\n",
    "    - 1 = M Terdeteksi Kanker payudara\n"
   ]
  },
  {
   "cell_type": "markdown",
   "metadata": {},
   "source": [
    "# Artificial Neural Network (ANN)\n",
    "\n",
    "- ANN adalah salah satu main tools yang digunakan dalam Machine Learning\n",
    "- Seperti yang ditunjukkan oleh bagian \"Neural\" dari namanya, mereka adalah sistem \"Brain-Inspired\" yang dimaksudkan untuk mereplikasi cara  manusia belajar.\n",
    "- Neural Network terdiri dari input dan output layer, serta (dalam kebanyakan kasus) hidden layer yang terdiri dari unit-unit yang mengubah input menjadi sesuatu yang dapat digunakan oleh output layer.\n",
    "- ANN adalah tools yang sangat baik untuk menemukan pola yang terlalu rumit atau banyak bagi seorang programmer untuk mengekstraksi dan mengajarkan mesin untuk mengenali sesuatu.\n",
    "- Neural Network juga disebut \"perceptrons\".\n",
    "- Neural Network telah menjadi bagian utama dari kecerdasan buatan dalam beberapa dekade terakhir. Ini disebabkan oleh kedatangan teknik yang disebut \"backpropagation,\" yang memungkinkan network untuk menyesuaikan hidden layer neuron mereka dalam situasi di mana hasilnya tidak sesuai dengan apa yang diharapkan creator."
   ]
  },
  {
   "cell_type": "markdown",
   "metadata": {},
   "source": [
    "# Import Library"
   ]
  },
  {
   "cell_type": "code",
   "execution_count": 1,
   "metadata": {},
   "outputs": [
    {
     "name": "stderr",
     "output_type": "stream",
     "text": [
      "Using TensorFlow backend.\n"
     ]
    }
   ],
   "source": [
    "#Memanggil Library yang diperlukan ,\n",
    "from sklearn.preprocessing import MinMaxScaler #\n",
    "import matplotlib.pyplot as plt\n",
    "from sklearn.model_selection import train_test_split \n",
    "from keras.models import Sequential\n",
    "from keras.layers import Dense, Dropout\n",
    "from keras.activations import relu\n",
    "from sklearn.preprocessing import LabelEncoder , OneHotEncoder\n",
    "import pandas as pd\n",
    "import sklearn\n",
    "import keras\n",
    "from keras.utils import to_categorical\n",
    "from sklearn.metrics import confusion_matrix"
   ]
  },
  {
   "cell_type": "markdown",
   "metadata": {},
   "source": [
    "# Import Dataset"
   ]
  },
  {
   "cell_type": "code",
   "execution_count": 2,
   "metadata": {},
   "outputs": [],
   "source": [
    "data = pd.read_csv('C:/Users/RAFI/Downloads/Prof/dataset/data 2.csv')"
   ]
  },
  {
   "cell_type": "code",
   "execution_count": 3,
   "metadata": {},
   "outputs": [
    {
     "data": {
      "text/html": [
       "<div>\n",
       "<style scoped>\n",
       "    .dataframe tbody tr th:only-of-type {\n",
       "        vertical-align: middle;\n",
       "    }\n",
       "\n",
       "    .dataframe tbody tr th {\n",
       "        vertical-align: top;\n",
       "    }\n",
       "\n",
       "    .dataframe thead th {\n",
       "        text-align: right;\n",
       "    }\n",
       "</style>\n",
       "<table border=\"1\" class=\"dataframe\">\n",
       "  <thead>\n",
       "    <tr style=\"text-align: right;\">\n",
       "      <th></th>\n",
       "      <th>id</th>\n",
       "      <th>diagnosis</th>\n",
       "      <th>radius_mean</th>\n",
       "      <th>texture_mean</th>\n",
       "      <th>perimeter_mean</th>\n",
       "      <th>area_mean</th>\n",
       "      <th>smoothness_mean</th>\n",
       "      <th>compactness_mean</th>\n",
       "      <th>concavity_mean</th>\n",
       "      <th>concave points_mean</th>\n",
       "      <th>...</th>\n",
       "      <th>texture_worst</th>\n",
       "      <th>perimeter_worst</th>\n",
       "      <th>area_worst</th>\n",
       "      <th>smoothness_worst</th>\n",
       "      <th>compactness_worst</th>\n",
       "      <th>concavity_worst</th>\n",
       "      <th>concave points_worst</th>\n",
       "      <th>symmetry_worst</th>\n",
       "      <th>fractal_dimension_worst</th>\n",
       "      <th>Unnamed: 32</th>\n",
       "    </tr>\n",
       "  </thead>\n",
       "  <tbody>\n",
       "    <tr>\n",
       "      <th>0</th>\n",
       "      <td>842302</td>\n",
       "      <td>M</td>\n",
       "      <td>17.99</td>\n",
       "      <td>10.38</td>\n",
       "      <td>122.80</td>\n",
       "      <td>1001.0</td>\n",
       "      <td>0.11840</td>\n",
       "      <td>0.27760</td>\n",
       "      <td>0.3001</td>\n",
       "      <td>0.14710</td>\n",
       "      <td>...</td>\n",
       "      <td>17.33</td>\n",
       "      <td>184.60</td>\n",
       "      <td>2019.0</td>\n",
       "      <td>0.1622</td>\n",
       "      <td>0.6656</td>\n",
       "      <td>0.7119</td>\n",
       "      <td>0.2654</td>\n",
       "      <td>0.4601</td>\n",
       "      <td>0.11890</td>\n",
       "      <td>NaN</td>\n",
       "    </tr>\n",
       "    <tr>\n",
       "      <th>1</th>\n",
       "      <td>842517</td>\n",
       "      <td>M</td>\n",
       "      <td>20.57</td>\n",
       "      <td>17.77</td>\n",
       "      <td>132.90</td>\n",
       "      <td>1326.0</td>\n",
       "      <td>0.08474</td>\n",
       "      <td>0.07864</td>\n",
       "      <td>0.0869</td>\n",
       "      <td>0.07017</td>\n",
       "      <td>...</td>\n",
       "      <td>23.41</td>\n",
       "      <td>158.80</td>\n",
       "      <td>1956.0</td>\n",
       "      <td>0.1238</td>\n",
       "      <td>0.1866</td>\n",
       "      <td>0.2416</td>\n",
       "      <td>0.1860</td>\n",
       "      <td>0.2750</td>\n",
       "      <td>0.08902</td>\n",
       "      <td>NaN</td>\n",
       "    </tr>\n",
       "    <tr>\n",
       "      <th>2</th>\n",
       "      <td>84300903</td>\n",
       "      <td>M</td>\n",
       "      <td>19.69</td>\n",
       "      <td>21.25</td>\n",
       "      <td>130.00</td>\n",
       "      <td>1203.0</td>\n",
       "      <td>0.10960</td>\n",
       "      <td>0.15990</td>\n",
       "      <td>0.1974</td>\n",
       "      <td>0.12790</td>\n",
       "      <td>...</td>\n",
       "      <td>25.53</td>\n",
       "      <td>152.50</td>\n",
       "      <td>1709.0</td>\n",
       "      <td>0.1444</td>\n",
       "      <td>0.4245</td>\n",
       "      <td>0.4504</td>\n",
       "      <td>0.2430</td>\n",
       "      <td>0.3613</td>\n",
       "      <td>0.08758</td>\n",
       "      <td>NaN</td>\n",
       "    </tr>\n",
       "    <tr>\n",
       "      <th>3</th>\n",
       "      <td>84348301</td>\n",
       "      <td>M</td>\n",
       "      <td>11.42</td>\n",
       "      <td>20.38</td>\n",
       "      <td>77.58</td>\n",
       "      <td>386.1</td>\n",
       "      <td>0.14250</td>\n",
       "      <td>0.28390</td>\n",
       "      <td>0.2414</td>\n",
       "      <td>0.10520</td>\n",
       "      <td>...</td>\n",
       "      <td>26.50</td>\n",
       "      <td>98.87</td>\n",
       "      <td>567.7</td>\n",
       "      <td>0.2098</td>\n",
       "      <td>0.8663</td>\n",
       "      <td>0.6869</td>\n",
       "      <td>0.2575</td>\n",
       "      <td>0.6638</td>\n",
       "      <td>0.17300</td>\n",
       "      <td>NaN</td>\n",
       "    </tr>\n",
       "    <tr>\n",
       "      <th>4</th>\n",
       "      <td>84358402</td>\n",
       "      <td>M</td>\n",
       "      <td>20.29</td>\n",
       "      <td>14.34</td>\n",
       "      <td>135.10</td>\n",
       "      <td>1297.0</td>\n",
       "      <td>0.10030</td>\n",
       "      <td>0.13280</td>\n",
       "      <td>0.1980</td>\n",
       "      <td>0.10430</td>\n",
       "      <td>...</td>\n",
       "      <td>16.67</td>\n",
       "      <td>152.20</td>\n",
       "      <td>1575.0</td>\n",
       "      <td>0.1374</td>\n",
       "      <td>0.2050</td>\n",
       "      <td>0.4000</td>\n",
       "      <td>0.1625</td>\n",
       "      <td>0.2364</td>\n",
       "      <td>0.07678</td>\n",
       "      <td>NaN</td>\n",
       "    </tr>\n",
       "  </tbody>\n",
       "</table>\n",
       "<p>5 rows × 33 columns</p>\n",
       "</div>"
      ],
      "text/plain": [
       "         id diagnosis  radius_mean  texture_mean  perimeter_mean  area_mean  \\\n",
       "0    842302         M        17.99         10.38          122.80     1001.0   \n",
       "1    842517         M        20.57         17.77          132.90     1326.0   \n",
       "2  84300903         M        19.69         21.25          130.00     1203.0   \n",
       "3  84348301         M        11.42         20.38           77.58      386.1   \n",
       "4  84358402         M        20.29         14.34          135.10     1297.0   \n",
       "\n",
       "   smoothness_mean  compactness_mean  concavity_mean  concave points_mean  \\\n",
       "0          0.11840           0.27760          0.3001              0.14710   \n",
       "1          0.08474           0.07864          0.0869              0.07017   \n",
       "2          0.10960           0.15990          0.1974              0.12790   \n",
       "3          0.14250           0.28390          0.2414              0.10520   \n",
       "4          0.10030           0.13280          0.1980              0.10430   \n",
       "\n",
       "   ...  texture_worst  perimeter_worst  area_worst  smoothness_worst  \\\n",
       "0  ...          17.33           184.60      2019.0            0.1622   \n",
       "1  ...          23.41           158.80      1956.0            0.1238   \n",
       "2  ...          25.53           152.50      1709.0            0.1444   \n",
       "3  ...          26.50            98.87       567.7            0.2098   \n",
       "4  ...          16.67           152.20      1575.0            0.1374   \n",
       "\n",
       "   compactness_worst  concavity_worst  concave points_worst  symmetry_worst  \\\n",
       "0             0.6656           0.7119                0.2654          0.4601   \n",
       "1             0.1866           0.2416                0.1860          0.2750   \n",
       "2             0.4245           0.4504                0.2430          0.3613   \n",
       "3             0.8663           0.6869                0.2575          0.6638   \n",
       "4             0.2050           0.4000                0.1625          0.2364   \n",
       "\n",
       "   fractal_dimension_worst  Unnamed: 32  \n",
       "0                  0.11890          NaN  \n",
       "1                  0.08902          NaN  \n",
       "2                  0.08758          NaN  \n",
       "3                  0.17300          NaN  \n",
       "4                  0.07678          NaN  \n",
       "\n",
       "[5 rows x 33 columns]"
      ]
     },
     "execution_count": 3,
     "metadata": {},
     "output_type": "execute_result"
    }
   ],
   "source": [
    "data.head()"
   ]
  },
  {
   "cell_type": "code",
   "execution_count": 4,
   "metadata": {},
   "outputs": [],
   "source": [
    "data = data.drop(columns=['Unnamed: 32','id'])"
   ]
  },
  {
   "cell_type": "code",
   "execution_count": 5,
   "metadata": {},
   "outputs": [
    {
     "data": {
      "text/plain": [
       "(569, 31)"
      ]
     },
     "execution_count": 5,
     "metadata": {},
     "output_type": "execute_result"
    }
   ],
   "source": [
    "data.shape"
   ]
  },
  {
   "cell_type": "markdown",
   "metadata": {},
   "source": [
    "Pada Bagian ini,saya mengubah isi diagnosis yang sebelumnya adalah M dan B dengan mengubahnya menjadi 1 dan 0,karna dalam pemosresan bahasa python,bahasa ini tidak dapat memporses kalimat dan hanya bisa memproses numerical,dalam pengubahan ini saya menggunakan proses Label Encoder"
   ]
  },
  {
   "cell_type": "code",
   "execution_count": 6,
   "metadata": {},
   "outputs": [
    {
     "data": {
      "text/html": [
       "<div>\n",
       "<style scoped>\n",
       "    .dataframe tbody tr th:only-of-type {\n",
       "        vertical-align: middle;\n",
       "    }\n",
       "\n",
       "    .dataframe tbody tr th {\n",
       "        vertical-align: top;\n",
       "    }\n",
       "\n",
       "    .dataframe thead th {\n",
       "        text-align: right;\n",
       "    }\n",
       "</style>\n",
       "<table border=\"1\" class=\"dataframe\">\n",
       "  <thead>\n",
       "    <tr style=\"text-align: right;\">\n",
       "      <th></th>\n",
       "      <th>diagnosis</th>\n",
       "      <th>radius_mean</th>\n",
       "      <th>texture_mean</th>\n",
       "      <th>perimeter_mean</th>\n",
       "      <th>area_mean</th>\n",
       "      <th>smoothness_mean</th>\n",
       "      <th>compactness_mean</th>\n",
       "      <th>concavity_mean</th>\n",
       "      <th>concave points_mean</th>\n",
       "      <th>symmetry_mean</th>\n",
       "      <th>...</th>\n",
       "      <th>radius_worst</th>\n",
       "      <th>texture_worst</th>\n",
       "      <th>perimeter_worst</th>\n",
       "      <th>area_worst</th>\n",
       "      <th>smoothness_worst</th>\n",
       "      <th>compactness_worst</th>\n",
       "      <th>concavity_worst</th>\n",
       "      <th>concave points_worst</th>\n",
       "      <th>symmetry_worst</th>\n",
       "      <th>fractal_dimension_worst</th>\n",
       "    </tr>\n",
       "  </thead>\n",
       "  <tbody>\n",
       "    <tr>\n",
       "      <th>0</th>\n",
       "      <td>1</td>\n",
       "      <td>370</td>\n",
       "      <td>1</td>\n",
       "      <td>455</td>\n",
       "      <td>452</td>\n",
       "      <td>444</td>\n",
       "      <td>531</td>\n",
       "      <td>521</td>\n",
       "      <td>526</td>\n",
       "      <td>416</td>\n",
       "      <td>...</td>\n",
       "      <td>425</td>\n",
       "      <td>41</td>\n",
       "      <td>497</td>\n",
       "      <td>516</td>\n",
       "      <td>358</td>\n",
       "      <td>516</td>\n",
       "      <td>520</td>\n",
       "      <td>483</td>\n",
       "      <td>485</td>\n",
       "      <td>506</td>\n",
       "    </tr>\n",
       "    <tr>\n",
       "      <th>1</th>\n",
       "      <td>1</td>\n",
       "      <td>426</td>\n",
       "      <td>186</td>\n",
       "      <td>486</td>\n",
       "      <td>513</td>\n",
       "      <td>120</td>\n",
       "      <td>215</td>\n",
       "      <td>321</td>\n",
       "      <td>396</td>\n",
       "      <td>219</td>\n",
       "      <td>...</td>\n",
       "      <td>419</td>\n",
       "      <td>199</td>\n",
       "      <td>465</td>\n",
       "      <td>511</td>\n",
       "      <td>158</td>\n",
       "      <td>210</td>\n",
       "      <td>278</td>\n",
       "      <td>401</td>\n",
       "      <td>222</td>\n",
       "      <td>375</td>\n",
       "    </tr>\n",
       "    <tr>\n",
       "      <th>2</th>\n",
       "      <td>1</td>\n",
       "      <td>406</td>\n",
       "      <td>324</td>\n",
       "      <td>478</td>\n",
       "      <td>487</td>\n",
       "      <td>403</td>\n",
       "      <td>459</td>\n",
       "      <td>478</td>\n",
       "      <td>516</td>\n",
       "      <td>348</td>\n",
       "      <td>...</td>\n",
       "      <td>399</td>\n",
       "      <td>261</td>\n",
       "      <td>455</td>\n",
       "      <td>491</td>\n",
       "      <td>287</td>\n",
       "      <td>464</td>\n",
       "      <td>438</td>\n",
       "      <td>468</td>\n",
       "      <td>445</td>\n",
       "      <td>361</td>\n",
       "    </tr>\n",
       "    <tr>\n",
       "      <th>3</th>\n",
       "      <td>1</td>\n",
       "      <td>98</td>\n",
       "      <td>297</td>\n",
       "      <td>164</td>\n",
       "      <td>95</td>\n",
       "      <td>471</td>\n",
       "      <td>533</td>\n",
       "      <td>507</td>\n",
       "      <td>493</td>\n",
       "      <td>426</td>\n",
       "      <td>...</td>\n",
       "      <td>215</td>\n",
       "      <td>298</td>\n",
       "      <td>281</td>\n",
       "      <td>194</td>\n",
       "      <td>408</td>\n",
       "      <td>524</td>\n",
       "      <td>511</td>\n",
       "      <td>479</td>\n",
       "      <td>499</td>\n",
       "      <td>533</td>\n",
       "    </tr>\n",
       "    <tr>\n",
       "      <th>4</th>\n",
       "      <td>1</td>\n",
       "      <td>418</td>\n",
       "      <td>60</td>\n",
       "      <td>493</td>\n",
       "      <td>506</td>\n",
       "      <td>332</td>\n",
       "      <td>414</td>\n",
       "      <td>480</td>\n",
       "      <td>492</td>\n",
       "      <td>216</td>\n",
       "      <td>...</td>\n",
       "      <td>381</td>\n",
       "      <td>28</td>\n",
       "      <td>453</td>\n",
       "      <td>470</td>\n",
       "      <td>239</td>\n",
       "      <td>245</td>\n",
       "      <td>415</td>\n",
       "      <td>363</td>\n",
       "      <td>81</td>\n",
       "      <td>216</td>\n",
       "    </tr>\n",
       "  </tbody>\n",
       "</table>\n",
       "<p>5 rows × 31 columns</p>\n",
       "</div>"
      ],
      "text/plain": [
       "   diagnosis  radius_mean  texture_mean  perimeter_mean  area_mean  \\\n",
       "0          1          370             1             455        452   \n",
       "1          1          426           186             486        513   \n",
       "2          1          406           324             478        487   \n",
       "3          1           98           297             164         95   \n",
       "4          1          418            60             493        506   \n",
       "\n",
       "   smoothness_mean  compactness_mean  concavity_mean  concave points_mean  \\\n",
       "0              444               531             521                  526   \n",
       "1              120               215             321                  396   \n",
       "2              403               459             478                  516   \n",
       "3              471               533             507                  493   \n",
       "4              332               414             480                  492   \n",
       "\n",
       "   symmetry_mean  ...  radius_worst  texture_worst  perimeter_worst  \\\n",
       "0            416  ...           425             41              497   \n",
       "1            219  ...           419            199              465   \n",
       "2            348  ...           399            261              455   \n",
       "3            426  ...           215            298              281   \n",
       "4            216  ...           381             28              453   \n",
       "\n",
       "   area_worst  smoothness_worst  compactness_worst  concavity_worst  \\\n",
       "0         516               358                516              520   \n",
       "1         511               158                210              278   \n",
       "2         491               287                464              438   \n",
       "3         194               408                524              511   \n",
       "4         470               239                245              415   \n",
       "\n",
       "   concave points_worst  symmetry_worst  fractal_dimension_worst  \n",
       "0                   483             485                      506  \n",
       "1                   401             222                      375  \n",
       "2                   468             445                      361  \n",
       "3                   479             499                      533  \n",
       "4                   363              81                      216  \n",
       "\n",
       "[5 rows x 31 columns]"
      ]
     },
     "execution_count": 6,
     "metadata": {},
     "output_type": "execute_result"
    }
   ],
   "source": [
    "enc = LabelEncoder()\n",
    "dataset = data.apply(enc.fit_transform)\n",
    "dataset.head()"
   ]
  },
  {
   "cell_type": "markdown",
   "metadata": {},
   "source": [
    "Bisa kita lihat setelah di ubah,pada isi Label Diagnosis sudah berubah Menjadi 1 dan 0"
   ]
  },
  {
   "cell_type": "markdown",
   "metadata": {},
   "source": [
    "# Pre Processing\n",
    "\n",
    "Preprocessing data adalah tahap penting dalam pembelajaran mesin, karena data masukan yang baik dan tepat (harusnya) akan membuat estimator mampu menghasilkan keluaran yang baik pula."
   ]
  },
  {
   "cell_type": "markdown",
   "metadata": {},
   "source": [
    "Pada Bagian ini,kita melakukan proses membagi data menjadi 2 kategori,yang pertama adalah X yang berisi Fitur dan Y yang berupa Label,disini label nya adalah \"Diagnosis\"\n"
   ]
  },
  {
   "cell_type": "code",
   "execution_count": 7,
   "metadata": {},
   "outputs": [],
   "source": [
    "x = dataset.iloc[:,1:33].values"
   ]
  },
  {
   "cell_type": "code",
   "execution_count": 8,
   "metadata": {},
   "outputs": [],
   "source": [
    "y = dataset.iloc[:,0]"
   ]
  },
  {
   "cell_type": "code",
   "execution_count": 9,
   "metadata": {},
   "outputs": [
    {
     "data": {
      "text/plain": [
       "(569,)"
      ]
     },
     "execution_count": 9,
     "metadata": {},
     "output_type": "execute_result"
    }
   ],
   "source": [
    "y.shape"
   ]
  },
  {
   "cell_type": "code",
   "execution_count": 10,
   "metadata": {},
   "outputs": [
    {
     "data": {
      "text/plain": [
       "array([1, 0], dtype=int64)"
      ]
     },
     "execution_count": 10,
     "metadata": {},
     "output_type": "execute_result"
    }
   ],
   "source": [
    "y.unique()"
   ]
  },
  {
   "cell_type": "markdown",
   "metadata": {},
   "source": [
    "# Membagi Data train dan test\n",
    "\n",
    "Model Machine Learning,biasanya membutuhkan Data Train Dan data Test,hal yang harus di perhatikan adalah,sebaiknya proposi data Train harus lebih banyak dari data test,seperti dalam hal ini saya membagi data Train sebanyak 80% dan data Test Sebanyak 20%"
   ]
  },
  {
   "cell_type": "code",
   "execution_count": 11,
   "metadata": {},
   "outputs": [],
   "source": [
    "# split data train test.\n",
    "x_train,x_test,y_train,y_test = train_test_split(x,y,test_size=0.2,random_state=2)"
   ]
  },
  {
   "cell_type": "markdown",
   "metadata": {},
   "source": [
    "# Fitur Normalisasi\n",
    "\n",
    "Normalisasi adalah konsep penting lainnya yang diperlukan untuk mengubah semua fitur ke skala yang sama. Hal ini memungkinkan konvergensi yang lebih cepat pada pembelajaran, dan pengaruh yang lebih seragam untuk semua bobot. Dalam hal ini digunakan MinMaxScaler yang mengubah fitur dengan penskalaan setiap fitur ke rentang yang diberikan (menjadi antara 0 dan 1)."
   ]
  },
  {
   "cell_type": "code",
   "execution_count": 12,
   "metadata": {},
   "outputs": [
    {
     "data": {
      "text/plain": [
       "array([[0.55604396, 0.94142259, 0.60652591, ..., 0.51836735, 0.09292929,\n",
       "        0.60412758],\n",
       "       [0.17362637, 0.29079498, 0.15547025, ..., 0.08571429, 0.17171717,\n",
       "        0.24015009],\n",
       "       [0.86813187, 0.78242678, 0.89635317, ..., 0.76122449, 0.74747475,\n",
       "        0.75797373],\n",
       "       ...,\n",
       "       [0.35164835, 0.03974895, 0.35508637, ..., 0.03673469, 0.10909091,\n",
       "        0.2195122 ],\n",
       "       [0.33626374, 0.02719665, 0.35892514, ..., 0.53061224, 0.70505051,\n",
       "        0.36210131],\n",
       "       [0.79120879, 0.87029289, 0.83685221, ..., 0.76734694, 0.05858586,\n",
       "        0.77110694]])"
      ]
     },
     "execution_count": 12,
     "metadata": {},
     "output_type": "execute_result"
    }
   ],
   "source": [
    "from sklearn.preprocessing import MinMaxScaler\n",
    "scaler = MinMaxScaler()\n",
    "x_train = scaler.fit_transform(x_train)\n",
    "x_test = scaler.transform(x_test)\n",
    "x_train"
   ]
  },
  {
   "cell_type": "code",
   "execution_count": 13,
   "metadata": {},
   "outputs": [
    {
     "data": {
      "text/plain": [
       "array([[ 0.54285714,  0.06694561,  0.5950096 , ...,  0.50204082,\n",
       "         0.05858586,  0.28517824],\n",
       "       [ 0.64395604,  0.51464435,  0.69097889, ...,  0.67959184,\n",
       "         0.59393939,  0.62476548],\n",
       "       [ 0.07032967,  0.41841004,  0.05758157, ...,  0.03061224,\n",
       "         0.66262626,  0.4727955 ],\n",
       "       ...,\n",
       "       [ 0.74945055,  0.69037657,  0.80038388, ...,  0.89387755,\n",
       "         0.89494949,  0.79737336],\n",
       "       [ 0.64835165,  0.89748954,  0.66410749, ...,  0.04693878,\n",
       "        -0.0040404 , -0.00187617],\n",
       "       [ 0.76483516,  0.5125523 ,  0.81957774, ...,  0.97346939,\n",
       "         0.7030303 ,  0.72232645]])"
      ]
     },
     "execution_count": 13,
     "metadata": {},
     "output_type": "execute_result"
    }
   ],
   "source": [
    "x_test"
   ]
  },
  {
   "cell_type": "markdown",
   "metadata": {},
   "source": [
    "# Model Sequential\n",
    "\n",
    "Model Sekuensial adalah tumpukan lapisan linear. Dalam menentukan bentuk masukan, model perlu tahu bentuk masukan apa yang diharapkan. Lapisan pertama dalam model Sequential (dan hanya yang pertama, karena lapisan berikutnya dapat melakukan inferensi bentuk otomatis) perlu menerima informasi tentang bentuk inputnya. Kemudian untuk menambahkan lapisan cukup dengan menambahkan perintah add."
   ]
  },
  {
   "cell_type": "code",
   "execution_count": 14,
   "metadata": {},
   "outputs": [],
   "source": [
    "model = Sequential()\n",
    "model.add(Dense(units =200 ,input_dim = 30,activation=\"relu\"))\n",
    "model.add(Dense(units =150 ,activation=\"relu\"))\n",
    "model.add(Dense(units =1 ,activation=\"sigmoid\"))"
   ]
  },
  {
   "cell_type": "markdown",
   "metadata": {},
   "source": [
    "Di mode sequential ini,Saya menggunakan 3 layer yang terdiri dari :\n",
    "1. Input Layer dan Hidden Layer 1\n",
    "2. Hidden Layer 2\n",
    "3. Output Layer\n",
    "\n",
    "Terdapat Input_dim,input Dim adalah Banyak nya Fitur Yang Kita gunakan,disini saya menggunakan 30 fitur\n",
    "\n",
    "#### Activation Function\n",
    "\n",
    "**Activation** function befungsi untuk menentukan apakah neuron tersebut harus “aktif” atau tidak berdasarkan dari weighted sum dari input. Secara umum terdapat 2 jenis activation function, Linear dan Non-Linear Activation function.\n",
    "disini saya menggunakan Activation Function ReLu Untuk Input\n",
    "\n",
    "**Relu** melakukan “treshold” dari 0 hingga infinity. ReLU juga dapat menutupi kelemahan yang dimiliki oleh Sigmoid. Karna ReLU pada intinya hanya membuat pembatas pada bilangan nol, artinya apabila x ≤ 0 maka x = 0 dan apabila x > 0 maka x = x Ada beberapa pro dan kontra ketika kita menggunakan ReLU:\n",
    "\n",
    "Kelebihan :\n",
    "\n",
    "   - ReLU sangat mempercepat proses konvergensi yang dilakukan dengan stochastic gradient descent jika dibandingkan dengan sigmoid / tanh.\n",
    "    Jika kita bandingan dengan sigmoid/tanh yang memiliki operasi-operasi yang “expensive” (exponentials, etc.), ReLU bisa kita implementasikan hanya dengan membuat pembatas(threshold) pada bilangan nol.\n",
    "\n",
    "Kekurangan :\n",
    "\n",
    "   - Sayangnya, unit ReLU bisa menjadi rapuh pada saat proses training dan bisa membuat unit tersebut “mati”. Sebagai contohnya, kita mungkin bisa menemukan bahwa 40% dari network kita “mati” (neuron yang tidak akan pernah aktif selama proses training) apabila learning rate yang kita inisialisasi terlalu tinggi. Namun apabila kita menginisialisasi learning rate kita secara tepat maka hal seperti ini jarang menjadi masalah.\n",
    "   \n",
    "**Untuk Output saya menggunakan Activation Sigmoid**\n",
    "\n",
    "**Sigmoid** function mempunyai rentang antara 0 hingga 1 sedangkan rentang dari Tanh adalah -1 hingga 1.\n",
    "Sigmoid memiliki bentuk formula sebagai berikut :\n",
    "\\begin{split}S(x) = \\frac{1} { 1+e-x }\\end{split}\n",
    "Sigmoid akan menerima angka tunggal dan mengubah nilai x menjadi sebuah nilai yang memiliki range mulai dari 0 sampai 1. Belakangan ini Sigmoid tidak disukai dan jarang digunakan, sigmoid memiliki kekurangan berupa:\n",
    "- Sigmoid mematikan gradient, property yang paling tidak diinginkan dari Sigmoid adalah ketika activation dari neuron mengeluarkan nilai yang berada pada ekor 0 atau 1, dimana gradient di wilayah ini hampir nol. Karena itu, jika gradient memiliki nilai yang sangat kecil, Sigmoid akan “mematikan” gradient dan kita sangat tidak menginginkan hal ini terjadi saat melakukan backpropagation.\n",
    "- Output dari Sigmoid tidak zero-centered. Hal ini berimplikasi pada kedinamisan saat melakukan gradient descent, karna apabila data yang datang ke neuron selalu positif maka gradient pada weights selama backpropagation akan menjadi semua positif atau semua negatif. Hal seperti ini dapat mengganggu proses training, tetapi hal ini tidak separah seperti hal yang ada pada point pertama(mematikan gradient).\n",
    "\n"
   ]
  },
  {
   "cell_type": "code",
   "execution_count": 15,
   "metadata": {},
   "outputs": [],
   "source": [
    "from keras.optimizers import Adam\n",
    "model.compile(optimizer=Adam(lr=0.00001),loss=\"binary_crossentropy\",metrics=[\"accuracy\"])"
   ]
  },
  {
   "cell_type": "markdown",
   "metadata": {},
   "source": [
    "Disini Saya menggunakan Optimizer Adam dengan learning rate 0.00001\n",
    "\n",
    "## dibawah ini adalah pengertian dari Optimizer dan Adam\n",
    "\n",
    "Adapun Pengertian Optimizer adalah \n",
    "- digunakan untuk memperbarui bobot dan bias yaitu parameter internal model untuk mengurangi kesalahan.\n",
    "  Teknik yang paling penting dan dasar bagaimana kita melatih dan mengoptimalkan model kita adalah menggunakan   Gradient Descent.digunakan untuk memperbarui bobot dan bias yaitu parameter internal model untuk mengurangi kesalahan.\n",
    "  Teknik yang paling penting dan dasar bagaimana kita melatih dan mengoptimalkan model kita adalah menggunakan Gradient Descent.\n",
    "  \n",
    "\n",
    "**Adam** merupakan cara lain untuk menggunakan gradien masa sebelumnya untuk menghitung gradien saat ini. Adam juga memanfaatkan konsep momentum dengan menambahkan pecahan dari gradien sebelumnya ke yang sekarang. Pengoptimal ini telah menjadi sangat luas, dan secara praktis diterima untuk digunakan dalam test neural network.\n",
    "\n",
    "Disini saya juga menggunakan loss **Binary_crossentropy**,saya menggunakan loss tersebut karna,pada label yang akan kita cari isi nya berupa bilangan biner atau 0 dan 1"
   ]
  },
  {
   "cell_type": "code",
   "execution_count": 16,
   "metadata": {},
   "outputs": [
    {
     "name": "stdout",
     "output_type": "stream",
     "text": [
      "Train on 455 samples, validate on 114 samples\n",
      "Epoch 1/100\n",
      "455/455 [==============================] - 1s 2ms/step - loss: 0.7076 - accuracy: 0.5714 - val_loss: 0.7112 - val_accuracy: 0.5263\n",
      "Epoch 2/100\n",
      "455/455 [==============================] - 0s 127us/step - loss: 0.7037 - accuracy: 0.5714 - val_loss: 0.7066 - val_accuracy: 0.5263\n",
      "Epoch 3/100\n",
      "455/455 [==============================] - 0s 141us/step - loss: 0.7000 - accuracy: 0.5824 - val_loss: 0.7024 - val_accuracy: 0.5175\n",
      "Epoch 4/100\n",
      "455/455 [==============================] - 0s 140us/step - loss: 0.6962 - accuracy: 0.5780 - val_loss: 0.6982 - val_accuracy: 0.5351\n",
      "Epoch 5/100\n",
      "455/455 [==============================] - 0s 123us/step - loss: 0.6926 - accuracy: 0.5670 - val_loss: 0.6937 - val_accuracy: 0.5351\n",
      "Epoch 6/100\n",
      "455/455 [==============================] - 0s 128us/step - loss: 0.6889 - accuracy: 0.5890 - val_loss: 0.6898 - val_accuracy: 0.5351\n",
      "Epoch 7/100\n",
      "455/455 [==============================] - 0s 134us/step - loss: 0.6855 - accuracy: 0.5934 - val_loss: 0.6857 - val_accuracy: 0.5439\n",
      "Epoch 8/100\n",
      "455/455 [==============================] - 0s 123us/step - loss: 0.6821 - accuracy: 0.6132 - val_loss: 0.6819 - val_accuracy: 0.5614\n",
      "Epoch 9/100\n",
      "455/455 [==============================] - 0s 127us/step - loss: 0.6787 - accuracy: 0.6286 - val_loss: 0.6782 - val_accuracy: 0.5702\n",
      "Epoch 10/100\n",
      "455/455 [==============================] - 0s 127us/step - loss: 0.6754 - accuracy: 0.6418 - val_loss: 0.6741 - val_accuracy: 0.6053\n",
      "Epoch 11/100\n",
      "455/455 [==============================] - 0s 143us/step - loss: 0.6718 - accuracy: 0.6593 - val_loss: 0.6701 - val_accuracy: 0.6316\n",
      "Epoch 12/100\n",
      "455/455 [==============================] - 0s 132us/step - loss: 0.6684 - accuracy: 0.6857 - val_loss: 0.6662 - val_accuracy: 0.6667\n",
      "Epoch 13/100\n",
      "455/455 [==============================] - 0s 133us/step - loss: 0.6650 - accuracy: 0.6989 - val_loss: 0.6626 - val_accuracy: 0.6754\n",
      "Epoch 14/100\n",
      "455/455 [==============================] - 0s 132us/step - loss: 0.6618 - accuracy: 0.7055 - val_loss: 0.6591 - val_accuracy: 0.6754\n",
      "Epoch 15/100\n",
      "455/455 [==============================] - 0s 154us/step - loss: 0.6585 - accuracy: 0.7209 - val_loss: 0.6556 - val_accuracy: 0.7018\n",
      "Epoch 16/100\n",
      "455/455 [==============================] - 0s 132us/step - loss: 0.6552 - accuracy: 0.7407 - val_loss: 0.6516 - val_accuracy: 0.7193\n",
      "Epoch 17/100\n",
      "455/455 [==============================] - 0s 143us/step - loss: 0.6518 - accuracy: 0.7429 - val_loss: 0.6479 - val_accuracy: 0.7544\n",
      "Epoch 18/100\n",
      "455/455 [==============================] - 0s 132us/step - loss: 0.6485 - accuracy: 0.7582 - val_loss: 0.6442 - val_accuracy: 0.7632\n",
      "Epoch 19/100\n",
      "455/455 [==============================] - 0s 125us/step - loss: 0.6452 - accuracy: 0.7626 - val_loss: 0.6405 - val_accuracy: 0.7719\n",
      "Epoch 20/100\n",
      "455/455 [==============================] - 0s 132us/step - loss: 0.6419 - accuracy: 0.7626 - val_loss: 0.6369 - val_accuracy: 0.7719\n",
      "Epoch 21/100\n",
      "455/455 [==============================] - 0s 126us/step - loss: 0.6388 - accuracy: 0.7692 - val_loss: 0.6332 - val_accuracy: 0.7807\n",
      "Epoch 22/100\n",
      "455/455 [==============================] - 0s 125us/step - loss: 0.6355 - accuracy: 0.7714 - val_loss: 0.6295 - val_accuracy: 0.7807\n",
      "Epoch 23/100\n",
      "455/455 [==============================] - 0s 127us/step - loss: 0.6322 - accuracy: 0.7736 - val_loss: 0.6257 - val_accuracy: 0.7895\n",
      "Epoch 24/100\n",
      "455/455 [==============================] - 0s 123us/step - loss: 0.6288 - accuracy: 0.7758 - val_loss: 0.6218 - val_accuracy: 0.8158\n",
      "Epoch 25/100\n",
      "455/455 [==============================] - 0s 129us/step - loss: 0.6254 - accuracy: 0.7890 - val_loss: 0.6182 - val_accuracy: 0.8158\n",
      "Epoch 26/100\n",
      "455/455 [==============================] - 0s 132us/step - loss: 0.6222 - accuracy: 0.7956 - val_loss: 0.6144 - val_accuracy: 0.8158\n",
      "Epoch 27/100\n",
      "455/455 [==============================] - 0s 125us/step - loss: 0.6187 - accuracy: 0.8000 - val_loss: 0.6106 - val_accuracy: 0.8246\n",
      "Epoch 28/100\n",
      "455/455 [==============================] - 0s 130us/step - loss: 0.6154 - accuracy: 0.8044 - val_loss: 0.6068 - val_accuracy: 0.8246\n",
      "Epoch 29/100\n",
      "455/455 [==============================] - 0s 147us/step - loss: 0.6120 - accuracy: 0.8154 - val_loss: 0.6030 - val_accuracy: 0.8246\n",
      "Epoch 30/100\n",
      "455/455 [==============================] - 0s 133us/step - loss: 0.6086 - accuracy: 0.8132 - val_loss: 0.5993 - val_accuracy: 0.8246\n",
      "Epoch 31/100\n",
      "455/455 [==============================] - 0s 143us/step - loss: 0.6053 - accuracy: 0.8176 - val_loss: 0.5956 - val_accuracy: 0.8246\n",
      "Epoch 32/100\n",
      "455/455 [==============================] - 0s 149us/step - loss: 0.6018 - accuracy: 0.8176 - val_loss: 0.5919 - val_accuracy: 0.8246\n",
      "Epoch 33/100\n",
      "455/455 [==============================] - 0s 123us/step - loss: 0.5985 - accuracy: 0.8198 - val_loss: 0.5881 - val_accuracy: 0.8246\n",
      "Epoch 34/100\n",
      "455/455 [==============================] - 0s 132us/step - loss: 0.5951 - accuracy: 0.8242 - val_loss: 0.5846 - val_accuracy: 0.8246\n",
      "Epoch 35/100\n",
      "455/455 [==============================] - 0s 130us/step - loss: 0.5918 - accuracy: 0.8286 - val_loss: 0.5810 - val_accuracy: 0.8333\n",
      "Epoch 36/100\n",
      "455/455 [==============================] - 0s 136us/step - loss: 0.5885 - accuracy: 0.8330 - val_loss: 0.5775 - val_accuracy: 0.8421\n",
      "Epoch 37/100\n",
      "455/455 [==============================] - 0s 134us/step - loss: 0.5852 - accuracy: 0.8330 - val_loss: 0.5737 - val_accuracy: 0.8421\n",
      "Epoch 38/100\n",
      "455/455 [==============================] - 0s 141us/step - loss: 0.5818 - accuracy: 0.8330 - val_loss: 0.5701 - val_accuracy: 0.8421\n",
      "Epoch 39/100\n",
      "455/455 [==============================] - 0s 143us/step - loss: 0.5785 - accuracy: 0.8330 - val_loss: 0.5667 - val_accuracy: 0.8421\n",
      "Epoch 40/100\n",
      "455/455 [==============================] - 0s 110us/step - loss: 0.5751 - accuracy: 0.8352 - val_loss: 0.5631 - val_accuracy: 0.8421\n",
      "Epoch 41/100\n",
      "455/455 [==============================] - 0s 121us/step - loss: 0.5718 - accuracy: 0.8352 - val_loss: 0.5595 - val_accuracy: 0.8421\n",
      "Epoch 42/100\n",
      "455/455 [==============================] - 0s 121us/step - loss: 0.5684 - accuracy: 0.8352 - val_loss: 0.5560 - val_accuracy: 0.8421\n",
      "Epoch 43/100\n",
      "455/455 [==============================] - 0s 130us/step - loss: 0.5652 - accuracy: 0.8374 - val_loss: 0.5525 - val_accuracy: 0.8509\n",
      "Epoch 44/100\n",
      "455/455 [==============================] - 0s 123us/step - loss: 0.5620 - accuracy: 0.8374 - val_loss: 0.5491 - val_accuracy: 0.8509\n",
      "Epoch 45/100\n",
      "455/455 [==============================] - 0s 134us/step - loss: 0.5589 - accuracy: 0.8374 - val_loss: 0.5458 - val_accuracy: 0.8421\n",
      "Epoch 46/100\n",
      "455/455 [==============================] - 0s 127us/step - loss: 0.5556 - accuracy: 0.8396 - val_loss: 0.5424 - val_accuracy: 0.8509\n",
      "Epoch 47/100\n",
      "455/455 [==============================] - 0s 128us/step - loss: 0.5525 - accuracy: 0.8418 - val_loss: 0.5389 - val_accuracy: 0.8509\n",
      "Epoch 48/100\n",
      "455/455 [==============================] - 0s 136us/step - loss: 0.5493 - accuracy: 0.8462 - val_loss: 0.5355 - val_accuracy: 0.8509\n",
      "Epoch 49/100\n",
      "455/455 [==============================] - 0s 152us/step - loss: 0.5461 - accuracy: 0.8462 - val_loss: 0.5320 - val_accuracy: 0.8509\n",
      "Epoch 50/100\n",
      "455/455 [==============================] - 0s 152us/step - loss: 0.5428 - accuracy: 0.8462 - val_loss: 0.5286 - val_accuracy: 0.8509\n",
      "Epoch 51/100\n",
      "455/455 [==============================] - 0s 148us/step - loss: 0.5396 - accuracy: 0.8505 - val_loss: 0.5251 - val_accuracy: 0.8596\n",
      "Epoch 52/100\n",
      "455/455 [==============================] - 0s 134us/step - loss: 0.5364 - accuracy: 0.8527 - val_loss: 0.5218 - val_accuracy: 0.8684\n",
      "Epoch 53/100\n",
      "455/455 [==============================] - 0s 127us/step - loss: 0.5332 - accuracy: 0.8571 - val_loss: 0.5183 - val_accuracy: 0.8684\n",
      "Epoch 54/100\n",
      "455/455 [==============================] - 0s 149us/step - loss: 0.5299 - accuracy: 0.8593 - val_loss: 0.5149 - val_accuracy: 0.8684\n",
      "Epoch 55/100\n",
      "455/455 [==============================] - 0s 138us/step - loss: 0.5267 - accuracy: 0.8615 - val_loss: 0.5115 - val_accuracy: 0.8684\n",
      "Epoch 56/100\n",
      "455/455 [==============================] - 0s 130us/step - loss: 0.5235 - accuracy: 0.8571 - val_loss: 0.5083 - val_accuracy: 0.8509\n",
      "Epoch 57/100\n",
      "455/455 [==============================] - 0s 137us/step - loss: 0.5204 - accuracy: 0.8637 - val_loss: 0.5050 - val_accuracy: 0.8684\n",
      "Epoch 58/100\n",
      "455/455 [==============================] - 0s 134us/step - loss: 0.5173 - accuracy: 0.8637 - val_loss: 0.5018 - val_accuracy: 0.8684\n",
      "Epoch 59/100\n",
      "455/455 [==============================] - 0s 136us/step - loss: 0.5142 - accuracy: 0.8615 - val_loss: 0.4987 - val_accuracy: 0.8596\n",
      "Epoch 60/100\n",
      "455/455 [==============================] - 0s 134us/step - loss: 0.5112 - accuracy: 0.8571 - val_loss: 0.4957 - val_accuracy: 0.8509\n",
      "Epoch 61/100\n",
      "455/455 [==============================] - 0s 132us/step - loss: 0.5082 - accuracy: 0.8571 - val_loss: 0.4927 - val_accuracy: 0.8596\n",
      "Epoch 62/100\n",
      "455/455 [==============================] - 0s 130us/step - loss: 0.5052 - accuracy: 0.8571 - val_loss: 0.4896 - val_accuracy: 0.8596\n",
      "Epoch 63/100\n",
      "455/455 [==============================] - 0s 145us/step - loss: 0.5023 - accuracy: 0.8571 - val_loss: 0.4867 - val_accuracy: 0.8509\n",
      "Epoch 64/100\n",
      "455/455 [==============================] - 0s 132us/step - loss: 0.4993 - accuracy: 0.8571 - val_loss: 0.4835 - val_accuracy: 0.8596\n",
      "Epoch 65/100\n",
      "455/455 [==============================] - 0s 138us/step - loss: 0.4964 - accuracy: 0.8571 - val_loss: 0.4805 - val_accuracy: 0.8596\n",
      "Epoch 66/100\n",
      "455/455 [==============================] - 0s 143us/step - loss: 0.4935 - accuracy: 0.8571 - val_loss: 0.4775 - val_accuracy: 0.8596\n",
      "Epoch 67/100\n",
      "455/455 [==============================] - 0s 154us/step - loss: 0.4906 - accuracy: 0.8615 - val_loss: 0.4743 - val_accuracy: 0.8596\n",
      "Epoch 68/100\n",
      "455/455 [==============================] - 0s 160us/step - loss: 0.4877 - accuracy: 0.8637 - val_loss: 0.4714 - val_accuracy: 0.8596\n",
      "Epoch 69/100\n",
      "455/455 [==============================] - 0s 154us/step - loss: 0.4849 - accuracy: 0.8637 - val_loss: 0.4685 - val_accuracy: 0.8596\n",
      "Epoch 70/100\n",
      "455/455 [==============================] - 0s 138us/step - loss: 0.4820 - accuracy: 0.8637 - val_loss: 0.4658 - val_accuracy: 0.8596\n",
      "Epoch 71/100\n",
      "455/455 [==============================] - 0s 143us/step - loss: 0.4794 - accuracy: 0.8659 - val_loss: 0.4629 - val_accuracy: 0.8596\n",
      "Epoch 72/100\n",
      "455/455 [==============================] - 0s 147us/step - loss: 0.4766 - accuracy: 0.8637 - val_loss: 0.4602 - val_accuracy: 0.8596\n",
      "Epoch 73/100\n",
      "455/455 [==============================] - 0s 152us/step - loss: 0.4739 - accuracy: 0.8659 - val_loss: 0.4575 - val_accuracy: 0.8596\n",
      "Epoch 74/100\n",
      "455/455 [==============================] - 0s 147us/step - loss: 0.4713 - accuracy: 0.8659 - val_loss: 0.4547 - val_accuracy: 0.8596\n",
      "Epoch 75/100\n",
      "455/455 [==============================] - 0s 154us/step - loss: 0.4685 - accuracy: 0.8681 - val_loss: 0.4520 - val_accuracy: 0.8596\n",
      "Epoch 76/100\n",
      "455/455 [==============================] - 0s 152us/step - loss: 0.4660 - accuracy: 0.8703 - val_loss: 0.4494 - val_accuracy: 0.8596\n",
      "Epoch 77/100\n",
      "455/455 [==============================] - 0s 150us/step - loss: 0.4635 - accuracy: 0.8681 - val_loss: 0.4468 - val_accuracy: 0.8596\n",
      "Epoch 78/100\n",
      "455/455 [==============================] - 0s 147us/step - loss: 0.4610 - accuracy: 0.8703 - val_loss: 0.4443 - val_accuracy: 0.8596\n",
      "Epoch 79/100\n",
      "455/455 [==============================] - 0s 158us/step - loss: 0.4584 - accuracy: 0.8703 - val_loss: 0.4418 - val_accuracy: 0.8596\n",
      "Epoch 80/100\n",
      "455/455 [==============================] - 0s 158us/step - loss: 0.4557 - accuracy: 0.8703 - val_loss: 0.4393 - val_accuracy: 0.8596\n",
      "Epoch 81/100\n",
      "455/455 [==============================] - 0s 149us/step - loss: 0.4533 - accuracy: 0.8703 - val_loss: 0.4368 - val_accuracy: 0.8684\n",
      "Epoch 82/100\n",
      "455/455 [==============================] - 0s 154us/step - loss: 0.4509 - accuracy: 0.8725 - val_loss: 0.4343 - val_accuracy: 0.8596\n",
      "Epoch 83/100\n",
      "455/455 [==============================] - 0s 158us/step - loss: 0.4484 - accuracy: 0.8725 - val_loss: 0.4319 - val_accuracy: 0.8684\n",
      "Epoch 84/100\n",
      "455/455 [==============================] - 0s 152us/step - loss: 0.4459 - accuracy: 0.8769 - val_loss: 0.4295 - val_accuracy: 0.8596\n",
      "Epoch 85/100\n",
      "455/455 [==============================] - 0s 152us/step - loss: 0.4435 - accuracy: 0.8769 - val_loss: 0.4271 - val_accuracy: 0.8684\n",
      "Epoch 86/100\n",
      "455/455 [==============================] - 0s 136us/step - loss: 0.4411 - accuracy: 0.8747 - val_loss: 0.4246 - val_accuracy: 0.8684\n",
      "Epoch 87/100\n",
      "455/455 [==============================] - 0s 134us/step - loss: 0.4386 - accuracy: 0.8747 - val_loss: 0.4222 - val_accuracy: 0.8684\n",
      "Epoch 88/100\n",
      "455/455 [==============================] - 0s 136us/step - loss: 0.4363 - accuracy: 0.8747 - val_loss: 0.4199 - val_accuracy: 0.8684\n",
      "Epoch 89/100\n",
      "455/455 [==============================] - 0s 123us/step - loss: 0.4340 - accuracy: 0.8725 - val_loss: 0.4177 - val_accuracy: 0.8772\n",
      "Epoch 90/100\n",
      "455/455 [==============================] - 0s 128us/step - loss: 0.4316 - accuracy: 0.8769 - val_loss: 0.4154 - val_accuracy: 0.8772\n",
      "Epoch 91/100\n",
      "455/455 [==============================] - 0s 134us/step - loss: 0.4293 - accuracy: 0.8769 - val_loss: 0.4131 - val_accuracy: 0.8860\n",
      "Epoch 92/100\n",
      "455/455 [==============================] - 0s 130us/step - loss: 0.4270 - accuracy: 0.8791 - val_loss: 0.4108 - val_accuracy: 0.8860\n",
      "Epoch 93/100\n",
      "455/455 [==============================] - 0s 152us/step - loss: 0.4247 - accuracy: 0.8791 - val_loss: 0.4085 - val_accuracy: 0.8860\n",
      "Epoch 94/100\n",
      "455/455 [==============================] - 0s 121us/step - loss: 0.4224 - accuracy: 0.8769 - val_loss: 0.4062 - val_accuracy: 0.8860\n",
      "Epoch 95/100\n",
      "455/455 [==============================] - 0s 141us/step - loss: 0.4201 - accuracy: 0.8769 - val_loss: 0.4040 - val_accuracy: 0.8860\n",
      "Epoch 96/100\n",
      "455/455 [==============================] - 0s 158us/step - loss: 0.4179 - accuracy: 0.8747 - val_loss: 0.4018 - val_accuracy: 0.8860\n",
      "Epoch 97/100\n",
      "455/455 [==============================] - 0s 143us/step - loss: 0.4156 - accuracy: 0.8769 - val_loss: 0.3996 - val_accuracy: 0.8860\n",
      "Epoch 98/100\n",
      "455/455 [==============================] - 0s 154us/step - loss: 0.4133 - accuracy: 0.8769 - val_loss: 0.3974 - val_accuracy: 0.8947\n",
      "Epoch 99/100\n",
      "455/455 [==============================] - 0s 150us/step - loss: 0.4111 - accuracy: 0.8725 - val_loss: 0.3952 - val_accuracy: 0.8947\n",
      "Epoch 100/100\n",
      "455/455 [==============================] - 0s 127us/step - loss: 0.4090 - accuracy: 0.8769 - val_loss: 0.3932 - val_accuracy: 0.8947\n"
     ]
    }
   ],
   "source": [
    "hasil_train = model.fit(x_train,y_train, validation_data=(x_test,y_test),batch_size=25,epochs=100)"
   ]
  },
  {
   "cell_type": "markdown",
   "metadata": {},
   "source": [
    "Pada saat Mau men Train data,saya menggunakan yang namanya **batch_size** dan **Epoch**\n",
    "### Batch Size\n",
    "Batch Size adalah jumlah sampel data yang disebarkan ke Neural Network. Contoh: jika kita mempunyai 100 dataset dan batch size kita adalah 5 maka algoritma ini akan menggunakan 5 sempel data pertama dari 100 data yang kita miliki (ke1, ke2, ke3, ke4, dan ke5) lalu disebarkankan atau ditraining oleh Neural Network sampai selesai kemudian mengambil kembali 5 sampel data kedua dari 100 data (ke6, ke7, ke8, ke9, dan ke10), dan begitu seterusnya sampai 5 sampel data ke 20 (100⁄5=20).\n",
    "\n",
    "### Epoch\n",
    "Epoch adalah proses pengulangan yang terjadi pada saat kita melakukan training data,banyak nya epoch adalah banyaknya pengulangan yang akan kita lakukan,seperti disini saya memakai 100 epoch berarti saya mengulang proses itu sebanyak 100 kali\n",
    "\n",
    "  \n"
   ]
  },
  {
   "cell_type": "markdown",
   "metadata": {},
   "source": [
    "## HASIL AKHIR AKURASI"
   ]
  },
  {
   "cell_type": "code",
   "execution_count": 17,
   "metadata": {},
   "outputs": [
    {
     "name": "stdout",
     "output_type": "stream",
     "text": [
      "114/114 [==============================] - 0s 79us/step\n"
     ]
    },
    {
     "data": {
      "text/plain": [
       "[0.39315876260138394, 0.8947368264198303]"
      ]
     },
     "execution_count": 17,
     "metadata": {},
     "output_type": "execute_result"
    }
   ],
   "source": [
    "acc_testing  = model.evaluate(x_test, y_test) \n",
    "acc_testing"
   ]
  },
  {
   "cell_type": "code",
   "execution_count": 29,
   "metadata": {},
   "outputs": [
    {
     "name": "stdout",
     "output_type": "stream",
     "text": [
      "Akurasi data Testing = 89.47%\n"
     ]
    }
   ],
   "source": [
    "print(\"Akurasi data Testing = %.2f%%\" % (acc_testing[1]*100))"
   ]
  },
  {
   "cell_type": "markdown",
   "metadata": {},
   "source": [
    "## Plotting Model Akurasi Dan Loss\n"
   ]
  },
  {
   "cell_type": "code",
   "execution_count": 18,
   "metadata": {},
   "outputs": [
    {
     "data": {
      "image/png": "[encoded data removed]",
      "text/plain": [
       "<Figure size 432x288 with 1 Axes>"
      ]
     },
     "metadata": {
      "needs_background": "light"
     },
     "output_type": "display_data"
    }
   ],
   "source": [
    "plt.plot(hasil_train.history['accuracy'])\n",
    "plt.plot(hasil_train.history['val_accuracy'])\n",
    "plt.title('model accuracy')\n",
    "plt.ylabel('Akurasi')\n",
    "plt.xlabel('Epoch')\n",
    "plt.legend(['Data training', 'Data Testing'], loc='upper left')\n",
    "plt.savefig('model akurasi1.png')\n",
    "plt.show()"
   ]
  },
  {
   "cell_type": "code",
   "execution_count": 19,
   "metadata": {},
   "outputs": [
    {
     "data": {
      "image/png": "[encoded data removed]",
      "text/plain": [
       "<Figure size 432x288 with 1 Axes>"
      ]
     },
     "metadata": {
      "needs_background": "light"
     },
     "output_type": "display_data"
    }
   ],
   "source": [
    "plt.plot(hasil_train.history['loss'])\n",
    "plt.plot(hasil_train.history['val_loss'])\n",
    "plt.title('model loss')\n",
    "plt.ylabel('loss')\n",
    "plt.xlabel('Epoch')\n",
    "plt.legend(['Data training', 'Data Testing'], loc='upper left')\n",
    "plt.savefig('model loss1.png')\n",
    "plt.show()"
   ]
  },
  {
   "cell_type": "markdown",
   "metadata": {},
   "source": [
    "# Evaluasi Model"
   ]
  },
  {
   "cell_type": "markdown",
   "metadata": {},
   "source": [
    "## Conflusion Matrix\n",
    "\n",
    "Confusion matrix merupakan salah satu metode yang dapat digunakan untuk mengukur kinerja suatu metode klasifikasi. Pada dasarnya confusion matrix mengandung informasi yang membandingkan hasil klasifikasi yang dilakukan oleh sistem dengan hasil klasifikasi yang seharusnya \n",
    "\n",
    "Menghitung **Confusion Matrix** dapat memberi ide yang lebih baik tentang apakah model klasifikasinya benar dan jenis kesalahan apa yang dibuatnya.\n",
    "\n",
    "- True Positive (TP), yaitu jumlah dari kelas 1 yang benar dan diklasifikasikan sebagai kelas 1.\n",
    "- True Negative (TN), yaitu jumlah dari kelas 0 yang benar diklasifikasikan sebagai kelas 0.\n",
    "- False Positive (FP), yaitu jumlah dari kelas 0 yang salah diklasifikasikan sebagai kelas 1.\n",
    "- False Negative (FN), yaitu jumlah dari kelas 1 yang salah diklasifikasikan sebagai kelas 0."
   ]
  },
  {
   "cell_type": "code",
   "execution_count": 20,
   "metadata": {},
   "outputs": [],
   "source": [
    "# INport Confusion Matrix\n",
    "from sklearn.metrics import confusion_matrix,classification_report\n",
    "prediction = model.predict_classes(x_test)"
   ]
  },
  {
   "cell_type": "code",
   "execution_count": 21,
   "metadata": {},
   "outputs": [],
   "source": [
    "import numpy as np\n",
    "prediction\n",
    "\n",
    "y_test_number = np.argmax(prediction,axis=1) #ubah one hot encoding ke data asli"
   ]
  },
  {
   "cell_type": "code",
   "execution_count": 22,
   "metadata": {},
   "outputs": [],
   "source": [
    "y_test_number = prediction.reshape(114,)"
   ]
  },
  {
   "cell_type": "code",
   "execution_count": 23,
   "metadata": {},
   "outputs": [],
   "source": [
    "y_test = y_test.values"
   ]
  },
  {
   "cell_type": "code",
   "execution_count": 24,
   "metadata": {},
   "outputs": [],
   "source": [
    "test_cm = confusion_matrix(y_test,y_test_number)"
   ]
  },
  {
   "cell_type": "code",
   "execution_count": 25,
   "metadata": {},
   "outputs": [
    {
     "data": {
      "text/plain": [
       "array([[60,  9],\n",
       "       [ 3, 42]], dtype=int64)"
      ]
     },
     "execution_count": 25,
     "metadata": {},
     "output_type": "execute_result"
    }
   ],
   "source": [
    "test_cm"
   ]
  },
  {
   "cell_type": "code",
   "execution_count": 26,
   "metadata": {},
   "outputs": [
    {
     "name": "stdout",
     "output_type": "stream",
     "text": [
      "              precision    recall  f1-score   support\n",
      "\n",
      "           0       0.95      0.87      0.91        69\n",
      "           1       0.82      0.93      0.87        45\n",
      "\n",
      "    accuracy                           0.89       114\n",
      "   macro avg       0.89      0.90      0.89       114\n",
      "weighted avg       0.90      0.89      0.90       114\n",
      "\n"
     ]
    }
   ],
   "source": [
    "print(classification_report(y_test,y_test_number))"
   ]
  },
  {
   "cell_type": "markdown",
   "metadata": {},
   "source": [
    "#### Dalam Conflusion Matrix,kita dapat mencari akurasi,spesifikasi,sensitivitas,presisi dengan memakai rumus manual dibawah ini"
   ]
  },
  {
   "cell_type": "code",
   "execution_count": 27,
   "metadata": {},
   "outputs": [
    {
     "name": "stdout",
     "output_type": "stream",
     "text": [
      "Accuracy test 0.8947368421052632\n",
      "Specificity test 0.9333333333333333\n",
      "Sensitivity test 0.8695652173913043\n",
      "Precision test 0.9523809523809523\n",
      "F1 Score test 0.909090909090909\n"
     ]
    }
   ],
   "source": [
    "tp = test_cm[0][0]\n",
    "fn = test_cm[0][1]\n",
    "fp = test_cm[1][0]\n",
    "tn = test_cm[1][1]\n",
    "\n",
    "accuracy = (tp+tn)/(tp+tn+fp+fn)\n",
    "specificity = tn/(tn+fp)\n",
    "sensitivity = tp/(tp+fn)\n",
    "precision = tp/(tp+fp)\n",
    "f1_score = (2*sensitivity*precision)/(sensitivity+precision)\n",
    "\n",
    "print(\"Accuracy test {0}\".format(accuracy))\n",
    "print(\"Specificity test {0}\".format(specificity))\n",
    "print(\"Sensitivity test {0}\".format(sensitivity))\n",
    "print(\"Precision test {0}\".format(precision))\n",
    "print(\"F1 Score test {0}\".format(f1_score))"
   ]
  },
  {
   "cell_type": "code",
   "execution_count": null,
   "metadata": {},
   "outputs": [],
   "source": []
  },
  {
   "cell_type": "code",
   "execution_count": null,
   "metadata": {},
   "outputs": [],
   "source": []
  }
 ],
 "metadata": {
  "kernelspec": {
   "display_name": "Python 3",
   "language": "python",
   "name": "python3"
  },
  "language_info": {
   "codemirror_mode": {
    "name": "ipython",
    "version": 3
   },
   "file_extension": ".py",
   "mimetype": "text/x-python",
   "name": "python",
   "nbconvert_exporter": "python",
   "pygments_lexer": "ipython3",
   "version": "3.7.3"
  }
 },
 "nbformat": 4,
 "nbformat_minor": 2
}
