{
 "cells": [
  {
   "cell_type": "markdown",
   "metadata": {},
   "source": [
    "<div class=\"\">\n",
    "<br><br>\n",
    "<center><br><font size=\"12\"><font face=\"calibri\"><strong>KECERDASAN BUATAN\n",
    "<center><br><font size=\"5\"><font face=\"calibri\"><strong>PULSAR CANDIDATES COLLECTED DURING THE HIGHT TIME RESOLUTION UNIVERSE SURVEY\n",
    "<br><br>\n",
    "<br><strong>Oleh :\n",
    "<br>\n",
    "<br><strong>MUHAMMAD ZIYAN PRATAMA\n",
    "<br><strong>09011281722045\n",
    "<br><br>\n",
    "<br>\n",
    "<br><strong>Dosen Pengampuh : \n",
    "<br><strong>Prof. Dr. Ir. Siti Nurmaini, M.T.\n",
    "<br><br><br>\n",
    "<br><strong>Jurusan Sistem Komputer\n",
    "<br><strong>Fakultas Ilmu Komputer\n",
    "<br><strong>Universitas Sriwijaya\n",
    "<br><strong>2019"
   ]
  },
  {
   "cell_type": "markdown",
   "metadata": {},
   "source": [
    "# MEMPREDIKSI BINTANG PULSAR"
   ]
  },
  {
   "cell_type": "markdown",
   "metadata": {},
   "source": [
    "HTRU2 adalah kumpulan data yang menggambarkan sampel kandidat pulsar yang dikumpulkan selama Survei Universe Resolusi Tinggi Waktu.\n",
    "\n",
    "Pulsar adalah jenis bintang Neutron yang langka yang menghasilkan emisi radio yang dapat dideteksi di Bumi. Mereka sangat menarik secara ilmiah sebagai wahana ruang-waktu, medium antar-bintang, dan keadaan materi.\n",
    "\n",
    "Saat pulsar berputar, pancaran emisinya menyapu langit, dan ketika hal ini melintasi garis pandang kita, menghasilkan pola yang dapat dideteksi dari emisi radio broadband. Saat pulsar berputar dengan cepat, pola ini berulang secara berkala. Jadi pencarian pulsar melibatkan mencari sinyal radio periodik dengan teleskop radio besar.\n",
    "\n",
    "Setiap pulsar menghasilkan pola emisi yang sedikit berbeda, yang sedikit berbeda pada setiap putaran. Dengan demikian deteksi sinyal potensial yang dikenal sebagai 'kandidat', dirata-ratakan pada banyak rotasi pulsar, sebagaimana ditentukan oleh panjang pengamatan. Dengan tidak adanya info tambahan, masing-masing kandidat berpotensi menggambarkan pulsar yang sebenarnya. Namun dalam praktiknya hampir semua deteksi disebabkan oleh interferensi frekuensi radio (RFI) dan kebisingan, membuat sinyal yang sah sulit ditemukan.\n",
    "\n",
    "Alat pembelajaran mesin sekarang digunakan untuk secara otomatis melabeli kandidat pulsar untuk memfasilitasi analisis yang cepat. Sistem klasifikasi khususnya sedang banyak diadopsi, yang memperlakukan set data kandidat sebagai masalah klasifikasi biner. Di sini contoh pulsar yang sah adalah kelas positif minoritas, dan contoh palsu adalah kelas negatif mayoritas.\n",
    "\n",
    "Kumpulan data yang dibagikan di sini berisi 16.259 contoh palsu yang disebabkan oleh RFI / noise, dan 1.639 contoh pulsar nyata. Semua contoh ini telah diperiksa oleh annotator manusia.\n",
    "\n",
    "Setiap baris mencantumkan variabel terlebih dahulu, dan label kelas adalah entri terakhir. Label kelas yang digunakan adalah 0 (negatif) dan 1 (positif)."
   ]
  },
  {
   "cell_type": "markdown",
   "metadata": {},
   "source": [
    "# Import Library"
   ]
  },
  {
   "cell_type": "code",
   "execution_count": 100,
   "metadata": {},
   "outputs": [],
   "source": [
    "import numpy as np\n",
    "np.random.seed(7)\n",
    "import pandas as pd\n",
    "import seaborn as sns\n",
    "import matplotlib.pyplot as plt\n",
    "from keras.utils import to_categorical\n",
    "from keras.models import Sequential\n",
    "from keras.layers import Dense\n",
    "from keras.optimizers import Adam\n",
    "from sklearn.utils import resample\n",
    "from sklearn.preprocessing import MinMaxScaler\n",
    "from sklearn.preprocessing import LabelEncoder\n",
    "from sklearn.metrics import confusion_matrix,recall_score,f1_score,precision_score,accuracy_score\n",
    "from sklearn.model_selection import train_test_split"
   ]
  },
  {
   "cell_type": "markdown",
   "metadata": {},
   "source": [
    "Berikut ini adalah paket-paket yang digunakan antara lain :\n",
    "\n",
    "Keras Applications adalah salah satu modul dalam pustaka Keras yang menyediakan arsitektur berbagai model Deep Learning ternama. Model-model itu sudah dilatih out of the box. Dengan kata lain, menggunakan Keras Applications sama halnya membuat sistem cerdas.\n",
    "\n",
    "Paket sklearn.utils\n",
    "\n",
    "Paket sklearn.preprocessing menyediakan beberapa fungsi utilitas umum dan kelas transformator untuk mengubah vektor fitur mentah menjadi representasi yang lebih sesuai untuk downstream estimator. Dalam hali ini diimportkan StandardScaler dan MinMaxScaler.\n",
    "\n",
    "NumPy adalah paket dasar untuk komputasi ilmiah dengan Python. NumPy juga dapat digunakan sebagai wadah data generik multidimensi yang efisien. Hal ini memungkinkan NumPy untuk terintegrasi dengan mudah dan cepat dengan berbagai macam database.\n",
    "\n",
    "Pandas merupakan toolkit yang powerfull sebagai alat analisis data dan struktur untuk bahasa pemrograman Python. \n",
    "\n",
    "Seaborn adalah library untuk membuat grafik statistik dengan Python. Ini dibangun di atas matplotlib dan terintegrasi dengan struktur data pandas.\n",
    "\n",
    "Matplotlib.pyplot berungsi untuk membuat suatu gambar, membuat sebuah plotting area pada gambar, membuat garis pada plotting area, dan-lain-lain."
   ]
  },
  {
   "cell_type": "markdown",
   "metadata": {},
   "source": [
    "## ATRRIBUTE INFORMATION"
   ]
  },
  {
   "cell_type": "markdown",
   "metadata": {},
   "source": [
    "Setiap kandidat dijelaskan oleh 8 variabel kontinu, dan variabel kelas tunggal. Empat yang pertama adalah statistik sederhana yang diperoleh dari profil pulsa terintegrasi (profil terlipat). Ini adalah array variabel kontinu yang menggambarkan versi sinyal bujur yang diselesaikan yang telah dirata-ratakan baik dalam waktu maupun frekuensi. Empat variabel sisanya diperoleh dengan cara yang sama dari kurva DM-SNR. Ini dirangkum di bawah ini:\n",
    "\n",
    "1. Profil terintegrasi\n",
    "2. Standar deviasi dari profil terintegrasi.\n",
    "3. Kelebihan kurtosis pada profil terintegrasi.\n",
    "4. Kecenderungan profil terintegrasi.\n",
    "5. Mean dari kurva DM-SNR.\n",
    "6. Standar deviasi kurva DM-SNR.\n",
    "7. Kelebihan kurtosis pada kurva DM-SNR.\n",
    "8. Kecenderungan kurva DM-SNR.\n",
    "9. Kelas"
   ]
  },
  {
   "cell_type": "markdown",
   "metadata": {},
   "source": [
    "# Import data set"
   ]
  },
  {
   "cell_type": "code",
   "execution_count": 174,
   "metadata": {},
   "outputs": [
    {
     "data": {
      "text/html": [
       "<div>\n",
       "<style scoped>\n",
       "    .dataframe tbody tr th:only-of-type {\n",
       "        vertical-align: middle;\n",
       "    }\n",
       "\n",
       "    .dataframe tbody tr th {\n",
       "        vertical-align: top;\n",
       "    }\n",
       "\n",
       "    .dataframe thead th {\n",
       "        text-align: right;\n",
       "    }\n",
       "</style>\n",
       "<table border=\"1\" class=\"dataframe\">\n",
       "  <thead>\n",
       "    <tr style=\"text-align: right;\">\n",
       "      <th></th>\n",
       "      <th>Mean of the integrated profile</th>\n",
       "      <th>Standard deviation of the integrated profile</th>\n",
       "      <th>Excess kurtosis of the integrated profile</th>\n",
       "      <th>Skewness of the integrated profile</th>\n",
       "      <th>Mean of the DM-SNR curve</th>\n",
       "      <th>Standard deviation of the DM-SNR curve</th>\n",
       "      <th>Excess kurtosis of the DM-SNR curve</th>\n",
       "      <th>Skewness of the DM-SNR curve</th>\n",
       "      <th>target_class</th>\n",
       "    </tr>\n",
       "  </thead>\n",
       "  <tbody>\n",
       "    <tr>\n",
       "      <th>0</th>\n",
       "      <td>140.562500</td>\n",
       "      <td>55.683782</td>\n",
       "      <td>-0.234571</td>\n",
       "      <td>-0.699648</td>\n",
       "      <td>3.199833</td>\n",
       "      <td>19.110426</td>\n",
       "      <td>7.975532</td>\n",
       "      <td>74.242225</td>\n",
       "      <td>0</td>\n",
       "    </tr>\n",
       "    <tr>\n",
       "      <th>1</th>\n",
       "      <td>102.507812</td>\n",
       "      <td>58.882430</td>\n",
       "      <td>0.465318</td>\n",
       "      <td>-0.515088</td>\n",
       "      <td>1.677258</td>\n",
       "      <td>14.860146</td>\n",
       "      <td>10.576487</td>\n",
       "      <td>127.393580</td>\n",
       "      <td>0</td>\n",
       "    </tr>\n",
       "    <tr>\n",
       "      <th>2</th>\n",
       "      <td>103.015625</td>\n",
       "      <td>39.341649</td>\n",
       "      <td>0.323328</td>\n",
       "      <td>1.051164</td>\n",
       "      <td>3.121237</td>\n",
       "      <td>21.744669</td>\n",
       "      <td>7.735822</td>\n",
       "      <td>63.171909</td>\n",
       "      <td>0</td>\n",
       "    </tr>\n",
       "    <tr>\n",
       "      <th>3</th>\n",
       "      <td>136.750000</td>\n",
       "      <td>57.178449</td>\n",
       "      <td>-0.068415</td>\n",
       "      <td>-0.636238</td>\n",
       "      <td>3.642977</td>\n",
       "      <td>20.959280</td>\n",
       "      <td>6.896499</td>\n",
       "      <td>53.593661</td>\n",
       "      <td>0</td>\n",
       "    </tr>\n",
       "    <tr>\n",
       "      <th>4</th>\n",
       "      <td>88.726562</td>\n",
       "      <td>40.672225</td>\n",
       "      <td>0.600866</td>\n",
       "      <td>1.123492</td>\n",
       "      <td>1.178930</td>\n",
       "      <td>11.468720</td>\n",
       "      <td>14.269573</td>\n",
       "      <td>252.567306</td>\n",
       "      <td>0</td>\n",
       "    </tr>\n",
       "  </tbody>\n",
       "</table>\n",
       "</div>"
      ],
      "text/plain": [
       "    Mean of the integrated profile  \\\n",
       "0                       140.562500   \n",
       "1                       102.507812   \n",
       "2                       103.015625   \n",
       "3                       136.750000   \n",
       "4                        88.726562   \n",
       "\n",
       "    Standard deviation of the integrated profile  \\\n",
       "0                                      55.683782   \n",
       "1                                      58.882430   \n",
       "2                                      39.341649   \n",
       "3                                      57.178449   \n",
       "4                                      40.672225   \n",
       "\n",
       "    Excess kurtosis of the integrated profile  \\\n",
       "0                                   -0.234571   \n",
       "1                                    0.465318   \n",
       "2                                    0.323328   \n",
       "3                                   -0.068415   \n",
       "4                                    0.600866   \n",
       "\n",
       "    Skewness of the integrated profile   Mean of the DM-SNR curve  \\\n",
       "0                            -0.699648                   3.199833   \n",
       "1                            -0.515088                   1.677258   \n",
       "2                             1.051164                   3.121237   \n",
       "3                            -0.636238                   3.642977   \n",
       "4                             1.123492                   1.178930   \n",
       "\n",
       "    Standard deviation of the DM-SNR curve  \\\n",
       "0                                19.110426   \n",
       "1                                14.860146   \n",
       "2                                21.744669   \n",
       "3                                20.959280   \n",
       "4                                11.468720   \n",
       "\n",
       "    Excess kurtosis of the DM-SNR curve   Skewness of the DM-SNR curve  \\\n",
       "0                              7.975532                      74.242225   \n",
       "1                             10.576487                     127.393580   \n",
       "2                              7.735822                      63.171909   \n",
       "3                              6.896499                      53.593661   \n",
       "4                             14.269573                     252.567306   \n",
       "\n",
       "   target_class  \n",
       "0             0  \n",
       "1             0  \n",
       "2             0  \n",
       "3             0  \n",
       "4             0  "
      ]
     },
     "execution_count": 174,
     "metadata": {},
     "output_type": "execute_result"
    }
   ],
   "source": [
    "df = pd.read_csv('C:/Users/USER/Downloads/compressed/pulsar_stars.csv')\n",
    "df.head()"
   ]
  },
  {
   "cell_type": "markdown",
   "metadata": {},
   "source": [
    "head() berfungsi untuk melihat data sebanyak n pada kolom awal (jika tidak diisi, akan tampil secara random)."
   ]
  },
  {
   "cell_type": "code",
   "execution_count": 175,
   "metadata": {},
   "outputs": [
    {
     "data": {
      "text/html": [
       "<div>\n",
       "<style scoped>\n",
       "    .dataframe tbody tr th:only-of-type {\n",
       "        vertical-align: middle;\n",
       "    }\n",
       "\n",
       "    .dataframe tbody tr th {\n",
       "        vertical-align: top;\n",
       "    }\n",
       "\n",
       "    .dataframe thead th {\n",
       "        text-align: right;\n",
       "    }\n",
       "</style>\n",
       "<table border=\"1\" class=\"dataframe\">\n",
       "  <thead>\n",
       "    <tr style=\"text-align: right;\">\n",
       "      <th></th>\n",
       "      <th>Mean of the integrated profile</th>\n",
       "      <th>Standard deviation of the integrated profile</th>\n",
       "      <th>Excess kurtosis of the integrated profile</th>\n",
       "      <th>Skewness of the integrated profile</th>\n",
       "      <th>Mean of the DM-SNR curve</th>\n",
       "      <th>Standard deviation of the DM-SNR curve</th>\n",
       "      <th>Excess kurtosis of the DM-SNR curve</th>\n",
       "      <th>Skewness of the DM-SNR curve</th>\n",
       "      <th>target_class</th>\n",
       "    </tr>\n",
       "  </thead>\n",
       "  <tbody>\n",
       "    <tr>\n",
       "      <th>count</th>\n",
       "      <td>17898.000000</td>\n",
       "      <td>17898.000000</td>\n",
       "      <td>17898.000000</td>\n",
       "      <td>17898.000000</td>\n",
       "      <td>17898.000000</td>\n",
       "      <td>17898.000000</td>\n",
       "      <td>17898.000000</td>\n",
       "      <td>17898.000000</td>\n",
       "      <td>17898.000000</td>\n",
       "    </tr>\n",
       "    <tr>\n",
       "      <th>mean</th>\n",
       "      <td>111.079968</td>\n",
       "      <td>46.549532</td>\n",
       "      <td>0.477857</td>\n",
       "      <td>1.770279</td>\n",
       "      <td>12.614400</td>\n",
       "      <td>26.326515</td>\n",
       "      <td>8.303556</td>\n",
       "      <td>104.857709</td>\n",
       "      <td>0.091574</td>\n",
       "    </tr>\n",
       "    <tr>\n",
       "      <th>std</th>\n",
       "      <td>25.652935</td>\n",
       "      <td>6.843189</td>\n",
       "      <td>1.064040</td>\n",
       "      <td>6.167913</td>\n",
       "      <td>29.472897</td>\n",
       "      <td>19.470572</td>\n",
       "      <td>4.506092</td>\n",
       "      <td>106.514540</td>\n",
       "      <td>0.288432</td>\n",
       "    </tr>\n",
       "    <tr>\n",
       "      <th>min</th>\n",
       "      <td>5.812500</td>\n",
       "      <td>24.772042</td>\n",
       "      <td>-1.876011</td>\n",
       "      <td>-1.791886</td>\n",
       "      <td>0.213211</td>\n",
       "      <td>7.370432</td>\n",
       "      <td>-3.139270</td>\n",
       "      <td>-1.976976</td>\n",
       "      <td>0.000000</td>\n",
       "    </tr>\n",
       "    <tr>\n",
       "      <th>25%</th>\n",
       "      <td>100.929688</td>\n",
       "      <td>42.376018</td>\n",
       "      <td>0.027098</td>\n",
       "      <td>-0.188572</td>\n",
       "      <td>1.923077</td>\n",
       "      <td>14.437332</td>\n",
       "      <td>5.781506</td>\n",
       "      <td>34.960504</td>\n",
       "      <td>0.000000</td>\n",
       "    </tr>\n",
       "    <tr>\n",
       "      <th>50%</th>\n",
       "      <td>115.078125</td>\n",
       "      <td>46.947479</td>\n",
       "      <td>0.223240</td>\n",
       "      <td>0.198710</td>\n",
       "      <td>2.801839</td>\n",
       "      <td>18.461316</td>\n",
       "      <td>8.433515</td>\n",
       "      <td>83.064556</td>\n",
       "      <td>0.000000</td>\n",
       "    </tr>\n",
       "    <tr>\n",
       "      <th>75%</th>\n",
       "      <td>127.085938</td>\n",
       "      <td>51.023202</td>\n",
       "      <td>0.473325</td>\n",
       "      <td>0.927783</td>\n",
       "      <td>5.464256</td>\n",
       "      <td>28.428104</td>\n",
       "      <td>10.702959</td>\n",
       "      <td>139.309331</td>\n",
       "      <td>0.000000</td>\n",
       "    </tr>\n",
       "    <tr>\n",
       "      <th>max</th>\n",
       "      <td>192.617188</td>\n",
       "      <td>98.778911</td>\n",
       "      <td>8.069522</td>\n",
       "      <td>68.101622</td>\n",
       "      <td>223.392140</td>\n",
       "      <td>110.642211</td>\n",
       "      <td>34.539844</td>\n",
       "      <td>1191.000837</td>\n",
       "      <td>1.000000</td>\n",
       "    </tr>\n",
       "  </tbody>\n",
       "</table>\n",
       "</div>"
      ],
      "text/plain": [
       "        Mean of the integrated profile  \\\n",
       "count                     17898.000000   \n",
       "mean                        111.079968   \n",
       "std                          25.652935   \n",
       "min                           5.812500   \n",
       "25%                         100.929688   \n",
       "50%                         115.078125   \n",
       "75%                         127.085938   \n",
       "max                         192.617188   \n",
       "\n",
       "        Standard deviation of the integrated profile  \\\n",
       "count                                   17898.000000   \n",
       "mean                                       46.549532   \n",
       "std                                         6.843189   \n",
       "min                                        24.772042   \n",
       "25%                                        42.376018   \n",
       "50%                                        46.947479   \n",
       "75%                                        51.023202   \n",
       "max                                        98.778911   \n",
       "\n",
       "        Excess kurtosis of the integrated profile  \\\n",
       "count                                17898.000000   \n",
       "mean                                     0.477857   \n",
       "std                                      1.064040   \n",
       "min                                     -1.876011   \n",
       "25%                                      0.027098   \n",
       "50%                                      0.223240   \n",
       "75%                                      0.473325   \n",
       "max                                      8.069522   \n",
       "\n",
       "        Skewness of the integrated profile   Mean of the DM-SNR curve  \\\n",
       "count                         17898.000000               17898.000000   \n",
       "mean                              1.770279                  12.614400   \n",
       "std                               6.167913                  29.472897   \n",
       "min                              -1.791886                   0.213211   \n",
       "25%                              -0.188572                   1.923077   \n",
       "50%                               0.198710                   2.801839   \n",
       "75%                               0.927783                   5.464256   \n",
       "max                              68.101622                 223.392140   \n",
       "\n",
       "        Standard deviation of the DM-SNR curve  \\\n",
       "count                             17898.000000   \n",
       "mean                                 26.326515   \n",
       "std                                  19.470572   \n",
       "min                                   7.370432   \n",
       "25%                                  14.437332   \n",
       "50%                                  18.461316   \n",
       "75%                                  28.428104   \n",
       "max                                 110.642211   \n",
       "\n",
       "        Excess kurtosis of the DM-SNR curve   Skewness of the DM-SNR curve  \\\n",
       "count                          17898.000000                   17898.000000   \n",
       "mean                               8.303556                     104.857709   \n",
       "std                                4.506092                     106.514540   \n",
       "min                               -3.139270                      -1.976976   \n",
       "25%                                5.781506                      34.960504   \n",
       "50%                                8.433515                      83.064556   \n",
       "75%                               10.702959                     139.309331   \n",
       "max                               34.539844                    1191.000837   \n",
       "\n",
       "       target_class  \n",
       "count  17898.000000  \n",
       "mean       0.091574  \n",
       "std        0.288432  \n",
       "min        0.000000  \n",
       "25%        0.000000  \n",
       "50%        0.000000  \n",
       "75%        0.000000  \n",
       "max        1.000000  "
      ]
     },
     "execution_count": 175,
     "metadata": {},
     "output_type": "execute_result"
    }
   ],
   "source": [
    "df.describe()"
   ]
  },
  {
   "cell_type": "markdown",
   "metadata": {},
   "source": [
    "describe() berfungsi untuk menunjukkan rangkuman statistik seperti rata-rata, median, dan lain sebagainya pada kolom."
   ]
  },
  {
   "cell_type": "code",
   "execution_count": 114,
   "metadata": {},
   "outputs": [
    {
     "data": {
      "text/plain": [
       "(17898, 9)"
      ]
     },
     "execution_count": 114,
     "metadata": {},
     "output_type": "execute_result"
    }
   ],
   "source": [
    "df.shape"
   ]
  },
  {
   "cell_type": "markdown",
   "metadata": {},
   "source": [
    "shape() berfungsi untuk memberitahu jumlah baris dan jumlah kolom."
   ]
  },
  {
   "cell_type": "code",
   "execution_count": 116,
   "metadata": {
    "scrolled": false
   },
   "outputs": [
    {
     "data": {
      "text/plain": [
       "0    16259\n",
       "1     1639\n",
       "Name: target_class, dtype: int64"
      ]
     },
     "execution_count": 116,
     "metadata": {},
     "output_type": "execute_result"
    }
   ],
   "source": [
    "df.target_class.value_counts()"
   ]
  },
  {
   "cell_type": "markdown",
   "metadata": {},
   "source": [
    "## HISTOGRAM\n",
    "Histogram adalah plot yang memungkinkan dapat menemukan dan menunjukkan distribusi frekuensi (bentuk) yang mendasari serangkaian data.\n",
    "\n",
    "hist() befungsi untuk menemukan dan menunjukan distribusi frekuensi berdasarkan serangkaian data, dan plt.show() berfungsi untuk menampilkannya dalam bentuk grafik."
   ]
  },
  {
   "cell_type": "code",
   "execution_count": 176,
   "metadata": {},
   "outputs": [
    {
     "data": {
      "image/png": "[encoded data removed]",
      "text/plain": [
       "<Figure size 1080x1080 with 9 Axes>"
      ]
     },
     "metadata": {
      "needs_background": "light"
     },
     "output_type": "display_data"
    }
   ],
   "source": [
    "df.hist(figsize=(15,15))\n",
    "plt.show()"
   ]
  },
  {
   "cell_type": "markdown",
   "metadata": {},
   "source": [
    "## BOX PLOT\n",
    "Penyajian grafis lainnya yang bisa merangkum informasi lebih detail mengenai distribusi nilai-nilai data pengamatan adalah Box and Whisker Plots atau lebih sering disebut dengan BoxPlot. Seperti namanya, Box and Whisker, bentuknya terdiri dari Box (kotak) dan Whisker. Boxplot merupakan ringkasan distribusi sampel yang disajikan secara grafis yang bisa menggambarkan bentuk distribusi data (skewness), ukuran tendensi sentral dan ukuran penyebaran (keragaman) data pengamatan. "
   ]
  },
  {
   "cell_type": "code",
   "execution_count": 178,
   "metadata": {},
   "outputs": [
    {
     "data": {
      "text/plain": [
       " Mean of the integrated profile                     AxesSubplot(0.125,0.821923;0.352273x0.0580769)\n",
       " Standard deviation of the integrated profile    AxesSubplot(0.547727,0.821923;0.352273x0.0580769)\n",
       " Excess kurtosis of the integrated profile          AxesSubplot(0.125,0.752231;0.352273x0.0580769)\n",
       " Skewness of the integrated profile              AxesSubplot(0.547727,0.752231;0.352273x0.0580769)\n",
       " Mean of the DM-SNR curve                           AxesSubplot(0.125,0.682538;0.352273x0.0580769)\n",
       " Standard deviation of the DM-SNR curve          AxesSubplot(0.547727,0.682538;0.352273x0.0580769)\n",
       " Excess kurtosis of the DM-SNR curve                AxesSubplot(0.125,0.612846;0.352273x0.0580769)\n",
       " Skewness of the DM-SNR curve                    AxesSubplot(0.547727,0.612846;0.352273x0.0580769)\n",
       "target_class                                        AxesSubplot(0.125,0.543154;0.352273x0.0580769)\n",
       "dtype: object"
      ]
     },
     "execution_count": 178,
     "metadata": {},
     "output_type": "execute_result"
    },
    {
     "data": {
      "image/png": "[encoded data removed]",
      "text/plain": [
       "<Figure size 1440x3960 with 22 Axes>"
      ]
     },
     "metadata": {
      "needs_background": "light"
     },
     "output_type": "display_data"
    }
   ],
   "source": [
    "df.plot(kind='box', subplots=True, layout=(11,2), sharex=False, sharey=False, figsize=(20,55))"
   ]
  },
  {
   "cell_type": "markdown",
   "metadata": {},
   "source": [
    "## Preprosessing Data \n",
    "\n",
    "Disini data dipersiapkan dulu , bisa discaling atau diperbaiki nilai yang kosong."
   ]
  },
  {
   "cell_type": "markdown",
   "metadata": {},
   "source": [
    "## Mengecek apakah didalam data ada nilai yang kosong.\n",
    "\n"
   ]
  },
  {
   "cell_type": "code",
   "execution_count": 117,
   "metadata": {},
   "outputs": [
    {
     "data": {
      "text/plain": [
       " Mean of the integrated profile                  0\n",
       " Standard deviation of the integrated profile    0\n",
       " Excess kurtosis of the integrated profile       0\n",
       " Skewness of the integrated profile              0\n",
       " Mean of the DM-SNR curve                        0\n",
       " Standard deviation of the DM-SNR curve          0\n",
       " Excess kurtosis of the DM-SNR curve             0\n",
       " Skewness of the DM-SNR curve                    0\n",
       "target_class                                     0\n",
       "dtype: int64"
      ]
     },
     "execution_count": 117,
     "metadata": {},
     "output_type": "execute_result"
    }
   ],
   "source": [
    "df.isnull().sum()"
   ]
  },
  {
   "cell_type": "code",
   "execution_count": 118,
   "metadata": {},
   "outputs": [
    {
     "data": {
      "text/plain": [
       " Mean of the integrated profile                  0\n",
       " Standard deviation of the integrated profile    0\n",
       " Excess kurtosis of the integrated profile       0\n",
       " Skewness of the integrated profile              0\n",
       " Mean of the DM-SNR curve                        0\n",
       " Standard deviation of the DM-SNR curve          0\n",
       " Excess kurtosis of the DM-SNR curve             0\n",
       " Skewness of the DM-SNR curve                    0\n",
       "target_class                                     0\n",
       "dtype: int64"
      ]
     },
     "execution_count": 118,
     "metadata": {},
     "output_type": "execute_result"
    }
   ],
   "source": [
    "df.isna().sum()"
   ]
  },
  {
   "cell_type": "code",
   "execution_count": 119,
   "metadata": {
    "scrolled": true
   },
   "outputs": [
    {
     "name": "stdout",
     "output_type": "stream",
     "text": [
      "<class 'pandas.core.frame.DataFrame'>\n",
      "RangeIndex: 17898 entries, 0 to 17897\n",
      "Data columns (total 9 columns):\n",
      " Mean of the integrated profile                  17898 non-null float64\n",
      " Standard deviation of the integrated profile    17898 non-null float64\n",
      " Excess kurtosis of the integrated profile       17898 non-null float64\n",
      " Skewness of the integrated profile              17898 non-null float64\n",
      " Mean of the DM-SNR curve                        17898 non-null float64\n",
      " Standard deviation of the DM-SNR curve          17898 non-null float64\n",
      " Excess kurtosis of the DM-SNR curve             17898 non-null float64\n",
      " Skewness of the DM-SNR curve                    17898 non-null float64\n",
      "target_class                                     17898 non-null int64\n",
      "dtypes: float64(8), int64(1)\n",
      "memory usage: 1.2 MB\n"
     ]
    }
   ],
   "source": [
    "df.info()"
   ]
  },
  {
   "cell_type": "markdown",
   "metadata": {},
   "source": [
    "## Split kolom menjadi fitur dan class"
   ]
  },
  {
   "cell_type": "code",
   "execution_count": 129,
   "metadata": {},
   "outputs": [],
   "source": [
    "x = df.iloc[:,0:8].values\n",
    "y = df.iloc[:,8].values"
   ]
  },
  {
   "cell_type": "markdown",
   "metadata": {},
   "source": [
    "## Scaling data Fitur"
   ]
  },
  {
   "cell_type": "code",
   "execution_count": 130,
   "metadata": {},
   "outputs": [],
   "source": [
    "scaler = MinMaxScaler()\n",
    "x_scaled = scaler.fit_transform(x)"
   ]
  },
  {
   "cell_type": "markdown",
   "metadata": {},
   "source": [
    "## ONE HOT ENCODING"
   ]
  },
  {
   "cell_type": "code",
   "execution_count": 131,
   "metadata": {},
   "outputs": [],
   "source": [
    "y_scaled = to_categorical(y)"
   ]
  },
  {
   "cell_type": "code",
   "execution_count": 132,
   "metadata": {
    "scrolled": true
   },
   "outputs": [
    {
     "data": {
      "text/plain": [
       "(17898, 2)"
      ]
     },
     "execution_count": 132,
     "metadata": {},
     "output_type": "execute_result"
    }
   ],
   "source": [
    "y_scaled.shape"
   ]
  },
  {
   "cell_type": "code",
   "execution_count": 141,
   "metadata": {},
   "outputs": [
    {
     "data": {
      "text/plain": [
       "array([[1., 0.],\n",
       "       [1., 0.],\n",
       "       [1., 0.],\n",
       "       ...,\n",
       "       [1., 0.],\n",
       "       [1., 0.],\n",
       "       [1., 0.]], dtype=float32)"
      ]
     },
     "execution_count": 141,
     "metadata": {},
     "output_type": "execute_result"
    }
   ],
   "source": [
    "y_scaled"
   ]
  },
  {
   "cell_type": "markdown",
   "metadata": {},
   "source": [
    "## SPLITTING DATA \n",
    "\n",
    "DATA DIBAGI MENJADI 2 YAITU DATA TRAIN DAN DATA TEST DENGAN PERBANDINGAN 9 BANDING 1."
   ]
  },
  {
   "cell_type": "code",
   "execution_count": 138,
   "metadata": {},
   "outputs": [],
   "source": [
    "x_train, x_test, y_train, y_test = train_test_split(x_scaled, y_scaled, test_size=0.1, random_state=2)"
   ]
  },
  {
   "cell_type": "markdown",
   "metadata": {},
   "source": [
    "## SEQUENTIAL MODEL\n",
    "Model Sekuensial adalah tumpukan lapisan linear. Dalam menentukan bentuk masukan, model perlu tahu bentuk masukan apa yang diharapkan. Lapisan pertama dalam model Sequential (dan hanya yang pertama, karena lapisan berikutnya dapat melakukan inferensi bentuk otomatis) perlu menerima informasi tentang bentuk inputnya. Kemudian untuk menambahkan lapisan cukup dengan menambahkan perintah add."
   ]
  },
  {
   "cell_type": "code",
   "execution_count": 142,
   "metadata": {},
   "outputs": [],
   "source": [
    "model = Sequential()\n",
    "model.add(Dense(units= 100, input_dim= 8, activation='relu'))\n",
    "model.add(Dense(units= 100, activation='relu'))\n",
    "model.add(Dense(units= 2, activation='sigmoid'))"
   ]
  },
  {
   "cell_type": "markdown",
   "metadata": {},
   "source": [
    "Dalam hal ini, terdapat input layer, hidden layer, dan output layer. Dimana ada yang menggunakan Rectified Linear Unit atau yang dikenal sebagai ReLU, adalah cara paling umum dan dasar untuk memperkenalkan non-linearitas ke dalam jaringan saraf. Fungsi ini hanya max (0, x), dan Sigmoid yang merupakan fungsi aktivasi berkelanjutan dan smooth yang paling umum."
   ]
  },
  {
   "cell_type": "code",
   "execution_count": 180,
   "metadata": {},
   "outputs": [
    {
     "name": "stdout",
     "output_type": "stream",
     "text": [
      "_________________________________________________________________\n",
      "Layer (type)                 Output Shape              Param #   \n",
      "=================================================================\n",
      "dense_34 (Dense)             (None, 100)               900       \n",
      "_________________________________________________________________\n",
      "dense_35 (Dense)             (None, 100)               10100     \n",
      "_________________________________________________________________\n",
      "dense_36 (Dense)             (None, 2)                 202       \n",
      "=================================================================\n",
      "Total params: 11,202\n",
      "Trainable params: 11,202\n",
      "Non-trainable params: 0\n",
      "_________________________________________________________________\n"
     ]
    }
   ],
   "source": [
    "model.summary()"
   ]
  },
  {
   "cell_type": "markdown",
   "metadata": {},
   "source": [
    "summary() berfungsi untuk menampilkan ringkasan parameter berdasarkan layer dan output shape."
   ]
  },
  {
   "cell_type": "code",
   "execution_count": 143,
   "metadata": {},
   "outputs": [],
   "source": [
    "model.compile(optimizer=Adam(lr=0.001), loss='binary_crossentropy', metrics=['accuracy'])"
   ]
  },
  {
   "cell_type": "markdown",
   "metadata": {},
   "source": [
    "compile() berfungsi mengembalikan objek kode Python dari sumber (string normal, string byte, atau objek AST). Dalam hal ini menggunakan optimizer adam dan categorical loss yaitu binary crossentropy."
   ]
  },
  {
   "cell_type": "markdown",
   "metadata": {},
   "source": [
    "## training data"
   ]
  },
  {
   "cell_type": "code",
   "execution_count": 144,
   "metadata": {
    "scrolled": true
   },
   "outputs": [
    {
     "name": "stdout",
     "output_type": "stream",
     "text": [
      "Train on 16108 samples, validate on 1790 samples\n",
      "Epoch 1/100\n",
      "16108/16108 [==============================] - 3s 169us/step - loss: 0.1265 - acc: 0.9648 - val_loss: 0.0796 - val_acc: 0.9785\n",
      "Epoch 2/100\n",
      "16108/16108 [==============================] - 1s 58us/step - loss: 0.0838 - acc: 0.9752 - val_loss: 0.0782 - val_acc: 0.9771\n",
      "Epoch 3/100\n",
      "16108/16108 [==============================] - 1s 58us/step - loss: 0.0827 - acc: 0.9753 - val_loss: 0.0762 - val_acc: 0.9788\n",
      "Epoch 4/100\n",
      "16108/16108 [==============================] - 1s 64us/step - loss: 0.0807 - acc: 0.9762 - val_loss: 0.0777 - val_acc: 0.9793\n",
      "Epoch 5/100\n",
      "16108/16108 [==============================] - 1s 57us/step - loss: 0.0794 - acc: 0.9765 - val_loss: 0.0770 - val_acc: 0.9796\n",
      "Epoch 6/100\n",
      "16108/16108 [==============================] - 1s 60us/step - loss: 0.0785 - acc: 0.9770 - val_loss: 0.0728 - val_acc: 0.9779\n",
      "Epoch 7/100\n",
      "16108/16108 [==============================] - 1s 62us/step - loss: 0.0780 - acc: 0.9764 - val_loss: 0.0724 - val_acc: 0.9777\n",
      "Epoch 8/100\n",
      "16108/16108 [==============================] - 1s 61us/step - loss: 0.0772 - acc: 0.9767 - val_loss: 0.0734 - val_acc: 0.9799\n",
      "Epoch 9/100\n",
      "16108/16108 [==============================] - 1s 90us/step - loss: 0.0762 - acc: 0.9773 - val_loss: 0.0720 - val_acc: 0.9791\n",
      "Epoch 10/100\n",
      "16108/16108 [==============================] - 1s 64us/step - loss: 0.0754 - acc: 0.9782 - val_loss: 0.0747 - val_acc: 0.9788\n",
      "Epoch 11/100\n",
      "16108/16108 [==============================] - 1s 59us/step - loss: 0.0749 - acc: 0.9781 - val_loss: 0.0714 - val_acc: 0.9788\n",
      "Epoch 12/100\n",
      "16108/16108 [==============================] - 1s 60us/step - loss: 0.0743 - acc: 0.9778 - val_loss: 0.0703 - val_acc: 0.9799\n",
      "Epoch 13/100\n",
      "16108/16108 [==============================] - 1s 58us/step - loss: 0.0738 - acc: 0.9783 - val_loss: 0.0713 - val_acc: 0.9796\n",
      "Epoch 14/100\n",
      "16108/16108 [==============================] - 1s 64us/step - loss: 0.0734 - acc: 0.9786 - val_loss: 0.0692 - val_acc: 0.9810\n",
      "Epoch 15/100\n",
      "16108/16108 [==============================] - 1s 65us/step - loss: 0.0732 - acc: 0.9786 - val_loss: 0.0773 - val_acc: 0.9799\n",
      "Epoch 16/100\n",
      "16108/16108 [==============================] - 1s 69us/step - loss: 0.0718 - acc: 0.9790 - val_loss: 0.0744 - val_acc: 0.9777\n",
      "Epoch 17/100\n",
      "16108/16108 [==============================] - 1s 64us/step - loss: 0.0711 - acc: 0.9787 - val_loss: 0.0731 - val_acc: 0.9782\n",
      "Epoch 18/100\n",
      "16108/16108 [==============================] - 1s 67us/step - loss: 0.0710 - acc: 0.9796 - val_loss: 0.0687 - val_acc: 0.9810\n",
      "Epoch 19/100\n",
      "16108/16108 [==============================] - 1s 67us/step - loss: 0.0711 - acc: 0.9788 - val_loss: 0.0685 - val_acc: 0.9810\n",
      "Epoch 20/100\n",
      "16108/16108 [==============================] - 1s 62us/step - loss: 0.0704 - acc: 0.9802 - val_loss: 0.0707 - val_acc: 0.9793\n",
      "Epoch 21/100\n",
      "16108/16108 [==============================] - 1s 58us/step - loss: 0.0707 - acc: 0.9794 - val_loss: 0.0685 - val_acc: 0.9802\n",
      "Epoch 22/100\n",
      "16108/16108 [==============================] - 1s 62us/step - loss: 0.0702 - acc: 0.9796 - val_loss: 0.0670 - val_acc: 0.9810\n",
      "Epoch 23/100\n",
      "16108/16108 [==============================] - 1s 58us/step - loss: 0.0695 - acc: 0.9799 - val_loss: 0.0682 - val_acc: 0.9804\n",
      "Epoch 24/100\n",
      "16108/16108 [==============================] - 1s 62us/step - loss: 0.0686 - acc: 0.9799 - val_loss: 0.0721 - val_acc: 0.9799\n",
      "Epoch 25/100\n",
      "16108/16108 [==============================] - 1s 92us/step - loss: 0.0688 - acc: 0.9795 - val_loss: 0.0675 - val_acc: 0.9804\n",
      "Epoch 26/100\n",
      "16108/16108 [==============================] - 1s 61us/step - loss: 0.0684 - acc: 0.9794 - val_loss: 0.0693 - val_acc: 0.9793\n",
      "Epoch 27/100\n",
      "16108/16108 [==============================] - 1s 75us/step - loss: 0.0683 - acc: 0.9803 - val_loss: 0.0690 - val_acc: 0.9799\n",
      "Epoch 28/100\n",
      "16108/16108 [==============================] - 1s 72us/step - loss: 0.0688 - acc: 0.9796 - val_loss: 0.0672 - val_acc: 0.9810\n",
      "Epoch 29/100\n",
      "16108/16108 [==============================] - 1s 64us/step - loss: 0.0684 - acc: 0.9804 - val_loss: 0.0687 - val_acc: 0.9771\n",
      "Epoch 30/100\n",
      "16108/16108 [==============================] - 1s 65us/step - loss: 0.0686 - acc: 0.9799 - val_loss: 0.0663 - val_acc: 0.9796\n",
      "Epoch 31/100\n",
      "16108/16108 [==============================] - 1s 68us/step - loss: 0.0686 - acc: 0.9801 - val_loss: 0.0658 - val_acc: 0.9799: 0.0687 - acc: 0.980\n",
      "Epoch 32/100\n",
      "16108/16108 [==============================] - 1s 67us/step - loss: 0.0689 - acc: 0.9801 - val_loss: 0.0665 - val_acc: 0.9810\n",
      "Epoch 33/100\n",
      "16108/16108 [==============================] - 1s 66us/step - loss: 0.0674 - acc: 0.9795 - val_loss: 0.0697 - val_acc: 0.9810\n",
      "Epoch 34/100\n",
      "16108/16108 [==============================] - 1s 66us/step - loss: 0.0681 - acc: 0.9800 - val_loss: 0.0663 - val_acc: 0.9810\n",
      "Epoch 35/100\n",
      "16108/16108 [==============================] - 1s 64us/step - loss: 0.0679 - acc: 0.9797 - val_loss: 0.0663 - val_acc: 0.9807\n",
      "Epoch 36/100\n",
      "16108/16108 [==============================] - 1s 65us/step - loss: 0.0672 - acc: 0.9802 - val_loss: 0.0673 - val_acc: 0.9810\n",
      "Epoch 37/100\n",
      "16108/16108 [==============================] - 1s 62us/step - loss: 0.0669 - acc: 0.9804 - val_loss: 0.0680 - val_acc: 0.9796\n",
      "Epoch 38/100\n",
      "16108/16108 [==============================] - 1s 71us/step - loss: 0.0671 - acc: 0.9804 - val_loss: 0.0675 - val_acc: 0.9804\n",
      "Epoch 39/100\n",
      "16108/16108 [==============================] - ETA: 0s - loss: 0.0673 - acc: 0.9796- ETA: 0s - loss: 0.06 - 2s 98us/step - loss: 0.0678 - acc: 0.9795 - val_loss: 0.0699 - val_acc: 0.9788\n",
      "Epoch 40/100\n",
      "16108/16108 [==============================] - 1s 64us/step - loss: 0.0668 - acc: 0.9807 - val_loss: 0.0659 - val_acc: 0.9816\n",
      "Epoch 41/100\n",
      "16108/16108 [==============================] - 1s 64us/step - loss: 0.0672 - acc: 0.9804 - val_loss: 0.0653 - val_acc: 0.9793\n",
      "Epoch 42/100\n",
      "16108/16108 [==============================] - 1s 69us/step - loss: 0.0669 - acc: 0.9808 - val_loss: 0.0667 - val_acc: 0.9796\n",
      "Epoch 43/100\n",
      "16108/16108 [==============================] - 1s 63us/step - loss: 0.0666 - acc: 0.9803 - val_loss: 0.0672 - val_acc: 0.9788\n",
      "Epoch 44/100\n",
      "16108/16108 [==============================] - 1s 63us/step - loss: 0.0665 - acc: 0.9802 - val_loss: 0.0670 - val_acc: 0.9791\n",
      "Epoch 45/100\n",
      "16108/16108 [==============================] - 1s 67us/step - loss: 0.0665 - acc: 0.9800 - val_loss: 0.0657 - val_acc: 0.9804\n",
      "Epoch 46/100\n",
      "16108/16108 [==============================] - 1s 68us/step - loss: 0.0665 - acc: 0.9802 - val_loss: 0.0654 - val_acc: 0.9804\n",
      "Epoch 47/100\n",
      "16108/16108 [==============================] - 1s 69us/step - loss: 0.0671 - acc: 0.9805 - val_loss: 0.0654 - val_acc: 0.9810\n",
      "Epoch 48/100\n",
      "16108/16108 [==============================] - 1s 68us/step - loss: 0.0669 - acc: 0.9809 - val_loss: 0.0667 - val_acc: 0.9793\n",
      "Epoch 49/100\n",
      "16108/16108 [==============================] - 1s 68us/step - loss: 0.0663 - acc: 0.9804 - val_loss: 0.0663 - val_acc: 0.9796\n",
      "Epoch 50/100\n",
      "16108/16108 [==============================] - 1s 66us/step - loss: 0.0663 - acc: 0.9803 - val_loss: 0.0673 - val_acc: 0.9804\n",
      "Epoch 51/100\n",
      "16108/16108 [==============================] - 1s 68us/step - loss: 0.0658 - acc: 0.9812 - val_loss: 0.0679 - val_acc: 0.9810\n",
      "Epoch 52/100\n",
      "16108/16108 [==============================] - 1s 65us/step - loss: 0.0661 - acc: 0.9808 - val_loss: 0.0661 - val_acc: 0.9810\n",
      "Epoch 53/100\n",
      "16108/16108 [==============================] - 1s 64us/step - loss: 0.0667 - acc: 0.9810 - val_loss: 0.0667 - val_acc: 0.9807\n",
      "Epoch 54/100\n",
      "16108/16108 [==============================] - 1s 92us/step - loss: 0.0666 - acc: 0.9808 - val_loss: 0.0668 - val_acc: 0.9802\n",
      "Epoch 55/100\n",
      "16108/16108 [==============================] - 1s 64us/step - loss: 0.0666 - acc: 0.9803 - val_loss: 0.0676 - val_acc: 0.9810\n",
      "Epoch 56/100\n",
      "16108/16108 [==============================] - 1s 68us/step - loss: 0.0659 - acc: 0.9807 - val_loss: 0.0703 - val_acc: 0.9782\n",
      "Epoch 57/100\n",
      "16108/16108 [==============================] - 1s 64us/step - loss: 0.0652 - acc: 0.9811 - val_loss: 0.0676 - val_acc: 0.9816\n",
      "Epoch 58/100\n",
      "16108/16108 [==============================] - 1s 65us/step - loss: 0.0656 - acc: 0.9804 - val_loss: 0.0651 - val_acc: 0.9804\n",
      "Epoch 59/100\n"
     ]
    },
    {
     "name": "stdout",
     "output_type": "stream",
     "text": [
      "16108/16108 [==============================] - 1s 62us/step - loss: 0.0657 - acc: 0.9808 - val_loss: 0.0684 - val_acc: 0.9802\n",
      "Epoch 60/100\n",
      "16108/16108 [==============================] - 1s 59us/step - loss: 0.0665 - acc: 0.9801 - val_loss: 0.0666 - val_acc: 0.9799\n",
      "Epoch 61/100\n",
      "16108/16108 [==============================] - 1s 58us/step - loss: 0.0658 - acc: 0.9804 - val_loss: 0.0689 - val_acc: 0.9777\n",
      "Epoch 62/100\n",
      "16108/16108 [==============================] - 1s 55us/step - loss: 0.0666 - acc: 0.9801 - val_loss: 0.0678 - val_acc: 0.9777\n",
      "Epoch 63/100\n",
      "16108/16108 [==============================] - 1s 56us/step - loss: 0.0655 - acc: 0.9808 - val_loss: 0.0674 - val_acc: 0.9799\n",
      "Epoch 64/100\n",
      "16108/16108 [==============================] - 1s 63us/step - loss: 0.0655 - acc: 0.9799 - val_loss: 0.0666 - val_acc: 0.9810\n",
      "Epoch 65/100\n",
      "16108/16108 [==============================] - ETA: 0s - loss: 0.0645 - acc: 0.981 - 1s 60us/step - loss: 0.0650 - acc: 0.9807 - val_loss: 0.0672 - val_acc: 0.9782\n",
      "Epoch 66/100\n",
      "16108/16108 [==============================] - 1s 62us/step - loss: 0.0654 - acc: 0.9808 - val_loss: 0.0661 - val_acc: 0.9802\n",
      "Epoch 67/100\n",
      "16108/16108 [==============================] - 1s 60us/step - loss: 0.0657 - acc: 0.9805 - val_loss: 0.0661 - val_acc: 0.9793\n",
      "Epoch 68/100\n",
      "16108/16108 [==============================] - 1s 56us/step - loss: 0.0654 - acc: 0.9808 - val_loss: 0.0682 - val_acc: 0.9804\n",
      "Epoch 69/100\n",
      "16108/16108 [==============================] - 1s 93us/step - loss: 0.0657 - acc: 0.9801 - val_loss: 0.0668 - val_acc: 0.9804\n",
      "Epoch 70/100\n",
      "16108/16108 [==============================] - 1s 61us/step - loss: 0.0645 - acc: 0.9815 - val_loss: 0.0683 - val_acc: 0.9791\n",
      "Epoch 71/100\n",
      "16108/16108 [==============================] - 1s 64us/step - loss: 0.0646 - acc: 0.9814 - val_loss: 0.0693 - val_acc: 0.9816\n",
      "Epoch 72/100\n",
      "16108/16108 [==============================] - 1s 60us/step - loss: 0.0654 - acc: 0.9808 - val_loss: 0.0678 - val_acc: 0.9796\n",
      "Epoch 73/100\n",
      "16108/16108 [==============================] - 1s 63us/step - loss: 0.0649 - acc: 0.9811 - val_loss: 0.0654 - val_acc: 0.9791\n",
      "Epoch 74/100\n",
      "16108/16108 [==============================] - 1s 57us/step - loss: 0.0646 - acc: 0.9816 - val_loss: 0.0698 - val_acc: 0.9788\n",
      "Epoch 75/100\n",
      "16108/16108 [==============================] - 1s 61us/step - loss: 0.0655 - acc: 0.9804 - val_loss: 0.0670 - val_acc: 0.9804\n",
      "Epoch 76/100\n",
      "16108/16108 [==============================] - 1s 59us/step - loss: 0.0652 - acc: 0.9812 - val_loss: 0.0680 - val_acc: 0.9788\n",
      "Epoch 77/100\n",
      "16108/16108 [==============================] - 1s 59us/step - loss: 0.0643 - acc: 0.9815 - val_loss: 0.0684 - val_acc: 0.9810\n",
      "Epoch 78/100\n",
      "16108/16108 [==============================] - 1s 58us/step - loss: 0.0649 - acc: 0.9804 - val_loss: 0.0717 - val_acc: 0.9768\n",
      "Epoch 79/100\n",
      "16108/16108 [==============================] - 1s 63us/step - loss: 0.0651 - acc: 0.9802 - val_loss: 0.0659 - val_acc: 0.9804\n",
      "Epoch 80/100\n",
      "16108/16108 [==============================] - 1s 61us/step - loss: 0.0645 - acc: 0.9806 - val_loss: 0.0733 - val_acc: 0.9804\n",
      "Epoch 81/100\n",
      "16108/16108 [==============================] - 1s 65us/step - loss: 0.0643 - acc: 0.9799 - val_loss: 0.0705 - val_acc: 0.9785\n",
      "Epoch 82/100\n",
      "16108/16108 [==============================] - 1s 57us/step - loss: 0.0647 - acc: 0.9810 - val_loss: 0.0661 - val_acc: 0.9788\n",
      "Epoch 83/100\n",
      "16108/16108 [==============================] - ETA: 0s - loss: 0.0634 - acc: 0.9810- ETA: 0s - loss: 0.0639 - acc: 0. - 1s 60us/step - loss: 0.0643 - acc: 0.9808 - val_loss: 0.0683 - val_acc: 0.9765\n",
      "Epoch 84/100\n",
      "16108/16108 [==============================] - 1s 63us/step - loss: 0.0647 - acc: 0.9805 - val_loss: 0.0671 - val_acc: 0.9799\n",
      "Epoch 85/100\n",
      "16108/16108 [==============================] - 2s 94us/step - loss: 0.0652 - acc: 0.9807 - val_loss: 0.0692 - val_acc: 0.9804\n",
      "Epoch 86/100\n",
      "16108/16108 [==============================] - 1s 66us/step - loss: 0.0639 - acc: 0.9808 - val_loss: 0.0679 - val_acc: 0.9804\n",
      "Epoch 87/100\n",
      "16108/16108 [==============================] - 1s 61us/step - loss: 0.0639 - acc: 0.9807 - val_loss: 0.0677 - val_acc: 0.9782\n",
      "Epoch 88/100\n",
      "16108/16108 [==============================] - 1s 59us/step - loss: 0.0641 - acc: 0.9805 - val_loss: 0.0659 - val_acc: 0.9785\n",
      "Epoch 89/100\n",
      "16108/16108 [==============================] - 2s 126us/step - loss: 0.0636 - acc: 0.9813 - val_loss: 0.0666 - val_acc: 0.9802\n",
      "Epoch 90/100\n",
      "16108/16108 [==============================] - 1s 56us/step - loss: 0.0646 - acc: 0.9808 - val_loss: 0.0687 - val_acc: 0.9793\n",
      "Epoch 91/100\n",
      "16108/16108 [==============================] - 1s 51us/step - loss: 0.0640 - acc: 0.9812 - val_loss: 0.0695 - val_acc: 0.9788\n",
      "Epoch 92/100\n",
      "16108/16108 [==============================] - 1s 51us/step - loss: 0.0646 - acc: 0.9806 - val_loss: 0.0663 - val_acc: 0.9782\n",
      "Epoch 93/100\n",
      "16108/16108 [==============================] - 1s 51us/step - loss: 0.0635 - acc: 0.9809 - val_loss: 0.0705 - val_acc: 0.9807\n",
      "Epoch 94/100\n",
      "16108/16108 [==============================] - 1s 51us/step - loss: 0.0640 - acc: 0.9812 - val_loss: 0.0675 - val_acc: 0.9788\n",
      "Epoch 95/100\n",
      "16108/16108 [==============================] - 1s 56us/step - loss: 0.0633 - acc: 0.9812 - val_loss: 0.0684 - val_acc: 0.9791\n",
      "Epoch 96/100\n",
      "16108/16108 [==============================] - 1s 51us/step - loss: 0.0640 - acc: 0.9809 - val_loss: 0.0669 - val_acc: 0.9799\n",
      "Epoch 97/100\n",
      "16108/16108 [==============================] - 1s 51us/step - loss: 0.0639 - acc: 0.9810 - val_loss: 0.0685 - val_acc: 0.9793\n",
      "Epoch 98/100\n",
      "16108/16108 [==============================] - 1s 53us/step - loss: 0.0630 - acc: 0.9811 - val_loss: 0.0680 - val_acc: 0.9804\n",
      "Epoch 99/100\n",
      "16108/16108 [==============================] - 1s 51us/step - loss: 0.0635 - acc: 0.9814 - val_loss: 0.0683 - val_acc: 0.9777\n",
      "Epoch 100/100\n",
      "16108/16108 [==============================] - 1s 51us/step - loss: 0.0642 - acc: 0.9806 - val_loss: 0.0663 - val_acc: 0.9793\n"
     ]
    }
   ],
   "source": [
    "acc_training = model.fit(x_train, y_train, validation_data=(x_test, y_test), batch_size=32, epochs=100)"
   ]
  },
  {
   "cell_type": "markdown",
   "metadata": {},
   "source": [
    "## ACCURACY \n",
    "Berikut ini akan ditampilkan nilai akurasi dan dalam hal ini akurasinya mencapai 97.93%"
   ]
  },
  {
   "cell_type": "code",
   "execution_count": 145,
   "metadata": {},
   "outputs": [
    {
     "name": "stdout",
     "output_type": "stream",
     "text": [
      "1790/1790 [==============================] - 0s 18us/step\n",
      "\n",
      "Accuracy is 97.93296089385476\n"
     ]
    }
   ],
   "source": [
    "acc_testing  = model.evaluate(x_test, y_test) \n",
    "print('\\nAccuracy is', acc_testing[1]*100)"
   ]
  },
  {
   "cell_type": "markdown",
   "metadata": {},
   "source": [
    "## plot perbandingan akurasi training dan testing"
   ]
  },
  {
   "cell_type": "code",
   "execution_count": 151,
   "metadata": {},
   "outputs": [
    {
     "data": {
      "image/png": "[encoded data removed]",
      "text/plain": [
       "<Figure size 432x288 with 1 Axes>"
      ]
     },
     "metadata": {
      "needs_background": "light"
     },
     "output_type": "display_data"
    }
   ],
   "source": [
    "plt.plot(acc_training.history['acc'])\n",
    "plt.plot(acc_training.history['val_acc'])\n",
    "plt.title('Accuracy Model')\n",
    "plt.ylabel('Accuracy')\n",
    "plt.xlabel('Epoch')\n",
    "plt.legend(['Training Data', 'Testing Data'], loc='center right')\n",
    "plt.show()"
   ]
  },
  {
   "cell_type": "markdown",
   "metadata": {},
   "source": [
    "## plot perbandingan loss training dan testing"
   ]
  },
  {
   "cell_type": "code",
   "execution_count": 153,
   "metadata": {},
   "outputs": [
    {
     "data": {
      "image/png": "[encoded data removed]",
      "text/plain": [
       "<Figure size 432x288 with 1 Axes>"
      ]
     },
     "metadata": {
      "needs_background": "light"
     },
     "output_type": "display_data"
    }
   ],
   "source": [
    "plt.plot(acc_training.history['loss'])\n",
    "plt.plot(acc_training.history['val_loss'])\n",
    "plt.title('Loss Model')\n",
    "plt.ylabel('Loss')\n",
    "plt.xlabel('Epoch')\n",
    "plt.legend(['Training Data', 'Testing Data'], loc='center right')\n",
    "plt.show()"
   ]
  },
  {
   "cell_type": "code",
   "execution_count": 148,
   "metadata": {},
   "outputs": [],
   "source": [
    "prediction = model.predict_classes(x_test)\n",
    "y_real = np.argmax(y_test,axis=1)"
   ]
  },
  {
   "cell_type": "code",
   "execution_count": 156,
   "metadata": {},
   "outputs": [
    {
     "data": {
      "text/plain": [
       "array([0, 0, 0, 0, 0, 0, 0, 0, 0, 0, 0, 0, 0, 0, 0, 0, 0, 0, 0, 0],\n",
       "      dtype=int64)"
      ]
     },
     "execution_count": 156,
     "metadata": {},
     "output_type": "execute_result"
    }
   ],
   "source": [
    "prediction[:20]"
   ]
  },
  {
   "cell_type": "code",
   "execution_count": 157,
   "metadata": {},
   "outputs": [
    {
     "data": {
      "text/plain": [
       "array([0, 0, 0, 0, 0, 0, 0, 0, 0, 0, 0, 0, 0, 0, 0, 0, 0, 0, 0, 0],\n",
       "      dtype=int64)"
      ]
     },
     "execution_count": 157,
     "metadata": {},
     "output_type": "execute_result"
    }
   ],
   "source": [
    "y_real[:20]"
   ]
  },
  {
   "cell_type": "markdown",
   "metadata": {},
   "source": [
    "## Confusion Matrix\n",
    "Confusion matrix merupakan salah satu metode yang dapat digunakan untuk mengukur kinerja suatu metode klasifikasi. Pada dasarnya confusion matrix mengandung informasi yang membandingkan hasil klasifikasi yang dilakukan oleh sistem dengan hasil klasifikasi yang seharusnya "
   ]
  },
  {
   "attachments": {
    "image.png": {
     "image/png": "[encoded data removed]"
    }
   },
   "cell_type": "markdown",
   "metadata": {},
   "source": [
    "Konsep dari confusion matrix adalah sebagai berikut : <br>\n",
    "![image.png](attachment:image.png)"
   ]
  },
  {
   "attachments": {
    "image.png": {
     "image/png": "[encoded data removed]"
    }
   },
   "cell_type": "markdown",
   "metadata": {},
   "source": [
    "Berdasarkan hasil tersebut, didapat confusion matrix sebagai berikut : <br>\n",
    "![image.png](attachment:image.png)"
   ]
  },
  {
   "cell_type": "code",
   "execution_count": 158,
   "metadata": {},
   "outputs": [
    {
     "name": "stdout",
     "output_type": "stream",
     "text": [
      "[[1612   12]\n",
      " [  25  141]]\n"
     ]
    }
   ],
   "source": [
    "cm = confusion_matrix(y_real, prediction)\n",
    "print(cm)"
   ]
  },
  {
   "cell_type": "markdown",
   "metadata": {},
   "source": [
    "## Rumus Accuracy, Recall, dan Precision"
   ]
  },
  {
   "cell_type": "code",
   "execution_count": 183,
   "metadata": {},
   "outputs": [
    {
     "name": "stdout",
     "output_type": "stream",
     "text": [
      "97.93296089385476\n"
     ]
    }
   ],
   "source": [
    "akurasi = accuracy_score(y_real,prediction)\n",
    "print(akurasi*100)"
   ]
  },
  {
   "cell_type": "code",
   "execution_count": 184,
   "metadata": {},
   "outputs": [
    {
     "name": "stdout",
     "output_type": "stream",
     "text": [
      "\n",
      "Accuracy: 97.93%\n"
     ]
    }
   ],
   "source": [
    "accuracy = ((1612+141) / (1612+25+12+141))\n",
    "print(\"\\n%s: %.2f%%\" % (\"Accuracy\", accuracy*100))"
   ]
  },
  {
   "attachments": {
    "image.png": {
     "image/png": "[encoded data removed]"
    }
   },
   "cell_type": "markdown",
   "metadata": {},
   "source": [
    "![image.png](attachment:image.png)"
   ]
  },
  {
   "cell_type": "code",
   "execution_count": 165,
   "metadata": {},
   "outputs": [
    {
     "name": "stdout",
     "output_type": "stream",
     "text": [
      "84.93975903614458\n"
     ]
    }
   ],
   "source": [
    "recall = recall_score(y_real,prediction)\n",
    "print(recall*100)"
   ]
  },
  {
   "cell_type": "code",
   "execution_count": 185,
   "metadata": {},
   "outputs": [
    {
     "name": "stdout",
     "output_type": "stream",
     "text": [
      "\n",
      "Recall: 84.94%\n"
     ]
    }
   ],
   "source": [
    "recall = ((141) / (25+141))\n",
    "print(\"\\n%s: %.2f%%\" % (\"Recall\", recall*100))"
   ]
  },
  {
   "attachments": {
    "image.png": {
     "image/png": "[encoded data removed]"
    }
   },
   "cell_type": "markdown",
   "metadata": {},
   "source": [
    "![image.png](attachment:image.png)"
   ]
  },
  {
   "cell_type": "code",
   "execution_count": 164,
   "metadata": {
    "scrolled": true
   },
   "outputs": [
    {
     "name": "stdout",
     "output_type": "stream",
     "text": [
      "92.15686274509804\n"
     ]
    }
   ],
   "source": [
    "presisi = precision_score(y_real,prediction)\n",
    "print(presisi*100)"
   ]
  },
  {
   "cell_type": "code",
   "execution_count": 186,
   "metadata": {},
   "outputs": [
    {
     "name": "stdout",
     "output_type": "stream",
     "text": [
      "\n",
      "precission: 92.16%\n"
     ]
    }
   ],
   "source": [
    "precission =((141) / (12+141))\n",
    "print(\"\\n%s: %.2f%%\" % (\"precission\", precission*100))"
   ]
  },
  {
   "attachments": {
    "image.png": {
     "image/png": "[encoded data removed]"
    }
   },
   "cell_type": "markdown",
   "metadata": {},
   "source": [
    "![image.png](attachment:image.png)"
   ]
  },
  {
   "cell_type": "code",
   "execution_count": 163,
   "metadata": {},
   "outputs": [
    {
     "name": "stdout",
     "output_type": "stream",
     "text": [
      "88.40125391849529\n"
     ]
    }
   ],
   "source": [
    "f1 = f1_score(y_real,prediction)\n",
    "print(f1*100)"
   ]
  },
  {
   "cell_type": "code",
   "execution_count": 167,
   "metadata": {},
   "outputs": [],
   "source": [
    "from sklearn.metrics import classification_report"
   ]
  },
  {
   "cell_type": "code",
   "execution_count": 168,
   "metadata": {},
   "outputs": [
    {
     "name": "stdout",
     "output_type": "stream",
     "text": [
      "              precision    recall  f1-score   support\n",
      "\n",
      "           0       0.98      0.99      0.99      1624\n",
      "           1       0.92      0.85      0.88       166\n",
      "\n",
      "    accuracy                           0.98      1790\n",
      "   macro avg       0.95      0.92      0.94      1790\n",
      "weighted avg       0.98      0.98      0.98      1790\n",
      "\n"
     ]
    }
   ],
   "source": [
    "print(classification_report(y_real,prediction))"
   ]
  },
  {
   "cell_type": "markdown",
   "metadata": {},
   "source": [
    "## Referensi\n",
    "\n",
    "Datasheet = https://www.kaggle.com/pavanraj159/predicting-a-pulsar-star"
   ]
  }
 ],
 "metadata": {
  "kernelspec": {
   "display_name": "Python 3",
   "language": "python",
   "name": "python3"
  },
  "language_info": {
   "codemirror_mode": {
    "name": "ipython",
    "version": 3
   },
   "file_extension": ".py",
   "mimetype": "text/x-python",
   "name": "python",
   "nbconvert_exporter": "python",
   "pygments_lexer": "ipython3",
   "version": "3.6.9"
  }
 },
 "nbformat": 4,
 "nbformat_minor": 2
}
