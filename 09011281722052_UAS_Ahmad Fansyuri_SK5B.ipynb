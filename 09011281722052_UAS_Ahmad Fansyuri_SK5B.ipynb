{
 "cells": [
  {
   "cell_type": "markdown",
   "metadata": {},
   "source": [
    "- __NAMA  : Ahmad Fansyuri__\n",
    "- __NIM   : 09011281722052__\n",
    "- __KELAS : SK5B__\n",
    "- __MK    : KECERDASAN BUATAN__"
   ]
  },
  {
   "cell_type": "markdown",
   "metadata": {},
   "source": [
    "# Data Set yang digunakan adalah tentang fertilitas. Dataset ini memiliki 100 /instances/ dengan 10 atribut.\n",
    "\n",
    "Dataset ini memiliki fertilitas instances. data ini dapat didownload di <link>https://datahub.io/machine-learning/fertility#data-cli</link> \n",
    "\n",
    "Pada data ini terdapat 9 Fitur dan 1 Label, yaitu :\n",
    "\n",
    "|    Fitur    |         Label        | \n",
    "|-------------|----------------------|\n",
    "|    Season   |                      |\n",
    "|             |                      |\n",
    "|    Age      |                      |\n",
    "|             |                      |\n",
    "| Childish-Dis|                      |\n",
    "|             |                      | \n",
    "|   Trauma    |                      |\n",
    "|             |                      |\n",
    "|   Surgical  |        Output        |\n",
    "|             |                      |\n",
    "|    Fevers   |                      |\n",
    "|             |                      |\n",
    "|   Alcoholic |                      |\n",
    "|             |                      |\n",
    "|   Smoking   |                      |\n",
    "|             |                      |\n",
    "|   Sitting   |                      |  \n",
    "|-------------|----------------------|"
   ]
  },
  {
   "cell_type": "code",
   "execution_count": 1,
   "metadata": {},
   "outputs": [
    {
     "name": "stderr",
     "output_type": "stream",
     "text": [
      "Using TensorFlow backend.\n"
     ]
    }
   ],
   "source": [
    "#Import Package dan library untuk pengaplikasian Machine Learning dengan menggunakan ANN\n",
    "\n",
    "import pandas as pd\n",
    "import keras\n",
    "import tensorflow\n",
    "from keras.models import Sequential\n",
    "from keras.layers import Dense"
   ]
  },
  {
   "cell_type": "markdown",
   "metadata": {},
   "source": [
    "##   <b>Membaca data Fertility.csv menggunakan pandas"
   ]
  },
  {
   "cell_type": "code",
   "execution_count": 2,
   "metadata": {},
   "outputs": [
    {
     "data": {
      "text/html": [
       "<div>\n",
       "<style scoped>\n",
       "    .dataframe tbody tr th:only-of-type {\n",
       "        vertical-align: middle;\n",
       "    }\n",
       "\n",
       "    .dataframe tbody tr th {\n",
       "        vertical-align: top;\n",
       "    }\n",
       "\n",
       "    .dataframe thead th {\n",
       "        text-align: right;\n",
       "    }\n",
       "</style>\n",
       "<table border=\"1\" class=\"dataframe\">\n",
       "  <thead>\n",
       "    <tr style=\"text-align: right;\">\n",
       "      <th></th>\n",
       "      <th>season</th>\n",
       "      <th>age</th>\n",
       "      <th>childish-disease</th>\n",
       "      <th>trauma</th>\n",
       "      <th>surgical-intervention</th>\n",
       "      <th>fevers</th>\n",
       "      <th>alcoholic</th>\n",
       "      <th>smoking</th>\n",
       "      <th>sitting</th>\n",
       "      <th>output</th>\n",
       "    </tr>\n",
       "  </thead>\n",
       "  <tbody>\n",
       "    <tr>\n",
       "      <td>0</td>\n",
       "      <td>-0.33</td>\n",
       "      <td>0.69</td>\n",
       "      <td>0</td>\n",
       "      <td>1</td>\n",
       "      <td>1</td>\n",
       "      <td>0</td>\n",
       "      <td>0.8</td>\n",
       "      <td>0</td>\n",
       "      <td>0.88</td>\n",
       "      <td>N</td>\n",
       "    </tr>\n",
       "    <tr>\n",
       "      <td>1</td>\n",
       "      <td>-0.33</td>\n",
       "      <td>0.94</td>\n",
       "      <td>1</td>\n",
       "      <td>0</td>\n",
       "      <td>1</td>\n",
       "      <td>0</td>\n",
       "      <td>0.8</td>\n",
       "      <td>1</td>\n",
       "      <td>0.31</td>\n",
       "      <td>O</td>\n",
       "    </tr>\n",
       "    <tr>\n",
       "      <td>2</td>\n",
       "      <td>-0.33</td>\n",
       "      <td>0.50</td>\n",
       "      <td>1</td>\n",
       "      <td>0</td>\n",
       "      <td>0</td>\n",
       "      <td>0</td>\n",
       "      <td>1.0</td>\n",
       "      <td>-1</td>\n",
       "      <td>0.50</td>\n",
       "      <td>N</td>\n",
       "    </tr>\n",
       "    <tr>\n",
       "      <td>3</td>\n",
       "      <td>-0.33</td>\n",
       "      <td>0.75</td>\n",
       "      <td>0</td>\n",
       "      <td>1</td>\n",
       "      <td>1</td>\n",
       "      <td>0</td>\n",
       "      <td>1.0</td>\n",
       "      <td>-1</td>\n",
       "      <td>0.38</td>\n",
       "      <td>N</td>\n",
       "    </tr>\n",
       "    <tr>\n",
       "      <td>4</td>\n",
       "      <td>-0.33</td>\n",
       "      <td>0.67</td>\n",
       "      <td>1</td>\n",
       "      <td>1</td>\n",
       "      <td>0</td>\n",
       "      <td>0</td>\n",
       "      <td>0.8</td>\n",
       "      <td>-1</td>\n",
       "      <td>0.50</td>\n",
       "      <td>O</td>\n",
       "    </tr>\n",
       "  </tbody>\n",
       "</table>\n",
       "</div>"
      ],
      "text/plain": [
       "   season   age  childish-disease  trauma  surgical-intervention  fevers  \\\n",
       "0   -0.33  0.69                 0       1                      1       0   \n",
       "1   -0.33  0.94                 1       0                      1       0   \n",
       "2   -0.33  0.50                 1       0                      0       0   \n",
       "3   -0.33  0.75                 0       1                      1       0   \n",
       "4   -0.33  0.67                 1       1                      0       0   \n",
       "\n",
       "   alcoholic  smoking  sitting output  \n",
       "0        0.8        0     0.88      N  \n",
       "1        0.8        1     0.31      O  \n",
       "2        1.0       -1     0.50      N  \n",
       "3        1.0       -1     0.38      N  \n",
       "4        0.8       -1     0.50      O  "
      ]
     },
     "execution_count": 2,
     "metadata": {},
     "output_type": "execute_result"
    }
   ],
   "source": [
    "dataset = pd.read_csv(\"C:/Users/asus/Downloads/DATASET UAS/data/fertility_csv.csv\")\n",
    "dataset.head()"
   ]
  },
  {
   "cell_type": "markdown",
   "metadata": {},
   "source": [
    "## <b>Data Pre-Processing, Test/Train Split, Label Encode"
   ]
  },
  {
   "cell_type": "markdown",
   "metadata": {},
   "source": [
    "Teruntuk dataset yang berformat .csv, kita harus melihat atau menganalisis dataset tersebut, yang nantinya akan kita gunakan untuk memisahkan matrix yang berisi fitur(biasa fitur menggunakan variabel X atau features) dan juga membuat matrix yang berisi hasil observasi mereka"
   ]
  },
  {
   "cell_type": "code",
   "execution_count": 3,
   "metadata": {},
   "outputs": [],
   "source": [
    "X = dataset.iloc[:, 0:9]\n",
    "y = dataset.iloc[:, 9]"
   ]
  },
  {
   "cell_type": "code",
   "execution_count": 4,
   "metadata": {},
   "outputs": [
    {
     "data": {
      "text/html": [
       "<div>\n",
       "<style scoped>\n",
       "    .dataframe tbody tr th:only-of-type {\n",
       "        vertical-align: middle;\n",
       "    }\n",
       "\n",
       "    .dataframe tbody tr th {\n",
       "        vertical-align: top;\n",
       "    }\n",
       "\n",
       "    .dataframe thead th {\n",
       "        text-align: right;\n",
       "    }\n",
       "</style>\n",
       "<table border=\"1\" class=\"dataframe\">\n",
       "  <thead>\n",
       "    <tr style=\"text-align: right;\">\n",
       "      <th></th>\n",
       "      <th>season</th>\n",
       "      <th>age</th>\n",
       "      <th>childish-disease</th>\n",
       "      <th>trauma</th>\n",
       "      <th>surgical-intervention</th>\n",
       "      <th>fevers</th>\n",
       "      <th>alcoholic</th>\n",
       "      <th>smoking</th>\n",
       "      <th>sitting</th>\n",
       "    </tr>\n",
       "  </thead>\n",
       "  <tbody>\n",
       "    <tr>\n",
       "      <td>0</td>\n",
       "      <td>-0.33</td>\n",
       "      <td>0.69</td>\n",
       "      <td>0</td>\n",
       "      <td>1</td>\n",
       "      <td>1</td>\n",
       "      <td>0</td>\n",
       "      <td>0.8</td>\n",
       "      <td>0</td>\n",
       "      <td>0.88</td>\n",
       "    </tr>\n",
       "    <tr>\n",
       "      <td>1</td>\n",
       "      <td>-0.33</td>\n",
       "      <td>0.94</td>\n",
       "      <td>1</td>\n",
       "      <td>0</td>\n",
       "      <td>1</td>\n",
       "      <td>0</td>\n",
       "      <td>0.8</td>\n",
       "      <td>1</td>\n",
       "      <td>0.31</td>\n",
       "    </tr>\n",
       "    <tr>\n",
       "      <td>2</td>\n",
       "      <td>-0.33</td>\n",
       "      <td>0.50</td>\n",
       "      <td>1</td>\n",
       "      <td>0</td>\n",
       "      <td>0</td>\n",
       "      <td>0</td>\n",
       "      <td>1.0</td>\n",
       "      <td>-1</td>\n",
       "      <td>0.50</td>\n",
       "    </tr>\n",
       "    <tr>\n",
       "      <td>3</td>\n",
       "      <td>-0.33</td>\n",
       "      <td>0.75</td>\n",
       "      <td>0</td>\n",
       "      <td>1</td>\n",
       "      <td>1</td>\n",
       "      <td>0</td>\n",
       "      <td>1.0</td>\n",
       "      <td>-1</td>\n",
       "      <td>0.38</td>\n",
       "    </tr>\n",
       "    <tr>\n",
       "      <td>4</td>\n",
       "      <td>-0.33</td>\n",
       "      <td>0.67</td>\n",
       "      <td>1</td>\n",
       "      <td>1</td>\n",
       "      <td>0</td>\n",
       "      <td>0</td>\n",
       "      <td>0.8</td>\n",
       "      <td>-1</td>\n",
       "      <td>0.50</td>\n",
       "    </tr>\n",
       "  </tbody>\n",
       "</table>\n",
       "</div>"
      ],
      "text/plain": [
       "   season   age  childish-disease  trauma  surgical-intervention  fevers  \\\n",
       "0   -0.33  0.69                 0       1                      1       0   \n",
       "1   -0.33  0.94                 1       0                      1       0   \n",
       "2   -0.33  0.50                 1       0                      0       0   \n",
       "3   -0.33  0.75                 0       1                      1       0   \n",
       "4   -0.33  0.67                 1       1                      0       0   \n",
       "\n",
       "   alcoholic  smoking  sitting  \n",
       "0        0.8        0     0.88  \n",
       "1        0.8        1     0.31  \n",
       "2        1.0       -1     0.50  \n",
       "3        1.0       -1     0.38  \n",
       "4        0.8       -1     0.50  "
      ]
     },
     "execution_count": 4,
     "metadata": {},
     "output_type": "execute_result"
    }
   ],
   "source": [
    "X.head()"
   ]
  },
  {
   "cell_type": "code",
   "execution_count": 5,
   "metadata": {},
   "outputs": [
    {
     "data": {
      "text/plain": [
       "0     N\n",
       "1     O\n",
       "2     N\n",
       "3     N\n",
       "4     O\n",
       "     ..\n",
       "95    N\n",
       "96    N\n",
       "97    N\n",
       "98    N\n",
       "99    N\n",
       "Name: output, Length: 100, dtype: object"
      ]
     },
     "execution_count": 5,
     "metadata": {},
     "output_type": "execute_result"
    }
   ],
   "source": [
    "y"
   ]
  },
  {
   "cell_type": "markdown",
   "metadata": {},
   "source": [
    "Setelah kita memisahkan fitur dan label selanjutnya masuk ke tahap <b><i>Encoding Categorical Data</b></i>\n",
    "\n",
    "Mengapa Menggunakan Encoding ?\n",
    "\n",
    "Pada dasarnya setiap variabel yang bukan kuantitatif adalah kategorikal, misal warna rambut, jenis kelamin, status penyakit, dll. \n",
    "\n",
    "Untuk itu dibutuhkan pengkodean(Encoding) contoh pada tabel merubah nilai output yang sebelumnya memiliki nilai kategorikal N dan O menjadi 0 dan 1.\n",
    "\n",
    "Perhatikan pada baris di bawah merubah nilai pada variabel y dari yang isinya N & O menjadi 1 & 0."
   ]
  },
  {
   "cell_type": "code",
   "execution_count": 6,
   "metadata": {},
   "outputs": [
    {
     "data": {
      "text/plain": [
       "array([0, 1, 0, 0, 1, 0, 0, 0, 0, 0, 0, 0, 0, 0, 0, 0, 0, 1, 0, 1, 0, 0,\n",
       "       0, 1, 0, 0, 1, 1, 0, 1, 0, 0, 0, 0, 0, 0, 0, 0, 1, 0, 0, 0, 0, 0,\n",
       "       0, 0, 0, 0, 0, 0, 0, 0, 0, 0, 0, 0, 0, 0, 0, 0, 0, 0, 0, 0, 0, 0,\n",
       "       0, 0, 0, 0, 1, 0, 0, 0, 0, 0, 0, 0, 0, 0, 0, 0, 0, 0, 1, 0, 0, 0,\n",
       "       0, 0, 0, 0, 0, 1, 0, 0, 0, 0, 0, 0])"
      ]
     },
     "execution_count": 6,
     "metadata": {},
     "output_type": "execute_result"
    }
   ],
   "source": [
    "from sklearn.preprocessing import LabelEncoder, OneHotEncoder\n",
    "\n",
    "labelencoder_y = LabelEncoder()\n",
    "y = labelencoder_y.fit_transform(y)\n",
    "y"
   ]
  },
  {
   "cell_type": "markdown",
   "metadata": {},
   "source": [
    "### Splitting/pemisahan Data set ke Training set dan Test Set\n",
    "\n",
    "Sekarang kita membagi data kita menjadi dua set, set pertama kita sebut dengan \"Training Set\" dan set kedua kita sebut \"Test Set\". Pada model ini saya membagi menjadi 80% untuk training dan 20% test. Menggunakan library from sklearn.model_selection import train_test_split"
   ]
  },
  {
   "cell_type": "code",
   "execution_count": 7,
   "metadata": {},
   "outputs": [],
   "source": [
    "from sklearn.model_selection import train_test_split\n",
    "\n",
    "X_train, X_test, Y_train, Y_test = train_test_split(X , y, test_size = 0.2, random_state = 0)"
   ]
  },
  {
   "cell_type": "code",
   "execution_count": 8,
   "metadata": {},
   "outputs": [],
   "source": [
    "from sklearn.preprocessing import StandardScaler\n",
    "\n",
    "scaler = StandardScaler()\n",
    "X_train = scaler.fit_transform(X_train)\n",
    "X_test = scaler.transform(X_test)"
   ]
  },
  {
   "cell_type": "markdown",
   "metadata": {},
   "source": [
    "## \n",
    "\n",
    "disini saya menggunakan dense dengan fungsi aktivasi Rectifier Linear Unit, 9 Input fitur dengan 100 jaringan syaraf pada Hidden Layernya dan output sigmoid\n",
    "\n",
    "Arsitektur dari Model Jaringan Syaraf Tiruan yang saya buat adalah sebagai berikut:"
   ]
  },
  {
   "cell_type": "code",
   "execution_count": 9,
   "metadata": {},
   "outputs": [
    {
     "data": {
      "image/png": "[encoded data removed]",
      "text/plain": [
       "<PIL.PngImagePlugin.PngImageFile image mode=RGBA size=491x539 at 0x171483F2A88>"
      ]
     },
     "execution_count": 9,
     "metadata": {},
     "output_type": "execute_result"
    }
   ],
   "source": [
    "from PIL import Image\n",
    "myImage = Image.open(\"C:/Users/asus/Desktop/Praktikum AI (Babak Machine Learning)/Untitled Folder/Diagram Arsitektur ANN.png\")\n",
    "myImage"
   ]
  },
  {
   "cell_type": "markdown",
   "metadata": {},
   "source": [
    "## Modelling ANN menggunakan Tensorflow dan Keras"
   ]
  },
  {
   "cell_type": "code",
   "execution_count": 10,
   "metadata": {},
   "outputs": [],
   "source": [
    "model = Sequential()\n",
    "model.add(Dense(units=100, input_dim = 9, activation='relu'))\n",
    "model.add(Dense(units= 1, activation='sigmoid'))"
   ]
  },
  {
   "cell_type": "code",
   "execution_count": 11,
   "metadata": {},
   "outputs": [
    {
     "name": "stdout",
     "output_type": "stream",
     "text": [
      "WARNING:tensorflow:From C:\\Users\\asus\\Anaconda3\\lib\\site-packages\\tensorflow\\python\\ops\\nn_impl.py:180: add_dispatch_support.<locals>.wrapper (from tensorflow.python.ops.array_ops) is deprecated and will be removed in a future version.\n",
      "Instructions for updating:\n",
      "Use tf.where in 2.0, which has the same broadcast rule as np.where\n"
     ]
    }
   ],
   "source": [
    "from keras.optimizers import Adam\n",
    "\n",
    "model.compile(optimizer=Adam(lr=0.001), loss='binary_crossentropy', metrics=['accuracy'])"
   ]
  },
  {
   "cell_type": "code",
   "execution_count": 12,
   "metadata": {},
   "outputs": [
    {
     "name": "stdout",
     "output_type": "stream",
     "text": [
      "WARNING:tensorflow:From C:\\Users\\asus\\Anaconda3\\lib\\site-packages\\keras\\backend\\tensorflow_backend.py:422: The name tf.global_variables is deprecated. Please use tf.compat.v1.global_variables instead.\n",
      "\n",
      "Train on 80 samples, validate on 20 samples\n",
      "Epoch 1/115\n",
      "80/80 [==============================] - 0s 2ms/step - loss: 0.6980 - accuracy: 0.5375 - val_loss: 0.6686 - val_accuracy: 0.6500\n",
      "Epoch 2/115\n",
      "80/80 [==============================] - 0s 61us/step - loss: 0.6718 - accuracy: 0.5375 - val_loss: 0.6450 - val_accuracy: 0.7000\n",
      "Epoch 3/115\n",
      "80/80 [==============================] - 0s 61us/step - loss: 0.6468 - accuracy: 0.6000 - val_loss: 0.6228 - val_accuracy: 0.8000\n",
      "Epoch 4/115\n",
      "80/80 [==============================] - 0s 61us/step - loss: 0.6247 - accuracy: 0.6625 - val_loss: 0.6010 - val_accuracy: 0.9000\n",
      "Epoch 5/115\n",
      "80/80 [==============================] - 0s 61us/step - loss: 0.6036 - accuracy: 0.7250 - val_loss: 0.5802 - val_accuracy: 0.9000\n",
      "Epoch 6/115\n",
      "80/80 [==============================] - 0s 73us/step - loss: 0.5834 - accuracy: 0.8125 - val_loss: 0.5608 - val_accuracy: 0.9000\n",
      "Epoch 7/115\n",
      "80/80 [==============================] - 0s 61us/step - loss: 0.5650 - accuracy: 0.8375 - val_loss: 0.5427 - val_accuracy: 0.9000\n",
      "Epoch 8/115\n",
      "80/80 [==============================] - 0s 73us/step - loss: 0.5474 - accuracy: 0.8500 - val_loss: 0.5256 - val_accuracy: 0.8500\n",
      "Epoch 9/115\n",
      "80/80 [==============================] - 0s 73us/step - loss: 0.5323 - accuracy: 0.8625 - val_loss: 0.5096 - val_accuracy: 0.8500\n",
      "Epoch 10/115\n",
      "80/80 [==============================] - 0s 73us/step - loss: 0.5165 - accuracy: 0.8750 - val_loss: 0.4948 - val_accuracy: 0.8500\n",
      "Epoch 11/115\n",
      "80/80 [==============================] - 0s 61us/step - loss: 0.5030 - accuracy: 0.8750 - val_loss: 0.4809 - val_accuracy: 0.8500\n",
      "Epoch 12/115\n",
      "80/80 [==============================] - 0s 61us/step - loss: 0.4902 - accuracy: 0.8750 - val_loss: 0.4676 - val_accuracy: 0.9000\n",
      "Epoch 13/115\n",
      "80/80 [==============================] - 0s 85us/step - loss: 0.4786 - accuracy: 0.8750 - val_loss: 0.4552 - val_accuracy: 0.9000\n",
      "Epoch 14/115\n",
      "80/80 [==============================] - 0s 49us/step - loss: 0.4665 - accuracy: 0.8750 - val_loss: 0.4433 - val_accuracy: 0.9000\n",
      "Epoch 15/115\n",
      "80/80 [==============================] - 0s 85us/step - loss: 0.4565 - accuracy: 0.8750 - val_loss: 0.4317 - val_accuracy: 0.9000\n",
      "Epoch 16/115\n",
      "80/80 [==============================] - 0s 61us/step - loss: 0.4463 - accuracy: 0.8750 - val_loss: 0.4208 - val_accuracy: 0.9000\n",
      "Epoch 17/115\n",
      "80/80 [==============================] - 0s 61us/step - loss: 0.4366 - accuracy: 0.8750 - val_loss: 0.4103 - val_accuracy: 0.9000\n",
      "Epoch 18/115\n",
      "80/80 [==============================] - 0s 73us/step - loss: 0.4279 - accuracy: 0.8750 - val_loss: 0.4001 - val_accuracy: 0.9000\n",
      "Epoch 19/115\n",
      "80/80 [==============================] - 0s 61us/step - loss: 0.4194 - accuracy: 0.8750 - val_loss: 0.3905 - val_accuracy: 0.9000\n",
      "Epoch 20/115\n",
      "80/80 [==============================] - 0s 86us/step - loss: 0.4114 - accuracy: 0.8750 - val_loss: 0.3814 - val_accuracy: 0.9000\n",
      "Epoch 21/115\n",
      "80/80 [==============================] - 0s 49us/step - loss: 0.4043 - accuracy: 0.8750 - val_loss: 0.3729 - val_accuracy: 0.9000\n",
      "Epoch 22/115\n",
      "80/80 [==============================] - 0s 61us/step - loss: 0.3969 - accuracy: 0.8750 - val_loss: 0.3650 - val_accuracy: 0.9000\n",
      "Epoch 23/115\n",
      "80/80 [==============================] - 0s 61us/step - loss: 0.3905 - accuracy: 0.8750 - val_loss: 0.3573 - val_accuracy: 0.9000\n",
      "Epoch 24/115\n",
      "80/80 [==============================] - 0s 61us/step - loss: 0.3842 - accuracy: 0.8750 - val_loss: 0.3499 - val_accuracy: 0.9000\n",
      "Epoch 25/115\n",
      "80/80 [==============================] - 0s 73us/step - loss: 0.3787 - accuracy: 0.8750 - val_loss: 0.3428 - val_accuracy: 0.9000\n",
      "Epoch 26/115\n",
      "80/80 [==============================] - 0s 61us/step - loss: 0.3734 - accuracy: 0.8750 - val_loss: 0.3363 - val_accuracy: 0.9000\n",
      "Epoch 27/115\n",
      "80/80 [==============================] - 0s 73us/step - loss: 0.3682 - accuracy: 0.8750 - val_loss: 0.3305 - val_accuracy: 0.9000\n",
      "Epoch 28/115\n",
      "80/80 [==============================] - 0s 85us/step - loss: 0.3632 - accuracy: 0.8750 - val_loss: 0.3250 - val_accuracy: 0.9000\n",
      "Epoch 29/115\n",
      "80/80 [==============================] - 0s 73us/step - loss: 0.3585 - accuracy: 0.8750 - val_loss: 0.3196 - val_accuracy: 0.9000\n",
      "Epoch 30/115\n",
      "80/80 [==============================] - 0s 61us/step - loss: 0.3546 - accuracy: 0.8750 - val_loss: 0.3145 - val_accuracy: 0.9000\n",
      "Epoch 31/115\n",
      "80/80 [==============================] - 0s 49us/step - loss: 0.3504 - accuracy: 0.8750 - val_loss: 0.3099 - val_accuracy: 0.9000\n",
      "Epoch 32/115\n",
      "80/80 [==============================] - 0s 85us/step - loss: 0.3464 - accuracy: 0.8750 - val_loss: 0.3054 - val_accuracy: 0.9000\n",
      "Epoch 33/115\n",
      "80/80 [==============================] - 0s 49us/step - loss: 0.3429 - accuracy: 0.8750 - val_loss: 0.3011 - val_accuracy: 0.9000\n",
      "Epoch 34/115\n",
      "80/80 [==============================] - 0s 49us/step - loss: 0.3395 - accuracy: 0.8750 - val_loss: 0.2971 - val_accuracy: 0.9000\n",
      "Epoch 35/115\n",
      "80/80 [==============================] - 0s 85us/step - loss: 0.3362 - accuracy: 0.8750 - val_loss: 0.2933 - val_accuracy: 0.9000\n",
      "Epoch 36/115\n",
      "80/80 [==============================] - 0s 61us/step - loss: 0.3333 - accuracy: 0.8750 - val_loss: 0.2896 - val_accuracy: 0.9000\n",
      "Epoch 37/115\n",
      "80/80 [==============================] - 0s 85us/step - loss: 0.3304 - accuracy: 0.8750 - val_loss: 0.2860 - val_accuracy: 0.9000\n",
      "Epoch 38/115\n",
      "80/80 [==============================] - 0s 61us/step - loss: 0.3279 - accuracy: 0.8750 - val_loss: 0.2827 - val_accuracy: 0.9000\n",
      "Epoch 39/115\n",
      "80/80 [==============================] - 0s 73us/step - loss: 0.3250 - accuracy: 0.8750 - val_loss: 0.2797 - val_accuracy: 0.9000\n",
      "Epoch 40/115\n",
      "80/80 [==============================] - 0s 73us/step - loss: 0.3225 - accuracy: 0.8750 - val_loss: 0.2770 - val_accuracy: 0.9000\n",
      "Epoch 41/115\n",
      "80/80 [==============================] - 0s 61us/step - loss: 0.3200 - accuracy: 0.8750 - val_loss: 0.2744 - val_accuracy: 0.9000\n",
      "Epoch 42/115\n",
      "80/80 [==============================] - 0s 73us/step - loss: 0.3176 - accuracy: 0.8750 - val_loss: 0.2719 - val_accuracy: 0.9000\n",
      "Epoch 43/115\n",
      "80/80 [==============================] - 0s 73us/step - loss: 0.3155 - accuracy: 0.8750 - val_loss: 0.2693 - val_accuracy: 0.9000\n",
      "Epoch 44/115\n",
      "80/80 [==============================] - 0s 61us/step - loss: 0.3134 - accuracy: 0.8750 - val_loss: 0.2671 - val_accuracy: 0.9000\n",
      "Epoch 45/115\n",
      "80/80 [==============================] - 0s 85us/step - loss: 0.3113 - accuracy: 0.8750 - val_loss: 0.2652 - val_accuracy: 0.9000\n",
      "Epoch 46/115\n",
      "80/80 [==============================] - 0s 86us/step - loss: 0.3091 - accuracy: 0.8750 - val_loss: 0.2635 - val_accuracy: 0.9000\n",
      "Epoch 47/115\n",
      "80/80 [==============================] - 0s 61us/step - loss: 0.3071 - accuracy: 0.8750 - val_loss: 0.2619 - val_accuracy: 0.9000\n",
      "Epoch 48/115\n",
      "80/80 [==============================] - 0s 61us/step - loss: 0.3053 - accuracy: 0.8750 - val_loss: 0.2604 - val_accuracy: 0.9000\n",
      "Epoch 49/115\n",
      "80/80 [==============================] - 0s 61us/step - loss: 0.3032 - accuracy: 0.8750 - val_loss: 0.2590 - val_accuracy: 0.9000\n",
      "Epoch 50/115\n",
      "80/80 [==============================] - 0s 73us/step - loss: 0.3013 - accuracy: 0.8750 - val_loss: 0.2574 - val_accuracy: 0.9000\n",
      "Epoch 51/115\n",
      "80/80 [==============================] - 0s 61us/step - loss: 0.2993 - accuracy: 0.8750 - val_loss: 0.2557 - val_accuracy: 0.9000\n",
      "Epoch 52/115\n",
      "80/80 [==============================] - 0s 73us/step - loss: 0.2974 - accuracy: 0.8750 - val_loss: 0.2539 - val_accuracy: 0.9000\n",
      "Epoch 53/115\n",
      "80/80 [==============================] - 0s 85us/step - loss: 0.2958 - accuracy: 0.8750 - val_loss: 0.2521 - val_accuracy: 0.9000\n",
      "Epoch 54/115\n",
      "80/80 [==============================] - 0s 73us/step - loss: 0.2939 - accuracy: 0.8750 - val_loss: 0.2505 - val_accuracy: 0.9000\n",
      "Epoch 55/115\n",
      "80/80 [==============================] - 0s 73us/step - loss: 0.2921 - accuracy: 0.8750 - val_loss: 0.2490 - val_accuracy: 0.9000\n",
      "Epoch 56/115\n",
      "80/80 [==============================] - 0s 73us/step - loss: 0.2903 - accuracy: 0.8750 - val_loss: 0.2477 - val_accuracy: 0.9000\n",
      "Epoch 57/115\n",
      "80/80 [==============================] - 0s 73us/step - loss: 0.2884 - accuracy: 0.8750 - val_loss: 0.2465 - val_accuracy: 0.9000\n",
      "Epoch 58/115\n",
      "80/80 [==============================] - 0s 61us/step - loss: 0.2867 - accuracy: 0.8750 - val_loss: 0.2455 - val_accuracy: 0.9000\n",
      "Epoch 59/115\n",
      "80/80 [==============================] - 0s 61us/step - loss: 0.2849 - accuracy: 0.8750 - val_loss: 0.2444 - val_accuracy: 0.9000\n",
      "Epoch 60/115\n",
      "80/80 [==============================] - 0s 98us/step - loss: 0.2830 - accuracy: 0.8750 - val_loss: 0.2431 - val_accuracy: 0.9000\n",
      "Epoch 61/115\n",
      "80/80 [==============================] - 0s 61us/step - loss: 0.2812 - accuracy: 0.8750 - val_loss: 0.2417 - val_accuracy: 0.9000\n",
      "Epoch 62/115\n",
      "80/80 [==============================] - 0s 85us/step - loss: 0.2794 - accuracy: 0.8750 - val_loss: 0.2405 - val_accuracy: 0.9000\n",
      "Epoch 63/115\n",
      "80/80 [==============================] - 0s 49us/step - loss: 0.2780 - accuracy: 0.8750 - val_loss: 0.2392 - val_accuracy: 0.9000\n",
      "Epoch 64/115\n",
      "80/80 [==============================] - 0s 61us/step - loss: 0.2760 - accuracy: 0.8750 - val_loss: 0.2380 - val_accuracy: 0.9000\n",
      "Epoch 65/115\n",
      "80/80 [==============================] - 0s 73us/step - loss: 0.2746 - accuracy: 0.8750 - val_loss: 0.2368 - val_accuracy: 0.9000\n",
      "Epoch 66/115\n",
      "80/80 [==============================] - 0s 61us/step - loss: 0.2727 - accuracy: 0.8750 - val_loss: 0.2357 - val_accuracy: 0.9000\n",
      "Epoch 67/115\n",
      "80/80 [==============================] - 0s 73us/step - loss: 0.2714 - accuracy: 0.8750 - val_loss: 0.2347 - val_accuracy: 0.9000\n",
      "Epoch 68/115\n",
      "80/80 [==============================] - 0s 61us/step - loss: 0.2699 - accuracy: 0.8750 - val_loss: 0.2334 - val_accuracy: 0.9000\n",
      "Epoch 69/115\n",
      "80/80 [==============================] - 0s 86us/step - loss: 0.2683 - accuracy: 0.8750 - val_loss: 0.2321 - val_accuracy: 0.9000\n",
      "Epoch 70/115\n",
      "80/80 [==============================] - 0s 49us/step - loss: 0.2668 - accuracy: 0.8750 - val_loss: 0.2309 - val_accuracy: 0.9000\n",
      "Epoch 71/115\n",
      "80/80 [==============================] - 0s 61us/step - loss: 0.2652 - accuracy: 0.8750 - val_loss: 0.2300 - val_accuracy: 0.9000\n",
      "Epoch 72/115\n",
      "80/80 [==============================] - 0s 61us/step - loss: 0.2637 - accuracy: 0.8750 - val_loss: 0.2292 - val_accuracy: 0.9000\n",
      "Epoch 73/115\n",
      "80/80 [==============================] - 0s 49us/step - loss: 0.2623 - accuracy: 0.8750 - val_loss: 0.2283 - val_accuracy: 0.9000\n",
      "Epoch 74/115\n",
      "80/80 [==============================] - 0s 73us/step - loss: 0.2607 - accuracy: 0.8750 - val_loss: 0.2273 - val_accuracy: 0.9000\n",
      "Epoch 75/115\n",
      "80/80 [==============================] - 0s 61us/step - loss: 0.2592 - accuracy: 0.8750 - val_loss: 0.2265 - val_accuracy: 0.9000\n",
      "Epoch 76/115\n",
      "80/80 [==============================] - 0s 85us/step - loss: 0.2577 - accuracy: 0.8750 - val_loss: 0.2256 - val_accuracy: 0.9000\n",
      "Epoch 77/115\n",
      "80/80 [==============================] - 0s 61us/step - loss: 0.2562 - accuracy: 0.8750 - val_loss: 0.2248 - val_accuracy: 0.9000\n",
      "Epoch 78/115\n",
      "80/80 [==============================] - 0s 73us/step - loss: 0.2550 - accuracy: 0.8750 - val_loss: 0.2240 - val_accuracy: 0.9000\n",
      "Epoch 79/115\n",
      "80/80 [==============================] - 0s 61us/step - loss: 0.2535 - accuracy: 0.8750 - val_loss: 0.2232 - val_accuracy: 0.9000\n",
      "Epoch 80/115\n",
      "80/80 [==============================] - 0s 73us/step - loss: 0.2522 - accuracy: 0.8750 - val_loss: 0.2221 - val_accuracy: 0.9000\n",
      "Epoch 81/115\n",
      "80/80 [==============================] - 0s 61us/step - loss: 0.2509 - accuracy: 0.8750 - val_loss: 0.2208 - val_accuracy: 0.9000\n",
      "Epoch 82/115\n",
      "80/80 [==============================] - 0s 85us/step - loss: 0.2496 - accuracy: 0.8750 - val_loss: 0.2197 - val_accuracy: 0.9000\n",
      "Epoch 83/115\n",
      "80/80 [==============================] - 0s 61us/step - loss: 0.2483 - accuracy: 0.8750 - val_loss: 0.2188 - val_accuracy: 0.9000\n",
      "Epoch 84/115\n",
      "80/80 [==============================] - 0s 73us/step - loss: 0.2469 - accuracy: 0.8750 - val_loss: 0.2180 - val_accuracy: 0.9000\n",
      "Epoch 85/115\n",
      "80/80 [==============================] - 0s 61us/step - loss: 0.2456 - accuracy: 0.8750 - val_loss: 0.2171 - val_accuracy: 0.9000\n",
      "Epoch 86/115\n",
      "80/80 [==============================] - 0s 73us/step - loss: 0.2442 - accuracy: 0.8750 - val_loss: 0.2162 - val_accuracy: 0.9000\n",
      "Epoch 87/115\n",
      "80/80 [==============================] - 0s 73us/step - loss: 0.2430 - accuracy: 0.8750 - val_loss: 0.2152 - val_accuracy: 0.9000\n",
      "Epoch 88/115\n",
      "80/80 [==============================] - 0s 61us/step - loss: 0.2417 - accuracy: 0.8750 - val_loss: 0.2141 - val_accuracy: 0.9000\n",
      "Epoch 89/115\n",
      "80/80 [==============================] - 0s 85us/step - loss: 0.2405 - accuracy: 0.8750 - val_loss: 0.2132 - val_accuracy: 0.9000\n",
      "Epoch 90/115\n",
      "80/80 [==============================] - 0s 73us/step - loss: 0.2392 - accuracy: 0.8750 - val_loss: 0.2125 - val_accuracy: 0.9000\n",
      "Epoch 91/115\n",
      "80/80 [==============================] - 0s 73us/step - loss: 0.2377 - accuracy: 0.8750 - val_loss: 0.2121 - val_accuracy: 0.9000\n",
      "Epoch 92/115\n",
      "80/80 [==============================] - 0s 122us/step - loss: 0.2363 - accuracy: 0.8750 - val_loss: 0.2118 - val_accuracy: 0.9000\n",
      "Epoch 93/115\n",
      "80/80 [==============================] - 0s 73us/step - loss: 0.2349 - accuracy: 0.8750 - val_loss: 0.2116 - val_accuracy: 0.9000\n",
      "Epoch 94/115\n",
      "80/80 [==============================] - 0s 61us/step - loss: 0.2335 - accuracy: 0.8750 - val_loss: 0.2111 - val_accuracy: 0.9000\n",
      "Epoch 95/115\n",
      "80/80 [==============================] - 0s 110us/step - loss: 0.2322 - accuracy: 0.8750 - val_loss: 0.2103 - val_accuracy: 0.9000\n",
      "Epoch 96/115\n",
      "80/80 [==============================] - 0s 73us/step - loss: 0.2307 - accuracy: 0.8875 - val_loss: 0.2095 - val_accuracy: 0.9000\n",
      "Epoch 97/115\n",
      "80/80 [==============================] - 0s 98us/step - loss: 0.2294 - accuracy: 0.8875 - val_loss: 0.2091 - val_accuracy: 0.9000\n",
      "Epoch 98/115\n",
      "80/80 [==============================] - 0s 98us/step - loss: 0.2279 - accuracy: 0.9000 - val_loss: 0.2090 - val_accuracy: 0.9000\n",
      "Epoch 99/115\n",
      "80/80 [==============================] - 0s 73us/step - loss: 0.2267 - accuracy: 0.9000 - val_loss: 0.2089 - val_accuracy: 0.9000\n",
      "Epoch 100/115\n",
      "80/80 [==============================] - 0s 110us/step - loss: 0.2255 - accuracy: 0.9000 - val_loss: 0.2088 - val_accuracy: 0.9000\n",
      "Epoch 101/115\n",
      "80/80 [==============================] - 0s 85us/step - loss: 0.2242 - accuracy: 0.9000 - val_loss: 0.2087 - val_accuracy: 0.9000\n",
      "Epoch 102/115\n",
      "80/80 [==============================] - 0s 85us/step - loss: 0.2228 - accuracy: 0.9000 - val_loss: 0.2084 - val_accuracy: 0.9000\n",
      "Epoch 103/115\n",
      "80/80 [==============================] - 0s 73us/step - loss: 0.2215 - accuracy: 0.9000 - val_loss: 0.2081 - val_accuracy: 0.9000\n",
      "Epoch 104/115\n",
      "80/80 [==============================] - 0s 98us/step - loss: 0.2203 - accuracy: 0.9000 - val_loss: 0.2076 - val_accuracy: 0.9000\n",
      "Epoch 105/115\n",
      "80/80 [==============================] - 0s 122us/step - loss: 0.2189 - accuracy: 0.9000 - val_loss: 0.2067 - val_accuracy: 0.9500\n",
      "Epoch 106/115\n",
      "80/80 [==============================] - 0s 98us/step - loss: 0.2177 - accuracy: 0.9000 - val_loss: 0.2058 - val_accuracy: 0.9500\n",
      "Epoch 107/115\n",
      "80/80 [==============================] - 0s 98us/step - loss: 0.2165 - accuracy: 0.9000 - val_loss: 0.2050 - val_accuracy: 0.9500\n",
      "Epoch 108/115\n",
      "80/80 [==============================] - 0s 122us/step - loss: 0.2153 - accuracy: 0.9000 - val_loss: 0.2043 - val_accuracy: 0.9500\n",
      "Epoch 109/115\n",
      "80/80 [==============================] - 0s 98us/step - loss: 0.2141 - accuracy: 0.9000 - val_loss: 0.2037 - val_accuracy: 0.9500\n",
      "Epoch 110/115\n",
      "80/80 [==============================] - 0s 85us/step - loss: 0.2127 - accuracy: 0.9000 - val_loss: 0.2029 - val_accuracy: 0.9500\n",
      "Epoch 111/115\n",
      "80/80 [==============================] - 0s 98us/step - loss: 0.2115 - accuracy: 0.9000 - val_loss: 0.2021 - val_accuracy: 0.9500\n",
      "Epoch 112/115\n",
      "80/80 [==============================] - 0s 61us/step - loss: 0.2104 - accuracy: 0.9000 - val_loss: 0.2012 - val_accuracy: 0.9500\n",
      "Epoch 113/115\n"
     ]
    },
    {
     "name": "stdout",
     "output_type": "stream",
     "text": [
      "80/80 [==============================] - 0s 85us/step - loss: 0.2092 - accuracy: 0.9000 - val_loss: 0.2001 - val_accuracy: 0.9500\n",
      "Epoch 114/115\n",
      "80/80 [==============================] - 0s 73us/step - loss: 0.2081 - accuracy: 0.9000 - val_loss: 0.1990 - val_accuracy: 0.9500\n",
      "Epoch 115/115\n",
      "80/80 [==============================] - 0s 110us/step - loss: 0.2071 - accuracy: 0.9000 - val_loss: 0.1980 - val_accuracy: 0.9500\n"
     ]
    }
   ],
   "source": [
    "history =model.fit(X_train, Y_train, validation_data=(X_test,Y_test),epochs=115, batch_size=64)"
   ]
  },
  {
   "cell_type": "code",
   "execution_count": 13,
   "metadata": {},
   "outputs": [
    {
     "name": "stdout",
     "output_type": "stream",
     "text": [
      "\r",
      "20/20 [==============================] - 0s 49us/step\n"
     ]
    },
    {
     "data": {
      "text/plain": [
       "[0.19803692400455475, 0.949999988079071]"
      ]
     },
     "execution_count": 13,
     "metadata": {},
     "output_type": "execute_result"
    }
   ],
   "source": [
    "acc_testing = model.evaluate(X_test, Y_test)\n",
    "acc_testing"
   ]
  },
  {
   "cell_type": "code",
   "execution_count": 14,
   "metadata": {},
   "outputs": [],
   "source": [
    "import matplotlib.pyplot as plt"
   ]
  },
  {
   "cell_type": "code",
   "execution_count": 15,
   "metadata": {},
   "outputs": [
    {
     "data": {
      "image/png": "[encoded data removed]",
      "text/plain": [
       "<Figure size 432x288 with 1 Axes>"
      ]
     },
     "metadata": {
      "needs_background": "light"
     },
     "output_type": "display_data"
    }
   ],
   "source": [
    "plt.plot(history.history['accuracy'])\n",
    "plt.plot(history.history['val_accuracy'])\n",
    "plt.title('model accuracy')\n",
    "plt.ylabel('Akurasi')\n",
    "plt.xlabel('Epoch')\n",
    "plt.legend(['Data Training', 'Data Testing'], loc='upper left')\n",
    "plt.show()"
   ]
  },
  {
   "cell_type": "code",
   "execution_count": 16,
   "metadata": {
    "scrolled": true
   },
   "outputs": [
    {
     "data": {
      "image/png": "[encoded data removed]",
      "text/plain": [
       "<Figure size 432x288 with 1 Axes>"
      ]
     },
     "metadata": {
      "needs_background": "light"
     },
     "output_type": "display_data"
    }
   ],
   "source": [
    "plt.plot(history.history['loss'])\n",
    "plt.plot(history.history['val_loss'])\n",
    "plt.title('Model Loss')\n",
    "plt.ylabel('Loss')\n",
    "plt.xlabel('Epoch')\n",
    "plt.legend(['Data Training', 'Data Testing'], loc='upper left')\n",
    "plt.show()"
   ]
  },
  {
   "cell_type": "markdown",
   "metadata": {},
   "source": [
    "## Pengujian kinerja algoritma dengan Confusion Matrix\n",
    "\n",
    "\n",
    "<div style=\"text-align: justify\"><br>Confusion matrix adalah suatu metode yang biasanya digunakan untuk melakukan perhitungan akurasi pada konsep data mining atau Sistem Pendukung Keputusan. Pada pengukuran kinerja menggunakan confusion matrix, terdapat 4 (empat) istilah sebagai representasi hasil proses klasifikasi. Keempat istilah tersebut adalah True Positive (TP), True Negative (TN), False Positive (FP) dan False Negative (FN). Nilai True Negative (TN) merupakan jumlah data negatif yang terdeteksi dengan benar, sedangkan False Positive (FP) merupakan data negatif namun terdeteksi sebagai data positif. Sementara itu, True Positive (TP) merupakan data positif yang terdeteksi benar. False Negative (FN) merupakan kebalikan dari True Positive, sehingga data posifit, namun terdeteksi sebagai data negatif.<\\div>"
   ]
  },
  {
   "cell_type": "code",
   "execution_count": 17,
   "metadata": {},
   "outputs": [],
   "source": [
    "# Predict test label\n",
    "y_pred = model.predict_classes(X_test)"
   ]
  },
  {
   "cell_type": "markdown",
   "metadata": {},
   "source": [
    "Penjelasan singkatan-singkatan pada confusion matrix. \n",
    "\n",
    "TP adalah True Positive yaitu jumlah data positif yang terkklasifikasi dengan benar oleh sistem.\n",
    "\n",
    "TN adalah True Negative, yaitu jumlah data negatif yang terklasifikasi dengan benar oleh sistem.\n",
    "\n",
    "FN adalah False Negative, yaitu jumlah data negatif namun terklasifikasi salah oleh sistem.\n",
    "\n",
    "FP adalah False Positive, yaitu jumlah data positif namun terklasifikasi salah oleh sistem.\n",
    "\n",
    "<div style=\"text-align: justify\"><br>Perhatikan Hasil Confusion Matrix di bawah ini. Dapat kita lihat nilai dari <b>TP adalah 18, FP adalah 0 berarti pembacaan data Positif terbaca semua tanpa satupun error, lalu pada pembacaan data TN adalah 1, FN adalah 1 yang berarti pembacaan data negatif pada sistem terbaca benar 1 dan salah satu.<\\b><\\div>"
   ]
  },
  {
   "cell_type": "code",
   "execution_count": 18,
   "metadata": {},
   "outputs": [
    {
     "name": "stdout",
     "output_type": "stream",
     "text": [
      "Confussion matriks:\n",
      " [[18  0]\n",
      " [ 1  1]]\n"
     ]
    }
   ],
   "source": [
    "from sklearn.metrics import confusion_matrix\n",
    "\n",
    "cm = confusion_matrix(Y_test, y_pred)\n",
    "tp = cm[0,0]\n",
    "tn = cm[1,1]\n",
    "fp = cm[0,1]\n",
    "fn = cm[1,0]\n",
    "print (\"Confussion matriks:\\n\",cm)"
   ]
  },
  {
   "cell_type": "markdown",
   "metadata": {},
   "source": [
    "Nah pada line di bawah ini tiap-tiap variabel yang dimunculkan ada artinya tersendiri.\n",
    "\n",
    "Presisi adalah data yang diambil berdasarkan informasi yang kurang dalam klasifikasi biner, presisi dapat dibuat sama dengan nilai prediksi positif\n",
    "\n",
    "Recall adalah data penghapusan yang berhasil diambil dari data yang relevan dengan kueri. Dalam klasifikasi biner, recall dikenal sebagai sensitivitas. Munculnya data relevan yang diambil adalah menyetujui dengan query dapat dilihat dengan recall.\n",
    "\n",
    "Akurasi adalah persentase dari total data yang diidentifikasi dan dinilai."
   ]
  },
  {
   "cell_type": "code",
   "execution_count": 19,
   "metadata": {},
   "outputs": [
    {
     "name": "stdout",
     "output_type": "stream",
     "text": [
      "precesion :  1.0\n",
      "recall :  0.9473684210526315\n",
      "F1 :  0.972972972972973\n",
      "sensitivity :  0.9473684210526315\n",
      "akurasi :  0.95\n"
     ]
    }
   ],
   "source": [
    "precision = tp / ( tp + fp)\n",
    "recall = tp/(tp+fn)\n",
    "f1=(2*precision*recall)/ (precision+recall)\n",
    "akurasi = (tp+tn)/(tp+tn+fp+fn)\n",
    "Sensitivity = tp/(tp + fn)\n",
    "\n",
    "#menampilkan\n",
    "print (\"precesion : \",precision)\n",
    "print(\"recall : \",recall)\n",
    "print (\"F1 : \",f1)\n",
    "print(\"sensitivity : \",Sensitivity )\n",
    "print(\"akurasi : \",akurasi)"
   ]
  },
  {
   "cell_type": "code",
   "execution_count": 20,
   "metadata": {},
   "outputs": [],
   "source": [
    "# Calculate Precision, Recall, F1 Score (class 0)\n",
    "from sklearn.metrics import classification_report\n",
    "report = classification_report(Y_test, y_pred)"
   ]
  },
  {
   "cell_type": "code",
   "execution_count": 21,
   "metadata": {},
   "outputs": [
    {
     "name": "stdout",
     "output_type": "stream",
     "text": [
      "              precision    recall  f1-score   support\n",
      "\n",
      "           0       0.95      1.00      0.97        18\n",
      "           1       1.00      0.50      0.67         2\n",
      "\n",
      "    accuracy                           0.95        20\n",
      "   macro avg       0.97      0.75      0.82        20\n",
      "weighted avg       0.95      0.95      0.94        20\n",
      "\n"
     ]
    }
   ],
   "source": [
    "print(report)"
   ]
  }
 ],
 "metadata": {
  "kernelspec": {
   "display_name": "Python 3",
   "language": "python",
   "name": "python3"
  },
  "language_info": {
   "codemirror_mode": {
    "name": "ipython",
    "version": 3
   },
   "file_extension": ".py",
   "mimetype": "text/x-python",
   "name": "python",
   "nbconvert_exporter": "python",
   "pygments_lexer": "ipython3",
   "version": "3.7.4"
  }
 },
 "nbformat": 4,
 "nbformat_minor": 2
}
