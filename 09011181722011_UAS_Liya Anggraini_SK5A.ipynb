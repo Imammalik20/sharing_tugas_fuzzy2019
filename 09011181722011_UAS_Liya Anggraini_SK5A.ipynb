{
 "cells": [
  {
   "cell_type": "markdown",
   "metadata": {},
   "source": [
    "<div class=\"alert alert-success\">\n",
    "<h3><center>\"Banknote Classification Using Artificial Neural Network Approach\"<center> </h2>\n",
    "<ul>\n",
    "<li style=\"text-align: left;\">\n",
    "<h3><strong>NAMA &emsp; &emsp;&emsp; &emsp; &emsp; &emsp;: LIYA ANGGRAINI</strong></h3>\n",
    "</li>\n",
    "<li style=\"text-align: left;\">\n",
    "<h3><strong>NIM &emsp;&emsp;&emsp;&emsp;&emsp;&emsp;&emsp;&emsp; : 09011181722011</strong></h3>\n",
    "</li>\n",
    "<li style=\"text-align: left;\">\n",
    "<h3><strong>KELAS &emsp;&emsp;&emsp;&emsp;&emsp;&emsp;&ensp; : SK 5A</strong></h3>\n",
    "</li>\n",
    "<li style=\"text-align: left;\">\n",
    "<h3><strong>JURUSAN &emsp;&emsp;&emsp;&emsp;&emsp;&nbsp;: SISTEM KOMPUTER</strong></h3>\n",
    "</li>\n",
    "<li style=\"text-align: left;\">\n",
    "<h3><strong>MATA KULIAH &emsp;&emsp;&emsp; : KECERDASAN BUATAN</strong></h3>\n",
    "</li>\n",
    "<li style=\"text-align: left;\">\n",
    "<h3><strong>DOSEN PENGAMPUH: Prof. Dr. Ir. Siti Nurmaini, M.T.</strong></h3>\n",
    "</li>\n",
    "</ul>\n",
    "</div>"
   ]
  },
  {
   "cell_type": "markdown",
   "metadata": {},
   "source": [
    "# DATASET\n",
    "\n",
    "Link Dataset : https://archive.ics.uci.edu/ml/datasets/banknote+authentication\n",
    "\n",
    "Link Jurnal : https://www.researchgate.net/publication/303557354_Banknote_Classification_Using_Artificial_Neural_Network_Approach"
   ]
  },
  {
   "cell_type": "markdown",
   "metadata": {},
   "source": [
    "## IMPORT PACKAGES\n",
    "* Keras Applications adalah salah satu modul dalam pustaka Keras yang menyediakan arsitektur berbagai model Deep Learning ternama. Model-model itu sudah dilatih out of the box. Dengan kata lain, menggunakan Keras Applications sama halnya membuat sistem cerdas\n",
    "* Numpy berfungsi untuk melakukan beberapa fungsi matematika seperti array, dan matriks. Pada program ini numpy digunakan untuk generate array untuk membuat grafik confusion matriks\n",
    "* Pandas berfungsi untuk Load Dataset, karena pandas lebih baik untuk load data dengan skala besar\n",
    "* Matplotlib.pyplot berungsi untuk membuat suatu gambar, membuat sebuah plotting area pada gambar, membuat garis pada plotting area, dan-lain-lain\n",
    "* Seaborn untuk plot grafik distribusi nilai dari Class (output), modul ini berbasis matplotlib.\n",
    "* Sklearn adalah salah satu modul utama yang digunakan untuk mengolah data Machine Learning seperti preprocessing, dan lainnya\n",
    "* Paket sklearn.preprocessing menyediakan beberapa fungsi utilitas umum dan kelas transformator untuk mengubah vektor fitur mentah menjadi representasi yang lebih sesuai untuk downstream estimator. Dalam hali ini diimportkan StandardScaler dan MinMaxScaler."
   ]
  },
  {
   "cell_type": "code",
   "execution_count": 31,
   "metadata": {},
   "outputs": [],
   "source": [
    "from keras.models import Sequential #library untuk model lapisan bertumpuk\n",
    "from keras.layers import Dense #library untuk menambahkan layer\n",
    "from sklearn.linear_model import LinearRegression #library untuk regresi linear\n",
    "import matplotlib.pyplot as plt #library untuk membuat plot\n",
    "from sklearn.model_selection import train_test_split #library untuk membagi data\n",
    "import numpy as np #library untuk komputasi array\n",
    "import pandas as pd #library untuk mengolah data\n",
    "from keras.optimizers import Adam\n",
    "from keras.activations import relu\n",
    "import seaborn as s\n",
    "from sklearn.utils import resample\n",
    "from sklearn.preprocessing import MinMaxScaler\n",
    "from sklearn.preprocessing import MinMaxScaler, OneHotEncoder"
   ]
  },
  {
   "cell_type": "markdown",
   "metadata": {},
   "source": [
    "# IMPORT DATASET"
   ]
  },
  {
   "cell_type": "code",
   "execution_count": 32,
   "metadata": {
    "scrolled": true
   },
   "outputs": [],
   "source": [
    "#import dataset dengan pandas\n",
    "dataset = pd.read_csv(\"C:/Users/User/Documents/UAS AI/NN/banknote.txt\")"
   ]
  },
  {
   "cell_type": "code",
   "execution_count": 33,
   "metadata": {},
   "outputs": [
    {
     "name": "stdout",
     "output_type": "stream",
     "text": [
      "<class 'pandas.core.frame.DataFrame'>\n",
      "RangeIndex: 1372 entries, 0 to 1371\n",
      "Data columns (total 5 columns):\n",
      "varience    1372 non-null float64\n",
      "skewness    1372 non-null float64\n",
      "curtosis    1372 non-null float64\n",
      "entropy     1372 non-null float64\n",
      "target      1372 non-null int64\n",
      "dtypes: float64(4), int64(1)\n",
      "memory usage: 53.7 KB\n"
     ]
    }
   ],
   "source": [
    "dataset.info()"
   ]
  },
  {
   "cell_type": "code",
   "execution_count": 34,
   "metadata": {},
   "outputs": [
    {
     "data": {
      "text/html": [
       "<div>\n",
       "<style scoped>\n",
       "    .dataframe tbody tr th:only-of-type {\n",
       "        vertical-align: middle;\n",
       "    }\n",
       "\n",
       "    .dataframe tbody tr th {\n",
       "        vertical-align: top;\n",
       "    }\n",
       "\n",
       "    .dataframe thead th {\n",
       "        text-align: right;\n",
       "    }\n",
       "</style>\n",
       "<table border=\"1\" class=\"dataframe\">\n",
       "  <thead>\n",
       "    <tr style=\"text-align: right;\">\n",
       "      <th></th>\n",
       "      <th>varience</th>\n",
       "      <th>skewness</th>\n",
       "      <th>curtosis</th>\n",
       "      <th>entropy</th>\n",
       "      <th>target</th>\n",
       "    </tr>\n",
       "  </thead>\n",
       "  <tbody>\n",
       "    <tr>\n",
       "      <th>1367</th>\n",
       "      <td>0.40614</td>\n",
       "      <td>1.34920</td>\n",
       "      <td>-1.4501</td>\n",
       "      <td>-0.55949</td>\n",
       "      <td>1</td>\n",
       "    </tr>\n",
       "    <tr>\n",
       "      <th>1368</th>\n",
       "      <td>-1.38870</td>\n",
       "      <td>-4.87730</td>\n",
       "      <td>6.4774</td>\n",
       "      <td>0.34179</td>\n",
       "      <td>1</td>\n",
       "    </tr>\n",
       "    <tr>\n",
       "      <th>1369</th>\n",
       "      <td>-3.75030</td>\n",
       "      <td>-13.45860</td>\n",
       "      <td>17.5932</td>\n",
       "      <td>-2.77710</td>\n",
       "      <td>1</td>\n",
       "    </tr>\n",
       "    <tr>\n",
       "      <th>1370</th>\n",
       "      <td>-3.56370</td>\n",
       "      <td>-8.38270</td>\n",
       "      <td>12.3930</td>\n",
       "      <td>-1.28230</td>\n",
       "      <td>1</td>\n",
       "    </tr>\n",
       "    <tr>\n",
       "      <th>1371</th>\n",
       "      <td>-2.54190</td>\n",
       "      <td>-0.65804</td>\n",
       "      <td>2.6842</td>\n",
       "      <td>1.19520</td>\n",
       "      <td>1</td>\n",
       "    </tr>\n",
       "  </tbody>\n",
       "</table>\n",
       "</div>"
      ],
      "text/plain": [
       "      varience  skewness  curtosis  entropy  target\n",
       "1367   0.40614   1.34920   -1.4501 -0.55949       1\n",
       "1368  -1.38870  -4.87730    6.4774  0.34179       1\n",
       "1369  -3.75030 -13.45860   17.5932 -2.77710       1\n",
       "1370  -3.56370  -8.38270   12.3930 -1.28230       1\n",
       "1371  -2.54190  -0.65804    2.6842  1.19520       1"
      ]
     },
     "execution_count": 34,
     "metadata": {},
     "output_type": "execute_result"
    }
   ],
   "source": [
    "dataset.tail() #mencetak 5 baris dataset terakhir"
   ]
  },
  {
   "cell_type": "code",
   "execution_count": 35,
   "metadata": {},
   "outputs": [
    {
     "data": {
      "text/html": [
       "<div>\n",
       "<style scoped>\n",
       "    .dataframe tbody tr th:only-of-type {\n",
       "        vertical-align: middle;\n",
       "    }\n",
       "\n",
       "    .dataframe tbody tr th {\n",
       "        vertical-align: top;\n",
       "    }\n",
       "\n",
       "    .dataframe thead th {\n",
       "        text-align: right;\n",
       "    }\n",
       "</style>\n",
       "<table border=\"1\" class=\"dataframe\">\n",
       "  <thead>\n",
       "    <tr style=\"text-align: right;\">\n",
       "      <th></th>\n",
       "      <th>varience</th>\n",
       "      <th>skewness</th>\n",
       "      <th>curtosis</th>\n",
       "      <th>entropy</th>\n",
       "      <th>target</th>\n",
       "    </tr>\n",
       "  </thead>\n",
       "  <tbody>\n",
       "    <tr>\n",
       "      <th>count</th>\n",
       "      <td>1372.000000</td>\n",
       "      <td>1372.000000</td>\n",
       "      <td>1372.000000</td>\n",
       "      <td>1372.000000</td>\n",
       "      <td>1372.000000</td>\n",
       "    </tr>\n",
       "    <tr>\n",
       "      <th>mean</th>\n",
       "      <td>0.433735</td>\n",
       "      <td>1.922353</td>\n",
       "      <td>1.397627</td>\n",
       "      <td>-1.191657</td>\n",
       "      <td>0.444606</td>\n",
       "    </tr>\n",
       "    <tr>\n",
       "      <th>std</th>\n",
       "      <td>2.842763</td>\n",
       "      <td>5.869047</td>\n",
       "      <td>4.310030</td>\n",
       "      <td>2.101013</td>\n",
       "      <td>0.497103</td>\n",
       "    </tr>\n",
       "    <tr>\n",
       "      <th>min</th>\n",
       "      <td>-7.042100</td>\n",
       "      <td>-13.773100</td>\n",
       "      <td>-5.286100</td>\n",
       "      <td>-8.548200</td>\n",
       "      <td>0.000000</td>\n",
       "    </tr>\n",
       "    <tr>\n",
       "      <th>25%</th>\n",
       "      <td>-1.773000</td>\n",
       "      <td>-1.708200</td>\n",
       "      <td>-1.574975</td>\n",
       "      <td>-2.413450</td>\n",
       "      <td>0.000000</td>\n",
       "    </tr>\n",
       "    <tr>\n",
       "      <th>50%</th>\n",
       "      <td>0.496180</td>\n",
       "      <td>2.319650</td>\n",
       "      <td>0.616630</td>\n",
       "      <td>-0.586650</td>\n",
       "      <td>0.000000</td>\n",
       "    </tr>\n",
       "    <tr>\n",
       "      <th>75%</th>\n",
       "      <td>2.821475</td>\n",
       "      <td>6.814625</td>\n",
       "      <td>3.179250</td>\n",
       "      <td>0.394810</td>\n",
       "      <td>1.000000</td>\n",
       "    </tr>\n",
       "    <tr>\n",
       "      <th>max</th>\n",
       "      <td>6.824800</td>\n",
       "      <td>12.951600</td>\n",
       "      <td>17.927400</td>\n",
       "      <td>2.449500</td>\n",
       "      <td>1.000000</td>\n",
       "    </tr>\n",
       "  </tbody>\n",
       "</table>\n",
       "</div>"
      ],
      "text/plain": [
       "          varience     skewness     curtosis      entropy       target\n",
       "count  1372.000000  1372.000000  1372.000000  1372.000000  1372.000000\n",
       "mean      0.433735     1.922353     1.397627    -1.191657     0.444606\n",
       "std       2.842763     5.869047     4.310030     2.101013     0.497103\n",
       "min      -7.042100   -13.773100    -5.286100    -8.548200     0.000000\n",
       "25%      -1.773000    -1.708200    -1.574975    -2.413450     0.000000\n",
       "50%       0.496180     2.319650     0.616630    -0.586650     0.000000\n",
       "75%       2.821475     6.814625     3.179250     0.394810     1.000000\n",
       "max       6.824800    12.951600    17.927400     2.449500     1.000000"
      ]
     },
     "execution_count": 35,
     "metadata": {},
     "output_type": "execute_result"
    }
   ],
   "source": [
    "#melihat describsi dari dataset, count: jumlah data , mean : nilai rata2, std : nilai standar deviasi dari data, min: nilai minimal, max: nilai maksimal, 25% : nilai quatile ke 1 , 50% : nilai quartile ke 2, 75% : nilai quartile ke 3\n",
    "dataset.describe()"
   ]
  },
  {
   "cell_type": "markdown",
   "metadata": {},
   "source": [
    "# Import Data Set"
   ]
  },
  {
   "cell_type": "code",
   "execution_count": 36,
   "metadata": {},
   "outputs": [],
   "source": [
    "X = dataset.iloc[:, 0:4].values #nilai variabel x diambil dari kolom 0-3 (inputan)\n",
    "y = dataset.iloc[:, 4].values #nilai variabel y diambil dari kolom ke 4 (output)"
   ]
  },
  {
   "cell_type": "code",
   "execution_count": 37,
   "metadata": {},
   "outputs": [],
   "source": [
    "#melakukan scaling dataset ini diperlukan karena jika data mempunyai skala yang jauh berbeda misal 0 - 100, maka algoritma machine learning tidak bisa bekerja secara maksimal, bahkan bisa salah, karena itu kita perlu melakukan scaling untuk merubah skala data menjadi 0 - 1\n",
    "from sklearn.preprocessing import MinMaxScaler\n",
    "scaler = MinMaxScaler()"
   ]
  },
  {
   "cell_type": "code",
   "execution_count": 38,
   "metadata": {},
   "outputs": [
    {
     "data": {
      "text/plain": [
       "array([[0.76900389, 0.83964273, 0.10678269, 0.73662766],\n",
       "       [0.83565902, 0.82098209, 0.12180412, 0.64432563],\n",
       "       [0.78662859, 0.41664827, 0.31060805, 0.78695091],\n",
       "       ...,\n",
       "       [0.23738543, 0.01176814, 0.98560321, 0.52475518],\n",
       "       [0.25084193, 0.20170105, 0.76158701, 0.6606745 ],\n",
       "       [0.32452819, 0.49074676, 0.34334762, 0.88594888]])"
      ]
     },
     "execution_count": 38,
     "metadata": {},
     "output_type": "execute_result"
    }
   ],
   "source": [
    "#rumus yang bisa kita gunakan:\n",
    "#X_std = (X - X.min(axis=0)) / (X.max(axis=0) - X.min(axis=0))\n",
    "#X_scaled = X_std * (max - min) + min\n",
    "#x_scaled akan merubah atau melakukan scaling pada nilai variabel x \n",
    "x_scaled = scaler.fit_transform(X)\n",
    "x_scaled"
   ]
  },
  {
   "cell_type": "markdown",
   "metadata": {},
   "source": [
    "## BOX PLOT\n",
    "Penyajian grafis lainnya yang bisa merangkum informasi lebih detail mengenai distribusi nilai-nilai data pengamatan adalah Box and Whisker Plots atau lebih sering disebut dengan BoxPlot. Seperti namanya, Box and Whisker, bentuknya terdiri dari Box (kotak) dan Whisker. Boxplot merupakan ringkasan distribusi sampel yang disajikan secara grafis yang bisa menggambarkan bentuk distribusi data (skewness), ukuran tendensi sentral dan ukuran penyebaran (keragaman) data pengamatan. "
   ]
  },
  {
   "cell_type": "code",
   "execution_count": 39,
   "metadata": {},
   "outputs": [
    {
     "data": {
      "text/plain": [
       "varience       AxesSubplot(0.125,0.816017;0.352273x0.0639831)\n",
       "skewness    AxesSubplot(0.547727,0.816017;0.352273x0.0639831)\n",
       "curtosis       AxesSubplot(0.125,0.739237;0.352273x0.0639831)\n",
       "entropy     AxesSubplot(0.547727,0.739237;0.352273x0.0639831)\n",
       "target         AxesSubplot(0.125,0.662458;0.352273x0.0639831)\n",
       "dtype: object"
      ]
     },
     "execution_count": 39,
     "metadata": {},
     "output_type": "execute_result"
    },
    {
     "data": {
      "image/png": "[encoded data removed]",
      "text/plain": [
       "<Figure size 1440x3960 with 20 Axes>"
      ]
     },
     "metadata": {
      "needs_background": "light"
     },
     "output_type": "display_data"
    }
   ],
   "source": [
    "#Boxplot adalah salah satu cara dalam statistik deskriptif untuk menggambarkan secara grafik dari data numeris melalui lima ukuran yaitu: 1) nilai observasi terkecil 2) kuartil terendah atau kuartil pertama (Q1), yang memotong 25 % dari data terendah; 3) median (Q2) atau nilai pertengahan; 4) kuartil tertinggi atau kuartil ketiga (Q3), yang memotong 25 % dari data tertinggi; 5) nilai observasi terbesar. Selain itu, dalam boxplot juga ditunjukkan, jika ada, nilai outlier dari observasi.\n",
    "dataset.plot(kind='box', subplots=True, layout=(10,2), sharex=False, sharey=False, figsize=(20,55))"
   ]
  },
  {
   "cell_type": "code",
   "execution_count": 40,
   "metadata": {},
   "outputs": [
    {
     "data": {
      "text/plain": [
       "(1372, 2)"
      ]
     },
     "execution_count": 40,
     "metadata": {},
     "output_type": "execute_result"
    }
   ],
   "source": [
    "#untuk mengkonversi kelas bilangan bulat menjadi kelas bilangan biner, pada kodingan ini kita melakukan konversi pada nilai keluaran, yang dimana di set menjadi dua kelas yaitu 0 atau 1 dalam biner\n",
    "from keras.utils.np_utils import to_categorical\n",
    "y_categorical = to_categorical(y)\n",
    "y_categorical.shape"
   ]
  },
  {
   "cell_type": "markdown",
   "metadata": {},
   "source": [
    "# Splitting data"
   ]
  },
  {
   "cell_type": "code",
   "execution_count": 41,
   "metadata": {},
   "outputs": [],
   "source": [
    "#membagi dataset dengan training 70% dari data dan testing 15% dari data, sisa nya akan digunakan untuk validasi,dan setiap data pilih secara acak\n",
    "X_train, X_test, y_train, y_test = train_test_split(x_scaled, y_categorical, \n",
    "                                                   train_size=0.7,\n",
    "                                                   test_size=0.15, \n",
    "                                                   random_state=7)"
   ]
  },
  {
   "cell_type": "markdown",
   "metadata": {},
   "source": [
    "<div class=\"alert alert-success\">\n",
    " <font size=\"3\"><p align=\"justify\">Pendeklarasian Variabel dengan ketentuan sebagai berikut : \n",
    "\n",
    "<ul>\n",
    "<li style=\"text-align: left;\">\n",
    "X_train = Ini adalah variabel yang akan digunakan untuk data training X\n",
    "</li>\n",
    "</ul>\n",
    "\n",
    "<ul>\n",
    "<li style=\"text-align: left;\">\n",
    "X_test = Ini adalah variabel yang akan digunakan untuk data testing X\n",
    "</li>\n",
    "</ul>\n",
    "\n",
    "<ul>\n",
    "<li style=\"text-align: left;\">\n",
    "y_train =Ini adalah variabel yang akan digunakan untuk data training Y\n",
    "</li>\n",
    "</ul>\n",
    "\n",
    "<ul>\n",
    "<li style=\"text-align: left;\">\n",
    "y_test = ini adalah variabel yang akan digunakan untuk data testing Y\n",
    "</li>\n",
    "</ul>\n",
    "\n",
    "Pada codingan di atas, saya menggunakan modul train_test_split untuk membagi data yang akan digunakan untuk testing dan training, data untuk testing sebesar 15%, dan data untuk training sebesar 70%.\n",
    "<div>"
   ]
  },
  {
   "cell_type": "code",
   "execution_count": 42,
   "metadata": {},
   "outputs": [
    {
     "name": "stdout",
     "output_type": "stream",
     "text": [
      "Training data shape :  (960, 4) (960, 2)\n",
      "Testing data shape :  (206, 4) (206, 2)\n"
     ]
    }
   ],
   "source": [
    "#mencetak ukuran data training dan testing, dimana X_train dan X_test untuk masukan, sedangkan y_train dan y_test untuk keluaran\n",
    "print('Training data shape : ', X_train.shape, y_train.shape)\n",
    "print('Testing data shape : ', X_test.shape, y_test.shape)"
   ]
  },
  {
   "cell_type": "code",
   "execution_count": 43,
   "metadata": {},
   "outputs": [
    {
     "name": "stdout",
     "output_type": "stream",
     "text": [
      "Total number of outputs :  [0. 1.]\n",
      "Output classes :  2\n"
     ]
    }
   ],
   "source": [
    "# mencetak kelas keluaran yang dihasilkan (0 atau 1)\n",
    "classes = np.unique(y_train)\n",
    "nClasses = len(classes)\n",
    "print('Total number of outputs : ', classes)\n",
    "print('Output classes : ', nClasses)"
   ]
  },
  {
   "cell_type": "markdown",
   "metadata": {},
   "source": [
    "## HISTOGRAM\n",
    "Histogram adalah plot yang memungkinkan dapat menemukan dan menunjukkan distribusi frekuensi (bentuk) yang mendasari serangkaian data.\n",
    "\n",
    "hist() befungsi untuk menemukan dan menunjukan distribusi frekuensi berdasarkan serangkaian data, dan plt.show() berfungsi untuk menampilkannya dalam bentuk grafik."
   ]
  },
  {
   "cell_type": "code",
   "execution_count": 44,
   "metadata": {},
   "outputs": [
    {
     "data": {
      "image/png": "[encoded data removed]",
      "text/plain": [
       "<Figure size 792x792 with 6 Axes>"
      ]
     },
     "metadata": {
      "needs_background": "light"
     },
     "output_type": "display_data"
    }
   ],
   "source": [
    "dataset.hist(figsize=(11,11))\n",
    "plt.show()"
   ]
  },
  {
   "cell_type": "markdown",
   "metadata": {},
   "source": [
    "## SEQUENTIAL MODEL\n",
    "Model Sekuensial adalah tumpukan lapisan linear. Dalam menentukan bentuk masukan, model perlu tahu bentuk masukan apa yang diharapkan. Lapisan pertama dalam model Sequential (dan hanya yang pertama, karena lapisan berikutnya dapat melakukan inferensi bentuk otomatis) perlu menerima informasi tentang bentuk inputnya. Kemudian untuk menambahkan lapisan cukup dengan menambahkan perintah add."
   ]
  },
  {
   "cell_type": "code",
   "execution_count": 45,
   "metadata": {},
   "outputs": [],
   "source": [
    "#membuat jaringan saraf dengan model sekuensial dengan menggunakan 4 input dengan neuron 4 fungsi aktifasi relu dan 1 hidden layer dengan neuron 10 fungsi aktifasi relu, menggunakan bias 0,4 dan 1 keluaran dengan fungsi aktifasi sigmoid, fungsi relu (f(x)= max(0,x) akan menghasil 0 atau x, apabila x ≤ 0 maka x = 0 dan apabila x > 0 maka x = x, sedangkan fungsi sigmoid (1 / (1 + exp (-x))) akan menerima angka tunggal dan mengubah nilai x menjadi sebuah nilai yang memiliki range mulai dari 0 sampai 1\n",
    "model = Sequential()\n",
    "model.add(Dense(4, input_dim=4, activation='relu', use_bias= 0.4))\n",
    "model.add(Dense(10, activation='relu', use_bias= 0.4))\n",
    "model.add(Dense(2, activation='softmax'))"
   ]
  },
  {
   "cell_type": "markdown",
   "metadata": {},
   "source": [
    "# Compile Model\n",
    "\n",
    "Model Dicompile dengan Optimizer adam dengan fungsi loss Binary Crossentropy"
   ]
  },
  {
   "cell_type": "code",
   "execution_count": 46,
   "metadata": {},
   "outputs": [],
   "source": [
    "#Sebelum melatih sebuah model, perlu mengkonfigurasi proses pembelajaran, yang dilakukan melalui metode kompilasi, untuk melihat kesalahan yang terjadi dengan menggunakan fungsi kesalahan binary cressentropy artinya fungsi loss yang kita gunakan untuk meminimalisir terjadi nya error pada jaringan , untuk pengoptimal menggunakan fungsi adam adalah variant dari algoritma gradient descent, Daftar metrik yang akan dievaluasi oleh model selama pelatihan dan pengujian. Dengan menggunakan menggunakan metrik = ['akurasi']. metric kita menggunakan akurasi untuk menentukan akurasi\n",
    "model.compile(loss='categorical_crossentropy', optimizer='adam', metrics=['accuracy'])"
   ]
  },
  {
   "cell_type": "code",
   "execution_count": 47,
   "metadata": {},
   "outputs": [
    {
     "name": "stdout",
     "output_type": "stream",
     "text": [
      "_________________________________________________________________\n",
      "Layer (type)                 Output Shape              Param #   \n",
      "=================================================================\n",
      "dense_4 (Dense)              (None, 4)                 20        \n",
      "_________________________________________________________________\n",
      "dense_5 (Dense)              (None, 10)                50        \n",
      "_________________________________________________________________\n",
      "dense_6 (Dense)              (None, 2)                 22        \n",
      "=================================================================\n",
      "Total params: 92\n",
      "Trainable params: 92\n",
      "Non-trainable params: 0\n",
      "_________________________________________________________________\n"
     ]
    }
   ],
   "source": [
    "model.summary() #menampilkan model yang kita buat"
   ]
  },
  {
   "cell_type": "code",
   "execution_count": 48,
   "metadata": {},
   "outputs": [
    {
     "name": "stdout",
     "output_type": "stream",
     "text": [
      "Train on 960 samples, validate on 206 samples\n",
      "Epoch 1/100\n",
      "960/960 [==============================] - 3s 3ms/step - loss: 0.6601 - acc: 0.5708 - val_loss: 0.6286 - val_acc: 0.6796\n",
      "Epoch 2/100\n",
      "960/960 [==============================] - 0s 429us/step - loss: 0.6272 - acc: 0.6490 - val_loss: 0.5948 - val_acc: 0.7087\n",
      "Epoch 3/100\n",
      "960/960 [==============================] - 0s 454us/step - loss: 0.5871 - acc: 0.7125 - val_loss: 0.5506 - val_acc: 0.7961\n",
      "Epoch 4/100\n",
      "960/960 [==============================] - 0s 388us/step - loss: 0.5315 - acc: 0.8448 - val_loss: 0.4937 - val_acc: 0.8835\n",
      "Epoch 5/100\n",
      "960/960 [==============================] - 0s 413us/step - loss: 0.4673 - acc: 0.9062 - val_loss: 0.4352 - val_acc: 0.8981\n",
      "Epoch 6/100\n",
      "960/960 [==============================] - 0s 421us/step - loss: 0.4073 - acc: 0.9104 - val_loss: 0.3852 - val_acc: 0.9126\n",
      "Epoch 7/100\n",
      "960/960 [==============================] - 0s 429us/step - loss: 0.3597 - acc: 0.9104 - val_loss: 0.3485 - val_acc: 0.9126\n",
      "Epoch 8/100\n",
      "960/960 [==============================] - 0s 479us/step - loss: 0.3213 - acc: 0.9187 - val_loss: 0.3096 - val_acc: 0.9175\n",
      "Epoch 9/100\n",
      "960/960 [==============================] - 0s 450us/step - loss: 0.2931 - acc: 0.9292 - val_loss: 0.2834 - val_acc: 0.9369\n",
      "Epoch 10/100\n",
      "960/960 [==============================] - 0s 433us/step - loss: 0.2693 - acc: 0.9302 - val_loss: 0.2601 - val_acc: 0.9369\n",
      "Epoch 11/100\n",
      "960/960 [==============================] - 1s 700us/step - loss: 0.2474 - acc: 0.9344 - val_loss: 0.2449 - val_acc: 0.9320\n",
      "Epoch 12/100\n",
      "960/960 [==============================] - 0s 471us/step - loss: 0.2295 - acc: 0.9396 - val_loss: 0.2221 - val_acc: 0.9417\n",
      "Epoch 13/100\n",
      "960/960 [==============================] - 0s 429us/step - loss: 0.2145 - acc: 0.9406 - val_loss: 0.2057 - val_acc: 0.9369\n",
      "Epoch 14/100\n",
      "960/960 [==============================] - 0s 375us/step - loss: 0.2012 - acc: 0.9427 - val_loss: 0.1930 - val_acc: 0.9515\n",
      "Epoch 15/100\n",
      "960/960 [==============================] - 0s 413us/step - loss: 0.1878 - acc: 0.9479 - val_loss: 0.1780 - val_acc: 0.9466\n",
      "Epoch 16/100\n",
      "960/960 [==============================] - 0s 413us/step - loss: 0.1774 - acc: 0.9448 - val_loss: 0.1664 - val_acc: 0.9563\n",
      "Epoch 17/100\n",
      "960/960 [==============================] - 0s 421us/step - loss: 0.1674 - acc: 0.9469 - val_loss: 0.1561 - val_acc: 0.9515\n",
      "Epoch 18/100\n",
      "960/960 [==============================] - 0s 417us/step - loss: 0.1574 - acc: 0.9510 - val_loss: 0.1463 - val_acc: 0.9515\n",
      "Epoch 19/100\n",
      "960/960 [==============================] - 0s 500us/step - loss: 0.1484 - acc: 0.9542 - val_loss: 0.1377 - val_acc: 0.9466\n",
      "Epoch 20/100\n",
      "960/960 [==============================] - 0s 400us/step - loss: 0.1375 - acc: 0.9531 - val_loss: 0.1327 - val_acc: 0.9466\n",
      "Epoch 21/100\n",
      "960/960 [==============================] - 0s 454us/step - loss: 0.1251 - acc: 0.9562 - val_loss: 0.1143 - val_acc: 0.9709\n",
      "Epoch 22/100\n",
      "960/960 [==============================] - 0s 396us/step - loss: 0.1144 - acc: 0.9615 - val_loss: 0.1047 - val_acc: 0.9757\n",
      "Epoch 23/100\n",
      "960/960 [==============================] - 0s 396us/step - loss: 0.1068 - acc: 0.9687 - val_loss: 0.1005 - val_acc: 0.9854\n",
      "Epoch 24/100\n",
      "960/960 [==============================] - 0s 371us/step - loss: 0.0996 - acc: 0.9698 - val_loss: 0.0928 - val_acc: 0.9854\n",
      "Epoch 25/100\n",
      "960/960 [==============================] - 0s 442us/step - loss: 0.0914 - acc: 0.9729 - val_loss: 0.0830 - val_acc: 0.9903\n",
      "Epoch 26/100\n",
      "960/960 [==============================] - 0s 396us/step - loss: 0.0844 - acc: 0.9750 - val_loss: 0.0771 - val_acc: 0.9903\n",
      "Epoch 27/100\n",
      "960/960 [==============================] - 0s 396us/step - loss: 0.0784 - acc: 0.9802 - val_loss: 0.0699 - val_acc: 0.9903\n",
      "Epoch 28/100\n",
      "960/960 [==============================] - 0s 350us/step - loss: 0.0732 - acc: 0.9781 - val_loss: 0.0677 - val_acc: 0.9903\n",
      "Epoch 29/100\n",
      "960/960 [==============================] - 0s 429us/step - loss: 0.0691 - acc: 0.9844 - val_loss: 0.0614 - val_acc: 0.9903\n",
      "Epoch 30/100\n",
      "960/960 [==============================] - 0s 408us/step - loss: 0.0643 - acc: 0.9875 - val_loss: 0.0576 - val_acc: 0.9903\n",
      "Epoch 31/100\n",
      "960/960 [==============================] - 0s 425us/step - loss: 0.0607 - acc: 0.9865 - val_loss: 0.0547 - val_acc: 0.9903\n",
      "Epoch 32/100\n",
      "960/960 [==============================] - 1s 629us/step - loss: 0.0569 - acc: 0.9896 - val_loss: 0.0517 - val_acc: 0.9903\n",
      "Epoch 33/100\n",
      "960/960 [==============================] - 0s 471us/step - loss: 0.0550 - acc: 0.9885 - val_loss: 0.0487 - val_acc: 0.9903\n",
      "Epoch 34/100\n",
      "960/960 [==============================] - 0s 446us/step - loss: 0.0517 - acc: 0.9906 - val_loss: 0.0460 - val_acc: 0.9903\n",
      "Epoch 35/100\n",
      "960/960 [==============================] - 0s 408us/step - loss: 0.0489 - acc: 0.9917 - val_loss: 0.0453 - val_acc: 0.9951\n",
      "Epoch 36/100\n",
      "960/960 [==============================] - 0s 450us/step - loss: 0.0472 - acc: 0.9917 - val_loss: 0.0417 - val_acc: 0.9951\n",
      "Epoch 37/100\n",
      "960/960 [==============================] - 0s 421us/step - loss: 0.0444 - acc: 0.9917 - val_loss: 0.0410 - val_acc: 0.9903\n",
      "Epoch 38/100\n",
      "960/960 [==============================] - 0s 414us/step - loss: 0.0434 - acc: 0.9937 - val_loss: 0.0395 - val_acc: 0.9951\n",
      "Epoch 39/100\n",
      "960/960 [==============================] - 0s 392us/step - loss: 0.0411 - acc: 0.9927 - val_loss: 0.0381 - val_acc: 0.9951\n",
      "Epoch 40/100\n",
      "960/960 [==============================] - 0s 396us/step - loss: 0.0397 - acc: 0.9927 - val_loss: 0.0356 - val_acc: 0.9951\n",
      "Epoch 41/100\n",
      "960/960 [==============================] - 0s 433us/step - loss: 0.0380 - acc: 0.9948 - val_loss: 0.0363 - val_acc: 0.9951\n",
      "Epoch 42/100\n",
      "960/960 [==============================] - 0s 408us/step - loss: 0.0375 - acc: 0.9948 - val_loss: 0.0332 - val_acc: 0.9951\n",
      "Epoch 43/100\n",
      "960/960 [==============================] - 0s 367us/step - loss: 0.0355 - acc: 0.9969 - val_loss: 0.0326 - val_acc: 0.9951\n",
      "Epoch 44/100\n",
      "960/960 [==============================] - 0s 388us/step - loss: 0.0342 - acc: 0.9979 - val_loss: 0.0365 - val_acc: 0.9951\n",
      "Epoch 45/100\n",
      "960/960 [==============================] - 0s 425us/step - loss: 0.0335 - acc: 0.9948 - val_loss: 0.0297 - val_acc: 0.9951\n",
      "Epoch 46/100\n",
      "960/960 [==============================] - 0s 392us/step - loss: 0.0321 - acc: 0.9958 - val_loss: 0.0292 - val_acc: 0.9951\n",
      "Epoch 47/100\n",
      "960/960 [==============================] - 0s 454us/step - loss: 0.0307 - acc: 0.9958 - val_loss: 0.0274 - val_acc: 0.9951\n",
      "Epoch 48/100\n",
      "960/960 [==============================] - 1s 554us/step - loss: 0.0300 - acc: 0.9979 - val_loss: 0.0273 - val_acc: 0.9951\n",
      "Epoch 49/100\n",
      "960/960 [==============================] - 0s 358us/step - loss: 0.0293 - acc: 0.9979 - val_loss: 0.0257 - val_acc: 0.9951\n",
      "Epoch 50/100\n",
      "960/960 [==============================] - 0s 371us/step - loss: 0.0288 - acc: 0.9969 - val_loss: 0.0255 - val_acc: 0.9951\n",
      "Epoch 51/100\n",
      "960/960 [==============================] - 0s 404us/step - loss: 0.0277 - acc: 0.9948 - val_loss: 0.0243 - val_acc: 0.9951\n",
      "Epoch 52/100\n",
      "960/960 [==============================] - 0s 417us/step - loss: 0.0274 - acc: 0.9969 - val_loss: 0.0238 - val_acc: 0.9951\n",
      "Epoch 53/100\n",
      "960/960 [==============================] - 0s 396us/step - loss: 0.0264 - acc: 0.9979 - val_loss: 0.0231 - val_acc: 0.9951\n",
      "Epoch 54/100\n",
      "960/960 [==============================] - 0s 388us/step - loss: 0.0254 - acc: 0.9969 - val_loss: 0.0222 - val_acc: 0.9951\n",
      "Epoch 55/100\n",
      "960/960 [==============================] - 0s 400us/step - loss: 0.0254 - acc: 0.9969 - val_loss: 0.0222 - val_acc: 0.9951\n",
      "Epoch 56/100\n",
      "960/960 [==============================] - 0s 396us/step - loss: 0.0241 - acc: 0.9979 - val_loss: 0.0230 - val_acc: 0.9951\n",
      "Epoch 57/100\n",
      "960/960 [==============================] - 0s 371us/step - loss: 0.0244 - acc: 0.9979 - val_loss: 0.0216 - val_acc: 0.9951\n",
      "Epoch 58/100\n",
      "960/960 [==============================] - 0s 367us/step - loss: 0.0230 - acc: 0.9969 - val_loss: 0.0208 - val_acc: 0.9951\n",
      "Epoch 59/100\n",
      "960/960 [==============================] - 0s 458us/step - loss: 0.0228 - acc: 0.9979 - val_loss: 0.0202 - val_acc: 0.9951\n",
      "Epoch 60/100\n",
      "960/960 [==============================] - 0s 379us/step - loss: 0.0227 - acc: 0.9969 - val_loss: 0.0199 - val_acc: 0.9951\n"
     ]
    },
    {
     "name": "stdout",
     "output_type": "stream",
     "text": [
      "Epoch 61/100\n",
      "960/960 [==============================] - 0s 504us/step - loss: 0.0221 - acc: 0.9979 - val_loss: 0.0194 - val_acc: 0.9951\n",
      "Epoch 62/100\n",
      "960/960 [==============================] - 0s 350us/step - loss: 0.0222 - acc: 0.9979 - val_loss: 0.0189 - val_acc: 0.9951\n",
      "Epoch 63/100\n",
      "960/960 [==============================] - 0s 396us/step - loss: 0.0232 - acc: 0.9958 - val_loss: 0.0196 - val_acc: 0.9951\n",
      "Epoch 64/100\n",
      "960/960 [==============================] - 0s 454us/step - loss: 0.0208 - acc: 0.9979 - val_loss: 0.0181 - val_acc: 0.9951\n",
      "Epoch 65/100\n",
      "960/960 [==============================] - 0s 433us/step - loss: 0.0208 - acc: 0.9969 - val_loss: 0.0190 - val_acc: 0.9951\n",
      "Epoch 66/100\n",
      "960/960 [==============================] - 0s 446us/step - loss: 0.0200 - acc: 0.9969 - val_loss: 0.0224 - val_acc: 0.9951\n",
      "Epoch 67/100\n",
      "960/960 [==============================] - 0s 350us/step - loss: 0.0203 - acc: 0.9969 - val_loss: 0.0186 - val_acc: 0.9951\n",
      "Epoch 68/100\n",
      "960/960 [==============================] - 0s 379us/step - loss: 0.0190 - acc: 0.9979 - val_loss: 0.0186 - val_acc: 0.9951\n",
      "Epoch 69/100\n",
      "960/960 [==============================] - 1s 608us/step - loss: 0.0189 - acc: 0.9979 - val_loss: 0.0181 - val_acc: 0.9951\n",
      "Epoch 70/100\n",
      "960/960 [==============================] - 1s 554us/step - loss: 0.0187 - acc: 0.9979 - val_loss: 0.0164 - val_acc: 0.9951\n",
      "Epoch 71/100\n",
      "960/960 [==============================] - 0s 358us/step - loss: 0.0184 - acc: 0.9979 - val_loss: 0.0162 - val_acc: 0.9951\n",
      "Epoch 72/100\n",
      "960/960 [==============================] - 0s 438us/step - loss: 0.0181 - acc: 0.9979 - val_loss: 0.0202 - val_acc: 0.9951\n",
      "Epoch 73/100\n",
      "960/960 [==============================] - 0s 425us/step - loss: 0.0180 - acc: 0.9979 - val_loss: 0.0157 - val_acc: 0.9951\n",
      "Epoch 74/100\n",
      "960/960 [==============================] - 0s 421us/step - loss: 0.0177 - acc: 0.9979 - val_loss: 0.0159 - val_acc: 0.9951\n",
      "Epoch 75/100\n",
      "960/960 [==============================] - 0s 404us/step - loss: 0.0173 - acc: 0.9979 - val_loss: 0.0167 - val_acc: 0.9951\n",
      "Epoch 76/100\n",
      "960/960 [==============================] - 0s 408us/step - loss: 0.0176 - acc: 0.9979 - val_loss: 0.0158 - val_acc: 0.9951\n",
      "Epoch 77/100\n",
      "960/960 [==============================] - 0s 438us/step - loss: 0.0165 - acc: 0.9979 - val_loss: 0.0158 - val_acc: 0.9951\n",
      "Epoch 78/100\n",
      "960/960 [==============================] - 0s 371us/step - loss: 0.0166 - acc: 0.9979 - val_loss: 0.0156 - val_acc: 0.9951\n",
      "Epoch 79/100\n",
      "960/960 [==============================] - 0s 367us/step - loss: 0.0163 - acc: 0.9979 - val_loss: 0.0171 - val_acc: 0.9951\n",
      "Epoch 80/100\n",
      "960/960 [==============================] - 0s 358us/step - loss: 0.0163 - acc: 0.9979 - val_loss: 0.0168 - val_acc: 0.9951\n",
      "Epoch 81/100\n",
      "960/960 [==============================] - 0s 379us/step - loss: 0.0168 - acc: 0.9979 - val_loss: 0.0145 - val_acc: 0.9951\n",
      "Epoch 82/100\n",
      "960/960 [==============================] - 0s 429us/step - loss: 0.0160 - acc: 0.9979 - val_loss: 0.0144 - val_acc: 0.9951\n",
      "Epoch 83/100\n",
      "960/960 [==============================] - 0s 413us/step - loss: 0.0155 - acc: 0.9979 - val_loss: 0.0130 - val_acc: 0.9951\n",
      "Epoch 84/100\n",
      "960/960 [==============================] - 0s 454us/step - loss: 0.0152 - acc: 0.9979 - val_loss: 0.0134 - val_acc: 0.9951\n",
      "Epoch 85/100\n",
      "960/960 [==============================] - 1s 654us/step - loss: 0.0146 - acc: 0.9979 - val_loss: 0.0155 - val_acc: 0.9951\n",
      "Epoch 86/100\n",
      "960/960 [==============================] - 0s 463us/step - loss: 0.0141 - acc: 0.9979 - val_loss: 0.0122 - val_acc: 0.9951\n",
      "Epoch 87/100\n",
      "960/960 [==============================] - 0s 438us/step - loss: 0.0153 - acc: 0.9979 - val_loss: 0.0121 - val_acc: 0.9951\n",
      "Epoch 88/100\n",
      "960/960 [==============================] - 0s 473us/step - loss: 0.0144 - acc: 0.9979 - val_loss: 0.0121 - val_acc: 0.9951\n",
      "Epoch 89/100\n",
      "960/960 [==============================] - 0s 436us/step - loss: 0.0150 - acc: 0.9979 - val_loss: 0.0122 - val_acc: 0.9951\n",
      "Epoch 90/100\n",
      "960/960 [==============================] - 0s 433us/step - loss: 0.0140 - acc: 0.9979 - val_loss: 0.0115 - val_acc: 0.9951\n",
      "Epoch 91/100\n",
      "960/960 [==============================] - 0s 404us/step - loss: 0.0144 - acc: 0.9979 - val_loss: 0.0121 - val_acc: 0.9951\n",
      "Epoch 92/100\n",
      "960/960 [==============================] - 0s 442us/step - loss: 0.0147 - acc: 0.9979 - val_loss: 0.0134 - val_acc: 0.9951\n",
      "Epoch 93/100\n",
      "960/960 [==============================] - 0s 404us/step - loss: 0.0139 - acc: 0.9979 - val_loss: 0.0113 - val_acc: 0.9951\n",
      "Epoch 94/100\n",
      "960/960 [==============================] - 0s 425us/step - loss: 0.0136 - acc: 0.9979 - val_loss: 0.0121 - val_acc: 0.9951\n",
      "Epoch 95/100\n",
      "960/960 [==============================] - 0s 400us/step - loss: 0.0134 - acc: 0.9979 - val_loss: 0.0113 - val_acc: 0.9951\n",
      "Epoch 96/100\n",
      "960/960 [==============================] - 0s 383us/step - loss: 0.0133 - acc: 0.9979 - val_loss: 0.0111 - val_acc: 0.9951\n",
      "Epoch 97/100\n",
      "960/960 [==============================] - 0s 513us/step - loss: 0.0132 - acc: 0.9979 - val_loss: 0.0106 - val_acc: 0.9951\n",
      "Epoch 98/100\n",
      "960/960 [==============================] - 1s 533us/step - loss: 0.0135 - acc: 0.9979 - val_loss: 0.0110 - val_acc: 0.9951\n",
      "Epoch 99/100\n",
      "960/960 [==============================] - 0s 500us/step - loss: 0.0135 - acc: 0.9979 - val_loss: 0.0128 - val_acc: 0.9951\n",
      "Epoch 100/100\n",
      "960/960 [==============================] - 0s 354us/step - loss: 0.0125 - acc: 0.9979 - val_loss: 0.0101 - val_acc: 0.9951\n"
     ]
    }
   ],
   "source": [
    "#untuk melatih model kita menggunakan model.fit dimana X_train adalah numpy array yang digunakan sebagai data training untuk inputan, y_test adalah numpy array yang digunakan untuk data target atau keluaran, batch_size jumlah sampel per pembaharuan gradien jika tidak kita set maka nilai nya akan menggunakan nilai default yaitu 32, epochs jumlah epochs untuk melatih model, epochs adalah iterasi atas seluruh data x dan y yang disediakan, 1 kali epochs sama dengan satu kali perhitungan maju mundur, validation_data(15%) untuk mengevaluasi kerugian dan metrik model apa pun pada setiap akhir epochs.  \n",
    "history= model.fit(X_train, y_train, validation_data=(X_test, y_test), epochs=100, batch_size=10)"
   ]
  },
  {
   "cell_type": "markdown",
   "metadata": {},
   "source": [
    "* Epoch adalah ketika seluruh dataset sudah melalui proses training pada Neural Netwok sampai dikembalikan ke awal untuk sekali putaran (backpropagation)"
   ]
  },
  {
   "cell_type": "code",
   "execution_count": 49,
   "metadata": {},
   "outputs": [
    {
     "name": "stdout",
     "output_type": "stream",
     "text": [
      "960/960 [==============================] - 0s 71us/step\n",
      "\n",
      "loss: 0.01%\n",
      "\n",
      "acc: 99.79%\n"
     ]
    }
   ],
   "source": [
    "#mencetak akurasi yang di dapat,model.evaluate digunakan untuk mencetak nilai loss dan metrics yang dihasilkan\n",
    "scores = model.evaluate(X_train,y_train)\n",
    "print(\"\\n%s: %.2f%%\" % (model.metrics_names[0], scores[0]))\n",
    "print(\"\\n%s: %.2f%%\" % (model.metrics_names[1], scores[1]*100))"
   ]
  },
  {
   "cell_type": "code",
   "execution_count": 50,
   "metadata": {},
   "outputs": [
    {
     "data": {
      "text/plain": [
       "array([[9.9990332e-01, 9.6678727e-05],\n",
       "       [9.9996686e-01, 3.3080734e-05],\n",
       "       [9.9994802e-01, 5.1960738e-05],\n",
       "       ...,\n",
       "       [2.0162889e-03, 9.9798369e-01],\n",
       "       [1.3901104e-03, 9.9860990e-01],\n",
       "       [5.0732191e-04, 9.9949265e-01]], dtype=float32)"
      ]
     },
     "execution_count": 50,
     "metadata": {},
     "output_type": "execute_result"
    }
   ],
   "source": [
    "#mencetak predict dari input yang akan diperoleh\n",
    "predict = model.predict(x_scaled)\n",
    "predict"
   ]
  },
  {
   "cell_type": "markdown",
   "metadata": {},
   "source": [
    "## CONFUSION MATRIX\n",
    "Confusion matrix merupakan salah satu metode yang dapat digunakan untuk mengukur kinerja suatu metode klasifikasi. Pada dasarnya confusion matrix mengandung informasi yang membandingkan hasil klasifikasi yang dilakukan oleh sistem dengan hasil klasifikasi yang seharusnya "
   ]
  },
  {
   "cell_type": "code",
   "execution_count": 51,
   "metadata": {},
   "outputs": [],
   "source": [
    "#Confusion matrix merupakan salah satu metode yang dapat digunakan untuk mengukur kinerja suatu metode klasifikasi. Pada dasarnya confusion matrix mengandung informasi yang membandingkan hasil klasifikasi yang dilakukan oleh sistem dengan hasil klasifikasi yang seharusnya \n",
    "from sklearn.metrics import confusion_matrix\n",
    "cm = confusion_matrix(y_categorical.argmax(axis=1),predict.argmax(axis=1))"
   ]
  },
  {
   "cell_type": "code",
   "execution_count": 74,
   "metadata": {},
   "outputs": [
    {
     "data": {
      "image/png": "[encoded data removed]",
      "text/plain": [
       "<Figure size 432x288 with 1 Axes>"
      ]
     },
     "metadata": {
      "needs_background": "light"
     },
     "output_type": "display_data"
    }
   ],
   "source": [
    "#agar lebih mudah membaca confusion matrix bisa kita tampilkan dalam bentuk plot,\n",
    "# keterangan dari plot, TN : True Negatif, FP: False positif, FN : False negatif, TP : true positif\n",
    "plt.clf()\n",
    "plt.imshow(cm, interpolation='nearest', cmap=plt.cm.Wistia)\n",
    "classNames = ['Negative','Positive']\n",
    "plt.title('Confusion Matrix')\n",
    "plt.ylabel('True label')\n",
    "plt.xlabel('Predicted label')\n",
    "tick_marks = np.arange(len(classNames))\n",
    "plt.xticks(tick_marks, classNames, rotation=45)\n",
    "plt.yticks(tick_marks, classNames)\n",
    "s = [['TN','FP'], ['FN', 'TP']]\n",
    "for i in range(2):\n",
    "    for j in range(2):\n",
    "        plt.text(j,i, str(s[i][j])+\" = \"+str(cm[i][j]))\n",
    "plt.show()"
   ]
  },
  {
   "cell_type": "markdown",
   "metadata": {},
   "source": [
    "## AKURASI"
   ]
  },
  {
   "cell_type": "code",
   "execution_count": 76,
   "metadata": {},
   "outputs": [
    {
     "name": "stdout",
     "output_type": "stream",
     "text": [
      "\n",
      "Akurasi : 9992.71%\n"
     ]
    }
   ],
   "source": [
    "#akurasi adalah tingkat kedekatan pengukuran kuantitas terhadap nilai yang sebenarnya.\n",
    "#akurasi = ((Tp+Tn)/(Tp+Fp+Fn+Tn))\n",
    "akurasi = ((610 + 761)/(610+1+0+761)*100)\n",
    "print(\"\\n%s: %.2f%%\" % (\"Akurasi \", akurasi*100))"
   ]
  },
  {
   "cell_type": "markdown",
   "metadata": {},
   "source": [
    "## RECALL\n",
    "* Recall (R) adalah distraksi dari salah satu gambar yang benar dari jumlah yang paling banyak dari kelas x.\n",
    "* recal = TP / TP + FN"
   ]
  },
  {
   "cell_type": "code",
   "execution_count": 77,
   "metadata": {},
   "outputs": [
    {
     "name": "stdout",
     "output_type": "stream",
     "text": [
      "\n",
      "Recall: 100.00%\n"
     ]
    }
   ],
   "source": [
    "recall = 610 / (610 + 0)\n",
    "print(\"\\n%s: %.2f%%\" %(\"Recall\", recall*100))"
   ]
  },
  {
   "cell_type": "markdown",
   "metadata": {},
   "source": [
    "## PRECISION\n",
    "* Precision (P), juga disebut nilai prediktif positif, adalah pecahan dari gambar yang diklasifikasi dengan benar di atas jumlah total gambar yang diklasifikasikan.\n",
    "* precision = TP / TP + FP"
   ]
  },
  {
   "cell_type": "code",
   "execution_count": 80,
   "metadata": {},
   "outputs": [
    {
     "name": "stdout",
     "output_type": "stream",
     "text": [
      "\n",
      "precision: 99.84%\n"
     ]
    }
   ],
   "source": [
    "precision = 610 / (610 + 1)\n",
    "print(\"\\n%s: %.2f%%\" % (\"precision\", precision*100))"
   ]
  },
  {
   "cell_type": "markdown",
   "metadata": {},
   "source": [
    "### TRUE NEGATIF RATE"
   ]
  },
  {
   "cell_type": "code",
   "execution_count": 78,
   "metadata": {},
   "outputs": [
    {
     "name": "stdout",
     "output_type": "stream",
     "text": [
      "\n",
      "TrueNegatifRate: 0.01%\n"
     ]
    }
   ],
   "source": [
    "TrueNegatifRate = ((6) / (756+6))\n",
    "print(\"\\n%s: %.2f%%\" % (\"TrueNegatifRate\",TrueNegatifRate))"
   ]
  },
  {
   "cell_type": "markdown",
   "metadata": {},
   "source": [
    "## TRAINING AND TESTING ACCURACY"
   ]
  },
  {
   "cell_type": "code",
   "execution_count": 82,
   "metadata": {},
   "outputs": [
    {
     "data": {
      "image/png": "[encoded data removed]",
      "text/plain": [
       "<Figure size 432x288 with 1 Axes>"
      ]
     },
     "metadata": {
      "needs_background": "light"
     },
     "output_type": "display_data"
    }
   ],
   "source": [
    "#mencetak plot dari hasil akurasi\n",
    "plt.plot(history.history['acc'], color='green')\n",
    "plt.plot(history.history['val_acc'], color='red')\n",
    "plt.title('model accuracy')\n",
    "plt.ylabel('accuracy')\n",
    "plt.xlabel('epochs')\n",
    "plt.legend(['train', 'test'], loc='upper left')\n",
    "plt.show()"
   ]
  },
  {
   "cell_type": "markdown",
   "metadata": {},
   "source": [
    "## TRAINING AND TESTING LOSS"
   ]
  },
  {
   "cell_type": "code",
   "execution_count": 83,
   "metadata": {},
   "outputs": [
    {
     "data": {
      "image/png": "[encoded data removed]",
      "text/plain": [
       "<Figure size 432x288 with 1 Axes>"
      ]
     },
     "metadata": {
      "needs_background": "light"
     },
     "output_type": "display_data"
    }
   ],
   "source": [
    "#mencetak plot dari hasil loss\n",
    "plt.plot(history.history['loss'], color='green')\n",
    "plt.plot(history.history['val_loss'], color='red')\n",
    "plt.title('model loss')\n",
    "plt.ylabel('accuracy')\n",
    "plt.xlabel('epochs')\n",
    "plt.legend(['train'], loc='upper left')\n",
    "plt.show()"
   ]
  },
  {
   "cell_type": "code",
   "execution_count": 57,
   "metadata": {},
   "outputs": [
    {
     "name": "stderr",
     "output_type": "stream",
     "text": [
      "C:\\Users\\User\\Anaconda3\\envs\\TersorFlow\\lib\\site-packages\\sklearn\\base.py:420: FutureWarning: The default value of multioutput (not exposed in score method) will change from 'variance_weighted' to 'uniform_average' in 0.23 to keep consistent with 'metrics.r2_score'. To specify the default value manually and avoid the warning, please either call 'metrics.r2_score' directly or make a custom scorer with 'metrics.make_scorer' (the built-in scorer 'r2' uses multioutput='uniform_average').\n",
      "  \"multioutput='uniform_average').\", FutureWarning)\n"
     ]
    },
    {
     "data": {
      "text/plain": [
       "0.8628216741149011"
      ]
     },
     "execution_count": 57,
     "metadata": {},
     "output_type": "execute_result"
    }
   ],
   "source": [
    "# 1. Set up the model\n",
    "model = LinearRegression()\n",
    "# 2. Use fit\n",
    "model.fit(X_train, y_train)\n",
    "# 3. Check the score\n",
    "model.score(X_test, y_test)"
   ]
  },
  {
   "cell_type": "code",
   "execution_count": 58,
   "metadata": {},
   "outputs": [
    {
     "name": "stderr",
     "output_type": "stream",
     "text": [
      "C:\\Users\\User\\Anaconda3\\envs\\TersorFlow\\lib\\site-packages\\ipykernel_launcher.py:6: DeprecationWarning: object of type <class 'float'> cannot be safely interpreted as an integer.\n",
      "  \n"
     ]
    },
    {
     "data": {
      "image/png": "[encoded data removed]",
      "text/plain": [
       "<Figure size 432x288 with 1 Axes>"
      ]
     },
     "metadata": {
      "needs_background": "light"
     },
     "output_type": "display_data"
    }
   ],
   "source": [
    "# # plot prediction menghasilkan prediksi keluaran dari sampel masukan, dan mencetak dalam bentuk regresi linier, untuk data testing\n",
    "y_pred = model.predict(X_test) \n",
    "plt.plot(y_test, y_pred, '.')\n",
    "\n",
    "# plot a line, a perfit predict would all fall on this line\n",
    "x = np.linspace(0, 1,0.1)\n",
    "y = x\n",
    "plt.xlabel('target')\n",
    "plt.ylabel('ouput')\n",
    "plt.plot(x, y)\n",
    "plt.show()"
   ]
  },
  {
   "cell_type": "code",
   "execution_count": 59,
   "metadata": {},
   "outputs": [
    {
     "data": {
      "text/plain": [
       "array([[-0.0628406 ,  1.0628406 ],\n",
       "       [ 1.03758961, -0.03758961],\n",
       "       [ 0.08251812,  0.91748188],\n",
       "       ...,\n",
       "       [ 0.02943705,  0.97056295],\n",
       "       [ 0.06474035,  0.93525965],\n",
       "       [ 0.36360849,  0.63639151]])"
      ]
     },
     "execution_count": 59,
     "metadata": {},
     "output_type": "execute_result"
    }
   ],
   "source": [
    "model.predict(X_train) # Predict unkown data"
   ]
  },
  {
   "cell_type": "code",
   "execution_count": 60,
   "metadata": {},
   "outputs": [
    {
     "name": "stderr",
     "output_type": "stream",
     "text": [
      "C:\\Users\\User\\Anaconda3\\envs\\TersorFlow\\lib\\site-packages\\ipykernel_launcher.py:6: DeprecationWarning: object of type <class 'float'> cannot be safely interpreted as an integer.\n",
      "  \n"
     ]
    },
    {
     "data": {
      "image/png": "[encoded data removed]",
      "text/plain": [
       "<Figure size 432x288 with 1 Axes>"
      ]
     },
     "metadata": {
      "needs_background": "light"
     },
     "output_type": "display_data"
    }
   ],
   "source": [
    "# # plot prediction menghasilkan prediksi keluaran dari sampel masukan, dan mencetak dalam bentuk regresi linier, untuk data training\n",
    "y_pred1 = model.predict(X_train) \n",
    "plt.plot(y_train, y_pred1, '.')\n",
    "\n",
    "# plot a line, a perfit predict would all fall on this line\n",
    "x = np.linspace(0, 1,0.1)\n",
    "y = x\n",
    "plt.xlabel('target')\n",
    "plt.ylabel('ouput')\n",
    "plt.plot(x, y)\n",
    "plt.show()"
   ]
  },
  {
   "cell_type": "code",
   "execution_count": null,
   "metadata": {},
   "outputs": [],
   "source": []
  }
 ],
 "metadata": {
  "kernelspec": {
   "display_name": "Python 3",
   "language": "python",
   "name": "python3"
  },
  "language_info": {
   "codemirror_mode": {
    "name": "ipython",
    "version": 3
   },
   "file_extension": ".py",
   "mimetype": "text/x-python",
   "name": "python",
   "nbconvert_exporter": "python",
   "pygments_lexer": "ipython3",
   "version": "3.6.9"
  }
 },
 "nbformat": 4,
 "nbformat_minor": 2
}
