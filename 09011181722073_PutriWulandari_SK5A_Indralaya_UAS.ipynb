{
 "cells": [
  {
   "cell_type": "markdown",
   "metadata": {},
   "source": [
    "# **NAMA : PUTRI WULANDARI**"
   ]
  },
  {
   "cell_type": "markdown",
   "metadata": {},
   "source": [
    "# **NIM : 09011181722073**"
   ]
  },
  {
   "cell_type": "markdown",
   "metadata": {},
   "source": [
    " # \"KLASIFIKASI CORONARY HEART DISEASE MENGGUNAKAN METODE \n",
    "\n",
    "# ARTIFICIAL NEURAL NETWORK\""
   ]
  },
  {
   "cell_type": "markdown",
   "metadata": {},
   "source": [
    "### SEKILAS MENGENAI CORONARY HEART DISEASE"
   ]
  },
  {
   "cell_type": "markdown",
   "metadata": {},
   "source": [
    "Populasi Coronary Heart Disease (Penyakit Jantung Koroner) selalu meningkat setiap tahunnya dengan jumlah kematian yang signifikan. Selain itu, kematian akibat penyakit jantung koroner mendapat prevalensi tertinggi di Indonesia sebesar 1,5 persen. Kesalahan diagnosis penyakit jantung koroner merupakan salah satu faktor utama yang menyebabkan kematian. \n",
    "\n",
    "Untuk mencegah kesalahan diagnosis penyakit Coronary Heart Disease (Penyakit Jantung Koroner), dibutuhkanlah suatu sistem berbasis artificial intelligent untuk kebutuhan diagnosis dan deteksi dini pada tiap pasien penderita penyakit jantung. Seperti diketahui, Neural Network merupakan sebuah supervised learning algorithm yang baik dalam tugas klasifikasi dan deteksi dini. Dalam model Neural Network ,implementasi klasifikasi diwakilkan dengan biner \"1\" jika seorang pasien terindikasi terserang Coronary Heart Disease (Penyakit Jantung Koroner) dan biner \"0\" jika seorang pasien tidak terindikasi terserang Coronary Heart Disease (Penyakit Jantung Koroner).\n",
    "\n",
    "Untuk membantu analisis kinerja model yang dibuat, digunakanlah heart disease dataset. Adapun dataset tersebut diperoleh UCI machine learning repository "
   ]
  },
  {
   "cell_type": "markdown",
   "metadata": {},
   "source": [
    "### **INPUT LIBRARY YANG AKAN DIGUNAKAN**"
   ]
  },
  {
   "cell_type": "markdown",
   "metadata": {},
   "source": [
    "Adapun library yang akan digunakan untuk pembuatan model dan proses training dan testing dalam menentukan data mana yang terindikasi terkena Heart Disease atau bukan adalah sebagai berikut"
   ]
  },
  {
   "cell_type": "code",
   "execution_count": 1,
   "metadata": {},
   "outputs": [
    {
     "name": "stderr",
     "output_type": "stream",
     "text": [
      "C:\\Users\\Putri\\Anaconda3\\lib\\site-packages\\h5py\\__init__.py:36: FutureWarning: Conversion of the second argument of issubdtype from `float` to `np.floating` is deprecated. In future, it will be treated as `np.float64 == np.dtype(float).type`.\n",
      "  from ._conv import register_converters as _register_converters\n",
      "Using TensorFlow backend.\n"
     ]
    }
   ],
   "source": [
    "# main libraries\n",
    "import pandas as pd \n",
    "import numpy as np\n",
    "\n",
    "# visual libraries\n",
    "from matplotlib import pyplot as plt \n",
    "plt.style.use('ggplot')\n",
    "\n",
    "# sklearn libraries\n",
    "from sklearn.model_selection import train_test_split\n",
    "from sklearn.preprocessing import normalize\n",
    "from sklearn.metrics import confusion_matrix,accuracy_score,precision_score,recall_score,f1_score,matthews_corrcoef,classification_report,roc_curve\n",
    "from sklearn.preprocessing import MinMaxScaler\n",
    "from sklearn.preprocessing import OneHotEncoder, StandardScaler\n",
    "\n",
    "#keras libraries\n",
    "from keras.optimizers import Adam\n",
    "from keras.models import Sequential\n",
    "from keras.layers import Dense, Dropout\n",
    "from keras.activations import relu\n",
    "from keras.utils.np_utils import to_categorical"
   ]
  },
  {
   "cell_type": "markdown",
   "metadata": {},
   "source": [
    "\n",
    "Library utama berisi library numpy dan pandas. Numpy berfungsi untuk mengolah angka berupa angka, agar bisa dibuat menjadi model Neural Network. Sedangkan Pandas berfungsi untuk mengolah data dalam bentuk dataframe.\n",
    "\n",
    "Visual library berisi library yang digunakan untuk proses menampilkan grafik sebaran data ataupun berfungsi untuk menampilkan grafik perbandingan antara hasil training dan tersing data menggunakan model Neural Network yang telah dibuat\n",
    "\n",
    "Sklearn library berisi library yang digunakan dalam proses preprocessing data yang akan ditraining dan akan ditesting. Proses preprocessing akan mengubah data menjadi format yang akan lebih mudah dan efektif diproses dalam model Neural Network. Adapun beberapa metode yangt digunakan dalam proses preprocessing, antara lain adalah: transformasi yang memanipulasi data mentah untuk menghasilkan satu input, denoising yang menghilangkan noise dari data, dan sebagainya.\n",
    "\n",
    "Keras library berisi library yang digunakan dalam proses pembuatan model dan pengujian model Neural Network yang telah dibuat dibuat sebelumnya."
   ]
  },
  {
   "cell_type": "markdown",
   "metadata": {},
   "source": [
    "### PROSES IMPORT DATASET"
   ]
  },
  {
   "cell_type": "markdown",
   "metadata": {},
   "source": [
    "Dataset yang digunakan dalam proses klasifikasi Coronary Heart Disease (Penyakit Jantung Koroner) adalah heart disease dataset yang diperoleh dari UCI machine learning repository (https://archive.ics.uci.edu/ml/datasets/Heart+Disease)"
   ]
  },
  {
   "cell_type": "code",
   "execution_count": 2,
   "metadata": {},
   "outputs": [],
   "source": [
    "data = pd.read_csv('heart.csv')"
   ]
  },
  {
   "cell_type": "code",
   "execution_count": 3,
   "metadata": {},
   "outputs": [
    {
     "data": {
      "text/html": [
       "<div>\n",
       "<style scoped>\n",
       "    .dataframe tbody tr th:only-of-type {\n",
       "        vertical-align: middle;\n",
       "    }\n",
       "\n",
       "    .dataframe tbody tr th {\n",
       "        vertical-align: top;\n",
       "    }\n",
       "\n",
       "    .dataframe thead th {\n",
       "        text-align: right;\n",
       "    }\n",
       "</style>\n",
       "<table border=\"1\" class=\"dataframe\">\n",
       "  <thead>\n",
       "    <tr style=\"text-align: right;\">\n",
       "      <th></th>\n",
       "      <th>age</th>\n",
       "      <th>sex</th>\n",
       "      <th>cp</th>\n",
       "      <th>trestbps</th>\n",
       "      <th>chol</th>\n",
       "      <th>fbs</th>\n",
       "      <th>restecg</th>\n",
       "      <th>thalach</th>\n",
       "      <th>exang</th>\n",
       "      <th>oldpeak</th>\n",
       "      <th>slope</th>\n",
       "      <th>ca</th>\n",
       "      <th>thal</th>\n",
       "      <th>target</th>\n",
       "    </tr>\n",
       "  </thead>\n",
       "  <tbody>\n",
       "    <tr>\n",
       "      <th>0</th>\n",
       "      <td>63</td>\n",
       "      <td>1</td>\n",
       "      <td>3</td>\n",
       "      <td>145</td>\n",
       "      <td>233</td>\n",
       "      <td>1</td>\n",
       "      <td>0</td>\n",
       "      <td>150</td>\n",
       "      <td>0</td>\n",
       "      <td>2.3</td>\n",
       "      <td>0</td>\n",
       "      <td>0</td>\n",
       "      <td>1</td>\n",
       "      <td>1</td>\n",
       "    </tr>\n",
       "    <tr>\n",
       "      <th>1</th>\n",
       "      <td>37</td>\n",
       "      <td>1</td>\n",
       "      <td>2</td>\n",
       "      <td>130</td>\n",
       "      <td>250</td>\n",
       "      <td>0</td>\n",
       "      <td>1</td>\n",
       "      <td>187</td>\n",
       "      <td>0</td>\n",
       "      <td>3.5</td>\n",
       "      <td>0</td>\n",
       "      <td>0</td>\n",
       "      <td>2</td>\n",
       "      <td>1</td>\n",
       "    </tr>\n",
       "    <tr>\n",
       "      <th>2</th>\n",
       "      <td>41</td>\n",
       "      <td>0</td>\n",
       "      <td>1</td>\n",
       "      <td>130</td>\n",
       "      <td>204</td>\n",
       "      <td>0</td>\n",
       "      <td>0</td>\n",
       "      <td>172</td>\n",
       "      <td>0</td>\n",
       "      <td>1.4</td>\n",
       "      <td>2</td>\n",
       "      <td>0</td>\n",
       "      <td>2</td>\n",
       "      <td>1</td>\n",
       "    </tr>\n",
       "    <tr>\n",
       "      <th>3</th>\n",
       "      <td>56</td>\n",
       "      <td>1</td>\n",
       "      <td>1</td>\n",
       "      <td>120</td>\n",
       "      <td>236</td>\n",
       "      <td>0</td>\n",
       "      <td>1</td>\n",
       "      <td>178</td>\n",
       "      <td>0</td>\n",
       "      <td>0.8</td>\n",
       "      <td>2</td>\n",
       "      <td>0</td>\n",
       "      <td>2</td>\n",
       "      <td>1</td>\n",
       "    </tr>\n",
       "    <tr>\n",
       "      <th>4</th>\n",
       "      <td>57</td>\n",
       "      <td>0</td>\n",
       "      <td>0</td>\n",
       "      <td>120</td>\n",
       "      <td>354</td>\n",
       "      <td>0</td>\n",
       "      <td>1</td>\n",
       "      <td>163</td>\n",
       "      <td>1</td>\n",
       "      <td>0.6</td>\n",
       "      <td>2</td>\n",
       "      <td>0</td>\n",
       "      <td>2</td>\n",
       "      <td>1</td>\n",
       "    </tr>\n",
       "  </tbody>\n",
       "</table>\n",
       "</div>"
      ],
      "text/plain": [
       "   age  sex  cp  trestbps  chol  fbs  restecg  thalach  exang  oldpeak  slope  \\\n",
       "0   63    1   3       145   233    1        0      150      0      2.3      0   \n",
       "1   37    1   2       130   250    0        1      187      0      3.5      0   \n",
       "2   41    0   1       130   204    0        0      172      0      1.4      2   \n",
       "3   56    1   1       120   236    0        1      178      0      0.8      2   \n",
       "4   57    0   0       120   354    0        1      163      1      0.6      2   \n",
       "\n",
       "   ca  thal  target  \n",
       "0   0     1       1  \n",
       "1   0     2       1  \n",
       "2   0     2       1  \n",
       "3   0     2       1  \n",
       "4   0     2       1  "
      ]
     },
     "execution_count": 3,
     "metadata": {},
     "output_type": "execute_result"
    }
   ],
   "source": [
    "data.head()"
   ]
  },
  {
   "cell_type": "markdown",
   "metadata": {},
   "source": [
    "Heart Disease Dataset ini mengandung 76 atribut, tetapi semua percobaan yang diterbitkan merujuk pada penggunaan subset dari 14 atribut saja. Adapun 14 atribut data tersebut antara lain adalah usia, jenis kelamin, nyeri dada (cp), trestbps, kol, gula darah puasa (fbs), restecg, thalach, exang, oldpeak, slope, ca, thal, dan juga target atau klasifikasi. Dataset menjelaskan isi direktori dari Coronary Heart Disease (CHD). Data tersebut dikumpulkan dari Yayasan Klinik Cleveland, dengan jumlah kasus total adalah 303 kasus (241 laki-laki, 62 perempuan) dengan usia rata-rata: 51,25 ± 9,74 tahun.\n",
    "\n",
    "Adapun target pada dataset tersebut menggambarkan klasifikasi dari data tersebut. Data yang bernilai \"1\" memiliki arti bahwa data tersebut terindikasi Coronary Heart Disease. Sedangkan data yang bernilai \"0\" merupakan data yang tidak terindikasi Coronary Heart Disease."
   ]
  },
  {
   "cell_type": "markdown",
   "metadata": {},
   "source": [
    "**Melihat Atribut Data**"
   ]
  },
  {
   "cell_type": "markdown",
   "metadata": {},
   "source": [
    "Adapun 14 atribut dari dari Heart Disease Datase beserta tipe datanya antara lain adalah:"
   ]
  },
  {
   "cell_type": "code",
   "execution_count": 89,
   "metadata": {},
   "outputs": [
    {
     "data": {
      "text/plain": [
       "age           int64\n",
       "sex           int64\n",
       "cp            int64\n",
       "trestbps      int64\n",
       "chol          int64\n",
       "fbs           int64\n",
       "restecg       int64\n",
       "thalach       int64\n",
       "exang         int64\n",
       "oldpeak     float64\n",
       "slope         int64\n",
       "ca            int64\n",
       "thal          int64\n",
       "target        int64\n",
       "dtype: object"
      ]
     },
     "execution_count": 89,
     "metadata": {},
     "output_type": "execute_result"
    }
   ],
   "source": [
    "data.dtypes"
   ]
  },
  {
   "cell_type": "code",
   "execution_count": 90,
   "metadata": {},
   "outputs": [
    {
     "data": {
      "text/plain": [
       "(303, 14)"
      ]
     },
     "execution_count": 90,
     "metadata": {},
     "output_type": "execute_result"
    }
   ],
   "source": [
    "data.shape"
   ]
  },
  {
   "cell_type": "code",
   "execution_count": 91,
   "metadata": {},
   "outputs": [
    {
     "data": {
      "text/plain": [
       "target\n",
       "0    138\n",
       "1    165\n",
       "Name: target, dtype: int64"
      ]
     },
     "execution_count": 91,
     "metadata": {},
     "output_type": "execute_result"
    }
   ],
   "source": [
    "data.groupby('target')['target'].count()"
   ]
  },
  {
   "cell_type": "markdown",
   "metadata": {},
   "source": [
    "Data tersebut terdiri dari 303 baris data pasien dan juga 14 kolom. Kolom tersebut menyatakan fitur dari data dan juga kelas dari data.\n",
    "\n",
    "Berdasarkan data tersebut, usia, jenis kelamin, nyeri dada (cp), trestbps, kol, gula darah puasa (fbs), restecg, thalach, exang, oldpeak, slope, ca, dan thal merupakan fitur dari data tersebut.\n",
    "\n",
    "Sedangkan target merupakan kelas dari Heart Disease Dataset. Ada dua kelas pada data tersebut yang dilambangkan dengan biner \"1\" dan juga dilambangkan dengan biner \"0\". Biner \"1\" menyatakan bahwa pasien tersebut terindikasi Coronary Heart Disease, sedangkan biner \"0\" menyatakan bahwa pasien tidak terindikasi Coronary Heart Disease.\n",
    "\n",
    "Adapun persentase dan juga grafik perbandingan dari kedua kelas tersebut antara lain adalah:"
   ]
  },
  {
   "cell_type": "code",
   "execution_count": 92,
   "metadata": {},
   "outputs": [
    {
     "name": "stdout",
     "output_type": "stream",
     "text": [
      "Terindikasi : 54.45544554455446 %\n",
      "Tidak Terindikasi : 45.54455445544555 %\n"
     ]
    }
   ],
   "source": [
    "All = data.shape[0]\n",
    "terindikasi = data[data['target'] == 1]\n",
    "tdk_terindikasi = data[data['target'] == 0]\n",
    "\n",
    "x = len(terindikasi)/All\n",
    "y = len(tdk_terindikasi)/All\n",
    "\n",
    "print('Terindikasi :',x*100,'%')\n",
    "print('Tidak Terindikasi :',y*100,'%')"
   ]
  },
  {
   "cell_type": "code",
   "execution_count": 93,
   "metadata": {},
   "outputs": [
    {
     "data": {
      "text/plain": [
       "Text(0,0.5,'Frekuensi')"
      ]
     },
     "execution_count": 93,
     "metadata": {},
     "output_type": "execute_result"
    },
    {
     "data": {
      "image/png": "[encoded data removed]",
      "text/plain": [
       "<Figure size 432x288 with 1 Axes>"
      ]
     },
     "metadata": {
      "needs_background": "light"
     },
     "output_type": "display_data"
    }
   ],
   "source": [
    "labels = ['Terindikasi','Tidak Terindikasi']\n",
    "classes = pd.value_counts(data['target'], sort = True)\n",
    "classes.plot(kind = 'bar', rot=0)\n",
    "plt.title(\"Plot Distribusi Target\")\n",
    "plt.xticks(range(2), labels)\n",
    "plt.xlabel(\"Target\")\n",
    "plt.ylabel(\"Frekuensi\")"
   ]
  },
  {
   "cell_type": "markdown",
   "metadata": {},
   "source": [
    "### **PROSES PERSIAPAN DATA**"
   ]
  },
  {
   "cell_type": "markdown",
   "metadata": {},
   "source": [
    "Pada tahap ini, data dalam bentuk dataframe akan diubah menjadi berbentuk numpy array. Fungsi pengubahan ini adalah agar data tersebut menjadi mudah untuk diolah sehingga mudah diimplementasikan ke dalam model yang akan dibuat."
   ]
  },
  {
   "cell_type": "code",
   "execution_count": 4,
   "metadata": {},
   "outputs": [],
   "source": [
    "dataset = data.values"
   ]
  },
  {
   "cell_type": "code",
   "execution_count": 5,
   "metadata": {},
   "outputs": [
    {
     "data": {
      "text/plain": [
       "array([[63.,  1.,  3., ...,  0.,  1.,  1.],\n",
       "       [37.,  1.,  2., ...,  0.,  2.,  1.],\n",
       "       [41.,  0.,  1., ...,  0.,  2.,  1.],\n",
       "       ...,\n",
       "       [68.,  1.,  0., ...,  2.,  3.,  0.],\n",
       "       [57.,  1.,  0., ...,  1.,  3.,  0.],\n",
       "       [57.,  0.,  1., ...,  1.,  2.,  0.]])"
      ]
     },
     "execution_count": 5,
     "metadata": {},
     "output_type": "execute_result"
    }
   ],
   "source": [
    "dataset"
   ]
  },
  {
   "cell_type": "markdown",
   "metadata": {},
   "source": [
    "Heart Disease Dataset terdiri dari 13 fitur yang tersusun dari kolom pertama hingga kolom 13 pada data dan juga kelas yang berada di kolom 14. Data pada Heart Disease Dataset ini nantinya akan dipisahkan antara fitur data dan juga kelas data. Adapun cara memisahkannya antara lain adalah:"
   ]
  },
  {
   "cell_type": "code",
   "execution_count": 96,
   "metadata": {},
   "outputs": [],
   "source": [
    "features = dataset[:, 0:13]\n",
    "labels = dataset [:, 13]"
   ]
  },
  {
   "cell_type": "markdown",
   "metadata": {},
   "source": [
    "Data untuk setiap fitur dalam bentuk numpy array adalah"
   ]
  },
  {
   "cell_type": "code",
   "execution_count": 94,
   "metadata": {},
   "outputs": [
    {
     "data": {
      "text/plain": [
       "array([[63.,  1.,  3., ...,  0.,  0.,  1.],\n",
       "       [37.,  1.,  2., ...,  0.,  0.,  2.],\n",
       "       [41.,  0.,  1., ...,  2.,  0.,  2.],\n",
       "       ...,\n",
       "       [68.,  1.,  0., ...,  1.,  2.,  3.],\n",
       "       [57.,  1.,  0., ...,  1.,  1.,  3.],\n",
       "       [57.,  0.,  1., ...,  1.,  1.,  2.]])"
      ]
     },
     "execution_count": 94,
     "metadata": {},
     "output_type": "execute_result"
    }
   ],
   "source": [
    "features"
   ]
  },
  {
   "cell_type": "markdown",
   "metadata": {},
   "source": [
    "Data setiap kelas dalam bentuk numpy array adalah"
   ]
  },
  {
   "cell_type": "code",
   "execution_count": 97,
   "metadata": {},
   "outputs": [
    {
     "data": {
      "text/plain": [
       "array([1., 1., 1., 1., 1., 1., 1., 1., 1., 1., 1., 1., 1., 1., 1., 1., 1.,\n",
       "       1., 1., 1., 1., 1., 1., 1., 1., 1., 1., 1., 1., 1., 1., 1., 1., 1.,\n",
       "       1., 1., 1., 1., 1., 1., 1., 1., 1., 1., 1., 1., 1., 1., 1., 1., 1.,\n",
       "       1., 1., 1., 1., 1., 1., 1., 1., 1., 1., 1., 1., 1., 1., 1., 1., 1.,\n",
       "       1., 1., 1., 1., 1., 1., 1., 1., 1., 1., 1., 1., 1., 1., 1., 1., 1.,\n",
       "       1., 1., 1., 1., 1., 1., 1., 1., 1., 1., 1., 1., 1., 1., 1., 1., 1.,\n",
       "       1., 1., 1., 1., 1., 1., 1., 1., 1., 1., 1., 1., 1., 1., 1., 1., 1.,\n",
       "       1., 1., 1., 1., 1., 1., 1., 1., 1., 1., 1., 1., 1., 1., 1., 1., 1.,\n",
       "       1., 1., 1., 1., 1., 1., 1., 1., 1., 1., 1., 1., 1., 1., 1., 1., 1.,\n",
       "       1., 1., 1., 1., 1., 1., 1., 1., 1., 1., 1., 1., 0., 0., 0., 0., 0.,\n",
       "       0., 0., 0., 0., 0., 0., 0., 0., 0., 0., 0., 0., 0., 0., 0., 0., 0.,\n",
       "       0., 0., 0., 0., 0., 0., 0., 0., 0., 0., 0., 0., 0., 0., 0., 0., 0.,\n",
       "       0., 0., 0., 0., 0., 0., 0., 0., 0., 0., 0., 0., 0., 0., 0., 0., 0.,\n",
       "       0., 0., 0., 0., 0., 0., 0., 0., 0., 0., 0., 0., 0., 0., 0., 0., 0.,\n",
       "       0., 0., 0., 0., 0., 0., 0., 0., 0., 0., 0., 0., 0., 0., 0., 0., 0.,\n",
       "       0., 0., 0., 0., 0., 0., 0., 0., 0., 0., 0., 0., 0., 0., 0., 0., 0.,\n",
       "       0., 0., 0., 0., 0., 0., 0., 0., 0., 0., 0., 0., 0., 0., 0., 0., 0.,\n",
       "       0., 0., 0., 0., 0., 0., 0., 0., 0., 0., 0., 0., 0., 0.])"
      ]
     },
     "execution_count": 97,
     "metadata": {},
     "output_type": "execute_result"
    }
   ],
   "source": [
    "labels"
   ]
  },
  {
   "cell_type": "markdown",
   "metadata": {},
   "source": [
    "### **PROSES PRE-PROCESSING DATA**"
   ]
  },
  {
   "cell_type": "markdown",
   "metadata": {},
   "source": [
    "**One Hot Encoding**"
   ]
  },
  {
   "cell_type": "markdown",
   "metadata": {},
   "source": [
    "One Hot Encoding adalah representasi variabel kategorikal sebagai vektor biner. Metode ini pertama-tama mensyaratkan bahwa nilai-nilai kategorikal akan dipetakan ke dalam nilai integer."
   ]
  },
  {
   "cell_type": "code",
   "execution_count": 7,
   "metadata": {},
   "outputs": [],
   "source": [
    "enc = OneHotEncoder() \n",
    "Y = enc.fit_transform(labels[:, np.newaxis]).toarray()"
   ]
  },
  {
   "cell_type": "markdown",
   "metadata": {},
   "source": [
    "**Min-Max Scaler**"
   ]
  },
  {
   "cell_type": "markdown",
   "metadata": {},
   "source": [
    "Biasanya dalam dataset yang masih mentah, beberapa variabel memiliki nilai yang sangat bervariasi dan random, jadi sangat penting untuk di scale tersebut agar memiliki nilai dengan rentang yang tidak terlalu jauh. MinMaxScaler digunakan untuk mengubah skala fitur dari yang memiliki nilai rentang yang berjauhan menjadi nilai rentang yang berdekatan. Adapun rentang yang diberikan untuk setiap fitur pada Heart Disease Datase adalah 0 & 1, hal ini dikarenakan klasifikasi dataset tersebut menggunakan binary classification."
   ]
  },
  {
   "cell_type": "code",
   "execution_count": 8,
   "metadata": {},
   "outputs": [],
   "source": [
    "scaler = MinMaxScaler()\n",
    "features_scale=scaler.fit(features)\n",
    "features_scale = scaler.fit_transform(features)"
   ]
  },
  {
   "cell_type": "markdown",
   "metadata": {},
   "source": [
    "**Categorical**"
   ]
  },
  {
   "cell_type": "markdown",
   "metadata": {},
   "source": [
    "Digunakan untuk mengubah array data berlabel (dari 0 ke nb_classes-1) ke bentuk one-hot vector. "
   ]
  },
  {
   "cell_type": "code",
   "execution_count": 9,
   "metadata": {},
   "outputs": [
    {
     "data": {
      "text/plain": [
       "(303, 2)"
      ]
     },
     "execution_count": 9,
     "metadata": {},
     "output_type": "execute_result"
    }
   ],
   "source": [
    "labels_categorical = to_categorical(labels)\n",
    "labels_categorical.shape"
   ]
  },
  {
   "cell_type": "markdown",
   "metadata": {},
   "source": [
    "### **PROSES SPLIT DATA**"
   ]
  },
  {
   "cell_type": "markdown",
   "metadata": {},
   "source": [
    "Proses split data ini dilakukan untuk membagi data menjadi dua yaitu data yang digunakan untuk kepentingan training dan juga data untuk kepentingan testing. Adapun data yang digunakan untuk keperluan testing adalah sebesar 20% dari jumlah data sejumlah 61 data (test_size = 0.2) dan sisa 80% nya sejumlah 242 data digunakan untuk keperluan training."
   ]
  },
  {
   "cell_type": "code",
   "execution_count": 123,
   "metadata": {},
   "outputs": [],
   "source": [
    "training_data, testing_data, training_label, testing_label = train_test_split(features_scale,labels_categorical , test_size=0.2, shuffle=True, stratify=labels)"
   ]
  },
  {
   "cell_type": "markdown",
   "metadata": {},
   "source": [
    "### **MEMBUAT DAN MELAKUKAN COMPILE MODEL**"
   ]
  },
  {
   "cell_type": "markdown",
   "metadata": {},
   "source": [
    "Model klasifikasi dalam kasus ini menggunakan adalah model yang dibuat dengan menggunakan fungsi Sequential.\n",
    "\n",
    "Jumlah input layer pada model ini disesuaikan dengan fitur pada Heart Disease Dataset yaitu sebanyak 13 input. Adapun fungsi aktivasi yang digunakan adalah fungsi activation  ReLu (Rectified Linear Unit), cara kerjanya adalah dengan mengubah setiap nilai input negatif menjadi 0 pada grafik sesegera mungkin.\n",
    "\n",
    "Jumlah hidden layer pada model ini adalah 2 layer, dimana masing-masing layer memiliki 13 unit Neural Network\n",
    "\n",
    "Jumlah output layer adalah 1 layer dengan jumlah unit sebanyak 2 unit Neural Network yang mendfinisikan pasien terindikasi Coronary Heart Disease atau tidak. Adapun fungsi aktivasi yang digunakan adalah activation softmax (karena data sudah diubah menjadi categorical)\n",
    "\n",
    "Model tersebut kemudian dicompile menggunakan loss layer binary crossentropy karena jumlah kelas hanya berjumlah 2 dan optimezer yang digunakan adalah optimizer Adam dari keras model."
   ]
  },
  {
   "cell_type": "code",
   "execution_count": 124,
   "metadata": {},
   "outputs": [],
   "source": [
    "model = Sequential()\n",
    "model.add(Dense(13, input_dim=13, activation='relu'))\n",
    "model.add(Dense(13, activation='relu'))\n",
    "model.add(Dense(2, activation='softmax'))\n",
    "model.compile(optimizer='adam', loss='binary_crossentropy', metrics=['accuracy'])"
   ]
  },
  {
   "cell_type": "markdown",
   "metadata": {},
   "source": [
    "### **PROSES FIT MODEL**"
   ]
  },
  {
   "cell_type": "markdown",
   "metadata": {},
   "source": [
    "Untuk mendapatkan dan melihat hasil akurasi dan loss dari Heart Disease Dataset, langkah selanjutnya yang harus dilakukan adalah fit model. Pada proses ini terjadi proses training dan testing dengan parameter:\n",
    "1. fitur yang telah di preprocessing\n",
    "2. label yang telah dikonversi menjadi categorical\n",
    "3. Banyaknya batch size yang digunakan\n",
    "4. Banyaknya epoch yang dilakukan\n",
    "\n",
    "Untuk mendapatkan hasil komputasi yang lebih teliti, maka batch size harus diset dalam jumlah yang kecil. Adapun batch size yang digunakan pada proses fit model ini adalah sejumlah 10 batch size dan epoch yang digunakan adalah 100 epoch."
   ]
  },
  {
   "cell_type": "code",
   "execution_count": 125,
   "metadata": {
    "scrolled": true
   },
   "outputs": [
    {
     "name": "stdout",
     "output_type": "stream",
     "text": [
      "Train on 242 samples, validate on 61 samples\n",
      "Epoch 1/100\n",
      "242/242 [==============================] - 2s 7ms/step - loss: 0.7347 - accuracy: 0.4752 - val_loss: 0.6644 - val_accuracy: 0.5410\n",
      "Epoch 2/100\n",
      "242/242 [==============================] - 0s 789us/step - loss: 0.6572 - accuracy: 0.5702 - val_loss: 0.6238 - val_accuracy: 0.6230\n",
      "Epoch 3/100\n",
      "242/242 [==============================] - 0s 818us/step - loss: 0.6173 - accuracy: 0.7025 - val_loss: 0.5808 - val_accuracy: 0.7705\n",
      "Epoch 4/100\n",
      "242/242 [==============================] - 0s 419us/step - loss: 0.5782 - accuracy: 0.7810 - val_loss: 0.5370 - val_accuracy: 0.8197\n",
      "Epoch 5/100\n",
      "242/242 [==============================] - 0s 664us/step - loss: 0.5432 - accuracy: 0.7893 - val_loss: 0.4975 - val_accuracy: 0.8033\n",
      "Epoch 6/100\n",
      "242/242 [==============================] - 0s 715us/step - loss: 0.5135 - accuracy: 0.8017 - val_loss: 0.4663 - val_accuracy: 0.8361\n",
      "Epoch 7/100\n",
      "242/242 [==============================] - 0s 678us/step - loss: 0.4843 - accuracy: 0.7893 - val_loss: 0.4348 - val_accuracy: 0.8197\n",
      "Epoch 8/100\n",
      "242/242 [==============================] - 0s 2ms/step - loss: 0.4605 - accuracy: 0.7851 - val_loss: 0.4126 - val_accuracy: 0.8197\n",
      "Epoch 9/100\n",
      "242/242 [==============================] - 0s 748us/step - loss: 0.4439 - accuracy: 0.7893 - val_loss: 0.3915 - val_accuracy: 0.8197\n",
      "Epoch 10/100\n",
      "242/242 [==============================] - 0s 1ms/step - loss: 0.4275 - accuracy: 0.8058 - val_loss: 0.3794 - val_accuracy: 0.8361\n",
      "Epoch 11/100\n",
      "242/242 [==============================] - 0s 1ms/step - loss: 0.4182 - accuracy: 0.8058 - val_loss: 0.3678 - val_accuracy: 0.8361\n",
      "Epoch 12/100\n",
      "242/242 [==============================] - 0s 1ms/step - loss: 0.4122 - accuracy: 0.8099 - val_loss: 0.3595 - val_accuracy: 0.8361\n",
      "Epoch 13/100\n",
      "242/242 [==============================] - 0s 1ms/step - loss: 0.4097 - accuracy: 0.8017 - val_loss: 0.3506 - val_accuracy: 0.8361\n",
      "Epoch 14/100\n",
      "242/242 [==============================] - 0s 632us/step - loss: 0.3941 - accuracy: 0.8264 - val_loss: 0.3474 - val_accuracy: 0.8361\n",
      "Epoch 15/100\n",
      "242/242 [==============================] - 0s 932us/step - loss: 0.3912 - accuracy: 0.8223 - val_loss: 0.3415 - val_accuracy: 0.8361\n",
      "Epoch 16/100\n",
      "242/242 [==============================] - 0s 1ms/step - loss: 0.3855 - accuracy: 0.8306 - val_loss: 0.3381 - val_accuracy: 0.8361\n",
      "Epoch 17/100\n",
      "242/242 [==============================] - 0s 948us/step - loss: 0.3814 - accuracy: 0.8264 - val_loss: 0.3362 - val_accuracy: 0.8361\n",
      "Epoch 18/100\n",
      "242/242 [==============================] - 0s 896us/step - loss: 0.3815 - accuracy: 0.8306 - val_loss: 0.3330 - val_accuracy: 0.8361\n",
      "Epoch 19/100\n",
      "242/242 [==============================] - 0s 569us/step - loss: 0.3771 - accuracy: 0.8347 - val_loss: 0.3300 - val_accuracy: 0.8361\n",
      "Epoch 20/100\n",
      "242/242 [==============================] - 0s 908us/step - loss: 0.3759 - accuracy: 0.8388 - val_loss: 0.3259 - val_accuracy: 0.8525\n",
      "Epoch 21/100\n",
      "242/242 [==============================] - 0s 833us/step - loss: 0.3707 - accuracy: 0.8512 - val_loss: 0.3264 - val_accuracy: 0.8361\n",
      "Epoch 22/100\n",
      "242/242 [==============================] - 0s 463us/step - loss: 0.3674 - accuracy: 0.8595 - val_loss: 0.3198 - val_accuracy: 0.8525\n",
      "Epoch 23/100\n",
      "242/242 [==============================] - 0s 991us/step - loss: 0.3665 - accuracy: 0.8554 - val_loss: 0.3225 - val_accuracy: 0.8525\n",
      "Epoch 24/100\n",
      "242/242 [==============================] - 0s 526us/step - loss: 0.3694 - accuracy: 0.8430 - val_loss: 0.3253 - val_accuracy: 0.8361\n",
      "Epoch 25/100\n",
      "242/242 [==============================] - 0s 488us/step - loss: 0.3628 - accuracy: 0.8636 - val_loss: 0.3189 - val_accuracy: 0.8525\n",
      "Epoch 26/100\n",
      "242/242 [==============================] - 0s 1ms/step - loss: 0.3612 - accuracy: 0.8595 - val_loss: 0.3193 - val_accuracy: 0.8525\n",
      "Epoch 27/100\n",
      "242/242 [==============================] - 0s 868us/step - loss: 0.3585 - accuracy: 0.8636 - val_loss: 0.3169 - val_accuracy: 0.8525\n",
      "Epoch 28/100\n",
      "242/242 [==============================] - 0s 804us/step - loss: 0.3592 - accuracy: 0.8636 - val_loss: 0.3160 - val_accuracy: 0.8525\n",
      "Epoch 29/100\n",
      "242/242 [==============================] - 0s 993us/step - loss: 0.3632 - accuracy: 0.8512 - val_loss: 0.3141 - val_accuracy: 0.8525\n",
      "Epoch 30/100\n",
      "242/242 [==============================] - 0s 688us/step - loss: 0.3609 - accuracy: 0.8554 - val_loss: 0.3172 - val_accuracy: 0.8525\n",
      "Epoch 31/100\n",
      "242/242 [==============================] - 0s 1ms/step - loss: 0.3547 - accuracy: 0.8554 - val_loss: 0.3172 - val_accuracy: 0.8525\n",
      "Epoch 32/100\n",
      "242/242 [==============================] - 0s 492us/step - loss: 0.3555 - accuracy: 0.8760 - val_loss: 0.3182 - val_accuracy: 0.8525\n",
      "Epoch 33/100\n",
      "242/242 [==============================] - 0s 492us/step - loss: 0.3495 - accuracy: 0.8760 - val_loss: 0.3149 - val_accuracy: 0.8525\n",
      "Epoch 34/100\n",
      "242/242 [==============================] - 0s 691us/step - loss: 0.3492 - accuracy: 0.8719 - val_loss: 0.3120 - val_accuracy: 0.8525\n",
      "Epoch 35/100\n",
      "242/242 [==============================] - 0s 820us/step - loss: 0.3471 - accuracy: 0.8760 - val_loss: 0.3188 - val_accuracy: 0.8525\n",
      "Epoch 36/100\n",
      "242/242 [==============================] - 0s 748us/step - loss: 0.3452 - accuracy: 0.8802 - val_loss: 0.3145 - val_accuracy: 0.8525\n",
      "Epoch 37/100\n",
      "242/242 [==============================] - 0s 683us/step - loss: 0.3435 - accuracy: 0.8802 - val_loss: 0.3123 - val_accuracy: 0.8525\n",
      "Epoch 38/100\n",
      "242/242 [==============================] - ETA: 0s - loss: 0.3316 - accuracy: 0.88 - 0s 720us/step - loss: 0.3437 - accuracy: 0.8843 - val_loss: 0.3119 - val_accuracy: 0.8525\n",
      "Epoch 39/100\n",
      "242/242 [==============================] - 0s 634us/step - loss: 0.3493 - accuracy: 0.8636 - val_loss: 0.3106 - val_accuracy: 0.8525\n",
      "Epoch 40/100\n",
      "242/242 [==============================] - 0s 483us/step - loss: 0.3441 - accuracy: 0.8802 - val_loss: 0.3121 - val_accuracy: 0.8525\n",
      "Epoch 41/100\n",
      "242/242 [==============================] - 0s 385us/step - loss: 0.3421 - accuracy: 0.8678 - val_loss: 0.3124 - val_accuracy: 0.8525\n",
      "Epoch 42/100\n",
      "242/242 [==============================] - ETA: 0s - loss: 0.3128 - accuracy: 0.89 - 0s 332us/step - loss: 0.3404 - accuracy: 0.8760 - val_loss: 0.3127 - val_accuracy: 0.8525\n",
      "Epoch 43/100\n",
      "242/242 [==============================] - 0s 304us/step - loss: 0.3445 - accuracy: 0.8802 - val_loss: 0.3124 - val_accuracy: 0.8525\n",
      "Epoch 44/100\n",
      "242/242 [==============================] - 0s 330us/step - loss: 0.3382 - accuracy: 0.8802 - val_loss: 0.3086 - val_accuracy: 0.8525\n",
      "Epoch 45/100\n",
      "242/242 [==============================] - 0s 546us/step - loss: 0.3336 - accuracy: 0.8843 - val_loss: 0.3096 - val_accuracy: 0.8525\n",
      "Epoch 46/100\n",
      "242/242 [==============================] - 0s 438us/step - loss: 0.3335 - accuracy: 0.8760 - val_loss: 0.3105 - val_accuracy: 0.8689\n",
      "Epoch 47/100\n",
      "242/242 [==============================] - 0s 413us/step - loss: 0.3352 - accuracy: 0.8719 - val_loss: 0.3110 - val_accuracy: 0.8689\n",
      "Epoch 48/100\n",
      "242/242 [==============================] - 0s 396us/step - loss: 0.3319 - accuracy: 0.8802 - val_loss: 0.3083 - val_accuracy: 0.8525\n",
      "Epoch 49/100\n",
      "242/242 [==============================] - 0s 517us/step - loss: 0.3297 - accuracy: 0.8760 - val_loss: 0.3150 - val_accuracy: 0.8689\n",
      "Epoch 50/100\n",
      "242/242 [==============================] - 0s 407us/step - loss: 0.3300 - accuracy: 0.8802 - val_loss: 0.3137 - val_accuracy: 0.8689\n",
      "Epoch 51/100\n",
      "242/242 [==============================] - 0s 341us/step - loss: 0.3273 - accuracy: 0.8802 - val_loss: 0.3101 - val_accuracy: 0.8361\n",
      "Epoch 52/100\n",
      "242/242 [==============================] - 0s 440us/step - loss: 0.3273 - accuracy: 0.8884 - val_loss: 0.3120 - val_accuracy: 0.8525\n",
      "Epoch 53/100\n",
      "242/242 [==============================] - 0s 417us/step - loss: 0.3262 - accuracy: 0.8926 - val_loss: 0.3129 - val_accuracy: 0.8689\n",
      "Epoch 54/100\n",
      "242/242 [==============================] - 0s 698us/step - loss: 0.3304 - accuracy: 0.8678 - val_loss: 0.3087 - val_accuracy: 0.8525\n",
      "Epoch 55/100\n",
      "242/242 [==============================] - 0s 485us/step - loss: 0.3249 - accuracy: 0.8884 - val_loss: 0.3095 - val_accuracy: 0.8689\n",
      "Epoch 56/100\n"
     ]
    },
    {
     "name": "stdout",
     "output_type": "stream",
     "text": [
      "242/242 [==============================] - 0s 644us/step - loss: 0.3234 - accuracy: 0.8884 - val_loss: 0.3151 - val_accuracy: 0.8689\n",
      "Epoch 57/100\n",
      "242/242 [==============================] - 0s 870us/step - loss: 0.3248 - accuracy: 0.8760 - val_loss: 0.3124 - val_accuracy: 0.8689\n",
      "Epoch 58/100\n",
      "242/242 [==============================] - 0s 445us/step - loss: 0.3219 - accuracy: 0.8884 - val_loss: 0.3140 - val_accuracy: 0.8689\n",
      "Epoch 59/100\n",
      "242/242 [==============================] - 0s 521us/step - loss: 0.3223 - accuracy: 0.8678 - val_loss: 0.3139 - val_accuracy: 0.8689\n",
      "Epoch 60/100\n",
      "242/242 [==============================] - 0s 682us/step - loss: 0.3186 - accuracy: 0.8884 - val_loss: 0.3147 - val_accuracy: 0.8689\n",
      "Epoch 61/100\n",
      "242/242 [==============================] - 0s 898us/step - loss: 0.3159 - accuracy: 0.8802 - val_loss: 0.3165 - val_accuracy: 0.8689\n",
      "Epoch 62/100\n",
      "242/242 [==============================] - 0s 943us/step - loss: 0.3186 - accuracy: 0.8884 - val_loss: 0.3145 - val_accuracy: 0.8361\n",
      "Epoch 63/100\n",
      "242/242 [==============================] - 0s 726us/step - loss: 0.3207 - accuracy: 0.8719 - val_loss: 0.3146 - val_accuracy: 0.8689\n",
      "Epoch 64/100\n",
      "242/242 [==============================] - 0s 912us/step - loss: 0.3131 - accuracy: 0.8926 - val_loss: 0.3159 - val_accuracy: 0.8361\n",
      "Epoch 65/100\n",
      "242/242 [==============================] - 0s 749us/step - loss: 0.3166 - accuracy: 0.8678 - val_loss: 0.3157 - val_accuracy: 0.8361\n",
      "Epoch 66/100\n",
      "242/242 [==============================] - 0s 696us/step - loss: 0.3180 - accuracy: 0.8843 - val_loss: 0.3176 - val_accuracy: 0.8525\n",
      "Epoch 67/100\n",
      "242/242 [==============================] - 0s 757us/step - loss: 0.3137 - accuracy: 0.8802 - val_loss: 0.3188 - val_accuracy: 0.8361\n",
      "Epoch 68/100\n",
      "242/242 [==============================] - 0s 985us/step - loss: 0.3105 - accuracy: 0.8843 - val_loss: 0.3144 - val_accuracy: 0.8361\n",
      "Epoch 69/100\n",
      "242/242 [==============================] - 0s 677us/step - loss: 0.3108 - accuracy: 0.8926 - val_loss: 0.3157 - val_accuracy: 0.8361\n",
      "Epoch 70/100\n",
      "242/242 [==============================] - 0s 1ms/step - loss: 0.3072 - accuracy: 0.8884 - val_loss: 0.3138 - val_accuracy: 0.8525\n",
      "Epoch 71/100\n",
      "242/242 [==============================] - 0s 1ms/step - loss: 0.3055 - accuracy: 0.8926 - val_loss: 0.3157 - val_accuracy: 0.8525\n",
      "Epoch 72/100\n",
      "242/242 [==============================] - 0s 917us/step - loss: 0.3024 - accuracy: 0.8926 - val_loss: 0.3177 - val_accuracy: 0.8525\n",
      "Epoch 73/100\n",
      "242/242 [==============================] - 0s 734us/step - loss: 0.3042 - accuracy: 0.8884 - val_loss: 0.3165 - val_accuracy: 0.8525\n",
      "Epoch 74/100\n",
      "242/242 [==============================] - 0s 1ms/step - loss: 0.3039 - accuracy: 0.8760 - val_loss: 0.3160 - val_accuracy: 0.8525\n",
      "Epoch 75/100\n",
      "242/242 [==============================] - 0s 720us/step - loss: 0.3017 - accuracy: 0.8802 - val_loss: 0.3142 - val_accuracy: 0.8525\n",
      "Epoch 76/100\n",
      "242/242 [==============================] - 0s 1ms/step - loss: 0.3007 - accuracy: 0.8719 - val_loss: 0.3135 - val_accuracy: 0.8033\n",
      "Epoch 77/100\n",
      "242/242 [==============================] - 0s 843us/step - loss: 0.2996 - accuracy: 0.8967 - val_loss: 0.3142 - val_accuracy: 0.8197\n",
      "Epoch 78/100\n",
      "242/242 [==============================] - 0s 861us/step - loss: 0.2953 - accuracy: 0.8843 - val_loss: 0.3152 - val_accuracy: 0.8197\n",
      "Epoch 79/100\n",
      "242/242 [==============================] - 0s 1ms/step - loss: 0.2953 - accuracy: 0.8926 - val_loss: 0.3172 - val_accuracy: 0.8197\n",
      "Epoch 80/100\n",
      "242/242 [==============================] - 0s 1ms/step - loss: 0.2930 - accuracy: 0.8843 - val_loss: 0.3160 - val_accuracy: 0.8361\n",
      "Epoch 81/100\n",
      "242/242 [==============================] - 0s 1ms/step - loss: 0.2935 - accuracy: 0.8884 - val_loss: 0.3138 - val_accuracy: 0.8361\n",
      "Epoch 82/100\n",
      "242/242 [==============================] - 0s 1ms/step - loss: 0.2955 - accuracy: 0.8760 - val_loss: 0.3146 - val_accuracy: 0.8197\n",
      "Epoch 83/100\n",
      "242/242 [==============================] - 0s 1ms/step - loss: 0.2908 - accuracy: 0.8926 - val_loss: 0.3169 - val_accuracy: 0.8525\n",
      "Epoch 84/100\n",
      "242/242 [==============================] - 0s 913us/step - loss: 0.2901 - accuracy: 0.8760 - val_loss: 0.3149 - val_accuracy: 0.8197\n",
      "Epoch 85/100\n",
      "242/242 [==============================] - 0s 507us/step - loss: 0.2934 - accuracy: 0.8843 - val_loss: 0.3187 - val_accuracy: 0.8197\n",
      "Epoch 86/100\n",
      "242/242 [==============================] - 0s 892us/step - loss: 0.2910 - accuracy: 0.8843 - val_loss: 0.3207 - val_accuracy: 0.8033\n",
      "Epoch 87/100\n",
      "242/242 [==============================] - 0s 992us/step - loss: 0.2852 - accuracy: 0.8843 - val_loss: 0.3163 - val_accuracy: 0.8197\n",
      "Epoch 88/100\n",
      "242/242 [==============================] - 0s 846us/step - loss: 0.2872 - accuracy: 0.8884 - val_loss: 0.3199 - val_accuracy: 0.8197\n",
      "Epoch 89/100\n",
      "242/242 [==============================] - 0s 591us/step - loss: 0.2849 - accuracy: 0.8802 - val_loss: 0.3225 - val_accuracy: 0.8033\n",
      "Epoch 90/100\n",
      "242/242 [==============================] - 0s 604us/step - loss: 0.2868 - accuracy: 0.8843 - val_loss: 0.3241 - val_accuracy: 0.8197\n",
      "Epoch 91/100\n",
      "242/242 [==============================] - 0s 689us/step - loss: 0.2791 - accuracy: 0.8884 - val_loss: 0.3209 - val_accuracy: 0.8197\n",
      "Epoch 92/100\n",
      "242/242 [==============================] - 0s 717us/step - loss: 0.2796 - accuracy: 0.9008 - val_loss: 0.3199 - val_accuracy: 0.8197\n",
      "Epoch 93/100\n",
      "242/242 [==============================] - 0s 471us/step - loss: 0.2786 - accuracy: 0.8926 - val_loss: 0.3203 - val_accuracy: 0.8197\n",
      "Epoch 94/100\n",
      "242/242 [==============================] - ETA: 0s - loss: 0.2800 - accuracy: 0.90 - 0s 701us/step - loss: 0.2765 - accuracy: 0.9050 - val_loss: 0.3214 - val_accuracy: 0.8197\n",
      "Epoch 95/100\n",
      "242/242 [==============================] - 0s 666us/step - loss: 0.2748 - accuracy: 0.8926 - val_loss: 0.3224 - val_accuracy: 0.8197\n",
      "Epoch 96/100\n",
      "242/242 [==============================] - 0s 614us/step - loss: 0.2743 - accuracy: 0.8884 - val_loss: 0.3254 - val_accuracy: 0.8197\n",
      "Epoch 97/100\n",
      "242/242 [==============================] - 0s 715us/step - loss: 0.2790 - accuracy: 0.8926 - val_loss: 0.3289 - val_accuracy: 0.8197\n",
      "Epoch 98/100\n",
      "242/242 [==============================] - 0s 636us/step - loss: 0.2702 - accuracy: 0.8967 - val_loss: 0.3253 - val_accuracy: 0.8361\n",
      "Epoch 99/100\n",
      "242/242 [==============================] - 0s 616us/step - loss: 0.2701 - accuracy: 0.8884 - val_loss: 0.3254 - val_accuracy: 0.8197\n",
      "Epoch 100/100\n",
      "242/242 [==============================] - 0s 668us/step - loss: 0.2725 - accuracy: 0.8843 - val_loss: 0.3252 - val_accuracy: 0.8361\n"
     ]
    }
   ],
   "source": [
    "acc_training = model.fit(training_data, training_label, validation_data=(testing_data, testing_label), batch_size=10, epochs=100)"
   ]
  },
  {
   "cell_type": "markdown",
   "metadata": {},
   "source": [
    "**Hasil Akurasi Training**\n",
    "\n",
    "Adapun hasil akurasi training dari hasil fit model adalah"
   ]
  },
  {
   "cell_type": "code",
   "execution_count": 140,
   "metadata": {},
   "outputs": [
    {
     "name": "stdout",
     "output_type": "stream",
     "text": [
      "242/242 [==============================] - 0s 555us/step\n"
     ]
    }
   ],
   "source": [
    "training  = model.evaluate(training_data, training_label) "
   ]
  },
  {
   "cell_type": "code",
   "execution_count": 141,
   "metadata": {},
   "outputs": [
    {
     "data": {
      "text/plain": [
       "[0.26575515881057615, 0.9049586653709412]"
      ]
     },
     "execution_count": 141,
     "metadata": {},
     "output_type": "execute_result"
    }
   ],
   "source": [
    "training"
   ]
  },
  {
   "cell_type": "markdown",
   "metadata": {},
   "source": [
    "Besar akurasi training adalah kurang lebih 90%"
   ]
  },
  {
   "cell_type": "markdown",
   "metadata": {},
   "source": [
    "**Hasil Akurasi Testing**\n",
    "\n",
    "Adapun hasil akurasi testing dari hasil fit model adalah"
   ]
  },
  {
   "cell_type": "code",
   "execution_count": 142,
   "metadata": {},
   "outputs": [
    {
     "name": "stdout",
     "output_type": "stream",
     "text": [
      "61/61 [==============================] - 0s 1ms/step\n"
     ]
    }
   ],
   "source": [
    "testing  = model.evaluate(testing_data, testing_label) "
   ]
  },
  {
   "cell_type": "code",
   "execution_count": 143,
   "metadata": {},
   "outputs": [
    {
     "data": {
      "text/plain": [
       "[0.3251884335377177, 0.8360655903816223]"
      ]
     },
     "execution_count": 143,
     "metadata": {},
     "output_type": "execute_result"
    }
   ],
   "source": [
    "testing"
   ]
  },
  {
   "cell_type": "markdown",
   "metadata": {},
   "source": [
    "Besar akurasi testing adalah kurang lebih 83,6%"
   ]
  },
  {
   "cell_type": "markdown",
   "metadata": {},
   "source": [
    "### GRAFIK AKURASI"
   ]
  },
  {
   "cell_type": "markdown",
   "metadata": {},
   "source": [
    "Adapun grafik akurasi dari hasil proses fit model, adalah"
   ]
  },
  {
   "cell_type": "code",
   "execution_count": 126,
   "metadata": {},
   "outputs": [
    {
     "data": {
      "image/png": "[encoded data removed]",
      "text/plain": [
       "<Figure size 864x360 with 1 Axes>"
      ]
     },
     "metadata": {
      "needs_background": "light"
     },
     "output_type": "display_data"
    }
   ],
   "source": [
    "fig,(ax0) = plt.subplots(nrows=1, figsize=(12,5))\n",
    "ax0.plot(acc_training.history['accuracy'],'red', label='Akurasi Training')\n",
    "ax0.plot(acc_training.history['val_accuracy'], 'blue', label='Akurasi Validasi')\n",
    "ax0.plot(label='Accuracy', loc='upper left')\n",
    "ax0.set_title('Model Accuracy')\n",
    "ax0.set_xlabel(\"Epoch\")\n",
    "ax0.set_ylabel(\"Accuracy\")\n",
    "ax0.legend()\n",
    "plt.savefig('Grafik Akurasi.png')"
   ]
  },
  {
   "cell_type": "markdown",
   "metadata": {},
   "source": [
    "Berdasarkan hasil grafik akurasi tersebut, dapat dilihat bahwa masih terjadi ketidakstabilan antar hasil akurasi dari epoch pertama hingga epoch terakhir. Adapun hasil akurasi training lebih tinggi dibandingkan dengan hasil akurasi testing, sehingga terjadi overfitting."
   ]
  },
  {
   "cell_type": "markdown",
   "metadata": {},
   "source": [
    "### GRAFIK LOSS"
   ]
  },
  {
   "cell_type": "code",
   "execution_count": 127,
   "metadata": {
    "scrolled": true
   },
   "outputs": [
    {
     "data": {
      "image/png": "[encoded data removed]",
      "text/plain": [
       "<Figure size 864x360 with 1 Axes>"
      ]
     },
     "metadata": {
      "needs_background": "light"
     },
     "output_type": "display_data"
    }
   ],
   "source": [
    "fig,(ax0) = plt.subplots(nrows=1, figsize=(12,5))\n",
    "ax0.plot(acc_training.history['loss'],'red', label='Akurasi Training')\n",
    "ax0.plot(acc_training.history['val_loss'], 'blue', label='Akurasi Validasi')\n",
    "ax0.plot(label='Accuracy', loc='upper left')\n",
    "ax0.set_title('Model Accuracy')\n",
    "ax0.set_xlabel(\"Epoch\")\n",
    "ax0.set_ylabel(\"Accuracy\")\n",
    "ax0.legend()\n",
    "plt.savefig('Grafik LOSS.png')"
   ]
  },
  {
   "cell_type": "markdown",
   "metadata": {},
   "source": [
    "### CONFUSSION MATRIKS UNTUK EVALUASI MODEL"
   ]
  },
  {
   "cell_type": "markdown",
   "metadata": {},
   "source": [
    "Confussion matriks digunakan untuk melakukan evaluasi model dengan cara melihat presisi dari model dan akurasi dari model tersebut"
   ]
  },
  {
   "cell_type": "code",
   "execution_count": 133,
   "metadata": {},
   "outputs": [],
   "source": [
    "from sklearn.metrics import confusion_matrix,classification_report,precision_score,f1_score,recall_score,accuracy_score\n",
    "prediction = model.predict_classes(testing_data)"
   ]
  },
  {
   "cell_type": "code",
   "execution_count": 129,
   "metadata": {},
   "outputs": [],
   "source": [
    "label_testing = np.argmax(testing_label,axis=1)"
   ]
  },
  {
   "cell_type": "code",
   "execution_count": 130,
   "metadata": {},
   "outputs": [
    {
     "name": "stdout",
     "output_type": "stream",
     "text": [
      "[[24  4]\n",
      " [ 6 27]]\n"
     ]
    }
   ],
   "source": [
    "cm = confusion_matrix(label_testing, prediction) \n",
    "print(cm)"
   ]
  },
  {
   "cell_type": "markdown",
   "metadata": {},
   "source": [
    "Berdasarkan matriks tersebut, 24 merupakan true positif (tp) yang menjelaskan bahwa model tersebut memprediksi pasien terindikasi penyakit dan pasien tersebut benar-benar terindikasi mengindap penyakit tersebut.\n",
    "\n",
    "Angka 4 merupakan false positive (fp) yang menjelaskan bahwa model tersebut memprediksi pasien terindikasi penyakit dan pasien tersebut ternyata tidak terindikasi mengindap penyakit tersebut.\n",
    "\n",
    "Angka 6 merupakan false negatif (fn) yang menjelaskan bahwa bahwa model tersebut memprediksi pasien tidak terindikasi penyakit dan pasien tersebut ternyata benar-benar mengindap penyakit tersebut.\n",
    "\n",
    "Angka 27 merupakan true negatif (tn) yang menjelaskan bahwa model tersebut memprediksi pasien tidak terindikasi penyakit dan pasien tersebut ternyata benar-benar tidak terindikasi mengindap penyakit tersebut."
   ]
  },
  {
   "cell_type": "code",
   "execution_count": 131,
   "metadata": {},
   "outputs": [],
   "source": [
    "tp = cm[0,0]\n",
    "tn = cm[1,1]\n",
    "fp = cm[0,1]\n",
    "fn = cm[1,0]"
   ]
  },
  {
   "cell_type": "code",
   "execution_count": 144,
   "metadata": {},
   "outputs": [],
   "source": [
    "precision = tp / ( tp + fp)\n",
    "recall = tp/(tp+fn)\n",
    "f1=(2*precision*recall)/ (precision+recall)\n",
    "akurasi = (tp+tn)/(tp+tn+fp+fn)"
   ]
  },
  {
   "cell_type": "markdown",
   "metadata": {},
   "source": [
    "### Presisi\n",
    "\n",
    "Merupakan kemampuan model dalam mengidentifikasi data yang relevan"
   ]
  },
  {
   "cell_type": "code",
   "execution_count": 145,
   "metadata": {},
   "outputs": [
    {
     "data": {
      "text/plain": [
       "0.8571428571428571"
      ]
     },
     "execution_count": 145,
     "metadata": {},
     "output_type": "execute_result"
    }
   ],
   "source": [
    "precision"
   ]
  },
  {
   "cell_type": "markdown",
   "metadata": {},
   "source": [
    "### Recall\n",
    "\n",
    "Merupakan kemampuan model untuk menemukan semua kasus yang relevan dalam satu dataset"
   ]
  },
  {
   "cell_type": "code",
   "execution_count": 146,
   "metadata": {},
   "outputs": [
    {
     "data": {
      "text/plain": [
       "0.8"
      ]
     },
     "execution_count": 146,
     "metadata": {},
     "output_type": "execute_result"
    }
   ],
   "source": [
    "recall"
   ]
  },
  {
   "cell_type": "markdown",
   "metadata": {},
   "source": [
    "### F1 Score\n",
    "\n",
    "Merupakan rata-rata nilai dari nilai presisi dan recall. "
   ]
  },
  {
   "cell_type": "code",
   "execution_count": 147,
   "metadata": {},
   "outputs": [
    {
     "data": {
      "text/plain": [
       "0.8275862068965518"
      ]
     },
     "execution_count": 147,
     "metadata": {},
     "output_type": "execute_result"
    }
   ],
   "source": [
    "f1"
   ]
  },
  {
   "cell_type": "markdown",
   "metadata": {},
   "source": [
    "### Akurasi\n",
    "\n",
    "Merupakan rasio pengamatan yang diprediksi dengan benar dari total pengamatan yang dilakukan"
   ]
  },
  {
   "cell_type": "code",
   "execution_count": 148,
   "metadata": {},
   "outputs": [
    {
     "data": {
      "text/plain": [
       "0.8360655737704918"
      ]
     },
     "execution_count": 148,
     "metadata": {},
     "output_type": "execute_result"
    }
   ],
   "source": [
    "akurasi"
   ]
  },
  {
   "cell_type": "markdown",
   "metadata": {},
   "source": [
    "**Jadi nilai presisi dari model ini adalah kurang lebih 85%, nilai recall adalah 80%, nilai f1 score adalah kurang lebih 82% dan nilai akurasinya adalah 83%**"
   ]
  },
  {
   "cell_type": "markdown",
   "metadata": {},
   "source": [
    "   "
   ]
  },
  {
   "cell_type": "markdown",
   "metadata": {},
   "source": [
    "   "
   ]
  },
  {
   "cell_type": "markdown",
   "metadata": {},
   "source": [
    "\n",
    "\n",
    "\n",
    "\n",
    "\n",
    "Sumber Referensi : Coronary Heart Disease Interpretation Based on Deep Neural Network (Annisa Darmawahyuni, Siti Nurmaini*, Firdaus )"
   ]
  }
 ],
 "metadata": {
  "kernelspec": {
   "display_name": "Python 3",
   "language": "python",
   "name": "python3"
  },
  "language_info": {
   "codemirror_mode": {
    "name": "ipython",
    "version": 3
   },
   "file_extension": ".py",
   "mimetype": "text/x-python",
   "name": "python",
   "nbconvert_exporter": "python",
   "pygments_lexer": "ipython3",
   "version": "3.6.5"
  }
 },
 "nbformat": 4,
 "nbformat_minor": 2
}
