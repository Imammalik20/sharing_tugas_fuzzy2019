{
 "cells": [
  {
   "cell_type": "markdown",
   "metadata": {},
   "source": [
    "<b>NAMA : Alif Muhamad Hafidz\n",
    "\n",
    "<b>NIM : 09011281722044\n",
    "\n",
    "<b>Kelas : SK5B\n",
    "\n",
    "<b>MK : AI\n",
    "\n",
    "<b>Dosen Pengampuh : Prof. Dr. Ir. Siti Nurmaini, M.T.\n",
    "\n",
    "<b>Heart Disease Prediction With ANN\n"
   ]
  },
  {
   "cell_type": "markdown",
   "metadata": {},
   "source": [
    "# Library yang dipakai\n",
    "\n",
    "\n",
    "#### Numpy  \n",
    "Modul ini berfungsi untuk melakukan beberapa fungsi matematika seperti array, dan matriks. Pada program ini numpy digunakan untuk generate array untuk membuat grafik confusion matriks.\n",
    "\n",
    "#### Pandas  \n",
    "Modul ini akan digunakan untuk Load Dataset.\n",
    "\n",
    "#### Seaborn\n",
    "\n",
    "Modul ini digunakan untuk plot grafik distribusi nilai dari Class (output), modul ini berbasis matplotlib.\n",
    "\n",
    "#### Sklearn \n",
    "\n",
    "Modul ini digunakan untuk mengolah data Machine Learning seperti preprocessing.\n",
    "\n",
    "#### Keras \n",
    "\n",
    "Modul ini digunakan untuk membuat, menambah, dan mengevaluasi model neural network.\n",
    "\n",
    "#### Matplotlib \n",
    "Modul ini digunakan untuk mencetak grafik pada beberapa event seperti grafik distribusi variabel, grafik confusion matrix dan grafik akurasi.\n",
    "\n"
   ]
  },
  {
   "cell_type": "code",
   "execution_count": 1,
   "metadata": {},
   "outputs": [
    {
     "name": "stderr",
     "output_type": "stream",
     "text": [
      "Using TensorFlow backend.\n"
     ]
    }
   ],
   "source": [
    "import numpy as np\n",
    "import pandas as pd\n",
    "import seaborn as sns\n",
    "import sklearn\n",
    "from sklearn.model_selection import train_test_split\n",
    "from keras.models import Sequential\n",
    "from keras.layers import Dense, Activation, Dropout\n",
    "import matplotlib.pyplot as plt\n",
    "from sklearn.preprocessing import MinMaxScaler"
   ]
  },
  {
   "cell_type": "markdown",
   "metadata": {},
   "source": [
    "Link Dataset = https://www.mldata.io/dataset-details/heart_disease/\n",
    "### Dataset\n",
    "\n",
    "### Fitur/input = 13\n",
    "\n",
    "### Label/Output = 1\n",
    "\n"
   ]
  },
  {
   "cell_type": "markdown",
   "metadata": {},
   "source": [
    "## INPUT Data Set"
   ]
  },
  {
   "cell_type": "code",
   "execution_count": 2,
   "metadata": {},
   "outputs": [],
   "source": [
    "dataset = pd.read_csv(\"heart_disease_dataset.csv\")"
   ]
  },
  {
   "cell_type": "code",
   "execution_count": 3,
   "metadata": {},
   "outputs": [
    {
     "data": {
      "text/html": [
       "<div>\n",
       "<style scoped>\n",
       "    .dataframe tbody tr th:only-of-type {\n",
       "        vertical-align: middle;\n",
       "    }\n",
       "\n",
       "    .dataframe tbody tr th {\n",
       "        vertical-align: top;\n",
       "    }\n",
       "\n",
       "    .dataframe thead th {\n",
       "        text-align: right;\n",
       "    }\n",
       "</style>\n",
       "<table border=\"1\" class=\"dataframe\">\n",
       "  <thead>\n",
       "    <tr style=\"text-align: right;\">\n",
       "      <th></th>\n",
       "      <th>age</th>\n",
       "      <th>sex</th>\n",
       "      <th>cp</th>\n",
       "      <th>trestbps</th>\n",
       "      <th>chol</th>\n",
       "      <th>fbs</th>\n",
       "      <th>restecg</th>\n",
       "      <th>thalach</th>\n",
       "      <th>exang</th>\n",
       "      <th>oldpeak</th>\n",
       "      <th>slope</th>\n",
       "      <th>ca</th>\n",
       "      <th>thal</th>\n",
       "      <th>num</th>\n",
       "    </tr>\n",
       "  </thead>\n",
       "  <tbody>\n",
       "    <tr>\n",
       "      <td>0</td>\n",
       "      <td>63</td>\n",
       "      <td>1</td>\n",
       "      <td>1</td>\n",
       "      <td>145</td>\n",
       "      <td>233</td>\n",
       "      <td>1</td>\n",
       "      <td>2</td>\n",
       "      <td>150</td>\n",
       "      <td>0</td>\n",
       "      <td>2.3</td>\n",
       "      <td>3</td>\n",
       "      <td>0</td>\n",
       "      <td>6</td>\n",
       "      <td>0</td>\n",
       "    </tr>\n",
       "    <tr>\n",
       "      <td>1</td>\n",
       "      <td>67</td>\n",
       "      <td>1</td>\n",
       "      <td>4</td>\n",
       "      <td>160</td>\n",
       "      <td>286</td>\n",
       "      <td>0</td>\n",
       "      <td>2</td>\n",
       "      <td>108</td>\n",
       "      <td>1</td>\n",
       "      <td>1.5</td>\n",
       "      <td>2</td>\n",
       "      <td>3</td>\n",
       "      <td>3</td>\n",
       "      <td>1</td>\n",
       "    </tr>\n",
       "    <tr>\n",
       "      <td>2</td>\n",
       "      <td>67</td>\n",
       "      <td>1</td>\n",
       "      <td>4</td>\n",
       "      <td>120</td>\n",
       "      <td>229</td>\n",
       "      <td>0</td>\n",
       "      <td>2</td>\n",
       "      <td>129</td>\n",
       "      <td>1</td>\n",
       "      <td>2.6</td>\n",
       "      <td>2</td>\n",
       "      <td>2</td>\n",
       "      <td>7</td>\n",
       "      <td>1</td>\n",
       "    </tr>\n",
       "    <tr>\n",
       "      <td>3</td>\n",
       "      <td>37</td>\n",
       "      <td>1</td>\n",
       "      <td>3</td>\n",
       "      <td>130</td>\n",
       "      <td>250</td>\n",
       "      <td>0</td>\n",
       "      <td>0</td>\n",
       "      <td>187</td>\n",
       "      <td>0</td>\n",
       "      <td>3.5</td>\n",
       "      <td>3</td>\n",
       "      <td>0</td>\n",
       "      <td>3</td>\n",
       "      <td>0</td>\n",
       "    </tr>\n",
       "    <tr>\n",
       "      <td>4</td>\n",
       "      <td>41</td>\n",
       "      <td>0</td>\n",
       "      <td>2</td>\n",
       "      <td>130</td>\n",
       "      <td>204</td>\n",
       "      <td>0</td>\n",
       "      <td>2</td>\n",
       "      <td>172</td>\n",
       "      <td>0</td>\n",
       "      <td>1.4</td>\n",
       "      <td>1</td>\n",
       "      <td>0</td>\n",
       "      <td>3</td>\n",
       "      <td>0</td>\n",
       "    </tr>\n",
       "    <tr>\n",
       "      <td>...</td>\n",
       "      <td>...</td>\n",
       "      <td>...</td>\n",
       "      <td>...</td>\n",
       "      <td>...</td>\n",
       "      <td>...</td>\n",
       "      <td>...</td>\n",
       "      <td>...</td>\n",
       "      <td>...</td>\n",
       "      <td>...</td>\n",
       "      <td>...</td>\n",
       "      <td>...</td>\n",
       "      <td>...</td>\n",
       "      <td>...</td>\n",
       "      <td>...</td>\n",
       "    </tr>\n",
       "    <tr>\n",
       "      <td>298</td>\n",
       "      <td>45</td>\n",
       "      <td>1</td>\n",
       "      <td>1</td>\n",
       "      <td>110</td>\n",
       "      <td>264</td>\n",
       "      <td>0</td>\n",
       "      <td>0</td>\n",
       "      <td>132</td>\n",
       "      <td>0</td>\n",
       "      <td>1.2</td>\n",
       "      <td>2</td>\n",
       "      <td>0</td>\n",
       "      <td>7</td>\n",
       "      <td>1</td>\n",
       "    </tr>\n",
       "    <tr>\n",
       "      <td>299</td>\n",
       "      <td>68</td>\n",
       "      <td>1</td>\n",
       "      <td>4</td>\n",
       "      <td>144</td>\n",
       "      <td>193</td>\n",
       "      <td>1</td>\n",
       "      <td>0</td>\n",
       "      <td>141</td>\n",
       "      <td>0</td>\n",
       "      <td>3.4</td>\n",
       "      <td>2</td>\n",
       "      <td>2</td>\n",
       "      <td>7</td>\n",
       "      <td>1</td>\n",
       "    </tr>\n",
       "    <tr>\n",
       "      <td>300</td>\n",
       "      <td>57</td>\n",
       "      <td>1</td>\n",
       "      <td>4</td>\n",
       "      <td>130</td>\n",
       "      <td>131</td>\n",
       "      <td>0</td>\n",
       "      <td>0</td>\n",
       "      <td>115</td>\n",
       "      <td>1</td>\n",
       "      <td>1.2</td>\n",
       "      <td>2</td>\n",
       "      <td>1</td>\n",
       "      <td>7</td>\n",
       "      <td>1</td>\n",
       "    </tr>\n",
       "    <tr>\n",
       "      <td>301</td>\n",
       "      <td>57</td>\n",
       "      <td>0</td>\n",
       "      <td>2</td>\n",
       "      <td>130</td>\n",
       "      <td>236</td>\n",
       "      <td>0</td>\n",
       "      <td>2</td>\n",
       "      <td>174</td>\n",
       "      <td>0</td>\n",
       "      <td>0.0</td>\n",
       "      <td>2</td>\n",
       "      <td>1</td>\n",
       "      <td>3</td>\n",
       "      <td>1</td>\n",
       "    </tr>\n",
       "    <tr>\n",
       "      <td>302</td>\n",
       "      <td>38</td>\n",
       "      <td>1</td>\n",
       "      <td>3</td>\n",
       "      <td>138</td>\n",
       "      <td>175</td>\n",
       "      <td>0</td>\n",
       "      <td>0</td>\n",
       "      <td>173</td>\n",
       "      <td>0</td>\n",
       "      <td>0.0</td>\n",
       "      <td>1</td>\n",
       "      <td>-100000</td>\n",
       "      <td>3</td>\n",
       "      <td>0</td>\n",
       "    </tr>\n",
       "  </tbody>\n",
       "</table>\n",
       "<p>303 rows × 14 columns</p>\n",
       "</div>"
      ],
      "text/plain": [
       "     age  sex  cp  trestbps  chol  fbs  restecg  thalach  exang  oldpeak  \\\n",
       "0     63    1   1       145   233    1        2      150      0      2.3   \n",
       "1     67    1   4       160   286    0        2      108      1      1.5   \n",
       "2     67    1   4       120   229    0        2      129      1      2.6   \n",
       "3     37    1   3       130   250    0        0      187      0      3.5   \n",
       "4     41    0   2       130   204    0        2      172      0      1.4   \n",
       "..   ...  ...  ..       ...   ...  ...      ...      ...    ...      ...   \n",
       "298   45    1   1       110   264    0        0      132      0      1.2   \n",
       "299   68    1   4       144   193    1        0      141      0      3.4   \n",
       "300   57    1   4       130   131    0        0      115      1      1.2   \n",
       "301   57    0   2       130   236    0        2      174      0      0.0   \n",
       "302   38    1   3       138   175    0        0      173      0      0.0   \n",
       "\n",
       "     slope      ca  thal  num  \n",
       "0        3       0     6    0  \n",
       "1        2       3     3    1  \n",
       "2        2       2     7    1  \n",
       "3        3       0     3    0  \n",
       "4        1       0     3    0  \n",
       "..     ...     ...   ...  ...  \n",
       "298      2       0     7    1  \n",
       "299      2       2     7    1  \n",
       "300      2       1     7    1  \n",
       "301      2       1     3    1  \n",
       "302      1 -100000     3    0  \n",
       "\n",
       "[303 rows x 14 columns]"
      ]
     },
     "execution_count": 3,
     "metadata": {},
     "output_type": "execute_result"
    }
   ],
   "source": [
    "dataset"
   ]
  },
  {
   "cell_type": "markdown",
   "metadata": {},
   "source": [
    "## Pemisahan antara Fitur dan Label\n",
    "    \n",
    "\n",
    "Fitur dipisahkan dari kolom 1 sampai 13 sehingga kolom ke 14 tidak saya ambil karena kolom ke 14 adalah Output "
   ]
  },
  {
   "cell_type": "code",
   "execution_count": 4,
   "metadata": {},
   "outputs": [],
   "source": [
    "Fitur = dataset.iloc[:,0:13].values\n",
    "Label = dataset.iloc[:,13].values\n"
   ]
  },
  {
   "cell_type": "markdown",
   "metadata": {},
   "source": [
    "Isi data pada Fitur"
   ]
  },
  {
   "cell_type": "code",
   "execution_count": 5,
   "metadata": {},
   "outputs": [
    {
     "data": {
      "text/plain": [
       "array([[ 6.3e+01,  1.0e+00,  1.0e+00, ...,  3.0e+00,  0.0e+00,  6.0e+00],\n",
       "       [ 6.7e+01,  1.0e+00,  4.0e+00, ...,  2.0e+00,  3.0e+00,  3.0e+00],\n",
       "       [ 6.7e+01,  1.0e+00,  4.0e+00, ...,  2.0e+00,  2.0e+00,  7.0e+00],\n",
       "       ...,\n",
       "       [ 5.7e+01,  1.0e+00,  4.0e+00, ...,  2.0e+00,  1.0e+00,  7.0e+00],\n",
       "       [ 5.7e+01,  0.0e+00,  2.0e+00, ...,  2.0e+00,  1.0e+00,  3.0e+00],\n",
       "       [ 3.8e+01,  1.0e+00,  3.0e+00, ...,  1.0e+00, -1.0e+05,  3.0e+00]])"
      ]
     },
     "execution_count": 5,
     "metadata": {},
     "output_type": "execute_result"
    }
   ],
   "source": [
    "Fitur"
   ]
  },
  {
   "cell_type": "markdown",
   "metadata": {},
   "source": [
    "Isi data pada Label"
   ]
  },
  {
   "cell_type": "code",
   "execution_count": 6,
   "metadata": {},
   "outputs": [
    {
     "data": {
      "text/plain": [
       "array([0, 1, 1, 0, 0, 0, 1, 0, 1, 1, 0, 0, 1, 0, 0, 0, 1, 0, 0, 0, 0, 0,\n",
       "       1, 1, 1, 0, 0, 0, 0, 1, 0, 1, 1, 0, 0, 0, 1, 1, 1, 0, 1, 0, 0, 0,\n",
       "       1, 1, 0, 1, 0, 0, 0, 0, 1, 0, 1, 1, 1, 1, 0, 0, 1, 0, 1, 0, 1, 1,\n",
       "       1, 0, 1, 1, 0, 1, 1, 1, 1, 0, 1, 0, 0, 1, 0, 0, 0, 1, 0, 0, 0, 0,\n",
       "       0, 0, 0, 1, 0, 0, 0, 1, 1, 1, 0, 0, 0, 0, 0, 0, 1, 0, 1, 1, 1, 1,\n",
       "       1, 1, 0, 1, 1, 0, 0, 0, 1, 1, 1, 1, 0, 1, 1, 0, 1, 1, 0, 0, 0, 0,\n",
       "       0, 0, 0, 0, 1, 1, 1, 0, 0, 1, 0, 1, 0, 1, 1, 0, 0, 0, 0, 0, 0, 1,\n",
       "       1, 1, 1, 1, 1, 0, 0, 1, 0, 0, 0, 0, 0, 0, 1, 0, 1, 0, 1, 0, 1, 1,\n",
       "       0, 1, 0, 0, 1, 1, 0, 0, 1, 0, 0, 1, 1, 1, 0, 1, 1, 1, 0, 1, 0, 0,\n",
       "       0, 1, 0, 0, 0, 0, 0, 1, 1, 1, 0, 1, 0, 1, 0, 1, 1, 0, 0, 0, 0, 0,\n",
       "       0, 0, 0, 1, 1, 0, 0, 0, 1, 1, 0, 1, 1, 0, 0, 1, 1, 1, 0, 0, 0, 0,\n",
       "       0, 1, 0, 1, 1, 1, 1, 0, 0, 1, 0, 0, 0, 0, 0, 0, 0, 1, 0, 1, 0, 0,\n",
       "       1, 1, 1, 1, 1, 0, 1, 0, 1, 0, 1, 0, 0, 0, 1, 0, 1, 0, 1, 0, 1, 1,\n",
       "       1, 0, 0, 0, 1, 0, 1, 1, 1, 0, 1, 1, 1, 1, 1, 1, 0], dtype=int64)"
      ]
     },
     "execution_count": 6,
     "metadata": {},
     "output_type": "execute_result"
    }
   ],
   "source": [
    "Label"
   ]
  },
  {
   "cell_type": "markdown",
   "metadata": {},
   "source": [
    "## Preprocessing\n",
    "Pada proses preprocessing ini, kita akan memproses nilai Fitur kedalam jarak atau perbandingan yang berdekatan, supaya hasil training bisa maksimal, banyak metode dalam process preprocessing ini, kali ini akan metode PreProcessing yang digunkan adalah metode MinMaxScaler. "
   ]
  },
  {
   "cell_type": "code",
   "execution_count": 7,
   "metadata": {},
   "outputs": [],
   "source": [
    "scaler = MinMaxScaler()\n",
    "data = scaler.fit_transform(Fitur)"
   ]
  },
  {
   "cell_type": "markdown",
   "metadata": {},
   "source": [
    "## Splitting Data Testing dan Data Training\n",
    "\n",
    "Data di Split menjadi 20% testing dan 80% training dan data dipilih secara acak."
   ]
  },
  {
   "cell_type": "code",
   "execution_count": 8,
   "metadata": {},
   "outputs": [],
   "source": [
    "data_training, data_testing, target_training, target_testing = train_test_split(data, Label, test_size=0.2, random_state=42)"
   ]
  },
  {
   "cell_type": "markdown",
   "metadata": {},
   "source": [
    "# Model ANN\n",
    "\n",
    "Disini digunakan model Sequential(). \n",
    "1. Input layer -> Layer pertama terbentuk dari 13 layer Neural sesuai fitur dengan menggunakan activation relu.\n",
    "2. Hidden Layer pertama -> 60 units Neural Network dengan menggunakan activation relu.\n",
    "3. Output layer -> 1 unit Neural Network dengan menggunakan activation sigmoid.\n",
    "\n",
    "<img src=\"hidden.PNG\">"
   ]
  },
  {
   "cell_type": "code",
   "execution_count": 9,
   "metadata": {},
   "outputs": [],
   "source": [
    "model = Sequential()\n",
    "model.add(Dense(60, input_dim=13, activation='relu'))\n",
    "model.add(Dense(1, activation='sigmoid'))"
   ]
  },
  {
   "cell_type": "markdown",
   "metadata": {},
   "source": [
    "# Compile Model\n",
    "\n",
    "Model Dicompile dengan Optimizer Adam dengan fungsi loss Binary Crossentropy\n",
    "\n",
    "compile() berfungsi mengembalikan objek kode Python dari sumber (string normal, string byte, atau objek). Dalam hal ini menggunakan optimizer adam dan categorical loss yaitu binary crossentropy."
   ]
  },
  {
   "cell_type": "code",
   "execution_count": 10,
   "metadata": {},
   "outputs": [
    {
     "name": "stdout",
     "output_type": "stream",
     "text": [
      "WARNING:tensorflow:From C:\\Users\\Alif Muhamad Hafidz\\Anaconda3\\lib\\site-packages\\tensorflow\\python\\ops\\nn_impl.py:180: add_dispatch_support.<locals>.wrapper (from tensorflow.python.ops.array_ops) is deprecated and will be removed in a future version.\n",
      "Instructions for updating:\n",
      "Use tf.where in 2.0, which has the same broadcast rule as np.where\n"
     ]
    }
   ],
   "source": [
    "from keras.optimizers import Adam\n",
    "model.compile(optimizer=Adam(lr=0.001), loss='binary_crossentropy', metrics=['accuracy'])"
   ]
  },
  {
   "cell_type": "markdown",
   "metadata": {},
   "source": [
    "## Training model dengan data train"
   ]
  },
  {
   "cell_type": "code",
   "execution_count": 11,
   "metadata": {},
   "outputs": [
    {
     "name": "stdout",
     "output_type": "stream",
     "text": [
      "WARNING:tensorflow:From C:\\Users\\Alif Muhamad Hafidz\\Anaconda3\\lib\\site-packages\\keras\\backend\\tensorflow_backend.py:422: The name tf.global_variables is deprecated. Please use tf.compat.v1.global_variables instead.\n",
      "\n",
      "Train on 242 samples, validate on 61 samples\n",
      "Epoch 1/70\n",
      "242/242 [==============================] - 0s 664us/step - loss: 0.7051 - accuracy: 0.4008 - val_loss: 0.6986 - val_accuracy: 0.4426\n",
      "Epoch 2/70\n",
      "242/242 [==============================] - 0s 54us/step - loss: 0.6846 - accuracy: 0.5826 - val_loss: 0.6788 - val_accuracy: 0.5738\n",
      "Epoch 3/70\n",
      "242/242 [==============================] - 0s 70us/step - loss: 0.6676 - accuracy: 0.6942 - val_loss: 0.6624 - val_accuracy: 0.6721\n",
      "Epoch 4/70\n",
      "242/242 [==============================] - 0s 70us/step - loss: 0.6496 - accuracy: 0.7314 - val_loss: 0.6439 - val_accuracy: 0.7541\n",
      "Epoch 5/70\n",
      "242/242 [==============================] - 0s 70us/step - loss: 0.6345 - accuracy: 0.7769 - val_loss: 0.6244 - val_accuracy: 0.8033\n",
      "Epoch 6/70\n",
      "242/242 [==============================] - 0s 74us/step - loss: 0.6194 - accuracy: 0.7975 - val_loss: 0.6069 - val_accuracy: 0.8197\n",
      "Epoch 7/70\n",
      "242/242 [==============================] - 0s 70us/step - loss: 0.6047 - accuracy: 0.7934 - val_loss: 0.5937 - val_accuracy: 0.8197\n",
      "Epoch 8/70\n",
      "242/242 [==============================] - 0s 74us/step - loss: 0.5911 - accuracy: 0.7810 - val_loss: 0.5805 - val_accuracy: 0.8197\n",
      "Epoch 9/70\n",
      "242/242 [==============================] - 0s 70us/step - loss: 0.5785 - accuracy: 0.7934 - val_loss: 0.5645 - val_accuracy: 0.8033\n",
      "Epoch 10/70\n",
      "242/242 [==============================] - 0s 70us/step - loss: 0.5663 - accuracy: 0.7934 - val_loss: 0.5483 - val_accuracy: 0.8361\n",
      "Epoch 11/70\n",
      "242/242 [==============================] - 0s 70us/step - loss: 0.5547 - accuracy: 0.7934 - val_loss: 0.5332 - val_accuracy: 0.8361\n",
      "Epoch 12/70\n",
      "242/242 [==============================] - 0s 78us/step - loss: 0.5445 - accuracy: 0.7893 - val_loss: 0.5203 - val_accuracy: 0.8361\n",
      "Epoch 13/70\n",
      "242/242 [==============================] - 0s 74us/step - loss: 0.5334 - accuracy: 0.7975 - val_loss: 0.5116 - val_accuracy: 0.8197\n",
      "Epoch 14/70\n",
      "242/242 [==============================] - 0s 78us/step - loss: 0.5255 - accuracy: 0.7934 - val_loss: 0.5028 - val_accuracy: 0.8197\n",
      "Epoch 15/70\n",
      "242/242 [==============================] - 0s 58us/step - loss: 0.5189 - accuracy: 0.7934 - val_loss: 0.4956 - val_accuracy: 0.8197\n",
      "Epoch 16/70\n",
      "242/242 [==============================] - 0s 66us/step - loss: 0.5123 - accuracy: 0.7934 - val_loss: 0.4865 - val_accuracy: 0.8197\n",
      "Epoch 17/70\n",
      "242/242 [==============================] - 0s 74us/step - loss: 0.5071 - accuracy: 0.7893 - val_loss: 0.4776 - val_accuracy: 0.8197\n",
      "Epoch 18/70\n",
      "242/242 [==============================] - 0s 74us/step - loss: 0.5005 - accuracy: 0.7893 - val_loss: 0.4726 - val_accuracy: 0.8197\n",
      "Epoch 19/70\n",
      "242/242 [==============================] - 0s 70us/step - loss: 0.4979 - accuracy: 0.7975 - val_loss: 0.4720 - val_accuracy: 0.8197\n",
      "Epoch 20/70\n",
      "242/242 [==============================] - 0s 74us/step - loss: 0.4924 - accuracy: 0.7975 - val_loss: 0.4633 - val_accuracy: 0.8197\n",
      "Epoch 21/70\n",
      "242/242 [==============================] - 0s 66us/step - loss: 0.4878 - accuracy: 0.7893 - val_loss: 0.4550 - val_accuracy: 0.8033\n",
      "Epoch 22/70\n",
      "242/242 [==============================] - 0s 70us/step - loss: 0.4843 - accuracy: 0.7934 - val_loss: 0.4514 - val_accuracy: 0.8033\n",
      "Epoch 23/70\n",
      "242/242 [==============================] - 0s 70us/step - loss: 0.4815 - accuracy: 0.7934 - val_loss: 0.4467 - val_accuracy: 0.8033\n",
      "Epoch 24/70\n",
      "242/242 [==============================] - 0s 70us/step - loss: 0.4778 - accuracy: 0.7934 - val_loss: 0.4450 - val_accuracy: 0.8033\n",
      "Epoch 25/70\n",
      "242/242 [==============================] - 0s 74us/step - loss: 0.4754 - accuracy: 0.7975 - val_loss: 0.4433 - val_accuracy: 0.8033\n",
      "Epoch 26/70\n",
      "242/242 [==============================] - 0s 78us/step - loss: 0.4723 - accuracy: 0.8058 - val_loss: 0.4374 - val_accuracy: 0.7869\n",
      "Epoch 27/70\n",
      "242/242 [==============================] - 0s 70us/step - loss: 0.4700 - accuracy: 0.8058 - val_loss: 0.4353 - val_accuracy: 0.8033\n",
      "Epoch 28/70\n",
      "242/242 [==============================] - 0s 70us/step - loss: 0.4672 - accuracy: 0.8017 - val_loss: 0.4329 - val_accuracy: 0.7869\n",
      "Epoch 29/70\n",
      "242/242 [==============================] - 0s 74us/step - loss: 0.4656 - accuracy: 0.8058 - val_loss: 0.4327 - val_accuracy: 0.8033\n",
      "Epoch 30/70\n",
      "242/242 [==============================] - 0s 70us/step - loss: 0.4634 - accuracy: 0.8017 - val_loss: 0.4270 - val_accuracy: 0.8033\n",
      "Epoch 31/70\n",
      "242/242 [==============================] - 0s 74us/step - loss: 0.4614 - accuracy: 0.8058 - val_loss: 0.4244 - val_accuracy: 0.8197\n",
      "Epoch 32/70\n",
      "242/242 [==============================] - 0s 70us/step - loss: 0.4598 - accuracy: 0.8058 - val_loss: 0.4238 - val_accuracy: 0.8033\n",
      "Epoch 33/70\n",
      "242/242 [==============================] - 0s 78us/step - loss: 0.4579 - accuracy: 0.8058 - val_loss: 0.4226 - val_accuracy: 0.8197\n",
      "Epoch 34/70\n",
      "242/242 [==============================] - 0s 70us/step - loss: 0.4564 - accuracy: 0.8017 - val_loss: 0.4218 - val_accuracy: 0.8033\n",
      "Epoch 35/70\n",
      "242/242 [==============================] - 0s 70us/step - loss: 0.4553 - accuracy: 0.8017 - val_loss: 0.4206 - val_accuracy: 0.8033\n",
      "Epoch 36/70\n",
      "242/242 [==============================] - 0s 78us/step - loss: 0.4530 - accuracy: 0.8058 - val_loss: 0.4188 - val_accuracy: 0.8197\n",
      "Epoch 37/70\n",
      "242/242 [==============================] - 0s 49us/step - loss: 0.4537 - accuracy: 0.8017 - val_loss: 0.4191 - val_accuracy: 0.8033\n",
      "Epoch 38/70\n",
      "242/242 [==============================] - 0s 54us/step - loss: 0.4499 - accuracy: 0.8017 - val_loss: 0.4142 - val_accuracy: 0.8197\n",
      "Epoch 39/70\n",
      "242/242 [==============================] - 0s 58us/step - loss: 0.4493 - accuracy: 0.8058 - val_loss: 0.4106 - val_accuracy: 0.8197\n",
      "Epoch 40/70\n",
      "242/242 [==============================] - 0s 54us/step - loss: 0.4489 - accuracy: 0.8099 - val_loss: 0.4099 - val_accuracy: 0.8197\n",
      "Epoch 41/70\n",
      "242/242 [==============================] - 0s 58us/step - loss: 0.4500 - accuracy: 0.8099 - val_loss: 0.4164 - val_accuracy: 0.8033\n",
      "Epoch 42/70\n",
      "242/242 [==============================] - 0s 54us/step - loss: 0.4463 - accuracy: 0.8099 - val_loss: 0.4122 - val_accuracy: 0.8197\n",
      "Epoch 43/70\n",
      "242/242 [==============================] - 0s 58us/step - loss: 0.4449 - accuracy: 0.8099 - val_loss: 0.4123 - val_accuracy: 0.8197\n",
      "Epoch 44/70\n",
      "242/242 [==============================] - 0s 66us/step - loss: 0.4433 - accuracy: 0.8099 - val_loss: 0.4089 - val_accuracy: 0.8361\n",
      "Epoch 45/70\n",
      "242/242 [==============================] - 0s 58us/step - loss: 0.4425 - accuracy: 0.8058 - val_loss: 0.4082 - val_accuracy: 0.8361\n",
      "Epoch 46/70\n",
      "242/242 [==============================] - 0s 58us/step - loss: 0.4411 - accuracy: 0.8058 - val_loss: 0.4097 - val_accuracy: 0.8197\n",
      "Epoch 47/70\n",
      "242/242 [==============================] - 0s 62us/step - loss: 0.4403 - accuracy: 0.8099 - val_loss: 0.4087 - val_accuracy: 0.8197\n",
      "Epoch 48/70\n",
      "242/242 [==============================] - 0s 58us/step - loss: 0.4397 - accuracy: 0.8140 - val_loss: 0.4082 - val_accuracy: 0.8197\n",
      "Epoch 49/70\n",
      "242/242 [==============================] - 0s 58us/step - loss: 0.4396 - accuracy: 0.8099 - val_loss: 0.4058 - val_accuracy: 0.8361\n",
      "Epoch 50/70\n",
      "242/242 [==============================] - 0s 62us/step - loss: 0.4381 - accuracy: 0.8140 - val_loss: 0.4059 - val_accuracy: 0.8361\n",
      "Epoch 51/70\n",
      "242/242 [==============================] - 0s 58us/step - loss: 0.4382 - accuracy: 0.8140 - val_loss: 0.4044 - val_accuracy: 0.8197\n",
      "Epoch 52/70\n",
      "242/242 [==============================] - 0s 58us/step - loss: 0.4360 - accuracy: 0.8099 - val_loss: 0.4065 - val_accuracy: 0.8361\n",
      "Epoch 53/70\n",
      "242/242 [==============================] - 0s 62us/step - loss: 0.4354 - accuracy: 0.8140 - val_loss: 0.4078 - val_accuracy: 0.8197\n",
      "Epoch 54/70\n",
      "242/242 [==============================] - ETA: 0s - loss: 0.4441 - accuracy: 0.78 - 0s 82us/step - loss: 0.4341 - accuracy: 0.8140 - val_loss: 0.4065 - val_accuracy: 0.8361\n",
      "Epoch 55/70\n",
      "242/242 [==============================] - 0s 70us/step - loss: 0.4353 - accuracy: 0.8140 - val_loss: 0.4029 - val_accuracy: 0.8361\n",
      "Epoch 56/70\n",
      "242/242 [==============================] - 0s 70us/step - loss: 0.4324 - accuracy: 0.8140 - val_loss: 0.4063 - val_accuracy: 0.8361\n",
      "Epoch 57/70\n",
      "242/242 [==============================] - 0s 70us/step - loss: 0.4318 - accuracy: 0.8140 - val_loss: 0.4059 - val_accuracy: 0.8361\n",
      "Epoch 58/70\n",
      "242/242 [==============================] - 0s 70us/step - loss: 0.4308 - accuracy: 0.8140 - val_loss: 0.4076 - val_accuracy: 0.8197\n",
      "Epoch 59/70\n",
      "242/242 [==============================] - 0s 74us/step - loss: 0.4304 - accuracy: 0.8099 - val_loss: 0.4042 - val_accuracy: 0.8361\n",
      "Epoch 60/70\n",
      "242/242 [==============================] - 0s 70us/step - loss: 0.4289 - accuracy: 0.8182 - val_loss: 0.4035 - val_accuracy: 0.8197\n",
      "Epoch 61/70\n",
      "242/242 [==============================] - 0s 70us/step - loss: 0.4280 - accuracy: 0.8140 - val_loss: 0.4043 - val_accuracy: 0.8361\n",
      "Epoch 62/70\n",
      "242/242 [==============================] - 0s 70us/step - loss: 0.4276 - accuracy: 0.8140 - val_loss: 0.4042 - val_accuracy: 0.8361\n",
      "Epoch 63/70\n",
      "242/242 [==============================] - 0s 58us/step - loss: 0.4267 - accuracy: 0.8140 - val_loss: 0.4023 - val_accuracy: 0.8361\n",
      "Epoch 64/70\n",
      "242/242 [==============================] - 0s 62us/step - loss: 0.4257 - accuracy: 0.8223 - val_loss: 0.4014 - val_accuracy: 0.8361\n",
      "Epoch 65/70\n",
      "242/242 [==============================] - 0s 78us/step - loss: 0.4251 - accuracy: 0.8223 - val_loss: 0.4004 - val_accuracy: 0.8361\n",
      "Epoch 66/70\n",
      "242/242 [==============================] - 0s 74us/step - loss: 0.4249 - accuracy: 0.8223 - val_loss: 0.3982 - val_accuracy: 0.8361\n",
      "Epoch 67/70\n",
      "242/242 [==============================] - 0s 58us/step - loss: 0.4243 - accuracy: 0.8182 - val_loss: 0.3981 - val_accuracy: 0.8361\n",
      "Epoch 68/70\n",
      "242/242 [==============================] - 0s 58us/step - loss: 0.4241 - accuracy: 0.8223 - val_loss: 0.4021 - val_accuracy: 0.8361\n",
      "Epoch 69/70\n",
      "242/242 [==============================] - 0s 58us/step - loss: 0.4225 - accuracy: 0.8264 - val_loss: 0.4001 - val_accuracy: 0.8361\n",
      "Epoch 70/70\n",
      "242/242 [==============================] - 0s 62us/step - loss: 0.4218 - accuracy: 0.8306 - val_loss: 0.3987 - val_accuracy: 0.8361\n"
     ]
    }
   ],
   "source": [
    "validasi = model.fit(data_training,target_training, validation_data=(data_testing,target_testing), epochs=70)"
   ]
  },
  {
   "cell_type": "markdown",
   "metadata": {},
   "source": [
    "## Hasil Akurasi"
   ]
  },
  {
   "cell_type": "code",
   "execution_count": 12,
   "metadata": {},
   "outputs": [
    {
     "name": "stdout",
     "output_type": "stream",
     "text": [
      "61/61 [==============================] - 0s 65us/step\n",
      "Akurasi data Testing = 83.61%\n"
     ]
    }
   ],
   "source": [
    "scores = model.evaluate(data_testing, target_testing)\n",
    "print(\"Akurasi data Testing = %.2f%%\" % (scores[1]*100))"
   ]
  },
  {
   "cell_type": "markdown",
   "metadata": {},
   "source": [
    "## Training and Testing Accuracy "
   ]
  },
  {
   "cell_type": "code",
   "execution_count": 13,
   "metadata": {},
   "outputs": [
    {
     "data": {
      "image/png": "[encoded data removed]",
      "text/plain": [
       "<Figure size 432x288 with 1 Axes>"
      ]
     },
     "metadata": {
      "needs_background": "light"
     },
     "output_type": "display_data"
    }
   ],
   "source": [
    "plt.plot(validasi.history['accuracy'])\n",
    "plt.plot(validasi.history['val_accuracy'])\n",
    "plt.title('model accuracy')\n",
    "plt.ylabel('Akurasi')\n",
    "plt.xlabel('Epoch')\n",
    "plt.legend(['Data Latih', 'Data Testing'], loc='upper left')\n",
    "plt.show()"
   ]
  },
  {
   "cell_type": "markdown",
   "metadata": {},
   "source": [
    "## Training and Testing Loss"
   ]
  },
  {
   "cell_type": "code",
   "execution_count": 14,
   "metadata": {},
   "outputs": [
    {
     "data": {
      "image/png": "[encoded data removed]",
      "text/plain": [
       "<Figure size 432x288 with 1 Axes>"
      ]
     },
     "metadata": {
      "needs_background": "light"
     },
     "output_type": "display_data"
    }
   ],
   "source": [
    "plt.plot(validasi.history['loss'])\n",
    "plt.plot(validasi.history['val_loss'])\n",
    "plt.title('Model Loss')\n",
    "plt.ylabel('Loss')\n",
    "plt.xlabel('Epoch')\n",
    "plt.legend(['Data Latih', 'Data Testing'], loc='upper left')\n",
    "plt.show()"
   ]
  },
  {
   "cell_type": "markdown",
   "metadata": {},
   "source": [
    "## Prediction Model"
   ]
  },
  {
   "cell_type": "code",
   "execution_count": 15,
   "metadata": {},
   "outputs": [],
   "source": [
    "prediction = model.predict_classes(data_testing)"
   ]
  },
  {
   "cell_type": "markdown",
   "metadata": {},
   "source": [
    "## Evaluasi Model dengan Confusion Matrix"
   ]
  },
  {
   "cell_type": "code",
   "execution_count": 16,
   "metadata": {},
   "outputs": [
    {
     "name": "stdout",
     "output_type": "stream",
     "text": [
      "Confussion matriks:\n",
      " [[25  4]\n",
      " [ 6 26]]\n",
      "Jumlah True Positive:  25\n",
      "Jumlah True Negative:  26\n",
      "Jumlah False Positive:  4\n",
      "Jumlah False Negative:  6\n"
     ]
    }
   ],
   "source": [
    "from sklearn.metrics import confusion_matrix\n",
    "cm = confusion_matrix(target_testing, prediction)\n",
    "tp = cm[0,0]\n",
    "tn = cm[1,1]\n",
    "fp = cm[0,1]\n",
    "fn = cm[1,0]\n",
    "print (\"Confussion matriks:\\n\",cm)\n",
    "print (\"Jumlah True Positive: \", tp)\n",
    "print (\"Jumlah True Negative: \", tn)\n",
    "print (\"Jumlah False Positive: \", fp)\n",
    "print (\"Jumlah False Negative: \", fn)"
   ]
  },
  {
   "cell_type": "markdown",
   "metadata": {},
   "source": [
    "## Akurasi "
   ]
  },
  {
   "cell_type": "code",
   "execution_count": 17,
   "metadata": {},
   "outputs": [
    {
     "name": "stdout",
     "output_type": "stream",
     "text": [
      "Hasil Akurasi =  0.8360655737704918\n"
     ]
    }
   ],
   "source": [
    "akurasi = (tn+tp) / (tp+tn+fp+fn)\n",
    "print(\"Hasil Akurasi = \", akurasi)"
   ]
  },
  {
   "cell_type": "markdown",
   "metadata": {},
   "source": [
    "## Precision"
   ]
  },
  {
   "cell_type": "code",
   "execution_count": 18,
   "metadata": {},
   "outputs": [
    {
     "name": "stdout",
     "output_type": "stream",
     "text": [
      "Hasil Precision =  0.8620689655172413\n"
     ]
    }
   ],
   "source": [
    "precision = tp / ( fp + tp)\n",
    "print(\"Hasil Precision = \", precision)"
   ]
  },
  {
   "cell_type": "markdown",
   "metadata": {},
   "source": [
    "# Recall"
   ]
  },
  {
   "cell_type": "code",
   "execution_count": 19,
   "metadata": {},
   "outputs": [
    {
     "name": "stdout",
     "output_type": "stream",
     "text": [
      "Hasil Recall =  0.8064516129032258\n"
     ]
    }
   ],
   "source": [
    "recall = tp/(fn+tp)\n",
    "print(\"Hasil Recall = \",recall)"
   ]
  },
  {
   "cell_type": "markdown",
   "metadata": {},
   "source": [
    "## F1"
   ]
  },
  {
   "cell_type": "code",
   "execution_count": 20,
   "metadata": {},
   "outputs": [
    {
     "name": "stdout",
     "output_type": "stream",
     "text": [
      "Hasil F1 =  0.8333333333333334\n"
     ]
    }
   ],
   "source": [
    "f1=(2*precision*recall)/ (precision+recall)\n",
    "print(\"Hasil F1 = \",f1)"
   ]
  }
 ],
 "metadata": {
  "kernelspec": {
   "display_name": "Python 3",
   "language": "python",
   "name": "python3"
  },
  "language_info": {
   "codemirror_mode": {
    "name": "ipython",
    "version": 3
   },
   "file_extension": ".py",
   "mimetype": "text/x-python",
   "name": "python",
   "nbconvert_exporter": "python",
   "pygments_lexer": "ipython3",
   "version": "3.7.4"
  }
 },
 "nbformat": 4,
 "nbformat_minor": 2
}
