{
 "cells": [
  {
   "attachments": {},
   "cell_type": "markdown",
   "metadata": {},
   "source": [
    "<div class=\"\">\n",
    "<br><br>\n",
    "<center><br><font size=\"12\"><font face=\"calibri\"><strong>Jaringan Saraf Tiruan\n",
    "<center><br><font size=\"5\"><font face=\"calibri\"><strong>MIT-BIH Arrhythmia Database by Physionet.org\n",
    "<br><br>\n",
    "\n",
    "<center><br><strong>Oleh :\n",
    "<center><br>\n",
    "<center><br><strong>FAISAL BAJA ESA PUTRA\n",
    "<center><br><strong>09011281722043\n",
    "<center><br><br>\n",
    "<center><br><strong>Mata Kuliah Kecerdasan Buatan\n",
    "<center><br>\n",
    "<center><br><strong>Dosen Pengampuh : \n",
    "<center><br><strong>Prof. Dr. Ir. Siti Nurmaini, M.T.\n",
    "<center><br><br><br>\n",
    "<center><br><strong>Jurusan Sistem Komputer\n",
    "<center><br><strong>Fakultas Ilmu Komputer\n",
    "<center><br><strong>Universitas Sriwijaya\n",
    "<center><br><strong>2019"
   ]
  },
  {
   "cell_type": "markdown",
   "metadata": {},
   "source": [
    "## Berdasarkan pada jurnal \"Arrhythmia Detection and Classification by Neural Network Using ECG Features\" dan menggunakan MIT-BIH Arrhythmia Database by Physionet.org"
   ]
  },
  {
   "cell_type": "markdown",
   "metadata": {},
   "source": [
    "### 1. Preprocessing\n",
    "Umumnya digunakan sebagai praktik preliminary data mining, preprocessing mengubah data menjadi format yang akan lebih mudah dan efektif diproses dalam jaringan saraf. Ada sejumlah alat dan metode yang berbeda yang dapat digunakan untuk preprocessing, contohnya yaitu: transformasi yang memanipulasi data mentah untuk menghasilkan satu input, denoising yang menghilangkan noise dari data, dan lain sebagainya."
   ]
  },
  {
   "cell_type": "code",
   "execution_count": 85,
   "metadata": {},
   "outputs": [],
   "source": [
    "from sklearn.preprocessing import MinMaxScaler"
   ]
  },
  {
   "cell_type": "markdown",
   "metadata": {},
   "source": [
    "### 2. Categorical\n",
    "Berfungsi untuk mengkonversi data binary menjadi data yang dapat dikkelompokkan, sehingga data tersebut dapat diambil bagian-bagiannya sebagai sebuah confusion matrix."
   ]
  },
  {
   "cell_type": "code",
   "execution_count": 86,
   "metadata": {},
   "outputs": [],
   "source": [
    "from keras.utils.np_utils import to_categorical"
   ]
  },
  {
   "cell_type": "markdown",
   "metadata": {},
   "source": [
    "### 3. Confusion Matrix\n",
    "Digunakan untuk mengkalkulasi dan mengelompokkan data menjadi sebuah matrix 2x2 yang didalamnya terdapat data prediksi dan data aktual dari dataset yang telah ditraining.  parameter yang digunakan dalam confusion matrix adalah data Categorical dan prediksi hasil training."
   ]
  },
  {
   "cell_type": "code",
   "execution_count": 87,
   "metadata": {},
   "outputs": [],
   "source": [
    "from sklearn.metrics import confusion_matrix"
   ]
  },
  {
   "cell_type": "markdown",
   "metadata": {},
   "source": [
    "### 4. Model dan Layer\n",
    "Pada kasus ini, model yang digunakan untuk membuat hidden layer untuk memproses data adalah fungsi Sequential.  Sedangkan layer sendiri menggunakan tipe Dense yang melakukan training dengan menghubungkan setiap Neural Network secara sequential."
   ]
  },
  {
   "cell_type": "code",
   "execution_count": 88,
   "metadata": {},
   "outputs": [],
   "source": [
    "from keras.models import Sequential\n",
    "from keras.layers import Dense"
   ]
  },
  {
   "cell_type": "markdown",
   "metadata": {},
   "source": [
    "### 5. Numpy\n",
    "Tentu saja untuk mengolah data yang berupa angka memerlukan Number Python sebagai library."
   ]
  },
  {
   "cell_type": "code",
   "execution_count": 89,
   "metadata": {},
   "outputs": [],
   "source": [
    "import numpy as np"
   ]
  },
  {
   "cell_type": "markdown",
   "metadata": {},
   "source": [
    "### 6. Matplotlib\n",
    "Untuk memvisualisasikan hasil dan proses dari model nanti, dapat digunakan matplotlib sebagai fungsinya."
   ]
  },
  {
   "cell_type": "code",
   "execution_count": 90,
   "metadata": {},
   "outputs": [],
   "source": [
    "import matplotlib.pyplot as plt"
   ]
  },
  {
   "cell_type": "markdown",
   "metadata": {},
   "source": [
    "### 7. Splitting\n",
    "Digunakan untuk mencegah terjadinya overfitting pada data"
   ]
  },
  {
   "cell_type": "code",
   "execution_count": 91,
   "metadata": {},
   "outputs": [],
   "source": [
    "from sklearn.model_selection import train_test_split"
   ]
  },
  {
   "cell_type": "markdown",
   "metadata": {},
   "source": [
    "## IMPORT DATASET\n",
    "Dataset yang dugunakan dalam hal ini adalah MIT-BIH Arrhythmia Database by Physionet.org sebelumnya data sudah di proses dan di split menjadi feature dan label dalam bentuk numPy"
   ]
  },
  {
   "cell_type": "code",
   "execution_count": 92,
   "metadata": {},
   "outputs": [],
   "source": [
    "feature = np.load (\"C:/Users/ACER/Downloads/Compressed/mit-bih-arrhythmia-database-1.0.0/feature.npy\")\n",
    "label = np.load (\"C:/Users/ACER/Downloads/Compressed/mit-bih-arrhythmia-database-1.0.0/label.npy\")"
   ]
  },
  {
   "cell_type": "code",
   "execution_count": 93,
   "metadata": {},
   "outputs": [
    {
     "data": {
      "text/plain": [
       "array([1.55932203e-01, 1.52542373e-01, 1.59322034e-01, 1.55932203e-01,\n",
       "       1.66101695e-01, 1.59322034e-01, 1.59322034e-01, 1.55932203e-01,\n",
       "       1.55932203e-01, 1.66101695e-01, 1.72881356e-01, 1.62711864e-01,\n",
       "       1.55932203e-01, 1.49152542e-01, 1.55932203e-01, 1.62711864e-01,\n",
       "       1.66101695e-01, 1.72881356e-01, 1.79661017e-01, 1.76271186e-01,\n",
       "       1.76271186e-01, 1.79661017e-01, 1.93220339e-01, 1.93220339e-01,\n",
       "       1.89830508e-01, 2.10169492e-01, 2.13559322e-01, 2.23728814e-01,\n",
       "       2.27118644e-01, 2.23728814e-01, 2.16949153e-01, 2.06779661e-01,\n",
       "       2.13559322e-01, 2.10169492e-01, 2.10169492e-01, 2.10169492e-01,\n",
       "       2.06779661e-01, 2.03389831e-01, 2.00000000e-01, 2.03389831e-01,\n",
       "       2.13559322e-01, 2.20338983e-01, 2.23728814e-01, 1.96610169e-01,\n",
       "       1.69491525e-01, 1.69491525e-01, 1.59322034e-01, 1.52542373e-01,\n",
       "       1.38983051e-01, 1.38983051e-01, 1.42372881e-01, 1.49152542e-01,\n",
       "       1.45762712e-01, 1.49152542e-01, 1.42372881e-01, 1.32203390e-01,\n",
       "       1.28813559e-01, 1.32203390e-01, 1.32203390e-01, 1.25423729e-01,\n",
       "       1.28813559e-01, 1.22033898e-01, 1.38983051e-01, 1.35593220e-01,\n",
       "       1.38983051e-01, 1.45762712e-01, 1.28813559e-01, 1.22033898e-01,\n",
       "       1.32203390e-01, 1.38983051e-01, 1.42372881e-01, 1.38983051e-01,\n",
       "       1.25423729e-01, 1.15254237e-01, 1.18644068e-01, 1.05084746e-01,\n",
       "       7.45762712e-02, 6.10169492e-02, 4.06779661e-02, 1.69491525e-02,\n",
       "       1.11022302e-16, 2.03389831e-02, 8.13559322e-02, 1.59322034e-01,\n",
       "       2.54237288e-01, 3.52542373e-01, 5.22033898e-01, 6.94915254e-01,\n",
       "       8.50847458e-01, 9.55932203e-01, 1.00000000e+00, 9.76271186e-01,\n",
       "       8.74576271e-01, 6.94915254e-01, 4.74576271e-01, 2.88135593e-01,\n",
       "       1.79661017e-01, 9.83050847e-02, 5.76271186e-02, 4.06779661e-02,\n",
       "       5.42372881e-02, 7.45762712e-02, 9.83050847e-02, 9.83050847e-02,\n",
       "       1.01694915e-01, 9.83050847e-02, 1.05084746e-01, 1.05084746e-01,\n",
       "       1.05084746e-01, 9.49152542e-02, 1.01694915e-01, 1.01694915e-01,\n",
       "       1.01694915e-01, 1.08474576e-01, 9.49152542e-02, 8.47457627e-02,\n",
       "       8.47457627e-02, 9.15254237e-02, 9.49152542e-02, 9.83050847e-02,\n",
       "       8.81355932e-02, 9.49152542e-02, 1.01694915e-01, 1.08474576e-01,\n",
       "       9.83050847e-02, 9.83050847e-02, 8.81355932e-02, 8.47457627e-02,\n",
       "       8.47457627e-02, 9.83050847e-02, 9.83050847e-02, 9.49152542e-02,\n",
       "       8.81355932e-02, 8.13559322e-02, 9.15254237e-02, 8.47457627e-02,\n",
       "       8.81355932e-02, 8.47457627e-02, 8.13559322e-02, 8.47457627e-02,\n",
       "       9.15254237e-02, 9.15254237e-02, 9.49152542e-02, 9.83050847e-02,\n",
       "       8.81355932e-02, 8.47457627e-02, 9.83050847e-02, 9.83050847e-02,\n",
       "       1.01694915e-01, 1.01694915e-01, 8.47457627e-02, 8.81355932e-02,\n",
       "       9.49152542e-02, 9.83050847e-02, 1.08474576e-01, 9.83050847e-02,\n",
       "       9.49152542e-02, 8.47457627e-02, 9.15254237e-02, 9.83050847e-02,\n",
       "       9.83050847e-02, 1.01694915e-01, 8.81355932e-02, 8.13559322e-02,\n",
       "       8.13559322e-02, 9.15254237e-02, 9.49152542e-02, 8.81355932e-02,\n",
       "       8.13559322e-02, 7.79661017e-02, 7.79661017e-02, 8.47457627e-02,\n",
       "       8.13559322e-02, 7.45762712e-02, 7.79661017e-02, 6.77966102e-02,\n",
       "       7.11864407e-02, 7.11864407e-02, 7.79661017e-02, 7.11864407e-02,\n",
       "       5.76271186e-02, 5.42372881e-02, 5.76271186e-02, 6.77966102e-02,\n",
       "       6.10169492e-02, 5.76271186e-02, 5.42372881e-02, 4.40677966e-02,\n",
       "       5.08474576e-02, 5.42372881e-02, 5.76271186e-02, 5.42372881e-02,\n",
       "       4.40677966e-02, 4.06779661e-02, 5.08474576e-02, 5.76271186e-02,\n",
       "       6.10169492e-02, 6.44067797e-02, 6.77966102e-02, 6.44067797e-02,\n",
       "       8.47457627e-02, 9.49152542e-02, 1.11864407e-01, 1.15254237e-01,\n",
       "       1.18644068e-01, 1.15254237e-01, 1.32203390e-01, 1.42372881e-01,\n",
       "       1.49152542e-01, 1.45762712e-01, 1.38983051e-01, 1.38983051e-01,\n",
       "       1.45762712e-01, 1.52542373e-01, 1.59322034e-01, 1.59322034e-01,\n",
       "       1.45762712e-01, 1.45762712e-01, 1.49152542e-01, 1.55932203e-01,\n",
       "       1.55932203e-01, 1.62711864e-01, 1.45762712e-01, 1.38983051e-01,\n",
       "       1.55932203e-01, 1.52542373e-01, 1.59322034e-01, 1.59322034e-01,\n",
       "       1.45762712e-01, 1.42372881e-01, 1.52542373e-01, 1.55932203e-01,\n",
       "       1.49152542e-01, 1.55932203e-01, 1.49152542e-01, 1.49152542e-01,\n",
       "       1.52542373e-01, 1.62711864e-01, 1.66101695e-01, 1.55932203e-01,\n",
       "       1.52542373e-01, 1.45762712e-01, 1.49152542e-01, 1.59322034e-01,\n",
       "       1.49152542e-01, 1.49152542e-01, 1.49152542e-01, 1.38983051e-01,\n",
       "       1.49152542e-01, 1.45762712e-01, 1.49152542e-01, 1.42372881e-01])"
      ]
     },
     "execution_count": 93,
     "metadata": {},
     "output_type": "execute_result"
    }
   ],
   "source": [
    "feature[0]"
   ]
  },
  {
   "cell_type": "markdown",
   "metadata": {},
   "source": [
    "label.shape di sini berfungsi untuk menunjukan berapa jumlah kolom dan baris pada label"
   ]
  },
  {
   "cell_type": "code",
   "execution_count": 94,
   "metadata": {},
   "outputs": [
    {
     "data": {
      "text/plain": [
       "(112563,)"
      ]
     },
     "execution_count": 94,
     "metadata": {},
     "output_type": "execute_result"
    }
   ],
   "source": [
    "label.shape"
   ]
  },
  {
   "cell_type": "markdown",
   "metadata": {},
   "source": [
    "feature.shape di sini berfungsi untuk menunjukan berapa jumlah kolom dan baris pada feature"
   ]
  },
  {
   "cell_type": "code",
   "execution_count": 95,
   "metadata": {},
   "outputs": [
    {
     "data": {
      "text/plain": [
       "(112563, 252)"
      ]
     },
     "execution_count": 95,
     "metadata": {},
     "output_type": "execute_result"
    }
   ],
   "source": [
    "feature.shape"
   ]
  },
  {
   "cell_type": "markdown",
   "metadata": {},
   "source": [
    "membuat array untuk dataset yang bertujuan untuk mengelompokan target"
   ]
  },
  {
   "cell_type": "code",
   "execution_count": 96,
   "metadata": {},
   "outputs": [],
   "source": [
    "Baris=[]\n",
    "for i in range(len(data)):\n",
    "    d = {'data':data[i],'target':label[i]}\n",
    "    Baris.append(d)\n",
    "df=pd.DataFrame(Baris)"
   ]
  },
  {
   "cell_type": "markdown",
   "metadata": {},
   "source": [
    "kepala dari df yang sebelumnya di buat"
   ]
  },
  {
   "cell_type": "code",
   "execution_count": 97,
   "metadata": {},
   "outputs": [
    {
     "data": {
      "text/html": [
       "<div>\n",
       "<style scoped>\n",
       "    .dataframe tbody tr th:only-of-type {\n",
       "        vertical-align: middle;\n",
       "    }\n",
       "\n",
       "    .dataframe tbody tr th {\n",
       "        vertical-align: top;\n",
       "    }\n",
       "\n",
       "    .dataframe thead th {\n",
       "        text-align: right;\n",
       "    }\n",
       "</style>\n",
       "<table border=\"1\" class=\"dataframe\">\n",
       "  <thead>\n",
       "    <tr style=\"text-align: right;\">\n",
       "      <th></th>\n",
       "      <th>data</th>\n",
       "      <th>target</th>\n",
       "    </tr>\n",
       "  </thead>\n",
       "  <tbody>\n",
       "    <tr>\n",
       "      <th>0</th>\n",
       "      <td>0</td>\n",
       "      <td>0</td>\n",
       "    </tr>\n",
       "    <tr>\n",
       "      <th>1</th>\n",
       "      <td>0</td>\n",
       "      <td>0</td>\n",
       "    </tr>\n",
       "    <tr>\n",
       "      <th>2</th>\n",
       "      <td>0</td>\n",
       "      <td>0</td>\n",
       "    </tr>\n",
       "    <tr>\n",
       "      <th>3</th>\n",
       "      <td>0</td>\n",
       "      <td>0</td>\n",
       "    </tr>\n",
       "    <tr>\n",
       "      <th>4</th>\n",
       "      <td>0</td>\n",
       "      <td>0</td>\n",
       "    </tr>\n",
       "  </tbody>\n",
       "</table>\n",
       "</div>"
      ],
      "text/plain": [
       "   data  target\n",
       "0     0       0\n",
       "1     0       0\n",
       "2     0       0\n",
       "3     0       0\n",
       "4     0       0"
      ]
     },
     "execution_count": 97,
     "metadata": {},
     "output_type": "execute_result"
    }
   ],
   "source": [
    "df.head()"
   ]
  },
  {
   "cell_type": "code",
   "execution_count": 98,
   "metadata": {},
   "outputs": [
    {
     "data": {
      "text/plain": [
       "0         0\n",
       "1         0\n",
       "2         0\n",
       "3         0\n",
       "4         0\n",
       "5         0\n",
       "6         0\n",
       "7         0\n",
       "8         0\n",
       "9         0\n",
       "10        0\n",
       "11        0\n",
       "12        0\n",
       "13        0\n",
       "14        0\n",
       "15        0\n",
       "16        0\n",
       "17        0\n",
       "18        0\n",
       "19        0\n",
       "20        0\n",
       "21        0\n",
       "22        0\n",
       "23        0\n",
       "24        0\n",
       "25        0\n",
       "26        0\n",
       "27        0\n",
       "28        0\n",
       "29        0\n",
       "         ..\n",
       "112533    0\n",
       "112534    0\n",
       "112535    0\n",
       "112536    0\n",
       "112537    0\n",
       "112538    0\n",
       "112539    0\n",
       "112540    0\n",
       "112541    0\n",
       "112542    0\n",
       "112543    0\n",
       "112544    0\n",
       "112545    0\n",
       "112546    0\n",
       "112547    0\n",
       "112548    0\n",
       "112549    0\n",
       "112550    0\n",
       "112551    0\n",
       "112552    0\n",
       "112553    0\n",
       "112554    0\n",
       "112555    0\n",
       "112556    0\n",
       "112557    0\n",
       "112558    0\n",
       "112559    0\n",
       "112560    0\n",
       "112561    0\n",
       "112562    0\n",
       "Name: target, Length: 112563, dtype: int64"
      ]
     },
     "execution_count": 98,
     "metadata": {},
     "output_type": "execute_result"
    }
   ],
   "source": [
    "data = df[\"target\"]\n",
    "data"
   ]
  },
  {
   "cell_type": "markdown",
   "metadata": {},
   "source": [
    "Menghitung class dari df dan memisahkan data sesuai class\n"
   ]
  },
  {
   "cell_type": "code",
   "execution_count": 99,
   "metadata": {},
   "outputs": [],
   "source": [
    "# Class count \n",
    "count_df_0, count_df_1 = df.target.value_counts() \n",
    "# Divide by class \n",
    "df_0 = df[df['target'] == 0] \n",
    "df_1 = df[df['target'] == 1]"
   ]
  },
  {
   "cell_type": "code",
   "execution_count": 100,
   "metadata": {},
   "outputs": [
    {
     "name": "stdout",
     "output_type": "stream",
     "text": [
      "Random under-sampling:\n",
      "1    19433\n",
      "0    19433\n",
      "Name: target, dtype: int64\n"
     ]
    },
    {
     "data": {
      "image/png": "[encoded data removed]",
      "text/plain": [
       "<Figure size 432x288 with 1 Axes>"
      ]
     },
     "metadata": {
      "needs_background": "light"
     },
     "output_type": "display_data"
    }
   ],
   "source": [
    "df_0_under = df_0.sample(count_df_1)\n",
    "df_test_under = pd.concat([df_0_under, df_1], axis=0)\n",
    "print('Random under-sampling:')\n",
    "print(df_test_under.target.value_counts())\n",
    "df_test_under.target.value_counts().plot(kind='bar', title='Count (target)');"
   ]
  },
  {
   "cell_type": "code",
   "execution_count": 101,
   "metadata": {},
   "outputs": [],
   "source": [
    "label = df_test_under"
   ]
  },
  {
   "cell_type": "code",
   "execution_count": 102,
   "metadata": {},
   "outputs": [
    {
     "data": {
      "text/plain": [
       "array([[<matplotlib.axes._subplots.AxesSubplot object at 0x000001DEA9105DD8>,\n",
       "        <matplotlib.axes._subplots.AxesSubplot object at 0x000001DEA9DE70B8>]],\n",
       "      dtype=object)"
      ]
     },
     "execution_count": 102,
     "metadata": {},
     "output_type": "execute_result"
    },
    {
     "data": {
      "image/png": "[encoded data removed]",
      "text/plain": [
       "<Figure size 432x288 with 2 Axes>"
      ]
     },
     "metadata": {
      "needs_background": "light"
     },
     "output_type": "display_data"
    }
   ],
   "source": [
    "label.hist(bins=10)"
   ]
  },
  {
   "cell_type": "code",
   "execution_count": 103,
   "metadata": {},
   "outputs": [
    {
     "data": {
      "text/plain": [
       "0    0\n",
       "1    0\n",
       "2    0\n",
       "3    0\n",
       "4    0\n",
       "Name: target, dtype: int64"
      ]
     },
     "execution_count": 103,
     "metadata": {},
     "output_type": "execute_result"
    }
   ],
   "source": [
    "Data = df[\"target\"]\n",
    "Data.head()"
   ]
  },
  {
   "cell_type": "markdown",
   "metadata": {},
   "source": [
    "Untuk mempreprocessing dataset diatas, saya menggunakan metode MinMaxScaler dimana metode preprocessing ini mengubah fitur dengan penskalaan setiap fitur ke rentang yang diberikan.  Rentang yang diberikan untuk dataset diatas adalah 0 & 1, hal ini dikarenakan mengklasifikasian dataset tersebut menggunakan binary classification."
   ]
  },
  {
   "cell_type": "code",
   "execution_count": 104,
   "metadata": {},
   "outputs": [],
   "source": [
    "scaler = MinMaxScaler()\n",
    "X_scale = scaler.fit(feature)\n",
    "X_scale = scaler.fit_transform(feature)"
   ]
  },
  {
   "cell_type": "markdown",
   "metadata": {},
   "source": [
    "Dalam menganalisis performance dari neural network ini, diperlukan confusion matrix yang mengelompokkan data sesuai dengan klasifikasi masing-masing. salah satu syarat untuk membuat confusion matrix adalah dengan mengubah kasifikasi data yang pada awalnya binary classification menjadi categorical classification, namun begitu dalam proses ini sebenarnya tidak mengubah makna awal dari dataset tersebut yang berklasifikasikan secara binary."
   ]
  },
  {
   "cell_type": "code",
   "execution_count": 105,
   "metadata": {},
   "outputs": [
    {
     "data": {
      "text/plain": [
       "(112563, 2)"
      ]
     },
     "execution_count": 105,
     "metadata": {},
     "output_type": "execute_result"
    }
   ],
   "source": [
    "Y_categorical = to_categorical(Y)\n",
    "Y_categorical.shape"
   ]
  },
  {
   "cell_type": "markdown",
   "metadata": {},
   "source": [
    "Splitting digunakan untuk membagi data menjadi 2 bagian yaitu Training data dan Test Data"
   ]
  },
  {
   "cell_type": "code",
   "execution_count": 106,
   "metadata": {},
   "outputs": [],
   "source": [
    "train_X, test_X, train_Y, test_Y = train_test_split(X_scale,Y_categorical, test_size=0.15)"
   ]
  },
  {
   "cell_type": "markdown",
   "metadata": {},
   "source": [
    "### Mendefinisikan Model \n",
    "Sebagaimana yang telah dijelaskan diatas, bahwasanya model yang digunakan dalam kasus ini menggunakan fungsi Sequential.  "
   ]
  },
  {
   "cell_type": "code",
   "execution_count": 116,
   "metadata": {},
   "outputs": [],
   "source": [
    "model = Sequential()"
   ]
  },
  {
   "cell_type": "code",
   "execution_count": 117,
   "metadata": {},
   "outputs": [],
   "source": [
    "model.add(Dense(250, input_dim=252, activation='relu'))\n",
    "model.add(Dense(200, activation='relu'))\n",
    "model.add(Dense(150, activation='relu'))\n",
    "model.add(Dense(2, activation='sigmoid'))"
   ]
  },
  {
   "cell_type": "markdown",
   "metadata": {},
   "source": [
    "Setelah melakukan proses definisi model, selanjutnya dalah mengcompile model tersebut sehingga menjadi satu kesatuan hidden yang biasa disebut dengan Hidden Layer."
   ]
  },
  {
   "cell_type": "code",
   "execution_count": 118,
   "metadata": {},
   "outputs": [],
   "source": [
    "model.compile(loss='categorical_crossentropy', \n",
    "              optimizer='adam', \n",
    "              metrics=['accuracy'])"
   ]
  },
  {
   "cell_type": "markdown",
   "metadata": {},
   "source": [
    "####  Fit Model\n",
    "Untuk mendapatkan hasil akurasi dan loss dari dataset, langkah selanjutnya yang harus dilakukan adalah fit model.  Dimana pada proses ini terjadi proses training dengan parameter:\n",
    "1. X yang telah di preprocessing\n",
    "2. Y yang telah dikonversi menjadi categorical\n",
    "3. Banyaknya Epochs atau proses training\n",
    "4. batch_size\n",
    "\n",
    "Disini Epochs atau training yang saya lakukan adalah sebanya 100 kali."
   ]
  },
  {
   "cell_type": "code",
   "execution_count": 124,
   "metadata": {},
   "outputs": [
    {
     "name": "stdout",
     "output_type": "stream",
     "text": [
      "Train on 112563 samples, validate on 16885 samples\n",
      "Epoch 1/100\n",
      "112563/112563 [==============================] - 6s 50us/step - loss: 0.0163 - accuracy: 0.9946 - val_loss: 0.0132 - val_accuracy: 0.9951\n",
      "Epoch 2/100\n",
      "112563/112563 [==============================] - 5s 43us/step - loss: 0.0142 - accuracy: 0.9952 - val_loss: 0.0085 - val_accuracy: 0.9970\n",
      "Epoch 3/100\n",
      "112563/112563 [==============================] - 5s 43us/step - loss: 0.0124 - accuracy: 0.9958 - val_loss: 0.0105 - val_accuracy: 0.9966\n",
      "Epoch 4/100\n",
      "112563/112563 [==============================] - 6s 51us/step - loss: 0.0122 - accuracy: 0.9957 - val_loss: 0.0139 - val_accuracy: 0.9950\n",
      "Epoch 5/100\n",
      "112563/112563 [==============================] - 5s 45us/step - loss: 0.0125 - accuracy: 0.9957 - val_loss: 0.0130 - val_accuracy: 0.9954\n",
      "Epoch 6/100\n",
      "112563/112563 [==============================] - 5s 44us/step - loss: 0.0122 - accuracy: 0.9959 - val_loss: 0.0181 - val_accuracy: 0.9940\n",
      "Epoch 7/100\n",
      "112563/112563 [==============================] - 6s 53us/step - loss: 0.0111 - accuracy: 0.9965 - val_loss: 0.0097 - val_accuracy: 0.9964\n",
      "Epoch 8/100\n",
      "112563/112563 [==============================] - 5s 43us/step - loss: 0.0119 - accuracy: 0.9961 - val_loss: 0.0116 - val_accuracy: 0.9962\n",
      "Epoch 9/100\n",
      "112563/112563 [==============================] - 5s 43us/step - loss: 0.0114 - accuracy: 0.9961 - val_loss: 0.0112 - val_accuracy: 0.9962\n",
      "Epoch 10/100\n",
      "112563/112563 [==============================] - 5s 47us/step - loss: 0.0117 - accuracy: 0.9960 - val_loss: 0.0082 - val_accuracy: 0.9973\n",
      "Epoch 11/100\n",
      "112563/112563 [==============================] - 5s 44us/step - loss: 0.0105 - accuracy: 0.9965 - val_loss: 0.0142 - val_accuracy: 0.9957\n",
      "Epoch 12/100\n",
      "112563/112563 [==============================] - 5s 43us/step - loss: 0.0110 - accuracy: 0.9964 - val_loss: 0.0086 - val_accuracy: 0.9965\n",
      "Epoch 13/100\n",
      "112563/112563 [==============================] - 5s 46us/step - loss: 0.0107 - accuracy: 0.9964 - val_loss: 0.0192 - val_accuracy: 0.9931\n",
      "Epoch 14/100\n",
      "112563/112563 [==============================] - 5s 45us/step - loss: 0.0102 - accuracy: 0.9965 - val_loss: 0.0111 - val_accuracy: 0.9960\n",
      "Epoch 15/100\n",
      "112563/112563 [==============================] - 5s 43us/step - loss: 0.0099 - accuracy: 0.9965 - val_loss: 0.0112 - val_accuracy: 0.9956\n",
      "Epoch 16/100\n",
      "112563/112563 [==============================] - 5s 45us/step - loss: 0.0101 - accuracy: 0.9963 - val_loss: 0.0090 - val_accuracy: 0.9969\n",
      "Epoch 17/100\n",
      "112563/112563 [==============================] - 5s 45us/step - loss: 0.0096 - accuracy: 0.9968 - val_loss: 0.0121 - val_accuracy: 0.9961\n",
      "Epoch 18/100\n",
      "112563/112563 [==============================] - 5s 44us/step - loss: 0.0090 - accuracy: 0.9970 - val_loss: 0.0079 - val_accuracy: 0.9969\n",
      "Epoch 19/100\n",
      "112563/112563 [==============================] - 5s 46us/step - loss: 0.0093 - accuracy: 0.9968 - val_loss: 0.0112 - val_accuracy: 0.9969\n",
      "Epoch 20/100\n",
      "112563/112563 [==============================] - 5s 47us/step - loss: 0.0094 - accuracy: 0.9968 - val_loss: 0.0070 - val_accuracy: 0.9976\n",
      "Epoch 21/100\n",
      "112563/112563 [==============================] - 5s 43us/step - loss: 0.0090 - accuracy: 0.9968 - val_loss: 0.0053 - val_accuracy: 0.9980\n",
      "Epoch 22/100\n",
      "112563/112563 [==============================] - 5s 44us/step - loss: 0.0081 - accuracy: 0.9974 - val_loss: 0.0094 - val_accuracy: 0.9970\n",
      "Epoch 23/100\n",
      "112563/112563 [==============================] - 6s 49us/step - loss: 0.0097 - accuracy: 0.9967 - val_loss: 0.0098 - val_accuracy: 0.9965\n",
      "Epoch 24/100\n",
      "112563/112563 [==============================] - 5s 41us/step - loss: 0.0091 - accuracy: 0.9971 - val_loss: 0.0099 - val_accuracy: 0.9970\n",
      "Epoch 25/100\n",
      "112563/112563 [==============================] - 5s 43us/step - loss: 0.0089 - accuracy: 0.9968 - val_loss: 0.0070 - val_accuracy: 0.9975\n",
      "Epoch 26/100\n",
      "112563/112563 [==============================] - 5s 46us/step - loss: 0.0079 - accuracy: 0.9970 - val_loss: 0.0072 - val_accuracy: 0.9971\n",
      "Epoch 27/100\n",
      "112563/112563 [==============================] - 5s 42us/step - loss: 0.0088 - accuracy: 0.9971 - val_loss: 0.0098 - val_accuracy: 0.9963\n",
      "Epoch 28/100\n",
      "112563/112563 [==============================] - 5s 42us/step - loss: 0.0080 - accuracy: 0.9974 - val_loss: 0.0057 - val_accuracy: 0.9982\n",
      "Epoch 29/100\n",
      "112563/112563 [==============================] - 5s 45us/step - loss: 0.0074 - accuracy: 0.9974 - val_loss: 0.0099 - val_accuracy: 0.9969\n",
      "Epoch 30/100\n",
      "112563/112563 [==============================] - 5s 43us/step - loss: 0.0080 - accuracy: 0.9971 - val_loss: 0.0092 - val_accuracy: 0.9963\n",
      "Epoch 31/100\n",
      "112563/112563 [==============================] - 5s 42us/step - loss: 0.0082 - accuracy: 0.9971 - val_loss: 0.0085 - val_accuracy: 0.9968\n",
      "Epoch 32/100\n",
      "112563/112563 [==============================] - 5s 44us/step - loss: 0.0078 - accuracy: 0.9973 - val_loss: 0.0078 - val_accuracy: 0.9973\n",
      "Epoch 33/100\n",
      "112563/112563 [==============================] - 5s 45us/step - loss: 0.0073 - accuracy: 0.9975 - val_loss: 0.0063 - val_accuracy: 0.9979\n",
      "Epoch 34/100\n",
      "112563/112563 [==============================] - 5s 44us/step - loss: 0.0069 - accuracy: 0.9975 - val_loss: 0.0080 - val_accuracy: 0.9970\n",
      "Epoch 35/100\n",
      "112563/112563 [==============================] - 5s 42us/step - loss: 0.0074 - accuracy: 0.9976 - val_loss: 0.0046 - val_accuracy: 0.9982\n",
      "Epoch 36/100\n",
      "112563/112563 [==============================] - 5s 46us/step - loss: 0.0075 - accuracy: 0.9973 - val_loss: 0.0056 - val_accuracy: 0.9980\n",
      "Epoch 37/100\n",
      "112563/112563 [==============================] - 5s 42us/step - loss: 0.0067 - accuracy: 0.9976 - val_loss: 0.0096 - val_accuracy: 0.9972\n",
      "Epoch 38/100\n",
      "112563/112563 [==============================] - 5s 42us/step - loss: 0.0074 - accuracy: 0.9974 - val_loss: 0.0059 - val_accuracy: 0.9979\n",
      "Epoch 39/100\n",
      "112563/112563 [==============================] - 5s 45us/step - loss: 0.0065 - accuracy: 0.9978 - val_loss: 0.0083 - val_accuracy: 0.9972\n",
      "Epoch 40/100\n",
      "112563/112563 [==============================] - 5s 42us/step - loss: 0.0066 - accuracy: 0.9977 - val_loss: 0.0052 - val_accuracy: 0.9979\n",
      "Epoch 41/100\n",
      "112563/112563 [==============================] - 5s 42us/step - loss: 0.0071 - accuracy: 0.9976 - val_loss: 0.0055 - val_accuracy: 0.9979\n",
      "Epoch 42/100\n",
      "112563/112563 [==============================] - 5s 44us/step - loss: 0.0060 - accuracy: 0.9978 - val_loss: 0.0055 - val_accuracy: 0.9978\n",
      "Epoch 43/100\n",
      "112563/112563 [==============================] - 5s 44us/step - loss: 0.0072 - accuracy: 0.9977 - val_loss: 0.0064 - val_accuracy: 0.9976\n",
      "Epoch 44/100\n",
      "112563/112563 [==============================] - 5s 42us/step - loss: 0.0062 - accuracy: 0.9978 - val_loss: 0.0069 - val_accuracy: 0.9976\n",
      "Epoch 45/100\n",
      "112563/112563 [==============================] - 5s 42us/step - loss: 0.0071 - accuracy: 0.9977 - val_loss: 0.0062 - val_accuracy: 0.9975\n",
      "Epoch 46/100\n",
      "112563/112563 [==============================] - 5s 47us/step - loss: 0.0065 - accuracy: 0.9977 - val_loss: 0.0049 - val_accuracy: 0.9977\n",
      "Epoch 47/100\n",
      "112563/112563 [==============================] - 5s 42us/step - loss: 0.0058 - accuracy: 0.9980 - val_loss: 0.0070 - val_accuracy: 0.9975\n",
      "Epoch 48/100\n",
      "112563/112563 [==============================] - 5s 42us/step - loss: 0.0065 - accuracy: 0.9978 - val_loss: 0.0075 - val_accuracy: 0.9975\n",
      "Epoch 49/100\n",
      "112563/112563 [==============================] - 5s 46us/step - loss: 0.0065 - accuracy: 0.9980 - val_loss: 0.0043 - val_accuracy: 0.9985\n",
      "Epoch 50/100\n",
      "112563/112563 [==============================] - 5s 46us/step - loss: 0.0060 - accuracy: 0.9980 - val_loss: 0.0061 - val_accuracy: 0.9980\n",
      "Epoch 51/100\n",
      "112563/112563 [==============================] - 5s 44us/step - loss: 0.0057 - accuracy: 0.9979 - val_loss: 0.0054 - val_accuracy: 0.9983\n",
      "Epoch 52/100\n",
      "112563/112563 [==============================] - 5s 47us/step - loss: 0.0064 - accuracy: 0.9978 - val_loss: 0.0047 - val_accuracy: 0.9983\n",
      "Epoch 53/100\n",
      "112563/112563 [==============================] - 5s 45us/step - loss: 0.0058 - accuracy: 0.9980 - val_loss: 0.0049 - val_accuracy: 0.9986\n",
      "Epoch 54/100\n",
      "112563/112563 [==============================] - 5s 43us/step - loss: 0.0056 - accuracy: 0.9980 - val_loss: 0.0059 - val_accuracy: 0.9979\n"
     ]
    },
    {
     "name": "stdout",
     "output_type": "stream",
     "text": [
      "Epoch 55/100\n",
      "112563/112563 [==============================] - 5s 43us/step - loss: 0.0061 - accuracy: 0.9979 - val_loss: 0.0057 - val_accuracy: 0.9980\n",
      "Epoch 56/100\n",
      "112563/112563 [==============================] - 5s 43us/step - loss: 0.0059 - accuracy: 0.9981 - val_loss: 0.0174 - val_accuracy: 0.9954\n",
      "Epoch 57/100\n",
      "112563/112563 [==============================] - 5s 41us/step - loss: 0.0055 - accuracy: 0.9981 - val_loss: 0.0047 - val_accuracy: 0.9984\n",
      "Epoch 58/100\n",
      "112563/112563 [==============================] - 5s 41us/step - loss: 0.0059 - accuracy: 0.9979 - val_loss: 0.0073 - val_accuracy: 0.9975\n",
      "Epoch 59/100\n",
      "112563/112563 [==============================] - 5s 46us/step - loss: 0.0055 - accuracy: 0.9983 - val_loss: 0.0053 - val_accuracy: 0.9983\n",
      "Epoch 60/100\n",
      "112563/112563 [==============================] - 5s 42us/step - loss: 0.0061 - accuracy: 0.9981 - val_loss: 0.0037 - val_accuracy: 0.9985\n",
      "Epoch 61/100\n",
      "112563/112563 [==============================] - 5s 41us/step - loss: 0.0052 - accuracy: 0.9982 - val_loss: 0.0070 - val_accuracy: 0.9981\n",
      "Epoch 62/100\n",
      "112563/112563 [==============================] - 5s 45us/step - loss: 0.0063 - accuracy: 0.9981 - val_loss: 0.0063 - val_accuracy: 0.9975\n",
      "Epoch 63/100\n",
      "112563/112563 [==============================] - 5s 41us/step - loss: 0.0051 - accuracy: 0.9982 - val_loss: 0.0051 - val_accuracy: 0.9986\n",
      "Epoch 64/100\n",
      "112563/112563 [==============================] - 5s 42us/step - loss: 0.0047 - accuracy: 0.9984 - val_loss: 0.0063 - val_accuracy: 0.9979\n",
      "Epoch 65/100\n",
      "112563/112563 [==============================] - 5s 45us/step - loss: 0.0057 - accuracy: 0.9981 - val_loss: 0.0045 - val_accuracy: 0.9983\n",
      "Epoch 66/100\n",
      "112563/112563 [==============================] - 5s 44us/step - loss: 0.0054 - accuracy: 0.9983 - val_loss: 0.0044 - val_accuracy: 0.9983\n",
      "Epoch 67/100\n",
      "112563/112563 [==============================] - 5s 43us/step - loss: 0.0053 - accuracy: 0.9982 - val_loss: 0.0047 - val_accuracy: 0.9981\n",
      "Epoch 68/100\n",
      "112563/112563 [==============================] - 5s 44us/step - loss: 0.0060 - accuracy: 0.9981 - val_loss: 0.0193 - val_accuracy: 0.9946\n",
      "Epoch 69/100\n",
      "112563/112563 [==============================] - 5s 45us/step - loss: 0.0049 - accuracy: 0.9983 - val_loss: 0.0038 - val_accuracy: 0.9988\n",
      "Epoch 70/100\n",
      "112563/112563 [==============================] - 5s 42us/step - loss: 0.0053 - accuracy: 0.9983 - val_loss: 0.0056 - val_accuracy: 0.9982\n",
      "Epoch 71/100\n",
      "112563/112563 [==============================] - 5s 43us/step - loss: 0.0049 - accuracy: 0.9983 - val_loss: 0.0044 - val_accuracy: 0.9985\n",
      "Epoch 72/100\n",
      "112563/112563 [==============================] - 5s 48us/step - loss: 0.0048 - accuracy: 0.9985 - val_loss: 0.0074 - val_accuracy: 0.9975\n",
      "Epoch 73/100\n",
      "112563/112563 [==============================] - 5s 44us/step - loss: 0.0053 - accuracy: 0.9982 - val_loss: 0.0022 - val_accuracy: 0.9993\n",
      "Epoch 74/100\n",
      "112563/112563 [==============================] - 5s 43us/step - loss: 0.0048 - accuracy: 0.9982 - val_loss: 0.0057 - val_accuracy: 0.9982\n",
      "Epoch 75/100\n",
      "112563/112563 [==============================] - 5s 47us/step - loss: 0.0041 - accuracy: 0.9985 - val_loss: 0.0069 - val_accuracy: 0.9978\n",
      "Epoch 76/100\n",
      "112563/112563 [==============================] - 5s 43us/step - loss: 0.0062 - accuracy: 0.9980 - val_loss: 0.0041 - val_accuracy: 0.9985\n",
      "Epoch 77/100\n",
      "112563/112563 [==============================] - 5s 43us/step - loss: 0.0054 - accuracy: 0.9983 - val_loss: 0.0048 - val_accuracy: 0.9983\n",
      "Epoch 78/100\n",
      "112563/112563 [==============================] - 5s 46us/step - loss: 0.0049 - accuracy: 0.9984 - val_loss: 0.0047 - val_accuracy: 0.9983\n",
      "Epoch 79/100\n",
      "112563/112563 [==============================] - 5s 44us/step - loss: 0.0046 - accuracy: 0.9984 - val_loss: 0.0049 - val_accuracy: 0.9982\n",
      "Epoch 80/100\n",
      "112563/112563 [==============================] - 5s 43us/step - loss: 0.0049 - accuracy: 0.9983 - val_loss: 0.0040 - val_accuracy: 0.9986\n",
      "Epoch 81/100\n",
      "112563/112563 [==============================] - 5s 45us/step - loss: 0.0050 - accuracy: 0.9982 - val_loss: 0.0064 - val_accuracy: 0.9975\n",
      "Epoch 82/100\n",
      "112563/112563 [==============================] - 5s 45us/step - loss: 0.0044 - accuracy: 0.9985 - val_loss: 0.0065 - val_accuracy: 0.9978\n",
      "Epoch 83/100\n",
      "112563/112563 [==============================] - 5s 46us/step - loss: 0.0058 - accuracy: 0.9983 - val_loss: 0.0083 - val_accuracy: 0.9970\n",
      "Epoch 84/100\n",
      "112563/112563 [==============================] - 5s 47us/step - loss: 0.0039 - accuracy: 0.9987 - val_loss: 0.0043 - val_accuracy: 0.9985\n",
      "Epoch 85/100\n",
      "112563/112563 [==============================] - 5s 48us/step - loss: 0.0053 - accuracy: 0.9982 - val_loss: 0.0098 - val_accuracy: 0.9975\n",
      "Epoch 86/100\n",
      "112563/112563 [==============================] - 5s 47us/step - loss: 0.0038 - accuracy: 0.9987 - val_loss: 0.0050 - val_accuracy: 0.9987\n",
      "Epoch 87/100\n",
      "112563/112563 [==============================] - 5s 44us/step - loss: 0.0046 - accuracy: 0.9985 - val_loss: 0.0026 - val_accuracy: 0.9989\n",
      "Epoch 88/100\n",
      "112563/112563 [==============================] - 5s 46us/step - loss: 0.0038 - accuracy: 0.9988 - val_loss: 0.0053 - val_accuracy: 0.9976\n",
      "Epoch 89/100\n",
      "112563/112563 [==============================] - 5s 43us/step - loss: 0.0055 - accuracy: 0.9982 - val_loss: 0.0025 - val_accuracy: 0.9989\n",
      "Epoch 90/100\n",
      "112563/112563 [==============================] - 5s 43us/step - loss: 0.0046 - accuracy: 0.9986 - val_loss: 0.0036 - val_accuracy: 0.9987\n",
      "Epoch 91/100\n",
      "112563/112563 [==============================] - 5s 47us/step - loss: 0.0049 - accuracy: 0.9985 - val_loss: 0.0048 - val_accuracy: 0.9983\n",
      "Epoch 92/100\n",
      "112563/112563 [==============================] - 5s 44us/step - loss: 0.0050 - accuracy: 0.9983 - val_loss: 0.0046 - val_accuracy: 0.9985\n",
      "Epoch 93/100\n",
      "112563/112563 [==============================] - 5s 43us/step - loss: 0.0051 - accuracy: 0.9985 - val_loss: 0.0058 - val_accuracy: 0.9986\n",
      "Epoch 94/100\n",
      "112563/112563 [==============================] - 5s 47us/step - loss: 0.0052 - accuracy: 0.9984 - val_loss: 0.0037 - val_accuracy: 0.9986\n",
      "Epoch 95/100\n",
      "112563/112563 [==============================] - 5s 46us/step - loss: 0.0033 - accuracy: 0.9990 - val_loss: 0.0031 - val_accuracy: 0.9989\n",
      "Epoch 96/100\n",
      "112563/112563 [==============================] - 5s 43us/step - loss: 0.0048 - accuracy: 0.9984 - val_loss: 0.0052 - val_accuracy: 0.9983\n",
      "Epoch 97/100\n",
      "112563/112563 [==============================] - 5s 47us/step - loss: 0.0042 - accuracy: 0.9986 - val_loss: 0.0025 - val_accuracy: 0.9994\n",
      "Epoch 98/100\n",
      "112563/112563 [==============================] - 5s 47us/step - loss: 0.0046 - accuracy: 0.9985 - val_loss: 0.0029 - val_accuracy: 0.9989\n",
      "Epoch 99/100\n",
      "112563/112563 [==============================] - 5s 48us/step - loss: 0.0045 - accuracy: 0.9984 - val_loss: 0.0030 - val_accuracy: 0.9987\n",
      "Epoch 100/100\n",
      "112563/112563 [==============================] - 5s 48us/step - loss: 0.0040 - accuracy: 0.9986 - val_loss: 0.0053 - val_accuracy: 0.9985\n"
     ]
    }
   ],
   "source": [
    "Proses = model.fit(X_scale, Y_categorical, \n",
    "                   validation_data=(test_X,test_Y), \n",
    "                   epochs=100, batch_size=100)"
   ]
  },
  {
   "cell_type": "markdown",
   "metadata": {},
   "source": [
    "### Prediksi Model\n",
    "Prediksi model diambil dari nilai pada data X yang telah di preprocessing, dimana nantinya nilai prediksi tersebut digunakan sebagai parameter confusion matrix."
   ]
  },
  {
   "cell_type": "code",
   "execution_count": 131,
   "metadata": {},
   "outputs": [
    {
     "data": {
      "text/plain": [
       "array([[1.0000000e+00, 3.3378601e-06],\n",
       "       [1.0000000e+00, 5.3644180e-07],\n",
       "       [1.0000000e+00, 5.3644180e-07],\n",
       "       ...,\n",
       "       [1.0000000e+00, 0.0000000e+00],\n",
       "       [1.0000000e+00, 8.1691286e-07],\n",
       "       [1.0000000e+00, 0.0000000e+00]], dtype=float32)"
      ]
     },
     "execution_count": 131,
     "metadata": {},
     "output_type": "execute_result"
    }
   ],
   "source": [
    "predict = model.predict(X_scale)\n",
    "predict"
   ]
  },
  {
   "cell_type": "markdown",
   "metadata": {},
   "source": [
    "### Performance\n",
    "Setelah mendapatkan hasil singkat dari proses training pada model diatas, selanjutnya dapat dilakukan analisis performance dengan membuat confusion matrix dari Y yang telah diubah menjadi categorical dan nilai prediksi dari model neural network terhadap X yang telah di preprocessing."
   ]
  },
  {
   "cell_type": "code",
   "execution_count": 132,
   "metadata": {},
   "outputs": [],
   "source": [
    "CM = confusion_matrix(Y_categorical.argmax(axis=1), predict.argmax(axis=1))"
   ]
  },
  {
   "cell_type": "code",
   "execution_count": 133,
   "metadata": {},
   "outputs": [
    {
     "data": {
      "text/plain": [
       "array([[93105,    25],\n",
       "       [   71, 19362]], dtype=int64)"
      ]
     },
     "execution_count": 133,
     "metadata": {},
     "output_type": "execute_result"
    }
   ],
   "source": [
    "CM\n"
   ]
  },
  {
   "cell_type": "markdown",
   "metadata": {},
   "source": [
    "Karena data yang didapat dari confusion matrix masih dalam bentuk array, untuk dapat mengkalkulasi nilai tersebut haruslah mengkonversinya kebentuk tipe data integer ataupun float,  saya menggunakan variabel yang bertipe data float. Disamping kapasitasnya yang lebih besar dibanding integer, tipe data float juga dapat mennampilkan nilai berkoma yang nantinya akan membuat persentase dari akurasi, sensitivity, specivicity, dan presisi lebih akurat."
   ]
  },
  {
   "cell_type": "code",
   "execution_count": 134,
   "metadata": {},
   "outputs": [],
   "source": [
    "# True Positif\n",
    "TP = CM[[0],[0]]\n",
    "TP = float(TP)\n",
    "\n",
    "# False Positif\n",
    "FP = CM[[0],[1]]\n",
    "FP = float(FP)\n",
    "\n",
    "# False Negatif\n",
    "FN = CM[[1],[0]]\n",
    "FN = float(FN)\n",
    "\n",
    "# True Negatif\n",
    "TN = CM[[1],[1]]\n",
    "TN = float(TN)"
   ]
  },
  {
   "cell_type": "code",
   "execution_count": 135,
   "metadata": {},
   "outputs": [
    {
     "name": "stdout",
     "output_type": "stream",
     "text": [
      "Accuracy: 99.91471442658778 %\n",
      "Precision: 99.97315580371524 %\n",
      "Sensitivity: 99.92380012020263 %\n",
      "Specificity: 99.87104760922267 %\n"
     ]
    }
   ],
   "source": [
    "print('Accuracy:', ((TP+TN)/(TP+TN+FP+FN)) * 100, '%')\n",
    "print('Precision:', (TP/(TP+FP) * 100), '%')\n",
    "print('Sensitivity:', (TP/(TP+FN) * 100), '%')\n",
    "print('Specificity:', (TN/(TN+FP) * 100), '%')"
   ]
  },
  {
   "cell_type": "markdown",
   "metadata": {},
   "source": [
    "model loss dan accuracy"
   ]
  },
  {
   "cell_type": "code",
   "execution_count": 127,
   "metadata": {},
   "outputs": [
    {
     "data": {
      "image/png": "[encoded data removed]",
      "text/plain": [
       "<Figure size 432x288 with 1 Axes>"
      ]
     },
     "metadata": {
      "needs_background": "light"
     },
     "output_type": "display_data"
    }
   ],
   "source": [
    "plt.plot(Proses.history['loss'])\n",
    "plt.plot(Proses.history['val_loss'])\n",
    "plt.title('model loss')\n",
    "plt.ylabel('loss')\n",
    "plt.xlabel('epoch')\n",
    "plt.legend(['train', 'test'], loc='upper right')\n",
    "plt.show()"
   ]
  },
  {
   "cell_type": "code",
   "execution_count": 126,
   "metadata": {},
   "outputs": [
    {
     "data": {
      "image/png": "[encoded data removed]",
      "text/plain": [
       "<Figure size 432x288 with 1 Axes>"
      ]
     },
     "metadata": {
      "needs_background": "light"
     },
     "output_type": "display_data"
    }
   ],
   "source": [
    "import matplotlib.pyplot as plt\n",
    "plt.plot(Proses.history['accuracy'])\n",
    "plt.plot(Proses.history['val_accuracy'])\n",
    "plt.title('model accuracy')\n",
    "plt.ylabel('accuracy')\n",
    "plt.xlabel('epoch')\n",
    "plt.legend(['train', 'test'], loc='lower right')\n",
    "plt.show()"
   ]
  }
 ],
 "metadata": {
  "kernelspec": {
   "display_name": "Python 3",
   "language": "python",
   "name": "python3"
  },
  "language_info": {
   "codemirror_mode": {
    "name": "ipython",
    "version": 3
   },
   "file_extension": ".py",
   "mimetype": "text/x-python",
   "name": "python",
   "nbconvert_exporter": "python",
   "pygments_lexer": "ipython3",
   "version": "3.7.3"
  }
 },
 "nbformat": 4,
 "nbformat_minor": 2
}
