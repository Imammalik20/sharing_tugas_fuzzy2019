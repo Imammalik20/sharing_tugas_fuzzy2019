{
 "cells": [
  {
   "cell_type": "markdown",
   "metadata": {},
   "source": [
    "<div class=\"\">\n",
    "<br><br>\n",
    "<center><br><font size=\"6\"><font face=\"calibri\"><strong>Dataset by UCI Machine Learning\n",
    "<center><br><font size=\"5\"><font face=\"calibri\"><strong>\n",
    "<br><br>\n",
    "<br>\n",
    "<br><strong>Bella Putri\n",
    "<br><strong>09011281722059"
   ]
  },
  {
   "cell_type": "code",
   "execution_count": 60,
   "metadata": {},
   "outputs": [],
   "source": [
    "from keras.models import Sequential\n",
    "from keras.layers import Dense\n",
    "from sklearn.utils import resample\n",
    "from sklearn.preprocessing import MinMaxScaler\n",
    "from sklearn.preprocessing import LabelEncoder\n",
    "scaler = MinMaxScaler\n",
    "from keras.optimizers import Adam\n",
    "import numpy as np\n",
    "import pandas as pd\n",
    "import seaborn as sns\n",
    "import matplotlib.pyplot as plt"
   ]
  },
  {
   "cell_type": "markdown",
   "metadata": {},
   "source": [
    "### IMPORT PACKAGES \n",
    "Berikut ini adalah paket-paket yang digunakan antara lain :\n",
    "\n",
    "Keras Applications adalah salah satu modul dalam pustaka Keras yang menyediakan arsitektur berbagai model Deep Learning ternama. Model-model itu sudah dilatih out of the box. Dengan kata lain, menggunakan Keras Applications sama halnya membuat sistem cerdas.\n",
    "\n",
    "Paket sklearn.utils\n",
    "\n",
    "Paket sklearn.preprocessing menyediakan beberapa fungsi utilitas umum dan kelas transformator untuk mengubah vektor fitur mentah menjadi representasi yang lebih sesuai untuk downstream estimator. Dalam hali ini diimportkan StandardScaler dan MinMaxScaler.\n",
    "\n",
    "NumPy adalah paket dasar untuk komputasi ilmiah dengan Python. NumPy juga dapat digunakan sebagai wadah data generik multidimensi yang efisien. Hal ini memungkinkan NumPy untuk terintegrasi dengan mudah dan cepat dengan berbagai macam database.\n",
    "\n",
    "Pandas merupakan toolkit yang powerfull sebagai alat analisis data dan struktur untuk bahasa pemrograman Python. \n",
    "\n",
    "Seaborn adalah library untuk membuat grafik statistik dengan Python. Ini dibangun di atas matplotlib dan terintegrasi dengan struktur data pandas.\n",
    "\n",
    "Matplotlib.pyplot berungsi untuk membuat suatu gambar, membuat sebuah plotting area pada gambar, membuat garis pada plotting area, dan-lain-lain."
   ]
  },
  {
   "cell_type": "code",
   "execution_count": 61,
   "metadata": {},
   "outputs": [],
   "source": [
    "dataset = pd.read_csv (\"r2data.csv\")"
   ]
  },
  {
   "cell_type": "code",
   "execution_count": 62,
   "metadata": {},
   "outputs": [],
   "source": [
    "df = pd.DataFrame(dataset)"
   ]
  },
  {
   "cell_type": "code",
   "execution_count": 290,
   "metadata": {},
   "outputs": [
    {
     "name": "stderr",
     "output_type": "stream",
     "text": [
      "C:\\Users\\Bella Putri\\AppData\\Local\\conda\\conda\\envs\\tensorflow-session\\lib\\site-packages\\ipykernel_launcher.py:1: FutureWarning: \n",
      ".ix is deprecated. Please use\n",
      ".loc for label based indexing or\n",
      ".iloc for positional indexing\n",
      "\n",
      "See the documentation here:\n",
      "http://pandas.pydata.org/pandas-docs/stable/user_guide/indexing.html#ix-indexer-is-deprecated\n",
      "  \"\"\"Entry point for launching an IPython kernel.\n",
      "C:\\Users\\Bella Putri\\AppData\\Local\\conda\\conda\\envs\\tensorflow-session\\lib\\site-packages\\pandas\\core\\indexing.py:822: FutureWarning: \n",
      ".ix is deprecated. Please use\n",
      ".loc for label based indexing or\n",
      ".iloc for positional indexing\n",
      "\n",
      "See the documentation here:\n",
      "http://pandas.pydata.org/pandas-docs/stable/user_guide/indexing.html#ix-indexer-is-deprecated\n",
      "  retval = getattr(retval, self.name)._getitem_axis(key, axis=i)\n",
      "C:\\Users\\Bella Putri\\AppData\\Local\\conda\\conda\\envs\\tensorflow-session\\lib\\site-packages\\ipykernel_launcher.py:2: FutureWarning: \n",
      ".ix is deprecated. Please use\n",
      ".loc for label based indexing or\n",
      ".iloc for positional indexing\n",
      "\n",
      "See the documentation here:\n",
      "http://pandas.pydata.org/pandas-docs/stable/user_guide/indexing.html#ix-indexer-is-deprecated\n",
      "  \n"
     ]
    }
   ],
   "source": [
    "feature = np.array(dataset.ix[:,0:9])\n",
    "label = np.array(dataset.ix[:,9])"
   ]
  },
  {
   "cell_type": "code",
   "execution_count": 291,
   "metadata": {},
   "outputs": [
    {
     "data": {
      "text/html": [
       "<div>\n",
       "<style scoped>\n",
       "    .dataframe tbody tr th:only-of-type {\n",
       "        vertical-align: middle;\n",
       "    }\n",
       "\n",
       "    .dataframe tbody tr th {\n",
       "        vertical-align: top;\n",
       "    }\n",
       "\n",
       "    .dataframe thead th {\n",
       "        text-align: right;\n",
       "    }\n",
       "</style>\n",
       "<table border=\"1\" class=\"dataframe\">\n",
       "  <thead>\n",
       "    <tr style=\"text-align: right;\">\n",
       "      <th></th>\n",
       "      <th>0</th>\n",
       "      <th>1</th>\n",
       "      <th>2</th>\n",
       "      <th>3</th>\n",
       "      <th>4</th>\n",
       "      <th>5</th>\n",
       "      <th>6</th>\n",
       "      <th>7</th>\n",
       "      <th>8</th>\n",
       "    </tr>\n",
       "  </thead>\n",
       "  <tbody>\n",
       "    <tr>\n",
       "      <td>0</td>\n",
       "      <td>48.0</td>\n",
       "      <td>23.500000</td>\n",
       "      <td>70.0</td>\n",
       "      <td>2.707</td>\n",
       "      <td>0.467409</td>\n",
       "      <td>8.8071</td>\n",
       "      <td>9.702400</td>\n",
       "      <td>7.99585</td>\n",
       "      <td>417.114</td>\n",
       "    </tr>\n",
       "    <tr>\n",
       "      <td>1</td>\n",
       "      <td>83.0</td>\n",
       "      <td>20.690495</td>\n",
       "      <td>92.0</td>\n",
       "      <td>3.115</td>\n",
       "      <td>0.706897</td>\n",
       "      <td>8.8438</td>\n",
       "      <td>5.429285</td>\n",
       "      <td>4.06405</td>\n",
       "      <td>468.786</td>\n",
       "    </tr>\n",
       "    <tr>\n",
       "      <td>2</td>\n",
       "      <td>82.0</td>\n",
       "      <td>23.124670</td>\n",
       "      <td>91.0</td>\n",
       "      <td>4.498</td>\n",
       "      <td>1.009651</td>\n",
       "      <td>17.9393</td>\n",
       "      <td>22.432040</td>\n",
       "      <td>9.27715</td>\n",
       "      <td>554.697</td>\n",
       "    </tr>\n",
       "    <tr>\n",
       "      <td>3</td>\n",
       "      <td>68.0</td>\n",
       "      <td>21.367521</td>\n",
       "      <td>77.0</td>\n",
       "      <td>3.226</td>\n",
       "      <td>0.612725</td>\n",
       "      <td>9.8827</td>\n",
       "      <td>7.169560</td>\n",
       "      <td>12.76600</td>\n",
       "      <td>928.220</td>\n",
       "    </tr>\n",
       "    <tr>\n",
       "      <td>4</td>\n",
       "      <td>86.0</td>\n",
       "      <td>21.111111</td>\n",
       "      <td>92.0</td>\n",
       "      <td>3.549</td>\n",
       "      <td>0.805386</td>\n",
       "      <td>6.6994</td>\n",
       "      <td>4.819240</td>\n",
       "      <td>10.57635</td>\n",
       "      <td>773.920</td>\n",
       "    </tr>\n",
       "    <tr>\n",
       "      <td>...</td>\n",
       "      <td>...</td>\n",
       "      <td>...</td>\n",
       "      <td>...</td>\n",
       "      <td>...</td>\n",
       "      <td>...</td>\n",
       "      <td>...</td>\n",
       "      <td>...</td>\n",
       "      <td>...</td>\n",
       "      <td>...</td>\n",
       "    </tr>\n",
       "    <tr>\n",
       "      <td>111</td>\n",
       "      <td>45.0</td>\n",
       "      <td>26.850000</td>\n",
       "      <td>92.0</td>\n",
       "      <td>3.330</td>\n",
       "      <td>0.755688</td>\n",
       "      <td>54.6800</td>\n",
       "      <td>12.100000</td>\n",
       "      <td>10.96000</td>\n",
       "      <td>268.230</td>\n",
       "    </tr>\n",
       "    <tr>\n",
       "      <td>112</td>\n",
       "      <td>62.0</td>\n",
       "      <td>26.840000</td>\n",
       "      <td>100.0</td>\n",
       "      <td>4.530</td>\n",
       "      <td>1.117400</td>\n",
       "      <td>12.4500</td>\n",
       "      <td>21.420000</td>\n",
       "      <td>7.32000</td>\n",
       "      <td>330.160</td>\n",
       "    </tr>\n",
       "    <tr>\n",
       "      <td>113</td>\n",
       "      <td>65.0</td>\n",
       "      <td>32.050000</td>\n",
       "      <td>97.0</td>\n",
       "      <td>5.730</td>\n",
       "      <td>1.370998</td>\n",
       "      <td>61.4800</td>\n",
       "      <td>22.540000</td>\n",
       "      <td>10.33000</td>\n",
       "      <td>314.050</td>\n",
       "    </tr>\n",
       "    <tr>\n",
       "      <td>114</td>\n",
       "      <td>72.0</td>\n",
       "      <td>25.590000</td>\n",
       "      <td>82.0</td>\n",
       "      <td>2.820</td>\n",
       "      <td>0.570392</td>\n",
       "      <td>24.9600</td>\n",
       "      <td>33.750000</td>\n",
       "      <td>3.27000</td>\n",
       "      <td>392.460</td>\n",
       "    </tr>\n",
       "    <tr>\n",
       "      <td>115</td>\n",
       "      <td>86.0</td>\n",
       "      <td>27.180000</td>\n",
       "      <td>138.0</td>\n",
       "      <td>19.910</td>\n",
       "      <td>6.777364</td>\n",
       "      <td>90.2800</td>\n",
       "      <td>14.110000</td>\n",
       "      <td>4.35000</td>\n",
       "      <td>90.090</td>\n",
       "    </tr>\n",
       "  </tbody>\n",
       "</table>\n",
       "<p>116 rows × 9 columns</p>\n",
       "</div>"
      ],
      "text/plain": [
       "        0          1      2       3         4        5          6         7  \\\n",
       "0    48.0  23.500000   70.0   2.707  0.467409   8.8071   9.702400   7.99585   \n",
       "1    83.0  20.690495   92.0   3.115  0.706897   8.8438   5.429285   4.06405   \n",
       "2    82.0  23.124670   91.0   4.498  1.009651  17.9393  22.432040   9.27715   \n",
       "3    68.0  21.367521   77.0   3.226  0.612725   9.8827   7.169560  12.76600   \n",
       "4    86.0  21.111111   92.0   3.549  0.805386   6.6994   4.819240  10.57635   \n",
       "..    ...        ...    ...     ...       ...      ...        ...       ...   \n",
       "111  45.0  26.850000   92.0   3.330  0.755688  54.6800  12.100000  10.96000   \n",
       "112  62.0  26.840000  100.0   4.530  1.117400  12.4500  21.420000   7.32000   \n",
       "113  65.0  32.050000   97.0   5.730  1.370998  61.4800  22.540000  10.33000   \n",
       "114  72.0  25.590000   82.0   2.820  0.570392  24.9600  33.750000   3.27000   \n",
       "115  86.0  27.180000  138.0  19.910  6.777364  90.2800  14.110000   4.35000   \n",
       "\n",
       "           8  \n",
       "0    417.114  \n",
       "1    468.786  \n",
       "2    554.697  \n",
       "3    928.220  \n",
       "4    773.920  \n",
       "..       ...  \n",
       "111  268.230  \n",
       "112  330.160  \n",
       "113  314.050  \n",
       "114  392.460  \n",
       "115   90.090  \n",
       "\n",
       "[116 rows x 9 columns]"
      ]
     },
     "execution_count": 291,
     "metadata": {},
     "output_type": "execute_result"
    }
   ],
   "source": [
    "data = pd.DataFrame(feature)\n",
    "data"
   ]
  },
  {
   "cell_type": "code",
   "execution_count": 292,
   "metadata": {},
   "outputs": [
    {
     "data": {
      "text/html": [
       "<div>\n",
       "<style scoped>\n",
       "    .dataframe tbody tr th:only-of-type {\n",
       "        vertical-align: middle;\n",
       "    }\n",
       "\n",
       "    .dataframe tbody tr th {\n",
       "        vertical-align: top;\n",
       "    }\n",
       "\n",
       "    .dataframe thead th {\n",
       "        text-align: right;\n",
       "    }\n",
       "</style>\n",
       "<table border=\"1\" class=\"dataframe\">\n",
       "  <thead>\n",
       "    <tr style=\"text-align: right;\">\n",
       "      <th></th>\n",
       "      <th>Age</th>\n",
       "      <th>BMI</th>\n",
       "      <th>Glucose</th>\n",
       "      <th>Insulin</th>\n",
       "      <th>HOMA</th>\n",
       "      <th>Leptin</th>\n",
       "      <th>Adiponectin</th>\n",
       "      <th>Resistin</th>\n",
       "      <th>MCP.1</th>\n",
       "      <th>Classification</th>\n",
       "    </tr>\n",
       "  </thead>\n",
       "  <tbody>\n",
       "    <tr>\n",
       "      <td>0</td>\n",
       "      <td>48</td>\n",
       "      <td>23.500000</td>\n",
       "      <td>70</td>\n",
       "      <td>2.707</td>\n",
       "      <td>0.467409</td>\n",
       "      <td>8.8071</td>\n",
       "      <td>9.702400</td>\n",
       "      <td>7.99585</td>\n",
       "      <td>417.114</td>\n",
       "      <td>1</td>\n",
       "    </tr>\n",
       "    <tr>\n",
       "      <td>1</td>\n",
       "      <td>83</td>\n",
       "      <td>20.690495</td>\n",
       "      <td>92</td>\n",
       "      <td>3.115</td>\n",
       "      <td>0.706897</td>\n",
       "      <td>8.8438</td>\n",
       "      <td>5.429285</td>\n",
       "      <td>4.06405</td>\n",
       "      <td>468.786</td>\n",
       "      <td>1</td>\n",
       "    </tr>\n",
       "    <tr>\n",
       "      <td>2</td>\n",
       "      <td>82</td>\n",
       "      <td>23.124670</td>\n",
       "      <td>91</td>\n",
       "      <td>4.498</td>\n",
       "      <td>1.009651</td>\n",
       "      <td>17.9393</td>\n",
       "      <td>22.432040</td>\n",
       "      <td>9.27715</td>\n",
       "      <td>554.697</td>\n",
       "      <td>1</td>\n",
       "    </tr>\n",
       "    <tr>\n",
       "      <td>3</td>\n",
       "      <td>68</td>\n",
       "      <td>21.367521</td>\n",
       "      <td>77</td>\n",
       "      <td>3.226</td>\n",
       "      <td>0.612725</td>\n",
       "      <td>9.8827</td>\n",
       "      <td>7.169560</td>\n",
       "      <td>12.76600</td>\n",
       "      <td>928.220</td>\n",
       "      <td>1</td>\n",
       "    </tr>\n",
       "    <tr>\n",
       "      <td>4</td>\n",
       "      <td>86</td>\n",
       "      <td>21.111111</td>\n",
       "      <td>92</td>\n",
       "      <td>3.549</td>\n",
       "      <td>0.805386</td>\n",
       "      <td>6.6994</td>\n",
       "      <td>4.819240</td>\n",
       "      <td>10.57635</td>\n",
       "      <td>773.920</td>\n",
       "      <td>1</td>\n",
       "    </tr>\n",
       "  </tbody>\n",
       "</table>\n",
       "</div>"
      ],
      "text/plain": [
       "   Age        BMI  Glucose  Insulin      HOMA   Leptin  Adiponectin  Resistin  \\\n",
       "0   48  23.500000       70    2.707  0.467409   8.8071     9.702400   7.99585   \n",
       "1   83  20.690495       92    3.115  0.706897   8.8438     5.429285   4.06405   \n",
       "2   82  23.124670       91    4.498  1.009651  17.9393    22.432040   9.27715   \n",
       "3   68  21.367521       77    3.226  0.612725   9.8827     7.169560  12.76600   \n",
       "4   86  21.111111       92    3.549  0.805386   6.6994     4.819240  10.57635   \n",
       "\n",
       "     MCP.1  Classification  \n",
       "0  417.114               1  \n",
       "1  468.786               1  \n",
       "2  554.697               1  \n",
       "3  928.220               1  \n",
       "4  773.920               1  "
      ]
     },
     "execution_count": 292,
     "metadata": {},
     "output_type": "execute_result"
    }
   ],
   "source": [
    "dataset.head()"
   ]
  },
  {
   "cell_type": "code",
   "execution_count": 293,
   "metadata": {},
   "outputs": [
    {
     "data": {
      "text/html": [
       "<div>\n",
       "<style scoped>\n",
       "    .dataframe tbody tr th:only-of-type {\n",
       "        vertical-align: middle;\n",
       "    }\n",
       "\n",
       "    .dataframe tbody tr th {\n",
       "        vertical-align: top;\n",
       "    }\n",
       "\n",
       "    .dataframe thead th {\n",
       "        text-align: right;\n",
       "    }\n",
       "</style>\n",
       "<table border=\"1\" class=\"dataframe\">\n",
       "  <thead>\n",
       "    <tr style=\"text-align: right;\">\n",
       "      <th></th>\n",
       "      <th>Age</th>\n",
       "      <th>BMI</th>\n",
       "      <th>Glucose</th>\n",
       "      <th>Insulin</th>\n",
       "      <th>HOMA</th>\n",
       "      <th>Leptin</th>\n",
       "      <th>Adiponectin</th>\n",
       "      <th>Resistin</th>\n",
       "      <th>MCP.1</th>\n",
       "      <th>Classification</th>\n",
       "    </tr>\n",
       "  </thead>\n",
       "  <tbody>\n",
       "    <tr>\n",
       "      <td>count</td>\n",
       "      <td>116.000000</td>\n",
       "      <td>116.000000</td>\n",
       "      <td>116.000000</td>\n",
       "      <td>116.000000</td>\n",
       "      <td>116.000000</td>\n",
       "      <td>116.000000</td>\n",
       "      <td>116.000000</td>\n",
       "      <td>116.000000</td>\n",
       "      <td>116.000000</td>\n",
       "      <td>116.000000</td>\n",
       "    </tr>\n",
       "    <tr>\n",
       "      <td>mean</td>\n",
       "      <td>57.301724</td>\n",
       "      <td>27.582111</td>\n",
       "      <td>97.793103</td>\n",
       "      <td>10.012086</td>\n",
       "      <td>2.694988</td>\n",
       "      <td>26.615080</td>\n",
       "      <td>10.180874</td>\n",
       "      <td>14.725966</td>\n",
       "      <td>534.647000</td>\n",
       "      <td>1.551724</td>\n",
       "    </tr>\n",
       "    <tr>\n",
       "      <td>std</td>\n",
       "      <td>16.112766</td>\n",
       "      <td>5.020136</td>\n",
       "      <td>22.525162</td>\n",
       "      <td>10.067768</td>\n",
       "      <td>3.642043</td>\n",
       "      <td>19.183294</td>\n",
       "      <td>6.843341</td>\n",
       "      <td>12.390646</td>\n",
       "      <td>345.912663</td>\n",
       "      <td>0.499475</td>\n",
       "    </tr>\n",
       "    <tr>\n",
       "      <td>min</td>\n",
       "      <td>24.000000</td>\n",
       "      <td>18.370000</td>\n",
       "      <td>60.000000</td>\n",
       "      <td>2.432000</td>\n",
       "      <td>0.467409</td>\n",
       "      <td>4.311000</td>\n",
       "      <td>1.656020</td>\n",
       "      <td>3.210000</td>\n",
       "      <td>45.843000</td>\n",
       "      <td>1.000000</td>\n",
       "    </tr>\n",
       "    <tr>\n",
       "      <td>25%</td>\n",
       "      <td>45.000000</td>\n",
       "      <td>22.973205</td>\n",
       "      <td>85.750000</td>\n",
       "      <td>4.359250</td>\n",
       "      <td>0.917966</td>\n",
       "      <td>12.313675</td>\n",
       "      <td>5.474282</td>\n",
       "      <td>6.881763</td>\n",
       "      <td>269.978250</td>\n",
       "      <td>1.000000</td>\n",
       "    </tr>\n",
       "    <tr>\n",
       "      <td>50%</td>\n",
       "      <td>56.000000</td>\n",
       "      <td>27.662416</td>\n",
       "      <td>92.000000</td>\n",
       "      <td>5.924500</td>\n",
       "      <td>1.380939</td>\n",
       "      <td>20.271000</td>\n",
       "      <td>8.352692</td>\n",
       "      <td>10.827740</td>\n",
       "      <td>471.322500</td>\n",
       "      <td>2.000000</td>\n",
       "    </tr>\n",
       "    <tr>\n",
       "      <td>75%</td>\n",
       "      <td>71.000000</td>\n",
       "      <td>31.241442</td>\n",
       "      <td>102.000000</td>\n",
       "      <td>11.189250</td>\n",
       "      <td>2.857787</td>\n",
       "      <td>37.378300</td>\n",
       "      <td>11.815970</td>\n",
       "      <td>17.755207</td>\n",
       "      <td>700.085000</td>\n",
       "      <td>2.000000</td>\n",
       "    </tr>\n",
       "    <tr>\n",
       "      <td>max</td>\n",
       "      <td>89.000000</td>\n",
       "      <td>38.578759</td>\n",
       "      <td>201.000000</td>\n",
       "      <td>58.460000</td>\n",
       "      <td>25.050342</td>\n",
       "      <td>90.280000</td>\n",
       "      <td>38.040000</td>\n",
       "      <td>82.100000</td>\n",
       "      <td>1698.440000</td>\n",
       "      <td>2.000000</td>\n",
       "    </tr>\n",
       "  </tbody>\n",
       "</table>\n",
       "</div>"
      ],
      "text/plain": [
       "              Age         BMI     Glucose     Insulin        HOMA      Leptin  \\\n",
       "count  116.000000  116.000000  116.000000  116.000000  116.000000  116.000000   \n",
       "mean    57.301724   27.582111   97.793103   10.012086    2.694988   26.615080   \n",
       "std     16.112766    5.020136   22.525162   10.067768    3.642043   19.183294   \n",
       "min     24.000000   18.370000   60.000000    2.432000    0.467409    4.311000   \n",
       "25%     45.000000   22.973205   85.750000    4.359250    0.917966   12.313675   \n",
       "50%     56.000000   27.662416   92.000000    5.924500    1.380939   20.271000   \n",
       "75%     71.000000   31.241442  102.000000   11.189250    2.857787   37.378300   \n",
       "max     89.000000   38.578759  201.000000   58.460000   25.050342   90.280000   \n",
       "\n",
       "       Adiponectin    Resistin        MCP.1  Classification  \n",
       "count   116.000000  116.000000   116.000000      116.000000  \n",
       "mean     10.180874   14.725966   534.647000        1.551724  \n",
       "std       6.843341   12.390646   345.912663        0.499475  \n",
       "min       1.656020    3.210000    45.843000        1.000000  \n",
       "25%       5.474282    6.881763   269.978250        1.000000  \n",
       "50%       8.352692   10.827740   471.322500        2.000000  \n",
       "75%      11.815970   17.755207   700.085000        2.000000  \n",
       "max      38.040000   82.100000  1698.440000        2.000000  "
      ]
     },
     "execution_count": 293,
     "metadata": {},
     "output_type": "execute_result"
    }
   ],
   "source": [
    "dataset.describe()"
   ]
  },
  {
   "cell_type": "code",
   "execution_count": 294,
   "metadata": {},
   "outputs": [],
   "source": [
    "benign = dataset[dataset.Classification==1]"
   ]
  },
  {
   "cell_type": "markdown",
   "metadata": {},
   "source": [
    "### ATTRIBUTE\n",
    "Atribut yang terdapat berdasarkan Dataset adalah sebagai berikut : <br>"
   ]
  },
  {
   "cell_type": "code",
   "execution_count": 295,
   "metadata": {},
   "outputs": [],
   "source": [
    "normal = dataset[dataset.Classification==0]\n",
    "Dos = dataset[dataset.Classification==1]"
   ]
  },
  {
   "cell_type": "code",
   "execution_count": 296,
   "metadata": {},
   "outputs": [
    {
     "data": {
      "text/plain": [
       "Text(0, 0.5, 'Frequency')"
      ]
     },
     "execution_count": 296,
     "metadata": {},
     "output_type": "execute_result"
    },
    {
     "data": {
      "image/png": "[encoded data removed]",
      "text/plain": [
       "<Figure size 432x288 with 1 Axes>"
      ]
     },
     "metadata": {
      "needs_background": "light"
     },
     "output_type": "display_data"
    }
   ],
   "source": [
    "labels = ['normal','Dos']\n",
    "classes = pd.value_counts(df['Classification'], sort = True)\n",
    "classes.plot(kind = 'bar', rot=0)\n",
    "plt.title(\"Transaction Label distribution\")\n",
    "plt.xticks(range(2), labels)\n",
    "plt.xlabel(\"Label\")\n",
    "plt.ylabel(\"Frequency\")"
   ]
  },
  {
   "cell_type": "markdown",
   "metadata": {},
   "source": [
    "### HISTOGRAM\n",
    "Histogram adalah plot yang memungkinkan dapat menemukan dan menunjukkan distribusi frekuensi (bentuk) yang mendasari serangkaian data.\n",
    "\n",
    "hist() befungsi untuk menemukan dan menunjukan distribusi frekuensi berdasarkan serangkaian data, dan plt.show() berfungsi untuk menampilkannya dalam bentuk grafik."
   ]
  },
  {
   "cell_type": "code",
   "execution_count": 297,
   "metadata": {},
   "outputs": [
    {
     "data": {
      "image/png": "[encoded data removed]",
      "text/plain": [
       "<Figure size 864x864 with 12 Axes>"
      ]
     },
     "metadata": {
      "needs_background": "light"
     },
     "output_type": "display_data"
    }
   ],
   "source": [
    "dataset.hist(figsize=(12,12))\n",
    "plt.show()"
   ]
  },
  {
   "cell_type": "markdown",
   "metadata": {},
   "source": [
    "### BOX PLOT\n",
    "BoxPlot adalah penyajian grafis lainnya yang bisa merangkum informasi lebih detail mengenai distribusi nilai-nilai data pengamatan.Boxplot merupakan ringkasan distribusi sampel yang disajikan secara grafis yang bisa menggambarkan bentuk distribusi data (skewness), ukuran tendensi sentral dan ukuran penyebaran (keragaman) data pengamatan. "
   ]
  },
  {
   "cell_type": "code",
   "execution_count": 298,
   "metadata": {
    "scrolled": false
   },
   "outputs": [
    {
     "data": {
      "text/plain": [
       "Age                  AxesSubplot(0.125,0.826831;0.227941x0.053169)\n",
       "BMI               AxesSubplot(0.398529,0.826831;0.227941x0.053169)\n",
       "Glucose           AxesSubplot(0.672059,0.826831;0.227941x0.053169)\n",
       "Insulin              AxesSubplot(0.125,0.763028;0.227941x0.053169)\n",
       "HOMA              AxesSubplot(0.398529,0.763028;0.227941x0.053169)\n",
       "Leptin            AxesSubplot(0.672059,0.763028;0.227941x0.053169)\n",
       "Adiponectin          AxesSubplot(0.125,0.699225;0.227941x0.053169)\n",
       "Resistin          AxesSubplot(0.398529,0.699225;0.227941x0.053169)\n",
       "MCP.1             AxesSubplot(0.672059,0.699225;0.227941x0.053169)\n",
       "Classification       AxesSubplot(0.125,0.635423;0.227941x0.053169)\n",
       "dtype: object"
      ]
     },
     "execution_count": 298,
     "metadata": {},
     "output_type": "execute_result"
    },
    {
     "data": {
      "image/png": "[encoded data removed]",
      "text/plain": [
       "<Figure size 2880x4680 with 36 Axes>"
      ]
     },
     "metadata": {
      "needs_background": "light"
     },
     "output_type": "display_data"
    }
   ],
   "source": [
    "dataset.plot(kind='box', subplots=True, layout=(12,3), sharex=False, sharey=False, figsize=(40,65))"
   ]
  },
  {
   "cell_type": "markdown",
   "metadata": {},
   "source": [
    "### FEATURE NORMALIZATION\n",
    "Konsep penting lainnya yang diperlukan untuk mengubah semua fitur ke skala yang sama adalah normalisasi. Hal ini memungkinkan konvergensi yang lebih cepat pada pembelajaran, dan pengaruh yang lebih seragam untuk semua bobot. Dalam hal ini digunakan MinMaxScaler yang mengubah fitur dengan penskalaan setiap fitur ke rentang yang diberikan (menjadi antara 0 dan 1)."
   ]
  },
  {
   "cell_type": "code",
   "execution_count": 299,
   "metadata": {},
   "outputs": [
    {
     "data": {
      "text/plain": [
       "(116, 9)"
      ]
     },
     "execution_count": 299,
     "metadata": {},
     "output_type": "execute_result"
    }
   ],
   "source": [
    "scaler= MinMaxScaler()\n",
    "feature_scaled=scaler.fit_transform(feature)\n",
    "feature_scaled.shape"
   ]
  },
  {
   "cell_type": "code",
   "execution_count": 300,
   "metadata": {},
   "outputs": [
    {
     "name": "stdout",
     "output_type": "stream",
     "text": [
      "[1 1 1 1 1 1 1 1 1 1 1 1 1 1 1 1 1 1 1 1 1 1 1 1 1 1 1 1 1 1 1 1 1 1 1 1 1\n",
      " 1 1 1 1 1 1 1 1 1 1 1 1 1 1 1 2 2 2 2 2 2 2 2 2 2 2 2 2 2 2 2 2 2 2 2 2 2\n",
      " 2 2 2 2 2 2 2 2 2 2 2 2 2 2 2 2 2 2 2 2 2 2 2 2 2 2 2 2 2 2 2 2 2 2 2 2 2\n",
      " 2 2 2 2 2]\n"
     ]
    }
   ],
   "source": [
    "print(label)"
   ]
  },
  {
   "cell_type": "markdown",
   "metadata": {},
   "source": [
    "### SEQUENTIAL MODEL\n",
    "Tumpukan lapisan linear ialah Model Sekuensial. Dalam menentukan bentuk masukan, model perlu tahu bentuk masukan apa yang diharapkan. Lapisan pertama dalam model Sequential (dan hanya yang pertama, karena lapisan berikutnya dapat melakukan inferensi bentuk otomatis) perlu menerima informasi tentang bentuk inputnya. Kemudian untuk menambahkan lapisan cukup dengan menambahkan perintah add."
   ]
  },
  {
   "cell_type": "code",
   "execution_count": 301,
   "metadata": {},
   "outputs": [],
   "source": [
    "from sklearn.model_selection import train_test_split"
   ]
  },
  {
   "cell_type": "code",
   "execution_count": 302,
   "metadata": {},
   "outputs": [],
   "source": [
    "feature_train, feature_test, label_train, label_test = train_test_split(\n",
    "    feature, label, test_size=0.2, random_state=2)"
   ]
  },
  {
   "cell_type": "code",
   "execution_count": 303,
   "metadata": {},
   "outputs": [],
   "source": [
    "model = Sequential()"
   ]
  },
  {
   "cell_type": "code",
   "execution_count": 309,
   "metadata": {},
   "outputs": [],
   "source": [
    "model.add(Dense(units= 20, input_dim =9 , activation='relu'))\n",
    "model.add(Dense(units=10, activation='relu'))\n",
    "model.add(Dense(units= 1, activation='sigmoid'))"
   ]
  },
  {
   "cell_type": "markdown",
   "metadata": {},
   "source": [
    "summary() berfungsi untuk menampilkan ringkasan parameter berdasarkan layer dan output shape."
   ]
  },
  {
   "cell_type": "code",
   "execution_count": 310,
   "metadata": {},
   "outputs": [
    {
     "name": "stdout",
     "output_type": "stream",
     "text": [
      "_________________________________________________________________\n",
      "Layer (type)                 Output Shape              Param #   \n",
      "=================================================================\n",
      "dense_70 (Dense)             (None, 20)                200       \n",
      "_________________________________________________________________\n",
      "dense_71 (Dense)             (None, 10)                210       \n",
      "_________________________________________________________________\n",
      "dense_72 (Dense)             (None, 9)                 99        \n",
      "_________________________________________________________________\n",
      "dense_73 (Dense)             (None, 20)                200       \n",
      "_________________________________________________________________\n",
      "dense_74 (Dense)             (None, 10)                210       \n",
      "_________________________________________________________________\n",
      "dense_75 (Dense)             (None, 1)                 11        \n",
      "=================================================================\n",
      "Total params: 509\n",
      "Trainable params: 509\n",
      "Non-trainable params: 0\n",
      "_________________________________________________________________\n"
     ]
    },
    {
     "name": "stderr",
     "output_type": "stream",
     "text": [
      "C:\\Users\\Bella Putri\\AppData\\Local\\conda\\conda\\envs\\tensorflow-session\\lib\\site-packages\\keras\\engine\\training.py:490: UserWarning: Discrepancy between trainable weights and collected trainable weights, did you set `model.trainable` without calling `model.compile` after ?\n",
      "  'Discrepancy between trainable weights and collected trainable'\n"
     ]
    }
   ],
   "source": [
    "model.summary()"
   ]
  },
  {
   "cell_type": "markdown",
   "metadata": {},
   "source": [
    "compile() berfungsi mengembalikan objek kode Python dari sumber (string normal, string byte, atau objek AST). Dalam hal ini menggunakan optimizer adam dan categorical loss yaitu binary crossentropy."
   ]
  },
  {
   "cell_type": "code",
   "execution_count": 311,
   "metadata": {},
   "outputs": [],
   "source": [
    "model.compile(optimizer=Adam(lr=0.0001), loss='binary_crossentropy', metrics=['accuracy'])"
   ]
  },
  {
   "cell_type": "code",
   "execution_count": 312,
   "metadata": {},
   "outputs": [
    {
     "name": "stdout",
     "output_type": "stream",
     "text": [
      "Train on 92 samples, validate on 24 samples\n",
      "Epoch 1/100\n",
      "92/92 [==============================] - 3s 36ms/step - loss: 0.8547 - acc: 0.0109 - val_loss: 0.8346 - val_acc: 0.0000e+00\n",
      "Epoch 2/100\n",
      "92/92 [==============================] - 0s 294us/step - loss: 0.8414 - acc: 0.0217 - val_loss: 0.8263 - val_acc: 0.0000e+00\n",
      "Epoch 3/100\n",
      "92/92 [==============================] - 0s 966us/step - loss: 0.8274 - acc: 0.0217 - val_loss: 0.8181 - val_acc: 0.0000e+00\n",
      "Epoch 4/100\n",
      "92/92 [==============================] - 0s 510us/step - loss: 0.8123 - acc: 0.0543 - val_loss: 0.8106 - val_acc: 0.0000e+00\n",
      "Epoch 5/100\n",
      "92/92 [==============================] - 0s 924us/step - loss: 0.7983 - acc: 0.0652 - val_loss: 0.8018 - val_acc: 0.0000e+00\n",
      "Epoch 6/100\n",
      "92/92 [==============================] - 0s 516us/step - loss: 0.7881 - acc: 0.0652 - val_loss: 0.7919 - val_acc: 0.0000e+00\n",
      "Epoch 7/100\n",
      "92/92 [==============================] - 0s 1ms/step - loss: 0.7771 - acc: 0.0761 - val_loss: 0.7774 - val_acc: 0.0000e+00\n",
      "Epoch 8/100\n",
      "92/92 [==============================] - 0s 857us/step - loss: 0.7659 - acc: 0.0761 - val_loss: 0.7649 - val_acc: 0.0833\n",
      "Epoch 9/100\n",
      "92/92 [==============================] - 0s 767us/step - loss: 0.7515 - acc: 0.0761 - val_loss: 0.7541 - val_acc: 0.0833\n",
      "Epoch 10/100\n",
      "92/92 [==============================] - 0s 890us/step - loss: 0.7408 - acc: 0.0978 - val_loss: 0.7413 - val_acc: 0.0833\n",
      "Epoch 11/100\n",
      "92/92 [==============================] - 0s 553us/step - loss: 0.7323 - acc: 0.0978 - val_loss: 0.7283 - val_acc: 0.0833\n",
      "Epoch 12/100\n",
      "92/92 [==============================] - 0s 707us/step - loss: 0.7233 - acc: 0.1087 - val_loss: 0.7176 - val_acc: 0.0833\n",
      "Epoch 13/100\n",
      "92/92 [==============================] - 0s 1ms/step - loss: 0.7158 - acc: 0.1304 - val_loss: 0.7083 - val_acc: 0.1250\n",
      "Epoch 14/100\n",
      "92/92 [==============================] - 0s 548us/step - loss: 0.7082 - acc: 0.1739 - val_loss: 0.6975 - val_acc: 0.2083\n",
      "Epoch 15/100\n",
      "92/92 [==============================] - 0s 385us/step - loss: 0.7000 - acc: 0.2065 - val_loss: 0.6876 - val_acc: 0.2500\n",
      "Epoch 16/100\n",
      "92/92 [==============================] - 0s 632us/step - loss: 0.6927 - acc: 0.2065 - val_loss: 0.6784 - val_acc: 0.3333\n",
      "Epoch 17/100\n",
      "92/92 [==============================] - 0s 530us/step - loss: 0.6860 - acc: 0.2174 - val_loss: 0.6688 - val_acc: 0.3333\n",
      "Epoch 18/100\n",
      "92/92 [==============================] - 0s 531us/step - loss: 0.6793 - acc: 0.2174 - val_loss: 0.6609 - val_acc: 0.3333\n",
      "Epoch 19/100\n",
      "92/92 [==============================] - 0s 577us/step - loss: 0.6725 - acc: 0.2283 - val_loss: 0.6543 - val_acc: 0.3333\n",
      "Epoch 20/100\n",
      "92/92 [==============================] - 0s 795us/step - loss: 0.6667 - acc: 0.2391 - val_loss: 0.6482 - val_acc: 0.3333\n",
      "Epoch 21/100\n",
      "92/92 [==============================] - 0s 682us/step - loss: 0.6594 - acc: 0.2500 - val_loss: 0.6427 - val_acc: 0.3333\n",
      "Epoch 22/100\n",
      "92/92 [==============================] - 0s 1ms/step - loss: 0.6502 - acc: 0.2717 - val_loss: 0.6363 - val_acc: 0.3750\n",
      "Epoch 23/100\n",
      "92/92 [==============================] - 0s 337us/step - loss: 0.6385 - acc: 0.3152 - val_loss: 0.6297 - val_acc: 0.3750\n",
      "Epoch 24/100\n",
      "92/92 [==============================] - 0s 553us/step - loss: 0.6265 - acc: 0.3478 - val_loss: 0.6230 - val_acc: 0.3750\n",
      "Epoch 25/100\n",
      "92/92 [==============================] - 0s 922us/step - loss: 0.6155 - acc: 0.3696 - val_loss: 0.6154 - val_acc: 0.4167\n",
      "Epoch 26/100\n",
      "92/92 [==============================] - 0s 670us/step - loss: 0.6059 - acc: 0.3696 - val_loss: 0.6073 - val_acc: 0.4167\n",
      "Epoch 27/100\n",
      "92/92 [==============================] - 0s 390us/step - loss: 0.5957 - acc: 0.3696 - val_loss: 0.5990 - val_acc: 0.4167\n",
      "Epoch 28/100\n",
      "92/92 [==============================] - 0s 304us/step - loss: 0.5855 - acc: 0.3913 - val_loss: 0.5907 - val_acc: 0.5000\n",
      "Epoch 29/100\n",
      "92/92 [==============================] - 0s 249us/step - loss: 0.5754 - acc: 0.4239 - val_loss: 0.5823 - val_acc: 0.5417\n",
      "Epoch 30/100\n",
      "92/92 [==============================] - 0s 575us/step - loss: 0.5651 - acc: 0.4239 - val_loss: 0.5742 - val_acc: 0.5417\n",
      "Epoch 31/100\n",
      "92/92 [==============================] - 0s 596us/step - loss: 0.5562 - acc: 0.4239 - val_loss: 0.5659 - val_acc: 0.5417\n",
      "Epoch 32/100\n",
      "92/92 [==============================] - 0s 981us/step - loss: 0.5469 - acc: 0.4239 - val_loss: 0.5578 - val_acc: 0.5417\n",
      "Epoch 33/100\n",
      "92/92 [==============================] - 0s 1ms/step - loss: 0.5381 - acc: 0.4239 - val_loss: 0.5498 - val_acc: 0.5417\n",
      "Epoch 34/100\n",
      "92/92 [==============================] - 0s 531us/step - loss: 0.5290 - acc: 0.4239 - val_loss: 0.5425 - val_acc: 0.5417\n",
      "Epoch 35/100\n",
      "92/92 [==============================] - 0s 448us/step - loss: 0.5207 - acc: 0.4239 - val_loss: 0.5357 - val_acc: 0.5417\n",
      "Epoch 36/100\n",
      "92/92 [==============================] - 0s 590us/step - loss: 0.5120 - acc: 0.4239 - val_loss: 0.5295 - val_acc: 0.5417\n",
      "Epoch 37/100\n",
      "92/92 [==============================] - 0s 742us/step - loss: 0.5041 - acc: 0.4239 - val_loss: 0.5232 - val_acc: 0.5417\n",
      "Epoch 38/100\n",
      "92/92 [==============================] - 0s 570us/step - loss: 0.4968 - acc: 0.4239 - val_loss: 0.5170 - val_acc: 0.5417\n",
      "Epoch 39/100\n",
      "92/92 [==============================] - 0s 499us/step - loss: 0.4897 - acc: 0.4239 - val_loss: 0.5111 - val_acc: 0.5417\n",
      "Epoch 40/100\n",
      "92/92 [==============================] - 0s 314us/step - loss: 0.4828 - acc: 0.4239 - val_loss: 0.5052 - val_acc: 0.5417\n",
      "Epoch 41/100\n",
      "92/92 [==============================] - 0s 765us/step - loss: 0.4763 - acc: 0.4239 - val_loss: 0.4994 - val_acc: 0.5417\n",
      "Epoch 42/100\n",
      "92/92 [==============================] - 0s 325us/step - loss: 0.4700 - acc: 0.4239 - val_loss: 0.4936 - val_acc: 0.5417\n",
      "Epoch 43/100\n",
      "92/92 [==============================] - 0s 542us/step - loss: 0.4640 - acc: 0.4239 - val_loss: 0.4879 - val_acc: 0.5417\n",
      "Epoch 44/100\n",
      "92/92 [==============================] - 0s 954us/step - loss: 0.4577 - acc: 0.4239 - val_loss: 0.4823 - val_acc: 0.5417\n",
      "Epoch 45/100\n",
      "92/92 [==============================] - 0s 532us/step - loss: 0.4515 - acc: 0.4239 - val_loss: 0.4768 - val_acc: 0.5417\n",
      "Epoch 46/100\n",
      "92/92 [==============================] - 0s 282us/step - loss: 0.4457 - acc: 0.4239 - val_loss: 0.4710 - val_acc: 0.5417\n",
      "Epoch 47/100\n",
      "92/92 [==============================] - 0s 662us/step - loss: 0.4395 - acc: 0.4239 - val_loss: 0.4654 - val_acc: 0.5417\n",
      "Epoch 48/100\n",
      "92/92 [==============================] - 0s 282us/step - loss: 0.4335 - acc: 0.4239 - val_loss: 0.4599 - val_acc: 0.5417\n",
      "Epoch 49/100\n",
      "92/92 [==============================] - 0s 515us/step - loss: 0.4275 - acc: 0.4239 - val_loss: 0.4546 - val_acc: 0.5417\n",
      "Epoch 50/100\n",
      "92/92 [==============================] - 0s 684us/step - loss: 0.4216 - acc: 0.4239 - val_loss: 0.4492 - val_acc: 0.5417\n",
      "Epoch 51/100\n",
      "92/92 [==============================] - 0s 1ms/step - loss: 0.4156 - acc: 0.4239 - val_loss: 0.4438 - val_acc: 0.5417\n",
      "Epoch 52/100\n",
      "92/92 [==============================] - 0s 602us/step - loss: 0.4096 - acc: 0.4239 - val_loss: 0.4385 - val_acc: 0.5417\n",
      "Epoch 53/100\n",
      "92/92 [==============================] - 0s 850us/step - loss: 0.4037 - acc: 0.4239 - val_loss: 0.4333 - val_acc: 0.5417\n",
      "Epoch 54/100\n",
      "92/92 [==============================] - 0s 937us/step - loss: 0.3976 - acc: 0.4239 - val_loss: 0.4283 - val_acc: 0.5417\n",
      "Epoch 55/100\n",
      "92/92 [==============================] - 0s 959us/step - loss: 0.3917 - acc: 0.4239 - val_loss: 0.4231 - val_acc: 0.5417\n",
      "Epoch 56/100\n",
      "92/92 [==============================] - 0s 489us/step - loss: 0.3856 - acc: 0.4239 - val_loss: 0.4179 - val_acc: 0.5417\n",
      "Epoch 57/100\n",
      "92/92 [==============================] - 0s 689us/step - loss: 0.3798 - acc: 0.4239 - val_loss: 0.4128 - val_acc: 0.5417\n",
      "Epoch 58/100\n",
      "92/92 [==============================] - 0s 575us/step - loss: 0.3741 - acc: 0.4239 - val_loss: 0.4075 - val_acc: 0.5417\n",
      "Epoch 59/100\n",
      "92/92 [==============================] - 0s 325us/step - loss: 0.3682 - acc: 0.4239 - val_loss: 0.4023 - val_acc: 0.5417\n",
      "Epoch 60/100\n",
      "92/92 [==============================] - 0s 1ms/step - loss: 0.3621 - acc: 0.4239 - val_loss: 0.3972 - val_acc: 0.5417\n",
      "Epoch 61/100\n",
      "92/92 [==============================] - 0s 405us/step - loss: 0.3564 - acc: 0.4239 - val_loss: 0.3920 - val_acc: 0.5417\n"
     ]
    },
    {
     "name": "stdout",
     "output_type": "stream",
     "text": [
      "Epoch 62/100\n",
      "92/92 [==============================] - 0s 466us/step - loss: 0.3505 - acc: 0.4239 - val_loss: 0.3869 - val_acc: 0.5417\n",
      "Epoch 63/100\n",
      "92/92 [==============================] - 0s 502us/step - loss: 0.3447 - acc: 0.4239 - val_loss: 0.3817 - val_acc: 0.5417\n",
      "Epoch 64/100\n",
      "92/92 [==============================] - 0s 379us/step - loss: 0.3390 - acc: 0.4239 - val_loss: 0.3766 - val_acc: 0.5417\n",
      "Epoch 65/100\n",
      "92/92 [==============================] - 0s 637us/step - loss: 0.3333 - acc: 0.4239 - val_loss: 0.3715 - val_acc: 0.5417\n",
      "Epoch 66/100\n",
      "92/92 [==============================] - 0s 564us/step - loss: 0.3274 - acc: 0.4239 - val_loss: 0.3665 - val_acc: 0.5417\n",
      "Epoch 67/100\n",
      "92/92 [==============================] - 0s 634us/step - loss: 0.3217 - acc: 0.4239 - val_loss: 0.3615 - val_acc: 0.5417\n",
      "Epoch 68/100\n",
      "92/92 [==============================] - 0s 531us/step - loss: 0.3162 - acc: 0.4239 - val_loss: 0.3565 - val_acc: 0.5417\n",
      "Epoch 69/100\n",
      "92/92 [==============================] - 0s 605us/step - loss: 0.3104 - acc: 0.4239 - val_loss: 0.3516 - val_acc: 0.5417\n",
      "Epoch 70/100\n",
      "92/92 [==============================] - 0s 598us/step - loss: 0.3050 - acc: 0.4239 - val_loss: 0.3466 - val_acc: 0.5417\n",
      "Epoch 71/100\n",
      "92/92 [==============================] - 0s 466us/step - loss: 0.2992 - acc: 0.4239 - val_loss: 0.3417 - val_acc: 0.5417\n",
      "Epoch 72/100\n",
      "92/92 [==============================] - 0s 499us/step - loss: 0.2936 - acc: 0.4239 - val_loss: 0.3368 - val_acc: 0.5417\n",
      "Epoch 73/100\n",
      "92/92 [==============================] - 0s 346us/step - loss: 0.2880 - acc: 0.4239 - val_loss: 0.3319 - val_acc: 0.5417\n",
      "Epoch 74/100\n",
      "92/92 [==============================] - 0s 1ms/step - loss: 0.2823 - acc: 0.4239 - val_loss: 0.3270 - val_acc: 0.5417\n",
      "Epoch 75/100\n",
      "92/92 [==============================] - 0s 405us/step - loss: 0.2768 - acc: 0.4239 - val_loss: 0.3220 - val_acc: 0.5417\n",
      "Epoch 76/100\n",
      "92/92 [==============================] - 0s 781us/step - loss: 0.2711 - acc: 0.4239 - val_loss: 0.3169 - val_acc: 0.5417\n",
      "Epoch 77/100\n",
      "92/92 [==============================] - 0s 450us/step - loss: 0.2654 - acc: 0.4239 - val_loss: 0.3117 - val_acc: 0.5417\n",
      "Epoch 78/100\n",
      "92/92 [==============================] - 0s 336us/step - loss: 0.2597 - acc: 0.4239 - val_loss: 0.3066 - val_acc: 0.5417\n",
      "Epoch 79/100\n",
      "92/92 [==============================] - 0s 385us/step - loss: 0.2539 - acc: 0.4239 - val_loss: 0.3016 - val_acc: 0.5417\n",
      "Epoch 80/100\n",
      "92/92 [==============================] - 0s 452us/step - loss: 0.2484 - acc: 0.4239 - val_loss: 0.2965 - val_acc: 0.5417\n",
      "Epoch 81/100\n",
      "92/92 [==============================] - 0s 292us/step - loss: 0.2426 - acc: 0.4239 - val_loss: 0.2915 - val_acc: 0.5417\n",
      "Epoch 82/100\n",
      "92/92 [==============================] - 0s 814us/step - loss: 0.2370 - acc: 0.4239 - val_loss: 0.2864 - val_acc: 0.5417\n",
      "Epoch 83/100\n",
      "92/92 [==============================] - 0s 512us/step - loss: 0.2312 - acc: 0.4239 - val_loss: 0.2812 - val_acc: 0.5417\n",
      "Epoch 84/100\n",
      "92/92 [==============================] - 0s 379us/step - loss: 0.2254 - acc: 0.4239 - val_loss: 0.2760 - val_acc: 0.5417\n",
      "Epoch 85/100\n",
      "92/92 [==============================] - 0s 396us/step - loss: 0.2196 - acc: 0.4239 - val_loss: 0.2706 - val_acc: 0.5417\n",
      "Epoch 86/100\n",
      "92/92 [==============================] - 0s 390us/step - loss: 0.2135 - acc: 0.4239 - val_loss: 0.2652 - val_acc: 0.5417\n",
      "Epoch 87/100\n",
      "92/92 [==============================] - 0s 401us/step - loss: 0.2077 - acc: 0.4239 - val_loss: 0.2598 - val_acc: 0.5417\n",
      "Epoch 88/100\n",
      "92/92 [==============================] - 0s 575us/step - loss: 0.2018 - acc: 0.4239 - val_loss: 0.2543 - val_acc: 0.5417\n",
      "Epoch 89/100\n",
      "92/92 [==============================] - 0s 563us/step - loss: 0.1957 - acc: 0.4239 - val_loss: 0.2489 - val_acc: 0.5417\n",
      "Epoch 90/100\n",
      "92/92 [==============================] - 0s 618us/step - loss: 0.1891 - acc: 0.4239 - val_loss: 0.2436 - val_acc: 0.5417\n",
      "Epoch 91/100\n",
      "92/92 [==============================] - 0s 864us/step - loss: 0.1828 - acc: 0.4239 - val_loss: 0.2383 - val_acc: 0.5417\n",
      "Epoch 92/100\n",
      "92/92 [==============================] - 0s 499us/step - loss: 0.1761 - acc: 0.4239 - val_loss: 0.2329 - val_acc: 0.5417\n",
      "Epoch 93/100\n",
      "92/92 [==============================] - 0s 553us/step - loss: 0.1694 - acc: 0.4239 - val_loss: 0.2275 - val_acc: 0.5417\n",
      "Epoch 94/100\n",
      "92/92 [==============================] - 0s 295us/step - loss: 0.1629 - acc: 0.4239 - val_loss: 0.2220 - val_acc: 0.5417\n",
      "Epoch 95/100\n",
      "92/92 [==============================] - 0s 560us/step - loss: 0.1566 - acc: 0.4239 - val_loss: 0.2163 - val_acc: 0.5417\n",
      "Epoch 96/100\n",
      "92/92 [==============================] - 0s 385us/step - loss: 0.1502 - acc: 0.4239 - val_loss: 0.2107 - val_acc: 0.5417\n",
      "Epoch 97/100\n",
      "92/92 [==============================] - 0s 641us/step - loss: 0.1436 - acc: 0.4239 - val_loss: 0.2052 - val_acc: 0.5417\n",
      "Epoch 98/100\n",
      "92/92 [==============================] - 0s 333us/step - loss: 0.1373 - acc: 0.4239 - val_loss: 0.1995 - val_acc: 0.5417\n",
      "Epoch 99/100\n",
      "92/92 [==============================] - 0s 281us/step - loss: 0.1308 - acc: 0.4239 - val_loss: 0.1938 - val_acc: 0.5417\n",
      "Epoch 100/100\n",
      "92/92 [==============================] - 0s 575us/step - loss: 0.1241 - acc: 0.4239 - val_loss: 0.1883 - val_acc: 0.5417\n"
     ]
    }
   ],
   "source": [
    "history = model.fit(feature_train, label_train, validation_data=(feature_test, label_test), batch_size=16, \n",
    "                         epochs=100)"
   ]
  },
  {
   "cell_type": "markdown",
   "metadata": {},
   "source": [
    "Berikut ini adalah tampilan prediksi data."
   ]
  },
  {
   "cell_type": "code",
   "execution_count": 313,
   "metadata": {},
   "outputs": [
    {
     "data": {
      "text/plain": [
       "array([[0.594898  ],\n",
       "       [0.5957948 ],\n",
       "       [0.5976766 ],\n",
       "       [0.59708667],\n",
       "       [0.5965949 ],\n",
       "       [0.5957624 ],\n",
       "       [0.59797823],\n",
       "       [0.5964407 ],\n",
       "       [0.595925  ],\n",
       "       [0.5956272 ],\n",
       "       [0.5941972 ],\n",
       "       [0.59406286],\n",
       "       [0.5940469 ],\n",
       "       [0.5946197 ],\n",
       "       [0.5945683 ],\n",
       "       [0.59471345],\n",
       "       [0.5964648 ],\n",
       "       [0.5935157 ],\n",
       "       [0.5956721 ],\n",
       "       [0.5943213 ],\n",
       "       [0.5945398 ],\n",
       "       [0.5941404 ],\n",
       "       [0.59367245],\n",
       "       [0.59349966],\n",
       "       [0.5961514 ],\n",
       "       [0.59548694],\n",
       "       [0.5950843 ],\n",
       "       [0.5945115 ],\n",
       "       [0.5946307 ],\n",
       "       [0.59617037],\n",
       "       [0.5934066 ],\n",
       "       [0.5944083 ],\n",
       "       [0.5950993 ],\n",
       "       [0.5923492 ],\n",
       "       [0.59470093],\n",
       "       [0.59416413],\n",
       "       [0.59456104],\n",
       "       [0.6001328 ],\n",
       "       [0.59605116],\n",
       "       [0.5961175 ],\n",
       "       [0.5951507 ],\n",
       "       [0.5940683 ],\n",
       "       [0.59468985],\n",
       "       [0.596301  ],\n",
       "       [0.5954882 ],\n",
       "       [0.59487695],\n",
       "       [0.59514683],\n",
       "       [0.5939365 ],\n",
       "       [0.5948492 ],\n",
       "       [0.59555584],\n",
       "       [0.592421  ],\n",
       "       [0.5956768 ],\n",
       "       [0.5941427 ],\n",
       "       [0.59607315],\n",
       "       [0.59368324],\n",
       "       [0.5923921 ],\n",
       "       [0.5955239 ],\n",
       "       [0.59608936],\n",
       "       [0.5948993 ],\n",
       "       [0.5964506 ],\n",
       "       [0.5953938 ],\n",
       "       [0.5952705 ],\n",
       "       [0.59658533],\n",
       "       [0.5964048 ],\n",
       "       [0.5945428 ],\n",
       "       [0.5939809 ],\n",
       "       [0.59565103],\n",
       "       [0.5956138 ],\n",
       "       [0.59607416],\n",
       "       [0.5932919 ],\n",
       "       [0.5957425 ],\n",
       "       [0.5915127 ],\n",
       "       [0.59500426],\n",
       "       [0.596634  ],\n",
       "       [0.5922383 ],\n",
       "       [0.59410536],\n",
       "       [0.5929863 ],\n",
       "       [0.59732556],\n",
       "       [0.59178233],\n",
       "       [0.592345  ],\n",
       "       [0.5971446 ],\n",
       "       [0.59717655],\n",
       "       [0.5922329 ],\n",
       "       [0.5968358 ],\n",
       "       [0.5987084 ],\n",
       "       [0.5954728 ],\n",
       "       [0.5976526 ],\n",
       "       [0.59183115],\n",
       "       [0.59641355],\n",
       "       [0.5934328 ],\n",
       "       [0.59162205],\n",
       "       [0.5942916 ],\n",
       "       [0.59237415],\n",
       "       [0.5922578 ],\n",
       "       [0.59221345],\n",
       "       [0.5938392 ],\n",
       "       [0.5953549 ],\n",
       "       [0.5976369 ],\n",
       "       [0.595399  ],\n",
       "       [0.59606457],\n",
       "       [0.5968399 ],\n",
       "       [0.5957229 ],\n",
       "       [0.5949133 ],\n",
       "       [0.5940511 ],\n",
       "       [0.5945538 ],\n",
       "       [0.5957125 ],\n",
       "       [0.5949567 ],\n",
       "       [0.5958432 ],\n",
       "       [0.5969031 ],\n",
       "       [0.5969575 ],\n",
       "       [0.59420925],\n",
       "       [0.5948166 ],\n",
       "       [0.5967219 ],\n",
       "       [0.59628063],\n",
       "       [0.5974685 ],\n",
       "       [0.5946131 ]], dtype=float32)"
      ]
     },
     "execution_count": 313,
     "metadata": {},
     "output_type": "execute_result"
    }
   ],
   "source": [
    "predict = model.predict(feature_scaled)\n",
    "predict"
   ]
  },
  {
   "cell_type": "markdown",
   "metadata": {},
   "source": [
    "### ACCURACY "
   ]
  },
  {
   "cell_type": "code",
   "execution_count": 314,
   "metadata": {},
   "outputs": [
    {
     "name": "stdout",
     "output_type": "stream",
     "text": [
      "24/24 [==============================] - 0s 332us/step\n",
      "\n",
      "acc: 54.17%\n"
     ]
    }
   ],
   "source": [
    "acc_testing  = model.evaluate(feature_test, label_test) \n",
    "print(\"\\n%s: %.2f%%\" % (model.metrics_names[1], acc_testing[1]*100))"
   ]
  },
  {
   "cell_type": "markdown",
   "metadata": {},
   "source": [
    "Mencetak nilai akurasi."
   ]
  },
  {
   "cell_type": "code",
   "execution_count": 315,
   "metadata": {},
   "outputs": [
    {
     "name": "stdout",
     "output_type": "stream",
     "text": [
      "0.5416666865348816\n"
     ]
    }
   ],
   "source": [
    "print(acc_testing[1])"
   ]
  },
  {
   "cell_type": "code",
   "execution_count": 316,
   "metadata": {},
   "outputs": [],
   "source": [
    "from sklearn.metrics import confusion_matrix"
   ]
  },
  {
   "cell_type": "code",
   "execution_count": 317,
   "metadata": {},
   "outputs": [],
   "source": [
    "prediction = model.predict_classes(feature_test)\n",
    "cm = confusion_matrix(label_test, prediction)\n",
    "tp = cm[0,0]\n",
    "tn = cm[1,1]\n",
    "fp = cm[0,1]\n",
    "fn = cm[1,0]"
   ]
  },
  {
   "cell_type": "markdown",
   "metadata": {},
   "source": [
    "Berdasarkan hasil tersebut, didapat confusion matrix sebagai berikut :"
   ]
  },
  {
   "cell_type": "code",
   "execution_count": 324,
   "metadata": {},
   "outputs": [
    {
     "name": "stdout",
     "output_type": "stream",
     "text": [
      "Confussion matriks:\n",
      " [[13  0]\n",
      " [11  0]]\n"
     ]
    }
   ],
   "source": [
    "print (\"Confussion matriks:\\n\",cm)"
   ]
  },
  {
   "cell_type": "markdown",
   "metadata": {},
   "source": [
    "### TRAINING AND TESTING ACCURACY"
   ]
  },
  {
   "cell_type": "code",
   "execution_count": 322,
   "metadata": {},
   "outputs": [
    {
     "data": {
      "image/png": "[encoded data removed]",
      "text/plain": [
       "<Figure size 432x288 with 1 Axes>"
      ]
     },
     "metadata": {
      "needs_background": "light"
     },
     "output_type": "display_data"
    }
   ],
   "source": [
    "plt.plot(history.history['acc'])\n",
    "plt.plot(history.history['val_acc'])\n",
    "plt.title('model acc')\n",
    "plt.ylabel('Akurasi')\n",
    "plt.xlabel('Epoch')\n",
    "plt.legend(['Data training', 'Data Testing'], loc='upper left')\n",
    "plt.show()"
   ]
  },
  {
   "cell_type": "markdown",
   "metadata": {},
   "source": [
    "## TRAINING AND TESTING LOSS"
   ]
  },
  {
   "cell_type": "code",
   "execution_count": 323,
   "metadata": {},
   "outputs": [
    {
     "data": {
      "image/png": "[encoded data removed]",
      "text/plain": [
       "<Figure size 432x288 with 1 Axes>"
      ]
     },
     "metadata": {
      "needs_background": "light"
     },
     "output_type": "display_data"
    }
   ],
   "source": [
    "plt.plot(history.history['loss'])\n",
    "plt.plot(history.history['val_loss'])\n",
    "plt.title('Model Loss')\n",
    "plt.ylabel('Loss')\n",
    "plt.xlabel('Epoch')\n",
    "plt.legend(['Data training', 'Data Testing'], loc='upper left')\n",
    "plt.show()"
   ]
  }
 ],
 "metadata": {
  "celltoolbar": "Nbtutor - export exercises",
  "kernelspec": {
   "display_name": "Python 3",
   "language": "python",
   "name": "python3"
  },
  "language_info": {
   "codemirror_mode": {
    "name": "ipython",
    "version": 3
   },
   "file_extension": ".py",
   "mimetype": "text/x-python",
   "name": "python",
   "nbconvert_exporter": "python",
   "pygments_lexer": "ipython3",
   "version": "3.6.9"
  },
  "nav_menu": {},
  "toc": {
   "navigate_menu": true,
   "number_sections": false,
   "sideBar": true,
   "threshold": 6,
   "toc_cell": false,
   "toc_section_display": "block",
   "toc_window_display": true
  }
 },
 "nbformat": 4,
 "nbformat_minor": 2
}
