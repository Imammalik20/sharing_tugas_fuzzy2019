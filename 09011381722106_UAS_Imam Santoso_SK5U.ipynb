{
 "cells": [
  {
   "cell_type": "markdown",
   "metadata": {},
   "source": [
    "#### Nama              : Imam Santoso\n",
    "#### NIM                 : 09011381722106\n",
    "#### Jurusan          : Sistem Komputer\n",
    "#### Kelas              : SK5\n",
    "#### Mata Kuliah    : Kecerdasan Buatan\n",
    "\n",
    "##### ===================================="
   ]
  },
  {
   "cell_type": "markdown",
   "metadata": {},
   "source": [
    "#### Kanker Otak (ANALISIS METODE JARINGAN SYARAF TIRUAN BACKPROPAGATION UNTUK PENGENALAN  SEL KANKER OTAK)"
   ]
  },
  {
   "cell_type": "code",
   "execution_count": 5,
   "metadata": {},
   "outputs": [],
   "source": [
    "from keras.models import Sequential\n",
    "from keras.layers import Dense\n",
    "\n",
    "import numpy as np\n",
    "np.random.seed(7)\n",
    "import pandas as pd\n",
    "import matplotlib.pyplot as plt\n",
    "from keras.utils import to_categorical\n",
    "\n",
    "from sklearn.utils import resample\n",
    "from sklearn.preprocessing import StandardScaler\n",
    "from sklearn.preprocessing import MinMaxScaler\n",
    "scaler = MinMaxScaler"
   ]
  },
  {
   "cell_type": "markdown",
   "metadata": {},
   "source": [
    "Beberapa alat dan metode yang berbeda yang digunakan untuk preprocessing, contohnya seperti : transformasi yang memanipulasi data mentah agar menghasilkan satu input, denoising yang menghilangkan noise dari data, dan lain sebagainya. MinMaxScaler itu memanipulasi sedemikian rupa hingga menjadi data yang memiliki nilai dari ranges 0 sampai 1."
   ]
  },
  {
   "cell_type": "markdown",
   "metadata": {},
   "source": [
    "# Import Dataset\n",
    "\n",
    "Dataset yang digunakan dalam proses Neural Network ini telah menggunakan format.csv yang merupakan data vekto yang berisi angka-angka sehingga dapat diproses oleh IDE dengan lebih mudah. Pengolahan data yang bertipe string biasanya harus dengan perlakuan tertentu dan tentu saja sedikit lebih rumit,  \n",
    "karena data string tersebut harus ditranslasi dengan menggunakan fungsi yang lebih spesifik."
   ]
  },
  {
   "cell_type": "markdown",
   "metadata": {},
   "source": [
    "### Load Data Set"
   ]
  },
  {
   "cell_type": "code",
   "execution_count": 13,
   "metadata": {},
   "outputs": [
    {
     "name": "stderr",
     "output_type": "stream",
     "text": [
      "C:\\Users\\Imam Santoso\\Anaconda3\\lib\\site-packages\\ipykernel_launcher.py:2: DeprecationWarning: \n",
      ".ix is deprecated. Please use\n",
      ".loc for label based indexing or\n",
      ".iloc for positional indexing\n",
      "\n",
      "See the documentation here:\n",
      "http://pandas.pydata.org/pandas-docs/stable/indexing.html#ix-indexer-is-deprecated\n",
      "  \n",
      "C:\\Users\\Imam Santoso\\Anaconda3\\lib\\site-packages\\ipykernel_launcher.py:3: DeprecationWarning: \n",
      ".ix is deprecated. Please use\n",
      ".loc for label based indexing or\n",
      ".iloc for positional indexing\n",
      "\n",
      "See the documentation here:\n",
      "http://pandas.pydata.org/pandas-docs/stable/indexing.html#ix-indexer-is-deprecated\n",
      "  This is separate from the ipykernel package so we can avoid doing imports until\n"
     ]
    }
   ],
   "source": [
    "dataset = pd.read_csv (\"imam.csv\")\n",
    "feature = np.array(dataset.ix[:,0:8])\n",
    "label = np.array(dataset.ix[:,8])\n"
   ]
  },
  {
   "cell_type": "markdown",
   "metadata": {},
   "source": [
    "Operator pengindeksan Python dan NumPy [] dan operator atribut. memberikan akses cepat dan mudah ke struktur data panda di berbagai kasus penggunaan."
   ]
  },
  {
   "cell_type": "code",
   "execution_count": 14,
   "metadata": {},
   "outputs": [],
   "source": [
    "from keras.utils.np_utils import to_categorical\n",
    "label_categorical = to_categorical(label)"
   ]
  },
  {
   "cell_type": "markdown",
   "metadata": {},
   "source": [
    "### Membagi data training & testing"
   ]
  },
  {
   "cell_type": "code",
   "execution_count": 16,
   "metadata": {},
   "outputs": [],
   "source": [
    "from sklearn.model_selection import train_test_split\n",
    "training_feature, testing_feature,training_label, testing_label= train_test_split(feature,label_categorical,test_size=0.2)"
   ]
  },
  {
   "cell_type": "markdown",
   "metadata": {},
   "source": [
    "fungsi test split diatas untuk membagi data training dan testing supaya tidak tertumpuk dan kacau"
   ]
  },
  {
   "cell_type": "markdown",
   "metadata": {},
   "source": [
    "Mendefinisikan model sequetial() yang ditampung kedalam variabel model.\n",
    "\n",
    "Metode backpropagation merupakan metode yang sangat baik dalam menangani masalah pengenalan pola-pola kompleks. \n",
    "Di dalam jaringan backpropagation, setiap unit yang berada di lapisan input terhubung dengan setiap unit yang ada di lapisan tersembunyi. \n",
    "Hal serupa berlaku pula pada lapisan tersembunyi."
   ]
  },
  {
   "cell_type": "markdown",
   "metadata": {},
   "source": [
    "#### Setting Layer"
   ]
  },
  {
   "cell_type": "code",
   "execution_count": 17,
   "metadata": {},
   "outputs": [],
   "source": [
    "model = Sequential()\n",
    "model.add(Dense(15, input_dim=8, activation='relu'))\n",
    "model.add(Dense(15, activation='sigmoid'))\n",
    "model.add(Dense(2, activation='sigmoid'))"
   ]
  },
  {
   "cell_type": "code",
   "execution_count": 18,
   "metadata": {},
   "outputs": [
    {
     "name": "stdout",
     "output_type": "stream",
     "text": [
      "Model: \"sequential_1\"\n",
      "_________________________________________________________________\n",
      "Layer (type)                 Output Shape              Param #   \n",
      "=================================================================\n",
      "dense_1 (Dense)              (None, 15)                135       \n",
      "_________________________________________________________________\n",
      "dense_2 (Dense)              (None, 15)                240       \n",
      "_________________________________________________________________\n",
      "dense_3 (Dense)              (None, 2)                 32        \n",
      "=================================================================\n",
      "Total params: 407\n",
      "Trainable params: 407\n",
      "Non-trainable params: 0\n",
      "_________________________________________________________________\n"
     ]
    }
   ],
   "source": [
    "model.summary()"
   ]
  },
  {
   "cell_type": "markdown",
   "metadata": {},
   "source": [
    "# Compile Model\n",
    "Setelah melakukan proses definisi model, selanjutnya adalah mengcompile model tersebut\n",
    "sehingga menjadi satu kesatuan hidden yang biasa disebut dengan hidden layer. Contoh gambar hidden layer :"
   ]
  },
  {
   "cell_type": "markdown",
   "metadata": {},
   "source": [
    "Ketika menggunakan objective function MSE(Mean Square Error),fungsi kerugian regresi yang paling umum digunakan. MSE adalah jumlah jarak kuadrat antara variabel target kami dan nilai prediksi."
   ]
  },
  {
   "cell_type": "markdown",
   "metadata": {},
   "source": [
    "# Fit Model\n",
    "Untuk mendapatkan hasil akurasi dan loss dari dataset, langkah selanjutnya yang harus dilakukan adalah fit model. Dimana pada proses ini terjadi proses training dengan parameter:\n",
    "\n",
    "X yang telah diprocessing\n",
    "Y yang telah dikonversi menjadi categorical\n",
    "Banyaknya Epochs atau proses training\n",
    "Batch_size\n",
    "Disini Epochs atau training yang saya lakukan sebanyak 200 kali."
   ]
  },
  {
   "cell_type": "code",
   "execution_count": 44,
   "metadata": {},
   "outputs": [
    {
     "name": "stdout",
     "output_type": "stream",
     "text": [
      "Train on 613 samples, validate on 154 samples\n",
      "Epoch 1/200\n",
      "613/613 [==============================] - 1s 1ms/step - loss: 0.2455 - acc: 0.6460 - val_loss: 0.2321 - val_acc: 0.6753\n",
      "Epoch 2/200\n",
      "613/613 [==============================] - 0s 72us/step - loss: 0.2378 - acc: 0.6460 - val_loss: 0.2260 - val_acc: 0.6753\n",
      "Epoch 3/200\n",
      "613/613 [==============================] - 0s 80us/step - loss: 0.2335 - acc: 0.6460 - val_loss: 0.2230 - val_acc: 0.6753\n",
      "Epoch 4/200\n",
      "613/613 [==============================] - 0s 69us/step - loss: 0.2307 - acc: 0.6460 - val_loss: 0.2209 - val_acc: 0.6753\n",
      "Epoch 5/200\n",
      "613/613 [==============================] - 0s 84us/step - loss: 0.2290 - acc: 0.6460 - val_loss: 0.2199 - val_acc: 0.6753\n",
      "Epoch 6/200\n",
      "613/613 [==============================] - 0s 86us/step - loss: 0.2279 - acc: 0.6460 - val_loss: 0.2190 - val_acc: 0.6753\n",
      "Epoch 7/200\n",
      "613/613 [==============================] - 0s 82us/step - loss: 0.2267 - acc: 0.6460 - val_loss: 0.2188 - val_acc: 0.6753\n",
      "Epoch 8/200\n",
      "613/613 [==============================] - 0s 78us/step - loss: 0.2260 - acc: 0.6460 - val_loss: 0.2177 - val_acc: 0.6753\n",
      "Epoch 9/200\n",
      "613/613 [==============================] - 0s 82us/step - loss: 0.2252 - acc: 0.6460 - val_loss: 0.2169 - val_acc: 0.6753\n",
      "Epoch 10/200\n",
      "613/613 [==============================] - 0s 68us/step - loss: 0.2241 - acc: 0.6460 - val_loss: 0.2163 - val_acc: 0.6753\n",
      "Epoch 11/200\n",
      "613/613 [==============================] - 0s 98us/step - loss: 0.2233 - acc: 0.6460 - val_loss: 0.2154 - val_acc: 0.6753\n",
      "Epoch 12/200\n",
      "613/613 [==============================] - 0s 74us/step - loss: 0.2223 - acc: 0.6460 - val_loss: 0.2145 - val_acc: 0.6753\n",
      "Epoch 13/200\n",
      "613/613 [==============================] - 0s 87us/step - loss: 0.2214 - acc: 0.6460 - val_loss: 0.2129 - val_acc: 0.6753\n",
      "Epoch 14/200\n",
      "613/613 [==============================] - 0s 79us/step - loss: 0.2202 - acc: 0.6460 - val_loss: 0.2119 - val_acc: 0.6753\n",
      "Epoch 15/200\n",
      "613/613 [==============================] - 0s 78us/step - loss: 0.2191 - acc: 0.6460 - val_loss: 0.2106 - val_acc: 0.6753\n",
      "Epoch 16/200\n",
      "613/613 [==============================] - ETA: 0s - loss: 0.2295 - acc: 0.593 - 0s 81us/step - loss: 0.2181 - acc: 0.6460 - val_loss: 0.2094 - val_acc: 0.6753\n",
      "Epoch 17/200\n",
      "613/613 [==============================] - 0s 82us/step - loss: 0.2169 - acc: 0.6460 - val_loss: 0.2082 - val_acc: 0.6753\n",
      "Epoch 18/200\n",
      "613/613 [==============================] - 0s 65us/step - loss: 0.2159 - acc: 0.6476 - val_loss: 0.2071 - val_acc: 0.6818\n",
      "Epoch 19/200\n",
      "613/613 [==============================] - 0s 74us/step - loss: 0.2148 - acc: 0.6493 - val_loss: 0.2052 - val_acc: 0.6818\n",
      "Epoch 20/200\n",
      "613/613 [==============================] - 0s 69us/step - loss: 0.2131 - acc: 0.6493 - val_loss: 0.2032 - val_acc: 0.6818\n",
      "Epoch 21/200\n",
      "613/613 [==============================] - 0s 79us/step - loss: 0.2117 - acc: 0.6493 - val_loss: 0.2011 - val_acc: 0.6818\n",
      "Epoch 22/200\n",
      "613/613 [==============================] - 0s 87us/step - loss: 0.2100 - acc: 0.6493 - val_loss: 0.1988 - val_acc: 0.6753\n",
      "Epoch 23/200\n",
      "613/613 [==============================] - 0s 79us/step - loss: 0.2083 - acc: 0.6525 - val_loss: 0.1967 - val_acc: 0.6753\n",
      "Epoch 24/200\n",
      "613/613 [==============================] - 0s 65us/step - loss: 0.2065 - acc: 0.6574 - val_loss: 0.1941 - val_acc: 0.6753\n",
      "Epoch 25/200\n",
      "613/613 [==============================] - 0s 80us/step - loss: 0.2051 - acc: 0.6688 - val_loss: 0.1922 - val_acc: 0.6883\n",
      "Epoch 26/200\n",
      "613/613 [==============================] - 0s 82us/step - loss: 0.2032 - acc: 0.6737 - val_loss: 0.1902 - val_acc: 0.6883\n",
      "Epoch 27/200\n",
      "613/613 [==============================] - 0s 74us/step - loss: 0.2022 - acc: 0.6737 - val_loss: 0.1883 - val_acc: 0.6948\n",
      "Epoch 28/200\n",
      "613/613 [==============================] - 0s 87us/step - loss: 0.2008 - acc: 0.6786 - val_loss: 0.1864 - val_acc: 0.7078\n",
      "Epoch 29/200\n",
      "613/613 [==============================] - 0s 68us/step - loss: 0.1993 - acc: 0.6949 - val_loss: 0.1851 - val_acc: 0.7013\n",
      "Epoch 30/200\n",
      "613/613 [==============================] - 0s 70us/step - loss: 0.1981 - acc: 0.7015 - val_loss: 0.1830 - val_acc: 0.7078\n",
      "Epoch 31/200\n",
      "613/613 [==============================] - 0s 78us/step - loss: 0.1967 - acc: 0.7080 - val_loss: 0.1810 - val_acc: 0.7078\n",
      "Epoch 32/200\n",
      "613/613 [==============================] - 0s 75us/step - loss: 0.1953 - acc: 0.7015 - val_loss: 0.1795 - val_acc: 0.7143\n",
      "Epoch 33/200\n",
      "613/613 [==============================] - 0s 74us/step - loss: 0.1940 - acc: 0.7129 - val_loss: 0.1774 - val_acc: 0.7208\n",
      "Epoch 34/200\n",
      "613/613 [==============================] - 0s 78us/step - loss: 0.1929 - acc: 0.7096 - val_loss: 0.1761 - val_acc: 0.7143\n",
      "Epoch 35/200\n",
      "613/613 [==============================] - 0s 66us/step - loss: 0.1914 - acc: 0.7178 - val_loss: 0.1754 - val_acc: 0.7468\n",
      "Epoch 36/200\n",
      "613/613 [==============================] - 0s 79us/step - loss: 0.1906 - acc: 0.7096 - val_loss: 0.1742 - val_acc: 0.7532\n",
      "Epoch 37/200\n",
      "613/613 [==============================] - 0s 74us/step - loss: 0.1898 - acc: 0.7145 - val_loss: 0.1723 - val_acc: 0.7338\n",
      "Epoch 38/200\n",
      "613/613 [==============================] - 0s 67us/step - loss: 0.1886 - acc: 0.7210 - val_loss: 0.1714 - val_acc: 0.7597\n",
      "Epoch 39/200\n",
      "613/613 [==============================] - 0s 69us/step - loss: 0.1876 - acc: 0.7210 - val_loss: 0.1703 - val_acc: 0.7403\n",
      "Epoch 40/200\n",
      "613/613 [==============================] - 0s 72us/step - loss: 0.1868 - acc: 0.7259 - val_loss: 0.1694 - val_acc: 0.7468\n",
      "Epoch 41/200\n",
      "613/613 [==============================] - 0s 68us/step - loss: 0.1860 - acc: 0.7178 - val_loss: 0.1692 - val_acc: 0.7597\n",
      "Epoch 42/200\n",
      "613/613 [==============================] - 0s 71us/step - loss: 0.1848 - acc: 0.7243 - val_loss: 0.1676 - val_acc: 0.7597\n",
      "Epoch 43/200\n",
      "613/613 [==============================] - 0s 70us/step - loss: 0.1839 - acc: 0.7243 - val_loss: 0.1662 - val_acc: 0.7597\n",
      "Epoch 44/200\n",
      "613/613 [==============================] - 0s 58us/step - loss: 0.1840 - acc: 0.7292 - val_loss: 0.1655 - val_acc: 0.7532\n",
      "Epoch 45/200\n",
      "613/613 [==============================] - 0s 75us/step - loss: 0.1822 - acc: 0.7325 - val_loss: 0.1646 - val_acc: 0.7532\n",
      "Epoch 46/200\n",
      "613/613 [==============================] - 0s 79us/step - loss: 0.1813 - acc: 0.7243 - val_loss: 0.1640 - val_acc: 0.7662\n",
      "Epoch 47/200\n",
      "613/613 [==============================] - 0s 79us/step - loss: 0.1805 - acc: 0.7276 - val_loss: 0.1637 - val_acc: 0.7662\n",
      "Epoch 48/200\n",
      "613/613 [==============================] - 0s 63us/step - loss: 0.1799 - acc: 0.7243 - val_loss: 0.1627 - val_acc: 0.7597\n",
      "Epoch 49/200\n",
      "613/613 [==============================] - 0s 73us/step - loss: 0.1789 - acc: 0.7341 - val_loss: 0.1617 - val_acc: 0.7662\n",
      "Epoch 50/200\n",
      "613/613 [==============================] - 0s 64us/step - loss: 0.1782 - acc: 0.7308 - val_loss: 0.1610 - val_acc: 0.7662\n",
      "Epoch 51/200\n",
      "613/613 [==============================] - 0s 64us/step - loss: 0.1777 - acc: 0.7325 - val_loss: 0.1595 - val_acc: 0.7662\n",
      "Epoch 52/200\n",
      "613/613 [==============================] - 0s 83us/step - loss: 0.1767 - acc: 0.7341 - val_loss: 0.1588 - val_acc: 0.7597\n",
      "Epoch 53/200\n",
      "613/613 [==============================] - 0s 65us/step - loss: 0.1760 - acc: 0.7374 - val_loss: 0.1582 - val_acc: 0.7597\n",
      "Epoch 54/200\n",
      "613/613 [==============================] - 0s 62us/step - loss: 0.1753 - acc: 0.7471 - val_loss: 0.1579 - val_acc: 0.7662\n",
      "Epoch 55/200\n",
      "613/613 [==============================] - 0s 75us/step - loss: 0.1743 - acc: 0.7569 - val_loss: 0.1570 - val_acc: 0.7662\n",
      "Epoch 56/200\n",
      "613/613 [==============================] - 0s 66us/step - loss: 0.1741 - acc: 0.7504 - val_loss: 0.1563 - val_acc: 0.7532\n",
      "Epoch 57/200\n",
      "613/613 [==============================] - 0s 63us/step - loss: 0.1731 - acc: 0.7471 - val_loss: 0.1560 - val_acc: 0.7662\n",
      "Epoch 58/200\n",
      "613/613 [==============================] - 0s 74us/step - loss: 0.1724 - acc: 0.7488 - val_loss: 0.1552 - val_acc: 0.7532\n",
      "Epoch 59/200\n",
      "613/613 [==============================] - 0s 77us/step - loss: 0.1718 - acc: 0.7537 - val_loss: 0.1545 - val_acc: 0.7597\n",
      "Epoch 60/200\n",
      "613/613 [==============================] - 0s 65us/step - loss: 0.1711 - acc: 0.7602 - val_loss: 0.1546 - val_acc: 0.7597\n",
      "Epoch 61/200\n",
      "613/613 [==============================] - 0s 64us/step - loss: 0.1702 - acc: 0.7651 - val_loss: 0.1547 - val_acc: 0.7662\n",
      "Epoch 62/200\n",
      "613/613 [==============================] - 0s 55us/step - loss: 0.1701 - acc: 0.7520 - val_loss: 0.1540 - val_acc: 0.7662\n",
      "Epoch 63/200\n",
      "613/613 [==============================] - 0s 58us/step - loss: 0.1692 - acc: 0.7553 - val_loss: 0.1527 - val_acc: 0.7532\n",
      "Epoch 64/200\n",
      "613/613 [==============================] - 0s 61us/step - loss: 0.1686 - acc: 0.7569 - val_loss: 0.1520 - val_acc: 0.7597\n",
      "Epoch 65/200\n",
      "613/613 [==============================] - 0s 65us/step - loss: 0.1679 - acc: 0.7635 - val_loss: 0.1519 - val_acc: 0.7597\n",
      "Epoch 66/200\n",
      "613/613 [==============================] - 0s 62us/step - loss: 0.1678 - acc: 0.7553 - val_loss: 0.1524 - val_acc: 0.7857\n",
      "Epoch 67/200\n",
      "613/613 [==============================] - 0s 72us/step - loss: 0.1668 - acc: 0.7618 - val_loss: 0.1508 - val_acc: 0.7662\n",
      "Epoch 68/200\n",
      "613/613 [==============================] - 0s 63us/step - loss: 0.1665 - acc: 0.7635 - val_loss: 0.1508 - val_acc: 0.7727\n",
      "Epoch 69/200\n",
      "613/613 [==============================] - 0s 56us/step - loss: 0.1662 - acc: 0.7667 - val_loss: 0.1504 - val_acc: 0.7727\n",
      "Epoch 70/200\n",
      "613/613 [==============================] - 0s 72us/step - loss: 0.1651 - acc: 0.7618 - val_loss: 0.1504 - val_acc: 0.7857\n",
      "Epoch 71/200\n",
      "613/613 [==============================] - 0s 57us/step - loss: 0.1652 - acc: 0.7684 - val_loss: 0.1492 - val_acc: 0.7727\n",
      "Epoch 72/200\n",
      "613/613 [==============================] - 0s 70us/step - loss: 0.1644 - acc: 0.7732 - val_loss: 0.1491 - val_acc: 0.7792\n",
      "Epoch 73/200\n",
      "613/613 [==============================] - 0s 70us/step - loss: 0.1642 - acc: 0.7749 - val_loss: 0.1494 - val_acc: 0.7727\n",
      "Epoch 74/200\n",
      "613/613 [==============================] - 0s 68us/step - loss: 0.1633 - acc: 0.7781 - val_loss: 0.1484 - val_acc: 0.7857\n",
      "Epoch 75/200\n",
      "613/613 [==============================] - 0s 63us/step - loss: 0.1627 - acc: 0.7716 - val_loss: 0.1485 - val_acc: 0.7792\n",
      "Epoch 76/200\n",
      "613/613 [==============================] - 0s 72us/step - loss: 0.1624 - acc: 0.7684 - val_loss: 0.1481 - val_acc: 0.7857\n",
      "Epoch 77/200\n",
      "613/613 [==============================] - 0s 61us/step - loss: 0.1625 - acc: 0.7798 - val_loss: 0.1473 - val_acc: 0.7792\n",
      "Epoch 78/200\n",
      "613/613 [==============================] - 0s 69us/step - loss: 0.1612 - acc: 0.7781 - val_loss: 0.1472 - val_acc: 0.7727\n",
      "Epoch 79/200\n",
      "613/613 [==============================] - 0s 66us/step - loss: 0.1617 - acc: 0.7716 - val_loss: 0.1473 - val_acc: 0.7792\n",
      "Epoch 80/200\n",
      "613/613 [==============================] - 0s 68us/step - loss: 0.1606 - acc: 0.7749 - val_loss: 0.1468 - val_acc: 0.7792\n",
      "Epoch 81/200\n",
      "613/613 [==============================] - 0s 70us/step - loss: 0.1601 - acc: 0.7765 - val_loss: 0.1461 - val_acc: 0.7857\n",
      "Epoch 82/200\n",
      "613/613 [==============================] - 0s 72us/step - loss: 0.1596 - acc: 0.7847 - val_loss: 0.1460 - val_acc: 0.7792\n",
      "Epoch 83/200\n",
      "613/613 [==============================] - 0s 67us/step - loss: 0.1598 - acc: 0.7830 - val_loss: 0.1457 - val_acc: 0.7792\n",
      "Epoch 84/200\n",
      "613/613 [==============================] - 0s 60us/step - loss: 0.1606 - acc: 0.7667 - val_loss: 0.1450 - val_acc: 0.7727\n",
      "Epoch 85/200\n",
      "613/613 [==============================] - 0s 69us/step - loss: 0.1588 - acc: 0.7749 - val_loss: 0.1444 - val_acc: 0.7792\n",
      "Epoch 86/200\n",
      "613/613 [==============================] - 0s 60us/step - loss: 0.1590 - acc: 0.7847 - val_loss: 0.1440 - val_acc: 0.7857\n",
      "Epoch 87/200\n",
      "613/613 [==============================] - 0s 63us/step - loss: 0.1579 - acc: 0.7830 - val_loss: 0.1445 - val_acc: 0.7857\n",
      "Epoch 88/200\n",
      "613/613 [==============================] - 0s 66us/step - loss: 0.1577 - acc: 0.7765 - val_loss: 0.1436 - val_acc: 0.7792\n",
      "Epoch 89/200\n",
      "613/613 [==============================] - 0s 53us/step - loss: 0.1572 - acc: 0.7830 - val_loss: 0.1436 - val_acc: 0.7792\n",
      "Epoch 90/200\n",
      "613/613 [==============================] - 0s 63us/step - loss: 0.1568 - acc: 0.7781 - val_loss: 0.1438 - val_acc: 0.7857\n",
      "Epoch 91/200\n",
      "613/613 [==============================] - 0s 68us/step - loss: 0.1565 - acc: 0.7814 - val_loss: 0.1433 - val_acc: 0.7792\n",
      "Epoch 92/200\n",
      "613/613 [==============================] - 0s 69us/step - loss: 0.1564 - acc: 0.7961 - val_loss: 0.1435 - val_acc: 0.7857\n",
      "Epoch 93/200\n",
      "613/613 [==============================] - 0s 65us/step - loss: 0.1557 - acc: 0.7928 - val_loss: 0.1437 - val_acc: 0.7922\n",
      "Epoch 94/200\n",
      "613/613 [==============================] - 0s 64us/step - loss: 0.1561 - acc: 0.7749 - val_loss: 0.1438 - val_acc: 0.7922\n",
      "Epoch 95/200\n",
      "613/613 [==============================] - 0s 64us/step - loss: 0.1552 - acc: 0.7879 - val_loss: 0.1433 - val_acc: 0.7857\n",
      "Epoch 96/200\n",
      "613/613 [==============================] - 0s 68us/step - loss: 0.1556 - acc: 0.7879 - val_loss: 0.1437 - val_acc: 0.7922\n",
      "Epoch 97/200\n",
      "613/613 [==============================] - 0s 61us/step - loss: 0.1553 - acc: 0.7863 - val_loss: 0.1429 - val_acc: 0.7922\n",
      "Epoch 98/200\n",
      "613/613 [==============================] - 0s 66us/step - loss: 0.1546 - acc: 0.7847 - val_loss: 0.1427 - val_acc: 0.7922\n",
      "Epoch 99/200\n",
      "613/613 [==============================] - 0s 61us/step - loss: 0.1541 - acc: 0.7863 - val_loss: 0.1425 - val_acc: 0.7922\n",
      "Epoch 100/200\n",
      "613/613 [==============================] - 0s 65us/step - loss: 0.1541 - acc: 0.7912 - val_loss: 0.1425 - val_acc: 0.7922\n",
      "Epoch 101/200\n",
      "613/613 [==============================] - 0s 71us/step - loss: 0.1543 - acc: 0.7798 - val_loss: 0.1432 - val_acc: 0.7987\n",
      "Epoch 102/200\n",
      "613/613 [==============================] - 0s 63us/step - loss: 0.1538 - acc: 0.7879 - val_loss: 0.1427 - val_acc: 0.7922\n",
      "Epoch 103/200\n",
      "613/613 [==============================] - 0s 60us/step - loss: 0.1536 - acc: 0.7830 - val_loss: 0.1419 - val_acc: 0.7922\n",
      "Epoch 104/200\n",
      "613/613 [==============================] - 0s 70us/step - loss: 0.1533 - acc: 0.7928 - val_loss: 0.1422 - val_acc: 0.7922\n",
      "Epoch 105/200\n",
      "613/613 [==============================] - 0s 62us/step - loss: 0.1530 - acc: 0.7863 - val_loss: 0.1424 - val_acc: 0.7922\n",
      "Epoch 106/200\n",
      "613/613 [==============================] - 0s 59us/step - loss: 0.1530 - acc: 0.7879 - val_loss: 0.1425 - val_acc: 0.7922\n",
      "Epoch 107/200\n",
      "613/613 [==============================] - 0s 75us/step - loss: 0.1528 - acc: 0.7863 - val_loss: 0.1423 - val_acc: 0.7922\n",
      "Epoch 108/200\n",
      "613/613 [==============================] - 0s 62us/step - loss: 0.1525 - acc: 0.7863 - val_loss: 0.1421 - val_acc: 0.7922\n",
      "Epoch 109/200\n",
      "613/613 [==============================] - 0s 66us/step - loss: 0.1524 - acc: 0.7830 - val_loss: 0.1419 - val_acc: 0.7857\n",
      "Epoch 110/200\n",
      "613/613 [==============================] - 0s 70us/step - loss: 0.1524 - acc: 0.7765 - val_loss: 0.1413 - val_acc: 0.7922\n",
      "Epoch 111/200\n",
      "613/613 [==============================] - 0s 65us/step - loss: 0.1515 - acc: 0.7863 - val_loss: 0.1413 - val_acc: 0.7922\n",
      "Epoch 112/200\n",
      "613/613 [==============================] - 0s 64us/step - loss: 0.1519 - acc: 0.7912 - val_loss: 0.1408 - val_acc: 0.7922\n",
      "Epoch 113/200\n",
      "613/613 [==============================] - 0s 66us/step - loss: 0.1517 - acc: 0.7945 - val_loss: 0.1407 - val_acc: 0.7922\n",
      "Epoch 114/200\n",
      "613/613 [==============================] - 0s 65us/step - loss: 0.1513 - acc: 0.7847 - val_loss: 0.1406 - val_acc: 0.7922\n",
      "Epoch 115/200\n",
      "613/613 [==============================] - 0s 64us/step - loss: 0.1514 - acc: 0.7863 - val_loss: 0.1408 - val_acc: 0.7922\n",
      "Epoch 116/200\n",
      "613/613 [==============================] - 0s 61us/step - loss: 0.1516 - acc: 0.7928 - val_loss: 0.1406 - val_acc: 0.7922\n",
      "Epoch 117/200\n",
      "613/613 [==============================] - 0s 65us/step - loss: 0.1509 - acc: 0.7814 - val_loss: 0.1411 - val_acc: 0.7857\n",
      "Epoch 118/200\n",
      "613/613 [==============================] - 0s 65us/step - loss: 0.1506 - acc: 0.7830 - val_loss: 0.1411 - val_acc: 0.7922\n",
      "Epoch 119/200\n",
      "613/613 [==============================] - 0s 66us/step - loss: 0.1506 - acc: 0.7749 - val_loss: 0.1409 - val_acc: 0.7922\n",
      "Epoch 120/200\n",
      "613/613 [==============================] - 0s 76us/step - loss: 0.1504 - acc: 0.7814 - val_loss: 0.1405 - val_acc: 0.7922\n",
      "Epoch 121/200\n"
     ]
    },
    {
     "name": "stdout",
     "output_type": "stream",
     "text": [
      "613/613 [==============================] - 0s 68us/step - loss: 0.1503 - acc: 0.7945 - val_loss: 0.1410 - val_acc: 0.7922\n",
      "Epoch 122/200\n",
      "613/613 [==============================] - 0s 63us/step - loss: 0.1500 - acc: 0.7863 - val_loss: 0.1411 - val_acc: 0.7922\n",
      "Epoch 123/200\n",
      "613/613 [==============================] - 0s 78us/step - loss: 0.1501 - acc: 0.7830 - val_loss: 0.1414 - val_acc: 0.7922\n",
      "Epoch 124/200\n",
      "613/613 [==============================] - 0s 62us/step - loss: 0.1512 - acc: 0.7847 - val_loss: 0.1414 - val_acc: 0.7857\n",
      "Epoch 125/200\n",
      "613/613 [==============================] - 0s 68us/step - loss: 0.1502 - acc: 0.7928 - val_loss: 0.1414 - val_acc: 0.7922\n",
      "Epoch 126/200\n",
      "613/613 [==============================] - 0s 70us/step - loss: 0.1498 - acc: 0.7912 - val_loss: 0.1407 - val_acc: 0.7922\n",
      "Epoch 127/200\n",
      "613/613 [==============================] - 0s 69us/step - loss: 0.1497 - acc: 0.7863 - val_loss: 0.1406 - val_acc: 0.7922\n",
      "Epoch 128/200\n",
      "613/613 [==============================] - 0s 79us/step - loss: 0.1491 - acc: 0.7879 - val_loss: 0.1417 - val_acc: 0.7922\n",
      "Epoch 129/200\n",
      "613/613 [==============================] - 0s 70us/step - loss: 0.1492 - acc: 0.7847 - val_loss: 0.1415 - val_acc: 0.7987\n",
      "Epoch 130/200\n",
      "613/613 [==============================] - 0s 67us/step - loss: 0.1496 - acc: 0.7814 - val_loss: 0.1410 - val_acc: 0.7987\n",
      "Epoch 131/200\n",
      "613/613 [==============================] - 0s 70us/step - loss: 0.1493 - acc: 0.7830 - val_loss: 0.1406 - val_acc: 0.7922\n",
      "Epoch 132/200\n",
      "613/613 [==============================] - 0s 65us/step - loss: 0.1492 - acc: 0.7928 - val_loss: 0.1407 - val_acc: 0.7987\n",
      "Epoch 133/200\n",
      "613/613 [==============================] - 0s 66us/step - loss: 0.1489 - acc: 0.7912 - val_loss: 0.1403 - val_acc: 0.7987\n",
      "Epoch 134/200\n",
      "613/613 [==============================] - 0s 63us/step - loss: 0.1492 - acc: 0.7814 - val_loss: 0.1399 - val_acc: 0.7922\n",
      "Epoch 135/200\n",
      "613/613 [==============================] - 0s 73us/step - loss: 0.1487 - acc: 0.7879 - val_loss: 0.1400 - val_acc: 0.7987\n",
      "Epoch 136/200\n",
      "613/613 [==============================] - 0s 65us/step - loss: 0.1486 - acc: 0.7879 - val_loss: 0.1403 - val_acc: 0.7987\n",
      "Epoch 137/200\n",
      "613/613 [==============================] - 0s 67us/step - loss: 0.1491 - acc: 0.7896 - val_loss: 0.1408 - val_acc: 0.7922\n",
      "Epoch 138/200\n",
      "613/613 [==============================] - 0s 72us/step - loss: 0.1482 - acc: 0.7912 - val_loss: 0.1405 - val_acc: 0.7987\n",
      "Epoch 139/200\n",
      "613/613 [==============================] - 0s 60us/step - loss: 0.1482 - acc: 0.7912 - val_loss: 0.1403 - val_acc: 0.7922\n",
      "Epoch 140/200\n",
      "613/613 [==============================] - 0s 64us/step - loss: 0.1492 - acc: 0.7781 - val_loss: 0.1409 - val_acc: 0.7857\n",
      "Epoch 141/200\n",
      "613/613 [==============================] - 0s 74us/step - loss: 0.1494 - acc: 0.7847 - val_loss: 0.1409 - val_acc: 0.7922\n",
      "Epoch 142/200\n",
      "613/613 [==============================] - 0s 69us/step - loss: 0.1491 - acc: 0.7830 - val_loss: 0.1402 - val_acc: 0.7857\n",
      "Epoch 143/200\n",
      "613/613 [==============================] - 0s 67us/step - loss: 0.1477 - acc: 0.7896 - val_loss: 0.1400 - val_acc: 0.7922\n",
      "Epoch 144/200\n",
      "613/613 [==============================] - 0s 78us/step - loss: 0.1484 - acc: 0.7896 - val_loss: 0.1402 - val_acc: 0.7922\n",
      "Epoch 145/200\n",
      "613/613 [==============================] - 0s 65us/step - loss: 0.1476 - acc: 0.7830 - val_loss: 0.1403 - val_acc: 0.7857\n",
      "Epoch 146/200\n",
      "613/613 [==============================] - 0s 59us/step - loss: 0.1487 - acc: 0.7798 - val_loss: 0.1400 - val_acc: 0.7987\n",
      "Epoch 147/200\n",
      "613/613 [==============================] - 0s 69us/step - loss: 0.1478 - acc: 0.7830 - val_loss: 0.1401 - val_acc: 0.7857\n",
      "Epoch 148/200\n",
      "613/613 [==============================] - 0s 55us/step - loss: 0.1478 - acc: 0.7896 - val_loss: 0.1395 - val_acc: 0.7987\n",
      "Epoch 149/200\n",
      "613/613 [==============================] - 0s 64us/step - loss: 0.1481 - acc: 0.7847 - val_loss: 0.1396 - val_acc: 0.7987\n",
      "Epoch 150/200\n",
      "613/613 [==============================] - 0s 72us/step - loss: 0.1474 - acc: 0.7863 - val_loss: 0.1398 - val_acc: 0.7922\n",
      "Epoch 151/200\n",
      "613/613 [==============================] - 0s 74us/step - loss: 0.1475 - acc: 0.7879 - val_loss: 0.1403 - val_acc: 0.7922\n",
      "Epoch 152/200\n",
      "613/613 [==============================] - 0s 66us/step - loss: 0.1474 - acc: 0.7896 - val_loss: 0.1399 - val_acc: 0.7857\n",
      "Epoch 153/200\n",
      "613/613 [==============================] - 0s 70us/step - loss: 0.1481 - acc: 0.7781 - val_loss: 0.1397 - val_acc: 0.7987\n",
      "Epoch 154/200\n",
      "613/613 [==============================] - 0s 64us/step - loss: 0.1480 - acc: 0.7879 - val_loss: 0.1402 - val_acc: 0.7987\n",
      "Epoch 155/200\n",
      "613/613 [==============================] - 0s 74us/step - loss: 0.1474 - acc: 0.7896 - val_loss: 0.1405 - val_acc: 0.7857\n",
      "Epoch 156/200\n",
      "613/613 [==============================] - 0s 79us/step - loss: 0.1475 - acc: 0.7814 - val_loss: 0.1406 - val_acc: 0.7857\n",
      "Epoch 157/200\n",
      "613/613 [==============================] - 0s 63us/step - loss: 0.1476 - acc: 0.7879 - val_loss: 0.1409 - val_acc: 0.7922\n",
      "Epoch 158/200\n",
      "613/613 [==============================] - 0s 65us/step - loss: 0.1470 - acc: 0.7847 - val_loss: 0.1407 - val_acc: 0.7987\n",
      "Epoch 159/200\n",
      "613/613 [==============================] - 0s 68us/step - loss: 0.1473 - acc: 0.7879 - val_loss: 0.1399 - val_acc: 0.7857\n",
      "Epoch 160/200\n",
      "613/613 [==============================] - 0s 65us/step - loss: 0.1473 - acc: 0.7814 - val_loss: 0.1393 - val_acc: 0.7857\n",
      "Epoch 161/200\n",
      "613/613 [==============================] - 0s 71us/step - loss: 0.1472 - acc: 0.7863 - val_loss: 0.1391 - val_acc: 0.7987\n",
      "Epoch 162/200\n",
      "613/613 [==============================] - 0s 68us/step - loss: 0.1473 - acc: 0.7814 - val_loss: 0.1393 - val_acc: 0.7922\n",
      "Epoch 163/200\n",
      "613/613 [==============================] - 0s 68us/step - loss: 0.1470 - acc: 0.7814 - val_loss: 0.1391 - val_acc: 0.7922\n",
      "Epoch 164/200\n",
      "613/613 [==============================] - 0s 68us/step - loss: 0.1467 - acc: 0.7879 - val_loss: 0.1399 - val_acc: 0.7987\n",
      "Epoch 165/200\n",
      "613/613 [==============================] - 0s 72us/step - loss: 0.1468 - acc: 0.7879 - val_loss: 0.1393 - val_acc: 0.7922\n",
      "Epoch 166/200\n",
      "613/613 [==============================] - 0s 67us/step - loss: 0.1470 - acc: 0.7830 - val_loss: 0.1396 - val_acc: 0.7922\n",
      "Epoch 167/200\n",
      "613/613 [==============================] - 0s 62us/step - loss: 0.1470 - acc: 0.7896 - val_loss: 0.1392 - val_acc: 0.7987\n",
      "Epoch 168/200\n",
      "613/613 [==============================] - 0s 71us/step - loss: 0.1464 - acc: 0.7912 - val_loss: 0.1396 - val_acc: 0.7922\n",
      "Epoch 169/200\n",
      "613/613 [==============================] - 0s 66us/step - loss: 0.1466 - acc: 0.7863 - val_loss: 0.1395 - val_acc: 0.7857\n",
      "Epoch 170/200\n",
      "613/613 [==============================] - 0s 61us/step - loss: 0.1467 - acc: 0.7798 - val_loss: 0.1397 - val_acc: 0.7922\n",
      "Epoch 171/200\n",
      "613/613 [==============================] - 0s 74us/step - loss: 0.1466 - acc: 0.7830 - val_loss: 0.1391 - val_acc: 0.7987\n",
      "Epoch 172/200\n",
      "613/613 [==============================] - 0s 62us/step - loss: 0.1463 - acc: 0.7896 - val_loss: 0.1389 - val_acc: 0.7922\n",
      "Epoch 173/200\n",
      "613/613 [==============================] - 0s 61us/step - loss: 0.1465 - acc: 0.7863 - val_loss: 0.1397 - val_acc: 0.7857\n",
      "Epoch 174/200\n",
      "613/613 [==============================] - 0s 73us/step - loss: 0.1463 - acc: 0.7863 - val_loss: 0.1398 - val_acc: 0.7857\n",
      "Epoch 175/200\n",
      "613/613 [==============================] - 0s 62us/step - loss: 0.1465 - acc: 0.7863 - val_loss: 0.1397 - val_acc: 0.7987\n",
      "Epoch 176/200\n",
      "613/613 [==============================] - 0s 66us/step - loss: 0.1468 - acc: 0.7798 - val_loss: 0.1403 - val_acc: 0.7987\n",
      "Epoch 177/200\n",
      "613/613 [==============================] - 0s 66us/step - loss: 0.1468 - acc: 0.7847 - val_loss: 0.1407 - val_acc: 0.7792\n",
      "Epoch 178/200\n",
      "613/613 [==============================] - 0s 56us/step - loss: 0.1468 - acc: 0.7830 - val_loss: 0.1398 - val_acc: 0.7922\n",
      "Epoch 179/200\n",
      "613/613 [==============================] - 0s 88us/step - loss: 0.1479 - acc: 0.7847 - val_loss: 0.1398 - val_acc: 0.7987\n",
      "Epoch 180/200\n",
      "613/613 [==============================] - 0s 70us/step - loss: 0.1457 - acc: 0.7912 - val_loss: 0.1395 - val_acc: 0.7857\n",
      "Epoch 181/200\n",
      "613/613 [==============================] - 0s 60us/step - loss: 0.1463 - acc: 0.7896 - val_loss: 0.1399 - val_acc: 0.7987\n",
      "Epoch 182/200\n",
      "613/613 [==============================] - 0s 70us/step - loss: 0.1463 - acc: 0.7879 - val_loss: 0.1399 - val_acc: 0.7922\n",
      "Epoch 183/200\n",
      "613/613 [==============================] - 0s 73us/step - loss: 0.1462 - acc: 0.7896 - val_loss: 0.1390 - val_acc: 0.7922\n",
      "Epoch 184/200\n",
      "613/613 [==============================] - 0s 88us/step - loss: 0.1465 - acc: 0.7912 - val_loss: 0.1392 - val_acc: 0.7987\n",
      "Epoch 185/200\n",
      "613/613 [==============================] - 0s 120us/step - loss: 0.1457 - acc: 0.7896 - val_loss: 0.1396 - val_acc: 0.7987\n",
      "Epoch 186/200\n",
      "613/613 [==============================] - 0s 71us/step - loss: 0.1462 - acc: 0.7863 - val_loss: 0.1399 - val_acc: 0.7922\n",
      "Epoch 187/200\n",
      "613/613 [==============================] - 0s 61us/step - loss: 0.1457 - acc: 0.7896 - val_loss: 0.1400 - val_acc: 0.7857\n",
      "Epoch 188/200\n",
      "613/613 [==============================] - 0s 66us/step - loss: 0.1457 - acc: 0.7847 - val_loss: 0.1411 - val_acc: 0.7857\n",
      "Epoch 189/200\n",
      "613/613 [==============================] - 0s 67us/step - loss: 0.1467 - acc: 0.7896 - val_loss: 0.1404 - val_acc: 0.7922\n",
      "Epoch 190/200\n",
      "613/613 [==============================] - 0s 74us/step - loss: 0.1460 - acc: 0.7879 - val_loss: 0.1402 - val_acc: 0.7987\n",
      "Epoch 191/200\n",
      "613/613 [==============================] - 0s 66us/step - loss: 0.1463 - acc: 0.7847 - val_loss: 0.1402 - val_acc: 0.7857\n",
      "Epoch 192/200\n",
      "613/613 [==============================] - 0s 60us/step - loss: 0.1458 - acc: 0.7879 - val_loss: 0.1402 - val_acc: 0.7922\n",
      "Epoch 193/200\n",
      "613/613 [==============================] - 0s 61us/step - loss: 0.1458 - acc: 0.7879 - val_loss: 0.1398 - val_acc: 0.7857\n",
      "Epoch 194/200\n",
      "613/613 [==============================] - 0s 63us/step - loss: 0.1456 - acc: 0.7879 - val_loss: 0.1397 - val_acc: 0.7922\n",
      "Epoch 195/200\n",
      "613/613 [==============================] - 0s 59us/step - loss: 0.1455 - acc: 0.7847 - val_loss: 0.1406 - val_acc: 0.7857\n",
      "Epoch 196/200\n",
      "613/613 [==============================] - 0s 60us/step - loss: 0.1453 - acc: 0.7863 - val_loss: 0.1400 - val_acc: 0.7987\n",
      "Epoch 197/200\n",
      "613/613 [==============================] - 0s 79us/step - loss: 0.1457 - acc: 0.7896 - val_loss: 0.1398 - val_acc: 0.7922\n",
      "Epoch 198/200\n",
      "613/613 [==============================] - 0s 57us/step - loss: 0.1456 - acc: 0.7879 - val_loss: 0.1389 - val_acc: 0.7922\n",
      "Epoch 199/200\n",
      "613/613 [==============================] - 0s 61us/step - loss: 0.1454 - acc: 0.7896 - val_loss: 0.1394 - val_acc: 0.7987\n",
      "Epoch 200/200\n",
      "613/613 [==============================] - 0s 60us/step - loss: 0.1473 - acc: 0.7928 - val_loss: 0.1397 - val_acc: 0.7987\n"
     ]
    }
   ],
   "source": [
    "model.compile(loss='mse', optimizer='adam', metrics=['accuracy'])\n",
    "history= model.fit(training_feature, training_label,validation_data=(testing_feature,testing_label), epochs=200)"
   ]
  },
  {
   "cell_type": "markdown",
   "metadata": {},
   "source": [
    "### Grafik Performance Akurasi"
   ]
  },
  {
   "cell_type": "code",
   "execution_count": 45,
   "metadata": {},
   "outputs": [],
   "source": [
    "import matplotlib.pyplot as plt\n",
    "\n",
    "loss=model.history.history['loss']\n",
    "acc=model.history.history['acc']"
   ]
  },
  {
   "cell_type": "code",
   "execution_count": null,
   "metadata": {},
   "outputs": [],
   "source": [
    "acc = history.history['acc']\n",
    "val_acc = history.history['val_acc']\n",
    "loss = history.history['loss']\n",
    "val_loss = history.history['val_loss']\n",
    "epochs = range(1, len(acc) + 1)"
   ]
  },
  {
   "cell_type": "markdown",
   "metadata": {},
   "source": [
    "# Visualisasi Proses Training\n",
    "Dari proses training diatas, setiap loss pada epochs yang terjadi ketika training dapat ditampilkan dalam bentuk grafik. Setiap komponen pada grafik pun dapat ditentukan sesuai keperluan masing-masing."
   ]
  },
  {
   "cell_type": "markdown",
   "metadata": {},
   "source": [
    "# 1. Model Akurasi\n"
   ]
  },
  {
   "cell_type": "code",
   "execution_count": 47,
   "metadata": {},
   "outputs": [
    {
     "data": {
      "image/png": "[encoded data removed]",
      "text/plain": [
       "<matplotlib.figure.Figure at 0x24d2efc90f0>"
      ]
     },
     "metadata": {},
     "output_type": "display_data"
    }
   ],
   "source": [
    "plt.plot(epochs, acc, 'b',color='green', label='Akurasi Training')\n",
    "plt.plot(epochs, val_acc, 'b',color='red', label='Akurasi Testing')\n",
    "plt.title('Akurasi Training dan Testing')\n",
    "plt.legend()\n",
    "plt.show()"
   ]
  },
  {
   "cell_type": "markdown",
   "metadata": {},
   "source": [
    "# 2. Model Loss"
   ]
  },
  {
   "cell_type": "code",
   "execution_count": 48,
   "metadata": {},
   "outputs": [
    {
     "data": {
      "image/png": "[encoded data removed]",
      "text/plain": [
       "<matplotlib.figure.Figure at 0x24d302b5240>"
      ]
     },
     "metadata": {},
     "output_type": "display_data"
    }
   ],
   "source": [
    "plt.plot(epochs, loss, 'b',color='green', label='Training loss')\n",
    "plt.plot(epochs, val_loss, 'b',color='red', label='Testing loss')\n",
    "plt.title('Training and Testing loss')\n",
    "plt.legend()\n",
    "plt.show()"
   ]
  },
  {
   "cell_type": "code",
   "execution_count": 3,
   "metadata": {},
   "outputs": [
    {
     "ename": "NameError",
     "evalue": "name 'dataset' is not defined",
     "output_type": "error",
     "traceback": [
      "\u001b[1;31m---------------------------------------------------------------------------\u001b[0m",
      "\u001b[1;31mNameError\u001b[0m                                 Traceback (most recent call last)",
      "\u001b[1;32m<ipython-input-3-e76b41d90a28>\u001b[0m in \u001b[0;36m<module>\u001b[1;34m\u001b[0m\n\u001b[0;32m      5\u001b[0m \u001b[1;33m\u001b[0m\u001b[0m\n\u001b[0;32m      6\u001b[0m \u001b[0mseed\u001b[0m\u001b[1;33m(\u001b[0m\u001b[1;36m7\u001b[0m\u001b[1;33m)\u001b[0m\u001b[1;33m\u001b[0m\u001b[1;33m\u001b[0m\u001b[0m\n\u001b[1;32m----> 7\u001b[1;33m \u001b[0mpyplot\u001b[0m\u001b[1;33m.\u001b[0m\u001b[0mboxplot\u001b[0m\u001b[1;33m(\u001b[0m\u001b[0mdataset\u001b[0m\u001b[1;33m)\u001b[0m\u001b[1;33m\u001b[0m\u001b[1;33m\u001b[0m\u001b[0m\n\u001b[0m\u001b[0;32m      8\u001b[0m \u001b[1;33m\u001b[0m\u001b[0m\n\u001b[0;32m      9\u001b[0m \u001b[1;31m#show line plot\u001b[0m\u001b[1;33m\u001b[0m\u001b[1;33m\u001b[0m\u001b[1;33m\u001b[0m\u001b[0m\n",
      "\u001b[1;31mNameError\u001b[0m: name 'dataset' is not defined"
     ]
    }
   ],
   "source": [
    "#exmple of a box nd whisker plot\n",
    "from numpy.random import seed\n",
    "from numpy.random import randn\n",
    "from matplotlib import pyplot\n",
    "\n",
    "seed(7)\n",
    "pyplot.boxplot(dataset)\n",
    "\n",
    "#show line plot\n",
    "pyplot.show()"
   ]
  },
  {
   "cell_type": "markdown",
   "metadata": {},
   "source": [
    "### Performence  Akurasi Training and Testing"
   ]
  },
  {
   "cell_type": "code",
   "execution_count": null,
   "metadata": {},
   "outputs": [],
   "source": [
    "train_acc= model.evaluate(training_feature,training_label)\n",
    "print(train_acc[1]*100)"
   ]
  },
  {
   "cell_type": "code",
   "execution_count": null,
   "metadata": {},
   "outputs": [],
   "source": [
    "test_acc= model.evaluate(testing_feature,testing_label)\n",
    "print(test_acc[1]*100)"
   ]
  },
  {
   "cell_type": "markdown",
   "metadata": {},
   "source": [
    "### Load Confusion Matrik"
   ]
  },
  {
   "cell_type": "markdown",
   "metadata": {},
   "source": [
    "# Performance\n",
    "Setelah mendapatkan hasil singkay dari proses training pada model diatas, selanjutnya dapat dilakukan analisis performance dengan membuat confusion matrix dari Y yang telah diubah menjadi categorical dan nilai prediksi dari model Neural Network terhadap X yang telah diprocessing.\n",
    "\n"
   ]
  },
  {
   "cell_type": "code",
   "execution_count": null,
   "metadata": {},
   "outputs": [],
   "source": [
    "predict= model.predict(testing_feature)"
   ]
  },
  {
   "cell_type": "code",
   "execution_count": null,
   "metadata": {},
   "outputs": [],
   "source": [
    "from sklearn.metrics import confusion_matrix\n",
    "cm = confusion_matrix(testing_label.argmax(axis=1), predict.argmax(axis=1))"
   ]
  },
  {
   "cell_type": "code",
   "execution_count": 31,
   "metadata": {},
   "outputs": [
    {
     "data": {
      "text/plain": [
       "array([[88, 16],\n",
       "       [20, 30]], dtype=int64)"
      ]
     },
     "execution_count": 31,
     "metadata": {},
     "output_type": "execute_result"
    }
   ],
   "source": [
    "cm"
   ]
  },
  {
   "cell_type": "markdown",
   "metadata": {},
   "source": [
    "# 1.Precision"
   ]
  },
  {
   "cell_type": "markdown",
   "metadata": {},
   "source": [
    "\n",
    "Presisi adalah ukuran yang memberi tahu berapa proporsi pasien yang didiagnosa menderita kanker yang sebenarnya memang menderita kanker."
   ]
  },
  {
   "cell_type": "code",
   "execution_count": 32,
   "metadata": {},
   "outputs": [],
   "source": [
    "presisi=(88/(88+16))*100"
   ]
  },
  {
   "cell_type": "code",
   "execution_count": 33,
   "metadata": {},
   "outputs": [
    {
     "name": "stdout",
     "output_type": "stream",
     "text": [
      "84.61538461538461\n"
     ]
    }
   ],
   "source": [
    "print(presisi)"
   ]
  },
  {
   "cell_type": "code",
   "execution_count": 34,
   "metadata": {},
   "outputs": [],
   "source": [
    "recall=(88/(88+20))*100"
   ]
  },
  {
   "cell_type": "code",
   "execution_count": 35,
   "metadata": {},
   "outputs": [
    {
     "name": "stdout",
     "output_type": "stream",
     "text": [
      "81.48148148148148\n"
     ]
    }
   ],
   "source": [
    "print(recall)"
   ]
  },
  {
   "cell_type": "markdown",
   "metadata": {},
   "source": [
    "# 2.Akurasi"
   ]
  },
  {
   "cell_type": "markdown",
   "metadata": {},
   "source": [
    "Akurasi dalam masalah klarifikasi adalah jumlah prediksi yang tepat yang dibuat oleh model atas semua jenis prediksi yang dibuat."
   ]
  },
  {
   "cell_type": "code",
   "execution_count": 36,
   "metadata": {},
   "outputs": [],
   "source": [
    "accuracy=((88+30)/(88+30+16+20))*100"
   ]
  },
  {
   "cell_type": "code",
   "execution_count": 37,
   "metadata": {},
   "outputs": [
    {
     "name": "stdout",
     "output_type": "stream",
     "text": [
      "76.62337662337663\n"
     ]
    }
   ],
   "source": [
    "print(accuracy)"
   ]
  }
 ],
 "metadata": {
  "kernelspec": {
   "display_name": "Python 3",
   "language": "python",
   "name": "python3"
  },
  "language_info": {
   "codemirror_mode": {
    "name": "ipython",
    "version": 3
   },
   "file_extension": ".py",
   "mimetype": "text/x-python",
   "name": "python",
   "nbconvert_exporter": "python",
   "pygments_lexer": "ipython3",
   "version": "3.7.3"
  }
 },
 "nbformat": 4,
 "nbformat_minor": 2
}
