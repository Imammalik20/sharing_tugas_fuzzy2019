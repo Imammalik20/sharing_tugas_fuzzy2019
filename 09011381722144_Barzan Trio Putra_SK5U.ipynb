{
 "cells": [
  {
   "cell_type": "markdown",
   "metadata": {},
   "source": [
    "NAMA   : BARZAN TRIO PUTRA\n",
    "\n",
    "NIM    : 09011381722144\n",
    "\n",
    "KELAS  : SK5 BUKIT"
   ]
  },
  {
   "cell_type": "markdown",
   "metadata": {},
   "source": [
    "<h1 align = \"center\"> <font color='red'> SISTEM MENENTUKAN HARGA PEMBELIAN NOTEBOOK MENGGUNAKAN LOGIKA FUZZY </h1> </font>"
   ]
  },
  {
   "cell_type": "markdown",
   "metadata": {},
   "source": [
    "<div style=\"text-align: justify\">Notebook adalah perangkat komputer bagi pengguna yang dinamis. Memiliki fungsi seperti komputer secara umum. Dalam pembelian sebuah notebook, banyak hal yang dapat dijadikan parameter penilaian untuk mendukung keputusan. Penggunaan metode fuzzy database dengan metode Tahani pada sebuah sistem pendukung keputusan merupakan salah satu jalan pemecahan masalah yang dapat menangani hal tersebut, dimana bahasa alami yang sering digunakan sehari-hari yang bersifat relatif, kualitatif, dan tidak presisi akan menjadi input kriteria pada sistem pengguna.</div><br>"
   ]
  },
  {
   "cell_type": "code",
   "execution_count": 1,
   "metadata": {},
   "outputs": [],
   "source": [
    "import numpy as np"
   ]
  },
  {
   "cell_type": "code",
   "execution_count": 2,
   "metadata": {},
   "outputs": [],
   "source": [
    "import skfuzzy as fuzz"
   ]
  },
  {
   "cell_type": "code",
   "execution_count": 3,
   "metadata": {},
   "outputs": [],
   "source": [
    "from skfuzzy import control as ctrl"
   ]
  },
  {
   "cell_type": "code",
   "execution_count": 4,
   "metadata": {},
   "outputs": [],
   "source": [
    "import matplotlib.pyplot as plt"
   ]
  },
  {
   "cell_type": "markdown",
   "metadata": {},
   "source": [
    "ada 3 inputan yaitu :\n",
    "1. Kapasitas RAM\n",
    "2. Kecepatan Prosesor\n",
    "3. Kapsitas HDD"
   ]
  },
  {
   "cell_type": "markdown",
   "metadata": {},
   "source": [
    "output:\n",
    "1. Harga"
   ]
  },
  {
   "cell_type": "code",
   "execution_count": 5,
   "metadata": {},
   "outputs": [],
   "source": [
    "Kapasitas_RAM = ctrl.Antecedent(np.arange(0,4500,1), 'Kapasitas_RAM')"
   ]
  },
  {
   "cell_type": "code",
   "execution_count": 6,
   "metadata": {},
   "outputs": [],
   "source": [
    "Kecepatan_Prosesor = ctrl.Antecedent(np.arange(0,2800,1), 'Kecepatan_prosesor' )"
   ]
  },
  {
   "cell_type": "code",
   "execution_count": 7,
   "metadata": {},
   "outputs": [],
   "source": [
    "Kapasitas_HDD = ctrl.Antecedent(np.arange(0,600,1), 'Kapasitas_HDD')"
   ]
  },
  {
   "cell_type": "code",
   "execution_count": 8,
   "metadata": {},
   "outputs": [],
   "source": [
    "Harga = ctrl.Consequent(np.arange(2000,15000,1), 'Harga')"
   ]
  },
  {
   "cell_type": "code",
   "execution_count": 9,
   "metadata": {},
   "outputs": [],
   "source": [
    "Kapasitasram_X = np.arange(0, 4500, 1)\n",
    "Kecepatanprosesor_X = np.arange(0, 2800, 1)\n",
    "Kapasitashdd_X = np.arange(0, 600, 1)\n",
    "harga_x = np.arange(2000, 15000, 1)"
   ]
  },
  {
   "cell_type": "markdown",
   "metadata": {},
   "source": [
    "# FUZZYFIKASI Kapasitas RAM"
   ]
  },
  {
   "cell_type": "markdown",
   "metadata": {},
   "source": [
    "Nilai linguistik pada variabel kapasitas RAM ada 3, yaitu :\n",
    " - Kecil (misal : 1024 MB)\n",
    " - Sedang (misal : 2048 MB)\n",
    " - Besar (misal : 4096 MB)"
   ]
  },
  {
   "cell_type": "code",
   "execution_count": 10,
   "metadata": {},
   "outputs": [],
   "source": [
    "Kapasitas_RAM['kecil'] = fuzz.trapmf(Kapasitas_RAM.universe,[0,0,1024,2048])\n",
    "Kapasitas_RAM['sedang'] = fuzz.trimf(Kapasitas_RAM.universe,[1024,2048,4096])\n",
    "Kapasitas_RAM['besar'] = fuzz.trapmf(Kapasitas_RAM.universe,[2048,4096,4500,4500])"
   ]
  },
  {
   "cell_type": "markdown",
   "metadata": {},
   "source": [
    "### PLOTTING MEMBERSHIP FUNCTION Kapasitas RAM"
   ]
  },
  {
   "cell_type": "markdown",
   "metadata": {},
   "source": [
    "##### Fungsi keanggotaan Kapasitas Ram Kecil"
   ]
  },
  {
   "cell_type": "markdown",
   "metadata": {},
   "source": [
    "\\begin{equation}\n",
    "  KapasitasRAM['kecil'] = \\mu kecil(x)=\\begin{cases}\n",
    "    1, & \\text{$0\\leq x\\leq1024$}.\\\\\n",
    "    (2048 - x)/(2048 - 1024) , & \\text{$1024 \\leq x \\leq 2048$}.\\\\\n",
    "    0, & \\text{$x\\geq 2048 $ }.\n",
    "  \\end{cases}\n",
    "  \\end{equation}"
   ]
  },
  {
   "cell_type": "code",
   "execution_count": 11,
   "metadata": {},
   "outputs": [
    {
     "data": {
      "text/plain": [
       "Text(0.5,1,'Kapasitasram kecil')"
      ]
     },
     "execution_count": 11,
     "metadata": {},
     "output_type": "execute_result"
    },
    {
     "data": {
      "image/png": "[encoded data removed]",
      "text/plain": [
       "<matplotlib.figure.Figure at 0x2322550eac8>"
      ]
     },
     "metadata": {},
     "output_type": "display_data"
    }
   ],
   "source": [
    "Kapasitasram_kecil = fuzz.trapmf(Kapasitasram_X,[0, 0,1024, 2048])\n",
    "fig, (ax0) = plt.subplots(nrows=1,figsize=(6,6))\n",
    "ax0.plot(Kapasitasram_X,Kapasitasram_kecil,'blue')\n",
    "ax0.set_title('Kapasitasram kecil')"
   ]
  },
  {
   "cell_type": "markdown",
   "metadata": {},
   "source": [
    "##### Fungsi keanggotaan Kapasitas RAM Sedang"
   ]
  },
  {
   "cell_type": "markdown",
   "metadata": {},
   "source": [
    "\\begin{equation}\n",
    "KapasitasRAM['sedang'] = \\mu sedang(x)=\\begin{cases}\n",
    "    0, & \\text{$x\\leq 1024$ atau $x\\geq4096$}.  \\\\\n",
    "    (x - 1024)/(2048 - 1024) , & \\text{$1024 \\leq x \\leq 2048$}.\\\\\n",
    "    (4096 - x)/(4096 - 2048) , & \\text{$2048 \\leq x \\leq 4096$}.\\\\\n",
    "  \\end{cases}\n",
    "  \\end{equation}"
   ]
  },
  {
   "cell_type": "code",
   "execution_count": 12,
   "metadata": {},
   "outputs": [
    {
     "data": {
      "text/plain": [
       "Text(0.5,1,'Kapasitasram sedang')"
      ]
     },
     "execution_count": 12,
     "metadata": {},
     "output_type": "execute_result"
    },
    {
     "data": {
      "image/png": "[encoded data removed]",
      "text/plain": [
       "<matplotlib.figure.Figure at 0x23225564ac8>"
      ]
     },
     "metadata": {},
     "output_type": "display_data"
    }
   ],
   "source": [
    "Kapasitasram_sedang = fuzz.trimf(Kapasitasram_X,[1024,2048,4096])\n",
    "fig, (ax0) = plt.subplots(nrows=1,figsize=(6,6))\n",
    "ax0.plot(Kapasitasram_X,Kapasitasram_sedang,'orange')\n",
    "ax0.set_title('Kapasitasram sedang')"
   ]
  },
  {
   "cell_type": "markdown",
   "metadata": {},
   "source": [
    "##### Fungsi Keanggotaan Kapasitas RAM Besar"
   ]
  },
  {
   "cell_type": "markdown",
   "metadata": {},
   "source": [
    "\\begin{equation}\n",
    "KapasitasRAM['besar'] = \\mu besar(x)=\\begin{cases}\n",
    "    0, & \\text{$x\\leq2048$}.\\\\\n",
    "    (x - 2048)/(4096 - 2048) , & \\text{$2048 \\leq x \\leq 4096$}.\\\\\n",
    "    1, & \\text{$x\\geq 4096 $ }.\n",
    "  \\end{cases}\n",
    "\\end{equation}"
   ]
  },
  {
   "cell_type": "code",
   "execution_count": 13,
   "metadata": {},
   "outputs": [
    {
     "data": {
      "text/plain": [
       "Text(0.5,1,'Kapasitasram besar')"
      ]
     },
     "execution_count": 13,
     "metadata": {},
     "output_type": "execute_result"
    },
    {
     "data": {
      "image/png": "[encoded data removed]",
      "text/plain": [
       "<matplotlib.figure.Figure at 0x2322563f828>"
      ]
     },
     "metadata": {},
     "output_type": "display_data"
    }
   ],
   "source": [
    "Kapasitasram_besar = fuzz.trapmf(Kapasitasram_X,[2048,4096,4500,4500])\n",
    "fig, (ax0) = plt.subplots(nrows=1,figsize=(6,6))\n",
    "ax0.plot(Kapasitasram_X,Kapasitasram_besar,'green')\n",
    "ax0.set_title('Kapasitasram besar')"
   ]
  },
  {
   "cell_type": "markdown",
   "metadata": {},
   "source": [
    "##### Plotting keseluruhan dari kecil,sedang,dan besar Kapasitas RAM"
   ]
  },
  {
   "cell_type": "markdown",
   "metadata": {},
   "source": [
    "\\begin{equation}\n",
    "  KapasitasRAM['kecil'] = \\mu kecil(x)=\\begin{cases}\n",
    "    1, & \\text{$0\\leq x\\leq1024$}.\\\\\n",
    "    (2048 - x)/(2048 - 1024) , & \\text{$1024 \\leq x \\leq 2048$}.\\\\\n",
    "    0, & \\text{$x\\geq 2048 $ }.\n",
    "  \\end{cases}\n",
    "  \\\\\n",
    "  KapasitasRAM['sedang'] = \\mu sedang(x)=\\begin{cases}\n",
    "    0, & \\text{$x\\leq 1024$ atau $x\\geq4096$}.  \\\\\n",
    "    (x - 1024)/(2048 - 1024) , & \\text{$1024 \\leq x \\leq 2048$}.\\\\\n",
    "    (4096 - x)/(4096 - 2048) , & \\text{$2048 \\leq x \\leq 4096$}.\\\\\n",
    "  \\end{cases}\n",
    "  \\\\\n",
    "  KapasitasRAM['besar'] = \\mu besar(x)=\\begin{cases}\n",
    "    0, & \\text{$x\\leq2048$}.\\\\\n",
    "    (x - 2048)/(4096 - 2048) , & \\text{$2048 \\leq x \\leq 4096$}.\\\\\n",
    "    1, & \\text{$x\\geq 4096 $ }.\n",
    "  \\end{cases}\n",
    "\\end{equation}"
   ]
  },
  {
   "cell_type": "markdown",
   "metadata": {},
   "source": [
    "Penjelasan dari Grafik :\n",
    "\n",
    "- pada range biru kapasitas RAM kecil mulai dari 1024 - 2048\n",
    "\n",
    "- pada range orange kapasitas RAM sedang mulai dari 1024 - 4096\n",
    "\n",
    "- pada range hijau kapasitas RAM besar mulai dari 2048 - 4500"
   ]
  },
  {
   "cell_type": "code",
   "execution_count": 14,
   "metadata": {},
   "outputs": [
    {
     "name": "stderr",
     "output_type": "stream",
     "text": [
      "C:\\Users\\ASUS X441N\\Anaconda3\\lib\\site-packages\\matplotlib\\figure.py:418: UserWarning: matplotlib is currently using a non-GUI backend, so cannot show the figure\n",
      "  \"matplotlib is currently using a non-GUI backend, \"\n"
     ]
    },
    {
     "data": {
      "image/png": "[encoded data removed]",
      "text/plain": [
       "<matplotlib.figure.Figure at 0x232255df240>"
      ]
     },
     "metadata": {},
     "output_type": "display_data"
    }
   ],
   "source": [
    "Kapasitas_RAM.view()"
   ]
  },
  {
   "cell_type": "markdown",
   "metadata": {},
   "source": [
    "# FUZZYFIKASI Kecepatan prosesor"
   ]
  },
  {
   "cell_type": "markdown",
   "metadata": {},
   "source": [
    "Nilai linguistik pada variabel kecepatan prosesor ada 3, yaitu :\n",
    " - Pelan (misal : 1800 MHz)\n",
    " - Sedang (misal : 2200 MHz)\n",
    " - Cepat (misal : 2600 MHz)"
   ]
  },
  {
   "cell_type": "code",
   "execution_count": 15,
   "metadata": {},
   "outputs": [],
   "source": [
    "Kecepatan_Prosesor['pelan'] = fuzz.trapmf(Kecepatan_Prosesor.universe,[0,0,1800,2200])\n",
    "Kecepatan_Prosesor['sedang'] = fuzz.trimf(Kecepatan_Prosesor.universe,[1800,2200,2600])\n",
    "Kecepatan_Prosesor['cepat'] = fuzz.trapmf(Kecepatan_Prosesor.universe,[2200,2600,2800,2800])"
   ]
  },
  {
   "cell_type": "markdown",
   "metadata": {},
   "source": [
    "### PLOTTING MEMBERSHIP FUNCTION Kecepatan Prosesor"
   ]
  },
  {
   "cell_type": "markdown",
   "metadata": {},
   "source": [
    "##### fungsi keanggotaan Kecepatan Prosesor Pelan"
   ]
  },
  {
   "cell_type": "markdown",
   "metadata": {},
   "source": [
    "\\begin{equation}\n",
    "  Kecepatanprosesor['pelan'] = \\mu pelan(x)=\\begin{cases}\n",
    "    1, & \\text{$0\\leq x\\leq1800$}.\\\\\n",
    "    (2200 - x)/(2200 - 1800) , & \\text{$1800 \\leq x \\leq 2200$}.\\\\\n",
    "    0, & \\text{$x\\geq 2200 $ }.\n",
    "  \\end{cases}\n",
    "  \\end{equation}"
   ]
  },
  {
   "cell_type": "code",
   "execution_count": 16,
   "metadata": {},
   "outputs": [
    {
     "data": {
      "text/plain": [
       "Text(0.5,1,'Kecepatanprosesor pelan')"
      ]
     },
     "execution_count": 16,
     "metadata": {},
     "output_type": "execute_result"
    },
    {
     "data": {
      "image/png": "[encoded data removed]",
      "text/plain": [
       "<matplotlib.figure.Figure at 0x232266a57b8>"
      ]
     },
     "metadata": {},
     "output_type": "display_data"
    }
   ],
   "source": [
    "Kecepatanprosesor_pelan = fuzz.trapmf(Kecepatanprosesor_X,[0,0,1800,2200])\n",
    "fig, (ax0) = plt.subplots(nrows=1,figsize=(6,6))\n",
    "ax0.plot(Kecepatanprosesor_X,Kecepatanprosesor_pelan,'blue')\n",
    "ax0.set_title('Kecepatanprosesor pelan')"
   ]
  },
  {
   "cell_type": "markdown",
   "metadata": {},
   "source": [
    "##### Fungsi keanggotaan Kecepatan Prosesor Sedang"
   ]
  },
  {
   "cell_type": "markdown",
   "metadata": {},
   "source": [
    " \\begin{equation}\n",
    " Kecepatanprosesor['sedang'] = \\mu sedang(x)=\\begin{cases}\n",
    "    0, & \\text{$x\\leq 1800$ atau $x\\geq2600$}.  \\\\\n",
    "    (x - 1800)/(2200 - 1800) , & \\text{$1800 \\leq x \\leq 2200$}.\\\\\n",
    "    (2600 - x)/(2600 - 2200) , & \\text{$2200 \\leq x \\leq 2600$}.\\\\\n",
    "  \\end{cases}\n",
    "  \\end{equation}"
   ]
  },
  {
   "cell_type": "code",
   "execution_count": 17,
   "metadata": {},
   "outputs": [
    {
     "data": {
      "text/plain": [
       "Text(0.5,1,'Kecepatanprosesor sedang')"
      ]
     },
     "execution_count": 17,
     "metadata": {},
     "output_type": "execute_result"
    },
    {
     "data": {
      "image/png": "[encoded data removed]",
      "text/plain": [
       "<matplotlib.figure.Figure at 0x232266a5710>"
      ]
     },
     "metadata": {},
     "output_type": "display_data"
    }
   ],
   "source": [
    "Kecepatanprosesor_sedang = fuzz.trimf(Kecepatanprosesor_X,[1800,2200,2600])\n",
    "fig, (ax0) = plt.subplots(nrows=1,figsize=(6,6))\n",
    "ax0.plot(Kecepatanprosesor_X,Kecepatanprosesor_sedang,'orange')\n",
    "ax0.set_title('Kecepatanprosesor sedang')"
   ]
  },
  {
   "cell_type": "markdown",
   "metadata": {},
   "source": [
    "##### Fungsi keanggotaan Kecepatan Prosesor cepat"
   ]
  },
  {
   "cell_type": "markdown",
   "metadata": {},
   "source": [
    "\\begin{equation}\n",
    "Kecepatanprosesor['cepat'] = \\mu cepat(x)=\\begin{cases}\n",
    "    0, & \\text{$x\\leq2200$}.\\\\\n",
    "    (x - 2200)/(2600 - 2200) , & \\text{$2200 \\leq x \\leq 2600$}.\\\\\n",
    "    1, & \\text{$x\\geq 2600 $ }.\n",
    "  \\end{cases}\n",
    "\\end{equation}"
   ]
  },
  {
   "cell_type": "code",
   "execution_count": 18,
   "metadata": {},
   "outputs": [
    {
     "data": {
      "text/plain": [
       "Text(0.5,1,'Kecepatanprosesor cepat')"
      ]
     },
     "execution_count": 18,
     "metadata": {},
     "output_type": "execute_result"
    },
    {
     "data": {
      "image/png": "[encoded data removed]",
      "text/plain": [
       "<matplotlib.figure.Figure at 0x232267a9908>"
      ]
     },
     "metadata": {},
     "output_type": "display_data"
    }
   ],
   "source": [
    "Kecepatanprosesor_cepat = fuzz.trapmf(Kecepatanprosesor_X,[2200,2600,2800,2800])\n",
    "fig, (ax0) = plt.subplots(nrows=1,figsize=(6,6))\n",
    "ax0.plot(Kecepatanprosesor_X,Kecepatanprosesor_cepat,'green')\n",
    "ax0.set_title('Kecepatanprosesor cepat')"
   ]
  },
  {
   "cell_type": "markdown",
   "metadata": {},
   "source": [
    "##### Plotting keseluruhan dari pelan,sedang,dan cepat Kecepatan Prosesor"
   ]
  },
  {
   "cell_type": "markdown",
   "metadata": {},
   "source": [
    "\\begin{equation}\n",
    "  Kecepatanprosesor['pelan'] = \\mu pelan(x)=\\begin{cases}\n",
    "    1, & \\text{$0\\leq x\\leq1800$}.\\\\\n",
    "    (2200 - x)/(2200 - 1800) , & \\text{$1800 \\leq x \\leq 2200$}.\\\\\n",
    "    0, & \\text{$x\\geq 2200 $ }.\n",
    "  \\end{cases}\n",
    "  \\\\\n",
    "  Kecepatanprosesor['sedang'] = \\mu sedang(x)=\\begin{cases}\n",
    "    0, & \\text{$x\\leq 1800$ atau $x\\geq2600$}.  \\\\\n",
    "    (x - 1800)/(2200 - 1800) , & \\text{$1800 \\leq x \\leq 2200$}.\\\\\n",
    "    (2600 - x)/(2600 - 2200) , & \\text{$2200 \\leq x \\leq 2600$}.\\\\\n",
    "  \\end{cases}\n",
    "  \\\\\n",
    "  Kecepatanprosesor['cepat'] = \\mu besar(x)=\\begin{cases}\n",
    "    0, & \\text{$x\\leq2200$}.\\\\\n",
    "    (x - 2200)/(2600 - 2200) , & \\text{$2200 \\leq x \\leq 2600$}.\\\\\n",
    "    1, & \\text{$x\\geq 2600 $ }.\n",
    "  \\end{cases}\n",
    "\\end{equation}"
   ]
  },
  {
   "cell_type": "markdown",
   "metadata": {},
   "source": [
    "Penjelasan dari Grafik:\n",
    "\n",
    "- pada range biru kecepatan prosesor pelan mulai dari 1800 - 2200\n",
    "\n",
    "- pada range orange kecepatan prosesor sedang mulai dari 1800 - 2600\n",
    "\n",
    "- pada range hijau kecepatan prosesor cepat mulai dari 2200 - 2800"
   ]
  },
  {
   "cell_type": "code",
   "execution_count": 19,
   "metadata": {},
   "outputs": [
    {
     "name": "stderr",
     "output_type": "stream",
     "text": [
      "C:\\Users\\ASUS X441N\\Anaconda3\\lib\\site-packages\\matplotlib\\figure.py:418: UserWarning: matplotlib is currently using a non-GUI backend, so cannot show the figure\n",
      "  \"matplotlib is currently using a non-GUI backend, \"\n"
     ]
    },
    {
     "data": {
      "image/png": "[encoded data removed]",
      "text/plain": [
       "<matplotlib.figure.Figure at 0x232266c1048>"
      ]
     },
     "metadata": {},
     "output_type": "display_data"
    }
   ],
   "source": [
    "Kecepatan_Prosesor.view()"
   ]
  },
  {
   "cell_type": "markdown",
   "metadata": {},
   "source": [
    "# FUZZYFIKASI Kapasitas HDD"
   ]
  },
  {
   "cell_type": "markdown",
   "metadata": {},
   "source": [
    "Nilai linguistik pada variabel kapasitas HDD ada 3, yaitu :\n",
    " - kecil (misal : 120)\n",
    " - Sedang (misal : 320)\n",
    " - besar (misal : 500)"
   ]
  },
  {
   "cell_type": "code",
   "execution_count": 20,
   "metadata": {},
   "outputs": [],
   "source": [
    "Kapasitas_HDD['kecil'] = fuzz.trapmf(Kapasitas_HDD.universe,[0,0,120,320])\n",
    "Kapasitas_HDD['sedang'] = fuzz.trimf(Kapasitas_HDD.universe,[120,320,500])\n",
    "Kapasitas_HDD['besar'] = fuzz.trapmf(Kapasitas_HDD.universe,[320,500,600,600])"
   ]
  },
  {
   "cell_type": "markdown",
   "metadata": {},
   "source": [
    "### PLOTTING MEMBERSHIP FUNCTION Kecepatan Prosesor"
   ]
  },
  {
   "cell_type": "markdown",
   "metadata": {},
   "source": [
    "##### Fungsi Keanggotaan Kecepatan Prosesor kecil"
   ]
  },
  {
   "cell_type": "code",
   "execution_count": 21,
   "metadata": {},
   "outputs": [
    {
     "data": {
      "text/plain": [
       "Text(0.5,1,'kapasitashdd kecil')"
      ]
     },
     "execution_count": 21,
     "metadata": {},
     "output_type": "execute_result"
    },
    {
     "data": {
      "image/png": "[encoded data removed]",
      "text/plain": [
       "<matplotlib.figure.Figure at 0x23226711da0>"
      ]
     },
     "metadata": {},
     "output_type": "display_data"
    }
   ],
   "source": [
    "Kapasitashdd_kecil = fuzz.trapmf(Kapasitashdd_X,[0,0,120,320])\n",
    "fig, (ax0) = plt.subplots(nrows=1,figsize=(6,6))\n",
    "ax0.plot(Kapasitashdd_X,Kapasitashdd_kecil,'blue')\n",
    "ax0.set_title('kapasitashdd kecil')"
   ]
  },
  {
   "cell_type": "markdown",
   "metadata": {},
   "source": [
    "##### Fungsi Keanggotaan Kecepatan Prosesor sedang"
   ]
  },
  {
   "cell_type": "code",
   "execution_count": 22,
   "metadata": {},
   "outputs": [
    {
     "data": {
      "text/plain": [
       "Text(0.5,1,'kapasitashdd sedang')"
      ]
     },
     "execution_count": 22,
     "metadata": {},
     "output_type": "execute_result"
    },
    {
     "data": {
      "image/png": "[encoded data removed]",
      "text/plain": [
       "<matplotlib.figure.Figure at 0x2322690f860>"
      ]
     },
     "metadata": {},
     "output_type": "display_data"
    }
   ],
   "source": [
    "Kapasitashdd_sedang = fuzz.trimf(Kapasitashdd_X,[120,320,500])\n",
    "fig, (ax0) = plt.subplots(nrows=1,figsize=(6,6))\n",
    "ax0.plot(Kapasitashdd_X,Kapasitashdd_sedang,'orange')\n",
    "ax0.set_title('kapasitashdd sedang')"
   ]
  },
  {
   "cell_type": "markdown",
   "metadata": {},
   "source": [
    "##### Fungsi Keanggotaan Kecepatan Prosesor besar"
   ]
  },
  {
   "cell_type": "code",
   "execution_count": 23,
   "metadata": {},
   "outputs": [
    {
     "data": {
      "text/plain": [
       "Text(0.5,1,'kapasitashdd besar ')"
      ]
     },
     "execution_count": 23,
     "metadata": {},
     "output_type": "execute_result"
    },
    {
     "data": {
      "image/png": "[encoded data removed]",
      "text/plain": [
       "<matplotlib.figure.Figure at 0x23226940a58>"
      ]
     },
     "metadata": {},
     "output_type": "display_data"
    }
   ],
   "source": [
    "Kapasitashdd_besar = fuzz.trapmf(Kapasitashdd_X,[320,500,600,600])\n",
    "fig, (ax0) = plt.subplots(nrows=1,figsize=(6,6))\n",
    "ax0.plot(Kapasitashdd_X,Kapasitashdd_besar,'green')\n",
    "ax0.set_title('kapasitashdd besar ')"
   ]
  },
  {
   "cell_type": "markdown",
   "metadata": {},
   "source": [
    "##### Plotting keseluruhan dari kecil,sedang,dan besar Kapasitas HDD"
   ]
  },
  {
   "cell_type": "markdown",
   "metadata": {},
   "source": [
    "\\begin{equation}\n",
    "  KapasitasHDD['kecil'] = \\mu kecil(x)=\\begin{cases}\n",
    "    1, & \\text{$0\\leq x\\leq120$}.\\\\\n",
    "    (320 - x)/(320 - 120) , & \\text{$120 \\leq x \\leq 320$}.\\\\\n",
    "    0, & \\text{$x\\geq 320\\ $ }.\n",
    "  \\end{cases}\n",
    "  \\\\\n",
    "  KapasitasHDD['sedang'] = \\mu sedang(x)=\\begin{cases}\n",
    "    0, & \\text{$x\\leq 120$ atau $x\\geq500$}.  \\\\\n",
    "    (x - 120)/(320 - 120) , & \\text{$120 \\leq x \\leq 320$}.\\\\\n",
    "    (500 - x)/(500 - 320) , & \\text{$320 \\leq x \\leq 500$}.\\\\\n",
    "  \\end{cases}\n",
    "  \\\\\n",
    "  KapasitasHDD['besar'] = \\mu besar(x)=\\begin{cases}\n",
    "    0, & \\text{$x\\leq320$}.\\\\\n",
    "    (x - 320)/(500 - 320) , & \\text{$320 \\leq x \\leq 500$}.\\\\\n",
    "    1, & \\text{$x\\geq 500 $ }.\n",
    "  \\end{cases}\n",
    "\\end{equation}"
   ]
  },
  {
   "cell_type": "markdown",
   "metadata": {},
   "source": [
    "Penjelasan dari Grafik:\n",
    "\n",
    "- pada range biru kapasitas HDD kecil mulai dari 120 - 320\n",
    "\n",
    "- pada range orange kapasitas HDD sedang mulai dari 120 - 500\n",
    "\n",
    "- pada range hijau kecepatan prosesor cepat mulai dari 320 - 600"
   ]
  },
  {
   "cell_type": "code",
   "execution_count": 24,
   "metadata": {
    "scrolled": true
   },
   "outputs": [
    {
     "name": "stderr",
     "output_type": "stream",
     "text": [
      "C:\\Users\\ASUS X441N\\Anaconda3\\lib\\site-packages\\matplotlib\\figure.py:418: UserWarning: matplotlib is currently using a non-GUI backend, so cannot show the figure\n",
      "  \"matplotlib is currently using a non-GUI backend, \"\n"
     ]
    },
    {
     "data": {
      "image/png": "[encoded data removed]",
      "text/plain": [
       "<matplotlib.figure.Figure at 0x232268774e0>"
      ]
     },
     "metadata": {},
     "output_type": "display_data"
    }
   ],
   "source": [
    "Kapasitas_HDD.view()"
   ]
  },
  {
   "cell_type": "markdown",
   "metadata": {},
   "source": [
    "### Plotting Fungsi Keanggotaan Harga"
   ]
  },
  {
   "cell_type": "markdown",
   "metadata": {},
   "source": [
    "Nilai linguistik pada variabel Harga ada 3, yaitu :\n",
    " - murah (misal : 4000)\n",
    " - Sedang (misal : 7000)\n",
    " - mahal (misal : 10000)\n",
    " \n",
    "    note ; \n",
    "           4000  = Rp 4.000.000\n",
    "           7000  = Rp 7.000.000\n",
    "           10000 = Rp 10.000.000\n",
    "           15000 = Rp 15.000.000"
   ]
  },
  {
   "cell_type": "code",
   "execution_count": 25,
   "metadata": {},
   "outputs": [],
   "source": [
    "Harga['murah'] = fuzz.trapmf(Harga.universe,[0,0,4000,7000])\n",
    "Harga['sedang'] = fuzz.trimf(Harga.universe,[4000,7000,10000])\n",
    "Harga['mahal'] = fuzz.trapmf(Harga.universe,[7000,10000,15000,15000])"
   ]
  },
  {
   "cell_type": "markdown",
   "metadata": {},
   "source": [
    "##### fungsi keanggotaan Harga Murah"
   ]
  },
  {
   "cell_type": "markdown",
   "metadata": {},
   "source": [
    "\\begin{equation}\n",
    "  Harga['murah'] = \\mu murah(x)=\\begin{cases}\n",
    "    1, & \\text{$0\\leq x\\leq4000$}.\\\\\n",
    "    (7000 - x)/(7000 - 4000) , & \\text{$4000 \\leq x \\leq 7000$}.\\\\\n",
    "    0, & \\text{$x\\geq 7000\\ $ }.\n",
    "  \\end{cases}\n",
    "  \\end{equation}"
   ]
  },
  {
   "cell_type": "code",
   "execution_count": 26,
   "metadata": {},
   "outputs": [
    {
     "data": {
      "text/plain": [
       "Text(0.5,1,'Harga murah ')"
      ]
     },
     "execution_count": 26,
     "metadata": {},
     "output_type": "execute_result"
    },
    {
     "data": {
      "image/png": "[encoded data removed]",
      "text/plain": [
       "<matplotlib.figure.Figure at 0x232269f9ef0>"
      ]
     },
     "metadata": {},
     "output_type": "display_data"
    }
   ],
   "source": [
    "harga_murah = fuzz.trapmf(harga_x,[0,0,4000,7000])\n",
    "fig, (ax0) = plt.subplots(nrows=1,figsize=(6,6))\n",
    "ax0.plot(harga_x,harga_murah,'blue')\n",
    "ax0.set_title('Harga murah ')"
   ]
  },
  {
   "cell_type": "markdown",
   "metadata": {},
   "source": [
    "##### Fungsi Keanggotaan Harga Sedang"
   ]
  },
  {
   "cell_type": "markdown",
   "metadata": {},
   "source": [
    "\\begin{equation}\n",
    "Harga['sedang'] = \\mu sedang(x)=\\begin{cases}\n",
    "    0, & \\text{$x\\leq 4000$ atau $x\\geq10000$}.  \\\\\n",
    "    (x - 4000)/(7000 - 4000) , & \\text{$4000 \\leq x \\leq 7000$}.\\\\\n",
    "    (10000 - x)/(10000 - 7000) , & \\text{$7000 \\leq x \\leq 10000$}.\\\\\n",
    "  \\end{cases}\n",
    "  \\end{equation}"
   ]
  },
  {
   "cell_type": "code",
   "execution_count": 27,
   "metadata": {},
   "outputs": [
    {
     "data": {
      "text/plain": [
       "Text(0.5,1,'Harga sedang ')"
      ]
     },
     "execution_count": 27,
     "metadata": {},
     "output_type": "execute_result"
    },
    {
     "data": {
      "image/png": "[encoded data removed]",
      "text/plain": [
       "<matplotlib.figure.Figure at 0x23226a80208>"
      ]
     },
     "metadata": {},
     "output_type": "display_data"
    }
   ],
   "source": [
    "harga_sedang = fuzz.trimf(harga_x,[4000,7000,10000])\n",
    "fig, (ax0) = plt.subplots(nrows=1,figsize=(6,6))\n",
    "ax0.plot(harga_x,harga_sedang,'orange')\n",
    "ax0.set_title('Harga sedang ')"
   ]
  },
  {
   "cell_type": "markdown",
   "metadata": {},
   "source": [
    "##### Fungsi Keanggotaan Mahal"
   ]
  },
  {
   "cell_type": "markdown",
   "metadata": {},
   "source": [
    "\\begin{equation}\n",
    "Harga['mahal'] = \\mu harga(x)=\\begin{cases}\n",
    "    0, & \\text{$x\\leq7000$}.\\\\\n",
    "    (x - 7000)/(10000 - 7000) , & \\text{$7000 \\leq x \\leq 10000$}.\\\\\n",
    "    1, & \\text{$x\\geq 10000 $ }.\n",
    "  \\end{cases}\n",
    "\\end{equation}"
   ]
  },
  {
   "cell_type": "code",
   "execution_count": 28,
   "metadata": {},
   "outputs": [
    {
     "data": {
      "text/plain": [
       "Text(0.5,1,'Harga mahal ')"
      ]
     },
     "execution_count": 28,
     "metadata": {},
     "output_type": "execute_result"
    },
    {
     "data": {
      "image/png": "[encoded data removed]",
      "text/plain": [
       "<matplotlib.figure.Figure at 0x23226b19f60>"
      ]
     },
     "metadata": {},
     "output_type": "display_data"
    }
   ],
   "source": [
    "harga_mahal = fuzz.trapmf(harga_x,[7000,10000,15000,15000])\n",
    "fig, (ax0) = plt.subplots(nrows=1,figsize=(6,6))\n",
    "ax0.plot(harga_x,harga_mahal,'green')\n",
    "ax0.set_title('Harga mahal ')"
   ]
  },
  {
   "cell_type": "markdown",
   "metadata": {},
   "source": [
    "##### Plotting Keseluruhan dari Murah, Sedang, dan Mahal HARGA"
   ]
  },
  {
   "cell_type": "markdown",
   "metadata": {},
   "source": [
    "\\begin{equation}\n",
    "  Harga['murah'] = \\mu murah(x)=\\begin{cases}\n",
    "    1, & \\text{$0\\leq x\\leq4000$}.\\\\\n",
    "    (7000 - x)/(7000 - 4000) , & \\text{$4000 \\leq x \\leq 7000$}.\\\\\n",
    "    0, & \\text{$x\\geq 7000\\ $ }.\n",
    "  \\end{cases}\n",
    "  \\\\\n",
    "  Harga['sedang'] = \\mu sedang(x)=\\begin{cases}\n",
    "    0, & \\text{$x\\leq 4000$ atau $x\\geq10000$}.  \\\\\n",
    "    (x - 4000)/(7000 - 4000) , & \\text{$4000 \\leq x \\leq 7000$}.\\\\\n",
    "    (10000 - x)/(10000 - 7000) , & \\text{$7000 \\leq x \\leq 10000$}.\\\\\n",
    "  \\end{cases}\n",
    "  \\\\\n",
    "  Harga['mahal'] = \\mu harga(x)=\\begin{cases}\n",
    "    0, & \\text{$x\\leq7000$}.\\\\\n",
    "    (x - 7000)/(10000 - 7000) , & \\text{$7000 \\leq x \\leq 10000$}.\\\\\n",
    "    1, & \\text{$x\\geq 10000 $ }.\n",
    "  \\end{cases}\n",
    "\\end{equation}"
   ]
  },
  {
   "cell_type": "markdown",
   "metadata": {},
   "source": [
    "Penjelasan dari Grafik:\n",
    "\n",
    "- pada range biru Harga Murah mulai dari 4000 - 7000\n",
    "\n",
    "- pada range orange Harga sedang mulai dari 7000 - 10000\n",
    "\n",
    "- pada range hijau Harga mahal mulai dari 10000 - 15000"
   ]
  },
  {
   "cell_type": "code",
   "execution_count": 29,
   "metadata": {
    "scrolled": true
   },
   "outputs": [
    {
     "name": "stderr",
     "output_type": "stream",
     "text": [
      "C:\\Users\\ASUS X441N\\Anaconda3\\lib\\site-packages\\matplotlib\\figure.py:418: UserWarning: matplotlib is currently using a non-GUI backend, so cannot show the figure\n",
      "  \"matplotlib is currently using a non-GUI backend, \"\n"
     ]
    },
    {
     "data": {
      "image/png": "[encoded data removed]",
      "text/plain": [
       "<matplotlib.figure.Figure at 0x23226a62358>"
      ]
     },
     "metadata": {},
     "output_type": "display_data"
    }
   ],
   "source": [
    "Harga.view()"
   ]
  },
  {
   "cell_type": "markdown",
   "metadata": {},
   "source": [
    "# Inferencing"
   ]
  },
  {
   "cell_type": "markdown",
   "metadata": {},
   "source": [
    "Pada tahap inferencing, dengan membuat aturan-aturan fuzzy yang dinyatakan dalam bentuk IF (jika)  .... THEN (maka)  ...."
   ]
  },
  {
   "cell_type": "markdown",
   "metadata": {},
   "source": [
    "Pada sistem ini berdasarkan jumlah fuzzifikasi dari variabel Kapasitas RAM yang berjumlah 3, variabel Kecepatan Prosesor yang berjumlah 3 dan fuzzifikasi dari variabel Kapasitas HDD yang berjumlah 3, maka rule yang dibuat berjumlah 3 pangkat 3  (3 x 3 x 3 = 27 rule)"
   ]
  },
  {
   "cell_type": "markdown",
   "metadata": {},
   "source": [
    " 1.IF KapasitasHDD kecil,KecepataProsesor pelan dan KapasitasRam kecil THEN Harga murah\n",
    " \n",
    " 2.IF KapasitasHDD kecil,KecepatanProsesor sedang dan KapasitasRam kecil THEN Harga murah\n",
    " \n",
    " 3.IF KapasitasHDD kecil,KecepatanProsesor cepat dan KapasitasRam kecil THEN Harga murah\n",
    " \n",
    " 4.IF KapasitasHDD kecil,KecepatanProsesor pelan dan KapasitasRam sedang THEN Harga murah\n",
    " \n",
    " 5.IF KapasitasHDD kecil,KecepatanProsesor sedang dan KapasitasRam sedang THEN Harga murah\n",
    " \n",
    " 6.IF KapasitasHDD kecil,KecepatanProsesor cepat dan KapasitasRam sedang THEN Harga sedang\n",
    " \n",
    " 7.IF KapasitasHDD kecil,KecepatanProsesor pelan dan KapasitasRam besar THEN Harga murah\n",
    " \n",
    " 8.IF KapasitasHDD kecil,KecepatanProsesor sedang dan KapasitasRam besar THEN Harga sedang\n",
    " \n",
    " 9.IF KapasitasHDD kecil,KecepatanProsesor cepat dan KapasitasRam besar THEN Harga sedang\n",
    " \n",
    " 10.IF KapasitasHDD sedang,KecepatanProsesor pelan dan KapasitasRam kecil THEN Harga murah\n",
    " \n",
    " 11.IF KapasitasHDD sedang,KecepatanProsesor sedang dan KapasitasRam kecil THEN Harga murah\n",
    " \n",
    " 12.IF KapasitasHDD sedang,KecepatanProsesor cepat dan KapasitasRam kecil THEN Harga sedang\n",
    " \n",
    " 13.IF KapasitasHDD sedang,KecepatanProsesor pelan dan KapasitasRam sedang THEN Harga murah\n",
    " \n",
    " 14.IF KapasitasHDD sedang,KecepatanProsesor sedang dan KapasitasRam sedang THEN Harga sedang\n",
    " \n",
    " 15.IF KapasitasHDD sedang,KecepatanProsesor cepat dan KapasitasRam sedang THEN Harga mahal\n",
    " \n",
    " 16.IF KapasitasHDD sedang,KecepatanProsesor pelan dan KapasitasRam cepat THEN Harga sedang\n",
    " \n",
    " 17.IF KapasitasHDD sedang,KecepatanProsesor sedang dan KapasitasRam cepat THEN Harga mahal\n",
    " \n",
    " 18.IF KapasitasHDD sedang,KecepatanProsesor cepat dan KapasitasRam cepat THEN Harga mahal\n",
    " \n",
    " 19.IF KapasitasHDD besar,KecepatanProsesor pelan dan KapasitasRam kecil THEN Harga murah\n",
    " \n",
    " 20.IF KapasitasHDD besar,KecepatanProsesor sedang dan KapasitasRam kecil THEN Harga sedang\n",
    " \n",
    " 21.IF KapasitasHDD besar,KecepatanProsesor cepat dan KapasitasRam kecil THEN Harga sedang\n",
    " \n",
    " 22.IF KapasitasHDD besar,KecepatanProsesor pelan dan KapasitasRam sedang THEN Harga sedang\n",
    " \n",
    " 23.IF KapasitasHDD besar,KecepatanProsesor sedang dan KapasitasRam sedang THEN Harga mahal\n",
    " \n",
    " 24.IF KapasitasHDD besar,KecepatanProsesor cepat dan KapasitasRam sedang THEN Harga mahal\n",
    " \n",
    " 25.IF KapasitasHDD besar,KecepatanProsesor pelan dan KapasitasRam besar THEN Harga sedang\n",
    " \n",
    " 26.IF KapasitasHDD besar,KecepatanProsesor sedang dan KapasitasRam besar THEN Harga mahal\n",
    " \n",
    " 27.IF KapasitasHDD besar,KecepatanProsesor cepat dan KapasitasRam besar THEN Harga mahal\n"
   ]
  },
  {
   "cell_type": "code",
   "execution_count": 30,
   "metadata": {},
   "outputs": [],
   "source": [
    "rule1 = ctrl.Rule(Kapasitas_RAM['kecil'] & Kecepatan_Prosesor['pelan'] & Kapasitas_HDD['kecil'], Harga['murah'])\n",
    "rule2 = ctrl.Rule(Kapasitas_RAM['kecil'] & Kecepatan_Prosesor['sedang'] & Kapasitas_HDD['kecil'], Harga['murah'])\n",
    "rule3 = ctrl.Rule(Kapasitas_RAM['kecil'] & Kecepatan_Prosesor['cepat'] & Kapasitas_HDD['kecil'], Harga['murah'])\n",
    "rule4 = ctrl.Rule(Kapasitas_RAM['sedang'] & Kecepatan_Prosesor['pelan'] & Kapasitas_HDD['kecil'], Harga['murah'])\n",
    "rule5 = ctrl.Rule(Kapasitas_RAM['sedang'] & Kecepatan_Prosesor['sedang'] & Kapasitas_HDD['kecil'], Harga['murah'])\n",
    "rule6 = ctrl.Rule(Kapasitas_RAM['sedang'] & Kecepatan_Prosesor['cepat'] & Kapasitas_HDD['kecil'], Harga['sedang'])\n",
    "rule7 = ctrl.Rule(Kapasitas_RAM['besar'] & Kecepatan_Prosesor['pelan'] & Kapasitas_HDD['kecil'], Harga['murah'])\n",
    "rule8 = ctrl.Rule(Kapasitas_RAM['besar'] & Kecepatan_Prosesor['sedang'] & Kapasitas_HDD['kecil'], Harga['sedang'])\n",
    "rule9 = ctrl.Rule(Kapasitas_RAM['besar'] & Kecepatan_Prosesor['cepat'] & Kapasitas_HDD['kecil'], Harga['sedang'])\n",
    "rule10 = ctrl.Rule(Kapasitas_RAM['kecil'] & Kecepatan_Prosesor['pelan'] & Kapasitas_HDD['sedang'], Harga['murah'])\n",
    "rule11 = ctrl.Rule(Kapasitas_RAM['kecil'] & Kecepatan_Prosesor['sedang'] & Kapasitas_HDD['sedang'], Harga['murah'])\n",
    "rule12 = ctrl.Rule(Kapasitas_RAM['kecil'] & Kecepatan_Prosesor['cepat'] & Kapasitas_HDD['sedang'], Harga['sedang'])\n",
    "rule13 = ctrl.Rule(Kapasitas_RAM['sedang'] & Kecepatan_Prosesor['pelan'] & Kapasitas_HDD['sedang'], Harga['murah'])\n",
    "rule14 = ctrl.Rule(Kapasitas_RAM['sedang'] & Kecepatan_Prosesor['sedang'] & Kapasitas_HDD['sedang'], Harga['sedang'])\n",
    "rule15 = ctrl.Rule(Kapasitas_RAM['sedang'] & Kecepatan_Prosesor['cepat'] & Kapasitas_HDD['sedang'], Harga['mahal'])\n",
    "rule16 = ctrl.Rule(Kapasitas_RAM['besar'] & Kecepatan_Prosesor['pelan'] & Kapasitas_HDD['sedang'], Harga['sedang'])\n",
    "rule17 = ctrl.Rule(Kapasitas_RAM['besar'] & Kecepatan_Prosesor['sedang'] & Kapasitas_HDD['sedang'], Harga['mahal'])\n",
    "rule18 = ctrl.Rule(Kapasitas_RAM['besar'] & Kecepatan_Prosesor['cepat'] & Kapasitas_HDD['sedang'], Harga['mahal'])\n",
    "rule19 = ctrl.Rule(Kapasitas_RAM['kecil'] & Kecepatan_Prosesor['pelan'] & Kapasitas_HDD['besar'], Harga['murah'])\n",
    "rule20 = ctrl.Rule(Kapasitas_RAM['kecil'] & Kecepatan_Prosesor['sedang'] & Kapasitas_HDD['besar'], Harga['sedang'])\n",
    "rule21 = ctrl.Rule(Kapasitas_RAM['kecil'] & Kecepatan_Prosesor['cepat'] & Kapasitas_HDD['besar'], Harga['sedang'])\n",
    "rule22 = ctrl.Rule(Kapasitas_RAM['sedang'] & Kecepatan_Prosesor['pelan'] & Kapasitas_HDD['besar'], Harga['sedang'])\n",
    "rule23 = ctrl.Rule(Kapasitas_RAM['sedang'] & Kecepatan_Prosesor['sedang'] & Kapasitas_HDD['besar'], Harga['mahal'])\n",
    "rule24 = ctrl.Rule(Kapasitas_RAM['sedang'] & Kecepatan_Prosesor['cepat'] & Kapasitas_HDD['besar'], Harga['mahal'])\n",
    "rule25 = ctrl.Rule(Kapasitas_RAM['besar'] & Kecepatan_Prosesor['pelan'] & Kapasitas_HDD['besar'], Harga['sedang'])\n",
    "rule26 = ctrl.Rule(Kapasitas_RAM['besar'] & Kecepatan_Prosesor['sedang'] & Kapasitas_HDD['besar'], Harga['mahal'])\n",
    "rule27 = ctrl.Rule(Kapasitas_RAM['besar'] & Kecepatan_Prosesor['cepat'] & Kapasitas_HDD['besar'], Harga['mahal'])"
   ]
  },
  {
   "cell_type": "markdown",
   "metadata": {},
   "source": [
    "# Rule Evaluation"
   ]
  },
  {
   "cell_type": "code",
   "execution_count": 31,
   "metadata": {},
   "outputs": [],
   "source": [
    "braking_ctrl = ctrl.ControlSystem(\n",
    "    [rule1, rule2, rule3, rule4, rule5, rule6, rule7, rule8, rule9,rule10, rule11, rule12, rule13, rule14, rule15, rule16, rule17, rule18,rule19, rule20, rule21, rule22, rule23, rule24, rule25, rule26, rule27])"
   ]
  },
  {
   "cell_type": "markdown",
   "metadata": {},
   "source": [
    "# Defuzzifikasi"
   ]
  },
  {
   "cell_type": "code",
   "execution_count": 47,
   "metadata": {},
   "outputs": [],
   "source": [
    "braking = ctrl.ControlSystemSimulation(braking_ctrl)\n",
    "\n",
    "braking.input['Kapasitas_RAM'] =2000\n",
    "braking.input['Kecepatan_prosesor'] = 2800\n",
    "braking.input['Kapasitas_HDD'] = 300\n",
    "\n",
    "braking.compute()"
   ]
  },
  {
   "cell_type": "code",
   "execution_count": 48,
   "metadata": {},
   "outputs": [
    {
     "name": "stdout",
     "output_type": "stream",
     "text": [
      "11217.043051796902\n"
     ]
    },
    {
     "name": "stderr",
     "output_type": "stream",
     "text": [
      "C:\\Users\\ASUS X441N\\Anaconda3\\lib\\site-packages\\matplotlib\\figure.py:418: UserWarning: matplotlib is currently using a non-GUI backend, so cannot show the figure\n",
      "  \"matplotlib is currently using a non-GUI backend, \"\n"
     ]
    },
    {
     "data": {
      "image/png": "[encoded data removed]",
      "text/plain": [
       "<matplotlib.figure.Figure at 0x23228ff8518>"
      ]
     },
     "metadata": {},
     "output_type": "display_data"
    }
   ],
   "source": [
    "print(braking.output['Harga'])\n",
    "\n",
    "Harga.view(sim=braking)\n",
    "\n",
    "plt.show()"
   ]
  },
  {
   "cell_type": "markdown",
   "metadata": {},
   "source": [
    "### Hitung Manual"
   ]
  },
  {
   "cell_type": "markdown",
   "metadata": {},
   "source": [
    "\\begin{equation}\n",
    "    Kapasitas RAM = 2000 \\\\\n",
    "    Masukkan\\,nilai\\,Kapasitas RAM\\,ke\\,dalam\\,masing-masing\\,fungsi\\,keanggotaan\\,KapasitasRAM\\\\\n",
    "  KapasitasRAM['kecil'] = \\mu kecil(x)=\\begin{cases}\n",
    "    1, & \\text{$0\\leq x\\leq1024$}.\\\\\n",
    "    (2048 - x)/(2048 - 1024) , & \\text{$1024 \\leq x \\leq 2048$}.\\checkmark\\\\\n",
    "    0, & \\text{$x\\geq 2048 $ }.\n",
    "  \\end{cases}\n",
    "  \\\\\n",
    "  KapasitasRAM['sedang'] = \\mu sedang(x)=\\begin{cases}\n",
    "    0, & \\text{$x\\leq 1024$ atau $x\\geq4096$}.  \\\\\n",
    "    (x - 1024)/(2048 - 1024) , & \\text{$1024 \\leq x \\leq 2048$}.\\checkmark\\\\\n",
    "    (4096 - x)/(4096 - 2048) , & \\text{$2048 \\leq x \\leq 4096$}.\\\\\n",
    "  \\end{cases}\n",
    "  \\\\\n",
    "  KapasitasRAM['besar'] = \\mu besar(x)=\\begin{cases}\n",
    "    0, & \\text{$x\\leq2048$}.\\checkmark\\\\\n",
    "    (x - 2048)/(4096 - 2048) , & \\text{$2048 \\leq x \\leq 4096$}.\\\\\n",
    "    1, & \\text{$x\\geq 4096 $ }.\n",
    "  \\end{cases}\n",
    "\\end{equation}"
   ]
  },
  {
   "cell_type": "markdown",
   "metadata": {},
   "source": [
    "\\begin{equation}\n",
    "    \\mu KapasitasRAMkecil(2000) = (2048−2000)/(2048−1024) \\\\\n",
    "    \\mu KapasitasRAMkecil(2000) = 48/1024 \\\\ \n",
    "    \\mu KapasitasRAMkecil(2000) = 0.5 \\\\\n",
    "    \\mu KapasitasRAMsedang(2000) = (2000−1024)/(2048−1024) \\\\\n",
    "    \\mu KapasitasRAMsedang(2000) = 976/1024 \\\\ \n",
    "    \\mu KapasitasRAMsedang(2000) = 0.95 \\\\\n",
    "\\end{equation}"
   ]
  },
  {
   "cell_type": "markdown",
   "metadata": {},
   "source": [
    "\\begin{equation}\n",
    "    Kecepatan Prosesor = 2800 \\\\\n",
    "    Masukkan\\,nilai\\,KecepatanProsesor\\,ke\\,dalam\\,masing-masing\\,fungsi\\,keanggotaan\\,KecepatanProsesor\\\\\n",
    "   Kecepatanprosesor['pelan'] = \\mu pelan(x)=\\begin{cases}\n",
    "    1, & \\text{$0\\leq x\\leq1800$}.\\\\\n",
    "    (2200 - x)/(2200 - 1800) , & \\text{$1800 \\leq x \\leq 2200$}.\\\\\n",
    "    0, & \\text{$x\\geq 2200 $ }\\checkmark\\\\\n",
    "  \\end{cases}\n",
    "  \\\\\n",
    "  Kecepatanprosesor['sedang'] = \\mu sedang(x)=\\begin{cases}\n",
    "    0, & \\text{$x\\leq 1800$ atau $x\\geq2600$}.  \\checkmark\\\\\n",
    "    (x - 1800)/(2200 - 1800) , & \\text{$1800 \\leq x \\leq 2200$}.\\\\\n",
    "    (2600 - x)/(2600 - 2200) , & \\text{$2200 \\leq x \\leq 2600$}.\\\\\n",
    "  \\end{cases}\n",
    "  \\\\\n",
    "  Kecepatanprosesor['cepat'] = \\mu cepat(x)=\\begin{cases}\n",
    "    0, & \\text{$x\\leq2200$}.\\\\\n",
    "    (x - 2200)/(2600 - 2200) , & \\text{$2200 \\leq x \\leq 2600$}.\\\\\n",
    "    1, & \\text{$x\\geq 2600 $ }.\\checkmark\\\\\n",
    "  \\end{cases}\n",
    "\\end{equation}"
   ]
  },
  {
   "cell_type": "markdown",
   "metadata": {},
   "source": [
    "\\begin{equation}\n",
    "    \\mu KecepatanProsesorcepat(2800) = 1 \\\\\n",
    "\\end{equation}"
   ]
  },
  {
   "cell_type": "markdown",
   "metadata": {},
   "source": [
    "\\begin{equation}\n",
    "    Kapasitas HDD = 300 \\\\\n",
    "    Masukkan\\,nilai\\,KapasitasHDD\\,ke\\,dalam\\,masing-masing\\,fungsi\\,keanggotaan\\,KapasitasHDD\\\\\n",
    "  KapasitasHDD['kecil'] = \\mu kecil(x)=\\begin{cases}\n",
    "    1, & \\text{$0\\leq x\\leq120$}.\\\\\n",
    "    (320 - x)/(320 - 120) , & \\text{$120 \\leq x \\leq 320$}.\\checkmark\\\\\n",
    "    0, & \\text{$x\\geq 320\\ $ }.\n",
    "  \\end{cases}\n",
    "  \\\\\n",
    "  KapasitasHDD['sedang'] = \\mu sedang(x)=\\begin{cases}\n",
    "    0, & \\text{$x\\leq 120$ atau $x\\geq500$}.  \\\\\n",
    "    (x - 120)/(320 - 120) , & \\text{$120 \\leq x \\leq 320$}.\\checkmark\\\\\n",
    "    (500 - x)/(500 - 320) , & \\text{$320 \\leq x \\leq 500$}.\\\\\n",
    "  \\end{cases}\n",
    "  \\\\\n",
    "  KapasitasHDD['besar'] = \\mu besar(x)=\\begin{cases}\n",
    "    0, & \\text{$x\\leq320$}.\\checkmark\\\\\n",
    "    (x - 320)/(500 - 320) , & \\text{$320 \\leq x \\leq 500$}.\\\\\n",
    "    1, & \\text{$x\\geq 500 $ }.\n",
    "  \\end{cases}\n",
    "\\end{equation}"
   ]
  },
  {
   "cell_type": "markdown",
   "metadata": {},
   "source": [
    "\\begin{equation}\n",
    "    \\mu KapasitasHDDkecil(300) = (320−300)/(320−120) \\\\\n",
    "    \\mu KapasitasHDDkecil(300) = 20/200 \\\\ \n",
    "    \\mu KapasitasHDDkecil(300) = 0.1 \\\\\n",
    "    \\mu KapasitasHDDsedang(300) = (300−120)/(320−120) \\\\\n",
    "    \\mu KapasitasHDDsedang(300) = 180/200 \\\\ \n",
    "    \\mu KapasitasHDDsedang(300) = 0.9 \\\\\n",
    "\\end{equation}"
   ]
  },
  {
   "cell_type": "markdown",
   "metadata": {},
   "source": [
    "Lalu kita cari nilai z untuk setiap aturan dengan menggunakan fungsi MIN karena menggunakan rule AND"
   ]
  },
  {
   "cell_type": "markdown",
   "metadata": {},
   "source": [
    "# Rule3"
   ]
  },
  {
   "cell_type": "markdown",
   "metadata": {},
   "source": [
    "IF KapasitasHDD kecil,KecepatanProsesor cepat dan KapasitasRam kecil THEN Harga murah \n",
    "\n",
    "$$ \\\\ \\alpha(predikat_3) = \\mu KapasitasHDDkecil \\cap \\mu KecepatanProsesorcepat \\cap \\mu KapasitasRamkecil $$\n",
    "$$\\alpha(predikat_3) = min (\\mu KapasitasHDD[300], \\mu KecepatanProsesorcepat[2800], \\mu KapasitasRamkecil[2000) $$\n",
    "$$ \\alpha(predikat_3) = min (0.1; 1; 0.04) $$\n",
    "$$ \\alpha(predikat_3) = 0.04 $$\n",
    "\n",
    "Lalu lihat himpunan Harga murah\n",
    "\\begin{equation}\n",
    "  Harga['murah'] = \\mu murah(x)=\\begin{cases}\n",
    "    1, & \\text{$0\\leq x\\leq4000$}.\\\\\n",
    "    (7000 - x)/(7000 - 4000) , & \\text{$4000 \\leq x \\leq 7000$}.\\\\\n",
    "    0, & \\text{$x\\geq 7000\\ $ }.\n",
    "  \\end{cases}\n",
    "  \\end{equation}\n",
    "  \n",
    "  masukan nilai keanggotaan \n",
    " $$(7000 - x)/(7000 - 4000) = 0.04 $$\n",
    " $$(7000 - x) = 0.04 \\times 3000 $$\n",
    " $$ 7000 - 120 = x $$\n",
    " $$ x =  6880$$\n",
    " \n",
    "Nilai keanggotaan yang memenuhi adalah 6880.\n",
    "Maka nilai $ Z_3 = 6880 $"
   ]
  },
  {
   "cell_type": "markdown",
   "metadata": {},
   "source": [
    "## Rule6"
   ]
  },
  {
   "cell_type": "markdown",
   "metadata": {},
   "source": [
    "IF KapasitasHDD kecil,KecepatanProsesor cepat dan KapasitasRam sedang THEN Harga sedang \n",
    "\n",
    "$$ \\\\ \\alpha(predikat_6) = \\mu KapasitasHDDkecil \\cap \\mu KecepatanProsesorcepat \\cap \\mu KapasitasRamsedang $$\n",
    "$$\\alpha(predikat_6) = min (\\mu KapasitasHDDkecil[300], \\mu KecepatanProsesorcepat[2800], \\mu KapasitasRamsedang[2000) $$\n",
    "$$ \\alpha(predikat_6) = min (0.1; 1; 0.95) $$\n",
    "$$ \\alpha(predikat_6) = 0.1 $$\n",
    "\n",
    "Lalu lihat himpunan Harga Sedang\n",
    "\\begin{equation}\n",
    " Harga['sedang'] = \\mu sedang(x)=\\begin{cases}\n",
    "    0, & \\text{$x\\leq 4000$ atau $x\\geq10000$}.  \\\\\n",
    "    (x - 4000)/(7000 - 4000) , & \\text{$4000 \\leq x \\leq 7000$}.\\\\\n",
    "    (10000 - x)/(10000 - 7000) , & \\text{$7000 \\leq x \\leq 10000$}.\\\\\n",
    "  \\end{cases}\n",
    "\\end{equation}\n",
    "\n",
    " masukan nilai keanggotaan \n",
    " $$(x - 4000)/(7000 - 4000) = 0.1 $$\n",
    " $$(x - 4000) = 0.1 \\times 3000 $$\n",
    " $$ x - 4000 = 300 $$\n",
    " $$ x = 300 + 4000$$\n",
    " $$ x =  4300 $$\n",
    " \n",
    "Nilai keanggotaan yang memenuhi adalah 4300\n",
    "Maka nilai $ Z_6 = 4300 $"
   ]
  },
  {
   "cell_type": "markdown",
   "metadata": {},
   "source": [
    "## Rule12"
   ]
  },
  {
   "cell_type": "markdown",
   "metadata": {},
   "source": [
    "IF KapasitasHDD sedang,KecepatanProsesor cepat dan KapasitasRam kecil THEN Harga sedang\n",
    "\n",
    "$$ \\\\ \\alpha(predikat_12) = \\mu KapasitasHDDsedang \\cap \\mu KecepatanProsesorcepat \\cap \\mu KapasitasRamkecil $$\n",
    "$$\\alpha(predikat_12) = min (\\mu KapasitasHDDseang[300], \\mu KecepatanProsesorcepat[2800], \\mu KapasitasRamkecil[2000) $$\n",
    "$$ \\alpha(predikat_12) = min (0.9; 1; 0.04) $$\n",
    "$$ \\alpha(predikat_12) = 0.04 $$\n",
    "\n",
    "Lalu lihat himpunan Harga Sedang\n",
    "\\begin{equation}\n",
    " Harga['sedang'] = \\mu sedang(x)=\\begin{cases}\n",
    "    0, & \\text{$x\\leq 4000$ atau $x\\geq10000$}.  \\\\\n",
    "    (x - 4000)/(7000 - 4000) , & \\text{$4000 \\leq x \\leq 7000$}.\\\\\n",
    "    (10000 - x)/(10000 - 7000) , & \\text{$7000 \\leq x \\leq 10000$}.\\\\\n",
    "  \\end{cases}\n",
    "\\end{equation}\n",
    "\n",
    " masukan nilai keanggotaan \n",
    " $$(x - 4000)/(7000 - 4000) = 0.04 $$\n",
    " $$(x - 4000) = 0.04 \\times 3000 $$\n",
    " $$ x - 4000 = 120 $$\n",
    " $$ x = 120 + 4000$$\n",
    " $$ x =  4120 $$\n",
    " \n",
    "Nilai keanggotaan yang memenuhi adalah 4120\n",
    "Maka nilai $ Z_12 = 4120 $"
   ]
  },
  {
   "cell_type": "markdown",
   "metadata": {},
   "source": [
    "## Rule15"
   ]
  },
  {
   "cell_type": "markdown",
   "metadata": {},
   "source": [
    "IF KapasitasHDD sedang,KecepatanProsesor cepat dan KapasitasRam sedang THEN Harga mahal\n",
    "\n",
    "$$ \\\\ \\alpha(predikat_15) = \\mu KapasitasHDDsedang \\cap \\mu KecepatanProsesorcepat \\cap \\mu KapasitasRamsedang $$\n",
    "$$\\alpha(predikat_15) = min (\\mu KapasitasHDDseang[300], \\mu KecepatanProsesorcepat[2800], \\mu KapasitasRamksedang[2000) $$\n",
    "$$ \\alpha(predikat_15) = min (0.9; 1; 0.95) $$\n",
    "$$ \\alpha(predikat_15) = 0.9 $$\n",
    "\n",
    "Lalu lihat himpunan Harga Sedang\n",
    "\\begin{equation}\n",
    "  Harga['mahal'] = \\mu harga(x)=\\begin{cases}\n",
    "    0, & \\text{$x\\leq7000$}.\\\\\n",
    "    (x - 7000)/(10000 - 7000) , & \\text{$7000 \\leq x \\leq 10000$}.\\\\\n",
    "    1, & \\text{$x\\geq 10000 $ }.\n",
    "  \\end{cases}\n",
    "\\end{equation}}\n",
    "\n",
    " masukan nilai keanggotaan \n",
    " $$(x - 7000)/(7000 - 4000) = 0.9 $$\n",
    " $$(x - 7000) = 0.9 \\times 3000 $$\n",
    " $$ x - 7000 = 2700 $$\n",
    " $$ x = 2700 + 7000$$\n",
    " $$ x =  9700 $$\n",
    " \n",
    "Nilai keanggotaan yang memenuhi adalah 9700\n",
    "Maka nilai $ Z_15 = 9700 $"
   ]
  },
  {
   "cell_type": "markdown",
   "metadata": {},
   "source": [
    "#### Note : Untuk rule1, rule2, rule4, rule5, rule7, rule8, rule9, rule10, rule11, rule13, rule14,rule16, rule17, rule18, rule19, rule20, rule21,rule22, rule23, rule24, rule25, rule26, rule27 Tidak dihitung karena nilai PREDIC pada rule tersebut bernilai 0"
   ]
  },
  {
   "cell_type": "markdown",
   "metadata": {},
   "source": [
    "mencari nilai Z"
   ]
  },
  {
   "cell_type": "markdown",
   "metadata": {},
   "source": [
    "Z =$$ \\frac{\\alpha predikat_3 \\times Z_3 +\n",
    "\\alpha predikat_6 \\times Z_6 +\n",
    "\\alpha predikat_12 \\times Z_12 +\n",
    "\\alpha predikat_15 \\times Z_15 }\n",
    "{\\alpha predikat_3 + \\alpha predikat_6 +\n",
    "\\alpha predikat_12 + \\alpha predikat_15 }$$"
   ]
  },
  {
   "cell_type": "markdown",
   "metadata": {},
   "source": [
    " $$Z = \\frac{0.04 \\times 6880 + 0.1 \\times 4300 + 0.04 \\times 4120 + 0.9 \\times 9700}{0.04 + 0.1 + 0.04 + 0.9} $$\n",
    " \n",
    " $$ Z = \\frac{9600}{1.08} $$\n",
    " $$ Z = 8888.88\\, $$"
   ]
  },
  {
   "cell_type": "markdown",
   "metadata": {},
   "source": [
    "Jadi Hasil Output pada code pyhton bernilai 11217.04 sedangkan nilai dari perhitungan manual yaitu bernilai 8888.88 terdapat selisih sekitar 2328,16 atau dijadikan persen menjadi 20%"
   ]
  },
  {
   "cell_type": "markdown",
   "metadata": {},
   "source": [
    "# Referensi"
   ]
  },
  {
   "cell_type": "markdown",
   "metadata": {},
   "source": [
    "http://e-journals.unmul.ac.id/index.php/JIM/article/view/80/pdf"
   ]
  },
  {
   "cell_type": "code",
   "execution_count": null,
   "metadata": {},
   "outputs": [],
   "source": []
  }
 ],
 "metadata": {
  "kernelspec": {
   "display_name": "Python 3",
   "language": "python",
   "name": "python3"
  },
  "language_info": {
   "codemirror_mode": {
    "name": "ipython",
    "version": 3
   },
   "file_extension": ".py",
   "mimetype": "text/x-python",
   "name": "python",
   "nbconvert_exporter": "python",
   "pygments_lexer": "ipython3",
   "version": "3.6.4"
  }
 },
 "nbformat": 4,
 "nbformat_minor": 2
}
