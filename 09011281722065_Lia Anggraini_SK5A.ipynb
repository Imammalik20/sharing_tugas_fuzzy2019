{
 "cells": [
  {
   "cell_type": "markdown",
   "metadata": {},
   "source": [
    "<div class=\"alert alert-info\">\n",
    "<h3><center>\"BREAST CANCER COIMBRA\"<center> </h3>\n",
    "<ul>\n",
    "<li style=\"text-align: left;\">\n",
    "<h3><strong>NAMA &emsp; &emsp;&emsp; &emsp; &emsp; &emsp;: Lia Anggraini</strong></h3>\n",
    "</li>\n",
    "<li style=\"text-align: left;\">\n",
    "<h3><strong>NIM &emsp;&emsp;&emsp;&emsp;&emsp;&emsp;&emsp;&emsp; : 09011281722065</strong></h3>\n",
    "</li>\n",
    "<li style=\"text-align: left;\">\n",
    "<h3><strong>KELAS &emsp;&emsp;&emsp;&emsp;&emsp;&emsp;&ensp; : SK 5A</strong></h3>\n",
    "</li>\n",
    "<li style=\"text-align: left;\">\n",
    "<h3><strong>JURUSAN &emsp;&emsp;&emsp;&emsp;&emsp;&nbsp;: SISTEM KOMPUTER</strong></h3>\n",
    "</li>\n",
    "<li style=\"text-align: left;\">\n",
    "<h3><strong>MATA KULIAH &emsp;&emsp;&emsp; : KECERDASAN BUATAN</strong></h3>\n",
    "</li>\n",
    "<li style=\"text-align: left;\">\n",
    "<h3><strong>DOSEN PENGAMPUH: Prof. Dr. Ir. Siti Nurmaini, M.T.</strong></h3>\n",
    "</li>\n",
    "</ul>\n",
    "</div>"
   ]
  },
  {
   "cell_type": "code",
   "execution_count": 51,
   "metadata": {},
   "outputs": [],
   "source": [
    "#main library\n",
    "import pandas as pd\n",
    "import matplotlib.pyplot as plt\n",
    "import seaborn as sns\n",
    "sns.set_style(\"whitegrid\")\n",
    "import numpy as np\n",
    "\n",
    "from keras.optimizers import Adam\n",
    "#sklearn library\n",
    "from sklearn.model_selection import train_test_split\n",
    "from sklearn.preprocessing import normalize\n",
    "from sklearn.preprocessing import LabelEncoder\n",
    "from sklearn.metrics import confusion_matrix,accuracy_score,precision_score,recall_score,f1_score,matthews_corrcoef,classification_report,roc_curve\n",
    "from sklearn.preprocessing import StandardScaler\n",
    "from sklearn.preprocessing import MinMaxScaler\n",
    "from keras.models import Sequential\n",
    "from keras.layers import Dense\n",
    "from keras.utils.np_utils import to_categorical\n",
    "from keras.layers import Dense, Dropout\n",
    "from keras.activations import relu\n",
    "from sklearn.metrics import confusion_matrix\n",
    "%matplotlib inline\n",
    "\n",
    "# Code for hiding seaborn warnings\n",
    "import warnings\n",
    "warnings.filterwarnings(\"ignore\")"
   ]
  },
  {
   "cell_type": "markdown",
   "metadata": {},
   "source": [
    "<div class=\"alert alert-danger\">\n",
    " <font size=\"3\"><p align=\"justify\">\n",
    "    <strong>Berikut adalah daftar Modul yang digunakan :</strong>\n",
    "<ul>\n",
    "<li style=\"text-align: left;\">\n",
    "    <strong>Numpy =</strong> Modul ini berfungsi untuk melakukan beberapa fungsi matematika seperti array, dan matriks. Pada program ini numpy digunakan untuk generate array untuk membuat grafik confusion matriks\n",
    "</li> \n",
    "</ul>\n",
    "\n",
    "<ul>\n",
    "<li style=\"text-align: left;\">\n",
    "<strong>Pandas =</strong> Modul ini akan digunakan untuk Load Dataset, karena pandas lebih baik untuk load data dengan skala besar\n",
    "</li>\n",
    "</ul>\n",
    "  \n",
    "<ul>\n",
    "<li style=\"text-align: left;\">\n",
    "<strong>Matplotlib =</strong> Modul ini digunakan untuk mencetak grafik pada beberapa event seperti grafik distribusi variabel, grafik confusion matrix, grafik akurasi, dll.\n",
    "</li>\n",
    "</ul>\n",
    "\n",
    "<ul>\n",
    "<li style=\"text-align: left;\">\n",
    "<strong>Seaborn =</strong> Modul ini digunakan untuk plot grafik distribusi nilai dari Class (output), modul ini berbasis matplotlib.\n",
    "</li>\n",
    "</ul>\n",
    "\n",
    "<ul>\n",
    "<li style=\"text-align: left;\">\n",
    "<strong>Sklearn =</strong> Modul ini adalah salah satu modul utama yang digunakan untuk mengolah data Machine Learning seperti preprocessing, dan lainnya\n",
    "</li>\n",
    "</ul>\n",
    "\n",
    "<ul>\n",
    "<li style=\"text-align: left;\">\n",
    "<strong>Keras =</strong> Modul ini digunakan untuk membuat, menambah, dan mengevaluasi model neural network\n",
    "</li>\n",
    "</ul>\n",
    "\n",
    "<ul>\n",
    "<li style=\"text-align: left;\">\n",
    "<strong>Warning =</strong> Modul ini dikeluarkan dalam situasi di mana berguna untuk mengingatkan pengguna tentang beberapa kondisi dalam suatu program, di mana kondisi tersebut tidak menjamin menimbulkan pengecualian dan menghentikan program. Filter warning yang digunakan adalah action \"Ignore\".\n",
    "</li>\n",
    "</ul>\n",
    "\n",
    "\n",
    "<div>"
   ]
  },
  {
   "cell_type": "markdown",
   "metadata": {},
   "source": [
    "<div class=\"alert alert-info\">\n",
    "<h2> <center> Load Data dari Dataset Breast Cancer Coimbra"
   ]
  },
  {
   "cell_type": "markdown",
   "metadata": {},
   "source": [
    "Link dataset Breast Cancer Coimbra : https://archive.ics.uci.edu/ml/datasets/Breast+Cancer+Coimbra"
   ]
  },
  {
   "cell_type": "code",
   "execution_count": 52,
   "metadata": {},
   "outputs": [],
   "source": [
    "df = pd.read_csv(\"C:/Users/ASUS/Downloads/breastcancercoimbra.csv\")"
   ]
  },
  {
   "cell_type": "markdown",
   "metadata": {},
   "source": [
    "<div class=\"alert alert-danger\">\n",
    " <font size=\"3\"><p align=\"justify\"><strong>Berikut merupakan spesifikasi dari dataset yang digunakan :</strong>\n",
    "<ul>\n",
    "<li style=\"text-align: left;\">\n",
    "    Input terdiri dari 9 variabel yaitu : Age, BMI, Glucose, Insulin, HOMA, Leptin, Adiponectin, Resitin, dan MCP.1.\n",
    "</li> \n",
    "</ul>\n",
    "\n",
    "<ul>\n",
    "<li style=\"text-align: left;\">\n",
    "Output terdiri dari 1 variabel yaitu : Classification, dengan 2 kondisi, yaitu 1 dan 2.\n",
    "</li>\n",
    "</ul>\n",
    "    \n",
    "<div>"
   ]
  },
  {
   "cell_type": "code",
   "execution_count": 53,
   "metadata": {},
   "outputs": [
    {
     "data": {
      "text/html": [
       "<div>\n",
       "<style scoped>\n",
       "    .dataframe tbody tr th:only-of-type {\n",
       "        vertical-align: middle;\n",
       "    }\n",
       "\n",
       "    .dataframe tbody tr th {\n",
       "        vertical-align: top;\n",
       "    }\n",
       "\n",
       "    .dataframe thead th {\n",
       "        text-align: right;\n",
       "    }\n",
       "</style>\n",
       "<table border=\"1\" class=\"dataframe\">\n",
       "  <thead>\n",
       "    <tr style=\"text-align: right;\">\n",
       "      <th></th>\n",
       "      <th>Age</th>\n",
       "      <th>BMI</th>\n",
       "      <th>Glucose</th>\n",
       "      <th>Insulin</th>\n",
       "      <th>HOMA</th>\n",
       "      <th>Leptin</th>\n",
       "      <th>Adiponectin</th>\n",
       "      <th>Resistin</th>\n",
       "      <th>MCP.1</th>\n",
       "      <th>Classification</th>\n",
       "    </tr>\n",
       "  </thead>\n",
       "  <tbody>\n",
       "    <tr>\n",
       "      <td>0</td>\n",
       "      <td>48</td>\n",
       "      <td>23.500000</td>\n",
       "      <td>70</td>\n",
       "      <td>2.707</td>\n",
       "      <td>0.467409</td>\n",
       "      <td>8.8071</td>\n",
       "      <td>9.702400</td>\n",
       "      <td>7.99585</td>\n",
       "      <td>417.114</td>\n",
       "      <td>1</td>\n",
       "    </tr>\n",
       "    <tr>\n",
       "      <td>1</td>\n",
       "      <td>83</td>\n",
       "      <td>20.690495</td>\n",
       "      <td>92</td>\n",
       "      <td>3.115</td>\n",
       "      <td>0.706897</td>\n",
       "      <td>8.8438</td>\n",
       "      <td>5.429285</td>\n",
       "      <td>4.06405</td>\n",
       "      <td>468.786</td>\n",
       "      <td>1</td>\n",
       "    </tr>\n",
       "    <tr>\n",
       "      <td>2</td>\n",
       "      <td>82</td>\n",
       "      <td>23.124670</td>\n",
       "      <td>91</td>\n",
       "      <td>4.498</td>\n",
       "      <td>1.009651</td>\n",
       "      <td>17.9393</td>\n",
       "      <td>22.432040</td>\n",
       "      <td>9.27715</td>\n",
       "      <td>554.697</td>\n",
       "      <td>1</td>\n",
       "    </tr>\n",
       "    <tr>\n",
       "      <td>3</td>\n",
       "      <td>68</td>\n",
       "      <td>21.367521</td>\n",
       "      <td>77</td>\n",
       "      <td>3.226</td>\n",
       "      <td>0.612725</td>\n",
       "      <td>9.8827</td>\n",
       "      <td>7.169560</td>\n",
       "      <td>12.76600</td>\n",
       "      <td>928.220</td>\n",
       "      <td>1</td>\n",
       "    </tr>\n",
       "    <tr>\n",
       "      <td>4</td>\n",
       "      <td>86</td>\n",
       "      <td>21.111111</td>\n",
       "      <td>92</td>\n",
       "      <td>3.549</td>\n",
       "      <td>0.805386</td>\n",
       "      <td>6.6994</td>\n",
       "      <td>4.819240</td>\n",
       "      <td>10.57635</td>\n",
       "      <td>773.920</td>\n",
       "      <td>1</td>\n",
       "    </tr>\n",
       "  </tbody>\n",
       "</table>\n",
       "</div>"
      ],
      "text/plain": [
       "   Age        BMI  Glucose  Insulin      HOMA   Leptin  Adiponectin  Resistin  \\\n",
       "0   48  23.500000       70    2.707  0.467409   8.8071     9.702400   7.99585   \n",
       "1   83  20.690495       92    3.115  0.706897   8.8438     5.429285   4.06405   \n",
       "2   82  23.124670       91    4.498  1.009651  17.9393    22.432040   9.27715   \n",
       "3   68  21.367521       77    3.226  0.612725   9.8827     7.169560  12.76600   \n",
       "4   86  21.111111       92    3.549  0.805386   6.6994     4.819240  10.57635   \n",
       "\n",
       "     MCP.1  Classification  \n",
       "0  417.114               1  \n",
       "1  468.786               1  \n",
       "2  554.697               1  \n",
       "3  928.220               1  \n",
       "4  773.920               1  "
      ]
     },
     "execution_count": 53,
     "metadata": {},
     "output_type": "execute_result"
    }
   ],
   "source": [
    "df.head()"
   ]
  },
  {
   "cell_type": "code",
   "execution_count": 54,
   "metadata": {},
   "outputs": [
    {
     "name": "stdout",
     "output_type": "stream",
     "text": [
      "<class 'pandas.core.frame.DataFrame'>\n",
      "RangeIndex: 116 entries, 0 to 115\n",
      "Data columns (total 10 columns):\n",
      "Age               116 non-null int64\n",
      "BMI               116 non-null float64\n",
      "Glucose           116 non-null int64\n",
      "Insulin           116 non-null float64\n",
      "HOMA              116 non-null float64\n",
      "Leptin            116 non-null float64\n",
      "Adiponectin       116 non-null float64\n",
      "Resistin          116 non-null float64\n",
      "MCP.1             116 non-null float64\n",
      "Classification    116 non-null int64\n",
      "dtypes: float64(7), int64(3)\n",
      "memory usage: 9.2 KB\n"
     ]
    }
   ],
   "source": [
    "df.info()"
   ]
  },
  {
   "cell_type": "code",
   "execution_count": 55,
   "metadata": {},
   "outputs": [
    {
     "data": {
      "text/plain": [
       "Age               0\n",
       "BMI               0\n",
       "Glucose           0\n",
       "Insulin           0\n",
       "HOMA              0\n",
       "Leptin            0\n",
       "Adiponectin       0\n",
       "Resistin          0\n",
       "MCP.1             0\n",
       "Classification    0\n",
       "dtype: int64"
      ]
     },
     "execution_count": 55,
     "metadata": {},
     "output_type": "execute_result"
    }
   ],
   "source": [
    "df.isnull().sum()"
   ]
  },
  {
   "cell_type": "code",
   "execution_count": 56,
   "metadata": {},
   "outputs": [
    {
     "data": {
      "text/plain": [
       "(116, 10)"
      ]
     },
     "execution_count": 56,
     "metadata": {},
     "output_type": "execute_result"
    }
   ],
   "source": [
    "df.shape"
   ]
  },
  {
   "cell_type": "code",
   "execution_count": 57,
   "metadata": {},
   "outputs": [],
   "source": [
    "# Bagi data ke Fitur dan Label\n",
    "\n",
    "X = df.iloc[:,:9].values\n",
    "Y = df.iloc[:,9].values - 1"
   ]
  },
  {
   "cell_type": "code",
   "execution_count": 58,
   "metadata": {},
   "outputs": [
    {
     "data": {
      "text/plain": [
       "(116, 9)"
      ]
     },
     "execution_count": 58,
     "metadata": {},
     "output_type": "execute_result"
    }
   ],
   "source": [
    "scaler= MinMaxScaler()\n",
    "feature_scaled=scaler.fit_transform(X)\n",
    "feature_scaled.shape"
   ]
  },
  {
   "cell_type": "code",
   "execution_count": 59,
   "metadata": {},
   "outputs": [
    {
     "name": "stdout",
     "output_type": "stream",
     "text": [
      "<class 'pandas.core.frame.DataFrame'>\n",
      "RangeIndex: 116 entries, 0 to 115\n",
      "Data columns (total 10 columns):\n",
      "Age               116 non-null int64\n",
      "BMI               116 non-null float64\n",
      "Glucose           116 non-null int64\n",
      "Insulin           116 non-null float64\n",
      "HOMA              116 non-null float64\n",
      "Leptin            116 non-null float64\n",
      "Adiponectin       116 non-null float64\n",
      "Resistin          116 non-null float64\n",
      "MCP.1             116 non-null float64\n",
      "Classification    116 non-null int64\n",
      "dtypes: float64(7), int64(3)\n",
      "memory usage: 9.2 KB\n"
     ]
    }
   ],
   "source": [
    "df.info()"
   ]
  },
  {
   "cell_type": "markdown",
   "metadata": {},
   "source": [
    "<div class=\"alert alert-danger\">\n",
    " <font size=\"3\"><p align=\"justify\">Pada ANN ini terdapat 2 output : \n",
    "<ul>\n",
    "<li style=\"text-align: left;\">\n",
    "    Control Healthy = kondisi saat ANN menetapkan bahwa pasien hanya mengontrol kesehatan, nilai yang di ambil adalah pada Variabel \"Classification\" dengan nilai 1 yang ada pada dataset.\n",
    "</li> \n",
    "</ul>\n",
    "\n",
    "<ul>\n",
    "<li style=\"text-align: left;\">\n",
    "Patients = kondisi saat ANN menetapkan bahwa pasien mengidap penyakit kanker payudara, nilai yang di ambil adalah pada Variabel \"Classification\" dengan nilai 2 yang ada pada dataset.</h4>\n",
    "</li>\n",
    "</ul>\n",
    "    \n",
    "<div>"
   ]
  },
  {
   "cell_type": "code",
   "execution_count": 73,
   "metadata": {
    "scrolled": true
   },
   "outputs": [
    {
     "data": {
      "text/plain": [
       "Text(0.5, 0, 'Classification')"
      ]
     },
     "execution_count": 73,
     "metadata": {},
     "output_type": "execute_result"
    },
    {
     "data": {
      "image/png": "[encoded data removed]",
      "text/plain": [
       "<Figure size 432x288 with 1 Axes>"
      ]
     },
     "metadata": {
      "needs_background": "light"
     },
     "output_type": "display_data"
    }
   ],
   "source": [
    "labels = ['Patients','Control Healthy']\n",
    "classes = pd.value_counts(df['Classification'], sort = True)\n",
    "classes.plot(kind = 'bar', rot=0)\n",
    "\n",
    "plt.xticks(range(2), labels)\n",
    "plt.xlabel(\"Classification\")"
   ]
  },
  {
   "cell_type": "markdown",
   "metadata": {},
   "source": [
    "<div class=\"alert alert-info\">\n",
    "<h2> <center> M O D E L"
   ]
  },
  {
   "cell_type": "code",
   "execution_count": 36,
   "metadata": {},
   "outputs": [],
   "source": [
    "x_train, x_test, y_train, y_test = train_test_split(X, Y, test_size=0.2, random_state=1)"
   ]
  },
  {
   "cell_type": "markdown",
   "metadata": {},
   "source": [
    "<div class=\"alert alert-danger\">\n",
    " <font size=\"3\"><p align=\"justify\">Pendeklarasian Variabel dengan ketentuan sebagai berikut : \n",
    "\n",
    "<ul>\n",
    "<li style=\"text-align: left;\">\n",
    "x_train adalah variabel yang akan digunakan untuk data training X\n",
    "</li>\n",
    "</ul>\n",
    "\n",
    "<ul>\n",
    "<li style=\"text-align: left;\">\n",
    "x_test adalah variabel yang akan digunakan untuk data testing X\n",
    "</li>\n",
    "</ul>\n",
    "\n",
    "<ul>\n",
    "<li style=\"text-align: left;\">\n",
    "y_train adalah variabel yang akan digunakan untuk data training Y\n",
    "</li>\n",
    "</ul>\n",
    "\n",
    "<ul>\n",
    "<li style=\"text-align: left;\">\n",
    "y_test adalah variabel yang akan digunakan untuk data testing Y\n",
    "</li>\n",
    "</ul>\n",
    "\n",
    "Pada codingan di atas digunakan modul train_test_split untuk membagi data yang akan digunakan untuk testing dan training, data untuk testing sebesar 20%, dan data untuk training sebesar 80%.\n",
    "<ul>\n",
    "<li style=\"text-align: left;\">\n",
    "Training set merupakan bagian dataset yang dilatih untuk membuat prediksi atau menjalankan fungsi dari sebuah algoritma Machine Learning lainnya sesuai tujuannya masing-masing.\n",
    "</li>\n",
    "</ul>\n",
    "\n",
    "<ul>\n",
    "<li style=\"text-align: left;\">\n",
    "Testing set merupakan bagian dataset yang di tes untuk melihat keakuratannya atau dengan kata lain performanya.\n",
    "</li>\n",
    "</ul>\n",
    "<div>"
   ]
  },
  {
   "cell_type": "code",
   "execution_count": 37,
   "metadata": {},
   "outputs": [
    {
     "data": {
      "text/plain": [
       "(array([0, 1], dtype=int64), array([ 6, 18], dtype=int64))"
      ]
     },
     "execution_count": 37,
     "metadata": {},
     "output_type": "execute_result"
    }
   ],
   "source": [
    "np.unique(y_test,return_counts=True)"
   ]
  },
  {
   "cell_type": "markdown",
   "metadata": {},
   "source": [
    "<div class=\"alert alert-danger\">\n",
    " <font size=\"3\"><p align=\"justify\">Model Sekuensial merupakan tumpukan lapisan linear. Dalam menentukan bentuk masukan, model perlu tahu bentuk masukan apa yang diharapkan. Lapisan pertama dalam model Sequential (dan hanya yang pertama, karena lapisan berikutnya dapat melakukan inferensi bentuk otomatis) perlu menerima informasi tentang bentuk inputnya. Kemudian untuk menambahkan lapisan cukup dengan menambahkan perintah add.\n",
    "\n",
    "<div class=\"alert alert-danger\">\n",
    " <font size=\"3\"><p align=\"justify\"><strong>Pada Model yang saya buat terdapat beberapa layer yaitu :</strong>\n",
    "<ul>\n",
    "<li style=\"text-align: left;\">\n",
    "    LAYER INPUT : Pada Layer Input terdapat 9 jenis nilai yang diambil dari dataset Liver Disorders.\n",
    "</li> \n",
    "</ul>\n",
    "\n",
    "<ul>\n",
    "<li style=\"text-align: left;\">\n",
    "    HIDDEN LAYER: Pada model terdapat satu Hidden Layer yang memiliki neuron sebanyak 100.\n",
    "</li>\n",
    "</ul>\n",
    "\n",
    "<ul>\n",
    "<li style=\"text-align: left;\">\n",
    "   OUTPUT LAYER: Pada Layer Output terdapat 2 nilai yang dihasilkan yaitu 1 dan 2.\n",
    "</li>\n",
    "</ul>\n",
    "   \n",
    "<div>"
   ]
  },
  {
   "cell_type": "code",
   "execution_count": 38,
   "metadata": {},
   "outputs": [],
   "source": [
    "model = Sequential()\n",
    "model.add(Dense(units= 100, input_dim =9 , activation='relu'))\n",
    "model.add(Dense(units= 100, activation='relu'))\n",
    "model.add(Dense(units= 1, activation='sigmoid'))"
   ]
  },
  {
   "cell_type": "markdown",
   "metadata": {},
   "source": [
    "<div class=\"alert alert-danger\">\n",
    "<h3>Penjelasan fungsi aktivasi yang digunakan : </h3>\n",
    "<ul>\n",
    "<li style=\"text-align: left;\">\n",
    "    <h4><b>Relu merupakan fungsi aktivasi yang digunakan pada layer ini.</h4></b>\n",
    "</li> \n",
    "</ul>\n",
    "\n",
    "<ul>\n",
    "<li style=\"text-align: left;\">\n",
    "<h4>Sigmoid = Merupakan fungsi aktivasi yang digunakan pada layer ini, fungsi aktivasi sigmoid memberikan output dengan rentang nilai antara 0 s/d 1.</h4>\n",
    "</li>\n",
    "</ul>\n",
    "    \n",
    "<div>"
   ]
  },
  {
   "cell_type": "code",
   "execution_count": 39,
   "metadata": {},
   "outputs": [],
   "source": [
    "model.compile(optimizer=Adam(lr=0.001), loss='binary_crossentropy', metrics=['accuracy'])"
   ]
  },
  {
   "cell_type": "markdown",
   "metadata": {},
   "source": [
    "<div class=\"alert alert-danger\">\n",
    "<h3>Penjelasan coding yang digunakan di bawah : </h3>\n",
    "<ul>\n",
    "    \n",
    "<ul>\n",
    "<li style=\"text-align: left;\">\n",
    "<h4>Epoch merupakan kondisi ketika seluruh dataset sudah melalui proses training pada Neural Netwok sampai dikembalikan ke awal untuk sekali putaran (backpropagation)</h4>\n",
    "</li>\n",
    "</ul>\n",
    "    \n",
    "\n",
    "<ul>\n",
    "<li style=\"text-align: left;\">\n",
    "<h4>Batch Size 16 = adalah jumlah sampel data yang disebarkan ke Neural Network. Jadi dataset akan dibagi menjadi 16 bagian untuk memudahkan index pada saat pelatihan.\n",
    "</li>\n",
    "</ul>\n",
    "\n",
    "<ul>\n",
    "<li style=\"text-align: left;\">\n",
    "<h4>Validation Adalah ukuran data yang akan digunakan untuk testing dan training.\n",
    "</li>\n",
    "</ul>"
   ]
  },
  {
   "cell_type": "code",
   "execution_count": 40,
   "metadata": {},
   "outputs": [
    {
     "name": "stdout",
     "output_type": "stream",
     "text": [
      "Train on 92 samples, validate on 24 samples\n",
      "Epoch 1/100\n",
      "92/92 [==============================] - 2s 18ms/step - loss: 7.5673 - acc: 0.4674 - val_loss: 0.8205 - val_acc: 0.7500\n",
      "Epoch 2/100\n",
      "92/92 [==============================] - 0s 947us/step - loss: 4.2358 - acc: 0.5109 - val_loss: 5.0032 - val_acc: 0.2500\n",
      "Epoch 3/100\n",
      "92/92 [==============================] - 0s 1ms/step - loss: 4.1178 - acc: 0.5326 - val_loss: 0.9829 - val_acc: 0.6667\n",
      "Epoch 4/100\n",
      "92/92 [==============================] - ETA: 0s - loss: 4.1827 - acc: 0.562 - 0s 1ms/step - loss: 1.9572 - acc: 0.5978 - val_loss: 1.0599 - val_acc: 0.6667\n",
      "Epoch 5/100\n",
      "92/92 [==============================] - 0s 1ms/step - loss: 1.3896 - acc: 0.5870 - val_loss: 1.4853 - val_acc: 0.4583\n",
      "Epoch 6/100\n",
      "92/92 [==============================] - 0s 2ms/step - loss: 1.4770 - acc: 0.5870 - val_loss: 1.8559 - val_acc: 0.4167\n",
      "Epoch 7/100\n",
      "92/92 [==============================] - 0s 936us/step - loss: 1.6387 - acc: 0.5435 - val_loss: 1.4168 - val_acc: 0.4583\n",
      "Epoch 8/100\n",
      "92/92 [==============================] - 0s 727us/step - loss: 0.9953 - acc: 0.6196 - val_loss: 0.5607 - val_acc: 0.7500\n",
      "Epoch 9/100\n",
      "92/92 [==============================] - 0s 1ms/step - loss: 0.8156 - acc: 0.6087 - val_loss: 0.4693 - val_acc: 0.7500\n",
      "Epoch 10/100\n",
      "92/92 [==============================] - 0s 2ms/step - loss: 0.9589 - acc: 0.5870 - val_loss: 0.5812 - val_acc: 0.6667\n",
      "Epoch 11/100\n",
      "92/92 [==============================] - 0s 747us/step - loss: 1.2504 - acc: 0.6522 - val_loss: 2.2687 - val_acc: 0.3750\n",
      "Epoch 12/100\n",
      "92/92 [==============================] - 0s 2ms/step - loss: 1.6432 - acc: 0.5652 - val_loss: 1.3740 - val_acc: 0.5417\n",
      "Epoch 13/100\n",
      "92/92 [==============================] - 0s 3ms/step - loss: 1.2478 - acc: 0.5978 - val_loss: 0.5842 - val_acc: 0.7083\n",
      "Epoch 14/100\n",
      "92/92 [==============================] - 0s 315us/step - loss: 0.8452 - acc: 0.6413 - val_loss: 0.6822 - val_acc: 0.6667\n",
      "Epoch 15/100\n",
      "92/92 [==============================] - 0s 304us/step - loss: 0.7888 - acc: 0.6087 - val_loss: 0.5697 - val_acc: 0.7083\n",
      "Epoch 16/100\n",
      "92/92 [==============================] - 0s 304us/step - loss: 0.7439 - acc: 0.6630 - val_loss: 0.6446 - val_acc: 0.6250\n",
      "Epoch 17/100\n",
      "92/92 [==============================] - 0s 324us/step - loss: 0.6729 - acc: 0.7174 - val_loss: 1.0018 - val_acc: 0.5833\n",
      "Epoch 18/100\n",
      "92/92 [==============================] - 0s 293us/step - loss: 0.4702 - acc: 0.7391 - val_loss: 1.0413 - val_acc: 0.5417\n",
      "Epoch 19/100\n",
      "92/92 [==============================] - 0s 282us/step - loss: 0.6628 - acc: 0.7283 - val_loss: 1.0139 - val_acc: 0.6250\n",
      "Epoch 20/100\n",
      "92/92 [==============================] - 0s 325us/step - loss: 0.5174 - acc: 0.7283 - val_loss: 0.7173 - val_acc: 0.7083\n",
      "Epoch 21/100\n",
      "92/92 [==============================] - 0s 325us/step - loss: 0.4091 - acc: 0.8587 - val_loss: 0.5761 - val_acc: 0.6667\n",
      "Epoch 22/100\n",
      "92/92 [==============================] - 0s 315us/step - loss: 0.5412 - acc: 0.7174 - val_loss: 0.6358 - val_acc: 0.6667\n",
      "Epoch 23/100\n",
      "92/92 [==============================] - 0s 315us/step - loss: 0.4400 - acc: 0.8043 - val_loss: 0.8207 - val_acc: 0.6250\n",
      "Epoch 24/100\n",
      "92/92 [==============================] - 0s 282us/step - loss: 0.3810 - acc: 0.8261 - val_loss: 0.7161 - val_acc: 0.6667\n",
      "Epoch 25/100\n",
      "92/92 [==============================] - 0s 337us/step - loss: 0.5851 - acc: 0.7717 - val_loss: 0.7521 - val_acc: 0.6250\n",
      "Epoch 26/100\n",
      "92/92 [==============================] - 0s 564us/step - loss: 0.5405 - acc: 0.7500 - val_loss: 0.6945 - val_acc: 0.7083\n",
      "Epoch 27/100\n",
      "92/92 [==============================] - 0s 3ms/step - loss: 0.4062 - acc: 0.8043 - val_loss: 0.9229 - val_acc: 0.6250\n",
      "Epoch 28/100\n",
      "92/92 [==============================] - 0s 5ms/step - loss: 0.5278 - acc: 0.7717 - val_loss: 0.7689 - val_acc: 0.7083\n",
      "Epoch 29/100\n",
      "92/92 [==============================] - 0s 3ms/step - loss: 0.6145 - acc: 0.6522 - val_loss: 0.7084 - val_acc: 0.7083\n",
      "Epoch 30/100\n",
      "92/92 [==============================] - 0s 1ms/step - loss: 0.6112 - acc: 0.7174 - val_loss: 0.7371 - val_acc: 0.7083\n",
      "Epoch 31/100\n",
      "92/92 [==============================] - 0s 2ms/step - loss: 0.5462 - acc: 0.7935 - val_loss: 0.7972 - val_acc: 0.7083\n",
      "Epoch 32/100\n",
      "92/92 [==============================] - 0s 824us/step - loss: 0.3493 - acc: 0.8261 - val_loss: 0.9731 - val_acc: 0.6250\n",
      "Epoch 33/100\n",
      "92/92 [==============================] - 0s 2ms/step - loss: 0.4031 - acc: 0.7935 - val_loss: 0.8424 - val_acc: 0.6250\n",
      "Epoch 34/100\n",
      "92/92 [==============================] - 0s 1ms/step - loss: 0.5105 - acc: 0.7283 - val_loss: 0.7033 - val_acc: 0.7500\n",
      "Epoch 35/100\n",
      "92/92 [==============================] - 0s 2ms/step - loss: 0.4768 - acc: 0.7717 - val_loss: 0.7569 - val_acc: 0.6667\n",
      "Epoch 36/100\n",
      "92/92 [==============================] - 0s 1ms/step - loss: 0.4004 - acc: 0.8043 - val_loss: 1.1879 - val_acc: 0.6667\n",
      "Epoch 37/100\n",
      "92/92 [==============================] - 0s 2ms/step - loss: 0.4590 - acc: 0.7935 - val_loss: 1.2366 - val_acc: 0.6667\n",
      "Epoch 38/100\n",
      "92/92 [==============================] - 0s 997us/step - loss: 0.4780 - acc: 0.8478 - val_loss: 0.9592 - val_acc: 0.6250\n",
      "Epoch 39/100\n",
      "92/92 [==============================] - 0s 3ms/step - loss: 0.4582 - acc: 0.7609 - val_loss: 1.0570 - val_acc: 0.6250\n",
      "Epoch 40/100\n",
      "92/92 [==============================] - 0s 883us/step - loss: 0.3049 - acc: 0.8587 - val_loss: 0.9260 - val_acc: 0.7083\n",
      "Epoch 41/100\n",
      "92/92 [==============================] - 0s 2ms/step - loss: 0.2873 - acc: 0.8913 - val_loss: 0.8507 - val_acc: 0.6250\n",
      "Epoch 42/100\n",
      "92/92 [==============================] - 0s 1ms/step - loss: 0.3086 - acc: 0.8913 - val_loss: 0.8199 - val_acc: 0.6667\n",
      "Epoch 43/100\n",
      "92/92 [==============================] - 0s 2ms/step - loss: 0.3158 - acc: 0.8696 - val_loss: 0.7757 - val_acc: 0.7083\n",
      "Epoch 44/100\n",
      "92/92 [==============================] - 0s 3ms/step - loss: 0.3479 - acc: 0.8261 - val_loss: 0.8506 - val_acc: 0.7083\n",
      "Epoch 45/100\n",
      "92/92 [==============================] - 0s 3ms/step - loss: 0.3505 - acc: 0.8478 - val_loss: 0.8052 - val_acc: 0.6667\n",
      "Epoch 46/100\n",
      "92/92 [==============================] - 0s 3ms/step - loss: 0.4197 - acc: 0.8152 - val_loss: 1.1457 - val_acc: 0.6250\n",
      "Epoch 47/100\n",
      "92/92 [==============================] - 0s 2ms/step - loss: 0.3177 - acc: 0.8913 - val_loss: 1.3751 - val_acc: 0.6250\n",
      "Epoch 48/100\n",
      "92/92 [==============================] - 0s 412us/step - loss: 0.4688 - acc: 0.7391 - val_loss: 0.9356 - val_acc: 0.6250\n",
      "Epoch 49/100\n",
      "92/92 [==============================] - 0s 2ms/step - loss: 0.7047 - acc: 0.7283 - val_loss: 1.3887 - val_acc: 0.6667\n",
      "Epoch 50/100\n",
      "92/92 [==============================] - 0s 2ms/step - loss: 0.6573 - acc: 0.7717 - val_loss: 0.9284 - val_acc: 0.7083\n",
      "Epoch 51/100\n",
      "92/92 [==============================] - 0s 2ms/step - loss: 1.0284 - acc: 0.6087 - val_loss: 0.8525 - val_acc: 0.7083\n",
      "Epoch 52/100\n",
      "92/92 [==============================] - 0s 2ms/step - loss: 0.5149 - acc: 0.8152 - val_loss: 0.8679 - val_acc: 0.7083\n",
      "Epoch 53/100\n",
      "92/92 [==============================] - 0s 4ms/step - loss: 1.2019 - acc: 0.6522 - val_loss: 1.1231 - val_acc: 0.6250\n",
      "Epoch 54/100\n",
      "92/92 [==============================] - 0s 2ms/step - loss: 1.1991 - acc: 0.6522 - val_loss: 2.0946 - val_acc: 0.5000\n",
      "Epoch 55/100\n",
      "92/92 [==============================] - 0s 2ms/step - loss: 0.9762 - acc: 0.6957 - val_loss: 1.0371 - val_acc: 0.6250\n",
      "Epoch 56/100\n",
      "92/92 [==============================] - 0s 2ms/step - loss: 1.1832 - acc: 0.7283 - val_loss: 0.9911 - val_acc: 0.6667\n",
      "Epoch 57/100\n",
      "92/92 [==============================] - 0s 3ms/step - loss: 0.7804 - acc: 0.7283 - val_loss: 0.9193 - val_acc: 0.7083\n",
      "Epoch 58/100\n",
      "92/92 [==============================] - 0s 2ms/step - loss: 0.6719 - acc: 0.7283 - val_loss: 1.3495 - val_acc: 0.6250\n",
      "Epoch 59/100\n",
      "92/92 [==============================] - 0s 3ms/step - loss: 0.6698 - acc: 0.7500 - val_loss: 1.5329 - val_acc: 0.6250\n",
      "Epoch 60/100\n",
      "92/92 [==============================] - 0s 4ms/step - loss: 0.5862 - acc: 0.7826 - val_loss: 1.1112 - val_acc: 0.6250\n",
      "Epoch 61/100\n",
      "92/92 [==============================] - 0s 1ms/step - loss: 0.8907 - acc: 0.6630 - val_loss: 1.0081 - val_acc: 0.7083\n",
      "Epoch 62/100\n"
     ]
    },
    {
     "name": "stdout",
     "output_type": "stream",
     "text": [
      "92/92 [==============================] - 0s 2ms/step - loss: 0.4822 - acc: 0.8152 - val_loss: 0.9266 - val_acc: 0.7500\n",
      "Epoch 63/100\n",
      "92/92 [==============================] - 0s 958us/step - loss: 0.3715 - acc: 0.8587 - val_loss: 1.4264 - val_acc: 0.7083\n",
      "Epoch 64/100\n",
      "92/92 [==============================] - ETA: 0s - loss: 0.6874 - acc: 0.703 - 0s 2ms/step - loss: 0.6413 - acc: 0.7065 - val_loss: 1.3411 - val_acc: 0.7083\n",
      "Epoch 65/100\n",
      "92/92 [==============================] - 0s 2ms/step - loss: 0.4573 - acc: 0.7935 - val_loss: 0.9996 - val_acc: 0.6250\n",
      "Epoch 66/100\n",
      "92/92 [==============================] - 0s 561us/step - loss: 0.7276 - acc: 0.7283 - val_loss: 1.0592 - val_acc: 0.7083\n",
      "Epoch 67/100\n",
      "92/92 [==============================] - 0s 1ms/step - loss: 0.5857 - acc: 0.7283 - val_loss: 2.0366 - val_acc: 0.5833\n",
      "Epoch 68/100\n",
      "92/92 [==============================] - 0s 1ms/step - loss: 0.9498 - acc: 0.6848 - val_loss: 0.9364 - val_acc: 0.7917\n",
      "Epoch 69/100\n",
      "92/92 [==============================] - 0s 2ms/step - loss: 0.3775 - acc: 0.8804 - val_loss: 0.8750 - val_acc: 0.7917\n",
      "Epoch 70/100\n",
      "92/92 [==============================] - 0s 554us/step - loss: 0.4681 - acc: 0.8587 - val_loss: 1.0668 - val_acc: 0.6667\n",
      "Epoch 71/100\n",
      "92/92 [==============================] - 0s 2ms/step - loss: 0.3120 - acc: 0.8478 - val_loss: 1.0991 - val_acc: 0.6667\n",
      "Epoch 72/100\n",
      "92/92 [==============================] - 0s 2ms/step - loss: 0.2091 - acc: 0.9239 - val_loss: 1.0045 - val_acc: 0.7500\n",
      "Epoch 73/100\n",
      "92/92 [==============================] - 0s 1ms/step - loss: 0.4287 - acc: 0.8696 - val_loss: 0.9720 - val_acc: 0.7500\n",
      "Epoch 74/100\n",
      "92/92 [==============================] - 0s 2ms/step - loss: 0.5962 - acc: 0.7500 - val_loss: 1.1136 - val_acc: 0.6667\n",
      "Epoch 75/100\n",
      "92/92 [==============================] - 0s 1ms/step - loss: 0.2442 - acc: 0.9130 - val_loss: 1.3090 - val_acc: 0.6667\n",
      "Epoch 76/100\n",
      "92/92 [==============================] - 0s 585us/step - loss: 0.3359 - acc: 0.8696 - val_loss: 1.0652 - val_acc: 0.7083\n",
      "Epoch 77/100\n",
      "92/92 [==============================] - 0s 541us/step - loss: 0.2645 - acc: 0.9022 - val_loss: 0.9700 - val_acc: 0.7500\n",
      "Epoch 78/100\n",
      "92/92 [==============================] - 0s 1ms/step - loss: 0.7115 - acc: 0.7283 - val_loss: 3.5416 - val_acc: 0.3750\n",
      "Epoch 79/100\n",
      "92/92 [==============================] - 0s 1ms/step - loss: 1.7140 - acc: 0.6848 - val_loss: 1.5233 - val_acc: 0.7083\n",
      "Epoch 80/100\n",
      "92/92 [==============================] - 0s 2ms/step - loss: 1.3777 - acc: 0.6848 - val_loss: 3.0923 - val_acc: 0.5000\n",
      "Epoch 81/100\n",
      "92/92 [==============================] - 0s 1ms/step - loss: 1.1674 - acc: 0.7391 - val_loss: 1.0308 - val_acc: 0.6250\n",
      "Epoch 82/100\n",
      "92/92 [==============================] - 0s 2ms/step - loss: 0.6517 - acc: 0.7935 - val_loss: 1.2112 - val_acc: 0.7083\n",
      "Epoch 83/100\n",
      "92/92 [==============================] - 0s 867us/step - loss: 0.5760 - acc: 0.7826 - val_loss: 1.7026 - val_acc: 0.6250\n",
      "Epoch 84/100\n",
      "92/92 [==============================] - 0s 2ms/step - loss: 0.6779 - acc: 0.7717 - val_loss: 1.2746 - val_acc: 0.6667\n",
      "Epoch 85/100\n",
      "92/92 [==============================] - 0s 1ms/step - loss: 0.8729 - acc: 0.7065 - val_loss: 2.4013 - val_acc: 0.5833\n",
      "Epoch 86/100\n",
      "92/92 [==============================] - 0s 1ms/step - loss: 1.1429 - acc: 0.6522 - val_loss: 1.0363 - val_acc: 0.6667\n",
      "Epoch 87/100\n",
      "92/92 [==============================] - 0s 3ms/step - loss: 0.9746 - acc: 0.6957 - val_loss: 1.2404 - val_acc: 0.7083\n",
      "Epoch 88/100\n",
      "92/92 [==============================] - 0s 595us/step - loss: 0.6476 - acc: 0.7500 - val_loss: 1.5462 - val_acc: 0.6667\n",
      "Epoch 89/100\n",
      "92/92 [==============================] - 0s 3ms/step - loss: 0.4784 - acc: 0.8261 - val_loss: 1.1393 - val_acc: 0.7083\n",
      "Epoch 90/100\n",
      "92/92 [==============================] - 0s 1ms/step - loss: 0.3140 - acc: 0.8370 - val_loss: 1.2018 - val_acc: 0.7083\n",
      "Epoch 91/100\n",
      "92/92 [==============================] - 0s 2ms/step - loss: 0.3280 - acc: 0.8696 - val_loss: 1.6650 - val_acc: 0.6667\n",
      "Epoch 92/100\n",
      "92/92 [==============================] - ETA: 0s - loss: 0.4835 - acc: 0.800 - 0s 2ms/step - loss: 0.4457 - acc: 0.8152 - val_loss: 1.0320 - val_acc: 0.7917\n",
      "Epoch 93/100\n",
      "92/92 [==============================] - 0s 2ms/step - loss: 0.2520 - acc: 0.9022 - val_loss: 1.1354 - val_acc: 0.7917\n",
      "Epoch 94/100\n",
      "92/92 [==============================] - ETA: 0s - loss: 0.2495 - acc: 0.875 - 0s 2ms/step - loss: 0.2418 - acc: 0.8696 - val_loss: 1.4850 - val_acc: 0.6667\n",
      "Epoch 95/100\n",
      "92/92 [==============================] - 0s 1ms/step - loss: 0.2677 - acc: 0.8913 - val_loss: 1.1795 - val_acc: 0.7500\n",
      "Epoch 96/100\n",
      "92/92 [==============================] - ETA: 0s - loss: 0.1752 - acc: 0.925 - 0s 2ms/step - loss: 0.1786 - acc: 0.9239 - val_loss: 1.2815 - val_acc: 0.7083\n",
      "Epoch 97/100\n",
      "92/92 [==============================] - 0s 912us/step - loss: 0.1787 - acc: 0.9130 - val_loss: 1.3273 - val_acc: 0.7083\n",
      "Epoch 98/100\n",
      "92/92 [==============================] - 0s 2ms/step - loss: 0.1706 - acc: 0.9239 - val_loss: 1.2526 - val_acc: 0.7500\n",
      "Epoch 99/100\n",
      "92/92 [==============================] - 0s 2ms/step - loss: 0.1784 - acc: 0.9239 - val_loss: 1.4473 - val_acc: 0.6667\n",
      "Epoch 100/100\n",
      "92/92 [==============================] - 0s 487us/step - loss: 0.2590 - acc: 0.8804 - val_loss: 1.3707 - val_acc: 0.6667\n"
     ]
    }
   ],
   "source": [
    "acc_training = model.fit(x_train, y_train, validation_data=(x_test, y_test), batch_size=16, \n",
    "                         epochs=100)"
   ]
  },
  {
   "cell_type": "markdown",
   "metadata": {},
   "source": [
    "<div class=\"alert alert-info\">\n",
    "<h2> <center> A K U R A S I"
   ]
  },
  {
   "cell_type": "code",
   "execution_count": 41,
   "metadata": {},
   "outputs": [
    {
     "name": "stdout",
     "output_type": "stream",
     "text": [
      "\r",
      "24/24 [==============================] - 0s 79us/step\n"
     ]
    },
    {
     "data": {
      "text/plain": [
       "[1.3707040548324585, 0.6666666865348816]"
      ]
     },
     "execution_count": 41,
     "metadata": {},
     "output_type": "execute_result"
    }
   ],
   "source": [
    "acc_testing  = model.evaluate(x_test, y_test) \n",
    "acc_testing"
   ]
  },
  {
   "cell_type": "markdown",
   "metadata": {},
   "source": [
    "<div class=\"alert alert-info\">\n",
    "<h2> <center> PLOT AKURASI"
   ]
  },
  {
   "cell_type": "code",
   "execution_count": 42,
   "metadata": {
    "scrolled": true
   },
   "outputs": [
    {
     "data": {
      "image/png": "[encoded data removed]",
      "text/plain": [
       "<Figure size 432x288 with 1 Axes>"
      ]
     },
     "metadata": {
      "needs_background": "light"
     },
     "output_type": "display_data"
    }
   ],
   "source": [
    "plt.plot(acc_training.history['acc'])\n",
    "plt.plot(acc_training.history['val_acc'])\n",
    "plt.title('model acc')\n",
    "plt.ylabel('Akurasi')\n",
    "plt.xlabel('Epoch')\n",
    "plt.legend(['Data training', 'Data Testing'], loc='upper left')\n",
    "plt.show()"
   ]
  },
  {
   "cell_type": "code",
   "execution_count": 43,
   "metadata": {},
   "outputs": [
    {
     "data": {
      "image/png": "[encoded data removed]",
      "text/plain": [
       "<Figure size 432x288 with 1 Axes>"
      ]
     },
     "metadata": {
      "needs_background": "light"
     },
     "output_type": "display_data"
    }
   ],
   "source": [
    "plt.plot(acc_training.history['loss'])\n",
    "plt.plot(acc_training.history['val_loss'])\n",
    "plt.title('Model Loss')\n",
    "plt.ylabel('Loss')\n",
    "plt.xlabel('Epoch')\n",
    "plt.legend(['Data training', 'Data Testing'], loc='upper left')\n",
    "plt.show()"
   ]
  },
  {
   "cell_type": "code",
   "execution_count": 19,
   "metadata": {},
   "outputs": [],
   "source": [
    "# INport Confusion Matrix\n",
    "from sklearn.metrics import confusion_matrix,classification_report\n",
    "prediction = model.predict_classes(x_test)"
   ]
  },
  {
   "cell_type": "code",
   "execution_count": 20,
   "metadata": {},
   "outputs": [
    {
     "data": {
      "text/plain": [
       "array([2, 1, 2, 2, 2, 2, 2, 2, 1, 1, 2, 2, 1, 2, 2, 2, 2, 2, 2, 1, 2, 1,\n",
       "       2, 2], dtype=int64)"
      ]
     },
     "execution_count": 20,
     "metadata": {},
     "output_type": "execute_result"
    }
   ],
   "source": [
    "y_test"
   ]
  },
  {
   "cell_type": "code",
   "execution_count": 21,
   "metadata": {},
   "outputs": [
    {
     "name": "stdout",
     "output_type": "stream",
     "text": [
      "[2 1 2 2 2 2 2 2 1 1]\n",
      "[[1]\n",
      " [1]\n",
      " [1]\n",
      " [1]\n",
      " [1]\n",
      " [1]\n",
      " [1]\n",
      " [1]\n",
      " [1]\n",
      " [1]]\n"
     ]
    }
   ],
   "source": [
    "print (y_test[:10])\n",
    "print (prediction[:10])"
   ]
  },
  {
   "cell_type": "markdown",
   "metadata": {},
   "source": [
    "<div class=\"alert alert-info\">\n",
    "<h2> <center> Confusion MATRIX"
   ]
  },
  {
   "cell_type": "code",
   "execution_count": 72,
   "metadata": {},
   "outputs": [
    {
     "name": "stdout",
     "output_type": "stream",
     "text": [
      "[[ 0  6]\n",
      " [ 0 18]]\n"
     ]
    }
   ],
   "source": [
    "cm = confusion_matrix(y_test, prediction) \n",
    "print(cm)"
   ]
  },
  {
   "cell_type": "code",
   "execution_count": 23,
   "metadata": {},
   "outputs": [
    {
     "name": "stdout",
     "output_type": "stream",
     "text": [
      "              precision    recall  f1-score   support\n",
      "\n",
      "           1       0.25      1.00      0.40         6\n",
      "           2       0.00      0.00      0.00        18\n",
      "\n",
      "    accuracy                           0.25        24\n",
      "   macro avg       0.12      0.50      0.20        24\n",
      "weighted avg       0.06      0.25      0.10        24\n",
      "\n"
     ]
    }
   ],
   "source": [
    "print(classification_report(y_test,prediction))"
   ]
  }
 ],
 "metadata": {
  "kernelspec": {
   "display_name": "Python 3",
   "language": "python",
   "name": "python3"
  },
  "language_info": {
   "codemirror_mode": {
    "name": "ipython",
    "version": 3
   },
   "file_extension": ".py",
   "mimetype": "text/x-python",
   "name": "python",
   "nbconvert_exporter": "python",
   "pygments_lexer": "ipython3",
   "version": "3.6.9"
  }
 },
 "nbformat": 4,
 "nbformat_minor": 2
}
