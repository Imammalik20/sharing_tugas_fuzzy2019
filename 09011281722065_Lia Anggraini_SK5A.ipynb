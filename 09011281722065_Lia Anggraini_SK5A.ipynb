{
 "cells": [
  {
   "cell_type": "markdown",
   "metadata": {},
   "source": [
    "<div class=\"alert alert-info\">\n",
    "<h3><center>\"BREAST CANCER COIMBRA\"<center> </h3>\n",
    "<ul>\n",
    "<li style=\"text-align: left;\">\n",
    "<h3><strong>NAMA &emsp; &emsp;&emsp; &emsp; &emsp; &emsp;: Lia Anggraini</strong></h3>\n",
    "</li>\n",
    "<li style=\"text-align: left;\">\n",
    "<h3><strong>NIM &emsp;&emsp;&emsp;&emsp;&emsp;&emsp;&emsp;&emsp; : 09011281722065</strong></h3>\n",
    "</li>\n",
    "<li style=\"text-align: left;\">\n",
    "<h3><strong>KELAS &emsp;&emsp;&emsp;&emsp;&emsp;&emsp;&ensp; : SK 5A</strong></h3>\n",
    "</li>\n",
    "<li style=\"text-align: left;\">\n",
    "<h3><strong>JURUSAN &emsp;&emsp;&emsp;&emsp;&emsp;&nbsp;: SISTEM KOMPUTER</strong></h3>\n",
    "</li>\n",
    "<li style=\"text-align: left;\">\n",
    "<h3><strong>MATA KULIAH &emsp;&emsp;&emsp; : KECERDASAN BUATAN</strong></h3>\n",
    "</li>\n",
    "<li style=\"text-align: left;\">\n",
    "<h3><strong>DOSEN PENGAMPUH: Prof. Dr. Ir. Siti Nurmaini, M.T.</strong></h3>\n",
    "</li>\n",
    "</ul>\n",
    "</div>"
   ]
  },
  {
   "cell_type": "code",
   "execution_count": 24,
   "metadata": {},
   "outputs": [],
   "source": [
    "#main library\n",
    "import pandas as pd\n",
    "import matplotlib.pyplot as plt\n",
    "import seaborn as sns\n",
    "sns.set_style(\"whitegrid\")\n",
    "import numpy as np\n",
    "\n",
    "from keras.optimizers import Adam\n",
    "#sklearn library\n",
    "from sklearn.model_selection import train_test_split\n",
    "from sklearn.preprocessing import normalize\n",
    "from sklearn.preprocessing import LabelEncoder\n",
    "from sklearn.metrics import confusion_matrix,accuracy_score,precision_score,recall_score,f1_score,matthews_corrcoef,classification_report,roc_curve\n",
    "from sklearn.preprocessing import StandardScaler\n",
    "from sklearn.preprocessing import MinMaxScaler\n",
    "from keras.models import Sequential\n",
    "from keras.layers import Dense\n",
    "from keras.utils.np_utils import to_categorical\n",
    "from keras.layers import Dense, Dropout\n",
    "from keras.activations import relu\n",
    "from sklearn.metrics import confusion_matrix\n",
    "%matplotlib inline\n",
    "\n",
    "# Code for hiding seaborn warnings\n",
    "import warnings\n",
    "warnings.filterwarnings(\"ignore\")"
   ]
  },
  {
   "cell_type": "markdown",
   "metadata": {},
   "source": [
    "<div class=\"alert alert-danger\">\n",
    " <font size=\"3\"><p align=\"justify\">\n",
    "    <strong>Berikut adalah daftar Modul yang digunakan :</strong>\n",
    "<ul>\n",
    "<li style=\"text-align: left;\">\n",
    "    <strong>Numpy =</strong> Modul ini berfungsi untuk melakukan beberapa fungsi matematika seperti array, dan matriks. Pada program ini numpy digunakan untuk generate array untuk membuat grafik confusion matriks\n",
    "</li> \n",
    "</ul>\n",
    "\n",
    "<ul>\n",
    "<li style=\"text-align: left;\">\n",
    "<strong>Pandas =</strong> Modul ini akan digunakan untuk Load Dataset, karena pandas lebih baik untuk load data dengan skala besar\n",
    "</li>\n",
    "</ul>\n",
    "  \n",
    "<ul>\n",
    "<li style=\"text-align: left;\">\n",
    "<strong>Matplotlib =</strong> Modul ini digunakan untuk mencetak grafik pada beberapa event seperti grafik distribusi variabel, grafik confusion matrix, grafik akurasi, dll.\n",
    "</li>\n",
    "</ul>\n",
    "\n",
    "<ul>\n",
    "<li style=\"text-align: left;\">\n",
    "<strong>Seaborn =</strong> Modul ini digunakan untuk plot grafik distribusi nilai dari Class (output), modul ini berbasis matplotlib.\n",
    "</li>\n",
    "</ul>\n",
    "\n",
    "<ul>\n",
    "<li style=\"text-align: left;\">\n",
    "<strong>Sklearn =</strong> Modul ini adalah salah satu modul utama yang digunakan untuk mengolah data Machine Learning seperti preprocessing, dan lainnya\n",
    "</li>\n",
    "</ul>\n",
    "\n",
    "<ul>\n",
    "<li style=\"text-align: left;\">\n",
    "<strong>Keras =</strong> Modul ini digunakan untuk membuat, menambah, dan mengevaluasi model neural network\n",
    "</li>\n",
    "</ul>\n",
    "\n",
    "<ul>\n",
    "<li style=\"text-align: left;\">\n",
    "<strong>Warning =</strong> Modul ini dikeluarkan dalam situasi di mana berguna untuk mengingatkan pengguna tentang beberapa kondisi dalam suatu program, di mana kondisi tersebut tidak menjamin menimbulkan pengecualian dan menghentikan program. Filter warning yang digunakan adalah action \"Ignore\".\n",
    "</li>\n",
    "</ul>\n",
    "\n",
    "\n",
    "<div>"
   ]
  },
  {
   "cell_type": "markdown",
   "metadata": {},
   "source": [
    "<div class=\"alert alert-info\">\n",
    "<h2> <center> Load Data dari Dataset Breast Cancer Coimbra"
   ]
  },
  {
   "cell_type": "markdown",
   "metadata": {},
   "source": [
    "Link dataset Breast Cancer Coimbra : https://archive.ics.uci.edu/ml/datasets/Breast+Cancer+Coimbra"
   ]
  },
  {
   "cell_type": "code",
   "execution_count": 25,
   "metadata": {},
   "outputs": [],
   "source": [
    "df = pd.read_csv(\"C:/Users/ASUS/Downloads/breastcancercoimbra.csv\")"
   ]
  },
  {
   "cell_type": "markdown",
   "metadata": {},
   "source": [
    "<div class=\"alert alert-danger\">\n",
    " <font size=\"3\"><p align=\"justify\"><strong>Berikut merupakan spesifikasi dari dataset yang digunakan :</strong>\n",
    "<ul>\n",
    "<li style=\"text-align: left;\">\n",
    "    Input terdiri dari 9 variabel yaitu : Age, BMI, Glucose, Insulin, HOMA, Leptin, Adiponectin, Resitin, dan MCP.1.\n",
    "</li> \n",
    "</ul>\n",
    "\n",
    "<ul>\n",
    "<li style=\"text-align: left;\">\n",
    "Output terdiri dari 1 variabel yaitu : Classification, dengan 2 kondisi, yaitu 1 dan 2.\n",
    "</li>\n",
    "</ul>\n",
    "    \n",
    "<div>"
   ]
  },
  {
   "cell_type": "code",
   "execution_count": 26,
   "metadata": {},
   "outputs": [
    {
     "data": {
      "text/html": [
       "<div>\n",
       "<style scoped>\n",
       "    .dataframe tbody tr th:only-of-type {\n",
       "        vertical-align: middle;\n",
       "    }\n",
       "\n",
       "    .dataframe tbody tr th {\n",
       "        vertical-align: top;\n",
       "    }\n",
       "\n",
       "    .dataframe thead th {\n",
       "        text-align: right;\n",
       "    }\n",
       "</style>\n",
       "<table border=\"1\" class=\"dataframe\">\n",
       "  <thead>\n",
       "    <tr style=\"text-align: right;\">\n",
       "      <th></th>\n",
       "      <th>Age</th>\n",
       "      <th>BMI</th>\n",
       "      <th>Glucose</th>\n",
       "      <th>Insulin</th>\n",
       "      <th>HOMA</th>\n",
       "      <th>Leptin</th>\n",
       "      <th>Adiponectin</th>\n",
       "      <th>Resistin</th>\n",
       "      <th>MCP.1</th>\n",
       "      <th>Classification</th>\n",
       "    </tr>\n",
       "  </thead>\n",
       "  <tbody>\n",
       "    <tr>\n",
       "      <td>0</td>\n",
       "      <td>48</td>\n",
       "      <td>23.500000</td>\n",
       "      <td>70</td>\n",
       "      <td>2.707</td>\n",
       "      <td>0.467409</td>\n",
       "      <td>8.8071</td>\n",
       "      <td>9.702400</td>\n",
       "      <td>7.99585</td>\n",
       "      <td>417.114</td>\n",
       "      <td>1</td>\n",
       "    </tr>\n",
       "    <tr>\n",
       "      <td>1</td>\n",
       "      <td>83</td>\n",
       "      <td>20.690495</td>\n",
       "      <td>92</td>\n",
       "      <td>3.115</td>\n",
       "      <td>0.706897</td>\n",
       "      <td>8.8438</td>\n",
       "      <td>5.429285</td>\n",
       "      <td>4.06405</td>\n",
       "      <td>468.786</td>\n",
       "      <td>1</td>\n",
       "    </tr>\n",
       "    <tr>\n",
       "      <td>2</td>\n",
       "      <td>82</td>\n",
       "      <td>23.124670</td>\n",
       "      <td>91</td>\n",
       "      <td>4.498</td>\n",
       "      <td>1.009651</td>\n",
       "      <td>17.9393</td>\n",
       "      <td>22.432040</td>\n",
       "      <td>9.27715</td>\n",
       "      <td>554.697</td>\n",
       "      <td>1</td>\n",
       "    </tr>\n",
       "    <tr>\n",
       "      <td>3</td>\n",
       "      <td>68</td>\n",
       "      <td>21.367521</td>\n",
       "      <td>77</td>\n",
       "      <td>3.226</td>\n",
       "      <td>0.612725</td>\n",
       "      <td>9.8827</td>\n",
       "      <td>7.169560</td>\n",
       "      <td>12.76600</td>\n",
       "      <td>928.220</td>\n",
       "      <td>1</td>\n",
       "    </tr>\n",
       "    <tr>\n",
       "      <td>4</td>\n",
       "      <td>86</td>\n",
       "      <td>21.111111</td>\n",
       "      <td>92</td>\n",
       "      <td>3.549</td>\n",
       "      <td>0.805386</td>\n",
       "      <td>6.6994</td>\n",
       "      <td>4.819240</td>\n",
       "      <td>10.57635</td>\n",
       "      <td>773.920</td>\n",
       "      <td>1</td>\n",
       "    </tr>\n",
       "  </tbody>\n",
       "</table>\n",
       "</div>"
      ],
      "text/plain": [
       "   Age        BMI  Glucose  Insulin      HOMA   Leptin  Adiponectin  Resistin  \\\n",
       "0   48  23.500000       70    2.707  0.467409   8.8071     9.702400   7.99585   \n",
       "1   83  20.690495       92    3.115  0.706897   8.8438     5.429285   4.06405   \n",
       "2   82  23.124670       91    4.498  1.009651  17.9393    22.432040   9.27715   \n",
       "3   68  21.367521       77    3.226  0.612725   9.8827     7.169560  12.76600   \n",
       "4   86  21.111111       92    3.549  0.805386   6.6994     4.819240  10.57635   \n",
       "\n",
       "     MCP.1  Classification  \n",
       "0  417.114               1  \n",
       "1  468.786               1  \n",
       "2  554.697               1  \n",
       "3  928.220               1  \n",
       "4  773.920               1  "
      ]
     },
     "execution_count": 26,
     "metadata": {},
     "output_type": "execute_result"
    }
   ],
   "source": [
    "df.head()"
   ]
  },
  {
   "cell_type": "code",
   "execution_count": 27,
   "metadata": {},
   "outputs": [
    {
     "name": "stdout",
     "output_type": "stream",
     "text": [
      "<class 'pandas.core.frame.DataFrame'>\n",
      "RangeIndex: 116 entries, 0 to 115\n",
      "Data columns (total 10 columns):\n",
      "Age               116 non-null int64\n",
      "BMI               116 non-null float64\n",
      "Glucose           116 non-null int64\n",
      "Insulin           116 non-null float64\n",
      "HOMA              116 non-null float64\n",
      "Leptin            116 non-null float64\n",
      "Adiponectin       116 non-null float64\n",
      "Resistin          116 non-null float64\n",
      "MCP.1             116 non-null float64\n",
      "Classification    116 non-null int64\n",
      "dtypes: float64(7), int64(3)\n",
      "memory usage: 9.2 KB\n"
     ]
    }
   ],
   "source": [
    "df.info()"
   ]
  },
  {
   "cell_type": "code",
   "execution_count": 28,
   "metadata": {},
   "outputs": [
    {
     "data": {
      "text/plain": [
       "Age               0\n",
       "BMI               0\n",
       "Glucose           0\n",
       "Insulin           0\n",
       "HOMA              0\n",
       "Leptin            0\n",
       "Adiponectin       0\n",
       "Resistin          0\n",
       "MCP.1             0\n",
       "Classification    0\n",
       "dtype: int64"
      ]
     },
     "execution_count": 28,
     "metadata": {},
     "output_type": "execute_result"
    }
   ],
   "source": [
    "df.isnull().sum()"
   ]
  },
  {
   "cell_type": "code",
   "execution_count": 29,
   "metadata": {},
   "outputs": [
    {
     "data": {
      "text/plain": [
       "(116, 10)"
      ]
     },
     "execution_count": 29,
     "metadata": {},
     "output_type": "execute_result"
    }
   ],
   "source": [
    "df.shape"
   ]
  },
  {
   "cell_type": "code",
   "execution_count": 30,
   "metadata": {},
   "outputs": [],
   "source": [
    "# Bagi data ke Fitur dan Label\n",
    "\n",
    "X = df.iloc[:,:9].values\n",
    "Y = df.iloc[:,9].values - 1"
   ]
  },
  {
   "cell_type": "code",
   "execution_count": 31,
   "metadata": {},
   "outputs": [
    {
     "data": {
      "text/plain": [
       "(116, 9)"
      ]
     },
     "execution_count": 31,
     "metadata": {},
     "output_type": "execute_result"
    }
   ],
   "source": [
    "scaler= MinMaxScaler()\n",
    "feature_scaled=scaler.fit_transform(X)\n",
    "feature_scaled.shape"
   ]
  },
  {
   "cell_type": "code",
   "execution_count": 32,
   "metadata": {},
   "outputs": [
    {
     "name": "stdout",
     "output_type": "stream",
     "text": [
      "<class 'pandas.core.frame.DataFrame'>\n",
      "RangeIndex: 116 entries, 0 to 115\n",
      "Data columns (total 10 columns):\n",
      "Age               116 non-null int64\n",
      "BMI               116 non-null float64\n",
      "Glucose           116 non-null int64\n",
      "Insulin           116 non-null float64\n",
      "HOMA              116 non-null float64\n",
      "Leptin            116 non-null float64\n",
      "Adiponectin       116 non-null float64\n",
      "Resistin          116 non-null float64\n",
      "MCP.1             116 non-null float64\n",
      "Classification    116 non-null int64\n",
      "dtypes: float64(7), int64(3)\n",
      "memory usage: 9.2 KB\n"
     ]
    }
   ],
   "source": [
    "df.info()"
   ]
  },
  {
   "cell_type": "markdown",
   "metadata": {},
   "source": [
    "<div class=\"alert alert-danger\">\n",
    " <font size=\"3\"><p align=\"justify\">Pada ANN ini terdapat 2 output : \n",
    "<ul>\n",
    "<li style=\"text-align: left;\">\n",
    "    Control Healthy = kondisi saat ANN menetapkan bahwa pasien hanya mengontrol kesehatan, nilai yang di ambil adalah pada Variabel \"Classification\" dengan nilai 1 yang ada pada dataset.\n",
    "</li> \n",
    "</ul>\n",
    "\n",
    "<ul>\n",
    "<li style=\"text-align: left;\">\n",
    "Patients = kondisi saat ANN menetapkan bahwa pasien mengidap penyakit kanker payudara, nilai yang di ambil adalah pada Variabel \"Classification\" dengan nilai 2 yang ada pada dataset.</h4>\n",
    "</li>\n",
    "</ul>\n",
    "    \n",
    "<div>"
   ]
  },
  {
   "cell_type": "code",
   "execution_count": 33,
   "metadata": {
    "scrolled": true
   },
   "outputs": [
    {
     "data": {
      "text/plain": [
       "Text(0.5, 0, 'Classification')"
      ]
     },
     "execution_count": 33,
     "metadata": {},
     "output_type": "execute_result"
    },
    {
     "data": {
      "image/png": "[encoded data removed]",
      "text/plain": [
       "<Figure size 432x288 with 1 Axes>"
      ]
     },
     "metadata": {
      "needs_background": "light"
     },
     "output_type": "display_data"
    }
   ],
   "source": [
    "labels = ['Patients','Control Healthy']\n",
    "classes = pd.value_counts(df['Classification'], sort = True)\n",
    "classes.plot(kind = 'bar', rot=0)\n",
    "\n",
    "plt.xticks(range(2), labels)\n",
    "plt.xlabel(\"Classification\")"
   ]
  },
  {
   "cell_type": "markdown",
   "metadata": {},
   "source": [
    "<div class=\"alert alert-info\">\n",
    "<h2> <center> M O D E L"
   ]
  },
  {
   "cell_type": "code",
   "execution_count": 34,
   "metadata": {},
   "outputs": [],
   "source": [
    "x_train, x_test, y_train, y_test = train_test_split(X, Y, test_size=0.2, random_state=1)"
   ]
  },
  {
   "cell_type": "markdown",
   "metadata": {},
   "source": [
    "<div class=\"alert alert-danger\">\n",
    " <font size=\"3\"><p align=\"justify\">Pendeklarasian Variabel dengan ketentuan sebagai berikut : \n",
    "\n",
    "<ul>\n",
    "<li style=\"text-align: left;\">\n",
    "x_train adalah variabel yang akan digunakan untuk data training X\n",
    "</li>\n",
    "</ul>\n",
    "\n",
    "<ul>\n",
    "<li style=\"text-align: left;\">\n",
    "x_test adalah variabel yang akan digunakan untuk data testing X\n",
    "</li>\n",
    "</ul>\n",
    "\n",
    "<ul>\n",
    "<li style=\"text-align: left;\">\n",
    "y_train adalah variabel yang akan digunakan untuk data training Y\n",
    "</li>\n",
    "</ul>\n",
    "\n",
    "<ul>\n",
    "<li style=\"text-align: left;\">\n",
    "y_test adalah variabel yang akan digunakan untuk data testing Y\n",
    "</li>\n",
    "</ul>\n",
    "\n",
    "Pada codingan di atas digunakan modul train_test_split untuk membagi data yang akan digunakan untuk testing dan training, data untuk testing sebesar 20%, dan data untuk training sebesar 80%.\n",
    "<ul>\n",
    "<li style=\"text-align: left;\">\n",
    "Training set merupakan bagian dataset yang dilatih untuk membuat prediksi atau menjalankan fungsi dari sebuah algoritma Machine Learning lainnya sesuai tujuannya masing-masing.\n",
    "</li>\n",
    "</ul>\n",
    "\n",
    "<ul>\n",
    "<li style=\"text-align: left;\">\n",
    "Testing set merupakan bagian dataset yang di tes untuk melihat keakuratannya atau dengan kata lain performanya.\n",
    "</li>\n",
    "</ul>\n",
    "<div>"
   ]
  },
  {
   "cell_type": "code",
   "execution_count": 35,
   "metadata": {},
   "outputs": [
    {
     "data": {
      "text/plain": [
       "(array([0, 1], dtype=int64), array([ 6, 18], dtype=int64))"
      ]
     },
     "execution_count": 35,
     "metadata": {},
     "output_type": "execute_result"
    }
   ],
   "source": [
    "np.unique(y_test,return_counts=True)"
   ]
  },
  {
   "cell_type": "markdown",
   "metadata": {},
   "source": [
    "<div class=\"alert alert-danger\">\n",
    " <font size=\"3\"><p align=\"justify\">Model Sekuensial merupakan tumpukan lapisan linear. Dalam menentukan bentuk masukan, model perlu tahu bentuk masukan apa yang diharapkan. Lapisan pertama dalam model Sequential (dan hanya yang pertama, karena lapisan berikutnya dapat melakukan inferensi bentuk otomatis) perlu menerima informasi tentang bentuk inputnya. Kemudian untuk menambahkan lapisan cukup dengan menambahkan perintah add.\n",
    "\n",
    "<div class=\"alert alert-danger\">\n",
    " <font size=\"3\"><p align=\"justify\"><strong>Pada Model yang saya buat terdapat beberapa layer yaitu :</strong>\n",
    "<ul>\n",
    "<li style=\"text-align: left;\">\n",
    "    LAYER INPUT : Pada Layer Input terdapat 9 jenis nilai yang diambil dari dataset Liver Disorders.\n",
    "</li> \n",
    "</ul>\n",
    "\n",
    "<ul>\n",
    "<li style=\"text-align: left;\">\n",
    "    HIDDEN LAYER: Pada model terdapat satu Hidden Layer yang memiliki neuron sebanyak 100.\n",
    "</li>\n",
    "</ul>\n",
    "\n",
    "<ul>\n",
    "<li style=\"text-align: left;\">\n",
    "   OUTPUT LAYER: Pada Layer Output terdapat 2 nilai yang dihasilkan yaitu 1 dan 2.\n",
    "</li>\n",
    "</ul>\n",
    "   \n",
    "<div>"
   ]
  },
  {
   "cell_type": "code",
   "execution_count": 36,
   "metadata": {},
   "outputs": [],
   "source": [
    "model = Sequential()\n",
    "model.add(Dense(units= 100, input_dim =9 , activation='relu'))\n",
    "model.add(Dense(units= 100, activation='relu'))\n",
    "model.add(Dense(units= 1, activation='sigmoid'))"
   ]
  },
  {
   "cell_type": "markdown",
   "metadata": {},
   "source": [
    "<div class=\"alert alert-danger\">\n",
    "<h3>Penjelasan fungsi aktivasi yang digunakan : </h3>\n",
    "<ul>\n",
    "<li style=\"text-align: left;\">\n",
    "    <h4><b>Relu merupakan fungsi aktivasi yang digunakan pada layer ini.</h4></b>\n",
    "</li> \n",
    "</ul>\n",
    "\n",
    "<ul>\n",
    "<li style=\"text-align: left;\">\n",
    "<h4>Sigmoid = Merupakan fungsi aktivasi yang digunakan pada layer ini, fungsi aktivasi sigmoid memberikan output dengan rentang nilai antara 0 s/d 1.</h4>\n",
    "</li>\n",
    "</ul>\n",
    "    \n",
    "<div>"
   ]
  },
  {
   "cell_type": "code",
   "execution_count": 37,
   "metadata": {},
   "outputs": [],
   "source": [
    "model.compile(optimizer=Adam(lr=0.001), loss='binary_crossentropy', metrics=['accuracy'])"
   ]
  },
  {
   "cell_type": "markdown",
   "metadata": {},
   "source": [
    "<div class=\"alert alert-danger\">\n",
    "<h3>Penjelasan coding yang digunakan di bawah : </h3>\n",
    "<ul>\n",
    "    \n",
    "<ul>\n",
    "<li style=\"text-align: left;\">\n",
    "<h4>Epoch merupakan kondisi ketika seluruh dataset sudah melalui proses training pada Neural Netwok sampai dikembalikan ke awal untuk sekali putaran (backpropagation)</h4>\n",
    "</li>\n",
    "</ul>\n",
    "    \n",
    "\n",
    "<ul>\n",
    "<li style=\"text-align: left;\">\n",
    "<h4>Batch Size 16 = adalah jumlah sampel data yang disebarkan ke Neural Network. Jadi dataset akan dibagi menjadi 16 bagian untuk memudahkan index pada saat pelatihan.\n",
    "</li>\n",
    "</ul>\n",
    "\n",
    "<ul>\n",
    "<li style=\"text-align: left;\">\n",
    "<h4>Validation Adalah ukuran data yang akan digunakan untuk testing dan training.\n",
    "</li>\n",
    "</ul>"
   ]
  },
  {
   "cell_type": "code",
   "execution_count": 38,
   "metadata": {},
   "outputs": [
    {
     "name": "stdout",
     "output_type": "stream",
     "text": [
      "Train on 92 samples, validate on 24 samples\n",
      "Epoch 1/100\n",
      "92/92 [==============================] - 1s 14ms/step - loss: 4.3087 - acc: 0.5543 - val_loss: 2.2051 - val_acc: 0.5000\n",
      "Epoch 2/100\n",
      "92/92 [==============================] - 0s 238us/step - loss: 2.8648 - acc: 0.4891 - val_loss: 0.6769 - val_acc: 0.6667\n",
      "Epoch 3/100\n",
      "92/92 [==============================] - 0s 1ms/step - loss: 1.7031 - acc: 0.5652 - val_loss: 3.2869 - val_acc: 0.3333\n",
      "Epoch 4/100\n",
      "92/92 [==============================] - 0s 1ms/step - loss: 1.8227 - acc: 0.5761 - val_loss: 1.1608 - val_acc: 0.7500\n",
      "Epoch 5/100\n",
      "92/92 [==============================] - 0s 570us/step - loss: 2.0026 - acc: 0.5435 - val_loss: 1.4223 - val_acc: 0.2500\n",
      "Epoch 6/100\n",
      "92/92 [==============================] - 0s 520us/step - loss: 0.9922 - acc: 0.6848 - val_loss: 1.6341 - val_acc: 0.2917\n",
      "Epoch 7/100\n",
      "92/92 [==============================] - 0s 925us/step - loss: 1.3234 - acc: 0.6413 - val_loss: 1.5169 - val_acc: 0.6667\n",
      "Epoch 8/100\n",
      "92/92 [==============================] - 0s 684us/step - loss: 2.5142 - acc: 0.5109 - val_loss: 2.2932 - val_acc: 0.2917\n",
      "Epoch 9/100\n",
      "92/92 [==============================] - 0s 445us/step - loss: 1.1820 - acc: 0.5870 - val_loss: 0.7459 - val_acc: 0.5833\n",
      "Epoch 10/100\n",
      "92/92 [==============================] - 0s 928us/step - loss: 0.6415 - acc: 0.7500 - val_loss: 0.8297 - val_acc: 0.6667\n",
      "Epoch 11/100\n",
      "92/92 [==============================] - 0s 578us/step - loss: 0.6026 - acc: 0.7174 - val_loss: 1.1501 - val_acc: 0.5833\n",
      "Epoch 12/100\n",
      "92/92 [==============================] - 0s 1ms/step - loss: 0.5756 - acc: 0.7609 - val_loss: 0.8555 - val_acc: 0.6250\n",
      "Epoch 13/100\n",
      "92/92 [==============================] - 0s 673us/step - loss: 1.1827 - acc: 0.5978 - val_loss: 0.6602 - val_acc: 0.6250\n",
      "Epoch 14/100\n",
      "92/92 [==============================] - 0s 292us/step - loss: 0.9165 - acc: 0.6522 - val_loss: 2.4701 - val_acc: 0.3333\n",
      "Epoch 15/100\n",
      "92/92 [==============================] - 0s 999us/step - loss: 1.6950 - acc: 0.5543 - val_loss: 1.0434 - val_acc: 0.6667\n",
      "Epoch 16/100\n",
      "92/92 [==============================] - 0s 795us/step - loss: 1.0529 - acc: 0.6413 - val_loss: 1.1644 - val_acc: 0.5833\n",
      "Epoch 17/100\n",
      "92/92 [==============================] - 0s 702us/step - loss: 0.8522 - acc: 0.6522 - val_loss: 1.2856 - val_acc: 0.6250\n",
      "Epoch 18/100\n",
      "92/92 [==============================] - 0s 792us/step - loss: 0.7409 - acc: 0.7065 - val_loss: 0.8488 - val_acc: 0.6250\n",
      "Epoch 19/100\n",
      "92/92 [==============================] - 0s 868us/step - loss: 0.6782 - acc: 0.7174 - val_loss: 1.2070 - val_acc: 0.6250\n",
      "Epoch 20/100\n",
      "92/92 [==============================] - 0s 1ms/step - loss: 0.6760 - acc: 0.6739 - val_loss: 0.7577 - val_acc: 0.5833\n",
      "Epoch 21/100\n",
      "92/92 [==============================] - 0s 932us/step - loss: 0.5533 - acc: 0.7283 - val_loss: 0.8267 - val_acc: 0.6250\n",
      "Epoch 22/100\n",
      "92/92 [==============================] - 0s 1ms/step - loss: 0.6937 - acc: 0.6848 - val_loss: 0.7928 - val_acc: 0.7083\n",
      "Epoch 23/100\n",
      "92/92 [==============================] - 0s 1ms/step - loss: 0.5491 - acc: 0.7500 - val_loss: 1.0502 - val_acc: 0.6667\n",
      "Epoch 24/100\n",
      "92/92 [==============================] - 0s 1ms/step - loss: 0.4339 - acc: 0.8043 - val_loss: 0.8562 - val_acc: 0.6250\n",
      "Epoch 25/100\n",
      "92/92 [==============================] - 0s 1ms/step - loss: 0.4428 - acc: 0.7609 - val_loss: 0.7376 - val_acc: 0.6667\n",
      "Epoch 26/100\n",
      "92/92 [==============================] - 0s 1ms/step - loss: 0.5066 - acc: 0.7826 - val_loss: 0.8937 - val_acc: 0.6250\n",
      "Epoch 27/100\n",
      "92/92 [==============================] - 0s 1ms/step - loss: 0.4165 - acc: 0.8152 - val_loss: 1.2646 - val_acc: 0.6667\n",
      "Epoch 28/100\n",
      "92/92 [==============================] - 0s 1ms/step - loss: 0.9506 - acc: 0.6739 - val_loss: 0.7511 - val_acc: 0.6667\n",
      "Epoch 29/100\n",
      "92/92 [==============================] - 0s 1ms/step - loss: 0.6481 - acc: 0.7174 - val_loss: 0.7383 - val_acc: 0.6667\n",
      "Epoch 30/100\n",
      "92/92 [==============================] - 0s 2ms/step - loss: 0.6156 - acc: 0.7391 - val_loss: 0.7422 - val_acc: 0.7500\n",
      "Epoch 31/100\n",
      "92/92 [==============================] - 0s 2ms/step - loss: 0.3364 - acc: 0.8696 - val_loss: 0.6953 - val_acc: 0.7083\n",
      "Epoch 32/100\n",
      "92/92 [==============================] - 0s 798us/step - loss: 0.5689 - acc: 0.7826 - val_loss: 0.7438 - val_acc: 0.6667\n",
      "Epoch 33/100\n",
      "92/92 [==============================] - 0s 2ms/step - loss: 0.6931 - acc: 0.6957 - val_loss: 0.7363 - val_acc: 0.6667\n",
      "Epoch 34/100\n",
      "92/92 [==============================] - 0s 1ms/step - loss: 0.6685 - acc: 0.7283 - val_loss: 0.7138 - val_acc: 0.7083\n",
      "Epoch 35/100\n",
      "92/92 [==============================] - 0s 911us/step - loss: 0.4217 - acc: 0.7935 - val_loss: 0.8959 - val_acc: 0.6250\n",
      "Epoch 36/100\n",
      "92/92 [==============================] - 0s 585us/step - loss: 0.3373 - acc: 0.8370 - val_loss: 0.7593 - val_acc: 0.7083\n",
      "Epoch 37/100\n",
      "92/92 [==============================] - 0s 559us/step - loss: 0.3313 - acc: 0.8261 - val_loss: 0.7461 - val_acc: 0.7083\n",
      "Epoch 38/100\n",
      "92/92 [==============================] - 0s 1ms/step - loss: 0.5646 - acc: 0.6848 - val_loss: 0.9417 - val_acc: 0.6250\n",
      "Epoch 39/100\n",
      "92/92 [==============================] - 0s 1ms/step - loss: 0.3926 - acc: 0.8370 - val_loss: 0.9407 - val_acc: 0.6250\n",
      "Epoch 40/100\n",
      "92/92 [==============================] - 0s 809us/step - loss: 0.5786 - acc: 0.6957 - val_loss: 1.3410 - val_acc: 0.6250\n",
      "Epoch 41/100\n",
      "92/92 [==============================] - 0s 1ms/step - loss: 0.9175 - acc: 0.6848 - val_loss: 0.7922 - val_acc: 0.7083\n",
      "Epoch 42/100\n",
      "92/92 [==============================] - 0s 478us/step - loss: 0.6154 - acc: 0.6957 - val_loss: 0.7595 - val_acc: 0.6667\n",
      "Epoch 43/100\n",
      "92/92 [==============================] - 0s 2ms/step - loss: 0.5597 - acc: 0.7283 - val_loss: 1.2510 - val_acc: 0.6667\n",
      "Epoch 44/100\n",
      "92/92 [==============================] - 0s 1ms/step - loss: 0.6021 - acc: 0.7717 - val_loss: 1.0432 - val_acc: 0.6250\n",
      "Epoch 45/100\n",
      "92/92 [==============================] - 0s 868us/step - loss: 1.2777 - acc: 0.7174 - val_loss: 0.9744 - val_acc: 0.6250\n",
      "Epoch 46/100\n",
      "92/92 [==============================] - 0s 553us/step - loss: 0.9480 - acc: 0.7500 - val_loss: 1.1873 - val_acc: 0.6667\n",
      "Epoch 47/100\n",
      "92/92 [==============================] - 0s 1ms/step - loss: 0.6015 - acc: 0.7826 - val_loss: 1.0327 - val_acc: 0.6250\n",
      "Epoch 48/100\n",
      "92/92 [==============================] - 0s 1ms/step - loss: 0.3938 - acc: 0.7935 - val_loss: 0.9068 - val_acc: 0.6250\n",
      "Epoch 49/100\n",
      "92/92 [==============================] - 0s 921us/step - loss: 0.3893 - acc: 0.8261 - val_loss: 0.8206 - val_acc: 0.6667\n",
      "Epoch 50/100\n",
      "92/92 [==============================] - 0s 1ms/step - loss: 0.4073 - acc: 0.7935 - val_loss: 1.5946 - val_acc: 0.6250\n",
      "Epoch 51/100\n",
      "92/92 [==============================] - 0s 835us/step - loss: 0.7921 - acc: 0.7065 - val_loss: 0.8636 - val_acc: 0.6667\n",
      "Epoch 52/100\n",
      "92/92 [==============================] - 0s 1ms/step - loss: 0.5293 - acc: 0.7717 - val_loss: 0.8018 - val_acc: 0.5833\n",
      "Epoch 53/100\n",
      "92/92 [==============================] - 0s 1ms/step - loss: 0.4912 - acc: 0.7935 - val_loss: 0.8691 - val_acc: 0.6667\n",
      "Epoch 54/100\n",
      "92/92 [==============================] - 0s 1ms/step - loss: 0.3065 - acc: 0.8587 - val_loss: 0.9190 - val_acc: 0.6667\n",
      "Epoch 55/100\n",
      "92/92 [==============================] - 0s 706us/step - loss: 0.3733 - acc: 0.8370 - val_loss: 0.7840 - val_acc: 0.7083\n",
      "Epoch 56/100\n",
      "92/92 [==============================] - 0s 649us/step - loss: 0.3501 - acc: 0.8478 - val_loss: 0.7791 - val_acc: 0.7500\n",
      "Epoch 57/100\n",
      "92/92 [==============================] - 0s 1ms/step - loss: 0.3166 - acc: 0.8370 - val_loss: 0.7510 - val_acc: 0.7500\n",
      "Epoch 58/100\n",
      "92/92 [==============================] - 0s 1ms/step - loss: 0.3057 - acc: 0.8152 - val_loss: 0.8037 - val_acc: 0.7500\n",
      "Epoch 59/100\n",
      "92/92 [==============================] - 0s 1ms/step - loss: 0.2860 - acc: 0.8696 - val_loss: 0.8700 - val_acc: 0.7083\n",
      "Epoch 60/100\n",
      "92/92 [==============================] - 0s 1ms/step - loss: 0.3097 - acc: 0.9130 - val_loss: 0.8022 - val_acc: 0.7083\n",
      "Epoch 61/100\n",
      "92/92 [==============================] - 0s 629us/step - loss: 0.5663 - acc: 0.7826 - val_loss: 1.1778 - val_acc: 0.6667\n",
      "Epoch 62/100\n"
     ]
    },
    {
     "name": "stdout",
     "output_type": "stream",
     "text": [
      "92/92 [==============================] - 0s 2ms/step - loss: 0.4655 - acc: 0.8043 - val_loss: 1.1476 - val_acc: 0.6250\n",
      "Epoch 63/100\n",
      "92/92 [==============================] - 0s 620us/step - loss: 0.5194 - acc: 0.7717 - val_loss: 0.8366 - val_acc: 0.7083\n",
      "Epoch 64/100\n",
      "92/92 [==============================] - 0s 597us/step - loss: 0.5947 - acc: 0.7935 - val_loss: 0.8907 - val_acc: 0.7083\n",
      "Epoch 65/100\n",
      "92/92 [==============================] - 0s 500us/step - loss: 0.6937 - acc: 0.7391 - val_loss: 1.3336 - val_acc: 0.6667\n",
      "Epoch 66/100\n",
      "92/92 [==============================] - 0s 499us/step - loss: 0.5996 - acc: 0.7826 - val_loss: 1.2329 - val_acc: 0.6667\n",
      "Epoch 67/100\n",
      "92/92 [==============================] - 0s 488us/step - loss: 0.6223 - acc: 0.7391 - val_loss: 0.8160 - val_acc: 0.7500\n",
      "Epoch 68/100\n",
      "92/92 [==============================] - 0s 674us/step - loss: 0.6938 - acc: 0.8152 - val_loss: 0.8209 - val_acc: 0.7500\n",
      "Epoch 69/100\n",
      "92/92 [==============================] - 0s 542us/step - loss: 1.0497 - acc: 0.6739 - val_loss: 1.4260 - val_acc: 0.6667\n",
      "Epoch 70/100\n",
      "92/92 [==============================] - 0s 521us/step - loss: 0.3595 - acc: 0.8261 - val_loss: 0.9211 - val_acc: 0.7083\n",
      "Epoch 71/100\n",
      "92/92 [==============================] - 0s 553us/step - loss: 0.3276 - acc: 0.8587 - val_loss: 1.0059 - val_acc: 0.6667\n",
      "Epoch 72/100\n",
      "92/92 [==============================] - 0s 495us/step - loss: 0.3769 - acc: 0.8370 - val_loss: 0.9952 - val_acc: 0.6667\n",
      "Epoch 73/100\n",
      "92/92 [==============================] - 0s 455us/step - loss: 0.3778 - acc: 0.8152 - val_loss: 0.8486 - val_acc: 0.7500\n",
      "Epoch 74/100\n",
      "92/92 [==============================] - 0s 569us/step - loss: 0.9024 - acc: 0.7174 - val_loss: 1.1839 - val_acc: 0.6250\n",
      "Epoch 75/100\n",
      "92/92 [==============================] - 0s 596us/step - loss: 0.4446 - acc: 0.7609 - val_loss: 1.1843 - val_acc: 0.6250\n",
      "Epoch 76/100\n",
      "92/92 [==============================] - 0s 651us/step - loss: 0.7103 - acc: 0.7717 - val_loss: 0.9304 - val_acc: 0.6250\n",
      "Epoch 77/100\n",
      "92/92 [==============================] - 0s 828us/step - loss: 0.8613 - acc: 0.7174 - val_loss: 0.9590 - val_acc: 0.7500\n",
      "Epoch 78/100\n",
      "92/92 [==============================] - 0s 618us/step - loss: 0.3920 - acc: 0.8261 - val_loss: 1.3353 - val_acc: 0.6250\n",
      "Epoch 79/100\n",
      "92/92 [==============================] - 0s 591us/step - loss: 0.4078 - acc: 0.8370 - val_loss: 0.9065 - val_acc: 0.7500\n",
      "Epoch 80/100\n",
      "92/92 [==============================] - 0s 782us/step - loss: 0.3459 - acc: 0.8804 - val_loss: 0.8822 - val_acc: 0.7500\n",
      "Epoch 81/100\n",
      "92/92 [==============================] - 0s 510us/step - loss: 0.6226 - acc: 0.8152 - val_loss: 1.1410 - val_acc: 0.6250\n",
      "Epoch 82/100\n",
      "92/92 [==============================] - 0s 635us/step - loss: 0.4577 - acc: 0.8261 - val_loss: 1.2635 - val_acc: 0.6250\n",
      "Epoch 83/100\n",
      "92/92 [==============================] - 0s 564us/step - loss: 0.7008 - acc: 0.7609 - val_loss: 0.9302 - val_acc: 0.6667\n",
      "Epoch 84/100\n",
      "92/92 [==============================] - 0s 488us/step - loss: 0.6594 - acc: 0.7283 - val_loss: 0.9794 - val_acc: 0.7083\n",
      "Epoch 85/100\n",
      "92/92 [==============================] - 0s 392us/step - loss: 0.4827 - acc: 0.8261 - val_loss: 1.4364 - val_acc: 0.6667\n",
      "Epoch 86/100\n",
      "92/92 [==============================] - 0s 622us/step - loss: 0.5489 - acc: 0.7609 - val_loss: 1.0756 - val_acc: 0.6667\n",
      "Epoch 87/100\n",
      "92/92 [==============================] - 0s 608us/step - loss: 0.5391 - acc: 0.7609 - val_loss: 0.9075 - val_acc: 0.7500\n",
      "Epoch 88/100\n",
      "92/92 [==============================] - 0s 587us/step - loss: 0.4203 - acc: 0.8043 - val_loss: 0.9519 - val_acc: 0.7083\n",
      "Epoch 89/100\n",
      "92/92 [==============================] - 0s 564us/step - loss: 0.3693 - acc: 0.8261 - val_loss: 1.4590 - val_acc: 0.6250\n",
      "Epoch 90/100\n",
      "92/92 [==============================] - 0s 586us/step - loss: 0.5828 - acc: 0.7935 - val_loss: 1.1255 - val_acc: 0.6250\n",
      "Epoch 91/100\n",
      "92/92 [==============================] - 0s 1ms/step - loss: 0.4581 - acc: 0.8261 - val_loss: 0.9301 - val_acc: 0.7083\n",
      "Epoch 92/100\n",
      "92/92 [==============================] - 0s 573us/step - loss: 0.3601 - acc: 0.8696 - val_loss: 0.8899 - val_acc: 0.7500\n",
      "Epoch 93/100\n",
      "92/92 [==============================] - 0s 347us/step - loss: 0.3676 - acc: 0.8478 - val_loss: 1.5946 - val_acc: 0.6667\n",
      "Epoch 94/100\n",
      "92/92 [==============================] - 0s 760us/step - loss: 0.5711 - acc: 0.7826 - val_loss: 0.9168 - val_acc: 0.7500\n",
      "Epoch 95/100\n",
      "92/92 [==============================] - 0s 390us/step - loss: 0.3946 - acc: 0.8696 - val_loss: 0.9018 - val_acc: 0.7500\n",
      "Epoch 96/100\n",
      "92/92 [==============================] - 0s 830us/step - loss: 0.3405 - acc: 0.8478 - val_loss: 0.9358 - val_acc: 0.7500\n",
      "Epoch 97/100\n",
      "92/92 [==============================] - 0s 1ms/step - loss: 0.2219 - acc: 0.8804 - val_loss: 1.0276 - val_acc: 0.7083\n",
      "Epoch 98/100\n",
      "92/92 [==============================] - 0s 874us/step - loss: 0.2312 - acc: 0.8696 - val_loss: 1.1863 - val_acc: 0.6250\n",
      "Epoch 99/100\n",
      "92/92 [==============================] - 0s 767us/step - loss: 0.2375 - acc: 0.9022 - val_loss: 1.1464 - val_acc: 0.6250\n",
      "Epoch 100/100\n",
      "92/92 [==============================] - 0s 1ms/step - loss: 0.2175 - acc: 0.9130 - val_loss: 0.9352 - val_acc: 0.7083\n"
     ]
    }
   ],
   "source": [
    "acc_training = model.fit(x_train, y_train, validation_data=(x_test, y_test), batch_size=16, \n",
    "                         epochs=100)"
   ]
  },
  {
   "cell_type": "markdown",
   "metadata": {},
   "source": [
    "<div class=\"alert alert-info\">\n",
    "<h2> <center> A K U R A S I"
   ]
  },
  {
   "cell_type": "code",
   "execution_count": 39,
   "metadata": {},
   "outputs": [
    {
     "name": "stdout",
     "output_type": "stream",
     "text": [
      "\r",
      "24/24 [==============================] - 0s 463us/step\n"
     ]
    },
    {
     "data": {
      "text/plain": [
       "[0.9351648688316345, 0.7083333134651184]"
      ]
     },
     "execution_count": 39,
     "metadata": {},
     "output_type": "execute_result"
    }
   ],
   "source": [
    "acc_testing  = model.evaluate(x_test, y_test) \n",
    "acc_testing"
   ]
  },
  {
   "cell_type": "markdown",
   "metadata": {},
   "source": [
    "<div class=\"alert alert-info\">\n",
    "<h2> <center> PLOT AKURASI"
   ]
  },
  {
   "cell_type": "code",
   "execution_count": 40,
   "metadata": {
    "scrolled": true
   },
   "outputs": [
    {
     "data": {
      "image/png": "[encoded data removed]",
      "text/plain": [
       "<Figure size 432x288 with 1 Axes>"
      ]
     },
     "metadata": {
      "needs_background": "light"
     },
     "output_type": "display_data"
    }
   ],
   "source": [
    "plt.plot(acc_training.history['acc'])\n",
    "plt.plot(acc_training.history['val_acc'])\n",
    "plt.title('model acc')\n",
    "plt.ylabel('Akurasi')\n",
    "plt.xlabel('Epoch')\n",
    "plt.legend(['Data training', 'Data Testing'], loc='upper left')\n",
    "plt.show()"
   ]
  },
  {
   "cell_type": "code",
   "execution_count": 41,
   "metadata": {},
   "outputs": [
    {
     "data": {
      "image/png": "[encoded data removed]",
      "text/plain": [
       "<Figure size 432x288 with 1 Axes>"
      ]
     },
     "metadata": {
      "needs_background": "light"
     },
     "output_type": "display_data"
    }
   ],
   "source": [
    "plt.plot(acc_training.history['loss'])\n",
    "plt.plot(acc_training.history['val_loss'])\n",
    "plt.title('Model Loss')\n",
    "plt.ylabel('Loss')\n",
    "plt.xlabel('Epoch')\n",
    "plt.legend(['Data training', 'Data Testing'], loc='upper left')\n",
    "plt.show()"
   ]
  },
  {
   "cell_type": "code",
   "execution_count": 42,
   "metadata": {},
   "outputs": [],
   "source": [
    "# INport Confusion Matrix\n",
    "from sklearn.metrics import confusion_matrix,classification_report\n",
    "prediction = model.predict_classes(x_test)"
   ]
  },
  {
   "cell_type": "code",
   "execution_count": 43,
   "metadata": {},
   "outputs": [
    {
     "data": {
      "text/plain": [
       "array([1, 0, 1, 1, 1, 1, 1, 1, 0, 0, 1, 1, 0, 1, 1, 1, 1, 1, 1, 0, 1, 0,\n",
       "       1, 1], dtype=int64)"
      ]
     },
     "execution_count": 43,
     "metadata": {},
     "output_type": "execute_result"
    }
   ],
   "source": [
    "y_test"
   ]
  },
  {
   "cell_type": "code",
   "execution_count": 44,
   "metadata": {},
   "outputs": [
    {
     "name": "stdout",
     "output_type": "stream",
     "text": [
      "[1 0 1 1 1 1 1 1 0 0]\n",
      "[[0]\n",
      " [0]\n",
      " [1]\n",
      " [1]\n",
      " [1]\n",
      " [0]\n",
      " [0]\n",
      " [0]\n",
      " [0]\n",
      " [1]]\n"
     ]
    }
   ],
   "source": [
    "print (y_test[:10])\n",
    "print (prediction[:10])"
   ]
  },
  {
   "cell_type": "markdown",
   "metadata": {},
   "source": [
    "<div class=\"alert alert-info\">\n",
    "<h2> <center> Confusion MATRIX"
   ]
  },
  {
   "cell_type": "code",
   "execution_count": 45,
   "metadata": {},
   "outputs": [
    {
     "name": "stdout",
     "output_type": "stream",
     "text": [
      "[[ 4  2]\n",
      " [ 5 13]]\n"
     ]
    }
   ],
   "source": [
    "cm = confusion_matrix(y_test, prediction) \n",
    "print(cm)"
   ]
  },
  {
   "cell_type": "code",
   "execution_count": 46,
   "metadata": {},
   "outputs": [
    {
     "name": "stdout",
     "output_type": "stream",
     "text": [
      "              precision    recall  f1-score   support\n",
      "\n",
      "           0       0.44      0.67      0.53         6\n",
      "           1       0.87      0.72      0.79        18\n",
      "\n",
      "    accuracy                           0.71        24\n",
      "   macro avg       0.66      0.69      0.66        24\n",
      "weighted avg       0.76      0.71      0.72        24\n",
      "\n"
     ]
    }
   ],
   "source": [
    "print(classification_report(y_test,prediction))"
   ]
  }
 ],
 "metadata": {
  "kernelspec": {
   "display_name": "Python 3",
   "language": "python",
   "name": "python3"
  },
  "language_info": {
   "codemirror_mode": {
    "name": "ipython",
    "version": 3
   },
   "file_extension": ".py",
   "mimetype": "text/x-python",
   "name": "python",
   "nbconvert_exporter": "python",
   "pygments_lexer": "ipython3",
   "version": "3.6.9"
  }
 },
 "nbformat": 4,
 "nbformat_minor": 2
}
