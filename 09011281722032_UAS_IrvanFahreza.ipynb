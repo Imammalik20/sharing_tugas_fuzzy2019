{
 "cells": [
  {
   "cell_type": "markdown",
   "metadata": {},
   "source": [
    "# Breast Cancer\n",
    "\n",
    "Di seluruh dunia, kanker payudara adalah jenis kanker yang paling umum pada wanita dan tertinggi kedua dalam hal tingkat kematian. Diagnosis kanker payudara dilakukan ketika benjolan abnormal ditemukan (dari pemeriksaan sendiri atau x-ray) atau setitik kecil dari kalsium terlihat (pada x-ray). Setelah benjolan yang mencurigakan ditemukan, dokter akan melakukan diagnosis untuk menentukan apakah itu adalah kanker dan, jika demikian, apakah telah menyebar ke bagian lain dari tubuh.\n",
    "\n",
    "Dataset kanker payudara ini diperoleh dari University of Wisconsin Hospitals, Madison dari Dr. William H. Wolberg."
   ]
  },
  {
   "cell_type": "markdown",
   "metadata": {},
   "source": [
    "## Dataset"
   ]
  },
  {
   "cell_type": "markdown",
   "metadata": {},
   "source": [
    "Dataset breast cancer ini terdiri dari 569 data yang menjelaskan tentang kanker payudara. Pada Dataset ini terdapat 6 variabel yang terdiri dari :\n",
    "1. mean_radius\n",
    "2. mean_texture\n",
    "3. mean_perimeter\n",
    "4. mean_area\n",
    "5. mean_smoothness\n",
    "6. diagnosis\n",
    "    - 0 = Tidak terdiagnosa Kanker Payudara\n",
    "    - 1 = terdiagnosa Kanker Payudara\n",
    "\n",
    "Dataset ini dapat diunduh melalui link : https://www.kaggle.com/merishnasuwal/breast-cancer-prediction-dataset/download/nHi1uj8ANJ3EVQrbUCcP%2Fversions%2FH2oqekzDXcgRFUS9pcpI%2Ffiles%2FBreast_cancer_data.csv?datasetVersionNumber=1"
   ]
  },
  {
   "cell_type": "markdown",
   "metadata": {},
   "source": [
    "#### Import Library"
   ]
  },
  {
   "cell_type": "code",
   "execution_count": 1,
   "metadata": {},
   "outputs": [],
   "source": [
    "import numpy as np\n",
    "import pandas as pd\n",
    "import matplotlib.pyplot as plt"
   ]
  },
  {
   "cell_type": "markdown",
   "metadata": {},
   "source": [
    "#### Import Dataset\n",
    "\n",
    "Menampilkan 5 data pertama dan 5 data terakhir"
   ]
  },
  {
   "cell_type": "code",
   "execution_count": 2,
   "metadata": {
    "scrolled": true
   },
   "outputs": [
    {
     "data": {
      "text/html": [
       "<div>\n",
       "<style scoped>\n",
       "    .dataframe tbody tr th:only-of-type {\n",
       "        vertical-align: middle;\n",
       "    }\n",
       "\n",
       "    .dataframe tbody tr th {\n",
       "        vertical-align: top;\n",
       "    }\n",
       "\n",
       "    .dataframe thead th {\n",
       "        text-align: right;\n",
       "    }\n",
       "</style>\n",
       "<table border=\"1\" class=\"dataframe\">\n",
       "  <thead>\n",
       "    <tr style=\"text-align: right;\">\n",
       "      <th></th>\n",
       "      <th>mean_radius</th>\n",
       "      <th>mean_texture</th>\n",
       "      <th>mean_perimeter</th>\n",
       "      <th>mean_area</th>\n",
       "      <th>mean_smoothness</th>\n",
       "      <th>diagnosis</th>\n",
       "    </tr>\n",
       "  </thead>\n",
       "  <tbody>\n",
       "    <tr>\n",
       "      <th>0</th>\n",
       "      <td>17.99</td>\n",
       "      <td>10.38</td>\n",
       "      <td>122.80</td>\n",
       "      <td>1001.0</td>\n",
       "      <td>0.11840</td>\n",
       "      <td>0</td>\n",
       "    </tr>\n",
       "    <tr>\n",
       "      <th>1</th>\n",
       "      <td>20.57</td>\n",
       "      <td>17.77</td>\n",
       "      <td>132.90</td>\n",
       "      <td>1326.0</td>\n",
       "      <td>0.08474</td>\n",
       "      <td>0</td>\n",
       "    </tr>\n",
       "    <tr>\n",
       "      <th>2</th>\n",
       "      <td>19.69</td>\n",
       "      <td>21.25</td>\n",
       "      <td>130.00</td>\n",
       "      <td>1203.0</td>\n",
       "      <td>0.10960</td>\n",
       "      <td>0</td>\n",
       "    </tr>\n",
       "    <tr>\n",
       "      <th>3</th>\n",
       "      <td>11.42</td>\n",
       "      <td>20.38</td>\n",
       "      <td>77.58</td>\n",
       "      <td>386.1</td>\n",
       "      <td>0.14250</td>\n",
       "      <td>0</td>\n",
       "    </tr>\n",
       "    <tr>\n",
       "      <th>4</th>\n",
       "      <td>20.29</td>\n",
       "      <td>14.34</td>\n",
       "      <td>135.10</td>\n",
       "      <td>1297.0</td>\n",
       "      <td>0.10030</td>\n",
       "      <td>0</td>\n",
       "    </tr>\n",
       "  </tbody>\n",
       "</table>\n",
       "</div>"
      ],
      "text/plain": [
       "   mean_radius  mean_texture  mean_perimeter  mean_area  mean_smoothness  \\\n",
       "0        17.99         10.38          122.80     1001.0          0.11840   \n",
       "1        20.57         17.77          132.90     1326.0          0.08474   \n",
       "2        19.69         21.25          130.00     1203.0          0.10960   \n",
       "3        11.42         20.38           77.58      386.1          0.14250   \n",
       "4        20.29         14.34          135.10     1297.0          0.10030   \n",
       "\n",
       "   diagnosis  \n",
       "0          0  \n",
       "1          0  \n",
       "2          0  \n",
       "3          0  \n",
       "4          0  "
      ]
     },
     "execution_count": 2,
     "metadata": {},
     "output_type": "execute_result"
    }
   ],
   "source": [
    "data = pd.read_csv(r'C:\\Users\\Breast_cancer_data.csv')\n",
    "data.head()"
   ]
  },
  {
   "cell_type": "code",
   "execution_count": 3,
   "metadata": {},
   "outputs": [
    {
     "data": {
      "text/html": [
       "<div>\n",
       "<style scoped>\n",
       "    .dataframe tbody tr th:only-of-type {\n",
       "        vertical-align: middle;\n",
       "    }\n",
       "\n",
       "    .dataframe tbody tr th {\n",
       "        vertical-align: top;\n",
       "    }\n",
       "\n",
       "    .dataframe thead th {\n",
       "        text-align: right;\n",
       "    }\n",
       "</style>\n",
       "<table border=\"1\" class=\"dataframe\">\n",
       "  <thead>\n",
       "    <tr style=\"text-align: right;\">\n",
       "      <th></th>\n",
       "      <th>mean_radius</th>\n",
       "      <th>mean_texture</th>\n",
       "      <th>mean_perimeter</th>\n",
       "      <th>mean_area</th>\n",
       "      <th>mean_smoothness</th>\n",
       "      <th>diagnosis</th>\n",
       "    </tr>\n",
       "  </thead>\n",
       "  <tbody>\n",
       "    <tr>\n",
       "      <th>564</th>\n",
       "      <td>21.56</td>\n",
       "      <td>22.39</td>\n",
       "      <td>142.00</td>\n",
       "      <td>1479.0</td>\n",
       "      <td>0.11100</td>\n",
       "      <td>0</td>\n",
       "    </tr>\n",
       "    <tr>\n",
       "      <th>565</th>\n",
       "      <td>20.13</td>\n",
       "      <td>28.25</td>\n",
       "      <td>131.20</td>\n",
       "      <td>1261.0</td>\n",
       "      <td>0.09780</td>\n",
       "      <td>0</td>\n",
       "    </tr>\n",
       "    <tr>\n",
       "      <th>566</th>\n",
       "      <td>16.60</td>\n",
       "      <td>28.08</td>\n",
       "      <td>108.30</td>\n",
       "      <td>858.1</td>\n",
       "      <td>0.08455</td>\n",
       "      <td>0</td>\n",
       "    </tr>\n",
       "    <tr>\n",
       "      <th>567</th>\n",
       "      <td>20.60</td>\n",
       "      <td>29.33</td>\n",
       "      <td>140.10</td>\n",
       "      <td>1265.0</td>\n",
       "      <td>0.11780</td>\n",
       "      <td>0</td>\n",
       "    </tr>\n",
       "    <tr>\n",
       "      <th>568</th>\n",
       "      <td>7.76</td>\n",
       "      <td>24.54</td>\n",
       "      <td>47.92</td>\n",
       "      <td>181.0</td>\n",
       "      <td>0.05263</td>\n",
       "      <td>1</td>\n",
       "    </tr>\n",
       "  </tbody>\n",
       "</table>\n",
       "</div>"
      ],
      "text/plain": [
       "     mean_radius  mean_texture  mean_perimeter  mean_area  mean_smoothness  \\\n",
       "564        21.56         22.39          142.00     1479.0          0.11100   \n",
       "565        20.13         28.25          131.20     1261.0          0.09780   \n",
       "566        16.60         28.08          108.30      858.1          0.08455   \n",
       "567        20.60         29.33          140.10     1265.0          0.11780   \n",
       "568         7.76         24.54           47.92      181.0          0.05263   \n",
       "\n",
       "     diagnosis  \n",
       "564          0  \n",
       "565          0  \n",
       "566          0  \n",
       "567          0  \n",
       "568          1  "
      ]
     },
     "execution_count": 3,
     "metadata": {},
     "output_type": "execute_result"
    }
   ],
   "source": [
    "data.tail()"
   ]
  },
  {
   "cell_type": "code",
   "execution_count": 4,
   "metadata": {
    "scrolled": false
   },
   "outputs": [
    {
     "name": "stdout",
     "output_type": "stream",
     "text": [
      "<class 'pandas.core.frame.DataFrame'>\n",
      "RangeIndex: 569 entries, 0 to 568\n",
      "Data columns (total 6 columns):\n",
      "mean_radius        569 non-null float64\n",
      "mean_texture       569 non-null float64\n",
      "mean_perimeter     569 non-null float64\n",
      "mean_area          569 non-null float64\n",
      "mean_smoothness    569 non-null float64\n",
      "diagnosis          569 non-null int64\n",
      "dtypes: float64(5), int64(1)\n",
      "memory usage: 26.8 KB\n"
     ]
    }
   ],
   "source": [
    "data.info()"
   ]
  },
  {
   "cell_type": "markdown",
   "metadata": {},
   "source": [
    "Dataset csv ini terdiri dari 569 baris dan 6 kolom"
   ]
  },
  {
   "cell_type": "markdown",
   "metadata": {},
   "source": [
    "# Pre Processing\n",
    "\n",
    "Preprocessing data adalah tahap penting dalam pembelajaran mesin, karena data masukan yang baik dan tepat (harusnya) akan membuat estimator mampu menghasilkan keluaran yang baik pula."
   ]
  },
  {
   "cell_type": "markdown",
   "metadata": {},
   "source": [
    "Data kemudian dibagi menjadi dua jenis: data independen/prediktor (X) dan data dependen/target (y). Pembagian data ini menggunakan pandas.DataFrame.iloc seperti di bawah. Karena dataset adalah matriks M*N, kita menggunakan slicing dengan format [baris, kolom].\n",
    "\n",
    "Atribut values akan mengembalikan numpy array. Tanpa atribut ini, iloc akan mengembalikan obyek DataFrame."
   ]
  },
  {
   "cell_type": "code",
   "execution_count": 5,
   "metadata": {},
   "outputs": [],
   "source": [
    "X = data.iloc[:,0:5].values\n",
    "Y = data.iloc[:,5].values"
   ]
  },
  {
   "cell_type": "markdown",
   "metadata": {},
   "source": [
    "#### Sebaran Fitur Diagnosis"
   ]
  },
  {
   "cell_type": "code",
   "execution_count": 6,
   "metadata": {
    "scrolled": true
   },
   "outputs": [
    {
     "data": {
      "text/plain": [
       "<matplotlib.axes._subplots.AxesSubplot at 0x24b8e6dc198>"
      ]
     },
     "execution_count": 6,
     "metadata": {},
     "output_type": "execute_result"
    },
    {
     "data": {
      "image/png": "[encoded data removed]",
      "text/plain": [
       "<Figure size 432x288 with 1 Axes>"
      ]
     },
     "metadata": {
      "needs_background": "light"
     },
     "output_type": "display_data"
    }
   ],
   "source": [
    "import seaborn as sns\n",
    "sns.countplot(Y)"
   ]
  },
  {
   "cell_type": "markdown",
   "metadata": {},
   "source": [
    "#### Membagi dataset ke dalam training set dan test set\n",
    "Model machine learning umumnya membutuhkan dua set data untuk \"belajar\" dan menghasilkan estimasi: training set dan test set. Biasanya training set ini memiliki proporsi lebih besar dibandingkan test set, misal 70%.\n",
    "\n",
    "Untuk dataset yang digunakan dalam tulisan ini:"
   ]
  },
  {
   "cell_type": "code",
   "execution_count": 7,
   "metadata": {},
   "outputs": [],
   "source": [
    "from sklearn.model_selection import train_test_split\n",
    "\n",
    "x_train, x_test, y_train, y_test = train_test_split(X, Y, test_size=0.3, random_state=123)"
   ]
  },
  {
   "cell_type": "markdown",
   "metadata": {},
   "source": [
    "Untuk parameter:\n",
    "\n",
    "- test_size : proporsi test set, dalam hal ini 0.3.\n",
    "- train_size: proporsi train size. Jika tidak di set, maka akan menyesuaikan dengan test size (dalam kasus ini 0.7). Berlaku kebalikannya.\n",
    "- random_state : konstan ini akan membuat hasil splitting tetap sama antar runtime atau antar mesin."
   ]
  },
  {
   "cell_type": "markdown",
   "metadata": {},
   "source": [
    "## Feature Scalling"
   ]
  },
  {
   "cell_type": "markdown",
   "metadata": {},
   "source": [
    "Kita perlu menskalakan kolom-kolom yang dibutuhkan. Perbedaan skala dapat menyebabkan kendala dengan estimator. Ingat euclidean distance.\n",
    "\n",
    "(Pada contoh ini, hanya X yang diskalakan. Untuk kasus tertentu, variabel independen dan dependen harus diskala)."
   ]
  },
  {
   "cell_type": "markdown",
   "metadata": {},
   "source": [
    "**StandardScaler** menghilangkan mean (terpusat pada 0) dan menskalakan ke variansi (deviasi standar = 1), dengan asumsi data terdistribusi normal (gauss) untuk semua fitur. Formulanya\n",
    "\n",
    "\\begin{split}z = \\frac{x − u} {s}\\end{split}\n",
    "\n",
    "dengan *u* adalah mean sampel dan *s* adalah deviasi standar (DS) sampel."
   ]
  },
  {
   "cell_type": "code",
   "execution_count": 8,
   "metadata": {},
   "outputs": [],
   "source": [
    "from sklearn.preprocessing import StandardScaler\n",
    "\n",
    "sc = StandardScaler()\n",
    "X_train = sc.fit_transform(x_train)\n",
    "X_test = sc.fit_transform(x_test)"
   ]
  },
  {
   "cell_type": "markdown",
   "metadata": {},
   "source": [
    "Sebenarnya ada dua parameter boolean yang bisa diatur untuk *StandardScaler()*, yaitu *with_mean* dan *with_std*. Umumnya biarkan saja ke default, yaitu True.\n",
    "\n",
    "Terlihat pada potongan kode di atas, fitting untuk menghitung mean dan DS hanya dilakukan pada training set (lalu dilakukan transformasi *(fit_transform)*). Gunakan mean dan DS yang didapat tadi untuk test set (sehingga cukup *transform()* saja)."
   ]
  },
  {
   "cell_type": "markdown",
   "metadata": {},
   "source": [
    "# Artificial Neural Network (ANN)\n",
    "\n",
    "- ANN adalah salah satu main tools yang digunakan dalam Machine Learning\n",
    "- Seperti yang ditunjukkan oleh bagian \"Neural\" dari namanya, mereka adalah sistem \"Brain-Inspired\" yang dimaksudkan untuk mereplikasi cara  manusia belajar.\n",
    "- Neural Network terdiri dari input dan output layer, serta (dalam kebanyakan kasus) hidden layer yang terdiri dari unit-unit yang mengubah input menjadi sesuatu yang dapat digunakan oleh output layer.\n",
    "- ANN adalah tools yang sangat baik untuk menemukan pola yang terlalu rumit atau banyak bagi seorang programmer untuk mengekstraksi dan mengajarkan mesin untuk mengenali sesuatu.\n",
    "- Neural Network juga disebut \"perceptrons\".\n",
    "- Neural Network telah menjadi bagian utama dari kecerdasan buatan dalam beberapa dekade terakhir. Ini disebabkan oleh kedatangan teknik yang disebut \"backpropagation,\" yang memungkinkan network untuk menyesuaikan hidden layer neuron mereka dalam situasi di mana hasilnya tidak sesuai dengan apa yang diharapkan creator."
   ]
  },
  {
   "cell_type": "code",
   "execution_count": 9,
   "metadata": {},
   "outputs": [
    {
     "name": "stderr",
     "output_type": "stream",
     "text": [
      "Using TensorFlow backend.\n"
     ]
    }
   ],
   "source": [
    "import keras\n",
    "from keras.models import Sequential\n",
    "from keras.layers import Dense\n",
    "from keras.optimizers import Adam\n",
    "from keras.activations import relu, sigmoid"
   ]
  },
  {
   "cell_type": "markdown",
   "metadata": {},
   "source": [
    "### Layers\n",
    "\n",
    "Layer menerima input weight dan mengubah nilai tersebut yang umumnya fungsi non-linear dan meneruskannya sebagai output ke layer selanjutnya. Layer terdiri dari input layer, hidden layer, dan output layer.\n",
    "\n",
    "### Epochs\n",
    "Epoch adalah ketika seluruh dataset sudah melalui proses training pada Neural Netwok sampai dikembalikan ke awal untuk sekali putaran, karena satu Epoch terlalu besar untuk dimasukkan (feeding) kedalam komputer maka dari itu kita perlu membaginya kedalam satuan kecil (batches).\n",
    "\n",
    "Seiring bertambahnya jumlah epoch, semakin banyak pula weight (bobot) yang berubah dalam Neural Network dan kurvanya melengkung dari kurva yang kurang sesuai hingga selaras dengan kurva yang overfitting.\n",
    "\n",
    "### Batch Size\n",
    "Batch Size adalah jumlah sampel data yang disebarkan ke Neural Network. Contoh: jika kita mempunyai 100 dataset dan batch size kita adalah 5 maka algoritma ini akan menggunakan 5 sempel data pertama dari 100 data yang kita miliki (ke1, ke2, ke3, ke4, dan ke5) lalu disebarkankan atau ditraining oleh Neural Network sampai selesai kemudian mengambil kembali 5 sampel data kedua dari 100 data (ke6, ke7, ke8, ke9, dan ke10), dan begitu seterusnya sampai 5 sampel data ke 20 (100⁄5=20).\n",
    "\n",
    "## Activation Function\n",
    "**Activation function** befungsi untuk menentukan apakah neuron tersebut harus “aktif” atau tidak berdasarkan dari weighted sum dari input. Secara umum terdapat 2 jenis activation function, Linear dan Non-Linear Activation function.\n",
    "\n",
    "**Relu** melakukan “treshold” dari 0 hingga infinity. ReLU juga dapat menutupi kelemahan yang dimiliki oleh Sigmoid.\n",
    "Karna ReLU pada intinya hanya membuat pembatas pada bilangan nol, artinya apabila x ≤ 0 maka x = 0 dan apabila x > 0 maka x = x\n",
    "Ada beberapa pro dan kontra ketika kita menggunakan ReLU:\n",
    "\n",
    "Kelebihan :\n",
    "- ReLU sangat mempercepat proses konvergensi yang dilakukan dengan stochastic gradient descent jika dibandingkan dengan sigmoid / tanh.\n",
    "- Jika kita bandingan dengan sigmoid/tanh yang memiliki operasi-operasi yang “expensive” (exponentials, etc.), ReLU bisa kita implementasikan hanya dengan membuat pembatas(threshold) pada bilangan nol.\n",
    "\n",
    "Kekurangan :\n",
    "- Sayangnya, unit ReLU bisa menjadi rapuh pada saat proses training dan bisa membuat unit tersebut “mati”. Sebagai contohnya, kita mungkin bisa menemukan bahwa 40% dari network kita “mati” (neuron yang tidak akan pernah aktif selama proses training) apabila learning rate yang kita inisialisasi terlalu tinggi. Namun apabila kita menginisialisasi learning rate kita secara tepat maka hal seperti ini jarang menjadi masalah.\n",
    "\n",
    "\n",
    "**Sigmoid** function mempunyai rentang antara 0 hingga 1 sedangkan rentang dari Tanh adalah -1 hingga 1.\n",
    "Sigmoid memiliki bentuk formula sebagai berikut :\n",
    "\\begin{split}S(x) = \\frac{1} { 1+e-x }\\end{split}\n",
    "Sigmoid akan menerima angka tunggal dan mengubah nilai x menjadi sebuah nilai yang memiliki range mulai dari 0 sampai 1. Belakangan ini Sigmoid tidak disukai dan jarang digunakan, sigmoid memiliki kekurangan berupa:\n",
    "- Sigmoid mematikan gradient, property yang paling tidak diinginkan dari Sigmoid adalah ketika activation dari neuron mengeluarkan nilai yang berada pada ekor 0 atau 1, dimana gradient di wilayah ini hampir nol. Karena itu, jika gradient memiliki nilai yang sangat kecil, Sigmoid akan “mematikan” gradient dan kita sangat tidak menginginkan hal ini terjadi saat melakukan backpropagation.\n",
    "- Output dari Sigmoid tidak zero-centered. Hal ini berimplikasi pada kedinamisan saat melakukan gradient descent, karna apabila data yang datang ke neuron selalu positif maka gradient pada weights selama backpropagation akan menjadi semua positif atau semua negatif. Hal seperti ini dapat mengganggu proses training, tetapi hal ini tidak separah seperti hal yang ada pada point pertama(mematikan gradient).\n",
    "\n",
    "## Loss Function\n",
    "**Loss Function** digunakan untuk mengukur seberapa bagus performa dari neural network kita dalam melakukan prediksi terhadap target.\n",
    "\n",
    "- *Loss = (Target - Prediction)*<sup>2</sup>\n",
    "\n",
    "Ada berbagai macam loss function, namun yang paling sering digunakan adalah Squared Error (L2 Loss) untuk regresi. Sedangkan untuk klasifikasi yang biasa digunakan adalah **Cross-Entropy**.\n",
    "\n",
    "**Cross-Entropy** mengukur kinerja model klasifikasi yang outputnya merupakan nilai probabilitas antara 0 dan 1. Kehilangan lintas-entropi meningkat karena probabilitas yang diprediksi menyimpang dari label aktual. Jadi memprediksi probabilitas 0,012 ketika label observasi aktual adalah 1 akan buruk dan menghasilkan nilai kerugian yang tinggi. Model yang sempurna akan kehilangan log 0.\n",
    "\n",
    "**Optimizers** digunakan untuk memperbarui bobot dan bias yaitu parameter internal model untuk mengurangi kesalahan.\n",
    "Teknik yang paling penting dan dasar bagaimana kita melatih dan mengoptimalkan model kita adalah menggunakan Gradient Descent.digunakan untuk memperbarui bobot dan bias yaitu parameter internal model untuk mengurangi kesalahan.\n",
    "Teknik yang paling penting dan dasar bagaimana kita melatih dan mengoptimalkan model kita adalah menggunakan Gradient Descent.\n",
    "\n",
    "**Adam** merupakan cara lain untuk menggunakan gradien masa sebelumnya untuk menghitung gradien saat ini. Adam juga memanfaatkan konsep momentum dengan menambahkan pecahan dari gradien sebelumnya ke yang sekarang. Pengoptimal ini telah menjadi sangat luas, dan secara praktis diterima untuk digunakan dalam test neural network."
   ]
  },
  {
   "cell_type": "code",
   "execution_count": 10,
   "metadata": {
    "scrolled": true
   },
   "outputs": [
    {
     "name": "stdout",
     "output_type": "stream",
     "text": [
      "WARNING:tensorflow:From E:\\Anaconda3\\lib\\site-packages\\keras\\backend\\tensorflow_backend.py:66: The name tf.get_default_graph is deprecated. Please use tf.compat.v1.get_default_graph instead.\n",
      "\n",
      "WARNING:tensorflow:From E:\\Anaconda3\\lib\\site-packages\\keras\\backend\\tensorflow_backend.py:541: The name tf.placeholder is deprecated. Please use tf.compat.v1.placeholder instead.\n",
      "\n",
      "WARNING:tensorflow:From E:\\Anaconda3\\lib\\site-packages\\keras\\backend\\tensorflow_backend.py:4432: The name tf.random_uniform is deprecated. Please use tf.random.uniform instead.\n",
      "\n",
      "WARNING:tensorflow:From E:\\Anaconda3\\lib\\site-packages\\keras\\optimizers.py:793: The name tf.train.Optimizer is deprecated. Please use tf.compat.v1.train.Optimizer instead.\n",
      "\n",
      "WARNING:tensorflow:From E:\\Anaconda3\\lib\\site-packages\\keras\\backend\\tensorflow_backend.py:3657: The name tf.log is deprecated. Please use tf.math.log instead.\n",
      "\n",
      "WARNING:tensorflow:From E:\\Anaconda3\\lib\\site-packages\\tensorflow\\python\\ops\\nn_impl.py:180: add_dispatch_support.<locals>.wrapper (from tensorflow.python.ops.array_ops) is deprecated and will be removed in a future version.\n",
      "Instructions for updating:\n",
      "Use tf.where in 2.0, which has the same broadcast rule as np.where\n",
      "WARNING:tensorflow:From E:\\Anaconda3\\lib\\site-packages\\keras\\backend\\tensorflow_backend.py:1033: The name tf.assign_add is deprecated. Please use tf.compat.v1.assign_add instead.\n",
      "\n",
      "Train on 398 samples, validate on 171 samples\n",
      "Epoch 1/200\n",
      "398/398 [==============================] - 1s 3ms/step - loss: 0.6922 - acc: 0.6482 - val_loss: 0.6917 - val_acc: 0.6023\n",
      "Epoch 2/200\n",
      "398/398 [==============================] - 0s 113us/step - loss: 0.6904 - acc: 0.6382 - val_loss: 0.6903 - val_acc: 0.6023\n",
      "Epoch 3/200\n",
      "398/398 [==============================] - 0s 103us/step - loss: 0.6884 - acc: 0.6382 - val_loss: 0.6886 - val_acc: 0.6023\n",
      "Epoch 4/200\n",
      "398/398 [==============================] - ETA: 0s - loss: 0.6903 - acc: 0.562 - 0s 110us/step - loss: 0.6860 - acc: 0.6382 - val_loss: 0.6865 - val_acc: 0.6023\n",
      "Epoch 5/200\n",
      "398/398 [==============================] - 0s 108us/step - loss: 0.6831 - acc: 0.6382 - val_loss: 0.6833 - val_acc: 0.6023\n",
      "Epoch 6/200\n",
      "398/398 [==============================] - 0s 98us/step - loss: 0.6789 - acc: 0.6382 - val_loss: 0.6790 - val_acc: 0.6023\n",
      "Epoch 7/200\n",
      "398/398 [==============================] - 0s 100us/step - loss: 0.6732 - acc: 0.6382 - val_loss: 0.6731 - val_acc: 0.6023\n",
      "Epoch 8/200\n",
      "398/398 [==============================] - 0s 100us/step - loss: 0.6658 - acc: 0.6382 - val_loss: 0.6653 - val_acc: 0.6023\n",
      "Epoch 9/200\n",
      "398/398 [==============================] - 0s 100us/step - loss: 0.6563 - acc: 0.6382 - val_loss: 0.6553 - val_acc: 0.6023\n",
      "Epoch 10/200\n",
      "398/398 [==============================] - 0s 100us/step - loss: 0.6447 - acc: 0.6382 - val_loss: 0.6432 - val_acc: 0.6023\n",
      "Epoch 11/200\n",
      "398/398 [==============================] - 0s 100us/step - loss: 0.6310 - acc: 0.6382 - val_loss: 0.6292 - val_acc: 0.6023\n",
      "Epoch 12/200\n",
      "398/398 [==============================] - 0s 98us/step - loss: 0.6152 - acc: 0.6382 - val_loss: 0.6131 - val_acc: 0.6023\n",
      "Epoch 13/200\n",
      "398/398 [==============================] - 0s 100us/step - loss: 0.5975 - acc: 0.6382 - val_loss: 0.5956 - val_acc: 0.6023\n",
      "Epoch 14/200\n",
      "398/398 [==============================] - 0s 98us/step - loss: 0.5785 - acc: 0.6382 - val_loss: 0.5767 - val_acc: 0.6023\n",
      "Epoch 15/200\n",
      "398/398 [==============================] - 0s 100us/step - loss: 0.5586 - acc: 0.6382 - val_loss: 0.5576 - val_acc: 0.6023\n",
      "Epoch 16/200\n",
      "398/398 [==============================] - 0s 103us/step - loss: 0.5388 - acc: 0.6382 - val_loss: 0.5384 - val_acc: 0.6023\n",
      "Epoch 17/200\n",
      "398/398 [==============================] - 0s 100us/step - loss: 0.5191 - acc: 0.6382 - val_loss: 0.5200 - val_acc: 0.6023\n",
      "Epoch 18/200\n",
      "398/398 [==============================] - 0s 100us/step - loss: 0.5002 - acc: 0.6382 - val_loss: 0.5029 - val_acc: 0.6023\n",
      "Epoch 19/200\n",
      "398/398 [==============================] - 0s 103us/step - loss: 0.4835 - acc: 0.6382 - val_loss: 0.4868 - val_acc: 0.6023\n",
      "Epoch 20/200\n",
      "398/398 [==============================] - 0s 108us/step - loss: 0.4672 - acc: 0.6382 - val_loss: 0.4725 - val_acc: 0.6023\n",
      "Epoch 21/200\n",
      "398/398 [==============================] - 0s 100us/step - loss: 0.4535 - acc: 0.6382 - val_loss: 0.4595 - val_acc: 0.6023\n",
      "Epoch 22/200\n",
      "398/398 [==============================] - 0s 107us/step - loss: 0.4408 - acc: 0.6382 - val_loss: 0.4483 - val_acc: 0.6023\n",
      "Epoch 23/200\n",
      "398/398 [==============================] - 0s 108us/step - loss: 0.4299 - acc: 0.6382 - val_loss: 0.4383 - val_acc: 0.6023\n",
      "Epoch 24/200\n",
      "398/398 [==============================] - 0s 103us/step - loss: 0.4203 - acc: 0.6382 - val_loss: 0.4292 - val_acc: 0.6023\n",
      "Epoch 25/200\n",
      "398/398 [==============================] - 0s 105us/step - loss: 0.4118 - acc: 0.6382 - val_loss: 0.4211 - val_acc: 0.6023\n",
      "Epoch 26/200\n",
      "398/398 [==============================] - 0s 105us/step - loss: 0.4038 - acc: 0.6382 - val_loss: 0.4139 - val_acc: 0.6023\n",
      "Epoch 27/200\n",
      "398/398 [==============================] - 0s 103us/step - loss: 0.3972 - acc: 0.6382 - val_loss: 0.4072 - val_acc: 0.6023\n",
      "Epoch 28/200\n",
      "398/398 [==============================] - 0s 105us/step - loss: 0.3910 - acc: 0.6382 - val_loss: 0.4012 - val_acc: 0.6023\n",
      "Epoch 29/200\n",
      "398/398 [==============================] - 0s 105us/step - loss: 0.3856 - acc: 0.6382 - val_loss: 0.3959 - val_acc: 0.6023\n",
      "Epoch 30/200\n",
      "398/398 [==============================] - 0s 100us/step - loss: 0.3805 - acc: 0.6382 - val_loss: 0.3910 - val_acc: 0.6023\n",
      "Epoch 31/200\n",
      "398/398 [==============================] - 0s 103us/step - loss: 0.3760 - acc: 0.6382 - val_loss: 0.3865 - val_acc: 0.6023\n",
      "Epoch 32/200\n",
      "398/398 [==============================] - 0s 103us/step - loss: 0.3718 - acc: 0.7085 - val_loss: 0.3820 - val_acc: 0.8830\n",
      "Epoch 33/200\n",
      "398/398 [==============================] - 0s 98us/step - loss: 0.3677 - acc: 0.9121 - val_loss: 0.3780 - val_acc: 0.8947\n",
      "Epoch 34/200\n",
      "398/398 [==============================] - 0s 100us/step - loss: 0.3640 - acc: 0.9121 - val_loss: 0.3743 - val_acc: 0.9006\n",
      "Epoch 35/200\n",
      "398/398 [==============================] - 0s 98us/step - loss: 0.3605 - acc: 0.9171 - val_loss: 0.3708 - val_acc: 0.9123\n",
      "Epoch 36/200\n",
      "398/398 [==============================] - 0s 95us/step - loss: 0.3572 - acc: 0.9246 - val_loss: 0.3674 - val_acc: 0.9123\n",
      "Epoch 37/200\n",
      "398/398 [==============================] - 0s 100us/step - loss: 0.3540 - acc: 0.9246 - val_loss: 0.3642 - val_acc: 0.9123\n",
      "Epoch 38/200\n",
      "398/398 [==============================] - 0s 103us/step - loss: 0.3510 - acc: 0.9271 - val_loss: 0.3611 - val_acc: 0.9123\n",
      "Epoch 39/200\n",
      "398/398 [==============================] - 0s 108us/step - loss: 0.3482 - acc: 0.9271 - val_loss: 0.3581 - val_acc: 0.9181\n",
      "Epoch 40/200\n",
      "398/398 [==============================] - 0s 105us/step - loss: 0.3455 - acc: 0.9271 - val_loss: 0.3550 - val_acc: 0.9240\n",
      "Epoch 41/200\n",
      "398/398 [==============================] - 0s 98us/step - loss: 0.3428 - acc: 0.9271 - val_loss: 0.3523 - val_acc: 0.9240\n",
      "Epoch 42/200\n",
      "398/398 [==============================] - 0s 98us/step - loss: 0.3403 - acc: 0.9271 - val_loss: 0.3497 - val_acc: 0.9240\n",
      "Epoch 43/200\n",
      "398/398 [==============================] - 0s 105us/step - loss: 0.3380 - acc: 0.9271 - val_loss: 0.3471 - val_acc: 0.9298\n",
      "Epoch 44/200\n",
      "398/398 [==============================] - 0s 95us/step - loss: 0.3356 - acc: 0.9271 - val_loss: 0.3447 - val_acc: 0.9298\n",
      "Epoch 45/200\n",
      "398/398 [==============================] - 0s 100us/step - loss: 0.3333 - acc: 0.9271 - val_loss: 0.3422 - val_acc: 0.9298\n",
      "Epoch 46/200\n",
      "398/398 [==============================] - 0s 103us/step - loss: 0.3313 - acc: 0.9271 - val_loss: 0.3395 - val_acc: 0.9298\n",
      "Epoch 47/200\n",
      "398/398 [==============================] - 0s 100us/step - loss: 0.3290 - acc: 0.9246 - val_loss: 0.3373 - val_acc: 0.9298\n",
      "Epoch 48/200\n",
      "398/398 [==============================] - 0s 103us/step - loss: 0.3269 - acc: 0.9246 - val_loss: 0.3350 - val_acc: 0.9298\n",
      "Epoch 49/200\n",
      "398/398 [==============================] - 0s 103us/step - loss: 0.3248 - acc: 0.9246 - val_loss: 0.3331 - val_acc: 0.9298\n",
      "Epoch 50/200\n",
      "398/398 [==============================] - 0s 105us/step - loss: 0.3228 - acc: 0.9246 - val_loss: 0.3309 - val_acc: 0.9298\n",
      "Epoch 51/200\n",
      "398/398 [==============================] - 0s 107us/step - loss: 0.3209 - acc: 0.9246 - val_loss: 0.3289 - val_acc: 0.9298\n",
      "Epoch 52/200\n",
      "398/398 [==============================] - 0s 103us/step - loss: 0.3191 - acc: 0.9246 - val_loss: 0.3272 - val_acc: 0.9298\n",
      "Epoch 53/200\n",
      "398/398 [==============================] - 0s 113us/step - loss: 0.3172 - acc: 0.9246 - val_loss: 0.3251 - val_acc: 0.9357\n",
      "Epoch 54/200\n",
      "398/398 [==============================] - 0s 118us/step - loss: 0.3156 - acc: 0.9246 - val_loss: 0.3232 - val_acc: 0.9357\n",
      "Epoch 55/200\n",
      "398/398 [==============================] - 0s 113us/step - loss: 0.3137 - acc: 0.9246 - val_loss: 0.3211 - val_acc: 0.9357\n",
      "Epoch 56/200\n",
      "398/398 [==============================] - 0s 105us/step - loss: 0.3121 - acc: 0.9246 - val_loss: 0.3193 - val_acc: 0.9357\n",
      "Epoch 57/200\n",
      "398/398 [==============================] - 0s 120us/step - loss: 0.3103 - acc: 0.9246 - val_loss: 0.3175 - val_acc: 0.9357\n",
      "Epoch 58/200\n",
      "398/398 [==============================] - 0s 123us/step - loss: 0.3085 - acc: 0.9246 - val_loss: 0.3155 - val_acc: 0.9357\n",
      "Epoch 59/200\n",
      "398/398 [==============================] - 0s 118us/step - loss: 0.3069 - acc: 0.9271 - val_loss: 0.3138 - val_acc: 0.9357\n",
      "Epoch 60/200\n",
      "398/398 [==============================] - 0s 119us/step - loss: 0.3053 - acc: 0.9271 - val_loss: 0.3120 - val_acc: 0.9415\n",
      "Epoch 61/200\n",
      "398/398 [==============================] - 0s 103us/step - loss: 0.3038 - acc: 0.9296 - val_loss: 0.3101 - val_acc: 0.9415\n",
      "Epoch 62/200\n",
      "398/398 [==============================] - 0s 103us/step - loss: 0.3022 - acc: 0.9296 - val_loss: 0.3085 - val_acc: 0.9357\n",
      "Epoch 63/200\n",
      "398/398 [==============================] - 0s 108us/step - loss: 0.3007 - acc: 0.9296 - val_loss: 0.3070 - val_acc: 0.9357\n",
      "Epoch 64/200\n",
      "398/398 [==============================] - 0s 98us/step - loss: 0.2993 - acc: 0.9271 - val_loss: 0.3053 - val_acc: 0.9357\n",
      "Epoch 65/200\n",
      "398/398 [==============================] - 0s 98us/step - loss: 0.2979 - acc: 0.9271 - val_loss: 0.3038 - val_acc: 0.9357\n",
      "Epoch 66/200\n",
      "398/398 [==============================] - 0s 100us/step - loss: 0.2965 - acc: 0.9271 - val_loss: 0.3024 - val_acc: 0.9357\n",
      "Epoch 67/200\n",
      "398/398 [==============================] - 0s 103us/step - loss: 0.2951 - acc: 0.9271 - val_loss: 0.3008 - val_acc: 0.9357\n",
      "Epoch 68/200\n",
      "398/398 [==============================] - 0s 103us/step - loss: 0.2937 - acc: 0.9271 - val_loss: 0.2994 - val_acc: 0.9357\n",
      "Epoch 69/200\n",
      "398/398 [==============================] - 0s 100us/step - loss: 0.2925 - acc: 0.9271 - val_loss: 0.2980 - val_acc: 0.9357\n",
      "Epoch 70/200\n",
      "398/398 [==============================] - 0s 100us/step - loss: 0.2910 - acc: 0.9271 - val_loss: 0.2965 - val_acc: 0.9298\n",
      "Epoch 71/200\n",
      "398/398 [==============================] - 0s 108us/step - loss: 0.2899 - acc: 0.9296 - val_loss: 0.2951 - val_acc: 0.9298\n",
      "Epoch 72/200\n",
      "398/398 [==============================] - 0s 105us/step - loss: 0.2886 - acc: 0.9296 - val_loss: 0.2937 - val_acc: 0.9298\n",
      "Epoch 73/200\n",
      "398/398 [==============================] - 0s 105us/step - loss: 0.2874 - acc: 0.9296 - val_loss: 0.2924 - val_acc: 0.9298\n",
      "Epoch 74/200\n",
      "398/398 [==============================] - 0s 105us/step - loss: 0.2862 - acc: 0.9296 - val_loss: 0.2911 - val_acc: 0.9298\n",
      "Epoch 75/200\n",
      "398/398 [==============================] - 0s 110us/step - loss: 0.2849 - acc: 0.9296 - val_loss: 0.2898 - val_acc: 0.9298\n",
      "Epoch 76/200\n",
      "398/398 [==============================] - 0s 130us/step - loss: 0.2837 - acc: 0.9271 - val_loss: 0.2884 - val_acc: 0.9298\n",
      "Epoch 77/200\n",
      "398/398 [==============================] - 0s 138us/step - loss: 0.2826 - acc: 0.9296 - val_loss: 0.2874 - val_acc: 0.9298\n",
      "Epoch 78/200\n",
      "398/398 [==============================] - 0s 140us/step - loss: 0.2815 - acc: 0.9296 - val_loss: 0.2861 - val_acc: 0.9298\n",
      "Epoch 79/200\n",
      "398/398 [==============================] - 0s 110us/step - loss: 0.2804 - acc: 0.9296 - val_loss: 0.2851 - val_acc: 0.9298\n",
      "Epoch 80/200\n",
      "398/398 [==============================] - 0s 98us/step - loss: 0.2792 - acc: 0.9296 - val_loss: 0.2838 - val_acc: 0.9298\n",
      "Epoch 81/200\n",
      "398/398 [==============================] - 0s 103us/step - loss: 0.2781 - acc: 0.9322 - val_loss: 0.2826 - val_acc: 0.9298\n",
      "Epoch 82/200\n",
      "398/398 [==============================] - 0s 105us/step - loss: 0.2770 - acc: 0.9322 - val_loss: 0.2814 - val_acc: 0.9357\n",
      "Epoch 83/200\n",
      "398/398 [==============================] - 0s 104us/step - loss: 0.2759 - acc: 0.9296 - val_loss: 0.2801 - val_acc: 0.9357\n",
      "Epoch 84/200\n",
      "398/398 [==============================] - 0s 108us/step - loss: 0.2754 - acc: 0.9271 - val_loss: 0.2787 - val_acc: 0.9357\n",
      "Epoch 85/200\n",
      "398/398 [==============================] - 0s 110us/step - loss: 0.2738 - acc: 0.9271 - val_loss: 0.2778 - val_acc: 0.9357\n",
      "Epoch 86/200\n",
      "398/398 [==============================] - 0s 103us/step - loss: 0.2730 - acc: 0.9271 - val_loss: 0.2770 - val_acc: 0.9357\n",
      "Epoch 87/200\n",
      "398/398 [==============================] - 0s 103us/step - loss: 0.2719 - acc: 0.9271 - val_loss: 0.2760 - val_acc: 0.9357\n",
      "Epoch 88/200\n",
      "398/398 [==============================] - 0s 103us/step - loss: 0.2709 - acc: 0.9271 - val_loss: 0.2749 - val_acc: 0.9357\n",
      "Epoch 89/200\n",
      "398/398 [==============================] - 0s 103us/step - loss: 0.2699 - acc: 0.9271 - val_loss: 0.2738 - val_acc: 0.9357\n",
      "Epoch 90/200\n",
      "398/398 [==============================] - 0s 100us/step - loss: 0.2692 - acc: 0.9271 - val_loss: 0.2729 - val_acc: 0.9357\n",
      "Epoch 91/200\n",
      "398/398 [==============================] - 0s 115us/step - loss: 0.2682 - acc: 0.9271 - val_loss: 0.2717 - val_acc: 0.9357\n",
      "Epoch 92/200\n",
      "398/398 [==============================] - 0s 120us/step - loss: 0.2673 - acc: 0.9271 - val_loss: 0.2708 - val_acc: 0.9357\n",
      "Epoch 93/200\n",
      "398/398 [==============================] - 0s 123us/step - loss: 0.2663 - acc: 0.9271 - val_loss: 0.2698 - val_acc: 0.9357\n",
      "Epoch 94/200\n",
      "398/398 [==============================] - 0s 120us/step - loss: 0.2654 - acc: 0.9271 - val_loss: 0.2690 - val_acc: 0.9357\n",
      "Epoch 95/200\n",
      "398/398 [==============================] - 0s 98us/step - loss: 0.2645 - acc: 0.9271 - val_loss: 0.2683 - val_acc: 0.9357\n",
      "Epoch 96/200\n",
      "398/398 [==============================] - 0s 103us/step - loss: 0.2638 - acc: 0.9271 - val_loss: 0.2675 - val_acc: 0.9357\n",
      "Epoch 97/200\n",
      "398/398 [==============================] - 0s 105us/step - loss: 0.2631 - acc: 0.9271 - val_loss: 0.2665 - val_acc: 0.9357\n",
      "Epoch 98/200\n",
      "398/398 [==============================] - 0s 108us/step - loss: 0.2620 - acc: 0.9271 - val_loss: 0.2654 - val_acc: 0.9357\n",
      "Epoch 99/200\n",
      "398/398 [==============================] - 0s 100us/step - loss: 0.2612 - acc: 0.9271 - val_loss: 0.2644 - val_acc: 0.9357\n",
      "Epoch 100/200\n",
      "398/398 [==============================] - 0s 105us/step - loss: 0.2602 - acc: 0.9271 - val_loss: 0.2634 - val_acc: 0.9357\n",
      "Epoch 101/200\n",
      "398/398 [==============================] - 0s 103us/step - loss: 0.2595 - acc: 0.9271 - val_loss: 0.2626 - val_acc: 0.9357\n",
      "Epoch 102/200\n",
      "398/398 [==============================] - 0s 108us/step - loss: 0.2586 - acc: 0.9271 - val_loss: 0.2615 - val_acc: 0.9357\n",
      "Epoch 103/200\n",
      "398/398 [==============================] - 0s 103us/step - loss: 0.2578 - acc: 0.9271 - val_loss: 0.2606 - val_acc: 0.9357\n",
      "Epoch 104/200\n",
      "398/398 [==============================] - 0s 105us/step - loss: 0.2570 - acc: 0.9271 - val_loss: 0.2598 - val_acc: 0.9357\n",
      "Epoch 105/200\n",
      "398/398 [==============================] - 0s 110us/step - loss: 0.2563 - acc: 0.9271 - val_loss: 0.2589 - val_acc: 0.9298\n",
      "Epoch 106/200\n",
      "398/398 [==============================] - 0s 103us/step - loss: 0.2555 - acc: 0.9271 - val_loss: 0.2581 - val_acc: 0.9357\n",
      "Epoch 107/200\n",
      "398/398 [==============================] - 0s 100us/step - loss: 0.2546 - acc: 0.9271 - val_loss: 0.2572 - val_acc: 0.9357\n",
      "Epoch 108/200\n",
      "398/398 [==============================] - 0s 103us/step - loss: 0.2540 - acc: 0.9271 - val_loss: 0.2562 - val_acc: 0.9357\n",
      "Epoch 109/200\n",
      "398/398 [==============================] - 0s 98us/step - loss: 0.2531 - acc: 0.9271 - val_loss: 0.2555 - val_acc: 0.9357\n",
      "Epoch 110/200\n"
     ]
    },
    {
     "name": "stdout",
     "output_type": "stream",
     "text": [
      "398/398 [==============================] - 0s 108us/step - loss: 0.2524 - acc: 0.9271 - val_loss: 0.2549 - val_acc: 0.9357\n",
      "Epoch 111/200\n",
      "398/398 [==============================] - 0s 103us/step - loss: 0.2517 - acc: 0.9271 - val_loss: 0.2541 - val_acc: 0.9357\n",
      "Epoch 112/200\n",
      "398/398 [==============================] - 0s 110us/step - loss: 0.2509 - acc: 0.9271 - val_loss: 0.2533 - val_acc: 0.9298\n",
      "Epoch 113/200\n",
      "398/398 [==============================] - 0s 120us/step - loss: 0.2502 - acc: 0.9271 - val_loss: 0.2526 - val_acc: 0.9298\n",
      "Epoch 114/200\n",
      "398/398 [==============================] - 0s 120us/step - loss: 0.2496 - acc: 0.9271 - val_loss: 0.2519 - val_acc: 0.9298\n",
      "Epoch 115/200\n",
      "398/398 [==============================] - 0s 118us/step - loss: 0.2488 - acc: 0.9271 - val_loss: 0.2510 - val_acc: 0.9298\n",
      "Epoch 116/200\n",
      "398/398 [==============================] - 0s 108us/step - loss: 0.2480 - acc: 0.9271 - val_loss: 0.2501 - val_acc: 0.9298\n",
      "Epoch 117/200\n",
      "398/398 [==============================] - 0s 129us/step - loss: 0.2473 - acc: 0.9271 - val_loss: 0.2494 - val_acc: 0.9298\n",
      "Epoch 118/200\n",
      "398/398 [==============================] - 0s 115us/step - loss: 0.2467 - acc: 0.9271 - val_loss: 0.2488 - val_acc: 0.9298\n",
      "Epoch 119/200\n",
      "398/398 [==============================] - 0s 115us/step - loss: 0.2462 - acc: 0.9271 - val_loss: 0.2482 - val_acc: 0.9298\n",
      "Epoch 120/200\n",
      "398/398 [==============================] - 0s 103us/step - loss: 0.2453 - acc: 0.9271 - val_loss: 0.2476 - val_acc: 0.9298\n",
      "Epoch 121/200\n",
      "398/398 [==============================] - 0s 113us/step - loss: 0.2447 - acc: 0.9271 - val_loss: 0.2470 - val_acc: 0.9298\n",
      "Epoch 122/200\n",
      "398/398 [==============================] - 0s 103us/step - loss: 0.2440 - acc: 0.9271 - val_loss: 0.2461 - val_acc: 0.9298\n",
      "Epoch 123/200\n",
      "398/398 [==============================] - 0s 98us/step - loss: 0.2434 - acc: 0.9271 - val_loss: 0.2454 - val_acc: 0.9298\n",
      "Epoch 124/200\n",
      "398/398 [==============================] - 0s 115us/step - loss: 0.2427 - acc: 0.9271 - val_loss: 0.2447 - val_acc: 0.9298\n",
      "Epoch 125/200\n",
      "398/398 [==============================] - 0s 123us/step - loss: 0.2421 - acc: 0.9271 - val_loss: 0.2440 - val_acc: 0.9298\n",
      "Epoch 126/200\n",
      "398/398 [==============================] - 0s 123us/step - loss: 0.2415 - acc: 0.9271 - val_loss: 0.2434 - val_acc: 0.9298\n",
      "Epoch 127/200\n",
      "398/398 [==============================] - 0s 120us/step - loss: 0.2408 - acc: 0.9271 - val_loss: 0.2428 - val_acc: 0.9298\n",
      "Epoch 128/200\n",
      "398/398 [==============================] - 0s 100us/step - loss: 0.2402 - acc: 0.9271 - val_loss: 0.2423 - val_acc: 0.9298\n",
      "Epoch 129/200\n",
      "398/398 [==============================] - 0s 108us/step - loss: 0.2397 - acc: 0.9271 - val_loss: 0.2417 - val_acc: 0.9298\n",
      "Epoch 130/200\n",
      "398/398 [==============================] - 0s 115us/step - loss: 0.2390 - acc: 0.9271 - val_loss: 0.2412 - val_acc: 0.9298\n",
      "Epoch 131/200\n",
      "398/398 [==============================] - 0s 108us/step - loss: 0.2385 - acc: 0.9271 - val_loss: 0.2405 - val_acc: 0.9298\n",
      "Epoch 132/200\n",
      "398/398 [==============================] - 0s 145us/step - loss: 0.2379 - acc: 0.9271 - val_loss: 0.2398 - val_acc: 0.9298\n",
      "Epoch 133/200\n",
      "398/398 [==============================] - 0s 140us/step - loss: 0.2374 - acc: 0.9271 - val_loss: 0.2392 - val_acc: 0.9298\n",
      "Epoch 134/200\n",
      "398/398 [==============================] - 0s 140us/step - loss: 0.2368 - acc: 0.9271 - val_loss: 0.2388 - val_acc: 0.9298\n",
      "Epoch 135/200\n",
      "398/398 [==============================] - 0s 138us/step - loss: 0.2363 - acc: 0.9271 - val_loss: 0.2382 - val_acc: 0.9298\n",
      "Epoch 136/200\n",
      "398/398 [==============================] - 0s 118us/step - loss: 0.2357 - acc: 0.9271 - val_loss: 0.2374 - val_acc: 0.9298\n",
      "Epoch 137/200\n",
      "398/398 [==============================] - 0s 113us/step - loss: 0.2352 - acc: 0.9271 - val_loss: 0.2367 - val_acc: 0.9298\n",
      "Epoch 138/200\n",
      "398/398 [==============================] - 0s 103us/step - loss: 0.2346 - acc: 0.9271 - val_loss: 0.2361 - val_acc: 0.9298\n",
      "Epoch 139/200\n",
      "398/398 [==============================] - 0s 95us/step - loss: 0.2340 - acc: 0.9271 - val_loss: 0.2356 - val_acc: 0.9298\n",
      "Epoch 140/200\n",
      "398/398 [==============================] - 0s 118us/step - loss: 0.2335 - acc: 0.9271 - val_loss: 0.2354 - val_acc: 0.9298\n",
      "Epoch 141/200\n",
      "398/398 [==============================] - 0s 170us/step - loss: 0.2329 - acc: 0.9271 - val_loss: 0.2348 - val_acc: 0.9298\n",
      "Epoch 142/200\n",
      "398/398 [==============================] - 0s 130us/step - loss: 0.2324 - acc: 0.9271 - val_loss: 0.2342 - val_acc: 0.9298\n",
      "Epoch 143/200\n",
      "398/398 [==============================] - 0s 138us/step - loss: 0.2319 - acc: 0.9271 - val_loss: 0.2337 - val_acc: 0.9298\n",
      "Epoch 144/200\n",
      "398/398 [==============================] - 0s 120us/step - loss: 0.2314 - acc: 0.9271 - val_loss: 0.2331 - val_acc: 0.9298\n",
      "Epoch 145/200\n",
      "398/398 [==============================] - 0s 100us/step - loss: 0.2310 - acc: 0.9271 - val_loss: 0.2328 - val_acc: 0.9298\n",
      "Epoch 146/200\n",
      "398/398 [==============================] - 0s 100us/step - loss: 0.2306 - acc: 0.9271 - val_loss: 0.2318 - val_acc: 0.9298\n",
      "Epoch 147/200\n",
      "398/398 [==============================] - 0s 110us/step - loss: 0.2299 - acc: 0.9271 - val_loss: 0.2314 - val_acc: 0.9298\n",
      "Epoch 148/200\n",
      "398/398 [==============================] - 0s 98us/step - loss: 0.2294 - acc: 0.9271 - val_loss: 0.2306 - val_acc: 0.9298\n",
      "Epoch 149/200\n",
      "398/398 [==============================] - 0s 105us/step - loss: 0.2289 - acc: 0.9271 - val_loss: 0.2303 - val_acc: 0.9298\n",
      "Epoch 150/200\n",
      "398/398 [==============================] - 0s 133us/step - loss: 0.2286 - acc: 0.9271 - val_loss: 0.2295 - val_acc: 0.9298\n",
      "Epoch 151/200\n",
      "398/398 [==============================] - 0s 120us/step - loss: 0.2279 - acc: 0.9271 - val_loss: 0.2293 - val_acc: 0.9298\n",
      "Epoch 152/200\n",
      "398/398 [==============================] - 0s 118us/step - loss: 0.2274 - acc: 0.9271 - val_loss: 0.2287 - val_acc: 0.9298\n",
      "Epoch 153/200\n",
      "398/398 [==============================] - 0s 119us/step - loss: 0.2271 - acc: 0.9271 - val_loss: 0.2284 - val_acc: 0.9298\n",
      "Epoch 154/200\n",
      "398/398 [==============================] - 0s 103us/step - loss: 0.2266 - acc: 0.9271 - val_loss: 0.2279 - val_acc: 0.9298\n",
      "Epoch 155/200\n",
      "398/398 [==============================] - 0s 104us/step - loss: 0.2262 - acc: 0.9271 - val_loss: 0.2272 - val_acc: 0.9298\n",
      "Epoch 156/200\n",
      "398/398 [==============================] - 0s 105us/step - loss: 0.2255 - acc: 0.9271 - val_loss: 0.2267 - val_acc: 0.9298\n",
      "Epoch 157/200\n",
      "398/398 [==============================] - 0s 110us/step - loss: 0.2251 - acc: 0.9271 - val_loss: 0.2262 - val_acc: 0.9298\n",
      "Epoch 158/200\n",
      "398/398 [==============================] - 0s 98us/step - loss: 0.2248 - acc: 0.9296 - val_loss: 0.2256 - val_acc: 0.9298\n",
      "Epoch 159/200\n",
      "398/398 [==============================] - 0s 103us/step - loss: 0.2242 - acc: 0.9296 - val_loss: 0.2251 - val_acc: 0.9298\n",
      "Epoch 160/200\n",
      "398/398 [==============================] - 0s 118us/step - loss: 0.2239 - acc: 0.9296 - val_loss: 0.2249 - val_acc: 0.9298\n",
      "Epoch 161/200\n",
      "398/398 [==============================] - 0s 115us/step - loss: 0.2234 - acc: 0.9271 - val_loss: 0.2246 - val_acc: 0.9298\n",
      "Epoch 162/200\n",
      "398/398 [==============================] - 0s 120us/step - loss: 0.2230 - acc: 0.9271 - val_loss: 0.2241 - val_acc: 0.9298\n",
      "Epoch 163/200\n",
      "398/398 [==============================] - 0s 120us/step - loss: 0.2225 - acc: 0.9271 - val_loss: 0.2238 - val_acc: 0.9298\n",
      "Epoch 164/200\n",
      "398/398 [==============================] - 0s 113us/step - loss: 0.2222 - acc: 0.9271 - val_loss: 0.2232 - val_acc: 0.9298\n",
      "Epoch 165/200\n",
      "398/398 [==============================] - 0s 118us/step - loss: 0.2219 - acc: 0.9271 - val_loss: 0.2231 - val_acc: 0.9298\n",
      "Epoch 166/200\n",
      "398/398 [==============================] - 0s 125us/step - loss: 0.2213 - acc: 0.9271 - val_loss: 0.2222 - val_acc: 0.9298\n",
      "Epoch 167/200\n",
      "398/398 [==============================] - 0s 118us/step - loss: 0.2208 - acc: 0.9296 - val_loss: 0.2217 - val_acc: 0.9298\n",
      "Epoch 168/200\n",
      "398/398 [==============================] - 0s 110us/step - loss: 0.2205 - acc: 0.9296 - val_loss: 0.2213 - val_acc: 0.9298\n",
      "Epoch 169/200\n",
      "398/398 [==============================] - 0s 103us/step - loss: 0.2201 - acc: 0.9296 - val_loss: 0.2206 - val_acc: 0.9298\n"
     ]
    },
    {
     "name": "stdout",
     "output_type": "stream",
     "text": [
      "Epoch 170/200\n",
      "398/398 [==============================] - 0s 108us/step - loss: 0.2197 - acc: 0.9296 - val_loss: 0.2203 - val_acc: 0.9298\n",
      "Epoch 171/200\n",
      "398/398 [==============================] - 0s 105us/step - loss: 0.2193 - acc: 0.9296 - val_loss: 0.2199 - val_acc: 0.9298\n",
      "Epoch 172/200\n",
      "398/398 [==============================] - 0s 103us/step - loss: 0.2190 - acc: 0.9296 - val_loss: 0.2194 - val_acc: 0.9298\n",
      "Epoch 173/200\n",
      "398/398 [==============================] - 0s 98us/step - loss: 0.2185 - acc: 0.9296 - val_loss: 0.2191 - val_acc: 0.9298\n",
      "Epoch 174/200\n",
      "398/398 [==============================] - 0s 98us/step - loss: 0.2182 - acc: 0.9296 - val_loss: 0.2189 - val_acc: 0.9298\n",
      "Epoch 175/200\n",
      "398/398 [==============================] - 0s 103us/step - loss: 0.2178 - acc: 0.9296 - val_loss: 0.2185 - val_acc: 0.9298\n",
      "Epoch 176/200\n",
      "398/398 [==============================] - 0s 103us/step - loss: 0.2174 - acc: 0.9296 - val_loss: 0.2181 - val_acc: 0.9298\n",
      "Epoch 177/200\n",
      "398/398 [==============================] - 0s 98us/step - loss: 0.2171 - acc: 0.9296 - val_loss: 0.2178 - val_acc: 0.9298\n",
      "Epoch 178/200\n",
      "398/398 [==============================] - 0s 103us/step - loss: 0.2167 - acc: 0.9271 - val_loss: 0.2176 - val_acc: 0.9298\n",
      "Epoch 179/200\n",
      "398/398 [==============================] - 0s 100us/step - loss: 0.2164 - acc: 0.9271 - val_loss: 0.2170 - val_acc: 0.9298\n",
      "Epoch 180/200\n",
      "398/398 [==============================] - 0s 100us/step - loss: 0.2160 - acc: 0.9296 - val_loss: 0.2165 - val_acc: 0.9298\n",
      "Epoch 181/200\n",
      "398/398 [==============================] - 0s 100us/step - loss: 0.2157 - acc: 0.9296 - val_loss: 0.2165 - val_acc: 0.9298\n",
      "Epoch 182/200\n",
      "398/398 [==============================] - 0s 103us/step - loss: 0.2152 - acc: 0.9271 - val_loss: 0.2159 - val_acc: 0.9298\n",
      "Epoch 183/200\n",
      "398/398 [==============================] - 0s 99us/step - loss: 0.2149 - acc: 0.9271 - val_loss: 0.2156 - val_acc: 0.9298\n",
      "Epoch 184/200\n",
      "398/398 [==============================] - 0s 95us/step - loss: 0.2147 - acc: 0.9271 - val_loss: 0.2157 - val_acc: 0.9298\n",
      "Epoch 185/200\n",
      "398/398 [==============================] - 0s 106us/step - loss: 0.2141 - acc: 0.9271 - val_loss: 0.2154 - val_acc: 0.9298\n",
      "Epoch 186/200\n",
      "398/398 [==============================] - 0s 100us/step - loss: 0.2138 - acc: 0.9271 - val_loss: 0.2149 - val_acc: 0.9298\n",
      "Epoch 187/200\n",
      "398/398 [==============================] - 0s 102us/step - loss: 0.2135 - acc: 0.9296 - val_loss: 0.2146 - val_acc: 0.9298\n",
      "Epoch 188/200\n",
      "398/398 [==============================] - 0s 100us/step - loss: 0.2131 - acc: 0.9296 - val_loss: 0.2143 - val_acc: 0.9298\n",
      "Epoch 189/200\n",
      "398/398 [==============================] - 0s 98us/step - loss: 0.2129 - acc: 0.9271 - val_loss: 0.2144 - val_acc: 0.9298\n",
      "Epoch 190/200\n",
      "398/398 [==============================] - 0s 105us/step - loss: 0.2127 - acc: 0.9271 - val_loss: 0.2136 - val_acc: 0.9298\n",
      "Epoch 191/200\n",
      "398/398 [==============================] - 0s 103us/step - loss: 0.2121 - acc: 0.9296 - val_loss: 0.2133 - val_acc: 0.9298\n",
      "Epoch 192/200\n",
      "398/398 [==============================] - 0s 108us/step - loss: 0.2119 - acc: 0.9296 - val_loss: 0.2128 - val_acc: 0.9298\n",
      "Epoch 193/200\n",
      "398/398 [==============================] - 0s 105us/step - loss: 0.2115 - acc: 0.9296 - val_loss: 0.2128 - val_acc: 0.9298\n",
      "Epoch 194/200\n",
      "398/398 [==============================] - 0s 108us/step - loss: 0.2111 - acc: 0.9296 - val_loss: 0.2124 - val_acc: 0.9298\n",
      "Epoch 195/200\n",
      "398/398 [==============================] - 0s 108us/step - loss: 0.2109 - acc: 0.9296 - val_loss: 0.2121 - val_acc: 0.9298\n",
      "Epoch 196/200\n",
      "398/398 [==============================] - 0s 120us/step - loss: 0.2109 - acc: 0.9296 - val_loss: 0.2115 - val_acc: 0.9298\n",
      "Epoch 197/200\n",
      "398/398 [==============================] - 0s 103us/step - loss: 0.2102 - acc: 0.9296 - val_loss: 0.2112 - val_acc: 0.9298\n",
      "Epoch 198/200\n",
      "398/398 [==============================] - 0s 100us/step - loss: 0.2100 - acc: 0.9296 - val_loss: 0.2111 - val_acc: 0.9298\n",
      "Epoch 199/200\n",
      "398/398 [==============================] - 0s 100us/step - loss: 0.2098 - acc: 0.9271 - val_loss: 0.2110 - val_acc: 0.9298\n",
      "Epoch 200/200\n",
      "398/398 [==============================] - 0s 103us/step - loss: 0.2095 - acc: 0.9271 - val_loss: 0.2107 - val_acc: 0.9298\n",
      "171/171 [==============================] - 0s 41us/step\n"
     ]
    }
   ],
   "source": [
    "model = Sequential()\n",
    "\n",
    "# Hidden layer dan Input Layer\n",
    "model.add(Dense(3, kernel_initializer=\"uniform\", activation = 'relu', input_dim = 5))\n",
    "model.add(Dense(3, kernel_initializer=\"uniform\", activation = 'relu'))\n",
    "\n",
    "# Output Layer\n",
    "model.add(Dense(1, kernel_initializer=\"uniform\", activation = 'sigmoid'))\n",
    "model.compile(optimizer = 'adam', loss = 'binary_crossentropy', metrics = ['accuracy'])\n",
    "\n",
    "acc_training = model.fit(X_train, y_train, validation_data=(X_test, y_test), batch_size=32, epochs=200)\n",
    "acc_testing  = model.evaluate(X_test, y_test)"
   ]
  },
  {
   "cell_type": "markdown",
   "metadata": {},
   "source": [
    "### Hasil Akurasi Prediksi"
   ]
  },
  {
   "cell_type": "code",
   "execution_count": 11,
   "metadata": {},
   "outputs": [
    {
     "name": "stdout",
     "output_type": "stream",
     "text": [
      "Akurasi data Testing = 92.98%\n"
     ]
    }
   ],
   "source": [
    "print(\"Akurasi data Testing = %.2f%%\" % (acc_testing[1]*100))"
   ]
  },
  {
   "cell_type": "markdown",
   "metadata": {},
   "source": [
    "# Plotting Model Akurasi dan Loss"
   ]
  },
  {
   "cell_type": "code",
   "execution_count": 12,
   "metadata": {
    "scrolled": false
   },
   "outputs": [
    {
     "data": {
      "image/png": "[encoded data removed]",
      "text/plain": [
       "<Figure size 432x288 with 1 Axes>"
      ]
     },
     "metadata": {
      "needs_background": "light"
     },
     "output_type": "display_data"
    },
    {
     "data": {
      "image/png": "[encoded data removed]",
      "text/plain": [
       "<Figure size 432x288 with 1 Axes>"
      ]
     },
     "metadata": {
      "needs_background": "light"
     },
     "output_type": "display_data"
    }
   ],
   "source": [
    "# Plot training & validation accuracy values\n",
    "plt.plot(acc_training.history['acc'])\n",
    "plt.plot(acc_training.history['val_acc'])\n",
    "plt.title('Model accuracy')\n",
    "plt.ylabel('Accuracy')\n",
    "plt.xlabel('Epoch')\n",
    "plt.legend(['Train', 'Test'], loc='lower right')\n",
    "plt.show()\n",
    "\n",
    "# Plot training & validation loss values\n",
    "plt.plot(acc_training.history['loss'])\n",
    "plt.plot(acc_training.history['val_loss'])\n",
    "plt.title('Model loss')\n",
    "plt.ylabel('Loss')\n",
    "plt.xlabel('Epoch')\n",
    "plt.legend(['Train', 'Test'], loc='upper right')\n",
    "plt.show()"
   ]
  },
  {
   "cell_type": "markdown",
   "metadata": {},
   "source": [
    "# Evaluasi Model\n",
    "\n",
    "**Confusion Matrix** adalah teknik untuk meringkas perfomance dari algoritma klasifikasinya.\n",
    "\n",
    "Klasifikasi akurasi bisa saja *misleading* jika memiliki jumlah pengamatan yang tidak sama di setiap kelas atau jika  memiliki lebih dari dua kelas dalam dataset Anda.\n",
    "\n",
    "Menghitung **Confusion Matrix** dapat memberi ide yang lebih baik tentang apakah model klasifikasinya benar dan jenis kesalahan apa yang dibuatnya.\n",
    "\n",
    "- True Positive (TP), yaitu jumlah dari kelas 1 yang benar dan diklasifikasikan sebagai kelas 1.\n",
    "- True Negative (TN), yaitu jumlah dari kelas 0 yang benar diklasifikasikan sebagai kelas 0.\n",
    "- False Positive (FP), yaitu jumlah dari kelas 0 yang salah diklasifikasikan sebagai kelas 1.\n",
    "- False Negative (FN), yaitu jumlah dari kelas 1 yang salah diklasifikasikan sebagai kelas 0.\n",
    "\n",
    "\n",
    "1. Akurasi adalah rasio prediksi Benar (positif dan negatif) dengan keseluruhan data.\n",
    "\n",
    "\\begin{split}Akurasi = \\frac{TP+TN} {TP+FP+FN+TN}\\end{split}\n",
    "\n",
    "2. Presisi adalah rasio prediksi benar positif dibandingkan dengan keseluruhan hasil yang diprediksi positif.\n",
    "\\begin{split}Presisi = \\frac{TP} {TP+FP}\\end{split}\n",
    "\n",
    "3. Recall (Sensitifitas) adalah rasio prediksi benar positif dibandingkan dengan keseluruhan data yang benar positif.\n",
    "\\begin{split}Recall = \\frac{TP} {TP+FN}\\end{split}\n",
    "\n",
    "4. Specificity adalah kebenaran memprediksi negatif dibandingkan dengan keseluruhan data negatif.\n",
    "\\begin{split}Specificity = \\frac{TN} {TN+FP}\\end{split}\n",
    "5. F1 Score adalah perbandingan rata-rata presisi dan recall yang dibobotkan.\n",
    "\\begin{split}F1 Score = \\frac {2 \\times Recall \\times Presisi} {Recall + Presisi}\\end{split}"
   ]
  },
  {
   "cell_type": "code",
   "execution_count": 13,
   "metadata": {},
   "outputs": [],
   "source": [
    "# Prediksi\n",
    "y_pred_test = model.predict(X_test)\n",
    "y_pred_test = (y_pred_test > 0.5)\n",
    "\n",
    "y_pred_train = model.predict(X_train)\n",
    "y_pred_train= (y_pred_train > 0.5)\n",
    "\n",
    "from sklearn.metrics import confusion_matrix\n",
    "\n",
    "cm_test = confusion_matrix(y_test, y_pred_test)\n",
    "cm_train = confusion_matrix(y_train, y_pred_train)"
   ]
  },
  {
   "cell_type": "code",
   "execution_count": 14,
   "metadata": {
    "scrolled": true
   },
   "outputs": [
    {
     "data": {
      "text/plain": [
       "array([[61,  7],\n",
       "       [ 5, 98]], dtype=int64)"
      ]
     },
     "execution_count": 14,
     "metadata": {},
     "output_type": "execute_result"
    }
   ],
   "source": [
    "cm_test"
   ]
  },
  {
   "cell_type": "code",
   "execution_count": 15,
   "metadata": {},
   "outputs": [
    {
     "name": "stdout",
     "output_type": "stream",
     "text": [
      "Accuracy test 0.9298245614035088\n",
      "Specificity test 0.9514563106796117\n",
      "Sensitivity test 0.8970588235294118\n",
      "Precision test 0.9242424242424242\n",
      "F1 Score test 0.9104477611940298\n"
     ]
    }
   ],
   "source": [
    "tp = cm_test[0][0]\n",
    "fn = cm_test[0][1]\n",
    "fp = cm_test[1][0]\n",
    "tn = cm_test[1][1]\n",
    "\n",
    "accuracy = (tp+tn)/(tp+tn+fp+fn)\n",
    "specificity = tn/(tn+fp)\n",
    "sensitivity = tp/(tp+fn)\n",
    "precision = tp/(tp+fp)\n",
    "f1_score = (2*sensitivity*precision)/(sensitivity+precision)\n",
    "\n",
    "print(\"Accuracy test {0}\".format(accuracy))\n",
    "print(\"Specificity test {0}\".format(specificity))\n",
    "print(\"Sensitivity test {0}\".format(sensitivity))\n",
    "print(\"Precision test {0}\".format(precision))\n",
    "print(\"F1 Score test {0}\".format(f1_score))"
   ]
  },
  {
   "cell_type": "code",
   "execution_count": 16,
   "metadata": {},
   "outputs": [
    {
     "data": {
      "text/plain": [
       "array([[127,  17],\n",
       "       [ 11, 243]], dtype=int64)"
      ]
     },
     "execution_count": 16,
     "metadata": {},
     "output_type": "execute_result"
    }
   ],
   "source": [
    "cm_train"
   ]
  },
  {
   "cell_type": "code",
   "execution_count": 17,
   "metadata": {},
   "outputs": [
    {
     "name": "stdout",
     "output_type": "stream",
     "text": [
      "Accuracy training 0.9296482412060302\n",
      "Specificity training 0.9566929133858267\n",
      "Sensitivity training 0.8819444444444444\n",
      "Precision training 0.9202898550724637\n",
      "F1 Score training 0.900709219858156\n"
     ]
    }
   ],
   "source": [
    "tp = cm_train[0][0]\n",
    "fn = cm_train[0][1]\n",
    "fp = cm_train[1][0]\n",
    "tn = cm_train[1][1]\n",
    "\n",
    "accuracy = (tp+tn)/(tp+tn+fp+fn)\n",
    "specificity = tn/(tn+fp)\n",
    "sensitivity = tp/(tp+fn)\n",
    "precision = tp/(tp+fp)\n",
    "f1_score = (2*sensitivity*precision)/(sensitivity+precision)\n",
    "\n",
    "print(\"Accuracy training {0}\".format(accuracy))\n",
    "print(\"Specificity training {0}\".format(specificity))\n",
    "print(\"Sensitivity training {0}\".format(sensitivity))\n",
    "print(\"Precision training {0}\".format(precision))\n",
    "print(\"F1 Score training {0}\".format(f1_score))"
   ]
  },
  {
   "cell_type": "code",
   "execution_count": null,
   "metadata": {},
   "outputs": [],
   "source": []
  }
 ],
 "metadata": {
  "kernelspec": {
   "display_name": "Python 3",
   "language": "python",
   "name": "python3"
  },
  "language_info": {
   "codemirror_mode": {
    "name": "ipython",
    "version": 3
   },
   "file_extension": ".py",
   "mimetype": "text/x-python",
   "name": "python",
   "nbconvert_exporter": "python",
   "pygments_lexer": "ipython3",
   "version": "3.6.5"
  }
 },
 "nbformat": 4,
 "nbformat_minor": 2
}
