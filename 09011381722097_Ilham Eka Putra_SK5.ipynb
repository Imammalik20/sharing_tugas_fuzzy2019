{
 "cells": [
  {
   "cell_type": "markdown",
   "metadata": {},
   "source": [
    "# NAMA  : ILHAM EKA PUTRA\n",
    "# NIM      : 09011381722097\n",
    "# KELAS : SK 5 PALEMBANG"
   ]
  },
  {
   "cell_type": "markdown",
   "metadata": {},
   "source": [
    "# IMPLEMENTASI LOGIKA FUZZY MAMDANI UNTUK MENENTUKAN HARGA GABAH "
   ]
  },
  {
   "cell_type": "markdown",
   "metadata": {},
   "source": [
    "<div class=\"alert alert-success\">\n",
    "    <p align=\"justify\">Konsep logika fuzzy pertama kali diperkenalkan oleh Professor Lotfi A.Zadeh dari Universitas California, pada bulan Juni 1965. Fuzzy secara bahasa diartikan sebagai kabur atau samar – samar.</p><br>\n",
    "    <p align=\"justify\">Menurut Setiadji (2009 : 174), <b>Fuzzy</b> merupakan suatu nilai yang dapat bernilai benar atau salah secara bersamaan. Namun seberapa besar nilai kebenaran dan kesalahannya tergantung pada derajat keanggotaan yang dimilikinya. Derajat keanggotaan dalam fuzzy memiliki rentang nilai 0 (nol) hingga 1(satu). Hal ini berbeda dengan himpunan tegas yang memiliki nilai 1 atau 0 (ya atau tidak).</p><br> \n",
    "    <p align=\"justify\"><b>Logika Fuzzy</b> digunakan untuk menterjemahkan suatu besaran yang diekspresikan menggunakan bahasa (linguistik), misalkan besaran kecepatan laju kendaraan yang diekspresikan dengan pelan, agak cepat, cepat, dan sangat cepat. Dan logika fuzzy menunjukkan sejauh mana suatu nilai itu benar dan sejauh mana suatu nilai itu salah. Tidak seperti logika tegas, suatu nilai hanya mempunyai 2 kemungkinan yaitu merupakan suatu anggota himpunan atau tidak. Derajat keanggotaan 0 (nol) artinya nilai bukan merupakan anggota himpunan dan 1 (satu) berarti nilai tersebut adalah anggota himpunan.</p><br></div> "
   ]
  },
  {
   "cell_type": "markdown",
   "metadata": {},
   "source": [
    "# I. METODE FUZZY YANG DIGUNAKAN"
   ]
  },
  {
   "cell_type": "markdown",
   "metadata": {},
   "source": [
    "Metode fuzzy yang digunakan adalah Mamdani. Langkah-langkah dalam metode mamdani, antara lain:  \n",
    "1. Fuzzifikasi\n",
    "2. Rule Base\n",
    "3. Mekanisme Inferensi\n",
    "4. Defuzifikasi"
   ]
  },
  {
   "cell_type": "markdown",
   "metadata": {},
   "source": [
    "# II. PENYELESAIAN DENGAN PYTHON"
   ]
  },
  {
   "cell_type": "markdown",
   "metadata": {},
   "source": [
    "- Import Library"
   ]
  },
  {
   "cell_type": "code",
   "execution_count": 118,
   "metadata": {},
   "outputs": [],
   "source": [
    "import numpy as np\n",
    "import skfuzzy as fuzz\n",
    "from skfuzzy import control as ctrl\n",
    "import matplotlib.pyplot as plt"
   ]
  },
  {
   "cell_type": "markdown",
   "metadata": {},
   "source": [
    "Input :\n",
    "Kadar air dibagi menjadi 3 bagian yakni :\n",
    "- Rendah = (0% - 14%)\n",
    "- Sedang = (13% - 25%)\n",
    "- Tinggi = (23% - 50%)\n",
    "\n",
    "Kadar Hampa dibagi menjadi 3 bagian yakni:\n",
    "- Sedikit = (0%- 3%)\n",
    "- Sedang  = (2 - 10%)\n",
    "- Banyak  = (8% - 20%)\n",
    "\n",
    "Output : \n",
    "Kualitas harga di bagi menjadi 3 bagian yakni :\n",
    "- Rendah                    = (Rp.3,500 - Rp.4,100)\n",
    "- GKP (Gabah Kering Panen)  = (Rp.4,000 - Rp.4,700)\n",
    "- GKG (Gabah Kering Giling) = (Rp.4,500 - Rp.5,000)"
   ]
  },
  {
   "cell_type": "markdown",
   "metadata": {},
   "source": [
    "Kadar air mempunyai rentang nilai dari 0% - 50%"
   ]
  },
  {
   "cell_type": "code",
   "execution_count": 119,
   "metadata": {},
   "outputs": [],
   "source": [
    "kadar_air = ctrl.Antecedent(np.arange(0, 50, 1), 'kadar air')\n",
    "kadar_air_x = np.arange(0, 50, 1)"
   ]
  },
  {
   "cell_type": "markdown",
   "metadata": {},
   "source": [
    "# Fuzzifikasi Kadar Air"
   ]
  },
  {
   "cell_type": "markdown",
   "metadata": {},
   "source": [
    "<div class=\"alert alert-success\">\n",
    "\n",
    "Proses untuk mengubah variabel non numerik menjadi variabel non fuzzy (numerik) menjadi variabel fuzzy (linguistik).\n",
    "\n",
    "Untuk kadar air, fungsi keanggotaan dibagi menjadi 3 bagian :\n",
    "$$ Kadar Air $$\n",
    "$$ Rendah = 0 - 14 $$\n",
    "$$ Sedang = 13 - 25 $$\n",
    "$$ Tinggi = 23 - 50 $$"
   ]
  },
  {
   "cell_type": "markdown",
   "metadata": {},
   "source": [
    "<div class=\"alert alert-warning\">\n",
    "\n",
    "Dengan fungsi keanggotaan kadar air\n",
    "$$ \\mu Rendah [x] =\n",
    "\\begin{cases}\n",
    "    1 & ; x \\leq 13\\\\\n",
    "    \\frac{(14-x)}{(14-13)} & ; 13 \\leq  x \\leq\\ 14 \\\\\n",
    "    0 & ; x \\geq 14\n",
    "\\end{cases}\n",
    "$$\n",
    "\n",
    "$$ \\mu Sedang [x] =\n",
    "\\begin{cases}\n",
    "    0 & ; x \\leq 13\\\\\n",
    "    \\frac{(x-13)}{(19-13)} & ;13 \\leq x \\leq\\ 19 \\\\\n",
    "    \\frac{(25-x)}{(25-19)} & ; 19 \\leq  x \\leq\\ 25 \\\\\n",
    "\\end{cases}\n",
    "$$\n",
    "\n",
    "$$ \\mu Tinggi [x] = \n",
    "\\begin{cases}\n",
    "    0 & ; x \\leq 23\\\\\n",
    "    \\frac{(x-23)}{(30-23)} & ;23 \\leq x \\leq\\ 30 \\\\\n",
    "    1 & ; x \\geq 30\n",
    "\\end{cases}\n",
    "$$"
   ]
  },
  {
   "cell_type": "code",
   "execution_count": 120,
   "metadata": {},
   "outputs": [],
   "source": [
    "kadar_air['rendah'] = fuzz.trapmf(kadar_air.universe, [0, 0, 13, 14])\n",
    "kadar_air['sedang'] = fuzz.trimf(kadar_air.universe, [13, 19, 25])\n",
    "kadar_air['tinggi'] = fuzz.trapmf(kadar_air.universe, [23, 30, 50, 50])"
   ]
  },
  {
   "cell_type": "markdown",
   "metadata": {},
   "source": [
    "### PLOTTING MEMBERSHIP FUNCTION KADAR AIR"
   ]
  },
  {
   "cell_type": "markdown",
   "metadata": {},
   "source": [
    "Plotting fungsi keanggotaan $\\mu KadarAirRendah(x)$"
   ]
  },
  {
   "cell_type": "code",
   "execution_count": 121,
   "metadata": {},
   "outputs": [
    {
     "data": {
      "text/plain": [
       "Text(0.5,1,'Kadar Air Rendah')"
      ]
     },
     "execution_count": 121,
     "metadata": {},
     "output_type": "execute_result"
    },
    {
     "data": {
      "image/png": "[encoded data removed]",
      "text/plain": [
       "<Figure size 432x432 with 1 Axes>"
      ]
     },
     "metadata": {},
     "output_type": "display_data"
    }
   ],
   "source": [
    "kadar_air_rendah = fuzz.trapmf(kadar_air_x,[0,0,13,14])\n",
    "fig, (ax0) = plt.subplots(nrows=1,figsize=(6,6))\n",
    "ax0.plot(kadar_air_x,kadar_air_rendah,'blue')\n",
    "ax0.set_title('Kadar Air Rendah')"
   ]
  },
  {
   "cell_type": "markdown",
   "metadata": {},
   "source": [
    "Plotting fungsi keanggotaan $\\mu KadarAirSedang(x)$"
   ]
  },
  {
   "cell_type": "code",
   "execution_count": 122,
   "metadata": {},
   "outputs": [
    {
     "data": {
      "text/plain": [
       "Text(0.5,1,'Kadar Air Sedang')"
      ]
     },
     "execution_count": 122,
     "metadata": {},
     "output_type": "execute_result"
    },
    {
     "data": {
      "image/png": "[encoded data removed]",
      "text/plain": [
       "<Figure size 432x432 with 1 Axes>"
      ]
     },
     "metadata": {},
     "output_type": "display_data"
    }
   ],
   "source": [
    "kadar_air_sedang = fuzz.trimf(kadar_air_x,[13,19,25])\n",
    "fig, (ax0) = plt.subplots(nrows=1,figsize=(6,6))\n",
    "ax0.plot(kadar_air_x,kadar_air_sedang,'orange')\n",
    "ax0.set_title('Kadar Air Sedang')"
   ]
  },
  {
   "cell_type": "markdown",
   "metadata": {},
   "source": [
    "Plotting fungsi keanggotaan $\\mu KadarAirTinggi(x)$"
   ]
  },
  {
   "cell_type": "code",
   "execution_count": 123,
   "metadata": {},
   "outputs": [
    {
     "data": {
      "text/plain": [
       "Text(0.5,1,'Kadar Air Tinggi')"
      ]
     },
     "execution_count": 123,
     "metadata": {},
     "output_type": "execute_result"
    },
    {
     "data": {
      "image/png": "[encoded data removed]",
      "text/plain": [
       "<Figure size 432x432 with 1 Axes>"
      ]
     },
     "metadata": {},
     "output_type": "display_data"
    }
   ],
   "source": [
    "kadar_air_tinggi = fuzz.trapmf(kadar_air_x,[23,30,50,50])\n",
    "fig, (ax0) = plt.subplots(nrows=1,figsize=(6,6))\n",
    "ax0.plot(kadar_air_x,kadar_air_tinggi,'green')\n",
    "ax0.set_title('Kadar Air Tinggi')"
   ]
  },
  {
   "cell_type": "code",
   "execution_count": 124,
   "metadata": {},
   "outputs": [
    {
     "name": "stderr",
     "output_type": "stream",
     "text": [
      "C:\\Users\\Ilham\\Anaconda3\\lib\\site-packages\\matplotlib\\figure.py:459: UserWarning: matplotlib is currently using a non-GUI backend, so cannot show the figure\n",
      "  \"matplotlib is currently using a non-GUI backend, \"\n"
     ]
    },
    {
     "data": {
      "image/png": "[encoded data removed]",
      "text/plain": [
       "<Figure size 432x288 with 1 Axes>"
      ]
     },
     "metadata": {},
     "output_type": "display_data"
    }
   ],
   "source": [
    "kadar_air.view()"
   ]
  },
  {
   "cell_type": "code",
   "execution_count": 125,
   "metadata": {},
   "outputs": [],
   "source": [
    "kadar_hampa = ctrl.Antecedent(np.arange(0, 20, 1), 'kadar hampa')\n",
    "kadar_hampa_x = np.arange(0, 20, 1)"
   ]
  },
  {
   "cell_type": "markdown",
   "metadata": {},
   "source": [
    "# Fuzzifikasi Kadar Hampa"
   ]
  },
  {
   "cell_type": "markdown",
   "metadata": {},
   "source": [
    "Untuk kadar hampa, fungsi keanggotaan dibagi menjadi 3 bagian :\n",
    "\n",
    "Kadar hampa tersebut dinyatakan sedikit ketika mempunyai nilai hampa 0 - 3 %.\n",
    "\n",
    "Kadar hampa tersebut dinyatakan sedang ketika mempunyai nilai hampa 2 - 6 %.\n",
    "\n",
    "Kadar hampa tersebut dinyatakan sedang ketika mempunyai nilai hampa 8 - 20 %."
   ]
  },
  {
   "cell_type": "markdown",
   "metadata": {},
   "source": [
    "<div class=\"alert alert-warning\">\n",
    "\n",
    "Dengan fungsi keanggotaan kadar hampa\n",
    "$$ \\mu Sedikit [x] = \n",
    "\\begin{cases}\n",
    "    1 & ; x \\leq 2\\\\\n",
    "    \\frac{(3-x)}{(3-1)} & ; 2 \\leq  x \\leq\\ 3 \\\\\n",
    "    0 & ; x \\geq 3\n",
    "\\end{cases}\n",
    "$$\n",
    "\n",
    "$$ \\mu Sedang [x] = \n",
    "\\begin{cases}\n",
    "    0 & ; x \\leq 2\\\\\n",
    "    \\frac{(x-2)}{(6-2)} & ; 2 \\leq x \\leq\\ 6 \\\\\n",
    "    \\frac{(10-x)}{(10-6)} & ; 6 \\leq  x \\leq\\ 10 \\\\\n",
    "\\end{cases}\n",
    "$$\n",
    "\n",
    "$$ \\mu Banyak [x] = \n",
    "\\begin{cases}\n",
    "    0 & ; x \\leq 8\\\\\n",
    "    \\frac{(x-8)}{(12-8)} & ; 8 \\leq x \\leq\\ 12 \\\\\n",
    "    1 & ; x \\geq 12\\\\\n",
    "\\end{cases}\n",
    "$$"
   ]
  },
  {
   "cell_type": "code",
   "execution_count": 126,
   "metadata": {},
   "outputs": [],
   "source": [
    "kadar_hampa['sedikit'] = fuzz.trapmf(kadar_hampa.universe, [0, 0, 2, 3])\n",
    "kadar_hampa['sedang'] = fuzz.trimf(kadar_hampa.universe, [2, 6, 10])\n",
    "kadar_hampa['banyak'] = fuzz.trapmf(kadar_hampa.universe, [8, 12, 20, 20])"
   ]
  },
  {
   "cell_type": "markdown",
   "metadata": {},
   "source": [
    "### PLOTTING MEMBERSHIP FUNCTION KADAR HAMPA"
   ]
  },
  {
   "cell_type": "markdown",
   "metadata": {},
   "source": [
    "Plotting fungsi keanggotaan $\\mu KadarHampaSedikit(x)$"
   ]
  },
  {
   "cell_type": "code",
   "execution_count": 127,
   "metadata": {},
   "outputs": [
    {
     "data": {
      "text/plain": [
       "Text(0.5,1,'Kadar Air Sedikit')"
      ]
     },
     "execution_count": 127,
     "metadata": {},
     "output_type": "execute_result"
    },
    {
     "data": {
      "image/png": "[encoded data removed]",
      "text/plain": [
       "<Figure size 432x432 with 1 Axes>"
      ]
     },
     "metadata": {},
     "output_type": "display_data"
    }
   ],
   "source": [
    "kadar_hampa_sedikit = fuzz.trapmf(kadar_hampa_x,[0,0,2,3])\n",
    "fig, (ax0) = plt.subplots(nrows=1,figsize=(6,6))\n",
    "ax0.plot(kadar_hampa_x,kadar_hampa_sedikit,'blue')\n",
    "ax0.set_title('Kadar Air Sedikit')"
   ]
  },
  {
   "cell_type": "markdown",
   "metadata": {},
   "source": [
    "Plotting fungsi keanggotaan $\\mu KadarHampaSedang(x)$"
   ]
  },
  {
   "cell_type": "code",
   "execution_count": 128,
   "metadata": {},
   "outputs": [
    {
     "data": {
      "text/plain": [
       "Text(0.5,1,'Kadar Air Sedang')"
      ]
     },
     "execution_count": 128,
     "metadata": {},
     "output_type": "execute_result"
    },
    {
     "data": {
      "image/png": "[encoded data removed]",
      "text/plain": [
       "<Figure size 432x432 with 1 Axes>"
      ]
     },
     "metadata": {},
     "output_type": "display_data"
    }
   ],
   "source": [
    "kadar_hampa_sedang = fuzz.trimf(kadar_hampa_x,[2,6,10])\n",
    "fig, (ax0) = plt.subplots(nrows=1,figsize=(6,6))\n",
    "ax0.plot(kadar_hampa_x,kadar_hampa_sedang,'orange')\n",
    "ax0.set_title('Kadar Air Sedang')"
   ]
  },
  {
   "cell_type": "markdown",
   "metadata": {},
   "source": [
    "Plotting fungsi keanggotaan $\\mu KadarHampaBanyak(x)$"
   ]
  },
  {
   "cell_type": "code",
   "execution_count": 129,
   "metadata": {},
   "outputs": [
    {
     "data": {
      "text/plain": [
       "Text(0.5,1,'Kadar Air Tinggi')"
      ]
     },
     "execution_count": 129,
     "metadata": {},
     "output_type": "execute_result"
    },
    {
     "data": {
      "image/png": "[encoded data removed]",
      "text/plain": [
       "<Figure size 432x432 with 1 Axes>"
      ]
     },
     "metadata": {},
     "output_type": "display_data"
    }
   ],
   "source": [
    "kadar_hampa_banyak = fuzz.trapmf(kadar_hampa_x,[8,12,20,20])\n",
    "fig, (ax0) = plt.subplots(nrows=1,figsize=(6,6))\n",
    "ax0.plot(kadar_hampa_x,kadar_hampa_banyak,'green')\n",
    "ax0.set_title('Kadar Air Tinggi')"
   ]
  },
  {
   "cell_type": "code",
   "execution_count": 130,
   "metadata": {},
   "outputs": [
    {
     "name": "stderr",
     "output_type": "stream",
     "text": [
      "C:\\Users\\Ilham\\Anaconda3\\lib\\site-packages\\matplotlib\\figure.py:459: UserWarning: matplotlib is currently using a non-GUI backend, so cannot show the figure\n",
      "  \"matplotlib is currently using a non-GUI backend, \"\n"
     ]
    },
    {
     "data": {
      "image/png": "[encoded data removed]",
      "text/plain": [
       "<Figure size 432x288 with 1 Axes>"
      ]
     },
     "metadata": {},
     "output_type": "display_data"
    }
   ],
   "source": [
    "kadar_hampa.view()"
   ]
  },
  {
   "cell_type": "code",
   "execution_count": 131,
   "metadata": {},
   "outputs": [],
   "source": [
    "harga_kualitas = ctrl.Consequent(np.arange(3500, 5500, 1), 'harga kualitas')\n",
    "harga_kualitas_x = np.arange(3500, 5500, 1)"
   ]
  },
  {
   "cell_type": "markdown",
   "metadata": {},
   "source": [
    "### FUZZIFIKASI HARGA KUALITAS"
   ]
  },
  {
   "cell_type": "markdown",
   "metadata": {},
   "source": [
    "Harga kualitas dibagi menjadi 3 fungsi keanggotaan yakni :\n",
    "1. Rendah = Rp.3500 - Rp.4100\n",
    "2. GKP = Rp.4000 - Rp.4700\n",
    "3. GKG = Rp.4500 - Rp.5000"
   ]
  },
  {
   "cell_type": "markdown",
   "metadata": {},
   "source": [
    "<div class=\"alert alert-warning\">\n",
    "\n",
    "Dengan fungsi keanggotaan harga kualitas\n",
    "$$ \\mu Rendah [z] = \n",
    "\\begin{cases}\n",
    "    1 & ; z \\leq 3750 \\\\\n",
    "    \\frac{(4100-z)}{(4100-3750)} & ; 3750 \\leq  z \\leq\\ 4100 \\\\\n",
    "    0 & ; z \\geq 4100 \\\\\n",
    "\\end{cases}\n",
    "$$\n",
    "\n",
    "$$ \\mu GKP [z] = \n",
    "\\begin{cases}\n",
    "    0 & ; z \\leq 4000\\\\\n",
    "    \\frac{(z-4000)}{(4400-4000)} & ;4000 \\leq z \\leq\\ 4400 \\\\\n",
    "    \\frac{(4700-z)}{(4700-4400)} & ; 4400 \\leq  z \\leq\\ 4700 \\\\\n",
    "    0 & ; z \\geq 4500\n",
    "\\end{cases}\n",
    "$$\n",
    "\n",
    "$$ \\mu GKG [z] = \n",
    "\\begin{cases}\n",
    "    0 & ; z \\leq 4500\\\\\n",
    "    \\frac{(z-4500)}{(5000-4500)} & ;4500 \\leq z \\leq\\ 5000 \\\\\n",
    "    1 & ; x \\geq 5000\\\\\n",
    "\\end{cases}\n",
    "$$"
   ]
  },
  {
   "cell_type": "code",
   "execution_count": 132,
   "metadata": {},
   "outputs": [],
   "source": [
    "harga_kualitas['rendah'] = fuzz.trapmf(harga_kualitas.universe, [3500,3500,3750,4100])\n",
    "harga_kualitas['gkp'] = fuzz.trimf(harga_kualitas.universe, [4000,4400,4700])\n",
    "harga_kualitas['gkg'] = fuzz.trapmf(harga_kualitas.universe, [4500, 5000, 5500, 5500])"
   ]
  },
  {
   "cell_type": "markdown",
   "metadata": {},
   "source": [
    "### PLOTTING MEMBERSHIP FUNCTION HARGA KUALITAS"
   ]
  },
  {
   "cell_type": "markdown",
   "metadata": {},
   "source": [
    "Plotting fungsi keanggotaan $\\mu HargaKualitasRendah(x)$"
   ]
  },
  {
   "cell_type": "code",
   "execution_count": 133,
   "metadata": {},
   "outputs": [
    {
     "data": {
      "text/plain": [
       "Text(0.5,1,'Harga Kualitas Rendah')"
      ]
     },
     "execution_count": 133,
     "metadata": {},
     "output_type": "execute_result"
    },
    {
     "data": {
      "image/png": "[encoded data removed]",
      "text/plain": [
       "<Figure size 432x432 with 1 Axes>"
      ]
     },
     "metadata": {},
     "output_type": "display_data"
    }
   ],
   "source": [
    "harga_kualitas_rendah = fuzz.trapmf(harga_kualitas_x,[3500,3500,3750,4100])\n",
    "fig, (ax0) = plt.subplots(nrows=1,figsize=(6,6))\n",
    "ax0.plot(harga_kualitas_x,harga_kualitas_rendah,'blue')\n",
    "ax0.set_title('Harga Kualitas Rendah')"
   ]
  },
  {
   "cell_type": "markdown",
   "metadata": {},
   "source": [
    "Plotting fungsi keanggotaan $\\mu HargaKualitasGKP(x)$"
   ]
  },
  {
   "cell_type": "code",
   "execution_count": 134,
   "metadata": {},
   "outputs": [
    {
     "data": {
      "text/plain": [
       "Text(0.5,1,'Harga Kualitas GKP')"
      ]
     },
     "execution_count": 134,
     "metadata": {},
     "output_type": "execute_result"
    },
    {
     "data": {
      "image/png": "[encoded data removed]",
      "text/plain": [
       "<Figure size 432x432 with 1 Axes>"
      ]
     },
     "metadata": {},
     "output_type": "display_data"
    }
   ],
   "source": [
    "harga_kualitas_gkp = fuzz.trimf(harga_kualitas_x,[4000,4400,4700])\n",
    "fig, (ax0) = plt.subplots(nrows=1,figsize=(6,6))\n",
    "ax0.plot(harga_kualitas_x,harga_kualitas_gkp,'orange')\n",
    "ax0.set_title('Harga Kualitas GKP')"
   ]
  },
  {
   "cell_type": "markdown",
   "metadata": {},
   "source": [
    "Plotting fungsi keanggotaan $\\mu HargaKualitasGKP(x)$"
   ]
  },
  {
   "cell_type": "code",
   "execution_count": 135,
   "metadata": {},
   "outputs": [
    {
     "data": {
      "text/plain": [
       "Text(0.5,1,'Harga Kualitas GKG')"
      ]
     },
     "execution_count": 135,
     "metadata": {},
     "output_type": "execute_result"
    },
    {
     "data": {
      "image/png": "[encoded data removed]",
      "text/plain": [
       "<Figure size 432x432 with 1 Axes>"
      ]
     },
     "metadata": {},
     "output_type": "display_data"
    }
   ],
   "source": [
    "harga_kualitas_gkg = fuzz.trapmf(harga_kualitas_x,[4500,5000,5500,5500])\n",
    "fig, (ax0) = plt.subplots(nrows=1,figsize=(6,6))\n",
    "ax0.plot(harga_kualitas_x,harga_kualitas_gkg,'green')\n",
    "ax0.set_title('Harga Kualitas GKG')"
   ]
  },
  {
   "cell_type": "code",
   "execution_count": 136,
   "metadata": {},
   "outputs": [
    {
     "name": "stderr",
     "output_type": "stream",
     "text": [
      "C:\\Users\\Ilham\\Anaconda3\\lib\\site-packages\\matplotlib\\figure.py:459: UserWarning: matplotlib is currently using a non-GUI backend, so cannot show the figure\n",
      "  \"matplotlib is currently using a non-GUI backend, \"\n"
     ]
    },
    {
     "data": {
      "image/png": "[encoded data removed]",
      "text/plain": [
       "<Figure size 432x288 with 1 Axes>"
      ]
     },
     "metadata": {},
     "output_type": "display_data"
    }
   ],
   "source": [
    "harga_kualitas.view()"
   ]
  },
  {
   "cell_type": "markdown",
   "metadata": {},
   "source": [
    "### Inferencing\n",
    "pada tahap inferencing, membuat aturan-aturan fuzzy yang dinyatakan dalam bentuk IF.... THEN...."
   ]
  },
  {
   "cell_type": "markdown",
   "metadata": {},
   "source": [
    "Pada sistem ini berdasarkan jumlah fuzzifikasi dari variabel kadar air yang berjumlah 3 dan fuzzifikasi dari variabel kadar hampa yang berjumlah 3, maka rule yang dibuat berjumlah 3 x 3 = 9 rule"
   ]
  },
  {
   "cell_type": "markdown",
   "metadata": {},
   "source": [
    "1. IF Kadar Air RENDAH dan Kadar Hampa SEDIKIT THEN Harga Kualitas GKG\n",
    "2. IF Kadar Air RENDAH dan Kadar Hampa SEDANG THEN Harga Kualitas GKP\n",
    "3. IF Kadar Air RENDAH dan Kadar Hampa BANYAK THEN Harga Kualitas RENDAH\n",
    "4. IF Kadar Air SEDANG dan Kadar Hampa SEDIKIT THEN Harga Kualitas GKP\n",
    "5. IF Kadar Air SEDANG dan Kadar Hampa SEDANG THEN Harga Kualitas GKP\n",
    "6. IF Kadar Air SEDANG dan Kadar Hampa BANYAK THEN Harga Kualitas RENDAH\n",
    "7. IF Kadar Air TINGGI dan Kadar Hampa SEDIKIT THEN Harga Kualitas RENDAH\n",
    "8. IF Kadar Air TINGGI dan Kadar Hampa SEDANG THEN Harga Kualitas RENDAH\n",
    "9. IF Kadar Air TINGGI dan Kadar Hampa BANYAK THEN Harga Kualitas RENDAH"
   ]
  },
  {
   "cell_type": "code",
   "execution_count": 137,
   "metadata": {},
   "outputs": [],
   "source": [
    "rule1 = ctrl.Rule(kadar_air['rendah'] & kadar_hampa['sedikit'], harga_kualitas['gkg'])\n",
    "rule2 = ctrl.Rule(kadar_air['rendah'] & kadar_hampa['sedang'], harga_kualitas['gkp'])\n",
    "rule3 = ctrl.Rule(kadar_air['rendah'] & kadar_hampa['banyak'], harga_kualitas['rendah'])\n",
    "rule4 = ctrl.Rule(kadar_air['sedang'] & kadar_hampa['sedikit'], harga_kualitas['gkp'])\n",
    "rule5 = ctrl.Rule(kadar_air['sedang'] & kadar_hampa['sedang'], harga_kualitas['gkp'])\n",
    "rule6 = ctrl.Rule(kadar_air['sedang'] & kadar_hampa['banyak'], harga_kualitas['rendah'])\n",
    "rule7 = ctrl.Rule(kadar_air['tinggi'] & kadar_hampa['sedikit'], harga_kualitas['rendah'])\n",
    "rule8 = ctrl.Rule(kadar_air['tinggi'] & kadar_hampa['sedang'], harga_kualitas['rendah'])\n",
    "rule9 = ctrl.Rule(kadar_air['tinggi'] & kadar_hampa['banyak'], harga_kualitas['rendah'])"
   ]
  },
  {
   "cell_type": "markdown",
   "metadata": {},
   "source": [
    "### RULE EVALUATION"
   ]
  },
  {
   "cell_type": "code",
   "execution_count": 138,
   "metadata": {},
   "outputs": [],
   "source": [
    "harga_kualitas_ctrl = ctrl.ControlSystem(\n",
    "    [rule1, rule2, rule3, rule4, rule5, rule6, rule7, rule8, rule9])"
   ]
  },
  {
   "cell_type": "markdown",
   "metadata": {},
   "source": [
    "### DEFUZZIFIKASI"
   ]
  },
  {
   "cell_type": "code",
   "execution_count": 139,
   "metadata": {},
   "outputs": [],
   "source": [
    "nilai = ctrl.ControlSystemSimulation(harga_kualitas_ctrl)"
   ]
  },
  {
   "cell_type": "markdown",
   "metadata": {},
   "source": [
    "Input kadar air kita masukan 12 dan kadar hampa 2"
   ]
  },
  {
   "cell_type": "code",
   "execution_count": 160,
   "metadata": {},
   "outputs": [],
   "source": [
    "nilai.input['kadar air'] = 24\n",
    "nilai.input['kadar hampa'] = 9"
   ]
  },
  {
   "cell_type": "markdown",
   "metadata": {},
   "source": [
    "Melakukan perhitungan defuzzifikasi"
   ]
  },
  {
   "cell_type": "code",
   "execution_count": 161,
   "metadata": {},
   "outputs": [],
   "source": [
    "nilai.compute()"
   ]
  },
  {
   "cell_type": "markdown",
   "metadata": {},
   "source": [
    "Mencetak hasil output defuzzifikasi"
   ]
  },
  {
   "cell_type": "code",
   "execution_count": 162,
   "metadata": {},
   "outputs": [
    {
     "name": "stdout",
     "output_type": "stream",
     "text": [
      "4087.6604027672884\n"
     ]
    }
   ],
   "source": [
    "print(nilai.output['harga kualitas'])"
   ]
  },
  {
   "cell_type": "markdown",
   "metadata": {},
   "source": [
    "Plotting fungsi keangggotaan kadar air setelah dimasukkan input nilai pada kadar air"
   ]
  },
  {
   "cell_type": "code",
   "execution_count": 163,
   "metadata": {},
   "outputs": [
    {
     "name": "stderr",
     "output_type": "stream",
     "text": [
      "C:\\Users\\Ilham\\Anaconda3\\lib\\site-packages\\matplotlib\\figure.py:459: UserWarning: matplotlib is currently using a non-GUI backend, so cannot show the figure\n",
      "  \"matplotlib is currently using a non-GUI backend, \"\n"
     ]
    },
    {
     "data": {
      "image/png": "[encoded data removed]",
      "text/plain": [
       "<Figure size 432x288 with 1 Axes>"
      ]
     },
     "metadata": {},
     "output_type": "display_data"
    }
   ],
   "source": [
    "kadar_air.view(sim=nilai)"
   ]
  },
  {
   "cell_type": "markdown",
   "metadata": {},
   "source": [
    "Plotting fungsi keangggotaan kadar hampa setelah dimasukkan input nilai pada kadar hampa"
   ]
  },
  {
   "cell_type": "code",
   "execution_count": 164,
   "metadata": {},
   "outputs": [
    {
     "name": "stderr",
     "output_type": "stream",
     "text": [
      "C:\\Users\\Ilham\\Anaconda3\\lib\\site-packages\\matplotlib\\figure.py:459: UserWarning: matplotlib is currently using a non-GUI backend, so cannot show the figure\n",
      "  \"matplotlib is currently using a non-GUI backend, \"\n"
     ]
    },
    {
     "data": {
      "image/png": "[encoded data removed]",
      "text/plain": [
       "<Figure size 432x288 with 1 Axes>"
      ]
     },
     "metadata": {},
     "output_type": "display_data"
    }
   ],
   "source": [
    "kadar_hampa.view(sim=nilai)"
   ]
  },
  {
   "cell_type": "markdown",
   "metadata": {},
   "source": [
    "Plotting fungsi keangggotaan harga kualitas setelah dilakukan perhitungan defuzzifikasi output nilai pada harga kualitas"
   ]
  },
  {
   "cell_type": "code",
   "execution_count": 165,
   "metadata": {},
   "outputs": [
    {
     "name": "stderr",
     "output_type": "stream",
     "text": [
      "C:\\Users\\Ilham\\Anaconda3\\lib\\site-packages\\matplotlib\\figure.py:459: UserWarning: matplotlib is currently using a non-GUI backend, so cannot show the figure\n",
      "  \"matplotlib is currently using a non-GUI backend, \"\n"
     ]
    },
    {
     "data": {
      "image/png": "[encoded data removed]",
      "text/plain": [
       "<Figure size 432x288 with 1 Axes>"
      ]
     },
     "metadata": {},
     "output_type": "display_data"
    }
   ],
   "source": [
    "harga_kualitas.view(sim=nilai)"
   ]
  },
  {
   "cell_type": "markdown",
   "metadata": {},
   "source": [
    "### Perhitungan Manual"
   ]
  },
  {
   "cell_type": "markdown",
   "metadata": {},
   "source": [
    "\\begin{equation}\n",
    "    Kadar Air = 24 \\\\\n",
    "    Masukkan\\,nilai\\,kadar\\,air\\,ke\\,dalam\\,masing-masing\\,fungsi\\,keanggotaan\\,kadar\\,air\\\\\n",
    "  kadar\\,air['rendah'] = \\mu Kadar\\,Air\\,Rendah(x)=\\begin{cases}\n",
    "    1, & \\text{$ x\\leq13$}.\\\\\n",
    "    (14 - x)/(14 - 13) , & \\text{$13 \\leq x \\leq 14$}.\\\\\n",
    "    0, & \\text{$x\\geq 14 $ }.\\checkmark\n",
    "  \\end{cases}\n",
    "  \\\\\n",
    "  kadar\\,air['sedang'] = \\mu Kadar\\,Air\\,Sedang(x)=\\begin{cases}\n",
    "    0, & \\text{$x\\leq 19$}.\\\\\n",
    "    (x - 13)/(19 - 13) , & \\text{$13 \\leq x \\leq 19$}.\\\\\n",
    "    (25 - 24)/(25 - 19) , & \\text{$19 \\leq x \\leq 25$}.\\checkmark\\\\\n",
    "  \\end{cases}\n",
    "   \\\\\n",
    "    kadar\\,air['tinggi'] = \\mu Kadar\\,Air\\,Tinggi(x)=\\begin{cases}\n",
    "    0, & \\text{$x\\leq 23$}.\\\\\n",
    "    (24 - 23)/(30 - 23) , & \\text{$23 \\leq x \\leq 30$}.\\checkmark\\\\\n",
    "    1, & \\text{$x\\geq 30$}.\n",
    "  \\end{cases}\n",
    "\\end{equation}\n",
    "\n"
   ]
  },
  {
   "cell_type": "markdown",
   "metadata": {},
   "source": [
    "\\begin{equation}\n",
    "    \\mu Kadar\\,AirSedang(25) = (25-24)/(25-19)\\\\\n",
    "    \\mu Kadar\\,AirSedang(25) = 1/6 \\\\ \n",
    "    \\mu Kadar\\,AirSedang(25) = 0,17 \\\\\n",
    "    \\mu Kadar\\,AirTinggi(25) = (24 - 23) / (30-23)\\\\\n",
    "    \\mu Kadar\\,AirTinggi(25) = 1/7 \\\\\n",
    "    \\mu Kadar\\,AirTinggi(25) = 0.14 \\\\\n",
    "\\end{equation}"
   ]
  },
  {
   "cell_type": "markdown",
   "metadata": {},
   "source": [
    "\\begin{equation}\n",
    "    Kadar Hampa = 9 \\\\\n",
    "  kadar\\,hampa['sedikit'] = \\mu Kadar\\,Hampa\\,Sedikit(x)=\\begin{cases}\n",
    "    1, & \\text{$ x\\leq2$}.\\\\\n",
    "    (3 - x)/(3 - 2) , & \\text{$2 \\leq x \\leq 3$}.\\\\\n",
    "    0, & \\text{$x\\geq 3 $ }.\\checkmark\\\\\n",
    "  \\end{cases}\n",
    "  \\\\\n",
    "  kadar\\,hampa['sedang'] = \\mu Kadar\\,Air\\,Hampa(x)=\\begin{cases}\n",
    "    0, & \\text{$x\\leq 2$}.\\\\\n",
    "    (x - 2)/(6 - 2) , & \\text{$2 \\leq x \\leq 16$}.\\\\\n",
    "    (10 - 9)/(10 - 6) , & \\text{$6 \\leq x \\leq 10$}.\\checkmark\\\\\n",
    "  \\end{cases}\n",
    "   \\\\\n",
    "    kadar\\,air['banyak'] = \\mu Kadar\\,Air\\,Banyak(x)=\\begin{cases}\n",
    "    0, & \\text{$x\\leq 8$}.\\\\\n",
    "    (9 - 8)/(12 - 8) , & \\text{$8 \\leq x \\leq 12$}.\\checkmark\\\\\n",
    "    1, & \\text{$x\\geq 12$}.\\\\\n",
    "  \\end{cases}\n",
    "\\end{equation}"
   ]
  },
  {
   "cell_type": "markdown",
   "metadata": {},
   "source": [
    "\\begin{equation}\n",
    "    \\mu Kadar\\,HampaSedang(9) = (10-9)/(10-6)\\\\\n",
    "    \\mu Kadar\\,HampaSedang(9) = 1/4 \\\\ \n",
    "    \\mu Kadar\\,HampaSedang(9) = 0,25 \\\\\n",
    "    \\mu Kadar\\,HampaBanyak(9) = (9 - 8) / (12 - 8)\\\\\n",
    "    \\mu Kadar\\,HampaBanyak(9) = 1/4 \\\\\n",
    "    \\mu Kadar\\,HampaBanyak(9) = 0.25 \\\\\n",
    "\\end{equation}"
   ]
  },
  {
   "cell_type": "markdown",
   "metadata": {},
   "source": [
    "Lalu kita cari nilai z untuk setiap aturan dengan menggunakan fungsi MIN karena menggunakan rule AND\n",
    "\n",
    "1 IF Kadar Air RENDAH AND Kadar Hampa SEDIKIT THEN Harga Kualitas GKG \n",
    "\n",
    "$$ \\\\ \\alpha(predikat_1) = \\mu KadarAirRendah \\cap \\mu KadarHampaSedikit $$\n",
    "$$\\alpha(predikat_1)   = min (\\mu KadarAirRendah[24], \\mu KadarHampaSedikit[9]) $$\n",
    "$$ \\alpha(predikat_1) = min (0; 0) $$\n",
    "$$ \\alpha(predikat_1) = 0 $$\n",
    "\n",
    "Lalu lihat himpunan Kualitas GKG\n",
    "$$\n",
    "   kualitas['gkg'] = \\mu(x)=\\begin{cases}\n",
    "    0, & \\text{$z\\leq 4500$}.\\\\\n",
    "    \\left.(z - 4500)\\, \\right/(5000 - 4500) , & \\text{$4500 \\leq z \\leq 5000$}.\\\\\n",
    "    1, & ; z \\geq 5000\\\\\n",
    "  \\end{cases}\n",
    " $$\n",
    "Maka nilai $ Z_1 = 0 $\n",
    "\n",
    "=================================================================================================================\n",
    "\n",
    "2 IF Kadar Air RENDAH AND Kadar Hampa SEDANG THEN Harga Kualitas GKP\n",
    "\n",
    "$$ \\\\ \\alpha(predikat_2) = \\mu KadarAirRendah \\cap \\mu KadarHampaSedang $$\n",
    "$$\\alpha(predikat_2)   = min (\\mu KadarAirRendah[24], \\mu KadarHampaSedang[9]) $$\n",
    "$$ \\alpha(predikat_2) = min (0; 0,25) $$\n",
    "$$ \\alpha(predikat_2) = 0 $$\n",
    "\n",
    "Lalu lihat himpunan Kualitas GKP\n",
    "$$\n",
    "  \\\\\n",
    "  kualitas['gkp'] = \\mu(x)=\\begin{cases}\n",
    "    0, & \\text{$z\\leq 4000$}.\\\\\n",
    "    \\left.(z - 4000)\\, \\right/(4400 - 4000) , & \\text{$4000 \\leq z \\leq 4400$}.\\\\\n",
    "    \\left.(4700 - z)\\, \\right/(4700 - 4400) , & \\text{$4400 \\leq z \\leq 4700$}.\\\\\n",
    "  \\end{cases}\n",
    "$$\n",
    "\n",
    "Terdapat 2 nilai keanggotan maka kita uji satu persatu\n",
    " $$(z - 4000) / (4400 - 4000) = 0 $$\n",
    " $$ z - 4000 = 0 \\times 400 $$\n",
    " $$ z - 4000 = 0 $$\n",
    " $$ z = 4000 $$\n",
    " \n",
    " $$(4700 - z) / (4700 - 4400) = 0 $$\n",
    " $$ 4700 - z = 0 \\times 300 $$\n",
    " $$ - z = - 4700 $$\n",
    " $$ z = 4700 $$\n",
    " \n",
    "Akan di ambil nilai terkecil\n",
    "Maka nilai $ Z_2 = 4000 $\n",
    "\n",
    "=================================================================================================================\n",
    "\n",
    "3 IF Kadar Air RENDAH AND Kadar Hampa BANYAK THEN Harga Kualitas RENDAH\n",
    "\n",
    "$$ \\\\ \\alpha(predikat_3) = \\mu KadarAirRendah \\cap \\mu KadarHampaBanyak $$\n",
    "$$\\alpha(predikat_3)   = min (\\mu KadarAirRendah[24], \\mu KadarHampaBanyak[9]) $$\n",
    "$$ \\alpha(predikat_3) = min (0; 0.25) $$\n",
    "$$ \\alpha(predikat_3) = 0.25 $$\n",
    "\n",
    "Lalu lihat himpunan Harga Kualitas Rendah\n",
    "$$\n",
    "  \\\\\n",
    "   kualitas['rendah'] = \\mu(x)=\\begin{cases}\n",
    "    1, & \\text{$z\\leq 3750 $}.\\\\\n",
    "    \\left.(4100 - z)\\, \\right/(4100 - 3750) , & \\text{$3750 \\leq z \\leq 4100$}.\\\\\n",
    "    0, & ; z \\geq 4100\\\\\n",
    "  \\end{cases}\n",
    "  \\\\\n",
    "$$\n",
    "Terdapat 1 nilai keanggotaan yang akan kita masukkan nilainya\n",
    " $$ (4100 - z) / (4100 -3750) = 0 $$\n",
    " $$ (4100 - z) = 0 $$\n",
    " $$ - z = -4100 $$\n",
    " $$ z = 4100 $$\n",
    " \n",
    " \n",
    "Akan diambil nilai terkecil\n",
    "Maka nilai $ Z_3 = 4100 $\n",
    "\n",
    "\n",
    "=================================================================================================================\n",
    "\n",
    "4 IF Kadar Air SEDANG dan Kadar Hampa SEDIKIT THEN Harga Kualitas GKP\n",
    "\n",
    "$$ \\\\ \\alpha(predikat_4) = \\mu KadarAirSedang \\cap \\mu KadarHampaSedikit $$\n",
    "$$\\alpha(predikat_4)   = min (\\mu KadarAirSedang[24], \\mu KadarAirSedikit[9]) $$\n",
    "$$ \\alpha(predikat_4) = min (0.17; 0) $$\n",
    "$$ \\alpha(predikat_4) = 0 $$\n",
    "\n",
    "Lalu lihat himpunan kualitas GKP\n",
    "$$ kualitas['GKP'] = \\mu(x)=\\begin{cases}\n",
    "    0, & \\text{$z \\leq 4000$}.\\\\\n",
    "    \\left.(z - 4000) \\,  \\right/(4400 - 4000) , & \\text{$4400 \\leq z \\leq 4000$}.\\\\\n",
    "    \\left.(4700 - z)\\, \\right/(4700 - 4400) , & \\text{$4400 \\leq z \\leq 4700$}.\\\\\n",
    "    0, & ; z \\geq 4500\\\\\n",
    "  \\end{cases}\n",
    "$$\n",
    "\n",
    "Terdapat 2 nilai keanggotan maka kita uji satu persatu\n",
    " $$(z - 4000) / (4400 - 4000) = 0 $$\n",
    " $$ z - 4000 = 0 \\times 400 $$\n",
    " $$ z - 4000 = 0 $$\n",
    " $$ z = 4000 $$\n",
    " \n",
    " $$(4700 - z) / (4700 - 4400) = 0 $$\n",
    " $$ 4700 - z = 0 \\times 300 $$\n",
    " $$ 4700 - z = 0 $$\n",
    " $$ - z = - 4700 $$\n",
    " $$ z = 4700 $$\n",
    " \n",
    "Akan diambil nilai terkecil Maka nilai Z$_4$ = 4700 $\n",
    "\n",
    "\n",
    "=================================================================================================================\n",
    "5 IF Kadar Air SEDANG dan Kadar Hampa SEDANG THEN Harga Kualitas GKP\n",
    "\n",
    "$$ \\\\ \\alpha(predikat_5) = \\mu KadarAirSedang \\cap \\mu KadarHampaSedang $$\n",
    "$$\\alpha(predikat_5)   = min (\\mu KadarAirSedang[24], \\mu KadarHampaSedang[9]) $$\n",
    "$$ \\alpha(predikat_5) = min (0.17; 0.25) $$\n",
    "$$ \\alpha(predikat_5) = 0.17 $$\n",
    "\n",
    "Lalu lihat himpunan kualitas GKP\n",
    "$$ kualitas['GKP'] = \\mu(x)=\\begin{cases}\n",
    "    0, & \\text{$z \\leq 4000$}.\\\\\n",
    "    \\left.(z - 4000) \\,  \\right/(4400 - 4000) , & \\text{$4400 \\leq z \\leq 4000$}.\\\\\n",
    "    \\left.(4700 - z)\\, \\right/(4700 - 4400) , & \\text{$4400 \\leq z \\leq 4700$}.\\\\\n",
    "    0, & ; z \\geq 4500\\\\\n",
    "  \\end{cases}\n",
    "$$\n",
    "\n",
    "Terdapat 2 nilai keanggotan maka kita uji satu persatu\n",
    " $$(z - 4000) / (4400 - 4000) = 0.17 $$\n",
    " $$ z - 4000 = 0.17 \\times 400 $$\n",
    " $$ z - 4000 = 68 $$\n",
    " $$ z = 4068 $$\n",
    " \n",
    " $$(4700 - z) / (4700 - 4400) = 0.17 $$\n",
    " $$ 4700 - z = 0.17 \\times 300 $$\n",
    " $$ 4700 - z = 51 $$\n",
    " $$ - z = - 4751 $$\n",
    " $$ z = 4751 $$\n",
    " \n",
    "Maka nilai Z$_5$ = 4068 $\n",
    "\n",
    "\n",
    "=================================================================================================================\n",
    "6 IF Kadar Air SEDANG dan Kadar Hampa BANYAK THEN Harga Kualitas RENDAH\n",
    "\n",
    "$$ \\\\ \\alpha(predikat_6) = \\mu KadarAirSedang \\cap \\mu KadarHampaBanyak $$\n",
    "$$\\alpha(predikat_6)   = min (\\mu KadarAirSedang[24], \\mu KadarHampaBanyak[9]) $$\n",
    "$$ \\alpha(predikat_6) = min (0.17; 0.25) $$\n",
    "$$ \\alpha(predikat_6) = 0.17 $$\n",
    "\n",
    "Lalu lihat himpunan Harga Kualitas Rendah\n",
    "$$\n",
    "  \\\\\n",
    "   kualitas['rendah'] = \\mu(x)=\\begin{cases}\n",
    "    1, & \\text{$z\\leq 3750 $}.\\\\\n",
    "    \\left.(4100 - z)\\, \\right/(4100 - 3750) , & \\text{$3750 \\leq z \\leq 4100$}.\\\\\n",
    "    0, & ; z \\geq 4100\\\\\n",
    "  \\end{cases}\n",
    "  \\\\\n",
    "$$\n",
    "\n",
    "Terdapat 1 nilai keanggotaan yang akan kita masukkan nilainya\n",
    " $$ (4100 - z) / (4100 -3750) = 0.17 $$\n",
    " $$ 4100 - z = 0.17 \\times 350 $$\n",
    " $$ 4100 - z = 60 $$\n",
    " $$ - z = -4160 $$\n",
    " $$ z = 4160 $$\n",
    " \n",
    "Maka nilai Z$_6$ = 4160 $\n",
    "\n",
    "\n",
    "=================================================================================================================\n",
    "7 IF Kadar Air TINGGI dan Kadar Hampa SEDIKIT THEN Harga Kualitas RENDAH\n",
    "\n",
    "$$ \\\\ \\alpha(predikat_7) = \\mu KadarAirTinggi \\cap \\mu KadarHampaSedikit $$\n",
    "$$\\alpha(predikat_7)   = min (\\mu KadarAirTinggi[24], \\mu KadarHampaSedikit[9]) $$\n",
    "$$ \\alpha(predikat_7) = min (0.14; 0) $$\n",
    "$$ \\alpha(predikat_7) = 0 $$\n",
    "\n",
    "Lalu lihat himpunan Harga Kualitas Rendah\n",
    "$$\n",
    "  \\\\\n",
    "   kualitas['rendah'] = \\mu(x)=\\begin{cases}\n",
    "    1, & \\text{$z\\leq 3750 $}.\\\\\n",
    "    \\left.(4100 - z)\\, \\right/(4100 - 3750) , & \\text{$3750 \\leq z \\leq 4100$}.\\\\\n",
    "    0, & ; z \\geq 4100\\\\\n",
    "  \\end{cases}\n",
    "  \\\\\n",
    "$$\n",
    "\n",
    "Terdapat 1 nilai keanggotaan yang akan kita masukkan nilainya\n",
    " $$ (4100 - z) / (4100 -3750) = 0 $$\n",
    " $$ 4100 - z = 0 \\times 350 $$\n",
    " $$ 4100 - z = 0 $$\n",
    " $$ - z = -4100 $$\n",
    " $$ z = 4100 $$\n",
    " \n",
    "Maka nilai Z$_7$ = 4100 $\n",
    "\n",
    "\n",
    "=================================================================================================================\n",
    "8 IF Kadar Air TINGGI dan Kadar Hampa SEDANG THEN Harga Kualitas RENDAH\n",
    "\n",
    "$$ \\\\ \\alpha(predikat_8) = \\mu KadarAirTinggi \\cap \\mu KadarHampaSedang $$\n",
    "$$\\alpha(predikat_8) = min (\\mu KadarAirTinggi[24], \\mu KadarHampaSedang[9]) $$\n",
    "$$ \\alpha(predikat_8) = min (0.14; 0.25) $$\n",
    "$$ \\alpha(predikat_8) = 0 $$\n",
    "\n",
    "Lalu lihat himpunan Harga Kualitas Rendah\n",
    "$$\n",
    "  \\\\\n",
    "   kualitas['rendah'] = \\mu(x)=\\begin{cases}\n",
    "    1, & \\text{$z\\leq 3750 $}.\\\\\n",
    "    \\left.(4100 - z)\\, \\right/(4100 - 3750) , & \\text{$3750 \\leq z \\leq 4100$}.\\\\\n",
    "    0, & ; z \\geq 4100\\\\\n",
    "  \\end{cases}\n",
    "  \\\\\n",
    "$$\n",
    "\n",
    "Terdapat 1 nilai keanggotaan yang akan kita masukkan nilainya\n",
    " $$ (4100 - z) / (4100 -3750) = 0.14 $$\n",
    " $$ 4100 - z = 0.14 \\times 350 $$\n",
    " $$ 4100 - z = 49 $$\n",
    " $$ - z = -4149 $$\n",
    " $$ z = 4149 $$\n",
    " \n",
    "Maka nilai Z$_8$ = 4149 $\n",
    "\n",
    "\n",
    "=================================================================================================================\n",
    "9 IF Kadar Air TINGGI dan Kadar Hampa BANYAK THEN Harga Kualitas RENDAH\n",
    "\n",
    "$$ \\\\ \\alpha(predikat_9) = \\mu KadarAirTinggi \\cap \\mu KadarHampabanyak $$\n",
    "$$\\alpha(predikat_9) = min (\\mu KadarAirTinggi[24], \\mu KadarHampaBanyak[9]) $$\n",
    "$$ \\alpha(predikat_9) = min (0.14; 0.25) $$\n",
    "$$ \\alpha(predikat_9) = 0 $$\n",
    "\n",
    "Lalu lihat himpunan Harga Kualitas Rendah\n",
    "$$\n",
    "  \\\\\n",
    "   kualitas['rendah'] = \\mu(x)=\\begin{cases}\n",
    "    1, & \\text{$z\\leq 3750 $}.\\\\\n",
    "    \\left.(4100 - z)\\, \\right/(4100 - 3750) , & \\text{$3750 \\leq z \\leq 4100$}.\\\\\n",
    "    0, & ; z \\geq 4100\\\\\n",
    "  \\end{cases}\n",
    "  \\\\\n",
    "$$\n",
    "\n",
    "Terdapat 1 nilai keanggotaan yang akan kita masukkan nilainya\n",
    " $$ (4100 - z) / (4100 -3750) = 0.14 $$\n",
    " $$ 4100 - z = 0.14 \\times 350 $$\n",
    " $$ 4100 - z = 49 $$\n",
    " $$ - z = -4149 $$\n",
    " $$ z = 4149 $$\n",
    " \n",
    "Maka nilai Z$_9$ = 4149 $\n",
    "\n",
    "\n",
    "================================================================================================================="
   ]
  },
  {
   "cell_type": "markdown",
   "metadata": {},
   "source": [
    "Dari sini kita dapat mencari nilai z, yaitu :"
   ]
  },
  {
   "cell_type": "markdown",
   "metadata": {},
   "source": [
    "Z =$$ \\frac{\\alpha predikat_1 \\times Z_1 +\n",
    "\\alpha predikat_2 \\times Z_2 +\n",
    "\\alpha predikat_3 \\times Z_3 +\n",
    "\\alpha predikat_4 \\times Z_4 +\n",
    "\\alpha predikat_5 \\times Z_5 +\n",
    "\\alpha predikat_6 \\times Z_6 +\n",
    "\\alpha predikat_7 \\times Z_7 +\n",
    "\\alpha predikat_8 \\times Z_8 +\n",
    "\\alpha predikat_9 \\times Z_9 +}\n",
    "{\\alpha predikat_1 + \\alpha predikat_2 +\n",
    "\\alpha predikat_3 + \\alpha predikat_4 +\n",
    "\\alpha predikat_5 + \\alpha predikat_6 +\n",
    "\\alpha predikat_7 + \\alpha predikat_8 +\n",
    "\\alpha predikat_9}$$"
   ]
  },
  {
   "cell_type": "markdown",
   "metadata": {},
   "source": [
    " $$Z = \\frac{0 + 0 + 0 + 0.25 \\times 4100 + 0 + 0.17 \\times 4068 + 0.17 \\times 4160 + 0 + 0 + 0}{0 + 0 + 0.25 + 0 + 0.17 + 0.17 + 0 + 0 + 0} $$\n",
    " \n",
    " $$ Z = \\frac{1025 + 692 + 707}{0.59} $$\n",
    " $$ Z = 4108 $$"
   ]
  },
  {
   "cell_type": "markdown",
   "metadata": {},
   "source": [
    "Hasil output yang dikeluarkan menggunakan code python sebesar 4087 rupiah  sedangkan perhitungan manual sebesar 4108 rupiah.\n",
    "Terdapat perbedaan sebesar 21 rupiah"
   ]
  },
  {
   "cell_type": "code",
   "execution_count": null,
   "metadata": {},
   "outputs": [],
   "source": []
  }
 ],
 "metadata": {
  "kernelspec": {
   "display_name": "Python 3",
   "language": "python",
   "name": "python3"
  },
  "language_info": {
   "codemirror_mode": {
    "name": "ipython",
    "version": 3
   },
   "file_extension": ".py",
   "mimetype": "text/x-python",
   "name": "python",
   "nbconvert_exporter": "python",
   "pygments_lexer": "ipython3",
   "version": "3.6.5"
  }
 },
 "nbformat": 4,
 "nbformat_minor": 2
}
