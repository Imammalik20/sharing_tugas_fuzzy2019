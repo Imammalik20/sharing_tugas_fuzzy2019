{
 "cells": [
  {
   "cell_type": "markdown",
   "metadata": {},
   "source": [
    "# Nama : Vanissa Wanika Siburian\n",
    "# NIM    : 09011381722094\n",
    "# Kelas : SK5U"
   ]
  },
  {
   "cell_type": "markdown",
   "metadata": {},
   "source": [
    "Diabetes adalah suatu kondisi yang mengakibatkan meningkatnya kadar gula di dalam darah. Selain itu, Diabetes adalah suatu kelainan reaksi kimia dalam hal pemanfaatan yang tepat atas karbohidrat, lemak, dan protein dari makanan karena tidak cukupnya pengeluaran atau kurangnya Insulin."
   ]
  },
  {
   "cell_type": "markdown",
   "metadata": {},
   "source": [
    "### 1. Import Library\n",
    "ada beberapa library yang digunakan yaitu :\n",
    "\n",
    "1. numpy = Digunakan Untuk Menginput Array\n",
    "2. pandas = Fungsinya Seperti Numpy, Namun Lebih Kearah Matriks Dengan Baris Dan Kolom Yang Telah Dimuat Dalam Bentuk Tabel\n",
    "3. sklearn.preprocessing = digunakan pada tahap Preprosesing untuk mengubah data menjadi format yang lebih efektif diproses dalam jaringan saraf\n",
    "4. matplotlib.pyplot = Digunakan Untuk Membuat Grafik Dataset Yang Telah Valid\n",
    "5. sklearn.Model_Selection = Digunakan Untuk Memilah Dataset Menjadi Data Training, Data Testing Dan Data Aslinya\n",
    "6. keras.optimizers = Digunakan Untuk Mengoptimalkan Data Dengan Fungsi Adam\n",
    "7. keras.Model = Digunakan Untuk Memasukkan Hidden Layers (Banyaknya Jalan Pada 1 Data Ke Data Yang Lain) Dengan Sequential\n",
    "9. keras.Layers = Digunakan Untuk Banyaknya Hidden Layers Yang Digunakan Untuk 1 Data Set (Banyaknya Cara/Jalan)\n",
    "10. keras.activations = Digunakan Untuk Mengubah Setiap Nilai Input Negatif Menjadi 0 Pada Grafik Sesegera \n",
    "11. seaborn = Digunakan Untuk Visualisasi Data Secara Statistik\n",
    "12. imblearn.over_sampling = digunakan untuk membuat agar data yang kita miliki menjadi balance"
   ]
  },
  {
   "cell_type": "code",
   "execution_count": 1,
   "metadata": {},
   "outputs": [
    {
     "name": "stderr",
     "output_type": "stream",
     "text": [
      "Using TensorFlow backend.\n"
     ]
    }
   ],
   "source": [
    "import numpy as np\n",
    "import pandas as pd\n",
    "from sklearn.preprocessing import MinMaxScaler\n",
    "import matplotlib.pyplot as plt\n",
    "from sklearn.model_selection import train_test_split \n",
    "from keras.optimizers import Adam\n",
    "from keras.models import Sequential\n",
    "from keras.layers import Dense, Dropout\n",
    "from keras.activations import relu\n",
    "import seaborn as sns\n",
    "from imblearn.over_sampling import SMOTE"
   ]
  },
  {
   "cell_type": "markdown",
   "metadata": {},
   "source": [
    "### 2. Dataset\n",
    "Pada penelitian ini dataset diambil melalui kaggle. Dataset tersebut memiliki jumalah data sebanyak 768 dengan jumlah 8 column yaitu :\n",
    "1. Pregnancies\n",
    "2. Glucose(Konsentrasi glukosa plasma 2 jam dalam tes toleransi glukosa oral)\n",
    "3. BloodPreassure(Tekanan darah)\n",
    "4. SkinThickness (Ketebalan lipatan kulit trisep)\n",
    "5. Insulin\n",
    "6. BMI (Berat Badan)\n",
    "7. DiabetesPedigreeFuncion\n",
    "8. Age (Umur)\n",
    "9. Outcome ( 0 = tidak diabetes dan 1 = diabetes )"
   ]
  },
  {
   "cell_type": "code",
   "execution_count": 2,
   "metadata": {},
   "outputs": [],
   "source": [
    "dataset = pd.read_csv('diabetes.csv')"
   ]
  },
  {
   "cell_type": "code",
   "execution_count": 3,
   "metadata": {},
   "outputs": [
    {
     "data": {
      "text/html": [
       "<div>\n",
       "<style scoped>\n",
       "    .dataframe tbody tr th:only-of-type {\n",
       "        vertical-align: middle;\n",
       "    }\n",
       "\n",
       "    .dataframe tbody tr th {\n",
       "        vertical-align: top;\n",
       "    }\n",
       "\n",
       "    .dataframe thead th {\n",
       "        text-align: right;\n",
       "    }\n",
       "</style>\n",
       "<table border=\"1\" class=\"dataframe\">\n",
       "  <thead>\n",
       "    <tr style=\"text-align: right;\">\n",
       "      <th></th>\n",
       "      <th>Pregnancies</th>\n",
       "      <th>Glucose</th>\n",
       "      <th>BloodPressure</th>\n",
       "      <th>SkinThickness</th>\n",
       "      <th>Insulin</th>\n",
       "      <th>BMI</th>\n",
       "      <th>DiabetesPedigreeFunction</th>\n",
       "      <th>Age</th>\n",
       "      <th>Outcome</th>\n",
       "    </tr>\n",
       "  </thead>\n",
       "  <tbody>\n",
       "    <tr>\n",
       "      <th>0</th>\n",
       "      <td>6</td>\n",
       "      <td>148</td>\n",
       "      <td>72</td>\n",
       "      <td>35</td>\n",
       "      <td>0</td>\n",
       "      <td>33.6</td>\n",
       "      <td>0.627</td>\n",
       "      <td>50</td>\n",
       "      <td>1</td>\n",
       "    </tr>\n",
       "    <tr>\n",
       "      <th>1</th>\n",
       "      <td>1</td>\n",
       "      <td>85</td>\n",
       "      <td>66</td>\n",
       "      <td>29</td>\n",
       "      <td>0</td>\n",
       "      <td>26.6</td>\n",
       "      <td>0.351</td>\n",
       "      <td>31</td>\n",
       "      <td>0</td>\n",
       "    </tr>\n",
       "    <tr>\n",
       "      <th>2</th>\n",
       "      <td>8</td>\n",
       "      <td>183</td>\n",
       "      <td>64</td>\n",
       "      <td>0</td>\n",
       "      <td>0</td>\n",
       "      <td>23.3</td>\n",
       "      <td>0.672</td>\n",
       "      <td>32</td>\n",
       "      <td>1</td>\n",
       "    </tr>\n",
       "    <tr>\n",
       "      <th>3</th>\n",
       "      <td>1</td>\n",
       "      <td>89</td>\n",
       "      <td>66</td>\n",
       "      <td>23</td>\n",
       "      <td>94</td>\n",
       "      <td>28.1</td>\n",
       "      <td>0.167</td>\n",
       "      <td>21</td>\n",
       "      <td>0</td>\n",
       "    </tr>\n",
       "    <tr>\n",
       "      <th>4</th>\n",
       "      <td>0</td>\n",
       "      <td>137</td>\n",
       "      <td>40</td>\n",
       "      <td>35</td>\n",
       "      <td>168</td>\n",
       "      <td>43.1</td>\n",
       "      <td>2.288</td>\n",
       "      <td>33</td>\n",
       "      <td>1</td>\n",
       "    </tr>\n",
       "  </tbody>\n",
       "</table>\n",
       "</div>"
      ],
      "text/plain": [
       "   Pregnancies  Glucose  BloodPressure  SkinThickness  Insulin   BMI  \\\n",
       "0            6      148             72             35        0  33.6   \n",
       "1            1       85             66             29        0  26.6   \n",
       "2            8      183             64              0        0  23.3   \n",
       "3            1       89             66             23       94  28.1   \n",
       "4            0      137             40             35      168  43.1   \n",
       "\n",
       "   DiabetesPedigreeFunction  Age  Outcome  \n",
       "0                     0.627   50        1  \n",
       "1                     0.351   31        0  \n",
       "2                     0.672   32        1  \n",
       "3                     0.167   21        0  \n",
       "4                     2.288   33        1  "
      ]
     },
     "execution_count": 3,
     "metadata": {},
     "output_type": "execute_result"
    }
   ],
   "source": [
    "dataset.head(5)"
   ]
  },
  {
   "cell_type": "markdown",
   "metadata": {},
   "source": [
    "Lalu untuk pengecekan data bisa menggunakan perintah \"dataset.info()\". Dalam perintah tersebut dapat kita lihat apakah dataset kita sudah bersih atau masih ada data yang kosong. Pada dataset yang saya gunakan untuk tiap data column sudah bersih (non-null)"
   ]
  },
  {
   "cell_type": "code",
   "execution_count": 4,
   "metadata": {},
   "outputs": [
    {
     "name": "stdout",
     "output_type": "stream",
     "text": [
      "<class 'pandas.core.frame.DataFrame'>\n",
      "RangeIndex: 768 entries, 0 to 767\n",
      "Data columns (total 9 columns):\n",
      "Pregnancies                 768 non-null int64\n",
      "Glucose                     768 non-null int64\n",
      "BloodPressure               768 non-null int64\n",
      "SkinThickness               768 non-null int64\n",
      "Insulin                     768 non-null int64\n",
      "BMI                         768 non-null float64\n",
      "DiabetesPedigreeFunction    768 non-null float64\n",
      "Age                         768 non-null int64\n",
      "Outcome                     768 non-null int64\n",
      "dtypes: float64(2), int64(7)\n",
      "memory usage: 54.1 KB\n"
     ]
    }
   ],
   "source": [
    "dataset.info()"
   ]
  },
  {
   "cell_type": "markdown",
   "metadata": {},
   "source": [
    "Lalu kita mengecek seberapa banyak data tiap label yang kita punya.\n",
    "\n",
    "Pada dataset ini, label yang digunakan yaitu\n",
    "1. Angka 0 menandakan bahwa tidak terserang penyakit diabetes\n",
    "2. Angka 1 manandakan bahwa terserang penyakit diabetes"
   ]
  },
  {
   "cell_type": "code",
   "execution_count": 5,
   "metadata": {},
   "outputs": [
    {
     "data": {
      "text/plain": [
       "0    500\n",
       "1    268\n",
       "Name: Outcome, dtype: int64"
      ]
     },
     "execution_count": 5,
     "metadata": {},
     "output_type": "execute_result"
    }
   ],
   "source": [
    "dataset.Outcome.value_counts()"
   ]
  },
  {
   "cell_type": "markdown",
   "metadata": {},
   "source": [
    "Pada dataset tersebut dapat di lihat bahwa ada sebanyak 500 data pada label 0 dan ada sebanyak 268 data pada label 1.\n",
    "\n",
    "Untuk visualisasi grafiknya bisa kita gunakan perintah \"sns.countplot()\" seperti dibawah ini."
   ]
  },
  {
   "cell_type": "code",
   "execution_count": 6,
   "metadata": {},
   "outputs": [
    {
     "data": {
      "image/png": "[encoded data removed]",
      "text/plain": [
       "<Figure size 432x288 with 1 Axes>"
      ]
     },
     "metadata": {
      "needs_background": "light"
     },
     "output_type": "display_data"
    }
   ],
   "source": [
    "sns.countplot(x=\"Outcome\", data=dataset, palette=\"bwr\")\n",
    "plt.show()"
   ]
  },
  {
   "cell_type": "markdown",
   "metadata": {},
   "source": [
    "### 3. Menetukan Data (X) dan Target (Y)"
   ]
  },
  {
   "cell_type": "markdown",
   "metadata": {},
   "source": [
    "Untuk data (X) diambil dari column 1-7 sedangkan untuk target (Y) digunakan column 8"
   ]
  },
  {
   "cell_type": "code",
   "execution_count": 7,
   "metadata": {},
   "outputs": [],
   "source": [
    "X = dataset.iloc[:, 0:8]\n",
    "Y = dataset.iloc [:, 8]"
   ]
  },
  {
   "cell_type": "markdown",
   "metadata": {},
   "source": [
    "### 4. Menyeimbangkan Data"
   ]
  },
  {
   "cell_type": "markdown",
   "metadata": {},
   "source": [
    "Dikerenakan dataset yang kurang balance, maka dilakukankanlah perseimbangan data dengan menggunakan SMOTE. SMOTE (synthetic minority oversampling technique) adalah salah satu metode oversampling yang paling umum digunakan untuk menyelesaikan masalah ketidakseimbangan. Yang dilakukannya adalah menciptakan sampel sintetis (bukan duplikat) dari kelas minoritas. Karenanya menjadikan kelas minoritas sama dengan kelas mayoritas. SMOTE melakukan ini dengan memilih catatan yang sama dan mengubah catatan itu satu kolom pada satu waktu dengan jumlah acak dalam perbedaan dengan catatan tetangga."
   ]
  },
  {
   "cell_type": "code",
   "execution_count": 8,
   "metadata": {},
   "outputs": [],
   "source": [
    "X_smote, Y_smote = SMOTE().fit_sample(X,Y)\n",
    "X = pd.DataFrame(X_smote)\n",
    "Y = pd.DataFrame(Y_smote)"
   ]
  },
  {
   "cell_type": "markdown",
   "metadata": {},
   "source": [
    "### 5. Preprocessing"
   ]
  },
  {
   "cell_type": "markdown",
   "metadata": {},
   "source": [
    "Pada preprocessing ini digunakan MinMaxScaler. Min-Max Scaling bekerja dengan scaling data/menyesuaikan data dalam rentang/range tertentu (range nilai minimum hingga nilai maksimum), dengan rentang yang biasa digunakan adalah 0 hingga 1. "
   ]
  },
  {
   "cell_type": "code",
   "execution_count": 9,
   "metadata": {},
   "outputs": [],
   "source": [
    "scaler = MinMaxScaler()\n",
    "X = scaler.fit_transform(X)"
   ]
  },
  {
   "cell_type": "markdown",
   "metadata": {},
   "source": [
    "### 6. Splitting dan Modeling"
   ]
  },
  {
   "cell_type": "markdown",
   "metadata": {},
   "source": [
    "Pada tahap ini kita membuat file test berukuran 20% dari jumlah keseluruhan data yang tersedia secara acak."
   ]
  },
  {
   "cell_type": "code",
   "execution_count": 10,
   "metadata": {},
   "outputs": [],
   "source": [
    "X_train,X_test,Y_train,Y_test=train_test_split(X,Y,test_size=0.2, shuffle=True, stratify=Y)"
   ]
  },
  {
   "cell_type": "markdown",
   "metadata": {},
   "source": [
    "Setelah itu kita membuat model NN dengan \n",
    "1. Hiden layer pertama sebesar 100 dengan input dim sebanyak 8 \n",
    "2. Hiden layer kedua sebesar 50 dengan aktivasi relu\n",
    "3. Hiden layer ketiga sebesar 50 dengan aktivasi relu\n",
    "4. Droput digunakan untuk mensimulasikan sejumlah besar arsitektur jaringan yang berbeda dengan menurunkan node secara acak selama data di training sebesar 50%.\n",
    "5. Hiden layer keempat sebesar 25 dengan aktivasi relu\n",
    "6. Selain itu kita membuat output layer 1 (iya atau tidak) dengan aktivasi sigmoid. "
   ]
  },
  {
   "cell_type": "code",
   "execution_count": 11,
   "metadata": {},
   "outputs": [
    {
     "name": "stdout",
     "output_type": "stream",
     "text": [
      "WARNING:tensorflow:From C:\\Users\\User\\Anaconda3\\lib\\site-packages\\tensorflow\\python\\ops\\nn_impl.py:180: add_dispatch_support.<locals>.wrapper (from tensorflow.python.ops.array_ops) is deprecated and will be removed in a future version.\n",
      "Instructions for updating:\n",
      "Use tf.where in 2.0, which has the same broadcast rule as np.where\n"
     ]
    }
   ],
   "source": [
    "model = Sequential()\n",
    "model.add(Dense(units= 100, input_dim = 8, activation=relu))\n",
    "model.add(Dense(units= 50, activation=relu))\n",
    "model.add(Dense(units= 50, activation=relu))\n",
    "model.add(Dropout(0.5))\n",
    "model.add(Dense(units= 25, activation=relu))\n",
    "model.add(Dense(units= 1, activation='sigmoid'))\n",
    "model.compile(optimizer=Adam(lr=0.001), loss='binary_crossentropy', metrics=['accuracy'])\n",
    "model.save('model.h5')"
   ]
  },
  {
   "cell_type": "markdown",
   "metadata": {},
   "source": [
    "Setalah itu kita lakukan fit model. Pada tahap ini dilakukan proses untuk mendapatkan akurasi dan loss dari dataset."
   ]
  },
  {
   "cell_type": "code",
   "execution_count": 12,
   "metadata": {},
   "outputs": [
    {
     "name": "stdout",
     "output_type": "stream",
     "text": [
      "WARNING:tensorflow:From C:\\Users\\User\\Anaconda3\\lib\\site-packages\\keras\\backend\\tensorflow_backend.py:422: The name tf.global_variables is deprecated. Please use tf.compat.v1.global_variables instead.\n",
      "\n",
      "Train on 800 samples, validate on 200 samples\n",
      "Epoch 1/300\n",
      "800/800 [==============================] - 1s 1ms/step - loss: 0.6879 - accuracy: 0.5150 - val_loss: 0.6791 - val_accuracy: 0.5650\n",
      "Epoch 2/300\n",
      "800/800 [==============================] - 0s 208us/step - loss: 0.6738 - accuracy: 0.6413 - val_loss: 0.6445 - val_accuracy: 0.7000\n",
      "Epoch 3/300\n",
      "800/800 [==============================] - 0s 140us/step - loss: 0.6397 - accuracy: 0.6750 - val_loss: 0.5972 - val_accuracy: 0.7250\n",
      "Epoch 4/300\n",
      "800/800 [==============================] - 0s 130us/step - loss: 0.6131 - accuracy: 0.6850 - val_loss: 0.5515 - val_accuracy: 0.7550\n",
      "Epoch 5/300\n",
      "800/800 [==============================] - 0s 130us/step - loss: 0.5684 - accuracy: 0.7312 - val_loss: 0.5040 - val_accuracy: 0.8000\n",
      "Epoch 6/300\n",
      "800/800 [==============================] - 0s 134us/step - loss: 0.5702 - accuracy: 0.7013 - val_loss: 0.5190 - val_accuracy: 0.7300\n",
      "Epoch 7/300\n",
      "800/800 [==============================] - 0s 125us/step - loss: 0.5393 - accuracy: 0.7487 - val_loss: 0.4824 - val_accuracy: 0.7750\n",
      "Epoch 8/300\n",
      "800/800 [==============================] - 0s 146us/step - loss: 0.5310 - accuracy: 0.7525 - val_loss: 0.4649 - val_accuracy: 0.7850\n",
      "Epoch 9/300\n",
      "800/800 [==============================] - 0s 110us/step - loss: 0.5160 - accuracy: 0.7650 - val_loss: 0.4475 - val_accuracy: 0.8050\n",
      "Epoch 10/300\n",
      "800/800 [==============================] - 0s 343us/step - loss: 0.5236 - accuracy: 0.7462 - val_loss: 0.5035 - val_accuracy: 0.7500\n",
      "Epoch 11/300\n",
      "800/800 [==============================] - 0s 173us/step - loss: 0.5116 - accuracy: 0.7600 - val_loss: 0.4555 - val_accuracy: 0.8100\n",
      "Epoch 12/300\n",
      "800/800 [==============================] - 0s 399us/step - loss: 0.5048 - accuracy: 0.7638 - val_loss: 0.4373 - val_accuracy: 0.8150\n",
      "Epoch 13/300\n",
      "800/800 [==============================] - 0s 213us/step - loss: 0.4885 - accuracy: 0.7738 - val_loss: 0.4415 - val_accuracy: 0.7800\n",
      "Epoch 14/300\n",
      "800/800 [==============================] - 0s 134us/step - loss: 0.4838 - accuracy: 0.7775 - val_loss: 0.4319 - val_accuracy: 0.8200\n",
      "Epoch 15/300\n",
      "800/800 [==============================] - 0s 207us/step - loss: 0.4768 - accuracy: 0.7837 - val_loss: 0.4308 - val_accuracy: 0.8200\n",
      "Epoch 16/300\n",
      "800/800 [==============================] - 0s 413us/step - loss: 0.4726 - accuracy: 0.7763 - val_loss: 0.4300 - val_accuracy: 0.8200\n",
      "Epoch 17/300\n",
      "800/800 [==============================] - 0s 264us/step - loss: 0.4544 - accuracy: 0.7912 - val_loss: 0.4366 - val_accuracy: 0.7850\n",
      "Epoch 18/300\n",
      "800/800 [==============================] - 0s 379us/step - loss: 0.4722 - accuracy: 0.7887 - val_loss: 0.4416 - val_accuracy: 0.7900\n",
      "Epoch 19/300\n",
      "800/800 [==============================] - 0s 294us/step - loss: 0.4652 - accuracy: 0.7825 - val_loss: 0.4225 - val_accuracy: 0.8150\n",
      "Epoch 20/300\n",
      "800/800 [==============================] - 0s 378us/step - loss: 0.4642 - accuracy: 0.7837 - val_loss: 0.4206 - val_accuracy: 0.8200\n",
      "Epoch 21/300\n",
      "800/800 [==============================] - 0s 197us/step - loss: 0.4505 - accuracy: 0.7925 - val_loss: 0.4198 - val_accuracy: 0.8050\n",
      "Epoch 22/300\n",
      "800/800 [==============================] - 0s 373us/step - loss: 0.4529 - accuracy: 0.8037 - val_loss: 0.4503 - val_accuracy: 0.8000\n",
      "Epoch 23/300\n",
      "800/800 [==============================] - 0s 154us/step - loss: 0.4559 - accuracy: 0.8037 - val_loss: 0.4211 - val_accuracy: 0.8200\n",
      "Epoch 24/300\n",
      "800/800 [==============================] - 0s 232us/step - loss: 0.4329 - accuracy: 0.8062 - val_loss: 0.4255 - val_accuracy: 0.8250\n",
      "Epoch 25/300\n",
      "800/800 [==============================] - 0s 473us/step - loss: 0.4579 - accuracy: 0.7937 - val_loss: 0.4425 - val_accuracy: 0.8000\n",
      "Epoch 26/300\n",
      "800/800 [==============================] - 1s 756us/step - loss: 0.4529 - accuracy: 0.7900 - val_loss: 0.4106 - val_accuracy: 0.8300\n",
      "Epoch 27/300\n",
      "800/800 [==============================] - 0s 225us/step - loss: 0.4433 - accuracy: 0.8012 - val_loss: 0.4103 - val_accuracy: 0.8150\n",
      "Epoch 28/300\n",
      "800/800 [==============================] - 0s 364us/step - loss: 0.4433 - accuracy: 0.8175 - val_loss: 0.4240 - val_accuracy: 0.8200\n",
      "Epoch 29/300\n",
      "800/800 [==============================] - 0s 228us/step - loss: 0.4432 - accuracy: 0.7925 - val_loss: 0.4123 - val_accuracy: 0.8100\n",
      "Epoch 30/300\n",
      "800/800 [==============================] - 0s 133us/step - loss: 0.4223 - accuracy: 0.8138 - val_loss: 0.4180 - val_accuracy: 0.8150\n",
      "Epoch 31/300\n",
      "800/800 [==============================] - 0s 140us/step - loss: 0.4297 - accuracy: 0.8050 - val_loss: 0.4434 - val_accuracy: 0.8050\n",
      "Epoch 32/300\n",
      "800/800 [==============================] - 0s 133us/step - loss: 0.4357 - accuracy: 0.7987 - val_loss: 0.4251 - val_accuracy: 0.8150\n",
      "Epoch 33/300\n",
      "800/800 [==============================] - 0s 154us/step - loss: 0.4213 - accuracy: 0.8112 - val_loss: 0.4155 - val_accuracy: 0.8200\n",
      "Epoch 34/300\n",
      "800/800 [==============================] - 0s 154us/step - loss: 0.4216 - accuracy: 0.8238 - val_loss: 0.4106 - val_accuracy: 0.8150\n",
      "Epoch 35/300\n",
      "800/800 [==============================] - 0s 212us/step - loss: 0.4316 - accuracy: 0.8037 - val_loss: 0.4319 - val_accuracy: 0.8050\n",
      "Epoch 36/300\n",
      "800/800 [==============================] - 0s 168us/step - loss: 0.4257 - accuracy: 0.8050 - val_loss: 0.4148 - val_accuracy: 0.8200\n",
      "Epoch 37/300\n",
      "800/800 [==============================] - 0s 161us/step - loss: 0.4145 - accuracy: 0.8138 - val_loss: 0.4171 - val_accuracy: 0.8150\n",
      "Epoch 38/300\n",
      "800/800 [==============================] - 0s 182us/step - loss: 0.4235 - accuracy: 0.8225 - val_loss: 0.4106 - val_accuracy: 0.8250\n",
      "Epoch 39/300\n",
      "800/800 [==============================] - 0s 196us/step - loss: 0.4094 - accuracy: 0.8163 - val_loss: 0.4105 - val_accuracy: 0.8050\n",
      "Epoch 40/300\n",
      "800/800 [==============================] - 0s 151us/step - loss: 0.4096 - accuracy: 0.8138 - val_loss: 0.4200 - val_accuracy: 0.8100\n",
      "Epoch 41/300\n",
      "800/800 [==============================] - 0s 149us/step - loss: 0.4141 - accuracy: 0.8150 - val_loss: 0.4232 - val_accuracy: 0.8000\n",
      "Epoch 42/300\n",
      "800/800 [==============================] - 0s 194us/step - loss: 0.4246 - accuracy: 0.8250 - val_loss: 0.4207 - val_accuracy: 0.8200\n",
      "Epoch 43/300\n",
      "800/800 [==============================] - 0s 167us/step - loss: 0.4075 - accuracy: 0.8225 - val_loss: 0.4078 - val_accuracy: 0.8300\n",
      "Epoch 44/300\n",
      "800/800 [==============================] - 0s 143us/step - loss: 0.4038 - accuracy: 0.8238 - val_loss: 0.4252 - val_accuracy: 0.8050\n",
      "Epoch 45/300\n",
      "800/800 [==============================] - 0s 134us/step - loss: 0.4112 - accuracy: 0.8200 - val_loss: 0.4143 - val_accuracy: 0.8000\n",
      "Epoch 46/300\n",
      "800/800 [==============================] - 0s 124us/step - loss: 0.4117 - accuracy: 0.8325 - val_loss: 0.4166 - val_accuracy: 0.8150\n",
      "Epoch 47/300\n",
      "800/800 [==============================] - 0s 152us/step - loss: 0.4077 - accuracy: 0.8150 - val_loss: 0.4035 - val_accuracy: 0.8050\n",
      "Epoch 48/300\n",
      "800/800 [==============================] - 0s 165us/step - loss: 0.4010 - accuracy: 0.8225 - val_loss: 0.4294 - val_accuracy: 0.7950\n",
      "Epoch 49/300\n",
      "800/800 [==============================] - 0s 154us/step - loss: 0.3877 - accuracy: 0.8388 - val_loss: 0.4389 - val_accuracy: 0.8100\n",
      "Epoch 50/300\n",
      "800/800 [==============================] - 0s 130us/step - loss: 0.3983 - accuracy: 0.8225 - val_loss: 0.4206 - val_accuracy: 0.8100\n",
      "Epoch 51/300\n",
      "800/800 [==============================] - 0s 135us/step - loss: 0.4048 - accuracy: 0.8150 - val_loss: 0.4086 - val_accuracy: 0.8100\n",
      "Epoch 52/300\n",
      "800/800 [==============================] - 0s 202us/step - loss: 0.4096 - accuracy: 0.8075 - val_loss: 0.4326 - val_accuracy: 0.8100\n",
      "Epoch 53/300\n",
      "800/800 [==============================] - 0s 130us/step - loss: 0.3927 - accuracy: 0.8238 - val_loss: 0.4025 - val_accuracy: 0.8150\n",
      "Epoch 54/300\n",
      "800/800 [==============================] - 0s 200us/step - loss: 0.3862 - accuracy: 0.8375 - val_loss: 0.4060 - val_accuracy: 0.8150\n",
      "Epoch 55/300\n",
      "800/800 [==============================] - 0s 167us/step - loss: 0.3806 - accuracy: 0.8338 - val_loss: 0.4066 - val_accuracy: 0.8100\n",
      "Epoch 56/300\n",
      "800/800 [==============================] - 0s 117us/step - loss: 0.3813 - accuracy: 0.8400 - val_loss: 0.4140 - val_accuracy: 0.8000\n",
      "Epoch 57/300\n",
      "800/800 [==============================] - 0s 90us/step - loss: 0.3844 - accuracy: 0.8313 - val_loss: 0.4531 - val_accuracy: 0.7900\n",
      "Epoch 58/300\n",
      "800/800 [==============================] - 0s 106us/step - loss: 0.4081 - accuracy: 0.8238 - val_loss: 0.4005 - val_accuracy: 0.8050\n",
      "Epoch 59/300\n",
      "800/800 [==============================] - 0s 99us/step - loss: 0.3798 - accuracy: 0.8375 - val_loss: 0.4099 - val_accuracy: 0.7900\n",
      "Epoch 60/300\n",
      "800/800 [==============================] - 0s 97us/step - loss: 0.3720 - accuracy: 0.8363 - val_loss: 0.4086 - val_accuracy: 0.8100\n",
      "Epoch 61/300\n",
      "800/800 [==============================] - ETA: 0s - loss: 0.3890 - accuracy: 0.82 - 0s 120us/step - loss: 0.4058 - accuracy: 0.8112 - val_loss: 0.4531 - val_accuracy: 0.7800\n",
      "Epoch 62/300\n",
      "800/800 [==============================] - 0s 112us/step - loss: 0.3733 - accuracy: 0.8338 - val_loss: 0.4004 - val_accuracy: 0.8200\n",
      "Epoch 63/300\n",
      "800/800 [==============================] - 0s 103us/step - loss: 0.3685 - accuracy: 0.8375 - val_loss: 0.4134 - val_accuracy: 0.8050\n",
      "Epoch 64/300\n",
      "800/800 [==============================] - 0s 93us/step - loss: 0.3768 - accuracy: 0.8413 - val_loss: 0.4008 - val_accuracy: 0.8150\n",
      "Epoch 65/300\n",
      "800/800 [==============================] - 0s 120us/step - loss: 0.3650 - accuracy: 0.8325 - val_loss: 0.4068 - val_accuracy: 0.8150\n",
      "Epoch 66/300\n",
      "800/800 [==============================] - 0s 102us/step - loss: 0.3632 - accuracy: 0.8475 - val_loss: 0.4176 - val_accuracy: 0.8150\n",
      "Epoch 67/300\n",
      "800/800 [==============================] - 0s 105us/step - loss: 0.3618 - accuracy: 0.8388 - val_loss: 0.3886 - val_accuracy: 0.8300\n",
      "Epoch 68/300\n",
      "800/800 [==============================] - 0s 107us/step - loss: 0.3724 - accuracy: 0.8450 - val_loss: 0.4176 - val_accuracy: 0.8150\n",
      "Epoch 69/300\n",
      "800/800 [==============================] - 0s 105us/step - loss: 0.3663 - accuracy: 0.8338 - val_loss: 0.4062 - val_accuracy: 0.8050\n",
      "Epoch 70/300\n",
      "800/800 [==============================] - 0s 117us/step - loss: 0.3628 - accuracy: 0.8500 - val_loss: 0.4176 - val_accuracy: 0.8000\n",
      "Epoch 71/300\n",
      "800/800 [==============================] - 0s 92us/step - loss: 0.3630 - accuracy: 0.8525 - val_loss: 0.3917 - val_accuracy: 0.8300\n",
      "Epoch 72/300\n",
      "800/800 [==============================] - 0s 114us/step - loss: 0.3524 - accuracy: 0.8487 - val_loss: 0.4034 - val_accuracy: 0.8000\n",
      "Epoch 73/300\n",
      "800/800 [==============================] - 0s 143us/step - loss: 0.3520 - accuracy: 0.8637 - val_loss: 0.4048 - val_accuracy: 0.8050\n",
      "Epoch 74/300\n",
      "800/800 [==============================] - 0s 106us/step - loss: 0.3451 - accuracy: 0.8550 - val_loss: 0.4214 - val_accuracy: 0.7900\n",
      "Epoch 75/300\n",
      "800/800 [==============================] - 0s 127us/step - loss: 0.3501 - accuracy: 0.8413 - val_loss: 0.4402 - val_accuracy: 0.7850\n",
      "Epoch 76/300\n",
      "800/800 [==============================] - 0s 137us/step - loss: 0.3490 - accuracy: 0.8550 - val_loss: 0.4161 - val_accuracy: 0.8050\n",
      "Epoch 77/300\n",
      "800/800 [==============================] - 0s 107us/step - loss: 0.3452 - accuracy: 0.8650 - val_loss: 0.3846 - val_accuracy: 0.8250\n",
      "Epoch 78/300\n",
      "800/800 [==============================] - 0s 135us/step - loss: 0.3328 - accuracy: 0.8550 - val_loss: 0.3877 - val_accuracy: 0.8200\n",
      "Epoch 79/300\n",
      "800/800 [==============================] - 0s 110us/step - loss: 0.3568 - accuracy: 0.8375 - val_loss: 0.4002 - val_accuracy: 0.8250\n",
      "Epoch 80/300\n",
      "800/800 [==============================] - 0s 134us/step - loss: 0.3397 - accuracy: 0.8625 - val_loss: 0.4002 - val_accuracy: 0.8050\n",
      "Epoch 81/300\n",
      "800/800 [==============================] - 0s 96us/step - loss: 0.3382 - accuracy: 0.8512 - val_loss: 0.4351 - val_accuracy: 0.8150\n",
      "Epoch 82/300\n",
      "800/800 [==============================] - 0s 113us/step - loss: 0.3384 - accuracy: 0.8512 - val_loss: 0.4009 - val_accuracy: 0.8100\n",
      "Epoch 83/300\n",
      "800/800 [==============================] - 0s 127us/step - loss: 0.3320 - accuracy: 0.8612 - val_loss: 0.4015 - val_accuracy: 0.8200\n",
      "Epoch 84/300\n",
      "800/800 [==============================] - 0s 121us/step - loss: 0.3224 - accuracy: 0.8675 - val_loss: 0.4168 - val_accuracy: 0.8200\n",
      "Epoch 85/300\n",
      "800/800 [==============================] - 0s 122us/step - loss: 0.3410 - accuracy: 0.8363 - val_loss: 0.4017 - val_accuracy: 0.8250\n",
      "Epoch 86/300\n",
      "800/800 [==============================] - 0s 126us/step - loss: 0.3503 - accuracy: 0.8512 - val_loss: 0.3968 - val_accuracy: 0.8150\n",
      "Epoch 87/300\n",
      "800/800 [==============================] - 0s 114us/step - loss: 0.3360 - accuracy: 0.8625 - val_loss: 0.4174 - val_accuracy: 0.8150\n",
      "Epoch 88/300\n",
      "800/800 [==============================] - 0s 123us/step - loss: 0.3225 - accuracy: 0.8575 - val_loss: 0.4071 - val_accuracy: 0.8000\n",
      "Epoch 89/300\n",
      "800/800 [==============================] - 0s 149us/step - loss: 0.3183 - accuracy: 0.8550 - val_loss: 0.4227 - val_accuracy: 0.8050\n",
      "Epoch 90/300\n",
      "800/800 [==============================] - 0s 128us/step - loss: 0.3164 - accuracy: 0.8687 - val_loss: 0.3975 - val_accuracy: 0.8300\n",
      "Epoch 91/300\n",
      "800/800 [==============================] - 0s 136us/step - loss: 0.3158 - accuracy: 0.8675 - val_loss: 0.3958 - val_accuracy: 0.8250\n",
      "Epoch 92/300\n",
      "800/800 [==============================] - 0s 124us/step - loss: 0.3396 - accuracy: 0.8462 - val_loss: 0.4112 - val_accuracy: 0.8050\n",
      "Epoch 93/300\n",
      "800/800 [==============================] - 0s 143us/step - loss: 0.3124 - accuracy: 0.8550 - val_loss: 0.4343 - val_accuracy: 0.8050\n",
      "Epoch 94/300\n",
      "800/800 [==============================] - 0s 107us/step - loss: 0.3199 - accuracy: 0.8650 - val_loss: 0.3993 - val_accuracy: 0.8250\n",
      "Epoch 95/300\n",
      "800/800 [==============================] - 0s 119us/step - loss: 0.3140 - accuracy: 0.8675 - val_loss: 0.3857 - val_accuracy: 0.8250\n",
      "Epoch 96/300\n",
      "800/800 [==============================] - 0s 136us/step - loss: 0.3371 - accuracy: 0.8650 - val_loss: 0.3843 - val_accuracy: 0.8150\n",
      "Epoch 97/300\n",
      "800/800 [==============================] - 0s 120us/step - loss: 0.3233 - accuracy: 0.8537 - val_loss: 0.4043 - val_accuracy: 0.8200\n",
      "Epoch 98/300\n",
      "800/800 [==============================] - 0s 118us/step - loss: 0.3241 - accuracy: 0.8612 - val_loss: 0.4061 - val_accuracy: 0.8150\n",
      "Epoch 99/300\n",
      "800/800 [==============================] - 0s 128us/step - loss: 0.3007 - accuracy: 0.8712 - val_loss: 0.3981 - val_accuracy: 0.8200\n",
      "Epoch 100/300\n",
      "800/800 [==============================] - 0s 127us/step - loss: 0.3031 - accuracy: 0.8650 - val_loss: 0.3882 - val_accuracy: 0.8150\n",
      "Epoch 101/300\n",
      "800/800 [==============================] - 0s 110us/step - loss: 0.3047 - accuracy: 0.8725 - val_loss: 0.4493 - val_accuracy: 0.8000\n",
      "Epoch 102/300\n",
      "800/800 [==============================] - 0s 120us/step - loss: 0.3057 - accuracy: 0.8763 - val_loss: 0.3991 - val_accuracy: 0.8250\n",
      "Epoch 103/300\n",
      "800/800 [==============================] - 0s 157us/step - loss: 0.3015 - accuracy: 0.8750 - val_loss: 0.3921 - val_accuracy: 0.8400\n",
      "Epoch 104/300\n",
      "800/800 [==============================] - 0s 152us/step - loss: 0.2938 - accuracy: 0.8725 - val_loss: 0.4091 - val_accuracy: 0.8150\n",
      "Epoch 105/300\n",
      "800/800 [==============================] - 0s 134us/step - loss: 0.2982 - accuracy: 0.8750 - val_loss: 0.3957 - val_accuracy: 0.8100\n",
      "Epoch 106/300\n",
      "800/800 [==============================] - 0s 122us/step - loss: 0.2871 - accuracy: 0.8788 - val_loss: 0.4082 - val_accuracy: 0.8200\n",
      "Epoch 107/300\n",
      "800/800 [==============================] - 0s 125us/step - loss: 0.2941 - accuracy: 0.8800 - val_loss: 0.4179 - val_accuracy: 0.8350\n",
      "Epoch 108/300\n",
      "800/800 [==============================] - 0s 128us/step - loss: 0.3307 - accuracy: 0.8537 - val_loss: 0.4407 - val_accuracy: 0.7850\n",
      "Epoch 109/300\n",
      "800/800 [==============================] - 0s 138us/step - loss: 0.2906 - accuracy: 0.8838 - val_loss: 0.3960 - val_accuracy: 0.8250\n",
      "Epoch 110/300\n",
      "800/800 [==============================] - 0s 145us/step - loss: 0.2955 - accuracy: 0.8750 - val_loss: 0.4240 - val_accuracy: 0.8150\n"
     ]
    },
    {
     "name": "stdout",
     "output_type": "stream",
     "text": [
      "Epoch 111/300\n",
      "800/800 [==============================] - 0s 118us/step - loss: 0.3182 - accuracy: 0.8575 - val_loss: 0.4111 - val_accuracy: 0.8200\n",
      "Epoch 112/300\n",
      "800/800 [==============================] - 0s 95us/step - loss: 0.3091 - accuracy: 0.8712 - val_loss: 0.4216 - val_accuracy: 0.8250\n",
      "Epoch 113/300\n",
      "800/800 [==============================] - 0s 105us/step - loss: 0.2928 - accuracy: 0.8712 - val_loss: 0.4089 - val_accuracy: 0.8100\n",
      "Epoch 114/300\n",
      "800/800 [==============================] - 0s 106us/step - loss: 0.2797 - accuracy: 0.8888 - val_loss: 0.4100 - val_accuracy: 0.8550\n",
      "Epoch 115/300\n",
      "800/800 [==============================] - 0s 101us/step - loss: 0.2798 - accuracy: 0.8838 - val_loss: 0.4177 - val_accuracy: 0.8250\n",
      "Epoch 116/300\n",
      "800/800 [==============================] - 0s 103us/step - loss: 0.2811 - accuracy: 0.8825 - val_loss: 0.4023 - val_accuracy: 0.8200\n",
      "Epoch 117/300\n",
      "800/800 [==============================] - 0s 154us/step - loss: 0.2704 - accuracy: 0.8813 - val_loss: 0.4133 - val_accuracy: 0.8300\n",
      "Epoch 118/300\n",
      "800/800 [==============================] - 0s 117us/step - loss: 0.2613 - accuracy: 0.8800 - val_loss: 0.4613 - val_accuracy: 0.7800\n",
      "Epoch 119/300\n",
      "800/800 [==============================] - 0s 96us/step - loss: 0.2600 - accuracy: 0.8850 - val_loss: 0.4464 - val_accuracy: 0.8150\n",
      "Epoch 120/300\n",
      "800/800 [==============================] - 0s 105us/step - loss: 0.2574 - accuracy: 0.8913 - val_loss: 0.4671 - val_accuracy: 0.8200\n",
      "Epoch 121/300\n",
      "800/800 [==============================] - 0s 98us/step - loss: 0.2765 - accuracy: 0.8813 - val_loss: 0.4187 - val_accuracy: 0.8200\n",
      "Epoch 122/300\n",
      "800/800 [==============================] - 0s 98us/step - loss: 0.2531 - accuracy: 0.8988 - val_loss: 0.4252 - val_accuracy: 0.8350\n",
      "Epoch 123/300\n",
      "800/800 [==============================] - 0s 135us/step - loss: 0.2578 - accuracy: 0.8975 - val_loss: 0.4696 - val_accuracy: 0.8050\n",
      "Epoch 124/300\n",
      "800/800 [==============================] - 0s 119us/step - loss: 0.2553 - accuracy: 0.9038 - val_loss: 0.4832 - val_accuracy: 0.8000\n",
      "Epoch 125/300\n",
      "800/800 [==============================] - 0s 119us/step - loss: 0.2486 - accuracy: 0.8888 - val_loss: 0.4400 - val_accuracy: 0.8450\n",
      "Epoch 126/300\n",
      "800/800 [==============================] - 0s 109us/step - loss: 0.2725 - accuracy: 0.8875 - val_loss: 0.4394 - val_accuracy: 0.8300\n",
      "Epoch 127/300\n",
      "800/800 [==============================] - 0s 106us/step - loss: 0.2591 - accuracy: 0.8925 - val_loss: 0.4509 - val_accuracy: 0.8300\n",
      "Epoch 128/300\n",
      "800/800 [==============================] - 0s 123us/step - loss: 0.2723 - accuracy: 0.8875 - val_loss: 0.4479 - val_accuracy: 0.8300\n",
      "Epoch 129/300\n",
      "800/800 [==============================] - 0s 122us/step - loss: 0.2566 - accuracy: 0.9013 - val_loss: 0.4606 - val_accuracy: 0.8200\n",
      "Epoch 130/300\n",
      "800/800 [==============================] - 0s 117us/step - loss: 0.2577 - accuracy: 0.8913 - val_loss: 0.5112 - val_accuracy: 0.8350\n",
      "Epoch 131/300\n",
      "800/800 [==============================] - 0s 122us/step - loss: 0.2949 - accuracy: 0.8700 - val_loss: 0.4741 - val_accuracy: 0.8000\n",
      "Epoch 132/300\n",
      "800/800 [==============================] - 0s 124us/step - loss: 0.2591 - accuracy: 0.8888 - val_loss: 0.5390 - val_accuracy: 0.7950\n",
      "Epoch 133/300\n",
      "800/800 [==============================] - 0s 121us/step - loss: 0.2534 - accuracy: 0.8913 - val_loss: 0.4865 - val_accuracy: 0.8300\n",
      "Epoch 134/300\n",
      "800/800 [==============================] - 0s 95us/step - loss: 0.2281 - accuracy: 0.9137 - val_loss: 0.4602 - val_accuracy: 0.8050\n",
      "Epoch 135/300\n",
      "800/800 [==============================] - 0s 113us/step - loss: 0.2413 - accuracy: 0.9062 - val_loss: 0.4897 - val_accuracy: 0.8350\n",
      "Epoch 136/300\n",
      "800/800 [==============================] - 0s 126us/step - loss: 0.2336 - accuracy: 0.9013 - val_loss: 0.4894 - val_accuracy: 0.8150\n",
      "Epoch 137/300\n",
      "800/800 [==============================] - 0s 127us/step - loss: 0.2339 - accuracy: 0.9013 - val_loss: 0.4801 - val_accuracy: 0.8150\n",
      "Epoch 138/300\n",
      "800/800 [==============================] - 0s 108us/step - loss: 0.2305 - accuracy: 0.9087 - val_loss: 0.5033 - val_accuracy: 0.7650\n",
      "Epoch 139/300\n",
      "800/800 [==============================] - 0s 112us/step - loss: 0.2539 - accuracy: 0.8938 - val_loss: 0.5094 - val_accuracy: 0.8300\n",
      "Epoch 140/300\n",
      "800/800 [==============================] - 0s 124us/step - loss: 0.2215 - accuracy: 0.9112 - val_loss: 0.5275 - val_accuracy: 0.8250\n",
      "Epoch 141/300\n",
      "800/800 [==============================] - 0s 133us/step - loss: 0.2296 - accuracy: 0.9112 - val_loss: 0.4952 - val_accuracy: 0.8200\n",
      "Epoch 142/300\n",
      "800/800 [==============================] - 0s 100us/step - loss: 0.2193 - accuracy: 0.9075 - val_loss: 0.5344 - val_accuracy: 0.8100\n",
      "Epoch 143/300\n",
      "800/800 [==============================] - 0s 111us/step - loss: 0.2448 - accuracy: 0.8938 - val_loss: 0.4753 - val_accuracy: 0.8150\n",
      "Epoch 144/300\n",
      "800/800 [==============================] - 0s 114us/step - loss: 0.2187 - accuracy: 0.9150 - val_loss: 0.5040 - val_accuracy: 0.8300\n",
      "Epoch 145/300\n",
      "800/800 [==============================] - 0s 148us/step - loss: 0.2363 - accuracy: 0.9075 - val_loss: 0.4726 - val_accuracy: 0.8200\n",
      "Epoch 146/300\n",
      "800/800 [==============================] - 0s 129us/step - loss: 0.2308 - accuracy: 0.9013 - val_loss: 0.4632 - val_accuracy: 0.8250\n",
      "Epoch 147/300\n",
      "800/800 [==============================] - 0s 125us/step - loss: 0.2105 - accuracy: 0.9162 - val_loss: 0.5188 - val_accuracy: 0.8150\n",
      "Epoch 148/300\n",
      "800/800 [==============================] - 0s 115us/step - loss: 0.2400 - accuracy: 0.8963 - val_loss: 0.5155 - val_accuracy: 0.8250\n",
      "Epoch 149/300\n",
      "800/800 [==============================] - 0s 119us/step - loss: 0.2524 - accuracy: 0.8975 - val_loss: 0.5222 - val_accuracy: 0.8250\n",
      "Epoch 150/300\n",
      "800/800 [==============================] - 0s 109us/step - loss: 0.2242 - accuracy: 0.9087 - val_loss: 0.4630 - val_accuracy: 0.8500\n",
      "Epoch 151/300\n",
      "800/800 [==============================] - 0s 137us/step - loss: 0.2201 - accuracy: 0.9100 - val_loss: 0.5128 - val_accuracy: 0.8350\n",
      "Epoch 152/300\n",
      "800/800 [==============================] - 0s 119us/step - loss: 0.2246 - accuracy: 0.9050 - val_loss: 0.4961 - val_accuracy: 0.8050\n",
      "Epoch 153/300\n",
      "800/800 [==============================] - 0s 115us/step - loss: 0.2187 - accuracy: 0.9125 - val_loss: 0.5316 - val_accuracy: 0.8200\n",
      "Epoch 154/300\n",
      "800/800 [==============================] - 0s 117us/step - loss: 0.2003 - accuracy: 0.9137 - val_loss: 0.7652 - val_accuracy: 0.7650\n",
      "Epoch 155/300\n",
      "800/800 [==============================] - 0s 130us/step - loss: 0.2180 - accuracy: 0.9150 - val_loss: 0.5025 - val_accuracy: 0.8350\n",
      "Epoch 156/300\n",
      "800/800 [==============================] - 0s 131us/step - loss: 0.2250 - accuracy: 0.9050 - val_loss: 0.5059 - val_accuracy: 0.8450\n",
      "Epoch 157/300\n",
      "800/800 [==============================] - 0s 164us/step - loss: 0.2164 - accuracy: 0.9112 - val_loss: 0.5647 - val_accuracy: 0.8000\n",
      "Epoch 158/300\n",
      "800/800 [==============================] - 0s 125us/step - loss: 0.2194 - accuracy: 0.9100 - val_loss: 0.5456 - val_accuracy: 0.8300\n",
      "Epoch 159/300\n",
      "800/800 [==============================] - 0s 131us/step - loss: 0.1846 - accuracy: 0.9162 - val_loss: 0.4983 - val_accuracy: 0.8400\n",
      "Epoch 160/300\n",
      "800/800 [==============================] - 0s 140us/step - loss: 0.1967 - accuracy: 0.9287 - val_loss: 0.5777 - val_accuracy: 0.8350\n",
      "Epoch 161/300\n",
      "800/800 [==============================] - 0s 144us/step - loss: 0.1907 - accuracy: 0.9262 - val_loss: 0.5275 - val_accuracy: 0.8450\n",
      "Epoch 162/300\n",
      "800/800 [==============================] - 0s 116us/step - loss: 0.1999 - accuracy: 0.9162 - val_loss: 0.5396 - val_accuracy: 0.8450\n",
      "Epoch 163/300\n",
      "800/800 [==============================] - 0s 124us/step - loss: 0.2034 - accuracy: 0.9162 - val_loss: 0.5331 - val_accuracy: 0.8400\n",
      "Epoch 164/300\n",
      "800/800 [==============================] - 0s 128us/step - loss: 0.1952 - accuracy: 0.9237 - val_loss: 0.5965 - val_accuracy: 0.8350\n",
      "Epoch 165/300\n",
      "800/800 [==============================] - 0s 104us/step - loss: 0.2036 - accuracy: 0.9137 - val_loss: 0.5832 - val_accuracy: 0.8450\n",
      "Epoch 166/300\n",
      "800/800 [==============================] - 0s 139us/step - loss: 0.1974 - accuracy: 0.9100 - val_loss: 0.5998 - val_accuracy: 0.8150\n"
     ]
    },
    {
     "name": "stdout",
     "output_type": "stream",
     "text": [
      "Epoch 167/300\n",
      "800/800 [==============================] - 0s 107us/step - loss: 0.1782 - accuracy: 0.9287 - val_loss: 0.5559 - val_accuracy: 0.8450\n",
      "Epoch 168/300\n",
      "800/800 [==============================] - 0s 96us/step - loss: 0.1824 - accuracy: 0.9262 - val_loss: 0.6533 - val_accuracy: 0.8000\n",
      "Epoch 169/300\n",
      "800/800 [==============================] - 0s 103us/step - loss: 0.1769 - accuracy: 0.9362 - val_loss: 0.6189 - val_accuracy: 0.8250\n",
      "Epoch 170/300\n",
      "800/800 [==============================] - 0s 90us/step - loss: 0.1991 - accuracy: 0.9250 - val_loss: 0.6123 - val_accuracy: 0.8250\n",
      "Epoch 171/300\n",
      "800/800 [==============================] - 0s 120us/step - loss: 0.2199 - accuracy: 0.9075 - val_loss: 0.6846 - val_accuracy: 0.7750\n",
      "Epoch 172/300\n",
      "800/800 [==============================] - 0s 91us/step - loss: 0.2444 - accuracy: 0.8888 - val_loss: 0.5889 - val_accuracy: 0.8250\n",
      "Epoch 173/300\n",
      "800/800 [==============================] - 0s 126us/step - loss: 0.1734 - accuracy: 0.9388 - val_loss: 0.5822 - val_accuracy: 0.8500\n",
      "Epoch 174/300\n",
      "800/800 [==============================] - 0s 117us/step - loss: 0.1845 - accuracy: 0.9200 - val_loss: 0.5693 - val_accuracy: 0.8250\n",
      "Epoch 175/300\n",
      "800/800 [==============================] - 0s 97us/step - loss: 0.1768 - accuracy: 0.9388 - val_loss: 0.5765 - val_accuracy: 0.8450\n",
      "Epoch 176/300\n",
      "800/800 [==============================] - 0s 101us/step - loss: 0.1637 - accuracy: 0.9312 - val_loss: 0.6081 - val_accuracy: 0.8100\n",
      "Epoch 177/300\n",
      "800/800 [==============================] - 0s 104us/step - loss: 0.1665 - accuracy: 0.9300 - val_loss: 0.6513 - val_accuracy: 0.8250\n",
      "Epoch 178/300\n",
      "800/800 [==============================] - 0s 100us/step - loss: 0.1731 - accuracy: 0.9237 - val_loss: 0.5822 - val_accuracy: 0.8350\n",
      "Epoch 179/300\n",
      "800/800 [==============================] - 0s 103us/step - loss: 0.1635 - accuracy: 0.9287 - val_loss: 0.6343 - val_accuracy: 0.8350\n",
      "Epoch 180/300\n",
      "800/800 [==============================] - 0s 108us/step - loss: 0.1976 - accuracy: 0.9150 - val_loss: 0.6503 - val_accuracy: 0.8000\n",
      "Epoch 181/300\n",
      "800/800 [==============================] - 0s 101us/step - loss: 0.2234 - accuracy: 0.8963 - val_loss: 0.5960 - val_accuracy: 0.8500\n",
      "Epoch 182/300\n",
      "800/800 [==============================] - 0s 108us/step - loss: 0.1961 - accuracy: 0.9187 - val_loss: 0.6321 - val_accuracy: 0.8400\n",
      "Epoch 183/300\n",
      "800/800 [==============================] - 0s 118us/step - loss: 0.1958 - accuracy: 0.9262 - val_loss: 0.5909 - val_accuracy: 0.8200\n",
      "Epoch 184/300\n",
      "800/800 [==============================] - 0s 97us/step - loss: 0.1693 - accuracy: 0.9262 - val_loss: 0.7078 - val_accuracy: 0.7700\n",
      "Epoch 185/300\n",
      "800/800 [==============================] - 0s 132us/step - loss: 0.1969 - accuracy: 0.9175 - val_loss: 0.5669 - val_accuracy: 0.8350\n",
      "Epoch 186/300\n",
      "800/800 [==============================] - 0s 126us/step - loss: 0.1583 - accuracy: 0.9337 - val_loss: 0.6361 - val_accuracy: 0.8400\n",
      "Epoch 187/300\n",
      "800/800 [==============================] - 0s 117us/step - loss: 0.1529 - accuracy: 0.9400 - val_loss: 0.6406 - val_accuracy: 0.8300\n",
      "Epoch 188/300\n",
      "800/800 [==============================] - 0s 95us/step - loss: 0.1539 - accuracy: 0.9413 - val_loss: 0.6019 - val_accuracy: 0.8350\n",
      "Epoch 189/300\n",
      "800/800 [==============================] - 0s 123us/step - loss: 0.1468 - accuracy: 0.9425 - val_loss: 0.6312 - val_accuracy: 0.8300\n",
      "Epoch 190/300\n",
      "800/800 [==============================] - 0s 110us/step - loss: 0.1405 - accuracy: 0.9450 - val_loss: 0.6916 - val_accuracy: 0.8350\n",
      "Epoch 191/300\n",
      "800/800 [==============================] - 0s 126us/step - loss: 0.1368 - accuracy: 0.9463 - val_loss: 0.6449 - val_accuracy: 0.8300\n",
      "Epoch 192/300\n",
      "800/800 [==============================] - 0s 126us/step - loss: 0.1445 - accuracy: 0.9438 - val_loss: 0.6770 - val_accuracy: 0.8300\n",
      "Epoch 193/300\n",
      "800/800 [==============================] - 0s 104us/step - loss: 0.1596 - accuracy: 0.9262 - val_loss: 0.6878 - val_accuracy: 0.8300\n",
      "Epoch 194/300\n",
      "800/800 [==============================] - 0s 111us/step - loss: 0.1591 - accuracy: 0.9337 - val_loss: 0.6713 - val_accuracy: 0.8400\n",
      "Epoch 195/300\n",
      "800/800 [==============================] - 0s 119us/step - loss: 0.1850 - accuracy: 0.9150 - val_loss: 0.6707 - val_accuracy: 0.8350\n",
      "Epoch 196/300\n",
      "800/800 [==============================] - 0s 111us/step - loss: 0.1376 - accuracy: 0.9450 - val_loss: 0.7349 - val_accuracy: 0.8050\n",
      "Epoch 197/300\n",
      "800/800 [==============================] - 0s 126us/step - loss: 0.1336 - accuracy: 0.9463 - val_loss: 0.7293 - val_accuracy: 0.8550\n",
      "Epoch 198/300\n",
      "800/800 [==============================] - 0s 112us/step - loss: 0.1751 - accuracy: 0.9312 - val_loss: 0.7158 - val_accuracy: 0.8250\n",
      "Epoch 199/300\n",
      "800/800 [==============================] - 0s 143us/step - loss: 0.1708 - accuracy: 0.9275 - val_loss: 0.7116 - val_accuracy: 0.8250\n",
      "Epoch 200/300\n",
      "800/800 [==============================] - 0s 139us/step - loss: 0.1587 - accuracy: 0.9362 - val_loss: 0.7471 - val_accuracy: 0.8400\n",
      "Epoch 201/300\n",
      "800/800 [==============================] - 0s 132us/step - loss: 0.1496 - accuracy: 0.9337 - val_loss: 0.7226 - val_accuracy: 0.8300\n",
      "Epoch 202/300\n",
      "800/800 [==============================] - 0s 118us/step - loss: 0.1373 - accuracy: 0.9463 - val_loss: 0.7189 - val_accuracy: 0.8300\n",
      "Epoch 203/300\n",
      "800/800 [==============================] - 0s 135us/step - loss: 0.1389 - accuracy: 0.9488 - val_loss: 0.7636 - val_accuracy: 0.8000\n",
      "Epoch 204/300\n",
      "800/800 [==============================] - 0s 115us/step - loss: 0.1383 - accuracy: 0.9438 - val_loss: 0.7970 - val_accuracy: 0.7950\n",
      "Epoch 205/300\n",
      "800/800 [==============================] - 0s 112us/step - loss: 0.1930 - accuracy: 0.9062 - val_loss: 0.7298 - val_accuracy: 0.8200\n",
      "Epoch 206/300\n",
      "800/800 [==============================] - 0s 119us/step - loss: 0.1322 - accuracy: 0.9475 - val_loss: 0.6999 - val_accuracy: 0.8150\n",
      "Epoch 207/300\n",
      "800/800 [==============================] - 0s 115us/step - loss: 0.1368 - accuracy: 0.9413 - val_loss: 0.7632 - val_accuracy: 0.8200\n",
      "Epoch 208/300\n",
      "800/800 [==============================] - 0s 112us/step - loss: 0.1265 - accuracy: 0.9525 - val_loss: 0.7177 - val_accuracy: 0.8400\n",
      "Epoch 209/300\n",
      "800/800 [==============================] - 0s 120us/step - loss: 0.1179 - accuracy: 0.9488 - val_loss: 0.7695 - val_accuracy: 0.8250\n",
      "Epoch 210/300\n",
      "800/800 [==============================] - 0s 143us/step - loss: 0.1181 - accuracy: 0.9525 - val_loss: 0.7901 - val_accuracy: 0.8550\n",
      "Epoch 211/300\n",
      "800/800 [==============================] - 0s 147us/step - loss: 0.1372 - accuracy: 0.9450 - val_loss: 0.7270 - val_accuracy: 0.8400\n",
      "Epoch 212/300\n",
      "800/800 [==============================] - 0s 138us/step - loss: 0.1257 - accuracy: 0.9450 - val_loss: 0.7725 - val_accuracy: 0.8000\n",
      "Epoch 213/300\n",
      "800/800 [==============================] - 0s 140us/step - loss: 0.1510 - accuracy: 0.9337 - val_loss: 0.8344 - val_accuracy: 0.7950\n",
      "Epoch 214/300\n",
      "800/800 [==============================] - 0s 155us/step - loss: 0.1246 - accuracy: 0.9438 - val_loss: 0.7907 - val_accuracy: 0.8400\n",
      "Epoch 215/300\n",
      "800/800 [==============================] - 0s 135us/step - loss: 0.1076 - accuracy: 0.9638 - val_loss: 0.7537 - val_accuracy: 0.8400\n",
      "Epoch 216/300\n",
      "800/800 [==============================] - 0s 124us/step - loss: 0.1017 - accuracy: 0.9588 - val_loss: 0.7879 - val_accuracy: 0.8350\n",
      "Epoch 217/300\n",
      "800/800 [==============================] - 0s 137us/step - loss: 0.0966 - accuracy: 0.9638 - val_loss: 0.8227 - val_accuracy: 0.8300\n",
      "Epoch 218/300\n",
      "800/800 [==============================] - 0s 130us/step - loss: 0.1309 - accuracy: 0.9475 - val_loss: 0.7694 - val_accuracy: 0.8300\n",
      "Epoch 219/300\n",
      "800/800 [==============================] - 0s 151us/step - loss: 0.1516 - accuracy: 0.9425 - val_loss: 0.7234 - val_accuracy: 0.8400\n",
      "Epoch 220/300\n",
      "800/800 [==============================] - 0s 117us/step - loss: 0.1304 - accuracy: 0.9450 - val_loss: 0.8840 - val_accuracy: 0.8150\n",
      "Epoch 221/300\n",
      "800/800 [==============================] - 0s 122us/step - loss: 0.1280 - accuracy: 0.9588 - val_loss: 0.8225 - val_accuracy: 0.8250\n",
      "Epoch 222/300\n",
      "800/800 [==============================] - 0s 142us/step - loss: 0.1206 - accuracy: 0.9563 - val_loss: 0.8967 - val_accuracy: 0.8300\n"
     ]
    },
    {
     "name": "stdout",
     "output_type": "stream",
     "text": [
      "Epoch 223/300\n",
      "800/800 [==============================] - 0s 111us/step - loss: 0.0946 - accuracy: 0.9675 - val_loss: 0.8295 - val_accuracy: 0.8350\n",
      "Epoch 224/300\n",
      "800/800 [==============================] - 0s 97us/step - loss: 0.1142 - accuracy: 0.9525 - val_loss: 0.8671 - val_accuracy: 0.8400\n",
      "Epoch 225/300\n",
      "800/800 [==============================] - 0s 113us/step - loss: 0.1385 - accuracy: 0.9400 - val_loss: 0.8293 - val_accuracy: 0.8100\n",
      "Epoch 226/300\n",
      "800/800 [==============================] - 0s 119us/step - loss: 0.1506 - accuracy: 0.9375 - val_loss: 0.7740 - val_accuracy: 0.8200\n",
      "Epoch 227/300\n",
      "800/800 [==============================] - 0s 106us/step - loss: 0.1553 - accuracy: 0.9400 - val_loss: 0.7597 - val_accuracy: 0.8350\n",
      "Epoch 228/300\n",
      "800/800 [==============================] - 0s 114us/step - loss: 0.1464 - accuracy: 0.9463 - val_loss: 0.7451 - val_accuracy: 0.8500\n",
      "Epoch 229/300\n",
      "800/800 [==============================] - 0s 98us/step - loss: 0.1168 - accuracy: 0.9513 - val_loss: 0.8953 - val_accuracy: 0.8450\n",
      "Epoch 230/300\n",
      "800/800 [==============================] - 0s 109us/step - loss: 0.1361 - accuracy: 0.9463 - val_loss: 0.8710 - val_accuracy: 0.8600\n",
      "Epoch 231/300\n",
      "800/800 [==============================] - 0s 106us/step - loss: 0.1078 - accuracy: 0.9613 - val_loss: 0.8171 - val_accuracy: 0.8500\n",
      "Epoch 232/300\n",
      "800/800 [==============================] - 0s 131us/step - loss: 0.1076 - accuracy: 0.9663 - val_loss: 0.8144 - val_accuracy: 0.8450\n",
      "Epoch 233/300\n",
      "800/800 [==============================] - 0s 99us/step - loss: 0.1242 - accuracy: 0.9525 - val_loss: 0.7782 - val_accuracy: 0.8150\n",
      "Epoch 234/300\n",
      "800/800 [==============================] - 0s 139us/step - loss: 0.1589 - accuracy: 0.9212 - val_loss: 0.8597 - val_accuracy: 0.8600\n",
      "Epoch 235/300\n",
      "800/800 [==============================] - 0s 100us/step - loss: 0.1288 - accuracy: 0.9475 - val_loss: 0.8111 - val_accuracy: 0.8450\n",
      "Epoch 236/300\n",
      "800/800 [==============================] - 0s 100us/step - loss: 0.1153 - accuracy: 0.9575 - val_loss: 0.8264 - val_accuracy: 0.8250\n",
      "Epoch 237/300\n",
      "800/800 [==============================] - 0s 132us/step - loss: 0.1274 - accuracy: 0.9463 - val_loss: 0.8046 - val_accuracy: 0.8300\n",
      "Epoch 238/300\n",
      "800/800 [==============================] - 0s 113us/step - loss: 0.1247 - accuracy: 0.9450 - val_loss: 0.7112 - val_accuracy: 0.8600\n",
      "Epoch 239/300\n",
      "800/800 [==============================] - 0s 126us/step - loss: 0.1040 - accuracy: 0.9550 - val_loss: 0.8108 - val_accuracy: 0.8250\n",
      "Epoch 240/300\n",
      "800/800 [==============================] - 0s 111us/step - loss: 0.1042 - accuracy: 0.9525 - val_loss: 0.9040 - val_accuracy: 0.8450\n",
      "Epoch 241/300\n",
      "800/800 [==============================] - 0s 143us/step - loss: 0.1167 - accuracy: 0.9538 - val_loss: 0.7972 - val_accuracy: 0.8150\n",
      "Epoch 242/300\n",
      "800/800 [==============================] - 0s 91us/step - loss: 0.0951 - accuracy: 0.9575 - val_loss: 0.9357 - val_accuracy: 0.8400\n",
      "Epoch 243/300\n",
      "800/800 [==============================] - 0s 120us/step - loss: 0.1074 - accuracy: 0.9575 - val_loss: 1.0434 - val_accuracy: 0.7800\n",
      "Epoch 244/300\n",
      "800/800 [==============================] - 0s 119us/step - loss: 0.1584 - accuracy: 0.9300 - val_loss: 0.8603 - val_accuracy: 0.8400\n",
      "Epoch 245/300\n",
      "800/800 [==============================] - ETA: 0s - loss: 0.0934 - accuracy: 0.95 - 0s 110us/step - loss: 0.0943 - accuracy: 0.9550 - val_loss: 0.9491 - val_accuracy: 0.8350\n",
      "Epoch 246/300\n",
      "800/800 [==============================] - 0s 117us/step - loss: 0.1046 - accuracy: 0.9538 - val_loss: 0.8944 - val_accuracy: 0.8200\n",
      "Epoch 247/300\n",
      "800/800 [==============================] - 0s 118us/step - loss: 0.0755 - accuracy: 0.9688 - val_loss: 0.8914 - val_accuracy: 0.8350\n",
      "Epoch 248/300\n",
      "800/800 [==============================] - 0s 127us/step - loss: 0.0753 - accuracy: 0.9700 - val_loss: 0.9055 - val_accuracy: 0.8150\n",
      "Epoch 249/300\n",
      "800/800 [==============================] - 0s 130us/step - loss: 0.0901 - accuracy: 0.9613 - val_loss: 0.9240 - val_accuracy: 0.8150\n",
      "Epoch 250/300\n",
      "800/800 [==============================] - 0s 123us/step - loss: 0.1139 - accuracy: 0.9488 - val_loss: 0.9758 - val_accuracy: 0.8350\n",
      "Epoch 251/300\n",
      "800/800 [==============================] - 0s 126us/step - loss: 0.1005 - accuracy: 0.9625 - val_loss: 0.8808 - val_accuracy: 0.8300\n",
      "Epoch 252/300\n",
      "800/800 [==============================] - 0s 96us/step - loss: 0.0783 - accuracy: 0.9712 - val_loss: 0.9167 - val_accuracy: 0.8550\n",
      "Epoch 253/300\n",
      "800/800 [==============================] - 0s 117us/step - loss: 0.0711 - accuracy: 0.9750 - val_loss: 0.9150 - val_accuracy: 0.8500\n",
      "Epoch 254/300\n",
      "800/800 [==============================] - 0s 121us/step - loss: 0.0722 - accuracy: 0.9688 - val_loss: 0.9870 - val_accuracy: 0.8450\n",
      "Epoch 255/300\n",
      "800/800 [==============================] - 0s 144us/step - loss: 0.0574 - accuracy: 0.9775 - val_loss: 0.9988 - val_accuracy: 0.8450\n",
      "Epoch 256/300\n",
      "800/800 [==============================] - 0s 115us/step - loss: 0.0939 - accuracy: 0.9625 - val_loss: 0.9591 - val_accuracy: 0.8350\n",
      "Epoch 257/300\n",
      "800/800 [==============================] - 0s 118us/step - loss: 0.0914 - accuracy: 0.9600 - val_loss: 1.0939 - val_accuracy: 0.8050\n",
      "Epoch 258/300\n",
      "800/800 [==============================] - 0s 117us/step - loss: 0.0926 - accuracy: 0.9700 - val_loss: 1.0142 - val_accuracy: 0.8150\n",
      "Epoch 259/300\n",
      "800/800 [==============================] - 0s 116us/step - loss: 0.1172 - accuracy: 0.9513 - val_loss: 0.7938 - val_accuracy: 0.8150\n",
      "Epoch 260/300\n",
      "800/800 [==============================] - 0s 134us/step - loss: 0.1134 - accuracy: 0.9563 - val_loss: 1.0399 - val_accuracy: 0.8050\n",
      "Epoch 261/300\n",
      "800/800 [==============================] - 0s 136us/step - loss: 0.1269 - accuracy: 0.9525 - val_loss: 0.9045 - val_accuracy: 0.8450\n",
      "Epoch 262/300\n",
      "800/800 [==============================] - 0s 144us/step - loss: 0.0825 - accuracy: 0.9750 - val_loss: 0.9449 - val_accuracy: 0.8450\n",
      "Epoch 263/300\n",
      "800/800 [==============================] - 0s 130us/step - loss: 0.0660 - accuracy: 0.9787 - val_loss: 0.9800 - val_accuracy: 0.8450\n",
      "Epoch 264/300\n",
      "800/800 [==============================] - 0s 122us/step - loss: 0.1068 - accuracy: 0.9625 - val_loss: 0.8509 - val_accuracy: 0.8150\n",
      "Epoch 265/300\n",
      "800/800 [==============================] - 0s 114us/step - loss: 0.1140 - accuracy: 0.9463 - val_loss: 1.0609 - val_accuracy: 0.8200\n",
      "Epoch 266/300\n",
      "800/800 [==============================] - 0s 143us/step - loss: 0.1000 - accuracy: 0.9575 - val_loss: 0.9969 - val_accuracy: 0.8400\n",
      "Epoch 267/300\n",
      "800/800 [==============================] - 0s 138us/step - loss: 0.0817 - accuracy: 0.9712 - val_loss: 1.0008 - val_accuracy: 0.8400\n",
      "Epoch 268/300\n",
      "800/800 [==============================] - 0s 120us/step - loss: 0.0600 - accuracy: 0.9775 - val_loss: 0.9926 - val_accuracy: 0.8350\n",
      "Epoch 269/300\n",
      "800/800 [==============================] - 0s 115us/step - loss: 0.0486 - accuracy: 0.9875 - val_loss: 1.0598 - val_accuracy: 0.8400\n",
      "Epoch 270/300\n",
      "800/800 [==============================] - 0s 121us/step - loss: 0.0558 - accuracy: 0.9800 - val_loss: 1.0788 - val_accuracy: 0.8150\n",
      "Epoch 271/300\n",
      "800/800 [==============================] - 0s 124us/step - loss: 0.0823 - accuracy: 0.9737 - val_loss: 1.0161 - val_accuracy: 0.8400\n",
      "Epoch 272/300\n",
      "800/800 [==============================] - 0s 173us/step - loss: 0.0817 - accuracy: 0.9688 - val_loss: 1.0534 - val_accuracy: 0.8200\n",
      "Epoch 273/300\n",
      "800/800 [==============================] - 0s 157us/step - loss: 0.0997 - accuracy: 0.9550 - val_loss: 0.9705 - val_accuracy: 0.8400\n",
      "Epoch 274/300\n",
      "800/800 [==============================] - 0s 139us/step - loss: 0.0999 - accuracy: 0.9613 - val_loss: 0.9287 - val_accuracy: 0.8050\n",
      "Epoch 275/300\n",
      "800/800 [==============================] - 0s 145us/step - loss: 0.1064 - accuracy: 0.9613 - val_loss: 0.9995 - val_accuracy: 0.8250\n",
      "Epoch 276/300\n",
      "800/800 [==============================] - 0s 123us/step - loss: 0.0838 - accuracy: 0.9663 - val_loss: 1.0539 - val_accuracy: 0.8400\n",
      "Epoch 277/300\n",
      "800/800 [==============================] - 0s 143us/step - loss: 0.1089 - accuracy: 0.9613 - val_loss: 1.1938 - val_accuracy: 0.8450\n",
      "Epoch 278/300\n",
      "800/800 [==============================] - 0s 129us/step - loss: 0.1559 - accuracy: 0.9413 - val_loss: 1.0641 - val_accuracy: 0.8150\n",
      "Epoch 279/300\n",
      "800/800 [==============================] - 0s 107us/step - loss: 0.1146 - accuracy: 0.9550 - val_loss: 0.9648 - val_accuracy: 0.8500\n",
      "Epoch 280/300\n",
      "800/800 [==============================] - 0s 91us/step - loss: 0.0773 - accuracy: 0.9688 - val_loss: 1.0315 - val_accuracy: 0.8300\n",
      "Epoch 281/300\n",
      "800/800 [==============================] - 0s 117us/step - loss: 0.0877 - accuracy: 0.9625 - val_loss: 0.9435 - val_accuracy: 0.8600\n",
      "Epoch 282/300\n",
      "800/800 [==============================] - 0s 101us/step - loss: 0.0570 - accuracy: 0.9825 - val_loss: 0.9835 - val_accuracy: 0.8400\n",
      "Epoch 283/300\n",
      "800/800 [==============================] - 0s 101us/step - loss: 0.0567 - accuracy: 0.9775 - val_loss: 1.0555 - val_accuracy: 0.8350\n",
      "Epoch 284/300\n",
      "800/800 [==============================] - 0s 104us/step - loss: 0.0472 - accuracy: 0.9887 - val_loss: 1.0570 - val_accuracy: 0.8150\n",
      "Epoch 285/300\n",
      "800/800 [==============================] - 0s 123us/step - loss: 0.0537 - accuracy: 0.9787 - val_loss: 1.0986 - val_accuracy: 0.8350\n",
      "Epoch 286/300\n",
      "800/800 [==============================] - 0s 102us/step - loss: 0.0975 - accuracy: 0.9688 - val_loss: 1.0661 - val_accuracy: 0.8450\n",
      "Epoch 287/300\n",
      "800/800 [==============================] - 0s 137us/step - loss: 0.0641 - accuracy: 0.9850 - val_loss: 1.0940 - val_accuracy: 0.8400\n",
      "Epoch 288/300\n",
      "800/800 [==============================] - 0s 108us/step - loss: 0.0553 - accuracy: 0.9825 - val_loss: 0.9638 - val_accuracy: 0.8500\n",
      "Epoch 289/300\n",
      "800/800 [==============================] - 0s 108us/step - loss: 0.0787 - accuracy: 0.9663 - val_loss: 1.1785 - val_accuracy: 0.7800\n",
      "Epoch 290/300\n",
      "800/800 [==============================] - 0s 116us/step - loss: 0.2326 - accuracy: 0.9200 - val_loss: 0.9693 - val_accuracy: 0.8200\n",
      "Epoch 291/300\n",
      "800/800 [==============================] - 0s 113us/step - loss: 0.3033 - accuracy: 0.8838 - val_loss: 0.7462 - val_accuracy: 0.7700\n",
      "Epoch 292/300\n",
      "800/800 [==============================] - 0s 120us/step - loss: 0.1403 - accuracy: 0.9488 - val_loss: 0.7104 - val_accuracy: 0.8550\n",
      "Epoch 293/300\n",
      "800/800 [==============================] - 0s 106us/step - loss: 0.1315 - accuracy: 0.9475 - val_loss: 0.8124 - val_accuracy: 0.8500\n",
      "Epoch 294/300\n",
      "800/800 [==============================] - 0s 123us/step - loss: 0.0734 - accuracy: 0.9700 - val_loss: 0.8905 - val_accuracy: 0.8500\n",
      "Epoch 295/300\n",
      "800/800 [==============================] - 0s 130us/step - loss: 0.0737 - accuracy: 0.9663 - val_loss: 0.8350 - val_accuracy: 0.8550\n",
      "Epoch 296/300\n",
      "800/800 [==============================] - 0s 113us/step - loss: 0.0672 - accuracy: 0.9750 - val_loss: 0.9534 - val_accuracy: 0.8350\n",
      "Epoch 297/300\n",
      "800/800 [==============================] - 0s 111us/step - loss: 0.0519 - accuracy: 0.9850 - val_loss: 1.0546 - val_accuracy: 0.8500\n",
      "Epoch 298/300\n",
      "800/800 [==============================] - 0s 139us/step - loss: 0.0513 - accuracy: 0.9812 - val_loss: 1.0104 - val_accuracy: 0.8450\n",
      "Epoch 299/300\n",
      "800/800 [==============================] - 0s 110us/step - loss: 0.0433 - accuracy: 0.9900 - val_loss: 1.0600 - val_accuracy: 0.8300\n",
      "Epoch 300/300\n",
      "800/800 [==============================] - 0s 128us/step - loss: 0.0383 - accuracy: 0.9875 - val_loss: 1.0750 - val_accuracy: 0.8500\n"
     ]
    }
   ],
   "source": [
    "acc_training = model.fit(X_train, Y_train, validation_data=(X_test, Y_test), batch_size=32, epochs=300)"
   ]
  },
  {
   "cell_type": "markdown",
   "metadata": {},
   "source": [
    "Setelah data di training, lalu data dapat dievaluasi melalui proses evaluasi model dan hasil dari akurasi akan dapat ditampilkan. Pada tahap ini akurasi yang saya dapatkan adalah sebesar 85%."
   ]
  },
  {
   "cell_type": "code",
   "execution_count": 13,
   "metadata": {},
   "outputs": [
    {
     "name": "stdout",
     "output_type": "stream",
     "text": [
      "200/200 [==============================] - 0s 85us/step\n",
      "akurasinya adalah 0.8500000238418579\n"
     ]
    }
   ],
   "source": [
    "acc_testing  = model.evaluate(X_test, Y_test) \n",
    "print('akurasinya adalah {}'.format(acc_testing[1]))"
   ]
  },
  {
   "cell_type": "markdown",
   "metadata": {},
   "source": [
    "### 7. Visualisasi"
   ]
  },
  {
   "cell_type": "markdown",
   "metadata": {},
   "source": [
    "Selain dapat melihat akurasi, kita juga dapat melihat visualisasi dari data yang sudah di trainning tadi.\n",
    "\n",
    "Pada grafik pertama menamplikan grafik dari akurasi dan pada grafik kedua menampilkan grafik loss."
   ]
  },
  {
   "cell_type": "code",
   "execution_count": 14,
   "metadata": {},
   "outputs": [
    {
     "data": {
      "text/plain": [
       "<matplotlib.legend.Legend at 0x24f6c047630>"
      ]
     },
     "execution_count": 14,
     "metadata": {},
     "output_type": "execute_result"
    },
    {
     "data": {
      "image/png": "[encoded data removed]",
      "text/plain": [
       "<Figure size 864x360 with 1 Axes>"
      ]
     },
     "metadata": {
      "needs_background": "light"
     },
     "output_type": "display_data"
    }
   ],
   "source": [
    "fig,(ax0) = plt.subplots(nrows=1, figsize=(12,5))\n",
    "ax0.plot(acc_training.history['accuracy'],'red', label='Akurasi Training')\n",
    "ax0.plot(acc_training.history['val_accuracy'], 'blue', label='Akurasi Validasi')\n",
    "ax0.plot(label='Accuracy', loc='upper left')\n",
    "ax0.set_title('Model Accuracy')\n",
    "ax0.set_xlabel(\"Epoch\")\n",
    "ax0.set_ylabel(\"Accuracy\")\n",
    "ax0.legend()"
   ]
  },
  {
   "cell_type": "code",
   "execution_count": 15,
   "metadata": {},
   "outputs": [
    {
     "data": {
      "text/plain": [
       "<matplotlib.legend.Legend at 0x24f70144e80>"
      ]
     },
     "execution_count": 15,
     "metadata": {},
     "output_type": "execute_result"
    },
    {
     "data": {
      "image/png": "[encoded data removed]",
      "text/plain": [
       "<Figure size 864x360 with 1 Axes>"
      ]
     },
     "metadata": {
      "needs_background": "light"
     },
     "output_type": "display_data"
    }
   ],
   "source": [
    "fig,(ax1) = plt.subplots(nrows=1, figsize=(12,5))\n",
    "ax1.plot(acc_training.history['loss'],'red', label='Loss Training')\n",
    "ax1.plot(acc_training.history['val_loss'], 'blue', label='Loss Validasi')\n",
    "ax1.plot(label='Loss', loc='upper left')\n",
    "ax1.set_title('Model Loss')\n",
    "ax1.set_xlabel(\"Epoch\")\n",
    "ax1.set_ylabel(\"Loss\")\n",
    "ax1.legend()"
   ]
  },
  {
   "cell_type": "markdown",
   "metadata": {},
   "source": [
    "### 8. Confusion Matrix"
   ]
  },
  {
   "cell_type": "markdown",
   "metadata": {},
   "source": [
    "Confusion matrix merupakan salah satu metode yang dapat digunakan untuk mengukur kinerja suatu metode klasifikasi.Pada pengukuran kinerja menggunakan confusion matrix, terdapat 4 (empat) istilah sebagai representasi hasil proses klasifikasi yaitu :\n",
    "1. TP adalah True Positive, yaitu jumlah data positif yang terklasifikasi dengan benar oleh sistem.\n",
    "2. TN adalah True Negative, yaitu jumlah data negatif yang terklasifikasi dengan benar oleh sistem.\n",
    "3. FN adalah False Negative, yaitu jumlah data negatif namun terklasifikasi salah oleh sistem.\n",
    "4. FP adalah False Positive, yaitu jumlah data positif namun terklasifikasi salah oleh sistem"
   ]
  },
  {
   "cell_type": "markdown",
   "metadata": {},
   "source": [
    "|-|No default(0)|default(1)|\n",
    "|---|---|---|\n",
    "|No default(0)|TN|FP|\n",
    "|default(1)|FN|TP|"
   ]
  },
  {
   "cell_type": "markdown",
   "metadata": {},
   "source": [
    "Berdasarkan nilai True Negative (TN), False Positive (FP), False Negative (FN), dan True Positive (TP) dapat diperoleh nilai Accuracy, Specificity, Sensitivity, Precision, dan F1 Score. Untuk memperoleh nilai akurasi, presisi dan recall kita dapat menggunakan rumus :\n",
    "\n",
    "$$Accuracy = \\frac {tp+tn}{tp+tn+fp+fn}$$\n",
    "\n",
    "$$Specificity = \\frac {tn}{tn+fp}$$\n",
    "\n",
    "$$Sensitivity = \\frac {tp}{tp+fn}$$\n",
    "\n",
    "$$Precision = \\frac {tp}{tp+fp}$$\n",
    "\n",
    "$$F1 Score = \\frac {2 \\times Sensitivity \\times Precision}{Sensitivity+ Precision}$$"
   ]
  },
  {
   "cell_type": "markdown",
   "metadata": {},
   "source": [
    "Untuk dapat menghitung Confusion Matrix pada dataset yang telah diolah, kita deklarasikan model predict dari data training dan data testing"
   ]
  },
  {
   "cell_type": "code",
   "execution_count": 16,
   "metadata": {},
   "outputs": [],
   "source": [
    "training_predicted = model.predict(X_train)\n",
    "testing_predicted = model.predict(X_test)"
   ]
  },
  {
   "cell_type": "code",
   "execution_count": 17,
   "metadata": {},
   "outputs": [],
   "source": [
    "from sklearn.metrics import confusion_matrix\n",
    "\n",
    "training_cm = confusion_matrix(Y_train,training_predicted.round())\n",
    "testing_cm = confusion_matrix(Y_test,testing_predicted.round())"
   ]
  },
  {
   "cell_type": "markdown",
   "metadata": {},
   "source": [
    "Berikut hasil Confusion Matrix dari data training"
   ]
  },
  {
   "cell_type": "code",
   "execution_count": 18,
   "metadata": {},
   "outputs": [
    {
     "data": {
      "text/plain": [
       "array([[400,   0],\n",
       "       [  5, 395]], dtype=int64)"
      ]
     },
     "execution_count": 18,
     "metadata": {},
     "output_type": "execute_result"
    }
   ],
   "source": [
    "training_cm"
   ]
  },
  {
   "cell_type": "markdown",
   "metadata": {},
   "source": [
    "Berikut adalah hasil perolehan nilai Accuracy, Specificity, Sensitivity, Precision, dan F1 Score pada data training"
   ]
  },
  {
   "cell_type": "code",
   "execution_count": 19,
   "metadata": {},
   "outputs": [
    {
     "name": "stdout",
     "output_type": "stream",
     "text": [
      "Accuracy training 0.99375\n",
      "Specificity training 0.9875\n",
      "Sensitivity training 1.0\n",
      "Precision training 0.9876543209876543\n",
      "F1 Score training 0.9937888198757764\n"
     ]
    }
   ],
   "source": [
    "#training\n",
    "tp = training_cm[0][0]\n",
    "fn = training_cm[0][1]\n",
    "fp = training_cm[1][0]\n",
    "tn = training_cm[1][1]\n",
    "\n",
    "accuracy = (tp+tn)/(tp+tn+fp+fn)\n",
    "specificity = tn/(tn+fp)\n",
    "sensitivity = tp/(tp+fn)\n",
    "precision = tp/(tp+fp)\n",
    "f1_score = (2*sensitivity*precision)/(sensitivity+precision)\n",
    "\n",
    "print(\"Accuracy training {0}\".format(accuracy))\n",
    "print(\"Specificity training {0}\".format(specificity))\n",
    "print(\"Sensitivity training {0}\".format(sensitivity))\n",
    "print(\"Precision training {0}\".format(precision))\n",
    "print(\"F1 Score training {0}\".format(f1_score))"
   ]
  },
  {
   "cell_type": "markdown",
   "metadata": {},
   "source": [
    "Berikut hasil Confusion Matrix dari data testing"
   ]
  },
  {
   "cell_type": "code",
   "execution_count": 20,
   "metadata": {},
   "outputs": [
    {
     "name": "stdout",
     "output_type": "stream",
     "text": [
      "[[84 16]\n",
      " [14 86]]\n"
     ]
    }
   ],
   "source": [
    "print(testing_cm)"
   ]
  },
  {
   "cell_type": "markdown",
   "metadata": {},
   "source": [
    "Berikut adalah hasil perolehan nilai Accuracy, Specificity, Sensitivity, Precision, dan F1 Score pada data testing"
   ]
  },
  {
   "cell_type": "code",
   "execution_count": 21,
   "metadata": {},
   "outputs": [
    {
     "name": "stdout",
     "output_type": "stream",
     "text": [
      "Accuracy testing 0.85\n",
      "Specificity testing 0.86\n",
      "Sensitivity testing 0.84\n",
      "Precision testing 0.8571428571428571\n",
      "F1 Score testing 0.8484848484848485\n"
     ]
    }
   ],
   "source": [
    "tp = testing_cm[0][0]\n",
    "fn = testing_cm[0][1]\n",
    "fp = testing_cm[1][0]\n",
    "tn = testing_cm[1][1]\n",
    "\n",
    "accuracy = (tp+tn)/(tp+tn+fp+fn)\n",
    "specificity = tn/(tn+fp)\n",
    "sensitivity = tp/(tp+fn)\n",
    "precision = tp/(tp+fp)\n",
    "f1_score = (2*sensitivity*precision)/(sensitivity+precision)\n",
    "\n",
    "print(\"Accuracy testing {0}\".format(accuracy))\n",
    "print(\"Specificity testing {0}\".format(specificity))\n",
    "print(\"Sensitivity testing {0}\".format(sensitivity))\n",
    "print(\"Precision testing {0}\".format(precision))\n",
    "print(\"F1 Score testing {0}\".format(f1_score))"
   ]
  },
  {
   "cell_type": "markdown",
   "metadata": {},
   "source": [
    "### 9. Kesimpulan"
   ]
  },
  {
   "cell_type": "markdown",
   "metadata": {},
   "source": [
    "Dari hasil percobaan diatas dapat disimpulkan bahwa dataset Pima Indians yang memiliki jumlah data sebanyak 768 mendapatkan akurasi sebesa 85% dengan menggunakan Artificial Neural Network."
   ]
  },
  {
   "cell_type": "markdown",
   "metadata": {},
   "source": [
    "### 10. Referensi\n",
    "\n",
    "1. Paper : OPTIMASI JARINGAN SARAF TIRUAN UNTUK DIAGNOSIS PENYAKIT DIABETES INDIAN PIMA https://journal.unipdu.ac.id/index.php/teknologi/article/view/560\n",
    "2. Dataset https://www.kaggle.com/uciml/pima-indians-diabetes-database"
   ]
  },
  {
   "cell_type": "code",
   "execution_count": null,
   "metadata": {},
   "outputs": [],
   "source": []
  }
 ],
 "metadata": {
  "kernelspec": {
   "display_name": "Python 3",
   "language": "python",
   "name": "python3"
  },
  "language_info": {
   "codemirror_mode": {
    "name": "ipython",
    "version": 3
   },
   "file_extension": ".py",
   "mimetype": "text/x-python",
   "name": "python",
   "nbconvert_exporter": "python",
   "pygments_lexer": "ipython3",
   "version": "3.7.3"
  }
 },
 "nbformat": 4,
 "nbformat_minor": 2
}
