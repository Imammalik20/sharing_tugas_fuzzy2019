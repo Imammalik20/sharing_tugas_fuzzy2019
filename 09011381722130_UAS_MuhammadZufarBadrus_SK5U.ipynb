{
 "cells": [
  {
   "cell_type": "markdown",
   "metadata": {},
   "source": [
    "<h1 align=\"center\"> Analysis of Hidden Units in a Layered Network Trained to Classify Sonar   Targets </h1>\n",
    "<h3 align=\"center\"> Muhammad Zufar Badrus </h3>\n",
    "<h3 align=\"center\">(09011381722130)</h3>\n",
    "<h4 align=\"center\">SISTEM KOMPUTER </h1>\n",
    "<h5 align=\"center\">2017 </h1>"
   ]
  },
  {
   "cell_type": "markdown",
   "metadata": {},
   "source": [
    " Sebuah prosedur pembelajaran jaringan saraf telah diterapkan pada klasifikasi ~ / sonar mengembalikan [kom dua target bawah laut, silinder logam dan batu yang berbentuk serupa. Jaringan dengan lapisan menengah ~ / unit pemrosesan tersembunyi mencapai akurasi klasifikasi setinggi 100% pada set pelatihan pengembalian l04. Jaringan ini dengan benar mengklasifikasikan hingga 90,4% dari 104 hasil tes yang tidak terkandung dalam set pelatihan. Kinerja ini lebih baik daripada pengelompokan tetangga terdekat, yaitu 82,7%. dan dekat dengan Bayes classifie yang optimal ~ Fitur sinyal spesifik yang diekstraksi oleh unit tersembunyi dalam jaringan terlatih diidentifikasi dan terkait dengan skema pengkodean dalam pola kekuatan koneksi antara input dan unit tersembunyi. Perlakuan jaringan dan strategi kelas sebanding dengan pendengar manusia yang terlatih."
   ]
  },
  {
   "cell_type": "markdown",
   "metadata": {},
   "source": [
    "## informasi mengenai dataset\n",
    "### Identifikasi Batuan biasa dan Batuan tambang (silinder logam)\n",
    "Ini adalah kumpulan data yang digunakan oleh Gorman dan Sejnowski dalam studi mereka tentang klasifikasi sinyal sonar menggunakan jaringan saraf. Tugasnya adalah untuk melatih suatu jaringan untuk membedakan antara sinyal sonar yang memantul dari tabung logam dan yang memantul dari batuan berbentuk silindris. File \"sonarfix.csv\" berisi 111 pola yang diperoleh dengan memantulkan sinyal sonar dari silinder logam pada berbagai sudut dan dalam berbagai kondisi dan berisi 97 pola yang diperoleh dari bebatuan dalam kondisi yang sama. Set data berisi sinyal yang diperoleh dari berbagai sudut aspek yang berbeda, mencakup 90 derajat untuk silinder dan 180 derajat untuk batuan. Label yang terkait dengan setiap catatan berisi huruf \"R\" jika objeknya adalah batu dan \"M\" jika itu adalah ranjau (silinder logam). Angka-angka di label dalam urutan peningkatan sudut aspek, tetapi mereka tidak menyandikan sudut secara langsung."
   ]
  },
  {
   "cell_type": "markdown",
   "metadata": {},
   "source": [
    "# Import Library\n",
    "1. numpy = Mengimport library numpy untuk mengolah data angka dan untuk membangun array dalam python¶\n",
    "2. sklearn.preprocessing = mengimport library preprocessing untuk mengubah data menjadi format data yang lebih mudah untuk di proses\n",
    "3. matplotlib.pyplot = mengimport library matplotlib untuk menampilkan visualisasi hasil dari permodelan nanti\n",
    "4. sklearn.Model_Selection = Digunakan Untuk Memilah Dataset Menjadi Data Training, Data Testing Dan Data Aslinya\n",
    "5. keras.optimizers = Digunakan Untuk Mengoptimalkan Data Dengan Fungsi Adam\n",
    "6. keras.Model = mengimport library sequential untuk membuat hidden layer dengan tipe layer dense\n",
    "7. keras.Layers = mengimport library sequential untuk membuat hidden layer dengan tipe layer dense\n",
    "8. keras.activations = Digunakan Untuk Mengubah Setiap Nilai Input Negatif Menjadi 0 Pada Grafik Sesegera \n",
    "9. keras.Utils = mengimport library categorical untuk mengubah data binary menjadi data yang dapat di kelompokkan\n",
    "10. pandas = Fungsinya Seperti Numpy, Namun Lebih Kearah Matriks Dengan Baris Dan Kolom Yang Telah Dimuat Dalam Bentuk Tabel\n",
    "11. seaborn = Digubakan Untuk Visualisasi Data Secara Statistik"
   ]
  },
  {
   "cell_type": "code",
   "execution_count": 1,
   "metadata": {},
   "outputs": [
    {
     "name": "stderr",
     "output_type": "stream",
     "text": [
      "C:\\Users\\User\\Anaconda3\\lib\\site-packages\\h5py\\__init__.py:36: FutureWarning: Conversion of the second argument of issubdtype from `float` to `np.floating` is deprecated. In future, it will be treated as `np.float64 == np.dtype(float).type`.\n",
      "  from ._conv import register_converters as _register_converters\n",
      "Using TensorFlow backend.\n"
     ]
    }
   ],
   "source": [
    "import numpy as np\n",
    "from sklearn.preprocessing import MinMaxScaler\n",
    "import matplotlib.pyplot as plt\n",
    "from sklearn.model_selection import train_test_split \n",
    "from keras.optimizers import Adam\n",
    "from keras.models import Sequential\n",
    "from keras.layers import Dense, Dropout\n",
    "from keras.activations import relu\n",
    "from keras.utils import np_utils\n",
    "import pandas as pd\n",
    "import seaborn as sns"
   ]
  },
  {
   "cell_type": "markdown",
   "metadata": {},
   "source": [
    "# Import dataset\n",
    "\n",
    "setelah menginisiasi bobot awal maka langkah selanjutnya ialah, mengimport dataset \"sonarfix.csv\". dataset yang berformat csv tersebut kemudian di ubah menjadi format numpy kedalam variabel dataset\n"
   ]
  },
  {
   "cell_type": "code",
   "execution_count": 2,
   "metadata": {},
   "outputs": [
    {
     "data": {
      "text/plain": [
       "array([[0.02  , 0.0371, 0.0428, ..., 0.009 , 0.0032, 0.    ],\n",
       "       [0.0453, 0.0523, 0.0843, ..., 0.0052, 0.0044, 0.    ],\n",
       "       [0.0262, 0.0582, 0.1099, ..., 0.0095, 0.0078, 0.    ],\n",
       "       ...,\n",
       "       [0.0522, 0.0437, 0.018 , ..., 0.0077, 0.0031, 1.    ],\n",
       "       [0.0303, 0.0353, 0.049 , ..., 0.0036, 0.0048, 1.    ],\n",
       "       [0.026 , 0.0363, 0.0136, ..., 0.0061, 0.0115, 1.    ]])"
      ]
     },
     "execution_count": 2,
     "metadata": {},
     "output_type": "execute_result"
    }
   ],
   "source": [
    "data = np.loadtxt('sonarfix.csv',delimiter=',', dtype=float)\n",
    "data"
   ]
  },
  {
   "cell_type": "code",
   "execution_count": 3,
   "metadata": {},
   "outputs": [
    {
     "name": "stdout",
     "output_type": "stream",
     "text": [
      "<class 'pandas.core.frame.DataFrame'>\n",
      "RangeIndex: 208 entries, 0 to 207\n",
      "Data columns (total 61 columns):\n",
      "V1       208 non-null float64\n",
      "V2       208 non-null float64\n",
      "V3       208 non-null float64\n",
      "V4       208 non-null float64\n",
      "V5       208 non-null float64\n",
      "V6       208 non-null float64\n",
      "V7       208 non-null float64\n",
      "V8       208 non-null float64\n",
      "V9       208 non-null float64\n",
      "V10      208 non-null float64\n",
      "V11      208 non-null float64\n",
      "V12      208 non-null float64\n",
      "V13      208 non-null float64\n",
      "V14      208 non-null float64\n",
      "V15      208 non-null float64\n",
      "V16      208 non-null float64\n",
      "V17      208 non-null float64\n",
      "V18      208 non-null float64\n",
      "V19      208 non-null float64\n",
      "V20      208 non-null float64\n",
      "V21      208 non-null float64\n",
      "V22      208 non-null float64\n",
      "V23      208 non-null float64\n",
      "V24      208 non-null float64\n",
      "V25      208 non-null float64\n",
      "V26      208 non-null float64\n",
      "V27      208 non-null float64\n",
      "V28      208 non-null float64\n",
      "V29      208 non-null float64\n",
      "V30      208 non-null float64\n",
      "V31      208 non-null float64\n",
      "V32      208 non-null float64\n",
      "V33      208 non-null float64\n",
      "V34      208 non-null float64\n",
      "V35      208 non-null float64\n",
      "V36      208 non-null float64\n",
      "V37      208 non-null float64\n",
      "V38      208 non-null float64\n",
      "V39      208 non-null float64\n",
      "V40      208 non-null float64\n",
      "V41      208 non-null float64\n",
      "V42      208 non-null float64\n",
      "V43      208 non-null float64\n",
      "V44      208 non-null float64\n",
      "V45      208 non-null float64\n",
      "V46      208 non-null float64\n",
      "V47      208 non-null float64\n",
      "V48      208 non-null float64\n",
      "V49      208 non-null float64\n",
      "V50      208 non-null float64\n",
      "V51      208 non-null float64\n",
      "V52      208 non-null float64\n",
      "V53      208 non-null float64\n",
      "V54      208 non-null float64\n",
      "V55      208 non-null float64\n",
      "V56      208 non-null float64\n",
      "V57      208 non-null float64\n",
      "V58      208 non-null float64\n",
      "V59      208 non-null float64\n",
      "V60      208 non-null float64\n",
      "Class    208 non-null int64\n",
      "dtypes: float64(60), int64(1)\n",
      "memory usage: 99.2 KB\n"
     ]
    }
   ],
   "source": [
    "df = pd.read_csv(\"sonarrr.csv\")\n",
    "df.info()"
   ]
  },
  {
   "cell_type": "markdown",
   "metadata": {},
   "source": [
    "Lalu periksa data set tersebut dengan perintah \"df.info()\" untuk mengetahui jenis dataset.\n",
    "Setelah diperkiksa, dataset tersebut tidak memiliki data yang error (non-null)\n",
    "Lalu, periksa target (label) dengan perintah \"df.target.value_counts()\"."
   ]
  },
  {
   "cell_type": "code",
   "execution_count": 4,
   "metadata": {},
   "outputs": [
    {
     "data": {
      "text/plain": [
       "1    111\n",
       "0     97\n",
       "Name: Class, dtype: int64"
      ]
     },
     "execution_count": 4,
     "metadata": {},
     "output_type": "execute_result"
    }
   ],
   "source": [
    "df.Class.value_counts()"
   ]
  },
  {
   "cell_type": "markdown",
   "metadata": {},
   "source": [
    "# Set Data dan Target\n",
    "atribut dataset: <br>\n",
    "1. 0 dan 1 yang merupakan label apakah itu batuan biasa atau batuan tambang logam, 0 = batuan biasa, 1 = batuan tambang (logam silinder)\n",
    "<br>\n",
    "2. label yang lainnya merupakan data dari sinyal pantulan dari batuan\n",
    "\n",
    "dan kemudian membaginya menjadi variabel input X dan output Y, dengan variabel X berupa kolom data nilai array ke 0 hingga 60 sedangkan, variabel Y merupakan kolom ke 60 saja\n"
   ]
  },
  {
   "cell_type": "code",
   "execution_count": 5,
   "metadata": {},
   "outputs": [],
   "source": [
    "features = data[:, 0:60]\n",
    "labels = data[:, 60]"
   ]
  },
  {
   "cell_type": "markdown",
   "metadata": {},
   "source": [
    "# Scaling\n",
    "\n",
    "Scaling digunakan agar data tidak memiliki standat deviasi yang tinggi, dan data akan diukur ulang dimana nilainya paling kecil (min) 0 dan paling besar (max) 1."
   ]
  },
  {
   "cell_type": "code",
   "execution_count": 6,
   "metadata": {},
   "outputs": [],
   "source": [
    "scaler = MinMaxScaler()\n",
    "features = scaler.fit_transform(features)"
   ]
  },
  {
   "cell_type": "markdown",
   "metadata": {},
   "source": [
    "# Inisialisasi Data\n",
    "1. training_data = Inisialisasi Data Features Untuk Menjadi Data Training\n",
    "2. testing_data = Inisialisasi Data Features Untuk Menjadi Data Testing\n",
    "3. training_label = Inisialisasi Data Labels Untuk Menjadi Data Training\n",
    "4. testing_label = Inisialisasi Data Labels Untuk Menjadi Data Testing\n",
    "5. train_test_split () = Digunakan Untuk Memilah Data. Data Tersebut Akan Terbagi Menjadi Data Training Dan Data Testing Dari Data Features Dan Labels"
   ]
  },
  {
   "cell_type": "code",
   "execution_count": 7,
   "metadata": {},
   "outputs": [],
   "source": [
    "x_train, x_test, y_train, y_test = train_test_split(features, labels, test_size=0.2, shuffle=True, stratify=labels)"
   ]
  },
  {
   "cell_type": "markdown",
   "metadata": {},
   "source": [
    "#  Modelling\n",
    "Model yang digunakan untuk membuat hidden layer dan memproses data adalah dengan menggunakan fungsi Sequential, sedangkan layer sendiri menggunakan tipe Dense yang melakukan teraining dengan menghubungkan setiap neural network secara sequential.\n",
    "1. model = Sequential() - Mendeklarasikan Fungsi Sequential\n",
    "2. model.add - Untuk Menambahkan Hidden Layer\n",
    "3. (Dense(units= 50, input_dim = x_train.shape[1], activation=relu)) - Jumlah Hidden Layers Yang Akan Dibuat Sebanyak 50 Pada Setiap Datanya, Sedangkan Input Dimension Sebanyak 13, Dan Fungsi Yang Digunakan Adalah Fungsi Relu (Rectified Linear Unit) Yang Dimana Cara Keranya Yaitu Dengan Mengubah Setiap Nilai Input Negatif Menjadi 0 pada Grafik.\n",
    "4. (Dense(units= 1, activation='sigmoid')) - Merupakan Output Layer Yang Berjumlah 1 Dengan Menggunakan Fungsi Sigmoid\n",
    "5. mode.compile - Digunakan Untuk Pemprosessan Dan Menghasilkan Akurasi Dari Data Yang Diolah\n",
    "6. optimizer=Adam(lr=0.001), loss='binary_crossentropy', metrics=['accuracy']) - Optimizer Adalah Optimizer Adam Yang Merupakan Optimizer Standar, Binary_Crossentropy Digunakan Untuk Memproses Data Binary Yang Dimana Dataset Tersebut Adalah Dataset Binary, Dan Metrics Menentukan Akurasi Data Tersebut"
   ]
  },
  {
   "cell_type": "code",
   "execution_count": 8,
   "metadata": {},
   "outputs": [
    {
     "name": "stdout",
     "output_type": "stream",
     "text": [
      "WARNING:tensorflow:From C:\\Users\\User\\Anaconda3\\lib\\site-packages\\tensorflow\\python\\ops\\nn_impl.py:180: add_dispatch_support.<locals>.wrapper (from tensorflow.python.ops.array_ops) is deprecated and will be removed in a future version.\n",
      "Instructions for updating:\n",
      "Use tf.where in 2.0, which has the same broadcast rule as np.where\n"
     ]
    }
   ],
   "source": [
    "model = Sequential()\n",
    "model.add(Dense(units= 60, input_dim = x_train.shape[1], activation=relu))\n",
    "model.add(Dense(units= 60, activation=relu))\n",
    "model.add(Dropout(0.5))\n",
    "model.add(Dense(units= 1, activation='sigmoid'))\n",
    "model.compile(optimizer=Adam(lr=0.001), loss='binary_crossentropy', metrics=['accuracy'])\n",
    "model.save('model.h5')"
   ]
  },
  {
   "cell_type": "markdown",
   "metadata": {},
   "source": [
    "Fit Model digunakan untuk mendapatkan hasil akurasi dan loss dari dataset, langkah selanjutnya yang harus dilakukan adalah fit model. Dimana pada proses ini terjadi proses training dengan parameter:\n",
    "1. x_train dan y_train\n",
    "2. validasi data dari x_test dan y_test\n",
    "3. Banyaknya Epochs atau proses training dan Batch Size yang merupakan ukuran data untuk ditraining"
   ]
  },
  {
   "cell_type": "markdown",
   "metadata": {},
   "source": [
    "## Akurasi model\n",
    "setelah itu menghitung nilai akurasi dan loss dari dataset dengan parameter masukkan:\n",
    "<br>\n",
    "1. X yang telah di processing <br>\n",
    "2. Y yang telah di konversi menjadi categorical <br>\n",
    "3. epoch yang merupakan banyaknya proses training yang akan di lakukan pada dataset <br>\n",
    "4. batch_size"
   ]
  },
  {
   "cell_type": "code",
   "execution_count": 9,
   "metadata": {},
   "outputs": [
    {
     "name": "stdout",
     "output_type": "stream",
     "text": [
      "WARNING:tensorflow:From C:\\Users\\User\\Anaconda3\\lib\\site-packages\\keras\\backend\\tensorflow_backend.py:422: The name tf.global_variables is deprecated. Please use tf.compat.v1.global_variables instead.\n",
      "\n",
      "Train on 166 samples, validate on 42 samples\n",
      "Epoch 1/100\n",
      "166/166 [==============================] - 1s 5ms/step - loss: 0.7323 - accuracy: 0.4337 - val_loss: 0.7056 - val_accuracy: 0.4286\n",
      "Epoch 2/100\n",
      "166/166 [==============================] - 0s 162us/step - loss: 0.7038 - accuracy: 0.4759 - val_loss: 0.6877 - val_accuracy: 0.5238\n",
      "Epoch 3/100\n",
      "166/166 [==============================] - 0s 216us/step - loss: 0.7010 - accuracy: 0.5060 - val_loss: 0.6803 - val_accuracy: 0.5238\n",
      "Epoch 4/100\n",
      "166/166 [==============================] - 0s 150us/step - loss: 0.6893 - accuracy: 0.4880 - val_loss: 0.6718 - val_accuracy: 0.5238\n",
      "Epoch 5/100\n",
      "166/166 [==============================] - 0s 138us/step - loss: 0.6727 - accuracy: 0.6024 - val_loss: 0.6624 - val_accuracy: 0.5476\n",
      "Epoch 6/100\n",
      "166/166 [==============================] - 0s 150us/step - loss: 0.6680 - accuracy: 0.5783 - val_loss: 0.6544 - val_accuracy: 0.5952\n",
      "Epoch 7/100\n",
      "166/166 [==============================] - 0s 144us/step - loss: 0.6543 - accuracy: 0.6566 - val_loss: 0.6450 - val_accuracy: 0.6667\n",
      "Epoch 8/100\n",
      "166/166 [==============================] - 0s 114us/step - loss: 0.6555 - accuracy: 0.6265 - val_loss: 0.6356 - val_accuracy: 0.6667\n",
      "Epoch 9/100\n",
      "166/166 [==============================] - 0s 144us/step - loss: 0.6421 - accuracy: 0.6084 - val_loss: 0.6245 - val_accuracy: 0.6905\n",
      "Epoch 10/100\n",
      "166/166 [==============================] - 0s 108us/step - loss: 0.6374 - accuracy: 0.6386 - val_loss: 0.6152 - val_accuracy: 0.7143\n",
      "Epoch 11/100\n",
      "166/166 [==============================] - 0s 270us/step - loss: 0.6247 - accuracy: 0.6446 - val_loss: 0.6052 - val_accuracy: 0.7143\n",
      "Epoch 12/100\n",
      "166/166 [==============================] - 0s 126us/step - loss: 0.6044 - accuracy: 0.7349 - val_loss: 0.5931 - val_accuracy: 0.7143\n",
      "Epoch 13/100\n",
      "166/166 [==============================] - 0s 150us/step - loss: 0.5955 - accuracy: 0.6747 - val_loss: 0.5793 - val_accuracy: 0.7381\n",
      "Epoch 14/100\n",
      "166/166 [==============================] - 0s 114us/step - loss: 0.5866 - accuracy: 0.6867 - val_loss: 0.5652 - val_accuracy: 0.7143\n",
      "Epoch 15/100\n",
      "166/166 [==============================] - 0s 144us/step - loss: 0.5899 - accuracy: 0.7108 - val_loss: 0.5561 - val_accuracy: 0.7143\n",
      "Epoch 16/100\n",
      "166/166 [==============================] - 0s 156us/step - loss: 0.5676 - accuracy: 0.7711 - val_loss: 0.5444 - val_accuracy: 0.7143\n",
      "Epoch 17/100\n",
      "166/166 [==============================] - 0s 108us/step - loss: 0.5578 - accuracy: 0.7530 - val_loss: 0.5332 - val_accuracy: 0.7143\n",
      "Epoch 18/100\n",
      "166/166 [==============================] - 0s 138us/step - loss: 0.5397 - accuracy: 0.7289 - val_loss: 0.5172 - val_accuracy: 0.7143\n",
      "Epoch 19/100\n",
      "166/166 [==============================] - 0s 126us/step - loss: 0.5303 - accuracy: 0.7771 - val_loss: 0.5046 - val_accuracy: 0.7857\n",
      "Epoch 20/100\n",
      "166/166 [==============================] - 0s 132us/step - loss: 0.5149 - accuracy: 0.7651 - val_loss: 0.4943 - val_accuracy: 0.7857\n",
      "Epoch 21/100\n",
      "166/166 [==============================] - 0s 168us/step - loss: 0.5360 - accuracy: 0.7651 - val_loss: 0.4820 - val_accuracy: 0.7619\n",
      "Epoch 22/100\n",
      "166/166 [==============================] - 0s 120us/step - loss: 0.4682 - accuracy: 0.8012 - val_loss: 0.4774 - val_accuracy: 0.7857\n",
      "Epoch 23/100\n",
      "166/166 [==============================] - 0s 156us/step - loss: 0.4805 - accuracy: 0.8012 - val_loss: 0.4612 - val_accuracy: 0.7857\n",
      "Epoch 24/100\n",
      "166/166 [==============================] - 0s 144us/step - loss: 0.4850 - accuracy: 0.7530 - val_loss: 0.4566 - val_accuracy: 0.7381\n",
      "Epoch 25/100\n",
      "166/166 [==============================] - 0s 126us/step - loss: 0.4657 - accuracy: 0.7831 - val_loss: 0.4446 - val_accuracy: 0.8095\n",
      "Epoch 26/100\n",
      "166/166 [==============================] - 0s 198us/step - loss: 0.4523 - accuracy: 0.8193 - val_loss: 0.4591 - val_accuracy: 0.8095\n",
      "Epoch 27/100\n",
      "166/166 [==============================] - 0s 144us/step - loss: 0.4530 - accuracy: 0.8133 - val_loss: 0.4273 - val_accuracy: 0.8095\n",
      "Epoch 28/100\n",
      "166/166 [==============================] - 0s 156us/step - loss: 0.4419 - accuracy: 0.8193 - val_loss: 0.4202 - val_accuracy: 0.7857\n",
      "Epoch 29/100\n",
      "166/166 [==============================] - 0s 162us/step - loss: 0.4240 - accuracy: 0.8313 - val_loss: 0.4157 - val_accuracy: 0.7619\n",
      "Epoch 30/100\n",
      "166/166 [==============================] - 0s 490us/step - loss: 0.4568 - accuracy: 0.8133 - val_loss: 0.4106 - val_accuracy: 0.7857\n",
      "Epoch 31/100\n",
      "166/166 [==============================] - 0s 427us/step - loss: 0.4289 - accuracy: 0.8133 - val_loss: 0.4065 - val_accuracy: 0.8333\n",
      "Epoch 32/100\n",
      "166/166 [==============================] - 0s 138us/step - loss: 0.3912 - accuracy: 0.8253 - val_loss: 0.4062 - val_accuracy: 0.7857\n",
      "Epoch 33/100\n",
      "166/166 [==============================] - 0s 168us/step - loss: 0.3922 - accuracy: 0.8675 - val_loss: 0.3950 - val_accuracy: 0.7857\n",
      "Epoch 34/100\n",
      "166/166 [==============================] - 0s 126us/step - loss: 0.3894 - accuracy: 0.8554 - val_loss: 0.3870 - val_accuracy: 0.8095\n",
      "Epoch 35/100\n",
      "166/166 [==============================] - 0s 330us/step - loss: 0.3620 - accuracy: 0.8614 - val_loss: 0.3812 - val_accuracy: 0.8095\n",
      "Epoch 36/100\n",
      "166/166 [==============================] - 0s 162us/step - loss: 0.3893 - accuracy: 0.8133 - val_loss: 0.3801 - val_accuracy: 0.8095\n",
      "Epoch 37/100\n",
      "166/166 [==============================] - 0s 156us/step - loss: 0.3603 - accuracy: 0.8795 - val_loss: 0.3642 - val_accuracy: 0.8571\n",
      "Epoch 38/100\n",
      "166/166 [==============================] - 0s 156us/step - loss: 0.3878 - accuracy: 0.8373 - val_loss: 0.3626 - val_accuracy: 0.8095\n",
      "Epoch 39/100\n",
      "166/166 [==============================] - 0s 156us/step - loss: 0.3347 - accuracy: 0.8795 - val_loss: 0.3518 - val_accuracy: 0.8095\n",
      "Epoch 40/100\n",
      "166/166 [==============================] - 0s 132us/step - loss: 0.3795 - accuracy: 0.8554 - val_loss: 0.3499 - val_accuracy: 0.8095\n",
      "Epoch 41/100\n",
      "166/166 [==============================] - 0s 162us/step - loss: 0.3345 - accuracy: 0.8795 - val_loss: 0.3495 - val_accuracy: 0.8095\n",
      "Epoch 42/100\n",
      "166/166 [==============================] - 0s 132us/step - loss: 0.3523 - accuracy: 0.8916 - val_loss: 0.3444 - val_accuracy: 0.8095\n",
      "Epoch 43/100\n",
      "166/166 [==============================] - 0s 523us/step - loss: 0.3299 - accuracy: 0.8855 - val_loss: 0.3368 - val_accuracy: 0.8810\n",
      "Epoch 44/100\n",
      "166/166 [==============================] - 0s 168us/step - loss: 0.3012 - accuracy: 0.8916 - val_loss: 0.3353 - val_accuracy: 0.8333\n",
      "Epoch 45/100\n",
      "166/166 [==============================] - 0s 228us/step - loss: 0.3171 - accuracy: 0.8735 - val_loss: 0.3330 - val_accuracy: 0.8333\n",
      "Epoch 46/100\n",
      "166/166 [==============================] - 0s 174us/step - loss: 0.3101 - accuracy: 0.8795 - val_loss: 0.3253 - val_accuracy: 0.8810\n",
      "Epoch 47/100\n",
      "166/166 [==============================] - 0s 282us/step - loss: 0.2759 - accuracy: 0.9036 - val_loss: 0.3353 - val_accuracy: 0.8333\n",
      "Epoch 48/100\n",
      "166/166 [==============================] - 0s 222us/step - loss: 0.2839 - accuracy: 0.9217 - val_loss: 0.3296 - val_accuracy: 0.8333\n",
      "Epoch 49/100\n",
      "166/166 [==============================] - 0s 270us/step - loss: 0.2580 - accuracy: 0.9096 - val_loss: 0.3267 - val_accuracy: 0.8571\n",
      "Epoch 50/100\n",
      "166/166 [==============================] - 0s 246us/step - loss: 0.2571 - accuracy: 0.9036 - val_loss: 0.3315 - val_accuracy: 0.8333\n",
      "Epoch 51/100\n",
      "166/166 [==============================] - 0s 162us/step - loss: 0.2651 - accuracy: 0.9217 - val_loss: 0.3145 - val_accuracy: 0.8333\n",
      "Epoch 52/100\n",
      "166/166 [==============================] - 0s 216us/step - loss: 0.2467 - accuracy: 0.9157 - val_loss: 0.3028 - val_accuracy: 0.9048\n",
      "Epoch 53/100\n",
      "166/166 [==============================] - 0s 192us/step - loss: 0.2636 - accuracy: 0.9096 - val_loss: 0.3045 - val_accuracy: 0.8810\n",
      "Epoch 54/100\n",
      "166/166 [==============================] - 0s 228us/step - loss: 0.2228 - accuracy: 0.9337 - val_loss: 0.3026 - val_accuracy: 0.8571\n",
      "Epoch 55/100\n",
      "166/166 [==============================] - 0s 240us/step - loss: 0.2119 - accuracy: 0.9277 - val_loss: 0.3061 - val_accuracy: 0.8571\n",
      "Epoch 56/100\n",
      "166/166 [==============================] - 0s 198us/step - loss: 0.2087 - accuracy: 0.9277 - val_loss: 0.2927 - val_accuracy: 0.8571\n",
      "Epoch 57/100\n",
      "166/166 [==============================] - 0s 126us/step - loss: 0.2048 - accuracy: 0.9337 - val_loss: 0.2843 - val_accuracy: 0.8571\n",
      "Epoch 58/100\n",
      "166/166 [==============================] - 0s 174us/step - loss: 0.2229 - accuracy: 0.9217 - val_loss: 0.2918 - val_accuracy: 0.8810\n",
      "Epoch 59/100\n",
      "166/166 [==============================] - 0s 228us/step - loss: 0.2116 - accuracy: 0.9337 - val_loss: 0.2990 - val_accuracy: 0.8810\n",
      "Epoch 60/100\n",
      "166/166 [==============================] - 0s 132us/step - loss: 0.1894 - accuracy: 0.9337 - val_loss: 0.2733 - val_accuracy: 0.9048\n",
      "Epoch 61/100\n",
      "166/166 [==============================] - 0s 138us/step - loss: 0.1857 - accuracy: 0.9458 - val_loss: 0.2697 - val_accuracy: 0.9048\n",
      "Epoch 62/100\n",
      "166/166 [==============================] - 0s 168us/step - loss: 0.1876 - accuracy: 0.9518 - val_loss: 0.2795 - val_accuracy: 0.9048\n",
      "Epoch 63/100\n",
      "166/166 [==============================] - 0s 144us/step - loss: 0.1584 - accuracy: 0.9518 - val_loss: 0.2836 - val_accuracy: 0.9286\n",
      "Epoch 64/100\n",
      "166/166 [==============================] - 0s 144us/step - loss: 0.1806 - accuracy: 0.9518 - val_loss: 0.2717 - val_accuracy: 0.9286\n",
      "Epoch 65/100\n",
      "166/166 [==============================] - 0s 162us/step - loss: 0.1572 - accuracy: 0.9518 - val_loss: 0.2631 - val_accuracy: 0.9286\n",
      "Epoch 66/100\n",
      "166/166 [==============================] - 0s 220us/step - loss: 0.1607 - accuracy: 0.9458 - val_loss: 0.2644 - val_accuracy: 0.9048\n",
      "Epoch 67/100\n",
      "166/166 [==============================] - 0s 156us/step - loss: 0.1601 - accuracy: 0.9518 - val_loss: 0.2667 - val_accuracy: 0.8810\n",
      "Epoch 68/100\n",
      "166/166 [==============================] - 0s 168us/step - loss: 0.1402 - accuracy: 0.9639 - val_loss: 0.2901 - val_accuracy: 0.8095\n",
      "Epoch 69/100\n",
      "166/166 [==============================] - 0s 189us/step - loss: 0.1546 - accuracy: 0.9639 - val_loss: 0.2528 - val_accuracy: 0.8810\n",
      "Epoch 70/100\n",
      "166/166 [==============================] - 0s 162us/step - loss: 0.1308 - accuracy: 0.9639 - val_loss: 0.2592 - val_accuracy: 0.9286\n",
      "Epoch 71/100\n",
      "166/166 [==============================] - 0s 174us/step - loss: 0.1286 - accuracy: 0.9699 - val_loss: 0.2463 - val_accuracy: 0.8810\n",
      "Epoch 72/100\n",
      "166/166 [==============================] - 0s 168us/step - loss: 0.1413 - accuracy: 0.9578 - val_loss: 0.2477 - val_accuracy: 0.9048\n",
      "Epoch 73/100\n",
      "166/166 [==============================] - 0s 192us/step - loss: 0.1338 - accuracy: 0.9759 - val_loss: 0.2587 - val_accuracy: 0.9048\n",
      "Epoch 74/100\n",
      "166/166 [==============================] - 0s 192us/step - loss: 0.1200 - accuracy: 0.9699 - val_loss: 0.2612 - val_accuracy: 0.8810\n",
      "Epoch 75/100\n",
      "166/166 [==============================] - 0s 174us/step - loss: 0.1177 - accuracy: 0.9639 - val_loss: 0.2681 - val_accuracy: 0.8810\n",
      "Epoch 76/100\n",
      "166/166 [==============================] - 0s 204us/step - loss: 0.1110 - accuracy: 0.9819 - val_loss: 0.2487 - val_accuracy: 0.9286\n",
      "Epoch 77/100\n",
      "166/166 [==============================] - 0s 174us/step - loss: 0.1233 - accuracy: 0.9819 - val_loss: 0.2390 - val_accuracy: 0.9286\n",
      "Epoch 78/100\n",
      "166/166 [==============================] - 0s 228us/step - loss: 0.1044 - accuracy: 0.9880 - val_loss: 0.2351 - val_accuracy: 0.9048\n",
      "Epoch 79/100\n",
      "166/166 [==============================] - 0s 186us/step - loss: 0.1049 - accuracy: 0.9819 - val_loss: 0.2396 - val_accuracy: 0.8810\n",
      "Epoch 80/100\n",
      "166/166 [==============================] - 0s 186us/step - loss: 0.0938 - accuracy: 0.9699 - val_loss: 0.2393 - val_accuracy: 0.9286\n",
      "Epoch 81/100\n",
      "166/166 [==============================] - 0s 144us/step - loss: 0.0895 - accuracy: 0.9880 - val_loss: 0.2377 - val_accuracy: 0.9286\n",
      "Epoch 82/100\n",
      "166/166 [==============================] - 0s 258us/step - loss: 0.0915 - accuracy: 0.9759 - val_loss: 0.2357 - val_accuracy: 0.9048\n",
      "Epoch 83/100\n",
      "166/166 [==============================] - 0s 180us/step - loss: 0.0796 - accuracy: 0.9940 - val_loss: 0.2273 - val_accuracy: 0.9286\n",
      "Epoch 84/100\n",
      "166/166 [==============================] - 0s 156us/step - loss: 0.0905 - accuracy: 0.9940 - val_loss: 0.2268 - val_accuracy: 0.9286\n",
      "Epoch 85/100\n",
      "166/166 [==============================] - 0s 174us/step - loss: 0.0843 - accuracy: 0.9819 - val_loss: 0.2361 - val_accuracy: 0.9048\n",
      "Epoch 86/100\n",
      "166/166 [==============================] - 0s 210us/step - loss: 0.1030 - accuracy: 0.9759 - val_loss: 0.2116 - val_accuracy: 0.9286\n",
      "Epoch 87/100\n",
      "166/166 [==============================] - 0s 216us/step - loss: 0.0902 - accuracy: 0.9819 - val_loss: 0.2267 - val_accuracy: 0.9048\n",
      "Epoch 88/100\n",
      "166/166 [==============================] - 0s 192us/step - loss: 0.0676 - accuracy: 0.9940 - val_loss: 0.2383 - val_accuracy: 0.8810\n",
      "Epoch 89/100\n",
      "166/166 [==============================] - 0s 174us/step - loss: 0.0860 - accuracy: 0.9759 - val_loss: 0.2404 - val_accuracy: 0.9048\n",
      "Epoch 90/100\n",
      "166/166 [==============================] - 0s 162us/step - loss: 0.0811 - accuracy: 0.9880 - val_loss: 0.2264 - val_accuracy: 0.9286\n",
      "Epoch 91/100\n",
      "166/166 [==============================] - 0s 577us/step - loss: 0.0724 - accuracy: 0.9819 - val_loss: 0.2478 - val_accuracy: 0.8810\n",
      "Epoch 92/100\n",
      "166/166 [==============================] - 0s 240us/step - loss: 0.0638 - accuracy: 0.9940 - val_loss: 0.2255 - val_accuracy: 0.8810\n",
      "Epoch 93/100\n",
      "166/166 [==============================] - 0s 195us/step - loss: 0.0802 - accuracy: 0.9699 - val_loss: 0.2362 - val_accuracy: 0.9048\n",
      "Epoch 94/100\n",
      "166/166 [==============================] - 0s 186us/step - loss: 0.0755 - accuracy: 0.9880 - val_loss: 0.2282 - val_accuracy: 0.9048\n",
      "Epoch 95/100\n",
      "166/166 [==============================] - 0s 132us/step - loss: 0.0605 - accuracy: 1.0000 - val_loss: 0.2323 - val_accuracy: 0.8810\n",
      "Epoch 96/100\n",
      "166/166 [==============================] - 0s 162us/step - loss: 0.0644 - accuracy: 0.9940 - val_loss: 0.2465 - val_accuracy: 0.9048\n",
      "Epoch 97/100\n",
      "166/166 [==============================] - 0s 192us/step - loss: 0.0527 - accuracy: 1.0000 - val_loss: 0.2328 - val_accuracy: 0.8571\n",
      "Epoch 98/100\n",
      "166/166 [==============================] - 0s 234us/step - loss: 0.0519 - accuracy: 0.9940 - val_loss: 0.2266 - val_accuracy: 0.8810\n",
      "Epoch 99/100\n",
      "166/166 [==============================] - 0s 306us/step - loss: 0.0499 - accuracy: 0.9940 - val_loss: 0.2230 - val_accuracy: 0.8810\n",
      "Epoch 100/100\n",
      "166/166 [==============================] - 0s 186us/step - loss: 0.0546 - accuracy: 1.0000 - val_loss: 0.2329 - val_accuracy: 0.9286\n"
     ]
    }
   ],
   "source": [
    "proses=model.fit(x_train, y_train, validation_data=(x_test, y_test), batch_size=30, epochs=100)"
   ]
  },
  {
   "cell_type": "code",
   "execution_count": 10,
   "metadata": {},
   "outputs": [
    {
     "name": "stdout",
     "output_type": "stream",
     "text": [
      "42/42 [==============================] - 0s 261us/step\n",
      "\n",
      "accuracy: 92.86%\n"
     ]
    }
   ],
   "source": [
    "scores = model.evaluate(x_test, y_test)\n",
    "print(\"\\n%s: %.2f%%\" % (model.metrics_names[1], scores[1]*100))"
   ]
  },
  {
   "cell_type": "markdown",
   "metadata": {},
   "source": [
    "Akurasi nya sebesar 92.86%"
   ]
  },
  {
   "cell_type": "markdown",
   "metadata": {},
   "source": [
    "# Visualisasi\n",
    "Data yang telah ditraining melalui epochs dapat ditampilkan dalam bentuk grafik (plot model). Grafik yang ditampilkan ada dua buah grafik. Grafik pertama menampilkan Akurasi dan grafik kedua menampilkan Loss."
   ]
  },
  {
   "cell_type": "code",
   "execution_count": 11,
   "metadata": {},
   "outputs": [
    {
     "data": {
      "image/png": "[encoded data removed]",
      "text/plain": [
       "<matplotlib.figure.Figure at 0x19d0dcd5048>"
      ]
     },
     "metadata": {},
     "output_type": "display_data"
    }
   ],
   "source": [
    "fig,(ax0) = plt.subplots(nrows=1, figsize=(12,5))\n",
    "ax0.plot(proses.history['accuracy'],'red', label='Akurasi Training')\n",
    "ax0.plot(proses.history['val_accuracy'], 'blue', label='Akurasi Validasi')\n",
    "ax0.plot(label='Accuracy', loc='upper left')\n",
    "ax0.set_title('Model Accuracy')\n",
    "ax0.set_xlabel(\"Epoch\")\n",
    "ax0.set_ylabel(\"Accuracy\")\n",
    "ax0.legend()\n",
    "plt.savefig('Grafik Akurasi.png')"
   ]
  },
  {
   "cell_type": "code",
   "execution_count": 12,
   "metadata": {},
   "outputs": [
    {
     "data": {
      "image/png": "[encoded data removed]",
      "text/plain": [
       "<matplotlib.figure.Figure at 0x19d0dd515c0>"
      ]
     },
     "metadata": {},
     "output_type": "display_data"
    }
   ],
   "source": [
    "fig,(ax1) = plt.subplots(nrows=1, figsize=(12,5))\n",
    "ax1.plot(proses.history['loss'],'red', label='Loss Training')\n",
    "ax1.plot(proses.history['val_loss'], 'blue', label='Loss Validasi')\n",
    "ax1.plot(label='Loss', loc='upper left')\n",
    "ax1.set_title('Model Loss')\n",
    "ax1.set_xlabel(\"Epoch\")\n",
    "ax1.set_ylabel(\"Loss\")\n",
    "ax1.legend()\n",
    "plt.savefig('Grafik Loss.png')"
   ]
  },
  {
   "cell_type": "markdown",
   "metadata": {},
   "source": [
    "#  Confusion Matrix\n",
    "\n",
    "Confusion Matrix digunakan untuk dapat mengkalkulasi nilai dari data yang masih dalam bentuk Array dan dikonversikan ke bentuk tipe data integer ataupun float.\n",
    "\n",
    "Untuk dapat menghitung Confusion Matrix pada dataset yang telah diolah, kita deklarasikan model predict dari data training dan data testing\n"
   ]
  },
  {
   "cell_type": "code",
   "execution_count": 13,
   "metadata": {},
   "outputs": [],
   "source": [
    "training_predicted = model.predict(x_train)\n",
    "testing_predicted = model.predict(x_test)"
   ]
  },
  {
   "cell_type": "markdown",
   "metadata": {},
   "source": [
    "Lalu masukkan deklarasi sklean.metrics yang berfungsi sebagai penghitung Confusion Matrix dan deklarasikan lagi data training dan data testing dalam bentuk Confusion Matrix"
   ]
  },
  {
   "cell_type": "code",
   "execution_count": 14,
   "metadata": {},
   "outputs": [],
   "source": [
    "from sklearn.metrics import confusion_matrix\n",
    "\n",
    "training_cm = confusion_matrix(y_train,training_predicted.round())\n",
    "testing_cm = confusion_matrix(y_test,testing_predicted.round())"
   ]
  },
  {
   "cell_type": "markdown",
   "metadata": {},
   "source": [
    " Nilai Confussion Matrix terdiri dari True Positive (TP), False Negative (FN), False Positive (FP), dan True Negative (TN)."
   ]
  },
  {
   "cell_type": "markdown",
   "metadata": {},
   "source": [
    "|Confusion Matrix|\n",
    "|----|--|\n",
    "|TP|FN|\n",
    "|FP|TN|"
   ]
  },
  {
   "cell_type": "markdown",
   "metadata": {},
   "source": [
    "Setiap Confusion Matrix dapat menghitung Accuracy, Specificity, Sensitivity, Precision, dan F1 Score dari data training dan testing dengan menggunakan rumus berikut"
   ]
  },
  {
   "cell_type": "markdown",
   "metadata": {},
   "source": [
    "$$Accuracy = \\frac {tp+tn}{tp+tn+fp+fn}$$\n",
    "$$Specificity = \\frac {tn}{tn+fp}$$\n",
    "$$Sensitivity = \\frac {tp}{tp+fn}$$\n",
    "$$Precision = \\frac {tp}{tp+fp}$$\n",
    "$$F1 Score = \\frac {2 \\times Sensitivity \\times Precision}{Sensitivity+ Precision}$$"
   ]
  },
  {
   "cell_type": "code",
   "execution_count": 15,
   "metadata": {},
   "outputs": [
    {
     "data": {
      "text/plain": [
       "array([[77,  0],\n",
       "       [ 0, 89]], dtype=int64)"
      ]
     },
     "execution_count": 15,
     "metadata": {},
     "output_type": "execute_result"
    }
   ],
   "source": [
    "training_cm"
   ]
  },
  {
   "cell_type": "code",
   "execution_count": 16,
   "metadata": {},
   "outputs": [
    {
     "name": "stdout",
     "output_type": "stream",
     "text": [
      "Accuracy training 1.0\n",
      "Specificity training 1.0\n",
      "Sensitivity training 1.0\n",
      "Precision training 1.0\n",
      "F1 Score training 1.0\n"
     ]
    }
   ],
   "source": [
    "tp = training_cm[0][0]\n",
    "fn = training_cm[0][1]\n",
    "fp = training_cm[1][0]\n",
    "tn = training_cm[1][1]\n",
    "\n",
    "accuracy = (tp+tn)/(tp+tn+fp+fn)\n",
    "specificity = tn/(tn+fp)\n",
    "sensitivity = tp/(tp+fn)\n",
    "precision = tp/(tp+fp)\n",
    "f1_score = (2*sensitivity*precision)/(sensitivity+precision)\n",
    "\n",
    "print(\"Accuracy training {0}\".format(accuracy))\n",
    "print(\"Specificity training {0}\".format(specificity))\n",
    "print(\"Sensitivity training {0}\".format(sensitivity))\n",
    "print(\"Precision training {0}\".format(precision))\n",
    "print(\"F1 Score training {0}\".format(f1_score))"
   ]
  },
  {
   "cell_type": "code",
   "execution_count": 17,
   "metadata": {},
   "outputs": [
    {
     "name": "stdout",
     "output_type": "stream",
     "text": [
      "[[18  2]\n",
      " [ 1 21]]\n"
     ]
    }
   ],
   "source": [
    "print(testing_cm)"
   ]
  },
  {
   "cell_type": "markdown",
   "metadata": {},
   "source": [
    "hitung setiap Nilai Confusion Matrix dengan menggunakan rumus Accuracy, Specificity, Sensitivity, Precision, dan F1 Score"
   ]
  },
  {
   "cell_type": "code",
   "execution_count": 18,
   "metadata": {},
   "outputs": [
    {
     "name": "stdout",
     "output_type": "stream",
     "text": [
      "Accuracy testing 0.9285714285714286\n",
      "Specificity testing 0.9545454545454546\n",
      "Sensitivity testing 0.9\n",
      "Precision testing 0.9473684210526315\n",
      "F1 Score testing 0.9230769230769231\n"
     ]
    }
   ],
   "source": [
    "tp = testing_cm[0][0]\n",
    "fn = testing_cm[0][1]\n",
    "fp = testing_cm[1][0]\n",
    "tn = testing_cm[1][1]\n",
    "\n",
    "accuracy = (tp+tn)/(tp+tn+fp+fn)\n",
    "specificity = tn/(tn+fp)\n",
    "sensitivity = tp/(tp+fn)\n",
    "precision = tp/(tp+fp)\n",
    "f1_score = (2*sensitivity*precision)/(sensitivity+precision)\n",
    "\n",
    "print(\"Accuracy testing {0}\".format(accuracy))\n",
    "print(\"Specificity testing {0}\".format(specificity))\n",
    "print(\"Sensitivity testing {0}\".format(sensitivity))\n",
    "print(\"Precision testing {0}\".format(precision))\n",
    "print(\"F1 Score testing {0}\".format(f1_score))"
   ]
  },
  {
   "cell_type": "markdown",
   "metadata": {},
   "source": [
    "hasil dari kalkulasi Confusion Matrix untuk data testing"
   ]
  },
  {
   "cell_type": "markdown",
   "metadata": {},
   "source": [
    "# Kesimpulan\n",
    "Dari perhitungan neural network yang telah saya lakukan dalam kasus identifikasi batuan tambang atau batuan biasa dengan dataset yang dapat saya percayai kebenarannya maka dapat saya tarik beberapa kesimpulan:<br>\n",
    "1. Akurasi yang didapatkan pada awalnya tidak stabil karena data yang acak, namun pada akhirnya di dapatkan akurasi yang bagus dan nilai recall 100% maka dapat dinyatakan bahwa data tersebut layak di gunakan dan bagus <br>\n",
    "2. Proporsi data yang bagus di antara identifikasi batuan membuat proses identifikasi data menjadi lebih mudah, dari 97 data batuan yang benar benar batuan tambang di identifikasi sebagai batuan tambang <br>\n",
    "3. klasifikasi secara biner lebih effektif di gunakan karena data output yang berupa nilai 1 atau 0 saja <br>"
   ]
  },
  {
   "cell_type": "markdown",
   "metadata": {},
   "source": [
    "# Referensi\n",
    "1. Paper [Analysis of hidden units in a layered network trained to classify sonar targets](https://www.researchgate.net/publication/222469891_Analysis_of_hidden_units_in_a_layered_network_trained_to_classify_sonar_targets)\n",
    "\n",
    "2. Dataset [Sonar](https://www.kaggle.com/adx891/sonar-data-set)"
   ]
  },
  {
   "cell_type": "code",
   "execution_count": null,
   "metadata": {},
   "outputs": [],
   "source": []
  }
 ],
 "metadata": {
  "kernelspec": {
   "display_name": "Python 3",
   "language": "python",
   "name": "python3"
  },
  "language_info": {
   "codemirror_mode": {
    "name": "ipython",
    "version": 3
   },
   "file_extension": ".py",
   "mimetype": "text/x-python",
   "name": "python",
   "nbconvert_exporter": "python",
   "pygments_lexer": "ipython3",
   "version": "3.6.4"
  }
 },
 "nbformat": 4,
 "nbformat_minor": 2
}
