{
 "cells": [
  {
   "cell_type": "markdown",
   "metadata": {},
   "source": [
    "<div class=\"\">\n",
    "<br><br>\n",
    "<center><br><font size=\"12\"><font face=\"calibri\"><strong>Deep Sparse Rectifier Neural Networks\n",
    "<center><br><font size=\"5\"><font face=\"calibri\"><strong>Churn Modelling Dataset by KAGGLE\n",
    "<br><br>\n",
    "<br><strong>Oleh :\n",
    "<br>\n",
    "<br><strong>RAHMAT SYAUQI ISLAMI\n",
    "<br><strong>09011181722023\n",
    "<br><br>\n",
    "<br><strong>Mata Kuliah Kecerdasan Buatan\n",
    "<br>\n",
    "<br><strong>Dosen Pengampuh : \n",
    "<br><strong>Prof. Dr. Ir. Siti Nurmaini, M.T.\n",
    "<br><br><br>\n",
    "<br><strong>Jurusan Sistem Komputer\n",
    "<br><strong>Fakultas Ilmu Komputer\n",
    "<br><strong>Universitas Sriwijaya\n",
    "<br><strong>2019"
   ]
  },
  {
   "cell_type": "markdown",
   "metadata": {},
   "source": [
    "## Berdasarkan pada jurnal \"Deep Sparse Rectifier Neural Networks\" dan menggunakan Churn Modelling Dataset by KAGGLE"
   ]
  },
  {
   "cell_type": "markdown",
   "metadata": {},
   "source": [
    "## IMPORT DATASET"
   ]
  },
  {
   "cell_type": "code",
   "execution_count": 1,
   "metadata": {},
   "outputs": [
    {
     "name": "stderr",
     "output_type": "stream",
     "text": [
      "Using TensorFlow backend.\n"
     ]
    }
   ],
   "source": [
    "from keras.models import Sequential\n",
    "from keras.layers import Dense\n",
    "from sklearn.utils import resample\n",
    "from sklearn.preprocessing import MinMaxScaler\n",
    "from sklearn.preprocessing import LabelEncoder\n",
    "scaler = MinMaxScaler\n",
    "import numpy as np\n",
    "np.random.seed(7)\n",
    "import pandas as pd\n",
    "import seaborn as sns\n",
    "import matplotlib.pyplot as plt\n",
    "from keras.optimizers import Adam\n",
    "from keras.utils import to_categorical\n",
    "from sklearn.metrics import confusion_matrix"
   ]
  },
  {
   "cell_type": "markdown",
   "metadata": {},
   "source": [
    "## IMPORT PACKAGES \n",
    "Berikut ini adalah paket-paket yang digunakan antara lain :\n",
    "\n",
    "Keras Applications adalah salah satu modul dalam pustaka Keras yang menyediakan arsitektur berbagai model Deep Learning ternama. Model-model itu sudah dilatih out of the box. Dengan kata lain, menggunakan Keras Applications sama halnya membuat sistem cerdas.\n",
    "\n",
    "Paket sklearn.utils\n",
    "\n",
    "Paket sklearn.preprocessing menyediakan beberapa fungsi utilitas umum dan kelas transformator untuk mengubah vektor fitur mentah menjadi representasi yang lebih sesuai untuk downstream estimator. Dalam hali ini diimportkan StandardScaler dan MinMaxScaler.\n",
    "\n",
    "NumPy adalah paket dasar untuk komputasi ilmiah dengan Python. NumPy juga dapat digunakan sebagai wadah data generik multidimensi yang efisien. Hal ini memungkinkan NumPy untuk terintegrasi dengan mudah dan cepat dengan berbagai macam database.\n",
    "\n",
    "Pandas merupakan toolkit yang powerfull sebagai alat analisis data dan struktur untuk bahasa pemrograman Python. \n",
    "\n",
    "Seaborn adalah library untuk membuat grafik statistik dengan Python. Ini dibangun di atas matplotlib dan terintegrasi dengan struktur data pandas.\n",
    "\n",
    "Matplotlib.pyplot berungsi untuk membuat suatu gambar, membuat sebuah plotting area pada gambar, membuat garis pada plotting area, dan-lain-lain."
   ]
  },
  {
   "cell_type": "code",
   "execution_count": 2,
   "metadata": {},
   "outputs": [
    {
     "data": {
      "text/html": [
       "<div>\n",
       "<style scoped>\n",
       "    .dataframe tbody tr th:only-of-type {\n",
       "        vertical-align: middle;\n",
       "    }\n",
       "\n",
       "    .dataframe tbody tr th {\n",
       "        vertical-align: top;\n",
       "    }\n",
       "\n",
       "    .dataframe thead th {\n",
       "        text-align: right;\n",
       "    }\n",
       "</style>\n",
       "<table border=\"1\" class=\"dataframe\">\n",
       "  <thead>\n",
       "    <tr style=\"text-align: right;\">\n",
       "      <th></th>\n",
       "      <th>RowNumber</th>\n",
       "      <th>CustomerId</th>\n",
       "      <th>Surname</th>\n",
       "      <th>CreditScore</th>\n",
       "      <th>Geography</th>\n",
       "      <th>Gender</th>\n",
       "      <th>Age</th>\n",
       "      <th>Tenure</th>\n",
       "      <th>Balance</th>\n",
       "      <th>NumOfProducts</th>\n",
       "      <th>HasCrCard</th>\n",
       "      <th>IsActiveMember</th>\n",
       "      <th>EstimatedSalary</th>\n",
       "      <th>Exited</th>\n",
       "    </tr>\n",
       "  </thead>\n",
       "  <tbody>\n",
       "    <tr>\n",
       "      <td>0</td>\n",
       "      <td>1</td>\n",
       "      <td>15634602</td>\n",
       "      <td>Hargrave</td>\n",
       "      <td>619</td>\n",
       "      <td>France</td>\n",
       "      <td>Female</td>\n",
       "      <td>42</td>\n",
       "      <td>2</td>\n",
       "      <td>0.00</td>\n",
       "      <td>1</td>\n",
       "      <td>1</td>\n",
       "      <td>1</td>\n",
       "      <td>101348.88</td>\n",
       "      <td>1</td>\n",
       "    </tr>\n",
       "    <tr>\n",
       "      <td>1</td>\n",
       "      <td>2</td>\n",
       "      <td>15647311</td>\n",
       "      <td>Hill</td>\n",
       "      <td>608</td>\n",
       "      <td>Spain</td>\n",
       "      <td>Female</td>\n",
       "      <td>41</td>\n",
       "      <td>1</td>\n",
       "      <td>83807.86</td>\n",
       "      <td>1</td>\n",
       "      <td>0</td>\n",
       "      <td>1</td>\n",
       "      <td>112542.58</td>\n",
       "      <td>0</td>\n",
       "    </tr>\n",
       "    <tr>\n",
       "      <td>2</td>\n",
       "      <td>3</td>\n",
       "      <td>15619304</td>\n",
       "      <td>Onio</td>\n",
       "      <td>502</td>\n",
       "      <td>France</td>\n",
       "      <td>Female</td>\n",
       "      <td>42</td>\n",
       "      <td>8</td>\n",
       "      <td>159660.80</td>\n",
       "      <td>3</td>\n",
       "      <td>1</td>\n",
       "      <td>0</td>\n",
       "      <td>113931.57</td>\n",
       "      <td>1</td>\n",
       "    </tr>\n",
       "    <tr>\n",
       "      <td>3</td>\n",
       "      <td>4</td>\n",
       "      <td>15701354</td>\n",
       "      <td>Boni</td>\n",
       "      <td>699</td>\n",
       "      <td>France</td>\n",
       "      <td>Female</td>\n",
       "      <td>39</td>\n",
       "      <td>1</td>\n",
       "      <td>0.00</td>\n",
       "      <td>2</td>\n",
       "      <td>0</td>\n",
       "      <td>0</td>\n",
       "      <td>93826.63</td>\n",
       "      <td>0</td>\n",
       "    </tr>\n",
       "    <tr>\n",
       "      <td>4</td>\n",
       "      <td>5</td>\n",
       "      <td>15737888</td>\n",
       "      <td>Mitchell</td>\n",
       "      <td>850</td>\n",
       "      <td>Spain</td>\n",
       "      <td>Female</td>\n",
       "      <td>43</td>\n",
       "      <td>2</td>\n",
       "      <td>125510.82</td>\n",
       "      <td>1</td>\n",
       "      <td>1</td>\n",
       "      <td>1</td>\n",
       "      <td>79084.10</td>\n",
       "      <td>0</td>\n",
       "    </tr>\n",
       "    <tr>\n",
       "      <td>...</td>\n",
       "      <td>...</td>\n",
       "      <td>...</td>\n",
       "      <td>...</td>\n",
       "      <td>...</td>\n",
       "      <td>...</td>\n",
       "      <td>...</td>\n",
       "      <td>...</td>\n",
       "      <td>...</td>\n",
       "      <td>...</td>\n",
       "      <td>...</td>\n",
       "      <td>...</td>\n",
       "      <td>...</td>\n",
       "      <td>...</td>\n",
       "      <td>...</td>\n",
       "    </tr>\n",
       "    <tr>\n",
       "      <td>9995</td>\n",
       "      <td>9996</td>\n",
       "      <td>15606229</td>\n",
       "      <td>Obijiaku</td>\n",
       "      <td>771</td>\n",
       "      <td>France</td>\n",
       "      <td>Male</td>\n",
       "      <td>39</td>\n",
       "      <td>5</td>\n",
       "      <td>0.00</td>\n",
       "      <td>2</td>\n",
       "      <td>1</td>\n",
       "      <td>0</td>\n",
       "      <td>96270.64</td>\n",
       "      <td>0</td>\n",
       "    </tr>\n",
       "    <tr>\n",
       "      <td>9996</td>\n",
       "      <td>9997</td>\n",
       "      <td>15569892</td>\n",
       "      <td>Johnstone</td>\n",
       "      <td>516</td>\n",
       "      <td>France</td>\n",
       "      <td>Male</td>\n",
       "      <td>35</td>\n",
       "      <td>10</td>\n",
       "      <td>57369.61</td>\n",
       "      <td>1</td>\n",
       "      <td>1</td>\n",
       "      <td>1</td>\n",
       "      <td>101699.77</td>\n",
       "      <td>0</td>\n",
       "    </tr>\n",
       "    <tr>\n",
       "      <td>9997</td>\n",
       "      <td>9998</td>\n",
       "      <td>15584532</td>\n",
       "      <td>Liu</td>\n",
       "      <td>709</td>\n",
       "      <td>France</td>\n",
       "      <td>Female</td>\n",
       "      <td>36</td>\n",
       "      <td>7</td>\n",
       "      <td>0.00</td>\n",
       "      <td>1</td>\n",
       "      <td>0</td>\n",
       "      <td>1</td>\n",
       "      <td>42085.58</td>\n",
       "      <td>1</td>\n",
       "    </tr>\n",
       "    <tr>\n",
       "      <td>9998</td>\n",
       "      <td>9999</td>\n",
       "      <td>15682355</td>\n",
       "      <td>Sabbatini</td>\n",
       "      <td>772</td>\n",
       "      <td>Germany</td>\n",
       "      <td>Male</td>\n",
       "      <td>42</td>\n",
       "      <td>3</td>\n",
       "      <td>75075.31</td>\n",
       "      <td>2</td>\n",
       "      <td>1</td>\n",
       "      <td>0</td>\n",
       "      <td>92888.52</td>\n",
       "      <td>1</td>\n",
       "    </tr>\n",
       "    <tr>\n",
       "      <td>9999</td>\n",
       "      <td>10000</td>\n",
       "      <td>15628319</td>\n",
       "      <td>Walker</td>\n",
       "      <td>792</td>\n",
       "      <td>France</td>\n",
       "      <td>Female</td>\n",
       "      <td>28</td>\n",
       "      <td>4</td>\n",
       "      <td>130142.79</td>\n",
       "      <td>1</td>\n",
       "      <td>1</td>\n",
       "      <td>0</td>\n",
       "      <td>38190.78</td>\n",
       "      <td>0</td>\n",
       "    </tr>\n",
       "  </tbody>\n",
       "</table>\n",
       "<p>10000 rows × 14 columns</p>\n",
       "</div>"
      ],
      "text/plain": [
       "      RowNumber  CustomerId    Surname  CreditScore Geography  Gender  Age  \\\n",
       "0             1    15634602   Hargrave          619    France  Female   42   \n",
       "1             2    15647311       Hill          608     Spain  Female   41   \n",
       "2             3    15619304       Onio          502    France  Female   42   \n",
       "3             4    15701354       Boni          699    France  Female   39   \n",
       "4             5    15737888   Mitchell          850     Spain  Female   43   \n",
       "...         ...         ...        ...          ...       ...     ...  ...   \n",
       "9995       9996    15606229   Obijiaku          771    France    Male   39   \n",
       "9996       9997    15569892  Johnstone          516    France    Male   35   \n",
       "9997       9998    15584532        Liu          709    France  Female   36   \n",
       "9998       9999    15682355  Sabbatini          772   Germany    Male   42   \n",
       "9999      10000    15628319     Walker          792    France  Female   28   \n",
       "\n",
       "      Tenure    Balance  NumOfProducts  HasCrCard  IsActiveMember  \\\n",
       "0          2       0.00              1          1               1   \n",
       "1          1   83807.86              1          0               1   \n",
       "2          8  159660.80              3          1               0   \n",
       "3          1       0.00              2          0               0   \n",
       "4          2  125510.82              1          1               1   \n",
       "...      ...        ...            ...        ...             ...   \n",
       "9995       5       0.00              2          1               0   \n",
       "9996      10   57369.61              1          1               1   \n",
       "9997       7       0.00              1          0               1   \n",
       "9998       3   75075.31              2          1               0   \n",
       "9999       4  130142.79              1          1               0   \n",
       "\n",
       "      EstimatedSalary  Exited  \n",
       "0           101348.88       1  \n",
       "1           112542.58       0  \n",
       "2           113931.57       1  \n",
       "3            93826.63       0  \n",
       "4            79084.10       0  \n",
       "...               ...     ...  \n",
       "9995         96270.64       0  \n",
       "9996        101699.77       0  \n",
       "9997         42085.58       1  \n",
       "9998         92888.52       1  \n",
       "9999         38190.78       0  \n",
       "\n",
       "[10000 rows x 14 columns]"
      ]
     },
     "execution_count": 2,
     "metadata": {},
     "output_type": "execute_result"
    }
   ],
   "source": [
    "df = pd.read_csv('Churn_Modelling 1.csv')\n",
    "df"
   ]
  },
  {
   "cell_type": "code",
   "execution_count": 3,
   "metadata": {},
   "outputs": [
    {
     "data": {
      "text/html": [
       "<div>\n",
       "<style scoped>\n",
       "    .dataframe tbody tr th:only-of-type {\n",
       "        vertical-align: middle;\n",
       "    }\n",
       "\n",
       "    .dataframe tbody tr th {\n",
       "        vertical-align: top;\n",
       "    }\n",
       "\n",
       "    .dataframe thead th {\n",
       "        text-align: right;\n",
       "    }\n",
       "</style>\n",
       "<table border=\"1\" class=\"dataframe\">\n",
       "  <thead>\n",
       "    <tr style=\"text-align: right;\">\n",
       "      <th></th>\n",
       "      <th>RowNumber</th>\n",
       "      <th>CustomerId</th>\n",
       "      <th>Surname</th>\n",
       "      <th>CreditScore</th>\n",
       "      <th>Geography</th>\n",
       "      <th>Gender</th>\n",
       "      <th>Age</th>\n",
       "      <th>Tenure</th>\n",
       "      <th>Balance</th>\n",
       "      <th>NumOfProducts</th>\n",
       "      <th>HasCrCard</th>\n",
       "      <th>IsActiveMember</th>\n",
       "      <th>EstimatedSalary</th>\n",
       "      <th>Exited</th>\n",
       "    </tr>\n",
       "  </thead>\n",
       "  <tbody>\n",
       "    <tr>\n",
       "      <td>0</td>\n",
       "      <td>1</td>\n",
       "      <td>15634602</td>\n",
       "      <td>Hargrave</td>\n",
       "      <td>619</td>\n",
       "      <td>France</td>\n",
       "      <td>Female</td>\n",
       "      <td>42</td>\n",
       "      <td>2</td>\n",
       "      <td>0.00</td>\n",
       "      <td>1</td>\n",
       "      <td>1</td>\n",
       "      <td>1</td>\n",
       "      <td>101348.88</td>\n",
       "      <td>1</td>\n",
       "    </tr>\n",
       "    <tr>\n",
       "      <td>1</td>\n",
       "      <td>2</td>\n",
       "      <td>15647311</td>\n",
       "      <td>Hill</td>\n",
       "      <td>608</td>\n",
       "      <td>Spain</td>\n",
       "      <td>Female</td>\n",
       "      <td>41</td>\n",
       "      <td>1</td>\n",
       "      <td>83807.86</td>\n",
       "      <td>1</td>\n",
       "      <td>0</td>\n",
       "      <td>1</td>\n",
       "      <td>112542.58</td>\n",
       "      <td>0</td>\n",
       "    </tr>\n",
       "    <tr>\n",
       "      <td>2</td>\n",
       "      <td>3</td>\n",
       "      <td>15619304</td>\n",
       "      <td>Onio</td>\n",
       "      <td>502</td>\n",
       "      <td>France</td>\n",
       "      <td>Female</td>\n",
       "      <td>42</td>\n",
       "      <td>8</td>\n",
       "      <td>159660.80</td>\n",
       "      <td>3</td>\n",
       "      <td>1</td>\n",
       "      <td>0</td>\n",
       "      <td>113931.57</td>\n",
       "      <td>1</td>\n",
       "    </tr>\n",
       "    <tr>\n",
       "      <td>3</td>\n",
       "      <td>4</td>\n",
       "      <td>15701354</td>\n",
       "      <td>Boni</td>\n",
       "      <td>699</td>\n",
       "      <td>France</td>\n",
       "      <td>Female</td>\n",
       "      <td>39</td>\n",
       "      <td>1</td>\n",
       "      <td>0.00</td>\n",
       "      <td>2</td>\n",
       "      <td>0</td>\n",
       "      <td>0</td>\n",
       "      <td>93826.63</td>\n",
       "      <td>0</td>\n",
       "    </tr>\n",
       "    <tr>\n",
       "      <td>4</td>\n",
       "      <td>5</td>\n",
       "      <td>15737888</td>\n",
       "      <td>Mitchell</td>\n",
       "      <td>850</td>\n",
       "      <td>Spain</td>\n",
       "      <td>Female</td>\n",
       "      <td>43</td>\n",
       "      <td>2</td>\n",
       "      <td>125510.82</td>\n",
       "      <td>1</td>\n",
       "      <td>1</td>\n",
       "      <td>1</td>\n",
       "      <td>79084.10</td>\n",
       "      <td>0</td>\n",
       "    </tr>\n",
       "  </tbody>\n",
       "</table>\n",
       "</div>"
      ],
      "text/plain": [
       "   RowNumber  CustomerId   Surname  CreditScore Geography  Gender  Age  \\\n",
       "0          1    15634602  Hargrave          619    France  Female   42   \n",
       "1          2    15647311      Hill          608     Spain  Female   41   \n",
       "2          3    15619304      Onio          502    France  Female   42   \n",
       "3          4    15701354      Boni          699    France  Female   39   \n",
       "4          5    15737888  Mitchell          850     Spain  Female   43   \n",
       "\n",
       "   Tenure    Balance  NumOfProducts  HasCrCard  IsActiveMember  \\\n",
       "0       2       0.00              1          1               1   \n",
       "1       1   83807.86              1          0               1   \n",
       "2       8  159660.80              3          1               0   \n",
       "3       1       0.00              2          0               0   \n",
       "4       2  125510.82              1          1               1   \n",
       "\n",
       "   EstimatedSalary  Exited  \n",
       "0        101348.88       1  \n",
       "1        112542.58       0  \n",
       "2        113931.57       1  \n",
       "3         93826.63       0  \n",
       "4         79084.10       0  "
      ]
     },
     "execution_count": 3,
     "metadata": {},
     "output_type": "execute_result"
    }
   ],
   "source": [
    "df.head()"
   ]
  },
  {
   "cell_type": "markdown",
   "metadata": {},
   "source": [
    "head() berfungsi untuk melihat data sebanyak n pada kolom awal (jika tidak diisi, akan tampil secara random)."
   ]
  },
  {
   "cell_type": "code",
   "execution_count": 4,
   "metadata": {},
   "outputs": [
    {
     "data": {
      "text/html": [
       "<div>\n",
       "<style scoped>\n",
       "    .dataframe tbody tr th:only-of-type {\n",
       "        vertical-align: middle;\n",
       "    }\n",
       "\n",
       "    .dataframe tbody tr th {\n",
       "        vertical-align: top;\n",
       "    }\n",
       "\n",
       "    .dataframe thead th {\n",
       "        text-align: right;\n",
       "    }\n",
       "</style>\n",
       "<table border=\"1\" class=\"dataframe\">\n",
       "  <thead>\n",
       "    <tr style=\"text-align: right;\">\n",
       "      <th></th>\n",
       "      <th>RowNumber</th>\n",
       "      <th>CustomerId</th>\n",
       "      <th>Surname</th>\n",
       "      <th>CreditScore</th>\n",
       "      <th>Geography</th>\n",
       "      <th>Gender</th>\n",
       "      <th>Age</th>\n",
       "      <th>Tenure</th>\n",
       "      <th>Balance</th>\n",
       "      <th>NumOfProducts</th>\n",
       "      <th>HasCrCard</th>\n",
       "      <th>IsActiveMember</th>\n",
       "      <th>EstimatedSalary</th>\n",
       "      <th>Exited</th>\n",
       "    </tr>\n",
       "  </thead>\n",
       "  <tbody>\n",
       "    <tr>\n",
       "      <td>0</td>\n",
       "      <td>0</td>\n",
       "      <td>2736</td>\n",
       "      <td>1115</td>\n",
       "      <td>228</td>\n",
       "      <td>0</td>\n",
       "      <td>0</td>\n",
       "      <td>24</td>\n",
       "      <td>2</td>\n",
       "      <td>0</td>\n",
       "      <td>0</td>\n",
       "      <td>1</td>\n",
       "      <td>1</td>\n",
       "      <td>5068</td>\n",
       "      <td>1</td>\n",
       "    </tr>\n",
       "    <tr>\n",
       "      <td>1</td>\n",
       "      <td>1</td>\n",
       "      <td>3258</td>\n",
       "      <td>1177</td>\n",
       "      <td>217</td>\n",
       "      <td>2</td>\n",
       "      <td>0</td>\n",
       "      <td>23</td>\n",
       "      <td>1</td>\n",
       "      <td>743</td>\n",
       "      <td>0</td>\n",
       "      <td>0</td>\n",
       "      <td>1</td>\n",
       "      <td>5639</td>\n",
       "      <td>0</td>\n",
       "    </tr>\n",
       "    <tr>\n",
       "      <td>2</td>\n",
       "      <td>2</td>\n",
       "      <td>2104</td>\n",
       "      <td>2040</td>\n",
       "      <td>111</td>\n",
       "      <td>0</td>\n",
       "      <td>0</td>\n",
       "      <td>24</td>\n",
       "      <td>8</td>\n",
       "      <td>5793</td>\n",
       "      <td>2</td>\n",
       "      <td>1</td>\n",
       "      <td>0</td>\n",
       "      <td>5707</td>\n",
       "      <td>1</td>\n",
       "    </tr>\n",
       "    <tr>\n",
       "      <td>3</td>\n",
       "      <td>3</td>\n",
       "      <td>5435</td>\n",
       "      <td>289</td>\n",
       "      <td>308</td>\n",
       "      <td>0</td>\n",
       "      <td>0</td>\n",
       "      <td>21</td>\n",
       "      <td>1</td>\n",
       "      <td>0</td>\n",
       "      <td>1</td>\n",
       "      <td>0</td>\n",
       "      <td>0</td>\n",
       "      <td>4704</td>\n",
       "      <td>0</td>\n",
       "    </tr>\n",
       "    <tr>\n",
       "      <td>4</td>\n",
       "      <td>4</td>\n",
       "      <td>6899</td>\n",
       "      <td>1822</td>\n",
       "      <td>459</td>\n",
       "      <td>2</td>\n",
       "      <td>0</td>\n",
       "      <td>25</td>\n",
       "      <td>2</td>\n",
       "      <td>3696</td>\n",
       "      <td>0</td>\n",
       "      <td>1</td>\n",
       "      <td>1</td>\n",
       "      <td>3925</td>\n",
       "      <td>0</td>\n",
       "    </tr>\n",
       "  </tbody>\n",
       "</table>\n",
       "</div>"
      ],
      "text/plain": [
       "   RowNumber  CustomerId  Surname  CreditScore  Geography  Gender  Age  \\\n",
       "0          0        2736     1115          228          0       0   24   \n",
       "1          1        3258     1177          217          2       0   23   \n",
       "2          2        2104     2040          111          0       0   24   \n",
       "3          3        5435      289          308          0       0   21   \n",
       "4          4        6899     1822          459          2       0   25   \n",
       "\n",
       "   Tenure  Balance  NumOfProducts  HasCrCard  IsActiveMember  EstimatedSalary  \\\n",
       "0       2        0              0          1               1             5068   \n",
       "1       1      743              0          0               1             5639   \n",
       "2       8     5793              2          1               0             5707   \n",
       "3       1        0              1          0               0             4704   \n",
       "4       2     3696              0          1               1             3925   \n",
       "\n",
       "   Exited  \n",
       "0       1  \n",
       "1       0  \n",
       "2       1  \n",
       "3       0  \n",
       "4       0  "
      ]
     },
     "execution_count": 4,
     "metadata": {},
     "output_type": "execute_result"
    }
   ],
   "source": [
    "enc = LabelEncoder()\n",
    "df = df.apply(enc.fit_transform)\n",
    "df.head()"
   ]
  },
  {
   "cell_type": "code",
   "execution_count": 5,
   "metadata": {},
   "outputs": [
    {
     "data": {
      "text/plain": [
       "459    233\n",
       "287     63\n",
       "264     54\n",
       "314     53\n",
       "276     53\n",
       "      ... \n",
       "51       1\n",
       "4        1\n",
       "14       1\n",
       "6        1\n",
       "49       1\n",
       "Name: CreditScore, Length: 460, dtype: int64"
      ]
     },
     "execution_count": 5,
     "metadata": {},
     "output_type": "execute_result"
    }
   ],
   "source": [
    "df.CreditScore.value_counts()"
   ]
  },
  {
   "cell_type": "code",
   "execution_count": 6,
   "metadata": {},
   "outputs": [
    {
     "data": {
      "text/plain": [
       "19    478\n",
       "20    477\n",
       "17    474\n",
       "18    456\n",
       "16    447\n",
       "     ... \n",
       "69      2\n",
       "65      1\n",
       "64      1\n",
       "67      1\n",
       "68      1\n",
       "Name: Age, Length: 70, dtype: int64"
      ]
     },
     "execution_count": 6,
     "metadata": {},
     "output_type": "execute_result"
    }
   ],
   "source": [
    "df.Age.value_counts()"
   ]
  },
  {
   "cell_type": "code",
   "execution_count": 7,
   "metadata": {},
   "outputs": [
    {
     "data": {
      "text/plain": [
       "(10000, 14)"
      ]
     },
     "execution_count": 7,
     "metadata": {},
     "output_type": "execute_result"
    }
   ],
   "source": [
    "df.shape"
   ]
  },
  {
   "cell_type": "code",
   "execution_count": 8,
   "metadata": {},
   "outputs": [
    {
     "name": "stderr",
     "output_type": "stream",
     "text": [
      "C:\\Users\\HarunPininggit\\Anaconda3\\lib\\site-packages\\ipykernel_launcher.py:1: FutureWarning: \n",
      ".ix is deprecated. Please use\n",
      ".loc for label based indexing or\n",
      ".iloc for positional indexing\n",
      "\n",
      "See the documentation here:\n",
      "http://pandas.pydata.org/pandas-docs/stable/user_guide/indexing.html#ix-indexer-is-deprecated\n",
      "  \"\"\"Entry point for launching an IPython kernel.\n",
      "C:\\Users\\HarunPininggit\\Anaconda3\\lib\\site-packages\\pandas\\core\\indexing.py:822: FutureWarning: \n",
      ".ix is deprecated. Please use\n",
      ".loc for label based indexing or\n",
      ".iloc for positional indexing\n",
      "\n",
      "See the documentation here:\n",
      "http://pandas.pydata.org/pandas-docs/stable/user_guide/indexing.html#ix-indexer-is-deprecated\n",
      "  retval = getattr(retval, self.name)._getitem_axis(key, axis=i)\n",
      "C:\\Users\\HarunPininggit\\Anaconda3\\lib\\site-packages\\ipykernel_launcher.py:2: FutureWarning: \n",
      ".ix is deprecated. Please use\n",
      ".loc for label based indexing or\n",
      ".iloc for positional indexing\n",
      "\n",
      "See the documentation here:\n",
      "http://pandas.pydata.org/pandas-docs/stable/user_guide/indexing.html#ix-indexer-is-deprecated\n",
      "  \n"
     ]
    }
   ],
   "source": [
    "x = np.array(df.ix[:, :13])\n",
    "y = np.array(df.ix[:, 13])"
   ]
  },
  {
   "cell_type": "code",
   "execution_count": 9,
   "metadata": {},
   "outputs": [
    {
     "data": {
      "text/html": [
       "<div>\n",
       "<style scoped>\n",
       "    .dataframe tbody tr th:only-of-type {\n",
       "        vertical-align: middle;\n",
       "    }\n",
       "\n",
       "    .dataframe tbody tr th {\n",
       "        vertical-align: top;\n",
       "    }\n",
       "\n",
       "    .dataframe thead th {\n",
       "        text-align: right;\n",
       "    }\n",
       "</style>\n",
       "<table border=\"1\" class=\"dataframe\">\n",
       "  <thead>\n",
       "    <tr style=\"text-align: right;\">\n",
       "      <th></th>\n",
       "      <th>RowNumber</th>\n",
       "      <th>CustomerId</th>\n",
       "      <th>Surname</th>\n",
       "      <th>CreditScore</th>\n",
       "      <th>Geography</th>\n",
       "      <th>Gender</th>\n",
       "      <th>Age</th>\n",
       "      <th>Tenure</th>\n",
       "      <th>Balance</th>\n",
       "      <th>NumOfProducts</th>\n",
       "      <th>HasCrCard</th>\n",
       "      <th>IsActiveMember</th>\n",
       "      <th>EstimatedSalary</th>\n",
       "      <th>Exited</th>\n",
       "    </tr>\n",
       "  </thead>\n",
       "  <tbody>\n",
       "    <tr>\n",
       "      <td>count</td>\n",
       "      <td>10000.00000</td>\n",
       "      <td>10000.00000</td>\n",
       "      <td>10000.000000</td>\n",
       "      <td>10000.000000</td>\n",
       "      <td>10000.000000</td>\n",
       "      <td>10000.000000</td>\n",
       "      <td>10000.000000</td>\n",
       "      <td>10000.000000</td>\n",
       "      <td>10000.000000</td>\n",
       "      <td>10000.000000</td>\n",
       "      <td>10000.00000</td>\n",
       "      <td>10000.000000</td>\n",
       "      <td>10000.000000</td>\n",
       "      <td>10000.000000</td>\n",
       "    </tr>\n",
       "    <tr>\n",
       "      <td>mean</td>\n",
       "      <td>4999.50000</td>\n",
       "      <td>4999.50000</td>\n",
       "      <td>1507.774200</td>\n",
       "      <td>259.584600</td>\n",
       "      <td>0.746300</td>\n",
       "      <td>0.545700</td>\n",
       "      <td>20.920600</td>\n",
       "      <td>5.012800</td>\n",
       "      <td>2036.788100</td>\n",
       "      <td>0.530200</td>\n",
       "      <td>0.70550</td>\n",
       "      <td>0.515100</td>\n",
       "      <td>4998.621200</td>\n",
       "      <td>0.203700</td>\n",
       "    </tr>\n",
       "    <tr>\n",
       "      <td>std</td>\n",
       "      <td>2886.89568</td>\n",
       "      <td>2886.89568</td>\n",
       "      <td>846.204311</td>\n",
       "      <td>96.496107</td>\n",
       "      <td>0.827529</td>\n",
       "      <td>0.497932</td>\n",
       "      <td>10.482065</td>\n",
       "      <td>2.892174</td>\n",
       "      <td>2125.232536</td>\n",
       "      <td>0.581654</td>\n",
       "      <td>0.45584</td>\n",
       "      <td>0.499797</td>\n",
       "      <td>2886.711202</td>\n",
       "      <td>0.402769</td>\n",
       "    </tr>\n",
       "    <tr>\n",
       "      <td>min</td>\n",
       "      <td>0.00000</td>\n",
       "      <td>0.00000</td>\n",
       "      <td>0.000000</td>\n",
       "      <td>0.000000</td>\n",
       "      <td>0.000000</td>\n",
       "      <td>0.000000</td>\n",
       "      <td>0.000000</td>\n",
       "      <td>0.000000</td>\n",
       "      <td>0.000000</td>\n",
       "      <td>0.000000</td>\n",
       "      <td>0.00000</td>\n",
       "      <td>0.000000</td>\n",
       "      <td>0.000000</td>\n",
       "      <td>0.000000</td>\n",
       "    </tr>\n",
       "    <tr>\n",
       "      <td>25%</td>\n",
       "      <td>2499.75000</td>\n",
       "      <td>2499.75000</td>\n",
       "      <td>773.750000</td>\n",
       "      <td>193.000000</td>\n",
       "      <td>0.000000</td>\n",
       "      <td>0.000000</td>\n",
       "      <td>14.000000</td>\n",
       "      <td>3.000000</td>\n",
       "      <td>0.000000</td>\n",
       "      <td>0.000000</td>\n",
       "      <td>0.00000</td>\n",
       "      <td>0.000000</td>\n",
       "      <td>2498.750000</td>\n",
       "      <td>0.000000</td>\n",
       "    </tr>\n",
       "    <tr>\n",
       "      <td>50%</td>\n",
       "      <td>4999.50000</td>\n",
       "      <td>4999.50000</td>\n",
       "      <td>1542.000000</td>\n",
       "      <td>261.000000</td>\n",
       "      <td>0.000000</td>\n",
       "      <td>1.000000</td>\n",
       "      <td>19.000000</td>\n",
       "      <td>5.000000</td>\n",
       "      <td>1383.500000</td>\n",
       "      <td>0.000000</td>\n",
       "      <td>1.00000</td>\n",
       "      <td>1.000000</td>\n",
       "      <td>4998.500000</td>\n",
       "      <td>0.000000</td>\n",
       "    </tr>\n",
       "    <tr>\n",
       "      <td>75%</td>\n",
       "      <td>7499.25000</td>\n",
       "      <td>7499.25000</td>\n",
       "      <td>2238.250000</td>\n",
       "      <td>327.000000</td>\n",
       "      <td>1.000000</td>\n",
       "      <td>1.000000</td>\n",
       "      <td>26.000000</td>\n",
       "      <td>7.000000</td>\n",
       "      <td>3882.250000</td>\n",
       "      <td>1.000000</td>\n",
       "      <td>1.00000</td>\n",
       "      <td>1.000000</td>\n",
       "      <td>7498.250000</td>\n",
       "      <td>0.000000</td>\n",
       "    </tr>\n",
       "    <tr>\n",
       "      <td>max</td>\n",
       "      <td>9999.00000</td>\n",
       "      <td>9999.00000</td>\n",
       "      <td>2931.000000</td>\n",
       "      <td>459.000000</td>\n",
       "      <td>2.000000</td>\n",
       "      <td>1.000000</td>\n",
       "      <td>69.000000</td>\n",
       "      <td>10.000000</td>\n",
       "      <td>6381.000000</td>\n",
       "      <td>3.000000</td>\n",
       "      <td>1.00000</td>\n",
       "      <td>1.000000</td>\n",
       "      <td>9998.000000</td>\n",
       "      <td>1.000000</td>\n",
       "    </tr>\n",
       "  </tbody>\n",
       "</table>\n",
       "</div>"
      ],
      "text/plain": [
       "         RowNumber   CustomerId       Surname   CreditScore     Geography  \\\n",
       "count  10000.00000  10000.00000  10000.000000  10000.000000  10000.000000   \n",
       "mean    4999.50000   4999.50000   1507.774200    259.584600      0.746300   \n",
       "std     2886.89568   2886.89568    846.204311     96.496107      0.827529   \n",
       "min        0.00000      0.00000      0.000000      0.000000      0.000000   \n",
       "25%     2499.75000   2499.75000    773.750000    193.000000      0.000000   \n",
       "50%     4999.50000   4999.50000   1542.000000    261.000000      0.000000   \n",
       "75%     7499.25000   7499.25000   2238.250000    327.000000      1.000000   \n",
       "max     9999.00000   9999.00000   2931.000000    459.000000      2.000000   \n",
       "\n",
       "             Gender           Age        Tenure       Balance  NumOfProducts  \\\n",
       "count  10000.000000  10000.000000  10000.000000  10000.000000   10000.000000   \n",
       "mean       0.545700     20.920600      5.012800   2036.788100       0.530200   \n",
       "std        0.497932     10.482065      2.892174   2125.232536       0.581654   \n",
       "min        0.000000      0.000000      0.000000      0.000000       0.000000   \n",
       "25%        0.000000     14.000000      3.000000      0.000000       0.000000   \n",
       "50%        1.000000     19.000000      5.000000   1383.500000       0.000000   \n",
       "75%        1.000000     26.000000      7.000000   3882.250000       1.000000   \n",
       "max        1.000000     69.000000     10.000000   6381.000000       3.000000   \n",
       "\n",
       "         HasCrCard  IsActiveMember  EstimatedSalary        Exited  \n",
       "count  10000.00000    10000.000000     10000.000000  10000.000000  \n",
       "mean       0.70550        0.515100      4998.621200      0.203700  \n",
       "std        0.45584        0.499797      2886.711202      0.402769  \n",
       "min        0.00000        0.000000         0.000000      0.000000  \n",
       "25%        0.00000        0.000000      2498.750000      0.000000  \n",
       "50%        1.00000        1.000000      4998.500000      0.000000  \n",
       "75%        1.00000        1.000000      7498.250000      0.000000  \n",
       "max        1.00000        1.000000      9998.000000      1.000000  "
      ]
     },
     "execution_count": 9,
     "metadata": {},
     "output_type": "execute_result"
    }
   ],
   "source": [
    "df.describe()"
   ]
  },
  {
   "cell_type": "code",
   "execution_count": 10,
   "metadata": {},
   "outputs": [],
   "source": [
    "IsActiveMember = df[df.Exited==0]\n",
    "HasCrCard = df[df.Exited==1]"
   ]
  },
  {
   "cell_type": "code",
   "execution_count": 11,
   "metadata": {},
   "outputs": [
    {
     "data": {
      "text/plain": [
       "Text(0, 0.5, 'Frequency')"
      ]
     },
     "execution_count": 11,
     "metadata": {},
     "output_type": "execute_result"
    },
    {
     "data": {
      "image/png": "[encoded data removed]",
      "text/plain": [
       "<Figure size 432x288 with 1 Axes>"
      ]
     },
     "metadata": {
      "needs_background": "light"
     },
     "output_type": "display_data"
    }
   ],
   "source": [
    "labels = ['NumOfProducts','HasCrCard','Exited']\n",
    "classes = pd.value_counts(df['Exited'], sort = True)\n",
    "classes.plot(kind = 'bar', rot=0)\n",
    "plt.title(\"Transaction Label distribution\")\n",
    "plt.xticks(range(3), labels)\n",
    "plt.xlabel(\"Exited\")\n",
    "plt.ylabel(\"Frequency\")"
   ]
  },
  {
   "cell_type": "markdown",
   "metadata": {},
   "source": [
    "## HISTOGRAM\n",
    "Histogram adalah plot yang memungkinkan dapat menemukan dan menunjukkan distribusi frekuensi (bentuk) yang mendasari serangkaian data.\n",
    "\n",
    "hist() befungsi untuk menemukan dan menunjukan distribusi frekuensi berdasarkan serangkaian data, dan plt.show() berfungsi untuk menampilkannya dalam bentuk grafik."
   ]
  },
  {
   "cell_type": "code",
   "execution_count": 12,
   "metadata": {},
   "outputs": [
    {
     "data": {
      "image/png": "[encoded data removed]",
      "text/plain": [
       "<Figure size 1080x1080 with 16 Axes>"
      ]
     },
     "metadata": {
      "needs_background": "light"
     },
     "output_type": "display_data"
    }
   ],
   "source": [
    "df.hist(figsize=(15,15))\n",
    "plt.show()"
   ]
  },
  {
   "cell_type": "markdown",
   "metadata": {},
   "source": [
    "## BOX PLOT\n",
    "Penyajian grafis lainnya yang bisa merangkum informasi lebih detail mengenai distribusi nilai-nilai data pengamatan adalah Box and Whisker Plots atau lebih sering disebut dengan BoxPlot. Seperti namanya, Box and Whisker, bentuknya terdiri dari Box (kotak) dan Whisker. Boxplot merupakan ringkasan distribusi sampel yang disajikan secara grafis yang bisa menggambarkan bentuk distribusi data (skewness), ukuran tendensi sentral dan ukuran penyebaran (keragaman) data pengamatan. "
   ]
  },
  {
   "cell_type": "code",
   "execution_count": 13,
   "metadata": {},
   "outputs": [
    {
     "data": {
      "text/plain": [
       "RowNumber             AxesSubplot(0.125,0.821923;0.168478x0.0580769)\n",
       "CustomerId         AxesSubplot(0.327174,0.821923;0.168478x0.0580769)\n",
       "Surname            AxesSubplot(0.529348,0.821923;0.168478x0.0580769)\n",
       "CreditScore        AxesSubplot(0.731522,0.821923;0.168478x0.0580769)\n",
       "Geography             AxesSubplot(0.125,0.752231;0.168478x0.0580769)\n",
       "Gender             AxesSubplot(0.327174,0.752231;0.168478x0.0580769)\n",
       "Age                AxesSubplot(0.529348,0.752231;0.168478x0.0580769)\n",
       "Tenure             AxesSubplot(0.731522,0.752231;0.168478x0.0580769)\n",
       "Balance               AxesSubplot(0.125,0.682538;0.168478x0.0580769)\n",
       "NumOfProducts      AxesSubplot(0.327174,0.682538;0.168478x0.0580769)\n",
       "HasCrCard          AxesSubplot(0.529348,0.682538;0.168478x0.0580769)\n",
       "IsActiveMember     AxesSubplot(0.731522,0.682538;0.168478x0.0580769)\n",
       "EstimatedSalary       AxesSubplot(0.125,0.612846;0.168478x0.0580769)\n",
       "Exited             AxesSubplot(0.327174,0.612846;0.168478x0.0580769)\n",
       "dtype: object"
      ]
     },
     "execution_count": 13,
     "metadata": {},
     "output_type": "execute_result"
    },
    {
     "data": {
      "image/png": "[encoded data removed]",
      "text/plain": [
       "<Figure size 1440x3960 with 44 Axes>"
      ]
     },
     "metadata": {
      "needs_background": "light"
     },
     "output_type": "display_data"
    }
   ],
   "source": [
    "df.plot(kind='box', subplots=True, layout=(11,4), sharex=False, sharey=False, figsize=(20,55))"
   ]
  },
  {
   "cell_type": "markdown",
   "metadata": {},
   "source": [
    "## FEATURE NORMALIZATION\n",
    "Normalisasi adalah konsep penting lainnya yang diperlukan untuk mengubah semua fitur ke skala yang sama. Hal ini memungkinkan konvergensi yang lebih cepat pada pembelajaran, dan pengaruh yang lebih seragam untuk semua bobot. Dalam hal ini digunakan MinMaxScaler yang mengubah fitur dengan penskalaan setiap fitur ke rentang yang diberikan (menjadi antara 0 dan 1)."
   ]
  },
  {
   "cell_type": "code",
   "execution_count": 14,
   "metadata": {},
   "outputs": [
    {
     "name": "stdout",
     "output_type": "stream",
     "text": [
      "[0 0 0 ... 0 1 0]\n"
     ]
    }
   ],
   "source": [
    "print(y)"
   ]
  },
  {
   "cell_type": "code",
   "execution_count": 15,
   "metadata": {},
   "outputs": [],
   "source": [
    "from sklearn.model_selection import train_test_split"
   ]
  },
  {
   "cell_type": "code",
   "execution_count": 16,
   "metadata": {},
   "outputs": [],
   "source": [
    "x_train, x_test, y_train, y_test = train_test_split(\n",
    "    x, y, test_size=0.5, random_state=2)"
   ]
  },
  {
   "cell_type": "markdown",
   "metadata": {},
   "source": [
    "## SEQUENTIAL MODEL\n",
    "Model Sekuensial adalah tumpukan lapisan linear. Dalam menentukan bentuk masukan, model perlu tahu bentuk masukan apa yang diharapkan. Lapisan pertama dalam model Sequential (dan hanya yang pertama, karena lapisan berikutnya dapat melakukan inferensi bentuk otomatis) perlu menerima informasi tentang bentuk inputnya. Kemudian untuk menambahkan lapisan cukup dengan menambahkan perintah add.Dalam hal ini, terdapat input layer, hidden layer, dan output layer. Dimana ada yang menggunakan Rectified Linear Unit atau yang dikenal sebagai ReLU, adalah cara paling umum dan dasar untuk memperkenalkan non-linearitas ke dalam jaringan saraf. Fungsi ini hanya max (0, x), dan Sigmoid yang merupakan fungsi aktivasi berkelanjutan dan smooth yang paling umum."
   ]
  },
  {
   "cell_type": "code",
   "execution_count": 17,
   "metadata": {},
   "outputs": [],
   "source": [
    "model = Sequential()\n",
    "model.add(Dense(units= 150, input_dim =5 , activation='relu'))\n",
    "model.add(Dense(units= 202, activation='relu'))\n",
    "model.add(Dense(units= 50, activation='relu'))\n",
    "model.add(Dense(units= 1, activation='sigmoid'))"
   ]
  },
  {
   "cell_type": "code",
   "execution_count": 18,
   "metadata": {},
   "outputs": [
    {
     "name": "stdout",
     "output_type": "stream",
     "text": [
      "Model: \"sequential_1\"\n",
      "_________________________________________________________________\n",
      "Layer (type)                 Output Shape              Param #   \n",
      "=================================================================\n",
      "dense_1 (Dense)              (None, 150)               900       \n",
      "_________________________________________________________________\n",
      "dense_2 (Dense)              (None, 202)               30502     \n",
      "_________________________________________________________________\n",
      "dense_3 (Dense)              (None, 50)                10150     \n",
      "_________________________________________________________________\n",
      "dense_4 (Dense)              (None, 1)                 51        \n",
      "=================================================================\n",
      "Total params: 41,603\n",
      "Trainable params: 41,603\n",
      "Non-trainable params: 0\n",
      "_________________________________________________________________\n"
     ]
    }
   ],
   "source": [
    "model.summary()"
   ]
  },
  {
   "cell_type": "markdown",
   "metadata": {},
   "source": [
    "summary() berfungsi untuk menampilkan ringkasan parameter berdasarkan layer dan output shape."
   ]
  },
  {
   "cell_type": "code",
   "execution_count": 19,
   "metadata": {},
   "outputs": [
    {
     "name": "stdout",
     "output_type": "stream",
     "text": [
      "WARNING:tensorflow:From C:\\Users\\HarunPininggit\\Anaconda3\\lib\\site-packages\\tensorflow\\python\\ops\\nn_impl.py:180: add_dispatch_support.<locals>.wrapper (from tensorflow.python.ops.array_ops) is deprecated and will be removed in a future version.\n",
      "Instructions for updating:\n",
      "Use tf.where in 2.0, which has the same broadcast rule as np.where\n"
     ]
    }
   ],
   "source": [
    "model.compile(optimizer=Adam(lr=0.001), loss='binary_crossentropy', metrics=['accuracy'])"
   ]
  },
  {
   "cell_type": "markdown",
   "metadata": {},
   "source": [
    "compile() berfungsi mengembalikan objek kode Python dari sumber (string normal, string byte, atau objek AST). Dalam hal ini menggunakan optimizer adam dan categorical loss yaitu binary crossentropy."
   ]
  },
  {
   "cell_type": "markdown",
   "metadata": {},
   "source": [
    "## ACCURACY "
   ]
  },
  {
   "cell_type": "code",
   "execution_count": 20,
   "metadata": {},
   "outputs": [
    {
     "name": "stdout",
     "output_type": "stream",
     "text": [
      "WARNING:tensorflow:From C:\\Users\\HarunPininggit\\Anaconda3\\lib\\site-packages\\keras\\backend\\tensorflow_backend.py:422: The name tf.global_variables is deprecated. Please use tf.compat.v1.global_variables instead.\n",
      "\n",
      "Train on 5000 samples, validate on 5000 samples\n",
      "Epoch 1/100\n",
      "5000/5000 [==============================] - 1s 203us/step - loss: 20.8420 - accuracy: 0.5058 - val_loss: 11.3502 - val_accuracy: 0.5274\n",
      "Epoch 2/100\n",
      "5000/5000 [==============================] - 1s 139us/step - loss: 9.7944 - accuracy: 0.5034 - val_loss: 9.5053 - val_accuracy: 0.5392\n",
      "Epoch 3/100\n",
      "5000/5000 [==============================] - 1s 166us/step - loss: 7.3738 - accuracy: 0.5040 - val_loss: 5.1252 - val_accuracy: 0.4550\n",
      "Epoch 4/100\n",
      "5000/5000 [==============================] - 1s 155us/step - loss: 5.3320 - accuracy: 0.5136 - val_loss: 5.3965 - val_accuracy: 0.5548\n",
      "Epoch 5/100\n",
      "5000/5000 [==============================] - 1s 155us/step - loss: 3.7615 - accuracy: 0.5080 - val_loss: 2.8479 - val_accuracy: 0.4986\n",
      "Epoch 6/100\n",
      "5000/5000 [==============================] - 1s 152us/step - loss: 2.0461 - accuracy: 0.5200 - val_loss: 2.4765 - val_accuracy: 0.4548\n",
      "Epoch 7/100\n",
      "5000/5000 [==============================] - 1s 154us/step - loss: 2.6878 - accuracy: 0.4974 - val_loss: 1.9013 - val_accuracy: 0.4986\n",
      "Epoch 8/100\n",
      "5000/5000 [==============================] - 1s 155us/step - loss: 2.0000 - accuracy: 0.5256 - val_loss: 1.6411 - val_accuracy: 0.4972\n",
      "Epoch 9/100\n",
      "5000/5000 [==============================] - 1s 198us/step - loss: 2.1276 - accuracy: 0.5126 - val_loss: 2.8855 - val_accuracy: 0.4788\n",
      "Epoch 10/100\n",
      "5000/5000 [==============================] - 1s 193us/step - loss: 1.9391 - accuracy: 0.5060 - val_loss: 1.1526 - val_accuracy: 0.5106\n",
      "Epoch 11/100\n",
      "5000/5000 [==============================] - 1s 200us/step - loss: 1.7162 - accuracy: 0.5210 - val_loss: 1.4043 - val_accuracy: 0.5528\n",
      "Epoch 12/100\n",
      "5000/5000 [==============================] - 1s 187us/step - loss: 1.1300 - accuracy: 0.5020 - val_loss: 0.8912 - val_accuracy: 0.5526\n",
      "Epoch 13/100\n",
      "5000/5000 [==============================] - 1s 156us/step - loss: 1.2413 - accuracy: 0.5128 - val_loss: 0.9636 - val_accuracy: 0.5452\n",
      "Epoch 14/100\n",
      "5000/5000 [==============================] - 1s 156us/step - loss: 1.1394 - accuracy: 0.5040 - val_loss: 3.3581 - val_accuracy: 0.4572\n",
      "Epoch 15/100\n",
      "5000/5000 [==============================] - 1s 167us/step - loss: 1.1569 - accuracy: 0.5118 - val_loss: 1.0429 - val_accuracy: 0.5098\n",
      "Epoch 16/100\n",
      "5000/5000 [==============================] - 1s 151us/step - loss: 1.0711 - accuracy: 0.5144 - val_loss: 0.8762 - val_accuracy: 0.4550\n",
      "Epoch 17/100\n",
      "5000/5000 [==============================] - 1s 156us/step - loss: 0.8961 - accuracy: 0.5218 - val_loss: 1.0839 - val_accuracy: 0.4536\n",
      "Epoch 18/100\n",
      "5000/5000 [==============================] - 1s 163us/step - loss: 0.9753 - accuracy: 0.5136 - val_loss: 0.7277 - val_accuracy: 0.5226\n",
      "Epoch 19/100\n",
      "5000/5000 [==============================] - 1s 160us/step - loss: 0.8317 - accuracy: 0.5116 - val_loss: 0.8633 - val_accuracy: 0.4588\n",
      "Epoch 20/100\n",
      "5000/5000 [==============================] - 1s 164us/step - loss: 0.8078 - accuracy: 0.5136 - val_loss: 0.9761 - val_accuracy: 0.4554\n",
      "Epoch 21/100\n",
      "5000/5000 [==============================] - 1s 164us/step - loss: 0.8408 - accuracy: 0.5132 - val_loss: 0.7730 - val_accuracy: 0.5282\n",
      "Epoch 22/100\n",
      "5000/5000 [==============================] - 1s 162us/step - loss: 0.7900 - accuracy: 0.5252 - val_loss: 0.7624 - val_accuracy: 0.5378\n",
      "Epoch 23/100\n",
      "5000/5000 [==============================] - 1s 164us/step - loss: 0.7850 - accuracy: 0.5100 - val_loss: 0.7582 - val_accuracy: 0.5076\n",
      "Epoch 24/100\n",
      "5000/5000 [==============================] - 1s 164us/step - loss: 0.7932 - accuracy: 0.5064 - val_loss: 0.7361 - val_accuracy: 0.5424\n",
      "Epoch 25/100\n",
      "5000/5000 [==============================] - 1s 163us/step - loss: 0.7809 - accuracy: 0.4986 - val_loss: 0.6972 - val_accuracy: 0.5422\n",
      "Epoch 26/100\n",
      "5000/5000 [==============================] - 1s 164us/step - loss: 0.7323 - accuracy: 0.5134 - val_loss: 0.8607 - val_accuracy: 0.4516\n",
      "Epoch 27/100\n",
      "5000/5000 [==============================] - 1s 163us/step - loss: 0.7387 - accuracy: 0.5264 - val_loss: 0.7830 - val_accuracy: 0.4762\n",
      "Epoch 28/100\n",
      "5000/5000 [==============================] - 1s 193us/step - loss: 0.7283 - accuracy: 0.5216 - val_loss: 0.7936 - val_accuracy: 0.4530\n",
      "Epoch 29/100\n",
      "5000/5000 [==============================] - 1s 202us/step - loss: 0.7402 - accuracy: 0.5036 - val_loss: 0.7111 - val_accuracy: 0.5534\n",
      "Epoch 30/100\n",
      "5000/5000 [==============================] - 1s 199us/step - loss: 0.7156 - accuracy: 0.5154 - val_loss: 0.6922 - val_accuracy: 0.5274\n",
      "Epoch 31/100\n",
      "5000/5000 [==============================] - 1s 164us/step - loss: 0.7052 - accuracy: 0.5184 - val_loss: 0.7137 - val_accuracy: 0.4588\n",
      "Epoch 32/100\n",
      "5000/5000 [==============================] - 1s 163us/step - loss: 0.7085 - accuracy: 0.5306 - val_loss: 0.7227 - val_accuracy: 0.4560\n",
      "Epoch 33/100\n",
      "5000/5000 [==============================] - 1s 152us/step - loss: 0.6996 - accuracy: 0.5234 - val_loss: 0.6992 - val_accuracy: 0.5508\n",
      "Epoch 34/100\n",
      "5000/5000 [==============================] - 1s 155us/step - loss: 0.7067 - accuracy: 0.5158 - val_loss: 0.7143 - val_accuracy: 0.4710\n",
      "Epoch 35/100\n",
      "5000/5000 [==============================] - 1s 161us/step - loss: 0.7079 - accuracy: 0.5216 - val_loss: 0.6962 - val_accuracy: 0.5316\n",
      "Epoch 36/100\n",
      "5000/5000 [==============================] - 1s 134us/step - loss: 0.7095 - accuracy: 0.5198 - val_loss: 0.6927 - val_accuracy: 0.5392\n",
      "Epoch 37/100\n",
      "5000/5000 [==============================] - 1s 143us/step - loss: 0.6993 - accuracy: 0.5236 - val_loss: 0.6962 - val_accuracy: 0.5510\n",
      "Epoch 38/100\n",
      "5000/5000 [==============================] - 1s 133us/step - loss: 0.7012 - accuracy: 0.5178 - val_loss: 0.7135 - val_accuracy: 0.5522\n",
      "Epoch 39/100\n",
      "5000/5000 [==============================] - 1s 134us/step - loss: 0.6991 - accuracy: 0.5218 - val_loss: 0.6937 - val_accuracy: 0.5438\n",
      "Epoch 40/100\n",
      "5000/5000 [==============================] - 1s 143us/step - loss: 0.7162 - accuracy: 0.5202 - val_loss: 0.7095 - val_accuracy: 0.5532\n",
      "Epoch 41/100\n",
      "5000/5000 [==============================] - 1s 148us/step - loss: 0.7066 - accuracy: 0.5258 - val_loss: 0.7300 - val_accuracy: 0.5416\n",
      "Epoch 42/100\n",
      "5000/5000 [==============================] - 1s 149us/step - loss: 0.7037 - accuracy: 0.5116 - val_loss: 0.7075 - val_accuracy: 0.5518\n",
      "Epoch 43/100\n",
      "5000/5000 [==============================] - 1s 153us/step - loss: 0.7113 - accuracy: 0.5106 - val_loss: 0.7429 - val_accuracy: 0.4590\n",
      "Epoch 44/100\n",
      "5000/5000 [==============================] - 1s 164us/step - loss: 0.7198 - accuracy: 0.5110 - val_loss: 0.6934 - val_accuracy: 0.5450\n",
      "Epoch 45/100\n",
      "5000/5000 [==============================] - 1s 151us/step - loss: 0.6990 - accuracy: 0.5272 - val_loss: 0.7198 - val_accuracy: 0.4970\n",
      "Epoch 46/100\n",
      "5000/5000 [==============================] - 1s 149us/step - loss: 0.7050 - accuracy: 0.5086 - val_loss: 0.7155 - val_accuracy: 0.5508\n",
      "Epoch 47/100\n",
      "5000/5000 [==============================] - 1s 150us/step - loss: 0.6970 - accuracy: 0.5188 - val_loss: 0.6956 - val_accuracy: 0.5518\n",
      "Epoch 48/100\n",
      "5000/5000 [==============================] - 1s 186us/step - loss: 0.7076 - accuracy: 0.5120 - val_loss: 0.6934 - val_accuracy: 0.5496\n",
      "Epoch 49/100\n",
      "5000/5000 [==============================] - 1s 196us/step - loss: 0.6937 - accuracy: 0.5270 - val_loss: 0.6942 - val_accuracy: 0.5514\n",
      "Epoch 50/100\n",
      "5000/5000 [==============================] - 1s 204us/step - loss: 0.6930 - accuracy: 0.5378 - val_loss: 0.6908 - val_accuracy: 0.5452\n",
      "Epoch 51/100\n",
      "5000/5000 [==============================] - 1s 202us/step - loss: 0.6914 - accuracy: 0.5350 - val_loss: 0.6900 - val_accuracy: 0.5522\n",
      "Epoch 52/100\n",
      "5000/5000 [==============================] - 1s 178us/step - loss: 0.6912 - accuracy: 0.5376 - val_loss: 0.6895 - val_accuracy: 0.5512\n",
      "Epoch 53/100\n",
      "5000/5000 [==============================] - 1s 159us/step - loss: 0.6897 - accuracy: 0.5418 - val_loss: 0.6890 - val_accuracy: 0.5506\n",
      "Epoch 54/100\n",
      "5000/5000 [==============================] - 1s 137us/step - loss: 0.6901 - accuracy: 0.5376 - val_loss: 0.6892 - val_accuracy: 0.5522\n",
      "Epoch 55/100\n",
      "5000/5000 [==============================] - 1s 132us/step - loss: 0.6895 - accuracy: 0.5394 - val_loss: 0.6887 - val_accuracy: 0.5512\n",
      "Epoch 56/100\n",
      "5000/5000 [==============================] - 1s 134us/step - loss: 0.6895 - accuracy: 0.5372 - val_loss: 0.6893 - val_accuracy: 0.5514\n",
      "Epoch 57/100\n",
      "5000/5000 [==============================] - 1s 130us/step - loss: 0.6895 - accuracy: 0.5400 - val_loss: 0.6895 - val_accuracy: 0.5476\n",
      "Epoch 58/100\n",
      "5000/5000 [==============================] - 1s 138us/step - loss: 0.6888 - accuracy: 0.5400 - val_loss: 0.7003 - val_accuracy: 0.5452\n",
      "Epoch 59/100\n",
      "5000/5000 [==============================] - 1s 135us/step - loss: 0.6894 - accuracy: 0.5398 - val_loss: 0.6915 - val_accuracy: 0.5524\n",
      "Epoch 60/100\n",
      "5000/5000 [==============================] - 1s 136us/step - loss: 0.6889 - accuracy: 0.5394 - val_loss: 0.6918 - val_accuracy: 0.5518\n",
      "Epoch 61/100\n",
      "5000/5000 [==============================] - 1s 136us/step - loss: 0.6904 - accuracy: 0.5394 - val_loss: 0.6882 - val_accuracy: 0.5528\n",
      "Epoch 62/100\n",
      "5000/5000 [==============================] - 1s 135us/step - loss: 0.6919 - accuracy: 0.5386 - val_loss: 0.6886 - val_accuracy: 0.5538\n",
      "Epoch 63/100\n",
      "5000/5000 [==============================] - 1s 138us/step - loss: 0.7038 - accuracy: 0.5406 - val_loss: 0.6885 - val_accuracy: 0.5522\n",
      "Epoch 64/100\n",
      "5000/5000 [==============================] - 1s 133us/step - loss: 0.6895 - accuracy: 0.5392 - val_loss: 0.6887 - val_accuracy: 0.5526\n",
      "Epoch 65/100\n",
      "5000/5000 [==============================] - 1s 134us/step - loss: 0.6898 - accuracy: 0.5386 - val_loss: 0.6892 - val_accuracy: 0.5522\n",
      "Epoch 66/100\n",
      "5000/5000 [==============================] - 1s 138us/step - loss: 0.6895 - accuracy: 0.5394 - val_loss: 0.6886 - val_accuracy: 0.5538\n",
      "Epoch 67/100\n",
      "5000/5000 [==============================] - 1s 142us/step - loss: 0.6894 - accuracy: 0.5404 - val_loss: 0.6889 - val_accuracy: 0.5532\n",
      "Epoch 68/100\n",
      "5000/5000 [==============================] - 1s 148us/step - loss: 0.6903 - accuracy: 0.5376 - val_loss: 0.6893 - val_accuracy: 0.5526\n",
      "Epoch 69/100\n",
      "5000/5000 [==============================] - 1s 177us/step - loss: 0.6897 - accuracy: 0.5384 - val_loss: 0.6885 - val_accuracy: 0.5518\n",
      "Epoch 70/100\n",
      "5000/5000 [==============================] - 1s 194us/step - loss: 0.6896 - accuracy: 0.5390 - val_loss: 0.6885 - val_accuracy: 0.5522\n",
      "Epoch 71/100\n",
      "5000/5000 [==============================] - 1s 185us/step - loss: 0.6896 - accuracy: 0.5390 - val_loss: 0.6886 - val_accuracy: 0.5524\n",
      "Epoch 72/100\n",
      "5000/5000 [==============================] - 1s 182us/step - loss: 0.6895 - accuracy: 0.5386 - val_loss: 0.6886 - val_accuracy: 0.5524\n",
      "Epoch 73/100\n",
      "5000/5000 [==============================] - 1s 148us/step - loss: 0.6895 - accuracy: 0.5390 - val_loss: 0.6888 - val_accuracy: 0.5522\n",
      "Epoch 74/100\n",
      "5000/5000 [==============================] - 1s 148us/step - loss: 0.6896 - accuracy: 0.5390 - val_loss: 0.6889 - val_accuracy: 0.5522\n",
      "Epoch 75/100\n",
      "5000/5000 [==============================] - 1s 134us/step - loss: 0.6896 - accuracy: 0.5388 - val_loss: 0.6889 - val_accuracy: 0.5524\n",
      "Epoch 76/100\n",
      "5000/5000 [==============================] - 1s 136us/step - loss: 0.6895 - accuracy: 0.5390 - val_loss: 0.6891 - val_accuracy: 0.5520\n",
      "Epoch 77/100\n",
      "5000/5000 [==============================] - 1s 136us/step - loss: 0.6895 - accuracy: 0.5392 - val_loss: 0.6891 - val_accuracy: 0.5522\n",
      "Epoch 78/100\n",
      "5000/5000 [==============================] - 1s 158us/step - loss: 0.6895 - accuracy: 0.5390 - val_loss: 0.6892 - val_accuracy: 0.5526\n",
      "Epoch 79/100\n",
      "5000/5000 [==============================] - 1s 180us/step - loss: 0.6895 - accuracy: 0.5390 - val_loss: 0.6893 - val_accuracy: 0.5522\n",
      "Epoch 80/100\n",
      "5000/5000 [==============================] - 1s 170us/step - loss: 0.7322 - accuracy: 0.5368 - val_loss: 0.6876 - val_accuracy: 0.5526\n",
      "Epoch 81/100\n",
      "5000/5000 [==============================] - 1s 165us/step - loss: 0.6952 - accuracy: 0.5378 - val_loss: 0.6885 - val_accuracy: 0.5524\n",
      "Epoch 82/100\n",
      "5000/5000 [==============================] - 1s 163us/step - loss: 0.6896 - accuracy: 0.5390 - val_loss: 0.6895 - val_accuracy: 0.5524\n",
      "Epoch 83/100\n",
      "5000/5000 [==============================] - 1s 166us/step - loss: 0.6898 - accuracy: 0.5390 - val_loss: 0.6889 - val_accuracy: 0.5524\n",
      "Epoch 84/100\n",
      "5000/5000 [==============================] - 1s 166us/step - loss: 0.6896 - accuracy: 0.5390 - val_loss: 0.6889 - val_accuracy: 0.5522\n",
      "Epoch 85/100\n",
      "5000/5000 [==============================] - 1s 166us/step - loss: 0.6897 - accuracy: 0.5390 - val_loss: 0.7005 - val_accuracy: 0.5526\n",
      "Epoch 86/100\n",
      "5000/5000 [==============================] - 1s 160us/step - loss: 0.6905 - accuracy: 0.5388 - val_loss: 0.6909 - val_accuracy: 0.5524\n",
      "Epoch 87/100\n",
      "5000/5000 [==============================] - 1s 164us/step - loss: 0.6898 - accuracy: 0.5394 - val_loss: 0.6937 - val_accuracy: 0.5534\n",
      "Epoch 88/100\n",
      "5000/5000 [==============================] - 1s 166us/step - loss: 0.6904 - accuracy: 0.5390 - val_loss: 0.6891 - val_accuracy: 0.5522\n",
      "Epoch 89/100\n",
      "5000/5000 [==============================] - 1s 202us/step - loss: 0.6900 - accuracy: 0.5390 - val_loss: 0.6895 - val_accuracy: 0.5524\n",
      "Epoch 90/100\n",
      "5000/5000 [==============================] - 1s 190us/step - loss: 0.6898 - accuracy: 0.5390 - val_loss: 0.6888 - val_accuracy: 0.5522\n",
      "Epoch 91/100\n",
      "5000/5000 [==============================] - 1s 185us/step - loss: 0.7034 - accuracy: 0.5384 - val_loss: 0.6890 - val_accuracy: 0.5522\n",
      "Epoch 92/100\n",
      "5000/5000 [==============================] - 1s 156us/step - loss: 0.6904 - accuracy: 0.5388 - val_loss: 0.6880 - val_accuracy: 0.5524\n",
      "Epoch 93/100\n",
      "5000/5000 [==============================] - 1s 153us/step - loss: 0.6901 - accuracy: 0.5388 - val_loss: 0.6889 - val_accuracy: 0.5520\n",
      "Epoch 94/100\n",
      "5000/5000 [==============================] - 1s 161us/step - loss: 0.6900 - accuracy: 0.5390 - val_loss: 0.6886 - val_accuracy: 0.5520\n",
      "Epoch 95/100\n",
      "5000/5000 [==============================] - 1s 159us/step - loss: 0.6900 - accuracy: 0.5390 - val_loss: 0.6885 - val_accuracy: 0.5522\n",
      "Epoch 96/100\n",
      "5000/5000 [==============================] - 1s 164us/step - loss: 0.6901 - accuracy: 0.5386 - val_loss: 0.6882 - val_accuracy: 0.5524\n",
      "Epoch 97/100\n",
      "5000/5000 [==============================] - 1s 164us/step - loss: 0.6903 - accuracy: 0.5386 - val_loss: 0.6891 - val_accuracy: 0.5520\n",
      "Epoch 98/100\n",
      "5000/5000 [==============================] - 1s 158us/step - loss: 0.6894 - accuracy: 0.5390 - val_loss: 0.6897 - val_accuracy: 0.5522\n",
      "Epoch 99/100\n",
      "5000/5000 [==============================] - 1s 160us/step - loss: 0.6899 - accuracy: 0.5390 - val_loss: 0.6889 - val_accuracy: 0.5522\n",
      "Epoch 100/100\n",
      "5000/5000 [==============================] - 1s 159us/step - loss: 0.6897 - accuracy: 0.5390 - val_loss: 0.6892 - val_accuracy: 0.5520\n"
     ]
    }
   ],
   "source": [
    "acc_training = model.fit(x_train, y_train, validation_data=(x_test, y_test), batch_size=32, \n",
    "                         epochs=100)"
   ]
  },
  {
   "cell_type": "code",
   "execution_count": 21,
   "metadata": {},
   "outputs": [
    {
     "name": "stdout",
     "output_type": "stream",
     "text": [
      "5000/5000 [==============================] - 0s 50us/step\n"
     ]
    },
    {
     "data": {
      "text/plain": [
       "[0.6892182939529419, 0.5519999861717224]"
      ]
     },
     "execution_count": 21,
     "metadata": {},
     "output_type": "execute_result"
    }
   ],
   "source": [
    "acc_testing  = model.evaluate(x_test, y_test) \n",
    "acc_testing"
   ]
  },
  {
   "cell_type": "code",
   "execution_count": 22,
   "metadata": {},
   "outputs": [
    {
     "data": {
      "image/png": "[encoded data removed]",
      "text/plain": [
       "<Figure size 432x288 with 1 Axes>"
      ]
     },
     "metadata": {
      "needs_background": "light"
     },
     "output_type": "display_data"
    }
   ],
   "source": [
    "plt.plot(acc_training.history['accuracy'])\n",
    "plt.plot(acc_training.history['val_accuracy'])\n",
    "plt.title('model accuracy')\n",
    "plt.ylabel('Akurasi')\n",
    "plt.xlabel('Epoch')\n",
    "plt.legend(['Data training', 'Data Testing'], loc='upper left')\n",
    "plt.show()"
   ]
  },
  {
   "cell_type": "code",
   "execution_count": 23,
   "metadata": {},
   "outputs": [
    {
     "data": {
      "image/png": "[encoded data removed]",
      "text/plain": [
       "<Figure size 432x288 with 1 Axes>"
      ]
     },
     "metadata": {
      "needs_background": "light"
     },
     "output_type": "display_data"
    }
   ],
   "source": [
    "plt.plot(acc_training.history['loss'])\n",
    "plt.plot(acc_training.history['val_loss'])\n",
    "plt.title('Model Loss')\n",
    "plt.ylabel('Loss')\n",
    "plt.xlabel('Epoch')\n",
    "plt.legend(['Data training', 'Data Testing'], loc='upper left')\n",
    "plt.show()"
   ]
  },
  {
   "cell_type": "code",
   "execution_count": 29,
   "metadata": {},
   "outputs": [],
   "source": [
    "prediction = model.predict_classes(x_test)\n",
    "cm = confusion_matrix(y_test, prediction)\n",
    "tp = cm[0,0]\n",
    "tn = cm[1,1]\n",
    "fp = cm[0,1]\n",
    "fn = cm[1,0]"
   ]
  },
  {
   "cell_type": "markdown",
   "metadata": {},
   "source": [
    "## CONFUSION MATRIX\n",
    "Confusion matrix merupakan salah satu metode yang dapat digunakan untuk mengukur kinerja suatu metode klasifikasi. Pada dasarnya confusion matrix mengandung informasi yang membandingkan hasil klasifikasi yang dilakukan oleh sistem dengan hasil klasifikasi yang seharusnya."
   ]
  },
  {
   "cell_type": "code",
   "execution_count": 30,
   "metadata": {},
   "outputs": [
    {
     "name": "stdout",
     "output_type": "stream",
     "text": [
      "Confussion matriks:\n",
      " [[   0 2237]\n",
      " [   3 2760]]\n"
     ]
    }
   ],
   "source": [
    "print (\"Confussion matriks:\\n\",cm)"
   ]
  },
  {
   "cell_type": "code",
   "execution_count": 31,
   "metadata": {},
   "outputs": [
    {
     "name": "stderr",
     "output_type": "stream",
     "text": [
      "C:\\Users\\HarunPininggit\\Anaconda3\\lib\\site-packages\\ipykernel_launcher.py:3: RuntimeWarning: invalid value encountered in double_scalars\n",
      "  This is separate from the ipykernel package so we can avoid doing imports until\n"
     ]
    }
   ],
   "source": [
    "precision = tp / ( tp + fp)\n",
    "recall = tp/(tp+fn)\n",
    "f1=(2*precision*recall)/ (precision+recall)\n",
    "akurasi = (tp+tn)/(tp+tn+fp+fn)\n",
    "Sensitivity = tp/(tp + fn)"
   ]
  },
  {
   "cell_type": "code",
   "execution_count": 32,
   "metadata": {},
   "outputs": [
    {
     "name": "stdout",
     "output_type": "stream",
     "text": [
      "precesion :  0.0\n",
      "recall :  0.0\n",
      "F1 :  nan\n",
      "sensitivity :  0.0\n",
      "akurasi :  0.552\n"
     ]
    }
   ],
   "source": [
    "print (\"precesion : \",precision)\n",
    "print(\"recall : \",recall)\n",
    "print (\"F1 : \",f1)\n",
    "print(\"sensitivity : \",Sensitivity )\n",
    "print(\"akurasi : \",akurasi)"
   ]
  },
  {
   "cell_type": "markdown",
   "metadata": {},
   "source": [
    "![confusion](confusion.png)\n",
    "![matriks2](matriks2.png)\n",
    "dimana:\n",
    "1. TP adalah True Positive, yaitu jumlah data positif yang terklasifikasi dengan benar oleh sistem.\n",
    "2. TN adalah True Negative, yaitu jumlah data negatif yang terklasifikasi dengan benar oleh sistem.\n",
    "3. FN adalah False Negative, yaitu jumlah data negatif namun terklasifikasi salah oleh sistem.\n",
    "4. FP adalah False Positive, yaitu jumlah data positif namun terklasifikasi salah oleh sistem"
   ]
  },
  {
   "cell_type": "code",
   "execution_count": null,
   "metadata": {},
   "outputs": [],
   "source": []
  }
 ],
 "metadata": {
  "kernelspec": {
   "display_name": "Python 2",
   "language": "python",
   "name": "python2"
  },
  "language_info": {
   "codemirror_mode": {
    "name": "ipython",
    "version": 2
   },
   "file_extension": ".py",
   "mimetype": "text/x-python",
   "name": "python",
   "nbconvert_exporter": "python",
   "pygments_lexer": "ipython2",
   "version": "2.7.16"
  }
 },
 "nbformat": 4,
 "nbformat_minor": 2
}
