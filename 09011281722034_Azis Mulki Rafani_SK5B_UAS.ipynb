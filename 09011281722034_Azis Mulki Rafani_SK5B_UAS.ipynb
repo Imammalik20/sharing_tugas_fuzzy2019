{
 "cells": [
  {
   "cell_type": "markdown",
   "metadata": {},
   "source": [
    "<center><h1>KLASIFIKASI DATA INDIAN LIVER PATIENT DENGAN METODE ARTIFICAL NEURAL NETWORK</h1></center>\n"
   ]
  },
  {
   "cell_type": "markdown",
   "metadata": {},
   "source": [
    "<html>\n",
    "    <img src=\"https://report.unsri.ac.id/index.php/public/image/show/f10001/i0003/j0003/3\" width=200 align=\"center\"><img>\n",
    "</html>"
   ]
  },
  {
   "cell_type": "markdown",
   "metadata": {},
   "source": [
    "<font size=\"3\"><center><b>Azis Mulki Rafani</b> <font color=\"blue\">09011281722034</font></center></br>\n",
    "<center>Praktikum Kecerdasan Buatan <font color=\"blue\"><i>(AI)</i></font></center>\n",
    "<center>Sistem Komputer, Fakultas Ilmu Komputer </center>\n",
    "<center>Universitas Sriwijaya </center>\n",
    "<center>Email: <font color=\"blue\"><u>azismulki1@gmail.com</u></font></center></font>"
   ]
  },
  {
   "cell_type": "markdown",
   "metadata": {},
   "source": [
    "<html>\n",
    "    <img src=\"https://akademik.unsri.ac.id/images/foto_mhs/2017/09011281722034.jpg\" width=120 align=\"center\"><img>\n",
    "</html>"
   ]
  },
  {
   "cell_type": "markdown",
   "metadata": {},
   "source": [
    "<font size=\"3\"><center><b><font color=\"gray\">Sumber Paper : <a href=\"https://www.academia.edu/38004630/Klasifikasi_Data_Indian_Liver_Patient_dengan_Metode_Logistic_Regression_k-_Nearest_Neighbors_Adaptive_Boosting_dan_Support_Vector_Machine\" target=\"_blank\">Klik Disini</a>\n",
    "</font></b></center>\n",
    "\n",
    "<center><b><font color=\"gray\">Sumber Dataset : <a href=\"https://www.kaggle.com/uciml/indian-liver-patient-records\" target=\"_blank\">Klik Disini</a>\n",
    "</font></b></center></font>"
   ]
  },
  {
   "cell_type": "markdown",
   "metadata": {},
   "source": [
    "<h3>Abstrak</h3>\n",
    "<br>&nbsp; &nbsp; &nbsp; &nbsp; Penyakit liver atau yang biasa disebut hepatitis merupakan peradangan hati yang disebabkan oleh infeksi virus, bakteri atau bahan-bahan beracun sehingga hati tidak dapat melakukan fungsinya dengan baik. Permasalahan yang dihadapi dalam penanganan kasus penyakit liver adalah keterlambatan dalam pendeteksian penyakit. Untuk menanggulangi masalah tersebut, peneliti mencari metode dari Artificial neural network yang nantinya dapat digunakan untuk mendeteksi penyakit.</br>"
   ]
  },
  {
   "cell_type": "markdown",
   "metadata": {},
   "source": [
    "<h3>Pendahuluan</h3>\n",
    "<br>&nbsp; &nbsp; &nbsp; &nbsp; Liver merupakan salah satu organ yang cukup besar dan penting pada tubuh kita. Liver berfungsi untuk pembentukan dan sekresi empedu, tempat penyimpanan glikogen, sintesa urea, metabolisme kolesterol dan lemak, sintesa dan sekresi endokrin, detoksifikasi berbagai macam obat dan racun, membersihkan bakteri dari darah, memproses beberapa hormon steroid dan reservoir vitamin D, serta katabolisme hemoglobin dari sel darah merah yang tidak terpakai lagi </br>"
   ]
  },
  {
   "cell_type": "markdown",
   "metadata": {},
   "source": [
    "<html>\n",
    "    <img src=\"https://encrypted-tbn0.gstatic.com/images?q=tbn%3AANd9GcRnl4r_8UVA5V1gD-aF3xw2QmWxuIXC7PT-8MWchHObveU7YU12\" align=\"center\"> <img>\n",
    " </html>"
   ]
  },
  {
   "cell_type": "markdown",
   "metadata": {},
   "source": [
    "<div class=\"alert alert-success\" role=\"alert\">\n",
    "<h3>IMPORT LIBRARY</h3><br>   \n",
    "</div>"
   ]
  },
  {
   "cell_type": "code",
   "execution_count": 1,
   "metadata": {},
   "outputs": [
    {
     "name": "stderr",
     "output_type": "stream",
     "text": [
      "Using TensorFlow backend.\n"
     ]
    }
   ],
   "source": [
    "import keras\n",
    "import pandas as pd\n",
    "import matplotlib.pyplot as plt\n",
    "import sklearn\n",
    "from sklearn.preprocessing import MinMaxScaler\n",
    "from sklearn.model_selection import train_test_split \n",
    "from sklearn.preprocessing import LabelEncoder\n",
    "from keras.optimizers import Adam\n",
    "from keras.models import Sequential\n",
    "from keras.layers import Dense, Dropout\n",
    "from keras.activations import relu\n",
    "\n",
    "import scikitplot as skplt\n",
    "\n",
    "import numpy as np\n",
    "import seaborn as sns\n",
    "\n",
    "import warnings\n",
    "warnings.filterwarnings('ignore')"
   ]
  },
  {
   "cell_type": "markdown",
   "metadata": {},
   "source": [
    "<div class=\"alert alert-info\" role=\"alert\">\n",
    "    <h3>IMPORT PACKAGES</h3><br>\n",
    "\n",
    "Berikut ini adalah paket-paket yang digunakan antara lain :\n",
    "\n",
    "<ul type='a'>\n",
    "           <li>Keras Applications adalah salah satu modul dalam pustaka Keras yang menyediakan arsitektur berbagai model Deep Learning ternama. Model-model itu sudah dilatih out of the box. Dengan kata lain, menggunakan Keras Applications sama halnya membuat sistem cerdas.</li>\n",
    "           <li>Pandas merupakan toolkit yang powerfull sebagai alat analisis data dan struktur untuk bahasa pemrograman Python.</li>\n",
    "           <li>Matplotlib.pyplot berungsi untuk membuat suatu gambar, membuat sebuah plotting area pada gambar, membuat garis pada plotting area, dan-lain-lain.</li>\n",
    "           <li>Paket sklearn.utils</li>\n",
    "    <li>Paket sklearn.preprocessing menyediakan beberapa fungsi utilitas umum dan kelas transformator untuk mengubah vektor fitur mentah menjadi representasi yang lebih sesuai untuk downstream estimator. Dalam hali ini diimportkan StandardScaler dan MinMaxScaler. </li>\n",
    "       </ul>\n",
    "</div>"
   ]
  },
  {
   "cell_type": "markdown",
   "metadata": {},
   "source": [
    "<div class=\"alert alert-success\" role=\"alert\">\n",
    "<h3>LOAD DATASET</h3><br>   \n",
    "</div>"
   ]
  },
  {
   "cell_type": "code",
   "execution_count": 2,
   "metadata": {},
   "outputs": [],
   "source": [
    "dataset = pd.read_csv(\"indian_liver_patient.csv\")"
   ]
  },
  {
   "cell_type": "markdown",
   "metadata": {},
   "source": [
    "<div class=\"alert alert-info\" role=\"alert\">\n",
    "Import dataset dengan menggunakan pandas    \n",
    "</div>"
   ]
  },
  {
   "cell_type": "code",
   "execution_count": 3,
   "metadata": {},
   "outputs": [
    {
     "data": {
      "text/html": [
       "<div>\n",
       "<style scoped>\n",
       "    .dataframe tbody tr th:only-of-type {\n",
       "        vertical-align: middle;\n",
       "    }\n",
       "\n",
       "    .dataframe tbody tr th {\n",
       "        vertical-align: top;\n",
       "    }\n",
       "\n",
       "    .dataframe thead th {\n",
       "        text-align: right;\n",
       "    }\n",
       "</style>\n",
       "<table border=\"1\" class=\"dataframe\">\n",
       "  <thead>\n",
       "    <tr style=\"text-align: right;\">\n",
       "      <th></th>\n",
       "      <th>Age</th>\n",
       "      <th>Gender</th>\n",
       "      <th>Total_Bilirubin</th>\n",
       "      <th>Direct_Bilirubin</th>\n",
       "      <th>Alkaline_Phosphotase</th>\n",
       "      <th>Alamine_Aminotransferase</th>\n",
       "      <th>Aspartate_Aminotransferase</th>\n",
       "      <th>Total_Protiens</th>\n",
       "      <th>Albumin</th>\n",
       "      <th>Albumin_and_Globulin_Ratio</th>\n",
       "      <th>Dataset</th>\n",
       "    </tr>\n",
       "  </thead>\n",
       "  <tbody>\n",
       "    <tr>\n",
       "      <th>0</th>\n",
       "      <td>65</td>\n",
       "      <td>Female</td>\n",
       "      <td>0.7</td>\n",
       "      <td>0.1</td>\n",
       "      <td>187</td>\n",
       "      <td>16</td>\n",
       "      <td>18</td>\n",
       "      <td>6.8</td>\n",
       "      <td>3.3</td>\n",
       "      <td>0.90</td>\n",
       "      <td>1</td>\n",
       "    </tr>\n",
       "    <tr>\n",
       "      <th>1</th>\n",
       "      <td>62</td>\n",
       "      <td>Male</td>\n",
       "      <td>10.9</td>\n",
       "      <td>5.5</td>\n",
       "      <td>699</td>\n",
       "      <td>64</td>\n",
       "      <td>100</td>\n",
       "      <td>7.5</td>\n",
       "      <td>3.2</td>\n",
       "      <td>0.74</td>\n",
       "      <td>1</td>\n",
       "    </tr>\n",
       "    <tr>\n",
       "      <th>2</th>\n",
       "      <td>62</td>\n",
       "      <td>Male</td>\n",
       "      <td>7.3</td>\n",
       "      <td>4.1</td>\n",
       "      <td>490</td>\n",
       "      <td>60</td>\n",
       "      <td>68</td>\n",
       "      <td>7.0</td>\n",
       "      <td>3.3</td>\n",
       "      <td>0.89</td>\n",
       "      <td>1</td>\n",
       "    </tr>\n",
       "    <tr>\n",
       "      <th>3</th>\n",
       "      <td>58</td>\n",
       "      <td>Male</td>\n",
       "      <td>1.0</td>\n",
       "      <td>0.4</td>\n",
       "      <td>182</td>\n",
       "      <td>14</td>\n",
       "      <td>20</td>\n",
       "      <td>6.8</td>\n",
       "      <td>3.4</td>\n",
       "      <td>1.00</td>\n",
       "      <td>1</td>\n",
       "    </tr>\n",
       "    <tr>\n",
       "      <th>4</th>\n",
       "      <td>72</td>\n",
       "      <td>Male</td>\n",
       "      <td>3.9</td>\n",
       "      <td>2.0</td>\n",
       "      <td>195</td>\n",
       "      <td>27</td>\n",
       "      <td>59</td>\n",
       "      <td>7.3</td>\n",
       "      <td>2.4</td>\n",
       "      <td>0.40</td>\n",
       "      <td>1</td>\n",
       "    </tr>\n",
       "  </tbody>\n",
       "</table>\n",
       "</div>"
      ],
      "text/plain": [
       "   Age  Gender  Total_Bilirubin  Direct_Bilirubin  Alkaline_Phosphotase  \\\n",
       "0   65  Female              0.7               0.1                   187   \n",
       "1   62    Male             10.9               5.5                   699   \n",
       "2   62    Male              7.3               4.1                   490   \n",
       "3   58    Male              1.0               0.4                   182   \n",
       "4   72    Male              3.9               2.0                   195   \n",
       "\n",
       "   Alamine_Aminotransferase  Aspartate_Aminotransferase  Total_Protiens  \\\n",
       "0                        16                          18             6.8   \n",
       "1                        64                         100             7.5   \n",
       "2                        60                          68             7.0   \n",
       "3                        14                          20             6.8   \n",
       "4                        27                          59             7.3   \n",
       "\n",
       "   Albumin  Albumin_and_Globulin_Ratio  Dataset  \n",
       "0      3.3                        0.90        1  \n",
       "1      3.2                        0.74        1  \n",
       "2      3.3                        0.89        1  \n",
       "3      3.4                        1.00        1  \n",
       "4      2.4                        0.40        1  "
      ]
     },
     "execution_count": 3,
     "metadata": {},
     "output_type": "execute_result"
    }
   ],
   "source": [
    "dataset.head()"
   ]
  },
  {
   "cell_type": "markdown",
   "metadata": {},
   "source": [
    "<div class=\"alert alert-info\" role=\"alert\">\n",
    "    Fungsi <i><b>.head()</b></i> adalah mengambil lima baris pertama dari dataset   \n",
    "</div>"
   ]
  },
  {
   "cell_type": "code",
   "execution_count": 4,
   "metadata": {},
   "outputs": [],
   "source": [
    "dataset['Gender']=dataset['Gender'].apply(lambda x:1 if x=='Male' else 0)"
   ]
  },
  {
   "cell_type": "markdown",
   "metadata": {},
   "source": [
    "<div class=\"alert alert-info\" role=\"alert\">\n",
    "    Berfungsi untuk mengubah kolom gender ke dalam bentuk numerik \n",
    "    <ul>\n",
    "        <li>Female = 0</li>\n",
    "        <li>Male = 1 </li>\n",
    "        </ul>\n",
    "</div>"
   ]
  },
  {
   "cell_type": "code",
   "execution_count": 5,
   "metadata": {},
   "outputs": [
    {
     "data": {
      "text/html": [
       "<div>\n",
       "<style scoped>\n",
       "    .dataframe tbody tr th:only-of-type {\n",
       "        vertical-align: middle;\n",
       "    }\n",
       "\n",
       "    .dataframe tbody tr th {\n",
       "        vertical-align: top;\n",
       "    }\n",
       "\n",
       "    .dataframe thead th {\n",
       "        text-align: right;\n",
       "    }\n",
       "</style>\n",
       "<table border=\"1\" class=\"dataframe\">\n",
       "  <thead>\n",
       "    <tr style=\"text-align: right;\">\n",
       "      <th></th>\n",
       "      <th>Age</th>\n",
       "      <th>Gender</th>\n",
       "      <th>Total_Bilirubin</th>\n",
       "      <th>Direct_Bilirubin</th>\n",
       "      <th>Alkaline_Phosphotase</th>\n",
       "      <th>Alamine_Aminotransferase</th>\n",
       "      <th>Aspartate_Aminotransferase</th>\n",
       "      <th>Total_Protiens</th>\n",
       "      <th>Albumin</th>\n",
       "      <th>Albumin_and_Globulin_Ratio</th>\n",
       "      <th>Dataset</th>\n",
       "    </tr>\n",
       "  </thead>\n",
       "  <tbody>\n",
       "    <tr>\n",
       "      <th>0</th>\n",
       "      <td>65</td>\n",
       "      <td>0</td>\n",
       "      <td>0.7</td>\n",
       "      <td>0.1</td>\n",
       "      <td>187</td>\n",
       "      <td>16</td>\n",
       "      <td>18</td>\n",
       "      <td>6.8</td>\n",
       "      <td>3.3</td>\n",
       "      <td>0.90</td>\n",
       "      <td>1</td>\n",
       "    </tr>\n",
       "    <tr>\n",
       "      <th>1</th>\n",
       "      <td>62</td>\n",
       "      <td>1</td>\n",
       "      <td>10.9</td>\n",
       "      <td>5.5</td>\n",
       "      <td>699</td>\n",
       "      <td>64</td>\n",
       "      <td>100</td>\n",
       "      <td>7.5</td>\n",
       "      <td>3.2</td>\n",
       "      <td>0.74</td>\n",
       "      <td>1</td>\n",
       "    </tr>\n",
       "    <tr>\n",
       "      <th>2</th>\n",
       "      <td>62</td>\n",
       "      <td>1</td>\n",
       "      <td>7.3</td>\n",
       "      <td>4.1</td>\n",
       "      <td>490</td>\n",
       "      <td>60</td>\n",
       "      <td>68</td>\n",
       "      <td>7.0</td>\n",
       "      <td>3.3</td>\n",
       "      <td>0.89</td>\n",
       "      <td>1</td>\n",
       "    </tr>\n",
       "    <tr>\n",
       "      <th>3</th>\n",
       "      <td>58</td>\n",
       "      <td>1</td>\n",
       "      <td>1.0</td>\n",
       "      <td>0.4</td>\n",
       "      <td>182</td>\n",
       "      <td>14</td>\n",
       "      <td>20</td>\n",
       "      <td>6.8</td>\n",
       "      <td>3.4</td>\n",
       "      <td>1.00</td>\n",
       "      <td>1</td>\n",
       "    </tr>\n",
       "    <tr>\n",
       "      <th>4</th>\n",
       "      <td>72</td>\n",
       "      <td>1</td>\n",
       "      <td>3.9</td>\n",
       "      <td>2.0</td>\n",
       "      <td>195</td>\n",
       "      <td>27</td>\n",
       "      <td>59</td>\n",
       "      <td>7.3</td>\n",
       "      <td>2.4</td>\n",
       "      <td>0.40</td>\n",
       "      <td>1</td>\n",
       "    </tr>\n",
       "  </tbody>\n",
       "</table>\n",
       "</div>"
      ],
      "text/plain": [
       "   Age  Gender  Total_Bilirubin  Direct_Bilirubin  Alkaline_Phosphotase  \\\n",
       "0   65       0              0.7               0.1                   187   \n",
       "1   62       1             10.9               5.5                   699   \n",
       "2   62       1              7.3               4.1                   490   \n",
       "3   58       1              1.0               0.4                   182   \n",
       "4   72       1              3.9               2.0                   195   \n",
       "\n",
       "   Alamine_Aminotransferase  Aspartate_Aminotransferase  Total_Protiens  \\\n",
       "0                        16                          18             6.8   \n",
       "1                        64                         100             7.5   \n",
       "2                        60                          68             7.0   \n",
       "3                        14                          20             6.8   \n",
       "4                        27                          59             7.3   \n",
       "\n",
       "   Albumin  Albumin_and_Globulin_Ratio  Dataset  \n",
       "0      3.3                        0.90        1  \n",
       "1      3.2                        0.74        1  \n",
       "2      3.3                        0.89        1  \n",
       "3      3.4                        1.00        1  \n",
       "4      2.4                        0.40        1  "
      ]
     },
     "execution_count": 5,
     "metadata": {},
     "output_type": "execute_result"
    }
   ],
   "source": [
    "dataset.head()"
   ]
  },
  {
   "cell_type": "markdown",
   "metadata": {},
   "source": [
    "<div class=\"alert alert-info\" role=\"alert\">\n",
    "    Terdapat kolom dengan nama <b>Dataset</b> yang memiliki 2 nilai , salah satu nilai melambangkan seseorang yang terkena penyakit dan nilai yang satunya melambangkan seseorang tersebut tidak terkena penyakit\n",
    "</div>"
   ]
  },
  {
   "cell_type": "code",
   "execution_count": 6,
   "metadata": {},
   "outputs": [
    {
     "name": "stdout",
     "output_type": "stream",
     "text": [
      "<class 'pandas.core.frame.DataFrame'>\n",
      "RangeIndex: 583 entries, 0 to 582\n",
      "Data columns (total 11 columns):\n",
      "Age                           583 non-null int64\n",
      "Gender                        583 non-null int64\n",
      "Total_Bilirubin               583 non-null float64\n",
      "Direct_Bilirubin              583 non-null float64\n",
      "Alkaline_Phosphotase          583 non-null int64\n",
      "Alamine_Aminotransferase      583 non-null int64\n",
      "Aspartate_Aminotransferase    583 non-null int64\n",
      "Total_Protiens                583 non-null float64\n",
      "Albumin                       583 non-null float64\n",
      "Albumin_and_Globulin_Ratio    579 non-null float64\n",
      "Dataset                       583 non-null int64\n",
      "dtypes: float64(5), int64(6)\n",
      "memory usage: 50.2 KB\n"
     ]
    }
   ],
   "source": [
    "dataset.info()"
   ]
  },
  {
   "cell_type": "markdown",
   "metadata": {},
   "source": [
    "<div class=\"alert alert-info\" role=\"alert\">\n",
    "    Fungsi <i><b>dataset.info()</b></i> adalah menampilkan informasi singkat tentang dataset yang di gunakan \n",
    "</div>"
   ]
  },
  {
   "cell_type": "code",
   "execution_count": 7,
   "metadata": {},
   "outputs": [
    {
     "data": {
      "text/plain": [
       "(583, 11)"
      ]
     },
     "execution_count": 7,
     "metadata": {},
     "output_type": "execute_result"
    }
   ],
   "source": [
    "dataset.shape"
   ]
  },
  {
   "cell_type": "markdown",
   "metadata": {},
   "source": [
    "<div class=\"alert alert-info\" role=\"alert\">\n",
    "    Fungsi <i><b>dataset.shape</b></i> adalah menampilkan jumlah baris dan kolom pada dataset\n",
    "</div>"
   ]
  },
  {
   "cell_type": "code",
   "execution_count": 8,
   "metadata": {},
   "outputs": [
    {
     "data": {
      "text/plain": [
       "<matplotlib.axes._subplots.AxesSubplot at 0x262c1e64390>"
      ]
     },
     "execution_count": 8,
     "metadata": {},
     "output_type": "execute_result"
    },
    {
     "data": {
      "image/png": "[encoded data removed]",
      "text/plain": [
       "<Figure size 432x288 with 1 Axes>"
      ]
     },
     "metadata": {
      "needs_background": "light"
     },
     "output_type": "display_data"
    }
   ],
   "source": [
    "dataset['Gender'].value_counts().plot.bar(color='lightblue')"
   ]
  },
  {
   "cell_type": "markdown",
   "metadata": {},
   "source": [
    "<div class=\"alert alert-info\" role=\"alert\">\n",
    "    Menampilkan jumlah pria dan wanita dalam bentuk countplot<br>\n",
    "    dan dapat dilihat dari grafik diatas jumlah Pria lebih banyak dari jumlah Wanita\n",
    "</div>"
   ]
  },
  {
   "cell_type": "code",
   "execution_count": 9,
   "metadata": {},
   "outputs": [
    {
     "data": {
      "text/plain": [
       "<matplotlib.axes._subplots.AxesSubplot at 0x262c2141438>"
      ]
     },
     "execution_count": 9,
     "metadata": {},
     "output_type": "execute_result"
    },
    {
     "data": {
      "image/png": "[encoded data removed]",
      "text/plain": [
       "<Figure size 432x288 with 1 Axes>"
      ]
     },
     "metadata": {
      "needs_background": "light"
     },
     "output_type": "display_data"
    }
   ],
   "source": [
    "dataset['Dataset'].value_counts().plot.bar(color='darkblue')"
   ]
  },
  {
   "cell_type": "markdown",
   "metadata": {},
   "source": [
    "<div class=\"alert alert-info\" role=\"alert\">\n",
    "    Menampilkan kolom <b>Dataset</b> dalam bentuk countplot\n",
    "</div>"
   ]
  },
  {
   "cell_type": "code",
   "execution_count": 10,
   "metadata": {},
   "outputs": [
    {
     "data": {
      "text/plain": [
       "Age                           0\n",
       "Gender                        0\n",
       "Total_Bilirubin               0\n",
       "Direct_Bilirubin              0\n",
       "Alkaline_Phosphotase          0\n",
       "Alamine_Aminotransferase      0\n",
       "Aspartate_Aminotransferase    0\n",
       "Total_Protiens                0\n",
       "Albumin                       0\n",
       "Albumin_and_Globulin_Ratio    4\n",
       "Dataset                       0\n",
       "dtype: int64"
      ]
     },
     "execution_count": 10,
     "metadata": {},
     "output_type": "execute_result"
    }
   ],
   "source": [
    "dataset.isnull().sum()"
   ]
  },
  {
   "cell_type": "markdown",
   "metadata": {},
   "source": [
    "<div class=\"alert alert-info\" role=\"alert\">\n",
    "    Fungsi <i><b>dataset.isnull().sum()</b></i> adalah memmeriksa nilai null pada dataset\n",
    "    <br>dan dapat dilihat terdapat 4 nilai null pada kolom Albumin_and_Globulin_Ratio\n",
    "</div>"
   ]
  },
  {
   "cell_type": "code",
   "execution_count": 11,
   "metadata": {},
   "outputs": [
    {
     "data": {
      "text/plain": [
       "0.9470639032815201"
      ]
     },
     "execution_count": 11,
     "metadata": {},
     "output_type": "execute_result"
    }
   ],
   "source": [
    "dataset['Albumin_and_Globulin_Ratio'].mean()"
   ]
  },
  {
   "cell_type": "code",
   "execution_count": 12,
   "metadata": {},
   "outputs": [],
   "source": [
    "dataset=dataset.fillna(0.94)"
   ]
  },
  {
   "cell_type": "markdown",
   "metadata": {},
   "source": [
    "<div class=\"alert alert-info\" role=\"alert\">\n",
    "    Mengisi nilai null dengan memasukkan nilai rata-rata pada kolom tersebut\n",
    "</div>"
   ]
  },
  {
   "cell_type": "code",
   "execution_count": 13,
   "metadata": {},
   "outputs": [
    {
     "data": {
      "text/plain": [
       "Age                           0\n",
       "Gender                        0\n",
       "Total_Bilirubin               0\n",
       "Direct_Bilirubin              0\n",
       "Alkaline_Phosphotase          0\n",
       "Alamine_Aminotransferase      0\n",
       "Aspartate_Aminotransferase    0\n",
       "Total_Protiens                0\n",
       "Albumin                       0\n",
       "Albumin_and_Globulin_Ratio    0\n",
       "Dataset                       0\n",
       "dtype: int64"
      ]
     },
     "execution_count": 13,
     "metadata": {},
     "output_type": "execute_result"
    }
   ],
   "source": [
    "dataset.isnull().sum()"
   ]
  },
  {
   "cell_type": "markdown",
   "metadata": {},
   "source": [
    "<div class=\"alert alert-info\" role=\"alert\">\n",
    "    Sekarang dataset sudah tidak memiliki nilai null\n",
    "</div>"
   ]
  },
  {
   "cell_type": "code",
   "execution_count": 14,
   "metadata": {},
   "outputs": [
    {
     "data": {
      "image/png": "[encoded data removed]",
      "text/plain": [
       "<Figure size 792x792 with 12 Axes>"
      ]
     },
     "metadata": {
      "needs_background": "light"
     },
     "output_type": "display_data"
    }
   ],
   "source": [
    "dataset.hist(figsize=(11,11)) \n",
    "plt.show() "
   ]
  },
  {
   "cell_type": "markdown",
   "metadata": {},
   "source": [
    "<div class=\"alert alert-info\">\n",
    "<p align=\"justify\">Boxplot berfungsi menampilkan grafis untuk menjelaskan lebih detail distribusi nilai-nilai pada dataset yang digunakan "
   ]
  },
  {
   "cell_type": "code",
   "execution_count": 15,
   "metadata": {},
   "outputs": [
    {
     "data": {
      "text/html": [
       "<div>\n",
       "<style scoped>\n",
       "    .dataframe tbody tr th:only-of-type {\n",
       "        vertical-align: middle;\n",
       "    }\n",
       "\n",
       "    .dataframe tbody tr th {\n",
       "        vertical-align: top;\n",
       "    }\n",
       "\n",
       "    .dataframe thead th {\n",
       "        text-align: right;\n",
       "    }\n",
       "</style>\n",
       "<table border=\"1\" class=\"dataframe\">\n",
       "  <thead>\n",
       "    <tr style=\"text-align: right;\">\n",
       "      <th></th>\n",
       "      <th>Age</th>\n",
       "      <th>Gender</th>\n",
       "      <th>Total_Bilirubin</th>\n",
       "      <th>Direct_Bilirubin</th>\n",
       "      <th>Alkaline_Phosphotase</th>\n",
       "      <th>Alamine_Aminotransferase</th>\n",
       "      <th>Aspartate_Aminotransferase</th>\n",
       "      <th>Total_Protiens</th>\n",
       "      <th>Albumin</th>\n",
       "      <th>Albumin_and_Globulin_Ratio</th>\n",
       "      <th>Dataset</th>\n",
       "    </tr>\n",
       "  </thead>\n",
       "  <tbody>\n",
       "    <tr>\n",
       "      <th>0</th>\n",
       "      <td>65</td>\n",
       "      <td>0</td>\n",
       "      <td>0.7</td>\n",
       "      <td>0.1</td>\n",
       "      <td>187</td>\n",
       "      <td>16</td>\n",
       "      <td>18</td>\n",
       "      <td>6.8</td>\n",
       "      <td>3.3</td>\n",
       "      <td>0.90</td>\n",
       "      <td>1</td>\n",
       "    </tr>\n",
       "    <tr>\n",
       "      <th>1</th>\n",
       "      <td>62</td>\n",
       "      <td>1</td>\n",
       "      <td>10.9</td>\n",
       "      <td>5.5</td>\n",
       "      <td>699</td>\n",
       "      <td>64</td>\n",
       "      <td>100</td>\n",
       "      <td>7.5</td>\n",
       "      <td>3.2</td>\n",
       "      <td>0.74</td>\n",
       "      <td>1</td>\n",
       "    </tr>\n",
       "    <tr>\n",
       "      <th>2</th>\n",
       "      <td>62</td>\n",
       "      <td>1</td>\n",
       "      <td>7.3</td>\n",
       "      <td>4.1</td>\n",
       "      <td>490</td>\n",
       "      <td>60</td>\n",
       "      <td>68</td>\n",
       "      <td>7.0</td>\n",
       "      <td>3.3</td>\n",
       "      <td>0.89</td>\n",
       "      <td>1</td>\n",
       "    </tr>\n",
       "    <tr>\n",
       "      <th>3</th>\n",
       "      <td>58</td>\n",
       "      <td>1</td>\n",
       "      <td>1.0</td>\n",
       "      <td>0.4</td>\n",
       "      <td>182</td>\n",
       "      <td>14</td>\n",
       "      <td>20</td>\n",
       "      <td>6.8</td>\n",
       "      <td>3.4</td>\n",
       "      <td>1.00</td>\n",
       "      <td>1</td>\n",
       "    </tr>\n",
       "    <tr>\n",
       "      <th>4</th>\n",
       "      <td>72</td>\n",
       "      <td>1</td>\n",
       "      <td>3.9</td>\n",
       "      <td>2.0</td>\n",
       "      <td>195</td>\n",
       "      <td>27</td>\n",
       "      <td>59</td>\n",
       "      <td>7.3</td>\n",
       "      <td>2.4</td>\n",
       "      <td>0.40</td>\n",
       "      <td>1</td>\n",
       "    </tr>\n",
       "  </tbody>\n",
       "</table>\n",
       "</div>"
      ],
      "text/plain": [
       "   Age  Gender  Total_Bilirubin  Direct_Bilirubin  Alkaline_Phosphotase  \\\n",
       "0   65       0              0.7               0.1                   187   \n",
       "1   62       1             10.9               5.5                   699   \n",
       "2   62       1              7.3               4.1                   490   \n",
       "3   58       1              1.0               0.4                   182   \n",
       "4   72       1              3.9               2.0                   195   \n",
       "\n",
       "   Alamine_Aminotransferase  Aspartate_Aminotransferase  Total_Protiens  \\\n",
       "0                        16                          18             6.8   \n",
       "1                        64                         100             7.5   \n",
       "2                        60                          68             7.0   \n",
       "3                        14                          20             6.8   \n",
       "4                        27                          59             7.3   \n",
       "\n",
       "   Albumin  Albumin_and_Globulin_Ratio  Dataset  \n",
       "0      3.3                        0.90        1  \n",
       "1      3.2                        0.74        1  \n",
       "2      3.3                        0.89        1  \n",
       "3      3.4                        1.00        1  \n",
       "4      2.4                        0.40        1  "
      ]
     },
     "execution_count": 15,
     "metadata": {},
     "output_type": "execute_result"
    }
   ],
   "source": [
    "dataset.head()"
   ]
  },
  {
   "cell_type": "markdown",
   "metadata": {},
   "source": [
    "<div class=\"alert alert-success\" role=\"alert\">\n",
    "<h3>SET DATA DAN TARGET</h3><br> \n",
    "   \n",
    "</div>"
   ]
  },
  {
   "cell_type": "code",
   "execution_count": 16,
   "metadata": {},
   "outputs": [],
   "source": [
    "data_raw = dataset.iloc[:,0:10].values\n",
    "target = dataset.iloc[:,10].values - 1"
   ]
  },
  {
   "cell_type": "markdown",
   "metadata": {},
   "source": [
    "<div class=\"alert alert-info\">\n",
    "<p align=\"justify\"> Set data untuk feature yaitu kolom 1 sampai dengan 10, dan kolom 11 sebagai target"
   ]
  },
  {
   "cell_type": "code",
   "execution_count": 17,
   "metadata": {},
   "outputs": [
    {
     "data": {
      "text/html": [
       "<div>\n",
       "<style scoped>\n",
       "    .dataframe tbody tr th:only-of-type {\n",
       "        vertical-align: middle;\n",
       "    }\n",
       "\n",
       "    .dataframe tbody tr th {\n",
       "        vertical-align: top;\n",
       "    }\n",
       "\n",
       "    .dataframe thead th {\n",
       "        text-align: right;\n",
       "    }\n",
       "</style>\n",
       "<table border=\"1\" class=\"dataframe\">\n",
       "  <thead>\n",
       "    <tr style=\"text-align: right;\">\n",
       "      <th></th>\n",
       "      <th>0</th>\n",
       "      <th>1</th>\n",
       "      <th>2</th>\n",
       "      <th>3</th>\n",
       "      <th>4</th>\n",
       "      <th>5</th>\n",
       "      <th>6</th>\n",
       "      <th>7</th>\n",
       "      <th>8</th>\n",
       "      <th>9</th>\n",
       "    </tr>\n",
       "  </thead>\n",
       "  <tbody>\n",
       "    <tr>\n",
       "      <th>0</th>\n",
       "      <td>65.0</td>\n",
       "      <td>0.0</td>\n",
       "      <td>0.7</td>\n",
       "      <td>0.1</td>\n",
       "      <td>187.0</td>\n",
       "      <td>16.0</td>\n",
       "      <td>18.0</td>\n",
       "      <td>6.8</td>\n",
       "      <td>3.3</td>\n",
       "      <td>0.90</td>\n",
       "    </tr>\n",
       "    <tr>\n",
       "      <th>1</th>\n",
       "      <td>62.0</td>\n",
       "      <td>1.0</td>\n",
       "      <td>10.9</td>\n",
       "      <td>5.5</td>\n",
       "      <td>699.0</td>\n",
       "      <td>64.0</td>\n",
       "      <td>100.0</td>\n",
       "      <td>7.5</td>\n",
       "      <td>3.2</td>\n",
       "      <td>0.74</td>\n",
       "    </tr>\n",
       "    <tr>\n",
       "      <th>2</th>\n",
       "      <td>62.0</td>\n",
       "      <td>1.0</td>\n",
       "      <td>7.3</td>\n",
       "      <td>4.1</td>\n",
       "      <td>490.0</td>\n",
       "      <td>60.0</td>\n",
       "      <td>68.0</td>\n",
       "      <td>7.0</td>\n",
       "      <td>3.3</td>\n",
       "      <td>0.89</td>\n",
       "    </tr>\n",
       "    <tr>\n",
       "      <th>3</th>\n",
       "      <td>58.0</td>\n",
       "      <td>1.0</td>\n",
       "      <td>1.0</td>\n",
       "      <td>0.4</td>\n",
       "      <td>182.0</td>\n",
       "      <td>14.0</td>\n",
       "      <td>20.0</td>\n",
       "      <td>6.8</td>\n",
       "      <td>3.4</td>\n",
       "      <td>1.00</td>\n",
       "    </tr>\n",
       "    <tr>\n",
       "      <th>4</th>\n",
       "      <td>72.0</td>\n",
       "      <td>1.0</td>\n",
       "      <td>3.9</td>\n",
       "      <td>2.0</td>\n",
       "      <td>195.0</td>\n",
       "      <td>27.0</td>\n",
       "      <td>59.0</td>\n",
       "      <td>7.3</td>\n",
       "      <td>2.4</td>\n",
       "      <td>0.40</td>\n",
       "    </tr>\n",
       "  </tbody>\n",
       "</table>\n",
       "</div>"
      ],
      "text/plain": [
       "      0    1     2    3      4     5      6    7    8     9\n",
       "0  65.0  0.0   0.7  0.1  187.0  16.0   18.0  6.8  3.3  0.90\n",
       "1  62.0  1.0  10.9  5.5  699.0  64.0  100.0  7.5  3.2  0.74\n",
       "2  62.0  1.0   7.3  4.1  490.0  60.0   68.0  7.0  3.3  0.89\n",
       "3  58.0  1.0   1.0  0.4  182.0  14.0   20.0  6.8  3.4  1.00\n",
       "4  72.0  1.0   3.9  2.0  195.0  27.0   59.0  7.3  2.4  0.40"
      ]
     },
     "execution_count": 17,
     "metadata": {},
     "output_type": "execute_result"
    }
   ],
   "source": [
    "dataa=pd.DataFrame(data_raw)\n",
    "dataa.head()"
   ]
  },
  {
   "cell_type": "markdown",
   "metadata": {},
   "source": [
    "<div class=\"alert alert-success\" role=\"alert\">\n",
    "<h3>SCALING</h3><br> \n",
    "   \n",
    "</div>"
   ]
  },
  {
   "cell_type": "code",
   "execution_count": 18,
   "metadata": {},
   "outputs": [],
   "source": [
    "scaler = MinMaxScaler()\n",
    "data = scaler.fit_transform(data_raw)"
   ]
  },
  {
   "cell_type": "markdown",
   "metadata": {},
   "source": [
    "<div class=\"alert alert-info\">\n",
    "<p align=\"justify\">  Karena dilihat pada persebaran data, agar data tidak memiliki standar deviasi yang tinggi, maka selanjutnya akan discaling, dimana nilai max adalah 1 dan minimal adalah 0t"
   ]
  },
  {
   "cell_type": "code",
   "execution_count": 19,
   "metadata": {},
   "outputs": [
    {
     "data": {
      "text/html": [
       "<div>\n",
       "<style scoped>\n",
       "    .dataframe tbody tr th:only-of-type {\n",
       "        vertical-align: middle;\n",
       "    }\n",
       "\n",
       "    .dataframe tbody tr th {\n",
       "        vertical-align: top;\n",
       "    }\n",
       "\n",
       "    .dataframe thead th {\n",
       "        text-align: right;\n",
       "    }\n",
       "</style>\n",
       "<table border=\"1\" class=\"dataframe\">\n",
       "  <thead>\n",
       "    <tr style=\"text-align: right;\">\n",
       "      <th></th>\n",
       "      <th>0</th>\n",
       "      <th>1</th>\n",
       "      <th>2</th>\n",
       "      <th>3</th>\n",
       "      <th>4</th>\n",
       "      <th>5</th>\n",
       "      <th>6</th>\n",
       "      <th>7</th>\n",
       "      <th>8</th>\n",
       "      <th>9</th>\n",
       "    </tr>\n",
       "  </thead>\n",
       "  <tbody>\n",
       "    <tr>\n",
       "      <th>0</th>\n",
       "      <td>0.709302</td>\n",
       "      <td>0.0</td>\n",
       "      <td>0.004021</td>\n",
       "      <td>0.000000</td>\n",
       "      <td>0.060576</td>\n",
       "      <td>0.003015</td>\n",
       "      <td>0.001626</td>\n",
       "      <td>0.594203</td>\n",
       "      <td>0.521739</td>\n",
       "      <td>0.240</td>\n",
       "    </tr>\n",
       "    <tr>\n",
       "      <th>1</th>\n",
       "      <td>0.674419</td>\n",
       "      <td>1.0</td>\n",
       "      <td>0.140751</td>\n",
       "      <td>0.275510</td>\n",
       "      <td>0.310699</td>\n",
       "      <td>0.027136</td>\n",
       "      <td>0.018296</td>\n",
       "      <td>0.695652</td>\n",
       "      <td>0.500000</td>\n",
       "      <td>0.176</td>\n",
       "    </tr>\n",
       "    <tr>\n",
       "      <th>2</th>\n",
       "      <td>0.674419</td>\n",
       "      <td>1.0</td>\n",
       "      <td>0.092493</td>\n",
       "      <td>0.204082</td>\n",
       "      <td>0.208598</td>\n",
       "      <td>0.025126</td>\n",
       "      <td>0.011791</td>\n",
       "      <td>0.623188</td>\n",
       "      <td>0.521739</td>\n",
       "      <td>0.236</td>\n",
       "    </tr>\n",
       "    <tr>\n",
       "      <th>3</th>\n",
       "      <td>0.627907</td>\n",
       "      <td>1.0</td>\n",
       "      <td>0.008043</td>\n",
       "      <td>0.015306</td>\n",
       "      <td>0.058134</td>\n",
       "      <td>0.002010</td>\n",
       "      <td>0.002033</td>\n",
       "      <td>0.594203</td>\n",
       "      <td>0.543478</td>\n",
       "      <td>0.280</td>\n",
       "    </tr>\n",
       "    <tr>\n",
       "      <th>4</th>\n",
       "      <td>0.790698</td>\n",
       "      <td>1.0</td>\n",
       "      <td>0.046917</td>\n",
       "      <td>0.096939</td>\n",
       "      <td>0.064485</td>\n",
       "      <td>0.008543</td>\n",
       "      <td>0.009961</td>\n",
       "      <td>0.666667</td>\n",
       "      <td>0.326087</td>\n",
       "      <td>0.040</td>\n",
       "    </tr>\n",
       "  </tbody>\n",
       "</table>\n",
       "</div>"
      ],
      "text/plain": [
       "          0    1         2         3         4         5         6         7  \\\n",
       "0  0.709302  0.0  0.004021  0.000000  0.060576  0.003015  0.001626  0.594203   \n",
       "1  0.674419  1.0  0.140751  0.275510  0.310699  0.027136  0.018296  0.695652   \n",
       "2  0.674419  1.0  0.092493  0.204082  0.208598  0.025126  0.011791  0.623188   \n",
       "3  0.627907  1.0  0.008043  0.015306  0.058134  0.002010  0.002033  0.594203   \n",
       "4  0.790698  1.0  0.046917  0.096939  0.064485  0.008543  0.009961  0.666667   \n",
       "\n",
       "          8      9  \n",
       "0  0.521739  0.240  \n",
       "1  0.500000  0.176  \n",
       "2  0.521739  0.236  \n",
       "3  0.543478  0.280  \n",
       "4  0.326087  0.040  "
      ]
     },
     "execution_count": 19,
     "metadata": {},
     "output_type": "execute_result"
    }
   ],
   "source": [
    "data_dataframe = pd.DataFrame(data)\n",
    "data_dataframe.head()"
   ]
  },
  {
   "cell_type": "markdown",
   "metadata": {},
   "source": [
    "<div class=\"alert alert-info\">\n",
    "Membuat Variabel data_dataframe hanya untuk menampilkan, selanjutnya variabel data akan tetap dalam bentuk numpy array\n",
    "</div>"
   ]
  },
  {
   "cell_type": "code",
   "execution_count": 20,
   "metadata": {},
   "outputs": [],
   "source": [
    "target = keras.utils.to_categorical(target)"
   ]
  },
  {
   "cell_type": "markdown",
   "metadata": {},
   "source": [
    "<div class=\"alert alert-success\" role=\"alert\">\n",
    "<h3>SPLITTING</h3><br>    \n",
    "\n",
    "</div>"
   ]
  },
  {
   "cell_type": "code",
   "execution_count": 21,
   "metadata": {},
   "outputs": [],
   "source": [
    "data_training, data_testing, target_training, target_testing = train_test_split(data_raw, target, test_size=0.2, random_state=7)"
   ]
  },
  {
   "cell_type": "markdown",
   "metadata": {},
   "source": [
    "<div class=\"alert alert-info\">\n",
    "Membagi data secara acak, dengan persentase 80% untuk data latih, 20% untuk data testing. Random state digunakan agar data yang sudah baik, tidak diacak lagi saat spliting, agar persebaran data tidak berubah, yang bisa mempengaruhi learning dari model.\n",
    "</div>"
   ]
  },
  {
   "cell_type": "markdown",
   "metadata": {},
   "source": [
    "\n",
    "<div class=\"alert alert-success\" role=\"alert\">\n",
    "<h3>MODEL</h3><br> \n",
    "\n",
    "    \n",
    "</div>"
   ]
  },
  {
   "cell_type": "code",
   "execution_count": 39,
   "metadata": {},
   "outputs": [],
   "source": [
    "model = Sequential()\n",
    "model.add(Dense(100, input_dim=10, activation='relu'))\n",
    "model.add(Dense(100, activation='relu'))\n",
    "model.add(Dense(2, activation='sigmoid'))"
   ]
  },
  {
   "cell_type": "markdown",
   "metadata": {},
   "source": [
    "<div class=\"alert alert-info\">\n",
    "Menggunakan 1 input layer dengan 10 neuron, 1 hidden layer dengan 100 neuron (fungsi aktivasi relu), dan 1 output layer dengan 1 neuron (fungsi aktivasi softmax).\n",
    " \n",
    "</div>"
   ]
  },
  {
   "cell_type": "markdown",
   "metadata": {},
   "source": [
    "<div class=\"alert alert-success\" role=\"alert\">\n",
    "<h3>COMPILE DATA</h3><br> \n",
    "   \n",
    "</div>"
   ]
  },
  {
   "cell_type": "code",
   "execution_count": 40,
   "metadata": {},
   "outputs": [],
   "source": [
    "model.compile(loss=\"binary_crossentropy\", optimizer=\"adam\", metrics=['acc'])"
   ]
  },
  {
   "cell_type": "markdown",
   "metadata": {},
   "source": [
    "<div class=\"alert alert-info\">\n",
    "Menggunakan binary_crossentropy, dan metric Akurasi sebagai parameternya\n",
    "  \n",
    "</div>"
   ]
  },
  {
   "cell_type": "markdown",
   "metadata": {},
   "source": [
    "<div class=\"alert alert-success\" role=\"alert\">\n",
    "<h3>FIT</h3><br> \n",
    "   \n",
    "</div>"
   ]
  },
  {
   "cell_type": "code",
   "execution_count": 41,
   "metadata": {},
   "outputs": [
    {
     "name": "stdout",
     "output_type": "stream",
     "text": [
      "Train on 466 samples, validate on 117 samples\n",
      "Epoch 1/100\n",
      "466/466 [==============================] - 0s 1ms/step - loss: 1.2105 - acc: 0.6545 - val_loss: 1.8956 - val_acc: 0.5983\n",
      "Epoch 2/100\n",
      "466/466 [==============================] - 0s 298us/step - loss: 2.8606 - acc: 0.6502 - val_loss: 3.2590 - val_acc: 0.6923\n",
      "Epoch 3/100\n",
      "466/466 [==============================] - 0s 304us/step - loss: 2.1083 - acc: 0.6663 - val_loss: 1.4745 - val_acc: 0.6923\n",
      "Epoch 4/100\n",
      "466/466 [==============================] - 0s 297us/step - loss: 0.8019 - acc: 0.6749 - val_loss: 0.6529 - val_acc: 0.7051\n",
      "Epoch 5/100\n",
      "466/466 [==============================] - 0s 306us/step - loss: 0.9658 - acc: 0.6674 - val_loss: 1.7443 - val_acc: 0.6795\n",
      "Epoch 6/100\n",
      "466/466 [==============================] - 0s 302us/step - loss: 0.8317 - acc: 0.6781 - val_loss: 0.7896 - val_acc: 0.6410\n",
      "Epoch 7/100\n",
      "466/466 [==============================] - 0s 300us/step - loss: 0.6895 - acc: 0.6931 - val_loss: 1.4882 - val_acc: 0.6923\n",
      "Epoch 8/100\n",
      "466/466 [==============================] - 0s 301us/step - loss: 0.8459 - acc: 0.6770 - val_loss: 0.5927 - val_acc: 0.7137\n",
      "Epoch 9/100\n",
      "466/466 [==============================] - 0s 307us/step - loss: 0.6100 - acc: 0.6770 - val_loss: 0.7084 - val_acc: 0.7009\n",
      "Epoch 10/100\n",
      "466/466 [==============================] - 0s 300us/step - loss: 0.6254 - acc: 0.6856 - val_loss: 0.7165 - val_acc: 0.7009\n",
      "Epoch 11/100\n",
      "466/466 [==============================] - 0s 297us/step - loss: 0.8114 - acc: 0.6727 - val_loss: 1.0699 - val_acc: 0.6923\n",
      "Epoch 12/100\n",
      "466/466 [==============================] - 0s 304us/step - loss: 0.6629 - acc: 0.6964 - val_loss: 0.6398 - val_acc: 0.7222\n",
      "Epoch 13/100\n",
      "466/466 [==============================] - 0s 302us/step - loss: 0.6270 - acc: 0.6813 - val_loss: 1.1151 - val_acc: 0.6923\n",
      "Epoch 14/100\n",
      "466/466 [==============================] - 0s 293us/step - loss: 0.8427 - acc: 0.6738 - val_loss: 0.9519 - val_acc: 0.6923\n",
      "Epoch 15/100\n",
      "466/466 [==============================] - 0s 302us/step - loss: 0.8241 - acc: 0.6996 - val_loss: 1.0400 - val_acc: 0.5556\n",
      "Epoch 16/100\n",
      "466/466 [==============================] - 0s 302us/step - loss: 0.6597 - acc: 0.6813 - val_loss: 1.0467 - val_acc: 0.6966\n",
      "Epoch 17/100\n",
      "466/466 [==============================] - 0s 325us/step - loss: 0.6282 - acc: 0.6964 - val_loss: 0.8791 - val_acc: 0.6923\n",
      "Epoch 18/100\n",
      "466/466 [==============================] - 0s 353us/step - loss: 0.8621 - acc: 0.6620 - val_loss: 0.6728 - val_acc: 0.6752\n",
      "Epoch 19/100\n",
      "466/466 [==============================] - 0s 364us/step - loss: 0.6357 - acc: 0.6685 - val_loss: 0.6387 - val_acc: 0.6966\n",
      "Epoch 20/100\n",
      "466/466 [==============================] - 0s 314us/step - loss: 0.6433 - acc: 0.6931 - val_loss: 1.0835 - val_acc: 0.6923\n",
      "Epoch 21/100\n",
      "466/466 [==============================] - 0s 300us/step - loss: 0.8048 - acc: 0.6845 - val_loss: 0.7731 - val_acc: 0.5983\n",
      "Epoch 22/100\n",
      "466/466 [==============================] - 0s 296us/step - loss: 0.5869 - acc: 0.6953 - val_loss: 0.6417 - val_acc: 0.7393\n",
      "Epoch 23/100\n",
      "466/466 [==============================] - 0s 308us/step - loss: 0.5545 - acc: 0.7146 - val_loss: 0.6160 - val_acc: 0.7265\n",
      "Epoch 24/100\n",
      "466/466 [==============================] - 0s 290us/step - loss: 0.5838 - acc: 0.6878 - val_loss: 0.6024 - val_acc: 0.7179\n",
      "Epoch 25/100\n",
      "466/466 [==============================] - 0s 295us/step - loss: 0.7322 - acc: 0.6845 - val_loss: 0.9544 - val_acc: 0.5769\n",
      "Epoch 26/100\n",
      "466/466 [==============================] - 0s 312us/step - loss: 0.6777 - acc: 0.6878 - val_loss: 0.9583 - val_acc: 0.6966\n",
      "Epoch 27/100\n",
      "466/466 [==============================] - 0s 295us/step - loss: 0.5789 - acc: 0.7017 - val_loss: 0.7488 - val_acc: 0.7009\n",
      "Epoch 28/100\n",
      "466/466 [==============================] - 0s 351us/step - loss: 0.6429 - acc: 0.7103 - val_loss: 0.6872 - val_acc: 0.7094\n",
      "Epoch 29/100\n",
      "466/466 [==============================] - 0s 317us/step - loss: 0.5291 - acc: 0.7039 - val_loss: 0.5284 - val_acc: 0.7308\n",
      "Epoch 30/100\n",
      "466/466 [==============================] - 0s 327us/step - loss: 0.6545 - acc: 0.7082 - val_loss: 0.5939 - val_acc: 0.6966\n",
      "Epoch 31/100\n",
      "466/466 [==============================] - 0s 304us/step - loss: 0.6239 - acc: 0.6953 - val_loss: 0.6889 - val_acc: 0.7265\n",
      "Epoch 32/100\n",
      "466/466 [==============================] - 0s 300us/step - loss: 0.5397 - acc: 0.7071 - val_loss: 0.7246 - val_acc: 0.6239\n",
      "Epoch 33/100\n",
      "466/466 [==============================] - 0s 323us/step - loss: 0.5688 - acc: 0.6931 - val_loss: 0.7438 - val_acc: 0.7009\n",
      "Epoch 34/100\n",
      "466/466 [==============================] - 0s 299us/step - loss: 0.6065 - acc: 0.7178 - val_loss: 0.7291 - val_acc: 0.5940\n",
      "Epoch 35/100\n",
      "466/466 [==============================] - 0s 301us/step - loss: 0.5780 - acc: 0.6717 - val_loss: 0.7302 - val_acc: 0.7009\n",
      "Epoch 36/100\n",
      "466/466 [==============================] - 0s 316us/step - loss: 0.5563 - acc: 0.7006 - val_loss: 0.8331 - val_acc: 0.6966\n",
      "Epoch 37/100\n",
      "466/466 [==============================] - 0s 302us/step - loss: 0.7021 - acc: 0.6867 - val_loss: 0.6176 - val_acc: 0.6410\n",
      "Epoch 38/100\n",
      "466/466 [==============================] - 0s 300us/step - loss: 0.5891 - acc: 0.6931 - val_loss: 0.6465 - val_acc: 0.6709\n",
      "Epoch 39/100\n",
      "466/466 [==============================] - 0s 304us/step - loss: 0.5553 - acc: 0.6953 - val_loss: 0.7103 - val_acc: 0.7179\n",
      "Epoch 40/100\n",
      "466/466 [==============================] - 0s 302us/step - loss: 0.5452 - acc: 0.7060 - val_loss: 0.6399 - val_acc: 0.7265\n",
      "Epoch 41/100\n",
      "466/466 [==============================] - 0s 315us/step - loss: 0.5295 - acc: 0.7210 - val_loss: 0.5570 - val_acc: 0.7051\n",
      "Epoch 42/100\n",
      "466/466 [==============================] - 0s 310us/step - loss: 0.5411 - acc: 0.7092 - val_loss: 0.8173 - val_acc: 0.7009\n",
      "Epoch 43/100\n",
      "466/466 [==============================] - 0s 312us/step - loss: 0.6046 - acc: 0.6878 - val_loss: 0.6383 - val_acc: 0.7265\n",
      "Epoch 44/100\n",
      "466/466 [==============================] - 0s 293us/step - loss: 0.5267 - acc: 0.7028 - val_loss: 0.7887 - val_acc: 0.6966\n",
      "Epoch 45/100\n",
      "466/466 [==============================] - 0s 298us/step - loss: 0.6054 - acc: 0.6652 - val_loss: 0.6120 - val_acc: 0.7222\n",
      "Epoch 46/100\n",
      "466/466 [==============================] - 0s 310us/step - loss: 0.5415 - acc: 0.7221 - val_loss: 0.6184 - val_acc: 0.7179\n",
      "Epoch 47/100\n",
      "466/466 [==============================] - 0s 319us/step - loss: 0.5828 - acc: 0.7210 - val_loss: 0.6906 - val_acc: 0.6923\n",
      "Epoch 48/100\n",
      "466/466 [==============================] - 0s 312us/step - loss: 0.5205 - acc: 0.6985 - val_loss: 0.7033 - val_acc: 0.6838\n",
      "Epoch 49/100\n",
      "466/466 [==============================] - 0s 292us/step - loss: 0.5223 - acc: 0.6996 - val_loss: 0.6157 - val_acc: 0.6880\n",
      "Epoch 50/100\n",
      "466/466 [==============================] - 0s 316us/step - loss: 0.5529 - acc: 0.6996 - val_loss: 0.7954 - val_acc: 0.6966\n",
      "Epoch 51/100\n",
      "466/466 [==============================] - 0s 295us/step - loss: 0.5857 - acc: 0.6921 - val_loss: 0.6105 - val_acc: 0.7179\n",
      "Epoch 52/100\n",
      "466/466 [==============================] - 0s 293us/step - loss: 0.4916 - acc: 0.7124 - val_loss: 0.6942 - val_acc: 0.7009\n",
      "Epoch 53/100\n",
      "466/466 [==============================] - 0s 308us/step - loss: 0.4992 - acc: 0.7157 - val_loss: 0.5722 - val_acc: 0.7179\n",
      "Epoch 54/100\n",
      "466/466 [==============================] - 0s 295us/step - loss: 0.5262 - acc: 0.7114 - val_loss: 0.6365 - val_acc: 0.6154\n",
      "Epoch 55/100\n",
      "466/466 [==============================] - 0s 306us/step - loss: 0.5365 - acc: 0.6942 - val_loss: 0.6512 - val_acc: 0.7009\n",
      "Epoch 56/100\n",
      "466/466 [==============================] - 0s 302us/step - loss: 0.5366 - acc: 0.7210 - val_loss: 0.5761 - val_acc: 0.7350\n",
      "Epoch 57/100\n",
      "466/466 [==============================] - 0s 316us/step - loss: 0.5040 - acc: 0.7307 - val_loss: 0.5636 - val_acc: 0.6667\n",
      "Epoch 58/100\n",
      "466/466 [==============================] - 0s 288us/step - loss: 0.5649 - acc: 0.7307 - val_loss: 0.8462 - val_acc: 0.6966\n",
      "Epoch 59/100\n",
      "466/466 [==============================] - 0s 300us/step - loss: 0.5147 - acc: 0.7242 - val_loss: 0.5756 - val_acc: 0.7009\n",
      "Epoch 60/100\n",
      "466/466 [==============================] - 0s 303us/step - loss: 0.5281 - acc: 0.7071 - val_loss: 0.6872 - val_acc: 0.7009\n",
      "Epoch 61/100\n",
      "466/466 [==============================] - 0s 294us/step - loss: 0.4909 - acc: 0.7221 - val_loss: 0.5889 - val_acc: 0.7265\n",
      "Epoch 62/100\n",
      "466/466 [==============================] - 0s 298us/step - loss: 0.4973 - acc: 0.7221 - val_loss: 0.5885 - val_acc: 0.7137\n",
      "Epoch 63/100\n",
      "466/466 [==============================] - 0s 286us/step - loss: 0.4999 - acc: 0.7232 - val_loss: 0.5688 - val_acc: 0.7222\n",
      "Epoch 64/100\n",
      "466/466 [==============================] - 0s 303us/step - loss: 0.5358 - acc: 0.7135 - val_loss: 0.5681 - val_acc: 0.7137\n",
      "Epoch 65/100\n",
      "466/466 [==============================] - 0s 285us/step - loss: 0.5000 - acc: 0.7350 - val_loss: 0.6266 - val_acc: 0.7350\n",
      "Epoch 66/100\n",
      "466/466 [==============================] - 0s 295us/step - loss: 0.5038 - acc: 0.7189 - val_loss: 0.5568 - val_acc: 0.7308\n",
      "Epoch 67/100\n",
      "466/466 [==============================] - 0s 291us/step - loss: 0.5122 - acc: 0.6974 - val_loss: 0.5777 - val_acc: 0.7179\n",
      "Epoch 68/100\n",
      "466/466 [==============================] - 0s 293us/step - loss: 0.4877 - acc: 0.7200 - val_loss: 0.6080 - val_acc: 0.6197\n",
      "Epoch 69/100\n",
      "466/466 [==============================] - 0s 293us/step - loss: 0.5199 - acc: 0.6996 - val_loss: 0.5818 - val_acc: 0.7222\n",
      "Epoch 70/100\n",
      "466/466 [==============================] - 0s 290us/step - loss: 0.4901 - acc: 0.7157 - val_loss: 0.6869 - val_acc: 0.6966\n",
      "Epoch 71/100\n",
      "466/466 [==============================] - 0s 287us/step - loss: 0.4941 - acc: 0.7232 - val_loss: 0.5406 - val_acc: 0.7179\n",
      "Epoch 72/100\n",
      "466/466 [==============================] - 0s 306us/step - loss: 0.5122 - acc: 0.7178 - val_loss: 0.6896 - val_acc: 0.5897\n",
      "Epoch 73/100\n",
      "466/466 [==============================] - 0s 297us/step - loss: 0.5346 - acc: 0.7071 - val_loss: 0.6202 - val_acc: 0.7137\n",
      "Epoch 74/100\n",
      "466/466 [==============================] - 0s 302us/step - loss: 0.4686 - acc: 0.7318 - val_loss: 0.6373 - val_acc: 0.7094\n",
      "Epoch 75/100\n",
      "466/466 [==============================] - 0s 293us/step - loss: 0.4859 - acc: 0.7382 - val_loss: 0.5681 - val_acc: 0.7308\n",
      "Epoch 76/100\n",
      "466/466 [==============================] - 0s 302us/step - loss: 0.4772 - acc: 0.7425 - val_loss: 0.6843 - val_acc: 0.7009\n",
      "Epoch 77/100\n",
      "466/466 [==============================] - 0s 297us/step - loss: 0.5227 - acc: 0.7285 - val_loss: 0.5783 - val_acc: 0.7137\n",
      "Epoch 78/100\n",
      "466/466 [==============================] - 0s 293us/step - loss: 0.4905 - acc: 0.7221 - val_loss: 0.5999 - val_acc: 0.7094\n",
      "Epoch 79/100\n",
      "466/466 [==============================] - 0s 304us/step - loss: 0.4854 - acc: 0.7285 - val_loss: 0.5310 - val_acc: 0.7265\n",
      "Epoch 80/100\n",
      "466/466 [==============================] - 0s 291us/step - loss: 0.4848 - acc: 0.7457 - val_loss: 0.6609 - val_acc: 0.5812\n",
      "Epoch 81/100\n",
      "466/466 [==============================] - 0s 295us/step - loss: 0.4995 - acc: 0.7135 - val_loss: 0.5616 - val_acc: 0.7265\n",
      "Epoch 82/100\n",
      "466/466 [==============================] - 0s 306us/step - loss: 0.4697 - acc: 0.7350 - val_loss: 0.5696 - val_acc: 0.7094\n",
      "Epoch 83/100\n",
      "466/466 [==============================] - 0s 291us/step - loss: 0.4971 - acc: 0.7328 - val_loss: 0.6273 - val_acc: 0.7009\n",
      "Epoch 84/100\n",
      "466/466 [==============================] - 0s 294us/step - loss: 0.4924 - acc: 0.7318 - val_loss: 0.6089 - val_acc: 0.6966\n",
      "Epoch 85/100\n",
      "466/466 [==============================] - 0s 291us/step - loss: 0.5007 - acc: 0.7232 - val_loss: 0.6365 - val_acc: 0.7265\n",
      "Epoch 86/100\n",
      "466/466 [==============================] - 0s 299us/step - loss: 0.4807 - acc: 0.7124 - val_loss: 0.5833 - val_acc: 0.6453\n",
      "Epoch 87/100\n",
      "466/466 [==============================] - 0s 296us/step - loss: 0.4804 - acc: 0.7318 - val_loss: 0.5926 - val_acc: 0.7265\n",
      "Epoch 88/100\n",
      "466/466 [==============================] - 0s 293us/step - loss: 0.4772 - acc: 0.7371 - val_loss: 0.5483 - val_acc: 0.7222\n",
      "Epoch 89/100\n",
      "466/466 [==============================] - 0s 291us/step - loss: 0.4779 - acc: 0.7479 - val_loss: 0.5481 - val_acc: 0.7009\n",
      "Epoch 90/100\n",
      "466/466 [==============================] - 0s 306us/step - loss: 0.4858 - acc: 0.7307 - val_loss: 0.8078 - val_acc: 0.7009\n",
      "Epoch 91/100\n",
      "466/466 [==============================] - 0s 293us/step - loss: 0.5183 - acc: 0.7210 - val_loss: 0.6145 - val_acc: 0.7222\n",
      "Epoch 92/100\n",
      "466/466 [==============================] - 0s 295us/step - loss: 0.4622 - acc: 0.7371 - val_loss: 0.6466 - val_acc: 0.7051\n",
      "Epoch 93/100\n",
      "466/466 [==============================] - 0s 310us/step - loss: 0.4718 - acc: 0.7275 - val_loss: 0.5369 - val_acc: 0.6709\n",
      "Epoch 94/100\n",
      "466/466 [==============================] - 0s 293us/step - loss: 0.4704 - acc: 0.7221 - val_loss: 0.6296 - val_acc: 0.7009\n",
      "Epoch 95/100\n",
      "466/466 [==============================] - 0s 295us/step - loss: 0.4607 - acc: 0.7242 - val_loss: 0.6787 - val_acc: 0.7009\n",
      "Epoch 96/100\n",
      "466/466 [==============================] - 0s 293us/step - loss: 0.4774 - acc: 0.7468 - val_loss: 0.5743 - val_acc: 0.7308\n",
      "Epoch 97/100\n",
      "466/466 [==============================] - 0s 299us/step - loss: 0.4704 - acc: 0.7339 - val_loss: 0.6132 - val_acc: 0.7009\n",
      "Epoch 98/100\n",
      "466/466 [==============================] - 0s 294us/step - loss: 0.4629 - acc: 0.7479 - val_loss: 0.5725 - val_acc: 0.7179\n",
      "Epoch 99/100\n",
      "466/466 [==============================] - 0s 293us/step - loss: 0.4759 - acc: 0.7436 - val_loss: 0.5617 - val_acc: 0.7137\n",
      "Epoch 100/100\n",
      "466/466 [==============================] - 0s 300us/step - loss: 0.4936 - acc: 0.7307 - val_loss: 0.6094 - val_acc: 0.7179\n"
     ]
    }
   ],
   "source": [
    "history_validasi = model.fit(data_training,target_training, validation_data=(data_testing,target_testing),batch_size=6, epochs=100)"
   ]
  },
  {
   "cell_type": "markdown",
   "metadata": {},
   "source": [
    "<div class=\"alert alert-info\">\n",
    "Proses training model. Disini akan dilakukan training model dimana JST akan melakukan learning berdasarkan data yang di latih yaitu <b>data_training</b> (feature) dan <b>target_training</b> (target). Disini juga dilakukan validasi dengan data yang uji, ditampung pada variabel <b>data_testing</b> (feature) dan <b>target_testing</b> (target). Guna dilakukan FIT adalah agar setiap epochnya dapat ditampung dalam variabel <b>history_validasi</b>, sehingga bisa diplot perubahannya.\n",
    "   \n",
    "</div>"
   ]
  },
  {
   "cell_type": "markdown",
   "metadata": {},
   "source": [
    "\n",
    "<div class=\"alert alert-success\" role=\"alert\">\n",
    "<h3>PERHITUNGAN AKURASI</h3><br> \n",
    "   \n",
    "</div>"
   ]
  },
  {
   "cell_type": "code",
   "execution_count": 42,
   "metadata": {},
   "outputs": [
    {
     "name": "stdout",
     "output_type": "stream",
     "text": [
      "117/117 [==============================] - 0s 51us/step\n",
      "Akurasi data Testing = 71.79%\n"
     ]
    }
   ],
   "source": [
    "scores = model.evaluate(data_testing, target_testing)\n",
    "print(\"Akurasi data Testing = %.2f%%\" % (scores[1]*100))"
   ]
  },
  {
   "cell_type": "markdown",
   "metadata": {},
   "source": [
    "<div class=\"alert alert-info\">\n",
    "Evaluasi dengan mencari skor data testing atau akurasi data testing. Nilai evaluasi disimpan pada variabel <b>scores</b>.\n",
    " \n",
    "</div>"
   ]
  },
  {
   "cell_type": "markdown",
   "metadata": {},
   "source": [
    "\n",
    "<div class=\"alert alert-success\" role=\"alert\">\n",
    "<h3>PLOT AKURASI</h3><br> \n",
    "   \n",
    "</div>"
   ]
  },
  {
   "cell_type": "code",
   "execution_count": 43,
   "metadata": {},
   "outputs": [
    {
     "data": {
      "image/png": "[encoded data removed]",
      "text/plain": [
       "<Figure size 864x360 with 1 Axes>"
      ]
     },
     "metadata": {
      "needs_background": "light"
     },
     "output_type": "display_data"
    }
   ],
   "source": [
    "fig,(ax0) = plt.subplots(nrows=1, figsize=(12,5))\n",
    "plt.plot(history_validasi.history['acc'])\n",
    "plt.plot(history_validasi.history['val_acc'])\n",
    "plt.title('model accuracy')\n",
    "plt.ylabel('Akurasi')\n",
    "plt.xlabel('Epoch')\n",
    "plt.legend(['Data Latih', 'Data Testing'], loc='upper left')\n",
    "plt.show()"
   ]
  },
  {
   "cell_type": "markdown",
   "metadata": {},
   "source": [
    "<div class=\"alert alert-info\">\n",
    "Evaluasi akurasi yang menunjukan perbandingan dari hasil learning pada data uji dan data latih \n",
    "</div>"
   ]
  },
  {
   "cell_type": "markdown",
   "metadata": {},
   "source": [
    "\n",
    "<div class=\"alert alert-success\" role=\"alert\">\n",
    "<h3>PLOT LOSS</h3><br> \n",
    "   \n",
    "</div>"
   ]
  },
  {
   "cell_type": "code",
   "execution_count": 44,
   "metadata": {},
   "outputs": [
    {
     "data": {
      "image/png": "[encoded data removed]",
      "text/plain": [
       "<Figure size 864x360 with 1 Axes>"
      ]
     },
     "metadata": {
      "needs_background": "light"
     },
     "output_type": "display_data"
    }
   ],
   "source": [
    "fig,(ax0) = plt.subplots(nrows=1, figsize=(12,5))\n",
    "plt.plot(history_validasi.history['loss'])\n",
    "plt.plot(history_validasi.history['val_loss'])\n",
    "plt.title('Model Loss')\n",
    "plt.ylabel('Loss')\n",
    "plt.xlabel('Epoch')\n",
    "plt.legend(['Data Latih', 'Data Testing'], loc='upper left')\n",
    "plt.show()"
   ]
  },
  {
   "cell_type": "markdown",
   "metadata": {},
   "source": [
    "<div class=\"alert alert-info\">\n",
    "Evaluasi loss/error yang menunjukan perbandingan dari hasil learning pada data uji dan data latih\n",
    "</div>"
   ]
  },
  {
   "cell_type": "markdown",
   "metadata": {},
   "source": [
    "\n",
    "<div class=\"alert alert-success\" role=\"alert\">\n",
    "<h3>CONFUSSION MATRIX</h3><br> \n",
    "   \n",
    "</div>"
   ]
  },
  {
   "cell_type": "markdown",
   "metadata": {},
   "source": [
    "<html>\n",
    "    <img src=\"https://encrypted-tbn0.gstatic.com/images?q=tbn%3AANd9GcT31xIFNykQIIcCgs_m5BlhqeGw_JfGj51yMvsk9qSN9DxrbV5N\" width=\"300\">\n",
    "    <img>\n",
    "    </html>"
   ]
  },
  {
   "cell_type": "markdown",
   "metadata": {},
   "source": [
    "<div class=\"alert alert-warning\">\n",
    "   <br> <b>True Positives (TP)</b> adalah jumlah record data positif yang diklasifikasikan sebagai\n",
    "nilai positif\n",
    "<br><b>False Positives (FP)</b> adalah jumlah record data positif yang diklasifikasikan\n",
    "sebagai nilai negatif\n",
    "<br><b>False Negatives (FN)</b> adalah jumlah record data positif yang diklasifikasikan\n",
    "sebagai nilai positif\n",
    "<br><b>True Negatives (TN)</b> adalah jumlah record data negatif yang diklasifikasikan\n",
    "sebagai nilai negatif\n",
    "</div>\n"
   ]
  },
  {
   "cell_type": "markdown",
   "metadata": {},
   "source": [
    "\n",
    "<div class=\"alert alert-info\">\n",
    "Confusion matrix adalah suatu metode yang biasanya digunakan untuk\n",
    "melakukan perhitungan akurasi pada konsep data mining.Confusion matrix\n",
    "digambarkan dengan tabel yang menyatakan jumlah data uji yang benar\n",
    "diklasifikasikan dan jumlah data uji yang salah diklasifikasikan.\n",
    "\n",
    "</div>"
   ]
  },
  {
   "cell_type": "code",
   "execution_count": 45,
   "metadata": {},
   "outputs": [
    {
     "name": "stdout",
     "output_type": "stream",
     "text": [
      "[[80  1]\n",
      " [32  4]]\n"
     ]
    }
   ],
   "source": [
    "from sklearn.metrics import confusion_matrix\n",
    "target_real = np.argmax(target_testing,axis=1)\n",
    "prediction = model.predict_classes(data_testing)\n",
    "cm = confusion_matrix(target_real, prediction)\n",
    "print(cm)"
   ]
  },
  {
   "cell_type": "code",
   "execution_count": 46,
   "metadata": {},
   "outputs": [
    {
     "name": "stdout",
     "output_type": "stream",
     "text": [
      "[0 0 0 1 1 0 1 1 1 1 0 0 1 1 1 0 1 0 0 0 0 1 0 0 0 1 0 0 0 0 1 0 0 0 1 0 0\n",
      " 1 0 1 0 0 1 0 0 0 0 1 0 1 0 1 0 0 0 0 0 0 0 0 0 0 0 0 1 0 1 0 0 0 0 0 0 1\n",
      " 1 1 0 0 0 0 0 0 1 0 1 0 1 1 0 1 0 0 0 0 0 0 1 0 0 0 0 0 1 0 0 0 1 1 0 1 0\n",
      " 0 0 0 0 0 1]\n",
      "[0 0 0 0 0 0 1 0 0 0 0 0 0 0 0 0 0 1 0 0 0 0 0 0 0 0 0 0 0 0 0 0 0 0 0 0 0\n",
      " 0 0 0 0 0 0 0 0 0 0 0 0 0 0 0 0 0 0 0 0 0 0 0 0 0 0 0 0 0 0 0 0 0 0 0 0 0\n",
      " 0 0 0 0 0 0 0 0 1 0 1 0 0 0 0 1 0 0 0 0 0 0 0 0 0 0 0 0 0 0 0 0 0 0 0 0 0\n",
      " 0 0 0 0 0 0]\n"
     ]
    }
   ],
   "source": [
    "print(target_real)\n",
    "print(prediction)"
   ]
  },
  {
   "cell_type": "code",
   "execution_count": 47,
   "metadata": {},
   "outputs": [],
   "source": [
    "tp = cm[0,0]\n",
    "tn = cm[1,1]\n",
    "fp = cm[1,0]\n",
    "fn = cm[0,1]"
   ]
  },
  {
   "cell_type": "markdown",
   "metadata": {},
   "source": [
    "\n",
    "<div class=\"alert alert-danger\" role=\"alert\">\n",
    "<h3>PRECISION</h3><br> \n",
    "   Presisi adalah rasio prediksi benar positif dibandingkan dengan keseluruhan hasil yang diprediksi positif.<br><br>\n",
    "\n",
    "\\begin{split}Precision = \\frac{TP} {TP+FP}\\end{split}\n",
    "</div>"
   ]
  },
  {
   "cell_type": "code",
   "execution_count": 48,
   "metadata": {},
   "outputs": [
    {
     "name": "stdout",
     "output_type": "stream",
     "text": [
      "precesion :  0.7142857142857143\n"
     ]
    }
   ],
   "source": [
    "precision = tp / ( tp + fp)\n",
    "print (\"precesion : \",precision)"
   ]
  },
  {
   "cell_type": "markdown",
   "metadata": {},
   "source": [
    "\n",
    "<div class=\"alert alert-danger\" role=\"alert\">\n",
    "<h3>RECALL</h3><br> \n",
    "   Recall (Sensitifitas) adalah rasio prediksi benar positif dibandingkan dengan keseluruhan data yang benar positif.<br><br>\n",
    "\n",
    "\\begin{split}Recall = \\frac{TP} {TP+FN}\\end{split}\n",
    "</div>"
   ]
  },
  {
   "cell_type": "code",
   "execution_count": 49,
   "metadata": {},
   "outputs": [
    {
     "name": "stdout",
     "output_type": "stream",
     "text": [
      "recall :  0.9876543209876543\n"
     ]
    }
   ],
   "source": [
    "recall = tp/(tp+fn)\n",
    "print(\"recall : \",recall)"
   ]
  },
  {
   "cell_type": "markdown",
   "metadata": {},
   "source": [
    "<div class=\"alert alert-danger\" role=\"alert\">\n",
    "<h3>F1</h3><br> \n",
    "F1 Score adalah perbandingan rata-rata presisi dan recall yang dibobotkan.<br><br>\n",
    "\n",
    "\\begin{split}F1 Score = \\frac {2 \\times Recall \\times Precision} {Recall + Precision}\\end{split}\n",
    "</div>"
   ]
  },
  {
   "cell_type": "code",
   "execution_count": 50,
   "metadata": {},
   "outputs": [
    {
     "name": "stdout",
     "output_type": "stream",
     "text": [
      "F1 :  0.8290155440414507\n"
     ]
    }
   ],
   "source": [
    "f1=(2*precision*recall)/ (precision+recall)\n",
    "print (\"F1 : \",f1)"
   ]
  },
  {
   "cell_type": "markdown",
   "metadata": {},
   "source": [
    "<div class=\"alert alert-danger\" role=\"alert\">\n",
    "<h3>AKURASI</h3><br> \n",
    "Akurasi adalah rasio prediksi Benar (positif dan negatif) dengan keseluruhan data.<br><br>\n",
    "\n",
    "\\begin{split}Akurasi = \\frac{TP+TN} {TP+FP+FN+TN}\\end{split}\n",
    "</div>\n"
   ]
  },
  {
   "cell_type": "code",
   "execution_count": 51,
   "metadata": {},
   "outputs": [
    {
     "name": "stdout",
     "output_type": "stream",
     "text": [
      "akurasi :  0.717948717948718\n"
     ]
    }
   ],
   "source": [
    "akurasi = (tp+tn)/(tp+tn+fp+fn)\n",
    "print(\"akurasi : \",akurasi)"
   ]
  },
  {
   "cell_type": "markdown",
   "metadata": {},
   "source": [
    "<div class=\"alert alert-danger\" role=\"alert\">\n",
    "<h3>SPECIFICITY</h3><br> \n",
    "Specificity adalah kebenaran memprediksi negatif dibandingkan dengan keseluruhan data negatif.<br><br>\n",
    "\n",
    "\\begin{split}Specificity = \\frac{TN} {TN+FP}\\end{split}\n",
    "</div>\n"
   ]
  },
  {
   "cell_type": "code",
   "execution_count": 52,
   "metadata": {},
   "outputs": [
    {
     "name": "stdout",
     "output_type": "stream",
     "text": [
      "spec :  0.1111111111111111\n"
     ]
    }
   ],
   "source": [
    "spec = tn / (tn+fp)\n",
    "print(\"spec : \",spec)"
   ]
  },
  {
   "cell_type": "markdown",
   "metadata": {},
   "source": [
    "<div class=\"alert alert-danger\" role=\"alert\">\n",
    "<h3>SENSITIVITY</h3><br> \n",
    "Specificity adalah kebenaran memprediksi positif dibandingkan dengan keseluruhan data positif.<br><br>\n",
    "\n",
    "\\begin{split}Specificity = \\frac{TP} {TP+FN}\\end{split}\n",
    "</div>\n"
   ]
  },
  {
   "cell_type": "code",
   "execution_count": 53,
   "metadata": {},
   "outputs": [
    {
     "name": "stdout",
     "output_type": "stream",
     "text": [
      "sensitivity :  0.9876543209876543\n"
     ]
    }
   ],
   "source": [
    "Sensitivity = tp/(tp + fn)\n",
    "print(\"sensitivity : \",Sensitivity )"
   ]
  },
  {
   "cell_type": "code",
   "execution_count": 54,
   "metadata": {},
   "outputs": [
    {
     "name": "stdout",
     "output_type": "stream",
     "text": [
      "              precision    recall  f1-score   support\n",
      "\n",
      "           0       0.71      0.99      0.83        81\n",
      "           1       0.80      0.11      0.20        36\n",
      "\n",
      "    accuracy                           0.72       117\n",
      "   macro avg       0.76      0.55      0.51       117\n",
      "weighted avg       0.74      0.72      0.63       117\n",
      "\n"
     ]
    }
   ],
   "source": [
    "from sklearn.metrics import classification_report\n",
    "print(classification_report(target_real,prediction))"
   ]
  },
  {
   "cell_type": "code",
   "execution_count": 55,
   "metadata": {
    "scrolled": true
   },
   "outputs": [
    {
     "data": {
      "text/plain": [
       "<matplotlib.axes._subplots.AxesSubplot at 0x262c4fcda20>"
      ]
     },
     "execution_count": 55,
     "metadata": {},
     "output_type": "execute_result"
    },
    {
     "data": {
      "image/png": "[encoded data removed]",
      "text/plain": [
       "<Figure size 432x288 with 2 Axes>"
      ]
     },
     "metadata": {
      "needs_background": "light"
     },
     "output_type": "display_data"
    }
   ],
   "source": [
    "skplt.metrics.plot_confusion_matrix(target_real, prediction, normalize=True)"
   ]
  }
 ],
 "metadata": {
  "kernelspec": {
   "display_name": "Python 3",
   "language": "python",
   "name": "python3"
  },
  "language_info": {
   "codemirror_mode": {
    "name": "ipython",
    "version": 3
   },
   "file_extension": ".py",
   "mimetype": "text/x-python",
   "name": "python",
   "nbconvert_exporter": "python",
   "pygments_lexer": "ipython3",
   "version": "3.7.3"
  }
 },
 "nbformat": 4,
 "nbformat_minor": 2
}
