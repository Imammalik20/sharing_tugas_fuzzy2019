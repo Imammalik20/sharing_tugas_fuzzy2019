{
 "cells": [
  {
   "cell_type": "markdown",
   "metadata": {},
   "source": [
    "<div class=\"alert alert-success\">\n",
    "<h3><center>\" DIAGNOSA HEART DISEASE MENGGUNAKAN JARINGAN SARAF TIRUAN \"<center> </h4>\n",
    "<ul>\n",
    "<li style=\"text-align: left;\">\n",
    "<h3><strong>KELAS &emsp;&emsp;&emsp;&emsp;&emsp;&emsp;&ensp; : SK 5B</strong></h3>\n",
    "</li>\n",
    "<li style=\"text-align: left;\">\n",
    "<h3><strong>JURUSAN &emsp;&emsp;&emsp;&emsp;&emsp;&nbsp;: SISTEM KOMPUTER</strong></h3>\n",
    "</li>\n",
    "<li style=\"text-align: left;\">\n",
    "<h3><strong>MATA KULIAH &emsp;&emsp;&emsp; : KECERDASAN BUATAN</strong></h3>\n",
    "</li>\n",
    "<li style=\"text-align: left;\">\n",
    "<h3><strong>DOSEN PENGAMPUH: Prof. Siti Nurmaini</strong></h3>\n",
    "</li>\n",
    "</ul>\n",
    "</div>"
   ]
  },
  {
   "cell_type": "markdown",
   "metadata": {},
   "source": [
    "<div class=\"alert alert-success\">\n",
    " <font size=\"3\"><p align=\"justify\">\n",
    "    <strong>Dibawah ini adalah daftar Modul yang digunakan :</strong>\n",
    "<ul>\n",
    "<li style=\"text-align: left;\">\n",
    "    <strong>Numpy =</strong> Modul ini berfungsi untuk melakukan beberapa fungsi matematika seperti array, dan matriks. Pada program ini numpy digunakan untuk generate array untuk membuat grafik confusion matriks.\n",
    "</li> \n",
    "</ul>\n",
    "\n",
    "<ul>\n",
    "<li style=\"text-align: left;\">\n",
    "<strong>Pandas =</strong> Modul ini akan digunakan untuk Load Dataset.\n",
    "</li>\n",
    "</ul>\n",
    "  \n",
    "<ul>\n",
    "<li style=\"text-align: left;\">\n",
    "<strong>Matplotlib =</strong> Modul ini digunakan untuk mencetak grafik pada beberapa event seperti grafik distribusi variabel, grafik confusion matrix dan grafik akurasi.\n",
    "</li>\n",
    "</ul>\n",
    "\n",
    "<ul>\n",
    "<li style=\"text-align: left;\">\n",
    "<strong>Seaborn =</strong> Modul ini digunakan untuk plot grafik distribusi nilai dari Class (output), modul ini berbasis matplotlib.\n",
    "</li>\n",
    "</ul>\n",
    "\n",
    "<ul>\n",
    "<li style=\"text-align: left;\">\n",
    "<strong>Sklearn =</strong> Modul ini digunakan untuk mengolah data Machine Learning seperti preprocessing.\n",
    "</li>\n",
    "</ul>\n",
    "\n",
    "<ul>\n",
    "<li style=\"text-align: left;\">\n",
    "<strong>Keras =</strong> Modul ini digunakan untuk membuat, menambah, dan mengevaluasi model neural network.\n",
    "</li>\n",
    "</ul>"
   ]
  },
  {
   "cell_type": "code",
   "execution_count": 73,
   "metadata": {},
   "outputs": [],
   "source": [
    "from sklearn.preprocessing import MinMaxScaler\n",
    "import matplotlib.pyplot as plt \n",
    "from sklearn.model_selection import train_test_split \n",
    "from keras.optimizers import Adam\n",
    "from keras.models import Sequential \n",
    "from keras.layers import Dense, Dropout \n",
    "from keras.activations import relu\n",
    "import pandas as pd \n",
    "import numpy as np \n",
    "import sklearn\n",
    "import keras \n",
    "import seaborn as sns"
   ]
  },
  {
   "cell_type": "markdown",
   "metadata": {},
   "source": [
    "<div class=\"alert alert-success\">\n",
    "<h3>Code di bawah ini digunakan untuk load dataset dengan nama \"heart.csv\" </h3>    \n",
    "<div>"
   ]
  },
  {
   "cell_type": "code",
   "execution_count": 74,
   "metadata": {},
   "outputs": [],
   "source": [
    "dataset = pd.read_csv(\"heart.csv\")"
   ]
  },
  {
   "cell_type": "markdown",
   "metadata": {},
   "source": [
    "<div class=\"alert alert-success\"> \n",
    "    <font size=\"3\"><p align=\"justify\">head() berfungsi untuk melihat data sebanyak n pada kolom awal (jika tidak diisi, akan tampil secara random)."
   ]
  },
  {
   "cell_type": "markdown",
   "metadata": {},
   "source": [
    "<div class=\"alert alert-success\">\n",
    " <font size=\"3\"><p align=\"justify\"><strong>Berikut adalah spesifikasi dataset yang digunakan :</strong>\n",
    "<ul>\n",
    "<li style=\"text-align: left;\">\n",
    "    Input terdiri dari 13 variabel dengan berbagai indikator yang sesuai dengan permasalahan yang akan di bahas.\n",
    "</li> \n",
    "</ul>\n",
    "\n",
    "<ul>\n",
    "<li style=\"text-align: left;\">\n",
    "Output terdiri dari 1 variabel, dengan 2 kondisi, yaitu 1 dan 0.\n",
    "</li>\n",
    "</ul>\n",
    "    \n",
    "<div>"
   ]
  },
  {
   "cell_type": "code",
   "execution_count": 75,
   "metadata": {},
   "outputs": [
    {
     "data": {
      "text/html": [
       "<div>\n",
       "<style scoped>\n",
       "    .dataframe tbody tr th:only-of-type {\n",
       "        vertical-align: middle;\n",
       "    }\n",
       "\n",
       "    .dataframe tbody tr th {\n",
       "        vertical-align: top;\n",
       "    }\n",
       "\n",
       "    .dataframe thead th {\n",
       "        text-align: right;\n",
       "    }\n",
       "</style>\n",
       "<table border=\"1\" class=\"dataframe\">\n",
       "  <thead>\n",
       "    <tr style=\"text-align: right;\">\n",
       "      <th></th>\n",
       "      <th>age</th>\n",
       "      <th>sex</th>\n",
       "      <th>cp</th>\n",
       "      <th>trestbps</th>\n",
       "      <th>chol</th>\n",
       "      <th>fbs</th>\n",
       "      <th>restecg</th>\n",
       "      <th>thalach</th>\n",
       "      <th>exang</th>\n",
       "      <th>oldpeak</th>\n",
       "      <th>slope</th>\n",
       "      <th>ca</th>\n",
       "      <th>thal</th>\n",
       "      <th>target</th>\n",
       "    </tr>\n",
       "  </thead>\n",
       "  <tbody>\n",
       "    <tr>\n",
       "      <td>0</td>\n",
       "      <td>63</td>\n",
       "      <td>1</td>\n",
       "      <td>3</td>\n",
       "      <td>145</td>\n",
       "      <td>233</td>\n",
       "      <td>1</td>\n",
       "      <td>0</td>\n",
       "      <td>150</td>\n",
       "      <td>0</td>\n",
       "      <td>2.3</td>\n",
       "      <td>0</td>\n",
       "      <td>0</td>\n",
       "      <td>1</td>\n",
       "      <td>1</td>\n",
       "    </tr>\n",
       "    <tr>\n",
       "      <td>1</td>\n",
       "      <td>37</td>\n",
       "      <td>1</td>\n",
       "      <td>2</td>\n",
       "      <td>130</td>\n",
       "      <td>250</td>\n",
       "      <td>0</td>\n",
       "      <td>1</td>\n",
       "      <td>187</td>\n",
       "      <td>0</td>\n",
       "      <td>3.5</td>\n",
       "      <td>0</td>\n",
       "      <td>0</td>\n",
       "      <td>2</td>\n",
       "      <td>1</td>\n",
       "    </tr>\n",
       "    <tr>\n",
       "      <td>2</td>\n",
       "      <td>41</td>\n",
       "      <td>0</td>\n",
       "      <td>1</td>\n",
       "      <td>130</td>\n",
       "      <td>204</td>\n",
       "      <td>0</td>\n",
       "      <td>0</td>\n",
       "      <td>172</td>\n",
       "      <td>0</td>\n",
       "      <td>1.4</td>\n",
       "      <td>2</td>\n",
       "      <td>0</td>\n",
       "      <td>2</td>\n",
       "      <td>1</td>\n",
       "    </tr>\n",
       "    <tr>\n",
       "      <td>3</td>\n",
       "      <td>56</td>\n",
       "      <td>1</td>\n",
       "      <td>1</td>\n",
       "      <td>120</td>\n",
       "      <td>236</td>\n",
       "      <td>0</td>\n",
       "      <td>1</td>\n",
       "      <td>178</td>\n",
       "      <td>0</td>\n",
       "      <td>0.8</td>\n",
       "      <td>2</td>\n",
       "      <td>0</td>\n",
       "      <td>2</td>\n",
       "      <td>1</td>\n",
       "    </tr>\n",
       "    <tr>\n",
       "      <td>4</td>\n",
       "      <td>57</td>\n",
       "      <td>0</td>\n",
       "      <td>0</td>\n",
       "      <td>120</td>\n",
       "      <td>354</td>\n",
       "      <td>0</td>\n",
       "      <td>1</td>\n",
       "      <td>163</td>\n",
       "      <td>1</td>\n",
       "      <td>0.6</td>\n",
       "      <td>2</td>\n",
       "      <td>0</td>\n",
       "      <td>2</td>\n",
       "      <td>1</td>\n",
       "    </tr>\n",
       "  </tbody>\n",
       "</table>\n",
       "</div>"
      ],
      "text/plain": [
       "   age  sex  cp  trestbps  chol  fbs  restecg  thalach  exang  oldpeak  slope  \\\n",
       "0   63    1   3       145   233    1        0      150      0      2.3      0   \n",
       "1   37    1   2       130   250    0        1      187      0      3.5      0   \n",
       "2   41    0   1       130   204    0        0      172      0      1.4      2   \n",
       "3   56    1   1       120   236    0        1      178      0      0.8      2   \n",
       "4   57    0   0       120   354    0        1      163      1      0.6      2   \n",
       "\n",
       "   ca  thal  target  \n",
       "0   0     1       1  \n",
       "1   0     2       1  \n",
       "2   0     2       1  \n",
       "3   0     2       1  \n",
       "4   0     2       1  "
      ]
     },
     "execution_count": 75,
     "metadata": {},
     "output_type": "execute_result"
    }
   ],
   "source": [
    "dataset.head()"
   ]
  },
  {
   "cell_type": "markdown",
   "metadata": {},
   "source": [
    "<div class=\"alert alert-success\"> \n",
    "    <font size=\"3\"><p align=\"justify\">describe() berfungsi untuk menunjukkan rangkuman statistik seperti rata-rata, median, dan lain sebagainya pada kolom."
   ]
  },
  {
   "cell_type": "code",
   "execution_count": 76,
   "metadata": {},
   "outputs": [
    {
     "data": {
      "text/html": [
       "<div>\n",
       "<style scoped>\n",
       "    .dataframe tbody tr th:only-of-type {\n",
       "        vertical-align: middle;\n",
       "    }\n",
       "\n",
       "    .dataframe tbody tr th {\n",
       "        vertical-align: top;\n",
       "    }\n",
       "\n",
       "    .dataframe thead th {\n",
       "        text-align: right;\n",
       "    }\n",
       "</style>\n",
       "<table border=\"1\" class=\"dataframe\">\n",
       "  <thead>\n",
       "    <tr style=\"text-align: right;\">\n",
       "      <th></th>\n",
       "      <th>age</th>\n",
       "      <th>sex</th>\n",
       "      <th>cp</th>\n",
       "      <th>trestbps</th>\n",
       "      <th>chol</th>\n",
       "      <th>fbs</th>\n",
       "      <th>restecg</th>\n",
       "      <th>thalach</th>\n",
       "      <th>exang</th>\n",
       "      <th>oldpeak</th>\n",
       "      <th>slope</th>\n",
       "      <th>ca</th>\n",
       "      <th>thal</th>\n",
       "      <th>target</th>\n",
       "    </tr>\n",
       "  </thead>\n",
       "  <tbody>\n",
       "    <tr>\n",
       "      <td>count</td>\n",
       "      <td>303.000000</td>\n",
       "      <td>303.000000</td>\n",
       "      <td>303.000000</td>\n",
       "      <td>303.000000</td>\n",
       "      <td>303.000000</td>\n",
       "      <td>303.000000</td>\n",
       "      <td>303.000000</td>\n",
       "      <td>303.000000</td>\n",
       "      <td>303.000000</td>\n",
       "      <td>303.000000</td>\n",
       "      <td>303.000000</td>\n",
       "      <td>303.000000</td>\n",
       "      <td>303.000000</td>\n",
       "      <td>303.000000</td>\n",
       "    </tr>\n",
       "    <tr>\n",
       "      <td>mean</td>\n",
       "      <td>54.366337</td>\n",
       "      <td>0.683168</td>\n",
       "      <td>0.966997</td>\n",
       "      <td>131.623762</td>\n",
       "      <td>246.264026</td>\n",
       "      <td>0.148515</td>\n",
       "      <td>0.528053</td>\n",
       "      <td>149.646865</td>\n",
       "      <td>0.326733</td>\n",
       "      <td>1.039604</td>\n",
       "      <td>1.399340</td>\n",
       "      <td>0.729373</td>\n",
       "      <td>2.313531</td>\n",
       "      <td>0.544554</td>\n",
       "    </tr>\n",
       "    <tr>\n",
       "      <td>std</td>\n",
       "      <td>9.082101</td>\n",
       "      <td>0.466011</td>\n",
       "      <td>1.032052</td>\n",
       "      <td>17.538143</td>\n",
       "      <td>51.830751</td>\n",
       "      <td>0.356198</td>\n",
       "      <td>0.525860</td>\n",
       "      <td>22.905161</td>\n",
       "      <td>0.469794</td>\n",
       "      <td>1.161075</td>\n",
       "      <td>0.616226</td>\n",
       "      <td>1.022606</td>\n",
       "      <td>0.612277</td>\n",
       "      <td>0.498835</td>\n",
       "    </tr>\n",
       "    <tr>\n",
       "      <td>min</td>\n",
       "      <td>29.000000</td>\n",
       "      <td>0.000000</td>\n",
       "      <td>0.000000</td>\n",
       "      <td>94.000000</td>\n",
       "      <td>126.000000</td>\n",
       "      <td>0.000000</td>\n",
       "      <td>0.000000</td>\n",
       "      <td>71.000000</td>\n",
       "      <td>0.000000</td>\n",
       "      <td>0.000000</td>\n",
       "      <td>0.000000</td>\n",
       "      <td>0.000000</td>\n",
       "      <td>0.000000</td>\n",
       "      <td>0.000000</td>\n",
       "    </tr>\n",
       "    <tr>\n",
       "      <td>25%</td>\n",
       "      <td>47.500000</td>\n",
       "      <td>0.000000</td>\n",
       "      <td>0.000000</td>\n",
       "      <td>120.000000</td>\n",
       "      <td>211.000000</td>\n",
       "      <td>0.000000</td>\n",
       "      <td>0.000000</td>\n",
       "      <td>133.500000</td>\n",
       "      <td>0.000000</td>\n",
       "      <td>0.000000</td>\n",
       "      <td>1.000000</td>\n",
       "      <td>0.000000</td>\n",
       "      <td>2.000000</td>\n",
       "      <td>0.000000</td>\n",
       "    </tr>\n",
       "    <tr>\n",
       "      <td>50%</td>\n",
       "      <td>55.000000</td>\n",
       "      <td>1.000000</td>\n",
       "      <td>1.000000</td>\n",
       "      <td>130.000000</td>\n",
       "      <td>240.000000</td>\n",
       "      <td>0.000000</td>\n",
       "      <td>1.000000</td>\n",
       "      <td>153.000000</td>\n",
       "      <td>0.000000</td>\n",
       "      <td>0.800000</td>\n",
       "      <td>1.000000</td>\n",
       "      <td>0.000000</td>\n",
       "      <td>2.000000</td>\n",
       "      <td>1.000000</td>\n",
       "    </tr>\n",
       "    <tr>\n",
       "      <td>75%</td>\n",
       "      <td>61.000000</td>\n",
       "      <td>1.000000</td>\n",
       "      <td>2.000000</td>\n",
       "      <td>140.000000</td>\n",
       "      <td>274.500000</td>\n",
       "      <td>0.000000</td>\n",
       "      <td>1.000000</td>\n",
       "      <td>166.000000</td>\n",
       "      <td>1.000000</td>\n",
       "      <td>1.600000</td>\n",
       "      <td>2.000000</td>\n",
       "      <td>1.000000</td>\n",
       "      <td>3.000000</td>\n",
       "      <td>1.000000</td>\n",
       "    </tr>\n",
       "    <tr>\n",
       "      <td>max</td>\n",
       "      <td>77.000000</td>\n",
       "      <td>1.000000</td>\n",
       "      <td>3.000000</td>\n",
       "      <td>200.000000</td>\n",
       "      <td>564.000000</td>\n",
       "      <td>1.000000</td>\n",
       "      <td>2.000000</td>\n",
       "      <td>202.000000</td>\n",
       "      <td>1.000000</td>\n",
       "      <td>6.200000</td>\n",
       "      <td>2.000000</td>\n",
       "      <td>4.000000</td>\n",
       "      <td>3.000000</td>\n",
       "      <td>1.000000</td>\n",
       "    </tr>\n",
       "  </tbody>\n",
       "</table>\n",
       "</div>"
      ],
      "text/plain": [
       "              age         sex          cp    trestbps        chol         fbs  \\\n",
       "count  303.000000  303.000000  303.000000  303.000000  303.000000  303.000000   \n",
       "mean    54.366337    0.683168    0.966997  131.623762  246.264026    0.148515   \n",
       "std      9.082101    0.466011    1.032052   17.538143   51.830751    0.356198   \n",
       "min     29.000000    0.000000    0.000000   94.000000  126.000000    0.000000   \n",
       "25%     47.500000    0.000000    0.000000  120.000000  211.000000    0.000000   \n",
       "50%     55.000000    1.000000    1.000000  130.000000  240.000000    0.000000   \n",
       "75%     61.000000    1.000000    2.000000  140.000000  274.500000    0.000000   \n",
       "max     77.000000    1.000000    3.000000  200.000000  564.000000    1.000000   \n",
       "\n",
       "          restecg     thalach       exang     oldpeak       slope          ca  \\\n",
       "count  303.000000  303.000000  303.000000  303.000000  303.000000  303.000000   \n",
       "mean     0.528053  149.646865    0.326733    1.039604    1.399340    0.729373   \n",
       "std      0.525860   22.905161    0.469794    1.161075    0.616226    1.022606   \n",
       "min      0.000000   71.000000    0.000000    0.000000    0.000000    0.000000   \n",
       "25%      0.000000  133.500000    0.000000    0.000000    1.000000    0.000000   \n",
       "50%      1.000000  153.000000    0.000000    0.800000    1.000000    0.000000   \n",
       "75%      1.000000  166.000000    1.000000    1.600000    2.000000    1.000000   \n",
       "max      2.000000  202.000000    1.000000    6.200000    2.000000    4.000000   \n",
       "\n",
       "             thal      target  \n",
       "count  303.000000  303.000000  \n",
       "mean     2.313531    0.544554  \n",
       "std      0.612277    0.498835  \n",
       "min      0.000000    0.000000  \n",
       "25%      2.000000    0.000000  \n",
       "50%      2.000000    1.000000  \n",
       "75%      3.000000    1.000000  \n",
       "max      3.000000    1.000000  "
      ]
     },
     "execution_count": 76,
     "metadata": {},
     "output_type": "execute_result"
    }
   ],
   "source": [
    "dataset.describe()"
   ]
  },
  {
   "cell_type": "code",
   "execution_count": 77,
   "metadata": {},
   "outputs": [
    {
     "name": "stdout",
     "output_type": "stream",
     "text": [
      "<class 'pandas.core.frame.DataFrame'>\n",
      "RangeIndex: 303 entries, 0 to 302\n",
      "Data columns (total 14 columns):\n",
      "age         303 non-null int64\n",
      "sex         303 non-null int64\n",
      "cp          303 non-null int64\n",
      "trestbps    303 non-null int64\n",
      "chol        303 non-null int64\n",
      "fbs         303 non-null int64\n",
      "restecg     303 non-null int64\n",
      "thalach     303 non-null int64\n",
      "exang       303 non-null int64\n",
      "oldpeak     303 non-null float64\n",
      "slope       303 non-null int64\n",
      "ca          303 non-null int64\n",
      "thal        303 non-null int64\n",
      "target      303 non-null int64\n",
      "dtypes: float64(1), int64(13)\n",
      "memory usage: 33.3 KB\n"
     ]
    }
   ],
   "source": [
    "dataset.info()"
   ]
  },
  {
   "cell_type": "markdown",
   "metadata": {},
   "source": [
    "<div class=\"alert alert-success\">\n",
    " <font size=\"3\"><p align=\"justify\">Pada ANN ini terdapat 2 output : \n",
    "<ul>\n",
    "<li style=\"text-align: left;\">\n",
    "    no_fraud = kondisi saat ANN menetapkan bahwa tidak di diagnosa heart disease, nilai yang di ambil adalah pada Variabel \"target\" dengan nilai 0 yang ada pada dataset.\n",
    "</li> \n",
    "</ul>\n",
    "\n",
    "<ul>\n",
    "<li style=\"text-align: left;\">\n",
    "fraud = kondisi saat ANN menetapkan bahwa di diagnosa heart disease, nilai yang di ambil adalah pada Variabel \"target\" dengan nilai 1 yang ada pada dataset.</h4>\n",
    "</li>\n",
    "</ul>\n",
    "    \n",
    "<div>"
   ]
  },
  {
   "cell_type": "code",
   "execution_count": 78,
   "metadata": {},
   "outputs": [],
   "source": [
    "no_fraud = dataset[dataset.target==0]\n",
    "fraud = dataset[dataset.target==1]"
   ]
  },
  {
   "cell_type": "markdown",
   "metadata": {},
   "source": [
    "<div class=\"alert alert-success\">\n",
    " <font size=\"3\"><p align=\"justify\">Pada code di atas, fraud di tambah datanya. Resample ini digunakan karena data yang unbalanced, maksudnya output 0 dan Output 1 jumlahnya terlalu ekstrim sehingga datanya menjadi tidak seimbang seperti yang terlihat pada grafik di atas."
   ]
  },
  {
   "cell_type": "code",
   "execution_count": 79,
   "metadata": {},
   "outputs": [],
   "source": [
    "from sklearn.utils import resample\n",
    "fraud_upsample = resample(fraud, replace=True,n_samples=160,random_state=123)\n",
    "dataset_resampled = pd.concat([no_fraud, fraud_upsample])"
   ]
  },
  {
   "cell_type": "markdown",
   "metadata": {},
   "source": [
    "<div class=\"alert alert-success\">\n",
    "<font size=\"3\"><p align=\"justify\">sns.countplot() berfungsi untuk menampilkan grafik dangan perhitungan berdasarkan target."
   ]
  },
  {
   "cell_type": "code",
   "execution_count": 80,
   "metadata": {},
   "outputs": [
    {
     "data": {
      "text/plain": [
       "<matplotlib.axes._subplots.AxesSubplot at 0x6e51bd3c8>"
      ]
     },
     "execution_count": 80,
     "metadata": {},
     "output_type": "execute_result"
    },
    {
     "data": {
      "image/png": "[encoded data removed]",
      "text/plain": [
       "<Figure size 432x288 with 1 Axes>"
      ]
     },
     "metadata": {
      "needs_background": "light"
     },
     "output_type": "display_data"
    }
   ],
   "source": [
    "sns.countplot(x=dataset_resampled['target'],data=dataset)"
   ]
  },
  {
   "cell_type": "markdown",
   "metadata": {},
   "source": [
    "<div class=\"alert alert-success\"><strong>HISTOGRAM</strong>\n",
    "<div class=\"alert alert-success\">\n",
    "<font size=\"3\"><p align=\"justify\">Histogram adalah plot yang memungkinkan dapat menemukan dan menunjukkan distribusi frekuensi (bentuk) yang mendasari serangkaian data.\n",
    "\n",
    "<font size=\"3\"><p align=\"justify\">hist() befungsi untuk menemukan dan menunjukan distribusi frekuensi berdasarkan serangkaian data, dan plt.show() berfungsi untuk menampilkannya dalam bentuk grafik."
   ]
  },
  {
   "cell_type": "code",
   "execution_count": 81,
   "metadata": {},
   "outputs": [
    {
     "data": {
      "image/png": "[encoded data removed]",
      "text/plain": [
       "<Figure size 1008x1008 with 16 Axes>"
      ]
     },
     "metadata": {
      "needs_background": "light"
     },
     "output_type": "display_data"
    }
   ],
   "source": [
    "dataset.hist(figsize=(14,14)) \n",
    "plt.show() "
   ]
  },
  {
   "cell_type": "markdown",
   "metadata": {},
   "source": [
    "<div class=\"alert alert-success\"><strong>BOXPLOT</strong>\n",
    "<div class=\"alert alert-success\">\n",
    "<font size=\"3\"><p align=\"justify\">Boxplot berfungsi sebagai penyajian grafis lainnya yang bisa merangkum informasi lebih detail mengenai distribusi nilai-nilai data pengamatan adalah Box and Whisker Plots atau lebih sering disebut dengan BoxPlot. Seperti namanya, Box and Whisker, bentuknya terdiri dari Box (kotak) dan Whisker. Boxplot merupakan ringkasan distribusi sampel yang disajikan secara grafis yang bisa menggambarkan bentuk distribusi data, ukuran tendensi sentral dan ukuran penyebaran data pengamatan. "
   ]
  },
  {
   "cell_type": "code",
   "execution_count": 82,
   "metadata": {},
   "outputs": [
    {
     "data": {
      "text/plain": [
       "age            AxesSubplot(0.125,0.834518;0.352273x0.0454819)\n",
       "sex         AxesSubplot(0.547727,0.834518;0.352273x0.0454819)\n",
       "cp              AxesSubplot(0.125,0.77994;0.352273x0.0454819)\n",
       "trestbps     AxesSubplot(0.547727,0.77994;0.352273x0.0454819)\n",
       "chol           AxesSubplot(0.125,0.725361;0.352273x0.0454819)\n",
       "fbs         AxesSubplot(0.547727,0.725361;0.352273x0.0454819)\n",
       "restecg        AxesSubplot(0.125,0.670783;0.352273x0.0454819)\n",
       "thalach     AxesSubplot(0.547727,0.670783;0.352273x0.0454819)\n",
       "exang          AxesSubplot(0.125,0.616205;0.352273x0.0454819)\n",
       "oldpeak     AxesSubplot(0.547727,0.616205;0.352273x0.0454819)\n",
       "slope          AxesSubplot(0.125,0.561627;0.352273x0.0454819)\n",
       "ca          AxesSubplot(0.547727,0.561627;0.352273x0.0454819)\n",
       "thal           AxesSubplot(0.125,0.507048;0.352273x0.0454819)\n",
       "target      AxesSubplot(0.547727,0.507048;0.352273x0.0454819)\n",
       "dtype: object"
      ]
     },
     "execution_count": 82,
     "metadata": {},
     "output_type": "execute_result"
    },
    {
     "data": {
      "image/png": "[encoded data removed]",
      "text/plain": [
       "<Figure size 1440x3960 with 28 Axes>"
      ]
     },
     "metadata": {
      "needs_background": "light"
     },
     "output_type": "display_data"
    }
   ],
   "source": [
    "dataset.plot(kind='box', subplots=True, layout=(14,2), sharex=False, sharey=False, figsize=(20,55))"
   ]
  },
  {
   "cell_type": "markdown",
   "metadata": {},
   "source": [
    "<div class=\"alert alert-success\">\n",
    "<font size=\"3\"><p align=\"justify\">Nilai variabel x diambil dari kolom 0-13 (Input) dan Nilai variabel y diambil dari kolom 14 (Ouput)."
   ]
  },
  {
   "cell_type": "code",
   "execution_count": 83,
   "metadata": {},
   "outputs": [],
   "source": [
    "x = dataset.iloc[:,0:13].values \n",
    "y = dataset.iloc[:,13].values "
   ]
  },
  {
   "cell_type": "code",
   "execution_count": 84,
   "metadata": {},
   "outputs": [
    {
     "data": {
      "text/html": [
       "<div>\n",
       "<style scoped>\n",
       "    .dataframe tbody tr th:only-of-type {\n",
       "        vertical-align: middle;\n",
       "    }\n",
       "\n",
       "    .dataframe tbody tr th {\n",
       "        vertical-align: top;\n",
       "    }\n",
       "\n",
       "    .dataframe thead th {\n",
       "        text-align: right;\n",
       "    }\n",
       "</style>\n",
       "<table border=\"1\" class=\"dataframe\">\n",
       "  <thead>\n",
       "    <tr style=\"text-align: right;\">\n",
       "      <th></th>\n",
       "      <th>0</th>\n",
       "      <th>1</th>\n",
       "      <th>2</th>\n",
       "      <th>3</th>\n",
       "      <th>4</th>\n",
       "      <th>5</th>\n",
       "      <th>6</th>\n",
       "      <th>7</th>\n",
       "      <th>8</th>\n",
       "      <th>9</th>\n",
       "      <th>10</th>\n",
       "      <th>11</th>\n",
       "      <th>12</th>\n",
       "    </tr>\n",
       "  </thead>\n",
       "  <tbody>\n",
       "    <tr>\n",
       "      <td>0</td>\n",
       "      <td>63.0</td>\n",
       "      <td>1.0</td>\n",
       "      <td>3.0</td>\n",
       "      <td>145.0</td>\n",
       "      <td>233.0</td>\n",
       "      <td>1.0</td>\n",
       "      <td>0.0</td>\n",
       "      <td>150.0</td>\n",
       "      <td>0.0</td>\n",
       "      <td>2.3</td>\n",
       "      <td>0.0</td>\n",
       "      <td>0.0</td>\n",
       "      <td>1.0</td>\n",
       "    </tr>\n",
       "    <tr>\n",
       "      <td>1</td>\n",
       "      <td>37.0</td>\n",
       "      <td>1.0</td>\n",
       "      <td>2.0</td>\n",
       "      <td>130.0</td>\n",
       "      <td>250.0</td>\n",
       "      <td>0.0</td>\n",
       "      <td>1.0</td>\n",
       "      <td>187.0</td>\n",
       "      <td>0.0</td>\n",
       "      <td>3.5</td>\n",
       "      <td>0.0</td>\n",
       "      <td>0.0</td>\n",
       "      <td>2.0</td>\n",
       "    </tr>\n",
       "    <tr>\n",
       "      <td>2</td>\n",
       "      <td>41.0</td>\n",
       "      <td>0.0</td>\n",
       "      <td>1.0</td>\n",
       "      <td>130.0</td>\n",
       "      <td>204.0</td>\n",
       "      <td>0.0</td>\n",
       "      <td>0.0</td>\n",
       "      <td>172.0</td>\n",
       "      <td>0.0</td>\n",
       "      <td>1.4</td>\n",
       "      <td>2.0</td>\n",
       "      <td>0.0</td>\n",
       "      <td>2.0</td>\n",
       "    </tr>\n",
       "    <tr>\n",
       "      <td>3</td>\n",
       "      <td>56.0</td>\n",
       "      <td>1.0</td>\n",
       "      <td>1.0</td>\n",
       "      <td>120.0</td>\n",
       "      <td>236.0</td>\n",
       "      <td>0.0</td>\n",
       "      <td>1.0</td>\n",
       "      <td>178.0</td>\n",
       "      <td>0.0</td>\n",
       "      <td>0.8</td>\n",
       "      <td>2.0</td>\n",
       "      <td>0.0</td>\n",
       "      <td>2.0</td>\n",
       "    </tr>\n",
       "    <tr>\n",
       "      <td>4</td>\n",
       "      <td>57.0</td>\n",
       "      <td>0.0</td>\n",
       "      <td>0.0</td>\n",
       "      <td>120.0</td>\n",
       "      <td>354.0</td>\n",
       "      <td>0.0</td>\n",
       "      <td>1.0</td>\n",
       "      <td>163.0</td>\n",
       "      <td>1.0</td>\n",
       "      <td>0.6</td>\n",
       "      <td>2.0</td>\n",
       "      <td>0.0</td>\n",
       "      <td>2.0</td>\n",
       "    </tr>\n",
       "    <tr>\n",
       "      <td>...</td>\n",
       "      <td>...</td>\n",
       "      <td>...</td>\n",
       "      <td>...</td>\n",
       "      <td>...</td>\n",
       "      <td>...</td>\n",
       "      <td>...</td>\n",
       "      <td>...</td>\n",
       "      <td>...</td>\n",
       "      <td>...</td>\n",
       "      <td>...</td>\n",
       "      <td>...</td>\n",
       "      <td>...</td>\n",
       "      <td>...</td>\n",
       "    </tr>\n",
       "    <tr>\n",
       "      <td>298</td>\n",
       "      <td>57.0</td>\n",
       "      <td>0.0</td>\n",
       "      <td>0.0</td>\n",
       "      <td>140.0</td>\n",
       "      <td>241.0</td>\n",
       "      <td>0.0</td>\n",
       "      <td>1.0</td>\n",
       "      <td>123.0</td>\n",
       "      <td>1.0</td>\n",
       "      <td>0.2</td>\n",
       "      <td>1.0</td>\n",
       "      <td>0.0</td>\n",
       "      <td>3.0</td>\n",
       "    </tr>\n",
       "    <tr>\n",
       "      <td>299</td>\n",
       "      <td>45.0</td>\n",
       "      <td>1.0</td>\n",
       "      <td>3.0</td>\n",
       "      <td>110.0</td>\n",
       "      <td>264.0</td>\n",
       "      <td>0.0</td>\n",
       "      <td>1.0</td>\n",
       "      <td>132.0</td>\n",
       "      <td>0.0</td>\n",
       "      <td>1.2</td>\n",
       "      <td>1.0</td>\n",
       "      <td>0.0</td>\n",
       "      <td>3.0</td>\n",
       "    </tr>\n",
       "    <tr>\n",
       "      <td>300</td>\n",
       "      <td>68.0</td>\n",
       "      <td>1.0</td>\n",
       "      <td>0.0</td>\n",
       "      <td>144.0</td>\n",
       "      <td>193.0</td>\n",
       "      <td>1.0</td>\n",
       "      <td>1.0</td>\n",
       "      <td>141.0</td>\n",
       "      <td>0.0</td>\n",
       "      <td>3.4</td>\n",
       "      <td>1.0</td>\n",
       "      <td>2.0</td>\n",
       "      <td>3.0</td>\n",
       "    </tr>\n",
       "    <tr>\n",
       "      <td>301</td>\n",
       "      <td>57.0</td>\n",
       "      <td>1.0</td>\n",
       "      <td>0.0</td>\n",
       "      <td>130.0</td>\n",
       "      <td>131.0</td>\n",
       "      <td>0.0</td>\n",
       "      <td>1.0</td>\n",
       "      <td>115.0</td>\n",
       "      <td>1.0</td>\n",
       "      <td>1.2</td>\n",
       "      <td>1.0</td>\n",
       "      <td>1.0</td>\n",
       "      <td>3.0</td>\n",
       "    </tr>\n",
       "    <tr>\n",
       "      <td>302</td>\n",
       "      <td>57.0</td>\n",
       "      <td>0.0</td>\n",
       "      <td>1.0</td>\n",
       "      <td>130.0</td>\n",
       "      <td>236.0</td>\n",
       "      <td>0.0</td>\n",
       "      <td>0.0</td>\n",
       "      <td>174.0</td>\n",
       "      <td>0.0</td>\n",
       "      <td>0.0</td>\n",
       "      <td>1.0</td>\n",
       "      <td>1.0</td>\n",
       "      <td>2.0</td>\n",
       "    </tr>\n",
       "  </tbody>\n",
       "</table>\n",
       "<p>303 rows × 13 columns</p>\n",
       "</div>"
      ],
      "text/plain": [
       "        0    1    2      3      4    5    6      7    8    9   10   11   12\n",
       "0    63.0  1.0  3.0  145.0  233.0  1.0  0.0  150.0  0.0  2.3  0.0  0.0  1.0\n",
       "1    37.0  1.0  2.0  130.0  250.0  0.0  1.0  187.0  0.0  3.5  0.0  0.0  2.0\n",
       "2    41.0  0.0  1.0  130.0  204.0  0.0  0.0  172.0  0.0  1.4  2.0  0.0  2.0\n",
       "3    56.0  1.0  1.0  120.0  236.0  0.0  1.0  178.0  0.0  0.8  2.0  0.0  2.0\n",
       "4    57.0  0.0  0.0  120.0  354.0  0.0  1.0  163.0  1.0  0.6  2.0  0.0  2.0\n",
       "..    ...  ...  ...    ...    ...  ...  ...    ...  ...  ...  ...  ...  ...\n",
       "298  57.0  0.0  0.0  140.0  241.0  0.0  1.0  123.0  1.0  0.2  1.0  0.0  3.0\n",
       "299  45.0  1.0  3.0  110.0  264.0  0.0  1.0  132.0  0.0  1.2  1.0  0.0  3.0\n",
       "300  68.0  1.0  0.0  144.0  193.0  1.0  1.0  141.0  0.0  3.4  1.0  2.0  3.0\n",
       "301  57.0  1.0  0.0  130.0  131.0  0.0  1.0  115.0  1.0  1.2  1.0  1.0  3.0\n",
       "302  57.0  0.0  1.0  130.0  236.0  0.0  0.0  174.0  0.0  0.0  1.0  1.0  2.0\n",
       "\n",
       "[303 rows x 13 columns]"
      ]
     },
     "execution_count": 84,
     "metadata": {},
     "output_type": "execute_result"
    }
   ],
   "source": [
    "data = pd.DataFrame(x)\n",
    "data"
   ]
  },
  {
   "cell_type": "markdown",
   "metadata": {},
   "source": [
    "<div class=\"alert alert-success\"><strong>FEATURE NORMALIZATION</strong>\n",
    "<font size=\"3\"><p align=\"justify\">Normalisasi adalah konsep penting lainnya yang diperlukan untuk mengubah semua fitur ke skala yang sama. Hal ini memungkinkan konvergensi yang lebih cepat pada pembelajaran, dan pengaruh yang lebih seragam untuk semua bobot. Dalam hal ini digunakan MinMaxScaler yang mengubah fitur dengan penskalaan setiap fitur ke rentang yang diberikan (menjadi antara 0 dan 1)."
   ]
  },
  {
   "cell_type": "markdown",
   "metadata": {},
   "source": [
    "<div class=\"alert alert-success\">\n",
    "<font size=\"3\"><p align=\"justify\">Melakukan scaling dataset dan Mengubah fitur dengan penskalaan setiap fitur ke rentang yang diberikan."
   ]
  },
  {
   "cell_type": "code",
   "execution_count": 85,
   "metadata": {},
   "outputs": [],
   "source": [
    "from keras.utils.np_utils import to_categorical\n",
    "scaler = MinMaxScaler() "
   ]
  },
  {
   "cell_type": "markdown",
   "metadata": {},
   "source": [
    "<div class=\"alert alert-success\">\n",
    "<font size=\"3\"><p align=\"justify\">Merubah atau melakukan scaling pada nilai variabel x."
   ]
  },
  {
   "cell_type": "code",
   "execution_count": 86,
   "metadata": {},
   "outputs": [
    {
     "data": {
      "text/plain": [
       "(303, 13)"
      ]
     },
     "execution_count": 86,
     "metadata": {},
     "output_type": "execute_result"
    }
   ],
   "source": [
    "x_scaled=scaler.fit_transform(x)\n",
    "x_scaled.shape"
   ]
  },
  {
   "cell_type": "markdown",
   "metadata": {},
   "source": [
    "<div class=\"alert alert-success\">\n",
    "<font size=\"3\"><p align=\"justify\">Mengkonversi class bilangan bulat menjadi bilangan biner."
   ]
  },
  {
   "cell_type": "code",
   "execution_count": 87,
   "metadata": {},
   "outputs": [
    {
     "data": {
      "text/plain": [
       "(303, 2)"
      ]
     },
     "execution_count": 87,
     "metadata": {},
     "output_type": "execute_result"
    }
   ],
   "source": [
    "y_categorical = to_categorical(y)\n",
    "y_categorical.shape"
   ]
  },
  {
   "cell_type": "markdown",
   "metadata": {},
   "source": [
    "<div class=\"alert alert-success\">\n",
    "<font size=\"3\"><p align=\"justify\">Membagi dataset dengan training 80% dari data dan testing 20% dari data dan setiap data pilih secara acak."
   ]
  },
  {
   "cell_type": "code",
   "execution_count": 88,
   "metadata": {},
   "outputs": [],
   "source": [
    "x_train, x_test, y_train, y_test = train_test_split(x_scaled, y_categorical, \n",
    "                                                   train_size=0.8,\n",
    "                                                   test_size=0.20, \n",
    "                                                   random_state=8)"
   ]
  },
  {
   "cell_type": "markdown",
   "metadata": {},
   "source": [
    "<div class=\"alert alert-success\">\n",
    "<font size=\"3\"><p align=\"justify\">Mencetak ukuran data training dan testing, dimana x_train dan x_test untuk masukan, sedangkan y_train dan y_test untuk keluaran."
   ]
  },
  {
   "cell_type": "code",
   "execution_count": 89,
   "metadata": {},
   "outputs": [
    {
     "name": "stdout",
     "output_type": "stream",
     "text": [
      "Training data shape :  (242, 13) (242, 2)\n",
      "Testing data shape :  (61, 13) (61, 2)\n"
     ]
    }
   ],
   "source": [
    "print('Training data shape : ', x_train.shape, y_train.shape)\n",
    "print('Testing data shape : ', x_test.shape, y_test.shape)"
   ]
  },
  {
   "cell_type": "markdown",
   "metadata": {},
   "source": [
    "<div class=\"alert alert-success\">\n",
    "<font size=\"3\"><p align=\"justify\">Mencetak kelas keluaran yang dihasilkan (0 atau 1)."
   ]
  },
  {
   "cell_type": "code",
   "execution_count": 90,
   "metadata": {},
   "outputs": [
    {
     "name": "stdout",
     "output_type": "stream",
     "text": [
      "Total number of outputs :  [0. 1.]\n",
      "Output target :  2\n"
     ]
    }
   ],
   "source": [
    "target = np.unique(y_train)\n",
    "ntarget = len(target)\n",
    "print('Total number of outputs : ', target)\n",
    "print('Output target : ', ntarget)"
   ]
  },
  {
   "cell_type": "markdown",
   "metadata": {},
   "source": [
    "<div class=\"alert alert-success\"><strong>SEQUENTIAL MODEL</strong>\n",
    "<div class=\"alert alert-success\">\n",
    "<font size=\"3\"><p align=\"justify\">Model Sekuensial adalah tumpukan lapisan linear. Dalam menentukan bentuk masukan, model perlu tahu bentuk masukan apa yang diharapkan. Lapisan pertama dalam model Sequential (dan hanya yang pertama, karena lapisan berikutnya dapat melakukan inferensi bentuk otomatis) perlu menerima informasi tentang bentuk inputnya. Kemudian untuk menambahkan lapisan cukup dengan menambahkan perintah add."
   ]
  },
  {
   "cell_type": "code",
   "execution_count": 91,
   "metadata": {},
   "outputs": [],
   "source": [
    "model = Sequential()"
   ]
  },
  {
   "cell_type": "markdown",
   "metadata": {},
   "source": [
    "<div class=\"alert alert-success\">\n",
    "<font size=\"3\"><p align=\"justify\">Dalam hal ini, terdapat input layer, hidden layer, dan output layer. Dimana ada yang menggunakan Rectified Linear Unit atau yang dikenal sebagai ReLU, adalah cara paling umum dan dasar untuk memperkenalkan non-linearitas ke dalam jaringan saraf. Fungsi ini hanya max (0, x), dan Sigmoid yang merupakan fungsi aktivasi berkelanjutan dan smooth yang paling umum."
   ]
  },
  {
   "cell_type": "code",
   "execution_count": 92,
   "metadata": {},
   "outputs": [],
   "source": [
    "model.add(Dense(14, input_dim=13, activation='relu'))\n",
    "model.add(Dense(5, activation='relu'))\n",
    "model.add(Dense(2, activation='sigmoid'))"
   ]
  },
  {
   "cell_type": "markdown",
   "metadata": {},
   "source": [
    "<div class=\"alert alert-success\">\n",
    " <font size=\"3\"><strong><p align=\"justify\">Penjelasan Layer</strong>\n",
    "<ul>\n",
    "<li style=\"text-align: left;\">\n",
    "    Dense 14 = Model Neural Network yang saya buat pada layer pertama ini terdiri dari 14 neuron.\n",
    "</li> \n",
    "</ul>\n",
    "\n",
    "<ul>\n",
    "<li style=\"text-align: left;\">\n",
    "Rectified Linear Unit (ReLU) = Merupakan fungsi aktivasi linear yang digunakan pada layer ini.\n",
    "</li>\n",
    "</ul>\n",
    "\n",
    "<ul>\n",
    "<li style=\"text-align: left;\">\n",
    "Input dim 13 = Berdasarkan dataset yang digunakan, variabel terdiri dari 14 kategori. 13 kategori input, dan 1 kategori output.\n",
    "</li>\n",
    "</ul>\n",
    "    \n",
    "<ul>\n",
    "<li style=\"text-align: left;\">\n",
    "    Dense 5 = Model Neural Network yang saya buat pada layer pertama ini terdiri dari 5 neuron.\n",
    "</li> \n",
    "</ul>\n",
    "\n",
    "<ul>\n",
    "<li style=\"text-align: left;\">\n",
    "Rectified Linear Unit (ReLU) = Merupakan fungsi aktivasi linear yang digunakan pada layer ini.\n",
    "</li>\n",
    "</ul>\n",
    "\n",
    "<ul>\n",
    "<li style=\"text-align: left;\">\n",
    "Dense 2 = Neural Network yang saya buat pada layer terakhir ini terdiri dari 2 neuron, neuron inilah yang akan menghasilkan output berdasarkan dataset.\n",
    "</li> \n",
    "</ul>\n",
    "\n",
    "<ul>\n",
    "<li style=\"text-align: left;\">\n",
    "Sigmoid = Merupakan fungsi aktivasi yang digunakan pada layer ini, fungsi aktivasi sigmoid memberikan output dengan rentan nilai antara 0 s/d 1.\n",
    "</li>\n",
    "</ul>\n",
    "    \n",
    "<div>"
   ]
  },
  {
   "cell_type": "code",
   "execution_count": 93,
   "metadata": {},
   "outputs": [
    {
     "name": "stdout",
     "output_type": "stream",
     "text": [
      "_________________________________________________________________\n",
      "Layer (type)                 Output Shape              Param #   \n",
      "=================================================================\n",
      "dense_7 (Dense)              (None, 14)                196       \n",
      "_________________________________________________________________\n",
      "dense_8 (Dense)              (None, 5)                 75        \n",
      "_________________________________________________________________\n",
      "dense_9 (Dense)              (None, 2)                 12        \n",
      "=================================================================\n",
      "Total params: 283\n",
      "Trainable params: 283\n",
      "Non-trainable params: 0\n",
      "_________________________________________________________________\n"
     ]
    }
   ],
   "source": [
    "model.summary()"
   ]
  },
  {
   "cell_type": "markdown",
   "metadata": {},
   "source": [
    "<div class=\"alert alert-success\">\n",
    " <font size=\"3\">Params atau Parameter adalah total model yang akan dipakai pada program ini sesuai dengan Model yang dibuat sebelumnya."
   ]
  },
  {
   "cell_type": "markdown",
   "metadata": {},
   "source": [
    "<div class=\"alert alert-success\">\n",
    "<font size=\"3\"><p align=\"justify\">compile() berfungsi mengembalikan objek kode Python dari sumber (string normal, string byte, atau objek). Dalam hal ini menggunakan optimizer adam dan categorical loss yaitu binary crossentropy.\n",
    "<div class=\"alert alert-success\">\n",
    "<font size=\"3\">Adam = Adam adalah optimizer yang digunakan untuk memperbarui bobot jaringan berdasarkan data pelatihan\n",
    "<br> Binary Crossentropy = Binary Cross ini berfungsi untuk mengukur kinerja model klasifikasi yang outputnya adalah nilai probabilitas antara 0 dan 1."
   ]
  },
  {
   "cell_type": "code",
   "execution_count": 94,
   "metadata": {},
   "outputs": [],
   "source": [
    "model.compile(optimizer='adam', loss='binary_crossentropy', metrics=['acc'])"
   ]
  },
  {
   "cell_type": "markdown",
   "metadata": {},
   "source": [
    "<div class=\"alert alert-success\">\n",
    "<font size=\"3\">Epoch adalah ketika seluruh dataset sudah melalui proses training pada Neural Netwok sampai dikembalikan ke awal untuk sekali putaran (backpropagation)\n",
    "<br>Batch Size 64 adalah jumlah sampel data yang disebarkan ke Neural Network. Jadi dataset akan dibagi menjadi 64 bagian untuk memudahkan index pada saat pelatihan.\n",
    "<br>Validation SPlit 0.2 adalah ukuran data yang akan digunakan untuk testing dan training, data training sebesar 0.8 atau 80%, dan data testing sebesar 0.2 atau 20%."
   ]
  },
  {
   "cell_type": "code",
   "execution_count": 95,
   "metadata": {},
   "outputs": [
    {
     "name": "stdout",
     "output_type": "stream",
     "text": [
      "Train on 242 samples, validate on 61 samples\n",
      "Epoch 1/100\n",
      "242/242 [==============================] - 2s 7ms/step - loss: 0.6895 - acc: 0.4628 - val_loss: 0.6736 - val_acc: 0.4918\n",
      "Epoch 2/100\n",
      "242/242 [==============================] - 0s 116us/step - loss: 0.6848 - acc: 0.4917 - val_loss: 0.6710 - val_acc: 0.5246\n",
      "Epoch 3/100\n",
      "242/242 [==============================] - 0s 153us/step - loss: 0.6806 - acc: 0.5145 - val_loss: 0.6685 - val_acc: 0.5164\n",
      "Epoch 4/100\n",
      "242/242 [==============================] - 0s 95us/step - loss: 0.6769 - acc: 0.5517 - val_loss: 0.6659 - val_acc: 0.5246\n",
      "Epoch 5/100\n",
      "242/242 [==============================] - 0s 83us/step - loss: 0.6738 - acc: 0.5579 - val_loss: 0.6638 - val_acc: 0.5246\n",
      "Epoch 6/100\n",
      "242/242 [==============================] - 0s 108us/step - loss: 0.6706 - acc: 0.5682 - val_loss: 0.6615 - val_acc: 0.5328\n",
      "Epoch 7/100\n",
      "242/242 [==============================] - 0s 83us/step - loss: 0.6673 - acc: 0.5785 - val_loss: 0.6595 - val_acc: 0.5410\n",
      "Epoch 8/100\n",
      "242/242 [==============================] - 0s 182us/step - loss: 0.6642 - acc: 0.5826 - val_loss: 0.6574 - val_acc: 0.5656\n",
      "Epoch 9/100\n",
      "242/242 [==============================] - 0s 91us/step - loss: 0.6611 - acc: 0.5909 - val_loss: 0.6556 - val_acc: 0.5656\n",
      "Epoch 10/100\n",
      "242/242 [==============================] - 0s 112us/step - loss: 0.6577 - acc: 0.5992 - val_loss: 0.6531 - val_acc: 0.5574\n",
      "Epoch 11/100\n",
      "242/242 [==============================] - 0s 91us/step - loss: 0.6548 - acc: 0.6260 - val_loss: 0.6507 - val_acc: 0.5902\n",
      "Epoch 12/100\n",
      "242/242 [==============================] - 0s 79us/step - loss: 0.6516 - acc: 0.6405 - val_loss: 0.6485 - val_acc: 0.6066\n",
      "Epoch 13/100\n",
      "242/242 [==============================] - 0s 112us/step - loss: 0.6484 - acc: 0.6488 - val_loss: 0.6458 - val_acc: 0.6066\n",
      "Epoch 14/100\n",
      "242/242 [==============================] - 0s 66us/step - loss: 0.6451 - acc: 0.6570 - val_loss: 0.6432 - val_acc: 0.6066\n",
      "Epoch 15/100\n",
      "242/242 [==============================] - 0s 108us/step - loss: 0.6420 - acc: 0.6653 - val_loss: 0.6403 - val_acc: 0.6230\n",
      "Epoch 16/100\n",
      "242/242 [==============================] - 0s 79us/step - loss: 0.6384 - acc: 0.6777 - val_loss: 0.6371 - val_acc: 0.6311\n",
      "Epoch 17/100\n",
      "242/242 [==============================] - 0s 62us/step - loss: 0.6350 - acc: 0.6880 - val_loss: 0.6337 - val_acc: 0.6393\n",
      "Epoch 18/100\n",
      "242/242 [==============================] - 0s 79us/step - loss: 0.6315 - acc: 0.6983 - val_loss: 0.6310 - val_acc: 0.6393\n",
      "Epoch 19/100\n",
      "242/242 [==============================] - 0s 70us/step - loss: 0.6278 - acc: 0.7107 - val_loss: 0.6267 - val_acc: 0.6475\n",
      "Epoch 20/100\n",
      "242/242 [==============================] - 0s 70us/step - loss: 0.6238 - acc: 0.7252 - val_loss: 0.6223 - val_acc: 0.6639\n",
      "Epoch 21/100\n",
      "242/242 [==============================] - 0s 95us/step - loss: 0.6195 - acc: 0.7273 - val_loss: 0.6176 - val_acc: 0.6721\n",
      "Epoch 22/100\n",
      "242/242 [==============================] - 0s 83us/step - loss: 0.6153 - acc: 0.7479 - val_loss: 0.6129 - val_acc: 0.6803\n",
      "Epoch 23/100\n",
      "242/242 [==============================] - 0s 79us/step - loss: 0.6105 - acc: 0.7521 - val_loss: 0.6080 - val_acc: 0.7131\n",
      "Epoch 24/100\n",
      "242/242 [==============================] - 0s 74us/step - loss: 0.6052 - acc: 0.7727 - val_loss: 0.6022 - val_acc: 0.7459\n",
      "Epoch 25/100\n",
      "242/242 [==============================] - 0s 91us/step - loss: 0.6001 - acc: 0.7831 - val_loss: 0.5963 - val_acc: 0.7623\n",
      "Epoch 26/100\n",
      "242/242 [==============================] - 0s 66us/step - loss: 0.5945 - acc: 0.7831 - val_loss: 0.5902 - val_acc: 0.7951\n",
      "Epoch 27/100\n",
      "242/242 [==============================] - 0s 70us/step - loss: 0.5894 - acc: 0.7831 - val_loss: 0.5837 - val_acc: 0.8033\n",
      "Epoch 28/100\n",
      "242/242 [==============================] - 0s 74us/step - loss: 0.5830 - acc: 0.7893 - val_loss: 0.5781 - val_acc: 0.7951\n",
      "Epoch 29/100\n",
      "242/242 [==============================] - 0s 74us/step - loss: 0.5772 - acc: 0.7893 - val_loss: 0.5724 - val_acc: 0.8279\n",
      "Epoch 30/100\n",
      "242/242 [==============================] - 0s 95us/step - loss: 0.5713 - acc: 0.7851 - val_loss: 0.5668 - val_acc: 0.8279\n",
      "Epoch 31/100\n",
      "242/242 [==============================] - 0s 99us/step - loss: 0.5657 - acc: 0.7872 - val_loss: 0.5610 - val_acc: 0.8361\n",
      "Epoch 32/100\n",
      "242/242 [==============================] - 0s 91us/step - loss: 0.5598 - acc: 0.7851 - val_loss: 0.5542 - val_acc: 0.8361\n",
      "Epoch 33/100\n",
      "242/242 [==============================] - 0s 103us/step - loss: 0.5542 - acc: 0.7831 - val_loss: 0.5479 - val_acc: 0.8361\n",
      "Epoch 34/100\n",
      "242/242 [==============================] - 0s 83us/step - loss: 0.5481 - acc: 0.7893 - val_loss: 0.5425 - val_acc: 0.8361\n",
      "Epoch 35/100\n",
      "242/242 [==============================] - 0s 99us/step - loss: 0.5425 - acc: 0.7893 - val_loss: 0.5361 - val_acc: 0.8361\n",
      "Epoch 36/100\n",
      "242/242 [==============================] - 0s 99us/step - loss: 0.5364 - acc: 0.7872 - val_loss: 0.5300 - val_acc: 0.8443\n",
      "Epoch 37/100\n",
      "242/242 [==============================] - 0s 87us/step - loss: 0.5306 - acc: 0.7893 - val_loss: 0.5241 - val_acc: 0.8443\n",
      "Epoch 38/100\n",
      "242/242 [==============================] - 0s 95us/step - loss: 0.5252 - acc: 0.7893 - val_loss: 0.5183 - val_acc: 0.8443\n",
      "Epoch 39/100\n",
      "242/242 [==============================] - 0s 120us/step - loss: 0.5196 - acc: 0.7913 - val_loss: 0.5127 - val_acc: 0.8361\n",
      "Epoch 40/100\n",
      "242/242 [==============================] - 0s 99us/step - loss: 0.5144 - acc: 0.7934 - val_loss: 0.5065 - val_acc: 0.8361\n",
      "Epoch 41/100\n",
      "242/242 [==============================] - 0s 79us/step - loss: 0.5091 - acc: 0.7934 - val_loss: 0.5024 - val_acc: 0.8443\n",
      "Epoch 42/100\n",
      "242/242 [==============================] - 0s 83us/step - loss: 0.5042 - acc: 0.7893 - val_loss: 0.4965 - val_acc: 0.8443\n",
      "Epoch 43/100\n",
      "242/242 [==============================] - 0s 79us/step - loss: 0.4991 - acc: 0.7893 - val_loss: 0.4912 - val_acc: 0.8443\n",
      "Epoch 44/100\n",
      "242/242 [==============================] - 0s 70us/step - loss: 0.4944 - acc: 0.7872 - val_loss: 0.4867 - val_acc: 0.8361\n",
      "Epoch 45/100\n",
      "242/242 [==============================] - 0s 83us/step - loss: 0.4900 - acc: 0.7893 - val_loss: 0.4832 - val_acc: 0.8279\n",
      "Epoch 46/100\n",
      "242/242 [==============================] - 0s 79us/step - loss: 0.4850 - acc: 0.7893 - val_loss: 0.4790 - val_acc: 0.8279\n",
      "Epoch 47/100\n",
      "242/242 [==============================] - 0s 66us/step - loss: 0.4808 - acc: 0.7893 - val_loss: 0.4751 - val_acc: 0.8279\n",
      "Epoch 48/100\n",
      "242/242 [==============================] - 0s 91us/step - loss: 0.4767 - acc: 0.7913 - val_loss: 0.4728 - val_acc: 0.8279\n",
      "Epoch 49/100\n",
      "242/242 [==============================] - 0s 79us/step - loss: 0.4723 - acc: 0.7955 - val_loss: 0.4690 - val_acc: 0.8279\n",
      "Epoch 50/100\n",
      "242/242 [==============================] - 0s 87us/step - loss: 0.4687 - acc: 0.7955 - val_loss: 0.4640 - val_acc: 0.8361\n",
      "Epoch 51/100\n",
      "242/242 [==============================] - 0s 70us/step - loss: 0.4645 - acc: 0.7975 - val_loss: 0.4606 - val_acc: 0.8443\n",
      "Epoch 52/100\n",
      "242/242 [==============================] - 0s 70us/step - loss: 0.4609 - acc: 0.7996 - val_loss: 0.4595 - val_acc: 0.8279\n",
      "Epoch 53/100\n",
      "242/242 [==============================] - 0s 79us/step - loss: 0.4574 - acc: 0.8037 - val_loss: 0.4584 - val_acc: 0.8279\n",
      "Epoch 54/100\n",
      "242/242 [==============================] - 0s 74us/step - loss: 0.4539 - acc: 0.8058 - val_loss: 0.4531 - val_acc: 0.8361\n",
      "Epoch 55/100\n",
      "242/242 [==============================] - 0s 74us/step - loss: 0.4505 - acc: 0.8058 - val_loss: 0.4492 - val_acc: 0.8443\n",
      "Epoch 56/100\n",
      "242/242 [==============================] - 0s 83us/step - loss: 0.4474 - acc: 0.8017 - val_loss: 0.4439 - val_acc: 0.8443\n",
      "Epoch 57/100\n",
      "242/242 [==============================] - 0s 87us/step - loss: 0.4441 - acc: 0.8058 - val_loss: 0.4419 - val_acc: 0.8443\n",
      "Epoch 58/100\n",
      "242/242 [==============================] - 0s 79us/step - loss: 0.4410 - acc: 0.8120 - val_loss: 0.4426 - val_acc: 0.8361\n",
      "Epoch 59/100\n",
      "242/242 [==============================] - 0s 74us/step - loss: 0.4381 - acc: 0.8120 - val_loss: 0.4402 - val_acc: 0.8361\n",
      "Epoch 60/100\n",
      "242/242 [==============================] - 0s 74us/step - loss: 0.4351 - acc: 0.8120 - val_loss: 0.4369 - val_acc: 0.8443\n",
      "Epoch 61/100\n",
      "242/242 [==============================] - 0s 62us/step - loss: 0.4325 - acc: 0.8099 - val_loss: 0.4359 - val_acc: 0.8443\n",
      "Epoch 62/100\n",
      "242/242 [==============================] - 0s 66us/step - loss: 0.4298 - acc: 0.8099 - val_loss: 0.4340 - val_acc: 0.8443\n",
      "Epoch 63/100\n",
      "242/242 [==============================] - 0s 87us/step - loss: 0.4277 - acc: 0.8140 - val_loss: 0.4297 - val_acc: 0.8607\n",
      "Epoch 64/100\n",
      "242/242 [==============================] - 0s 83us/step - loss: 0.4246 - acc: 0.8140 - val_loss: 0.4290 - val_acc: 0.8607\n",
      "Epoch 65/100\n",
      "242/242 [==============================] - 0s 70us/step - loss: 0.4225 - acc: 0.8120 - val_loss: 0.4287 - val_acc: 0.8607\n",
      "Epoch 66/100\n",
      "242/242 [==============================] - 0s 79us/step - loss: 0.4203 - acc: 0.8140 - val_loss: 0.4280 - val_acc: 0.8607\n",
      "Epoch 67/100\n",
      "242/242 [==============================] - 0s 70us/step - loss: 0.4180 - acc: 0.8161 - val_loss: 0.4269 - val_acc: 0.8525\n",
      "Epoch 68/100\n",
      "242/242 [==============================] - 0s 79us/step - loss: 0.4161 - acc: 0.8182 - val_loss: 0.4254 - val_acc: 0.8525\n",
      "Epoch 69/100\n",
      "242/242 [==============================] - 0s 79us/step - loss: 0.4142 - acc: 0.8182 - val_loss: 0.4213 - val_acc: 0.8689\n",
      "Epoch 70/100\n",
      "242/242 [==============================] - 0s 70us/step - loss: 0.4119 - acc: 0.8223 - val_loss: 0.4210 - val_acc: 0.8607\n",
      "Epoch 71/100\n",
      "242/242 [==============================] - 0s 83us/step - loss: 0.4101 - acc: 0.8223 - val_loss: 0.4214 - val_acc: 0.8607\n",
      "Epoch 72/100\n",
      "242/242 [==============================] - 0s 91us/step - loss: 0.4082 - acc: 0.8182 - val_loss: 0.4205 - val_acc: 0.8607\n",
      "Epoch 73/100\n",
      "242/242 [==============================] - 0s 103us/step - loss: 0.4066 - acc: 0.8182 - val_loss: 0.4174 - val_acc: 0.8607\n",
      "Epoch 74/100\n",
      "242/242 [==============================] - 0s 132us/step - loss: 0.4047 - acc: 0.8223 - val_loss: 0.4158 - val_acc: 0.8607\n",
      "Epoch 75/100\n",
      "242/242 [==============================] - 0s 79us/step - loss: 0.4030 - acc: 0.8202 - val_loss: 0.4165 - val_acc: 0.8607\n",
      "Epoch 76/100\n",
      "242/242 [==============================] - 0s 66us/step - loss: 0.4017 - acc: 0.8223 - val_loss: 0.4164 - val_acc: 0.8607\n",
      "Epoch 77/100\n",
      "242/242 [==============================] - 0s 70us/step - loss: 0.4002 - acc: 0.8285 - val_loss: 0.4157 - val_acc: 0.8525\n",
      "Epoch 78/100\n",
      "242/242 [==============================] - 0s 99us/step - loss: 0.3989 - acc: 0.8244 - val_loss: 0.4115 - val_acc: 0.8607\n",
      "Epoch 79/100\n",
      "242/242 [==============================] - 0s 74us/step - loss: 0.3973 - acc: 0.8285 - val_loss: 0.4079 - val_acc: 0.8607\n",
      "Epoch 80/100\n",
      "242/242 [==============================] - 0s 79us/step - loss: 0.3957 - acc: 0.8326 - val_loss: 0.4072 - val_acc: 0.8607\n",
      "Epoch 81/100\n",
      "242/242 [==============================] - 0s 79us/step - loss: 0.3947 - acc: 0.8326 - val_loss: 0.4055 - val_acc: 0.8607\n",
      "Epoch 82/100\n",
      "242/242 [==============================] - 0s 79us/step - loss: 0.3932 - acc: 0.8326 - val_loss: 0.4076 - val_acc: 0.8525\n",
      "Epoch 83/100\n",
      "242/242 [==============================] - 0s 66us/step - loss: 0.3919 - acc: 0.8347 - val_loss: 0.4080 - val_acc: 0.8525\n",
      "Epoch 84/100\n",
      "242/242 [==============================] - 0s 74us/step - loss: 0.3907 - acc: 0.8347 - val_loss: 0.4083 - val_acc: 0.8525\n",
      "Epoch 85/100\n",
      "242/242 [==============================] - 0s 58us/step - loss: 0.3897 - acc: 0.8347 - val_loss: 0.4068 - val_acc: 0.8525\n",
      "Epoch 86/100\n",
      "242/242 [==============================] - 0s 70us/step - loss: 0.3884 - acc: 0.8388 - val_loss: 0.4104 - val_acc: 0.8443\n",
      "Epoch 87/100\n",
      "242/242 [==============================] - 0s 95us/step - loss: 0.3872 - acc: 0.8409 - val_loss: 0.4118 - val_acc: 0.8361\n",
      "Epoch 88/100\n",
      "242/242 [==============================] - 0s 91us/step - loss: 0.3859 - acc: 0.8409 - val_loss: 0.4123 - val_acc: 0.8361\n",
      "Epoch 89/100\n",
      "242/242 [==============================] - 0s 99us/step - loss: 0.3850 - acc: 0.8409 - val_loss: 0.4127 - val_acc: 0.8361\n",
      "Epoch 90/100\n",
      "242/242 [==============================] - 0s 103us/step - loss: 0.3836 - acc: 0.8430 - val_loss: 0.4090 - val_acc: 0.8361\n",
      "Epoch 91/100\n",
      "242/242 [==============================] - 0s 83us/step - loss: 0.3825 - acc: 0.8471 - val_loss: 0.4061 - val_acc: 0.8443\n",
      "Epoch 92/100\n",
      "242/242 [==============================] - 0s 103us/step - loss: 0.3814 - acc: 0.8450 - val_loss: 0.4019 - val_acc: 0.8525\n",
      "Epoch 93/100\n",
      "242/242 [==============================] - 0s 91us/step - loss: 0.3807 - acc: 0.8430 - val_loss: 0.3991 - val_acc: 0.8525\n",
      "Epoch 94/100\n",
      "242/242 [==============================] - 0s 124us/step - loss: 0.3799 - acc: 0.8471 - val_loss: 0.4010 - val_acc: 0.8525\n",
      "Epoch 95/100\n",
      "242/242 [==============================] - 0s 128us/step - loss: 0.3790 - acc: 0.8430 - val_loss: 0.4036 - val_acc: 0.8525\n",
      "Epoch 96/100\n",
      "242/242 [==============================] - 0s 95us/step - loss: 0.3776 - acc: 0.8512 - val_loss: 0.4008 - val_acc: 0.8525\n",
      "Epoch 97/100\n",
      "242/242 [==============================] - 0s 108us/step - loss: 0.3769 - acc: 0.8512 - val_loss: 0.3995 - val_acc: 0.8525\n",
      "Epoch 98/100\n",
      "242/242 [==============================] - 0s 128us/step - loss: 0.3762 - acc: 0.8533 - val_loss: 0.4047 - val_acc: 0.8443\n",
      "Epoch 99/100\n",
      "242/242 [==============================] - 0s 116us/step - loss: 0.3747 - acc: 0.8492 - val_loss: 0.4043 - val_acc: 0.8361\n",
      "Epoch 100/100\n",
      "242/242 [==============================] - 0s 116us/step - loss: 0.3742 - acc: 0.8492 - val_loss: 0.4044 - val_acc: 0.8279\n"
     ]
    }
   ],
   "source": [
    "history= model.fit(x_train, y_train, validation_data=(x_test, y_test), epochs=100, batch_size=64)"
   ]
  },
  {
   "cell_type": "markdown",
   "metadata": {},
   "source": [
    "<div class=\"alert alert-success\">\n",
    "<font size=\"3\"><p align=\"justify\">Untuk melatih model kita menggunakan model.fit dimana X_train adalah numpy array yang digunakan sebagai data training untuk inputan, y_test adalah numpy array yang digunakan untuk data target atau keluaran, batch_size jumlah sampel per pembaharuan gradien jika tidak kita set maka nilai nya akan menggunakan nilai default yaitu 64, epochs jumlah epochs untuk melatih model, epochs adalah iterasi atas seluruh data x dan y yang disediakan, 1 kali epochs sama dengan satu kali perhitungan maju mundur, validation_data(20%) untuk mengevaluasi kerugian dan metrik model apa pun pada setiap akhir epochs.  "
   ]
  },
  {
   "cell_type": "markdown",
   "metadata": {},
   "source": [
    "<div class=\"alert alert-success\">\n",
    "<font size=\"3\"><p align=\"justify\">Berikut ini adalah tampilan prediksi data,dan Mencetak predict dari input yang akan diperoleh :"
   ]
  },
  {
   "cell_type": "code",
   "execution_count": 96,
   "metadata": {},
   "outputs": [
    {
     "data": {
      "text/plain": [
       "array([[0.26058966, 0.6660023 ],\n",
       "       [0.46746328, 0.440583  ],\n",
       "       [0.15388054, 0.9135109 ],\n",
       "       [0.20858172, 0.8386818 ],\n",
       "       [0.41285077, 0.6521953 ],\n",
       "       [0.47984582, 0.5011509 ],\n",
       "       [0.28382632, 0.7394016 ],\n",
       "       [0.1869734 , 0.8503748 ],\n",
       "       [0.08398095, 0.9290699 ],\n",
       "       [0.14569336, 0.89283276],\n",
       "       [0.41380864, 0.60699785],\n",
       "       [0.05233708, 0.9657478 ],\n",
       "       [0.19838995, 0.84677154],\n",
       "       [0.36842006, 0.557297  ],\n",
       "       [0.02763695, 0.980921  ],\n",
       "       [0.10301864, 0.9244213 ],\n",
       "       [0.04491827, 0.9708528 ],\n",
       "       [0.20065668, 0.77151585],\n",
       "       [0.39995998, 0.631405  ],\n",
       "       [0.09992969, 0.91703284],\n",
       "       [0.60755473, 0.32244825],\n",
       "       [0.14537734, 0.8707337 ],\n",
       "       [0.30650246, 0.76483107],\n",
       "       [0.39677683, 0.5364922 ],\n",
       "       [0.10430604, 0.8934603 ],\n",
       "       [0.2512223 , 0.75893074],\n",
       "       [0.10188296, 0.9153425 ],\n",
       "       [0.12833267, 0.9068452 ],\n",
       "       [0.08291838, 0.9324306 ],\n",
       "       [0.36726886, 0.535742  ],\n",
       "       [0.11501276, 0.9329433 ],\n",
       "       [0.4657666 , 0.5338836 ],\n",
       "       [0.25657737, 0.83056474],\n",
       "       [0.554757  , 0.30620584],\n",
       "       [0.26281664, 0.68213934],\n",
       "       [0.36166507, 0.50800157],\n",
       "       [0.02931312, 0.978864  ],\n",
       "       [0.25674504, 0.7666519 ],\n",
       "       [0.05916554, 0.9626111 ],\n",
       "       [0.08550072, 0.9452598 ],\n",
       "       [0.14821821, 0.8867964 ],\n",
       "       [0.38573787, 0.62013024],\n",
       "       [0.84188557, 0.07162568],\n",
       "       [0.3947792 , 0.6300658 ],\n",
       "       [0.13309428, 0.9173231 ],\n",
       "       [0.17839319, 0.8611237 ],\n",
       "       [0.14499629, 0.91349804],\n",
       "       [0.16150185, 0.89211035],\n",
       "       [0.08214194, 0.9523624 ],\n",
       "       [0.23828048, 0.85266274],\n",
       "       [0.0760684 , 0.95887864],\n",
       "       [0.65960187, 0.27147776],\n",
       "       [0.7593821 , 0.11887217],\n",
       "       [0.07944736, 0.9343655 ],\n",
       "       [0.07004589, 0.96398306],\n",
       "       [0.34232408, 0.67560124],\n",
       "       [0.43196428, 0.66059786],\n",
       "       [0.4172206 , 0.670272  ],\n",
       "       [0.0725061 , 0.95741713],\n",
       "       [0.34863466, 0.7163229 ],\n",
       "       [0.07498011, 0.9447826 ],\n",
       "       [0.20506871, 0.8141016 ],\n",
       "       [0.11020812, 0.9212189 ],\n",
       "       [0.26441616, 0.75613874],\n",
       "       [0.08939415, 0.9347044 ],\n",
       "       [0.17346731, 0.896868  ],\n",
       "       [0.3981329 , 0.5487248 ],\n",
       "       [0.19598836, 0.84788156],\n",
       "       [0.17104244, 0.88486814],\n",
       "       [0.15471202, 0.90699697],\n",
       "       [0.30668473, 0.6537896 ],\n",
       "       [0.30226618, 0.66677415],\n",
       "       [0.22167918, 0.8729339 ],\n",
       "       [0.5994898 , 0.41075817],\n",
       "       [0.06925726, 0.93963695],\n",
       "       [0.2685075 , 0.7623619 ],\n",
       "       [0.27204898, 0.6957828 ],\n",
       "       [0.3640405 , 0.6650422 ],\n",
       "       [0.09083068, 0.93316793],\n",
       "       [0.5233295 , 0.39154035],\n",
       "       [0.08800492, 0.9447603 ],\n",
       "       [0.26515764, 0.8011116 ],\n",
       "       [0.06406391, 0.9572679 ],\n",
       "       [0.08714628, 0.9058991 ],\n",
       "       [0.41020074, 0.6215452 ],\n",
       "       [0.22848523, 0.7552188 ],\n",
       "       [0.26833516, 0.70882773],\n",
       "       [0.12546101, 0.89687014],\n",
       "       [0.10469243, 0.9233253 ],\n",
       "       [0.49330994, 0.5204051 ],\n",
       "       [0.12151435, 0.8754135 ],\n",
       "       [0.6247479 , 0.37107104],\n",
       "       [0.504584  , 0.41273254],\n",
       "       [0.30824625, 0.7013372 ],\n",
       "       [0.13777578, 0.89905655],\n",
       "       [0.796453  , 0.17219591],\n",
       "       [0.4829497 , 0.5047796 ],\n",
       "       [0.68899924, 0.20329332],\n",
       "       [0.21080163, 0.79353386],\n",
       "       [0.31709117, 0.6250423 ],\n",
       "       [0.21084693, 0.8103945 ],\n",
       "       [0.6774359 , 0.18666041],\n",
       "       [0.2087045 , 0.8364923 ],\n",
       "       [0.21359256, 0.7288573 ],\n",
       "       [0.09950802, 0.9378893 ],\n",
       "       [0.22212401, 0.803297  ],\n",
       "       [0.18626842, 0.7632318 ],\n",
       "       [0.59088486, 0.37458616],\n",
       "       [0.09051126, 0.94698703],\n",
       "       [0.21940205, 0.8681913 ],\n",
       "       [0.41636154, 0.6373703 ],\n",
       "       [0.1139378 , 0.8925328 ],\n",
       "       [0.06320208, 0.9590409 ],\n",
       "       [0.34292728, 0.69731414],\n",
       "       [0.19720674, 0.8457333 ],\n",
       "       [0.05093029, 0.9676116 ],\n",
       "       [0.3107673 , 0.6805151 ],\n",
       "       [0.22973889, 0.74834347],\n",
       "       [0.08422244, 0.9517713 ],\n",
       "       [0.5750243 , 0.39136913],\n",
       "       [0.78039   , 0.15181217],\n",
       "       [0.464746  , 0.5972549 ],\n",
       "       [0.08152679, 0.93500876],\n",
       "       [0.06904459, 0.9629281 ],\n",
       "       [0.05716175, 0.9664713 ],\n",
       "       [0.08614871, 0.9517174 ],\n",
       "       [0.3451811 , 0.71016616],\n",
       "       [0.06688339, 0.95822453],\n",
       "       [0.09962502, 0.92977655],\n",
       "       [0.49883014, 0.49993992],\n",
       "       [0.06799644, 0.9568821 ],\n",
       "       [0.12267548, 0.90810657],\n",
       "       [0.1684868 , 0.8773738 ],\n",
       "       [0.17428103, 0.87776875],\n",
       "       [0.07588711, 0.95482403],\n",
       "       [0.13850993, 0.91790295],\n",
       "       [0.04583129, 0.9692682 ],\n",
       "       [0.1938282 , 0.82695895],\n",
       "       [0.77780104, 0.16105741],\n",
       "       [0.87318444, 0.042068  ],\n",
       "       [0.07204288, 0.960459  ],\n",
       "       [0.50429124, 0.45684612],\n",
       "       [0.06624475, 0.94211435],\n",
       "       [0.41634625, 0.59874225],\n",
       "       [0.11701968, 0.90711665],\n",
       "       [0.36374834, 0.6761387 ],\n",
       "       [0.09985411, 0.9122941 ],\n",
       "       [0.03277853, 0.97792566],\n",
       "       [0.0935351 , 0.94116414],\n",
       "       [0.102451  , 0.9355482 ],\n",
       "       [0.6484444 , 0.3482276 ],\n",
       "       [0.48580104, 0.5342262 ],\n",
       "       [0.2007179 , 0.772634  ],\n",
       "       [0.18308389, 0.82429624],\n",
       "       [0.0639278 , 0.94001025],\n",
       "       [0.35793954, 0.676907  ],\n",
       "       [0.09009215, 0.9437045 ],\n",
       "       [0.16025499, 0.90083003],\n",
       "       [0.8541355 , 0.05562606],\n",
       "       [0.3338781 , 0.7114004 ],\n",
       "       [0.43910867, 0.47618955],\n",
       "       [0.09895164, 0.9376458 ],\n",
       "       [0.16383836, 0.90116596],\n",
       "       [0.44041654, 0.49671847],\n",
       "       [0.44041654, 0.49671847],\n",
       "       [0.9180761 , 0.01568213],\n",
       "       [0.91969955, 0.01508033],\n",
       "       [0.8703965 , 0.04261917],\n",
       "       [0.8382876 , 0.07213446],\n",
       "       [0.90516174, 0.02501065],\n",
       "       [0.4730185 , 0.42271963],\n",
       "       [0.5728591 , 0.31999403],\n",
       "       [0.5446573 , 0.39234024],\n",
       "       [0.60889435, 0.29673183],\n",
       "       [0.91379523, 0.01732764],\n",
       "       [0.85860544, 0.05330837],\n",
       "       [0.8602639 , 0.08250752],\n",
       "       [0.10713777, 0.91727865],\n",
       "       [0.8724234 , 0.04277179],\n",
       "       [0.83617175, 0.06753945],\n",
       "       [0.8827317 , 0.03727546],\n",
       "       [0.8626535 , 0.06094193],\n",
       "       [0.22984359, 0.8458451 ],\n",
       "       [0.5961625 , 0.2969054 ],\n",
       "       [0.8304368 , 0.08712313],\n",
       "       [0.5869578 , 0.42209893],\n",
       "       [0.84797585, 0.09519055],\n",
       "       [0.9061835 , 0.02046558],\n",
       "       [0.32990438, 0.60115075],\n",
       "       [0.48589173, 0.5727967 ],\n",
       "       [0.7291679 , 0.23638931],\n",
       "       [0.9191031 , 0.01530004],\n",
       "       [0.8173047 , 0.09648359],\n",
       "       [0.9261459 , 0.01281059],\n",
       "       [0.47123662, 0.47405115],\n",
       "       [0.92231154, 0.0141376 ],\n",
       "       [0.41892618, 0.53424335],\n",
       "       [0.7501757 , 0.13665667],\n",
       "       [0.9119403 , 0.01806724],\n",
       "       [0.71957827, 0.23960632],\n",
       "       [0.551423  , 0.4915816 ],\n",
       "       [0.9114051 , 0.01828364],\n",
       "       [0.83520406, 0.11235589],\n",
       "       [0.64612436, 0.25071457],\n",
       "       [0.92861366, 0.01199195],\n",
       "       [0.74791324, 0.2092104 ],\n",
       "       [0.88030136, 0.03595942],\n",
       "       [0.84569275, 0.08518904],\n",
       "       [0.74741304, 0.1334368 ],\n",
       "       [0.76145744, 0.19852462],\n",
       "       [0.44201255, 0.46201423],\n",
       "       [0.91069984, 0.02051318],\n",
       "       [0.64412785, 0.29578784],\n",
       "       [0.80319834, 0.15918702],\n",
       "       [0.85899556, 0.06020692],\n",
       "       [0.8402524 , 0.11403301],\n",
       "       [0.31916812, 0.6512214 ],\n",
       "       [0.92677665, 0.01674038],\n",
       "       [0.88318765, 0.03408095],\n",
       "       [0.8357268 , 0.0977495 ],\n",
       "       [0.91356015, 0.02243724],\n",
       "       [0.9226795 , 0.01501387],\n",
       "       [0.18872926, 0.7623863 ],\n",
       "       [0.94207424, 0.00866938],\n",
       "       [0.89572597, 0.02855301],\n",
       "       [0.8953527 , 0.0254634 ],\n",
       "       [0.80891114, 0.10796782],\n",
       "       [0.8269499 , 0.09782231],\n",
       "       [0.17197701, 0.80841565],\n",
       "       [0.65950775, 0.2503565 ],\n",
       "       [0.09748632, 0.9350546 ],\n",
       "       [0.90400994, 0.02179137],\n",
       "       [0.8903593 , 0.03103063],\n",
       "       [0.8952159 , 0.02547136],\n",
       "       [0.90564215, 0.02069917],\n",
       "       [0.73897904, 0.2332721 ],\n",
       "       [0.7543015 , 0.18318859],\n",
       "       [0.86310667, 0.04685894],\n",
       "       [0.87621033, 0.04056209],\n",
       "       [0.67605937, 0.31281435],\n",
       "       [0.8676797 , 0.06348923],\n",
       "       [0.5517377 , 0.41282386],\n",
       "       [0.8402748 , 0.05953923],\n",
       "       [0.8891394 , 0.03185186],\n",
       "       [0.8452107 , 0.06051001],\n",
       "       [0.65046215, 0.27954054],\n",
       "       [0.8885193 , 0.04348519],\n",
       "       [0.8163576 , 0.0841825 ],\n",
       "       [0.45714006, 0.542103  ],\n",
       "       [0.8477518 , 0.06287211],\n",
       "       [0.937955  , 0.00914288],\n",
       "       [0.91037935, 0.02150419],\n",
       "       [0.8183257 , 0.10013333],\n",
       "       [0.8836285 , 0.03139314],\n",
       "       [0.10789302, 0.9224389 ],\n",
       "       [0.8947904 , 0.02579743],\n",
       "       [0.9226481 , 0.01401848],\n",
       "       [0.85539365, 0.06151083],\n",
       "       [0.70275116, 0.27846405],\n",
       "       [0.39503765, 0.5155185 ],\n",
       "       [0.85484403, 0.0818713 ],\n",
       "       [0.46087724, 0.55454713],\n",
       "       [0.91110384, 0.01840603],\n",
       "       [0.8284154 , 0.10231999],\n",
       "       [0.83717513, 0.06291842],\n",
       "       [0.7952545 , 0.14676422],\n",
       "       [0.8106436 , 0.15901491],\n",
       "       [0.5968661 , 0.34741193],\n",
       "       [0.9075209 , 0.01989442],\n",
       "       [0.9030843 , 0.0225836 ],\n",
       "       [0.5571684 , 0.43913132],\n",
       "       [0.44728854, 0.42861795],\n",
       "       [0.76754093, 0.1644766 ],\n",
       "       [0.5161227 , 0.4481809 ],\n",
       "       [0.856515  , 0.04842487],\n",
       "       [0.69632864, 0.2306357 ],\n",
       "       [0.8516495 , 0.06074512],\n",
       "       [0.25837234, 0.7556783 ],\n",
       "       [0.19924557, 0.8080544 ],\n",
       "       [0.8949207 , 0.02574703],\n",
       "       [0.7898217 , 0.13921303],\n",
       "       [0.60376877, 0.4025616 ],\n",
       "       [0.31613636, 0.62619853],\n",
       "       [0.33875906, 0.7073096 ],\n",
       "       [0.8752386 , 0.05429158],\n",
       "       [0.90694726, 0.02032888],\n",
       "       [0.16957298, 0.8391422 ],\n",
       "       [0.44675496, 0.58413506],\n",
       "       [0.90440184, 0.02325851],\n",
       "       [0.8192266 , 0.13103566],\n",
       "       [0.5433996 , 0.4182274 ],\n",
       "       [0.87571347, 0.03581902],\n",
       "       [0.8679545 , 0.05497074],\n",
       "       [0.3824945 , 0.5539525 ],\n",
       "       [0.8075149 , 0.11003891],\n",
       "       [0.92292285, 0.01512861],\n",
       "       [0.579105  , 0.40902072],\n",
       "       [0.82934237, 0.07288998],\n",
       "       [0.6660595 , 0.2879142 ],\n",
       "       [0.15389675, 0.8387216 ],\n",
       "       [0.89756715, 0.03012151],\n",
       "       [0.87208295, 0.04337382],\n",
       "       [0.28624588, 0.73580164]], dtype=float32)"
      ]
     },
     "execution_count": 96,
     "metadata": {},
     "output_type": "execute_result"
    }
   ],
   "source": [
    "predict = model.predict(x_scaled)\n",
    "predict"
   ]
  },
  {
   "cell_type": "code",
   "execution_count": 97,
   "metadata": {},
   "outputs": [
    {
     "name": "stdout",
     "output_type": "stream",
     "text": [
      "61/61 [==============================] - 0s 295us/step\n",
      "\n",
      "acc: 82.79%\n"
     ]
    }
   ],
   "source": [
    "scores = model.evaluate(x_test, y_test)\n",
    "print(\"\\n%s: %.2f%%\" % (model.metrics_names[1], scores[1]*100))"
   ]
  },
  {
   "cell_type": "code",
   "execution_count": 98,
   "metadata": {},
   "outputs": [
    {
     "name": "stdout",
     "output_type": "stream",
     "text": [
      "0.8278688553903923\n"
     ]
    }
   ],
   "source": [
    "print(scores[1])"
   ]
  },
  {
   "cell_type": "markdown",
   "metadata": {},
   "source": [
    "<div class=\"alert alert-success\"><strong>TRAINING AND TESTING ACCURACY</strong>"
   ]
  },
  {
   "cell_type": "code",
   "execution_count": 99,
   "metadata": {},
   "outputs": [
    {
     "data": {
      "image/png": "[encoded data removed]",
      "text/plain": [
       "<Figure size 432x288 with 1 Axes>"
      ]
     },
     "metadata": {
      "needs_background": "light"
     },
     "output_type": "display_data"
    }
   ],
   "source": [
    "plt.plot(history.history['acc'])\n",
    "plt.plot(history.history['val_acc'])\n",
    "plt.title('Model Accuracy')\n",
    "plt.ylabel('Akurasi')\n",
    "plt.xlabel('Epoch')\n",
    "plt.legend(['Data Latih', 'Data Testing'], loc='upper left')\n",
    "plt.show()"
   ]
  },
  {
   "cell_type": "markdown",
   "metadata": {},
   "source": [
    "<div class=\"alert alert-success\"><strong>TRAINING AND TESTING LOSS</strong>"
   ]
  },
  {
   "cell_type": "code",
   "execution_count": 100,
   "metadata": {},
   "outputs": [
    {
     "data": {
      "image/png": "[encoded data removed]",
      "text/plain": [
       "<Figure size 432x288 with 1 Axes>"
      ]
     },
     "metadata": {
      "needs_background": "light"
     },
     "output_type": "display_data"
    }
   ],
   "source": [
    "plt.plot(history.history['loss'])\n",
    "plt.plot(history.history['val_loss'])\n",
    "plt.title('Model Loss')\n",
    "plt.ylabel('Loss')\n",
    "plt.xlabel('Epoch')\n",
    "plt.legend(['Data Latih', 'Data Testing'], loc='upper left')\n",
    "plt.show()"
   ]
  },
  {
   "cell_type": "markdown",
   "metadata": {},
   "source": [
    "<div class=\"alert alert-success\"><strong>CONFUSION MATRIX</strong>\n",
    "<div class=\"alert alert-success\">\n",
    "<font size=\"3\"><p align=\"justify\">Confusion matrix merupakan salah satu metode yang dapat digunakan untuk mengukur kinerja suatu metode klasifikasi. Pada dasarnya confusion matrix mengandung informasi yang membandingkan hasil klasifikasi yang dilakukan oleh sistem dengan hasil klasifikasi yang seharusnya "
   ]
  },
  {
   "cell_type": "code",
   "execution_count": 101,
   "metadata": {},
   "outputs": [],
   "source": [
    "from sklearn.metrics import confusion_matrix\n",
    "ConfusionMatrix = confusion_matrix(y_categorical.argmax(axis=1), predict.argmax(axis=1))"
   ]
  },
  {
   "cell_type": "markdown",
   "metadata": {},
   "source": [
    "<div class=\"alert alert-success\">\n",
    "<font size=\"3\"><p align=\"justify\">Konsep dari confusion matrix adalah sebagai berikut : <br>"
   ]
  },
  {
   "cell_type": "code",
   "execution_count": 102,
   "metadata": {},
   "outputs": [
    {
     "data": {
      "text/plain": [
       "array([[114,  24],\n",
       "       [ 21, 144]], dtype=int64)"
      ]
     },
     "execution_count": 102,
     "metadata": {},
     "output_type": "execute_result"
    }
   ],
   "source": [
    "ConfusionMatrix"
   ]
  },
  {
   "cell_type": "markdown",
   "metadata": {},
   "source": [
    "<div class=\"alert alert-success\"><strong>ACCURACY</strong>\n",
    "<div class=\"alert alert-success\">\n",
    "<font size=\"3\"><p align=\"justify\">Melalui confusion matrix, rumus dalam menghitung nilai akurasinya adalah sebagai berikut :"
   ]
  },
  {
   "cell_type": "code",
   "execution_count": 107,
   "metadata": {},
   "outputs": [
    {
     "name": "stdout",
     "output_type": "stream",
     "text": [
      "\n",
      "Accuracy: 85.15%\n"
     ]
    }
   ],
   "source": [
    "#Accuracy = ((TP+TN) / (TP+TN+FP+FN))\n",
    "acc = ((114+144) / (114+144+24+21))\n",
    "print(\"\\n%s: %.2f%%\" % (\"Accuracy\", acc*100))"
   ]
  },
  {
   "cell_type": "markdown",
   "metadata": {},
   "source": [
    "<div class=\"alert alert-success\"><strong>PRECISSION</strong>\n",
    "<div class=\"alert alert-success\">\n",
    "<font size=\"3\"><p align=\"justify\">Melalui confusion matrix, rumus dalam menghitung nilai presisinya adalah sebagai berikut :"
   ]
  },
  {
   "cell_type": "code",
   "execution_count": 108,
   "metadata": {},
   "outputs": [
    {
     "name": "stdout",
     "output_type": "stream",
     "text": [
      "\n",
      "Precission: 82.61%\n"
     ]
    }
   ],
   "source": [
    "#Precession = ((TP) / (TP+FP))\n",
    "prec = ((114) / (114+24))\n",
    "print(\"\\n%s: %.2f%%\" % (\"Precission\", prec*100))"
   ]
  },
  {
   "cell_type": "markdown",
   "metadata": {},
   "source": [
    "<div class=\"alert alert-success\"><strong>RECALL</strong>\n",
    "<div class=\"alert alert-success\">\n",
    "<font size=\"3\"><p align=\"justify\">Melalui confusion matrix, rumus dalam menghitung nilai recallnya adalah sebagai berikut :"
   ]
  },
  {
   "cell_type": "code",
   "execution_count": 109,
   "metadata": {},
   "outputs": [
    {
     "name": "stdout",
     "output_type": "stream",
     "text": [
      "\n",
      "recall: 84.44%\n"
     ]
    }
   ],
   "source": [
    "#Recall = ((TP) / (TP+FN))\n",
    "recall = ((114) / (114+21))\n",
    "print(\"\\n%s: %.2f%%\" % (\"recall\", recall*100))"
   ]
  },
  {
   "cell_type": "markdown",
   "metadata": {},
   "source": [
    "<div class=\"alert alert-success\"><strong>TRUE NEGATIF RATE</strong>\n",
    "<div class=\"alert alert-success\">\n",
    "<font size=\"3\"><p align=\"justify\">Melalui confusion matrix, rumus dalam menghitung nilai TNRnya adalah sebagai berikut :"
   ]
  },
  {
   "cell_type": "code",
   "execution_count": 110,
   "metadata": {},
   "outputs": [
    {
     "name": "stdout",
     "output_type": "stream",
     "text": [
      "\n",
      "TrueNegatifRate: 0.14%\n"
     ]
    }
   ],
   "source": [
    "#TNR = ((FP) / (TN+FP))\n",
    "TrueNegatifRate = ((24) / (144+24))\n",
    "print(\"\\n%s: %.2f%%\" % (\"TrueNegatifRate\",TrueNegatifRate))"
   ]
  },
  {
   "cell_type": "markdown",
   "metadata": {},
   "source": [
    "<div class=\"alert alert-success\"><strong>F1-SCORE</strong>\n",
    "<div class=\"alert alert-success\">\n",
    "<font size=\"3\"><p align=\"justify\">Melalui confusion matrix, rumus dalam menghitung nilai F1-Scorenya adalah sebagai berikut :"
   ]
  },
  {
   "cell_type": "code",
   "execution_count": 113,
   "metadata": {},
   "outputs": [
    {
     "name": "stdout",
     "output_type": "stream",
     "text": [
      "\n",
      "F1: 0.84%\n"
     ]
    }
   ],
   "source": [
    "#F1-Score = ((2*Precession*Recall) / (Precession+Recall))\n",
    "F1 = ((2 * prec * recall) / (prec + recall))\n",
    "print(\"\\n%s: %.2f%%\" % (\"F1\",F1))"
   ]
  }
 ],
 "metadata": {
  "kernelspec": {
   "display_name": "Python 3",
   "language": "python",
   "name": "python3"
  },
  "language_info": {
   "codemirror_mode": {
    "name": "ipython",
    "version": 3
   },
   "file_extension": ".py",
   "mimetype": "text/x-python",
   "name": "python",
   "nbconvert_exporter": "python",
   "pygments_lexer": "ipython3",
   "version": "3.6.5"
  }
 },
 "nbformat": 4,
 "nbformat_minor": 2
}
