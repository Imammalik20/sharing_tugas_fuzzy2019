{
 "cells": [
  {
   "cell_type": "markdown",
   "metadata": {},
   "source": [
    "<div class=\"alert alert-success\">\n",
    "<h3><center>\" Diagnosa Gangguan Hati Menggunakan Jaringan Saraf Tiruan\"<center> </h2>\n",
    "<ul>\n",
    "<li style=\"text-align: left;\">\n",
    "<h3><strong>NAMA &emsp; &emsp;&emsp; &emsp; &emsp; &emsp;: ASRI SAFMI</strong></h3>\n",
    "</li>\n",
    "<li style=\"text-align: left;\">\n",
    "<h3><strong>NIM &emsp;&emsp;&emsp;&emsp;&emsp;&emsp;&emsp;&emsp; : 09011181722002</strong></h3>\n",
    "</li>\n",
    "<li style=\"text-align: left;\">\n",
    "<h3><strong>KELAS &emsp;&emsp;&emsp;&emsp;&emsp;&emsp;&ensp; : SK 5B</strong></h3>\n",
    "</li>\n",
    "<li style=\"text-align: left;\">\n",
    "<h3><strong>JURUSAN &emsp;&emsp;&emsp;&emsp;&emsp;&nbsp;: SISTEM KOMPUTER 17</strong></h3>\n",
    "</li>\n",
    "<li style=\"text-align: left;\">\n",
    "<h3><strong>MATA KULIAH &emsp;&emsp;&emsp; : PRAKTIKUM_KECERDASAN BUATAN</strong></h3>\n",
    "</li>\n",
    "<li style=\"text-align: left;\">\n",
    "<h3><strong>DOSEN PENGAMPUH: Prof. Dr. Ir. Siti Nurmaini, M.T.</strong></h3>\n",
    "</li>\n",
    "</ul>\n",
    "</div>"
   ]
  },
  {
   "cell_type": "markdown",
   "metadata": {},
   "source": [
    "<div class=\"alert alert-success\">\n",
    " <font size=\"3\"><p align=\"justify\">\n",
    "    <strong>Dibawah ini adalah daftar-daftar Modul yang akan digunakan :</strong>\n",
    "<ul>\n",
    "<li style=\"text-align: left;\">\n",
    "    <strong>Numpy =</strong> Modul ini berfungsi untuk melakukan beberapa fungsi matematika seperti array, dan matriks. Pada program ini numpy digunakan untuk generate array untuk membuat grafik confusion matriks\n",
    "</li> \n",
    "</ul>\n",
    "\n",
    "<ul>\n",
    "<li style=\"text-align: left;\">\n",
    "<strong>Pandas =</strong> Modul ini akan digunakan untuk Load Dataset, karena pandas lebih baik untuk load data dengan skala besar\n",
    "</li>\n",
    "</ul>\n",
    "  \n",
    "<ul>\n",
    "<li style=\"text-align: left;\">\n",
    "<strong>Matplotlib =</strong> Modul ini digunakan untuk mencetak grafik pada beberapa event seperti grafik distribusi variabel, grafik confusion matrix, grafik akurasi, dll.\n",
    "</li>\n",
    "</ul>\n",
    "\n",
    "<ul>\n",
    "<li style=\"text-align: left;\">\n",
    "<strong>Seaborn =</strong> Modul ini digunakan untuk plot grafik distribusi nilai dari Class (output), modul ini berbasis matplotlib.\n",
    "</li>\n",
    "</ul>\n",
    "\n",
    "<ul>\n",
    "<li style=\"text-align: left;\">\n",
    "<strong>Sklearn =</strong> Modul ini adalah salah satu modul utama yang digunakan untuk mengolah data Machine Learning seperti preprocessing, dan lainnya\n",
    "</li>\n",
    "</ul>\n",
    "\n",
    "<ul>\n",
    "<li style=\"text-align: left;\">\n",
    "<strong>Keras =</strong> Modul ini digunakan untuk membuat, menambah, dan mengevaluasi model neural network\n",
    "</li>\n",
    "</ul>\n",
    "\n",
    "\n",
    "<div>"
   ]
  },
  {
   "cell_type": "code",
   "execution_count": 224,
   "metadata": {},
   "outputs": [],
   "source": [
    "from sklearn.utils import resample\n",
    "from keras.models import Sequential\n",
    "from keras.layers import Dense, Dropout, MaxPooling1D\n",
    "%matplotlib inline\n",
    "from sklearn.preprocessing import StandardScaler\n",
    "from sklearn.preprocessing import MinMaxScaler\n",
    "scaler = MinMaxScaler\n",
    "from keras.utils.np_utils import to_categorical\n",
    "import numpy as np\n",
    "import pandas as pd\n",
    "import seaborn as sns\n",
    "import matplotlib.pyplot as plt"
   ]
  },
  {
   "cell_type": "markdown",
   "metadata": {},
   "source": [
    "<div class=\"alert alert-success\">\n",
    "<h3><strong>Load Data dari Dataset Liver Disorders</strong></h3>\n",
    "</ul>\n",
    "</div>"
   ]
  },
  {
   "cell_type": "markdown",
   "metadata": {},
   "source": [
    "Link dataset Liver Disorders : https://archive.ics.uci.edu/ml/machine-learning-databases/liver-disorders/\n",
    "\n",
    "Link jurnal: https://www.researchgate.net/publication/318468361_Liver_Disease_Diagnosis_Based_on_Neural_Networks&prev=search"
   ]
  },
  {
   "cell_type": "code",
   "execution_count": 225,
   "metadata": {},
   "outputs": [],
   "source": [
    "liver = pd.read_csv(\"ini_liver_disorders.csv\")"
   ]
  },
  {
   "cell_type": "code",
   "execution_count": 226,
   "metadata": {},
   "outputs": [
    {
     "data": {
      "text/plain": [
       "345"
      ]
     },
     "execution_count": 226,
     "metadata": {},
     "output_type": "execute_result"
    }
   ],
   "source": [
    "len(liver)"
   ]
  },
  {
   "cell_type": "markdown",
   "metadata": {},
   "source": [
    "<div class=\"alert alert-success\">\n",
    " <font size=\"3\"><p align=\"justify\"><strong>Berikut adalah spesifikasi dataset yang digunakan :</strong>\n",
    "<ul>\n",
    "<li style=\"text-align: left;\">\n",
    "    Input terdiri dari 6 variabel yaitu : mcv, alkphos, sgpt, gammagt, drinks\n",
    "</li> \n",
    "</ul>\n",
    "\n",
    "<ul>\n",
    "<li style=\"text-align: left;\">\n",
    "Output terdiri dari 1 variabel (Selector), dengan 2 kondisi, yaitu 1 dan 2\n",
    "</li>\n",
    "</ul>\n",
    "    \n",
    "<div>"
   ]
  },
  {
   "cell_type": "code",
   "execution_count": 227,
   "metadata": {},
   "outputs": [
    {
     "data": {
      "text/html": [
       "<div>\n",
       "<style scoped>\n",
       "    .dataframe tbody tr th:only-of-type {\n",
       "        vertical-align: middle;\n",
       "    }\n",
       "\n",
       "    .dataframe tbody tr th {\n",
       "        vertical-align: top;\n",
       "    }\n",
       "\n",
       "    .dataframe thead th {\n",
       "        text-align: right;\n",
       "    }\n",
       "</style>\n",
       "<table border=\"1\" class=\"dataframe\">\n",
       "  <thead>\n",
       "    <tr style=\"text-align: right;\">\n",
       "      <th></th>\n",
       "      <th>mcv</th>\n",
       "      <th>alkphos</th>\n",
       "      <th>sgpt</th>\n",
       "      <th>sgot</th>\n",
       "      <th>gammagt</th>\n",
       "      <th>drinks</th>\n",
       "      <th>selector</th>\n",
       "    </tr>\n",
       "  </thead>\n",
       "  <tbody>\n",
       "    <tr>\n",
       "      <th>0</th>\n",
       "      <td>85</td>\n",
       "      <td>92</td>\n",
       "      <td>45</td>\n",
       "      <td>27</td>\n",
       "      <td>31</td>\n",
       "      <td>0.0</td>\n",
       "      <td>1</td>\n",
       "    </tr>\n",
       "    <tr>\n",
       "      <th>1</th>\n",
       "      <td>85</td>\n",
       "      <td>64</td>\n",
       "      <td>59</td>\n",
       "      <td>32</td>\n",
       "      <td>23</td>\n",
       "      <td>0.0</td>\n",
       "      <td>2</td>\n",
       "    </tr>\n",
       "    <tr>\n",
       "      <th>2</th>\n",
       "      <td>86</td>\n",
       "      <td>54</td>\n",
       "      <td>33</td>\n",
       "      <td>16</td>\n",
       "      <td>54</td>\n",
       "      <td>0.0</td>\n",
       "      <td>2</td>\n",
       "    </tr>\n",
       "    <tr>\n",
       "      <th>3</th>\n",
       "      <td>91</td>\n",
       "      <td>78</td>\n",
       "      <td>34</td>\n",
       "      <td>24</td>\n",
       "      <td>36</td>\n",
       "      <td>0.0</td>\n",
       "      <td>2</td>\n",
       "    </tr>\n",
       "    <tr>\n",
       "      <th>4</th>\n",
       "      <td>87</td>\n",
       "      <td>70</td>\n",
       "      <td>12</td>\n",
       "      <td>28</td>\n",
       "      <td>10</td>\n",
       "      <td>0.0</td>\n",
       "      <td>2</td>\n",
       "    </tr>\n",
       "  </tbody>\n",
       "</table>\n",
       "</div>"
      ],
      "text/plain": [
       "   mcv  alkphos  sgpt  sgot  gammagt  drinks  selector\n",
       "0   85       92    45    27       31     0.0         1\n",
       "1   85       64    59    32       23     0.0         2\n",
       "2   86       54    33    16       54     0.0         2\n",
       "3   91       78    34    24       36     0.0         2\n",
       "4   87       70    12    28       10     0.0         2"
      ]
     },
     "execution_count": 227,
     "metadata": {},
     "output_type": "execute_result"
    }
   ],
   "source": [
    "liver.head()"
   ]
  },
  {
   "cell_type": "markdown",
   "metadata": {},
   "source": [
    "<div class=\"alert alert-success\"> \n",
    "    <font size=\"3\"><p align=\"justify\">head() berfungsi untuk melihat data sebanyak n pada kolom awal (jika tidak diisi, akan tampil secara random)."
   ]
  },
  {
   "cell_type": "code",
   "execution_count": 228,
   "metadata": {},
   "outputs": [
    {
     "data": {
      "text/html": [
       "<div>\n",
       "<style scoped>\n",
       "    .dataframe tbody tr th:only-of-type {\n",
       "        vertical-align: middle;\n",
       "    }\n",
       "\n",
       "    .dataframe tbody tr th {\n",
       "        vertical-align: top;\n",
       "    }\n",
       "\n",
       "    .dataframe thead th {\n",
       "        text-align: right;\n",
       "    }\n",
       "</style>\n",
       "<table border=\"1\" class=\"dataframe\">\n",
       "  <thead>\n",
       "    <tr style=\"text-align: right;\">\n",
       "      <th></th>\n",
       "      <th>mcv</th>\n",
       "      <th>alkphos</th>\n",
       "      <th>sgpt</th>\n",
       "      <th>sgot</th>\n",
       "      <th>gammagt</th>\n",
       "      <th>drinks</th>\n",
       "      <th>selector</th>\n",
       "    </tr>\n",
       "  </thead>\n",
       "  <tbody>\n",
       "    <tr>\n",
       "      <th>count</th>\n",
       "      <td>345.000000</td>\n",
       "      <td>345.000000</td>\n",
       "      <td>345.000000</td>\n",
       "      <td>345.000000</td>\n",
       "      <td>345.000000</td>\n",
       "      <td>345.000000</td>\n",
       "      <td>345.000000</td>\n",
       "    </tr>\n",
       "    <tr>\n",
       "      <th>mean</th>\n",
       "      <td>90.159420</td>\n",
       "      <td>69.869565</td>\n",
       "      <td>30.405797</td>\n",
       "      <td>24.643478</td>\n",
       "      <td>38.284058</td>\n",
       "      <td>3.455072</td>\n",
       "      <td>1.579710</td>\n",
       "    </tr>\n",
       "    <tr>\n",
       "      <th>std</th>\n",
       "      <td>4.448096</td>\n",
       "      <td>18.347670</td>\n",
       "      <td>19.512309</td>\n",
       "      <td>10.064494</td>\n",
       "      <td>39.254616</td>\n",
       "      <td>3.337835</td>\n",
       "      <td>0.494322</td>\n",
       "    </tr>\n",
       "    <tr>\n",
       "      <th>min</th>\n",
       "      <td>65.000000</td>\n",
       "      <td>23.000000</td>\n",
       "      <td>4.000000</td>\n",
       "      <td>5.000000</td>\n",
       "      <td>5.000000</td>\n",
       "      <td>0.000000</td>\n",
       "      <td>1.000000</td>\n",
       "    </tr>\n",
       "    <tr>\n",
       "      <th>25%</th>\n",
       "      <td>87.000000</td>\n",
       "      <td>57.000000</td>\n",
       "      <td>19.000000</td>\n",
       "      <td>19.000000</td>\n",
       "      <td>15.000000</td>\n",
       "      <td>0.500000</td>\n",
       "      <td>1.000000</td>\n",
       "    </tr>\n",
       "    <tr>\n",
       "      <th>50%</th>\n",
       "      <td>90.000000</td>\n",
       "      <td>67.000000</td>\n",
       "      <td>26.000000</td>\n",
       "      <td>23.000000</td>\n",
       "      <td>25.000000</td>\n",
       "      <td>3.000000</td>\n",
       "      <td>2.000000</td>\n",
       "    </tr>\n",
       "    <tr>\n",
       "      <th>75%</th>\n",
       "      <td>93.000000</td>\n",
       "      <td>80.000000</td>\n",
       "      <td>34.000000</td>\n",
       "      <td>27.000000</td>\n",
       "      <td>46.000000</td>\n",
       "      <td>6.000000</td>\n",
       "      <td>2.000000</td>\n",
       "    </tr>\n",
       "    <tr>\n",
       "      <th>max</th>\n",
       "      <td>103.000000</td>\n",
       "      <td>138.000000</td>\n",
       "      <td>155.000000</td>\n",
       "      <td>82.000000</td>\n",
       "      <td>297.000000</td>\n",
       "      <td>20.000000</td>\n",
       "      <td>2.000000</td>\n",
       "    </tr>\n",
       "  </tbody>\n",
       "</table>\n",
       "</div>"
      ],
      "text/plain": [
       "              mcv     alkphos        sgpt        sgot     gammagt      drinks  \\\n",
       "count  345.000000  345.000000  345.000000  345.000000  345.000000  345.000000   \n",
       "mean    90.159420   69.869565   30.405797   24.643478   38.284058    3.455072   \n",
       "std      4.448096   18.347670   19.512309   10.064494   39.254616    3.337835   \n",
       "min     65.000000   23.000000    4.000000    5.000000    5.000000    0.000000   \n",
       "25%     87.000000   57.000000   19.000000   19.000000   15.000000    0.500000   \n",
       "50%     90.000000   67.000000   26.000000   23.000000   25.000000    3.000000   \n",
       "75%     93.000000   80.000000   34.000000   27.000000   46.000000    6.000000   \n",
       "max    103.000000  138.000000  155.000000   82.000000  297.000000   20.000000   \n",
       "\n",
       "         selector  \n",
       "count  345.000000  \n",
       "mean     1.579710  \n",
       "std      0.494322  \n",
       "min      1.000000  \n",
       "25%      1.000000  \n",
       "50%      2.000000  \n",
       "75%      2.000000  \n",
       "max      2.000000  "
      ]
     },
     "execution_count": 228,
     "metadata": {},
     "output_type": "execute_result"
    }
   ],
   "source": [
    "liver.describe()"
   ]
  },
  {
   "cell_type": "code",
   "execution_count": 229,
   "metadata": {},
   "outputs": [
    {
     "name": "stdout",
     "output_type": "stream",
     "text": [
      "<class 'pandas.core.frame.DataFrame'>\n",
      "RangeIndex: 345 entries, 0 to 344\n",
      "Data columns (total 7 columns):\n",
      "mcv         345 non-null int64\n",
      "alkphos     345 non-null int64\n",
      "sgpt        345 non-null int64\n",
      "sgot        345 non-null int64\n",
      "gammagt     345 non-null int64\n",
      "drinks      345 non-null float64\n",
      "selector    345 non-null int64\n",
      "dtypes: float64(1), int64(6)\n",
      "memory usage: 19.0 KB\n"
     ]
    }
   ],
   "source": [
    "liver.info()"
   ]
  },
  {
   "cell_type": "markdown",
   "metadata": {},
   "source": [
    "<div class=\"alert alert-success\">\n",
    " <font size=\"3\"><p align=\"justify\">Pada NN ini terdapat 2 output : \n",
    "<ul>\n",
    "<li style=\"text-align: left;\">\n",
    "    no_disorders = kondisi saat NN menetapkan bahwa tidak ada tanda-tanda gangguan hati, nilai yang di ambil adalah pada Variabel \"Selector\" dengan nilai 2 yang ada pada dataset\n",
    "</li> \n",
    "</ul>\n",
    "\n",
    "<ul>\n",
    "<li style=\"text-align: left;\">\n",
    "disorders = kondisi saat NN menetapkan bahwa ada tanda-tanda gangguan hati, nilai yang di ambil adalah pada Variabel \"Selector\" dengan nilai 1 yang ada pada dataset</h4>\n",
    "</li>\n",
    "</ul>\n",
    "    \n",
    "<div>"
   ]
  },
  {
   "cell_type": "code",
   "execution_count": 230,
   "metadata": {},
   "outputs": [
    {
     "data": {
      "text/plain": [
       "<matplotlib.axes._subplots.AxesSubplot at 0x183bf9936c8>"
      ]
     },
     "execution_count": 230,
     "metadata": {},
     "output_type": "execute_result"
    },
    {
     "data": {
      "image/png": "[encoded data removed]",
      "text/plain": [
       "<Figure size 432x288 with 1 Axes>"
      ]
     },
     "metadata": {
      "needs_background": "light"
     },
     "output_type": "display_data"
    }
   ],
   "source": [
    "disorder = liver[liver.selector==1]\n",
    "no_disorder = liver[liver.selector==2]\n",
    "sns.countplot(x=liver[\"selector\"])"
   ]
  },
  {
   "cell_type": "markdown",
   "metadata": {},
   "source": [
    "<div class=\"alert alert-success\">\n",
    " <font size=\"3\"><p align=\"justify\">Pada code di bawah ini, nilai untuk disorders di tambah datanya. Resample ini digunakan karena agar data yang unbalanced, maksudnya output 1 dan Output 2 jumlahnya terlalu ekstrim sehingga datanya menjadi tidak seimbang seperti yang terlihat pada grafik di atas"
   ]
  },
  {
   "cell_type": "code",
   "execution_count": 231,
   "metadata": {},
   "outputs": [
    {
     "data": {
      "text/plain": [
       "<matplotlib.axes._subplots.AxesSubplot at 0x183bf9b5888>"
      ]
     },
     "execution_count": 231,
     "metadata": {},
     "output_type": "execute_result"
    },
    {
     "data": {
      "image/png": "[encoded data removed]",
      "text/plain": [
       "<Figure size 432x288 with 1 Axes>"
      ]
     },
     "metadata": {
      "needs_background": "light"
     },
     "output_type": "display_data"
    }
   ],
   "source": [
    "from sklearn.utils import resample\n",
    "disorder_upsample = resample(disorder, replace=True,n_samples=200,random_state=123)\n",
    "liver_resampled = pd.concat([no_disorder, disorder_upsample])\n",
    "sns.countplot(x=liver_resampled['selector'],data=liver)"
   ]
  },
  {
   "cell_type": "markdown",
   "metadata": {},
   "source": [
    "<div class=\"alert alert-success\">\n",
    " <font size=\"3\"><p align=\"justify\">Pada grafik di atas menunjukkan antara data class 1 dan 2 sudah cukup seimbang dibandingkan data yang sebelumnya sehingga data ini akan lebih mudah untuk di proses"
   ]
  },
  {
   "cell_type": "markdown",
   "metadata": {},
   "source": [
    "<div class=\"alert alert-success\"><strong>HISTOGRAM</strong>\n",
    "<div class=\"alert alert-success\">\n",
    "<font size=\"3\"><p align=\"justify\">Histogram adalah plot yang memungkinkan dapat menemukan dan menunjukkan distribusi frekuensi (bentuk) yang mendasari serangkaian data.\n",
    "\n",
    "<font size=\"3\"><p align=\"justify\">hist() befungsi untuk menemukan dan menunjukan distribusi frekuensi berdasarkan serangkaian data, dan plt.show() berfungsi untuk menampilkannya dalam bentuk grafik."
   ]
  },
  {
   "cell_type": "code",
   "execution_count": 232,
   "metadata": {},
   "outputs": [
    {
     "data": {
      "image/png": "[encoded data removed]",
      "text/plain": [
       "<Figure size 1080x1080 with 9 Axes>"
      ]
     },
     "metadata": {
      "needs_background": "light"
     },
     "output_type": "display_data"
    }
   ],
   "source": [
    "liver.hist(figsize=(15,15))\n",
    "plt.show()"
   ]
  },
  {
   "cell_type": "markdown",
   "metadata": {},
   "source": [
    "<div class=\"alert alert-success\"><strong>BOXPLOT</strong>\n",
    "<div class=\"alert alert-success\">\n",
    "<font size=\"3\"><p align=\"justify\">Boxplot berfungsi sebagai penyajian grafis lainnya yang bisa merangkum informasi lebih detail mengenai distribusi nilai-nilai data pengamatan adalah Box and Whisker Plots atau lebih sering disebut dengan BoxPlot. Seperti namanya, Box and Whisker, bentuknya terdiri dari Box (kotak) dan Whisker. Boxplot merupakan ringkasan distribusi sampel yang disajikan secara grafis yang bisa menggambarkan bentuk distribusi data, ukuran tendensi sentral dan ukuran penyebaran data pengamatan. "
   ]
  },
  {
   "cell_type": "code",
   "execution_count": 233,
   "metadata": {},
   "outputs": [
    {
     "data": {
      "image/png": "[encoded data removed]",
      "text/plain": [
       "<Figure size 1440x3960 with 22 Axes>"
      ]
     },
     "metadata": {
      "needs_background": "light"
     },
     "output_type": "display_data"
    }
   ],
   "source": [
    "liver.plot(kind='box', subplots=True, layout=(11,2), sharex=False, sharey=False, figsize=(20,55))\n",
    "plt.show()"
   ]
  },
  {
   "cell_type": "markdown",
   "metadata": {},
   "source": [
    "<div class=\"alert alert-success\">\n",
    "<h3><strong>Load Data dari Dataset Liver Disorders</strong></h3>\n",
    "</ul>\n",
    "</div>\n",
    "<div class=\"alert alert-success\">\n",
    " <font size=\"3\"><p align=\"justify\">Mengambil 6 data input dan meletakannya ke dalam variable X sebagai input dan Y sebagai output"
   ]
  },
  {
   "cell_type": "code",
   "execution_count": 234,
   "metadata": {},
   "outputs": [],
   "source": [
    "dataset = np.loadtxt(\"liver-disorders.txt\", delimiter=\",\")\n",
    "X = dataset[:,0:6]\n",
    "Y = dataset[:,6]\n",
    "X = np.array(X)\n",
    "Y = np.array(Y)"
   ]
  },
  {
   "cell_type": "markdown",
   "metadata": {},
   "source": [
    "<div class=\"alert alert-success\">\n",
    " <font size=\"3\"><p align=\"justify\">StandardScaler adalah\n",
    "Modul preprocessing lebih lanjut menyediakan kelas utilitas StandardScaler yang mengimplementasikan Transformer API untuk menghitung rata-rata dan standar deviasi pada satu set pelatihan sehingga nantinya dapat menerapkan kembali transformasi yang sama pada set pengujian."
   ]
  },
  {
   "cell_type": "code",
   "execution_count": 235,
   "metadata": {},
   "outputs": [],
   "source": [
    "sc = StandardScaler()\n",
    "X_train = sc.fit_transform(X)\n",
    "X_test = sc.transform(X)"
   ]
  },
  {
   "cell_type": "markdown",
   "metadata": {},
   "source": [
    "<div class=\"alert alert-success\">\n",
    " <font size=\"3\"><p align=\"justify\">Mengambil 6 variabel untuk nilai X sebagai input dan nilai Y sebagai ouput ada 2 jenis"
   ]
  },
  {
   "cell_type": "code",
   "execution_count": 236,
   "metadata": {},
   "outputs": [
    {
     "data": {
      "text/plain": [
       "(345, 6)"
      ]
     },
     "execution_count": 236,
     "metadata": {},
     "output_type": "execute_result"
    }
   ],
   "source": [
    "from sklearn.preprocessing import MinMaxScaler\n",
    "scaler = MinMaxScaler()\n",
    "X_scaled = scaler.fit_transform(X)\n",
    "\n",
    "X_scaled.shape"
   ]
  },
  {
   "cell_type": "code",
   "execution_count": 237,
   "metadata": {},
   "outputs": [
    {
     "data": {
      "text/plain": [
       "(345, 2)"
      ]
     },
     "execution_count": 237,
     "metadata": {},
     "output_type": "execute_result"
    }
   ],
   "source": [
    "from keras.utils.np_utils import to_categorical\n",
    "Y_categorical = to_categorical(Y)\n",
    "\n",
    "Y_categorical.shape"
   ]
  },
  {
   "cell_type": "code",
   "execution_count": 238,
   "metadata": {},
   "outputs": [
    {
     "data": {
      "text/plain": [
       "array([[85., 92., 45., 27., 31.,  0.],\n",
       "       [85., 64., 59., 32., 23.,  0.],\n",
       "       [86., 54., 33., 16., 54.,  0.],\n",
       "       ...,\n",
       "       [98., 77., 55., 35., 89., 15.],\n",
       "       [91., 68., 27., 26., 14., 16.],\n",
       "       [98., 99., 57., 45., 65., 20.]])"
      ]
     },
     "execution_count": 238,
     "metadata": {},
     "output_type": "execute_result"
    }
   ],
   "source": [
    "X"
   ]
  },
  {
   "cell_type": "code",
   "execution_count": 239,
   "metadata": {},
   "outputs": [
    {
     "data": {
      "text/plain": [
       "array([0., 1., 1., 1., 1., 1., 0., 0., 0., 0., 0., 0., 0., 0., 0., 0., 0.,\n",
       "       0., 0., 0., 0., 0., 0., 0., 0., 0., 0., 0., 0., 0., 0., 0., 0., 0.,\n",
       "       0., 1., 1., 1., 1., 1., 1., 1., 1., 1., 1., 1., 1., 1., 1., 1., 1.,\n",
       "       1., 1., 1., 1., 1., 1., 1., 1., 1., 1., 1., 1., 1., 0., 0., 1., 1.,\n",
       "       1., 1., 0., 0., 0., 0., 0., 0., 1., 1., 1., 1., 1., 1., 1., 1., 1.,\n",
       "       1., 1., 1., 0., 0., 0., 0., 0., 0., 0., 0., 1., 1., 1., 1., 1., 1.,\n",
       "       0., 0., 0., 0., 0., 0., 0., 1., 1., 1., 1., 1., 1., 1., 1., 1., 1.,\n",
       "       1., 1., 1., 1., 1., 1., 1., 1., 1., 1., 1., 0., 0., 1., 1., 1., 1.,\n",
       "       1., 1., 1., 1., 0., 0., 0., 0., 0., 0., 0., 0., 0., 0., 1., 1., 1.,\n",
       "       1., 1., 1., 1., 1., 1., 1., 1., 1., 1., 1., 1., 1., 0., 0., 1., 0.,\n",
       "       0., 0., 0., 0., 0., 0., 1., 1., 1., 1., 1., 0., 0., 1., 1., 1., 1.,\n",
       "       1., 0., 0., 0., 0., 1., 0., 0., 0., 0., 0., 0., 0., 0., 0., 0., 0.,\n",
       "       0., 0., 0., 0., 0., 0., 0., 0., 0., 0., 0., 0., 0., 1., 1., 1., 1.,\n",
       "       1., 1., 1., 1., 1., 1., 1., 1., 1., 1., 1., 1., 1., 1., 1., 1., 1.,\n",
       "       1., 1., 1., 1., 1., 0., 0., 0., 0., 0., 0., 1., 1., 1., 1., 1., 0.,\n",
       "       0., 0., 0., 0., 0., 0., 0., 0., 1., 1., 1., 1., 1., 1., 1., 1., 0.,\n",
       "       0., 0., 1., 1., 1., 1., 0., 1., 1., 1., 1., 1., 1., 1., 1., 1., 1.,\n",
       "       1., 1., 1., 1., 1., 1., 1., 1., 1., 1., 1., 1., 1., 1., 1., 1., 1.,\n",
       "       1., 0., 0., 0., 0., 0., 0., 0., 0., 0., 0., 0., 1., 1., 1., 1., 1.,\n",
       "       1., 0., 0., 0., 0., 0., 1., 1., 1., 1., 1., 0., 0., 1., 1., 1., 1.,\n",
       "       0., 1., 0., 0., 0.])"
      ]
     },
     "execution_count": 239,
     "metadata": {},
     "output_type": "execute_result"
    }
   ],
   "source": [
    "Y"
   ]
  },
  {
   "cell_type": "markdown",
   "metadata": {},
   "source": [
    "<div class=\"alert alert-success\"><strong>SEQUENTIAL MODEL</strong>\n",
    "<div class=\"alert alert-success\">\n",
    "<font size=\"3\"><p align=\"justify\">Model Sekuensial adalah tumpukan lapisan linear. Dalam menentukan bentuk masukan, model perlu tahu bentuk masukan apa yang diharapkan. Lapisan pertama dalam model Sequential (dan hanya yang pertama, karena lapisan berikutnya dapat melakukan inferensi bentuk otomatis) perlu menerima informasi tentang bentuk inputnya. Kemudian untuk menambahkan lapisan cukup dengan menambahkan perintah add."
   ]
  },
  {
   "cell_type": "code",
   "execution_count": 240,
   "metadata": {},
   "outputs": [],
   "source": [
    "model = Sequential()"
   ]
  },
  {
   "cell_type": "markdown",
   "metadata": {},
   "source": [
    "<div class=\"alert alert-success\">\n",
    " <font size=\"3\"><p align=\"justify\"><strong>Pada Model yang saya buat terdapat beberapa layer yaitu :</strong>\n",
    "<ul>\n",
    "<li style=\"text-align: left;\">\n",
    "    LAYER INPUT : Pada Layer Input terdapat 6 jenis nilai yang diambil dari dataset Liver Disorders.\n",
    "</li> \n",
    "</ul>\n",
    "\n",
    "<ul>\n",
    "<li style=\"text-align: left;\">\n",
    "    HIDDEN LAYER: Pada model terdapat satu Hidden Layer yang memiliki neuron sebanyak 200\n",
    "</li>\n",
    "</ul>\n",
    "\n",
    "<ul>\n",
    "<li style=\"text-align: left;\">\n",
    "   OUTPUT LAYER: Pada Layer Output terdapat 2 nilai yang dihasilkan yaitu 1 dan 2\n",
    "</li>\n",
    "</ul>\n",
    "   \n",
    "<div>"
   ]
  },
  {
   "cell_type": "code",
   "execution_count": 241,
   "metadata": {},
   "outputs": [],
   "source": [
    "model.add (Dense(units=200, input_dim = 6, activation='relu'))\n",
    "model.add (Dropout(0.15))"
   ]
  },
  {
   "cell_type": "markdown",
   "metadata": {},
   "source": [
    "<div class=\"alert alert-success\">\n",
    "<h3>Codingan di atas adalah untuk menentukan jumlah input dan neuron dari Neural Network </h3>\n",
    "<ul>\n",
    "<li style=\"text-align: left;\">\n",
    "    <h4><b>Dense 200 = Neural Network pada layer pertama terdiri dari 200 neuron</h4></b>\n",
    "</li> \n",
    "</ul>\n",
    "\n",
    "<ul>\n",
    "<li style=\"text-align: left;\">\n",
    "<h4>Relu = Merupakan fungsi aktivasi yang digunakan pada layer ini</h4>\n",
    "</li>\n",
    "</ul>\n",
    "\n",
    "<ul>\n",
    "<li style=\"text-align: left;\">\n",
    "<h4>Input dim 6 = Berdasarkan dataset yang dipakai, terdiri dari 7 kategori. 6 kategori input, dan 1 kategori output</h4>\n",
    "</li>\n",
    "</ul>\n",
    "    \n",
    "<div>"
   ]
  },
  {
   "cell_type": "code",
   "execution_count": 242,
   "metadata": {},
   "outputs": [],
   "source": [
    "model.add (Dense(units=2, activation='softmax'))"
   ]
  },
  {
   "cell_type": "markdown",
   "metadata": {},
   "source": [
    "<div class=\"alert alert-success\">\n",
    "<h3>Codingan di atas adalah untuk layer output dari Neural Network</h3>\n",
    "<ul>\n",
    "<li style=\"text-align: left;\">\n",
    "    <h4><b>Dense 2 = Neural Network yang saya buat pada layer terakhir ini terdiri dari 2 neuron, neuron inilah yang akan menghasilkan output berdasarkan dataset yang ada dan memprediksi apakah terdapat gangguan hati atau tidak</h4></b>\n",
    "</li> \n",
    "</ul>\n",
    "\n",
    "<ul>\n",
    "<li style=\"text-align: left;\">\n",
    "<h4>Sigmoid = Merupakan fungsi aktivasi yang digunakan pada layer ini</h4>\n",
    "</li>\n",
    "</ul>\n",
    "    \n",
    "<div>"
   ]
  },
  {
   "cell_type": "code",
   "execution_count": 243,
   "metadata": {},
   "outputs": [
    {
     "name": "stdout",
     "output_type": "stream",
     "text": [
      "Model: \"sequential_7\"\n",
      "_________________________________________________________________\n",
      "Layer (type)                 Output Shape              Param #   \n",
      "=================================================================\n",
      "dense_13 (Dense)             (None, 200)               1400      \n",
      "_________________________________________________________________\n",
      "dropout_7 (Dropout)          (None, 200)               0         \n",
      "_________________________________________________________________\n",
      "dense_14 (Dense)             (None, 2)                 402       \n",
      "=================================================================\n",
      "Total params: 1,802\n",
      "Trainable params: 1,802\n",
      "Non-trainable params: 0\n",
      "_________________________________________________________________\n"
     ]
    }
   ],
   "source": [
    "model.summary()"
   ]
  },
  {
   "cell_type": "markdown",
   "metadata": {},
   "source": [
    "<div class=\"alert alert-success\">\n",
    " <font size=\"3\"><p align=\"justify\"><strong>Sigmoid Activation</strong>\n",
    " <font size=\"3\"><p align=\"justify\"> \n",
    "Fungsi sigmoid adalah fungsi aktivasi berkelanjutan dan smooth yang paling umum. Ini juga disebut fungsi logistik dan memiliki bentuk 1 / (1 + exp (-x))."
   ]
  },
  {
   "cell_type": "code",
   "execution_count": 244,
   "metadata": {},
   "outputs": [],
   "source": [
    "model.compile(optimizer='adam',loss='categorical_crossentropy', metrics=['accuracy'])"
   ]
  },
  {
   "cell_type": "markdown",
   "metadata": {},
   "source": [
    "<div class=\"alert alert-success\">\n",
    " <font size=\"3\">Epoch = adalah ketika seluruh dataset sudah melalui proses training pada Neural Netwok sampai dikembalikan ke awal untuk sekali putaran (backpropagation)\n",
    "    <br>Batch Size 12 = adalah jumlah sampel data yang disebarkan ke Neural Network. Jadi dataset akan dibagi menjadi 12 bagian untuk memudahkan index pada saat pelatihan.\n",
    "    <br>Validation Split 0.4 = Adalah ukuran data yang akan digunakan untuk testing dan training, data training sebesar 0,6 atau 60%, dan data testing sebesar 0,4 atau 40%."
   ]
  },
  {
   "cell_type": "code",
   "execution_count": 245,
   "metadata": {},
   "outputs": [
    {
     "name": "stdout",
     "output_type": "stream",
     "text": [
      "Train on 293 samples, validate on 52 samples\n",
      "Epoch 1/200\n",
      "293/293 [==============================] - 1s 4ms/step - loss: 0.6861 - accuracy: 0.5631 - val_loss: 0.6841 - val_accuracy: 0.5769\n",
      "Epoch 2/200\n",
      "293/293 [==============================] - 0s 534us/step - loss: 0.6815 - accuracy: 0.5802 - val_loss: 0.6816 - val_accuracy: 0.5769\n",
      "Epoch 3/200\n",
      "293/293 [==============================] - 0s 579us/step - loss: 0.6796 - accuracy: 0.5802 - val_loss: 0.6788 - val_accuracy: 0.5769\n",
      "Epoch 4/200\n",
      "293/293 [==============================] - 0s 546us/step - loss: 0.6698 - accuracy: 0.5802 - val_loss: 0.6762 - val_accuracy: 0.5769\n",
      "Epoch 5/200\n",
      "293/293 [==============================] - 0s 467us/step - loss: 0.6642 - accuracy: 0.5802 - val_loss: 0.6753 - val_accuracy: 0.5769\n",
      "Epoch 6/200\n",
      "293/293 [==============================] - 0s 1ms/step - loss: 0.6652 - accuracy: 0.5802 - val_loss: 0.6761 - val_accuracy: 0.5769\n",
      "Epoch 7/200\n",
      "293/293 [==============================] - 0s 505us/step - loss: 0.6658 - accuracy: 0.6041 - val_loss: 0.6725 - val_accuracy: 0.5769\n",
      "Epoch 8/200\n",
      "293/293 [==============================] - 0s 518us/step - loss: 0.6582 - accuracy: 0.6075 - val_loss: 0.6688 - val_accuracy: 0.5769\n",
      "Epoch 9/200\n",
      "293/293 [==============================] - 0s 518us/step - loss: 0.6534 - accuracy: 0.6007 - val_loss: 0.6777 - val_accuracy: 0.5769\n",
      "Epoch 10/200\n",
      "293/293 [==============================] - 0s 546us/step - loss: 0.6519 - accuracy: 0.5870 - val_loss: 0.6658 - val_accuracy: 0.5769\n",
      "Epoch 11/200\n",
      "293/293 [==============================] - 0s 825us/step - loss: 0.6484 - accuracy: 0.6587 - val_loss: 0.6830 - val_accuracy: 0.5769\n",
      "Epoch 12/200\n",
      "293/293 [==============================] - 0s 525us/step - loss: 0.6559 - accuracy: 0.6143 - val_loss: 0.6586 - val_accuracy: 0.6346\n",
      "Epoch 13/200\n",
      "293/293 [==============================] - 0s 518us/step - loss: 0.6430 - accuracy: 0.6007 - val_loss: 0.6589 - val_accuracy: 0.5962\n",
      "Epoch 14/200\n",
      "293/293 [==============================] - 0s 764us/step - loss: 0.6349 - accuracy: 0.6689 - val_loss: 0.6611 - val_accuracy: 0.5962\n",
      "Epoch 15/200\n",
      "293/293 [==============================] - 0s 758us/step - loss: 0.6328 - accuracy: 0.6758 - val_loss: 0.6670 - val_accuracy: 0.5962\n",
      "Epoch 16/200\n",
      "293/293 [==============================] - 0s 1ms/step - loss: 0.6359 - accuracy: 0.6553 - val_loss: 0.6664 - val_accuracy: 0.5962\n",
      "Epoch 17/200\n",
      "293/293 [==============================] - 0s 508us/step - loss: 0.6263 - accuracy: 0.6689 - val_loss: 0.6428 - val_accuracy: 0.6346\n",
      "Epoch 18/200\n",
      "293/293 [==============================] - 0s 484us/step - loss: 0.6246 - accuracy: 0.6758 - val_loss: 0.6547 - val_accuracy: 0.5962\n",
      "Epoch 19/200\n",
      "293/293 [==============================] - 0s 447us/step - loss: 0.6238 - accuracy: 0.6860 - val_loss: 0.6460 - val_accuracy: 0.6154\n",
      "Epoch 20/200\n",
      "293/293 [==============================] - 0s 1ms/step - loss: 0.6171 - accuracy: 0.6689 - val_loss: 0.6410 - val_accuracy: 0.6154\n",
      "Epoch 21/200\n",
      "293/293 [==============================] - 0s 883us/step - loss: 0.6147 - accuracy: 0.6997 - val_loss: 0.6317 - val_accuracy: 0.6538\n",
      "Epoch 22/200\n",
      "293/293 [==============================] - 0s 709us/step - loss: 0.6180 - accuracy: 0.6928 - val_loss: 0.6338 - val_accuracy: 0.6154\n",
      "Epoch 23/200\n",
      "293/293 [==============================] - 0s 764us/step - loss: 0.6092 - accuracy: 0.6758 - val_loss: 0.6251 - val_accuracy: 0.6923\n",
      "Epoch 24/200\n",
      "293/293 [==============================] - 0s 2ms/step - loss: 0.6037 - accuracy: 0.7065 - val_loss: 0.6351 - val_accuracy: 0.6154\n",
      "Epoch 25/200\n",
      "293/293 [==============================] - 0s 983us/step - loss: 0.6075 - accuracy: 0.6826 - val_loss: 0.6138 - val_accuracy: 0.6923\n",
      "Epoch 26/200\n",
      "293/293 [==============================] - 0s 905us/step - loss: 0.5987 - accuracy: 0.6997 - val_loss: 0.6197 - val_accuracy: 0.7500\n",
      "Epoch 27/200\n",
      "293/293 [==============================] - 0s 1ms/step - loss: 0.6041 - accuracy: 0.7167 - val_loss: 0.6182 - val_accuracy: 0.7308\n",
      "Epoch 28/200\n",
      "293/293 [==============================] - 0s 727us/step - loss: 0.5991 - accuracy: 0.7099 - val_loss: 0.6138 - val_accuracy: 0.7308\n",
      "Epoch 29/200\n",
      "293/293 [==============================] - 0s 744us/step - loss: 0.5897 - accuracy: 0.6962 - val_loss: 0.6074 - val_accuracy: 0.7692\n",
      "Epoch 30/200\n",
      "293/293 [==============================] - 0s 522us/step - loss: 0.5896 - accuracy: 0.7406 - val_loss: 0.6136 - val_accuracy: 0.7500\n",
      "Epoch 31/200\n",
      "293/293 [==============================] - 0s 706us/step - loss: 0.5905 - accuracy: 0.6962 - val_loss: 0.5984 - val_accuracy: 0.7692\n",
      "Epoch 32/200\n",
      "293/293 [==============================] - 0s 771us/step - loss: 0.5857 - accuracy: 0.7304 - val_loss: 0.6100 - val_accuracy: 0.7115\n",
      "Epoch 33/200\n",
      "293/293 [==============================] - 0s 635us/step - loss: 0.5823 - accuracy: 0.7270 - val_loss: 0.6039 - val_accuracy: 0.7885\n",
      "Epoch 34/200\n",
      "293/293 [==============================] - 0s 887us/step - loss: 0.5825 - accuracy: 0.7235 - val_loss: 0.6071 - val_accuracy: 0.7692\n",
      "Epoch 35/200\n",
      "293/293 [==============================] - 0s 812us/step - loss: 0.5773 - accuracy: 0.7270 - val_loss: 0.5955 - val_accuracy: 0.7885\n",
      "Epoch 36/200\n",
      "293/293 [==============================] - 0s 498us/step - loss: 0.5789 - accuracy: 0.7304 - val_loss: 0.5962 - val_accuracy: 0.7500\n",
      "Epoch 37/200\n",
      "293/293 [==============================] - 0s 501us/step - loss: 0.5789 - accuracy: 0.7201 - val_loss: 0.5795 - val_accuracy: 0.7115\n",
      "Epoch 38/200\n",
      "293/293 [==============================] - 0s 478us/step - loss: 0.5760 - accuracy: 0.7270 - val_loss: 0.6068 - val_accuracy: 0.7692\n",
      "Epoch 39/200\n",
      "293/293 [==============================] - 0s 443us/step - loss: 0.5933 - accuracy: 0.6997 - val_loss: 0.5792 - val_accuracy: 0.7115\n",
      "Epoch 40/200\n",
      "293/293 [==============================] - 0s 658us/step - loss: 0.5845 - accuracy: 0.6860 - val_loss: 0.5916 - val_accuracy: 0.7885\n",
      "Epoch 41/200\n",
      "293/293 [==============================] - 0s 638us/step - loss: 0.5696 - accuracy: 0.7235 - val_loss: 0.5879 - val_accuracy: 0.7115\n",
      "Epoch 42/200\n",
      "293/293 [==============================] - 0s 536us/step - loss: 0.5825 - accuracy: 0.7099 - val_loss: 0.5990 - val_accuracy: 0.7885\n",
      "Epoch 43/200\n",
      "293/293 [==============================] - 0s 773us/step - loss: 0.5736 - accuracy: 0.7167 - val_loss: 0.5836 - val_accuracy: 0.7500\n",
      "Epoch 44/200\n",
      "293/293 [==============================] - 0s 812us/step - loss: 0.5705 - accuracy: 0.7167 - val_loss: 0.6006 - val_accuracy: 0.7692\n",
      "Epoch 45/200\n",
      "293/293 [==============================] - 0s 757us/step - loss: 0.5624 - accuracy: 0.7270 - val_loss: 0.5728 - val_accuracy: 0.7500\n",
      "Epoch 46/200\n",
      "293/293 [==============================] - 0s 1ms/step - loss: 0.5670 - accuracy: 0.7304 - val_loss: 0.5905 - val_accuracy: 0.7692\n",
      "Epoch 47/200\n",
      "293/293 [==============================] - 0s 761us/step - loss: 0.5667 - accuracy: 0.7099 - val_loss: 0.5877 - val_accuracy: 0.8077\n",
      "Epoch 48/200\n",
      "293/293 [==============================] - 0s 791us/step - loss: 0.5647 - accuracy: 0.7474 - val_loss: 0.5687 - val_accuracy: 0.7692\n",
      "Epoch 49/200\n",
      "293/293 [==============================] - 0s 1ms/step - loss: 0.5679 - accuracy: 0.7372 - val_loss: 0.5887 - val_accuracy: 0.7885\n",
      "Epoch 50/200\n",
      "293/293 [==============================] - 0s 641us/step - loss: 0.5594 - accuracy: 0.7372 - val_loss: 0.5748 - val_accuracy: 0.7885\n",
      "Epoch 51/200\n",
      "293/293 [==============================] - 0s 692us/step - loss: 0.5583 - accuracy: 0.7201 - val_loss: 0.5721 - val_accuracy: 0.8077\n",
      "Epoch 52/200\n",
      "293/293 [==============================] - 0s 948us/step - loss: 0.5553 - accuracy: 0.7440 - val_loss: 0.5733 - val_accuracy: 0.8077\n",
      "Epoch 53/200\n",
      "293/293 [==============================] - 0s 662us/step - loss: 0.5539 - accuracy: 0.7509 - val_loss: 0.5671 - val_accuracy: 0.7500\n",
      "Epoch 54/200\n",
      "293/293 [==============================] - 0s 413us/step - loss: 0.5651 - accuracy: 0.7406 - val_loss: 0.5723 - val_accuracy: 0.7692\n",
      "Epoch 55/200\n",
      "293/293 [==============================] - 0s 406us/step - loss: 0.5562 - accuracy: 0.7304 - val_loss: 0.5550 - val_accuracy: 0.7885\n",
      "Epoch 56/200\n",
      "293/293 [==============================] - 0s 399us/step - loss: 0.5536 - accuracy: 0.7304 - val_loss: 0.5738 - val_accuracy: 0.8077\n",
      "Epoch 57/200\n",
      "293/293 [==============================] - 0s 423us/step - loss: 0.5453 - accuracy: 0.7440 - val_loss: 0.5809 - val_accuracy: 0.7885\n",
      "Epoch 58/200\n",
      "293/293 [==============================] - 0s 383us/step - loss: 0.5438 - accuracy: 0.7372 - val_loss: 0.5694 - val_accuracy: 0.7885\n",
      "Epoch 59/200\n",
      "293/293 [==============================] - 0s 709us/step - loss: 0.5440 - accuracy: 0.7509 - val_loss: 0.5617 - val_accuracy: 0.8077\n",
      "Epoch 60/200\n",
      "293/293 [==============================] - 0s 498us/step - loss: 0.5501 - accuracy: 0.7440 - val_loss: 0.5702 - val_accuracy: 0.8077\n",
      "Epoch 61/200\n",
      "293/293 [==============================] - 0s 406us/step - loss: 0.5392 - accuracy: 0.7577 - val_loss: 0.5564 - val_accuracy: 0.8077\n",
      "Epoch 62/200\n",
      "293/293 [==============================] - 0s 457us/step - loss: 0.5499 - accuracy: 0.7440 - val_loss: 0.5729 - val_accuracy: 0.7885\n",
      "Epoch 63/200\n",
      "293/293 [==============================] - 0s 413us/step - loss: 0.5412 - accuracy: 0.7509 - val_loss: 0.5568 - val_accuracy: 0.7885\n",
      "Epoch 64/200\n",
      "293/293 [==============================] - 0s 478us/step - loss: 0.5475 - accuracy: 0.7406 - val_loss: 0.5567 - val_accuracy: 0.7692\n",
      "Epoch 65/200\n",
      "293/293 [==============================] - 0s 471us/step - loss: 0.5417 - accuracy: 0.7474 - val_loss: 0.5538 - val_accuracy: 0.7692\n",
      "Epoch 66/200\n",
      "293/293 [==============================] - 0s 597us/step - loss: 0.5451 - accuracy: 0.7406 - val_loss: 0.5701 - val_accuracy: 0.7500\n",
      "Epoch 67/200\n",
      "293/293 [==============================] - 0s 416us/step - loss: 0.5409 - accuracy: 0.7474 - val_loss: 0.5493 - val_accuracy: 0.8077\n",
      "Epoch 68/200\n",
      "293/293 [==============================] - 0s 501us/step - loss: 0.5296 - accuracy: 0.7543 - val_loss: 0.5645 - val_accuracy: 0.7692\n",
      "Epoch 69/200\n",
      "293/293 [==============================] - 0s 399us/step - loss: 0.5430 - accuracy: 0.7509 - val_loss: 0.5613 - val_accuracy: 0.7308\n",
      "Epoch 70/200\n",
      "293/293 [==============================] - 0s 479us/step - loss: 0.5384 - accuracy: 0.7406 - val_loss: 0.5541 - val_accuracy: 0.7692\n",
      "Epoch 71/200\n",
      "293/293 [==============================] - 0s 481us/step - loss: 0.5271 - accuracy: 0.7645 - val_loss: 0.5554 - val_accuracy: 0.7885\n",
      "Epoch 72/200\n",
      "293/293 [==============================] - 0s 713us/step - loss: 0.5321 - accuracy: 0.7406 - val_loss: 0.5555 - val_accuracy: 0.7885\n",
      "Epoch 73/200\n",
      "293/293 [==============================] - 0s 409us/step - loss: 0.5295 - accuracy: 0.7474 - val_loss: 0.5545 - val_accuracy: 0.7692\n",
      "Epoch 74/200\n",
      "293/293 [==============================] - 0s 546us/step - loss: 0.5296 - accuracy: 0.7577 - val_loss: 0.5546 - val_accuracy: 0.7692\n",
      "Epoch 75/200\n",
      "293/293 [==============================] - 0s 382us/step - loss: 0.5377 - accuracy: 0.7543 - val_loss: 0.5508 - val_accuracy: 0.7692\n",
      "Epoch 76/200\n",
      "293/293 [==============================] - 0s 408us/step - loss: 0.5349 - accuracy: 0.7372 - val_loss: 0.5412 - val_accuracy: 0.7500\n",
      "Epoch 77/200\n",
      "293/293 [==============================] - 0s 457us/step - loss: 0.5399 - accuracy: 0.7372 - val_loss: 0.5459 - val_accuracy: 0.7885\n",
      "Epoch 78/200\n",
      "293/293 [==============================] - 0s 423us/step - loss: 0.5274 - accuracy: 0.7543 - val_loss: 0.5665 - val_accuracy: 0.7885\n",
      "Epoch 79/200\n",
      "293/293 [==============================] - 0s 669us/step - loss: 0.5256 - accuracy: 0.7338 - val_loss: 0.5473 - val_accuracy: 0.8077\n",
      "Epoch 80/200\n",
      "293/293 [==============================] - 0s 450us/step - loss: 0.5365 - accuracy: 0.7645 - val_loss: 0.5470 - val_accuracy: 0.7885\n",
      "Epoch 81/200\n",
      "293/293 [==============================] - 0s 383us/step - loss: 0.5433 - accuracy: 0.7372 - val_loss: 0.5408 - val_accuracy: 0.7885\n",
      "Epoch 82/200\n",
      "293/293 [==============================] - 0s 453us/step - loss: 0.5262 - accuracy: 0.7747 - val_loss: 0.5432 - val_accuracy: 0.7885\n",
      "Epoch 83/200\n",
      "293/293 [==============================] - 0s 392us/step - loss: 0.5190 - accuracy: 0.7645 - val_loss: 0.5482 - val_accuracy: 0.8077\n",
      "Epoch 84/200\n",
      "293/293 [==============================] - 0s 515us/step - loss: 0.5190 - accuracy: 0.7679 - val_loss: 0.5482 - val_accuracy: 0.8077\n",
      "Epoch 85/200\n",
      "293/293 [==============================] - 0s 373us/step - loss: 0.5190 - accuracy: 0.7611 - val_loss: 0.5471 - val_accuracy: 0.8077\n",
      "Epoch 86/200\n",
      "293/293 [==============================] - 0s 669us/step - loss: 0.5226 - accuracy: 0.7543 - val_loss: 0.5473 - val_accuracy: 0.8077\n",
      "Epoch 87/200\n",
      "293/293 [==============================] - 0s 487us/step - loss: 0.5219 - accuracy: 0.7440 - val_loss: 0.5421 - val_accuracy: 0.7885\n",
      "Epoch 88/200\n",
      "293/293 [==============================] - 0s 430us/step - loss: 0.5308 - accuracy: 0.7406 - val_loss: 0.5470 - val_accuracy: 0.8077\n",
      "Epoch 89/200\n",
      "293/293 [==============================] - 0s 458us/step - loss: 0.5187 - accuracy: 0.7645 - val_loss: 0.5456 - val_accuracy: 0.7885\n",
      "Epoch 90/200\n",
      "293/293 [==============================] - 0s 392us/step - loss: 0.5203 - accuracy: 0.7645 - val_loss: 0.5451 - val_accuracy: 0.8077\n",
      "Epoch 91/200\n",
      "293/293 [==============================] - 0s 467us/step - loss: 0.5164 - accuracy: 0.7645 - val_loss: 0.5439 - val_accuracy: 0.8077\n",
      "Epoch 92/200\n",
      "293/293 [==============================] - 0s 491us/step - loss: 0.5172 - accuracy: 0.7645 - val_loss: 0.5443 - val_accuracy: 0.8077\n",
      "Epoch 93/200\n",
      "293/293 [==============================] - 0s 518us/step - loss: 0.5194 - accuracy: 0.7679 - val_loss: 0.5638 - val_accuracy: 0.7885\n",
      "Epoch 94/200\n",
      "293/293 [==============================] - 0s 475us/step - loss: 0.5241 - accuracy: 0.7577 - val_loss: 0.5421 - val_accuracy: 0.7885\n",
      "Epoch 95/200\n",
      "293/293 [==============================] - 0s 410us/step - loss: 0.5282 - accuracy: 0.7372 - val_loss: 0.5411 - val_accuracy: 0.8077\n",
      "Epoch 96/200\n",
      "293/293 [==============================] - 0s 463us/step - loss: 0.5293 - accuracy: 0.7509 - val_loss: 0.5411 - val_accuracy: 0.7885\n",
      "Epoch 97/200\n",
      "293/293 [==============================] - 0s 471us/step - loss: 0.5162 - accuracy: 0.7509 - val_loss: 0.5438 - val_accuracy: 0.8077\n",
      "Epoch 98/200\n",
      "293/293 [==============================] - 0s 403us/step - loss: 0.5136 - accuracy: 0.7474 - val_loss: 0.5441 - val_accuracy: 0.8077\n",
      "Epoch 99/200\n",
      "293/293 [==============================] - 0s 744us/step - loss: 0.5238 - accuracy: 0.7747 - val_loss: 0.5389 - val_accuracy: 0.8077\n",
      "Epoch 100/200\n",
      "293/293 [==============================] - 0s 573us/step - loss: 0.5141 - accuracy: 0.7645 - val_loss: 0.5426 - val_accuracy: 0.7885\n",
      "Epoch 101/200\n",
      "293/293 [==============================] - 0s 454us/step - loss: 0.5159 - accuracy: 0.7577 - val_loss: 0.5466 - val_accuracy: 0.7885\n",
      "Epoch 102/200\n",
      "293/293 [==============================] - 0s 392us/step - loss: 0.5231 - accuracy: 0.7611 - val_loss: 0.5456 - val_accuracy: 0.8077\n",
      "Epoch 103/200\n",
      "293/293 [==============================] - 0s 467us/step - loss: 0.5127 - accuracy: 0.7645 - val_loss: 0.5454 - val_accuracy: 0.7885\n",
      "Epoch 104/200\n",
      "293/293 [==============================] - 0s 454us/step - loss: 0.5203 - accuracy: 0.7679 - val_loss: 0.5564 - val_accuracy: 0.7692\n",
      "Epoch 105/200\n",
      "293/293 [==============================] - 0s 491us/step - loss: 0.5183 - accuracy: 0.7474 - val_loss: 0.5461 - val_accuracy: 0.8077\n",
      "Epoch 106/200\n",
      "293/293 [==============================] - 0s 624us/step - loss: 0.5125 - accuracy: 0.7679 - val_loss: 0.5410 - val_accuracy: 0.8077\n",
      "Epoch 107/200\n",
      "293/293 [==============================] - 0s 515us/step - loss: 0.5016 - accuracy: 0.7816 - val_loss: 0.5476 - val_accuracy: 0.7885\n",
      "Epoch 108/200\n",
      "293/293 [==============================] - 0s 471us/step - loss: 0.5080 - accuracy: 0.7713 - val_loss: 0.5413 - val_accuracy: 0.8077\n",
      "Epoch 109/200\n",
      "293/293 [==============================] - 0s 522us/step - loss: 0.5041 - accuracy: 0.7577 - val_loss: 0.5445 - val_accuracy: 0.8077\n",
      "Epoch 110/200\n",
      "293/293 [==============================] - 0s 413us/step - loss: 0.5098 - accuracy: 0.7543 - val_loss: 0.5549 - val_accuracy: 0.7885\n",
      "Epoch 111/200\n",
      "293/293 [==============================] - 0s 389us/step - loss: 0.5133 - accuracy: 0.7406 - val_loss: 0.5405 - val_accuracy: 0.7885\n",
      "Epoch 112/200\n",
      "293/293 [==============================] - 0s 570us/step - loss: 0.5034 - accuracy: 0.7645 - val_loss: 0.5408 - val_accuracy: 0.7885\n",
      "Epoch 113/200\n",
      "293/293 [==============================] - 0s 716us/step - loss: 0.5022 - accuracy: 0.7713 - val_loss: 0.5411 - val_accuracy: 0.7885\n",
      "Epoch 114/200\n",
      "293/293 [==============================] - 0s 542us/step - loss: 0.5035 - accuracy: 0.7577 - val_loss: 0.5506 - val_accuracy: 0.7885\n",
      "Epoch 115/200\n",
      "293/293 [==============================] - 0s 454us/step - loss: 0.5071 - accuracy: 0.7747 - val_loss: 0.5576 - val_accuracy: 0.7500\n",
      "Epoch 116/200\n",
      "293/293 [==============================] - 0s 386us/step - loss: 0.5063 - accuracy: 0.7679 - val_loss: 0.5429 - val_accuracy: 0.7885\n",
      "Epoch 117/200\n",
      "293/293 [==============================] - 0s 450us/step - loss: 0.4995 - accuracy: 0.7782 - val_loss: 0.5422 - val_accuracy: 0.8077\n",
      "Epoch 118/200\n",
      "293/293 [==============================] - 0s 424us/step - loss: 0.5060 - accuracy: 0.7747 - val_loss: 0.5419 - val_accuracy: 0.7885\n",
      "Epoch 119/200\n",
      "293/293 [==============================] - 0s 822us/step - loss: 0.5088 - accuracy: 0.7611 - val_loss: 0.5404 - val_accuracy: 0.8077\n",
      "Epoch 120/200\n",
      "293/293 [==============================] - 0s 413us/step - loss: 0.4978 - accuracy: 0.7782 - val_loss: 0.5465 - val_accuracy: 0.8077\n",
      "Epoch 121/200\n",
      "293/293 [==============================] - 0s 448us/step - loss: 0.4862 - accuracy: 0.7850 - val_loss: 0.5390 - val_accuracy: 0.7692\n",
      "Epoch 122/200\n",
      "293/293 [==============================] - 0s 464us/step - loss: 0.4929 - accuracy: 0.7816 - val_loss: 0.5529 - val_accuracy: 0.7885\n",
      "Epoch 123/200\n",
      "293/293 [==============================] - 0s 483us/step - loss: 0.5056 - accuracy: 0.7577 - val_loss: 0.5455 - val_accuracy: 0.8077\n",
      "Epoch 124/200\n",
      "293/293 [==============================] - 0s 392us/step - loss: 0.4985 - accuracy: 0.7816 - val_loss: 0.5397 - val_accuracy: 0.7885\n",
      "Epoch 125/200\n",
      "293/293 [==============================] - 0s 565us/step - loss: 0.4978 - accuracy: 0.7747 - val_loss: 0.5569 - val_accuracy: 0.7692\n",
      "Epoch 126/200\n",
      "293/293 [==============================] - 0s 392us/step - loss: 0.5071 - accuracy: 0.7543 - val_loss: 0.5390 - val_accuracy: 0.7885\n",
      "Epoch 127/200\n",
      "293/293 [==============================] - 0s 478us/step - loss: 0.5063 - accuracy: 0.7679 - val_loss: 0.5468 - val_accuracy: 0.8077\n",
      "Epoch 128/200\n",
      "293/293 [==============================] - 0s 403us/step - loss: 0.5033 - accuracy: 0.7645 - val_loss: 0.5400 - val_accuracy: 0.7692\n",
      "Epoch 129/200\n",
      "293/293 [==============================] - 0s 457us/step - loss: 0.4952 - accuracy: 0.7747 - val_loss: 0.5591 - val_accuracy: 0.7500\n",
      "Epoch 130/200\n",
      "293/293 [==============================] - 0s 433us/step - loss: 0.5024 - accuracy: 0.7543 - val_loss: 0.5433 - val_accuracy: 0.7885\n",
      "Epoch 131/200\n",
      "293/293 [==============================] - 0s 460us/step - loss: 0.4977 - accuracy: 0.7713 - val_loss: 0.5407 - val_accuracy: 0.7885\n",
      "Epoch 132/200\n",
      "293/293 [==============================] - 0s 901us/step - loss: 0.4880 - accuracy: 0.7713 - val_loss: 0.5439 - val_accuracy: 0.7885\n",
      "Epoch 133/200\n",
      "293/293 [==============================] - 0s 454us/step - loss: 0.4891 - accuracy: 0.7747 - val_loss: 0.5411 - val_accuracy: 0.7885\n",
      "Epoch 134/200\n",
      "293/293 [==============================] - 0s 536us/step - loss: 0.4939 - accuracy: 0.7816 - val_loss: 0.5538 - val_accuracy: 0.7885\n",
      "Epoch 135/200\n",
      "293/293 [==============================] - 0s 454us/step - loss: 0.4979 - accuracy: 0.7679 - val_loss: 0.5375 - val_accuracy: 0.8077\n",
      "Epoch 136/200\n",
      "293/293 [==============================] - 0s 505us/step - loss: 0.4931 - accuracy: 0.7850 - val_loss: 0.5438 - val_accuracy: 0.8077\n",
      "Epoch 137/200\n",
      "293/293 [==============================] - 0s 413us/step - loss: 0.4911 - accuracy: 0.7713 - val_loss: 0.5385 - val_accuracy: 0.7885\n",
      "Epoch 138/200\n",
      "293/293 [==============================] - 0s 908us/step - loss: 0.4918 - accuracy: 0.7713 - val_loss: 0.5469 - val_accuracy: 0.7885\n",
      "Epoch 139/200\n",
      "293/293 [==============================] - 0s 464us/step - loss: 0.4996 - accuracy: 0.7713 - val_loss: 0.5435 - val_accuracy: 0.7885\n",
      "Epoch 140/200\n",
      "293/293 [==============================] - 0s 392us/step - loss: 0.4997 - accuracy: 0.7679 - val_loss: 0.5450 - val_accuracy: 0.7885\n",
      "Epoch 141/200\n",
      "293/293 [==============================] - 0s 467us/step - loss: 0.4930 - accuracy: 0.7679 - val_loss: 0.5516 - val_accuracy: 0.7885\n",
      "Epoch 142/200\n",
      "293/293 [==============================] - 0s 389us/step - loss: 0.4882 - accuracy: 0.7713 - val_loss: 0.5467 - val_accuracy: 0.7885\n",
      "Epoch 143/200\n",
      "293/293 [==============================] - 0s 501us/step - loss: 0.4885 - accuracy: 0.7816 - val_loss: 0.5581 - val_accuracy: 0.7885\n",
      "Epoch 144/200\n",
      "293/293 [==============================] - 0s 737us/step - loss: 0.4914 - accuracy: 0.7611 - val_loss: 0.5490 - val_accuracy: 0.7885\n",
      "Epoch 145/200\n",
      "293/293 [==============================] - 0s 648us/step - loss: 0.4975 - accuracy: 0.7645 - val_loss: 0.5430 - val_accuracy: 0.7885\n",
      "Epoch 146/200\n",
      "293/293 [==============================] - 0s 406us/step - loss: 0.4824 - accuracy: 0.7747 - val_loss: 0.5414 - val_accuracy: 0.7885\n",
      "Epoch 147/200\n",
      "293/293 [==============================] - 0s 426us/step - loss: 0.4888 - accuracy: 0.7747 - val_loss: 0.5495 - val_accuracy: 0.7885\n",
      "Epoch 148/200\n",
      "293/293 [==============================] - 0s 430us/step - loss: 0.4910 - accuracy: 0.7816 - val_loss: 0.5468 - val_accuracy: 0.8077\n",
      "Epoch 149/200\n",
      "293/293 [==============================] - 0s 481us/step - loss: 0.4856 - accuracy: 0.7747 - val_loss: 0.5468 - val_accuracy: 0.7885\n",
      "Epoch 150/200\n",
      "293/293 [==============================] - 0s 402us/step - loss: 0.4911 - accuracy: 0.7713 - val_loss: 0.5444 - val_accuracy: 0.7885\n",
      "Epoch 151/200\n",
      "293/293 [==============================] - 0s 679us/step - loss: 0.4927 - accuracy: 0.7577 - val_loss: 0.5554 - val_accuracy: 0.7692\n",
      "Epoch 152/200\n",
      "293/293 [==============================] - 0s 409us/step - loss: 0.4968 - accuracy: 0.7645 - val_loss: 0.5573 - val_accuracy: 0.7692\n",
      "Epoch 153/200\n",
      "293/293 [==============================] - 0s 476us/step - loss: 0.4838 - accuracy: 0.7918 - val_loss: 0.5522 - val_accuracy: 0.7885\n",
      "Epoch 154/200\n",
      "293/293 [==============================] - 0s 406us/step - loss: 0.4945 - accuracy: 0.7713 - val_loss: 0.5502 - val_accuracy: 0.7692\n",
      "Epoch 155/200\n",
      "293/293 [==============================] - 0s 495us/step - loss: 0.4898 - accuracy: 0.7713 - val_loss: 0.5529 - val_accuracy: 0.7885\n",
      "Epoch 156/200\n",
      "293/293 [==============================] - 0s 454us/step - loss: 0.4836 - accuracy: 0.7611 - val_loss: 0.5483 - val_accuracy: 0.7885\n",
      "Epoch 157/200\n",
      "293/293 [==============================] - 0s 409us/step - loss: 0.4807 - accuracy: 0.7884 - val_loss: 0.5479 - val_accuracy: 0.7500\n",
      "Epoch 158/200\n",
      "293/293 [==============================] - 0s 703us/step - loss: 0.4870 - accuracy: 0.7782 - val_loss: 0.5449 - val_accuracy: 0.7692\n",
      "Epoch 159/200\n",
      "293/293 [==============================] - 0s 495us/step - loss: 0.4803 - accuracy: 0.7884 - val_loss: 0.5500 - val_accuracy: 0.7885\n",
      "Epoch 160/200\n",
      "293/293 [==============================] - 0s 406us/step - loss: 0.4954 - accuracy: 0.7577 - val_loss: 0.5502 - val_accuracy: 0.7885\n",
      "Epoch 161/200\n",
      "293/293 [==============================] - 0s 474us/step - loss: 0.4758 - accuracy: 0.7816 - val_loss: 0.5468 - val_accuracy: 0.7500\n",
      "Epoch 162/200\n",
      "293/293 [==============================] - 0s 420us/step - loss: 0.4713 - accuracy: 0.7884 - val_loss: 0.5541 - val_accuracy: 0.7885\n",
      "Epoch 163/200\n",
      "293/293 [==============================] - 0s 491us/step - loss: 0.4802 - accuracy: 0.7611 - val_loss: 0.5535 - val_accuracy: 0.7692\n",
      "Epoch 164/200\n",
      "293/293 [==============================] - 0s 402us/step - loss: 0.4797 - accuracy: 0.7884 - val_loss: 0.5474 - val_accuracy: 0.7692\n",
      "Epoch 165/200\n",
      "293/293 [==============================] - 0s 860us/step - loss: 0.4853 - accuracy: 0.7918 - val_loss: 0.5532 - val_accuracy: 0.7885\n",
      "Epoch 166/200\n",
      "293/293 [==============================] - 0s 471us/step - loss: 0.4700 - accuracy: 0.7679 - val_loss: 0.5567 - val_accuracy: 0.7885\n",
      "Epoch 167/200\n",
      "293/293 [==============================] - 0s 420us/step - loss: 0.4839 - accuracy: 0.7816 - val_loss: 0.5579 - val_accuracy: 0.7885\n",
      "Epoch 168/200\n",
      "293/293 [==============================] - 0s 471us/step - loss: 0.4774 - accuracy: 0.7884 - val_loss: 0.5561 - val_accuracy: 0.7692\n",
      "Epoch 169/200\n",
      "293/293 [==============================] - 0s 471us/step - loss: 0.4876 - accuracy: 0.7509 - val_loss: 0.5531 - val_accuracy: 0.7885\n",
      "Epoch 170/200\n",
      "293/293 [==============================] - 0s 402us/step - loss: 0.4845 - accuracy: 0.7713 - val_loss: 0.5476 - val_accuracy: 0.7692\n",
      "Epoch 171/200\n",
      "293/293 [==============================] - 0s 638us/step - loss: 0.4865 - accuracy: 0.7782 - val_loss: 0.5515 - val_accuracy: 0.7885\n",
      "Epoch 172/200\n",
      "293/293 [==============================] - 0s 553us/step - loss: 0.4822 - accuracy: 0.7713 - val_loss: 0.5476 - val_accuracy: 0.7692\n",
      "Epoch 173/200\n",
      "293/293 [==============================] - 0s 416us/step - loss: 0.4797 - accuracy: 0.7713 - val_loss: 0.5465 - val_accuracy: 0.7500\n",
      "Epoch 174/200\n",
      "293/293 [==============================] - 0s 406us/step - loss: 0.4760 - accuracy: 0.7713 - val_loss: 0.5521 - val_accuracy: 0.7885\n",
      "Epoch 175/200\n",
      "293/293 [==============================] - 0s 433us/step - loss: 0.4849 - accuracy: 0.7645 - val_loss: 0.5533 - val_accuracy: 0.7885\n",
      "Epoch 176/200\n",
      "293/293 [==============================] - 0s 454us/step - loss: 0.4831 - accuracy: 0.7952 - val_loss: 0.5538 - val_accuracy: 0.7692\n",
      "Epoch 177/200\n",
      "293/293 [==============================] - 0s 413us/step - loss: 0.4932 - accuracy: 0.7850 - val_loss: 0.5506 - val_accuracy: 0.7885\n",
      "Epoch 178/200\n",
      "293/293 [==============================] - 0s 805us/step - loss: 0.4818 - accuracy: 0.7986 - val_loss: 0.5594 - val_accuracy: 0.7500\n",
      "Epoch 179/200\n",
      "293/293 [==============================] - 0s 426us/step - loss: 0.4782 - accuracy: 0.7747 - val_loss: 0.5499 - val_accuracy: 0.7885\n",
      "Epoch 180/200\n",
      "293/293 [==============================] - 0s 495us/step - loss: 0.4722 - accuracy: 0.7816 - val_loss: 0.5553 - val_accuracy: 0.7885\n",
      "Epoch 181/200\n",
      "293/293 [==============================] - 0s 454us/step - loss: 0.4698 - accuracy: 0.7850 - val_loss: 0.5562 - val_accuracy: 0.7885\n",
      "Epoch 182/200\n",
      "293/293 [==============================] - 0s 416us/step - loss: 0.4831 - accuracy: 0.7713 - val_loss: 0.5504 - val_accuracy: 0.7692\n",
      "Epoch 183/200\n",
      "293/293 [==============================] - 0s 443us/step - loss: 0.4770 - accuracy: 0.7918 - val_loss: 0.5571 - val_accuracy: 0.7885\n",
      "Epoch 184/200\n",
      "293/293 [==============================] - 0s 420us/step - loss: 0.4797 - accuracy: 0.7679 - val_loss: 0.5539 - val_accuracy: 0.7500\n",
      "Epoch 185/200\n",
      "293/293 [==============================] - 0s 590us/step - loss: 0.4832 - accuracy: 0.7679 - val_loss: 0.5517 - val_accuracy: 0.7500\n",
      "Epoch 186/200\n",
      "293/293 [==============================] - 0s 464us/step - loss: 0.4793 - accuracy: 0.7782 - val_loss: 0.5545 - val_accuracy: 0.7885\n",
      "Epoch 187/200\n",
      "293/293 [==============================] - 0s 553us/step - loss: 0.4784 - accuracy: 0.7850 - val_loss: 0.5567 - val_accuracy: 0.7885\n",
      "Epoch 188/200\n",
      "293/293 [==============================] - 0s 402us/step - loss: 0.4796 - accuracy: 0.7782 - val_loss: 0.5643 - val_accuracy: 0.7500\n",
      "Epoch 189/200\n",
      "293/293 [==============================] - 0s 406us/step - loss: 0.4836 - accuracy: 0.7816 - val_loss: 0.5568 - val_accuracy: 0.7500\n",
      "Epoch 190/200\n",
      "293/293 [==============================] - 0s 517us/step - loss: 0.4879 - accuracy: 0.7747 - val_loss: 0.5550 - val_accuracy: 0.7885\n",
      "Epoch 191/200\n",
      "293/293 [==============================] - 0s 445us/step - loss: 0.4806 - accuracy: 0.7713 - val_loss: 0.5642 - val_accuracy: 0.7692\n",
      "Epoch 192/200\n",
      "293/293 [==============================] - 0s 686us/step - loss: 0.4801 - accuracy: 0.7713 - val_loss: 0.5595 - val_accuracy: 0.7500\n",
      "Epoch 193/200\n",
      "293/293 [==============================] - 0s 498us/step - loss: 0.4636 - accuracy: 0.7952 - val_loss: 0.5621 - val_accuracy: 0.7692\n",
      "Epoch 194/200\n",
      "293/293 [==============================] - 0s 396us/step - loss: 0.4802 - accuracy: 0.7850 - val_loss: 0.5569 - val_accuracy: 0.7885\n",
      "Epoch 195/200\n",
      "293/293 [==============================] - 0s 549us/step - loss: 0.4740 - accuracy: 0.7782 - val_loss: 0.5541 - val_accuracy: 0.7500\n",
      "Epoch 196/200\n",
      "293/293 [==============================] - 0s 521us/step - loss: 0.4795 - accuracy: 0.7952 - val_loss: 0.5625 - val_accuracy: 0.7692\n",
      "Epoch 197/200\n",
      "293/293 [==============================] - 0s 399us/step - loss: 0.4772 - accuracy: 0.7918 - val_loss: 0.5580 - val_accuracy: 0.7500\n",
      "Epoch 198/200\n",
      "293/293 [==============================] - 0s 892us/step - loss: 0.4768 - accuracy: 0.7782 - val_loss: 0.5582 - val_accuracy: 0.7500\n",
      "Epoch 199/200\n",
      "293/293 [==============================] - 0s 426us/step - loss: 0.4725 - accuracy: 0.7850 - val_loss: 0.5595 - val_accuracy: 0.7885\n",
      "Epoch 200/200\n",
      "293/293 [==============================] - 0s 467us/step - loss: 0.4747 - accuracy: 0.7747 - val_loss: 0.5628 - val_accuracy: 0.7500\n"
     ]
    }
   ],
   "source": [
    "history = model.fit(X_scaled, Y_categorical, validation_split=0.15, epochs = 200, batch_size =10)"
   ]
  },
  {
   "cell_type": "code",
   "execution_count": 246,
   "metadata": {},
   "outputs": [
    {
     "data": {
      "text/plain": [
       "array([[6.04080677e-01, 3.95919293e-01],\n",
       "       [6.63323700e-01, 3.36676270e-01],\n",
       "       [2.87858427e-01, 7.12141573e-01],\n",
       "       [5.56915224e-01, 4.43084776e-01],\n",
       "       [2.77351856e-01, 7.22648144e-01],\n",
       "       [1.88805759e-01, 8.11194241e-01],\n",
       "       [8.15392375e-01, 1.84607670e-01],\n",
       "       [9.33806419e-01, 6.61936030e-02],\n",
       "       [8.15086007e-01, 1.84913993e-01],\n",
       "       [9.41058636e-01, 5.89413531e-02],\n",
       "       [8.09820071e-02, 9.19018030e-01],\n",
       "       [4.19901907e-01, 5.80098152e-01],\n",
       "       [9.62966144e-01, 3.70338075e-02],\n",
       "       [7.90217876e-01, 2.09782124e-01],\n",
       "       [9.59406912e-01, 4.05930951e-02],\n",
       "       [3.70440990e-01, 6.29558980e-01],\n",
       "       [9.18772817e-01, 8.12271535e-02],\n",
       "       [7.41449654e-01, 2.58550256e-01],\n",
       "       [4.69049335e-01, 5.30950665e-01],\n",
       "       [6.98507309e-01, 3.01492661e-01],\n",
       "       [9.69570637e-01, 3.04293036e-02],\n",
       "       [7.30105281e-01, 2.69894749e-01],\n",
       "       [7.23689258e-01, 2.76310712e-01],\n",
       "       [4.65942383e-01, 5.34057617e-01],\n",
       "       [1.46784261e-01, 8.53215754e-01],\n",
       "       [7.78825760e-01, 2.21174300e-01],\n",
       "       [8.35042953e-01, 1.64957032e-01],\n",
       "       [7.11766541e-01, 2.88233429e-01],\n",
       "       [8.89991105e-01, 1.10008940e-01],\n",
       "       [8.01154613e-01, 1.98845446e-01],\n",
       "       [9.05639231e-01, 9.43607986e-02],\n",
       "       [2.14076743e-01, 7.85923243e-01],\n",
       "       [8.53200376e-01, 1.46799654e-01],\n",
       "       [5.50809324e-01, 4.49190706e-01],\n",
       "       [8.65230560e-01, 1.34769484e-01],\n",
       "       [7.26966374e-03, 9.92730319e-01],\n",
       "       [4.00632024e-01, 5.99367976e-01],\n",
       "       [1.51351482e-01, 8.48648548e-01],\n",
       "       [3.47656518e-01, 6.52343452e-01],\n",
       "       [2.19874755e-01, 7.80125320e-01],\n",
       "       [1.49819389e-01, 8.50180626e-01],\n",
       "       [5.36361262e-02, 9.46363866e-01],\n",
       "       [7.85569489e-01, 2.14430526e-01],\n",
       "       [7.96674013e-01, 2.03325972e-01],\n",
       "       [8.24793994e-01, 1.75206020e-01],\n",
       "       [4.91725296e-01, 5.08274734e-01],\n",
       "       [4.56029773e-01, 5.43970287e-01],\n",
       "       [6.72899932e-02, 9.32709992e-01],\n",
       "       [8.81177545e-01, 1.18822508e-01],\n",
       "       [1.09349467e-01, 8.90650570e-01],\n",
       "       [5.77179730e-01, 4.22820270e-01],\n",
       "       [7.14578927e-01, 2.85421014e-01],\n",
       "       [7.16475919e-02, 9.28352416e-01],\n",
       "       [6.60823192e-03, 9.93391752e-01],\n",
       "       [1.33187130e-01, 8.66812885e-01],\n",
       "       [3.24999094e-01, 6.75000906e-01],\n",
       "       [5.78826129e-01, 4.21173841e-01],\n",
       "       [1.84069097e-01, 8.15930963e-01],\n",
       "       [1.79520458e-01, 8.20479572e-01],\n",
       "       [3.23395044e-01, 6.76604927e-01],\n",
       "       [1.23383790e-01, 8.76616240e-01],\n",
       "       [4.72407162e-01, 5.27592897e-01],\n",
       "       [1.30151302e-01, 8.69848728e-01],\n",
       "       [2.22165406e-01, 7.77834654e-01],\n",
       "       [7.19794393e-01, 2.80205578e-01],\n",
       "       [7.98149705e-01, 2.01850295e-01],\n",
       "       [9.20407847e-02, 9.07959223e-01],\n",
       "       [2.38294512e-01, 7.61705518e-01],\n",
       "       [4.53296661e-01, 5.46703398e-01],\n",
       "       [3.32443923e-01, 6.67556107e-01],\n",
       "       [1.90923199e-01, 8.09076846e-01],\n",
       "       [6.53480351e-01, 3.46519649e-01],\n",
       "       [8.76725256e-01, 1.23274684e-01],\n",
       "       [8.70889544e-01, 1.29110456e-01],\n",
       "       [3.20122451e-01, 6.79877520e-01],\n",
       "       [2.74866521e-01, 7.25133419e-01],\n",
       "       [2.59654552e-01, 7.40345478e-01],\n",
       "       [6.70518398e-01, 3.29481602e-01],\n",
       "       [3.06584071e-02, 9.69341516e-01],\n",
       "       [4.16481912e-01, 5.83518028e-01],\n",
       "       [3.10271710e-01, 6.89728260e-01],\n",
       "       [3.93134058e-01, 6.06865942e-01],\n",
       "       [8.02405953e-01, 1.97594106e-01],\n",
       "       [2.66187519e-01, 7.33812392e-01],\n",
       "       [4.38493723e-03, 9.95615005e-01],\n",
       "       [2.66187519e-01, 7.33812392e-01],\n",
       "       [2.74847358e-01, 7.25152612e-01],\n",
       "       [4.50649053e-01, 5.49350917e-01],\n",
       "       [8.67808759e-01, 1.32191285e-01],\n",
       "       [5.13130903e-01, 4.86869037e-01],\n",
       "       [4.79486555e-01, 5.20513415e-01],\n",
       "       [6.39612377e-01, 3.60387534e-01],\n",
       "       [7.83139944e-01, 2.16860041e-01],\n",
       "       [8.75799537e-01, 1.24200508e-01],\n",
       "       [7.49788165e-01, 2.50211895e-01],\n",
       "       [2.89406568e-01, 7.10593343e-01],\n",
       "       [5.63551523e-02, 9.43644822e-01],\n",
       "       [2.10156336e-01, 7.89843678e-01],\n",
       "       [3.64661872e-01, 6.35338128e-01],\n",
       "       [4.41837221e-01, 5.58162749e-01],\n",
       "       [3.45066696e-01, 6.54933214e-01],\n",
       "       [4.98339161e-02, 9.50166106e-01],\n",
       "       [5.22199690e-01, 4.77800280e-01],\n",
       "       [5.16596556e-01, 4.83403385e-01],\n",
       "       [7.65808761e-01, 2.34191298e-01],\n",
       "       [2.41641417e-01, 7.58358598e-01],\n",
       "       [7.80817807e-01, 2.19182223e-01],\n",
       "       [9.46623147e-01, 5.33768907e-02],\n",
       "       [9.45733011e-01, 5.42669855e-02],\n",
       "       [2.63388187e-01, 7.36611784e-01],\n",
       "       [2.45360900e-02, 9.75463867e-01],\n",
       "       [4.86985028e-01, 5.13015032e-01],\n",
       "       [4.11400050e-01, 5.88599980e-01],\n",
       "       [4.50388968e-01, 5.49611032e-01],\n",
       "       [2.20080465e-02, 9.77991998e-01],\n",
       "       [4.18214411e-01, 5.81785619e-01],\n",
       "       [1.28656581e-01, 8.71343374e-01],\n",
       "       [2.62615591e-01, 7.37384379e-01],\n",
       "       [2.61981845e-01, 7.38018095e-01],\n",
       "       [3.08708847e-01, 6.91291094e-01],\n",
       "       [2.26183206e-01, 7.73816824e-01],\n",
       "       [6.28535226e-02, 9.37146485e-01],\n",
       "       [4.65012550e-01, 5.34987390e-01],\n",
       "       [1.58876836e-01, 8.41123223e-01],\n",
       "       [2.37040877e-01, 7.62959182e-01],\n",
       "       [1.74318939e-01, 8.25681090e-01],\n",
       "       [2.40673736e-01, 7.59326279e-01],\n",
       "       [7.55413771e-02, 9.24458683e-01],\n",
       "       [2.29288831e-01, 7.70711184e-01],\n",
       "       [5.58709979e-01, 4.41290021e-01],\n",
       "       [3.82883012e-01, 6.17117047e-01],\n",
       "       [8.32286716e-01, 1.67713389e-01],\n",
       "       [1.40882775e-01, 8.59117270e-01],\n",
       "       [2.12544546e-01, 7.87455499e-01],\n",
       "       [3.02129239e-01, 6.97870731e-01],\n",
       "       [6.36002004e-01, 3.63997996e-01],\n",
       "       [1.63999587e-01, 8.36000443e-01],\n",
       "       [2.74640143e-01, 7.25359738e-01],\n",
       "       [1.26682281e-01, 8.73317778e-01],\n",
       "       [5.98444104e-01, 4.01555896e-01],\n",
       "       [1.08626105e-01, 8.91373873e-01],\n",
       "       [5.46791375e-01, 4.53208566e-01],\n",
       "       [6.05129123e-01, 3.94870907e-01],\n",
       "       [7.91034937e-01, 2.08965093e-01],\n",
       "       [3.41301620e-01, 6.58698320e-01],\n",
       "       [6.89612687e-01, 3.10387254e-01],\n",
       "       [9.81954694e-01, 1.80452913e-02],\n",
       "       [3.18759114e-01, 6.81240797e-01],\n",
       "       [3.74743402e-01, 6.25256598e-01],\n",
       "       [6.05129123e-01, 3.94870907e-01],\n",
       "       [1.94559991e-01, 8.05440009e-01],\n",
       "       [3.77493620e-01, 6.22506380e-01],\n",
       "       [7.55079612e-02, 9.24492061e-01],\n",
       "       [6.95995763e-02, 9.30400372e-01],\n",
       "       [1.71379820e-01, 8.28620195e-01],\n",
       "       [2.80032486e-01, 7.19967484e-01],\n",
       "       [1.23371132e-01, 8.76628876e-01],\n",
       "       [8.09334099e-01, 1.90665931e-01],\n",
       "       [2.30307609e-01, 7.69692361e-01],\n",
       "       [3.94216537e-01, 6.05783522e-01],\n",
       "       [3.09147120e-01, 6.90852821e-01],\n",
       "       [1.93235189e-01, 8.06764841e-01],\n",
       "       [1.26303390e-01, 8.73696625e-01],\n",
       "       [3.53585333e-01, 6.46414578e-01],\n",
       "       [5.39217412e-01, 4.60782528e-01],\n",
       "       [2.02265382e-01, 7.97734678e-01],\n",
       "       [7.23051667e-01, 2.76948333e-01],\n",
       "       [5.46208858e-01, 4.53791082e-01],\n",
       "       [1.93892792e-01, 8.06107283e-01],\n",
       "       [6.49469316e-01, 3.50530654e-01],\n",
       "       [5.54732919e-01, 4.45267022e-01],\n",
       "       [7.30058134e-01, 2.69941896e-01],\n",
       "       [5.85914731e-01, 4.14085269e-01],\n",
       "       [8.69498312e-01, 1.30501747e-01],\n",
       "       [5.76393068e-01, 4.23606873e-01],\n",
       "       [6.49469316e-01, 3.50530654e-01],\n",
       "       [3.18955719e-01, 6.81044281e-01],\n",
       "       [5.64729333e-01, 4.35270667e-01],\n",
       "       [3.87430131e-01, 6.12569869e-01],\n",
       "       [3.47526044e-01, 6.52473867e-01],\n",
       "       [2.23735586e-01, 7.76264429e-01],\n",
       "       [2.89785355e-01, 7.10214674e-01],\n",
       "       [9.65621173e-01, 3.43787819e-02],\n",
       "       [3.96588326e-01, 6.03411674e-01],\n",
       "       [2.83812851e-01, 7.16187179e-01],\n",
       "       [4.48891558e-02, 9.55110908e-01],\n",
       "       [6.30431354e-01, 3.69568586e-01],\n",
       "       [4.44125563e-01, 5.55874467e-01],\n",
       "       [6.66537046e-01, 3.33462924e-01],\n",
       "       [9.85995114e-01, 1.40048563e-02],\n",
       "       [8.58363688e-01, 1.41636267e-01],\n",
       "       [7.81426430e-01, 2.18573660e-01],\n",
       "       [7.01048851e-01, 2.98951119e-01],\n",
       "       [9.58989501e-01, 4.10104804e-02],\n",
       "       [9.03552771e-01, 9.64472070e-02],\n",
       "       [9.46669340e-01, 5.33307232e-02],\n",
       "       [8.50660026e-01, 1.49340019e-01],\n",
       "       [8.25236380e-01, 1.74763665e-01],\n",
       "       [9.64777827e-01, 3.52222137e-02],\n",
       "       [9.63901162e-01, 3.60988863e-02],\n",
       "       [4.39277858e-01, 5.60722172e-01],\n",
       "       [8.81821930e-01, 1.18178092e-01],\n",
       "       [5.11580527e-01, 4.88419473e-01],\n",
       "       [8.03195655e-01, 1.96804374e-01],\n",
       "       [4.47726697e-01, 5.52273333e-01],\n",
       "       [5.86486518e-01, 4.13513452e-01],\n",
       "       [8.39528263e-01, 1.60471782e-01],\n",
       "       [6.33452713e-01, 3.66547257e-01],\n",
       "       [6.55585647e-01, 3.44414413e-01],\n",
       "       [9.31068003e-01, 6.89319819e-02],\n",
       "       [7.87634075e-01, 2.12365955e-01],\n",
       "       [2.95300871e-01, 7.04699099e-01],\n",
       "       [8.16564620e-01, 1.83435425e-01],\n",
       "       [8.57706189e-01, 1.42293796e-01],\n",
       "       [9.24346685e-01, 7.56533518e-02],\n",
       "       [6.94455028e-01, 3.05544883e-01],\n",
       "       [8.30634892e-01, 1.69365123e-01],\n",
       "       [6.88221216e-01, 3.11778754e-01],\n",
       "       [6.10879421e-01, 3.89120519e-01],\n",
       "       [4.48384464e-01, 5.51615477e-01],\n",
       "       [3.60298932e-01, 6.39701068e-01],\n",
       "       [6.20516717e-01, 3.79483223e-01],\n",
       "       [6.13704145e-01, 3.86295855e-01],\n",
       "       [7.50903562e-02, 9.24909711e-01],\n",
       "       [2.87624329e-01, 7.12375641e-01],\n",
       "       [2.23509744e-01, 7.76490271e-01],\n",
       "       [4.57817793e-01, 5.42182207e-01],\n",
       "       [2.30820566e-01, 7.69179523e-01],\n",
       "       [2.09858045e-01, 7.90142059e-01],\n",
       "       [1.47464320e-01, 8.52535665e-01],\n",
       "       [6.85603023e-01, 3.14396918e-01],\n",
       "       [2.54396260e-01, 7.45603740e-01],\n",
       "       [1.10407034e-03, 9.98895884e-01],\n",
       "       [1.52636603e-01, 8.47363353e-01],\n",
       "       [7.93613940e-02, 9.20638680e-01],\n",
       "       [1.66976094e-01, 8.33023906e-01],\n",
       "       [2.68144429e-01, 7.31855512e-01],\n",
       "       [3.33100766e-01, 6.66899264e-01],\n",
       "       [3.70050728e-01, 6.29949212e-01],\n",
       "       [9.57937688e-02, 9.04206276e-01],\n",
       "       [2.54888833e-01, 7.45111108e-01],\n",
       "       [1.91518322e-01, 8.08481634e-01],\n",
       "       [3.44965488e-01, 6.55034482e-01],\n",
       "       [1.39886737e-01, 8.60113263e-01],\n",
       "       [8.69537592e-01, 1.30462468e-01],\n",
       "       [8.44141841e-01, 1.55858159e-01],\n",
       "       [7.41896629e-01, 2.58103371e-01],\n",
       "       [9.87601399e-01, 1.23986285e-02],\n",
       "       [9.22626138e-01, 7.73738846e-02],\n",
       "       [2.35022604e-01, 7.64977396e-01],\n",
       "       [3.56273800e-01, 6.43726170e-01],\n",
       "       [2.65433848e-01, 7.34566152e-01],\n",
       "       [7.10841179e-01, 2.89158851e-01],\n",
       "       [1.96415320e-01, 8.03584695e-01],\n",
       "       [2.00732827e-01, 7.99267173e-01],\n",
       "       [8.14747751e-01, 1.85252279e-01],\n",
       "       [5.90205014e-01, 4.09794956e-01],\n",
       "       [5.00028431e-01, 4.99971628e-01],\n",
       "       [9.04970527e-01, 9.50294808e-02],\n",
       "       [1.76235124e-01, 8.23764861e-01],\n",
       "       [5.74236274e-01, 4.25763756e-01],\n",
       "       [5.11188447e-01, 4.88811553e-01],\n",
       "       [7.50294447e-01, 2.49705598e-01],\n",
       "       [1.06359333e-01, 8.93640637e-01],\n",
       "       [4.06429589e-01, 5.93570411e-01],\n",
       "       [6.95931196e-01, 3.04068744e-01],\n",
       "       [7.36183047e-01, 2.63816863e-01],\n",
       "       [4.57330137e-01, 5.42669833e-01],\n",
       "       [3.09364468e-01, 6.90635502e-01],\n",
       "       [2.84964621e-01, 7.15035319e-01],\n",
       "       [9.63548720e-02, 9.03645098e-01],\n",
       "       [9.15626407e-01, 8.43736231e-02],\n",
       "       [3.01651329e-01, 6.98348641e-01],\n",
       "       [4.08050954e-01, 5.91948986e-01],\n",
       "       [3.73580813e-01, 6.26419127e-01],\n",
       "       [3.08493614e-01, 6.91506326e-01],\n",
       "       [2.57789820e-01, 7.42210090e-01],\n",
       "       [3.56331654e-02, 9.64366913e-01],\n",
       "       [2.04457343e-01, 7.95542657e-01],\n",
       "       [6.92962110e-02, 9.30703759e-01],\n",
       "       [4.65483606e-01, 5.34516335e-01],\n",
       "       [8.38051140e-01, 1.61948875e-01],\n",
       "       [4.03474540e-01, 5.96525431e-01],\n",
       "       [1.78127259e-01, 8.21872830e-01],\n",
       "       [3.25888842e-01, 6.74111068e-01],\n",
       "       [4.38135713e-02, 9.56186414e-01],\n",
       "       [6.71424791e-02, 9.32857513e-01],\n",
       "       [3.29207629e-01, 6.70792341e-01],\n",
       "       [2.24255532e-01, 7.75744498e-01],\n",
       "       [8.89388323e-02, 9.11061168e-01],\n",
       "       [5.29200435e-01, 4.70799506e-01],\n",
       "       [4.28345412e-01, 5.71654558e-01],\n",
       "       [1.88696116e-01, 8.11303854e-01],\n",
       "       [3.86130549e-02, 9.61386979e-01],\n",
       "       [9.26304758e-02, 9.07369494e-01],\n",
       "       [1.12603968e-02, 9.88739610e-01],\n",
       "       [1.30301073e-01, 8.69698942e-01],\n",
       "       [2.75097728e-01, 7.24902272e-01],\n",
       "       [6.52243078e-01, 3.47756892e-01],\n",
       "       [9.66793508e-04, 9.99033213e-01],\n",
       "       [8.45323145e-01, 1.54676899e-01],\n",
       "       [1.38578892e-01, 8.61421108e-01],\n",
       "       [6.19282305e-01, 3.80717665e-01],\n",
       "       [1.19651286e-02, 9.88034904e-01],\n",
       "       [7.89233923e-01, 2.10766092e-01],\n",
       "       [3.12860429e-01, 6.87139571e-01],\n",
       "       [1.34664387e-01, 8.65335584e-01],\n",
       "       [6.65824473e-01, 3.34175497e-01],\n",
       "       [6.11291587e-01, 3.88708442e-01],\n",
       "       [6.07637346e-01, 3.92362624e-01],\n",
       "       [3.67020041e-01, 6.32979989e-01],\n",
       "       [2.02334166e-01, 7.97665894e-01],\n",
       "       [1.98733136e-02, 9.80126679e-01],\n",
       "       [7.81372607e-01, 2.18627393e-01],\n",
       "       [9.67420876e-01, 3.25791016e-02],\n",
       "       [2.69280642e-01, 7.30719388e-01],\n",
       "       [8.34402964e-02, 9.16559696e-01],\n",
       "       [1.08626105e-01, 8.91373873e-01],\n",
       "       [3.90156597e-01, 6.09843373e-01],\n",
       "       [2.21299365e-01, 7.78700709e-01],\n",
       "       [1.08623751e-01, 8.91376257e-01],\n",
       "       [4.52563375e-01, 5.47436595e-01],\n",
       "       [6.88883010e-04, 9.99311090e-01],\n",
       "       [1.78085223e-01, 8.21914792e-01],\n",
       "       [9.33924854e-01, 6.60751611e-02],\n",
       "       [9.87867951e-01, 1.21320849e-02],\n",
       "       [8.17575514e-01, 1.82424471e-01],\n",
       "       [8.75967622e-01, 1.24032415e-01],\n",
       "       [5.99148571e-01, 4.00851339e-01],\n",
       "       [1.51466668e-01, 8.48533332e-01],\n",
       "       [2.07855050e-02, 9.79214430e-01],\n",
       "       [2.57908762e-01, 7.42091298e-01],\n",
       "       [7.24756360e-01, 2.75243610e-01],\n",
       "       [5.29408038e-01, 4.70591903e-01],\n",
       "       [6.62866056e-01, 3.37133884e-01],\n",
       "       [9.00804937e-01, 9.91950110e-02],\n",
       "       [1.54167801e-01, 8.45832169e-01],\n",
       "       [3.32822353e-01, 6.67177677e-01],\n",
       "       [3.46452653e-01, 6.53547406e-01],\n",
       "       [3.43873948e-01, 6.56126022e-01],\n",
       "       [8.01824629e-01, 1.98175430e-01],\n",
       "       [5.33515990e-01, 4.66483980e-01],\n",
       "       [9.27669585e-01, 7.23304227e-02],\n",
       "       [9.07000721e-01, 9.29992944e-02],\n",
       "       [8.92516494e-01, 1.07483476e-01]], dtype=float32)"
      ]
     },
     "execution_count": 246,
     "metadata": {},
     "output_type": "execute_result"
    }
   ],
   "source": [
    "predict = model.predict(X_scaled)\n",
    "predict"
   ]
  },
  {
   "cell_type": "code",
   "execution_count": 247,
   "metadata": {},
   "outputs": [
    {
     "name": "stdout",
     "output_type": "stream",
     "text": [
      "345/345 [==============================] - 0s 339us/step\n",
      "\n",
      "accuracy: 79.71%\n"
     ]
    }
   ],
   "source": [
    "scores = model.evaluate(X_scaled,Y_categorical)\n",
    "print(\"\\n%s: %.2f%%\" % (model.metrics_names[1], scores[1]*100))"
   ]
  },
  {
   "cell_type": "code",
   "execution_count": 248,
   "metadata": {},
   "outputs": [
    {
     "name": "stdout",
     "output_type": "stream",
     "text": [
      "0.7971014380455017\n"
     ]
    }
   ],
   "source": [
    "print(scores[1])"
   ]
  },
  {
   "cell_type": "code",
   "execution_count": 249,
   "metadata": {},
   "outputs": [
    {
     "name": "stdout",
     "output_type": "stream",
     "text": [
      "dict_keys(['val_loss', 'val_accuracy', 'loss', 'accuracy'])\n"
     ]
    }
   ],
   "source": [
    "print(history.history.keys())"
   ]
  },
  {
   "cell_type": "code",
   "execution_count": 250,
   "metadata": {},
   "outputs": [],
   "source": [
    "from sklearn.metrics import confusion_matrix\n",
    "cm = confusion_matrix(Y_categorical.argmax(axis=1), predict.argmax(axis=1))"
   ]
  },
  {
   "cell_type": "code",
   "execution_count": 251,
   "metadata": {},
   "outputs": [
    {
     "data": {
      "text/plain": [
       "array([[111,  34],\n",
       "       [ 36, 164]], dtype=int64)"
      ]
     },
     "execution_count": 251,
     "metadata": {},
     "output_type": "execute_result"
    }
   ],
   "source": [
    "cm"
   ]
  },
  {
   "cell_type": "markdown",
   "metadata": {},
   "source": [
    "<div class=\"alert alert-success\">\n",
    " <font size=\"3\"><p align=\"justify\"><strong>Conclution Matrix : </strong>\n",
    "<ul> TP | FP\n",
    "<ul> FN | TN\n",
    "</ul>\n",
    "   \n",
    "<div>"
   ]
  },
  {
   "cell_type": "markdown",
   "metadata": {},
   "source": [
    "<div class=\"alert alert-success\">\n",
    " <font size=\"3\"><p align=\"justify\"><strong>Berikut adalah rumus untuk mencari akurasi, recall, TNR dan Presisi berdasarkan Confusion Matrix :</strong>\n",
    "<ul>\n",
    "<li style=\"text-align: left;\">\n",
    "    Akurasi = TP+TN / TP + FP + FN + TN\n",
    "</li> \n",
    "</ul>\n",
    "\n",
    "<ul>\n",
    "<li style=\"text-align: left;\">\n",
    "    Recall  = TP / FN + TP\n",
    "</li>\n",
    "</ul>\n",
    "\n",
    "<ul>\n",
    "<li style=\"text-align: left;\">\n",
    "   Presisi = TP / FP + TP\n",
    "</li>\n",
    "</ul>\n",
    "\n",
    "<ul>\n",
    "<li style=\"text-align: left;\">\n",
    "   TNR     = FP / TN + FP\n",
    "</li>\n",
    "</ul>\n",
    "   \n",
    "<div>"
   ]
  },
  {
   "cell_type": "markdown",
   "metadata": {},
   "source": [
    "<div class=\"alert alert-success\"><strong>ACCURACY</strong>\n",
    "<div class=\"alert alert-success\">\n",
    "<font size=\"3\"><p align=\"justify\">Melalui confusion matrix, rumus dalam menghitung nilai akurasinya adalah sebagai berikut :"
   ]
  },
  {
   "cell_type": "code",
   "execution_count": 252,
   "metadata": {},
   "outputs": [
    {
     "data": {
      "text/plain": [
       "78.55072463768116"
      ]
     },
     "execution_count": 252,
     "metadata": {},
     "output_type": "execute_result"
    }
   ],
   "source": [
    "akurasi = ((101+170) / (101+44+30+170))*100\n",
    "akurasi"
   ]
  },
  {
   "cell_type": "markdown",
   "metadata": {},
   "source": [
    "<div class=\"alert alert-success\"><strong>PRECISSION</strong>\n",
    "<div class=\"alert alert-success\">\n",
    "<font size=\"3\"><p align=\"justify\">Melalui confusion matrix, rumus dalam menghitung nilai presisinya adalah sebagai berikut :"
   ]
  },
  {
   "cell_type": "code",
   "execution_count": 253,
   "metadata": {},
   "outputs": [
    {
     "data": {
      "text/plain": [
       "69.6551724137931"
      ]
     },
     "execution_count": 253,
     "metadata": {},
     "output_type": "execute_result"
    }
   ],
   "source": [
    "presisi = (101/(44+101))*100\n",
    "presisi"
   ]
  },
  {
   "cell_type": "markdown",
   "metadata": {},
   "source": [
    "<div class=\"alert alert-success\"><strong>RECALL</strong>\n",
    "<div class=\"alert alert-success\">\n",
    "<font size=\"3\"><p align=\"justify\">Melalui confusion matrix, rumus dalam menghitung nilai recallnya adalah sebagai berikut :"
   ]
  },
  {
   "cell_type": "code",
   "execution_count": 254,
   "metadata": {},
   "outputs": [
    {
     "data": {
      "text/plain": [
       "77.09923664122137"
      ]
     },
     "execution_count": 254,
     "metadata": {},
     "output_type": "execute_result"
    }
   ],
   "source": [
    "recall = (101/(30+101))*100\n",
    "recall"
   ]
  },
  {
   "cell_type": "markdown",
   "metadata": {},
   "source": [
    "<div class=\"alert alert-success\"><strong>TRUE NEGATIF RATE</strong>\n",
    "<div class=\"alert alert-success\">\n",
    "<font size=\"3\"><p align=\"justify\">Melalui confusion matrix, rumus dalam menghitung nilai TNRnya adalah sebagai berikut :"
   ]
  },
  {
   "cell_type": "code",
   "execution_count": 255,
   "metadata": {},
   "outputs": [
    {
     "data": {
      "text/plain": [
       "0.205607476635514"
      ]
     },
     "execution_count": 255,
     "metadata": {},
     "output_type": "execute_result"
    }
   ],
   "source": [
    "TNR = (44/(170+44))\n",
    "TNR"
   ]
  },
  {
   "cell_type": "code",
   "execution_count": 256,
   "metadata": {},
   "outputs": [],
   "source": [
    "acc = history.history['accuracy']\n",
    "val_acc = history.history['val_accuracy']\n",
    "loss = history.history['loss']\n",
    "val_loss = history.history['val_loss']\n",
    "epochs = range(1, len(acc) + 1 )"
   ]
  },
  {
   "cell_type": "code",
   "execution_count": 257,
   "metadata": {},
   "outputs": [
    {
     "data": {
      "text/plain": [
       "<Figure size 432x288 with 0 Axes>"
      ]
     },
     "execution_count": 257,
     "metadata": {},
     "output_type": "execute_result"
    },
    {
     "data": {
      "image/png": "[encoded data removed]",
      "text/plain": [
       "<Figure size 432x288 with 1 Axes>"
      ]
     },
     "metadata": {
      "needs_background": "light"
     },
     "output_type": "display_data"
    },
    {
     "data": {
      "text/plain": [
       "<Figure size 432x288 with 0 Axes>"
      ]
     },
     "metadata": {},
     "output_type": "display_data"
    }
   ],
   "source": [
    "plt.plot(epochs, acc, 'g' , color='green', label='Akurasi Training')\n",
    "plt.plot(epochs, val_acc, 'r', color='red', label='Akurasi Testing')\n",
    "plt.title('Akurasi Training dan Testing')\n",
    "plt.legend()\n",
    "plt.figure()"
   ]
  },
  {
   "cell_type": "code",
   "execution_count": 258,
   "metadata": {},
   "outputs": [
    {
     "data": {
      "text/plain": [
       "<Figure size 432x288 with 0 Axes>"
      ]
     },
     "execution_count": 258,
     "metadata": {},
     "output_type": "execute_result"
    },
    {
     "data": {
      "image/png": "[encoded data removed]",
      "text/plain": [
       "<Figure size 432x288 with 1 Axes>"
      ]
     },
     "metadata": {
      "needs_background": "light"
     },
     "output_type": "display_data"
    },
    {
     "data": {
      "text/plain": [
       "<Figure size 432x288 with 0 Axes>"
      ]
     },
     "metadata": {},
     "output_type": "display_data"
    }
   ],
   "source": [
    "plt.plot(epochs, loss, 'g' , color='green', label='Training Loss')\n",
    "plt.plot(epochs, val_loss, 'r', color='red', label='Testing Loss')\n",
    "plt.title('loss Training dan Testing')\n",
    "plt.legend()\n",
    "plt.figure()"
   ]
  },
  {
   "cell_type": "code",
   "execution_count": null,
   "metadata": {},
   "outputs": [],
   "source": []
  }
 ],
 "metadata": {
  "kernelspec": {
   "display_name": "Python 3",
   "language": "python",
   "name": "python3"
  },
  "language_info": {
   "codemirror_mode": {
    "name": "ipython",
    "version": 3
   },
   "file_extension": ".py",
   "mimetype": "text/x-python",
   "name": "python",
   "nbconvert_exporter": "python",
   "pygments_lexer": "ipython3",
   "version": "3.7.5"
  }
 },
 "nbformat": 4,
 "nbformat_minor": 2
}
