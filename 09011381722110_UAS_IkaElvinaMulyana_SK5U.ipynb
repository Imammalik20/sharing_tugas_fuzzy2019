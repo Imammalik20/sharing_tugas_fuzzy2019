{
 "cells": [
  {
   "cell_type": "markdown",
   "metadata": {},
   "source": [
    " ## LUNG CANCER ##"
   ]
  },
  {
   "cell_type": "markdown",
   "metadata": {},
   "source": [
    "NAMA : IKA ELVINA MULYANA\n",
    "\n",
    "NIM : 09011381722110"
   ]
  },
  {
   "cell_type": "markdown",
   "metadata": {},
   "source": [
    "Kanker paru-paru adalah salah satu penyakit paling umum dan mematikan di dunia. Deteksi kanker paru-paru pada tahap awal adalah kunci penyembuhannya. Secara umum, langkah-langkah untuk diagnosis kanker paru stadium awal terutama mencakup mereka yang menggunakan X-ray film dada, CT, MRI, isotop, bronkoskopi, dll., Di antaranya pengukuran yang sangat penting adalah apa yang disebut diagnosis patologis yang menganalisis spesimen jarum. biopsi diperoleh dari tubuh subjek yang akan didiagnosis. Saat ini, spesimen biopsi jarum biasanya dianalisis oleh ahli patologi berpengalaman. Karena patolog senior jarang, diagnosis patologis yang andal tidak selalu tersedia."
   ]
  },
  {
   "cell_type": "markdown",
   "metadata": {},
   "source": [
    "#### DATA SET\n",
    "\n",
    "1. INFORMASI DATA SET"
   ]
  },
  {
   "cell_type": "markdown",
   "metadata": {},
   "source": [
    "Dataset didapat dari UCI MACHINE LEARNING"
   ]
  },
  {
   "cell_type": "markdown",
   "metadata": {},
   "source": [
    "2. ATRIBUT DATASET\n",
    "\n",
    "0) Hasil biner dari penilaian pasien. 0 = didiagnosa normal(Tidak Sakit) 1 = didiagnosa sakit.\n",
    "1) Hasil biner dari pra-screening, di mana 1 menunjukkan bahwa didiagnosa mengalami lung cancer dan 0 kekurangannya."
   ]
  },
  {
   "cell_type": "markdown",
   "metadata": {},
   "source": [
    "#### IMPORT LIBRARY"
   ]
  },
  {
   "cell_type": "markdown",
   "metadata": {},
   "source": [
    "1. model yang digunakan untuk membuat hidden layer untuk memproses data adalah fungsi Sequential.  Sedangkan layer sendiri menggunakan tipe Dense yang melakukan training dengan menghubungkan setiap Neural Network secara sequential.\n",
    "\n",
    "2. Numpy dan Pandas, Tentu saja untuk mengolah data yang berupa angka memerlukan Number Python sebagai library."
   ]
  },
  {
   "cell_type": "code",
   "execution_count": 98,
   "metadata": {},
   "outputs": [],
   "source": [
    "from keras.models import Sequential\n",
    "from keras.layers import Dense\n",
    "import matplotlib.pyplot as plt\n",
    "import numpy as np\n",
    "np.random.seed(7)\n",
    "import pandas as pd"
   ]
  },
  {
   "cell_type": "markdown",
   "metadata": {},
   "source": [
    "#### INPUT DATASET\n",
    "Dataset yang digunakan menggunakan format .csv yang merupakan data vektor yang berisi angka-angka sehingga dapat diproses oleh IDE dengan lebih mudah."
   ]
  },
  {
   "cell_type": "code",
   "execution_count": 99,
   "metadata": {},
   "outputs": [
    {
     "name": "stderr",
     "output_type": "stream",
     "text": [
      "C:\\ProgramData\\Anaconda3\\lib\\site-packages\\ipykernel_launcher.py:2: DeprecationWarning: \n",
      ".ix is deprecated. Please use\n",
      ".loc for label based indexing or\n",
      ".iloc for positional indexing\n",
      "\n",
      "See the documentation here:\n",
      "http://pandas.pydata.org/pandas-docs/stable/indexing.html#ix-indexer-is-deprecated\n",
      "  \n",
      "C:\\ProgramData\\Anaconda3\\lib\\site-packages\\ipykernel_launcher.py:3: DeprecationWarning: \n",
      ".ix is deprecated. Please use\n",
      ".loc for label based indexing or\n",
      ".iloc for positional indexing\n",
      "\n",
      "See the documentation here:\n",
      "http://pandas.pydata.org/pandas-docs/stable/indexing.html#ix-indexer-is-deprecated\n",
      "  This is separate from the ipykernel package so we can avoid doing imports until\n"
     ]
    }
   ],
   "source": [
    "dataset = pd.read_csv (\"lung-cancer.csv\")\n",
    "feature = np.array(dataset.ix[:, 0:56])\n",
    "label = np.array(dataset.ix[:, 56])"
   ]
  },
  {
   "cell_type": "markdown",
   "metadata": {},
   "source": [
    "#### 1. Preprocessing\n",
    "preprocessing mengubah data menjadi format yang akan lebih mudah dan efektif diproses dalam jaringan saraf. Ada sejumlah alat dan metode yang berbeda yang dapat digunakan untuk preprocessing, contohnya yaitu: transformasi yang memanipulasi data mentah untuk menghasilkan satu input, denoising yang menghilangkan noise dari data, dan lain sebagainya.\n",
    "\n",
    "#### 2. Categorical\n",
    "untuk mengkonversi data binary menjadi data yang dapat dikkelompokkan, sehingga data tersebut dapat diambil bagian-bagiannya sebagai sebuah confusion matrix.\n",
    "\n",
    "#### 3. Confusion Matrix\n",
    "untuk mengkalkulasi dan mengelompokkan data menjadi sebuah matrix 2x2 yang didalamnya terdapat data prediksi dan data aktual dari dataset yang telah ditraining. parameter yang digunakan dalam confusion matrix adalah data Categorical dan prediksi hasil training."
   ]
  },
  {
   "cell_type": "code",
   "execution_count": 100,
   "metadata": {
    "scrolled": true
   },
   "outputs": [],
   "source": [
    "from sklearn.preprocessing import MinMaxScaler\n",
    "scaler= MinMaxScaler()"
   ]
  },
  {
   "cell_type": "code",
   "execution_count": 101,
   "metadata": {
    "scrolled": true
   },
   "outputs": [
    {
     "name": "stderr",
     "output_type": "stream",
     "text": [
      "C:\\ProgramData\\Anaconda3\\lib\\site-packages\\sklearn\\utils\\validation.py:595: DataConversionWarning: Data with input dtype int64 was converted to float64 by MinMaxScaler.\n",
      "  warnings.warn(msg, DataConversionWarning)\n"
     ]
    }
   ],
   "source": [
    "feature_scaled=scaler.fit_transform(feature)"
   ]
  },
  {
   "cell_type": "code",
   "execution_count": 102,
   "metadata": {},
   "outputs": [
    {
     "data": {
      "text/plain": [
       "(31, 56)"
      ]
     },
     "execution_count": 102,
     "metadata": {},
     "output_type": "execute_result"
    }
   ],
   "source": [
    "feature_scaled.shape"
   ]
  },
  {
   "cell_type": "code",
   "execution_count": 103,
   "metadata": {},
   "outputs": [
    {
     "name": "stdout",
     "output_type": "stream",
     "text": [
      "[2 2 2 2 2 2 2 2 2 2 1 2 2 1 2 2 2 2 1 2 2 1 1 1 2 1 1 2 1 2 2]\n"
     ]
    }
   ],
   "source": [
    "print(label)"
   ]
  },
  {
   "cell_type": "code",
   "execution_count": 104,
   "metadata": {},
   "outputs": [],
   "source": [
    "from keras.utils.np_utils import to_categorical\n",
    "label_categorical=to_categorical(label)"
   ]
  },
  {
   "cell_type": "markdown",
   "metadata": {},
   "source": [
    "#### CATEGORICAL\n",
    "\n",
    "membuat confusion matrix adalah dengan mengubah kasifikasi data yang pada awalnya binary classification menjadi categorical classification, namun begitu dalam proses ini sebenarnya tidak mengubah makna awal dari dataset tersebut yang berklasifikasikan secara binary."
   ]
  },
  {
   "cell_type": "code",
   "execution_count": 105,
   "metadata": {},
   "outputs": [
    {
     "data": {
      "text/plain": [
       "(31, 3)"
      ]
     },
     "execution_count": 105,
     "metadata": {},
     "output_type": "execute_result"
    }
   ],
   "source": [
    "label_categorical.shape"
   ]
  },
  {
   "cell_type": "markdown",
   "metadata": {},
   "source": [
    "#### MENDEFISIKAN MODEL\n",
    "Sebagaimana yang telah dijelaskan diatas, bahwasanya model yang digunakan dalam kasus ini menggunakan fungsi Sequential.  Dimana hidden layer yang saya buat untuk memproses dataset lung cancer ini memiliki 9 layer dengan masing-masing masing-masing berparameterkan:\n",
    "1. Input 8 layer -> 50 units Neural Network, 57 dimensi input, 8 activation relu.\n",
    "2. Output 1 layer -> 3 unit Neural Network dengan menggunakan activation softmax (karena data sudah diubah menjadi categorical, jika tidak maka gunakan activation sigmoid)."
   ]
  },
  {
   "cell_type": "code",
   "execution_count": 106,
   "metadata": {},
   "outputs": [],
   "source": [
    "model = Sequential()\n",
    "model.add(Dense(10, input_dim=56, activation='relu'))\n",
    "model.add(Dense(20, activation='relu'))\n",
    "model.add(Dense(30, activation='relu'))\n",
    "model.add(Dense(30, activation='relu'))\n",
    "model.add(Dense(40, activation='relu'))\n",
    "model.add(Dense(40, activation='relu'))\n",
    "model.add(Dense(50, activation='relu'))\n",
    "model.add(Dense(60, activation='relu'))\n",
    "model.add(Dense(3, activation='sigmoid'))"
   ]
  },
  {
   "cell_type": "markdown",
   "metadata": {},
   "source": [
    "#### COMPILE MODEL\n",
    "Setelah melakukan proses definisi model, selanjutnya dalah mengcompile model tersebut sehingga menjadi satu kesatuan hidden yang biasa disebut dengan Hidden Layer."
   ]
  },
  {
   "cell_type": "markdown",
   "metadata": {},
   "source": [
    "####  FIT MODEL\n",
    "Untuk mendapatkan hasil akurasi dan loss dari dataset, langkah selanjutnya yang harus dilakukan adalah fit model.  Dimana pada proses ini terjadi proses training dengan parameter:\n",
    "1. X yang telah di preprocessing\n",
    "2. Y yang telah dikonversi menjadi categorical\n",
    "3. Banyaknya Epochs atau proses training\n",
    "4. batch_size\n",
    "\n",
    "Disini Epochs atau training yang saya lakukan adalah sebanya 200 kali."
   ]
  },
  {
   "cell_type": "code",
   "execution_count": 107,
   "metadata": {},
   "outputs": [
    {
     "name": "stdout",
     "output_type": "stream",
     "text": [
      "Train on 21 samples, validate on 10 samples\n",
      "Epoch 1/200\n",
      "21/21 [==============================] - 2s 72ms/step - loss: 1.0558 - accuracy: 0.8571 - val_loss: 1.0907 - val_accuracy: 0.4000\n",
      "Epoch 2/200\n",
      "21/21 [==============================] - 0s 2ms/step - loss: 1.0261 - accuracy: 0.8571 - val_loss: 1.0899 - val_accuracy: 0.4000\n",
      "Epoch 3/200\n",
      "21/21 [==============================] - 0s 950us/step - loss: 0.9923 - accuracy: 0.8571 - val_loss: 1.0895 - val_accuracy: 0.4000\n",
      "Epoch 4/200\n",
      "21/21 [==============================] - 0s 525us/step - loss: 0.9501 - accuracy: 0.8571 - val_loss: 1.0915 - val_accuracy: 0.4000\n",
      "Epoch 5/200\n",
      "21/21 [==============================] - 0s 2ms/step - loss: 0.9046 - accuracy: 0.8571 - val_loss: 1.0913 - val_accuracy: 0.4000\n",
      "Epoch 6/200\n",
      "21/21 [==============================] - 0s 1ms/step - loss: 0.8587 - accuracy: 0.8571 - val_loss: 1.0877 - val_accuracy: 0.4000\n",
      "Epoch 7/200\n",
      "21/21 [==============================] - 0s 726us/step - loss: 0.8159 - accuracy: 0.8571 - val_loss: 1.0872 - val_accuracy: 0.4000\n",
      "Epoch 8/200\n",
      "21/21 [==============================] - 0s 712us/step - loss: 0.7659 - accuracy: 0.8571 - val_loss: 1.0900 - val_accuracy: 0.4000\n",
      "Epoch 9/200\n",
      "21/21 [==============================] - 0s 522us/step - loss: 0.7128 - accuracy: 0.8571 - val_loss: 1.0895 - val_accuracy: 0.4000\n",
      "Epoch 10/200\n",
      "21/21 [==============================] - ETA: 0s - loss: 0.6667 - accuracy: 0.85 - 0s 1ms/step - loss: 0.6575 - accuracy: 0.8571 - val_loss: 1.0855 - val_accuracy: 0.4000\n",
      "Epoch 11/200\n",
      "21/21 [==============================] - 0s 2ms/step - loss: 0.6111 - accuracy: 0.8571 - val_loss: 1.0792 - val_accuracy: 0.4000\n",
      "Epoch 12/200\n",
      "21/21 [==============================] - 0s 978us/step - loss: 0.5648 - accuracy: 0.8571 - val_loss: 1.0697 - val_accuracy: 0.4000\n",
      "Epoch 13/200\n",
      "21/21 [==============================] - 0s 2ms/step - loss: 0.5276 - accuracy: 0.8571 - val_loss: 1.0743 - val_accuracy: 0.4000\n",
      "Epoch 14/200\n",
      "21/21 [==============================] - 0s 2ms/step - loss: 0.4875 - accuracy: 0.8571 - val_loss: 1.1010 - val_accuracy: 0.4000\n",
      "Epoch 15/200\n",
      "21/21 [==============================] - 0s 856us/step - loss: 0.4485 - accuracy: 0.8571 - val_loss: 1.1594 - val_accuracy: 0.4000\n",
      "Epoch 16/200\n",
      "21/21 [==============================] - 0s 1ms/step - loss: 0.4169 - accuracy: 0.8571 - val_loss: 1.2572 - val_accuracy: 0.4000\n",
      "Epoch 17/200\n",
      "21/21 [==============================] - 0s 616us/step - loss: 0.3988 - accuracy: 0.8571 - val_loss: 1.3985 - val_accuracy: 0.4000\n",
      "Epoch 18/200\n",
      "21/21 [==============================] - 0s 473us/step - loss: 0.4061 - accuracy: 0.8571 - val_loss: 1.4619 - val_accuracy: 0.4000\n",
      "Epoch 19/200\n",
      "21/21 [==============================] - 0s 434us/step - loss: 0.4023 - accuracy: 0.8571 - val_loss: 1.4246 - val_accuracy: 0.4000\n",
      "Epoch 20/200\n",
      "21/21 [==============================] - 0s 2ms/step - loss: 0.3957 - accuracy: 0.8571 - val_loss: 1.4030 - val_accuracy: 0.4000\n",
      "Epoch 21/200\n",
      "21/21 [==============================] - 0s 1ms/step - loss: 0.3914 - accuracy: 0.8571 - val_loss: 1.3959 - val_accuracy: 0.4000\n",
      "Epoch 22/200\n",
      "21/21 [==============================] - 0s 380us/step - loss: 0.3892 - accuracy: 0.8571 - val_loss: 1.3321 - val_accuracy: 0.4000\n",
      "Epoch 23/200\n",
      "21/21 [==============================] - 0s 475us/step - loss: 0.3788 - accuracy: 0.8571 - val_loss: 1.2061 - val_accuracy: 0.4000\n",
      "Epoch 24/200\n",
      "21/21 [==============================] - 0s 522us/step - loss: 0.3805 - accuracy: 0.8571 - val_loss: 1.1096 - val_accuracy: 0.4000\n",
      "Epoch 25/200\n",
      "21/21 [==============================] - 0s 1ms/step - loss: 0.3842 - accuracy: 0.8571 - val_loss: 1.0412 - val_accuracy: 0.4000\n",
      "Epoch 26/200\n",
      "21/21 [==============================] - 0s 540us/step - loss: 0.3998 - accuracy: 0.8571 - val_loss: 0.9914 - val_accuracy: 0.4000\n",
      "Epoch 27/200\n",
      "21/21 [==============================] - 0s 475us/step - loss: 0.4143 - accuracy: 0.8571 - val_loss: 0.9667 - val_accuracy: 0.4000\n",
      "Epoch 28/200\n",
      "21/21 [==============================] - 0s 665us/step - loss: 0.4232 - accuracy: 0.8571 - val_loss: 0.9588 - val_accuracy: 0.4000\n",
      "Epoch 29/200\n",
      "21/21 [==============================] - 0s 388us/step - loss: 0.4257 - accuracy: 0.8571 - val_loss: 0.9632 - val_accuracy: 0.4000\n",
      "Epoch 30/200\n",
      "21/21 [==============================] - 0s 1ms/step - loss: 0.4226 - accuracy: 0.8571 - val_loss: 0.9780 - val_accuracy: 0.4000\n",
      "Epoch 31/200\n",
      "21/21 [==============================] - 0s 568us/step - loss: 0.4151 - accuracy: 0.8571 - val_loss: 1.0028 - val_accuracy: 0.4000\n",
      "Epoch 32/200\n",
      "21/21 [==============================] - 0s 943us/step - loss: 0.4048 - accuracy: 0.8571 - val_loss: 1.0382 - val_accuracy: 0.4000\n",
      "Epoch 33/200\n",
      "21/21 [==============================] - 0s 699us/step - loss: 0.3934 - accuracy: 0.8571 - val_loss: 1.0850 - val_accuracy: 0.4000\n",
      "Epoch 34/200\n",
      "21/21 [==============================] - 0s 665us/step - loss: 0.3824 - accuracy: 0.8571 - val_loss: 1.1435 - val_accuracy: 0.4000\n",
      "Epoch 35/200\n",
      "21/21 [==============================] - ETA: 0s - loss: 0.3858 - accuracy: 0.85 - 0s 525us/step - loss: 0.3739 - accuracy: 0.8571 - val_loss: 1.2140 - val_accuracy: 0.4000\n",
      "Epoch 36/200\n",
      "21/21 [==============================] - 0s 850us/step - loss: 0.3688 - accuracy: 0.8571 - val_loss: 1.2941 - val_accuracy: 0.4000\n",
      "Epoch 37/200\n",
      "21/21 [==============================] - 0s 451us/step - loss: 0.3679 - accuracy: 0.8571 - val_loss: 1.3794 - val_accuracy: 0.4000\n",
      "Epoch 38/200\n",
      "21/21 [==============================] - 0s 475us/step - loss: 0.3712 - accuracy: 0.8571 - val_loss: 1.4623 - val_accuracy: 0.4000\n",
      "Epoch 39/200\n",
      "21/21 [==============================] - 0s 1ms/step - loss: 0.3772 - accuracy: 0.8571 - val_loss: 1.5372 - val_accuracy: 0.4000\n",
      "Epoch 40/200\n",
      "21/21 [==============================] - 0s 1ms/step - loss: 0.3844 - accuracy: 0.8571 - val_loss: 1.6014 - val_accuracy: 0.4000\n",
      "Epoch 41/200\n",
      "21/21 [==============================] - 0s 834us/step - loss: 0.3915 - accuracy: 0.8571 - val_loss: 1.6506 - val_accuracy: 0.4000\n",
      "Epoch 42/200\n",
      "21/21 [==============================] - 0s 532us/step - loss: 0.3972 - accuracy: 0.8571 - val_loss: 1.6839 - val_accuracy: 0.4000\n",
      "Epoch 43/200\n",
      "21/21 [==============================] - 0s 760us/step - loss: 0.4009 - accuracy: 0.8571 - val_loss: 1.6999 - val_accuracy: 0.4000\n",
      "Epoch 44/200\n",
      "21/21 [==============================] - 0s 615us/step - loss: 0.4021 - accuracy: 0.8571 - val_loss: 1.7057 - val_accuracy: 0.4000\n",
      "Epoch 45/200\n",
      "21/21 [==============================] - 0s 1ms/step - loss: 0.4017 - accuracy: 0.8571 - val_loss: 1.7081 - val_accuracy: 0.4000\n",
      "Epoch 46/200\n",
      "21/21 [==============================] - 0s 546us/step - loss: 0.4008 - accuracy: 0.8571 - val_loss: 1.7060 - val_accuracy: 0.4000\n",
      "Epoch 47/200\n",
      "21/21 [==============================] - 0s 617us/step - loss: 0.3990 - accuracy: 0.8571 - val_loss: 1.6949 - val_accuracy: 0.4000\n",
      "Epoch 48/200\n",
      "21/21 [==============================] - 0s 382us/step - loss: 0.3959 - accuracy: 0.8571 - val_loss: 1.6728 - val_accuracy: 0.4000\n",
      "Epoch 49/200\n",
      "21/21 [==============================] - 0s 523us/step - loss: 0.3916 - accuracy: 0.8571 - val_loss: 1.6472 - val_accuracy: 0.4000\n",
      "Epoch 50/200\n",
      "21/21 [==============================] - 0s 420us/step - loss: 0.3867 - accuracy: 0.8571 - val_loss: 1.6214 - val_accuracy: 0.4000\n",
      "Epoch 51/200\n",
      "21/21 [==============================] - 0s 391us/step - loss: 0.3806 - accuracy: 0.8571 - val_loss: 1.5308 - val_accuracy: 0.4000\n",
      "Epoch 52/200\n",
      "21/21 [==============================] - 0s 427us/step - loss: 0.3701 - accuracy: 0.8571 - val_loss: 1.4122 - val_accuracy: 0.4000\n",
      "Epoch 53/200\n",
      "21/21 [==============================] - 0s 443us/step - loss: 0.3584 - accuracy: 0.8571 - val_loss: 1.3368 - val_accuracy: 0.4000\n",
      "Epoch 54/200\n",
      "21/21 [==============================] - 0s 380us/step - loss: 0.3537 - accuracy: 0.8571 - val_loss: 1.2900 - val_accuracy: 0.4000\n",
      "Epoch 55/200\n",
      "21/21 [==============================] - 0s 2ms/step - loss: 0.3521 - accuracy: 0.8571 - val_loss: 1.2645 - val_accuracy: 0.4000\n",
      "Epoch 56/200\n",
      "21/21 [==============================] - 0s 435us/step - loss: 0.3514 - accuracy: 0.8571 - val_loss: 1.2594 - val_accuracy: 0.4000\n",
      "Epoch 57/200\n",
      "21/21 [==============================] - 0s 1ms/step - loss: 0.3504 - accuracy: 0.8571 - val_loss: 1.2726 - val_accuracy: 0.4000\n",
      "Epoch 58/200\n",
      "21/21 [==============================] - 0s 427us/step - loss: 0.3490 - accuracy: 0.8571 - val_loss: 1.3011 - val_accuracy: 0.4000\n",
      "Epoch 59/200\n",
      "21/21 [==============================] - 0s 616us/step - loss: 0.3475 - accuracy: 0.8571 - val_loss: 1.3417 - val_accuracy: 0.4000\n",
      "Epoch 60/200\n",
      "21/21 [==============================] - 0s 570us/step - loss: 0.3490 - accuracy: 0.8571 - val_loss: 1.3248 - val_accuracy: 0.4000\n",
      "Epoch 61/200\n",
      "21/21 [==============================] - 0s 526us/step - loss: 0.3459 - accuracy: 0.8571 - val_loss: 1.2637 - val_accuracy: 0.4000\n",
      "Epoch 62/200\n",
      "21/21 [==============================] - 0s 332us/step - loss: 0.3457 - accuracy: 0.8571 - val_loss: 1.2302 - val_accuracy: 0.4000\n",
      "Epoch 63/200\n",
      "21/21 [==============================] - 0s 523us/step - loss: 0.3456 - accuracy: 0.8571 - val_loss: 1.1955 - val_accuracy: 0.4000\n",
      "Epoch 64/200\n",
      "21/21 [==============================] - 0s 855us/step - loss: 0.3480 - accuracy: 0.8571 - val_loss: 1.1619 - val_accuracy: 0.4000\n",
      "Epoch 65/200\n",
      "21/21 [==============================] - 0s 760us/step - loss: 0.3505 - accuracy: 0.8571 - val_loss: 1.1500 - val_accuracy: 0.4000\n",
      "Epoch 66/200\n",
      "21/21 [==============================] - 0s 489us/step - loss: 0.3508 - accuracy: 0.8571 - val_loss: 1.1555 - val_accuracy: 0.4000\n",
      "Epoch 67/200\n",
      "21/21 [==============================] - 0s 696us/step - loss: 0.3486 - accuracy: 0.8571 - val_loss: 1.1762 - val_accuracy: 0.4000\n",
      "Epoch 68/200\n",
      "21/21 [==============================] - 0s 584us/step - loss: 0.3460 - accuracy: 0.8571 - val_loss: 1.1754 - val_accuracy: 0.4000\n",
      "Epoch 69/200\n",
      "21/21 [==============================] - 0s 807us/step - loss: 0.3437 - accuracy: 0.8571 - val_loss: 1.1563 - val_accuracy: 0.4000\n",
      "Epoch 70/200\n",
      "21/21 [==============================] - 0s 948us/step - loss: 0.3449 - accuracy: 0.8571 - val_loss: 1.1566 - val_accuracy: 0.4000\n",
      "Epoch 71/200\n",
      "21/21 [==============================] - 0s 1ms/step - loss: 0.3435 - accuracy: 0.8571 - val_loss: 1.1731 - val_accuracy: 0.4000\n",
      "Epoch 72/200\n",
      "21/21 [==============================] - 0s 521us/step - loss: 0.3400 - accuracy: 0.8571 - val_loss: 1.2023 - val_accuracy: 0.4000\n",
      "Epoch 73/200\n",
      "21/21 [==============================] - 0s 1ms/step - loss: 0.3355 - accuracy: 0.8571 - val_loss: 1.2425 - val_accuracy: 0.4000\n",
      "Epoch 74/200\n",
      "21/21 [==============================] - 0s 898us/step - loss: 0.3309 - accuracy: 0.8571 - val_loss: 1.2928 - val_accuracy: 0.4000\n",
      "Epoch 75/200\n",
      "21/21 [==============================] - 0s 567us/step - loss: 0.3273 - accuracy: 0.8571 - val_loss: 1.3507 - val_accuracy: 0.4000\n",
      "Epoch 76/200\n",
      "21/21 [==============================] - 0s 531us/step - loss: 0.3248 - accuracy: 0.8571 - val_loss: 1.4168 - val_accuracy: 0.4000\n",
      "Epoch 77/200\n",
      "21/21 [==============================] - 0s 712us/step - loss: 0.3243 - accuracy: 0.8571 - val_loss: 1.4877 - val_accuracy: 0.4000\n",
      "Epoch 78/200\n",
      "21/21 [==============================] - 0s 427us/step - loss: 0.3259 - accuracy: 0.8571 - val_loss: 1.5527 - val_accuracy: 0.4000\n",
      "Epoch 79/200\n",
      "21/21 [==============================] - 0s 617us/step - loss: 0.3283 - accuracy: 0.8571 - val_loss: 1.6113 - val_accuracy: 0.4000\n",
      "Epoch 80/200\n",
      "21/21 [==============================] - 0s 783us/step - loss: 0.3310 - accuracy: 0.8571 - val_loss: 1.6588 - val_accuracy: 0.4000\n",
      "Epoch 81/200\n",
      "21/21 [==============================] - 0s 840us/step - loss: 0.3329 - accuracy: 0.8571 - val_loss: 1.6932 - val_accuracy: 0.4000\n",
      "Epoch 82/200\n",
      "21/21 [==============================] - 0s 664us/step - loss: 0.3342 - accuracy: 0.8571 - val_loss: 1.7167 - val_accuracy: 0.4000\n",
      "Epoch 83/200\n",
      "21/21 [==============================] - 0s 428us/step - loss: 0.3346 - accuracy: 0.8571 - val_loss: 1.7318 - val_accuracy: 0.4000\n",
      "Epoch 84/200\n",
      "21/21 [==============================] - 0s 570us/step - loss: 0.3339 - accuracy: 0.8571 - val_loss: 1.7396 - val_accuracy: 0.4000\n",
      "Epoch 85/200\n",
      "21/21 [==============================] - 0s 475us/step - loss: 0.3324 - accuracy: 0.8571 - val_loss: 1.7369 - val_accuracy: 0.4000\n",
      "Epoch 86/200\n",
      "21/21 [==============================] - 0s 753us/step - loss: 0.3299 - accuracy: 0.8571 - val_loss: 1.7235 - val_accuracy: 0.4000\n",
      "Epoch 87/200\n",
      "21/21 [==============================] - 0s 428us/step - loss: 0.3255 - accuracy: 0.8571 - val_loss: 1.6030 - val_accuracy: 0.4000\n",
      "Epoch 88/200\n",
      "21/21 [==============================] - 0s 1ms/step - loss: 0.3146 - accuracy: 0.8571 - val_loss: 1.4308 - val_accuracy: 0.4000\n",
      "Epoch 89/200\n",
      "21/21 [==============================] - 0s 429us/step - loss: 0.3070 - accuracy: 0.8571 - val_loss: 1.3259 - val_accuracy: 0.4000\n",
      "Epoch 90/200\n",
      "21/21 [==============================] - 0s 714us/step - loss: 0.3073 - accuracy: 0.8571 - val_loss: 1.2689 - val_accuracy: 0.4000\n",
      "Epoch 91/200\n",
      "21/21 [==============================] - 0s 805us/step - loss: 0.3095 - accuracy: 0.8571 - val_loss: 1.2400 - val_accuracy: 0.4000\n",
      "Epoch 92/200\n",
      "21/21 [==============================] - 0s 590us/step - loss: 0.3110 - accuracy: 0.8571 - val_loss: 1.2329 - val_accuracy: 0.4000\n",
      "Epoch 93/200\n",
      "21/21 [==============================] - 0s 598us/step - loss: 0.3103 - accuracy: 0.8571 - val_loss: 1.2460 - val_accuracy: 0.4000\n",
      "Epoch 94/200\n",
      "21/21 [==============================] - 0s 427us/step - loss: 0.3074 - accuracy: 0.8571 - val_loss: 1.2753 - val_accuracy: 0.4000\n",
      "Epoch 95/200\n",
      "21/21 [==============================] - 0s 2ms/step - loss: 0.3031 - accuracy: 0.8571 - val_loss: 1.3169 - val_accuracy: 0.4000\n",
      "Epoch 96/200\n",
      "21/21 [==============================] - 0s 900us/step - loss: 0.2984 - accuracy: 0.8571 - val_loss: 1.3720 - val_accuracy: 0.4000\n",
      "Epoch 97/200\n",
      "21/21 [==============================] - 0s 1ms/step - loss: 0.2942 - accuracy: 0.8571 - val_loss: 1.4406 - val_accuracy: 0.4000\n",
      "Epoch 98/200\n",
      "21/21 [==============================] - 0s 572us/step - loss: 0.2930 - accuracy: 0.8571 - val_loss: 1.4532 - val_accuracy: 0.4000\n",
      "Epoch 99/200\n",
      "21/21 [==============================] - 0s 1ms/step - loss: 0.2880 - accuracy: 0.8571 - val_loss: 1.4150 - val_accuracy: 0.4000\n",
      "Epoch 100/200\n",
      "21/21 [==============================] - 0s 611us/step - loss: 0.2846 - accuracy: 0.8571 - val_loss: 1.3727 - val_accuracy: 0.4000\n",
      "Epoch 101/200\n",
      "21/21 [==============================] - 0s 807us/step - loss: 0.2838 - accuracy: 0.8571 - val_loss: 1.3353 - val_accuracy: 0.4000\n",
      "Epoch 102/200\n",
      "21/21 [==============================] - 0s 2ms/step - loss: 0.2826 - accuracy: 0.8571 - val_loss: 1.3273 - val_accuracy: 0.4000\n",
      "Epoch 103/200\n",
      "21/21 [==============================] - 0s 1ms/step - loss: 0.2805 - accuracy: 0.8571 - val_loss: 1.3123 - val_accuracy: 0.4000\n",
      "Epoch 104/200\n",
      "21/21 [==============================] - 0s 2ms/step - loss: 0.2787 - accuracy: 0.8571 - val_loss: 1.2962 - val_accuracy: 0.4000\n",
      "Epoch 105/200\n",
      "21/21 [==============================] - 0s 570us/step - loss: 0.2764 - accuracy: 0.8571 - val_loss: 1.3087 - val_accuracy: 0.4000\n",
      "Epoch 106/200\n",
      "21/21 [==============================] - 0s 663us/step - loss: 0.2711 - accuracy: 0.8571 - val_loss: 1.3462 - val_accuracy: 0.4000\n",
      "Epoch 107/200\n",
      "21/21 [==============================] - 0s 712us/step - loss: 0.2645 - accuracy: 0.8571 - val_loss: 1.4055 - val_accuracy: 0.4000\n",
      "Epoch 108/200\n",
      "21/21 [==============================] - 0s 1ms/step - loss: 0.2577 - accuracy: 0.8571 - val_loss: 1.4821 - val_accuracy: 0.4000\n",
      "Epoch 109/200\n",
      "21/21 [==============================] - 0s 620us/step - loss: 0.2517 - accuracy: 0.8571 - val_loss: 1.5826 - val_accuracy: 0.4000\n",
      "Epoch 110/200\n",
      "21/21 [==============================] - 0s 4ms/step - loss: 0.2487 - accuracy: 0.8571 - val_loss: 1.6973 - val_accuracy: 0.4000\n",
      "Epoch 111/200\n",
      "21/21 [==============================] - 0s 621us/step - loss: 0.2510 - accuracy: 0.8571 - val_loss: 1.7111 - val_accuracy: 0.4000\n",
      "Epoch 112/200\n",
      "21/21 [==============================] - 0s 1ms/step - loss: 0.2454 - accuracy: 0.8571 - val_loss: 1.6394 - val_accuracy: 0.4000\n",
      "Epoch 113/200\n",
      "21/21 [==============================] - 0s 573us/step - loss: 0.2397 - accuracy: 0.8571 - val_loss: 1.5692 - val_accuracy: 0.4000\n",
      "Epoch 114/200\n"
     ]
    },
    {
     "name": "stdout",
     "output_type": "stream",
     "text": [
      "21/21 [==============================] - 0s 389us/step - loss: 0.2372 - accuracy: 0.8571 - val_loss: 1.4988 - val_accuracy: 0.4000\n",
      "Epoch 115/200\n",
      "21/21 [==============================] - 0s 476us/step - loss: 0.2363 - accuracy: 0.8571 - val_loss: 1.4674 - val_accuracy: 0.4000\n",
      "Epoch 116/200\n",
      "21/21 [==============================] - 0s 475us/step - loss: 0.2350 - accuracy: 0.8571 - val_loss: 1.4726 - val_accuracy: 0.4000\n",
      "Epoch 117/200\n",
      "21/21 [==============================] - 0s 2ms/step - loss: 0.2326 - accuracy: 0.8571 - val_loss: 1.5026 - val_accuracy: 0.4000\n",
      "Epoch 118/200\n",
      "21/21 [==============================] - 0s 527us/step - loss: 0.2292 - accuracy: 0.8571 - val_loss: 1.5559 - val_accuracy: 0.4000\n",
      "Epoch 119/200\n",
      "21/21 [==============================] - 0s 644us/step - loss: 0.2265 - accuracy: 0.8571 - val_loss: 1.5498 - val_accuracy: 0.4000\n",
      "Epoch 120/200\n",
      "21/21 [==============================] - 0s 570us/step - loss: 0.2229 - accuracy: 0.8571 - val_loss: 1.4962 - val_accuracy: 0.4000\n",
      "Epoch 121/200\n",
      "21/21 [==============================] - 0s 806us/step - loss: 0.2238 - accuracy: 0.8571 - val_loss: 1.4834 - val_accuracy: 0.4000\n",
      "Epoch 122/200\n",
      "21/21 [==============================] - 0s 2ms/step - loss: 0.2232 - accuracy: 0.8571 - val_loss: 1.4928 - val_accuracy: 0.4000\n",
      "Epoch 123/200\n",
      "21/21 [==============================] - 0s 537us/step - loss: 0.2209 - accuracy: 0.8571 - val_loss: 1.5196 - val_accuracy: 0.4000\n",
      "Epoch 124/200\n",
      "21/21 [==============================] - 0s 902us/step - loss: 0.2171 - accuracy: 0.8571 - val_loss: 1.5815 - val_accuracy: 0.4000\n",
      "Epoch 125/200\n",
      "21/21 [==============================] - 0s 514us/step - loss: 0.2120 - accuracy: 0.8571 - val_loss: 1.6743 - val_accuracy: 0.4000\n",
      "Epoch 126/200\n",
      "21/21 [==============================] - 0s 857us/step - loss: 0.2066 - accuracy: 0.8571 - val_loss: 1.7770 - val_accuracy: 0.4000\n",
      "Epoch 127/200\n",
      "21/21 [==============================] - 0s 522us/step - loss: 0.2024 - accuracy: 0.8571 - val_loss: 1.8720 - val_accuracy: 0.4000\n",
      "Epoch 128/200\n",
      "21/21 [==============================] - 0s 1ms/step - loss: 0.1993 - accuracy: 0.8571 - val_loss: 1.9610 - val_accuracy: 0.4000\n",
      "Epoch 129/200\n",
      "21/21 [==============================] - 0s 475us/step - loss: 0.1967 - accuracy: 0.8571 - val_loss: 2.0490 - val_accuracy: 0.4000\n",
      "Epoch 130/200\n",
      "21/21 [==============================] - 0s 2ms/step - loss: 0.1941 - accuracy: 0.8571 - val_loss: 2.1248 - val_accuracy: 0.4000\n",
      "Epoch 131/200\n",
      "21/21 [==============================] - 0s 832us/step - loss: 0.1916 - accuracy: 0.8571 - val_loss: 2.1119 - val_accuracy: 0.4000\n",
      "Epoch 132/200\n",
      "21/21 [==============================] - 0s 451us/step - loss: 0.1871 - accuracy: 0.8571 - val_loss: 2.0230 - val_accuracy: 0.4000\n",
      "Epoch 133/200\n",
      "21/21 [==============================] - 0s 429us/step - loss: 0.1855 - accuracy: 0.8571 - val_loss: 1.9715 - val_accuracy: 0.4000\n",
      "Epoch 134/200\n",
      "21/21 [==============================] - 0s 451us/step - loss: 0.1856 - accuracy: 0.8571 - val_loss: 1.9616 - val_accuracy: 0.4000\n",
      "Epoch 135/200\n",
      "21/21 [==============================] - 0s 2ms/step - loss: 0.1852 - accuracy: 0.8571 - val_loss: 2.0164 - val_accuracy: 0.4000\n",
      "Epoch 136/200\n",
      "21/21 [==============================] - 0s 565us/step - loss: 0.1829 - accuracy: 0.8571 - val_loss: 2.1263 - val_accuracy: 0.4000\n",
      "Epoch 137/200\n",
      "21/21 [==============================] - 0s 525us/step - loss: 0.1790 - accuracy: 0.8571 - val_loss: 2.2444 - val_accuracy: 0.4000\n",
      "Epoch 138/200\n",
      "21/21 [==============================] - 0s 834us/step - loss: 0.1754 - accuracy: 0.8571 - val_loss: 2.3694 - val_accuracy: 0.4000\n",
      "Epoch 139/200\n",
      "21/21 [==============================] - 0s 663us/step - loss: 0.1720 - accuracy: 0.8571 - val_loss: 2.4902 - val_accuracy: 0.4000\n",
      "Epoch 140/200\n",
      "21/21 [==============================] - 0s 1ms/step - loss: 0.1696 - accuracy: 0.8571 - val_loss: 2.6694 - val_accuracy: 0.4000\n",
      "Epoch 141/200\n",
      "21/21 [==============================] - 0s 950us/step - loss: 0.1684 - accuracy: 0.8571 - val_loss: 2.8934 - val_accuracy: 0.4000\n",
      "Epoch 142/200\n",
      "21/21 [==============================] - 0s 809us/step - loss: 0.1703 - accuracy: 0.8571 - val_loss: 3.0847 - val_accuracy: 0.4000\n",
      "Epoch 143/200\n",
      "21/21 [==============================] - 0s 712us/step - loss: 0.1735 - accuracy: 0.8571 - val_loss: 3.2180 - val_accuracy: 0.4000\n",
      "Epoch 144/200\n",
      "21/21 [==============================] - 0s 1ms/step - loss: 0.1743 - accuracy: 0.8571 - val_loss: 3.2667 - val_accuracy: 0.4000\n",
      "Epoch 145/200\n",
      "21/21 [==============================] - 0s 709us/step - loss: 0.1709 - accuracy: 0.8571 - val_loss: 3.2425 - val_accuracy: 0.4000\n",
      "Epoch 146/200\n",
      "21/21 [==============================] - 0s 596us/step - loss: 0.1647 - accuracy: 0.9048 - val_loss: 3.1739 - val_accuracy: 0.4000\n",
      "Epoch 147/200\n",
      "21/21 [==============================] - 0s 571us/step - loss: 0.1598 - accuracy: 0.9524 - val_loss: 3.0863 - val_accuracy: 0.4000\n",
      "Epoch 148/200\n",
      "21/21 [==============================] - 0s 1ms/step - loss: 0.1551 - accuracy: 0.9524 - val_loss: 2.9893 - val_accuracy: 0.4000\n",
      "Epoch 149/200\n",
      "21/21 [==============================] - 0s 662us/step - loss: 0.1495 - accuracy: 0.9524 - val_loss: 2.8835 - val_accuracy: 0.4000\n",
      "Epoch 150/200\n",
      "21/21 [==============================] - 0s 714us/step - loss: 0.1437 - accuracy: 0.9524 - val_loss: 2.7783 - val_accuracy: 0.4000\n",
      "Epoch 151/200\n",
      "21/21 [==============================] - 0s 667us/step - loss: 0.1384 - accuracy: 0.9524 - val_loss: 2.6814 - val_accuracy: 0.4000\n",
      "Epoch 152/200\n",
      "21/21 [==============================] - 0s 569us/step - loss: 0.1340 - accuracy: 0.9524 - val_loss: 2.6215 - val_accuracy: 0.4000\n",
      "Epoch 153/200\n",
      "21/21 [==============================] - 0s 522us/step - loss: 0.1297 - accuracy: 0.9524 - val_loss: 2.6294 - val_accuracy: 0.3000\n",
      "Epoch 154/200\n",
      "21/21 [==============================] - 0s 427us/step - loss: 0.1253 - accuracy: 0.9524 - val_loss: 2.6992 - val_accuracy: 0.3000\n",
      "Epoch 155/200\n",
      "21/21 [==============================] - 0s 617us/step - loss: 0.1200 - accuracy: 0.9524 - val_loss: 2.8195 - val_accuracy: 0.3000\n",
      "Epoch 156/200\n",
      "21/21 [==============================] - 0s 1ms/step - loss: 0.1136 - accuracy: 0.9524 - val_loss: 2.9675 - val_accuracy: 0.3000\n",
      "Epoch 157/200\n",
      "21/21 [==============================] - 0s 901us/step - loss: 0.1065 - accuracy: 0.9524 - val_loss: 3.1391 - val_accuracy: 0.3000\n",
      "Epoch 158/200\n",
      "21/21 [==============================] - 0s 522us/step - loss: 0.0986 - accuracy: 0.9524 - val_loss: 3.2835 - val_accuracy: 0.3000\n",
      "Epoch 159/200\n",
      "21/21 [==============================] - 0s 949us/step - loss: 0.0899 - accuracy: 0.9524 - val_loss: 3.0476 - val_accuracy: 0.3000\n",
      "Epoch 160/200\n",
      "21/21 [==============================] - 0s 1ms/step - loss: 0.0843 - accuracy: 1.0000 - val_loss: 2.4412 - val_accuracy: 0.3000\n",
      "Epoch 161/200\n",
      "21/21 [==============================] - 0s 712us/step - loss: 0.0950 - accuracy: 1.0000 - val_loss: 2.1024 - val_accuracy: 0.2000\n",
      "Epoch 162/200\n",
      "21/21 [==============================] - 0s 856us/step - loss: 0.1153 - accuracy: 0.9524 - val_loss: 2.6819 - val_accuracy: 0.3000\n",
      "Epoch 163/200\n",
      "21/21 [==============================] - 0s 617us/step - loss: 0.0826 - accuracy: 1.0000 - val_loss: 3.8493 - val_accuracy: 0.3000\n",
      "Epoch 164/200\n",
      "21/21 [==============================] - 0s 427us/step - loss: 0.0587 - accuracy: 1.0000 - val_loss: 4.6662 - val_accuracy: 0.4000\n",
      "Epoch 165/200\n",
      "21/21 [==============================] - 0s 437us/step - loss: 0.0652 - accuracy: 1.0000 - val_loss: 5.2085 - val_accuracy: 0.4000\n",
      "Epoch 166/200\n",
      "21/21 [==============================] - 0s 427us/step - loss: 0.0829 - accuracy: 0.9524 - val_loss: 5.5070 - val_accuracy: 0.4000\n",
      "Epoch 167/200\n",
      "21/21 [==============================] - 0s 428us/step - loss: 0.0881 - accuracy: 0.9524 - val_loss: 5.6015 - val_accuracy: 0.4000\n",
      "Epoch 168/200\n",
      "21/21 [==============================] - 0s 665us/step - loss: 0.0744 - accuracy: 0.9524 - val_loss: 5.5779 - val_accuracy: 0.4000\n",
      "Epoch 169/200\n",
      "21/21 [==============================] - 0s 773us/step - loss: 0.0549 - accuracy: 1.0000 - val_loss: 5.5087 - val_accuracy: 0.3000\n",
      "Epoch 170/200\n",
      "21/21 [==============================] - 0s 522us/step - loss: 0.0425 - accuracy: 1.0000 - val_loss: 5.4358 - val_accuracy: 0.3000\n"
     ]
    },
    {
     "name": "stdout",
     "output_type": "stream",
     "text": [
      "Epoch 171/200\n",
      "21/21 [==============================] - 0s 453us/step - loss: 0.0347 - accuracy: 1.0000 - val_loss: 5.3038 - val_accuracy: 0.3000\n",
      "Epoch 172/200\n",
      "21/21 [==============================] - 0s 548us/step - loss: 0.0325 - accuracy: 1.0000 - val_loss: 5.1205 - val_accuracy: 0.3000\n",
      "Epoch 173/200\n",
      "21/21 [==============================] - 0s 1ms/step - loss: 0.0362 - accuracy: 1.0000 - val_loss: 5.0424 - val_accuracy: 0.3000\n",
      "Epoch 174/200\n",
      "21/21 [==============================] - 0s 807us/step - loss: 0.0417 - accuracy: 1.0000 - val_loss: 5.1754 - val_accuracy: 0.3000\n",
      "Epoch 175/200\n",
      "21/21 [==============================] - 0s 619us/step - loss: 0.0392 - accuracy: 1.0000 - val_loss: 5.5275 - val_accuracy: 0.3000\n",
      "Epoch 176/200\n",
      "21/21 [==============================] - 0s 1ms/step - loss: 0.0267 - accuracy: 1.0000 - val_loss: 6.0124 - val_accuracy: 0.3000\n",
      "Epoch 177/200\n",
      "21/21 [==============================] - 0s 801us/step - loss: 0.0153 - accuracy: 1.0000 - val_loss: 6.5248 - val_accuracy: 0.3000\n",
      "Epoch 178/200\n",
      "21/21 [==============================] - 0s 902us/step - loss: 0.0098 - accuracy: 1.0000 - val_loss: 6.9214 - val_accuracy: 0.3000\n",
      "Epoch 179/200\n",
      "21/21 [==============================] - 0s 570us/step - loss: 0.0072 - accuracy: 1.0000 - val_loss: 7.2789 - val_accuracy: 0.3000\n",
      "Epoch 180/200\n",
      "21/21 [==============================] - 0s 1ms/step - loss: 0.0064 - accuracy: 1.0000 - val_loss: 7.5937 - val_accuracy: 0.3000\n",
      "Epoch 181/200\n",
      "21/21 [==============================] - 0s 570us/step - loss: 0.0065 - accuracy: 1.0000 - val_loss: 7.9258 - val_accuracy: 0.3000\n",
      "Epoch 182/200\n",
      "21/21 [==============================] - 0s 527us/step - loss: 0.0071 - accuracy: 1.0000 - val_loss: 8.1053 - val_accuracy: 0.3000\n",
      "Epoch 183/200\n",
      "21/21 [==============================] - 0s 562us/step - loss: 0.0077 - accuracy: 1.0000 - val_loss: 8.2524 - val_accuracy: 0.3000\n",
      "Epoch 184/200\n",
      "21/21 [==============================] - 0s 622us/step - loss: 0.0080 - accuracy: 1.0000 - val_loss: 8.3399 - val_accuracy: 0.3000\n",
      "Epoch 185/200\n",
      "21/21 [==============================] - 0s 855us/step - loss: 0.0066 - accuracy: 1.0000 - val_loss: 8.3925 - val_accuracy: 0.3000\n",
      "Epoch 186/200\n",
      "21/21 [==============================] - 0s 569us/step - loss: 0.0046 - accuracy: 1.0000 - val_loss: 8.4214 - val_accuracy: 0.3000\n",
      "Epoch 187/200\n",
      "21/21 [==============================] - 0s 667us/step - loss: 0.0033 - accuracy: 1.0000 - val_loss: 8.4533 - val_accuracy: 0.3000\n",
      "Epoch 188/200\n",
      "21/21 [==============================] - 0s 902us/step - loss: 0.0025 - accuracy: 1.0000 - val_loss: 8.4711 - val_accuracy: 0.3000\n",
      "Epoch 189/200\n",
      "21/21 [==============================] - ETA: 0s - loss: 0.0021 - accuracy: 1.00 - 0s 1ms/step - loss: 0.0020 - accuracy: 1.0000 - val_loss: 8.4848 - val_accuracy: 0.3000\n",
      "Epoch 190/200\n",
      "21/21 [==============================] - 0s 902us/step - loss: 0.0017 - accuracy: 1.0000 - val_loss: 8.4877 - val_accuracy: 0.3000\n",
      "Epoch 191/200\n",
      "21/21 [==============================] - 0s 617us/step - loss: 0.0014 - accuracy: 1.0000 - val_loss: 8.4778 - val_accuracy: 0.3000\n",
      "Epoch 192/200\n",
      "21/21 [==============================] - 0s 807us/step - loss: 0.0012 - accuracy: 1.0000 - val_loss: 8.4491 - val_accuracy: 0.3000\n",
      "Epoch 193/200\n",
      "21/21 [==============================] - 0s 978us/step - loss: 0.0010 - accuracy: 1.0000 - val_loss: 8.3727 - val_accuracy: 0.3000\n",
      "Epoch 194/200\n",
      "21/21 [==============================] - 0s 758us/step - loss: 8.2447e-04 - accuracy: 1.0000 - val_loss: 8.2850 - val_accuracy: 0.3000\n",
      "Epoch 195/200\n",
      "21/21 [==============================] - 0s 1ms/step - loss: 7.1194e-04 - accuracy: 1.0000 - val_loss: 8.2065 - val_accuracy: 0.3000\n",
      "Epoch 196/200\n",
      "21/21 [==============================] - 0s 807us/step - loss: 6.4589e-04 - accuracy: 1.0000 - val_loss: 8.0921 - val_accuracy: 0.3000\n",
      "Epoch 197/200\n",
      "21/21 [==============================] - 0s 682us/step - loss: 6.0749e-04 - accuracy: 1.0000 - val_loss: 8.0723 - val_accuracy: 0.3000\n",
      "Epoch 198/200\n",
      "21/21 [==============================] - 0s 665us/step - loss: 5.8593e-04 - accuracy: 1.0000 - val_loss: 8.0254 - val_accuracy: 0.3000\n",
      "Epoch 199/200\n",
      "21/21 [==============================] - 0s 1ms/step - loss: 5.7256e-04 - accuracy: 1.0000 - val_loss: 7.9739 - val_accuracy: 0.3000\n",
      "Epoch 200/200\n",
      "21/21 [==============================] - 0s 568us/step - loss: 5.6202e-04 - accuracy: 1.0000 - val_loss: 7.9842 - val_accuracy: 0.3000\n"
     ]
    }
   ],
   "source": [
    "model.compile(loss='categorical_crossentropy', optimizer='adam', metrics=['accuracy'])\n",
    "history=model.fit(feature_scaled,label_categorical, epochs=200, batch_size=20, validation_split=0.3)"
   ]
  },
  {
   "cell_type": "markdown",
   "metadata": {},
   "source": [
    "#### PREDIKSI MODEL\n",
    "Prediksi model diambil dari nilai pada data X yang telah di preprocessing, dimana nantinya nilai prediksi tersebut digunakan sebagai parameter confusion matrix."
   ]
  },
  {
   "cell_type": "code",
   "execution_count": 109,
   "metadata": {},
   "outputs": [],
   "source": [
    "predictions = model.predict(feature)"
   ]
  },
  {
   "cell_type": "code",
   "execution_count": 80,
   "metadata": {},
   "outputs": [
    {
     "name": "stdout",
     "output_type": "stream",
     "text": [
      "[0.0, 0.0, 0.0, 0.0, 0.0, 0.0, 0.0, 0.0, 0.0, 0.0, 0.0, 0.0, 0.0, 0.0, 0.0, 0.0, 0.0, 0.0, 0.0, 0.0, 0.0, 0.0, 0.0, 0.0, 0.0, 0.0, 0.0, 0.0, 0.0, 0.0, 0.0]\n"
     ]
    }
   ],
   "source": [
    "rounded = [round(feature [0] ) for feature in predictions]\n",
    "print(rounded)"
   ]
  },
  {
   "cell_type": "code",
   "execution_count": 110,
   "metadata": {},
   "outputs": [],
   "source": [
    "loss=model.history.history['loss']\n",
    "acc=model.history.history['accuracy']"
   ]
  },
  {
   "cell_type": "code",
   "execution_count": 81,
   "metadata": {},
   "outputs": [],
   "source": [
    "predict= model.predict(feature_scaled)"
   ]
  },
  {
   "cell_type": "code",
   "execution_count": 82,
   "metadata": {},
   "outputs": [
    {
     "data": {
      "text/plain": [
       "array([[0.0000000e+00, 1.8477440e-05, 7.9900306e-01],\n",
       "       [0.0000000e+00, 0.0000000e+00, 9.7680581e-01],\n",
       "       [0.0000000e+00, 2.5928020e-06, 8.5662508e-01],\n",
       "       [0.0000000e+00, 9.2387199e-07, 9.3046248e-01],\n",
       "       [0.0000000e+00, 0.0000000e+00, 9.8910999e-01],\n",
       "       [0.0000000e+00, 0.0000000e+00, 9.9760824e-01],\n",
       "       [0.0000000e+00, 0.0000000e+00, 9.9631053e-01],\n",
       "       [0.0000000e+00, 0.0000000e+00, 9.9172843e-01],\n",
       "       [0.0000000e+00, 0.0000000e+00, 9.6385413e-01],\n",
       "       [0.0000000e+00, 0.0000000e+00, 9.8304343e-01],\n",
       "       [5.0783157e-05, 7.4938524e-01, 7.1811676e-04],\n",
       "       [0.0000000e+00, 3.7941337e-04, 3.7202626e-01],\n",
       "       [1.4901161e-07, 2.9415786e-03, 3.8268733e-01],\n",
       "       [1.1086464e-05, 7.6461726e-01, 2.5182962e-04],\n",
       "       [0.0000000e+00, 0.0000000e+00, 9.6893585e-01],\n",
       "       [0.0000000e+00, 0.0000000e+00, 9.7770977e-01],\n",
       "       [0.0000000e+00, 1.4305115e-06, 9.0424085e-01],\n",
       "       [0.0000000e+00, 0.0000000e+00, 9.8824406e-01],\n",
       "       [4.2134523e-04, 6.7875373e-01, 4.0748715e-03],\n",
       "       [0.0000000e+00, 5.9604645e-08, 9.5687479e-01],\n",
       "       [0.0000000e+00, 0.0000000e+00, 9.9472535e-01],\n",
       "       [0.0000000e+00, 1.4889240e-04, 1.1150959e-01],\n",
       "       [0.0000000e+00, 0.0000000e+00, 9.7256529e-01],\n",
       "       [0.0000000e+00, 2.3841858e-07, 9.2635024e-01],\n",
       "       [1.4007092e-06, 1.8778890e-02, 1.0900399e-01],\n",
       "       [0.0000000e+00, 7.7992678e-05, 7.1047395e-01],\n",
       "       [0.0000000e+00, 6.7532063e-05, 7.7679724e-02],\n",
       "       [1.7881393e-07, 1.9152987e-01, 5.1024556e-04],\n",
       "       [0.0000000e+00, 1.5318394e-05, 7.1756709e-01],\n",
       "       [0.0000000e+00, 1.0132790e-06, 9.0900272e-01],\n",
       "       [5.9604645e-08, 1.5920132e-02, 2.4785725e-02]], dtype=float32)"
      ]
     },
     "execution_count": 82,
     "metadata": {},
     "output_type": "execute_result"
    }
   ],
   "source": [
    "predict"
   ]
  },
  {
   "cell_type": "code",
   "execution_count": 83,
   "metadata": {},
   "outputs": [
    {
     "name": "stdout",
     "output_type": "stream",
     "text": [
      "31/31 [==============================] - 0s 161us/step\n",
      "77.4193525314331\n"
     ]
    }
   ],
   "source": [
    "acc= model.evaluate(feature_scaled,label_categorical)\n",
    "print(acc[1]*100)"
   ]
  },
  {
   "cell_type": "code",
   "execution_count": 84,
   "metadata": {},
   "outputs": [],
   "source": [
    "from sklearn.metrics import confusion_matrix\n",
    "cm=confusion_matrix(label_categorical.argmax(axis=1),predict.argmax(axis=1))"
   ]
  },
  {
   "cell_type": "markdown",
   "metadata": {},
   "source": [
    "#### Performance\n",
    "Setelah mendapatkan hasil singkat dari proses training pada model diatas, selanjutnya dapat dilakukan analisis performance dengan membuat confusion matrix dari Y yang telah diubah menjadi categorical dan nilai prediksi dari model neural network terhadap X yang telah di preprocessing."
   ]
  },
  {
   "cell_type": "markdown",
   "metadata": {},
   "source": [
    "#### 1. Konversi Array Confusion Matrix Kedalam Variabel Bertipe Float\n",
    "Karena data yang didapat dari confusion matrix masih dalam bentuk array, untuk dapat mengkalkulasi nilai tersebut haruslah mengkonversinya kebentuk tipe data integer ataupun float Disini menggunakan tipe data float yangdapat menampilkan nilai berkoma yang nantinya akan membuat persentase dari akurasi, sensitivity, specivicity, dan presisi lebih akurat."
   ]
  },
  {
   "cell_type": "code",
   "execution_count": 85,
   "metadata": {
    "scrolled": true
   },
   "outputs": [
    {
     "data": {
      "text/plain": [
       "array([[ 3,  6],\n",
       "       [ 1, 21]], dtype=int64)"
      ]
     },
     "execution_count": 85,
     "metadata": {},
     "output_type": "execute_result"
    }
   ],
   "source": [
    "cm"
   ]
  },
  {
   "cell_type": "code",
   "execution_count": 86,
   "metadata": {},
   "outputs": [],
   "source": [
    "TP = cm[[0],[0]]\n",
    "TP = float (TP)\n",
    "\n",
    "FP = cm[[0],[1]]\n",
    "FP = float (FP)\n",
    "\n",
    "FN = cm[[1],[0]]\n",
    "FN = float (FN)\n",
    "\n",
    "TN = cm[[1],[1]]\n",
    "TN = float  (TN)"
   ]
  },
  {
   "cell_type": "markdown",
   "metadata": {},
   "source": [
    "#### 2. Accuracy\n",
    "Akurasi dalam masalah klasifikasi adalah jumlah prediksi yang tepat yang dibuat oleh model atas semua jenis prediksi yang dibuat."
   ]
  },
  {
   "cell_type": "code",
   "execution_count": 87,
   "metadata": {},
   "outputs": [
    {
     "name": "stdout",
     "output_type": "stream",
     "text": [
      "Accuracy: 77.41935483870968 %\n"
     ]
    }
   ],
   "source": [
    "print('Accuracy:', ((TP+TN)/(TP+TN+FP+FN)) * 100, '%')"
   ]
  },
  {
   "cell_type": "markdown",
   "metadata": {},
   "source": [
    "#### 3. Precision\n",
    "Presisi adalah ukuran yang memberi tahu berapa proporsi pasien yang didiagnosis menderita kanker yang sebenarnya memang menderita kanker. Yang diprediksi mengidap kanker (TP dan FP) dan orang-orang yang benar-benar mengidap kanker (TP)."
   ]
  },
  {
   "cell_type": "code",
   "execution_count": 88,
   "metadata": {},
   "outputs": [
    {
     "name": "stdout",
     "output_type": "stream",
     "text": [
      "Precision: 33.33333333333333 %\n"
     ]
    }
   ],
   "source": [
    "print('Precision:', (TP/(TP+FP) * 100), '%')"
   ]
  },
  {
   "cell_type": "markdown",
   "metadata": {},
   "source": [
    "#### 4. Sensitivity\n",
    "Sensitivity adalah ukuran yang memberitahu berapa proporsi pasien yang benar-benar menderita kanker didiagnosis oleh algoritmik sebagai kanker. Yang sebenarnya mengidap kanker (TP dan FN) dan orang-orang yang didiagnosis oleh model yang mengidap kanker (TP). (Catatan: FN dimasukkan karena Orang itu benar-benar mengidap kanker meskipun modelnya memperkirakan sebaliknya)."
   ]
  },
  {
   "cell_type": "code",
   "execution_count": 111,
   "metadata": {},
   "outputs": [
    {
     "name": "stdout",
     "output_type": "stream",
     "text": [
      "Sensitivity: 75.0 %\n"
     ]
    }
   ],
   "source": [
    "print('Sensitivity:', (TP/(TP+FN) * 100), '%')"
   ]
  },
  {
   "cell_type": "markdown",
   "metadata": {},
   "source": [
    "#### 5. Specificity\n",
    "Spesifitas adalah ukuran yang memberitahu berapa proporsi pasien yang TIDAK menderita kanker, diprediksi oleh model sebagai non-kanker. Yang sebenarnya tidak mengidap kanker(FP dan TN) dan orang-orang yang didiagnosis oleh model tidak menderita kanker adalah TN. (Catatan: FP disertakan karena Orang itu TIDAK benar-benar menderita kanker meskipun modelnya memperkirakan sebaliknya)"
   ]
  },
  {
   "cell_type": "code",
   "execution_count": 112,
   "metadata": {},
   "outputs": [
    {
     "name": "stdout",
     "output_type": "stream",
     "text": [
      "Specificity: 77.77777777777779 %\n"
     ]
    }
   ],
   "source": [
    "print('Specificity:', (TN/(TN+FP) * 100), '%')"
   ]
  },
  {
   "cell_type": "markdown",
   "metadata": {},
   "source": [
    "#### Visualisasi Proses Training\n",
    "Dari proses training diatas, setiap loss pada epochs yang terjadi ketika training dapat ditampilkan dalam bentuk grafik. setiap komponen pada grafik pun dapat ditentukan sesuai keperluan masing-masing."
   ]
  },
  {
   "cell_type": "markdown",
   "metadata": {},
   "source": [
    "#### MODEL AKURASI"
   ]
  },
  {
   "cell_type": "code",
   "execution_count": 90,
   "metadata": {},
   "outputs": [
    {
     "data": {
      "image/png": "[encoded data removed]",
      "text/plain": [
       "<Figure size 432x288 with 1 Axes>"
      ]
     },
     "metadata": {
      "needs_background": "light"
     },
     "output_type": "display_data"
    }
   ],
   "source": [
    "plt.plot(history.history['accuracy'])\n",
    "plt.plot(history.history['val_accuracy'])\n",
    "plt.title('model accuracy')\n",
    "plt.ylabel('accuracy')\n",
    "plt.xlabel('epoch')\n",
    "plt.legend(['train', 'test'], loc='lower right')\n",
    "plt.show()"
   ]
  },
  {
   "cell_type": "markdown",
   "metadata": {},
   "source": [
    "#### MODEL LOSS"
   ]
  },
  {
   "cell_type": "code",
   "execution_count": 91,
   "metadata": {
    "scrolled": true
   },
   "outputs": [
    {
     "data": {
      "image/png": "[encoded data removed]",
      "text/plain": [
       "<Figure size 432x288 with 1 Axes>"
      ]
     },
     "metadata": {
      "needs_background": "light"
     },
     "output_type": "display_data"
    }
   ],
   "source": [
    "plt.plot(history.history['loss'])\n",
    "plt.plot(history.history['val_loss'])\n",
    "plt.title('model loss')\n",
    "plt.ylabel('loss')\n",
    "plt.xlabel('epoch')\n",
    "plt.legend(['train', 'test'], loc='upper right')\n",
    "plt.show()"
   ]
  },
  {
   "cell_type": "code",
   "execution_count": null,
   "metadata": {},
   "outputs": [],
   "source": []
  },
  {
   "cell_type": "code",
   "execution_count": null,
   "metadata": {},
   "outputs": [],
   "source": []
  }
 ],
 "metadata": {
  "kernelspec": {
   "display_name": "Python 3",
   "language": "python",
   "name": "python3"
  },
  "language_info": {
   "codemirror_mode": {
    "name": "ipython",
    "version": 3
   },
   "file_extension": ".py",
   "mimetype": "text/x-python",
   "name": "python",
   "nbconvert_exporter": "python",
   "pygments_lexer": "ipython3",
   "version": "3.7.3"
  }
 },
 "nbformat": 4,
 "nbformat_minor": 2
}
