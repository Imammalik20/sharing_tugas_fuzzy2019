{
 "cells": [
  {
   "cell_type": "markdown",
   "metadata": {},
   "source": [
    "<div class=\"\">\n",
    "<br><br>\n",
    "<center><br><font size=\"12\"><font face=\"calibri\"><strong>Kecerdasan Buatan\n",
    "<center><br><font size=\"5\"><font face=\"calibri\"><strong>Deteksi Detak Jantung Abnormal dengan data PTB ECG\n",
    "<br>\n",
    "<br><strong>Jannes Effendi\n",
    "<br><strong>09011181722005\n",
    "<br>\n",
    "<br><strong>Dosen Pengampuh : \n",
    "<br><strong>Prof. Dr. Ir. Siti Nurmaini, M.T.\n",
    "<br>\n",
    "<br><strong>Jurusan Sistem Komputer\n",
    "<br><strong>Fakultas Ilmu Komputer\n",
    "<br><strong>Universitas Sriwijaya\n",
    "<br><strong>2018"
   ]
  },
  {
   "cell_type": "markdown",
   "metadata": {},
   "source": [
    "# Import Modul yang diperlukan"
   ]
  },
  {
   "cell_type": "markdown",
   "metadata": {},
   "source": [
    "Modul Yang diperlukan adalah\n",
    "\n",
    "1. `numpy dan Pandas `\n",
    "\n",
    "Kedua modul ini sudah standar yang wajib diimport untuk menghandle data.\n",
    "\n",
    "2. `Matplotlib`\n",
    "\n",
    "Library ini digunakan untuk men-plot hasil akurasi dan loss nanti.\n",
    "3. `sklearn`\n",
    "\n",
    "Adapun pada library ini , fungsi yang dipakai adalah\n",
    "\n",
    "    a. train_test_split  => Untuk men-split data menjadi training dan testing\n",
    "    b. confusion_matrix  => mengukur performa model learning dalam bentuk tabel\n",
    "    c. classification_report => mendapatkan hasil pengukuran CM\n",
    "    d. PCA(Principal Component Analysis) => mereduksi fitur\n",
    "\n",
    "4. `keras`\n",
    "\n",
    "Pada Keras , Fungsi yang dipakai adalah :\n",
    "    \n",
    "    - Optimizers Adam\n",
    "    - Model Sequential\n",
    "    - Layers Dense\n",
    "    - Aktivasi Relu\n",
    "    - utils to_categorical"
   ]
  },
  {
   "cell_type": "code",
   "execution_count": 29,
   "metadata": {},
   "outputs": [],
   "source": [
    "import numpy as np\n",
    "import pandas as pd\n",
    "import matplotlib.pyplot as plt\n",
    "\n",
    "from sklearn.model_selection import train_test_split\n",
    "from sklearn.decomposition import PCA\n",
    "from sklearn.metrics import confusion_matrix,classification_report\n",
    "\n",
    "from keras.optimizers import Adam,rmsprop\n",
    "from keras.models import Sequential\n",
    "from keras.layers import Dense\n",
    "from keras.activations import relu\n",
    "from keras.utils import to_categorical"
   ]
  },
  {
   "cell_type": "markdown",
   "metadata": {},
   "source": [
    "# Dataset\n",
    "    Data set yang dipakai adalah PTB DIagnostic DataBase. Data ini bisa didapat di kaggle\n",
    "    Link Dataset PTB ECG : \n",
    "    \n",
    "https://www.kaggle.com/shayanfazeli/heartbeat\n",
    "\n",
    "    Dataset ini bersumberkan dari PTB Diagnostic Ecg Database. Dataset ini sudah didownsampling menjadi 125 node \n",
    "    perdetik oleh shayanfazeli. \n",
    "    \n",
    "    Dataset ini juga sudah discaling menjadi (0-1) dan data sinyal sudah dipotong perbeat sebanyak 187 node/beat.\n",
    "<h3>The PTB Diagnostic ECG Database</h3>\n",
    "<ul>\n",
    "    <li><strong> Jumlah data</strong> : 14552</li>\n",
    "    <li> <strong>Sampling Frequency</strong> : 125Hz</li>\n",
    "    <li> <strong>Sumber data</strong> : Physionet's PTB Diagnostic Database</li>\n",
    "</ul>\n",
    "\n",
    "Data yang diambil pada website kaggle mempunyai data detak jantung yang terpisah antara normal dan  myocardial infarction\n",
    "\n",
    "## Fitur data set\n",
    "\n",
    "Fitur dataset ini berupa beat yang terdiri atas `187 node/beat.`\n",
    "\n",
    "## Label Dataset\n",
    "\n",
    "Jumlah kelas pada kolom label : `2`\n",
    "\n",
    "  Label yang akan diklasifikasikan adalah detak jantung `Normal` atau ` myocardial infarction`\n",
    "  \n",
    "  \n",
    "Gambar"
   ]
  },
  {
   "cell_type": "markdown",
   "metadata": {},
   "source": [
    "# Import Data Set\n",
    "\n",
    "Dataset ptb ini dipisah menjadi \n",
    "\n",
    "    1.ptdb_normal.csv   => Data detak jantung Normal\n",
    "    2.ptdb_abnormal.csv => Data detak jantung abnormal\n",
    "Oleh karena itu, Data detak jantung yang normal dan abnormal digabung supaya data bisa diklasifikasikan antara `normal` dan `abnormal`.\n",
    "\n",
    "Setelah kedua data diatas diload, data tersebut digabung dengan kode `np.concatenate((data1,data2))`"
   ]
  },
  {
   "cell_type": "code",
   "execution_count": 3,
   "metadata": {},
   "outputs": [],
   "source": [
    "pathdata = \"C:/Users/Jannes/Downloads/Python AI/data/\"\n",
    "normal = np.loadtxt(pathdata+\"ptbdb_normal.csv\",delimiter=',')\n",
    "abnormal = np.loadtxt(pathdata+\"ptbdb_abnormal.csv\",delimiter=',')\n",
    "data = np.concatenate((normal,abnormal))"
   ]
  },
  {
   "attachments": {
    "image.png": {
     "image/png": "[encoded data removed]"
    }
   },
   "cell_type": "markdown",
   "metadata": {},
   "source": [
    "# Pemisahan antara Fitur dan Label pada dataset\n",
    "\n",
    "    Fitur dan Label dipisah supaya mesin bisa mempelajari fitur dari label yang diberikan.\n",
    "    --Fitur\n",
    "    X = 187 Node/detik\n",
    "    \n",
    "    --Label\n",
    "    Y = 1 kolom isinya 2 kelas ( Normal atau abnormal)\n",
    "    \n",
    "![image.png](attachment:image.png)"
   ]
  },
  {
   "cell_type": "code",
   "execution_count": 4,
   "metadata": {},
   "outputs": [],
   "source": [
    "X = data[:,0:187]\n",
    "Y = data[:,187]"
   ]
  },
  {
   "cell_type": "markdown",
   "metadata": {},
   "source": [
    "# Preprocessing dataset.\n",
    "\n",
    "Dataset yang diambil pada kaggle ini sudah dipreprosessing oleh `syahanfazeli` dengan cara :\n",
    "    \n",
    "    1. Scaling => mengubah nilai data menjadi 0 sampai 1\n",
    "    2. Memotong sinyal ptb sebanyak 187 node/beat. "
   ]
  },
  {
   "cell_type": "markdown",
   "metadata": {},
   "source": [
    "## Reduksi Fitur\n",
    "    Disini digunakan PCA ( Principal Component Analysis ) untuk mereduksi fitur yang banyak menjadi fitur yang lebih sedikit namun bisa merepresentasikan hampir semua informasi fitur tanpa mengurangi informasi yang signifikan."
   ]
  },
  {
   "cell_type": "code",
   "execution_count": 31,
   "metadata": {},
   "outputs": [],
   "source": [
    "pca = PCA(n_components=12)\n",
    "all_feature_pca = pca.fit_transform(X)"
   ]
  },
  {
   "attachments": {
    "image.png": {
     "image/png": "[encoded data removed]"
    }
   },
   "cell_type": "markdown",
   "metadata": {},
   "source": [
    "## Splitting data\n",
    "\n",
    "    Data fitur dan label dibagi menjadi data train dan test dengan ratio 9 : 1\n",
    "    \n",
    "![image.png](attachment:image.png)"
   ]
  },
  {
   "cell_type": "code",
   "execution_count": 32,
   "metadata": {},
   "outputs": [],
   "source": [
    "X_train, X_test, Y_train, Y_test = train_test_split(\n",
    "    all_feature_pca, Y, test_size=0.1, random_state=2)"
   ]
  },
  {
   "cell_type": "code",
   "execution_count": 33,
   "metadata": {},
   "outputs": [
    {
     "data": {
      "text/plain": [
       "(array([ 401.,    0.,    0.,    0.,    0.,    0.,    0.,    0.,    0.,\n",
       "        1055.]),\n",
       " array([0. , 0.1, 0.2, 0.3, 0.4, 0.5, 0.6, 0.7, 0.8, 0.9, 1. ]),\n",
       " <a list of 10 Patch objects>)"
      ]
     },
     "execution_count": 33,
     "metadata": {},
     "output_type": "execute_result"
    },
    {
     "data": {
      "image/png": "[encoded data removed]",
      "text/plain": [
       "<Figure size 432x288 with 1 Axes>"
      ]
     },
     "metadata": {
      "needs_background": "light"
     },
     "output_type": "display_data"
    }
   ],
   "source": [
    "plt.hist(Y_test)"
   ]
  },
  {
   "cell_type": "markdown",
   "metadata": {},
   "source": [
    "# Model ANN\n",
    "\n",
    "Disini digunakan model `Sequential()`. Pada Model ini terdapat `Input layer` , `Hidden layer` dan `Output layer`. \n",
    "\n",
    "<strong>Penentuan Jumlah Layer ditentukan sebagai berikut </strong>:\n",
    "\n",
    "    a. Jumlah dari input layer itu sama dengan jumlah fitur yang diberikan kepada mesin.\n",
    "    b. Jumlah dari Hidden layer ditentukan sesuai dengan atau lebih besar dari Input layer.\n",
    "    c. Jumlah dari Output Layer sesuai dengan kolom yang diberikan kepada mesin.\n",
    "  \n",
    "  \n",
    "<strong>Jumlah layer yang ditentukan adalah </strong>:\n",
    "\n",
    "    1. Input layer          -> Layer pertama terbentuk dari 12 layer Neural sesuai fitur dengan menggunakan activation                                    relu.\n",
    "    2. Hidden Layer pertama -> 12 units Neural Network dengan menggunakan activation relu.\n",
    "    3. Hidden Layer Kedua   -> 12 units Neural Network dengan menggunakan activation relu.\n",
    "    4. Output layer         -> 1 unit Neural Network dengan menggunakan activation sigmoid."
   ]
  },
  {
   "cell_type": "code",
   "execution_count": 34,
   "metadata": {},
   "outputs": [],
   "source": [
    "model = Sequential()\n",
    "model.add(Dense(units= 100, input_dim =12 , activation=relu))\n",
    "model.add(Dense(units= 100, activation=relu))\n",
    "model.add(Dense(units= 1, activation='sigmoid'))"
   ]
  },
  {
   "cell_type": "markdown",
   "metadata": {},
   "source": [
    "# Compile Model\n",
    "\n",
    "Model Dicompile dengan Optimizer adam dengan fungsi loss Binary Crossentropy.\n",
    "\n",
    "Disini ada parameter optimizer `adam` yaitu `learning_rate`.\n",
    "\n",
    "`Learning_rate` yaitu seberapa teliti mesin itu belajar. Semakin kecil nilai learning rate ,maka semakin teliti mesin belajar dan semakin tinggi kesempatan untuk mendapatkan hasil yang bagus. `Learning rate yang tinggi` memiliki kelemahan yaitu, waktu untuk proses training yang lama."
   ]
  },
  {
   "cell_type": "code",
   "execution_count": 35,
   "metadata": {},
   "outputs": [],
   "source": [
    "model.compile(optimizer=rmsprop(learning_rate=0.0001), loss='binary_crossentropy', metrics=['accuracy'])"
   ]
  },
  {
   "cell_type": "markdown",
   "metadata": {},
   "source": [
    "# MenTraining model dengan data train serta Validasi dengan data Test\n",
    "\n",
    "Model yang sudah dibentuk itu dilakukan proses pembelajaran sesuai dengan **data train** dan menvalidasi proses pembelajaran mesin dengan data validasi yaitu **data testing**. \n",
    "\n",
    "Adapun parameter yang bisa di tuning yaitu :\n",
    "\n",
    "1. `batch_size` => Seberapa banyak sample yang dimasukkan ke dalam Model dalam satu iterasi\n",
    "2. `epochs`  => Seberapa banyak mesin mengulang pembelajaran sampai nilai weight tidak berubah lagi. Nilai epochs yang direkomendasikan adalah 100 karena biasanya dengan nilai 100, performa mesin sudah konvergen."
   ]
  },
  {
   "cell_type": "code",
   "execution_count": 36,
   "metadata": {},
   "outputs": [
    {
     "name": "stdout",
     "output_type": "stream",
     "text": [
      "Train on 13096 samples, validate on 1456 samples\n",
      "Epoch 1/70\n",
      "13096/13096 [==============================] - 1s 80us/step - loss: 0.4928 - accuracy: 0.7392 - val_loss: 0.4245 - val_accuracy: 0.7617\n",
      "Epoch 2/70\n",
      "13096/13096 [==============================] - 1s 70us/step - loss: 0.4087 - accuracy: 0.7908 - val_loss: 0.3821 - val_accuracy: 0.7981\n",
      "Epoch 3/70\n",
      "13096/13096 [==============================] - 1s 69us/step - loss: 0.3807 - accuracy: 0.8110 - val_loss: 0.3623 - val_accuracy: 0.8152\n",
      "Epoch 4/70\n",
      "13096/13096 [==============================] - 1s 72us/step - loss: 0.3645 - accuracy: 0.8193 - val_loss: 0.3477 - val_accuracy: 0.8317\n",
      "Epoch 5/70\n",
      "13096/13096 [==============================] - 1s 64us/step - loss: 0.3518 - accuracy: 0.8281 - val_loss: 0.3363 - val_accuracy: 0.8372\n",
      "Epoch 6/70\n",
      "13096/13096 [==============================] - 1s 66us/step - loss: 0.3406 - accuracy: 0.8363 - val_loss: 0.3255 - val_accuracy: 0.8496\n",
      "Epoch 7/70\n",
      "13096/13096 [==============================] - 1s 66us/step - loss: 0.3308 - accuracy: 0.8432 - val_loss: 0.3145 - val_accuracy: 0.8620\n",
      "Epoch 8/70\n",
      "13096/13096 [==============================] - 1s 64us/step - loss: 0.3216 - accuracy: 0.8506 - val_loss: 0.3072 - val_accuracy: 0.8606\n",
      "Epoch 9/70\n",
      "13096/13096 [==============================] - 1s 67us/step - loss: 0.3132 - accuracy: 0.8571 - val_loss: 0.2983 - val_accuracy: 0.8702\n",
      "Epoch 10/70\n",
      "13096/13096 [==============================] - 1s 75us/step - loss: 0.3050 - accuracy: 0.8621 - val_loss: 0.2901 - val_accuracy: 0.8839\n",
      "Epoch 11/70\n",
      "13096/13096 [==============================] - 1s 72us/step - loss: 0.2976 - accuracy: 0.8687 - val_loss: 0.2836 - val_accuracy: 0.8826\n",
      "Epoch 12/70\n",
      "13096/13096 [==============================] - 1s 72us/step - loss: 0.2903 - accuracy: 0.8746 - val_loss: 0.2768 - val_accuracy: 0.8867\n",
      "Epoch 13/70\n",
      "13096/13096 [==============================] - 1s 69us/step - loss: 0.2833 - accuracy: 0.8805 - val_loss: 0.2719 - val_accuracy: 0.8839\n",
      "Epoch 14/70\n",
      "13096/13096 [==============================] - 1s 70us/step - loss: 0.2770 - accuracy: 0.8843 - val_loss: 0.2683 - val_accuracy: 0.8908\n",
      "Epoch 15/70\n",
      "13096/13096 [==============================] - 1s 65us/step - loss: 0.2711 - accuracy: 0.8861 - val_loss: 0.2587 - val_accuracy: 0.8970\n",
      "Epoch 16/70\n",
      "13096/13096 [==============================] - 1s 62us/step - loss: 0.2658 - accuracy: 0.8894 - val_loss: 0.2546 - val_accuracy: 0.8977\n",
      "Epoch 17/70\n",
      "13096/13096 [==============================] - 1s 66us/step - loss: 0.2607 - accuracy: 0.8911 - val_loss: 0.2547 - val_accuracy: 0.8922\n",
      "Epoch 18/70\n",
      "13096/13096 [==============================] - 1s 67us/step - loss: 0.2560 - accuracy: 0.8958 - val_loss: 0.2483 - val_accuracy: 0.8970\n",
      "Epoch 19/70\n",
      "13096/13096 [==============================] - 1s 65us/step - loss: 0.2520 - accuracy: 0.8955 - val_loss: 0.2428 - val_accuracy: 0.8984\n",
      "Epoch 20/70\n",
      "13096/13096 [==============================] - 1s 66us/step - loss: 0.2478 - accuracy: 0.8985 - val_loss: 0.2407 - val_accuracy: 0.9025\n",
      "Epoch 21/70\n",
      "13096/13096 [==============================] - 1s 65us/step - loss: 0.2437 - accuracy: 0.8991 - val_loss: 0.2368 - val_accuracy: 0.9032\n",
      "Epoch 22/70\n",
      "13096/13096 [==============================] - 1s 65us/step - loss: 0.2401 - accuracy: 0.9010 - val_loss: 0.2329 - val_accuracy: 0.9087\n",
      "Epoch 23/70\n",
      "13096/13096 [==============================] - 1s 68us/step - loss: 0.2368 - accuracy: 0.9021 - val_loss: 0.2302 - val_accuracy: 0.9066\n",
      "Epoch 24/70\n",
      "13096/13096 [==============================] - 1s 68us/step - loss: 0.2335 - accuracy: 0.9036 - val_loss: 0.2263 - val_accuracy: 0.9093\n",
      "Epoch 25/70\n",
      "13096/13096 [==============================] - 1s 65us/step - loss: 0.2302 - accuracy: 0.9050 - val_loss: 0.2247 - val_accuracy: 0.9128\n",
      "Epoch 26/70\n",
      "13096/13096 [==============================] - 1s 68us/step - loss: 0.2273 - accuracy: 0.9075 - val_loss: 0.2227 - val_accuracy: 0.9114\n",
      "Epoch 27/70\n",
      "13096/13096 [==============================] - 1s 76us/step - loss: 0.2247 - accuracy: 0.9084 - val_loss: 0.2197 - val_accuracy: 0.9169\n",
      "Epoch 28/70\n",
      "13096/13096 [==============================] - 1s 73us/step - loss: 0.2221 - accuracy: 0.9105 - val_loss: 0.2192 - val_accuracy: 0.9155\n",
      "Epoch 29/70\n",
      "13096/13096 [==============================] - 1s 73us/step - loss: 0.2193 - accuracy: 0.9111 - val_loss: 0.2166 - val_accuracy: 0.9169\n",
      "Epoch 30/70\n",
      "13096/13096 [==============================] - 1s 66us/step - loss: 0.2170 - accuracy: 0.9135 - val_loss: 0.2151 - val_accuracy: 0.9162\n",
      "Epoch 31/70\n",
      "13096/13096 [==============================] - 1s 66us/step - loss: 0.2146 - accuracy: 0.9139 - val_loss: 0.2131 - val_accuracy: 0.9210\n",
      "Epoch 32/70\n",
      "13096/13096 [==============================] - 1s 61us/step - loss: 0.2118 - accuracy: 0.9152 - val_loss: 0.2105 - val_accuracy: 0.9217\n",
      "Epoch 33/70\n",
      "13096/13096 [==============================] - 1s 65us/step - loss: 0.2100 - accuracy: 0.9178 - val_loss: 0.2087 - val_accuracy: 0.9238\n",
      "Epoch 34/70\n",
      "13096/13096 [==============================] - 1s 65us/step - loss: 0.2079 - accuracy: 0.9173 - val_loss: 0.2080 - val_accuracy: 0.9258\n",
      "Epoch 35/70\n",
      "13096/13096 [==============================] - 1s 65us/step - loss: 0.2057 - accuracy: 0.9181 - val_loss: 0.2094 - val_accuracy: 0.9210\n",
      "Epoch 36/70\n",
      "13096/13096 [==============================] - 1s 65us/step - loss: 0.2039 - accuracy: 0.9187 - val_loss: 0.2083 - val_accuracy: 0.9176\n",
      "Epoch 37/70\n",
      "13096/13096 [==============================] - 1s 65us/step - loss: 0.2020 - accuracy: 0.9197 - val_loss: 0.2051 - val_accuracy: 0.9279\n",
      "Epoch 38/70\n",
      "13096/13096 [==============================] - 1s 65us/step - loss: 0.2002 - accuracy: 0.9211 - val_loss: 0.2033 - val_accuracy: 0.9293\n",
      "Epoch 39/70\n",
      "13096/13096 [==============================] - 1s 65us/step - loss: 0.1982 - accuracy: 0.9223 - val_loss: 0.2029 - val_accuracy: 0.9299\n",
      "Epoch 40/70\n",
      "13096/13096 [==============================] - 1s 65us/step - loss: 0.1964 - accuracy: 0.9236 - val_loss: 0.2006 - val_accuracy: 0.9272\n",
      "Epoch 41/70\n",
      "13096/13096 [==============================] - 1s 64us/step - loss: 0.1946 - accuracy: 0.9243 - val_loss: 0.1987 - val_accuracy: 0.9245\n",
      "Epoch 42/70\n",
      "13096/13096 [==============================] - 1s 64us/step - loss: 0.1928 - accuracy: 0.9258 - val_loss: 0.1981 - val_accuracy: 0.9313\n",
      "Epoch 43/70\n",
      "13096/13096 [==============================] - 1s 66us/step - loss: 0.1915 - accuracy: 0.9239 - val_loss: 0.1979 - val_accuracy: 0.9293\n",
      "Epoch 44/70\n",
      "13096/13096 [==============================] - 1s 70us/step - loss: 0.1897 - accuracy: 0.9268 - val_loss: 0.1981 - val_accuracy: 0.9313\n",
      "Epoch 45/70\n",
      "13096/13096 [==============================] - 1s 73us/step - loss: 0.1887 - accuracy: 0.9271 - val_loss: 0.1981 - val_accuracy: 0.9279\n",
      "Epoch 46/70\n",
      "13096/13096 [==============================] - 1s 65us/step - loss: 0.1866 - accuracy: 0.9280 - val_loss: 0.1966 - val_accuracy: 0.9313\n",
      "Epoch 47/70\n",
      "13096/13096 [==============================] - 1s 77us/step - loss: 0.1856 - accuracy: 0.9285 - val_loss: 0.1935 - val_accuracy: 0.9320\n",
      "Epoch 48/70\n",
      "13096/13096 [==============================] - 1s 82us/step - loss: 0.1839 - accuracy: 0.9303 - val_loss: 0.1932 - val_accuracy: 0.9299\n",
      "Epoch 49/70\n",
      "13096/13096 [==============================] - 1s 68us/step - loss: 0.1824 - accuracy: 0.9301 - val_loss: 0.1952 - val_accuracy: 0.9306\n",
      "Epoch 50/70\n",
      "13096/13096 [==============================] - 1s 63us/step - loss: 0.1811 - accuracy: 0.9301 - val_loss: 0.1936 - val_accuracy: 0.9306\n",
      "Epoch 51/70\n",
      "13096/13096 [==============================] - 1s 69us/step - loss: 0.1801 - accuracy: 0.9307 - val_loss: 0.1936 - val_accuracy: 0.9320\n",
      "Epoch 52/70\n",
      "13096/13096 [==============================] - 1s 65us/step - loss: 0.1787 - accuracy: 0.9322 - val_loss: 0.1909 - val_accuracy: 0.9348\n",
      "Epoch 53/70\n",
      "13096/13096 [==============================] - 1s 64us/step - loss: 0.1773 - accuracy: 0.9314 - val_loss: 0.1906 - val_accuracy: 0.9334\n",
      "Epoch 54/70\n",
      "13096/13096 [==============================] - 1s 64us/step - loss: 0.1756 - accuracy: 0.9336 - val_loss: 0.1891 - val_accuracy: 0.9354\n",
      "Epoch 55/70\n",
      "13096/13096 [==============================] - 1s 71us/step - loss: 0.1746 - accuracy: 0.9341 - val_loss: 0.1904 - val_accuracy: 0.9334\n",
      "Epoch 56/70\n",
      "13096/13096 [==============================] - 1s 65us/step - loss: 0.1734 - accuracy: 0.9343 - val_loss: 0.1872 - val_accuracy: 0.9320\n",
      "Epoch 57/70\n",
      "13096/13096 [==============================] - 1s 65us/step - loss: 0.1720 - accuracy: 0.9339 - val_loss: 0.1867 - val_accuracy: 0.9327\n",
      "Epoch 58/70\n",
      "13096/13096 [==============================] - 1s 65us/step - loss: 0.1711 - accuracy: 0.9355 - val_loss: 0.1876 - val_accuracy: 0.9341\n",
      "Epoch 59/70\n",
      "13096/13096 [==============================] - 1s 65us/step - loss: 0.1697 - accuracy: 0.9355 - val_loss: 0.1897 - val_accuracy: 0.9341\n",
      "Epoch 60/70\n",
      "13096/13096 [==============================] - 1s 72us/step - loss: 0.1682 - accuracy: 0.9365 - val_loss: 0.1870 - val_accuracy: 0.9354\n",
      "Epoch 61/70\n",
      "13096/13096 [==============================] - 1s 63us/step - loss: 0.1673 - accuracy: 0.9372 - val_loss: 0.1851 - val_accuracy: 0.9348\n",
      "Epoch 62/70\n",
      "13096/13096 [==============================] - 1s 64us/step - loss: 0.1656 - accuracy: 0.9375 - val_loss: 0.1858 - val_accuracy: 0.9306\n",
      "Epoch 63/70\n",
      "13096/13096 [==============================] - 1s 63us/step - loss: 0.1652 - accuracy: 0.9383 - val_loss: 0.1831 - val_accuracy: 0.9313\n",
      "Epoch 64/70\n",
      "13096/13096 [==============================] - 1s 70us/step - loss: 0.1639 - accuracy: 0.9387 - val_loss: 0.1812 - val_accuracy: 0.9354\n",
      "Epoch 65/70\n",
      "13096/13096 [==============================] - 1s 62us/step - loss: 0.1627 - accuracy: 0.9382 - val_loss: 0.1824 - val_accuracy: 0.9348\n",
      "Epoch 66/70\n",
      "13096/13096 [==============================] - 1s 69us/step - loss: 0.1616 - accuracy: 0.9392 - val_loss: 0.1841 - val_accuracy: 0.9327\n",
      "Epoch 67/70\n",
      "13096/13096 [==============================] - 1s 63us/step - loss: 0.1609 - accuracy: 0.9397 - val_loss: 0.1833 - val_accuracy: 0.9334\n",
      "Epoch 68/70\n",
      "13096/13096 [==============================] - 1s 65us/step - loss: 0.1595 - accuracy: 0.9408 - val_loss: 0.1832 - val_accuracy: 0.9354\n",
      "Epoch 69/70\n",
      "13096/13096 [==============================] - 1s 65us/step - loss: 0.1584 - accuracy: 0.9416 - val_loss: 0.1812 - val_accuracy: 0.9348\n",
      "Epoch 70/70\n",
      "13096/13096 [==============================] - 1s 71us/step - loss: 0.1577 - accuracy: 0.9418 - val_loss: 0.1800 - val_accuracy: 0.9334\n"
     ]
    }
   ],
   "source": [
    "acc_training = model.fit(X_train, Y_train, validation_data=(X_test, Y_test), batch_size=16, \n",
    "                         epochs=70)"
   ]
  },
  {
   "cell_type": "markdown",
   "metadata": {},
   "source": [
    "# Perhitungan Akurasi"
   ]
  },
  {
   "cell_type": "code",
   "execution_count": 37,
   "metadata": {},
   "outputs": [
    {
     "name": "stdout",
     "output_type": "stream",
     "text": [
      "1456/1456 [==============================] - 0s 14us/step\n"
     ]
    },
    {
     "data": {
      "text/plain": [
       "[0.18004868638056976, 0.9333791136741638]"
      ]
     },
     "execution_count": 37,
     "metadata": {},
     "output_type": "execute_result"
    }
   ],
   "source": [
    "acc_testing  = model.evaluate(X_test, Y_test) \n",
    "acc_testing"
   ]
  },
  {
   "cell_type": "markdown",
   "metadata": {},
   "source": [
    "# Evaluasi Model dengan Melihat Plot\n",
    "\n",
    "Kasus : \n",
    "\n",
    "1. `Overfitting`\n",
    "=> Overfitting terjadi apabila hasil akurasi dari data testing itu **lebih rendah** daripada data training.\n",
    "\n",
    "2. `Underfitting`\n",
    "=> Underfitting terjadi apabila hasil akurasi dari data testing itu **lebih tinggi** daripada data training.\n",
    "\n",
    "3. `Fit`\n",
    "=> Fit apabila hasil akurasi dari data testing **tidak berbeda jauh** daripada data training. **Kasus yang inilah yang paling bagus**."
   ]
  },
  {
   "cell_type": "markdown",
   "metadata": {},
   "source": [
    "# Plot hasil akurasi training dan akurasi testing"
   ]
  },
  {
   "cell_type": "code",
   "execution_count": 38,
   "metadata": {},
   "outputs": [
    {
     "data": {
      "image/png": "[encoded data removed]",
      "text/plain": [
       "<Figure size 432x288 with 1 Axes>"
      ]
     },
     "metadata": {
      "needs_background": "light"
     },
     "output_type": "display_data"
    }
   ],
   "source": [
    "plt.plot(acc_training.history['accuracy'])\n",
    "plt.plot(acc_training.history['val_accuracy'])\n",
    "plt.title('model accuracy')\n",
    "plt.ylabel('Akurasi')\n",
    "plt.xlabel('Epoch')\n",
    "plt.legend(['Data Latih', 'Data Testing'], loc='upper left')\n",
    "plt.show()"
   ]
  },
  {
   "cell_type": "markdown",
   "metadata": {},
   "source": [
    "# Plot hasil Loss antara training dan testing"
   ]
  },
  {
   "cell_type": "code",
   "execution_count": 39,
   "metadata": {},
   "outputs": [
    {
     "data": {
      "image/png": "[encoded data removed]",
      "text/plain": [
       "<Figure size 432x288 with 1 Axes>"
      ]
     },
     "metadata": {
      "needs_background": "light"
     },
     "output_type": "display_data"
    }
   ],
   "source": [
    "plt.plot(acc_training.history['loss'])\n",
    "plt.plot(acc_training.history['val_loss'])\n",
    "plt.title('Model Loss')\n",
    "plt.ylabel('Loss')\n",
    "plt.xlabel('Epoch')\n",
    "plt.legend(['Data Latih', 'Data Testing'], loc='upper left')\n",
    "plt.show()"
   ]
  },
  {
   "attachments": {
    "image.png": {
     "image/png": "[encoded data removed]"
    }
   },
   "cell_type": "markdown",
   "metadata": {},
   "source": [
    "# Confusion Matrix\n",
    "    Confusion Matrix adalah sebuah tabel yang berisi 2 jenis nilai yaitu Nilai prediksi dan Nilai Dataset(nilai yang benar). Nilai tersebut dipecah menjadi 4 dan akan dibandingkan untuk mendapatkan informasi tentang performa model learning.\n",
    "    \n",
    "Misal : `0` ( positive ) dan `1` ( negative ).\n",
    "    1. True Positive = Mesin memprediksi positive dan benar\n",
    "    2. True Negative = Mesin memprediksi negative dan benar\n",
    "    3. False Positive = Mesin memprediksi Positive dan padahal negative \n",
    "    4. False Negative = Mesin memprediksi negative dan padahal positive\n",
    "\n",
    "Dibawah ini adalah Hasil Confusion Matrix Model ANN.\n",
    "![image.png](attachment:image.png)"
   ]
  },
  {
   "cell_type": "code",
   "execution_count": 40,
   "metadata": {},
   "outputs": [
    {
     "name": "stdout",
     "output_type": "stream",
     "text": [
      "Confussion matriks:\n",
      " [[ 354   47]\n",
      " [  50 1005]]\n"
     ]
    }
   ],
   "source": [
    "prediction = model.predict_classes(X_test)\n",
    "cm = confusion_matrix(Y_test, prediction)\n",
    "tp = cm[0,0]\n",
    "tn = cm[1,1]\n",
    "fp = cm[0,1]\n",
    "fn = cm[1,0]\n",
    "print (\"Confussion matriks:\\n\",cm)\n"
   ]
  },
  {
   "cell_type": "markdown",
   "metadata": {},
   "source": [
    "# Evaluasi Model dengan Confusion Matrix\n",
    "\n",
    "Pada Confusion matrik ada banyak penilaian yang bisa diambil untuk mengukur performa dari model learning. Namun yang sering dipakai adalah :\n",
    "\n",
    "1. `Akurasi` = Perbandingan Seberapa banyak model mengklasifikasi kelas yang benar dengan total kelas yang ada.\n",
    "\n",
    "        Akurasi = (TP+TN)/(TP+TN+FP+FN)\n",
    "\n",
    "2. `Recall` = Seberapa akurat mesin untuk mengklasifikasi kelas yang `positif`.\n",
    "\n",
    "        Recall = TP/(TP+FN)\n",
    "\n",
    "3. `Presisi` = Perbandingan prediksi kelas yang `positif yang benar` dengan semua prediksi kelas `positif`.\n",
    "\n",
    "        Presisi = TP/(TP+FP)\n",
    "        \n",
    "4. `F1` = Nilai rata-rata dari Recall dan Presisi \n",
    "        \n",
    "        F1 = (2*Presisi*recall) / (presisi+recall)\n",
    "\n"
   ]
  },
  {
   "attachments": {
    "image.png": {
     "image/png": "[encoded data removed]"
    }
   },
   "cell_type": "markdown",
   "metadata": {},
   "source": [
    "![image.png](attachment:image.png)"
   ]
  },
  {
   "cell_type": "code",
   "execution_count": 41,
   "metadata": {},
   "outputs": [
    {
     "name": "stdout",
     "output_type": "stream",
     "text": [
      "precesion :  88.2793017456359\n",
      "recall :  87.62376237623762\n",
      "F1 :  87.95031055900621\n",
      "akurasi :  93.33791208791209\n"
     ]
    }
   ],
   "source": [
    "precision = tp / ( tp + fp)\n",
    "recall = tp/(tp+fn)\n",
    "f1=(2*precision*recall)/ (precision+recall)\n",
    "akurasi = (tp+tn)/(tp+tn+fp+fn)\n",
    "\n",
    "\n",
    "print (\"precesion : \",precision*100)\n",
    "print(\"recall : \",recall*100)\n",
    "print (\"F1 : \",f1*100)\n",
    "print(\"akurasi : \",akurasi*100)"
   ]
  },
  {
   "cell_type": "code",
   "execution_count": 42,
   "metadata": {},
   "outputs": [
    {
     "name": "stdout",
     "output_type": "stream",
     "text": [
      "              precision    recall  f1-score   support\n",
      "\n",
      "         0.0       0.88      0.88      0.88       401\n",
      "         1.0       0.96      0.95      0.95      1055\n",
      "\n",
      "   micro avg       0.93      0.93      0.93      1456\n",
      "   macro avg       0.92      0.92      0.92      1456\n",
      "weighted avg       0.93      0.93      0.93      1456\n",
      "\n"
     ]
    }
   ],
   "source": [
    "print(classification_report(Y_test,prediction))"
   ]
  },
  {
   "cell_type": "markdown",
   "metadata": {},
   "source": [
    "# Referensi\n",
    "\n",
    "Dataset = https://www.kaggle.com/shayanfazeli/heartbeat\n",
    "\n",
    "Paper = Mohammad Kachuee, Shayan Fazeli, and Majid Sarrafzadeh. \"ECG Heartbeat Classification: A Deep Transferable Representation.\"https://arxiv.org/abs/1805.00794"
   ]
  },
  {
   "cell_type": "code",
   "execution_count": null,
   "metadata": {},
   "outputs": [],
   "source": []
  }
 ],
 "metadata": {
  "kernelspec": {
   "display_name": "Python 3",
   "language": "python",
   "name": "python3"
  },
  "language_info": {
   "codemirror_mode": {
    "name": "ipython",
    "version": 3
   },
   "file_extension": ".py",
   "mimetype": "text/x-python",
   "name": "python",
   "nbconvert_exporter": "python",
   "pygments_lexer": "ipython3",
   "version": "3.7.3"
  }
 },
 "nbformat": 4,
 "nbformat_minor": 2
}
