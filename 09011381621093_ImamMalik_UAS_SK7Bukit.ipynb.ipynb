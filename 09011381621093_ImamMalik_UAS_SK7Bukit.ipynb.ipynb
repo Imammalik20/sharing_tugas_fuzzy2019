{
 "cells": [
  {
   "cell_type": "markdown",
   "metadata": {},
   "source": [
    "UAS PRAKTIKUM AI \n",
    "\n",
    "Nama   : Imam Malik\n",
    "\n",
    "Kelas  : SK7 Bukit\n",
    "\n",
    "NIM    : 09011381621094"
   ]
  },
  {
   "cell_type": "code",
   "execution_count": 1,
   "metadata": {},
   "outputs": [
    {
     "name": "stderr",
     "output_type": "stream",
     "text": [
      "C:\\Users\\User\\Anaconda3\\lib\\site-packages\\h5py\\__init__.py:36: FutureWarning: Conversion of the second argument of issubdtype from `float` to `np.floating` is deprecated. In future, it will be treated as `np.float64 == np.dtype(float).type`.\n",
      "  from ._conv import register_converters as _register_converters\n",
      "Using TensorFlow backend.\n"
     ]
    }
   ],
   "source": [
    "from keras.models import Sequential\n",
    "from keras.layers import Dense\n",
    "from sklearn.model_selection import train_test_split\n",
    "import numpy\n",
    "from sklearn.preprocessing import MinMaxScaler\n",
    "scaler= MinMaxScaler()\n",
    "\n",
    "numpy.random.seed(8)"
   ]
  },
  {
   "cell_type": "markdown",
   "metadata": {},
   "source": [
    "Memanggil Fungsi atau kelas.\n",
    "\n",
    "berikut adalah Daftar Modul yang digunakan :\n",
    "\n",
    "      1. Numpy = Modul ini berfungsi untuk melakukan beberapa fungsi matematika seperti array, dan matriks. Pada program \n",
    "                 ini numpy digunakan untuk generate array untuk membuat grafik confusion matriks.\n",
    "\n",
    "      2. Keras = Modul ini digunakan untuk membuat, menambah, dan mengevaluasi model neural network.\n",
    "\n",
    "      3. Sklearn = Modul ini adalah salah satu modul utama yang digunakan untuk mengolah data Machine Learning seperti  \n",
    "                   preprocessing, dan lainnya.\n"
   ]
  },
  {
   "cell_type": "code",
   "execution_count": 2,
   "metadata": {},
   "outputs": [],
   "source": [
    "# load pima indians dataset\n",
    "dataset = numpy.loadtxt(\"E:/DataSets/diabetes1.csv\", delimiter=\",\")\n",
    "# split into input (X) and output (Y) variables\n",
    "X = dataset[:,0:8]\n",
    "Y = dataset[:,8]"
   ]
  },
  {
   "cell_type": "markdown",
   "metadata": {},
   "source": [
    "Kode di atas digunakan untuk load dataset dengan nama \"hepatitis.csv\"\n",
    "\n",
    "dataset digunakan untuk inisialisasi saat pembacaan data.\n",
    "\n",
    "X = dataset[:,0:8] : adalah inisialisasi saat pembacaan data array untuk kolom x yang berisi 8 kolom.\n",
    "\n",
    "Y = dataset[:,8] :adalah inisialisasi saat pembacaan data array untuk kolom y.\n",
    "\n",
    "X adalah nilai input, Y adalah nilai output."
   ]
  },
  {
   "cell_type": "code",
   "execution_count": 3,
   "metadata": {},
   "outputs": [
    {
     "data": {
      "text/plain": [
       "array([[  6.   , 148.   ,  72.   , ...,   0.627,  50.   ,   1.   ],\n",
       "       [  1.   ,  85.   ,  66.   , ...,   0.351,  31.   ,   0.   ],\n",
       "       [  8.   , 183.   ,  64.   , ...,   0.672,  32.   ,   1.   ],\n",
       "       ...,\n",
       "       [  5.   , 121.   ,  72.   , ...,   0.245,  30.   ,   0.   ],\n",
       "       [  1.   , 126.   ,  60.   , ...,   0.349,  47.   ,   1.   ],\n",
       "       [  1.   ,  93.   ,  70.   , ...,   0.315,  23.   ,   0.   ]])"
      ]
     },
     "execution_count": 3,
     "metadata": {},
     "output_type": "execute_result"
    }
   ],
   "source": [
    "dataset"
   ]
  },
  {
   "cell_type": "code",
   "execution_count": 4,
   "metadata": {},
   "outputs": [
    {
     "data": {
      "text/plain": [
       "(768, 8)"
      ]
     },
     "execution_count": 4,
     "metadata": {},
     "output_type": "execute_result"
    }
   ],
   "source": [
    "X_scaled=scaler.fit_transform(X)\n",
    "X_scaled.shape"
   ]
  },
  {
   "cell_type": "markdown",
   "metadata": {},
   "source": [
    "x_scaled  = scaler.fit_transform(X) : Fungsinya memilah kembali data x untuk di proses pada y_categorical"
   ]
  },
  {
   "cell_type": "code",
   "execution_count": 5,
   "metadata": {},
   "outputs": [],
   "source": [
    "from keras.utils.np_utils import to_categorical\n",
    "label_categorical=to_categorical(Y)"
   ]
  },
  {
   "cell_type": "code",
   "execution_count": 6,
   "metadata": {},
   "outputs": [
    {
     "data": {
      "text/plain": [
       "(768, 2)"
      ]
     },
     "execution_count": 6,
     "metadata": {},
     "output_type": "execute_result"
    }
   ],
   "source": [
    "label_categorical.shape"
   ]
  },
  {
   "cell_type": "markdown",
   "metadata": {},
   "source": [
    "Nilai label berisi 768 variabel dan ada 2 klasifikasi"
   ]
  },
  {
   "cell_type": "code",
   "execution_count": 7,
   "metadata": {},
   "outputs": [],
   "source": [
    "# create model\n",
    "model = Sequential()\n",
    "model.add(Dense(12, input_dim=8, activation='relu'))\n",
    "model.add(Dense(12, activation='relu'))\n",
    "model.add(Dense(12, activation='relu'))\n",
    "model.add(Dense(12, activation='relu'))\n",
    "model.add(Dense(12, activation='relu'))\n",
    "model.add(Dense(12, activation='relu'))\n",
    "model.add(Dense(12, activation='relu'))\n",
    "model.add(Dense(2, activation='softmax'))"
   ]
  },
  {
   "cell_type": "markdown",
   "metadata": {},
   "source": [
    "Memasukkan layer network ke dalam model dan relu adalah fungsi aktivasi yang di gunakan pada layer ini.\n",
    "softmax Merupakan fungsi lapisan jaringan saraf yang digunakan pada layer ini.\n",
    "\n",
    "     * Dense 12 = Neural Network pada layer pertama terdiri dari 12 not.\n",
    "\n",
    "     * Relu = Merupakan fungsi aktivasi yang digunakan pada layer ini.\n",
    "\n",
    "     * Input dim 8 = Berdasarkan dataset yang dipakai, terdiri dari 9 kategori. 8 kategori input, dan 1 kategori output.\n",
    "     \n",
    "     * softmax Merupakan fungsi output lapisan jaringan saraf yang digunakan pada layer ini."
   ]
  },
  {
   "cell_type": "code",
   "execution_count": 10,
   "metadata": {},
   "outputs": [],
   "source": [
    "model.compile(loss='categorical_crossentropy', optimizer='adam', metrics=['accuracy'])"
   ]
  },
  {
   "cell_type": "code",
   "execution_count": 11,
   "metadata": {},
   "outputs": [
    {
     "name": "stdout",
     "output_type": "stream",
     "text": [
      "Train on 514 samples, validate on 254 samples\n",
      "Epoch 1/100\n",
      "514/514 [==============================] - 0s 864us/step - loss: 0.6804 - acc: 0.6284 - val_loss: 0.6534 - val_acc: 0.6732\n",
      "Epoch 2/100\n",
      "514/514 [==============================] - 0s 116us/step - loss: 0.6524 - acc: 0.6401 - val_loss: 0.6221 - val_acc: 0.6732\n",
      "Epoch 3/100\n",
      "514/514 [==============================] - 0s 140us/step - loss: 0.6336 - acc: 0.6401 - val_loss: 0.5886 - val_acc: 0.6732\n",
      "Epoch 4/100\n",
      "514/514 [==============================] - 0s 149us/step - loss: 0.6137 - acc: 0.6401 - val_loss: 0.5613 - val_acc: 0.6732\n",
      "Epoch 5/100\n",
      "514/514 [==============================] - 0s 118us/step - loss: 0.5835 - acc: 0.6868 - val_loss: 0.5385 - val_acc: 0.6850\n",
      "Epoch 6/100\n",
      "514/514 [==============================] - 0s 134us/step - loss: 0.5679 - acc: 0.7237 - val_loss: 0.5057 - val_acc: 0.7520\n",
      "Epoch 7/100\n",
      "514/514 [==============================] - 0s 138us/step - loss: 0.5532 - acc: 0.7121 - val_loss: 0.4812 - val_acc: 0.8110\n",
      "Epoch 8/100\n",
      "514/514 [==============================] - 0s 144us/step - loss: 0.5344 - acc: 0.7374 - val_loss: 0.4541 - val_acc: 0.8228\n",
      "Epoch 9/100\n",
      "514/514 [==============================] - 0s 138us/step - loss: 0.5454 - acc: 0.7354 - val_loss: 0.4791 - val_acc: 0.7953\n",
      "Epoch 10/100\n",
      "514/514 [==============================] - 0s 147us/step - loss: 0.5264 - acc: 0.7393 - val_loss: 0.4459 - val_acc: 0.7874\n",
      "Epoch 11/100\n",
      "514/514 [==============================] - 0s 155us/step - loss: 0.5443 - acc: 0.7043 - val_loss: 0.4596 - val_acc: 0.7677\n",
      "Epoch 12/100\n",
      "514/514 [==============================] - 0s 147us/step - loss: 0.5134 - acc: 0.7588 - val_loss: 0.4387 - val_acc: 0.8228\n",
      "Epoch 13/100\n",
      "514/514 [==============================] - 0s 142us/step - loss: 0.4952 - acc: 0.7607 - val_loss: 0.4262 - val_acc: 0.8307\n",
      "Epoch 14/100\n",
      "514/514 [==============================] - 0s 144us/step - loss: 0.4998 - acc: 0.7626 - val_loss: 0.4483 - val_acc: 0.8110\n",
      "Epoch 15/100\n",
      "514/514 [==============================] - 0s 151us/step - loss: 0.4929 - acc: 0.7549 - val_loss: 0.4965 - val_acc: 0.7598\n",
      "Epoch 16/100\n",
      "514/514 [==============================] - 0s 132us/step - loss: 0.4944 - acc: 0.7588 - val_loss: 0.4234 - val_acc: 0.8228\n",
      "Epoch 17/100\n",
      "514/514 [==============================] - 0s 151us/step - loss: 0.4815 - acc: 0.7568 - val_loss: 0.4190 - val_acc: 0.8228\n",
      "Epoch 18/100\n",
      "514/514 [==============================] - 0s 146us/step - loss: 0.4850 - acc: 0.7588 - val_loss: 0.4215 - val_acc: 0.8031\n",
      "Epoch 19/100\n",
      "514/514 [==============================] - 0s 153us/step - loss: 0.4910 - acc: 0.7529 - val_loss: 0.4378 - val_acc: 0.8110\n",
      "Epoch 20/100\n",
      "514/514 [==============================] - 0s 151us/step - loss: 0.4792 - acc: 0.7588 - val_loss: 0.4135 - val_acc: 0.8189\n",
      "Epoch 21/100\n",
      "514/514 [==============================] - 0s 161us/step - loss: 0.4679 - acc: 0.7782 - val_loss: 0.4588 - val_acc: 0.7520\n",
      "Epoch 22/100\n",
      "514/514 [==============================] - 0s 147us/step - loss: 0.4850 - acc: 0.7685 - val_loss: 0.4103 - val_acc: 0.8150\n",
      "Epoch 23/100\n",
      "514/514 [==============================] - 0s 126us/step - loss: 0.4736 - acc: 0.7743 - val_loss: 0.4078 - val_acc: 0.8228\n",
      "Epoch 24/100\n",
      "514/514 [==============================] - 0s 113us/step - loss: 0.4721 - acc: 0.7607 - val_loss: 0.4153 - val_acc: 0.8150\n",
      "Epoch 25/100\n",
      "514/514 [==============================] - 0s 122us/step - loss: 0.4634 - acc: 0.7763 - val_loss: 0.4151 - val_acc: 0.8150\n",
      "Epoch 26/100\n",
      "514/514 [==============================] - 0s 149us/step - loss: 0.4645 - acc: 0.7821 - val_loss: 0.4060 - val_acc: 0.8110\n",
      "Epoch 27/100\n",
      "514/514 [==============================] - 0s 151us/step - loss: 0.4658 - acc: 0.7646 - val_loss: 0.4087 - val_acc: 0.8150\n",
      "Epoch 28/100\n",
      "514/514 [==============================] - 0s 126us/step - loss: 0.4604 - acc: 0.7782 - val_loss: 0.4196 - val_acc: 0.7913\n",
      "Epoch 29/100\n",
      "514/514 [==============================] - 0s 157us/step - loss: 0.4600 - acc: 0.7821 - val_loss: 0.4217 - val_acc: 0.8150\n",
      "Epoch 30/100\n",
      "514/514 [==============================] - 0s 144us/step - loss: 0.4627 - acc: 0.7821 - val_loss: 0.4083 - val_acc: 0.8268\n",
      "Epoch 31/100\n",
      "514/514 [==============================] - 0s 173us/step - loss: 0.4511 - acc: 0.7879 - val_loss: 0.4206 - val_acc: 0.8031\n",
      "Epoch 32/100\n",
      "514/514 [==============================] - 0s 142us/step - loss: 0.4600 - acc: 0.7743 - val_loss: 0.4064 - val_acc: 0.8150\n",
      "Epoch 33/100\n",
      "514/514 [==============================] - 0s 149us/step - loss: 0.4562 - acc: 0.7879 - val_loss: 0.4153 - val_acc: 0.8110\n",
      "Epoch 34/100\n",
      "514/514 [==============================] - 0s 142us/step - loss: 0.4824 - acc: 0.7626 - val_loss: 0.4095 - val_acc: 0.8189\n",
      "Epoch 35/100\n",
      "514/514 [==============================] - 0s 146us/step - loss: 0.4643 - acc: 0.7840 - val_loss: 0.4280 - val_acc: 0.7992\n",
      "Epoch 36/100\n",
      "514/514 [==============================] - 0s 169us/step - loss: 0.4509 - acc: 0.7763 - val_loss: 0.4128 - val_acc: 0.8110\n",
      "Epoch 37/100\n",
      "514/514 [==============================] - 0s 159us/step - loss: 0.4541 - acc: 0.7840 - val_loss: 0.4053 - val_acc: 0.8189\n",
      "Epoch 38/100\n",
      "514/514 [==============================] - 0s 142us/step - loss: 0.4435 - acc: 0.7938 - val_loss: 0.4091 - val_acc: 0.8110\n",
      "Epoch 39/100\n",
      "514/514 [==============================] - 0s 175us/step - loss: 0.4463 - acc: 0.7802 - val_loss: 0.4408 - val_acc: 0.7874\n",
      "Epoch 40/100\n",
      "514/514 [==============================] - 0s 147us/step - loss: 0.4605 - acc: 0.7860 - val_loss: 0.4067 - val_acc: 0.8110\n",
      "Epoch 41/100\n",
      "514/514 [==============================] - 0s 149us/step - loss: 0.4514 - acc: 0.7879 - val_loss: 0.4025 - val_acc: 0.8307\n",
      "Epoch 42/100\n",
      "514/514 [==============================] - 0s 151us/step - loss: 0.4492 - acc: 0.7840 - val_loss: 0.4021 - val_acc: 0.8150\n",
      "Epoch 43/100\n",
      "514/514 [==============================] - 0s 175us/step - loss: 0.4683 - acc: 0.7724 - val_loss: 0.4086 - val_acc: 0.8110\n",
      "Epoch 44/100\n",
      "514/514 [==============================] - 0s 153us/step - loss: 0.4400 - acc: 0.7996 - val_loss: 0.4051 - val_acc: 0.8150\n",
      "Epoch 45/100\n",
      "514/514 [==============================] - 0s 147us/step - loss: 0.4485 - acc: 0.7763 - val_loss: 0.4255 - val_acc: 0.8071\n",
      "Epoch 46/100\n",
      "514/514 [==============================] - 0s 153us/step - loss: 0.4513 - acc: 0.7821 - val_loss: 0.4211 - val_acc: 0.8110\n",
      "Epoch 47/100\n",
      "514/514 [==============================] - 0s 165us/step - loss: 0.4468 - acc: 0.7840 - val_loss: 0.4372 - val_acc: 0.8031\n",
      "Epoch 48/100\n",
      "514/514 [==============================] - 0s 206us/step - loss: 0.4468 - acc: 0.7763 - val_loss: 0.4141 - val_acc: 0.8031\n",
      "Epoch 49/100\n",
      "514/514 [==============================] - 0s 196us/step - loss: 0.4390 - acc: 0.7879 - val_loss: 0.4039 - val_acc: 0.8189\n",
      "Epoch 50/100\n",
      "514/514 [==============================] - 0s 196us/step - loss: 0.4522 - acc: 0.7918 - val_loss: 0.4123 - val_acc: 0.8071\n",
      "Epoch 51/100\n",
      "514/514 [==============================] - 0s 202us/step - loss: 0.4346 - acc: 0.7996 - val_loss: 0.4220 - val_acc: 0.8071\n",
      "Epoch 52/100\n",
      "514/514 [==============================] - 0s 227us/step - loss: 0.4477 - acc: 0.7879 - val_loss: 0.4153 - val_acc: 0.8031\n",
      "Epoch 53/100\n",
      "514/514 [==============================] - 0s 173us/step - loss: 0.4479 - acc: 0.7782 - val_loss: 0.4119 - val_acc: 0.7953\n",
      "Epoch 54/100\n",
      "514/514 [==============================] - 0s 167us/step - loss: 0.4378 - acc: 0.7899 - val_loss: 0.4055 - val_acc: 0.8228\n",
      "Epoch 55/100\n",
      "514/514 [==============================] - 0s 155us/step - loss: 0.4453 - acc: 0.7860 - val_loss: 0.4185 - val_acc: 0.8150\n",
      "Epoch 56/100\n",
      "514/514 [==============================] - 0s 147us/step - loss: 0.4460 - acc: 0.7938 - val_loss: 0.4107 - val_acc: 0.7992\n",
      "Epoch 57/100\n",
      "514/514 [==============================] - 0s 118us/step - loss: 0.4395 - acc: 0.7879 - val_loss: 0.4095 - val_acc: 0.8110\n",
      "Epoch 58/100\n",
      "514/514 [==============================] - 0s 153us/step - loss: 0.4448 - acc: 0.7860 - val_loss: 0.4108 - val_acc: 0.8228\n",
      "Epoch 59/100\n",
      "514/514 [==============================] - 0s 153us/step - loss: 0.4284 - acc: 0.7918 - val_loss: 0.4361 - val_acc: 0.7953\n",
      "Epoch 60/100\n",
      "514/514 [==============================] - 0s 147us/step - loss: 0.4336 - acc: 0.7938 - val_loss: 0.4189 - val_acc: 0.8031\n"
     ]
    },
    {
     "name": "stdout",
     "output_type": "stream",
     "text": [
      "Epoch 61/100\n",
      "514/514 [==============================] - 0s 184us/step - loss: 0.4243 - acc: 0.7938 - val_loss: 0.4142 - val_acc: 0.8071\n",
      "Epoch 62/100\n",
      "514/514 [==============================] - 0s 188us/step - loss: 0.4371 - acc: 0.7879 - val_loss: 0.4092 - val_acc: 0.8189\n",
      "Epoch 63/100\n",
      "514/514 [==============================] - 0s 186us/step - loss: 0.4424 - acc: 0.7996 - val_loss: 0.4414 - val_acc: 0.8071\n",
      "Epoch 64/100\n",
      "514/514 [==============================] - 0s 169us/step - loss: 0.4399 - acc: 0.8016 - val_loss: 0.4179 - val_acc: 0.7913\n",
      "Epoch 65/100\n",
      "514/514 [==============================] - 0s 159us/step - loss: 0.4357 - acc: 0.7957 - val_loss: 0.4093 - val_acc: 0.8228\n",
      "Epoch 66/100\n",
      "514/514 [==============================] - 0s 194us/step - loss: 0.4293 - acc: 0.7918 - val_loss: 0.4201 - val_acc: 0.7992\n",
      "Epoch 67/100\n",
      "514/514 [==============================] - 0s 179us/step - loss: 0.4298 - acc: 0.7938 - val_loss: 0.4161 - val_acc: 0.8031\n",
      "Epoch 68/100\n",
      "514/514 [==============================] - 0s 153us/step - loss: 0.4294 - acc: 0.7918 - val_loss: 0.4212 - val_acc: 0.8150\n",
      "Epoch 69/100\n",
      "514/514 [==============================] - 0s 149us/step - loss: 0.4290 - acc: 0.8035 - val_loss: 0.4161 - val_acc: 0.8031\n",
      "Epoch 70/100\n",
      "514/514 [==============================] - 0s 144us/step - loss: 0.4196 - acc: 0.7996 - val_loss: 0.4471 - val_acc: 0.8031\n",
      "Epoch 71/100\n",
      "514/514 [==============================] - 0s 146us/step - loss: 0.4423 - acc: 0.7996 - val_loss: 0.4238 - val_acc: 0.8110\n",
      "Epoch 72/100\n",
      "514/514 [==============================] - 0s 177us/step - loss: 0.4226 - acc: 0.7977 - val_loss: 0.4125 - val_acc: 0.8150\n",
      "Epoch 73/100\n",
      "514/514 [==============================] - 0s 161us/step - loss: 0.4331 - acc: 0.7899 - val_loss: 0.4217 - val_acc: 0.8110\n",
      "Epoch 74/100\n",
      "514/514 [==============================] - 0s 144us/step - loss: 0.4243 - acc: 0.7977 - val_loss: 0.4143 - val_acc: 0.8150\n",
      "Epoch 75/100\n",
      "514/514 [==============================] - 0s 142us/step - loss: 0.4184 - acc: 0.7957 - val_loss: 0.4121 - val_acc: 0.8071\n",
      "Epoch 76/100\n",
      "514/514 [==============================] - 0s 149us/step - loss: 0.4301 - acc: 0.8016 - val_loss: 0.4283 - val_acc: 0.7953\n",
      "Epoch 77/100\n",
      "514/514 [==============================] - 0s 147us/step - loss: 0.4182 - acc: 0.8035 - val_loss: 0.4224 - val_acc: 0.8071\n",
      "Epoch 78/100\n",
      "514/514 [==============================] - 0s 260us/step - loss: 0.4148 - acc: 0.7977 - val_loss: 0.4209 - val_acc: 0.8189\n",
      "Epoch 79/100\n",
      "514/514 [==============================] - 0s 192us/step - loss: 0.4295 - acc: 0.8054 - val_loss: 0.4632 - val_acc: 0.7874\n",
      "Epoch 80/100\n",
      "514/514 [==============================] - 0s 151us/step - loss: 0.4338 - acc: 0.8054 - val_loss: 0.4261 - val_acc: 0.8071\n",
      "Epoch 81/100\n",
      "514/514 [==============================] - 0s 113us/step - loss: 0.4288 - acc: 0.7977 - val_loss: 0.4551 - val_acc: 0.7992\n",
      "Epoch 82/100\n",
      "514/514 [==============================] - 0s 105us/step - loss: 0.4106 - acc: 0.7996 - val_loss: 0.4170 - val_acc: 0.8150\n",
      "Epoch 83/100\n",
      "514/514 [==============================] - 0s 109us/step - loss: 0.4089 - acc: 0.8113 - val_loss: 0.4375 - val_acc: 0.8110\n",
      "Epoch 84/100\n",
      "514/514 [==============================] - 0s 109us/step - loss: 0.4278 - acc: 0.7899 - val_loss: 0.4275 - val_acc: 0.8031\n",
      "Epoch 85/100\n",
      "514/514 [==============================] - 0s 113us/step - loss: 0.4111 - acc: 0.8074 - val_loss: 0.4315 - val_acc: 0.7953\n",
      "Epoch 86/100\n",
      "514/514 [==============================] - 0s 111us/step - loss: 0.4068 - acc: 0.8113 - val_loss: 0.4435 - val_acc: 0.8071\n",
      "Epoch 87/100\n",
      "514/514 [==============================] - 0s 114us/step - loss: 0.4301 - acc: 0.7802 - val_loss: 0.4629 - val_acc: 0.8031\n",
      "Epoch 88/100\n",
      "514/514 [==============================] - 0s 113us/step - loss: 0.4169 - acc: 0.7977 - val_loss: 0.4739 - val_acc: 0.7756\n",
      "Epoch 89/100\n",
      "514/514 [==============================] - 0s 114us/step - loss: 0.4199 - acc: 0.8016 - val_loss: 0.4230 - val_acc: 0.8150\n",
      "Epoch 90/100\n",
      "514/514 [==============================] - 0s 126us/step - loss: 0.4029 - acc: 0.8113 - val_loss: 0.4591 - val_acc: 0.8031\n",
      "Epoch 91/100\n",
      "514/514 [==============================] - 0s 113us/step - loss: 0.4310 - acc: 0.7977 - val_loss: 0.4194 - val_acc: 0.8110\n",
      "Epoch 92/100\n",
      "514/514 [==============================] - 0s 126us/step - loss: 0.4094 - acc: 0.8054 - val_loss: 0.4258 - val_acc: 0.8071\n",
      "Epoch 93/100\n",
      "514/514 [==============================] - 0s 114us/step - loss: 0.4051 - acc: 0.8093 - val_loss: 0.4377 - val_acc: 0.8228\n",
      "Epoch 94/100\n",
      "514/514 [==============================] - 0s 107us/step - loss: 0.4129 - acc: 0.7957 - val_loss: 0.4226 - val_acc: 0.7992\n",
      "Epoch 95/100\n",
      "514/514 [==============================] - 0s 114us/step - loss: 0.4063 - acc: 0.8016 - val_loss: 0.4291 - val_acc: 0.8150\n",
      "Epoch 96/100\n",
      "514/514 [==============================] - 0s 132us/step - loss: 0.4162 - acc: 0.8093 - val_loss: 0.4298 - val_acc: 0.8189\n",
      "Epoch 97/100\n",
      "514/514 [==============================] - 0s 132us/step - loss: 0.4099 - acc: 0.8113 - val_loss: 0.4363 - val_acc: 0.8268\n",
      "Epoch 98/100\n",
      "514/514 [==============================] - 0s 134us/step - loss: 0.4135 - acc: 0.7938 - val_loss: 0.4317 - val_acc: 0.7913\n",
      "Epoch 99/100\n",
      "514/514 [==============================] - 0s 116us/step - loss: 0.4030 - acc: 0.8054 - val_loss: 0.4255 - val_acc: 0.8031\n",
      "Epoch 100/100\n",
      "514/514 [==============================] - 0s 105us/step - loss: 0.3968 - acc: 0.8132 - val_loss: 0.4400 - val_acc: 0.7953\n"
     ]
    }
   ],
   "source": [
    "# Fit the model\n",
    "history=model.fit(X_scaled, label_categorical, validation_split=0.33, epochs=100, batch_size=10)"
   ]
  },
  {
   "cell_type": "code",
   "execution_count": 12,
   "metadata": {},
   "outputs": [],
   "source": [
    "predict = model.predict(X_scaled)"
   ]
  },
  {
   "cell_type": "markdown",
   "metadata": {},
   "source": [
    "Pehitungan input menjadi array numpy"
   ]
  },
  {
   "cell_type": "code",
   "execution_count": 13,
   "metadata": {},
   "outputs": [
    {
     "data": {
      "text/plain": [
       "array([[0.6681027 , 0.33189726],\n",
       "       [0.96339494, 0.03660515],\n",
       "       [0.12359454, 0.8764055 ],\n",
       "       ...,\n",
       "       [0.8750413 , 0.12495872],\n",
       "       [0.7561758 , 0.2438241 ],\n",
       "       [0.96633196, 0.03366804]], dtype=float32)"
      ]
     },
     "execution_count": 13,
     "metadata": {},
     "output_type": "execute_result"
    }
   ],
   "source": [
    "predict"
   ]
  },
  {
   "cell_type": "code",
   "execution_count": 14,
   "metadata": {},
   "outputs": [
    {
     "name": "stdout",
     "output_type": "stream",
     "text": [
      "768/768 [==============================] - 0s 18us/step\n",
      "\n",
      "acc: 80.99%\n"
     ]
    }
   ],
   "source": [
    "scores = model.evaluate(X_scaled, label_categorical)\n",
    "print(\"\\n%s: %.2f%%\" % (model.metrics_names[1], scores[1]*100))"
   ]
  },
  {
   "cell_type": "markdown",
   "metadata": {},
   "source": [
    "berikut ini adalah langkah-langkah untuk menampilkan grafik dari training dan testing akurasi serta training dan testing loss"
   ]
  },
  {
   "cell_type": "code",
   "execution_count": 18,
   "metadata": {},
   "outputs": [
    {
     "data": {
      "image/png": "[encoded data removed]",
      "text/plain": [
       "<Figure size 432x288 with 1 Axes>"
      ]
     },
     "metadata": {},
     "output_type": "display_data"
    }
   ],
   "source": [
    "import matplotlib.pyplot as plt\n",
    "\n",
    "plt.plot(history.history['acc'])\n",
    "plt.plot(history.history['val_acc'])\n",
    "plt.title('model accuracy')\n",
    "plt.ylabel('accuracy')\n",
    "plt.xlabel('epoch')\n",
    "plt.legend(['train', 'test'], loc='upper left')\n",
    "plt.show()"
   ]
  },
  {
   "cell_type": "code",
   "execution_count": 19,
   "metadata": {},
   "outputs": [
    {
     "name": "stdout",
     "output_type": "stream",
     "text": [
      "dict_keys(['val_loss', 'val_acc', 'loss', 'acc'])\n"
     ]
    }
   ],
   "source": [
    "print(history.history.keys())"
   ]
  },
  {
   "cell_type": "code",
   "execution_count": 20,
   "metadata": {},
   "outputs": [
    {
     "data": {
      "image/png": "[encoded data removed]",
      "text/plain": [
       "<Figure size 432x288 with 1 Axes>"
      ]
     },
     "metadata": {},
     "output_type": "display_data"
    }
   ],
   "source": [
    "# summarize history for loss\n",
    "plt.plot(history.history['loss'])\n",
    "plt.plot(history.history['val_loss'])\n",
    "plt.title('model loss')\n",
    "plt.ylabel('loss')\n",
    "plt.xlabel('epoch')\n",
    "plt.legend(['train', 'test'], loc='upper left')\n",
    "plt.show()"
   ]
  },
  {
   "cell_type": "code",
   "execution_count": 21,
   "metadata": {},
   "outputs": [],
   "source": [
    "from sklearn.metrics import confusion_matrix\n",
    "cm=confusion_matrix(label_categorical.argmax(axis=1),predict.argmax(axis=1))"
   ]
  },
  {
   "cell_type": "code",
   "execution_count": 22,
   "metadata": {},
   "outputs": [
    {
     "data": {
      "text/plain": [
       "array([[454,  46],\n",
       "       [100, 168]], dtype=int64)"
      ]
     },
     "execution_count": 22,
     "metadata": {},
     "output_type": "execute_result"
    }
   ],
   "source": [
    "cm"
   ]
  },
  {
   "cell_type": "markdown",
   "metadata": {},
   "source": [
    "Confusion matrix = Untuk melakukan perhitungan akurasi pada konsep data mining."
   ]
  },
  {
   "cell_type": "code",
   "execution_count": 24,
   "metadata": {},
   "outputs": [
    {
     "data": {
      "text/plain": [
       "80.98958333333334"
      ]
     },
     "execution_count": 24,
     "metadata": {},
     "output_type": "execute_result"
    }
   ],
   "source": [
    "akurasi=((454+168)/(454+46+100+168))*100\n",
    "akurasi"
   ]
  }
 ],
 "metadata": {
  "kernelspec": {
   "display_name": "Python 3",
   "language": "python",
   "name": "python3"
  },
  "language_info": {
   "codemirror_mode": {
    "name": "ipython",
    "version": 3
   },
   "file_extension": ".py",
   "mimetype": "text/x-python",
   "name": "python",
   "nbconvert_exporter": "python",
   "pygments_lexer": "ipython3",
   "version": "3.6.5"
  }
 },
 "nbformat": 4,
 "nbformat_minor": 2
}
