{
 "cells": [
  {
   "cell_type": "markdown",
   "metadata": {},
   "source": [
    "Cryotheraphy atau Cryosurgery pada kanker dimulai di Inggris pada 1850-an. Dokter yang pertama menggunakannya adalah James Arnott. Ia menggunakan larutan garam yang mengandung es-es yang dihancurkan untuk mengobati kanker lanjut di tempat-tempat yang mudah dijangkau. Temuan Arnott yang membekukan sel-sel kanker itu sampai suhu -18 derajat Celsius sampai -24 derajat Celsius, terbukti dapat memperpanjang umur pasien bahkan punya kemungkinan sembuh. Seperempat abad kemudian, teknologi pencairan gas-gas di atmosfer dikembangkan. Oksigen adalah gas pertama yang dicairkan dalam kuantitas sedikit, sampai ilmuan Inggris James Dewar mengembangkan tabung vakum sebagai wadah gas cair pada 1982. Temuan-temuan itu akhirnya membantu Cryo jadi teknik pengobatan yang makin sempurna. Gas-gas cair itu punya titik beku yang lebih tinggi ketimbang garam yang digunakan Arnott pertama kali. Membuat Cryo akhirnya bisa benar-benar membekukan sel-sel kanker itu sampai titik -196 derajat Celsius, ketika menggunakan nitrogen.\n",
    "\n",
    "Penelitian-penelitian terus dilakukan untuk mengembangkan Cryo. Ia bahkan sempat terkenal sebagai teknik Cryogen, ketika pertama kali berhasil dikombinasikan dengan gas-gas cair itu. Cryo kembali ditengok ketika kekurangan-kekurangan metode ini kembali diperbaiki para ilmuan. Salah satunya dengan menggabungkan Cryo dengan teknologi Ultrasound. Menurut cancer.gov, situs kesehatan khusus kanker di Amerika Serikat, penggunaan Cryo paling efektif terjadi pada retinoblastoma, kanker-kanker di tahap awal (terutama prostat), dan artinic keratosis, semacam daging tumbuh yang diindikasikan sebagai tumor jinak. Namun, sejumlah ilmuan mengembangkan Cryo pada jenis kanker lainnya, seperti kanker payudara, kanker ginjal, kanker usus, kanker kulit, dan lainnya."
   ]
  },
  {
   "cell_type": "markdown",
   "metadata": {},
   "source": [
    "# Proses Machine Learning"
   ]
  },
  {
   "attachments": {
    "Untitled%20Diagram.png": {
     "image/png": "[encoded data removed]"
    }
   },
   "cell_type": "markdown",
   "metadata": {},
   "source": [
    "![Untitled%20Diagram.png](attachment:Untitled%20Diagram.png)"
   ]
  },
  {
   "cell_type": "markdown",
   "metadata": {},
   "source": [
    "# Dataset"
   ]
  },
  {
   "cell_type": "markdown",
   "metadata": {},
   "source": [
    "Berdasarkan Data Cryotherapy dapat diketahui bahwa terdapat 90 data yang menjelaskan tentang hasil perawatan kutil. Dalam data ini terdapat 7 variabel yaitu Sex , Age , Time , Number of Warts , Type , Area dan Result of Treatment. Detail data Cryotherapy yaitu:\n",
    "\n",
    "1. Sex: \n",
    "    - 1= laki-laki(47 orang)\n",
    "    - 2= wanita(43 orang)\n",
    "2. Age(tahun)= 15-67 tahun\n",
    "3. Time elapsed before treatment(bulan)= 0-12 bulan\n",
    "4. Number of warts= 1-12\n",
    "5. Types of wart: \n",
    "    - 1= kutil biasa(54 buah)\n",
    "    - 2= kutil plantar(9 buah)\n",
    "    - 3= keduanya(27 buah)\n",
    "6. Surface area of the warts($mm^2$)= 4-750\n",
    "7. Result of Treatment: \n",
    "    - 1= sembuh\n",
    "    - 0= tidak sembuh\n",
    "        \n",
    "Dataset ini merupakan hasil penelitian yang dipublikasikan dengan judul Paper **An expert system for selecting wart treatment method**\n",
    "\n",
    "Dataset ini bisa diakses lewat link:\n",
    "https://archive.ics.uci.edu/ml/datasets/Cryotherapy+Dataset+\n",
    "\n",
    "Dataset ini tidak diperlukan proses pre processing. Dataset ini sudah sangat baik untuk diproses."
   ]
  },
  {
   "cell_type": "markdown",
   "metadata": {},
   "source": [
    "#### Import library untuk dataset"
   ]
  },
  {
   "cell_type": "code",
   "execution_count": 1,
   "metadata": {
    "scrolled": true
   },
   "outputs": [
    {
     "data": {
      "text/html": [
       "<div>\n",
       "<style scoped>\n",
       "    .dataframe tbody tr th:only-of-type {\n",
       "        vertical-align: middle;\n",
       "    }\n",
       "\n",
       "    .dataframe tbody tr th {\n",
       "        vertical-align: top;\n",
       "    }\n",
       "\n",
       "    .dataframe thead th {\n",
       "        text-align: right;\n",
       "    }\n",
       "</style>\n",
       "<table border=\"1\" class=\"dataframe\">\n",
       "  <thead>\n",
       "    <tr style=\"text-align: right;\">\n",
       "      <th></th>\n",
       "      <th>sex</th>\n",
       "      <th>age</th>\n",
       "      <th>time</th>\n",
       "      <th>number_of_warts</th>\n",
       "      <th>type</th>\n",
       "      <th>area</th>\n",
       "      <th>result_of_treatment</th>\n",
       "    </tr>\n",
       "  </thead>\n",
       "  <tbody>\n",
       "    <tr>\n",
       "      <td>0</td>\n",
       "      <td>1</td>\n",
       "      <td>35</td>\n",
       "      <td>12.00</td>\n",
       "      <td>5</td>\n",
       "      <td>1</td>\n",
       "      <td>100</td>\n",
       "      <td>0</td>\n",
       "    </tr>\n",
       "    <tr>\n",
       "      <td>1</td>\n",
       "      <td>1</td>\n",
       "      <td>29</td>\n",
       "      <td>7.00</td>\n",
       "      <td>5</td>\n",
       "      <td>1</td>\n",
       "      <td>96</td>\n",
       "      <td>1</td>\n",
       "    </tr>\n",
       "    <tr>\n",
       "      <td>2</td>\n",
       "      <td>1</td>\n",
       "      <td>50</td>\n",
       "      <td>8.00</td>\n",
       "      <td>1</td>\n",
       "      <td>3</td>\n",
       "      <td>132</td>\n",
       "      <td>0</td>\n",
       "    </tr>\n",
       "    <tr>\n",
       "      <td>3</td>\n",
       "      <td>1</td>\n",
       "      <td>32</td>\n",
       "      <td>11.75</td>\n",
       "      <td>7</td>\n",
       "      <td>3</td>\n",
       "      <td>750</td>\n",
       "      <td>0</td>\n",
       "    </tr>\n",
       "    <tr>\n",
       "      <td>4</td>\n",
       "      <td>1</td>\n",
       "      <td>67</td>\n",
       "      <td>9.25</td>\n",
       "      <td>1</td>\n",
       "      <td>1</td>\n",
       "      <td>42</td>\n",
       "      <td>0</td>\n",
       "    </tr>\n",
       "    <tr>\n",
       "      <td>...</td>\n",
       "      <td>...</td>\n",
       "      <td>...</td>\n",
       "      <td>...</td>\n",
       "      <td>...</td>\n",
       "      <td>...</td>\n",
       "      <td>...</td>\n",
       "      <td>...</td>\n",
       "    </tr>\n",
       "    <tr>\n",
       "      <td>85</td>\n",
       "      <td>2</td>\n",
       "      <td>34</td>\n",
       "      <td>12.00</td>\n",
       "      <td>3</td>\n",
       "      <td>3</td>\n",
       "      <td>95</td>\n",
       "      <td>0</td>\n",
       "    </tr>\n",
       "    <tr>\n",
       "      <td>86</td>\n",
       "      <td>2</td>\n",
       "      <td>20</td>\n",
       "      <td>3.50</td>\n",
       "      <td>6</td>\n",
       "      <td>1</td>\n",
       "      <td>75</td>\n",
       "      <td>1</td>\n",
       "    </tr>\n",
       "    <tr>\n",
       "      <td>87</td>\n",
       "      <td>2</td>\n",
       "      <td>35</td>\n",
       "      <td>8.25</td>\n",
       "      <td>8</td>\n",
       "      <td>3</td>\n",
       "      <td>100</td>\n",
       "      <td>0</td>\n",
       "    </tr>\n",
       "    <tr>\n",
       "      <td>88</td>\n",
       "      <td>1</td>\n",
       "      <td>24</td>\n",
       "      <td>10.75</td>\n",
       "      <td>10</td>\n",
       "      <td>1</td>\n",
       "      <td>20</td>\n",
       "      <td>1</td>\n",
       "    </tr>\n",
       "    <tr>\n",
       "      <td>89</td>\n",
       "      <td>1</td>\n",
       "      <td>19</td>\n",
       "      <td>8.00</td>\n",
       "      <td>8</td>\n",
       "      <td>1</td>\n",
       "      <td>160</td>\n",
       "      <td>1</td>\n",
       "    </tr>\n",
       "  </tbody>\n",
       "</table>\n",
       "<p>90 rows × 7 columns</p>\n",
       "</div>"
      ],
      "text/plain": [
       "    sex  age   time  number_of_warts  type  area  result_of_treatment\n",
       "0     1   35  12.00                5     1   100                    0\n",
       "1     1   29   7.00                5     1    96                    1\n",
       "2     1   50   8.00                1     3   132                    0\n",
       "3     1   32  11.75                7     3   750                    0\n",
       "4     1   67   9.25                1     1    42                    0\n",
       "..  ...  ...    ...              ...   ...   ...                  ...\n",
       "85    2   34  12.00                3     3    95                    0\n",
       "86    2   20   3.50                6     1    75                    1\n",
       "87    2   35   8.25                8     3   100                    0\n",
       "88    1   24  10.75               10     1    20                    1\n",
       "89    1   19   8.00                8     1   160                    1\n",
       "\n",
       "[90 rows x 7 columns]"
      ]
     },
     "execution_count": 1,
     "metadata": {},
     "output_type": "execute_result"
    }
   ],
   "source": [
    "import pandas as pd #library untuk input dataset csv, excel, dll.\n",
    "import numpy as np #library untuk aljabar linear\n",
    "import matplotlib.pyplot as plt #library untuk plot grafik\n",
    "\n",
    "#input data dengan library pandas\n",
    "df = pd.read_csv(r\"C:\\Users\\madhi\\Python\\Dataset\\cryotherapy_dataset.csv\")\n",
    "df #menampilkan dataset"
   ]
  },
  {
   "cell_type": "markdown",
   "metadata": {},
   "source": [
    "Dataset ini terdiri dari 90 baris dan 7 kolom. Kolom 1-6 dipilih untuk menjadi fitur dan kolom terakhir adalah label."
   ]
  },
  {
   "cell_type": "markdown",
   "metadata": {},
   "source": [
    "# Pre Processing\n",
    "\n",
    "Pada dasarnya data yang didapat merupakan data mentah atau data kotor. Data yang didapat terkadang tidak lengkap, seperti ada yang hilang atau kosong, ada atribut yang kurang atau yang tidak sesuai. Selain itu data yang didapat juga terkadang masih ada kesalahan, data yang outlier. Maka dari itu sangat penting untuk melakukan data pre processing dikarenakan data yang tidak berkualitas. Data pre processing, cleaning, dan transformasi data.\n",
    "\n",
    "1. Rescaling Data adalah proses pembuatan atribut yang tidak seragam dari seragam dataset. Sekarang, pertanyaannya adalah kapan kita tahu bahwa dataset adalah seragam atau tidak. Nah, ketika skala atribut sangat bervariasi yang bisa berbahaya bagi model prediksi disebut dengan dataset yang tidak seragam. Metode rescaling berguna dalam algoritma optimasi seperti gradient descent. Hal ini dilakukan dengan menggunakan kelas MinMaxScaler yang datang di bawah scikit-learn, juga dikenal sebagai sklearn.\n",
    "\n",
    "\n",
    "2. Standardizing Data, berguna untuk mengubah atribut menjadi distrubutsi Gaussian yang membandingkan nilai tengah dan membandingkan standard deviaso menjadi standard distribusi Gaussian menjadi nilai tengah 0 dan standard deviasi dari nilai 1.\n",
    "\n",
    "\n",
    "3. One Hot Encoding, untuk mengatasi data yang mempunyai tipe categorical, maka digunakan metode one hot encoding.\n",
    "\n",
    "\n",
    "\n",
    "4. Label Encoding, Label bisa saja nomor atau sebuah kata. Biasanya, saat training data dengan label sebuah kata akan membuat label tersebut mudah untuk dibaca. Label ecnoding mengkonversi label dari sebuah kata menjadi nomor yang bisa diproses oleh algoritma."
   ]
  },
  {
   "cell_type": "markdown",
   "metadata": {},
   "source": [
    "#### Inisiasi fitur dan label. x sebagai fitur dan y sebagai label"
   ]
  },
  {
   "cell_type": "code",
   "execution_count": 2,
   "metadata": {},
   "outputs": [],
   "source": [
    "x = df.iloc[:, 0:6].values #nilai x dijadikan numpy array sebagai fitur\n",
    "y = df.iloc[:,6].values #nilai y dijadikan numpy array sebagai label "
   ]
  },
  {
   "cell_type": "markdown",
   "metadata": {},
   "source": [
    "#### Check apakah ada variabel dengan nilai NaN pada fitur"
   ]
  },
  {
   "cell_type": "code",
   "execution_count": 3,
   "metadata": {},
   "outputs": [
    {
     "data": {
      "text/plain": [
       "False"
      ]
     },
     "execution_count": 3,
     "metadata": {},
     "output_type": "execute_result"
    }
   ],
   "source": [
    "np.unique(np.isnan(x))[0]"
   ]
  },
  {
   "cell_type": "markdown",
   "metadata": {},
   "source": [
    "#### Check apakah ada variabel dengan nilai NaN pada label"
   ]
  },
  {
   "cell_type": "code",
   "execution_count": 4,
   "metadata": {},
   "outputs": [
    {
     "data": {
      "text/plain": [
       "False"
      ]
     },
     "execution_count": 4,
     "metadata": {},
     "output_type": "execute_result"
    }
   ],
   "source": [
    "np.unique(np.isnan(y))[0]"
   ]
  },
  {
   "cell_type": "markdown",
   "metadata": {},
   "source": [
    "#### Sebaran label Hasil Perawatan Medis"
   ]
  },
  {
   "cell_type": "code",
   "execution_count": 5,
   "metadata": {
    "scrolled": true
   },
   "outputs": [
    {
     "data": {
      "text/plain": [
       "<matplotlib.axes._subplots.AxesSubplot at 0x15710d1ec48>"
      ]
     },
     "execution_count": 5,
     "metadata": {},
     "output_type": "execute_result"
    },
    {
     "data": {
      "image/png": "[encoded data removed]",
      "text/plain": [
       "<Figure size 432x288 with 1 Axes>"
      ]
     },
     "metadata": {
      "needs_background": "light"
     },
     "output_type": "display_data"
    }
   ],
   "source": [
    "import seaborn as sns\n",
    "sns.countplot(y)"
   ]
  },
  {
   "cell_type": "markdown",
   "metadata": {},
   "source": [
    "#### Sebaran fitur Hasil perawatan medis berdasarkan Jenis Kelamin"
   ]
  },
  {
   "cell_type": "code",
   "execution_count": 6,
   "metadata": {},
   "outputs": [
    {
     "data": {
      "image/png": "[encoded data removed]",
      "text/plain": [
       "<Figure size 720x360 with 1 Axes>"
      ]
     },
     "metadata": {
      "needs_background": "light"
     },
     "output_type": "display_data"
    }
   ],
   "source": [
    "pd.crosstab(df.sex,df.result_of_treatment).plot(kind=\"bar\",figsize=(10,5),color=['brown','green' ]) #membuat grafik sex dan result of treatment\n",
    "plt.xlabel('Sex (1 = Male, 2 = Female)') #label pada sumbu x\n",
    "plt.legend([\"Tidak Sembuh\", \"Sembuh\"]) #legend plot grafik\n",
    "plt.ylabel('Jumlah') #label pada sumbu y\n",
    "plt.show() #menampilkan plot grafik"
   ]
  },
  {
   "cell_type": "markdown",
   "metadata": {},
   "source": [
    "#### Sebaran fitur Time"
   ]
  },
  {
   "cell_type": "code",
   "execution_count": 7,
   "metadata": {},
   "outputs": [
    {
     "data": {
      "image/png": "[encoded data removed]",
      "text/plain": [
       "<Figure size 432x288 with 1 Axes>"
      ]
     },
     "metadata": {
      "needs_background": "light"
     },
     "output_type": "display_data"
    }
   ],
   "source": [
    "plt.hist(df['time'], color=\"Red\") #membuat plot grafik Time\n",
    "plt.xlabel(\"Time\") #label sumbu x\n",
    "plt.ylabel(\"Jumlah\") #label sumbu y\n",
    "plt.title('Sebaran Fitur \"Time\"') #judul plot grafik\n",
    "plt.show() #menampilkan plot grafik"
   ]
  },
  {
   "cell_type": "markdown",
   "metadata": {},
   "source": [
    "#### Sebaran fitur Jumlah Kutil"
   ]
  },
  {
   "cell_type": "code",
   "execution_count": 8,
   "metadata": {
    "scrolled": false
   },
   "outputs": [
    {
     "data": {
      "image/png": "[encoded data removed]",
      "text/plain": [
       "<Figure size 432x288 with 1 Axes>"
      ]
     },
     "metadata": {
      "needs_background": "light"
     },
     "output_type": "display_data"
    }
   ],
   "source": [
    "plt.hist(df['number_of_warts'], color=\"Blue\") #membuat plot grafik number of warts\n",
    "plt.xlabel(\"Jumlah Kutil\") #label sumbu x\n",
    "plt.ylabel(\"Jumlah\") #label sumbu y\n",
    "plt.title('Sebaran Fitur \"Jumlah Kutil\"') #judul plot grafik\n",
    "plt.show() #menampilkan plot grafik"
   ]
  },
  {
   "cell_type": "markdown",
   "metadata": {},
   "source": [
    "#### Sebaran fitur Type"
   ]
  },
  {
   "cell_type": "code",
   "execution_count": 9,
   "metadata": {
    "scrolled": true
   },
   "outputs": [
    {
     "data": {
      "image/png": "[encoded data removed]",
      "text/plain": [
       "<Figure size 432x288 with 1 Axes>"
      ]
     },
     "metadata": {
      "needs_background": "light"
     },
     "output_type": "display_data"
    }
   ],
   "source": [
    "plt.hist(df['type'], color=\"orange\") #plot grafik type\n",
    "plt.xlabel(\"Type\") #label sumbu x\n",
    "plt.ylabel(\"jumlah\") #label sumbu y\n",
    "plt.title('Sebaran Fitur \"Type\"') #judul grafik\n",
    "plt.show() #menampilkan plot grafik"
   ]
  },
  {
   "cell_type": "markdown",
   "metadata": {},
   "source": [
    "#### Sebaran fitur Area"
   ]
  },
  {
   "cell_type": "code",
   "execution_count": 10,
   "metadata": {
    "scrolled": true
   },
   "outputs": [
    {
     "data": {
      "image/png": "[encoded data removed]",
      "text/plain": [
       "<Figure size 432x288 with 1 Axes>"
      ]
     },
     "metadata": {
      "needs_background": "light"
     },
     "output_type": "display_data"
    }
   ],
   "source": [
    "plt.hist(df['area'], color=\"Yellow\") #plot grafik area\n",
    "plt.xlabel(\"Area\") #label sumbu x\n",
    "plt.ylabel(\"Jumlah\") #label sumbu y\n",
    "plt.title('Sebaran Fitur \"Area\"') #judul plot grafik\n",
    "plt.show() #menampilkan plot grafik"
   ]
  },
  {
   "cell_type": "markdown",
   "metadata": {},
   "source": [
    "# Feature Scaling\n",
    "\n",
    "Min-Max Scaling bekerja dengan menyesuaikan data dalam rentang/range tertentu (range nilai minimum hingga nilai maksimum), rentang yang biasa digunakan adalah 0 hingga 1. Berikut ini adalah uraian matematisnya:\n",
    "\n",
    "\\begin{split}Xsc = \\frac{X-Xmin} {Xmax-Xmin}\\end{split}"
   ]
  },
  {
   "cell_type": "code",
   "execution_count": 11,
   "metadata": {},
   "outputs": [],
   "source": [
    "#import library min-max scaler\n",
    "from sklearn.preprocessing import MinMaxScaler\n",
    "\n",
    "scaler = MinMaxScaler()\n",
    "x = scaler.fit_transform(x) #fit "
   ]
  },
  {
   "cell_type": "markdown",
   "metadata": {},
   "source": [
    "# Train test split dataset\n",
    "\n",
    "Model machine learning harus ada goal(prediction) yang harus dicapai. Agar bisa mencapai goal tersebut, machine harus diberi tahu mana “set data” yang harus dicapai / dilampaui, dan mana “set data” yang bisa digunakan untuk mencapai / melampaui goal ini tadi. “Set data” untuk dicapai inilah Test-Set, sedangkan “set data” untuk mencapainya disebut Training-Set. Training-Set ini nantinya akan digunakan untuk membuat model machine learning, sedangkan Test-Set ini akan digunakan untuk menguji performa dan kebenaran (terhadap korelasi) dalam model yang bersangkutan. Dari 90 buah data dibagi menjadi 90% untuk training dan 20% untuk test.\n",
    "\n",
    "- Training set adalah bagian dataset yang kita latih untuk membuat prediksi atau menjalankan fungsi dari sebuah algoritma ML lainnya sesuai tujuannya masing-masing. Kita memberikan petunjuk melalui algoritma agar mesin yang kita latih bisa mencari korelasinya sendiri.\n",
    "- Test set adalah bagian dataset yang kita tes untuk melihat keakuratannya, atau dengan kata lain melihat performanya.\n",
    "\n",
    "Khusus dataset yang nilai pada kelasnya tidak proporsi, sangat disarankan agar *stratify* pada split dataset. Stratify maksudnya adalah mempertahankan nilai asli dari setiap kelas pada test dan training data."
   ]
  },
  {
   "cell_type": "code",
   "execution_count": 12,
   "metadata": {},
   "outputs": [],
   "source": [
    "#import library train test split\n",
    "from sklearn.model_selection import train_test_split \n",
    "\n",
    "#Split dataset menjadi data Training dan data Test, 80% data training dan 20% data testing\n",
    "x_training, x_testing, y_training, y_testing = train_test_split(x, y, test_size=0.2, shuffle=True, stratify=y)"
   ]
  },
  {
   "attachments": {
    "ANN.jpg": {
     "image/jpeg": "[encoded data removed]"
    }
   },
   "cell_type": "markdown",
   "metadata": {},
   "source": [
    "# Model ANN\n",
    "\n",
    "\n",
    "![ANN.jpg](attachment:ANN.jpg)\n",
    "\n"
   ]
  },
  {
   "cell_type": "markdown",
   "metadata": {},
   "source": [
    "Artificial intelligence adalah istilah yang digunakan bagi mesin yang bisa mengolah data, belajar dari data, dan menggunakannya untuk menyelesaikan tugas-tugas yang seharusnya dikerjakan oleh manusia. AI fokus pada pembelajaran mesin tanpa banyak pengawasan.\n",
    "\n",
    "Kita sudah sering menggunakan Jaringan syaraf dalam kegiatan sehari-hari. Seperti Google assistan, Siri Apple, Self-driving Car. Game Komputer juga menggunakan Jaringan syaraf tiruan diback-end. Jaringan syaraf adalah sebuah sistem yang didesain untuk beroperasi seperti otak pada manusia.\n",
    "\n",
    "Jaringan syaraf terdiri dari beberapa layer. Layer pertama adalah input layer, layer yang menerima input dan meneruskan ke layer selanjutnya. Layer kedua disebut hidden layer, layer yang bertugas mengkalkulasi dan fitur ekstraksi. Hidden layer umumnya hanya terdapat satu layer. Layer terakhir adalah Output layer yang berfungsi mengeluarkan hasil.\n",
    "\n",
    "Jenis neural network sebagai berikut:\n",
    "1. Feed-forward Neural Network\n",
    "2. Radial Basis Functions Neural Network\n",
    "3. Kohonen Self-organizing Neural Network\n",
    "4. Recurrent Neural Network\n",
    "5. Convolution Neural Network\n",
    "6. Modular Neural Network\n",
    "\n",
    "> Model yang dibuat menggunakan metode ANN dengan input 6 node yang terdiri dari sex, age, time, number of warts, type, dan area. Terdapat 2 hidden layer dalam model yang dibangun. Hidden layer pertama terdiri dari 100 node, dan hidden layer kedua terdiri dari 60 node. Output layer hanya satu node."
   ]
  },
  {
   "cell_type": "code",
   "execution_count": 13,
   "metadata": {},
   "outputs": [
    {
     "name": "stderr",
     "output_type": "stream",
     "text": [
      "Using TensorFlow backend.\n"
     ]
    }
   ],
   "source": [
    "#import library model ANN\n",
    "from keras.models import Sequential #library model ANN\n",
    "from keras.layers import Dense, Dropout #library layer\n",
    "from keras.activations import relu, sigmoid #library fungsi aktivasi\n",
    "from keras.optimizers import Adam #library optimizers"
   ]
  },
  {
   "cell_type": "markdown",
   "metadata": {},
   "source": [
    "## Layers\n",
    "\n",
    "Layer menerima input weight dan mengubah nilai tersebut yang umumnya fungsi non-linear dan meneruskannya sebagai output ke layer selanjutnya. Layer terdiri dari input layer, hidden layer, dan output layer.\n",
    "\n",
    "### Dropout\n",
    "\n",
    "Layer dropout mengambila output dari layer sebelumnya yang aktif dan acak saat menetapkan fungsi aktivasi menjadi 0, membatalkan, atau membuangnya. Dropout adalah metode umum yang digunakan untuk mencegah overfitting di Neural Network. Dropout biasanya diset antara 0.2 dan 0.5. Dropout hanya digunakan saat training data, saat testing data tidak ada aktivasi yang dibuang, tapi hanya dikecilkan dari faktor rata-rata Dropout."
   ]
  },
  {
   "cell_type": "markdown",
   "metadata": {},
   "source": [
    "### Epochs\n",
    "Epochs adalah jumlah training data yang dilalu neural network saat proses training data. Tingkatkan jumlah epochs samapi akurasi membagus dan validasi data menurun. Saat akurasi terus meningkat ada kemungkinan overfitting."
   ]
  },
  {
   "cell_type": "markdown",
   "metadata": {},
   "source": [
    "### Batch size\n",
    "Kita bisa membagi data menjadi lebih kecil saat melewati jaringan. Pada library keras, batch size digunakan saat fit pada iterasi update training. Batch size yang optimal tergantung banyak faktor, seperti kapasitas memori komputer untuk melakukan kalkulasi."
   ]
  },
  {
   "cell_type": "markdown",
   "metadata": {},
   "source": [
    "### Learning rate\n",
    "\n",
    "Jumlah dari setiap langkah disebut learning rate. Learning rate yang tinggi membuat kita bisa membahas lebih banyak langkah pada setiap langkah, tapi hal ini berisiko melampaui titik terendah dari slope. Learning rate yang rendah membuat kita bisa bergerak dengan baik ke arah gradien negatif yang disebabkan perhitungan ulang yang sering dilakukan. Learning rate yang rendah lebih tepat, tapi butuh waktu yang lama untuk selesai."
   ]
  },
  {
   "cell_type": "markdown",
   "metadata": {},
   "source": [
    "## Fungsi Aktivasi\n",
    "\n",
    "Fungsi aktivasi yang menentukan neuron seharusnya aktif atau tidak. Baik itu apakah informasi pada neuron yang diterima relevan untuk diterima atau ditolak."
   ]
  },
  {
   "cell_type": "markdown",
   "metadata": {},
   "source": [
    "### Relu\n",
    "\n",
    "Fungsi aktivasi ReLU (rectified linear unit) memberi nilai yang menyatakan jika lebih dari 1 maka bernilai 1, dan jika kurang dari 0 maka bernilai 0.\n",
    "\n",
    "Kelebihan: \n",
    "1. Menghindari dan memperbaiki masalah gradien yang hilang.\n",
    "2. ReLu lebih murah secara komputasi daripada tanh dan sigmoid karena melibatkan operasi matematika yang lebih sederhana.\n",
    "3. Fungsi aktivasi ReLu tidak mengaktifkan seluruh neuron dalam waktu yang sama.\n",
    "4. Fungsi aktivasi ReLu memperbaiki nilai secara linear. 0 untuk nilai negatif dan akan tumbuh dengan baik secara linear.\n",
    "5. Jika input nilai negatif, fungsi aktivasi ReLu akan mengkonversi menjadi 0 dan hanya beberapa neuron yang aktif yang membuat neural network lebih efisien dan mudah saat komputasi.\n",
    "\n",
    "Kekurangan: \n",
    "1. Batasan ReLu hanya bisa digunakan pada hidden layer model ANN.\n",
    "2. Beberapa gradien bisa hilang dan mati saat training data. Hal ini menyebabkan saat update weight tidak akan aktif lagi pada data point selanjutnya atau ReLu menyebabkab Matinya Neuron.\n",
    "3. Gradient ReLu pada fungsi aktivasi (x<0) gradien akan menjadi 0 yang menyebabkan weight tidak dapat memperbarui nilai. Neuron tidak akan merespon variasi nilai error atau input.\n",
    "\n",
    "Fungsi:\n",
    "\\begin{split}R(z) = \\begin{Bmatrix} z & z > 0 \\\\\n",
    "0 & z <= 0 \\end{Bmatrix}\\end{split}\n",
    "\n",
    "Turunan:\n",
    "\\begin{split}R'(z) = \\begin{Bmatrix} 1 & z>0 \\\\\n",
    "0 & z<0 \\end{Bmatrix}\\end{split}"
   ]
  },
  {
   "cell_type": "markdown",
   "metadata": {},
   "source": [
    "### Sigmoid\n",
    "\n",
    "Fungsi aktivasi sigmoid digunakan saat model memprediksi kemungkinan. Sigmoid mengambil nilai asli sebagai input dan output antara 0 dan 1. Sigmoid merupakan fungsi aktivasi non linear, selalu berubah, monotnic dan memiliki rentang nilai yang tetap. Sigmoid cocok untuk kasus binary classifications.\n",
    "\n",
    "Fungsi: \n",
    "\\begin{split}S(z) = \\frac{1} {1 + e^{-z}}\\end{split}\n",
    "\n",
    "Turunan:\n",
    "\\begin{split}tanh'(z) = 1 - tanh(z)^{2}\\end{split}\n",
    "\n"
   ]
  },
  {
   "cell_type": "markdown",
   "metadata": {},
   "source": [
    "## Fungsi Loss\n",
    "\n",
    "### Crossentropy\n",
    "Cross-entropy loss mengukur kinerja model classification yang outputnya pada kemungkinan nilai antara 1 dan 0. Cross-entropy meningkatkan kemungkinan prediksi dari hasil yang sesungguhnya. Prediksi kemungkinan yang bagus adalah yang mendekati 0."
   ]
  },
  {
   "cell_type": "markdown",
   "metadata": {},
   "source": [
    "## Optimizers\n",
    "Tujuan dari machine learning dan deep learning adalah memperkecil perbedaan antara prediksi dan hasil yang sesungghunya. Meminimalisir fungsi dengan mengoptimalkan nilai untuk bobot. Perlu dipastikan juga algortima yang dibangun sudah baik, karena hal ini akan membantu saat membuat prediksi.\n",
    "### Adam\n",
    "1. Menghitung rata-rata weight gradien sebelumnya.\n",
    "2. Menghitung weight secara eksponen dari akar gradien sebelumnya.\n",
    "3. Rata-rata ini memiliki bias mendekati 0 dan untuk.\n",
    "4. Parameter diupdate dengan menggunakan informasi dari kalkulasi rata-rata.\n",
    "\n",
    "\\begin{split}v_{dW} = \\beta_1 v_{dW} + (1 - \\beta_1) \\frac{\\partial \\mathcal{J} }{ \\partial W } \\\\\n",
    "s_{dW} = \\beta_2 s_{dW} + (1 - \\beta_2) (\\frac{\\partial \\mathcal{J} }{\\partial W })^2 \\\\\n",
    "v^{corrected}_{dW} = \\frac{v_{dW}}{1 - (\\beta_1)^t} \\\\\n",
    "s^{corrected}_{dW} = \\frac{s_{dW}}{1 - (\\beta_1)^t} \\\\\n",
    "W = W - \\alpha \\frac{v^{corrected}_{dW}}{\\sqrt{s^{corrected}_{dW}} + \\varepsilon}\\end{split}"
   ]
  },
  {
   "cell_type": "code",
   "execution_count": 14,
   "metadata": {},
   "outputs": [
    {
     "name": "stdout",
     "output_type": "stream",
     "text": [
      "WARNING:tensorflow:From C:\\Users\\madhi\\Anaconda3\\lib\\site-packages\\keras\\backend\\tensorflow_backend.py:66: The name tf.get_default_graph is deprecated. Please use tf.compat.v1.get_default_graph instead.\n",
      "\n",
      "WARNING:tensorflow:From C:\\Users\\madhi\\Anaconda3\\lib\\site-packages\\keras\\backend\\tensorflow_backend.py:541: The name tf.placeholder is deprecated. Please use tf.compat.v1.placeholder instead.\n",
      "\n",
      "WARNING:tensorflow:From C:\\Users\\madhi\\Anaconda3\\lib\\site-packages\\keras\\backend\\tensorflow_backend.py:4432: The name tf.random_uniform is deprecated. Please use tf.random.uniform instead.\n",
      "\n"
     ]
    }
   ],
   "source": [
    "model = Sequential()\n",
    "\n",
    "#hidden layer pertama denga node= 100, input node= 6 dan fungsi aktivasi relu\n",
    "model.add(Dense(units= 100, input_dim = 6, activation='relu')) \n",
    "\n",
    "#hidden layer kedua dengan node= 60 dan fungsi aktivasi relu serta dropout\n",
    "model.add(Dense(units= 60, activation='relu')) \n",
    "\n",
    "#output layer\n",
    "#node output= 1 dengan fungsi aktivasi sigmoid\n",
    "model.add(Dense(units= 1, activation='sigmoid')) "
   ]
  },
  {
   "cell_type": "code",
   "execution_count": 15,
   "metadata": {},
   "outputs": [
    {
     "name": "stdout",
     "output_type": "stream",
     "text": [
      "WARNING:tensorflow:From C:\\Users\\madhi\\Anaconda3\\lib\\site-packages\\keras\\optimizers.py:793: The name tf.train.Optimizer is deprecated. Please use tf.compat.v1.train.Optimizer instead.\n",
      "\n",
      "WARNING:tensorflow:From C:\\Users\\madhi\\Anaconda3\\lib\\site-packages\\keras\\backend\\tensorflow_backend.py:3657: The name tf.log is deprecated. Please use tf.math.log instead.\n",
      "\n",
      "WARNING:tensorflow:From C:\\Users\\madhi\\Anaconda3\\lib\\site-packages\\tensorflow\\python\\ops\\nn_impl.py:180: add_dispatch_support.<locals>.wrapper (from tensorflow.python.ops.array_ops) is deprecated and will be removed in a future version.\n",
      "Instructions for updating:\n",
      "Use tf.where in 2.0, which has the same broadcast rule as np.where\n"
     ]
    }
   ],
   "source": [
    "#Optimizer Adam, learning rate= 0.0001, loss= binnary crossentropy, dan metrics adalah akurasi\n",
    "model.compile(optimizer=Adam(lr=0.0001), loss='binary_crossentropy', metrics=['accuracy'])"
   ]
  },
  {
   "cell_type": "code",
   "execution_count": 16,
   "metadata": {},
   "outputs": [
    {
     "name": "stdout",
     "output_type": "stream",
     "text": [
      "WARNING:tensorflow:From C:\\Users\\madhi\\Anaconda3\\lib\\site-packages\\keras\\backend\\tensorflow_backend.py:1033: The name tf.assign_add is deprecated. Please use tf.compat.v1.assign_add instead.\n",
      "\n",
      "Train on 72 samples, validate on 18 samples\n",
      "Epoch 1/500\n",
      "72/72 [==============================] - 2s 22ms/step - loss: 0.6716 - acc: 0.5278 - val_loss: 0.6587 - val_acc: 0.6667\n",
      "Epoch 2/500\n",
      "72/72 [==============================] - 0s 39us/step - loss: 0.6701 - acc: 0.5278 - val_loss: 0.6574 - val_acc: 0.6667\n",
      "Epoch 3/500\n",
      "72/72 [==============================] - 0s 217us/step - loss: 0.6688 - acc: 0.5278 - val_loss: 0.6563 - val_acc: 0.6667\n",
      "Epoch 4/500\n",
      "72/72 [==============================] - 0s 277us/step - loss: 0.6677 - acc: 0.5278 - val_loss: 0.6552 - val_acc: 0.6667\n",
      "Epoch 5/500\n",
      "72/72 [==============================] - 0s 167us/step - loss: 0.6666 - acc: 0.5417 - val_loss: 0.6540 - val_acc: 0.6667\n",
      "Epoch 6/500\n",
      "72/72 [==============================] - 0s 167us/step - loss: 0.6655 - acc: 0.5417 - val_loss: 0.6529 - val_acc: 0.6667\n",
      "Epoch 7/500\n",
      "72/72 [==============================] - 0s 167us/step - loss: 0.6643 - acc: 0.5417 - val_loss: 0.6518 - val_acc: 0.6667\n",
      "Epoch 8/500\n",
      "72/72 [==============================] - 0s 217us/step - loss: 0.6632 - acc: 0.5417 - val_loss: 0.6506 - val_acc: 0.6667\n",
      "Epoch 9/500\n",
      "72/72 [==============================] - 0s 0us/step - loss: 0.6620 - acc: 0.5556 - val_loss: 0.6495 - val_acc: 0.6667\n",
      "Epoch 10/500\n",
      "72/72 [==============================] - 0s 0us/step - loss: 0.6609 - acc: 0.5556 - val_loss: 0.6484 - val_acc: 0.6667\n",
      "Epoch 11/500\n",
      "72/72 [==============================] - 0s 217us/step - loss: 0.6596 - acc: 0.5972 - val_loss: 0.6472 - val_acc: 0.6667\n",
      "Epoch 12/500\n",
      "72/72 [==============================] - 0s 217us/step - loss: 0.6586 - acc: 0.5972 - val_loss: 0.6460 - val_acc: 0.6667\n",
      "Epoch 13/500\n",
      "72/72 [==============================] - 0s 217us/step - loss: 0.6574 - acc: 0.5972 - val_loss: 0.6448 - val_acc: 0.6667\n",
      "Epoch 14/500\n",
      "72/72 [==============================] - 0s 0us/step - loss: 0.6562 - acc: 0.5972 - val_loss: 0.6437 - val_acc: 0.6667\n",
      "Epoch 15/500\n",
      "72/72 [==============================] - 0s 217us/step - loss: 0.6551 - acc: 0.6250 - val_loss: 0.6426 - val_acc: 0.6667\n",
      "Epoch 16/500\n",
      "72/72 [==============================] - 0s 217us/step - loss: 0.6540 - acc: 0.6250 - val_loss: 0.6415 - val_acc: 0.6667\n",
      "Epoch 17/500\n",
      "72/72 [==============================] - 0s 434us/step - loss: 0.6529 - acc: 0.6250 - val_loss: 0.6405 - val_acc: 0.7222\n",
      "Epoch 18/500\n",
      "72/72 [==============================] - 0s 217us/step - loss: 0.6517 - acc: 0.6389 - val_loss: 0.6395 - val_acc: 0.7222\n",
      "Epoch 19/500\n",
      "72/72 [==============================] - 0s 217us/step - loss: 0.6507 - acc: 0.6389 - val_loss: 0.6385 - val_acc: 0.7222\n",
      "Epoch 20/500\n",
      "72/72 [==============================] - 0s 0us/step - loss: 0.6496 - acc: 0.6389 - val_loss: 0.6376 - val_acc: 0.7222\n",
      "Epoch 21/500\n",
      "72/72 [==============================] - 0s 217us/step - loss: 0.6486 - acc: 0.6389 - val_loss: 0.6365 - val_acc: 0.7222\n",
      "Epoch 22/500\n",
      "72/72 [==============================] - 0s 217us/step - loss: 0.6476 - acc: 0.6389 - val_loss: 0.6355 - val_acc: 0.7222\n",
      "Epoch 23/500\n",
      "72/72 [==============================] - 0s 217us/step - loss: 0.6465 - acc: 0.6389 - val_loss: 0.6345 - val_acc: 0.7222\n",
      "Epoch 24/500\n",
      "72/72 [==============================] - 0s 0us/step - loss: 0.6454 - acc: 0.6528 - val_loss: 0.6335 - val_acc: 0.7222\n",
      "Epoch 25/500\n",
      "72/72 [==============================] - 0s 217us/step - loss: 0.6444 - acc: 0.6528 - val_loss: 0.6324 - val_acc: 0.7222\n",
      "Epoch 26/500\n",
      "72/72 [==============================] - 0s 217us/step - loss: 0.6433 - acc: 0.6528 - val_loss: 0.6313 - val_acc: 0.7222\n",
      "Epoch 27/500\n",
      "72/72 [==============================] - 0s 217us/step - loss: 0.6422 - acc: 0.6667 - val_loss: 0.6302 - val_acc: 0.7222\n",
      "Epoch 28/500\n",
      "72/72 [==============================] - 0s 0us/step - loss: 0.6411 - acc: 0.6667 - val_loss: 0.6291 - val_acc: 0.7222\n",
      "Epoch 29/500\n",
      "72/72 [==============================] - 0s 217us/step - loss: 0.6400 - acc: 0.6667 - val_loss: 0.6280 - val_acc: 0.7222\n",
      "Epoch 30/500\n",
      "72/72 [==============================] - 0s 216us/step - loss: 0.6389 - acc: 0.6667 - val_loss: 0.6270 - val_acc: 0.7222\n",
      "Epoch 31/500\n",
      "72/72 [==============================] - 0s 0us/step - loss: 0.6378 - acc: 0.6667 - val_loss: 0.6260 - val_acc: 0.7222\n",
      "Epoch 32/500\n",
      "72/72 [==============================] - 0s 217us/step - loss: 0.6369 - acc: 0.6806 - val_loss: 0.6249 - val_acc: 0.7222\n",
      "Epoch 33/500\n",
      "72/72 [==============================] - 0s 217us/step - loss: 0.6357 - acc: 0.6944 - val_loss: 0.6239 - val_acc: 0.7222\n",
      "Epoch 34/500\n",
      "72/72 [==============================] - 0s 183us/step - loss: 0.6346 - acc: 0.6944 - val_loss: 0.6229 - val_acc: 0.7222\n",
      "Epoch 35/500\n",
      "72/72 [==============================] - 0s 166us/step - loss: 0.6336 - acc: 0.6944 - val_loss: 0.6219 - val_acc: 0.7222\n",
      "Epoch 36/500\n",
      "72/72 [==============================] - 0s 222us/step - loss: 0.6326 - acc: 0.6944 - val_loss: 0.6208 - val_acc: 0.7222\n",
      "Epoch 37/500\n",
      "72/72 [==============================] - 0s 167us/step - loss: 0.6316 - acc: 0.6944 - val_loss: 0.6198 - val_acc: 0.7778\n",
      "Epoch 38/500\n",
      "72/72 [==============================] - 0s 222us/step - loss: 0.6305 - acc: 0.7083 - val_loss: 0.6188 - val_acc: 0.7778\n",
      "Epoch 39/500\n",
      "72/72 [==============================] - 0s 167us/step - loss: 0.6295 - acc: 0.7222 - val_loss: 0.6178 - val_acc: 0.7778\n",
      "Epoch 40/500\n",
      "72/72 [==============================] - 0s 167us/step - loss: 0.6285 - acc: 0.7222 - val_loss: 0.6168 - val_acc: 0.7778\n",
      "Epoch 41/500\n",
      "72/72 [==============================] - 0s 222us/step - loss: 0.6274 - acc: 0.7083 - val_loss: 0.6159 - val_acc: 0.7778\n",
      "Epoch 42/500\n",
      "72/72 [==============================] - 0s 167us/step - loss: 0.6264 - acc: 0.7083 - val_loss: 0.6150 - val_acc: 0.7778\n",
      "Epoch 43/500\n",
      "72/72 [==============================] - 0s 166us/step - loss: 0.6254 - acc: 0.7083 - val_loss: 0.6139 - val_acc: 0.7778\n",
      "Epoch 44/500\n",
      "72/72 [==============================] - 0s 556us/step - loss: 0.6243 - acc: 0.7222 - val_loss: 0.6127 - val_acc: 0.7778\n",
      "Epoch 45/500\n",
      "72/72 [==============================] - 0s 278us/step - loss: 0.6232 - acc: 0.7222 - val_loss: 0.6116 - val_acc: 0.7778\n",
      "Epoch 46/500\n",
      "72/72 [==============================] - 0s 222us/step - loss: 0.6221 - acc: 0.7361 - val_loss: 0.6104 - val_acc: 0.7778\n",
      "Epoch 47/500\n",
      "72/72 [==============================] - 0s 167us/step - loss: 0.6211 - acc: 0.7500 - val_loss: 0.6093 - val_acc: 0.7778\n",
      "Epoch 48/500\n",
      "72/72 [==============================] - 0s 222us/step - loss: 0.6199 - acc: 0.7500 - val_loss: 0.6080 - val_acc: 0.7778\n",
      "Epoch 49/500\n",
      "72/72 [==============================] - 0s 167us/step - loss: 0.6189 - acc: 0.7778 - val_loss: 0.6068 - val_acc: 0.7778\n",
      "Epoch 50/500\n",
      "72/72 [==============================] - 0s 166us/step - loss: 0.6178 - acc: 0.7917 - val_loss: 0.6056 - val_acc: 0.7778\n",
      "Epoch 51/500\n",
      "72/72 [==============================] - 0s 167us/step - loss: 0.6168 - acc: 0.7917 - val_loss: 0.6045 - val_acc: 0.7778\n",
      "Epoch 52/500\n",
      "72/72 [==============================] - 0s 167us/step - loss: 0.6157 - acc: 0.8056 - val_loss: 0.6034 - val_acc: 0.7778\n",
      "Epoch 53/500\n",
      "72/72 [==============================] - 0s 167us/step - loss: 0.6147 - acc: 0.8056 - val_loss: 0.6024 - val_acc: 0.7778\n",
      "Epoch 54/500\n",
      "72/72 [==============================] - 0s 167us/step - loss: 0.6137 - acc: 0.8056 - val_loss: 0.6015 - val_acc: 0.7778\n",
      "Epoch 55/500\n",
      "72/72 [==============================] - 0s 222us/step - loss: 0.6127 - acc: 0.8056 - val_loss: 0.6005 - val_acc: 0.7778\n",
      "Epoch 56/500\n",
      "72/72 [==============================] - 0s 167us/step - loss: 0.6115 - acc: 0.8056 - val_loss: 0.5995 - val_acc: 0.7778\n",
      "Epoch 57/500\n",
      "72/72 [==============================] - 0s 167us/step - loss: 0.6104 - acc: 0.8056 - val_loss: 0.5984 - val_acc: 0.7778\n",
      "Epoch 58/500\n",
      "72/72 [==============================] - 0s 166us/step - loss: 0.6094 - acc: 0.8056 - val_loss: 0.5972 - val_acc: 0.7778\n",
      "Epoch 59/500\n",
      "72/72 [==============================] - 0s 531us/step - loss: 0.6083 - acc: 0.8056 - val_loss: 0.5960 - val_acc: 0.7778\n",
      "Epoch 60/500\n",
      "72/72 [==============================] - 0s 64us/step - loss: 0.6072 - acc: 0.8056 - val_loss: 0.5949 - val_acc: 0.7778\n",
      "Epoch 61/500\n",
      "72/72 [==============================] - 0s 217us/step - loss: 0.6061 - acc: 0.8194 - val_loss: 0.5938 - val_acc: 0.7778\n",
      "Epoch 62/500\n",
      "72/72 [==============================] - 0s 217us/step - loss: 0.6051 - acc: 0.8194 - val_loss: 0.5927 - val_acc: 0.7778\n",
      "Epoch 63/500\n",
      "72/72 [==============================] - 0s 217us/step - loss: 0.6040 - acc: 0.8194 - val_loss: 0.5916 - val_acc: 0.7778\n",
      "Epoch 64/500\n",
      "72/72 [==============================] - 0s 0us/step - loss: 0.6029 - acc: 0.8194 - val_loss: 0.5904 - val_acc: 0.7778\n",
      "Epoch 65/500\n",
      "72/72 [==============================] - 0s 217us/step - loss: 0.6018 - acc: 0.8056 - val_loss: 0.5892 - val_acc: 0.7778\n",
      "Epoch 66/500\n",
      "72/72 [==============================] - 0s 434us/step - loss: 0.6007 - acc: 0.8194 - val_loss: 0.5881 - val_acc: 0.8333\n",
      "Epoch 67/500\n",
      "72/72 [==============================] - 0s 217us/step - loss: 0.5996 - acc: 0.8333 - val_loss: 0.5870 - val_acc: 0.8333\n",
      "Epoch 68/500\n",
      "72/72 [==============================] - 0s 434us/step - loss: 0.5985 - acc: 0.8333 - val_loss: 0.5859 - val_acc: 0.8889\n",
      "Epoch 69/500\n",
      "72/72 [==============================] - 0s 217us/step - loss: 0.5974 - acc: 0.8194 - val_loss: 0.5848 - val_acc: 0.8889\n",
      "Epoch 70/500\n",
      "72/72 [==============================] - 0s 307us/step - loss: 0.5963 - acc: 0.8333 - val_loss: 0.5837 - val_acc: 0.9444\n",
      "Epoch 71/500\n",
      "72/72 [==============================] - 0s 444us/step - loss: 0.5951 - acc: 0.8333 - val_loss: 0.5825 - val_acc: 0.9444\n",
      "Epoch 72/500\n",
      "72/72 [==============================] - 0s 167us/step - loss: 0.5939 - acc: 0.8472 - val_loss: 0.5812 - val_acc: 0.9444\n",
      "Epoch 73/500\n",
      "72/72 [==============================] - 0s 111us/step - loss: 0.5927 - acc: 0.8472 - val_loss: 0.5800 - val_acc: 0.9444\n",
      "Epoch 74/500\n",
      "72/72 [==============================] - 0s 167us/step - loss: 0.5915 - acc: 0.8472 - val_loss: 0.5787 - val_acc: 0.9444\n",
      "Epoch 75/500\n",
      "72/72 [==============================] - 0s 0us/step - loss: 0.5905 - acc: 0.8472 - val_loss: 0.5775 - val_acc: 0.9444\n",
      "Epoch 76/500\n",
      "72/72 [==============================] - 0s 217us/step - loss: 0.5892 - acc: 0.8472 - val_loss: 0.5764 - val_acc: 0.9444\n",
      "Epoch 77/500\n",
      "72/72 [==============================] - 0s 217us/step - loss: 0.5880 - acc: 0.8611 - val_loss: 0.5753 - val_acc: 0.9444\n",
      "Epoch 78/500\n",
      "72/72 [==============================] - 0s 0us/step - loss: 0.5868 - acc: 0.8611 - val_loss: 0.5743 - val_acc: 0.9444\n",
      "Epoch 79/500\n",
      "72/72 [==============================] - 0s 217us/step - loss: 0.5857 - acc: 0.8611 - val_loss: 0.5733 - val_acc: 0.9444\n",
      "Epoch 80/500\n",
      "72/72 [==============================] - 0s 217us/step - loss: 0.5846 - acc: 0.8611 - val_loss: 0.5722 - val_acc: 0.9444\n",
      "Epoch 81/500\n",
      "72/72 [==============================] - 0s 0us/step - loss: 0.5834 - acc: 0.8611 - val_loss: 0.5710 - val_acc: 0.9444\n",
      "Epoch 82/500\n",
      "72/72 [==============================] - 0s 445us/step - loss: 0.5822 - acc: 0.8611 - val_loss: 0.5699 - val_acc: 0.9444\n",
      "Epoch 83/500\n",
      "72/72 [==============================] - 0s 451us/step - loss: 0.5811 - acc: 0.8750 - val_loss: 0.5687 - val_acc: 0.9444\n",
      "Epoch 84/500\n",
      "72/72 [==============================] - 0s 445us/step - loss: 0.5799 - acc: 0.8750 - val_loss: 0.5675 - val_acc: 0.9444\n",
      "Epoch 85/500\n",
      "72/72 [==============================] - 0s 273us/step - loss: 0.5787 - acc: 0.8750 - val_loss: 0.5663 - val_acc: 0.9444\n",
      "Epoch 86/500\n",
      "72/72 [==============================] - 0s 434us/step - loss: 0.5774 - acc: 0.8750 - val_loss: 0.5651 - val_acc: 0.9444\n",
      "Epoch 87/500\n",
      "72/72 [==============================] - 0s 217us/step - loss: 0.5763 - acc: 0.8750 - val_loss: 0.5638 - val_acc: 0.9444\n",
      "Epoch 88/500\n",
      "72/72 [==============================] - 0s 217us/step - loss: 0.5749 - acc: 0.8750 - val_loss: 0.5626 - val_acc: 0.9444\n",
      "Epoch 89/500\n",
      "72/72 [==============================] - 0s 217us/step - loss: 0.5737 - acc: 0.8750 - val_loss: 0.5614 - val_acc: 0.9444\n",
      "Epoch 90/500\n",
      "72/72 [==============================] - 0s 217us/step - loss: 0.5724 - acc: 0.8750 - val_loss: 0.5601 - val_acc: 0.9444\n",
      "Epoch 91/500\n",
      "72/72 [==============================] - 0s 0us/step - loss: 0.5711 - acc: 0.8750 - val_loss: 0.5588 - val_acc: 0.9444\n",
      "Epoch 92/500\n",
      "72/72 [==============================] - 0s 217us/step - loss: 0.5698 - acc: 0.8750 - val_loss: 0.5573 - val_acc: 0.9444\n",
      "Epoch 93/500\n",
      "72/72 [==============================] - 0s 217us/step - loss: 0.5685 - acc: 0.8750 - val_loss: 0.5558 - val_acc: 0.9444\n",
      "Epoch 94/500\n",
      "72/72 [==============================] - 0s 217us/step - loss: 0.5671 - acc: 0.8750 - val_loss: 0.5543 - val_acc: 0.9444\n",
      "Epoch 95/500\n",
      "72/72 [==============================] - 0s 217us/step - loss: 0.5657 - acc: 0.8750 - val_loss: 0.5528 - val_acc: 0.9444\n",
      "Epoch 96/500\n",
      "72/72 [==============================] - 0s 0us/step - loss: 0.5646 - acc: 0.8750 - val_loss: 0.5513 - val_acc: 0.8889\n",
      "Epoch 97/500\n",
      "72/72 [==============================] - 0s 217us/step - loss: 0.5632 - acc: 0.8611 - val_loss: 0.5499 - val_acc: 0.8889\n",
      "Epoch 98/500\n",
      "72/72 [==============================] - 0s 217us/step - loss: 0.5620 - acc: 0.8611 - val_loss: 0.5486 - val_acc: 0.8889\n",
      "Epoch 99/500\n",
      "72/72 [==============================] - 0s 0us/step - loss: 0.5606 - acc: 0.8611 - val_loss: 0.5473 - val_acc: 0.8889\n",
      "Epoch 100/500\n",
      "72/72 [==============================] - 0s 217us/step - loss: 0.5594 - acc: 0.8611 - val_loss: 0.5461 - val_acc: 0.8889\n",
      "Epoch 101/500\n",
      "72/72 [==============================] - 0s 217us/step - loss: 0.5580 - acc: 0.8611 - val_loss: 0.5450 - val_acc: 0.8889\n",
      "Epoch 102/500\n",
      "72/72 [==============================] - 0s 0us/step - loss: 0.5569 - acc: 0.8611 - val_loss: 0.5438 - val_acc: 0.8889\n",
      "Epoch 103/500\n",
      "72/72 [==============================] - 0s 217us/step - loss: 0.5556 - acc: 0.8611 - val_loss: 0.5428 - val_acc: 0.8889\n",
      "Epoch 104/500\n",
      "72/72 [==============================] - 0s 217us/step - loss: 0.5544 - acc: 0.8750 - val_loss: 0.5418 - val_acc: 0.8889\n",
      "Epoch 105/500\n",
      "72/72 [==============================] - 0s 0us/step - loss: 0.5532 - acc: 0.8750 - val_loss: 0.5407 - val_acc: 0.8889\n",
      "Epoch 106/500\n",
      "72/72 [==============================] - 0s 434us/step - loss: 0.5521 - acc: 0.8750 - val_loss: 0.5397 - val_acc: 0.8889\n",
      "Epoch 107/500\n",
      "72/72 [==============================] - 0s 434us/step - loss: 0.5508 - acc: 0.8750 - val_loss: 0.5387 - val_acc: 0.8889\n",
      "Epoch 108/500\n",
      "72/72 [==============================] - 0s 217us/step - loss: 0.5497 - acc: 0.8750 - val_loss: 0.5376 - val_acc: 0.8889\n",
      "Epoch 109/500\n",
      "72/72 [==============================] - 0s 330us/step - loss: 0.5485 - acc: 0.8750 - val_loss: 0.5365 - val_acc: 0.8889\n",
      "Epoch 110/500\n",
      "72/72 [==============================] - 0s 167us/step - loss: 0.5473 - acc: 0.8750 - val_loss: 0.5354 - val_acc: 0.8889\n",
      "Epoch 111/500\n",
      "72/72 [==============================] - 0s 112us/step - loss: 0.5461 - acc: 0.8750 - val_loss: 0.5341 - val_acc: 0.8889\n",
      "Epoch 112/500\n",
      "72/72 [==============================] - 0s 217us/step - loss: 0.5448 - acc: 0.8750 - val_loss: 0.5329 - val_acc: 0.8889\n",
      "Epoch 113/500\n",
      "72/72 [==============================] - 0s 0us/step - loss: 0.5435 - acc: 0.8750 - val_loss: 0.5316 - val_acc: 0.8889\n",
      "Epoch 114/500\n",
      "72/72 [==============================] - 0s 217us/step - loss: 0.5422 - acc: 0.8750 - val_loss: 0.5305 - val_acc: 0.8889\n",
      "Epoch 115/500\n",
      "72/72 [==============================] - 0s 272us/step - loss: 0.5410 - acc: 0.8750 - val_loss: 0.5293 - val_acc: 0.8889\n",
      "Epoch 116/500\n",
      "72/72 [==============================] - 0s 27us/step - loss: 0.5396 - acc: 0.8750 - val_loss: 0.5280 - val_acc: 0.8889\n",
      "Epoch 117/500\n",
      "72/72 [==============================] - 0s 217us/step - loss: 0.5384 - acc: 0.8750 - val_loss: 0.5268 - val_acc: 0.8889\n",
      "Epoch 118/500\n",
      "72/72 [==============================] - 0s 0us/step - loss: 0.5370 - acc: 0.8750 - val_loss: 0.5256 - val_acc: 0.8889\n",
      "Epoch 119/500\n",
      "72/72 [==============================] - 0s 0us/step - loss: 0.5357 - acc: 0.8750 - val_loss: 0.5242 - val_acc: 0.8889\n",
      "Epoch 120/500\n",
      "72/72 [==============================] - 0s 217us/step - loss: 0.5345 - acc: 0.8750 - val_loss: 0.5226 - val_acc: 0.8889\n",
      "Epoch 121/500\n"
     ]
    },
    {
     "name": "stdout",
     "output_type": "stream",
     "text": [
      "72/72 [==============================] - 0s 217us/step - loss: 0.5331 - acc: 0.8750 - val_loss: 0.5212 - val_acc: 0.8889\n",
      "Epoch 122/500\n",
      "72/72 [==============================] - 0s 0us/step - loss: 0.5319 - acc: 0.8750 - val_loss: 0.5198 - val_acc: 0.8889\n",
      "Epoch 123/500\n",
      "72/72 [==============================] - 0s 217us/step - loss: 0.5305 - acc: 0.8750 - val_loss: 0.5185 - val_acc: 0.8889\n",
      "Epoch 124/500\n",
      "72/72 [==============================] - 0s 213us/step - loss: 0.5292 - acc: 0.8750 - val_loss: 0.5171 - val_acc: 0.8889\n",
      "Epoch 125/500\n",
      "72/72 [==============================] - 0s 82us/step - loss: 0.5279 - acc: 0.8750 - val_loss: 0.5158 - val_acc: 0.8889\n",
      "Epoch 126/500\n",
      "72/72 [==============================] - 0s 163us/step - loss: 0.5266 - acc: 0.8750 - val_loss: 0.5145 - val_acc: 0.8889\n",
      "Epoch 127/500\n",
      "72/72 [==============================] - 0s 217us/step - loss: 0.5255 - acc: 0.8750 - val_loss: 0.5133 - val_acc: 0.8889\n",
      "Epoch 128/500\n",
      "72/72 [==============================] - 0s 0us/step - loss: 0.5241 - acc: 0.8750 - val_loss: 0.5121 - val_acc: 0.8889\n",
      "Epoch 129/500\n",
      "72/72 [==============================] - 0s 217us/step - loss: 0.5229 - acc: 0.8750 - val_loss: 0.5111 - val_acc: 0.8889\n",
      "Epoch 130/500\n",
      "72/72 [==============================] - 0s 217us/step - loss: 0.5217 - acc: 0.8750 - val_loss: 0.5101 - val_acc: 0.8889\n",
      "Epoch 131/500\n",
      "72/72 [==============================] - 0s 0us/step - loss: 0.5205 - acc: 0.8750 - val_loss: 0.5090 - val_acc: 0.8889\n",
      "Epoch 132/500\n",
      "72/72 [==============================] - 0s 217us/step - loss: 0.5192 - acc: 0.8750 - val_loss: 0.5078 - val_acc: 0.8889\n",
      "Epoch 133/500\n",
      "72/72 [==============================] - 0s 217us/step - loss: 0.5180 - acc: 0.8750 - val_loss: 0.5065 - val_acc: 0.8889\n",
      "Epoch 134/500\n",
      "72/72 [==============================] - 0s 217us/step - loss: 0.5167 - acc: 0.8750 - val_loss: 0.5052 - val_acc: 0.8889\n",
      "Epoch 135/500\n",
      "72/72 [==============================] - 0s 0us/step - loss: 0.5155 - acc: 0.8750 - val_loss: 0.5038 - val_acc: 0.8889\n",
      "Epoch 136/500\n",
      "72/72 [==============================] - 0s 217us/step - loss: 0.5142 - acc: 0.8750 - val_loss: 0.5024 - val_acc: 0.8889\n",
      "Epoch 137/500\n",
      "72/72 [==============================] - 0s 217us/step - loss: 0.5128 - acc: 0.8750 - val_loss: 0.5009 - val_acc: 0.8889\n",
      "Epoch 138/500\n",
      "72/72 [==============================] - 0s 0us/step - loss: 0.5117 - acc: 0.8750 - val_loss: 0.4994 - val_acc: 0.8889\n",
      "Epoch 139/500\n",
      "72/72 [==============================] - 0s 217us/step - loss: 0.5103 - acc: 0.8750 - val_loss: 0.4979 - val_acc: 0.8889\n",
      "Epoch 140/500\n",
      "72/72 [==============================] - 0s 217us/step - loss: 0.5090 - acc: 0.8750 - val_loss: 0.4965 - val_acc: 0.8889\n",
      "Epoch 141/500\n",
      "72/72 [==============================] - 0s 0us/step - loss: 0.5076 - acc: 0.8750 - val_loss: 0.4952 - val_acc: 0.8889\n",
      "Epoch 142/500\n",
      "72/72 [==============================] - 0s 217us/step - loss: 0.5064 - acc: 0.8750 - val_loss: 0.4938 - val_acc: 0.8889\n",
      "Epoch 143/500\n",
      "72/72 [==============================] - 0s 723us/step - loss: 0.5051 - acc: 0.8750 - val_loss: 0.4926 - val_acc: 0.8889\n",
      "Epoch 144/500\n",
      "72/72 [==============================] - 0s 217us/step - loss: 0.5037 - acc: 0.8750 - val_loss: 0.4915 - val_acc: 0.8889\n",
      "Epoch 145/500\n",
      "72/72 [==============================] - 0s 217us/step - loss: 0.5026 - acc: 0.8750 - val_loss: 0.4903 - val_acc: 0.8889\n",
      "Epoch 146/500\n",
      "72/72 [==============================] - 0s 217us/step - loss: 0.5013 - acc: 0.8750 - val_loss: 0.4891 - val_acc: 0.8889\n",
      "Epoch 147/500\n",
      "72/72 [==============================] - 0s 217us/step - loss: 0.5000 - acc: 0.8750 - val_loss: 0.4878 - val_acc: 0.8889\n",
      "Epoch 148/500\n",
      "72/72 [==============================] - 0s 0us/step - loss: 0.4987 - acc: 0.8750 - val_loss: 0.4865 - val_acc: 0.8889\n",
      "Epoch 149/500\n",
      "72/72 [==============================] - 0s 217us/step - loss: 0.4974 - acc: 0.8750 - val_loss: 0.4850 - val_acc: 0.8889\n",
      "Epoch 150/500\n",
      "72/72 [==============================] - 0s 217us/step - loss: 0.4961 - acc: 0.8750 - val_loss: 0.4836 - val_acc: 0.8889\n",
      "Epoch 151/500\n",
      "72/72 [==============================] - 0s 217us/step - loss: 0.4948 - acc: 0.8750 - val_loss: 0.4823 - val_acc: 0.8889\n",
      "Epoch 152/500\n",
      "72/72 [==============================] - 0s 0us/step - loss: 0.4934 - acc: 0.8750 - val_loss: 0.4812 - val_acc: 0.8889\n",
      "Epoch 153/500\n",
      "72/72 [==============================] - 0s 217us/step - loss: 0.4921 - acc: 0.8750 - val_loss: 0.4801 - val_acc: 0.8889\n",
      "Epoch 154/500\n",
      "72/72 [==============================] - 0s 217us/step - loss: 0.4909 - acc: 0.8750 - val_loss: 0.4789 - val_acc: 0.8889\n",
      "Epoch 155/500\n",
      "72/72 [==============================] - 0s 434us/step - loss: 0.4896 - acc: 0.8750 - val_loss: 0.4777 - val_acc: 0.8889\n",
      "Epoch 156/500\n",
      "72/72 [==============================] - 0s 217us/step - loss: 0.4884 - acc: 0.8750 - val_loss: 0.4765 - val_acc: 0.8889\n",
      "Epoch 157/500\n",
      "72/72 [==============================] - 0s 216us/step - loss: 0.4871 - acc: 0.8750 - val_loss: 0.4752 - val_acc: 0.8889\n",
      "Epoch 158/500\n",
      "72/72 [==============================] - 0s 434us/step - loss: 0.4859 - acc: 0.8750 - val_loss: 0.4740 - val_acc: 0.8889\n",
      "Epoch 159/500\n",
      "72/72 [==============================] - 0s 278us/step - loss: 0.4847 - acc: 0.8750 - val_loss: 0.4729 - val_acc: 0.8889\n",
      "Epoch 160/500\n",
      "72/72 [==============================] - 0s 157us/step - loss: 0.4834 - acc: 0.8750 - val_loss: 0.4718 - val_acc: 0.8889\n",
      "Epoch 161/500\n",
      "72/72 [==============================] - 0s 217us/step - loss: 0.4823 - acc: 0.8750 - val_loss: 0.4705 - val_acc: 0.8889\n",
      "Epoch 162/500\n",
      "72/72 [==============================] - 0s 0us/step - loss: 0.4811 - acc: 0.8750 - val_loss: 0.4694 - val_acc: 0.8889\n",
      "Epoch 163/500\n",
      "72/72 [==============================] - 0s 217us/step - loss: 0.4800 - acc: 0.8750 - val_loss: 0.4683 - val_acc: 0.8889\n",
      "Epoch 164/500\n",
      "72/72 [==============================] - 0s 217us/step - loss: 0.4787 - acc: 0.8750 - val_loss: 0.4672 - val_acc: 0.8889\n",
      "Epoch 165/500\n",
      "72/72 [==============================] - 0s 0us/step - loss: 0.4775 - acc: 0.8750 - val_loss: 0.4660 - val_acc: 0.8889\n",
      "Epoch 166/500\n",
      "72/72 [==============================] - 0s 0us/step - loss: 0.4763 - acc: 0.8750 - val_loss: 0.4647 - val_acc: 0.8889\n",
      "Epoch 167/500\n",
      "72/72 [==============================] - 0s 216us/step - loss: 0.4751 - acc: 0.8750 - val_loss: 0.4634 - val_acc: 0.8889\n",
      "Epoch 168/500\n",
      "72/72 [==============================] - 0s 217us/step - loss: 0.4738 - acc: 0.8750 - val_loss: 0.4621 - val_acc: 0.8889\n",
      "Epoch 169/500\n",
      "72/72 [==============================] - 0s 0us/step - loss: 0.4726 - acc: 0.8750 - val_loss: 0.4607 - val_acc: 0.8889\n",
      "Epoch 170/500\n",
      "72/72 [==============================] - 0s 217us/step - loss: 0.4714 - acc: 0.8750 - val_loss: 0.4594 - val_acc: 0.8889\n",
      "Epoch 171/500\n",
      "72/72 [==============================] - 0s 217us/step - loss: 0.4703 - acc: 0.8750 - val_loss: 0.4579 - val_acc: 0.8889\n",
      "Epoch 172/500\n",
      "72/72 [==============================] - 0s 0us/step - loss: 0.4689 - acc: 0.8750 - val_loss: 0.4565 - val_acc: 0.8889\n",
      "Epoch 173/500\n",
      "72/72 [==============================] - 0s 112us/step - loss: 0.4678 - acc: 0.8750 - val_loss: 0.4551 - val_acc: 0.8889\n",
      "Epoch 174/500\n",
      "72/72 [==============================] - 0s 167us/step - loss: 0.4665 - acc: 0.8750 - val_loss: 0.4538 - val_acc: 0.8889\n",
      "Epoch 175/500\n",
      "72/72 [==============================] - 0s 167us/step - loss: 0.4653 - acc: 0.8750 - val_loss: 0.4524 - val_acc: 0.8889\n",
      "Epoch 176/500\n",
      "72/72 [==============================] - 0s 167us/step - loss: 0.4642 - acc: 0.8750 - val_loss: 0.4511 - val_acc: 0.8889\n",
      "Epoch 177/500\n",
      "72/72 [==============================] - 0s 278us/step - loss: 0.4630 - acc: 0.8611 - val_loss: 0.4498 - val_acc: 0.8889\n",
      "Epoch 178/500\n",
      "72/72 [==============================] - 0s 444us/step - loss: 0.4619 - acc: 0.8611 - val_loss: 0.4486 - val_acc: 0.8889\n",
      "Epoch 179/500\n",
      "72/72 [==============================] - 0s 222us/step - loss: 0.4607 - acc: 0.8611 - val_loss: 0.4475 - val_acc: 0.8889\n",
      "Epoch 180/500\n",
      "72/72 [==============================] - 0s 223us/step - loss: 0.4596 - acc: 0.8611 - val_loss: 0.4464 - val_acc: 0.8889\n",
      "Epoch 181/500\n",
      "72/72 [==============================] - 0s 222us/step - loss: 0.4584 - acc: 0.8611 - val_loss: 0.4452 - val_acc: 0.8889\n"
     ]
    },
    {
     "name": "stdout",
     "output_type": "stream",
     "text": [
      "Epoch 182/500\n",
      "72/72 [==============================] - 0s 167us/step - loss: 0.4572 - acc: 0.8611 - val_loss: 0.4440 - val_acc: 0.8889\n",
      "Epoch 183/500\n",
      "72/72 [==============================] - 0s 222us/step - loss: 0.4560 - acc: 0.8750 - val_loss: 0.4427 - val_acc: 0.8889\n",
      "Epoch 184/500\n",
      "72/72 [==============================] - 0s 167us/step - loss: 0.4548 - acc: 0.8750 - val_loss: 0.4414 - val_acc: 0.8889\n",
      "Epoch 185/500\n",
      "72/72 [==============================] - ETA: 0s - loss: 0.4528 - acc: 0.906 - 0s 167us/step - loss: 0.4539 - acc: 0.8750 - val_loss: 0.4401 - val_acc: 0.8889\n",
      "Epoch 186/500\n",
      "72/72 [==============================] - 0s 167us/step - loss: 0.4526 - acc: 0.8750 - val_loss: 0.4387 - val_acc: 0.8889\n",
      "Epoch 187/500\n",
      "72/72 [==============================] - 0s 167us/step - loss: 0.4513 - acc: 0.8750 - val_loss: 0.4373 - val_acc: 0.8889\n",
      "Epoch 188/500\n",
      "72/72 [==============================] - ETA: 0s - loss: 0.4639 - acc: 0.843 - 0s 222us/step - loss: 0.4502 - acc: 0.8750 - val_loss: 0.4359 - val_acc: 0.8889\n",
      "Epoch 189/500\n",
      "72/72 [==============================] - 0s 167us/step - loss: 0.4490 - acc: 0.8750 - val_loss: 0.4346 - val_acc: 0.8889\n",
      "Epoch 190/500\n",
      "72/72 [==============================] - 0s 167us/step - loss: 0.4479 - acc: 0.8611 - val_loss: 0.4331 - val_acc: 0.8889\n",
      "Epoch 191/500\n",
      "72/72 [==============================] - 0s 167us/step - loss: 0.4467 - acc: 0.8611 - val_loss: 0.4318 - val_acc: 0.8889\n",
      "Epoch 192/500\n",
      "72/72 [==============================] - 0s 166us/step - loss: 0.4456 - acc: 0.8611 - val_loss: 0.4304 - val_acc: 0.8889\n",
      "Epoch 193/500\n",
      "72/72 [==============================] - 0s 167us/step - loss: 0.4445 - acc: 0.8611 - val_loss: 0.4291 - val_acc: 0.8889\n",
      "Epoch 194/500\n",
      "72/72 [==============================] - 0s 167us/step - loss: 0.4433 - acc: 0.8611 - val_loss: 0.4278 - val_acc: 0.8889\n",
      "Epoch 195/500\n",
      "72/72 [==============================] - 0s 222us/step - loss: 0.4423 - acc: 0.8611 - val_loss: 0.4265 - val_acc: 0.8889\n",
      "Epoch 196/500\n",
      "72/72 [==============================] - 0s 333us/step - loss: 0.4409 - acc: 0.8611 - val_loss: 0.4253 - val_acc: 0.8889\n",
      "Epoch 197/500\n",
      "72/72 [==============================] - 0s 389us/step - loss: 0.4398 - acc: 0.8611 - val_loss: 0.4242 - val_acc: 0.8889\n",
      "Epoch 198/500\n",
      "72/72 [==============================] - 0s 112us/step - loss: 0.4388 - acc: 0.8611 - val_loss: 0.4233 - val_acc: 0.8889\n",
      "Epoch 199/500\n",
      "72/72 [==============================] - 0s 434us/step - loss: 0.4376 - acc: 0.8611 - val_loss: 0.4224 - val_acc: 0.8889\n",
      "Epoch 200/500\n",
      "72/72 [==============================] - 0s 217us/step - loss: 0.4364 - acc: 0.8611 - val_loss: 0.4216 - val_acc: 0.8889\n",
      "Epoch 201/500\n",
      "72/72 [==============================] - 0s 0us/step - loss: 0.4353 - acc: 0.8611 - val_loss: 0.4210 - val_acc: 0.8889\n",
      "Epoch 202/500\n",
      "72/72 [==============================] - 0s 217us/step - loss: 0.4345 - acc: 0.8611 - val_loss: 0.4204 - val_acc: 0.8889\n",
      "Epoch 203/500\n",
      "72/72 [==============================] - 0s 217us/step - loss: 0.4332 - acc: 0.8750 - val_loss: 0.4195 - val_acc: 0.8889\n",
      "Epoch 204/500\n",
      "72/72 [==============================] - 0s 0us/step - loss: 0.4321 - acc: 0.8750 - val_loss: 0.4184 - val_acc: 0.8889\n",
      "Epoch 205/500\n",
      "72/72 [==============================] - 0s 0us/step - loss: 0.4310 - acc: 0.8750 - val_loss: 0.4173 - val_acc: 0.8889\n",
      "Epoch 206/500\n",
      "72/72 [==============================] - 0s 217us/step - loss: 0.4298 - acc: 0.8750 - val_loss: 0.4162 - val_acc: 0.8889\n",
      "Epoch 207/500\n",
      "72/72 [==============================] - 0s 217us/step - loss: 0.4287 - acc: 0.8750 - val_loss: 0.4150 - val_acc: 0.8889\n",
      "Epoch 208/500\n",
      "72/72 [==============================] - 0s 0us/step - loss: 0.4278 - acc: 0.8750 - val_loss: 0.4139 - val_acc: 0.8889\n",
      "Epoch 209/500\n",
      "72/72 [==============================] - 0s 0us/step - loss: 0.4265 - acc: 0.8750 - val_loss: 0.4131 - val_acc: 0.8889\n",
      "Epoch 210/500\n",
      "72/72 [==============================] - 0s 335us/step - loss: 0.4255 - acc: 0.8750 - val_loss: 0.4120 - val_acc: 0.8889\n",
      "Epoch 211/500\n",
      "72/72 [==============================] - 0s 0us/step - loss: 0.4245 - acc: 0.8750 - val_loss: 0.4109 - val_acc: 0.8889\n",
      "Epoch 212/500\n",
      "72/72 [==============================] - 0s 217us/step - loss: 0.4233 - acc: 0.8750 - val_loss: 0.4099 - val_acc: 0.8889\n",
      "Epoch 213/500\n",
      "72/72 [==============================] - 0s 217us/step - loss: 0.4225 - acc: 0.8750 - val_loss: 0.4087 - val_acc: 0.8889\n",
      "Epoch 214/500\n",
      "72/72 [==============================] - 0s 241us/step - loss: 0.4213 - acc: 0.8889 - val_loss: 0.4075 - val_acc: 0.8889\n",
      "Epoch 215/500\n",
      "72/72 [==============================] - 0s 278us/step - loss: 0.4203 - acc: 0.8889 - val_loss: 0.4064 - val_acc: 0.8889\n",
      "Epoch 216/500\n",
      "72/72 [==============================] - 0s 167us/step - loss: 0.4193 - acc: 0.8889 - val_loss: 0.4055 - val_acc: 0.8889\n",
      "Epoch 217/500\n",
      "72/72 [==============================] - 0s 223us/step - loss: 0.4183 - acc: 0.8889 - val_loss: 0.4044 - val_acc: 0.8889\n",
      "Epoch 218/500\n",
      "72/72 [==============================] - 0s 0us/step - loss: 0.4173 - acc: 0.8889 - val_loss: 0.4034 - val_acc: 0.8889\n",
      "Epoch 219/500\n",
      "72/72 [==============================] - 0s 217us/step - loss: 0.4166 - acc: 0.8750 - val_loss: 0.4023 - val_acc: 0.8889\n",
      "Epoch 220/500\n",
      "72/72 [==============================] - 0s 391us/step - loss: 0.4157 - acc: 0.8750 - val_loss: 0.4013 - val_acc: 0.8889\n",
      "Epoch 221/500\n",
      "72/72 [==============================] - 0s 113us/step - loss: 0.4148 - acc: 0.8750 - val_loss: 0.4002 - val_acc: 0.8333\n",
      "Epoch 222/500\n",
      "72/72 [==============================] - 0s 217us/step - loss: 0.4137 - acc: 0.8750 - val_loss: 0.3993 - val_acc: 0.8333\n",
      "Epoch 223/500\n",
      "72/72 [==============================] - 0s 0us/step - loss: 0.4128 - acc: 0.8750 - val_loss: 0.3984 - val_acc: 0.8333\n",
      "Epoch 224/500\n",
      "72/72 [==============================] - 0s 0us/step - loss: 0.4122 - acc: 0.8611 - val_loss: 0.3974 - val_acc: 0.8333\n",
      "Epoch 225/500\n",
      "72/72 [==============================] - 0s 216us/step - loss: 0.4113 - acc: 0.8611 - val_loss: 0.3964 - val_acc: 0.8333\n",
      "Epoch 226/500\n",
      "72/72 [==============================] - 0s 217us/step - loss: 0.4101 - acc: 0.8611 - val_loss: 0.3953 - val_acc: 0.8333\n",
      "Epoch 227/500\n",
      "72/72 [==============================] - 0s 217us/step - loss: 0.4091 - acc: 0.8750 - val_loss: 0.3943 - val_acc: 0.8333\n",
      "Epoch 228/500\n",
      "72/72 [==============================] - 0s 0us/step - loss: 0.4079 - acc: 0.8750 - val_loss: 0.3932 - val_acc: 0.8333\n",
      "Epoch 229/500\n",
      "72/72 [==============================] - 0s 336us/step - loss: 0.4068 - acc: 0.8750 - val_loss: 0.3920 - val_acc: 0.8889\n",
      "Epoch 230/500\n",
      "72/72 [==============================] - 0s 167us/step - loss: 0.4058 - acc: 0.8750 - val_loss: 0.3908 - val_acc: 0.8889\n",
      "Epoch 231/500\n",
      "72/72 [==============================] - 0s 222us/step - loss: 0.4049 - acc: 0.8750 - val_loss: 0.3898 - val_acc: 0.8889\n",
      "Epoch 232/500\n",
      "72/72 [==============================] - 0s 388us/step - loss: 0.4038 - acc: 0.8889 - val_loss: 0.3887 - val_acc: 0.8889\n",
      "Epoch 233/500\n",
      "72/72 [==============================] - 0s 217us/step - loss: 0.4031 - acc: 0.8750 - val_loss: 0.3876 - val_acc: 0.8333\n",
      "Epoch 234/500\n",
      "72/72 [==============================] - 0s 217us/step - loss: 0.4022 - acc: 0.8750 - val_loss: 0.3865 - val_acc: 0.8333\n",
      "Epoch 235/500\n",
      "72/72 [==============================] - 0s 0us/step - loss: 0.4012 - acc: 0.8750 - val_loss: 0.3855 - val_acc: 0.8333\n",
      "Epoch 236/500\n",
      "72/72 [==============================] - 0s 217us/step - loss: 0.4003 - acc: 0.8750 - val_loss: 0.3847 - val_acc: 0.8333\n",
      "Epoch 237/500\n",
      "72/72 [==============================] - 0s 217us/step - loss: 0.3993 - acc: 0.8750 - val_loss: 0.3840 - val_acc: 0.8889\n",
      "Epoch 238/500\n",
      "72/72 [==============================] - 0s 217us/step - loss: 0.3984 - acc: 0.8889 - val_loss: 0.3832 - val_acc: 0.8889\n",
      "Epoch 239/500\n",
      "72/72 [==============================] - 0s 434us/step - loss: 0.3974 - acc: 0.8889 - val_loss: 0.3824 - val_acc: 0.8333\n",
      "Epoch 240/500\n",
      "72/72 [==============================] - 0s 217us/step - loss: 0.3965 - acc: 0.8889 - val_loss: 0.3817 - val_acc: 0.8333\n",
      "Epoch 241/500\n",
      "72/72 [==============================] - 0s 217us/step - loss: 0.3957 - acc: 0.8750 - val_loss: 0.3810 - val_acc: 0.8333\n",
      "Epoch 242/500\n",
      "72/72 [==============================] - 0s 217us/step - loss: 0.3948 - acc: 0.8889 - val_loss: 0.3801 - val_acc: 0.8333\n",
      "Epoch 243/500\n",
      "72/72 [==============================] - 0s 217us/step - loss: 0.3938 - acc: 0.8889 - val_loss: 0.3793 - val_acc: 0.8333\n",
      "Epoch 244/500\n",
      "72/72 [==============================] - 0s 0us/step - loss: 0.3929 - acc: 0.8889 - val_loss: 0.3786 - val_acc: 0.8333\n",
      "Epoch 245/500\n",
      "72/72 [==============================] - 0s 434us/step - loss: 0.3921 - acc: 0.8889 - val_loss: 0.3778 - val_acc: 0.8333\n",
      "Epoch 246/500\n",
      "72/72 [==============================] - 0s 434us/step - loss: 0.3910 - acc: 0.8889 - val_loss: 0.3771 - val_acc: 0.8333\n",
      "Epoch 247/500\n",
      "72/72 [==============================] - 0s 217us/step - loss: 0.3902 - acc: 0.8889 - val_loss: 0.3762 - val_acc: 0.8333\n",
      "Epoch 248/500\n",
      "72/72 [==============================] - 0s 217us/step - loss: 0.3893 - acc: 0.8889 - val_loss: 0.3752 - val_acc: 0.8333\n",
      "Epoch 249/500\n",
      "72/72 [==============================] - 0s 217us/step - loss: 0.3884 - acc: 0.8889 - val_loss: 0.3742 - val_acc: 0.8333\n",
      "Epoch 250/500\n",
      "72/72 [==============================] - 0s 0us/step - loss: 0.3874 - acc: 0.8889 - val_loss: 0.3732 - val_acc: 0.8333\n",
      "Epoch 251/500\n",
      "72/72 [==============================] - 0s 217us/step - loss: 0.3865 - acc: 0.8889 - val_loss: 0.3722 - val_acc: 0.8333\n",
      "Epoch 252/500\n",
      "72/72 [==============================] - 0s 217us/step - loss: 0.3856 - acc: 0.8889 - val_loss: 0.3713 - val_acc: 0.8333\n",
      "Epoch 253/500\n",
      "72/72 [==============================] - 0s 217us/step - loss: 0.3847 - acc: 0.8889 - val_loss: 0.3705 - val_acc: 0.8333\n",
      "Epoch 254/500\n",
      "72/72 [==============================] - 0s 0us/step - loss: 0.3837 - acc: 0.8889 - val_loss: 0.3696 - val_acc: 0.8333\n",
      "Epoch 255/500\n",
      "72/72 [==============================] - 0s 217us/step - loss: 0.3828 - acc: 0.8889 - val_loss: 0.3687 - val_acc: 0.8333\n",
      "Epoch 256/500\n",
      "72/72 [==============================] - 0s 216us/step - loss: 0.3819 - acc: 0.8889 - val_loss: 0.3679 - val_acc: 0.8333\n",
      "Epoch 257/500\n",
      "72/72 [==============================] - 0s 217us/step - loss: 0.3811 - acc: 0.8889 - val_loss: 0.3671 - val_acc: 0.8333\n",
      "Epoch 258/500\n",
      "72/72 [==============================] - 0s 217us/step - loss: 0.3800 - acc: 0.8889 - val_loss: 0.3664 - val_acc: 0.8333\n",
      "Epoch 259/500\n",
      "72/72 [==============================] - 0s 217us/step - loss: 0.3792 - acc: 0.8889 - val_loss: 0.3657 - val_acc: 0.8333\n",
      "Epoch 260/500\n",
      "72/72 [==============================] - 0s 187us/step - loss: 0.3783 - acc: 0.8889 - val_loss: 0.3649 - val_acc: 0.8333\n",
      "Epoch 261/500\n",
      "72/72 [==============================] - 0s 167us/step - loss: 0.3777 - acc: 0.8889 - val_loss: 0.3642 - val_acc: 0.8333\n",
      "Epoch 262/500\n",
      "72/72 [==============================] - 0s 167us/step - loss: 0.3769 - acc: 0.8889 - val_loss: 0.3636 - val_acc: 0.8333\n",
      "Epoch 263/500\n",
      "72/72 [==============================] - 0s 166us/step - loss: 0.3759 - acc: 0.8889 - val_loss: 0.3628 - val_acc: 0.8333\n",
      "Epoch 264/500\n",
      "72/72 [==============================] - 0s 167us/step - loss: 0.3750 - acc: 0.8889 - val_loss: 0.3621 - val_acc: 0.8333\n",
      "Epoch 265/500\n",
      "72/72 [==============================] - 0s 222us/step - loss: 0.3741 - acc: 0.8889 - val_loss: 0.3612 - val_acc: 0.8333\n",
      "Epoch 266/500\n",
      "72/72 [==============================] - 0s 167us/step - loss: 0.3734 - acc: 0.8889 - val_loss: 0.3604 - val_acc: 0.8333\n",
      "Epoch 267/500\n",
      "72/72 [==============================] - 0s 167us/step - loss: 0.3724 - acc: 0.8889 - val_loss: 0.3596 - val_acc: 0.8333\n",
      "Epoch 268/500\n",
      "72/72 [==============================] - 0s 222us/step - loss: 0.3715 - acc: 0.8889 - val_loss: 0.3588 - val_acc: 0.8333\n",
      "Epoch 269/500\n",
      "72/72 [==============================] - 0s 222us/step - loss: 0.3708 - acc: 0.8889 - val_loss: 0.3581 - val_acc: 0.8333\n",
      "Epoch 270/500\n",
      "72/72 [==============================] - 0s 167us/step - loss: 0.3697 - acc: 0.8889 - val_loss: 0.3574 - val_acc: 0.8333\n",
      "Epoch 271/500\n",
      "72/72 [==============================] - 0s 167us/step - loss: 0.3690 - acc: 0.8889 - val_loss: 0.3567 - val_acc: 0.8333\n",
      "Epoch 272/500\n",
      "72/72 [==============================] - 0s 222us/step - loss: 0.3681 - acc: 0.8889 - val_loss: 0.3560 - val_acc: 0.8889\n",
      "Epoch 273/500\n",
      "72/72 [==============================] - 0s 167us/step - loss: 0.3672 - acc: 0.8889 - val_loss: 0.3553 - val_acc: 0.8889\n",
      "Epoch 274/500\n",
      "72/72 [==============================] - 0s 167us/step - loss: 0.3664 - acc: 0.8889 - val_loss: 0.3546 - val_acc: 0.8889\n",
      "Epoch 275/500\n",
      "72/72 [==============================] - 0s 167us/step - loss: 0.3656 - acc: 0.8889 - val_loss: 0.3540 - val_acc: 0.8889\n",
      "Epoch 276/500\n",
      "72/72 [==============================] - 0s 166us/step - loss: 0.3649 - acc: 0.8889 - val_loss: 0.3533 - val_acc: 0.8889\n",
      "Epoch 277/500\n",
      "72/72 [==============================] - 0s 167us/step - loss: 0.3640 - acc: 0.8889 - val_loss: 0.3528 - val_acc: 0.8889\n",
      "Epoch 278/500\n",
      "72/72 [==============================] - 0s 166us/step - loss: 0.3633 - acc: 0.8889 - val_loss: 0.3522 - val_acc: 0.8333\n",
      "Epoch 279/500\n",
      "72/72 [==============================] - 0s 167us/step - loss: 0.3625 - acc: 0.8889 - val_loss: 0.3516 - val_acc: 0.8333\n",
      "Epoch 280/500\n",
      "72/72 [==============================] - 0s 222us/step - loss: 0.3617 - acc: 0.8889 - val_loss: 0.3510 - val_acc: 0.8333\n",
      "Epoch 281/500\n",
      "72/72 [==============================] - 0s 167us/step - loss: 0.3608 - acc: 0.8889 - val_loss: 0.3503 - val_acc: 0.8333\n",
      "Epoch 282/500\n",
      "72/72 [==============================] - 0s 167us/step - loss: 0.3601 - acc: 0.8889 - val_loss: 0.3496 - val_acc: 0.8889\n",
      "Epoch 283/500\n",
      "72/72 [==============================] - 0s 167us/step - loss: 0.3592 - acc: 0.8889 - val_loss: 0.3488 - val_acc: 0.8889\n",
      "Epoch 284/500\n",
      "72/72 [==============================] - 0s 166us/step - loss: 0.3586 - acc: 0.8889 - val_loss: 0.3479 - val_acc: 0.8889\n",
      "Epoch 285/500\n",
      "72/72 [==============================] - 0s 167us/step - loss: 0.3578 - acc: 0.8889 - val_loss: 0.3472 - val_acc: 0.8889\n",
      "Epoch 286/500\n",
      "72/72 [==============================] - 0s 166us/step - loss: 0.3571 - acc: 0.8889 - val_loss: 0.3465 - val_acc: 0.8889\n",
      "Epoch 287/500\n",
      "72/72 [==============================] - 0s 112us/step - loss: 0.3562 - acc: 0.8889 - val_loss: 0.3458 - val_acc: 0.8889\n",
      "Epoch 288/500\n",
      "72/72 [==============================] - 0s 0us/step - loss: 0.3555 - acc: 0.8889 - val_loss: 0.3452 - val_acc: 0.8889\n",
      "Epoch 289/500\n",
      "72/72 [==============================] - 0s 217us/step - loss: 0.3546 - acc: 0.8889 - val_loss: 0.3447 - val_acc: 0.8889\n",
      "Epoch 290/500\n",
      "72/72 [==============================] - 0s 217us/step - loss: 0.3538 - acc: 0.8889 - val_loss: 0.3441 - val_acc: 0.8889\n",
      "Epoch 291/500\n",
      "72/72 [==============================] - 0s 217us/step - loss: 0.3531 - acc: 0.8889 - val_loss: 0.3435 - val_acc: 0.8889\n",
      "Epoch 292/500\n",
      "72/72 [==============================] - 0s 0us/step - loss: 0.3522 - acc: 0.8889 - val_loss: 0.3430 - val_acc: 0.8889\n",
      "Epoch 293/500\n",
      "72/72 [==============================] - 0s 217us/step - loss: 0.3515 - acc: 0.8889 - val_loss: 0.3424 - val_acc: 0.8889\n",
      "Epoch 294/500\n",
      "72/72 [==============================] - 0s 217us/step - loss: 0.3508 - acc: 0.8889 - val_loss: 0.3419 - val_acc: 0.8889\n",
      "Epoch 295/500\n",
      "72/72 [==============================] - ETA: 0s - loss: 0.3875 - acc: 0.843 - 0s 0us/step - loss: 0.3501 - acc: 0.8889 - val_loss: 0.3413 - val_acc: 0.8333\n",
      "Epoch 296/500\n",
      "72/72 [==============================] - 0s 0us/step - loss: 0.3494 - acc: 0.8889 - val_loss: 0.3407 - val_acc: 0.8333\n",
      "Epoch 297/500\n",
      "72/72 [==============================] - 0s 217us/step - loss: 0.3490 - acc: 0.8889 - val_loss: 0.3401 - val_acc: 0.8333\n",
      "Epoch 298/500\n",
      "72/72 [==============================] - 0s 217us/step - loss: 0.3483 - acc: 0.8889 - val_loss: 0.3395 - val_acc: 0.8333\n",
      "Epoch 299/500\n",
      "72/72 [==============================] - 0s 0us/step - loss: 0.3474 - acc: 0.8889 - val_loss: 0.3388 - val_acc: 0.8333\n",
      "Epoch 300/500\n",
      "72/72 [==============================] - 0s 217us/step - loss: 0.3468 - acc: 0.8889 - val_loss: 0.3381 - val_acc: 0.8333\n",
      "Epoch 301/500\n",
      "72/72 [==============================] - 0s 217us/step - loss: 0.3461 - acc: 0.8889 - val_loss: 0.3373 - val_acc: 0.8889\n",
      "Epoch 302/500\n"
     ]
    },
    {
     "name": "stdout",
     "output_type": "stream",
     "text": [
      "72/72 [==============================] - 0s 217us/step - loss: 0.3452 - acc: 0.8889 - val_loss: 0.3367 - val_acc: 0.8889\n",
      "Epoch 303/500\n",
      "72/72 [==============================] - 0s 0us/step - loss: 0.3444 - acc: 0.8889 - val_loss: 0.3361 - val_acc: 0.8889\n",
      "Epoch 304/500\n",
      "72/72 [==============================] - 0s 217us/step - loss: 0.3438 - acc: 0.8889 - val_loss: 0.3356 - val_acc: 0.8889\n",
      "Epoch 305/500\n",
      "72/72 [==============================] - 0s 234us/step - loss: 0.3431 - acc: 0.8889 - val_loss: 0.3351 - val_acc: 0.8889\n",
      "Epoch 306/500\n",
      "72/72 [==============================] - 0s 222us/step - loss: 0.3424 - acc: 0.8889 - val_loss: 0.3347 - val_acc: 0.8889\n",
      "Epoch 307/500\n",
      "72/72 [==============================] - 0s 222us/step - loss: 0.3418 - acc: 0.8889 - val_loss: 0.3342 - val_acc: 0.8889\n",
      "Epoch 308/500\n",
      "72/72 [==============================] - 0s 112us/step - loss: 0.3411 - acc: 0.8889 - val_loss: 0.3337 - val_acc: 0.8889\n",
      "Epoch 309/500\n",
      "72/72 [==============================] - 0s 111us/step - loss: 0.3404 - acc: 0.8889 - val_loss: 0.3330 - val_acc: 0.8889\n",
      "Epoch 310/500\n",
      "72/72 [==============================] - 0s 167us/step - loss: 0.3397 - acc: 0.8889 - val_loss: 0.3323 - val_acc: 0.8889\n",
      "Epoch 311/500\n",
      "72/72 [==============================] - 0s 0us/step - loss: 0.3389 - acc: 0.8889 - val_loss: 0.3317 - val_acc: 0.8889\n",
      "Epoch 312/500\n",
      "72/72 [==============================] - 0s 217us/step - loss: 0.3382 - acc: 0.9028 - val_loss: 0.3310 - val_acc: 0.8889\n",
      "Epoch 313/500\n",
      "72/72 [==============================] - 0s 217us/step - loss: 0.3375 - acc: 0.9028 - val_loss: 0.3303 - val_acc: 0.8889\n",
      "Epoch 314/500\n",
      "72/72 [==============================] - 0s 217us/step - loss: 0.3368 - acc: 0.9028 - val_loss: 0.3297 - val_acc: 0.8889\n",
      "Epoch 315/500\n",
      "72/72 [==============================] - 0s 0us/step - loss: 0.3360 - acc: 0.9028 - val_loss: 0.3291 - val_acc: 0.8889\n",
      "Epoch 316/500\n",
      "72/72 [==============================] - 0s 217us/step - loss: 0.3354 - acc: 0.9028 - val_loss: 0.3284 - val_acc: 0.8889\n",
      "Epoch 317/500\n",
      "72/72 [==============================] - 0s 217us/step - loss: 0.3347 - acc: 0.9028 - val_loss: 0.3277 - val_acc: 0.8889\n",
      "Epoch 318/500\n",
      "72/72 [==============================] - 0s 0us/step - loss: 0.3339 - acc: 0.9028 - val_loss: 0.3272 - val_acc: 0.8889\n",
      "Epoch 319/500\n",
      "72/72 [==============================] - 0s 217us/step - loss: 0.3333 - acc: 0.9028 - val_loss: 0.3267 - val_acc: 0.8889\n",
      "Epoch 320/500\n",
      "72/72 [==============================] - 0s 279us/step - loss: 0.3327 - acc: 0.9028 - val_loss: 0.3262 - val_acc: 0.8889\n",
      "Epoch 321/500\n",
      "72/72 [==============================] - 0s 167us/step - loss: 0.3320 - acc: 0.9028 - val_loss: 0.3257 - val_acc: 0.8889\n",
      "Epoch 322/500\n",
      "72/72 [==============================] - 0s 167us/step - loss: 0.3313 - acc: 0.9028 - val_loss: 0.3252 - val_acc: 0.8889\n",
      "Epoch 323/500\n",
      "72/72 [==============================] - 0s 167us/step - loss: 0.3307 - acc: 0.9028 - val_loss: 0.3246 - val_acc: 0.8889\n",
      "Epoch 324/500\n",
      "72/72 [==============================] - 0s 389us/step - loss: 0.3299 - acc: 0.9028 - val_loss: 0.3241 - val_acc: 0.8889\n",
      "Epoch 325/500\n",
      "72/72 [==============================] - 0s 56us/step - loss: 0.3295 - acc: 0.9028 - val_loss: 0.3236 - val_acc: 0.8889\n",
      "Epoch 326/500\n",
      "72/72 [==============================] - 0s 217us/step - loss: 0.3286 - acc: 0.9028 - val_loss: 0.3229 - val_acc: 0.8889\n",
      "Epoch 327/500\n",
      "72/72 [==============================] - 0s 217us/step - loss: 0.3279 - acc: 0.9028 - val_loss: 0.3223 - val_acc: 0.8889\n",
      "Epoch 328/500\n",
      "72/72 [==============================] - 0s 0us/step - loss: 0.3273 - acc: 0.9028 - val_loss: 0.3216 - val_acc: 0.8889\n",
      "Epoch 329/500\n",
      "72/72 [==============================] - 0s 217us/step - loss: 0.3267 - acc: 0.9028 - val_loss: 0.3208 - val_acc: 0.8889\n",
      "Epoch 330/500\n",
      "72/72 [==============================] - 0s 217us/step - loss: 0.3260 - acc: 0.9028 - val_loss: 0.3203 - val_acc: 0.8889\n",
      "Epoch 331/500\n",
      "72/72 [==============================] - 0s 217us/step - loss: 0.3253 - acc: 0.9028 - val_loss: 0.3198 - val_acc: 0.8889\n",
      "Epoch 332/500\n",
      "72/72 [==============================] - 0s 651us/step - loss: 0.3247 - acc: 0.9028 - val_loss: 0.3193 - val_acc: 0.8889\n",
      "Epoch 333/500\n",
      "72/72 [==============================] - 0s 217us/step - loss: 0.3241 - acc: 0.9028 - val_loss: 0.3188 - val_acc: 0.8889\n",
      "Epoch 334/500\n",
      "72/72 [==============================] - 0s 217us/step - loss: 0.3234 - acc: 0.9028 - val_loss: 0.3185 - val_acc: 0.8889\n",
      "Epoch 335/500\n",
      "72/72 [==============================] - 0s 217us/step - loss: 0.3228 - acc: 0.9028 - val_loss: 0.3182 - val_acc: 0.8889\n",
      "Epoch 336/500\n",
      "72/72 [==============================] - 0s 187us/step - loss: 0.3221 - acc: 0.9028 - val_loss: 0.3177 - val_acc: 0.8889\n",
      "Epoch 337/500\n",
      "72/72 [==============================] - 0s 64us/step - loss: 0.3216 - acc: 0.9028 - val_loss: 0.3172 - val_acc: 0.8889\n",
      "Epoch 338/500\n",
      "72/72 [==============================] - 0s 434us/step - loss: 0.3209 - acc: 0.9028 - val_loss: 0.3167 - val_acc: 0.8889\n",
      "Epoch 339/500\n",
      "72/72 [==============================] - 0s 217us/step - loss: 0.3202 - acc: 0.9028 - val_loss: 0.3161 - val_acc: 0.8889\n",
      "Epoch 340/500\n",
      "72/72 [==============================] - 0s 217us/step - loss: 0.3196 - acc: 0.9028 - val_loss: 0.3155 - val_acc: 0.8889\n",
      "Epoch 341/500\n",
      "72/72 [==============================] - 0s 0us/step - loss: 0.3191 - acc: 0.9028 - val_loss: 0.3149 - val_acc: 0.8889\n",
      "Epoch 342/500\n",
      "72/72 [==============================] - 0s 0us/step - loss: 0.3184 - acc: 0.9028 - val_loss: 0.3143 - val_acc: 0.8889\n",
      "Epoch 343/500\n",
      "72/72 [==============================] - 0s 217us/step - loss: 0.3178 - acc: 0.9028 - val_loss: 0.3135 - val_acc: 0.8889\n",
      "Epoch 344/500\n",
      "72/72 [==============================] - 0s 217us/step - loss: 0.3172 - acc: 0.9028 - val_loss: 0.3129 - val_acc: 0.8889\n",
      "Epoch 345/500\n",
      "72/72 [==============================] - 0s 0us/step - loss: 0.3167 - acc: 0.9028 - val_loss: 0.3125 - val_acc: 0.8889\n",
      "Epoch 346/500\n",
      "72/72 [==============================] - 0s 217us/step - loss: 0.3160 - acc: 0.9028 - val_loss: 0.3121 - val_acc: 0.8889\n",
      "Epoch 347/500\n",
      "72/72 [==============================] - 0s 217us/step - loss: 0.3154 - acc: 0.9028 - val_loss: 0.3117 - val_acc: 0.8889\n",
      "Epoch 348/500\n",
      "72/72 [==============================] - 0s 0us/step - loss: 0.3150 - acc: 0.9028 - val_loss: 0.3112 - val_acc: 0.8889\n",
      "Epoch 349/500\n",
      "72/72 [==============================] - 0s 217us/step - loss: 0.3142 - acc: 0.9028 - val_loss: 0.3107 - val_acc: 0.8889\n",
      "Epoch 350/500\n",
      "72/72 [==============================] - 0s 217us/step - loss: 0.3137 - acc: 0.9028 - val_loss: 0.3104 - val_acc: 0.8889\n",
      "Epoch 351/500\n",
      "72/72 [==============================] - 0s 0us/step - loss: 0.3130 - acc: 0.9028 - val_loss: 0.3098 - val_acc: 0.8889\n",
      "Epoch 352/500\n",
      "72/72 [==============================] - 0s 0us/step - loss: 0.3125 - acc: 0.9028 - val_loss: 0.3092 - val_acc: 0.8889\n",
      "Epoch 353/500\n",
      "72/72 [==============================] - 0s 217us/step - loss: 0.3119 - acc: 0.9028 - val_loss: 0.3086 - val_acc: 0.8889\n",
      "Epoch 354/500\n",
      "72/72 [==============================] - 0s 217us/step - loss: 0.3114 - acc: 0.9028 - val_loss: 0.3081 - val_acc: 0.8889\n",
      "Epoch 355/500\n",
      "72/72 [==============================] - 0s 0us/step - loss: 0.3109 - acc: 0.9028 - val_loss: 0.3075 - val_acc: 0.8889\n",
      "Epoch 356/500\n",
      "72/72 [==============================] - 0s 217us/step - loss: 0.3103 - acc: 0.9028 - val_loss: 0.3070 - val_acc: 0.8889\n",
      "Epoch 357/500\n",
      "72/72 [==============================] - 0s 216us/step - loss: 0.3097 - acc: 0.9028 - val_loss: 0.3066 - val_acc: 0.8889\n",
      "Epoch 358/500\n",
      "72/72 [==============================] - 0s 0us/step - loss: 0.3091 - acc: 0.9028 - val_loss: 0.3061 - val_acc: 0.8889\n",
      "Epoch 359/500\n",
      "72/72 [==============================] - 0s 217us/step - loss: 0.3086 - acc: 0.9028 - val_loss: 0.3056 - val_acc: 0.8889\n",
      "Epoch 360/500\n",
      "72/72 [==============================] - 0s 217us/step - loss: 0.3081 - acc: 0.9028 - val_loss: 0.3049 - val_acc: 0.8889\n",
      "Epoch 361/500\n",
      "72/72 [==============================] - 0s 216us/step - loss: 0.3076 - acc: 0.9028 - val_loss: 0.3043 - val_acc: 0.8889\n",
      "Epoch 362/500\n",
      "72/72 [==============================] - 0s 0us/step - loss: 0.3071 - acc: 0.9028 - val_loss: 0.3036 - val_acc: 0.8889\n",
      "Epoch 363/500\n"
     ]
    },
    {
     "name": "stdout",
     "output_type": "stream",
     "text": [
      "72/72 [==============================] - 0s 217us/step - loss: 0.3066 - acc: 0.9028 - val_loss: 0.3029 - val_acc: 0.8889\n",
      "Epoch 364/500\n",
      "72/72 [==============================] - 0s 217us/step - loss: 0.3061 - acc: 0.9028 - val_loss: 0.3023 - val_acc: 0.8889\n",
      "Epoch 365/500\n",
      "72/72 [==============================] - 0s 0us/step - loss: 0.3055 - acc: 0.9028 - val_loss: 0.3016 - val_acc: 0.8889\n",
      "Epoch 366/500\n",
      "72/72 [==============================] - 0s 0us/step - loss: 0.3050 - acc: 0.9028 - val_loss: 0.3010 - val_acc: 0.8889\n",
      "Epoch 367/500\n",
      "72/72 [==============================] - 0s 335us/step - loss: 0.3044 - acc: 0.9028 - val_loss: 0.3004 - val_acc: 0.8889\n",
      "Epoch 368/500\n",
      "72/72 [==============================] - 0s 0us/step - loss: 0.3038 - acc: 0.9028 - val_loss: 0.2997 - val_acc: 0.8889\n",
      "Epoch 369/500\n",
      "72/72 [==============================] - 0s 396us/step - loss: 0.3033 - acc: 0.9028 - val_loss: 0.2991 - val_acc: 0.8889\n",
      "Epoch 370/500\n",
      "72/72 [==============================] - 0s 167us/step - loss: 0.3028 - acc: 0.9028 - val_loss: 0.2986 - val_acc: 0.8889\n",
      "Epoch 371/500\n",
      "72/72 [==============================] - 0s 166us/step - loss: 0.3023 - acc: 0.9028 - val_loss: 0.2980 - val_acc: 0.8889\n",
      "Epoch 372/500\n",
      "72/72 [==============================] - 0s 222us/step - loss: 0.3017 - acc: 0.9028 - val_loss: 0.2974 - val_acc: 0.8889\n",
      "Epoch 373/500\n",
      "72/72 [==============================] - 0s 167us/step - loss: 0.3012 - acc: 0.9028 - val_loss: 0.2969 - val_acc: 0.8889\n",
      "Epoch 374/500\n",
      "72/72 [==============================] - 0s 389us/step - loss: 0.3008 - acc: 0.9028 - val_loss: 0.2964 - val_acc: 0.8889\n",
      "Epoch 375/500\n",
      "72/72 [==============================] - 0s 333us/step - loss: 0.3004 - acc: 0.9028 - val_loss: 0.2959 - val_acc: 0.8889\n",
      "Epoch 376/500\n",
      "72/72 [==============================] - 0s 222us/step - loss: 0.2998 - acc: 0.9028 - val_loss: 0.2954 - val_acc: 0.8889\n",
      "Epoch 377/500\n",
      "72/72 [==============================] - 0s 222us/step - loss: 0.2993 - acc: 0.9028 - val_loss: 0.2949 - val_acc: 0.8889\n",
      "Epoch 378/500\n",
      "72/72 [==============================] - 0s 167us/step - loss: 0.2989 - acc: 0.9028 - val_loss: 0.2943 - val_acc: 0.8889\n",
      "Epoch 379/500\n",
      "72/72 [==============================] - 0s 666us/step - loss: 0.2982 - acc: 0.9028 - val_loss: 0.2939 - val_acc: 0.8889\n",
      "Epoch 380/500\n",
      "72/72 [==============================] - 0s 333us/step - loss: 0.2977 - acc: 0.9028 - val_loss: 0.2934 - val_acc: 0.8889\n",
      "Epoch 381/500\n",
      "72/72 [==============================] - 0s 278us/step - loss: 0.2973 - acc: 0.9028 - val_loss: 0.2930 - val_acc: 0.8889\n",
      "Epoch 382/500\n",
      "72/72 [==============================] - 0s 167us/step - loss: 0.2968 - acc: 0.9028 - val_loss: 0.2925 - val_acc: 0.8889\n",
      "Epoch 383/500\n",
      "72/72 [==============================] - 0s 167us/step - loss: 0.2963 - acc: 0.9028 - val_loss: 0.2919 - val_acc: 0.8889\n",
      "Epoch 384/500\n",
      "72/72 [==============================] - 0s 167us/step - loss: 0.2957 - acc: 0.9028 - val_loss: 0.2914 - val_acc: 0.8889\n",
      "Epoch 385/500\n",
      "72/72 [==============================] - 0s 166us/step - loss: 0.2953 - acc: 0.9028 - val_loss: 0.2908 - val_acc: 0.8889\n",
      "Epoch 386/500\n",
      "72/72 [==============================] - 0s 167us/step - loss: 0.2946 - acc: 0.9028 - val_loss: 0.2904 - val_acc: 0.8889\n",
      "Epoch 387/500\n",
      "72/72 [==============================] - 0s 500us/step - loss: 0.2941 - acc: 0.9028 - val_loss: 0.2900 - val_acc: 0.8889\n",
      "Epoch 388/500\n",
      "72/72 [==============================] - 0s 278us/step - loss: 0.2938 - acc: 0.9028 - val_loss: 0.2895 - val_acc: 0.8889\n",
      "Epoch 389/500\n",
      "72/72 [==============================] - 0s 217us/step - loss: 0.2932 - acc: 0.9028 - val_loss: 0.2890 - val_acc: 0.8889\n",
      "Epoch 390/500\n",
      "72/72 [==============================] - 0s 0us/step - loss: 0.2926 - acc: 0.9028 - val_loss: 0.2886 - val_acc: 0.8889\n",
      "Epoch 391/500\n",
      "72/72 [==============================] - 0s 217us/step - loss: 0.2923 - acc: 0.9028 - val_loss: 0.2883 - val_acc: 0.8889\n",
      "Epoch 392/500\n",
      "72/72 [==============================] - 0s 217us/step - loss: 0.2917 - acc: 0.9028 - val_loss: 0.2879 - val_acc: 0.8889\n",
      "Epoch 393/500\n",
      "72/72 [==============================] - 0s 0us/step - loss: 0.2912 - acc: 0.9028 - val_loss: 0.2875 - val_acc: 0.8889\n",
      "Epoch 394/500\n",
      "72/72 [==============================] - 0s 0us/step - loss: 0.2907 - acc: 0.9028 - val_loss: 0.2871 - val_acc: 0.8889\n",
      "Epoch 395/500\n",
      "72/72 [==============================] - 0s 218us/step - loss: 0.2904 - acc: 0.9028 - val_loss: 0.2867 - val_acc: 0.8889\n",
      "Epoch 396/500\n",
      "72/72 [==============================] - ETA: 0s - loss: 0.2642 - acc: 0.937 - 0s 216us/step - loss: 0.2898 - acc: 0.9028 - val_loss: 0.2863 - val_acc: 0.8889\n",
      "Epoch 397/500\n",
      "72/72 [==============================] - 0s 0us/step - loss: 0.2891 - acc: 0.9028 - val_loss: 0.2860 - val_acc: 0.8889\n",
      "Epoch 398/500\n",
      "72/72 [==============================] - 0s 217us/step - loss: 0.2885 - acc: 0.9028 - val_loss: 0.2857 - val_acc: 0.8889\n",
      "Epoch 399/500\n",
      "72/72 [==============================] - 0s 217us/step - loss: 0.2880 - acc: 0.9028 - val_loss: 0.2854 - val_acc: 0.8889\n",
      "Epoch 400/500\n",
      "72/72 [==============================] - ETA: 0s - loss: 0.3676 - acc: 0.843 - 0s 217us/step - loss: 0.2876 - acc: 0.9028 - val_loss: 0.2853 - val_acc: 0.8889\n",
      "Epoch 401/500\n",
      "72/72 [==============================] - 0s 0us/step - loss: 0.2872 - acc: 0.9028 - val_loss: 0.2853 - val_acc: 0.8889\n",
      "Epoch 402/500\n",
      "72/72 [==============================] - 0s 217us/step - loss: 0.2870 - acc: 0.9028 - val_loss: 0.2851 - val_acc: 0.8889\n",
      "Epoch 403/500\n",
      "72/72 [==============================] - 0s 217us/step - loss: 0.2865 - acc: 0.9028 - val_loss: 0.2849 - val_acc: 0.8889\n",
      "Epoch 404/500\n",
      "72/72 [==============================] - 0s 0us/step - loss: 0.2861 - acc: 0.9028 - val_loss: 0.2845 - val_acc: 0.8889\n",
      "Epoch 405/500\n",
      "72/72 [==============================] - 0s 167us/step - loss: 0.2856 - acc: 0.9028 - val_loss: 0.2842 - val_acc: 0.8889\n",
      "Epoch 406/500\n",
      "72/72 [==============================] - 0s 181us/step - loss: 0.2851 - acc: 0.9028 - val_loss: 0.2838 - val_acc: 0.8889\n",
      "Epoch 407/500\n",
      "72/72 [==============================] - 0s 222us/step - loss: 0.2846 - acc: 0.9028 - val_loss: 0.2833 - val_acc: 0.8889\n",
      "Epoch 408/500\n",
      "72/72 [==============================] - 0s 167us/step - loss: 0.2840 - acc: 0.9028 - val_loss: 0.2830 - val_acc: 0.8889\n",
      "Epoch 409/500\n",
      "72/72 [==============================] - 0s 110us/step - loss: 0.2838 - acc: 0.9028 - val_loss: 0.2826 - val_acc: 0.8889\n",
      "Epoch 410/500\n",
      "72/72 [==============================] - 0s 111us/step - loss: 0.2830 - acc: 0.9028 - val_loss: 0.2821 - val_acc: 0.8889\n",
      "Epoch 411/500\n",
      "72/72 [==============================] - 0s 0us/step - loss: 0.2827 - acc: 0.9028 - val_loss: 0.2817 - val_acc: 0.8889\n",
      "Epoch 412/500\n",
      "72/72 [==============================] - 0s 217us/step - loss: 0.2820 - acc: 0.9028 - val_loss: 0.2813 - val_acc: 0.8889\n",
      "Epoch 413/500\n",
      "72/72 [==============================] - 0s 217us/step - loss: 0.2817 - acc: 0.9028 - val_loss: 0.2810 - val_acc: 0.8889\n",
      "Epoch 414/500\n",
      "72/72 [==============================] - 0s 217us/step - loss: 0.2811 - acc: 0.9028 - val_loss: 0.2806 - val_acc: 0.8889\n",
      "Epoch 415/500\n",
      "72/72 [==============================] - 0s 0us/step - loss: 0.2807 - acc: 0.9028 - val_loss: 0.2802 - val_acc: 0.8889\n",
      "Epoch 416/500\n",
      "72/72 [==============================] - 0s 217us/step - loss: 0.2801 - acc: 0.9028 - val_loss: 0.2797 - val_acc: 0.8889\n",
      "Epoch 417/500\n",
      "72/72 [==============================] - 0s 222us/step - loss: 0.2796 - acc: 0.9028 - val_loss: 0.2793 - val_acc: 0.8889\n",
      "Epoch 418/500\n",
      "72/72 [==============================] - 0s 278us/step - loss: 0.2791 - acc: 0.9028 - val_loss: 0.2789 - val_acc: 0.8889\n",
      "Epoch 419/500\n",
      "72/72 [==============================] - 0s 168us/step - loss: 0.2786 - acc: 0.9028 - val_loss: 0.2785 - val_acc: 0.8889\n",
      "Epoch 420/500\n",
      "72/72 [==============================] - 0s 217us/step - loss: 0.2782 - acc: 0.9028 - val_loss: 0.2781 - val_acc: 0.8889\n",
      "Epoch 421/500\n",
      "72/72 [==============================] - 0s 280us/step - loss: 0.2779 - acc: 0.9028 - val_loss: 0.2777 - val_acc: 0.8889\n",
      "Epoch 422/500\n",
      "72/72 [==============================] - 0s 278us/step - loss: 0.2772 - acc: 0.9028 - val_loss: 0.2773 - val_acc: 0.8889\n",
      "Epoch 423/500\n",
      "72/72 [==============================] - 0s 222us/step - loss: 0.2768 - acc: 0.9028 - val_loss: 0.2769 - val_acc: 0.8889\n",
      "Epoch 424/500\n",
      "72/72 [==============================] - 0s 169us/step - loss: 0.2763 - acc: 0.9028 - val_loss: 0.2766 - val_acc: 0.8889\n",
      "Epoch 425/500\n",
      "72/72 [==============================] - 0s 217us/step - loss: 0.2762 - acc: 0.9028 - val_loss: 0.2761 - val_acc: 0.8889\n",
      "Epoch 426/500\n",
      "72/72 [==============================] - 0s 217us/step - loss: 0.2755 - acc: 0.9028 - val_loss: 0.2758 - val_acc: 0.8889\n",
      "Epoch 427/500\n",
      "72/72 [==============================] - 0s 470us/step - loss: 0.2751 - acc: 0.9028 - val_loss: 0.2754 - val_acc: 0.8889\n",
      "Epoch 428/500\n",
      "72/72 [==============================] - 0s 333us/step - loss: 0.2746 - acc: 0.9028 - val_loss: 0.2752 - val_acc: 0.8889\n",
      "Epoch 429/500\n",
      "72/72 [==============================] - 0s 278us/step - loss: 0.2742 - acc: 0.9028 - val_loss: 0.2747 - val_acc: 0.8889\n",
      "Epoch 430/500\n",
      "72/72 [==============================] - 0s 333us/step - loss: 0.2738 - acc: 0.9028 - val_loss: 0.2743 - val_acc: 0.8889\n",
      "Epoch 431/500\n",
      "72/72 [==============================] - 0s 278us/step - loss: 0.2734 - acc: 0.9028 - val_loss: 0.2739 - val_acc: 0.8889\n",
      "Epoch 432/500\n",
      "72/72 [==============================] - 0s 278us/step - loss: 0.2730 - acc: 0.9028 - val_loss: 0.2734 - val_acc: 0.8889\n",
      "Epoch 433/500\n",
      "72/72 [==============================] - 0s 333us/step - loss: 0.2725 - acc: 0.9028 - val_loss: 0.2731 - val_acc: 0.8889\n",
      "Epoch 434/500\n",
      "72/72 [==============================] - 0s 333us/step - loss: 0.2721 - acc: 0.9028 - val_loss: 0.2728 - val_acc: 0.8889\n",
      "Epoch 435/500\n",
      "72/72 [==============================] - 0s 333us/step - loss: 0.2717 - acc: 0.9028 - val_loss: 0.2725 - val_acc: 0.8889\n",
      "Epoch 436/500\n",
      "72/72 [==============================] - 0s 278us/step - loss: 0.2712 - acc: 0.9028 - val_loss: 0.2721 - val_acc: 0.8889\n",
      "Epoch 437/500\n",
      "72/72 [==============================] - 0s 278us/step - loss: 0.2708 - acc: 0.9028 - val_loss: 0.2717 - val_acc: 0.8889\n",
      "Epoch 438/500\n",
      "72/72 [==============================] - 0s 222us/step - loss: 0.2702 - acc: 0.9028 - val_loss: 0.2714 - val_acc: 0.8889\n",
      "Epoch 439/500\n",
      "72/72 [==============================] - 0s 222us/step - loss: 0.2697 - acc: 0.9028 - val_loss: 0.2711 - val_acc: 0.8889\n",
      "Epoch 440/500\n",
      "72/72 [==============================] - 0s 222us/step - loss: 0.2692 - acc: 0.9028 - val_loss: 0.2707 - val_acc: 0.8889\n",
      "Epoch 441/500\n",
      "72/72 [==============================] - 0s 222us/step - loss: 0.2688 - acc: 0.9028 - val_loss: 0.2703 - val_acc: 0.8889\n",
      "Epoch 442/500\n",
      "72/72 [==============================] - 0s 279us/step - loss: 0.2684 - acc: 0.9028 - val_loss: 0.2698 - val_acc: 0.8889\n",
      "Epoch 443/500\n",
      "72/72 [==============================] - 0s 217us/step - loss: 0.2680 - acc: 0.9028 - val_loss: 0.2695 - val_acc: 0.8889\n",
      "Epoch 444/500\n",
      "72/72 [==============================] - 0s 217us/step - loss: 0.2675 - acc: 0.9028 - val_loss: 0.2693 - val_acc: 0.8889\n",
      "Epoch 445/500\n",
      "72/72 [==============================] - 0s 217us/step - loss: 0.2672 - acc: 0.9028 - val_loss: 0.2690 - val_acc: 0.8889\n",
      "Epoch 446/500\n",
      "72/72 [==============================] - 0s 293us/step - loss: 0.2667 - acc: 0.9028 - val_loss: 0.2685 - val_acc: 0.8889\n",
      "Epoch 447/500\n",
      "72/72 [==============================] - 0s 278us/step - loss: 0.2662 - acc: 0.9028 - val_loss: 0.2681 - val_acc: 0.8889\n",
      "Epoch 448/500\n",
      "72/72 [==============================] - 0s 222us/step - loss: 0.2658 - acc: 0.9028 - val_loss: 0.2678 - val_acc: 0.8889\n",
      "Epoch 449/500\n",
      "72/72 [==============================] - 0s 278us/step - loss: 0.2654 - acc: 0.9028 - val_loss: 0.2673 - val_acc: 0.8889\n",
      "Epoch 450/500\n",
      "72/72 [==============================] - 0s 222us/step - loss: 0.2650 - acc: 0.9028 - val_loss: 0.2671 - val_acc: 0.8889\n",
      "Epoch 451/500\n",
      "72/72 [==============================] - 0s 278us/step - loss: 0.2650 - acc: 0.9028 - val_loss: 0.2669 - val_acc: 0.9444\n",
      "Epoch 452/500\n",
      "72/72 [==============================] - 0s 222us/step - loss: 0.2642 - acc: 0.9028 - val_loss: 0.2667 - val_acc: 0.9444\n",
      "Epoch 453/500\n",
      "72/72 [==============================] - 0s 278us/step - loss: 0.2637 - acc: 0.9028 - val_loss: 0.2667 - val_acc: 0.9444\n",
      "Epoch 454/500\n",
      "72/72 [==============================] - 0s 333us/step - loss: 0.2633 - acc: 0.9028 - val_loss: 0.2666 - val_acc: 0.9444\n",
      "Epoch 455/500\n",
      "72/72 [==============================] - 0s 278us/step - loss: 0.2631 - acc: 0.9028 - val_loss: 0.2664 - val_acc: 0.9444\n",
      "Epoch 456/500\n",
      "72/72 [==============================] - 0s 222us/step - loss: 0.2626 - acc: 0.9028 - val_loss: 0.2660 - val_acc: 0.9444\n",
      "Epoch 457/500\n",
      "72/72 [==============================] - 0s 233us/step - loss: 0.2623 - acc: 0.9028 - val_loss: 0.2656 - val_acc: 0.9444\n",
      "Epoch 458/500\n",
      "72/72 [==============================] - 0s 222us/step - loss: 0.2618 - acc: 0.9028 - val_loss: 0.2653 - val_acc: 0.9444\n",
      "Epoch 459/500\n",
      "72/72 [==============================] - 0s 222us/step - loss: 0.2614 - acc: 0.9028 - val_loss: 0.2651 - val_acc: 0.9444\n",
      "Epoch 460/500\n",
      "72/72 [==============================] - 0s 222us/step - loss: 0.2609 - acc: 0.9028 - val_loss: 0.2648 - val_acc: 0.9444\n",
      "Epoch 461/500\n",
      "72/72 [==============================] - 0s 222us/step - loss: 0.2606 - acc: 0.9028 - val_loss: 0.2647 - val_acc: 0.9444\n",
      "Epoch 462/500\n",
      "72/72 [==============================] - 0s 222us/step - loss: 0.2602 - acc: 0.9028 - val_loss: 0.2646 - val_acc: 0.9444\n",
      "Epoch 463/500\n",
      "72/72 [==============================] - 0s 278us/step - loss: 0.2598 - acc: 0.9028 - val_loss: 0.2644 - val_acc: 0.9444\n",
      "Epoch 464/500\n",
      "72/72 [==============================] - 0s 278us/step - loss: 0.2594 - acc: 0.9028 - val_loss: 0.2641 - val_acc: 0.9444\n",
      "Epoch 465/500\n",
      "72/72 [==============================] - 0s 278us/step - loss: 0.2591 - acc: 0.9028 - val_loss: 0.2639 - val_acc: 0.9444\n",
      "Epoch 466/500\n",
      "72/72 [==============================] - 0s 223us/step - loss: 0.2587 - acc: 0.9028 - val_loss: 0.2638 - val_acc: 0.9444\n",
      "Epoch 467/500\n",
      "72/72 [==============================] - 0s 277us/step - loss: 0.2583 - acc: 0.9028 - val_loss: 0.2636 - val_acc: 0.9444\n",
      "Epoch 468/500\n",
      "72/72 [==============================] - 0s 168us/step - loss: 0.2577 - acc: 0.9028 - val_loss: 0.2632 - val_acc: 0.9444\n",
      "Epoch 469/500\n",
      "72/72 [==============================] - 0s 217us/step - loss: 0.2574 - acc: 0.9028 - val_loss: 0.2627 - val_acc: 0.9444\n",
      "Epoch 470/500\n",
      "72/72 [==============================] - 0s 217us/step - loss: 0.2570 - acc: 0.9028 - val_loss: 0.2622 - val_acc: 0.9444\n",
      "Epoch 471/500\n",
      "72/72 [==============================] - 0s 434us/step - loss: 0.2566 - acc: 0.9028 - val_loss: 0.2618 - val_acc: 0.9444\n",
      "Epoch 472/500\n",
      "72/72 [==============================] - 0s 217us/step - loss: 0.2562 - acc: 0.9028 - val_loss: 0.2614 - val_acc: 0.9444\n",
      "Epoch 473/500\n",
      "72/72 [==============================] - 0s 217us/step - loss: 0.2557 - acc: 0.9028 - val_loss: 0.2610 - val_acc: 0.9444\n",
      "Epoch 474/500\n",
      "72/72 [==============================] - 0s 217us/step - loss: 0.2555 - acc: 0.9028 - val_loss: 0.2606 - val_acc: 0.9444\n",
      "Epoch 475/500\n",
      "72/72 [==============================] - 0s 217us/step - loss: 0.2550 - acc: 0.9028 - val_loss: 0.2602 - val_acc: 0.9444\n",
      "Epoch 476/500\n",
      "72/72 [==============================] - 0s 485us/step - loss: 0.2547 - acc: 0.9028 - val_loss: 0.2598 - val_acc: 0.9444\n",
      "Epoch 477/500\n",
      "72/72 [==============================] - 0s 222us/step - loss: 0.2543 - acc: 0.9028 - val_loss: 0.2594 - val_acc: 0.9444\n",
      "Epoch 478/500\n",
      "72/72 [==============================] - 0s 167us/step - loss: 0.2541 - acc: 0.9028 - val_loss: 0.2592 - val_acc: 0.9444\n",
      "Epoch 479/500\n",
      "72/72 [==============================] - 0s 167us/step - loss: 0.2535 - acc: 0.9028 - val_loss: 0.2588 - val_acc: 0.9444\n",
      "Epoch 480/500\n",
      "72/72 [==============================] - 0s 222us/step - loss: 0.2532 - acc: 0.9028 - val_loss: 0.2583 - val_acc: 0.9444\n",
      "Epoch 481/500\n",
      "72/72 [==============================] - 0s 444us/step - loss: 0.2530 - acc: 0.9028 - val_loss: 0.2578 - val_acc: 0.9444\n",
      "Epoch 482/500\n",
      "72/72 [==============================] - 0s 333us/step - loss: 0.2525 - acc: 0.9028 - val_loss: 0.2574 - val_acc: 0.9444\n",
      "Epoch 483/500\n",
      "72/72 [==============================] - 0s 222us/step - loss: 0.2520 - acc: 0.9028 - val_loss: 0.2571 - val_acc: 0.9444\n"
     ]
    },
    {
     "name": "stdout",
     "output_type": "stream",
     "text": [
      "Epoch 484/500\n",
      "72/72 [==============================] - 0s 222us/step - loss: 0.2516 - acc: 0.9028 - val_loss: 0.2569 - val_acc: 0.9444\n",
      "Epoch 485/500\n",
      "72/72 [==============================] - 0s 167us/step - loss: 0.2514 - acc: 0.9028 - val_loss: 0.2567 - val_acc: 0.9444\n",
      "Epoch 486/500\n",
      "72/72 [==============================] - 0s 167us/step - loss: 0.2510 - acc: 0.9028 - val_loss: 0.2564 - val_acc: 0.9444\n",
      "Epoch 487/500\n",
      "72/72 [==============================] - 0s 222us/step - loss: 0.2506 - acc: 0.9028 - val_loss: 0.2562 - val_acc: 0.9444\n",
      "Epoch 488/500\n",
      "72/72 [==============================] - 0s 167us/step - loss: 0.2502 - acc: 0.9028 - val_loss: 0.2560 - val_acc: 0.9444\n",
      "Epoch 489/500\n",
      "72/72 [==============================] - 0s 222us/step - loss: 0.2499 - acc: 0.9028 - val_loss: 0.2557 - val_acc: 0.9444\n",
      "Epoch 490/500\n",
      "72/72 [==============================] - 0s 167us/step - loss: 0.2497 - acc: 0.9028 - val_loss: 0.2552 - val_acc: 0.9444\n",
      "Epoch 491/500\n",
      "72/72 [==============================] - 0s 167us/step - loss: 0.2493 - acc: 0.9028 - val_loss: 0.2548 - val_acc: 0.9444\n",
      "Epoch 492/500\n",
      "72/72 [==============================] - 0s 166us/step - loss: 0.2493 - acc: 0.9028 - val_loss: 0.2543 - val_acc: 0.9444\n",
      "Epoch 493/500\n",
      "72/72 [==============================] - 0s 222us/step - loss: 0.2488 - acc: 0.9028 - val_loss: 0.2540 - val_acc: 0.9444\n",
      "Epoch 494/500\n",
      "72/72 [==============================] - 0s 167us/step - loss: 0.2485 - acc: 0.9028 - val_loss: 0.2535 - val_acc: 0.9444\n",
      "Epoch 495/500\n",
      "72/72 [==============================] - 0s 167us/step - loss: 0.2482 - acc: 0.9028 - val_loss: 0.2531 - val_acc: 0.9444\n",
      "Epoch 496/500\n",
      "72/72 [==============================] - 0s 167us/step - loss: 0.2478 - acc: 0.9028 - val_loss: 0.2525 - val_acc: 0.9444\n",
      "Epoch 497/500\n",
      "72/72 [==============================] - 0s 166us/step - loss: 0.2474 - acc: 0.9028 - val_loss: 0.2519 - val_acc: 0.9444\n",
      "Epoch 498/500\n",
      "72/72 [==============================] - 0s 167us/step - loss: 0.2470 - acc: 0.9028 - val_loss: 0.2514 - val_acc: 0.9444\n",
      "Epoch 499/500\n",
      "72/72 [==============================] - 0s 111us/step - loss: 0.2468 - acc: 0.9028 - val_loss: 0.2512 - val_acc: 0.9444\n",
      "Epoch 500/500\n",
      "72/72 [==============================] - 0s 167us/step - loss: 0.2461 - acc: 0.9028 - val_loss: 0.2508 - val_acc: 0.9444\n",
      "18/18 [==============================] - 0s 0us/step\n"
     ]
    }
   ],
   "source": [
    "#testing dan validasi model\n",
    "\n",
    "#untuk training variabel x training, y training dan untuk validasi variabel x testing dan y testing\n",
    "#batch size= 32 dan epochs= 200\n",
    "history_validasi = model.fit(x_training,y_training, validation_data=(x_testing,y_testing), batch_size=32, epochs=500)\n",
    "\n",
    "#evaluasi\n",
    "akurasi_testing  = model.evaluate(x_testing, y_testing)"
   ]
  },
  {
   "cell_type": "markdown",
   "metadata": {},
   "source": [
    "# Prediksi model\n",
    "\n",
    "Memprediksi hasil sesungguhnya dari data yang sudah ditesting."
   ]
  },
  {
   "cell_type": "code",
   "execution_count": 17,
   "metadata": {},
   "outputs": [
    {
     "name": "stdout",
     "output_type": "stream",
     "text": [
      "18/18 [==============================] - 0s 193us/step\n",
      "Akurasi data Testing = 94.44%\n"
     ]
    }
   ],
   "source": [
    "# Prediksi hasil test\n",
    "hasil = model.evaluate(x_testing, y_testing)\n",
    "print(\"Akurasi data Testing = %.2f%%\" % (hasil[1]*100))"
   ]
  },
  {
   "cell_type": "markdown",
   "metadata": {},
   "source": [
    "# Overfitting dan Underfitting\n",
    "\n",
    "- Overfitting mengacu pada model yang saat training data terlalu baik. Overfitting terjadi ketika model mempelajari detail dan noise model pada data training justru berdampak buruk bagi model saat mempelajari data baru. Ini berarti noise atau fluktuasi acak di data training diambil dan dipelejari sebagai sebuah konsep oleh model yang dibuat. Masalahnya adalah, konsep ini justru tidak sesuai dengan data baru dan model tidak mampu untuk menggeneralisasi. Overfitting akan sering terjadi pada model nonparametric dan nonlinear model yang mempunyai fleksibilitas berlebihan saat learning data target. Overfitting bagus saat training data tapi jelek saat generalisasi data lainnya.\n",
    "\n",
    "- Underfitting mengacu pada model yang tidak bisa memodelkan data training atau mengubah data baru. Model yang underfitting tidak baik dan akan mengakibatkan performa yang buruk saat training data. Underfitting sering terjadi dan sangat mudah  untuk mendeteksinya saat diberikan metrik performa. Underfitting jelek saat training data dan jelek saat generalisasi data lainnya."
   ]
  },
  {
   "cell_type": "markdown",
   "metadata": {},
   "source": [
    "# Plot akurasi"
   ]
  },
  {
   "cell_type": "code",
   "execution_count": 18,
   "metadata": {},
   "outputs": [
    {
     "data": {
      "text/plain": [
       "<matplotlib.legend.Legend at 0x157f464abc8>"
      ]
     },
     "execution_count": 18,
     "metadata": {},
     "output_type": "execute_result"
    },
    {
     "data": {
      "image/png": "[encoded data removed]",
      "text/plain": [
       "<Figure size 576x360 with 1 Axes>"
      ]
     },
     "metadata": {
      "needs_background": "light"
     },
     "output_type": "display_data"
    }
   ],
   "source": [
    "fig,(ax0) = plt.subplots(nrows=1, figsize=(8,5))\n",
    "ax0.plot(history_validasi.history['acc'],'red', label='Akurasi Training')\n",
    "ax0.plot(history_validasi.history['val_acc'], 'blue', label='Akurasi Validasi')\n",
    "ax0.plot(label='Accuracy', loc='upper left')\n",
    "ax0.set_title('Model Akurasi')\n",
    "ax0.set_xlabel(\"Epoch\")\n",
    "ax0.set_ylabel(\"Akurasi\")\n",
    "ax0.legend()"
   ]
  },
  {
   "cell_type": "markdown",
   "metadata": {},
   "source": [
    "# Plot loss"
   ]
  },
  {
   "cell_type": "code",
   "execution_count": 19,
   "metadata": {
    "scrolled": true
   },
   "outputs": [
    {
     "data": {
      "text/plain": [
       "<matplotlib.legend.Legend at 0x157f4634048>"
      ]
     },
     "execution_count": 19,
     "metadata": {},
     "output_type": "execute_result"
    },
    {
     "data": {
      "image/png": "[encoded data removed]",
      "text/plain": [
       "<Figure size 576x360 with 1 Axes>"
      ]
     },
     "metadata": {
      "needs_background": "light"
     },
     "output_type": "display_data"
    }
   ],
   "source": [
    "fig,(ax1) = plt.subplots(nrows=1, figsize=(8,5))\n",
    "ax1.plot(history_validasi.history['loss'],'red', label='Loss Training')\n",
    "ax1.plot(history_validasi.history['val_loss'], 'blue', label='Loss Validasi')\n",
    "ax1.plot(label='Loss', loc='upper left')\n",
    "ax1.set_title('Model Loss')\n",
    "ax1.set_xlabel(\"Epoch\")\n",
    "ax1.set_ylabel(\"Loss\")\n",
    "ax1.legend()"
   ]
  },
  {
   "attachments": {
    "Annotation%202019-12-10%20155618.jpg": {
     "image/jpeg": "[encoded data removed]"
    }
   },
   "cell_type": "markdown",
   "metadata": {},
   "source": [
    "# Evaluasi model\n",
    "\n",
    "![Annotation%202019-12-10%20155618.jpg](attachment:Annotation%202019-12-10%20155618.jpg)\n",
    "\n",
    "Confusion Matrix merepresentasikan prediksi dan kondisi sebenarnya(aktual) dari data yang dihasilkan oleh algoritma Machine Learning. Berdasarkan Confusion Matrix, kita bisa menentukan Accuracy, Precission, Recall dan Specificity.\n",
    "\n",
    "- True Positive (TP), yaitu jumlah dari kelas 1 yang benar dan diklasifikasikan sebagai kelas 1.\n",
    "- True Negative (TN), yaitu jumlah dari kelas 0 yang benar diklasifikasikan sebagai kelas 0.\n",
    "- False Positive (FP), yaitu jumlah dari kelas 0 yang salah diklasifikasikan sebagai kelas 1.\n",
    "- False Negative (FN), yaitu jumlah dari kelas 1 yang salah diklasifikasikan sebagai kelas 0.\n",
    "\n",
    "\n",
    "1. Akurasi adalah rasio prediksi Benar (positif dan negatif) dengan keseluruhan data.\n",
    "\n",
    "\\begin{split}Akurasi = \\frac{TP+TN} {TP+FP+FN+TN}\\end{split}\n",
    "\n",
    "2. Presisi adalah rasio prediksi benar positif dibandingkan dengan keseluruhan hasil yang diprediksi positif.\n",
    "\\begin{split}Presisi = \\frac{TP} {TP+FP}\\end{split}\n",
    "\n",
    "3. Recall (Sensitifitas) adalah rasio prediksi benar positif dibandingkan dengan keseluruhan data yang benar positif.\n",
    "\\begin{split}Recall = \\frac{TP} {TP+FN}\\end{split}\n",
    "\n",
    "4. Specificity adalah kebenaran memprediksi negatif dibandingkan dengan keseluruhan data negatif.\n",
    "\\begin{split}Specificity = \\frac{TN} {TN+FP}\\end{split}\n",
    "5. F1 Score adalah perbandingan rata-rata presisi dan recall yang dibobotkan.\n",
    "\\begin{split}F1 Score = \\frac {2 \\times Recall \\times Presisi} {Recall + Presisi}\\end{split}"
   ]
  },
  {
   "cell_type": "code",
   "execution_count": 20,
   "metadata": {},
   "outputs": [],
   "source": [
    "y_pred = model.predict_classes(x_testing)"
   ]
  },
  {
   "cell_type": "code",
   "execution_count": 21,
   "metadata": {},
   "outputs": [
    {
     "data": {
      "text/plain": [
       "array([[ 7,  1],\n",
       "       [ 0, 10]], dtype=int64)"
      ]
     },
     "execution_count": 21,
     "metadata": {},
     "output_type": "execute_result"
    }
   ],
   "source": [
    "from sklearn.metrics import confusion_matrix\n",
    "\n",
    "cm = confusion_matrix(y_testing, y_pred)\n",
    "cm"
   ]
  },
  {
   "cell_type": "code",
   "execution_count": 22,
   "metadata": {},
   "outputs": [],
   "source": [
    "training_prediksi = model.predict(x_training)\n",
    "testing_prediksi = model.predict(x_testing)"
   ]
  },
  {
   "cell_type": "code",
   "execution_count": 23,
   "metadata": {},
   "outputs": [],
   "source": [
    "training_cm = confusion_matrix(y_training,training_prediksi.round())\n",
    "testing_cm = confusion_matrix(y_testing,testing_prediksi.round())"
   ]
  },
  {
   "cell_type": "code",
   "execution_count": 24,
   "metadata": {},
   "outputs": [
    {
     "name": "stdout",
     "output_type": "stream",
     "text": [
      "Accuracy training 0.9027777777777778\n",
      "Specificity training 0.8421052631578947\n",
      "Sensitivity training 0.9705882352941176\n",
      "Precision training 0.8461538461538461\n",
      "F1 Score training 0.9041095890410958\n"
     ]
    }
   ],
   "source": [
    "#training\n",
    "tp = training_cm[0][0]\n",
    "fn = training_cm[0][1]\n",
    "fp = training_cm[1][0]\n",
    "tn = training_cm[1][1]\n",
    "\n",
    "accuracy = (tp+tn)/(tp+tn+fp+fn)\n",
    "specificity = tn/(tn+fp)\n",
    "sensitivity = tp/(tp+fn)\n",
    "precision = tp/(tp+fp)\n",
    "f1_score = (2*sensitivity*precision)/(sensitivity+precision)\n",
    "\n",
    "print(\"Accuracy training {0}\".format(accuracy))\n",
    "print(\"Specificity training {0}\".format(specificity))\n",
    "print(\"Sensitivity training {0}\".format(sensitivity))\n",
    "print(\"Precision training {0}\".format(precision))\n",
    "print(\"F1 Score training {0}\".format(f1_score))"
   ]
  },
  {
   "cell_type": "code",
   "execution_count": 25,
   "metadata": {},
   "outputs": [
    {
     "name": "stdout",
     "output_type": "stream",
     "text": [
      "Accuracy testing 0.9444444444444444\n",
      "Specificity testing 1.0\n",
      "Sensitivity testing 0.875\n",
      "Precision testing 1.0\n",
      "F1 Score testing 0.9333333333333333\n"
     ]
    }
   ],
   "source": [
    "#testing\n",
    "tp = testing_cm[0][0]\n",
    "fn = testing_cm[0][1]\n",
    "fp = testing_cm[1][0]\n",
    "tn = testing_cm[1][1]\n",
    "\n",
    "accuracy = (tp+tn)/(tp+tn+fp+fn)\n",
    "specificity = tn/(tn+fp)\n",
    "sensitivity = tp/(tp+fn)\n",
    "precision = tp/(tp+fp)\n",
    "f1_score = (2*sensitivity*precision)/(sensitivity+precision)\n",
    "\n",
    "print(\"Accuracy testing {0}\".format(accuracy))\n",
    "print(\"Specificity testing {0}\".format(specificity))\n",
    "print(\"Sensitivity testing {0}\".format(sensitivity))\n",
    "print(\"Precision testing {0}\".format(precision))\n",
    "print(\"F1 Score testing {0}\".format(f1_score))"
   ]
  },
  {
   "cell_type": "code",
   "execution_count": null,
   "metadata": {},
   "outputs": [],
   "source": []
  }
 ],
 "metadata": {
  "kernelspec": {
   "display_name": "Python 3",
   "language": "python",
   "name": "python3"
  },
  "language_info": {
   "codemirror_mode": {
    "name": "ipython",
    "version": 3
   },
   "file_extension": ".py",
   "mimetype": "text/x-python",
   "name": "python",
   "nbconvert_exporter": "python",
   "pygments_lexer": "ipython3",
   "version": "3.7.4"
  }
 },
 "nbformat": 4,
 "nbformat_minor": 2
}
