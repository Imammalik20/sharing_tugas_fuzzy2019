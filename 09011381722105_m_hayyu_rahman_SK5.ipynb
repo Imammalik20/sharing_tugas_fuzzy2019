{
 "cells": [
  {
   "cell_type": "markdown",
   "metadata": {},
   "source": [
    "> # NAMA  : MUHAMMAD HAYYU RAHMAN\n",
    "# NIM      : 09011381722105\n",
    "# KELAS : SK 5A"
   ]
  },
  {
   "cell_type": "markdown",
   "metadata": {},
   "source": [
    "# PENERAPAN METODE FUZZY MAMDANI UNTUK MEMPREDIKSI JUMLAH PRODUKSI KARET"
   ]
  },
  {
   "cell_type": "markdown",
   "metadata": {},
   "source": [
    "Persaingan pasar dalam dunia industri sangat penting dibutuhkan oleh sebuah perusahaan khususnya PTP Nusantara XIV (Persero) Kebun Awaya/Teluk Elpaputih yang bergerak dalam bidang pengolahan karet. Produksi karet dalam waktu yang tepat dan dalam jumlah yang tepat merupakan sesuatu yang diinginkan oleh perusahaan tersebut. Namun, dalam menentukan jumlah produksi karet \n",
    "di waktu yang akan datang tidaklah mudah. Banyaknya faktor yang menjadi kendala dalam kebijakan untuk dapat menentukan jumlah karet yang akan diproduksi. Sehingga, sasaran produksi tidak tercapai karena usia tanaman dan populasi yang tidak standar berpengaruh terhadap produktivitas tanaman di kebun Awaya/Teluk Elpaputih. Sasaran tersebut berpengaruh terhadap faktor-faktor \n",
    "antara lain permintaan maksimum, permintaan minimum, persediaan maksimum, persediaan minimum, produksi maksimum, dan produksi minimum\n",
    "\n",
    "Untuk mendapatkan \n",
    "output diperlukan 4 tahapan: \n",
    "- Pembentukan himpunan fuzzy\n",
    "- Aplikasi fungsi aplikasi\n",
    "- Komposisi aturan\n",
    "- Penegasan\n"
   ]
  },
  {
   "cell_type": "markdown",
   "metadata": {},
   "source": [
    "# I. METODE FUZZY YANG DIGUNAKAN"
   ]
  },
  {
   "cell_type": "markdown",
   "metadata": {},
   "source": [
    "Metode fuzzy yang digunakan adalah Mamdani. Langkah-langkah dalam metode mamdani, antara lain:  \n",
    "1. Pembentukan Himpunan Fuzzy\n",
    "2. membentuk aturan fuzzy\n",
    "3. inferensi model fuzzy\n",
    "4. Defuzifikasi"
   ]
  },
  {
   "cell_type": "markdown",
   "metadata": {},
   "source": [
    "# II. PENYELESAIAN DENGAN PYTHON"
   ]
  },
  {
   "cell_type": "markdown",
   "metadata": {},
   "source": [
    "- Import Library"
   ]
  },
  {
   "cell_type": "code",
   "execution_count": 28,
   "metadata": {},
   "outputs": [],
   "source": [
    "import numpy as np\n",
    "import skfuzzy as fuzz\n",
    "import matplotlib.pyplot as plt\n",
    "from skfuzzy import control as ctrl"
   ]
  },
  {
   "cell_type": "markdown",
   "metadata": {},
   "source": [
    "## A. PEMBENTUKAN HIMPUNAN FUZZY"
   ]
  },
  {
   "cell_type": "markdown",
   "metadata": {},
   "source": [
    "### 1. Variabel Input\n",
    "Variabel input atau faktor yang menentukan besarnya jumlah produksi :\n",
    "- jumlah produksi"
   ]
  },
  {
   "cell_type": "code",
   "execution_count": 29,
   "metadata": {},
   "outputs": [],
   "source": [
    "permintaan = ctrl.Antecedent(np.arange(0,1400, 10),'permintaan')\n",
    "x_permintaan = np.arange(0,1400, 10)"
   ]
  },
  {
   "cell_type": "code",
   "execution_count": 38,
   "metadata": {},
   "outputs": [],
   "source": [
    "persediaan = ctrl.Antecedent(np.arange(0,774, 1),'persediaan')\n",
    "x_persediaan = np.arange(0,774, 1)"
   ]
  },
  {
   "cell_type": "markdown",
   "metadata": {},
   "source": [
    "### 2. Variabel output\n",
    "Variabel output ini adalah jumlah permintaan :\n",
    "- permintaan"
   ]
  },
  {
   "cell_type": "code",
   "execution_count": 45,
   "metadata": {},
   "outputs": [],
   "source": [
    "permintaan['sedikit'] = fuzz.trapmf(permintaan.universe,[1,100, 100, 600,])\n",
    "permintaan['sedang'] = fuzz.trimf(permintaan.universe,[400, 600, 1400])"
   ]
  },
  {
   "cell_type": "code",
   "execution_count": 46,
   "metadata": {
    "scrolled": true
   },
   "outputs": [
    {
     "name": "stderr",
     "output_type": "stream",
     "text": [
      "C:\\Users\\FX505DY\\Anaconda3\\lib\\site-packages\\skfuzzy\\control\\fuzzyvariable.py:122: UserWarning: Matplotlib is currently using module://ipykernel.pylab.backend_inline, which is a non-GUI backend, so cannot show the figure.\n",
      "  fig.show()\n"
     ]
    },
    {
     "data": {
      "image/png": "[encoded data removed]",
      "text/plain": [
       "<Figure size 432x288 with 1 Axes>"
      ]
     },
     "metadata": {
      "needs_background": "light"
     },
     "output_type": "display_data"
    }
   ],
   "source": [
    "permintaan.view()"
   ]
  },
  {
   "cell_type": "code",
   "execution_count": 47,
   "metadata": {},
   "outputs": [],
   "source": [
    "persediaan['sedikit'] = fuzz.trapmf(persediaan.universe,[0,1, 1, 49,])\n",
    "persediaan['sedang'] = fuzz.trimf(persediaan.universe,[1, 6, 14])"
   ]
  },
  {
   "cell_type": "code",
   "execution_count": 48,
   "metadata": {},
   "outputs": [
    {
     "data": {
      "image/png": "[encoded data removed]",
      "text/plain": [
       "<Figure size 432x288 with 1 Axes>"
      ]
     },
     "metadata": {
      "needs_background": "light"
     },
     "output_type": "display_data"
    }
   ],
   "source": [
    "persediaan.view()"
   ]
  },
  {
   "cell_type": "markdown",
   "metadata": {},
   "source": [
    "### 3. Nilai Linguistik\n",
    "\n",
    "- 𝑆𝐸𝐷𝐴𝑁𝐺 = \n",
    "\n",
    "$$ SEDANG [z] =\n",
    "\\begin{cases}\n",
    "       0 & ; x \\leq 3360\\\\\n",
    "    \\frac{(x-3360)}{(5200-3360)} & ;{3360 \\leq x \\leq 5200} \\\\\n",
    "     \\frac{(7040-x)}{(7040-5200)} & ;{5200 \\leq x \\leq 7040}\n",
    "    \\end{cases}\n",
    "$$\n",
    "\n",
    " \n",
    "- SEDANG =\n",
    "$$ \\mu [5164] SEDANG =\n",
    "\\begin{cases}\n",
    "    \\frac{5164-3360}{5200-3360}=\\frac{1804}{1840}=0,98\n",
    "   \\end{cases}\n",
    "$$"
   ]
  },
  {
   "cell_type": "markdown",
   "metadata": {
    "scrolled": true
   },
   "source": [
    "diketahui : \n",
    "𝜇[𝑥] = 5164, a = 3360, b = 5200, c = 7040"
   ]
  },
  {
   "cell_type": "markdown",
   "metadata": {},
   "source": [
    "### Sehingga diperoleh :\n",
    "\n",
    "$$\n",
    "\\mu[5164]SEDANG = 0,98 \\\\\n",
    "\\mu[5164]RENDAH = 0,00 \\\\\n",
    "\\mu[5164]TINGGI = 0,00 \\\\\n",
    "$$"
   ]
  },
  {
   "cell_type": "markdown",
   "metadata": {},
   "source": [
    "Yang berarti bahwa permintaan karet tersebut dikatakan SEDANG dengan derajat keanggotaan = 0,98 \n",
    "atau 98%. Untuk variabel persediaan didefenisikan pada tiga himpunan fuzzy, yaitu SEDIKIT, \n",
    "SEDANG, BANYAK. Setiap himpunan fuzzy memiliki interval fungsi keanggotaan. Berikut adalah \n",
    "gambar fungsi keanggotaan pada variabel persediaan 774 liter. Persediaan 774 liter termasuk \n",
    "kedalam himpunan fuzzy SEDIKIT dan SEDANG dengan derajat keanggotaan sesuai fungsi berikut :"
   ]
  },
  {
   "cell_type": "markdown",
   "metadata": {},
   "source": [
    "$$\n",
    "\\mu [x]SEDIKIT =\n",
    "\\begin{cases}\n",
    "    0 & ; x \\leq 100  atau x \\geq 991 \\\\\n",
    "    \\frac{x-100}{496-100} & ; 100 \\leq x \\leq 496 \\\\\n",
    "    \\frac{991-x}{991-496} & ; 496 \\leq x \\leq 991 \\\\\n",
    "   \\end{cases}\n",
    "  $$\n",
    "  \n",
    "$$\n",
    "\\mu [x]SEDANG =\n",
    "\\begin{cases}\n",
    "    0 & ; x \\leq 600 atau x \\leq 1400 \\\\\n",
    "    \\frac{x-600}{1000-600} & ; 600 \\leq x \\leq 1000 \\\\\n",
    "    \\frac{1400-x}{1400-1000} & ; 1000 \\leq x \\leq 1400\n",
    "    \\end{cases}\n",
    "    $$"
   ]
  },
  {
   "cell_type": "markdown",
   "metadata": {},
   "source": [
    "diketahui 𝜇[𝑥] = 774, a = 100, b = 496, c = 991"
   ]
  },
  {
   "cell_type": "markdown",
   "metadata": {},
   "source": [
    "$$\n",
    "\\mu [774] SEDIKIT =\n",
    "\\begin{cases}\n",
    "\\frac{991-774}{991-496}\n",
    "\\frac{217}{495} = 0,438 = 0,44\n",
    "\\end{cases}\n",
    "$$"
   ]
  },
  {
   "cell_type": "markdown",
   "metadata": {},
   "source": [
    "𝜇[𝑥] = 774"
   ]
  },
  {
   "cell_type": "markdown",
   "metadata": {},
   "source": [
    "diperoleh : \n",
    "\n",
    "$$\n",
    "\\mu[774]SEDANG = 0,44 \\\\\n",
    "\\mu[7744]SEDIKIT = 0,44 \\\\\n",
    "\\mu[5164]BANYAK = 0,00\n",
    "$$"
   ]
  },
  {
   "cell_type": "markdown",
   "metadata": {},
   "source": [
    "berarti persediaan karet dikatakan SEDANG dan SEDIKIT dengan derajat keanggotaan = 0,44 atau 44%"
   ]
  },
  {
   "cell_type": "markdown",
   "metadata": {},
   "source": [
    "### APLIKASI FUNGSI IMPLIKASI\n",
    "Fungsi implikasi yang digunakan dalam proses ini adalah fungsi MIN, yaitu dengan mengambil derajat \n",
    "keanggotaan minimum dari variabel input sebagai outputnya. Berdasarkan aturan-aturan yang sesuai \n",
    "dengan fungsi implikasi yaitu ada 9 aturan tetapi yang digunakan yaitu dua aturan yaitu [R4] dan [R5] \n",
    "sebagai berikut :\n",
    "\n",
    "\n",
    "\n",
    "[R4] : Jika Permintaan adalah SEDANG dan Persediaan adalah SEDIKIT Maka produksi adalah \n",
    "SEDANG. \n",
    "\n",
    "[R5] : Jika Permintaan adalah SEDANG dan Persediaan adalah SEDANG Maka produksi adalah \n",
    "SEDANG. \n",
    "Penyelesaian :\n",
    "[R4] : Jika Permintaan adalah SEDANG dan Persediaan adalah SEDIKIT Maka produksi adalah \n",
    "SEDANG"
   ]
  },
  {
   "cell_type": "markdown",
   "metadata": {},
   "source": [
    "𝛼 − 𝑝𝑟𝑒𝑑𝑖𝑘𝑎𝑡1 = 𝜇𝑃𝑚𝑡𝑆𝐸𝐷𝐴𝑁𝐺 ∩ 𝜇𝑃𝑠𝑑𝑆𝐸𝐷𝐼𝐾𝐼𝑇\n",
    "= 𝑚𝑖𝑛(𝜇𝑃𝑚𝑡𝑆𝐸𝐷𝐴𝑁𝐺(0,98), 𝜇𝑃𝑠𝑑𝑆𝐸𝐷𝐼𝐾𝐼𝑇(0,44))\n",
    " = 𝑚𝑖𝑛(0,98 , 0,44)\n",
    " = 0,44"
   ]
  },
  {
   "cell_type": "markdown",
   "metadata": {},
   "source": [
    "[R5] : Jika Permintaan adalah SEDANG dan Persediaan adalah SEDANG Maka produksi adalah SEDANG.𝛼 − 𝑝𝑟𝑒𝑑𝑖𝑘𝑎𝑡2 = 𝜇𝑃𝑚𝑡𝑆𝐸𝐷𝐴𝑁𝐺 ∩ 𝜇𝑃𝑠𝑑𝑆𝐸𝐷𝐴𝑁𝐺= 𝑚𝑖𝑛(𝜇𝑃𝑚𝑡𝑆𝐸𝐷𝐴𝑁𝐺(0,98), 𝜇𝑃𝑠𝑑𝑆𝐸𝐷𝐴𝑁𝐺(0,98)) = 𝑚𝑖𝑛(0,98 , 0,98) = 0,98"
   ]
  },
  {
   "cell_type": "markdown",
   "metadata": {},
   "source": [
    "### KOMPOSISI ATURAN\n",
    " Komposisi aturan merupakan kesimpulan secara keseluruhan dengan \n",
    "mengambil tingkat keanggotaan maksimum dari tiap konsekuen aplikasi fungsi implikasi dengan \n",
    "menggabungkan dari semua kesimpulan masing-masing aturan, sehingga akan didapat daerah solusi\n",
    "fuzzy sebagai berikut :\n",
    "𝜇𝑆𝑓(𝑥) = 𝑚𝑎𝑘𝑠{𝜇𝑃𝑚𝑡𝑆𝐸𝐷𝐴𝑁𝐺(0,98), 𝜇𝑃𝑠𝑑𝑆𝐸𝐷𝐼𝐾𝐼𝑇(0,44)}\n",
    " = 𝑚𝑎𝑘𝑠{0,98 , 0,44}\n",
    " = 0,98"
   ]
  },
  {
   "cell_type": "markdown",
   "metadata": {},
   "source": [
    "Titik potong antar aturan yaitu [R4] dan [R5] ketika 𝜇𝑃𝑟𝑜𝑑𝑢𝑘𝑠𝑖𝑆𝐸𝐷𝐼𝐾𝐼𝑇(𝑥) = 0,44 maka ditentukan nilai x \n",
    "berikut:\n",
    "\n",
    "$$\n",
    "\\begin{cases}\n",
    "\\frac{4750-x}{1400} = 0,98 \\\\\n",
    "x = 4750 - 0,98(1400) \\\\\n",
    "x = 4722\n",
    "\\end{cases}\n",
    "$$"
   ]
  },
  {
   "cell_type": "markdown",
   "metadata": {},
   "source": [
    "Ketika 𝜇𝑃𝑟𝑜𝑑𝑢𝑘𝑠𝑖𝑆𝐸𝐷𝐴𝑁𝐺(𝑥) = 0,98 maka ditentukan nilai x berikut:\n",
    "$$\n",
    "\\begin{cases}\n",
    "\\frac{𝑥 − 3350}{\n",
    "1400} = 0,98 \\\\\n",
    "\\end{cases}\n",
    "$$\n",
    "𝑥 = 0,98(1400) + 3350\n",
    "𝑥 = 3378"
   ]
  },
  {
   "cell_type": "markdown",
   "metadata": {},
   "source": [
    "- Sehingga didapat fungsi keanggotaan daerah solusi sebagai berikut:\n",
    "$$\n",
    "\\mu produksi = \n",
    "\\begin{cases}\n",
    "    0,98 & ; 0 \\leq x \\leq 4722 \\\\\n",
    "    \\frac{x-3350}{1400} & ; 3350 \\leq x \\leq 4722 \\\\\n",
    "    0,44 & ; 4722 \\leq x \\leq 4750 \\\\\n",
    "    \\frac{4750-x}{1400} & ; 4750 \\leq x \\leq 6150\n",
    "    \\end{cases}\n",
    "    $$\n"
   ]
  },
  {
   "cell_type": "markdown",
   "metadata": {},
   "source": [
    "### DEFUZZYFICATION\n",
    "Langkah terakhir dalam proses ini adalah deffuzifikasi atau disebut juga tahap penegasan, yaitu untuk \n",
    "mengubah himpunan fuzzy menjadi bilangan riil. Input dari proses penegasan ini adalah suatu \n",
    "himpunan fuzzy yang diperoleh dari komposisi aturan-aturan fuzzy, sedangkan output yang dihasilkan \n",
    "merupakan suatu bilangan pada domain himpunan fuzzy tersebut. Deffuzifikasi yang digunakan dalam \n",
    "menentukan jumlah produksi pada kasus ini adalah dengan Metode Centroid"
   ]
  },
  {
   "cell_type": "markdown",
   "metadata": {},
   "source": [
    "KESIMPULAN\n",
    "==="
   ]
  },
  {
   "cell_type": "markdown",
   "metadata": {},
   "source": [
    "Berdasarkan rumusan masalah, pembahasan dan hasil penelitian mengenai penentuan jumlah\n",
    "produksi karet dalam satuan Liter per hari berdasarkan permintaan dan persediaan karet, maka dapat\n",
    "diambil kesimpulan bahwa:\n",
    "1. Penerapan Logika Fuzzy dengan Metode Mamdani efektif diterapkan dalam aplikasi software\n",
    "Matlab untuk membantu pihak perusahaan dalam memprediksi penentuan jumlah produksi\n",
    "karet dalam satuan Liter per hari pada PTP Nusantara XIV (Persero) Kebun Awaya/Teluk\n",
    "Elpaputih, Kabupaten Maluku Tengah. Dari hasil uji coba prediksi dengan aplikasi software\n",
    "Matlab diperoleh presentase nilai kebenaran sebesar 87,82706% yang artinya mendekati\n",
    "sangat baik dalam penentuan jumlah produksi karet pada PTP Nusantara XIV (Persero) Kebun\n",
    "Awaya/Teluk Elpaputih. Serta tingkat error yang dihasilkan yaitu 12,17294% dari tingkat error\n",
    "100%.\n",
    "2. Berdasarkan hasil perhitungan jumlah produksi karet menggunakan Penerapan Logika Fuzzy\n",
    "Mamdani pada software Matlab yang kemudian hasilnya dibandingkan dengan data penelitian\n",
    "yang diperoleh dari PTP Nusantara XIV (Persero) Kebun Awaya/TelukElpaputih, Kabupaten\n",
    "Maluku Tengah. Maka, dapat dikatakan bahwa Penerapan Logika Fuzzy Mamdani dapat\n",
    "dipakai sebagai alat peramalan yang baik untuk memprediksi penentuan jumlah produksi karet\n",
    "berdasarkan banyaknya permintaan dan persediaan karet pada PTP Nusantara XIV (Persero)\n",
    "Kebun Awaya/Teluk Elpaputih."
   ]
  }
 ],
 "metadata": {
  "kernelspec": {
   "display_name": "Python 3",
   "language": "python",
   "name": "python3"
  },
  "language_info": {
   "codemirror_mode": {
    "name": "ipython",
    "version": 3
   },
   "file_extension": ".py",
   "mimetype": "text/x-python",
   "name": "python",
   "nbconvert_exporter": "python",
   "pygments_lexer": "ipython3",
   "version": "3.6.9"
  },
  "varInspector": {
   "cols": {
    "lenName": 16,
    "lenType": 16,
    "lenVar": 40
   },
   "kernels_config": {
    "python": {
     "delete_cmd_postfix": "",
     "delete_cmd_prefix": "del ",
     "library": "var_list.py",
     "varRefreshCmd": "print(var_dic_list())"
    },
    "r": {
     "delete_cmd_postfix": ") ",
     "delete_cmd_prefix": "rm(",
     "library": "var_list.r",
     "varRefreshCmd": "cat(var_dic_list()) "
    }
   },
   "types_to_exclude": [
    "module",
    "function",
    "builtin_function_or_method",
    "instance",
    "_Feature"
   ],
   "window_display": false
  }
 },
 "nbformat": 4,
 "nbformat_minor": 2
}
