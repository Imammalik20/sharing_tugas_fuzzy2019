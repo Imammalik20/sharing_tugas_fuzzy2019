{
 "cells": [
  {
   "cell_type": "markdown",
   "metadata": {},
   "source": [
    "# Mammogram\n",
    "---\n",
    "\n",
    "Mammogram adalah metode paling efektif untuk skrining kanker payudara yang tersedia saat ini. Namun, nilai prediktif positif rendah dari biopsi payudara yang dihasilkan dari interpretasi mammogram mengarah ke sekitar 70% biopsi yang tidak perlu dengan hasil jinak. Untuk mengurangi tingginya jumlah biopsi payudara yang tidak perlu, beberapa sistem diagnosis berbantuan komputer (CAD) telah diusulkan dalam beberapa tahun terakhir. Sistem ini membantu dokter dalam keputusan mereka untuk melakukan biopsi payudara pada lesi yang mencurigakan yang terlihat dalam mammogram atau untuk melakukan tindak lanjut jangka pendek\n",
    "ujian sebagai gantinya.\n",
    "\n",
    "Kumpulan data ini dapat digunakan untuk memprediksi tingkat keparahan (jinak atau ganas) dari lesi massa mamografi dari atribut BI-RADS dan usia pasien. Ini berisi penilaian BI-RADS, usia pasien dan tiga atribut BI-RADS bersama-sama dengan kebenaran dasar (bidang keparahan) untuk 516 massa jinak dan 445 ganas yang telah diidentifikasi pada mamogram digital lapangan penuh yang dikumpulkan di Institute of Radiology of Universitas Erlangen-Nuremberg antara tahun 2003 dan 2006.\n",
    "\n",
    "Setiap contoh memiliki penilaian BI-RADS terkait mulai dari 1 (pasti jinak) hingga 5 (sangat menunjukkan keganasan) yang ditugaskan dalam proses peninjauan ulang oleh dokter. Dengan asumsi bahwa semua kasus dengan penilaian BI-RADS lebih besar atau sama dengan nilai yang diberikan (bervariasi dari 1 sampai 5), ganas dan kasus-kasus lain jinak, sensitivitas dan spesifisitas terkait dapat dihitung. Ini bisa menjadi indikasi seberapa baik kinerja sistem CAD dibandingkan dengan ahli radiologi."
   ]
  },
  {
   "cell_type": "markdown",
   "metadata": {},
   "source": [
    "## Dataset"
   ]
  },
  {
   "cell_type": "markdown",
   "metadata": {},
   "source": [
    "Dataset mammogram ini terdiri dari 961 data yang menjelaskan tentang kanker payudara. Pada Dataset ini terdapat 6 variabel yang terdiri dari :\n",
    "1. BI_RADS_assessment\n",
    "2. age\n",
    "3. shape\n",
    "4. margin\n",
    "5. density\n",
    "6. severity\n",
    "    - 0 = Jinak\n",
    "    - 1 = Ganas\n",
    "\n",
    "Dataset ini dapat diunduh melalui link : https://www.mldata.io/dataset-details/mammogram/"
   ]
  },
  {
   "cell_type": "markdown",
   "metadata": {},
   "source": [
    "#### Import Library"
   ]
  },
  {
   "cell_type": "code",
   "execution_count": 1,
   "metadata": {},
   "outputs": [],
   "source": [
    "import numpy as np\n",
    "import pandas as pd\n",
    "import matplotlib.pyplot as plt"
   ]
  },
  {
   "cell_type": "markdown",
   "metadata": {},
   "source": [
    "#### Import Dataset\n",
    "\n",
    "Menampilkan 5 data pertama dan 5 data terakhir"
   ]
  },
  {
   "cell_type": "code",
   "execution_count": 2,
   "metadata": {
    "scrolled": true
   },
   "outputs": [
    {
     "data": {
      "text/html": [
       "<div>\n",
       "<style scoped>\n",
       "    .dataframe tbody tr th:only-of-type {\n",
       "        vertical-align: middle;\n",
       "    }\n",
       "\n",
       "    .dataframe tbody tr th {\n",
       "        vertical-align: top;\n",
       "    }\n",
       "\n",
       "    .dataframe thead th {\n",
       "        text-align: right;\n",
       "    }\n",
       "</style>\n",
       "<table border=\"1\" class=\"dataframe\">\n",
       "  <thead>\n",
       "    <tr style=\"text-align: right;\">\n",
       "      <th></th>\n",
       "      <th>BI_RADS_assessment</th>\n",
       "      <th>age</th>\n",
       "      <th>shape</th>\n",
       "      <th>margin</th>\n",
       "      <th>density</th>\n",
       "      <th>severity</th>\n",
       "    </tr>\n",
       "  </thead>\n",
       "  <tbody>\n",
       "    <tr>\n",
       "      <td>0</td>\n",
       "      <td>5</td>\n",
       "      <td>67</td>\n",
       "      <td>3</td>\n",
       "      <td>5</td>\n",
       "      <td>3</td>\n",
       "      <td>1</td>\n",
       "    </tr>\n",
       "    <tr>\n",
       "      <td>1</td>\n",
       "      <td>4</td>\n",
       "      <td>43</td>\n",
       "      <td>1</td>\n",
       "      <td>1</td>\n",
       "      <td>3</td>\n",
       "      <td>1</td>\n",
       "    </tr>\n",
       "    <tr>\n",
       "      <td>2</td>\n",
       "      <td>5</td>\n",
       "      <td>58</td>\n",
       "      <td>4</td>\n",
       "      <td>5</td>\n",
       "      <td>3</td>\n",
       "      <td>1</td>\n",
       "    </tr>\n",
       "    <tr>\n",
       "      <td>3</td>\n",
       "      <td>4</td>\n",
       "      <td>28</td>\n",
       "      <td>1</td>\n",
       "      <td>1</td>\n",
       "      <td>3</td>\n",
       "      <td>0</td>\n",
       "    </tr>\n",
       "    <tr>\n",
       "      <td>4</td>\n",
       "      <td>5</td>\n",
       "      <td>74</td>\n",
       "      <td>1</td>\n",
       "      <td>5</td>\n",
       "      <td>3</td>\n",
       "      <td>1</td>\n",
       "    </tr>\n",
       "  </tbody>\n",
       "</table>\n",
       "</div>"
      ],
      "text/plain": [
       "   BI_RADS_assessment  age  shape  margin  density  severity\n",
       "0                   5   67      3       5        3         1\n",
       "1                   4   43      1       1        3         1\n",
       "2                   5   58      4       5        3         1\n",
       "3                   4   28      1       1        3         0\n",
       "4                   5   74      1       5        3         1"
      ]
     },
     "execution_count": 2,
     "metadata": {},
     "output_type": "execute_result"
    }
   ],
   "source": [
    "data = pd.read_csv('mammogram_dataset.csv')\n",
    "data.head()"
   ]
  },
  {
   "cell_type": "code",
   "execution_count": 3,
   "metadata": {},
   "outputs": [
    {
     "data": {
      "text/html": [
       "<div>\n",
       "<style scoped>\n",
       "    .dataframe tbody tr th:only-of-type {\n",
       "        vertical-align: middle;\n",
       "    }\n",
       "\n",
       "    .dataframe tbody tr th {\n",
       "        vertical-align: top;\n",
       "    }\n",
       "\n",
       "    .dataframe thead th {\n",
       "        text-align: right;\n",
       "    }\n",
       "</style>\n",
       "<table border=\"1\" class=\"dataframe\">\n",
       "  <thead>\n",
       "    <tr style=\"text-align: right;\">\n",
       "      <th></th>\n",
       "      <th>BI_RADS_assessment</th>\n",
       "      <th>age</th>\n",
       "      <th>shape</th>\n",
       "      <th>margin</th>\n",
       "      <th>density</th>\n",
       "      <th>severity</th>\n",
       "    </tr>\n",
       "  </thead>\n",
       "  <tbody>\n",
       "    <tr>\n",
       "      <td>956</td>\n",
       "      <td>4</td>\n",
       "      <td>47</td>\n",
       "      <td>2</td>\n",
       "      <td>1</td>\n",
       "      <td>3</td>\n",
       "      <td>0</td>\n",
       "    </tr>\n",
       "    <tr>\n",
       "      <td>957</td>\n",
       "      <td>4</td>\n",
       "      <td>56</td>\n",
       "      <td>4</td>\n",
       "      <td>5</td>\n",
       "      <td>3</td>\n",
       "      <td>1</td>\n",
       "    </tr>\n",
       "    <tr>\n",
       "      <td>958</td>\n",
       "      <td>4</td>\n",
       "      <td>64</td>\n",
       "      <td>4</td>\n",
       "      <td>5</td>\n",
       "      <td>3</td>\n",
       "      <td>0</td>\n",
       "    </tr>\n",
       "    <tr>\n",
       "      <td>959</td>\n",
       "      <td>5</td>\n",
       "      <td>66</td>\n",
       "      <td>4</td>\n",
       "      <td>5</td>\n",
       "      <td>3</td>\n",
       "      <td>1</td>\n",
       "    </tr>\n",
       "    <tr>\n",
       "      <td>960</td>\n",
       "      <td>4</td>\n",
       "      <td>62</td>\n",
       "      <td>3</td>\n",
       "      <td>3</td>\n",
       "      <td>3</td>\n",
       "      <td>0</td>\n",
       "    </tr>\n",
       "  </tbody>\n",
       "</table>\n",
       "</div>"
      ],
      "text/plain": [
       "     BI_RADS_assessment  age  shape  margin  density  severity\n",
       "956                   4   47      2       1        3         0\n",
       "957                   4   56      4       5        3         1\n",
       "958                   4   64      4       5        3         0\n",
       "959                   5   66      4       5        3         1\n",
       "960                   4   62      3       3        3         0"
      ]
     },
     "execution_count": 3,
     "metadata": {},
     "output_type": "execute_result"
    }
   ],
   "source": [
    "data.tail()"
   ]
  },
  {
   "cell_type": "code",
   "execution_count": 4,
   "metadata": {
    "scrolled": false
   },
   "outputs": [
    {
     "name": "stdout",
     "output_type": "stream",
     "text": [
      "<class 'pandas.core.frame.DataFrame'>\n",
      "RangeIndex: 961 entries, 0 to 960\n",
      "Data columns (total 6 columns):\n",
      "BI_RADS_assessment    961 non-null int64\n",
      "age                   961 non-null int64\n",
      "shape                 961 non-null int64\n",
      "margin                961 non-null int64\n",
      "density               961 non-null int64\n",
      "severity              961 non-null int64\n",
      "dtypes: int64(6)\n",
      "memory usage: 45.2 KB\n"
     ]
    }
   ],
   "source": [
    "data.info()"
   ]
  },
  {
   "cell_type": "markdown",
   "metadata": {},
   "source": [
    "Dataset csv ini terdiri dari 961 baris dan 6 kolom"
   ]
  },
  {
   "cell_type": "markdown",
   "metadata": {},
   "source": [
    "# Pre Processing\n",
    "\n",
    "Preprocessing data adalah tahap penting dalam pembelajaran mesin, karena data masukan yang baik dan tepat (harusnya) akan membuat estimator mampu menghasilkan keluaran yang baik pula."
   ]
  },
  {
   "cell_type": "markdown",
   "metadata": {},
   "source": [
    "Data kemudian dibagi menjadi dua jenis: data independen/prediktor (X) dan data dependen/target (y). Pembagian data ini menggunakan pandas.DataFrame.iloc seperti di bawah. Karena dataset adalah matriks M*N, kita menggunakan slicing dengan format [baris, kolom].\n",
    "\n",
    "Atribut values akan mengembalikan numpy array. Tanpa atribut ini, iloc akan mengembalikan obyek DataFrame."
   ]
  },
  {
   "cell_type": "code",
   "execution_count": 5,
   "metadata": {},
   "outputs": [],
   "source": [
    "X = data.iloc[:,0:5].values\n",
    "Y = data.iloc[:,5].values"
   ]
  },
  {
   "cell_type": "markdown",
   "metadata": {},
   "source": [
    "#### Sebaran Fitur Diagnosis"
   ]
  },
  {
   "cell_type": "code",
   "execution_count": 6,
   "metadata": {
    "scrolled": true
   },
   "outputs": [
    {
     "data": {
      "text/plain": [
       "<matplotlib.axes._subplots.AxesSubplot at 0x266140f36c8>"
      ]
     },
     "execution_count": 6,
     "metadata": {},
     "output_type": "execute_result"
    },
    {
     "data": {
      "image/png": "[encoded data removed]",
      "text/plain": [
       "<Figure size 432x288 with 1 Axes>"
      ]
     },
     "metadata": {
      "needs_background": "light"
     },
     "output_type": "display_data"
    }
   ],
   "source": [
    "import seaborn as sns\n",
    "sns.countplot(Y)"
   ]
  },
  {
   "cell_type": "markdown",
   "metadata": {},
   "source": [
    "#### Membagi dataset ke dalam training set dan test set\n",
    "Model machine learning umumnya membutuhkan dua set data untuk \"belajar\" dan menghasilkan estimasi: training set dan test set. Biasanya training set ini memiliki proporsi lebih besar dibandingkan test set, misal 80%.\n",
    "\n",
    "Untuk dataset yang digunakan dalam tulisan ini:"
   ]
  },
  {
   "cell_type": "code",
   "execution_count": 7,
   "metadata": {},
   "outputs": [],
   "source": [
    "from sklearn.model_selection import train_test_split\n",
    "\n",
    "x_train, x_test, y_train, y_test = train_test_split(X, Y, test_size=0.2, random_state=42)"
   ]
  },
  {
   "cell_type": "markdown",
   "metadata": {},
   "source": [
    "Untuk parameter:\n",
    "\n",
    "- test_size : proporsi test set, dalam hal ini 0.2.\n",
    "- train_size: proporsi train size. Jika tidak di set, maka akan menyesuaikan dengan test size (dalam kasus ini 0.8). Berlaku kebalikannya.\n",
    "- random_state : konstan ini akan membuat hasil splitting tetap sama antar runtime atau antar mesin."
   ]
  },
  {
   "cell_type": "markdown",
   "metadata": {},
   "source": [
    "## Feature Scalling"
   ]
  },
  {
   "cell_type": "markdown",
   "metadata": {},
   "source": [
    "Kita perlu menskalakan kolom-kolom yang dibutuhkan. Perbedaan skala dapat menyebabkan kendala dengan estimator. Ingat euclidean distance.\n",
    "\n",
    "(Pada contoh ini, hanya X yang diskalakan. Untuk kasus tertentu, variabel independen dan dependen harus diskala)."
   ]
  },
  {
   "cell_type": "markdown",
   "metadata": {},
   "source": [
    "**StandardScaler** menghilangkan mean (terpusat pada 0) dan menskalakan ke variansi (deviasi standar = 1), dengan asumsi data terdistribusi normal (gauss) untuk semua fitur. Formulanya\n",
    "\n",
    "\\begin{split}z = \\frac{x − u} {s}\\end{split}\n",
    "\n",
    "dengan *u* adalah mean sampel dan *s* adalah deviasi standar (DS) sampel."
   ]
  },
  {
   "cell_type": "code",
   "execution_count": 8,
   "metadata": {},
   "outputs": [],
   "source": [
    "from sklearn.preprocessing import StandardScaler\n",
    "\n",
    "sc = StandardScaler()\n",
    "X_train = sc.fit_transform(x_train)\n",
    "X_test = sc.fit_transform(x_test)"
   ]
  },
  {
   "cell_type": "markdown",
   "metadata": {},
   "source": [
    "Sebenarnya ada dua parameter boolean yang bisa diatur untuk *StandardScaler()*, yaitu *with_mean* dan *with_std*. Umumnya biarkan saja ke default, yaitu True.\n",
    "\n",
    "Terlihat pada potongan kode di atas, fitting untuk menghitung mean dan DS hanya dilakukan pada training set (lalu dilakukan transformasi *(fit_transform)*). Gunakan mean dan DS yang didapat tadi untuk test set (sehingga cukup *transform()* saja)."
   ]
  },
  {
   "cell_type": "markdown",
   "metadata": {},
   "source": [
    "# Artificial Neural Network (ANN)\n",
    "---\n",
    "\n",
    "- ANN adalah salah satu main tools yang digunakan dalam Machine Learning\n",
    "- Seperti yang ditunjukkan oleh bagian \"Neural\" dari namanya, mereka adalah sistem \"Brain-Inspired\" yang dimaksudkan untuk mereplikasi cara  manusia belajar.\n",
    "- Neural Network terdiri dari input dan output layer, serta (dalam kebanyakan kasus) hidden layer yang terdiri dari unit-unit yang mengubah input menjadi sesuatu yang dapat digunakan oleh output layer.\n",
    "- ANN adalah tools yang sangat baik untuk menemukan pola yang terlalu rumit atau banyak bagi seorang programmer untuk mengekstraksi dan mengajarkan mesin untuk mengenali sesuatu.\n",
    "- Neural Network juga disebut \"perceptrons\".\n",
    "- Neural Network telah menjadi bagian utama dari kecerdasan buatan dalam beberapa dekade terakhir. Ini disebabkan oleh kedatangan teknik yang disebut \"backpropagation,\" yang memungkinkan network untuk menyesuaikan hidden layer neuron mereka dalam situasi di mana hasilnya tidak sesuai dengan apa yang diharapkan creator."
   ]
  },
  {
   "cell_type": "code",
   "execution_count": 9,
   "metadata": {},
   "outputs": [
    {
     "name": "stderr",
     "output_type": "stream",
     "text": [
      "Using TensorFlow backend.\n"
     ]
    }
   ],
   "source": [
    "import keras\n",
    "from keras.models import Sequential\n",
    "from keras.layers import Dense\n",
    "from keras.optimizers import Adam\n",
    "from keras.activations import relu, sigmoid"
   ]
  },
  {
   "cell_type": "markdown",
   "metadata": {},
   "source": [
    "### Layers\n",
    "\n",
    "Layer menerima input weight dan mengubah nilai tersebut yang umumnya fungsi non-linear dan meneruskannya sebagai output ke layer selanjutnya. Layer terdiri dari input layer, hidden layer, dan output layer.\n",
    "\n",
    "### Epochs\n",
    "Epoch adalah ketika seluruh dataset sudah melalui proses training pada Neural Netwok sampai dikembalikan ke awal untuk sekali putaran, karena satu Epoch terlalu besar untuk dimasukkan (feeding) kedalam komputer maka dari itu kita perlu membaginya kedalam satuan kecil (batches).\n",
    "\n",
    "Seiring bertambahnya jumlah epoch, semakin banyak pula weight (bobot) yang berubah dalam Neural Network dan kurvanya melengkung dari kurva yang kurang sesuai hingga selaras dengan kurva yang overfitting.\n",
    "\n",
    "### Batch Size\n",
    "Batch Size adalah jumlah sampel data yang disebarkan ke Neural Network. Contoh: jika kita mempunyai 100 dataset dan batch size kita adalah 5 maka algoritma ini akan menggunakan 5 sempel data pertama dari 100 data yang kita miliki (ke1, ke2, ke3, ke4, dan ke5) lalu disebarkankan atau ditraining oleh Neural Network sampai selesai kemudian mengambil kembali 5 sampel data kedua dari 100 data (ke6, ke7, ke8, ke9, dan ke10), dan begitu seterusnya sampai 5 sampel data ke 20 (100⁄5=20).\n",
    "\n",
    "## Activation Function\n",
    "**Activation function** befungsi untuk menentukan apakah neuron tersebut harus “aktif” atau tidak berdasarkan dari weighted sum dari input. Secara umum terdapat 2 jenis activation function, Linear dan Non-Linear Activation function.\n",
    "\n",
    "**Relu** melakukan “treshold” dari 0 hingga infinity. ReLU juga dapat menutupi kelemahan yang dimiliki oleh Sigmoid.\n",
    "Karna ReLU pada intinya hanya membuat pembatas pada bilangan nol, artinya apabila x ≤ 0 maka x = 0 dan apabila x > 0 maka x = x\n",
    "Ada beberapa pro dan kontra ketika kita menggunakan ReLU:\n",
    "\n",
    "Kelebihan :\n",
    "- ReLU sangat mempercepat proses konvergensi yang dilakukan dengan stochastic gradient descent jika dibandingkan dengan sigmoid / tanh.\n",
    "- Jika kita bandingan dengan sigmoid/tanh yang memiliki operasi-operasi yang “expensive” (exponentials, etc.), ReLU bisa kita implementasikan hanya dengan membuat pembatas(threshold) pada bilangan nol.\n",
    "\n",
    "Kekurangan :\n",
    "- Sayangnya, unit ReLU bisa menjadi rapuh pada saat proses training dan bisa membuat unit tersebut “mati”. Sebagai contohnya, kita mungkin bisa menemukan bahwa 40% dari network kita “mati” (neuron yang tidak akan pernah aktif selama proses training) apabila learning rate yang kita inisialisasi terlalu tinggi. Namun apabila kita menginisialisasi learning rate kita secara tepat maka hal seperti ini jarang menjadi masalah.\n",
    "\n",
    "\n",
    "**Sigmoid** function mempunyai rentang antara 0 hingga 1 sedangkan rentang dari Tanh adalah -1 hingga 1.\n",
    "Sigmoid memiliki bentuk formula sebagai berikut :\n",
    "\\begin{split}S(x) = \\frac{1} { 1+e-x }\\end{split}\n",
    "Sigmoid akan menerima angka tunggal dan mengubah nilai x menjadi sebuah nilai yang memiliki range mulai dari 0 sampai 1. Belakangan ini Sigmoid tidak disukai dan jarang digunakan, sigmoid memiliki kekurangan berupa:\n",
    "- Sigmoid mematikan gradient, property yang paling tidak diinginkan dari Sigmoid adalah ketika activation dari neuron mengeluarkan nilai yang berada pada ekor 0 atau 1, dimana gradient di wilayah ini hampir nol. Karena itu, jika gradient memiliki nilai yang sangat kecil, Sigmoid akan “mematikan” gradient dan kita sangat tidak menginginkan hal ini terjadi saat melakukan backpropagation.\n",
    "- Output dari Sigmoid tidak zero-centered. Hal ini berimplikasi pada kedinamisan saat melakukan gradient descent, karna apabila data yang datang ke neuron selalu positif maka gradient pada weights selama backpropagation akan menjadi semua positif atau semua negatif. Hal seperti ini dapat mengganggu proses training, tetapi hal ini tidak separah seperti hal yang ada pada point pertama(mematikan gradient).\n",
    "\n",
    "## Loss Function\n",
    "**Loss Function** digunakan untuk mengukur seberapa bagus performa dari neural network kita dalam melakukan prediksi terhadap target.\n",
    "\n",
    "- *Loss = (Target - Prediction)*<sup>2</sup>\n",
    "\n",
    "Ada berbagai macam loss function, namun yang paling sering digunakan adalah Squared Error (L2 Loss) untuk regresi. Sedangkan untuk klasifikasi yang biasa digunakan adalah **Cross-Entropy**.\n",
    "\n",
    "**Cross-Entropy** mengukur kinerja model klasifikasi yang outputnya merupakan nilai probabilitas antara 0 dan 1. Kehilangan lintas-entropi meningkat karena probabilitas yang diprediksi menyimpang dari label aktual. Jadi memprediksi probabilitas 0,012 ketika label observasi aktual adalah 1 akan buruk dan menghasilkan nilai kerugian yang tinggi. Model yang sempurna akan kehilangan log 0.\n",
    "\n",
    "**Optimizers** digunakan untuk memperbarui bobot dan bias yaitu parameter internal model untuk mengurangi kesalahan.\n",
    "Teknik yang paling penting dan dasar bagaimana kita melatih dan mengoptimalkan model kita adalah menggunakan Gradient Descent.digunakan untuk memperbarui bobot dan bias yaitu parameter internal model untuk mengurangi kesalahan.\n",
    "Teknik yang paling penting dan dasar bagaimana kita melatih dan mengoptimalkan model kita adalah menggunakan Gradient Descent.\n",
    "\n",
    "**Adam** merupakan cara lain untuk menggunakan gradien masa sebelumnya untuk menghitung gradien saat ini. Adam juga memanfaatkan konsep momentum dengan menambahkan pecahan dari gradien sebelumnya ke yang sekarang. Pengoptimal ini telah menjadi sangat luas, dan secara praktis diterima untuk digunakan dalam test neural network."
   ]
  },
  {
   "cell_type": "code",
   "execution_count": 20,
   "metadata": {
    "scrolled": true
   },
   "outputs": [
    {
     "name": "stdout",
     "output_type": "stream",
     "text": [
      "Train on 768 samples, validate on 193 samples\n",
      "Epoch 1/200\n",
      "768/768 [==============================] - 1s 2ms/step - loss: 0.7505 - acc: 0.4583 - val_loss: 0.7418 - val_acc: 0.4767\n",
      "Epoch 2/200\n",
      "768/768 [==============================] - 0s 297us/step - loss: 0.7462 - acc: 0.4583 - val_loss: 0.7374 - val_acc: 0.4767\n",
      "Epoch 3/200\n",
      "768/768 [==============================] - 0s 282us/step - loss: 0.7419 - acc: 0.4583 - val_loss: 0.7331 - val_acc: 0.4767\n",
      "Epoch 4/200\n",
      "768/768 [==============================] - 0s 322us/step - loss: 0.7378 - acc: 0.4583 - val_loss: 0.7288 - val_acc: 0.4819\n",
      "Epoch 5/200\n",
      "768/768 [==============================] - 0s 315us/step - loss: 0.7336 - acc: 0.4583 - val_loss: 0.7246 - val_acc: 0.4819\n",
      "Epoch 6/200\n",
      "768/768 [==============================] - 0s 306us/step - loss: 0.7296 - acc: 0.4583 - val_loss: 0.7204 - val_acc: 0.4819\n",
      "Epoch 7/200\n",
      "768/768 [==============================] - 0s 287us/step - loss: 0.7255 - acc: 0.4583 - val_loss: 0.7164 - val_acc: 0.4819\n",
      "Epoch 8/200\n",
      "768/768 [==============================] - 0s 364us/step - loss: 0.7216 - acc: 0.4583 - val_loss: 0.7124 - val_acc: 0.4819\n",
      "Epoch 9/200\n",
      "768/768 [==============================] - 0s 368us/step - loss: 0.7177 - acc: 0.4583 - val_loss: 0.7084 - val_acc: 0.4819\n",
      "Epoch 10/200\n",
      "768/768 [==============================] - 0s 373us/step - loss: 0.7138 - acc: 0.4583 - val_loss: 0.7045 - val_acc: 0.4767\n",
      "Epoch 11/200\n",
      "768/768 [==============================] - 0s 379us/step - loss: 0.7100 - acc: 0.4583 - val_loss: 0.7006 - val_acc: 0.4767\n",
      "Epoch 12/200\n",
      "768/768 [==============================] - 0s 370us/step - loss: 0.7062 - acc: 0.4583 - val_loss: 0.6969 - val_acc: 0.4767\n",
      "Epoch 13/200\n",
      "768/768 [==============================] - 0s 360us/step - loss: 0.7026 - acc: 0.4583 - val_loss: 0.6931 - val_acc: 0.4767\n",
      "Epoch 14/200\n",
      "768/768 [==============================] - 0s 364us/step - loss: 0.6989 - acc: 0.4596 - val_loss: 0.6894 - val_acc: 0.4922\n",
      "Epoch 15/200\n",
      "768/768 [==============================] - 0s 290us/step - loss: 0.6953 - acc: 0.4648 - val_loss: 0.6856 - val_acc: 0.4974\n",
      "Epoch 16/200\n",
      "768/768 [==============================] - 0s 286us/step - loss: 0.6916 - acc: 0.4674 - val_loss: 0.6820 - val_acc: 0.5026\n",
      "Epoch 17/200\n",
      "768/768 [==============================] - 0s 275us/step - loss: 0.6880 - acc: 0.4701 - val_loss: 0.6784 - val_acc: 0.4974\n",
      "Epoch 18/200\n",
      "768/768 [==============================] - 0s 282us/step - loss: 0.6845 - acc: 0.4766 - val_loss: 0.6748 - val_acc: 0.4974\n",
      "Epoch 19/200\n",
      "768/768 [==============================] - 0s 288us/step - loss: 0.6810 - acc: 0.4766 - val_loss: 0.6713 - val_acc: 0.5026\n",
      "Epoch 20/200\n",
      "768/768 [==============================] - 0s 281us/step - loss: 0.6775 - acc: 0.4792 - val_loss: 0.6677 - val_acc: 0.5026\n",
      "Epoch 21/200\n",
      "768/768 [==============================] - 0s 276us/step - loss: 0.6740 - acc: 0.4831 - val_loss: 0.6641 - val_acc: 0.5026\n",
      "Epoch 22/200\n",
      "768/768 [==============================] - 0s 239us/step - loss: 0.6705 - acc: 0.4870 - val_loss: 0.6606 - val_acc: 0.5130\n",
      "Epoch 23/200\n",
      "768/768 [==============================] - 0s 280us/step - loss: 0.6671 - acc: 0.4909 - val_loss: 0.6570 - val_acc: 0.5181\n",
      "Epoch 24/200\n",
      "768/768 [==============================] - 0s 282us/step - loss: 0.6637 - acc: 0.5026 - val_loss: 0.6535 - val_acc: 0.5389\n",
      "Epoch 25/200\n",
      "768/768 [==============================] - 0s 276us/step - loss: 0.6603 - acc: 0.5156 - val_loss: 0.6502 - val_acc: 0.5648\n",
      "Epoch 26/200\n",
      "768/768 [==============================] - 0s 283us/step - loss: 0.6569 - acc: 0.5443 - val_loss: 0.6468 - val_acc: 0.5751\n",
      "Epoch 27/200\n",
      "768/768 [==============================] - 0s 286us/step - loss: 0.6537 - acc: 0.5898 - val_loss: 0.6434 - val_acc: 0.6425\n",
      "Epoch 28/200\n",
      "768/768 [==============================] - 0s 280us/step - loss: 0.6504 - acc: 0.6328 - val_loss: 0.6401 - val_acc: 0.6580\n",
      "Epoch 29/200\n",
      "768/768 [==============================] - 0s 275us/step - loss: 0.6472 - acc: 0.6784 - val_loss: 0.6368 - val_acc: 0.6995\n",
      "Epoch 30/200\n",
      "768/768 [==============================] - 0s 277us/step - loss: 0.6440 - acc: 0.7018 - val_loss: 0.6335 - val_acc: 0.7202\n",
      "Epoch 31/200\n",
      "768/768 [==============================] - 0s 279us/step - loss: 0.6407 - acc: 0.7266 - val_loss: 0.6303 - val_acc: 0.7306\n",
      "Epoch 32/200\n",
      "768/768 [==============================] - 0s 272us/step - loss: 0.6376 - acc: 0.7409 - val_loss: 0.6271 - val_acc: 0.7409\n",
      "Epoch 33/200\n",
      "768/768 [==============================] - 0s 276us/step - loss: 0.6345 - acc: 0.7435 - val_loss: 0.6240 - val_acc: 0.7461\n",
      "Epoch 34/200\n",
      "768/768 [==============================] - 0s 282us/step - loss: 0.6314 - acc: 0.7591 - val_loss: 0.6209 - val_acc: 0.7617\n",
      "Epoch 35/200\n",
      "768/768 [==============================] - 0s 278us/step - loss: 0.6284 - acc: 0.7656 - val_loss: 0.6178 - val_acc: 0.7720\n",
      "Epoch 36/200\n",
      "768/768 [==============================] - 0s 283us/step - loss: 0.6254 - acc: 0.7826 - val_loss: 0.6148 - val_acc: 0.7772\n",
      "Epoch 37/200\n",
      "768/768 [==============================] - 0s 281us/step - loss: 0.6224 - acc: 0.7852 - val_loss: 0.6117 - val_acc: 0.7824\n",
      "Epoch 38/200\n",
      "768/768 [==============================] - 0s 276us/step - loss: 0.6195 - acc: 0.7891 - val_loss: 0.6087 - val_acc: 0.7824\n",
      "Epoch 39/200\n",
      "768/768 [==============================] - 0s 276us/step - loss: 0.6165 - acc: 0.7891 - val_loss: 0.6058 - val_acc: 0.7824\n",
      "Epoch 40/200\n",
      "768/768 [==============================] - 0s 284us/step - loss: 0.6136 - acc: 0.7930 - val_loss: 0.6029 - val_acc: 0.7824\n",
      "Epoch 41/200\n",
      "768/768 [==============================] - 0s 283us/step - loss: 0.6108 - acc: 0.7943 - val_loss: 0.5999 - val_acc: 0.7824\n",
      "Epoch 42/200\n",
      "768/768 [==============================] - 0s 287us/step - loss: 0.6079 - acc: 0.7982 - val_loss: 0.5970 - val_acc: 0.7772\n",
      "Epoch 43/200\n",
      "768/768 [==============================] - 0s 280us/step - loss: 0.6051 - acc: 0.7969 - val_loss: 0.5942 - val_acc: 0.7824\n",
      "Epoch 44/200\n",
      "768/768 [==============================] - 0s 278us/step - loss: 0.6023 - acc: 0.7995 - val_loss: 0.5913 - val_acc: 0.7772\n",
      "Epoch 45/200\n",
      "768/768 [==============================] - 0s 279us/step - loss: 0.5996 - acc: 0.7995 - val_loss: 0.5885 - val_acc: 0.8031\n",
      "Epoch 46/200\n",
      "768/768 [==============================] - 0s 274us/step - loss: 0.5970 - acc: 0.8021 - val_loss: 0.5856 - val_acc: 0.8031\n",
      "Epoch 47/200\n",
      "768/768 [==============================] - 0s 280us/step - loss: 0.5943 - acc: 0.8034 - val_loss: 0.5829 - val_acc: 0.8031\n",
      "Epoch 48/200\n",
      "768/768 [==============================] - 0s 283us/step - loss: 0.5917 - acc: 0.8021 - val_loss: 0.5802 - val_acc: 0.8031\n",
      "Epoch 49/200\n",
      "768/768 [==============================] - 0s 277us/step - loss: 0.5891 - acc: 0.8047 - val_loss: 0.5775 - val_acc: 0.8031\n",
      "Epoch 50/200\n",
      "768/768 [==============================] - 0s 276us/step - loss: 0.5865 - acc: 0.8047 - val_loss: 0.5748 - val_acc: 0.8031\n",
      "Epoch 51/200\n",
      "768/768 [==============================] - 0s 279us/step - loss: 0.5840 - acc: 0.8034 - val_loss: 0.5722 - val_acc: 0.8083\n",
      "Epoch 52/200\n",
      "768/768 [==============================] - 0s 279us/step - loss: 0.5815 - acc: 0.8047 - val_loss: 0.5696 - val_acc: 0.8135\n",
      "Epoch 53/200\n",
      "768/768 [==============================] - 0s 285us/step - loss: 0.5791 - acc: 0.8047 - val_loss: 0.5671 - val_acc: 0.8135\n",
      "Epoch 54/200\n",
      "768/768 [==============================] - 0s 282us/step - loss: 0.5766 - acc: 0.8086 - val_loss: 0.5645 - val_acc: 0.8135\n",
      "Epoch 55/200\n",
      "768/768 [==============================] - 0s 280us/step - loss: 0.5742 - acc: 0.8060 - val_loss: 0.5620 - val_acc: 0.8187\n",
      "Epoch 56/200\n",
      "768/768 [==============================] - 0s 288us/step - loss: 0.5718 - acc: 0.8060 - val_loss: 0.5595 - val_acc: 0.8238\n",
      "Epoch 57/200\n",
      "768/768 [==============================] - 0s 279us/step - loss: 0.5694 - acc: 0.8086 - val_loss: 0.5570 - val_acc: 0.8238\n",
      "Epoch 58/200\n",
      "768/768 [==============================] - 0s 297us/step - loss: 0.5671 - acc: 0.8086 - val_loss: 0.5546 - val_acc: 0.8290\n",
      "Epoch 59/200\n",
      "768/768 [==============================] - 0s 319us/step - loss: 0.5648 - acc: 0.8086 - val_loss: 0.5521 - val_acc: 0.8290\n",
      "Epoch 60/200\n",
      "768/768 [==============================] - 0s 461us/step - loss: 0.5625 - acc: 0.8073 - val_loss: 0.5497 - val_acc: 0.8290\n"
     ]
    },
    {
     "name": "stdout",
     "output_type": "stream",
     "text": [
      "Epoch 61/200\n",
      "768/768 [==============================] - 0s 466us/step - loss: 0.5602 - acc: 0.8073 - val_loss: 0.5472 - val_acc: 0.8290\n",
      "Epoch 62/200\n",
      "768/768 [==============================] - 0s 447us/step - loss: 0.5579 - acc: 0.8086 - val_loss: 0.5449 - val_acc: 0.8342\n",
      "Epoch 63/200\n",
      "768/768 [==============================] - 0s 421us/step - loss: 0.5557 - acc: 0.8060 - val_loss: 0.5426 - val_acc: 0.8342\n",
      "Epoch 64/200\n",
      "768/768 [==============================] - 0s 422us/step - loss: 0.5535 - acc: 0.8073 - val_loss: 0.5402 - val_acc: 0.8342\n",
      "Epoch 65/200\n",
      "768/768 [==============================] - 0s 409us/step - loss: 0.5513 - acc: 0.8073 - val_loss: 0.5379 - val_acc: 0.8342\n",
      "Epoch 66/200\n",
      "768/768 [==============================] - 0s 351us/step - loss: 0.5491 - acc: 0.8073 - val_loss: 0.5355 - val_acc: 0.8342\n",
      "Epoch 67/200\n",
      "768/768 [==============================] - 0s 327us/step - loss: 0.5470 - acc: 0.8073 - val_loss: 0.5333 - val_acc: 0.8394\n",
      "Epoch 68/200\n",
      "768/768 [==============================] - 0s 320us/step - loss: 0.5448 - acc: 0.8086 - val_loss: 0.5310 - val_acc: 0.8394\n",
      "Epoch 69/200\n",
      "768/768 [==============================] - 0s 330us/step - loss: 0.5427 - acc: 0.8125 - val_loss: 0.5288 - val_acc: 0.8394\n",
      "Epoch 70/200\n",
      "768/768 [==============================] - 0s 327us/step - loss: 0.5406 - acc: 0.8138 - val_loss: 0.5265 - val_acc: 0.8446\n",
      "Epoch 71/200\n",
      "768/768 [==============================] - 0s 302us/step - loss: 0.5386 - acc: 0.8138 - val_loss: 0.5243 - val_acc: 0.8446\n",
      "Epoch 72/200\n",
      "768/768 [==============================] - 0s 298us/step - loss: 0.5365 - acc: 0.8138 - val_loss: 0.5222 - val_acc: 0.8446\n",
      "Epoch 73/200\n",
      "768/768 [==============================] - 0s 294us/step - loss: 0.5345 - acc: 0.8138 - val_loss: 0.5201 - val_acc: 0.8497\n",
      "Epoch 74/200\n",
      "768/768 [==============================] - 0s 296us/step - loss: 0.5326 - acc: 0.8125 - val_loss: 0.5180 - val_acc: 0.8497\n",
      "Epoch 75/200\n",
      "768/768 [==============================] - 0s 296us/step - loss: 0.5306 - acc: 0.8125 - val_loss: 0.5159 - val_acc: 0.8497\n",
      "Epoch 76/200\n",
      "768/768 [==============================] - 0s 302us/step - loss: 0.5287 - acc: 0.8138 - val_loss: 0.5138 - val_acc: 0.8446\n",
      "Epoch 77/200\n",
      "768/768 [==============================] - 0s 297us/step - loss: 0.5268 - acc: 0.8138 - val_loss: 0.5118 - val_acc: 0.8446\n",
      "Epoch 78/200\n",
      "768/768 [==============================] - 0s 297us/step - loss: 0.5249 - acc: 0.8138 - val_loss: 0.5099 - val_acc: 0.8446\n",
      "Epoch 79/200\n",
      "768/768 [==============================] - 0s 293us/step - loss: 0.5231 - acc: 0.8138 - val_loss: 0.5078 - val_acc: 0.8446\n",
      "Epoch 80/200\n",
      "768/768 [==============================] - 0s 298us/step - loss: 0.5212 - acc: 0.8112 - val_loss: 0.5058 - val_acc: 0.8394\n",
      "Epoch 81/200\n",
      "768/768 [==============================] - 0s 306us/step - loss: 0.5194 - acc: 0.8099 - val_loss: 0.5039 - val_acc: 0.8394\n",
      "Epoch 82/200\n",
      "768/768 [==============================] - 0s 296us/step - loss: 0.5176 - acc: 0.8112 - val_loss: 0.5020 - val_acc: 0.8394\n",
      "Epoch 83/200\n",
      "768/768 [==============================] - 0s 303us/step - loss: 0.5158 - acc: 0.8112 - val_loss: 0.5001 - val_acc: 0.8394\n",
      "Epoch 84/200\n",
      "768/768 [==============================] - 0s 303us/step - loss: 0.5141 - acc: 0.8125 - val_loss: 0.4981 - val_acc: 0.8394\n",
      "Epoch 85/200\n",
      "768/768 [==============================] - 0s 267us/step - loss: 0.5123 - acc: 0.8112 - val_loss: 0.4963 - val_acc: 0.8394\n",
      "Epoch 86/200\n",
      "768/768 [==============================] - 0s 207us/step - loss: 0.5106 - acc: 0.8125 - val_loss: 0.4944 - val_acc: 0.8394\n",
      "Epoch 87/200\n",
      "768/768 [==============================] - 0s 299us/step - loss: 0.5089 - acc: 0.8125 - val_loss: 0.4926 - val_acc: 0.8394\n",
      "Epoch 88/200\n",
      "768/768 [==============================] - 0s 282us/step - loss: 0.5073 - acc: 0.8125 - val_loss: 0.4907 - val_acc: 0.8342\n",
      "Epoch 89/200\n",
      "768/768 [==============================] - 0s 277us/step - loss: 0.5056 - acc: 0.8125 - val_loss: 0.4889 - val_acc: 0.8342\n",
      "Epoch 90/200\n",
      "768/768 [==============================] - 0s 287us/step - loss: 0.5039 - acc: 0.8125 - val_loss: 0.4870 - val_acc: 0.8342\n",
      "Epoch 91/200\n",
      "768/768 [==============================] - 0s 285us/step - loss: 0.5023 - acc: 0.8125 - val_loss: 0.4853 - val_acc: 0.8342\n",
      "Epoch 92/200\n",
      "768/768 [==============================] - 0s 281us/step - loss: 0.5006 - acc: 0.8125 - val_loss: 0.4834 - val_acc: 0.8342\n",
      "Epoch 93/200\n",
      "768/768 [==============================] - 0s 275us/step - loss: 0.4990 - acc: 0.8138 - val_loss: 0.4817 - val_acc: 0.8342\n",
      "Epoch 94/200\n",
      "768/768 [==============================] - 0s 286us/step - loss: 0.4974 - acc: 0.8125 - val_loss: 0.4799 - val_acc: 0.8342\n",
      "Epoch 95/200\n",
      "768/768 [==============================] - 0s 282us/step - loss: 0.4958 - acc: 0.8125 - val_loss: 0.4782 - val_acc: 0.8342\n",
      "Epoch 96/200\n",
      "768/768 [==============================] - 0s 278us/step - loss: 0.4942 - acc: 0.8164 - val_loss: 0.4764 - val_acc: 0.8342\n",
      "Epoch 97/200\n",
      "768/768 [==============================] - 0s 271us/step - loss: 0.4927 - acc: 0.8164 - val_loss: 0.4747 - val_acc: 0.8342\n",
      "Epoch 98/200\n",
      "768/768 [==============================] - 0s 276us/step - loss: 0.4911 - acc: 0.8164 - val_loss: 0.4731 - val_acc: 0.8342\n",
      "Epoch 99/200\n",
      "768/768 [==============================] - 0s 281us/step - loss: 0.4897 - acc: 0.8164 - val_loss: 0.4716 - val_acc: 0.8342\n",
      "Epoch 100/200\n",
      "768/768 [==============================] - 0s 273us/step - loss: 0.4882 - acc: 0.8164 - val_loss: 0.4699 - val_acc: 0.8342\n",
      "Epoch 101/200\n",
      "768/768 [==============================] - 0s 279us/step - loss: 0.4868 - acc: 0.8164 - val_loss: 0.4684 - val_acc: 0.8342\n",
      "Epoch 102/200\n",
      "768/768 [==============================] - 0s 276us/step - loss: 0.4854 - acc: 0.8164 - val_loss: 0.4669 - val_acc: 0.8290\n",
      "Epoch 103/200\n",
      "768/768 [==============================] - 0s 272us/step - loss: 0.4840 - acc: 0.8177 - val_loss: 0.4653 - val_acc: 0.8290\n",
      "Epoch 104/200\n",
      "768/768 [==============================] - 0s 277us/step - loss: 0.4826 - acc: 0.8177 - val_loss: 0.4638 - val_acc: 0.8290\n",
      "Epoch 105/200\n",
      "768/768 [==============================] - 0s 272us/step - loss: 0.4813 - acc: 0.8177 - val_loss: 0.4623 - val_acc: 0.8290\n",
      "Epoch 106/200\n",
      "768/768 [==============================] - 0s 275us/step - loss: 0.4800 - acc: 0.8190 - val_loss: 0.4609 - val_acc: 0.8290\n",
      "Epoch 107/200\n",
      "768/768 [==============================] - 0s 272us/step - loss: 0.4787 - acc: 0.8190 - val_loss: 0.4594 - val_acc: 0.8290\n",
      "Epoch 108/200\n",
      "768/768 [==============================] - 0s 282us/step - loss: 0.4774 - acc: 0.8203 - val_loss: 0.4581 - val_acc: 0.8290\n",
      "Epoch 109/200\n",
      "768/768 [==============================] - 0s 277us/step - loss: 0.4762 - acc: 0.8203 - val_loss: 0.4568 - val_acc: 0.8290\n",
      "Epoch 110/200\n",
      "768/768 [==============================] - 0s 276us/step - loss: 0.4750 - acc: 0.8203 - val_loss: 0.4554 - val_acc: 0.8290\n",
      "Epoch 111/200\n",
      "768/768 [==============================] - 0s 276us/step - loss: 0.4738 - acc: 0.8203 - val_loss: 0.4541 - val_acc: 0.8290\n",
      "Epoch 112/200\n",
      "768/768 [==============================] - 0s 279us/step - loss: 0.4726 - acc: 0.8203 - val_loss: 0.4527 - val_acc: 0.8290\n",
      "Epoch 113/200\n",
      "768/768 [==============================] - 0s 281us/step - loss: 0.4714 - acc: 0.8203 - val_loss: 0.4514 - val_acc: 0.8290\n",
      "Epoch 114/200\n",
      "768/768 [==============================] - 0s 272us/step - loss: 0.4703 - acc: 0.8203 - val_loss: 0.4502 - val_acc: 0.8290\n",
      "Epoch 115/200\n",
      "768/768 [==============================] - 0s 266us/step - loss: 0.4692 - acc: 0.8203 - val_loss: 0.4489 - val_acc: 0.8290\n",
      "Epoch 116/200\n",
      "768/768 [==============================] - 0s 275us/step - loss: 0.4680 - acc: 0.8203 - val_loss: 0.4477 - val_acc: 0.8290\n",
      "Epoch 117/200\n",
      "768/768 [==============================] - 0s 281us/step - loss: 0.4670 - acc: 0.8203 - val_loss: 0.4465 - val_acc: 0.8290\n",
      "Epoch 118/200\n",
      "768/768 [==============================] - 0s 279us/step - loss: 0.4659 - acc: 0.8203 - val_loss: 0.4453 - val_acc: 0.8290\n",
      "Epoch 119/200\n",
      "768/768 [==============================] - 0s 276us/step - loss: 0.4649 - acc: 0.8203 - val_loss: 0.4441 - val_acc: 0.8290\n",
      "Epoch 120/200\n",
      "768/768 [==============================] - 0s 275us/step - loss: 0.4638 - acc: 0.8203 - val_loss: 0.4429 - val_acc: 0.8290\n",
      "Epoch 121/200\n"
     ]
    },
    {
     "name": "stdout",
     "output_type": "stream",
     "text": [
      "768/768 [==============================] - 0s 273us/step - loss: 0.4628 - acc: 0.8203 - val_loss: 0.4419 - val_acc: 0.8290\n",
      "Epoch 122/200\n",
      "768/768 [==============================] - 0s 275us/step - loss: 0.4618 - acc: 0.8203 - val_loss: 0.4407 - val_acc: 0.8290\n",
      "Epoch 123/200\n",
      "768/768 [==============================] - 0s 286us/step - loss: 0.4608 - acc: 0.8203 - val_loss: 0.4396 - val_acc: 0.8290\n",
      "Epoch 124/200\n",
      "768/768 [==============================] - 0s 279us/step - loss: 0.4598 - acc: 0.8203 - val_loss: 0.4386 - val_acc: 0.8290\n",
      "Epoch 125/200\n",
      "768/768 [==============================] - 0s 281us/step - loss: 0.4589 - acc: 0.8203 - val_loss: 0.4375 - val_acc: 0.8290\n",
      "Epoch 126/200\n",
      "768/768 [==============================] - 0s 271us/step - loss: 0.4580 - acc: 0.8203 - val_loss: 0.4364 - val_acc: 0.8290\n",
      "Epoch 127/200\n",
      "768/768 [==============================] - 0s 287us/step - loss: 0.4570 - acc: 0.8203 - val_loss: 0.4354 - val_acc: 0.8342\n",
      "Epoch 128/200\n",
      "768/768 [==============================] - 0s 355us/step - loss: 0.4561 - acc: 0.8203 - val_loss: 0.4344 - val_acc: 0.8342\n",
      "Epoch 129/200\n",
      "768/768 [==============================] - 0s 311us/step - loss: 0.4553 - acc: 0.8203 - val_loss: 0.4333 - val_acc: 0.8342\n",
      "Epoch 130/200\n",
      "768/768 [==============================] - 0s 322us/step - loss: 0.4544 - acc: 0.8203 - val_loss: 0.4323 - val_acc: 0.8342\n",
      "Epoch 131/200\n",
      "768/768 [==============================] - 0s 318us/step - loss: 0.4535 - acc: 0.8203 - val_loss: 0.4314 - val_acc: 0.8342\n",
      "Epoch 132/200\n",
      "768/768 [==============================] - 0s 325us/step - loss: 0.4527 - acc: 0.8203 - val_loss: 0.4305 - val_acc: 0.8342\n",
      "Epoch 133/200\n",
      "768/768 [==============================] - 0s 322us/step - loss: 0.4519 - acc: 0.8203 - val_loss: 0.4295 - val_acc: 0.8342\n",
      "Epoch 134/200\n",
      "768/768 [==============================] - 0s 353us/step - loss: 0.4511 - acc: 0.8203 - val_loss: 0.4286 - val_acc: 0.8342\n",
      "Epoch 135/200\n",
      "768/768 [==============================] - 0s 321us/step - loss: 0.4502 - acc: 0.8203 - val_loss: 0.4277 - val_acc: 0.8342\n",
      "Epoch 136/200\n",
      "768/768 [==============================] - 0s 305us/step - loss: 0.4495 - acc: 0.8203 - val_loss: 0.4268 - val_acc: 0.8342\n",
      "Epoch 137/200\n",
      "768/768 [==============================] - 0s 284us/step - loss: 0.4487 - acc: 0.8203 - val_loss: 0.4260 - val_acc: 0.8342\n",
      "Epoch 138/200\n",
      "768/768 [==============================] - 0s 283us/step - loss: 0.4479 - acc: 0.8203 - val_loss: 0.4251 - val_acc: 0.8342\n",
      "Epoch 139/200\n",
      "768/768 [==============================] - 0s 285us/step - loss: 0.4472 - acc: 0.8190 - val_loss: 0.4242 - val_acc: 0.8342\n",
      "Epoch 140/200\n",
      "768/768 [==============================] - 0s 284us/step - loss: 0.4464 - acc: 0.8190 - val_loss: 0.4234 - val_acc: 0.8342\n",
      "Epoch 141/200\n",
      "768/768 [==============================] - 0s 284us/step - loss: 0.4457 - acc: 0.8190 - val_loss: 0.4225 - val_acc: 0.8342\n",
      "Epoch 142/200\n",
      "768/768 [==============================] - 0s 277us/step - loss: 0.4450 - acc: 0.8190 - val_loss: 0.4217 - val_acc: 0.8342\n",
      "Epoch 143/200\n",
      "768/768 [==============================] - 0s 291us/step - loss: 0.4443 - acc: 0.8190 - val_loss: 0.4209 - val_acc: 0.8342\n",
      "Epoch 144/200\n",
      "768/768 [==============================] - 0s 278us/step - loss: 0.4436 - acc: 0.8190 - val_loss: 0.4201 - val_acc: 0.8342\n",
      "Epoch 145/200\n",
      "768/768 [==============================] - 0s 275us/step - loss: 0.4430 - acc: 0.8190 - val_loss: 0.4194 - val_acc: 0.8342\n",
      "Epoch 146/200\n",
      "768/768 [==============================] - 0s 282us/step - loss: 0.4423 - acc: 0.8203 - val_loss: 0.4186 - val_acc: 0.8342\n",
      "Epoch 147/200\n",
      "768/768 [==============================] - 0s 282us/step - loss: 0.4417 - acc: 0.8203 - val_loss: 0.4179 - val_acc: 0.8342\n",
      "Epoch 148/200\n",
      "768/768 [==============================] - 0s 283us/step - loss: 0.4410 - acc: 0.8203 - val_loss: 0.4171 - val_acc: 0.8342\n",
      "Epoch 149/200\n",
      "768/768 [==============================] - 0s 279us/step - loss: 0.4404 - acc: 0.8203 - val_loss: 0.4164 - val_acc: 0.8342\n",
      "Epoch 150/200\n",
      "768/768 [==============================] - 0s 281us/step - loss: 0.4397 - acc: 0.8203 - val_loss: 0.4157 - val_acc: 0.8342\n",
      "Epoch 151/200\n",
      "768/768 [==============================] - 0s 282us/step - loss: 0.4391 - acc: 0.8203 - val_loss: 0.4150 - val_acc: 0.8394\n",
      "Epoch 152/200\n",
      "768/768 [==============================] - 0s 291us/step - loss: 0.4386 - acc: 0.8203 - val_loss: 0.4143 - val_acc: 0.8394\n",
      "Epoch 153/200\n",
      "768/768 [==============================] - 0s 277us/step - loss: 0.4379 - acc: 0.8203 - val_loss: 0.4136 - val_acc: 0.8394\n",
      "Epoch 154/200\n",
      "768/768 [==============================] - 0s 279us/step - loss: 0.4374 - acc: 0.8216 - val_loss: 0.4129 - val_acc: 0.8394\n",
      "Epoch 155/200\n",
      "768/768 [==============================] - 0s 276us/step - loss: 0.4368 - acc: 0.8216 - val_loss: 0.4123 - val_acc: 0.8394\n",
      "Epoch 156/200\n",
      "768/768 [==============================] - 0s 283us/step - loss: 0.4362 - acc: 0.8216 - val_loss: 0.4116 - val_acc: 0.8394\n",
      "Epoch 157/200\n",
      "768/768 [==============================] - 0s 291us/step - loss: 0.4357 - acc: 0.8216 - val_loss: 0.4109 - val_acc: 0.8394\n",
      "Epoch 158/200\n",
      "768/768 [==============================] - 0s 326us/step - loss: 0.4351 - acc: 0.8216 - val_loss: 0.4103 - val_acc: 0.8394\n",
      "Epoch 159/200\n",
      "768/768 [==============================] - 0s 221us/step - loss: 0.4346 - acc: 0.8216 - val_loss: 0.4098 - val_acc: 0.8394\n",
      "Epoch 160/200\n",
      "768/768 [==============================] - 0s 295us/step - loss: 0.4341 - acc: 0.8216 - val_loss: 0.4092 - val_acc: 0.8394\n",
      "Epoch 161/200\n",
      "768/768 [==============================] - 0s 217us/step - loss: 0.4336 - acc: 0.8203 - val_loss: 0.4085 - val_acc: 0.8394\n",
      "Epoch 162/200\n",
      "768/768 [==============================] - 0s 284us/step - loss: 0.4331 - acc: 0.8203 - val_loss: 0.4080 - val_acc: 0.8394\n",
      "Epoch 163/200\n",
      "768/768 [==============================] - 0s 273us/step - loss: 0.4326 - acc: 0.8203 - val_loss: 0.4074 - val_acc: 0.8394\n",
      "Epoch 164/200\n",
      "768/768 [==============================] - 0s 270us/step - loss: 0.4321 - acc: 0.8203 - val_loss: 0.4069 - val_acc: 0.8394\n",
      "Epoch 165/200\n",
      "768/768 [==============================] - 0s 289us/step - loss: 0.4316 - acc: 0.8203 - val_loss: 0.4063 - val_acc: 0.8394\n",
      "Epoch 166/200\n",
      "768/768 [==============================] - 0s 277us/step - loss: 0.4312 - acc: 0.8203 - val_loss: 0.4057 - val_acc: 0.8394\n",
      "Epoch 167/200\n",
      "768/768 [==============================] - 0s 283us/step - loss: 0.4307 - acc: 0.8203 - val_loss: 0.4053 - val_acc: 0.8394\n",
      "Epoch 168/200\n",
      "768/768 [==============================] - 0s 279us/step - loss: 0.4303 - acc: 0.8203 - val_loss: 0.4047 - val_acc: 0.8394\n",
      "Epoch 169/200\n",
      "768/768 [==============================] - 0s 295us/step - loss: 0.4298 - acc: 0.8203 - val_loss: 0.4042 - val_acc: 0.8394\n",
      "Epoch 170/200\n",
      "768/768 [==============================] - 0s 277us/step - loss: 0.4293 - acc: 0.8203 - val_loss: 0.4037 - val_acc: 0.8394\n",
      "Epoch 171/200\n",
      "768/768 [==============================] - 0s 284us/step - loss: 0.4289 - acc: 0.8203 - val_loss: 0.4032 - val_acc: 0.8394\n",
      "Epoch 172/200\n",
      "768/768 [==============================] - 0s 278us/step - loss: 0.4285 - acc: 0.8203 - val_loss: 0.4027 - val_acc: 0.8394\n",
      "Epoch 173/200\n",
      "768/768 [==============================] - 0s 279us/step - loss: 0.4281 - acc: 0.8190 - val_loss: 0.4022 - val_acc: 0.8394\n",
      "Epoch 174/200\n",
      "768/768 [==============================] - 0s 282us/step - loss: 0.4277 - acc: 0.8190 - val_loss: 0.4018 - val_acc: 0.8394\n",
      "Epoch 175/200\n",
      "768/768 [==============================] - 0s 274us/step - loss: 0.4273 - acc: 0.8190 - val_loss: 0.4013 - val_acc: 0.8394\n",
      "Epoch 176/200\n",
      "768/768 [==============================] - 0s 282us/step - loss: 0.4269 - acc: 0.8190 - val_loss: 0.4009 - val_acc: 0.8394\n",
      "Epoch 177/200\n",
      "768/768 [==============================] - 0s 300us/step - loss: 0.4265 - acc: 0.8190 - val_loss: 0.4004 - val_acc: 0.8394\n",
      "Epoch 178/200\n",
      "768/768 [==============================] - 0s 288us/step - loss: 0.4261 - acc: 0.8190 - val_loss: 0.4000 - val_acc: 0.8394\n",
      "Epoch 179/200\n",
      "768/768 [==============================] - 0s 277us/step - loss: 0.4258 - acc: 0.8190 - val_loss: 0.3995 - val_acc: 0.8342\n",
      "Epoch 180/200\n",
      "768/768 [==============================] - 0s 278us/step - loss: 0.4254 - acc: 0.8190 - val_loss: 0.3991 - val_acc: 0.8342\n"
     ]
    },
    {
     "name": "stdout",
     "output_type": "stream",
     "text": [
      "Epoch 181/200\n",
      "768/768 [==============================] - 0s 280us/step - loss: 0.4251 - acc: 0.8190 - val_loss: 0.3987 - val_acc: 0.8342\n",
      "Epoch 182/200\n",
      "768/768 [==============================] - 0s 275us/step - loss: 0.4247 - acc: 0.8190 - val_loss: 0.3983 - val_acc: 0.8342\n",
      "Epoch 183/200\n",
      "768/768 [==============================] - 0s 284us/step - loss: 0.4244 - acc: 0.8190 - val_loss: 0.3978 - val_acc: 0.8342\n",
      "Epoch 184/200\n",
      "768/768 [==============================] - 0s 271us/step - loss: 0.4240 - acc: 0.8190 - val_loss: 0.3975 - val_acc: 0.8342\n",
      "Epoch 185/200\n",
      "768/768 [==============================] - 0s 275us/step - loss: 0.4237 - acc: 0.8190 - val_loss: 0.3971 - val_acc: 0.8342\n",
      "Epoch 186/200\n",
      "768/768 [==============================] - 0s 277us/step - loss: 0.4234 - acc: 0.8190 - val_loss: 0.3967 - val_acc: 0.8342\n",
      "Epoch 187/200\n",
      "768/768 [==============================] - 0s 280us/step - loss: 0.4231 - acc: 0.8190 - val_loss: 0.3963 - val_acc: 0.8394\n",
      "Epoch 188/200\n",
      "768/768 [==============================] - 0s 284us/step - loss: 0.4228 - acc: 0.8190 - val_loss: 0.3960 - val_acc: 0.8394\n",
      "Epoch 189/200\n",
      "768/768 [==============================] - 0s 285us/step - loss: 0.4224 - acc: 0.8190 - val_loss: 0.3956 - val_acc: 0.8394\n",
      "Epoch 190/200\n",
      "768/768 [==============================] - 0s 281us/step - loss: 0.4221 - acc: 0.8177 - val_loss: 0.3953 - val_acc: 0.8394\n",
      "Epoch 191/200\n",
      "768/768 [==============================] - 0s 278us/step - loss: 0.4218 - acc: 0.8177 - val_loss: 0.3949 - val_acc: 0.8394\n",
      "Epoch 192/200\n",
      "768/768 [==============================] - 0s 280us/step - loss: 0.4216 - acc: 0.8177 - val_loss: 0.3946 - val_acc: 0.8394\n",
      "Epoch 193/200\n",
      "768/768 [==============================] - 0s 278us/step - loss: 0.4213 - acc: 0.8177 - val_loss: 0.3943 - val_acc: 0.8394\n",
      "Epoch 194/200\n",
      "768/768 [==============================] - 0s 276us/step - loss: 0.4210 - acc: 0.8164 - val_loss: 0.3939 - val_acc: 0.8394\n",
      "Epoch 195/200\n",
      "768/768 [==============================] - 0s 275us/step - loss: 0.4207 - acc: 0.8164 - val_loss: 0.3936 - val_acc: 0.8394\n",
      "Epoch 196/200\n",
      "768/768 [==============================] - 0s 278us/step - loss: 0.4204 - acc: 0.8164 - val_loss: 0.3933 - val_acc: 0.8394\n",
      "Epoch 197/200\n",
      "768/768 [==============================] - 0s 278us/step - loss: 0.4202 - acc: 0.8164 - val_loss: 0.3930 - val_acc: 0.8394\n",
      "Epoch 198/200\n",
      "768/768 [==============================] - 0s 281us/step - loss: 0.4199 - acc: 0.8164 - val_loss: 0.3927 - val_acc: 0.8394\n",
      "Epoch 199/200\n",
      "768/768 [==============================] - 0s 289us/step - loss: 0.4196 - acc: 0.8164 - val_loss: 0.3924 - val_acc: 0.8394\n",
      "Epoch 200/200\n",
      "768/768 [==============================] - 0s 317us/step - loss: 0.4194 - acc: 0.8164 - val_loss: 0.3920 - val_acc: 0.8394\n",
      "193/193 [==============================] - 0s 107us/step\n"
     ]
    }
   ],
   "source": [
    "model = Sequential()\n",
    "\n",
    "# Hidden layer dan Input Layer\n",
    "model.add(Dense(100, activation = 'relu', input_dim = 5))\n",
    "model.add(Dense(50, activation = 'relu'))\n",
    "\n",
    "# Output Layer\n",
    "model.add(Dense(1, activation = 'sigmoid'))\n",
    "model.compile(optimizer = Adam(lr = 0.00001), loss = 'binary_crossentropy', metrics = ['accuracy'])\n",
    "\n",
    "acc_training = model.fit(X_train, y_train, validation_data=(X_test, y_test), batch_size=32, epochs=200)\n",
    "acc_testing  = model.evaluate(X_test, y_test)"
   ]
  },
  {
   "cell_type": "markdown",
   "metadata": {},
   "source": [
    "### Hasil Akurasi Prediksi\n",
    "---"
   ]
  },
  {
   "cell_type": "code",
   "execution_count": 18,
   "metadata": {},
   "outputs": [
    {
     "name": "stdout",
     "output_type": "stream",
     "text": [
      "Akurasi data Testing = 83.42%\n"
     ]
    }
   ],
   "source": [
    "print(\"Akurasi data Testing = %.2f%%\" % (acc_testing[1]*100))"
   ]
  },
  {
   "cell_type": "markdown",
   "metadata": {},
   "source": [
    "# Plotting Model Akurasi dan Loss\n",
    "---"
   ]
  },
  {
   "cell_type": "code",
   "execution_count": 21,
   "metadata": {
    "scrolled": false
   },
   "outputs": [
    {
     "data": {
      "image/png": "[encoded data removed]",
      "text/plain": [
       "<Figure size 432x288 with 1 Axes>"
      ]
     },
     "metadata": {
      "needs_background": "light"
     },
     "output_type": "display_data"
    },
    {
     "data": {
      "image/png": "[encoded data removed]",
      "text/plain": [
       "<Figure size 432x288 with 1 Axes>"
      ]
     },
     "metadata": {
      "needs_background": "light"
     },
     "output_type": "display_data"
    }
   ],
   "source": [
    "# Plot training & validation accuracy values\n",
    "plt.plot(acc_training.history['acc'])\n",
    "plt.plot(acc_training.history['val_acc'])\n",
    "plt.title('Model accuracy')\n",
    "plt.ylabel('Accuracy')\n",
    "plt.xlabel('Epoch')\n",
    "plt.legend(['Train', 'Test'], loc='lower right')\n",
    "plt.show()\n",
    "\n",
    "# Plot training & validation loss values\n",
    "plt.plot(acc_training.history['loss'])\n",
    "plt.plot(acc_training.history['val_loss'])\n",
    "plt.title('Model loss')\n",
    "plt.ylabel('Loss')\n",
    "plt.xlabel('Epoch')\n",
    "plt.legend(['Train', 'Test'], loc='upper right')\n",
    "plt.show()"
   ]
  },
  {
   "cell_type": "markdown",
   "metadata": {},
   "source": [
    "# Evaluasi Model\n",
    "------\n",
    "\n",
    "**Confusion Matrix** adalah teknik untuk meringkas perfomance dari algoritma klasifikasinya.\n",
    "\n",
    "Klasifikasi akurasi bisa saja *misleading* jika memiliki jumlah pengamatan yang tidak sama di setiap kelas atau jika  memiliki lebih dari dua kelas dalam dataset Anda.\n",
    "\n",
    "Menghitung **Confusion Matrix** dapat memberi ide yang lebih baik tentang apakah model klasifikasinya benar dan jenis kesalahan apa yang dibuatnya.\n",
    "\n",
    "- True Positive (TP), yaitu jumlah dari kelas 1 yang benar dan diklasifikasikan sebagai kelas 1.\n",
    "- True Negative (TN), yaitu jumlah dari kelas 0 yang benar diklasifikasikan sebagai kelas 0.\n",
    "- False Positive (FP), yaitu jumlah dari kelas 0 yang salah diklasifikasikan sebagai kelas 1.\n",
    "- False Negative (FN), yaitu jumlah dari kelas 1 yang salah diklasifikasikan sebagai kelas 0.\n",
    "\n",
    "\n",
    "1. Akurasi adalah rasio prediksi Benar (positif dan negatif) dengan keseluruhan data.\n",
    "\n",
    "\\begin{split}Akurasi = \\frac{TP+TN} {TP+FP+FN+TN}\\end{split}\n",
    "\n",
    "2. Presisi adalah rasio prediksi benar positif dibandingkan dengan keseluruhan hasil yang diprediksi positif.\n",
    "\\begin{split}Presisi = \\frac{TP} {TP+FP}\\end{split}\n",
    "\n",
    "3. Recall (Sensitifitas) adalah rasio prediksi benar positif dibandingkan dengan keseluruhan data yang benar positif.\n",
    "\\begin{split}Recall = \\frac{TP} {TP+FN}\\end{split}\n",
    "\n",
    "4. Specificity adalah kebenaran memprediksi negatif dibandingkan dengan keseluruhan data negatif.\n",
    "\\begin{split}Specificity = \\frac{TN} {TN+FP}\\end{split}\n",
    "5. F1 Score adalah perbandingan rata-rata presisi dan recall yang dibobotkan.\n",
    "\\begin{split}F1 Score = \\frac {2 \\times Recall \\times Presisi} {Recall + Presisi}\\end{split}"
   ]
  },
  {
   "cell_type": "code",
   "execution_count": 22,
   "metadata": {},
   "outputs": [],
   "source": [
    "# Prediksi\n",
    "y_pred_test = model.predict(X_test)\n",
    "y_pred_test = (y_pred_test > 0.5)\n",
    "\n",
    "y_pred_train = model.predict(X_train)\n",
    "y_pred_train= (y_pred_train > 0.5)\n",
    "\n",
    "from sklearn.metrics import confusion_matrix\n",
    "\n",
    "cm_test = confusion_matrix(y_test, y_pred_test)\n",
    "cm_train = confusion_matrix(y_train, y_pred_train)"
   ]
  },
  {
   "cell_type": "code",
   "execution_count": 23,
   "metadata": {
    "scrolled": true
   },
   "outputs": [
    {
     "data": {
      "text/plain": [
       "array([[86, 15],\n",
       "       [16, 76]], dtype=int64)"
      ]
     },
     "execution_count": 23,
     "metadata": {},
     "output_type": "execute_result"
    }
   ],
   "source": [
    "cm_test"
   ]
  },
  {
   "cell_type": "code",
   "execution_count": 24,
   "metadata": {},
   "outputs": [
    {
     "name": "stdout",
     "output_type": "stream",
     "text": [
      "Accuracy test 0.8393782383419689\n",
      "Specificity test 0.8260869565217391\n",
      "Sensitivity test 0.8514851485148515\n",
      "Precision test 0.8431372549019608\n",
      "F1 Score test 0.8472906403940887\n"
     ]
    }
   ],
   "source": [
    "tp = cm_test[0][0]\n",
    "fn = cm_test[0][1]\n",
    "fp = cm_test[1][0]\n",
    "tn = cm_test[1][1]\n",
    "\n",
    "accuracy = (tp+tn)/(tp+tn+fp+fn)\n",
    "specificity = tn/(tn+fp)\n",
    "sensitivity = tp/(tp+fn)\n",
    "precision = tp/(tp+fp)\n",
    "f1_score = (2*sensitivity*precision)/(sensitivity+precision)\n",
    "\n",
    "print(\"Accuracy test {0}\".format(accuracy))\n",
    "print(\"Specificity test {0}\".format(specificity))\n",
    "print(\"Sensitivity test {0}\".format(sensitivity))\n",
    "print(\"Precision test {0}\".format(precision))\n",
    "print(\"F1 Score test {0}\".format(f1_score))"
   ]
  },
  {
   "cell_type": "code",
   "execution_count": 25,
   "metadata": {},
   "outputs": [
    {
     "data": {
      "text/plain": [
       "array([[335,  80],\n",
       "       [ 61, 292]], dtype=int64)"
      ]
     },
     "execution_count": 25,
     "metadata": {},
     "output_type": "execute_result"
    }
   ],
   "source": [
    "cm_train"
   ]
  },
  {
   "cell_type": "code",
   "execution_count": 26,
   "metadata": {},
   "outputs": [
    {
     "name": "stdout",
     "output_type": "stream",
     "text": [
      "Accuracy training 0.81640625\n",
      "Specificity training 0.8271954674220963\n",
      "Sensitivity training 0.8072289156626506\n",
      "Precision training 0.8459595959595959\n",
      "F1 Score training 0.8261405672009865\n"
     ]
    }
   ],
   "source": [
    "tp = cm_train[0][0]\n",
    "fn = cm_train[0][1]\n",
    "fp = cm_train[1][0]\n",
    "tn = cm_train[1][1]\n",
    "\n",
    "accuracy = (tp+tn)/(tp+tn+fp+fn)\n",
    "specificity = tn/(tn+fp)\n",
    "sensitivity = tp/(tp+fn)\n",
    "precision = tp/(tp+fp)\n",
    "f1_score = (2*sensitivity*precision)/(sensitivity+precision)\n",
    "\n",
    "print(\"Accuracy training {0}\".format(accuracy))\n",
    "print(\"Specificity training {0}\".format(specificity))\n",
    "print(\"Sensitivity training {0}\".format(sensitivity))\n",
    "print(\"Precision training {0}\".format(precision))\n",
    "print(\"F1 Score training {0}\".format(f1_score))"
   ]
  },
  {
   "cell_type": "code",
   "execution_count": null,
   "metadata": {},
   "outputs": [],
   "source": []
  }
 ],
 "metadata": {
  "kernelspec": {
   "display_name": "Python 3",
   "language": "python",
   "name": "python3"
  },
  "language_info": {
   "codemirror_mode": {
    "name": "ipython",
    "version": 3
   },
   "file_extension": ".py",
   "mimetype": "text/x-python",
   "name": "python",
   "nbconvert_exporter": "python",
   "pygments_lexer": "ipython3",
   "version": "3.7.4"
  }
 },
 "nbformat": 4,
 "nbformat_minor": 2
}
