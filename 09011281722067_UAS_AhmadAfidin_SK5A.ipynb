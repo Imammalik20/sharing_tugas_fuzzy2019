{
 "cells": [
  {
   "cell_type": "markdown",
   "metadata": {},
   "source": [
    "<div class=\"\">\n",
    "<br><br>\n",
    "<center><br><font size=\"12\"><font face=\"calibri\"><strong>Kecerdasan Buatan\n",
    "<center><br><font size=\"5\"><font face=\"calibri\"><strong>Deteksi serangan DoS/DDoS menggunakan artificial neural network\n",
    "<br>\n",
    "<br><strong>Ahmad Afidin\n",
    "<br><strong>09011281722067\n"
   ]
  },
  {
   "cell_type": "markdown",
   "metadata": {},
   "source": [
    "Refrensi : \n",
    "    \n",
    "    Dataset : https://archive.ics.uci.edu/ml/datasets/KDD+Cup+1999+Data\n",
    "    Papper  : \"Using Artificial Neural Network in Intrusion Detection SystemstoComputer Networks\""
   ]
  },
  {
   "cell_type": "markdown",
   "metadata": {},
   "source": [
    "# Import Modul"
   ]
  },
  {
   "cell_type": "markdown",
   "metadata": {},
   "source": [
    "Modul Yang diperlukan adalah\n",
    "\n",
    "1. `numpy dan Pandas `\n",
    "\n",
    "Kedua modul ini sudah standar yang wajib diimport untuk menghandle data.\n",
    "\n",
    "2. `Matplotlib`\n",
    "\n",
    "Library ini digunakan untuk men-plot hasil akurasi dan loss nanti.\n",
    "3. `sklearn`\n",
    "\n",
    "Adapun pada library ini , fungsi yang dipakai adalah\n",
    "\n",
    "    a. train_test_split  => Untuk men-split data menjadi training dan testing\n",
    "    b. confusion_matrix  => mengukur performa model learning dalam bentuk tabel\n",
    "    c. classification_report => mendapatkan hasil pengukuran CM\n",
    "\n",
    "4. `keras`\n",
    "\n",
    "Pada Keras , Fungsi yang dipakai adalah :\n",
    "    \n",
    "    - Optimizers Adam\n",
    "    - Model Sequential\n",
    "    - Layers Dense\n",
    "    - Aktivasi Relu"
   ]
  },
  {
   "cell_type": "code",
   "execution_count": 1,
   "metadata": {},
   "outputs": [
    {
     "name": "stderr",
     "output_type": "stream",
     "text": [
      "Using TensorFlow backend.\n"
     ]
    }
   ],
   "source": [
    "from keras.models import Sequential\n",
    "from keras.layers import Dense\n",
    "from sklearn.preprocessing import MinMaxScaler\n",
    "from sklearn.preprocessing import LabelEncoder\n",
    "scaler = MinMaxScaler\n",
    "import numpy as np\n",
    "import pandas as pd\n",
    "import seaborn as sns\n",
    "import matplotlib.pyplot as plt\n",
    "from keras.optimizers import Adam\n",
    "from sklearn.metrics import confusion_matrix\n",
    "from sklearn.model_selection import train_test_split"
   ]
  },
  {
   "cell_type": "markdown",
   "metadata": {},
   "source": [
    "# Import Data Set\n",
    "\n",
    "Pada research ini menggunakan dataset kddcup99 yang sudah di preprosesing sebelumnya\n",
    "dan pada dataset yang di pakai, yang digunakan hanyalah sample dari dataset yang sebenarnya\n",
    "\n",
    "    kddcup_99_sample4.csv \n",
    "    \n",
    "sumber dataset : https://archive.ics.uci.edu/ml/datasets/KDD+Cup+1999+Data"
   ]
  },
  {
   "cell_type": "code",
   "execution_count": 2,
   "metadata": {},
   "outputs": [],
   "source": [
    "data = pd.read_csv (\"kddcup_99_sample4.csv\")\n",
    "dataset = data.drop(columns=[\"Unnamed: 0\"])"
   ]
  },
  {
   "cell_type": "markdown",
   "metadata": {},
   "source": [
    "### Mengecek data kosong"
   ]
  },
  {
   "cell_type": "code",
   "execution_count": 3,
   "metadata": {},
   "outputs": [
    {
     "data": {
      "text/plain": [
       "0"
      ]
     },
     "execution_count": 3,
     "metadata": {},
     "output_type": "execute_result"
    }
   ],
   "source": [
    "dataset.isnull().any().sum()"
   ]
  },
  {
   "cell_type": "markdown",
   "metadata": {},
   "source": [
    "### Dataset yang digunakan dalam penelitian\n",
    "Dataset yang sebenarnya pada link di atas memiliki jumlah data sebesar 4898430 baris data\n",
    "\n",
    "dan pada penelitian ini hanya menggunakan sample dari dataset sebenarnya yaitu sebesar 215744 baris data\n",
    "\n",
    "\n"
   ]
  },
  {
   "cell_type": "markdown",
   "metadata": {},
   "source": [
    "Dibawah ini adalah tampilan dataset yang digunakan dalam penelitian ini"
   ]
  },
  {
   "cell_type": "code",
   "execution_count": 4,
   "metadata": {
    "scrolled": true
   },
   "outputs": [
    {
     "data": {
      "text/html": [
       "<div>\n",
       "<style scoped>\n",
       "    .dataframe tbody tr th:only-of-type {\n",
       "        vertical-align: middle;\n",
       "    }\n",
       "\n",
       "    .dataframe tbody tr th {\n",
       "        vertical-align: top;\n",
       "    }\n",
       "\n",
       "    .dataframe thead th {\n",
       "        text-align: right;\n",
       "    }\n",
       "</style>\n",
       "<table border=\"1\" class=\"dataframe\">\n",
       "  <thead>\n",
       "    <tr style=\"text-align: right;\">\n",
       "      <th></th>\n",
       "      <th>duration</th>\n",
       "      <th>protocol_type</th>\n",
       "      <th>service</th>\n",
       "      <th>flag</th>\n",
       "      <th>src_bytes</th>\n",
       "      <th>dst_bytes</th>\n",
       "      <th>land</th>\n",
       "      <th>wrong_fragment</th>\n",
       "      <th>urgent</th>\n",
       "      <th>hot</th>\n",
       "      <th>...</th>\n",
       "      <th>dst_host_same_srv_rate</th>\n",
       "      <th>dst_host_diff_srv_rate</th>\n",
       "      <th>dst_host_same_src_port_rate</th>\n",
       "      <th>dst_host_srv_diff_host_rate</th>\n",
       "      <th>dst_host_serror_rate</th>\n",
       "      <th>dst_host_srv_serror_rate</th>\n",
       "      <th>dst_host_rerror_rate</th>\n",
       "      <th>dst_host_srv_rerror_rate</th>\n",
       "      <th>label</th>\n",
       "      <th>attack_cat</th>\n",
       "    </tr>\n",
       "  </thead>\n",
       "  <tbody>\n",
       "    <tr>\n",
       "      <th>0</th>\n",
       "      <td>0</td>\n",
       "      <td>tcp</td>\n",
       "      <td>private</td>\n",
       "      <td>S0</td>\n",
       "      <td>0</td>\n",
       "      <td>0</td>\n",
       "      <td>0</td>\n",
       "      <td>0</td>\n",
       "      <td>0</td>\n",
       "      <td>0</td>\n",
       "      <td>...</td>\n",
       "      <td>0.05</td>\n",
       "      <td>0.07</td>\n",
       "      <td>0.00</td>\n",
       "      <td>0.00</td>\n",
       "      <td>1.0</td>\n",
       "      <td>1.0</td>\n",
       "      <td>0.0</td>\n",
       "      <td>0.0</td>\n",
       "      <td>neptune</td>\n",
       "      <td>1</td>\n",
       "    </tr>\n",
       "    <tr>\n",
       "      <th>1</th>\n",
       "      <td>0</td>\n",
       "      <td>tcp</td>\n",
       "      <td>private</td>\n",
       "      <td>S0</td>\n",
       "      <td>0</td>\n",
       "      <td>0</td>\n",
       "      <td>0</td>\n",
       "      <td>0</td>\n",
       "      <td>0</td>\n",
       "      <td>0</td>\n",
       "      <td>...</td>\n",
       "      <td>0.07</td>\n",
       "      <td>0.06</td>\n",
       "      <td>0.00</td>\n",
       "      <td>0.00</td>\n",
       "      <td>1.0</td>\n",
       "      <td>1.0</td>\n",
       "      <td>0.0</td>\n",
       "      <td>0.0</td>\n",
       "      <td>neptune</td>\n",
       "      <td>1</td>\n",
       "    </tr>\n",
       "    <tr>\n",
       "      <th>2</th>\n",
       "      <td>0</td>\n",
       "      <td>tcp</td>\n",
       "      <td>ftp_data</td>\n",
       "      <td>SF</td>\n",
       "      <td>29</td>\n",
       "      <td>0</td>\n",
       "      <td>0</td>\n",
       "      <td>0</td>\n",
       "      <td>0</td>\n",
       "      <td>0</td>\n",
       "      <td>...</td>\n",
       "      <td>0.43</td>\n",
       "      <td>0.08</td>\n",
       "      <td>0.43</td>\n",
       "      <td>0.06</td>\n",
       "      <td>0.0</td>\n",
       "      <td>0.0</td>\n",
       "      <td>0.0</td>\n",
       "      <td>0.0</td>\n",
       "      <td>normal</td>\n",
       "      <td>0</td>\n",
       "    </tr>\n",
       "    <tr>\n",
       "      <th>3</th>\n",
       "      <td>0</td>\n",
       "      <td>udp</td>\n",
       "      <td>private</td>\n",
       "      <td>SF</td>\n",
       "      <td>105</td>\n",
       "      <td>0</td>\n",
       "      <td>0</td>\n",
       "      <td>0</td>\n",
       "      <td>0</td>\n",
       "      <td>0</td>\n",
       "      <td>...</td>\n",
       "      <td>0.94</td>\n",
       "      <td>0.01</td>\n",
       "      <td>0.00</td>\n",
       "      <td>0.00</td>\n",
       "      <td>0.0</td>\n",
       "      <td>0.0</td>\n",
       "      <td>0.0</td>\n",
       "      <td>0.0</td>\n",
       "      <td>normal</td>\n",
       "      <td>0</td>\n",
       "    </tr>\n",
       "    <tr>\n",
       "      <th>4</th>\n",
       "      <td>0</td>\n",
       "      <td>tcp</td>\n",
       "      <td>private</td>\n",
       "      <td>S0</td>\n",
       "      <td>0</td>\n",
       "      <td>0</td>\n",
       "      <td>0</td>\n",
       "      <td>0</td>\n",
       "      <td>0</td>\n",
       "      <td>0</td>\n",
       "      <td>...</td>\n",
       "      <td>0.06</td>\n",
       "      <td>0.06</td>\n",
       "      <td>0.00</td>\n",
       "      <td>0.00</td>\n",
       "      <td>1.0</td>\n",
       "      <td>1.0</td>\n",
       "      <td>0.0</td>\n",
       "      <td>0.0</td>\n",
       "      <td>neptune</td>\n",
       "      <td>1</td>\n",
       "    </tr>\n",
       "  </tbody>\n",
       "</table>\n",
       "<p>5 rows × 43 columns</p>\n",
       "</div>"
      ],
      "text/plain": [
       "   duration protocol_type   service flag  src_bytes  dst_bytes  land  \\\n",
       "0         0           tcp   private   S0          0          0     0   \n",
       "1         0           tcp   private   S0          0          0     0   \n",
       "2         0           tcp  ftp_data   SF         29          0     0   \n",
       "3         0           udp   private   SF        105          0     0   \n",
       "4         0           tcp   private   S0          0          0     0   \n",
       "\n",
       "   wrong_fragment  urgent  hot  ...  dst_host_same_srv_rate  \\\n",
       "0               0       0    0  ...                    0.05   \n",
       "1               0       0    0  ...                    0.07   \n",
       "2               0       0    0  ...                    0.43   \n",
       "3               0       0    0  ...                    0.94   \n",
       "4               0       0    0  ...                    0.06   \n",
       "\n",
       "   dst_host_diff_srv_rate  dst_host_same_src_port_rate  \\\n",
       "0                    0.07                         0.00   \n",
       "1                    0.06                         0.00   \n",
       "2                    0.08                         0.43   \n",
       "3                    0.01                         0.00   \n",
       "4                    0.06                         0.00   \n",
       "\n",
       "   dst_host_srv_diff_host_rate  dst_host_serror_rate  \\\n",
       "0                         0.00                   1.0   \n",
       "1                         0.00                   1.0   \n",
       "2                         0.06                   0.0   \n",
       "3                         0.00                   0.0   \n",
       "4                         0.00                   1.0   \n",
       "\n",
       "   dst_host_srv_serror_rate  dst_host_rerror_rate  dst_host_srv_rerror_rate  \\\n",
       "0                       1.0                   0.0                       0.0   \n",
       "1                       1.0                   0.0                       0.0   \n",
       "2                       0.0                   0.0                       0.0   \n",
       "3                       0.0                   0.0                       0.0   \n",
       "4                       1.0                   0.0                       0.0   \n",
       "\n",
       "     label  attack_cat  \n",
       "0  neptune           1  \n",
       "1  neptune           1  \n",
       "2   normal           0  \n",
       "3   normal           0  \n",
       "4  neptune           1  \n",
       "\n",
       "[5 rows x 43 columns]"
      ]
     },
     "execution_count": 4,
     "metadata": {},
     "output_type": "execute_result"
    }
   ],
   "source": [
    "dataset.head()"
   ]
  },
  {
   "cell_type": "markdown",
   "metadata": {},
   "source": [
    "## Informasi dataset"
   ]
  },
  {
   "cell_type": "markdown",
   "metadata": {},
   "source": [
    "Terdapat infomasi atau isi dari dataset yang digunakan yaitu dataset berjumlah 215744 buah rangenya dari 0 sampai 215743, fitur dari dataset tersebut berjumlah 42 fitur dan memilki sati input dengan 2 kelas yaitu (0) normal dan (1) DDoS.  serta besar memory yang digunakan adalah 70.8 mb"
   ]
  },
  {
   "cell_type": "code",
   "execution_count": 5,
   "metadata": {
    "scrolled": true
   },
   "outputs": [
    {
     "name": "stdout",
     "output_type": "stream",
     "text": [
      "<class 'pandas.core.frame.DataFrame'>\n",
      "RangeIndex: 215744 entries, 0 to 215743\n",
      "Data columns (total 43 columns):\n",
      "duration                       215744 non-null int64\n",
      "protocol_type                  215744 non-null object\n",
      "service                        215744 non-null object\n",
      "flag                           215744 non-null object\n",
      "src_bytes                      215744 non-null int64\n",
      "dst_bytes                      215744 non-null int64\n",
      "land                           215744 non-null int64\n",
      "wrong_fragment                 215744 non-null int64\n",
      "urgent                         215744 non-null int64\n",
      "hot                            215744 non-null int64\n",
      "num_failed_logins              215744 non-null int64\n",
      "logged_in                      215744 non-null int64\n",
      "lnum_compromised               215744 non-null int64\n",
      "lroot_shell                    215744 non-null int64\n",
      "lsu_attempted                  215744 non-null int64\n",
      "lnum_root                      215744 non-null int64\n",
      "lnum_file_creations            215744 non-null int64\n",
      "lnum_shells                    215744 non-null int64\n",
      "lnum_access_files              215744 non-null int64\n",
      "lnum_outbound_cmds             215744 non-null int64\n",
      "is_host_login                  215744 non-null int64\n",
      "is_guest_login                 215744 non-null int64\n",
      "count                          215744 non-null int64\n",
      "srv_count                      215744 non-null int64\n",
      "serror_rate                    215744 non-null float64\n",
      "srv_serror_rate                215744 non-null float64\n",
      "rerror_rate                    215744 non-null float64\n",
      "srv_rerror_rate                215744 non-null float64\n",
      "same_srv_rate                  215744 non-null float64\n",
      "diff_srv_rate                  215744 non-null float64\n",
      "srv_diff_host_rate             215744 non-null float64\n",
      "dst_host_count                 215744 non-null int64\n",
      "dst_host_srv_count             215744 non-null int64\n",
      "dst_host_same_srv_rate         215744 non-null float64\n",
      "dst_host_diff_srv_rate         215744 non-null float64\n",
      "dst_host_same_src_port_rate    215744 non-null float64\n",
      "dst_host_srv_diff_host_rate    215744 non-null float64\n",
      "dst_host_serror_rate           215744 non-null float64\n",
      "dst_host_srv_serror_rate       215744 non-null float64\n",
      "dst_host_rerror_rate           215744 non-null float64\n",
      "dst_host_srv_rerror_rate       215744 non-null float64\n",
      "label                          215744 non-null object\n",
      "attack_cat                     215744 non-null int64\n",
      "dtypes: float64(15), int64(24), object(4)\n",
      "memory usage: 70.8+ MB\n"
     ]
    }
   ],
   "source": [
    "dataset.info()"
   ]
  },
  {
   "cell_type": "markdown",
   "metadata": {},
   "source": [
    "## Persebaran Data dari kelas output"
   ]
  },
  {
   "cell_type": "code",
   "execution_count": 6,
   "metadata": {
    "scrolled": false
   },
   "outputs": [
    {
     "data": {
      "text/plain": [
       "1    118467\n",
       "0     97277\n",
       "Name: attack_cat, dtype: int64"
      ]
     },
     "execution_count": 6,
     "metadata": {},
     "output_type": "execute_result"
    },
    {
     "data": {
      "image/png": "[encoded data removed]",
      "text/plain": [
       "<Figure size 432x288 with 1 Axes>"
      ]
     },
     "metadata": {
      "needs_background": "light"
     },
     "output_type": "display_data"
    }
   ],
   "source": [
    "normal = dataset[dataset.attack_cat==0]\n",
    "Dos = dataset[dataset.attack_cat==1]\n",
    "labels = ['normal','Dos']\n",
    "classes = pd.value_counts(data['attack_cat'], sort = True)\n",
    "classes.plot(kind = 'bar', rot=0)\n",
    "plt.title(\"Transaction Label distribution\")\n",
    "plt.xticks(range(2), labels)\n",
    "plt.xlabel(\"attack_cat\")\n",
    "plt.ylabel(\"Frequency\")\n",
    "dataset.attack_cat.value_counts()"
   ]
  },
  {
   "cell_type": "markdown",
   "metadata": {},
   "source": [
    "# Preprosesing data"
   ]
  },
  {
   "cell_type": "markdown",
   "metadata": {},
   "source": [
    "### Labelencoder\n",
    "mengubah data ordinal pada dataset menjadi data numerical"
   ]
  },
  {
   "cell_type": "code",
   "execution_count": 7,
   "metadata": {},
   "outputs": [],
   "source": [
    "enc = LabelEncoder()\n",
    "dataset = dataset.apply(enc.fit_transform)"
   ]
  },
  {
   "cell_type": "code",
   "execution_count": 8,
   "metadata": {},
   "outputs": [
    {
     "data": {
      "text/html": [
       "<div>\n",
       "<style scoped>\n",
       "    .dataframe tbody tr th:only-of-type {\n",
       "        vertical-align: middle;\n",
       "    }\n",
       "\n",
       "    .dataframe tbody tr th {\n",
       "        vertical-align: top;\n",
       "    }\n",
       "\n",
       "    .dataframe thead th {\n",
       "        text-align: right;\n",
       "    }\n",
       "</style>\n",
       "<table border=\"1\" class=\"dataframe\">\n",
       "  <thead>\n",
       "    <tr style=\"text-align: right;\">\n",
       "      <th></th>\n",
       "      <th>duration</th>\n",
       "      <th>protocol_type</th>\n",
       "      <th>service</th>\n",
       "      <th>flag</th>\n",
       "      <th>src_bytes</th>\n",
       "      <th>dst_bytes</th>\n",
       "      <th>land</th>\n",
       "      <th>wrong_fragment</th>\n",
       "      <th>urgent</th>\n",
       "      <th>hot</th>\n",
       "      <th>...</th>\n",
       "      <th>dst_host_same_srv_rate</th>\n",
       "      <th>dst_host_diff_srv_rate</th>\n",
       "      <th>dst_host_same_src_port_rate</th>\n",
       "      <th>dst_host_srv_diff_host_rate</th>\n",
       "      <th>dst_host_serror_rate</th>\n",
       "      <th>dst_host_srv_serror_rate</th>\n",
       "      <th>dst_host_rerror_rate</th>\n",
       "      <th>dst_host_srv_rerror_rate</th>\n",
       "      <th>label</th>\n",
       "      <th>attack_cat</th>\n",
       "    </tr>\n",
       "  </thead>\n",
       "  <tbody>\n",
       "    <tr>\n",
       "      <th>0</th>\n",
       "      <td>0</td>\n",
       "      <td>1</td>\n",
       "      <td>44</td>\n",
       "      <td>4</td>\n",
       "      <td>0</td>\n",
       "      <td>0</td>\n",
       "      <td>0</td>\n",
       "      <td>0</td>\n",
       "      <td>0</td>\n",
       "      <td>0</td>\n",
       "      <td>...</td>\n",
       "      <td>5</td>\n",
       "      <td>7</td>\n",
       "      <td>0</td>\n",
       "      <td>0</td>\n",
       "      <td>96</td>\n",
       "      <td>64</td>\n",
       "      <td>0</td>\n",
       "      <td>0</td>\n",
       "      <td>2</td>\n",
       "      <td>1</td>\n",
       "    </tr>\n",
       "    <tr>\n",
       "      <th>1</th>\n",
       "      <td>0</td>\n",
       "      <td>1</td>\n",
       "      <td>44</td>\n",
       "      <td>4</td>\n",
       "      <td>0</td>\n",
       "      <td>0</td>\n",
       "      <td>0</td>\n",
       "      <td>0</td>\n",
       "      <td>0</td>\n",
       "      <td>0</td>\n",
       "      <td>...</td>\n",
       "      <td>7</td>\n",
       "      <td>6</td>\n",
       "      <td>0</td>\n",
       "      <td>0</td>\n",
       "      <td>96</td>\n",
       "      <td>64</td>\n",
       "      <td>0</td>\n",
       "      <td>0</td>\n",
       "      <td>2</td>\n",
       "      <td>1</td>\n",
       "    </tr>\n",
       "    <tr>\n",
       "      <th>2</th>\n",
       "      <td>0</td>\n",
       "      <td>1</td>\n",
       "      <td>19</td>\n",
       "      <td>8</td>\n",
       "      <td>23</td>\n",
       "      <td>0</td>\n",
       "      <td>0</td>\n",
       "      <td>0</td>\n",
       "      <td>0</td>\n",
       "      <td>0</td>\n",
       "      <td>...</td>\n",
       "      <td>43</td>\n",
       "      <td>8</td>\n",
       "      <td>43</td>\n",
       "      <td>6</td>\n",
       "      <td>0</td>\n",
       "      <td>0</td>\n",
       "      <td>0</td>\n",
       "      <td>0</td>\n",
       "      <td>3</td>\n",
       "      <td>0</td>\n",
       "    </tr>\n",
       "    <tr>\n",
       "      <th>3</th>\n",
       "      <td>0</td>\n",
       "      <td>2</td>\n",
       "      <td>44</td>\n",
       "      <td>8</td>\n",
       "      <td>90</td>\n",
       "      <td>0</td>\n",
       "      <td>0</td>\n",
       "      <td>0</td>\n",
       "      <td>0</td>\n",
       "      <td>0</td>\n",
       "      <td>...</td>\n",
       "      <td>94</td>\n",
       "      <td>1</td>\n",
       "      <td>0</td>\n",
       "      <td>0</td>\n",
       "      <td>0</td>\n",
       "      <td>0</td>\n",
       "      <td>0</td>\n",
       "      <td>0</td>\n",
       "      <td>3</td>\n",
       "      <td>0</td>\n",
       "    </tr>\n",
       "    <tr>\n",
       "      <th>4</th>\n",
       "      <td>0</td>\n",
       "      <td>1</td>\n",
       "      <td>44</td>\n",
       "      <td>4</td>\n",
       "      <td>0</td>\n",
       "      <td>0</td>\n",
       "      <td>0</td>\n",
       "      <td>0</td>\n",
       "      <td>0</td>\n",
       "      <td>0</td>\n",
       "      <td>...</td>\n",
       "      <td>6</td>\n",
       "      <td>6</td>\n",
       "      <td>0</td>\n",
       "      <td>0</td>\n",
       "      <td>96</td>\n",
       "      <td>64</td>\n",
       "      <td>0</td>\n",
       "      <td>0</td>\n",
       "      <td>2</td>\n",
       "      <td>1</td>\n",
       "    </tr>\n",
       "  </tbody>\n",
       "</table>\n",
       "<p>5 rows × 43 columns</p>\n",
       "</div>"
      ],
      "text/plain": [
       "   duration  protocol_type  service  flag  src_bytes  dst_bytes  land  \\\n",
       "0         0              1       44     4          0          0     0   \n",
       "1         0              1       44     4          0          0     0   \n",
       "2         0              1       19     8         23          0     0   \n",
       "3         0              2       44     8         90          0     0   \n",
       "4         0              1       44     4          0          0     0   \n",
       "\n",
       "   wrong_fragment  urgent  hot  ...  dst_host_same_srv_rate  \\\n",
       "0               0       0    0  ...                       5   \n",
       "1               0       0    0  ...                       7   \n",
       "2               0       0    0  ...                      43   \n",
       "3               0       0    0  ...                      94   \n",
       "4               0       0    0  ...                       6   \n",
       "\n",
       "   dst_host_diff_srv_rate  dst_host_same_src_port_rate  \\\n",
       "0                       7                            0   \n",
       "1                       6                            0   \n",
       "2                       8                           43   \n",
       "3                       1                            0   \n",
       "4                       6                            0   \n",
       "\n",
       "   dst_host_srv_diff_host_rate  dst_host_serror_rate  \\\n",
       "0                            0                    96   \n",
       "1                            0                    96   \n",
       "2                            6                     0   \n",
       "3                            0                     0   \n",
       "4                            0                    96   \n",
       "\n",
       "   dst_host_srv_serror_rate  dst_host_rerror_rate  dst_host_srv_rerror_rate  \\\n",
       "0                        64                     0                         0   \n",
       "1                        64                     0                         0   \n",
       "2                         0                     0                         0   \n",
       "3                         0                     0                         0   \n",
       "4                        64                     0                         0   \n",
       "\n",
       "   label  attack_cat  \n",
       "0      2           1  \n",
       "1      2           1  \n",
       "2      3           0  \n",
       "3      3           0  \n",
       "4      2           1  \n",
       "\n",
       "[5 rows x 43 columns]"
      ]
     },
     "execution_count": 8,
     "metadata": {},
     "output_type": "execute_result"
    }
   ],
   "source": [
    "dataset.head()"
   ]
  },
  {
   "cell_type": "markdown",
   "metadata": {},
   "source": [
    "### Pemisahan antara Fitur dan Label pada dataset\n",
    "\n",
    "    Fitur dan Label dipisah supaya mesin bisa mempelajari fitur dari label yang diberikan.\n",
    "    --Fitur\n",
    "    X = 42 fitur\n",
    "    \n",
    "    --Label\n",
    "    Y = 1 kolom isinya 2 kelas ( Normal(0) atau DoS(1))"
   ]
  },
  {
   "cell_type": "code",
   "execution_count": 9,
   "metadata": {
    "scrolled": true
   },
   "outputs": [
    {
     "name": "stderr",
     "output_type": "stream",
     "text": [
      "C:\\Users\\AFIDIN\\Anaconda3\\lib\\site-packages\\ipykernel_launcher.py:1: DeprecationWarning: \n",
      ".ix is deprecated. Please use\n",
      ".loc for label based indexing or\n",
      ".iloc for positional indexing\n",
      "\n",
      "See the documentation here:\n",
      "http://pandas.pydata.org/pandas-docs/stable/indexing.html#ix-indexer-is-deprecated\n",
      "  \"\"\"Entry point for launching an IPython kernel.\n",
      "C:\\Users\\AFIDIN\\Anaconda3\\lib\\site-packages\\ipykernel_launcher.py:2: DeprecationWarning: \n",
      ".ix is deprecated. Please use\n",
      ".loc for label based indexing or\n",
      ".iloc for positional indexing\n",
      "\n",
      "See the documentation here:\n",
      "http://pandas.pydata.org/pandas-docs/stable/indexing.html#ix-indexer-is-deprecated\n",
      "  \n"
     ]
    }
   ],
   "source": [
    "x= np.array(dataset.ix[:, 0:42])\n",
    "y = np.array(dataset.ix[:, 42])"
   ]
  },
  {
   "cell_type": "markdown",
   "metadata": {},
   "source": [
    "### MinMaxScaler\n",
    "mengubah setiap fitur pada dataset dengan penskalaan setiap fitur ke rentang yang diberikan"
   ]
  },
  {
   "cell_type": "code",
   "execution_count": 10,
   "metadata": {},
   "outputs": [
    {
     "data": {
      "text/plain": [
       "(215744, 42)"
      ]
     },
     "execution_count": 10,
     "metadata": {},
     "output_type": "execute_result"
    }
   ],
   "source": [
    "scaler= MinMaxScaler()\n",
    "feature_scaled=scaler.fit_transform(x)\n",
    "feature_scaled.shape"
   ]
  },
  {
   "cell_type": "markdown",
   "metadata": {},
   "source": [
    "## Splitt dataset\n",
    "\n",
    "    Data fitur dan label dibagi menjadi data train dan test dengan ratio 8 : 2\n",
    "    "
   ]
  },
  {
   "cell_type": "code",
   "execution_count": 11,
   "metadata": {},
   "outputs": [],
   "source": [
    "x_train, x_test, y_train, y_test = train_test_split(\n",
    "    x, y, test_size=0.2, random_state=2)"
   ]
  },
  {
   "cell_type": "markdown",
   "metadata": {},
   "source": [
    "# Model ANN\n",
    "\n",
    "Disini digunakan model `Sequential()`. Pada Model ini terdapat `Input layer` , `Hidden layer` dan `Output layer`. \n",
    "\n",
    "<strong>Penentuan Jumlah Layer ditentukan sebagai berikut </strong>:\n",
    "\n",
    "    a. Jumlah dari input layer itu sama dengan jumlah fitur yang diberikan kepada mesin.\n",
    "    b. Jumlah dari Output Layer sesuai dengan kolom yang diberikan kepada mesin.\n",
    "  \n",
    "  \n",
    "<strong>Jumlah layer yang ditentukan adalah </strong>:\n",
    "\n",
    "    1. Input layer          -> Layer pertama terbentuk dari 42 layer Neural sesuai fitur dengan menggunakan activation                                    relu.\n",
    "    2. Hidden Layer pertama -> 100 units Neural Network dengan menggunakan activation relu.\n",
    "    3. Output layer         -> 1 unit Neural Network dengan menggunakan activation sigmoid."
   ]
  },
  {
   "cell_type": "code",
   "execution_count": 12,
   "metadata": {},
   "outputs": [],
   "source": [
    "model = Sequential()\n",
    "model.add(Dense(units= 100, input_dim =42 , activation='relu'))\n",
    "model.add(Dense(units= 100, activation='relu'))\n",
    "model.add(Dense(units= 1, activation='sigmoid'))"
   ]
  },
  {
   "cell_type": "code",
   "execution_count": 13,
   "metadata": {
    "scrolled": true
   },
   "outputs": [
    {
     "name": "stdout",
     "output_type": "stream",
     "text": [
      "Model: \"sequential_1\"\n",
      "_________________________________________________________________\n",
      "Layer (type)                 Output Shape              Param #   \n",
      "=================================================================\n",
      "dense_1 (Dense)              (None, 100)               4300      \n",
      "_________________________________________________________________\n",
      "dense_2 (Dense)              (None, 100)               10100     \n",
      "_________________________________________________________________\n",
      "dense_3 (Dense)              (None, 1)                 101       \n",
      "=================================================================\n",
      "Total params: 14,501\n",
      "Trainable params: 14,501\n",
      "Non-trainable params: 0\n",
      "_________________________________________________________________\n"
     ]
    }
   ],
   "source": [
    "model.summary()"
   ]
  },
  {
   "cell_type": "markdown",
   "metadata": {},
   "source": [
    "# Compile Model\n",
    "\n",
    "Model Dicompile dengan Optimizer adam dengan fungsi loss Binary Crossentropy."
   ]
  },
  {
   "cell_type": "code",
   "execution_count": 14,
   "metadata": {},
   "outputs": [
    {
     "name": "stdout",
     "output_type": "stream",
     "text": [
      "WARNING:tensorflow:From C:\\Users\\AFIDIN\\Anaconda3\\lib\\site-packages\\tensorflow\\python\\ops\\nn_impl.py:180: add_dispatch_support.<locals>.wrapper (from tensorflow.python.ops.array_ops) is deprecated and will be removed in a future version.\n",
      "Instructions for updating:\n",
      "Use tf.where in 2.0, which has the same broadcast rule as np.where\n"
     ]
    }
   ],
   "source": [
    "model.compile(optimizer=Adam(lr=0.0001), loss='binary_crossentropy', metrics=['accuracy'])"
   ]
  },
  {
   "cell_type": "markdown",
   "metadata": {},
   "source": [
    "## Testing dan validasi model\n",
    "\n",
    "untuk training variabel x_train, y_train dan untuk validasi variabel x_test dan y_test\n",
    "\n",
    "Adapun parameter yang bisa di tuning yaitu :\n",
    "\n",
    "1. `batch_size` => 32\n",
    "2. `epochs`  => 50"
   ]
  },
  {
   "cell_type": "code",
   "execution_count": 15,
   "metadata": {},
   "outputs": [
    {
     "name": "stdout",
     "output_type": "stream",
     "text": [
      "WARNING:tensorflow:From C:\\Users\\AFIDIN\\Anaconda3\\lib\\site-packages\\keras\\backend\\tensorflow_backend.py:422: The name tf.global_variables is deprecated. Please use tf.compat.v1.global_variables instead.\n",
      "\n",
      "Train on 172595 samples, validate on 43149 samples\n",
      "Epoch 1/50\n",
      "172595/172595 [==============================] - 16s 91us/step - loss: 0.0593 - accuracy: 0.9952 - val_loss: 0.0106 - val_accuracy: 0.9988\n",
      "Epoch 2/50\n",
      "172595/172595 [==============================] - 15s 89us/step - loss: 0.0117 - accuracy: 0.9987 - val_loss: 0.0111 - val_accuracy: 0.9987\n",
      "Epoch 3/50\n",
      "172595/172595 [==============================] - 15s 89us/step - loss: 0.0145 - accuracy: 0.9988 - val_loss: 0.0022 - val_accuracy: 0.9994\n",
      "Epoch 4/50\n",
      "172595/172595 [==============================] - 15s 88us/step - loss: 0.0092 - accuracy: 0.9992 - val_loss: 0.0025 - val_accuracy: 0.9997\n",
      "Epoch 5/50\n",
      "172595/172595 [==============================] - 15s 87us/step - loss: 0.0080 - accuracy: 0.9993 - val_loss: 0.0076 - val_accuracy: 0.9993\n",
      "Epoch 6/50\n",
      "172595/172595 [==============================] - 16s 90us/step - loss: 0.0073 - accuracy: 0.9994 - val_loss: 0.0262 - val_accuracy: 0.9962\n",
      "Epoch 7/50\n",
      "172595/172595 [==============================] - 15s 88us/step - loss: 0.0067 - accuracy: 0.9994 - val_loss: 0.0232 - val_accuracy: 0.9986\n",
      "Epoch 8/50\n",
      "172595/172595 [==============================] - 15s 87us/step - loss: 0.0059 - accuracy: 0.9994 - val_loss: 0.0024 - val_accuracy: 0.9997\n",
      "Epoch 9/50\n",
      "172595/172595 [==============================] - 15s 89us/step - loss: 0.0052 - accuracy: 0.9996 - val_loss: 0.0018 - val_accuracy: 0.9998\n",
      "Epoch 10/50\n",
      "172595/172595 [==============================] - 15s 88us/step - loss: 0.0055 - accuracy: 0.9996 - val_loss: 0.0188 - val_accuracy: 0.9981\n",
      "Epoch 11/50\n",
      "172595/172595 [==============================] - 16s 90us/step - loss: 0.0053 - accuracy: 0.9996 - val_loss: 0.0016 - val_accuracy: 0.9998\n",
      "Epoch 12/50\n",
      "172595/172595 [==============================] - 15s 89us/step - loss: 0.0039 - accuracy: 0.9997 - val_loss: 6.9419e-04 - val_accuracy: 0.9999\n",
      "Epoch 13/50\n",
      "172595/172595 [==============================] - 15s 88us/step - loss: 0.0039 - accuracy: 0.9996 - val_loss: 7.9526e-04 - val_accuracy: 0.9999\n",
      "Epoch 14/50\n",
      "172595/172595 [==============================] - 15s 84us/step - loss: 0.0047 - accuracy: 0.9997 - val_loss: 0.0024 - val_accuracy: 0.9997\n",
      "Epoch 15/50\n",
      "172595/172595 [==============================] - 15s 89us/step - loss: 0.0025 - accuracy: 0.9997 - val_loss: 0.0028 - val_accuracy: 0.9996\n",
      "Epoch 16/50\n",
      "172595/172595 [==============================] - 15s 89us/step - loss: 0.0036 - accuracy: 0.9997 - val_loss: 0.0044 - val_accuracy: 0.9993\n",
      "Epoch 17/50\n",
      "172595/172595 [==============================] - 15s 89us/step - loss: 0.0033 - accuracy: 0.9997 - val_loss: 0.0011 - val_accuracy: 0.9998\n",
      "Epoch 18/50\n",
      "172595/172595 [==============================] - 15s 87us/step - loss: 0.0036 - accuracy: 0.9997 - val_loss: 0.0632 - val_accuracy: 0.9981\n",
      "Epoch 19/50\n",
      "172595/172595 [==============================] - 14s 82us/step - loss: 0.0022 - accuracy: 0.9998 - val_loss: 9.2253e-04 - val_accuracy: 0.9998\n",
      "Epoch 20/50\n",
      "172595/172595 [==============================] - 15s 84us/step - loss: 0.0023 - accuracy: 0.9998 - val_loss: 0.0221 - val_accuracy: 0.9986\n",
      "Epoch 21/50\n",
      "172595/172595 [==============================] - 15s 85us/step - loss: 0.0025 - accuracy: 0.9998 - val_loss: 6.2796e-04 - val_accuracy: 0.9999\n",
      "Epoch 22/50\n",
      "172595/172595 [==============================] - 14s 83us/step - loss: 0.0024 - accuracy: 0.9998 - val_loss: 0.0062 - val_accuracy: 0.9992\n",
      "Epoch 23/50\n",
      "172595/172595 [==============================] - 15s 86us/step - loss: 0.0019 - accuracy: 0.9998 - val_loss: 6.4542e-04 - val_accuracy: 0.9999\n",
      "Epoch 24/50\n",
      "172595/172595 [==============================] - 14s 82us/step - loss: 0.0016 - accuracy: 0.9998 - val_loss: 5.9157e-04 - val_accuracy: 0.9999\n",
      "Epoch 25/50\n",
      "172595/172595 [==============================] - 15s 88us/step - loss: 0.0030 - accuracy: 0.9998 - val_loss: 5.2343e-04 - val_accuracy: 0.9998\n",
      "Epoch 26/50\n",
      "172595/172595 [==============================] - 14s 82us/step - loss: 0.0022 - accuracy: 0.9998 - val_loss: 5.5415e-04 - val_accuracy: 1.0000\n",
      "Epoch 27/50\n",
      "172595/172595 [==============================] - 15s 85us/step - loss: 0.0021 - accuracy: 0.9998 - val_loss: 5.3691e-04 - val_accuracy: 0.9999\n",
      "Epoch 28/50\n",
      "172595/172595 [==============================] - 15s 85us/step - loss: 0.0011 - accuracy: 0.9999 - val_loss: 6.0698e-04 - val_accuracy: 1.0000\n",
      "Epoch 29/50\n",
      "172595/172595 [==============================] - 15s 87us/step - loss: 0.0019 - accuracy: 0.9998 - val_loss: 4.6263e-04 - val_accuracy: 0.9998\n",
      "Epoch 30/50\n",
      "172595/172595 [==============================] - 15s 87us/step - loss: 0.0015 - accuracy: 0.9999 - val_loss: 7.4422e-04 - val_accuracy: 0.9999\n",
      "Epoch 31/50\n",
      "172595/172595 [==============================] - 15s 87us/step - loss: 0.0023 - accuracy: 0.9999 - val_loss: 3.6080e-04 - val_accuracy: 0.9999\n",
      "Epoch 32/50\n",
      "172595/172595 [==============================] - 15s 85us/step - loss: 0.0011 - accuracy: 0.9998 - val_loss: 0.0015 - val_accuracy: 0.9998\n",
      "Epoch 33/50\n",
      "172595/172595 [==============================] - 15s 88us/step - loss: 0.0013 - accuracy: 0.9998 - val_loss: 5.4286e-04 - val_accuracy: 1.0000\n",
      "Epoch 34/50\n",
      "172595/172595 [==============================] - 15s 86us/step - loss: 9.5148e-04 - accuracy: 0.9999 - val_loss: 5.3189e-04 - val_accuracy: 0.9999\n",
      "Epoch 35/50\n",
      "172595/172595 [==============================] - 15s 88us/step - loss: 0.0011 - accuracy: 0.9999 - val_loss: 5.9829e-04 - val_accuracy: 0.9998\n",
      "Epoch 36/50\n",
      "172595/172595 [==============================] - 14s 84us/step - loss: 0.0012 - accuracy: 0.9999 - val_loss: 5.6921e-04 - val_accuracy: 0.9999\n",
      "Epoch 37/50\n",
      "172595/172595 [==============================] - 15s 87us/step - loss: 4.1773e-04 - accuracy: 0.9999 - val_loss: 8.5481e-04 - val_accuracy: 0.9999\n",
      "Epoch 38/50\n",
      "172595/172595 [==============================] - 15s 88us/step - loss: 0.0011 - accuracy: 0.9999 - val_loss: 5.3659e-04 - val_accuracy: 1.0000\n",
      "Epoch 39/50\n",
      "172595/172595 [==============================] - 15s 86us/step - loss: 5.2786e-04 - accuracy: 0.9999 - val_loss: 5.6521e-04 - val_accuracy: 0.9999\n",
      "Epoch 40/50\n",
      "172595/172595 [==============================] - 15s 85us/step - loss: 8.6470e-04 - accuracy: 0.9999 - val_loss: 0.0013 - val_accuracy: 0.9998\n",
      "Epoch 41/50\n",
      "172595/172595 [==============================] - 15s 87us/step - loss: 8.3017e-04 - accuracy: 0.9999 - val_loss: 7.4886e-04 - val_accuracy: 0.9999\n",
      "Epoch 42/50\n",
      "172595/172595 [==============================] - 14s 82us/step - loss: 0.0013 - accuracy: 0.9999 - val_loss: 0.0018 - val_accuracy: 0.9997\n",
      "Epoch 43/50\n",
      "172595/172595 [==============================] - 15s 88us/step - loss: 7.4681e-04 - accuracy: 0.9999 - val_loss: 7.7878e-04 - val_accuracy: 0.9999\n",
      "Epoch 44/50\n",
      "172595/172595 [==============================] - 15s 85us/step - loss: 0.0018 - accuracy: 0.9999 - val_loss: 5.9923e-04 - val_accuracy: 1.0000\n",
      "Epoch 45/50\n",
      "172595/172595 [==============================] - 15s 85us/step - loss: 8.0063e-04 - accuracy: 0.9999 - val_loss: 4.0303e-04 - val_accuracy: 0.9999\n",
      "Epoch 46/50\n",
      "172595/172595 [==============================] - 15s 85us/step - loss: 4.8899e-04 - accuracy: 0.9999 - val_loss: 4.9415e-04 - val_accuracy: 1.0000\n",
      "Epoch 47/50\n",
      "172595/172595 [==============================] - 15s 87us/step - loss: 2.0155e-04 - accuracy: 1.0000 - val_loss: 0.0091 - val_accuracy: 0.9987\n",
      "Epoch 48/50\n",
      "172595/172595 [==============================] - 15s 86us/step - loss: 7.6841e-04 - accuracy: 0.9999 - val_loss: 5.8115e-04 - val_accuracy: 1.0000\n",
      "Epoch 49/50\n",
      "172595/172595 [==============================] - 15s 88us/step - loss: 4.8111e-04 - accuracy: 0.9999 - val_loss: 4.6719e-04 - val_accuracy: 1.0000\n",
      "Epoch 50/50\n",
      "172595/172595 [==============================] - 15s 87us/step - loss: 0.0014 - accuracy: 0.9999 - val_loss: 5.2623e-04 - val_accuracy: 0.9999\n"
     ]
    }
   ],
   "source": [
    "acc_training = model.fit(x_train, y_train, validation_data=(x_test, y_test), batch_size=32, \n",
    "                         epochs=50)"
   ]
  },
  {
   "cell_type": "markdown",
   "metadata": {},
   "source": [
    "## Prediksi Model"
   ]
  },
  {
   "cell_type": "code",
   "execution_count": 16,
   "metadata": {},
   "outputs": [
    {
     "name": "stdout",
     "output_type": "stream",
     "text": [
      "43149/43149 [==============================] - 1s 27us/step\n",
      "Akurasi data Testing = 99.99%\n"
     ]
    }
   ],
   "source": [
    "acc_testing  = model.evaluate(x_test, y_test) \n",
    "print(\"Akurasi data Testing = %.2f%%\" % (acc_testing[1]*100))"
   ]
  },
  {
   "cell_type": "markdown",
   "metadata": {},
   "source": [
    "# Plot hasil akurasi training dan akurasi testing"
   ]
  },
  {
   "cell_type": "code",
   "execution_count": 17,
   "metadata": {
    "scrolled": true
   },
   "outputs": [
    {
     "data": {
      "image/png": "[encoded data removed]",
      "text/plain": [
       "<Figure size 432x288 with 1 Axes>"
      ]
     },
     "metadata": {
      "needs_background": "light"
     },
     "output_type": "display_data"
    }
   ],
   "source": [
    "plt.plot(acc_training.history['accuracy'])\n",
    "plt.plot(acc_training.history['val_accuracy'])\n",
    "plt.title('model accuracy')\n",
    "plt.ylabel('Akurasi')\n",
    "plt.xlabel('Epoch')\n",
    "plt.legend(['Data training', 'Data Testing'], loc='upper left')\n",
    "plt.show()"
   ]
  },
  {
   "cell_type": "markdown",
   "metadata": {},
   "source": [
    "# Plot hasil Loss antara training dan testing"
   ]
  },
  {
   "cell_type": "code",
   "execution_count": 18,
   "metadata": {},
   "outputs": [
    {
     "data": {
      "image/png": "[encoded data removed]",
      "text/plain": [
       "<Figure size 432x288 with 1 Axes>"
      ]
     },
     "metadata": {
      "needs_background": "light"
     },
     "output_type": "display_data"
    }
   ],
   "source": [
    "plt.plot(acc_training.history['loss'])\n",
    "plt.plot(acc_training.history['val_loss'])\n",
    "plt.title('Model Loss')\n",
    "plt.ylabel('Loss')\n",
    "plt.xlabel('Epoch')\n",
    "plt.legend(['Data training', 'Data Testing'], loc='upper left')\n",
    "plt.show()"
   ]
  },
  {
   "attachments": {
    "penjelasancm.PNG": {
     "image/png": "[encoded data removed]"
    }
   },
   "cell_type": "markdown",
   "metadata": {},
   "source": [
    "# Confusion Matrix\n",
    "    Confusion Matrix adalah sebuah tabel yang berisi 2 jenis nilai yaitu Nilai prediksi dan Nilai Dataset(nilai yang benar). Nilai tersebut dipecah menjadi 4 dan akan dibandingkan untuk mendapatkan informasi tentang performa model learning.\n",
    "    \n",
    "Misal : `0` ( positive ) dan `1` ( negative ).\n",
    "    1. True Positive = Mesin memprediksi positive dan benar\n",
    "    2. True Negative = Mesin memprediksi negative dan benar\n",
    "    3. False Positive = Mesin memprediksi Positive dan padahal negative \n",
    "    4. False Negative = Mesin memprediksi negative dan padahal positive\n",
    "![penjelasancm.PNG](attachment:penjelasancm.PNG)\n",
    "Dibawah ini adalah Hasil Confusion Matrix Model ANN.\n"
   ]
  },
  {
   "cell_type": "code",
   "execution_count": 19,
   "metadata": {},
   "outputs": [],
   "source": [
    "prediction = model.predict_classes(x_test)\n",
    "cm = confusion_matrix(y_test, prediction)\n",
    "tp = cm[0,0]\n",
    "tn = cm[1,1]\n",
    "fp = cm[0,1]\n",
    "fn = cm[1,0]"
   ]
  },
  {
   "attachments": {
    "hasilcm.PNG": {
     "image/png": "[encoded data removed]"
    }
   },
   "cell_type": "markdown",
   "metadata": {},
   "source": [
    "![hasilcm.PNG](attachment:hasilcm.PNG)"
   ]
  },
  {
   "cell_type": "code",
   "execution_count": 20,
   "metadata": {
    "scrolled": true
   },
   "outputs": [
    {
     "name": "stdout",
     "output_type": "stream",
     "text": [
      "Confussion matriks:\n",
      " [[19420     1]\n",
      " [    3 23725]]\n"
     ]
    }
   ],
   "source": [
    "print (\"Confussion matriks:\\n\",cm)"
   ]
  },
  {
   "cell_type": "markdown",
   "metadata": {},
   "source": [
    "# Evaluasi Model dengan Confusion Matrix\n",
    "\n",
    "Pada Confusion matrik ada banyak penilaian yang bisa diambil untuk mengukur performa dari model learning. Namun yang sering dipakai adalah :\n",
    "\n",
    "1. `Akurasi` = Perbandingan Seberapa banyak model mengklasifikasi kelas yang benar dengan total kelas yang ada.\n",
    "\n",
    "        Akurasi = (TP+TN)/(TP+TN+FP+FN)\n",
    "\n",
    "2. `Recall` = Seberapa akurat mesin untuk mengklasifikasi kelas yang `positif`.\n",
    "\n",
    "        Recall = TP/(TP+FN)\n",
    "\n",
    "3. `Presisi` = Perbandingan prediksi kelas yang `positif yang benar` dengan semua prediksi kelas `positif`.\n",
    "\n",
    "        Presisi = TP/(TP+FP)\n",
    "        \n",
    "4. `F1` = Nilai rata-rata dari Recall dan Presisi \n",
    "        \n",
    "        F1 = (2*Presisi*recall) / (presisi+recall)\n"
   ]
  },
  {
   "cell_type": "code",
   "execution_count": 21,
   "metadata": {},
   "outputs": [],
   "source": [
    "precision = tp / ( tp + fp)\n",
    "recall = tp/(tp+fn)\n",
    "f1=(2*precision*recall)/ (precision+recall)\n",
    "akurasi = (tp+tn)/(tp+tn+fp+fn)\n",
    "Sensitivity = tp/(tp + fn)"
   ]
  },
  {
   "cell_type": "code",
   "execution_count": 23,
   "metadata": {},
   "outputs": [
    {
     "name": "stdout",
     "output_type": "stream",
     "text": [
      "precesion :  0.9999485093455538\n",
      "recall :  0.9998455439427483\n",
      "F1 :  0.9998970239934095\n",
      "sensitivity :  0.9998455439427483\n",
      "akurasi :  0.999907297967508\n"
     ]
    }
   ],
   "source": [
    "print (\"precesion : \",precision)\n",
    "print(\"recall : \",recall)\n",
    "print (\"F1 : \",f1)\n",
    "print(\"sensitivity : \",Sensitivity )\n",
    "print(\"akurasi : \",akurasi)"
   ]
  },
  {
   "cell_type": "code",
   "execution_count": null,
   "metadata": {},
   "outputs": [],
   "source": []
  },
  {
   "cell_type": "code",
   "execution_count": null,
   "metadata": {},
   "outputs": [],
   "source": []
  }
 ],
 "metadata": {
  "kernelspec": {
   "display_name": "Python 3",
   "language": "python",
   "name": "python3"
  },
  "language_info": {
   "codemirror_mode": {
    "name": "ipython",
    "version": 3
   },
   "file_extension": ".py",
   "mimetype": "text/x-python",
   "name": "python",
   "nbconvert_exporter": "python",
   "pygments_lexer": "ipython3",
   "version": "3.7.3"
  }
 },
 "nbformat": 4,
 "nbformat_minor": 2
}
