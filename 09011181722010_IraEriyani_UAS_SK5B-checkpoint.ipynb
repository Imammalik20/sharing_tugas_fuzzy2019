{
 "cells": [
  {
   "cell_type": "markdown",
   "metadata": {},
   "source": [
    "<div class=\"alert alert-success\">\n",
    "<h3><center>\" DIAGNOSA HEART DISEASE MENGGUNAKAN JARINGAN SARAF TIRUAN \"<center> </h4>\n",
    "<ul>\n",
    "<li style=\"text-align: left;\">\n",
    "<h3><strong>KELAS &emsp;&emsp;&emsp;&emsp;&emsp;&emsp;&ensp; : SK 5B</strong></h3>\n",
    "</li>\n",
    "<li style=\"text-align: left;\">\n",
    "<h3><strong>JURUSAN &emsp;&emsp;&emsp;&emsp;&emsp;&nbsp;: SISTEM KOMPUTER</strong></h3>\n",
    "</li>\n",
    "<li style=\"text-align: left;\">\n",
    "<h3><strong>MATA KULIAH &emsp;&emsp;&emsp; : KECERDASAN BUATAN</strong></h3>\n",
    "</li>\n",
    "<li style=\"text-align: left;\">\n",
    "<h3><strong>DOSEN PENGAMPUH: Prof. Siti Nurmaini</strong></h3>\n",
    "</li>\n",
    "</ul>\n",
    "</div>"
   ]
  },
  {
   "cell_type": "markdown",
   "metadata": {},
   "source": [
    "<div class=\"alert alert-success\">\n",
    " <font size=\"3\"><p align=\"justify\">\n",
    "    <strong>Dibawah ini adalah daftar Modul yang digunakan :</strong>\n",
    "<ul>\n",
    "<li style=\"text-align: left;\">\n",
    "    <strong>Numpy =</strong> Modul ini berfungsi untuk melakukan beberapa fungsi matematika seperti array, dan matriks. Pada program ini numpy digunakan untuk generate array untuk membuat grafik confusion matriks.\n",
    "</li> \n",
    "</ul>\n",
    "\n",
    "<ul>\n",
    "<li style=\"text-align: left;\">\n",
    "<strong>Pandas =</strong> Modul ini akan digunakan untuk Load Dataset.\n",
    "</li>\n",
    "</ul>\n",
    "  \n",
    "<ul>\n",
    "<li style=\"text-align: left;\">\n",
    "<strong>Matplotlib =</strong> Modul ini digunakan untuk mencetak grafik pada beberapa event seperti grafik distribusi variabel, grafik confusion matrix dan grafik akurasi.\n",
    "</li>\n",
    "</ul>\n",
    "\n",
    "<ul>\n",
    "<li style=\"text-align: left;\">\n",
    "<strong>Seaborn =</strong> Modul ini digunakan untuk plot grafik distribusi nilai dari Class (output), modul ini berbasis matplotlib.\n",
    "</li>\n",
    "</ul>\n",
    "\n",
    "<ul>\n",
    "<li style=\"text-align: left;\">\n",
    "<strong>Sklearn =</strong> Modul ini digunakan untuk mengolah data Machine Learning seperti preprocessing.\n",
    "</li>\n",
    "</ul>\n",
    "\n",
    "<ul>\n",
    "<li style=\"text-align: left;\">\n",
    "<strong>Keras =</strong> Modul ini digunakan untuk membuat, menambah, dan mengevaluasi model neural network.\n",
    "</li>\n",
    "</ul>"
   ]
  },
  {
   "cell_type": "code",
   "execution_count": 90,
   "metadata": {},
   "outputs": [],
   "source": [
    "from sklearn.preprocessing import MinMaxScaler\n",
    "import matplotlib.pyplot as plt \n",
    "from sklearn.model_selection import train_test_split \n",
    "from keras.optimizers import Adam\n",
    "from keras.models import Sequential \n",
    "from keras.layers import Dense, Dropout \n",
    "from keras.activations import relu\n",
    "import pandas as pd \n",
    "import numpy as np \n",
    "import sklearn\n",
    "import keras "
   ]
  },
  {
   "cell_type": "markdown",
   "metadata": {},
   "source": [
    "<div class=\"alert alert-success\">\n",
    "<h3>Code di bawah ini digunakan untuk load dataset dengan nama \"heart.csv\" </h3>    \n",
    "<div>"
   ]
  },
  {
   "cell_type": "code",
   "execution_count": 91,
   "metadata": {},
   "outputs": [],
   "source": [
    "HD = pd.read_csv(\"heart.csv\")"
   ]
  },
  {
   "cell_type": "markdown",
   "metadata": {},
   "source": [
    "<div class=\"alert alert-success\"> \n",
    "    <font size=\"3\"><p align=\"justify\">head() berfungsi untuk melihat data sebanyak n pada kolom awal (jika tidak diisi, akan tampil secara random)."
   ]
  },
  {
   "cell_type": "markdown",
   "metadata": {},
   "source": [
    "<div class=\"alert alert-success\">\n",
    " <font size=\"3\"><p align=\"justify\"><strong>Berikut adalah spesifikasi dataset yang digunakan :</strong>\n",
    "<ul>\n",
    "<li style=\"text-align: left;\">\n",
    "    Input terdiri dari 13 variabel dengan berbagai indikator yang sesuai dengan permasalahan yang akan di bahas.\n",
    "</li> \n",
    "</ul>\n",
    "\n",
    "<ul>\n",
    "<li style=\"text-align: left;\">\n",
    "Output terdiri dari 1 variabel, dengan 2 kondisi, yaitu 1 dan 0.\n",
    "</li>\n",
    "</ul>\n",
    "    \n",
    "<div>"
   ]
  },
  {
   "cell_type": "code",
   "execution_count": 92,
   "metadata": {},
   "outputs": [
    {
     "data": {
      "text/html": [
       "<div>\n",
       "<style scoped>\n",
       "    .dataframe tbody tr th:only-of-type {\n",
       "        vertical-align: middle;\n",
       "    }\n",
       "\n",
       "    .dataframe tbody tr th {\n",
       "        vertical-align: top;\n",
       "    }\n",
       "\n",
       "    .dataframe thead th {\n",
       "        text-align: right;\n",
       "    }\n",
       "</style>\n",
       "<table border=\"1\" class=\"dataframe\">\n",
       "  <thead>\n",
       "    <tr style=\"text-align: right;\">\n",
       "      <th></th>\n",
       "      <th>age</th>\n",
       "      <th>sex</th>\n",
       "      <th>cp</th>\n",
       "      <th>trestbps</th>\n",
       "      <th>chol</th>\n",
       "      <th>fbs</th>\n",
       "      <th>restecg</th>\n",
       "      <th>thalach</th>\n",
       "      <th>exang</th>\n",
       "      <th>oldpeak</th>\n",
       "      <th>slope</th>\n",
       "      <th>ca</th>\n",
       "      <th>thal</th>\n",
       "      <th>target</th>\n",
       "    </tr>\n",
       "  </thead>\n",
       "  <tbody>\n",
       "    <tr>\n",
       "      <td>0</td>\n",
       "      <td>63</td>\n",
       "      <td>1</td>\n",
       "      <td>3</td>\n",
       "      <td>145</td>\n",
       "      <td>233</td>\n",
       "      <td>1</td>\n",
       "      <td>0</td>\n",
       "      <td>150</td>\n",
       "      <td>0</td>\n",
       "      <td>2.3</td>\n",
       "      <td>0</td>\n",
       "      <td>0</td>\n",
       "      <td>1</td>\n",
       "      <td>1</td>\n",
       "    </tr>\n",
       "    <tr>\n",
       "      <td>1</td>\n",
       "      <td>37</td>\n",
       "      <td>1</td>\n",
       "      <td>2</td>\n",
       "      <td>130</td>\n",
       "      <td>250</td>\n",
       "      <td>0</td>\n",
       "      <td>1</td>\n",
       "      <td>187</td>\n",
       "      <td>0</td>\n",
       "      <td>3.5</td>\n",
       "      <td>0</td>\n",
       "      <td>0</td>\n",
       "      <td>2</td>\n",
       "      <td>1</td>\n",
       "    </tr>\n",
       "    <tr>\n",
       "      <td>2</td>\n",
       "      <td>41</td>\n",
       "      <td>0</td>\n",
       "      <td>1</td>\n",
       "      <td>130</td>\n",
       "      <td>204</td>\n",
       "      <td>0</td>\n",
       "      <td>0</td>\n",
       "      <td>172</td>\n",
       "      <td>0</td>\n",
       "      <td>1.4</td>\n",
       "      <td>2</td>\n",
       "      <td>0</td>\n",
       "      <td>2</td>\n",
       "      <td>1</td>\n",
       "    </tr>\n",
       "    <tr>\n",
       "      <td>3</td>\n",
       "      <td>56</td>\n",
       "      <td>1</td>\n",
       "      <td>1</td>\n",
       "      <td>120</td>\n",
       "      <td>236</td>\n",
       "      <td>0</td>\n",
       "      <td>1</td>\n",
       "      <td>178</td>\n",
       "      <td>0</td>\n",
       "      <td>0.8</td>\n",
       "      <td>2</td>\n",
       "      <td>0</td>\n",
       "      <td>2</td>\n",
       "      <td>1</td>\n",
       "    </tr>\n",
       "    <tr>\n",
       "      <td>4</td>\n",
       "      <td>57</td>\n",
       "      <td>0</td>\n",
       "      <td>0</td>\n",
       "      <td>120</td>\n",
       "      <td>354</td>\n",
       "      <td>0</td>\n",
       "      <td>1</td>\n",
       "      <td>163</td>\n",
       "      <td>1</td>\n",
       "      <td>0.6</td>\n",
       "      <td>2</td>\n",
       "      <td>0</td>\n",
       "      <td>2</td>\n",
       "      <td>1</td>\n",
       "    </tr>\n",
       "  </tbody>\n",
       "</table>\n",
       "</div>"
      ],
      "text/plain": [
       "   age  sex  cp  trestbps  chol  fbs  restecg  thalach  exang  oldpeak  slope  \\\n",
       "0   63    1   3       145   233    1        0      150      0      2.3      0   \n",
       "1   37    1   2       130   250    0        1      187      0      3.5      0   \n",
       "2   41    0   1       130   204    0        0      172      0      1.4      2   \n",
       "3   56    1   1       120   236    0        1      178      0      0.8      2   \n",
       "4   57    0   0       120   354    0        1      163      1      0.6      2   \n",
       "\n",
       "   ca  thal  target  \n",
       "0   0     1       1  \n",
       "1   0     2       1  \n",
       "2   0     2       1  \n",
       "3   0     2       1  \n",
       "4   0     2       1  "
      ]
     },
     "execution_count": 92,
     "metadata": {},
     "output_type": "execute_result"
    }
   ],
   "source": [
    "HD.head()"
   ]
  },
  {
   "cell_type": "markdown",
   "metadata": {},
   "source": [
    "<div class=\"alert alert-success\"> \n",
    "    <font size=\"3\"><p align=\"justify\">describe() berfungsi untuk menunjukkan rangkuman statistik seperti rata-rata, median, dan lain sebagainya pada kolom."
   ]
  },
  {
   "cell_type": "code",
   "execution_count": 93,
   "metadata": {},
   "outputs": [
    {
     "data": {
      "text/html": [
       "<div>\n",
       "<style scoped>\n",
       "    .dataframe tbody tr th:only-of-type {\n",
       "        vertical-align: middle;\n",
       "    }\n",
       "\n",
       "    .dataframe tbody tr th {\n",
       "        vertical-align: top;\n",
       "    }\n",
       "\n",
       "    .dataframe thead th {\n",
       "        text-align: right;\n",
       "    }\n",
       "</style>\n",
       "<table border=\"1\" class=\"dataframe\">\n",
       "  <thead>\n",
       "    <tr style=\"text-align: right;\">\n",
       "      <th></th>\n",
       "      <th>age</th>\n",
       "      <th>sex</th>\n",
       "      <th>cp</th>\n",
       "      <th>trestbps</th>\n",
       "      <th>chol</th>\n",
       "      <th>fbs</th>\n",
       "      <th>restecg</th>\n",
       "      <th>thalach</th>\n",
       "      <th>exang</th>\n",
       "      <th>oldpeak</th>\n",
       "      <th>slope</th>\n",
       "      <th>ca</th>\n",
       "      <th>thal</th>\n",
       "      <th>target</th>\n",
       "    </tr>\n",
       "  </thead>\n",
       "  <tbody>\n",
       "    <tr>\n",
       "      <td>count</td>\n",
       "      <td>303.000000</td>\n",
       "      <td>303.000000</td>\n",
       "      <td>303.000000</td>\n",
       "      <td>303.000000</td>\n",
       "      <td>303.000000</td>\n",
       "      <td>303.000000</td>\n",
       "      <td>303.000000</td>\n",
       "      <td>303.000000</td>\n",
       "      <td>303.000000</td>\n",
       "      <td>303.000000</td>\n",
       "      <td>303.000000</td>\n",
       "      <td>303.000000</td>\n",
       "      <td>303.000000</td>\n",
       "      <td>303.000000</td>\n",
       "    </tr>\n",
       "    <tr>\n",
       "      <td>mean</td>\n",
       "      <td>54.366337</td>\n",
       "      <td>0.683168</td>\n",
       "      <td>0.966997</td>\n",
       "      <td>131.623762</td>\n",
       "      <td>246.264026</td>\n",
       "      <td>0.148515</td>\n",
       "      <td>0.528053</td>\n",
       "      <td>149.646865</td>\n",
       "      <td>0.326733</td>\n",
       "      <td>1.039604</td>\n",
       "      <td>1.399340</td>\n",
       "      <td>0.729373</td>\n",
       "      <td>2.313531</td>\n",
       "      <td>0.544554</td>\n",
       "    </tr>\n",
       "    <tr>\n",
       "      <td>std</td>\n",
       "      <td>9.082101</td>\n",
       "      <td>0.466011</td>\n",
       "      <td>1.032052</td>\n",
       "      <td>17.538143</td>\n",
       "      <td>51.830751</td>\n",
       "      <td>0.356198</td>\n",
       "      <td>0.525860</td>\n",
       "      <td>22.905161</td>\n",
       "      <td>0.469794</td>\n",
       "      <td>1.161075</td>\n",
       "      <td>0.616226</td>\n",
       "      <td>1.022606</td>\n",
       "      <td>0.612277</td>\n",
       "      <td>0.498835</td>\n",
       "    </tr>\n",
       "    <tr>\n",
       "      <td>min</td>\n",
       "      <td>29.000000</td>\n",
       "      <td>0.000000</td>\n",
       "      <td>0.000000</td>\n",
       "      <td>94.000000</td>\n",
       "      <td>126.000000</td>\n",
       "      <td>0.000000</td>\n",
       "      <td>0.000000</td>\n",
       "      <td>71.000000</td>\n",
       "      <td>0.000000</td>\n",
       "      <td>0.000000</td>\n",
       "      <td>0.000000</td>\n",
       "      <td>0.000000</td>\n",
       "      <td>0.000000</td>\n",
       "      <td>0.000000</td>\n",
       "    </tr>\n",
       "    <tr>\n",
       "      <td>25%</td>\n",
       "      <td>47.500000</td>\n",
       "      <td>0.000000</td>\n",
       "      <td>0.000000</td>\n",
       "      <td>120.000000</td>\n",
       "      <td>211.000000</td>\n",
       "      <td>0.000000</td>\n",
       "      <td>0.000000</td>\n",
       "      <td>133.500000</td>\n",
       "      <td>0.000000</td>\n",
       "      <td>0.000000</td>\n",
       "      <td>1.000000</td>\n",
       "      <td>0.000000</td>\n",
       "      <td>2.000000</td>\n",
       "      <td>0.000000</td>\n",
       "    </tr>\n",
       "    <tr>\n",
       "      <td>50%</td>\n",
       "      <td>55.000000</td>\n",
       "      <td>1.000000</td>\n",
       "      <td>1.000000</td>\n",
       "      <td>130.000000</td>\n",
       "      <td>240.000000</td>\n",
       "      <td>0.000000</td>\n",
       "      <td>1.000000</td>\n",
       "      <td>153.000000</td>\n",
       "      <td>0.000000</td>\n",
       "      <td>0.800000</td>\n",
       "      <td>1.000000</td>\n",
       "      <td>0.000000</td>\n",
       "      <td>2.000000</td>\n",
       "      <td>1.000000</td>\n",
       "    </tr>\n",
       "    <tr>\n",
       "      <td>75%</td>\n",
       "      <td>61.000000</td>\n",
       "      <td>1.000000</td>\n",
       "      <td>2.000000</td>\n",
       "      <td>140.000000</td>\n",
       "      <td>274.500000</td>\n",
       "      <td>0.000000</td>\n",
       "      <td>1.000000</td>\n",
       "      <td>166.000000</td>\n",
       "      <td>1.000000</td>\n",
       "      <td>1.600000</td>\n",
       "      <td>2.000000</td>\n",
       "      <td>1.000000</td>\n",
       "      <td>3.000000</td>\n",
       "      <td>1.000000</td>\n",
       "    </tr>\n",
       "    <tr>\n",
       "      <td>max</td>\n",
       "      <td>77.000000</td>\n",
       "      <td>1.000000</td>\n",
       "      <td>3.000000</td>\n",
       "      <td>200.000000</td>\n",
       "      <td>564.000000</td>\n",
       "      <td>1.000000</td>\n",
       "      <td>2.000000</td>\n",
       "      <td>202.000000</td>\n",
       "      <td>1.000000</td>\n",
       "      <td>6.200000</td>\n",
       "      <td>2.000000</td>\n",
       "      <td>4.000000</td>\n",
       "      <td>3.000000</td>\n",
       "      <td>1.000000</td>\n",
       "    </tr>\n",
       "  </tbody>\n",
       "</table>\n",
       "</div>"
      ],
      "text/plain": [
       "              age         sex          cp    trestbps        chol         fbs  \\\n",
       "count  303.000000  303.000000  303.000000  303.000000  303.000000  303.000000   \n",
       "mean    54.366337    0.683168    0.966997  131.623762  246.264026    0.148515   \n",
       "std      9.082101    0.466011    1.032052   17.538143   51.830751    0.356198   \n",
       "min     29.000000    0.000000    0.000000   94.000000  126.000000    0.000000   \n",
       "25%     47.500000    0.000000    0.000000  120.000000  211.000000    0.000000   \n",
       "50%     55.000000    1.000000    1.000000  130.000000  240.000000    0.000000   \n",
       "75%     61.000000    1.000000    2.000000  140.000000  274.500000    0.000000   \n",
       "max     77.000000    1.000000    3.000000  200.000000  564.000000    1.000000   \n",
       "\n",
       "          restecg     thalach       exang     oldpeak       slope          ca  \\\n",
       "count  303.000000  303.000000  303.000000  303.000000  303.000000  303.000000   \n",
       "mean     0.528053  149.646865    0.326733    1.039604    1.399340    0.729373   \n",
       "std      0.525860   22.905161    0.469794    1.161075    0.616226    1.022606   \n",
       "min      0.000000   71.000000    0.000000    0.000000    0.000000    0.000000   \n",
       "25%      0.000000  133.500000    0.000000    0.000000    1.000000    0.000000   \n",
       "50%      1.000000  153.000000    0.000000    0.800000    1.000000    0.000000   \n",
       "75%      1.000000  166.000000    1.000000    1.600000    2.000000    1.000000   \n",
       "max      2.000000  202.000000    1.000000    6.200000    2.000000    4.000000   \n",
       "\n",
       "             thal      target  \n",
       "count  303.000000  303.000000  \n",
       "mean     2.313531    0.544554  \n",
       "std      0.612277    0.498835  \n",
       "min      0.000000    0.000000  \n",
       "25%      2.000000    0.000000  \n",
       "50%      2.000000    1.000000  \n",
       "75%      3.000000    1.000000  \n",
       "max      3.000000    1.000000  "
      ]
     },
     "execution_count": 93,
     "metadata": {},
     "output_type": "execute_result"
    }
   ],
   "source": [
    "HD.describe()"
   ]
  },
  {
   "cell_type": "code",
   "execution_count": 94,
   "metadata": {},
   "outputs": [
    {
     "name": "stdout",
     "output_type": "stream",
     "text": [
      "<class 'pandas.core.frame.DataFrame'>\n",
      "RangeIndex: 303 entries, 0 to 302\n",
      "Data columns (total 14 columns):\n",
      "age         303 non-null int64\n",
      "sex         303 non-null int64\n",
      "cp          303 non-null int64\n",
      "trestbps    303 non-null int64\n",
      "chol        303 non-null int64\n",
      "fbs         303 non-null int64\n",
      "restecg     303 non-null int64\n",
      "thalach     303 non-null int64\n",
      "exang       303 non-null int64\n",
      "oldpeak     303 non-null float64\n",
      "slope       303 non-null int64\n",
      "ca          303 non-null int64\n",
      "thal        303 non-null int64\n",
      "target      303 non-null int64\n",
      "dtypes: float64(1), int64(13)\n",
      "memory usage: 33.3 KB\n"
     ]
    }
   ],
   "source": [
    "HD.info()"
   ]
  },
  {
   "cell_type": "code",
   "execution_count": 95,
   "metadata": {},
   "outputs": [],
   "source": [
    "no_fraud = dataset[dataset.target==0]\n",
    "fraud = dataset[dataset.target==1]"
   ]
  },
  {
   "cell_type": "markdown",
   "metadata": {},
   "source": [
    "<div class=\"alert alert-success\">\n",
    "<font size=\"3\"><p align=\"justify\">sns.countplot() berfungsi untuk menampilkan grafik dangan perhitungan berdasarkan class."
   ]
  },
  {
   "cell_type": "code",
   "execution_count": 96,
   "metadata": {},
   "outputs": [],
   "source": [
    "fraud_upsample = resample(fraud, replace=True,n_samples=160,random_state=123)\n",
    "dataset_resampled = pd.concat([no_fraud, fraud_upsample])"
   ]
  },
  {
   "cell_type": "code",
   "execution_count": 97,
   "metadata": {},
   "outputs": [
    {
     "data": {
      "text/plain": [
       "<matplotlib.axes._subplots.AxesSubplot at 0x195d15212b0>"
      ]
     },
     "execution_count": 97,
     "metadata": {},
     "output_type": "execute_result"
    },
    {
     "data": {
      "image/png": "[encoded data removed]",
      "text/plain": [
       "<Figure size 432x288 with 1 Axes>"
      ]
     },
     "metadata": {
      "needs_background": "light"
     },
     "output_type": "display_data"
    }
   ],
   "source": [
    "sns.countplot(x=dataset_resampled['target'],data=dataset)"
   ]
  },
  {
   "cell_type": "markdown",
   "metadata": {},
   "source": [
    "<div class=\"alert alert-success\"><strong>HISTOGRAM</strong>\n",
    "<div class=\"alert alert-success\">\n",
    "<font size=\"3\"><p align=\"justify\">Histogram adalah plot yang memungkinkan dapat menemukan dan menunjukkan distribusi frekuensi (bentuk) yang mendasari serangkaian data.\n",
    "\n",
    "<font size=\"3\"><p align=\"justify\">hist() befungsi untuk menemukan dan menunjukan distribusi frekuensi berdasarkan serangkaian data, dan plt.show() berfungsi untuk menampilkannya dalam bentuk grafik."
   ]
  },
  {
   "cell_type": "code",
   "execution_count": 98,
   "metadata": {},
   "outputs": [
    {
     "data": {
      "image/png": "[encoded data removed]",
      "text/plain": [
       "<Figure size 1008x1008 with 16 Axes>"
      ]
     },
     "metadata": {
      "needs_background": "light"
     },
     "output_type": "display_data"
    }
   ],
   "source": [
    "HD.hist(figsize=(14,14)) \n",
    "plt.show() "
   ]
  },
  {
   "cell_type": "markdown",
   "metadata": {},
   "source": [
    "<div class=\"alert alert-success\"><strong>BOXPLOT</strong>\n",
    "<div class=\"alert alert-success\">\n",
    "<font size=\"3\"><p align=\"justify\">Boxplot berfungsi sebagai penyajian grafis lainnya yang bisa merangkum informasi lebih detail mengenai distribusi nilai-nilai data pengamatan adalah Box and Whisker Plots atau lebih sering disebut dengan BoxPlot. Seperti namanya, Box and Whisker, bentuknya terdiri dari Box (kotak) dan Whisker. Boxplot merupakan ringkasan distribusi sampel yang disajikan secara grafis yang bisa menggambarkan bentuk distribusi data (skewness), ukuran tendensi sentral dan ukuran penyebaran (keragaman) data pengamatan. "
   ]
  },
  {
   "cell_type": "code",
   "execution_count": 99,
   "metadata": {},
   "outputs": [
    {
     "data": {
      "text/plain": [
       "age            AxesSubplot(0.125,0.834518;0.352273x0.0454819)\n",
       "sex         AxesSubplot(0.547727,0.834518;0.352273x0.0454819)\n",
       "cp              AxesSubplot(0.125,0.77994;0.352273x0.0454819)\n",
       "trestbps     AxesSubplot(0.547727,0.77994;0.352273x0.0454819)\n",
       "chol           AxesSubplot(0.125,0.725361;0.352273x0.0454819)\n",
       "fbs         AxesSubplot(0.547727,0.725361;0.352273x0.0454819)\n",
       "restecg        AxesSubplot(0.125,0.670783;0.352273x0.0454819)\n",
       "thalach     AxesSubplot(0.547727,0.670783;0.352273x0.0454819)\n",
       "exang          AxesSubplot(0.125,0.616205;0.352273x0.0454819)\n",
       "oldpeak     AxesSubplot(0.547727,0.616205;0.352273x0.0454819)\n",
       "slope          AxesSubplot(0.125,0.561627;0.352273x0.0454819)\n",
       "ca          AxesSubplot(0.547727,0.561627;0.352273x0.0454819)\n",
       "thal           AxesSubplot(0.125,0.507048;0.352273x0.0454819)\n",
       "target      AxesSubplot(0.547727,0.507048;0.352273x0.0454819)\n",
       "dtype: object"
      ]
     },
     "execution_count": 99,
     "metadata": {},
     "output_type": "execute_result"
    },
    {
     "data": {
      "image/png": "[encoded data removed]",
      "text/plain": [
       "<Figure size 1440x3960 with 28 Axes>"
      ]
     },
     "metadata": {
      "needs_background": "light"
     },
     "output_type": "display_data"
    }
   ],
   "source": [
    "HD.plot(kind='box', subplots=True, layout=(14,2), sharex=False, sharey=False, figsize=(20,55))"
   ]
  },
  {
   "cell_type": "markdown",
   "metadata": {},
   "source": [
    "<div class=\"alert alert-success\">\n",
    "<font size=\"3\"><p align=\"justify\">Nilai variabel x diambil dari kolom 0-13 (Input) dan Nilai variabel y diambil dari kolom 14 (Ouput)."
   ]
  },
  {
   "cell_type": "code",
   "execution_count": 100,
   "metadata": {},
   "outputs": [],
   "source": [
    "x = HD.iloc[:,0:13].values \n",
    "y = HD.iloc[:,13].values "
   ]
  },
  {
   "cell_type": "code",
   "execution_count": 101,
   "metadata": {},
   "outputs": [
    {
     "data": {
      "text/html": [
       "<div>\n",
       "<style scoped>\n",
       "    .dataframe tbody tr th:only-of-type {\n",
       "        vertical-align: middle;\n",
       "    }\n",
       "\n",
       "    .dataframe tbody tr th {\n",
       "        vertical-align: top;\n",
       "    }\n",
       "\n",
       "    .dataframe thead th {\n",
       "        text-align: right;\n",
       "    }\n",
       "</style>\n",
       "<table border=\"1\" class=\"dataframe\">\n",
       "  <thead>\n",
       "    <tr style=\"text-align: right;\">\n",
       "      <th></th>\n",
       "      <th>0</th>\n",
       "      <th>1</th>\n",
       "      <th>2</th>\n",
       "      <th>3</th>\n",
       "      <th>4</th>\n",
       "      <th>5</th>\n",
       "      <th>6</th>\n",
       "      <th>7</th>\n",
       "      <th>8</th>\n",
       "      <th>9</th>\n",
       "      <th>10</th>\n",
       "      <th>11</th>\n",
       "      <th>12</th>\n",
       "    </tr>\n",
       "  </thead>\n",
       "  <tbody>\n",
       "    <tr>\n",
       "      <td>0</td>\n",
       "      <td>63.0</td>\n",
       "      <td>1.0</td>\n",
       "      <td>3.0</td>\n",
       "      <td>145.0</td>\n",
       "      <td>233.0</td>\n",
       "      <td>1.0</td>\n",
       "      <td>0.0</td>\n",
       "      <td>150.0</td>\n",
       "      <td>0.0</td>\n",
       "      <td>2.3</td>\n",
       "      <td>0.0</td>\n",
       "      <td>0.0</td>\n",
       "      <td>1.0</td>\n",
       "    </tr>\n",
       "    <tr>\n",
       "      <td>1</td>\n",
       "      <td>37.0</td>\n",
       "      <td>1.0</td>\n",
       "      <td>2.0</td>\n",
       "      <td>130.0</td>\n",
       "      <td>250.0</td>\n",
       "      <td>0.0</td>\n",
       "      <td>1.0</td>\n",
       "      <td>187.0</td>\n",
       "      <td>0.0</td>\n",
       "      <td>3.5</td>\n",
       "      <td>0.0</td>\n",
       "      <td>0.0</td>\n",
       "      <td>2.0</td>\n",
       "    </tr>\n",
       "    <tr>\n",
       "      <td>2</td>\n",
       "      <td>41.0</td>\n",
       "      <td>0.0</td>\n",
       "      <td>1.0</td>\n",
       "      <td>130.0</td>\n",
       "      <td>204.0</td>\n",
       "      <td>0.0</td>\n",
       "      <td>0.0</td>\n",
       "      <td>172.0</td>\n",
       "      <td>0.0</td>\n",
       "      <td>1.4</td>\n",
       "      <td>2.0</td>\n",
       "      <td>0.0</td>\n",
       "      <td>2.0</td>\n",
       "    </tr>\n",
       "    <tr>\n",
       "      <td>3</td>\n",
       "      <td>56.0</td>\n",
       "      <td>1.0</td>\n",
       "      <td>1.0</td>\n",
       "      <td>120.0</td>\n",
       "      <td>236.0</td>\n",
       "      <td>0.0</td>\n",
       "      <td>1.0</td>\n",
       "      <td>178.0</td>\n",
       "      <td>0.0</td>\n",
       "      <td>0.8</td>\n",
       "      <td>2.0</td>\n",
       "      <td>0.0</td>\n",
       "      <td>2.0</td>\n",
       "    </tr>\n",
       "    <tr>\n",
       "      <td>4</td>\n",
       "      <td>57.0</td>\n",
       "      <td>0.0</td>\n",
       "      <td>0.0</td>\n",
       "      <td>120.0</td>\n",
       "      <td>354.0</td>\n",
       "      <td>0.0</td>\n",
       "      <td>1.0</td>\n",
       "      <td>163.0</td>\n",
       "      <td>1.0</td>\n",
       "      <td>0.6</td>\n",
       "      <td>2.0</td>\n",
       "      <td>0.0</td>\n",
       "      <td>2.0</td>\n",
       "    </tr>\n",
       "    <tr>\n",
       "      <td>...</td>\n",
       "      <td>...</td>\n",
       "      <td>...</td>\n",
       "      <td>...</td>\n",
       "      <td>...</td>\n",
       "      <td>...</td>\n",
       "      <td>...</td>\n",
       "      <td>...</td>\n",
       "      <td>...</td>\n",
       "      <td>...</td>\n",
       "      <td>...</td>\n",
       "      <td>...</td>\n",
       "      <td>...</td>\n",
       "      <td>...</td>\n",
       "    </tr>\n",
       "    <tr>\n",
       "      <td>298</td>\n",
       "      <td>57.0</td>\n",
       "      <td>0.0</td>\n",
       "      <td>0.0</td>\n",
       "      <td>140.0</td>\n",
       "      <td>241.0</td>\n",
       "      <td>0.0</td>\n",
       "      <td>1.0</td>\n",
       "      <td>123.0</td>\n",
       "      <td>1.0</td>\n",
       "      <td>0.2</td>\n",
       "      <td>1.0</td>\n",
       "      <td>0.0</td>\n",
       "      <td>3.0</td>\n",
       "    </tr>\n",
       "    <tr>\n",
       "      <td>299</td>\n",
       "      <td>45.0</td>\n",
       "      <td>1.0</td>\n",
       "      <td>3.0</td>\n",
       "      <td>110.0</td>\n",
       "      <td>264.0</td>\n",
       "      <td>0.0</td>\n",
       "      <td>1.0</td>\n",
       "      <td>132.0</td>\n",
       "      <td>0.0</td>\n",
       "      <td>1.2</td>\n",
       "      <td>1.0</td>\n",
       "      <td>0.0</td>\n",
       "      <td>3.0</td>\n",
       "    </tr>\n",
       "    <tr>\n",
       "      <td>300</td>\n",
       "      <td>68.0</td>\n",
       "      <td>1.0</td>\n",
       "      <td>0.0</td>\n",
       "      <td>144.0</td>\n",
       "      <td>193.0</td>\n",
       "      <td>1.0</td>\n",
       "      <td>1.0</td>\n",
       "      <td>141.0</td>\n",
       "      <td>0.0</td>\n",
       "      <td>3.4</td>\n",
       "      <td>1.0</td>\n",
       "      <td>2.0</td>\n",
       "      <td>3.0</td>\n",
       "    </tr>\n",
       "    <tr>\n",
       "      <td>301</td>\n",
       "      <td>57.0</td>\n",
       "      <td>1.0</td>\n",
       "      <td>0.0</td>\n",
       "      <td>130.0</td>\n",
       "      <td>131.0</td>\n",
       "      <td>0.0</td>\n",
       "      <td>1.0</td>\n",
       "      <td>115.0</td>\n",
       "      <td>1.0</td>\n",
       "      <td>1.2</td>\n",
       "      <td>1.0</td>\n",
       "      <td>1.0</td>\n",
       "      <td>3.0</td>\n",
       "    </tr>\n",
       "    <tr>\n",
       "      <td>302</td>\n",
       "      <td>57.0</td>\n",
       "      <td>0.0</td>\n",
       "      <td>1.0</td>\n",
       "      <td>130.0</td>\n",
       "      <td>236.0</td>\n",
       "      <td>0.0</td>\n",
       "      <td>0.0</td>\n",
       "      <td>174.0</td>\n",
       "      <td>0.0</td>\n",
       "      <td>0.0</td>\n",
       "      <td>1.0</td>\n",
       "      <td>1.0</td>\n",
       "      <td>2.0</td>\n",
       "    </tr>\n",
       "  </tbody>\n",
       "</table>\n",
       "<p>303 rows × 13 columns</p>\n",
       "</div>"
      ],
      "text/plain": [
       "        0    1    2      3      4    5    6      7    8    9   10   11   12\n",
       "0    63.0  1.0  3.0  145.0  233.0  1.0  0.0  150.0  0.0  2.3  0.0  0.0  1.0\n",
       "1    37.0  1.0  2.0  130.0  250.0  0.0  1.0  187.0  0.0  3.5  0.0  0.0  2.0\n",
       "2    41.0  0.0  1.0  130.0  204.0  0.0  0.0  172.0  0.0  1.4  2.0  0.0  2.0\n",
       "3    56.0  1.0  1.0  120.0  236.0  0.0  1.0  178.0  0.0  0.8  2.0  0.0  2.0\n",
       "4    57.0  0.0  0.0  120.0  354.0  0.0  1.0  163.0  1.0  0.6  2.0  0.0  2.0\n",
       "..    ...  ...  ...    ...    ...  ...  ...    ...  ...  ...  ...  ...  ...\n",
       "298  57.0  0.0  0.0  140.0  241.0  0.0  1.0  123.0  1.0  0.2  1.0  0.0  3.0\n",
       "299  45.0  1.0  3.0  110.0  264.0  0.0  1.0  132.0  0.0  1.2  1.0  0.0  3.0\n",
       "300  68.0  1.0  0.0  144.0  193.0  1.0  1.0  141.0  0.0  3.4  1.0  2.0  3.0\n",
       "301  57.0  1.0  0.0  130.0  131.0  0.0  1.0  115.0  1.0  1.2  1.0  1.0  3.0\n",
       "302  57.0  0.0  1.0  130.0  236.0  0.0  0.0  174.0  0.0  0.0  1.0  1.0  2.0\n",
       "\n",
       "[303 rows x 13 columns]"
      ]
     },
     "execution_count": 101,
     "metadata": {},
     "output_type": "execute_result"
    }
   ],
   "source": [
    "data = pd.DataFrame(x)\n",
    "data"
   ]
  },
  {
   "cell_type": "markdown",
   "metadata": {},
   "source": [
    "<div class=\"alert alert-success\"><strong>FEATURE NORMALIZATION</strong>\n",
    "<font size=\"3\"><p align=\"justify\">Normalisasi adalah konsep penting lainnya yang diperlukan untuk mengubah semua fitur ke skala yang sama. Hal ini memungkinkan konvergensi yang lebih cepat pada pembelajaran, dan pengaruh yang lebih seragam untuk semua bobot. Dalam hal ini digunakan MinMaxScaler yang mengubah fitur dengan penskalaan setiap fitur ke rentang yang diberikan (menjadi antara 0 dan 1)."
   ]
  },
  {
   "cell_type": "markdown",
   "metadata": {},
   "source": [
    "<div class=\"alert alert-success\">\n",
    "<font size=\"3\"><p align=\"justify\">Melakukan scaling dataset dan Mengubah fitur dengan penskalaan setiap fitur ke rentang yang diberikan."
   ]
  },
  {
   "cell_type": "code",
   "execution_count": 102,
   "metadata": {},
   "outputs": [],
   "source": [
    "from keras.utils.np_utils import to_categorical\n",
    "scaler = MinMaxScaler() "
   ]
  },
  {
   "cell_type": "markdown",
   "metadata": {},
   "source": [
    "<div class=\"alert alert-success\">\n",
    "<font size=\"3\"><p align=\"justify\">Merubah atau melakukan scaling pada nilai variabel x."
   ]
  },
  {
   "cell_type": "code",
   "execution_count": 103,
   "metadata": {},
   "outputs": [
    {
     "data": {
      "text/plain": [
       "(303, 13)"
      ]
     },
     "execution_count": 103,
     "metadata": {},
     "output_type": "execute_result"
    }
   ],
   "source": [
    "x_scaled=scaler.fit_transform(x)\n",
    "x_scaled.shape"
   ]
  },
  {
   "cell_type": "markdown",
   "metadata": {},
   "source": [
    "<div class=\"alert alert-success\">\n",
    "<font size=\"3\"><p align=\"justify\">Mengkonversi class bilangan bulat menjadi bilangan biner."
   ]
  },
  {
   "cell_type": "code",
   "execution_count": 104,
   "metadata": {},
   "outputs": [
    {
     "data": {
      "text/plain": [
       "(303, 2)"
      ]
     },
     "execution_count": 104,
     "metadata": {},
     "output_type": "execute_result"
    }
   ],
   "source": [
    "y_categorical = to_categorical(y)\n",
    "y_categorical.shape"
   ]
  },
  {
   "cell_type": "markdown",
   "metadata": {},
   "source": [
    "<div class=\"alert alert-success\">\n",
    "<font size=\"3\"><p align=\"justify\">Membagi dataset dengan training 80% dari data dan testing 20% dari data dan setiap data pilih secara acak."
   ]
  },
  {
   "cell_type": "code",
   "execution_count": 105,
   "metadata": {},
   "outputs": [],
   "source": [
    "x_train, x_test, y_train, y_test = train_test_split(x_scaled, y_categorical, \n",
    "                                                   train_size=0.8,\n",
    "                                                   test_size=0.2, \n",
    "                                                   random_state=8)"
   ]
  },
  {
   "cell_type": "markdown",
   "metadata": {},
   "source": [
    "<div class=\"alert alert-success\">\n",
    "<font size=\"3\"><p align=\"justify\">Mencetak ukuran data training dan testing, dimana X_train dan X_test untuk masukan, sedangkan y_train dan y_test untuk keluaran."
   ]
  },
  {
   "cell_type": "code",
   "execution_count": 106,
   "metadata": {},
   "outputs": [
    {
     "name": "stdout",
     "output_type": "stream",
     "text": [
      "Training data shape :  (242, 13) (242, 2)\n",
      "Testing data shape :  (61, 13) (61, 2)\n"
     ]
    }
   ],
   "source": [
    "print('Training data shape : ', x_train.shape, y_train.shape)\n",
    "print('Testing data shape : ', x_test.shape, y_test.shape)"
   ]
  },
  {
   "cell_type": "markdown",
   "metadata": {},
   "source": [
    "<div class=\"alert alert-success\">\n",
    "<font size=\"3\"><p align=\"justify\">Mencetak kelas keluaran yang dihasilkan (0 atau 1)."
   ]
  },
  {
   "cell_type": "code",
   "execution_count": 107,
   "metadata": {},
   "outputs": [
    {
     "name": "stdout",
     "output_type": "stream",
     "text": [
      "Total number of outputs :  [0. 1.]\n",
      "Output target :  2\n"
     ]
    }
   ],
   "source": [
    "target = np.unique(y_train)\n",
    "ntarget = len(target)\n",
    "print('Total number of outputs : ', target)\n",
    "print('Output target : ', ntarget)"
   ]
  },
  {
   "cell_type": "markdown",
   "metadata": {},
   "source": [
    "<div class=\"alert alert-success\"><strong>SEQUENTIAL MODEL</strong>\n",
    "<div class=\"alert alert-success\">\n",
    "<font size=\"3\"><p align=\"justify\">Model Sekuensial adalah tumpukan lapisan linear. Dalam menentukan bentuk masukan, model perlu tahu bentuk masukan apa yang diharapkan. Lapisan pertama dalam model Sequential (dan hanya yang pertama, karena lapisan berikutnya dapat melakukan inferensi bentuk otomatis) perlu menerima informasi tentang bentuk inputnya. Kemudian untuk menambahkan lapisan cukup dengan menambahkan perintah add."
   ]
  },
  {
   "cell_type": "code",
   "execution_count": 108,
   "metadata": {},
   "outputs": [],
   "source": [
    "model = Sequential()"
   ]
  },
  {
   "cell_type": "markdown",
   "metadata": {},
   "source": [
    "<div class=\"alert alert-success\">\n",
    "<font size=\"3\"><p align=\"justify\">Dalam hal ini, terdapat input layer, hidden layer, dan output layer. Dimana ada yang menggunakan Rectified Linear Unit atau yang dikenal sebagai ReLU, adalah cara paling umum dan dasar untuk memperkenalkan non-linearitas ke dalam jaringan saraf. Fungsi ini hanya max (0, x), dan Sigmoid yang merupakan fungsi aktivasi berkelanjutan dan smooth yang paling umum."
   ]
  },
  {
   "cell_type": "code",
   "execution_count": 109,
   "metadata": {},
   "outputs": [],
   "source": [
    "model.add(Dense(14, input_dim=13, activation='relu', use_bias= 0.4))\n",
    "model.add(Dense(14, activation='relu', use_bias= 0.4))\n",
    "model.add(Dense(2, activation='sigmoid'))"
   ]
  },
  {
   "cell_type": "code",
   "execution_count": 110,
   "metadata": {},
   "outputs": [
    {
     "name": "stdout",
     "output_type": "stream",
     "text": [
      "_________________________________________________________________\n",
      "Layer (type)                 Output Shape              Param #   \n",
      "=================================================================\n",
      "dense_13 (Dense)             (None, 14)                196       \n",
      "_________________________________________________________________\n",
      "dense_14 (Dense)             (None, 14)                210       \n",
      "_________________________________________________________________\n",
      "dense_15 (Dense)             (None, 2)                 30        \n",
      "=================================================================\n",
      "Total params: 436\n",
      "Trainable params: 436\n",
      "Non-trainable params: 0\n",
      "_________________________________________________________________\n"
     ]
    }
   ],
   "source": [
    "model.summary()"
   ]
  },
  {
   "cell_type": "markdown",
   "metadata": {},
   "source": [
    "<div class=\"alert alert-success\">\n",
    "<font size=\"3\"><p align=\"justify\">compile() berfungsi mengembalikan objek kode Python dari sumber (string normal, string byte, atau objek AST). Dalam hal ini menggunakan optimizer adam dan categorical loss yaitu binary crossentropy."
   ]
  },
  {
   "cell_type": "code",
   "execution_count": 111,
   "metadata": {},
   "outputs": [],
   "source": [
    "model.compile(optimizer='adam', loss='binary_crossentropy', metrics=['acc'])"
   ]
  },
  {
   "cell_type": "markdown",
   "metadata": {},
   "source": [
    "<div class=\"alert alert-success\">\n",
    "<font size=\"3\"><p align=\"justify\">Untuk melatih model kita menggunakan model.fit dimana X_train adalah numpy array yang digunakan sebagai data training untuk inputan, y_test adalah numpy array yang digunakan untuk data target atau keluaran, batch_size jumlah sampel per pembaharuan gradien jika tidak kita set maka nilai nya akan menggunakan nilai default yaitu 32, epochs jumlah epochs untuk melatih model, epochs adalah iterasi atas seluruh data x dan y yang disediakan, 1 kali epochs sama dengan satu kali perhitungan maju mundur, validation_data(15%) untuk mengevaluasi kerugian dan metrik model apa pun pada setiap akhir epochs.  "
   ]
  },
  {
   "cell_type": "code",
   "execution_count": 112,
   "metadata": {},
   "outputs": [
    {
     "name": "stdout",
     "output_type": "stream",
     "text": [
      "Train on 242 samples, validate on 61 samples\n",
      "Epoch 1/100\n",
      "242/242 [==============================] - 12s 48ms/step - loss: 0.6585 - acc: 0.6674 - val_loss: 0.6313 - val_acc: 0.7213\n",
      "Epoch 2/100\n",
      "242/242 [==============================] - 4s 16ms/step - loss: 0.5895 - acc: 0.7748 - val_loss: 0.5759 - val_acc: 0.7049\n",
      "Epoch 3/100\n",
      "242/242 [==============================] - 3s 14ms/step - loss: 0.5150 - acc: 0.8099 - val_loss: 0.5052 - val_acc: 0.8197\n",
      "Epoch 4/100\n",
      "242/242 [==============================] - 4s 18ms/step - loss: 0.4617 - acc: 0.8285 - val_loss: 0.4530 - val_acc: 0.8443\n",
      "Epoch 5/100\n",
      "242/242 [==============================] - 4s 17ms/step - loss: 0.4267 - acc: 0.8306 - val_loss: 0.4389 - val_acc: 0.8279\n",
      "Epoch 6/100\n",
      "242/242 [==============================] - 5s 20ms/step - loss: 0.4107 - acc: 0.8450 - val_loss: 0.4335 - val_acc: 0.8115\n",
      "Epoch 7/100\n",
      "242/242 [==============================] - 3s 13ms/step - loss: 0.3980 - acc: 0.8264 - val_loss: 0.4511 - val_acc: 0.7951\n",
      "Epoch 8/100\n",
      "242/242 [==============================] - 5s 19ms/step - loss: 0.3897 - acc: 0.8347 - val_loss: 0.4505 - val_acc: 0.7869\n",
      "Epoch 9/100\n",
      "242/242 [==============================] - 2s 10ms/step - loss: 0.3794 - acc: 0.8285 - val_loss: 0.4106 - val_acc: 0.8115\n",
      "Epoch 10/100\n",
      "  6/242 [..............................] - ETA: 8s - loss: 0.1545 - acc: 1.0000"
     ]
    },
    {
     "name": "stderr",
     "output_type": "stream",
     "text": [
      "C:\\Users\\HP\\Anaconda3\\envs\\tensorflow-sessions\\lib\\site-packages\\keras\\callbacks.py:122: UserWarning: Method on_batch_end() is slow compared to the batch update (0.112329). Check your callbacks.\n",
      "  % delta_t_median)\n"
     ]
    },
    {
     "name": "stdout",
     "output_type": "stream",
     "text": [
      "242/242 [==============================] - 5s 21ms/step - loss: 0.3746 - acc: 0.8471 - val_loss: 0.3882 - val_acc: 0.8525- ETA: 2s - loss: 0.3950 - - ETA: 0s - loss: 0.3776 \n",
      "Epoch 11/100\n",
      "242/242 [==============================] - 4s 15ms/step - loss: 0.3723 - acc: 0.8450 - val_loss: 0.3721 - val_acc: 0.8770\n",
      "Epoch 12/100\n",
      "242/242 [==============================] - 4s 16ms/step - loss: 0.3737 - acc: 0.8430 - val_loss: 0.4096 - val_acc: 0.7951\n",
      "Epoch 13/100\n",
      "242/242 [==============================] - 5s 20ms/step - loss: 0.3688 - acc: 0.8471 - val_loss: 0.4295 - val_acc: 0.7869\n",
      "Epoch 14/100\n",
      "242/242 [==============================] - 4s 15ms/step - loss: 0.3713 - acc: 0.8264 - val_loss: 0.3778 - val_acc: 0.8689\n",
      "Epoch 15/100\n",
      " 14/242 [>.............................] - ETA: 5s - loss: 0.2452 - acc: 0.8571 "
     ]
    },
    {
     "name": "stderr",
     "output_type": "stream",
     "text": [
      "C:\\Users\\HP\\Anaconda3\\envs\\tensorflow-sessions\\lib\\site-packages\\keras\\callbacks.py:122: UserWarning: Method on_batch_end() is slow compared to the batch update (0.140952). Check your callbacks.\n",
      "  % delta_t_median)\n"
     ]
    },
    {
     "name": "stdout",
     "output_type": "stream",
     "text": [
      "242/242 [==============================] - 3s 13ms/step - loss: 0.3642 - acc: 0.8471 - val_loss: 0.4417 - val_acc: 0.7705\n",
      "Epoch 16/100\n",
      "  6/242 [..............................] - ETA: 15s - loss: 0.3205 - acc: 0.8333"
     ]
    },
    {
     "name": "stderr",
     "output_type": "stream",
     "text": [
      "C:\\Users\\HP\\Anaconda3\\envs\\tensorflow-sessions\\lib\\site-packages\\keras\\callbacks.py:122: UserWarning: Method on_batch_end() is slow compared to the batch update (0.214723). Check your callbacks.\n",
      "  % delta_t_median)\n",
      "C:\\Users\\HP\\Anaconda3\\envs\\tensorflow-sessions\\lib\\site-packages\\keras\\callbacks.py:122: UserWarning: Method on_batch_end() is slow compared to the batch update (0.143979). Check your callbacks.\n",
      "  % delta_t_median)\n"
     ]
    },
    {
     "name": "stdout",
     "output_type": "stream",
     "text": [
      "242/242 [==============================] - 7s 30ms/step - loss: 0.3607 - acc: 0.8388 - val_loss: 0.4115 - val_acc: 0.8033\n",
      "Epoch 17/100\n",
      "242/242 [==============================] - 5s 21ms/step - loss: 0.3564 - acc: 0.8471 - val_loss: 0.4631 - val_acc: 0.7705\n",
      "Epoch 18/100\n",
      "242/242 [==============================] - 4s 18ms/step - loss: 0.3583 - acc: 0.8347 - val_loss: 0.3884 - val_acc: 0.8443\n",
      "Epoch 19/100\n",
      " 10/242 [>.............................] - ETA: 6s - loss: 0.0854 - acc: 1.0000 "
     ]
    },
    {
     "name": "stderr",
     "output_type": "stream",
     "text": [
      "C:\\Users\\HP\\Anaconda3\\envs\\tensorflow-sessions\\lib\\site-packages\\keras\\callbacks.py:122: UserWarning: Method on_batch_end() is slow compared to the batch update (0.126194). Check your callbacks.\n",
      "  % delta_t_median)\n"
     ]
    },
    {
     "name": "stdout",
     "output_type": "stream",
     "text": [
      "242/242 [==============================] - 4s 15ms/step - loss: 0.3550 - acc: 0.8512 - val_loss: 0.3902 - val_acc: 0.8361\n",
      "Epoch 20/100\n",
      "242/242 [==============================] - 5s 23ms/step - loss: 0.3524 - acc: 0.8368 - val_loss: 0.4414 - val_acc: 0.7787: 2s - l\n",
      "Epoch 21/100\n",
      "242/242 [==============================] - 6s 26ms/step - loss: 0.3537 - acc: 0.8492 - val_loss: 0.4131 - val_acc: 0.8115\n",
      "Epoch 22/100\n",
      "242/242 [==============================] - 6s 27ms/step - loss: 0.3504 - acc: 0.8492 - val_loss: 0.4186 - val_acc: 0.7951\n",
      "Epoch 23/100\n",
      "  8/242 [..............................] - ETA: 17s - loss: 0.4806 - acc: 0.8125"
     ]
    },
    {
     "name": "stderr",
     "output_type": "stream",
     "text": [
      "C:\\Users\\HP\\Anaconda3\\envs\\tensorflow-sessions\\lib\\site-packages\\keras\\callbacks.py:122: UserWarning: Method on_batch_end() is slow compared to the batch update (0.167920). Check your callbacks.\n",
      "  % delta_t_median)\n"
     ]
    },
    {
     "name": "stdout",
     "output_type": "stream",
     "text": [
      "242/242 [==============================] - 5s 19ms/step - loss: 0.3480 - acc: 0.8574 - val_loss: 0.3971 - val_acc: 0.8279\n",
      "Epoch 24/100\n",
      "242/242 [==============================] - 4s 18ms/step - loss: 0.3473 - acc: 0.8512 - val_loss: 0.3922 - val_acc: 0.8361\n",
      "Epoch 25/100\n",
      "242/242 [==============================] - 5s 19ms/step - loss: 0.3459 - acc: 0.8574 - val_loss: 0.4028 - val_acc: 0.8279\n",
      "Epoch 26/100\n",
      "242/242 [==============================] - 4s 18ms/step - loss: 0.3414 - acc: 0.8554 - val_loss: 0.4103 - val_acc: 0.8197\n",
      "Epoch 27/100\n",
      "242/242 [==============================] - 6s 24ms/step - loss: 0.3382 - acc: 0.8533 - val_loss: 0.4461 - val_acc: 0.8033 1s - loss: 0.3301 - acc: 0.852 - ETA: 1s - loss: 0.3302 - ETA: 0s - loss: 0.3393 - acc: 0.852\n",
      "Epoch 28/100\n",
      "242/242 [==============================] - 5s 21ms/step - loss: 0.3392 - acc: 0.8574 - val_loss: 0.4180 - val_acc: 0.8033\n",
      "Epoch 29/100\n",
      "242/242 [==============================] - 3s 10ms/step - loss: 0.3308 - acc: 0.8492 - val_loss: 0.3925 - val_acc: 0.8361\n",
      "Epoch 30/100\n",
      "242/242 [==============================] - 4s 18ms/step - loss: 0.3330 - acc: 0.8512 - val_loss: 0.3925 - val_acc: 0.8361\n",
      "Epoch 31/100\n",
      "242/242 [==============================] - 3s 12ms/step - loss: 0.3297 - acc: 0.8678 - val_loss: 0.4124 - val_acc: 0.8033\n",
      "Epoch 32/100\n",
      "242/242 [==============================] - 3s 11ms/step - loss: 0.3266 - acc: 0.8554 - val_loss: 0.4304 - val_acc: 0.8033\n",
      "Epoch 33/100\n",
      " 20/242 [=>............................] - ETA: 5s - loss: 0.1928 - acc: 0.9750  ETA: 7s - loss: 0.4389 - acc: 0."
     ]
    },
    {
     "name": "stderr",
     "output_type": "stream",
     "text": [
      "C:\\Users\\HP\\Anaconda3\\envs\\tensorflow-sessions\\lib\\site-packages\\keras\\callbacks.py:122: UserWarning: Method on_batch_end() is slow compared to the batch update (0.141254). Check your callbacks.\n",
      "  % delta_t_median)\n"
     ]
    },
    {
     "name": "stdout",
     "output_type": "stream",
     "text": [
      "242/242 [==============================] - 3s 12ms/step - loss: 0.3279 - acc: 0.8636 - val_loss: 0.3848 - val_acc: 0.8361\n",
      "Epoch 34/100\n",
      "242/242 [==============================] - 2s 8ms/step - loss: 0.3299 - acc: 0.8533 - val_loss: 0.3749 - val_acc: 0.8361\n",
      "Epoch 35/100\n",
      "242/242 [==============================] - 2s 7ms/step - loss: 0.3209 - acc: 0.8554 - val_loss: 0.4021 - val_acc: 0.8525\n",
      "Epoch 36/100\n",
      "242/242 [==============================] - 2s 7ms/step - loss: 0.3216 - acc: 0.8760 - val_loss: 0.3760 - val_acc: 0.8443\n",
      "Epoch 37/100\n",
      "242/242 [==============================] - 2s 7ms/step - loss: 0.3290 - acc: 0.8492 - val_loss: 0.3912 - val_acc: 0.8443\n",
      "Epoch 38/100\n",
      "242/242 [==============================] - 2s 6ms/step - loss: 0.3169 - acc: 0.8636 - val_loss: 0.4119 - val_acc: 0.8361\n",
      "Epoch 39/100\n",
      "242/242 [==============================] - 2s 9ms/step - loss: 0.3158 - acc: 0.8554 - val_loss: 0.4226 - val_acc: 0.8279\n",
      "Epoch 40/100\n",
      "242/242 [==============================] - 2s 7ms/step - loss: 0.3147 - acc: 0.8636 - val_loss: 0.3762 - val_acc: 0.8607\n",
      "Epoch 41/100\n",
      "242/242 [==============================] - 2s 8ms/step - loss: 0.3016 - acc: 0.8760 - val_loss: 0.4731 - val_acc: 0.7705\n",
      "Epoch 42/100\n",
      "242/242 [==============================] - 2s 8ms/step - loss: 0.3125 - acc: 0.8802 - val_loss: 0.3791 - val_acc: 0.8607\n",
      "Epoch 43/100\n",
      "242/242 [==============================] - 2s 7ms/step - loss: 0.3071 - acc: 0.8492 - val_loss: 0.3699 - val_acc: 0.8443\n",
      "Epoch 44/100\n",
      "242/242 [==============================] - 2s 7ms/step - loss: 0.3070 - acc: 0.8657 - val_loss: 0.4023 - val_acc: 0.8197\n",
      "Epoch 45/100\n",
      "242/242 [==============================] - 2s 7ms/step - loss: 0.3057 - acc: 0.8802 - val_loss: 0.3527 - val_acc: 0.8607\n",
      "Epoch 46/100\n",
      "242/242 [==============================] - 2s 7ms/step - loss: 0.3069 - acc: 0.8657 - val_loss: 0.3784 - val_acc: 0.8607\n",
      "Epoch 47/100\n",
      "242/242 [==============================] - 3s 13ms/step - loss: 0.3013 - acc: 0.8574 - val_loss: 0.4397 - val_acc: 0.7869\n",
      "Epoch 48/100\n",
      "242/242 [==============================] - 3s 13ms/step - loss: 0.2972 - acc: 0.8678 - val_loss: 0.3798 - val_acc: 0.8607\n",
      "Epoch 49/100\n",
      "242/242 [==============================] - 3s 13ms/step - loss: 0.3004 - acc: 0.8802 - val_loss: 0.3882 - val_acc: 0.8525\n",
      "Epoch 50/100\n",
      "242/242 [==============================] - 3s 12ms/step - loss: 0.2963 - acc: 0.8678 - val_loss: 0.3733 - val_acc: 0.8607\n",
      "Epoch 51/100\n",
      "242/242 [==============================] - 2s 8ms/step - loss: 0.3002 - acc: 0.8657 - val_loss: 0.3843 - val_acc: 0.8607\n",
      "Epoch 52/100\n",
      "242/242 [==============================] - 2s 10ms/step - loss: 0.3004 - acc: 0.8595 - val_loss: 0.3710 - val_acc: 0.8607\n",
      "Epoch 53/100\n",
      "242/242 [==============================] - 2s 9ms/step - loss: 0.2922 - acc: 0.8760 - val_loss: 0.3840 - val_acc: 0.8607\n",
      "Epoch 54/100\n",
      "242/242 [==============================] - ETA: 0s - loss: 0.2890 - acc: 0.870 - 2s 10ms/step - loss: 0.2963 - acc: 0.8698 - val_loss: 0.4273 - val_acc: 0.8115\n",
      "Epoch 55/100\n",
      "242/242 [==============================] - 2s 10ms/step - loss: 0.2890 - acc: 0.8678 - val_loss: 0.3889 - val_acc: 0.8279\n",
      "Epoch 56/100\n",
      "242/242 [==============================] - 2s 10ms/step - loss: 0.2873 - acc: 0.8657 - val_loss: 0.3583 - val_acc: 0.8689\n",
      "Epoch 57/100\n",
      "242/242 [==============================] - 2s 9ms/step - loss: 0.2855 - acc: 0.8740 - val_loss: 0.4165 - val_acc: 0.8197\n",
      "Epoch 58/100\n",
      "242/242 [==============================] - 2s 9ms/step - loss: 0.2828 - acc: 0.8802 - val_loss: 0.3550 - val_acc: 0.8770\n",
      "Epoch 59/100\n",
      "242/242 [==============================] - 3s 11ms/step - loss: 0.2812 - acc: 0.8864 - val_loss: 0.3468 - val_acc: 0.8770\n",
      "Epoch 60/100\n",
      "242/242 [==============================] - 2s 9ms/step - loss: 0.2910 - acc: 0.8760 - val_loss: 0.4061 - val_acc: 0.8197\n",
      "Epoch 61/100\n",
      "242/242 [==============================] - 3s 10ms/step - loss: 0.2814 - acc: 0.8595 - val_loss: 0.4029 - val_acc: 0.8279\n",
      "Epoch 62/100\n",
      "242/242 [==============================] - 2s 10ms/step - loss: 0.2780 - acc: 0.8822 - val_loss: 0.4026 - val_acc: 0.8279A: 0s - loss: 0.2546\n",
      "Epoch 63/100\n",
      "242/242 [==============================] - 4s 17ms/step - loss: 0.2764 - acc: 0.8822 - val_loss: 0.3650 - val_acc: 0.8525\n",
      "Epoch 64/100\n",
      "242/242 [==============================] - 4s 15ms/step - loss: 0.2728 - acc: 0.8864 - val_loss: 0.3716 - val_acc: 0.8689\n",
      "Epoch 65/100\n",
      "242/242 [==============================] - 3s 12ms/step - loss: 0.2739 - acc: 0.8740 - val_loss: 0.3835 - val_acc: 0.8525\n",
      "Epoch 66/100\n",
      "242/242 [==============================] - 2s 10ms/step - loss: 0.2717 - acc: 0.8760 - val_loss: 0.3907 - val_acc: 0.8525\n",
      "Epoch 67/100\n",
      "242/242 [==============================] - 2s 10ms/step - loss: 0.2731 - acc: 0.8781 - val_loss: 0.3961 - val_acc: 0.8361\n",
      "Epoch 68/100\n",
      "242/242 [==============================] - 2s 10ms/step - loss: 0.2718 - acc: 0.8802 - val_loss: 0.4305 - val_acc: 0.8279\n",
      "Epoch 69/100\n",
      "242/242 [==============================] - 3s 11ms/step - loss: 0.2572 - acc: 0.8884 - val_loss: 0.3302 - val_acc: 0.8770\n",
      "Epoch 70/100\n",
      "242/242 [==============================] - 2s 10ms/step - loss: 0.2705 - acc: 0.8740 - val_loss: 0.3510 - val_acc: 0.8607\n",
      "Epoch 71/100\n",
      "242/242 [==============================] - 2s 10ms/step - loss: 0.2691 - acc: 0.8843 - val_loss: 0.3497 - val_acc: 0.86070.27\n",
      "Epoch 72/100\n",
      "242/242 [==============================] - 3s 11ms/step - loss: 0.2618 - acc: 0.8802 - val_loss: 0.4215 - val_acc: 0.8197\n",
      "Epoch 73/100\n",
      "242/242 [==============================] - 2s 10ms/step - loss: 0.2590 - acc: 0.8822 - val_loss: 0.3730 - val_acc: 0.8607\n",
      "Epoch 74/100\n",
      "242/242 [==============================] - 3s 10ms/step - loss: 0.2558 - acc: 0.8905 - val_loss: 0.3565 - val_acc: 0.8770\n",
      "Epoch 75/100\n",
      "242/242 [==============================] - 3s 11ms/step - loss: 0.2589 - acc: 0.8946 - val_loss: 0.3570 - val_acc: 0.8852\n",
      "Epoch 76/100\n",
      "242/242 [==============================] - 3s 11ms/step - loss: 0.2567 - acc: 0.8802 - val_loss: 0.3422 - val_acc: 0.8689\n",
      "Epoch 77/100\n",
      "242/242 [==============================] - 3s 14ms/step - loss: 0.2450 - acc: 0.8781 - val_loss: 0.4834 - val_acc: 0.7705\n",
      "Epoch 78/100\n",
      "242/242 [==============================] - 6s 26ms/step - loss: 0.2542 - acc: 0.8905 - val_loss: 0.4284 - val_acc: 0.8197\n",
      "Epoch 79/100\n",
      "242/242 [==============================] - 5s 22ms/step - loss: 0.2564 - acc: 0.8926 - val_loss: 0.3778 - val_acc: 0.8770\n",
      "Epoch 80/100\n",
      "242/242 [==============================] - 4s 17ms/step - loss: 0.2541 - acc: 0.8946 - val_loss: 0.3633 - val_acc: 0.8770\n",
      "Epoch 81/100\n",
      "242/242 [==============================] - 4s 17ms/step - loss: 0.2620 - acc: 0.8967 - val_loss: 0.3868 - val_acc: 0.8770\n",
      "Epoch 82/100\n",
      "242/242 [==============================] - 5s 19ms/step - loss: 0.2530 - acc: 0.8864 - val_loss: 0.3953 - val_acc: 0.8525\n",
      "Epoch 83/100\n",
      "242/242 [==============================] - 3s 12ms/step - loss: 0.2542 - acc: 0.8905 - val_loss: 0.4035 - val_acc: 0.8443\n",
      "Epoch 84/100\n",
      "242/242 [==============================] - 4s 18ms/step - loss: 0.2450 - acc: 0.8988 - val_loss: 0.4356 - val_acc: 0.7869\n",
      "Epoch 85/100\n",
      "242/242 [==============================] - 4s 17ms/step - loss: 0.2464 - acc: 0.8926 - val_loss: 0.4315 - val_acc: 0.7951\n",
      "Epoch 86/100\n",
      "242/242 [==============================] - 6s 23ms/step - loss: 0.2538 - acc: 0.8905 - val_loss: 0.3927 - val_acc: 0.8770\n",
      "Epoch 87/100\n",
      "242/242 [==============================] - 5s 21ms/step - loss: 0.2487 - acc: 0.8822 - val_loss: 0.4355 - val_acc: 0.7787\n",
      "Epoch 88/100\n",
      "242/242 [==============================] - 5s 23ms/step - loss: 0.2474 - acc: 0.8946 - val_loss: 0.4368 - val_acc: 0.7869\n",
      "Epoch 89/100\n",
      " 10/242 [>.............................] - ETA: 5s - loss: 0.1656 - acc: 0.9000"
     ]
    },
    {
     "name": "stderr",
     "output_type": "stream",
     "text": [
      "C:\\Users\\HP\\Anaconda3\\envs\\tensorflow-sessions\\lib\\site-packages\\keras\\callbacks.py:122: UserWarning: Method on_batch_end() is slow compared to the batch update (0.130065). Check your callbacks.\n",
      "  % delta_t_median)\n"
     ]
    },
    {
     "name": "stdout",
     "output_type": "stream",
     "text": [
      "242/242 [==============================] - 5s 22ms/step - loss: 0.2392 - acc: 0.8946 - val_loss: 0.3715 - val_acc: 0.8852\n",
      "Epoch 90/100\n",
      "242/242 [==============================] - 4s 16ms/step - loss: 0.2398 - acc: 0.9070 - val_loss: 0.3739 - val_acc: 0.8852\n",
      "Epoch 91/100\n",
      "242/242 [==============================] - 4s 17ms/step - loss: 0.2395 - acc: 0.8905 - val_loss: 0.4547 - val_acc: 0.7787\n",
      "Epoch 92/100\n",
      "242/242 [==============================] - 3s 13ms/step - loss: 0.2367 - acc: 0.8967 - val_loss: 0.3953 - val_acc: 0.8607\n",
      "Epoch 93/100\n",
      "242/242 [==============================] - 3s 14ms/step - loss: 0.2366 - acc: 0.9050 - val_loss: 0.4067 - val_acc: 0.8443\n",
      "Epoch 94/100\n",
      "242/242 [==============================] - 3s 14ms/step - loss: 0.2355 - acc: 0.9008 - val_loss: 0.4169 - val_acc: 0.8279\n",
      "Epoch 95/100\n",
      "242/242 [==============================] - 5s 22ms/step - loss: 0.2401 - acc: 0.8843 - val_loss: 0.3967 - val_acc: 0.8607\n",
      "Epoch 96/100\n",
      "242/242 [==============================] - 3s 14ms/step - loss: 0.2352 - acc: 0.9050 - val_loss: 0.4111 - val_acc: 0.8443\n",
      "Epoch 97/100\n",
      "  6/242 [..............................] - ETA: 11s - loss: 0.1043 - acc: 1.0000"
     ]
    },
    {
     "name": "stderr",
     "output_type": "stream",
     "text": [
      "C:\\Users\\HP\\Anaconda3\\envs\\tensorflow-sessions\\lib\\site-packages\\keras\\callbacks.py:122: UserWarning: Method on_batch_end() is slow compared to the batch update (0.129449). Check your callbacks.\n",
      "  % delta_t_median)\n"
     ]
    },
    {
     "name": "stdout",
     "output_type": "stream",
     "text": [
      "242/242 [==============================] - 4s 15ms/step - loss: 0.2321 - acc: 0.8988 - val_loss: 0.3894 - val_acc: 0.8770\n",
      "Epoch 98/100\n",
      "242/242 [==============================] - 5s 19ms/step - loss: 0.2318 - acc: 0.8967 - val_loss: 0.3987 - val_acc: 0.8852\n",
      "Epoch 99/100\n",
      "242/242 [==============================] - 3s 14ms/step - loss: 0.2268 - acc: 0.9070 - val_loss: 0.4697 - val_acc: 0.7869\n",
      "Epoch 100/100\n",
      "242/242 [==============================] - 3s 14ms/step - loss: 0.2282 - acc: 0.8988 - val_loss: 0.3873 - val_acc: 0.8770\n"
     ]
    }
   ],
   "source": [
    "history= model.fit(x_train, y_train, validation_data=(x_test, y_test), epochs=100, batch_size=2)"
   ]
  },
  {
   "cell_type": "markdown",
   "metadata": {},
   "source": [
    "<div class=\"alert alert-success\">\n",
    "<font size=\"3\"><p align=\"justify\">Berikut ini adalah tampilan prediksi data,dan Mencetak predict dari input yang akan diperoleh"
   ]
  },
  {
   "cell_type": "code",
   "execution_count": 113,
   "metadata": {},
   "outputs": [
    {
     "data": {
      "text/plain": [
       "array([[2.47463584e-03, 9.97108340e-01],\n",
       "       [1.64529324e-01, 8.38429749e-01],\n",
       "       [1.90474689e-02, 9.81424093e-01],\n",
       "       [3.95027399e-02, 9.68840599e-01],\n",
       "       [1.70043081e-01, 8.49180222e-01],\n",
       "       [5.57858944e-02, 9.47368741e-01],\n",
       "       [4.38742340e-02, 9.66853857e-01],\n",
       "       [1.69474512e-01, 8.33672285e-01],\n",
       "       [6.07880950e-03, 9.94244337e-01],\n",
       "       [2.91417539e-02, 9.69589293e-01],\n",
       "       [2.00726748e-01, 8.18273008e-01],\n",
       "       [7.30562210e-03, 9.93821740e-01],\n",
       "       [6.48220181e-02, 9.48979795e-01],\n",
       "       [2.82225192e-01, 6.75039530e-01],\n",
       "       [6.95884228e-04, 9.99275684e-01],\n",
       "       [2.18817890e-02, 9.77483332e-01],\n",
       "       [4.18728590e-03, 9.96915460e-01],\n",
       "       [1.27402395e-01, 8.52866113e-01],\n",
       "       [2.73078680e-01, 7.38023579e-01],\n",
       "       [3.34487259e-02, 9.56190228e-01],\n",
       "       [6.30845070e-01, 3.72694135e-01],\n",
       "       [1.44931674e-02, 9.89643037e-01],\n",
       "       [8.20024908e-02, 9.24880981e-01],\n",
       "       [2.01385140e-01, 8.15872192e-01],\n",
       "       [4.03019190e-02, 9.62491393e-01],\n",
       "       [1.38257235e-01, 8.35070670e-01],\n",
       "       [3.19886208e-03, 9.97048259e-01],\n",
       "       [1.64140970e-01, 8.27502429e-01],\n",
       "       [1.35271907e-01, 8.80699873e-01],\n",
       "       [6.96784258e-03, 9.92587686e-01],\n",
       "       [8.86529684e-03, 9.91034985e-01],\n",
       "       [3.78695607e-01, 6.21859789e-01],\n",
       "       [3.80840600e-02, 9.66572225e-01],\n",
       "       [7.24652171e-01, 2.69957989e-01],\n",
       "       [1.88327044e-01, 8.15193176e-01],\n",
       "       [1.58927262e-01, 8.30429614e-01],\n",
       "       [8.49276781e-04, 9.99153495e-01],\n",
       "       [2.95657516e-01, 7.00822949e-01],\n",
       "       [6.96173310e-03, 9.93914962e-01],\n",
       "       [1.08330548e-02, 9.91682410e-01],\n",
       "       [2.00072646e-01, 8.06444407e-01],\n",
       "       [8.96121860e-02, 9.06761646e-01],\n",
       "       [8.38526011e-01, 1.48698717e-01],\n",
       "       [1.08577877e-01, 9.09957290e-01],\n",
       "       [1.09047204e-01, 8.81481349e-01],\n",
       "       [9.65984762e-02, 9.15340066e-01],\n",
       "       [8.45753551e-02, 9.07886267e-01],\n",
       "       [2.03046113e-01, 7.74392664e-01],\n",
       "       [7.80403614e-03, 9.94377136e-01],\n",
       "       [4.92566824e-02, 9.57705736e-01],\n",
       "       [1.15123987e-02, 9.91261601e-01],\n",
       "       [4.20699269e-01, 5.98042071e-01],\n",
       "       [8.45718205e-01, 1.34925216e-01],\n",
       "       [1.07534826e-02, 9.89661932e-01],\n",
       "       [4.66817617e-03, 9.96511102e-01],\n",
       "       [3.02889109e-01, 6.72913313e-01],\n",
       "       [4.51863408e-02, 9.66787338e-01],\n",
       "       [7.78607726e-02, 9.43233073e-01],\n",
       "       [7.73154497e-02, 9.17418718e-01],\n",
       "       [3.54771882e-01, 6.59752548e-01],\n",
       "       [2.60166824e-02, 9.73671436e-01],\n",
       "       [1.95931733e-01, 8.19785118e-01],\n",
       "       [3.20849717e-02, 9.49105203e-01],\n",
       "       [1.56003416e-01, 8.11929941e-01],\n",
       "       [2.06202269e-03, 9.98068988e-01],\n",
       "       [5.69564402e-02, 9.33254242e-01],\n",
       "       [9.87535119e-02, 9.16611075e-01],\n",
       "       [1.32063031e-02, 9.88776207e-01],\n",
       "       [4.40071523e-02, 9.63560343e-01],\n",
       "       [1.00734532e-02, 9.90623951e-01],\n",
       "       [3.44606221e-01, 5.94727516e-01],\n",
       "       [9.46264565e-02, 9.01005507e-01],\n",
       "       [2.77689695e-02, 9.79364634e-01],\n",
       "       [2.58306086e-01, 8.07013988e-01],\n",
       "       [1.67115033e-02, 9.83976543e-01],\n",
       "       [2.36772299e-02, 9.80936289e-01],\n",
       "       [8.03121924e-03, 9.92573500e-01],\n",
       "       [4.24689949e-02, 9.66970205e-01],\n",
       "       [2.07096338e-03, 9.97980356e-01],\n",
       "       [2.35530257e-01, 7.78638721e-01],\n",
       "       [5.91756403e-02, 9.41660285e-01],\n",
       "       [1.60859317e-01, 8.43592227e-01],\n",
       "       [8.68153572e-03, 9.92402554e-01],\n",
       "       [4.16454673e-03, 9.95646834e-01],\n",
       "       [2.54342437e-01, 7.48901427e-01],\n",
       "       [1.69645756e-01, 8.62047434e-01],\n",
       "       [5.00213504e-01, 4.60658938e-01],\n",
       "       [9.09751654e-03, 9.91023183e-01],\n",
       "       [2.01537907e-02, 9.80617523e-01],\n",
       "       [1.74976468e-01, 8.42916787e-01],\n",
       "       [2.13585794e-02, 9.78010297e-01],\n",
       "       [3.94573122e-01, 6.09835029e-01],\n",
       "       [2.83301711e-01, 6.60637617e-01],\n",
       "       [5.41101635e-01, 5.00065684e-01],\n",
       "       [3.70438099e-02, 9.58934426e-01],\n",
       "       [9.14425731e-01, 8.52816403e-02],\n",
       "       [2.57596850e-01, 8.09319913e-01],\n",
       "       [5.71299613e-01, 3.94181371e-01],\n",
       "       [3.12901258e-01, 6.73834026e-01],\n",
       "       [5.78302383e-01, 4.79036629e-01],\n",
       "       [7.49502063e-01, 2.70955801e-01],\n",
       "       [3.22357416e-01, 6.41759217e-01],\n",
       "       [1.17095113e-02, 9.84997094e-01],\n",
       "       [4.91762161e-03, 9.94612575e-01],\n",
       "       [8.82965922e-02, 9.07727122e-01],\n",
       "       [3.27555537e-02, 9.68038499e-01],\n",
       "       [2.45318174e-01, 7.81856179e-01],\n",
       "       [4.46441382e-01, 5.61288357e-01],\n",
       "       [9.65753198e-03, 9.90966558e-01],\n",
       "       [4.63110507e-02, 9.58247781e-01],\n",
       "       [2.47122347e-01, 7.66366720e-01],\n",
       "       [2.75585949e-02, 9.69113231e-01],\n",
       "       [2.55515277e-02, 9.75257635e-01],\n",
       "       [3.82442832e-01, 6.05020523e-01],\n",
       "       [9.46555436e-02, 9.15621400e-01],\n",
       "       [3.37702036e-03, 9.97095168e-01],\n",
       "       [1.26457363e-01, 8.42468798e-01],\n",
       "       [2.32652813e-01, 7.02951789e-01],\n",
       "       [4.56866622e-03, 9.95852351e-01],\n",
       "       [4.00781095e-01, 6.09914184e-01],\n",
       "       [9.11936164e-01, 6.17825687e-02],\n",
       "       [5.95637858e-02, 9.58288431e-01],\n",
       "       [6.69205189e-03, 9.94817376e-01],\n",
       "       [7.88921118e-03, 9.94512141e-01],\n",
       "       [2.86510587e-03, 9.97657895e-01],\n",
       "       [7.23934174e-03, 9.92781520e-01],\n",
       "       [9.91613269e-02, 9.16923046e-01],\n",
       "       [8.65566730e-03, 9.90912318e-01],\n",
       "       [6.22743368e-03, 9.94105518e-01],\n",
       "       [1.61597431e-01, 8.49673510e-01],\n",
       "       [7.58257508e-03, 9.91440833e-01],\n",
       "       [2.41688192e-02, 9.75610018e-01],\n",
       "       [9.19998288e-02, 9.22854900e-01],\n",
       "       [7.36987591e-02, 9.36998844e-01],\n",
       "       [1.19900107e-02, 9.88945007e-01],\n",
       "       [2.48241127e-02, 9.73411560e-01],\n",
       "       [2.16484070e-03, 9.97667193e-01],\n",
       "       [1.24948323e-02, 9.88605857e-01],\n",
       "       [3.71566951e-01, 6.46672785e-01],\n",
       "       [9.79630172e-01, 1.71906650e-02],\n",
       "       [1.20915473e-02, 9.91364956e-01],\n",
       "       [4.01630133e-01, 6.16043448e-01],\n",
       "       [1.27748251e-02, 9.88081217e-01],\n",
       "       [6.37478530e-02, 9.17299271e-01],\n",
       "       [4.10718024e-02, 9.56464410e-01],\n",
       "       [1.26653463e-01, 8.80592823e-01],\n",
       "       [4.11376953e-02, 9.52843785e-01],\n",
       "       [3.28969955e-03, 9.97253895e-01],\n",
       "       [8.30255449e-02, 9.14309502e-01],\n",
       "       [1.07945770e-01, 8.85764360e-01],\n",
       "       [1.35927171e-01, 9.06503558e-01],\n",
       "       [1.25963867e-01, 8.75555992e-01],\n",
       "       [2.84412295e-01, 6.35634899e-01],\n",
       "       [4.39891636e-01, 5.79915106e-01],\n",
       "       [2.46224403e-02, 9.74452734e-01],\n",
       "       [1.24811649e-01, 8.69205892e-01],\n",
       "       [8.29544067e-02, 9.13139939e-01],\n",
       "       [3.29151750e-02, 9.73756075e-01],\n",
       "       [7.85079181e-01, 1.73356563e-01],\n",
       "       [2.28684872e-01, 7.97959924e-01],\n",
       "       [1.00108534e-01, 8.93593013e-01],\n",
       "       [1.30135417e-02, 9.88419414e-01],\n",
       "       [2.05047131e-02, 9.84224319e-01],\n",
       "       [1.03545427e-01, 8.58072042e-01],\n",
       "       [1.03545427e-01, 8.58072042e-01],\n",
       "       [9.99387383e-01, 6.71327114e-04],\n",
       "       [9.97922659e-01, 1.77443027e-03],\n",
       "       [9.97147202e-01, 2.74643302e-03],\n",
       "       [9.93907094e-01, 8.11392069e-03],\n",
       "       [9.98255014e-01, 1.73464417e-03],\n",
       "       [7.42716312e-01, 3.08473080e-01],\n",
       "       [5.06730795e-01, 5.08616447e-01],\n",
       "       [3.02507877e-01, 6.70974493e-01],\n",
       "       [9.70285535e-01, 3.23431194e-02],\n",
       "       [9.97676492e-01, 1.97842717e-03],\n",
       "       [9.63575244e-01, 2.95382738e-02],\n",
       "       [9.41592216e-01, 5.08226752e-02],\n",
       "       [2.37111360e-01, 7.24493504e-01],\n",
       "       [9.74397600e-01, 2.04126537e-02],\n",
       "       [9.68009472e-01, 3.69980931e-02],\n",
       "       [9.88018990e-01, 9.81113315e-03],\n",
       "       [9.95133638e-01, 4.57304716e-03],\n",
       "       [4.94975150e-02, 9.62596416e-01],\n",
       "       [9.17213321e-01, 9.10293460e-02],\n",
       "       [9.77682114e-01, 3.21020782e-02],\n",
       "       [8.84832680e-01, 1.35854870e-01],\n",
       "       [9.45834279e-01, 4.49525714e-02],\n",
       "       [9.95114446e-01, 3.87853384e-03],\n",
       "       [7.78127253e-01, 2.04386413e-01],\n",
       "       [5.12837946e-01, 5.15890002e-01],\n",
       "       [9.50210214e-01, 4.17576134e-02],\n",
       "       [9.97737229e-01, 1.93065405e-03],\n",
       "       [9.81408119e-01, 1.81226730e-02],\n",
       "       [9.99242544e-01, 6.72936440e-04],\n",
       "       [2.93436468e-01, 6.48884535e-01],\n",
       "       [9.98750567e-01, 1.03455782e-03],\n",
       "       [4.46097255e-01, 5.76617956e-01],\n",
       "       [8.32686067e-01, 1.53601617e-01],\n",
       "       [9.95114684e-01, 3.63224745e-03],\n",
       "       [9.38116193e-01, 7.36075938e-02],\n",
       "       [6.13694608e-01, 4.22820628e-01],\n",
       "       [9.94414210e-01, 4.60106134e-03],\n",
       "       [9.66412663e-01, 3.27960849e-02],\n",
       "       [9.77114439e-01, 3.01686227e-02],\n",
       "       [9.99904513e-01, 8.24034214e-05],\n",
       "       [8.19933593e-01, 1.52394414e-01],\n",
       "       [9.69965816e-01, 2.69413888e-02],\n",
       "       [9.96022224e-01, 3.45581770e-03],\n",
       "       [8.02860975e-01, 1.64909333e-01],\n",
       "       [7.92547107e-01, 1.70524299e-01],\n",
       "       [9.04006362e-01, 1.11709267e-01],\n",
       "       [9.93077278e-01, 4.88162041e-03],\n",
       "       [9.36322927e-01, 5.83100617e-02],\n",
       "       [9.11071181e-01, 8.20076466e-02],\n",
       "       [9.92640615e-01, 9.06285644e-03],\n",
       "       [9.97484446e-01, 2.26768851e-03],\n",
       "       [7.47541785e-01, 2.04198837e-01],\n",
       "       [9.99295294e-01, 7.60674477e-04],\n",
       "       [9.98637080e-01, 1.82744861e-03],\n",
       "       [9.86201525e-01, 1.55072808e-02],\n",
       "       [9.99595463e-01, 3.87817621e-04],\n",
       "       [9.99156117e-01, 5.28693199e-04],\n",
       "       [1.21814877e-01, 8.94035041e-01],\n",
       "       [9.99969423e-01, 2.49147415e-05],\n",
       "       [9.91475344e-01, 6.16604090e-03],\n",
       "       [9.90988731e-01, 7.04151392e-03],\n",
       "       [9.88415837e-01, 1.65286064e-02],\n",
       "       [9.69711900e-01, 2.46062577e-02],\n",
       "       [2.58294880e-01, 6.57749772e-01],\n",
       "       [7.67229021e-01, 2.45949864e-01],\n",
       "       [1.24759316e-01, 8.68972123e-01],\n",
       "       [9.99684989e-01, 4.28438187e-04],\n",
       "       [9.95308757e-01, 4.52533364e-03],\n",
       "       [9.92977321e-01, 6.04611635e-03],\n",
       "       [9.99537170e-01, 7.21514225e-04],\n",
       "       [8.11660290e-01, 1.81855738e-01],\n",
       "       [9.79938984e-01, 2.32861042e-02],\n",
       "       [9.97424662e-01, 3.34858894e-03],\n",
       "       [9.77586508e-01, 2.38907039e-02],\n",
       "       [6.07251167e-01, 4.06988055e-01],\n",
       "       [9.83208179e-01, 1.57135427e-02],\n",
       "       [6.33853674e-01, 3.58842671e-01],\n",
       "       [9.97960806e-01, 3.31729650e-03],\n",
       "       [9.96063232e-01, 3.05733085e-03],\n",
       "       [9.69399571e-01, 3.08341682e-02],\n",
       "       [6.79508328e-01, 3.65238070e-01],\n",
       "       [9.92166042e-01, 6.04626536e-03],\n",
       "       [8.18775296e-01, 1.52438045e-01],\n",
       "       [9.55030799e-01, 5.55850863e-02],\n",
       "       [9.93999600e-01, 8.00535083e-03],\n",
       "       [9.99118149e-01, 5.76108694e-04],\n",
       "       [9.96309042e-01, 3.62476707e-03],\n",
       "       [9.04594719e-01, 8.14382136e-02],\n",
       "       [9.81146455e-01, 1.85911655e-02],\n",
       "       [4.97007370e-01, 4.28215325e-01],\n",
       "       [9.90888834e-01, 7.92402029e-03],\n",
       "       [9.98682559e-01, 1.08775496e-03],\n",
       "       [9.63059664e-01, 3.39888632e-02],\n",
       "       [7.30432034e-01, 2.68041730e-01],\n",
       "       [4.78906363e-01, 5.05621314e-01],\n",
       "       [9.82325256e-01, 1.29748881e-02],\n",
       "       [3.06108296e-01, 6.74435854e-01],\n",
       "       [9.96368408e-01, 2.61572003e-03],\n",
       "       [8.32298160e-01, 1.32027060e-01],\n",
       "       [9.00991678e-01, 9.92970765e-02],\n",
       "       [7.47070551e-01, 2.90112555e-01],\n",
       "       [9.89491701e-01, 7.46330619e-03],\n",
       "       [8.94325256e-01, 1.13662452e-01],\n",
       "       [9.98064160e-01, 1.65054202e-03],\n",
       "       [9.97068226e-01, 2.73844600e-03],\n",
       "       [8.80519331e-01, 1.38665825e-01],\n",
       "       [8.12228441e-01, 1.82102978e-01],\n",
       "       [8.88729811e-01, 1.24832749e-01],\n",
       "       [6.81694686e-01, 2.75381923e-01],\n",
       "       [9.45114970e-01, 5.20811677e-02],\n",
       "       [8.37354541e-01, 1.22361988e-01],\n",
       "       [9.94678080e-01, 5.62036037e-03],\n",
       "       [3.96356672e-01, 6.13715291e-01],\n",
       "       [2.80869961e-01, 7.37477064e-01],\n",
       "       [9.94760394e-01, 4.50241566e-03],\n",
       "       [7.65163481e-01, 2.30481088e-01],\n",
       "       [2.55033910e-01, 7.95559764e-01],\n",
       "       [2.49710679e-01, 7.62276769e-01],\n",
       "       [4.81654376e-01, 4.93724853e-01],\n",
       "       [9.89387810e-01, 9.69326496e-03],\n",
       "       [9.95974064e-01, 2.97629833e-03],\n",
       "       [2.99308717e-01, 6.58155262e-01],\n",
       "       [8.67231607e-01, 1.59860939e-01],\n",
       "       [9.89924669e-01, 7.42885470e-03],\n",
       "       [9.86251473e-01, 9.94285941e-03],\n",
       "       [8.55657339e-01, 1.21905535e-01],\n",
       "       [9.90891099e-01, 8.11338425e-03],\n",
       "       [9.98666346e-01, 1.61796808e-03],\n",
       "       [3.77490431e-01, 5.66936672e-01],\n",
       "       [8.56333077e-01, 1.34806484e-01],\n",
       "       [9.99177933e-01, 6.57975674e-04],\n",
       "       [3.89184892e-01, 6.27866983e-01],\n",
       "       [9.94852543e-01, 7.67630339e-03],\n",
       "       [9.21607256e-01, 6.85558915e-02],\n",
       "       [6.59642100e-01, 3.05122316e-01],\n",
       "       [9.88997936e-01, 1.03889704e-02],\n",
       "       [9.84192848e-01, 1.23417079e-02],\n",
       "       [2.81616390e-01, 7.20610142e-01]], dtype=float32)"
      ]
     },
     "execution_count": 113,
     "metadata": {},
     "output_type": "execute_result"
    }
   ],
   "source": [
    "predict = model.predict(x_scaled)\n",
    "predict"
   ]
  },
  {
   "cell_type": "code",
   "execution_count": 114,
   "metadata": {},
   "outputs": [
    {
     "name": "stdout",
     "output_type": "stream",
     "text": [
      "61/61 [==============================] - 0s 3ms/step\n",
      "\n",
      "acc: 87.70%\n"
     ]
    }
   ],
   "source": [
    "scores = model.evaluate(x_test, y_test)\n",
    "print(\"\\n%s: %.2f%%\" % (model.metrics_names[1], scores[1]*100))"
   ]
  },
  {
   "cell_type": "code",
   "execution_count": 115,
   "metadata": {},
   "outputs": [
    {
     "name": "stdout",
     "output_type": "stream",
     "text": [
      "0.8770491822821195\n"
     ]
    }
   ],
   "source": [
    "print(scores[1])"
   ]
  },
  {
   "cell_type": "markdown",
   "metadata": {},
   "source": [
    "<div class=\"alert alert-success\"><strong>CONFUSION MATRIX</strong>\n",
    "<div class=\"alert alert-success\">\n",
    "<font size=\"3\"><p align=\"justify\">Confusion matrix merupakan salah satu metode yang dapat digunakan untuk mengukur kinerja suatu metode klasifikasi. Pada dasarnya confusion matrix mengandung informasi yang membandingkan hasil klasifikasi yang dilakukan oleh sistem dengan hasil klasifikasi yang seharusnya "
   ]
  },
  {
   "cell_type": "code",
   "execution_count": 116,
   "metadata": {},
   "outputs": [],
   "source": [
    "from sklearn.metrics import confusion_matrix\n",
    "ConfusionMatrix = confusion_matrix(y_categorical.argmax(axis=1), predict.argmax(axis=1))"
   ]
  },
  {
   "cell_type": "markdown",
   "metadata": {},
   "source": [
    "<div class=\"alert alert-success\">\n",
    "<font size=\"3\"><p align=\"justify\">Konsep dari confusion matrix adalah sebagai berikut : <br>"
   ]
  },
  {
   "cell_type": "code",
   "execution_count": 117,
   "metadata": {},
   "outputs": [
    {
     "data": {
      "text/plain": [
       "array([[117,  21],\n",
       "       [ 13, 152]], dtype=int64)"
      ]
     },
     "execution_count": 117,
     "metadata": {},
     "output_type": "execute_result"
    }
   ],
   "source": [
    "ConfusionMatrix"
   ]
  },
  {
   "cell_type": "markdown",
   "metadata": {},
   "source": [
    "<div class=\"alert alert-success\"><strong>ACCURACY</strong>\n",
    "<div class=\"alert alert-success\">\n",
    "<font size=\"3\"><p align=\"justify\">Melalui confusion matrix, rumus dalam menghitung nilai akurasinya adalah sebagai berikut :"
   ]
  },
  {
   "cell_type": "code",
   "execution_count": 118,
   "metadata": {},
   "outputs": [
    {
     "name": "stdout",
     "output_type": "stream",
     "text": [
      "\n",
      "Accuracy: 90.10%\n"
     ]
    }
   ],
   "source": [
    "acc = ((123+150) / (123+150+15+15))\n",
    "print(\"\\n%s: %.2f%%\" % (\"Accuracy\", acc*100))"
   ]
  },
  {
   "cell_type": "markdown",
   "metadata": {},
   "source": [
    "<div class=\"alert alert-success\"><strong>PRECISSION</strong>\n",
    "<div class=\"alert alert-success\">\n",
    "<font size=\"3\"><p align=\"justify\">Melalui confusion matrix, rumus dalam menghitung nilai presisinya adalah sebagai berikut :"
   ]
  },
  {
   "cell_type": "code",
   "execution_count": 119,
   "metadata": {},
   "outputs": [
    {
     "name": "stdout",
     "output_type": "stream",
     "text": [
      "\n",
      "Precission: 89.13%\n"
     ]
    }
   ],
   "source": [
    "prec = ((123) / (123+15))\n",
    "print(\"\\n%s: %.2f%%\" % (\"Precission\", prec*100))"
   ]
  },
  {
   "cell_type": "markdown",
   "metadata": {},
   "source": [
    "<div class=\"alert alert-success\"><strong>RECALL</strong>\n",
    "<div class=\"alert alert-success\">\n",
    "<font size=\"3\"><p align=\"justify\">Melalui confusion matrix, rumus dalam menghitung nilai recallnya adalah sebagai berikut :"
   ]
  },
  {
   "cell_type": "code",
   "execution_count": 120,
   "metadata": {},
   "outputs": [
    {
     "name": "stdout",
     "output_type": "stream",
     "text": [
      "\n",
      "recall: 89.13%\n"
     ]
    }
   ],
   "source": [
    "recall = ((123) / (123+15))\n",
    "print(\"\\n%s: %.2f%%\" % (\"recall\", recall*100))"
   ]
  },
  {
   "cell_type": "markdown",
   "metadata": {},
   "source": [
    "<div class=\"alert alert-success\"><strong>TRUE NEGATIF RATE</strong>\n",
    "<div class=\"alert alert-success\">\n",
    "<font size=\"3\"><p align=\"justify\">Melalui confusion matrix, rumus dalam menghitung nilai TNRnya adalah sebagai berikut :"
   ]
  },
  {
   "cell_type": "code",
   "execution_count": 121,
   "metadata": {},
   "outputs": [
    {
     "name": "stdout",
     "output_type": "stream",
     "text": [
      "\n",
      "TrueNegatifRate: 0.10%\n"
     ]
    }
   ],
   "source": [
    "TrueNegatifRate = ((14) / (124+14))\n",
    "print(\"\\n%s: %.2f%%\" % (\"TrueNegatifRate\",TrueNegatifRate))"
   ]
  },
  {
   "cell_type": "code",
   "execution_count": 122,
   "metadata": {},
   "outputs": [
    {
     "name": "stdout",
     "output_type": "stream",
     "text": [
      "dict_keys(['val_loss', 'val_acc', 'loss', 'acc'])\n"
     ]
    }
   ],
   "source": [
    "print(history.history.keys())"
   ]
  },
  {
   "cell_type": "markdown",
   "metadata": {},
   "source": [
    "<div class=\"alert alert-success\"><strong>TRAINING AND TESTING ACCURACY</strong>"
   ]
  },
  {
   "cell_type": "code",
   "execution_count": 123,
   "metadata": {},
   "outputs": [
    {
     "data": {
      "image/png": "[encoded data removed]",
      "text/plain": [
       "<Figure size 432x288 with 1 Axes>"
      ]
     },
     "metadata": {
      "needs_background": "light"
     },
     "output_type": "display_data"
    }
   ],
   "source": [
    "plt.plot(history.history['acc'])\n",
    "plt.plot(history.history['val_acc'])\n",
    "plt.title('Model Accuracy')\n",
    "plt.ylabel('Akurasi')\n",
    "plt.xlabel('Epoch')\n",
    "plt.legend(['Data Latih', 'Data Testing'], loc='upper left')\n",
    "plt.show()"
   ]
  },
  {
   "cell_type": "markdown",
   "metadata": {},
   "source": [
    "<div class=\"alert alert-success\"><strong>TRAINING AND TESTING LOSS</strong>"
   ]
  },
  {
   "cell_type": "code",
   "execution_count": 124,
   "metadata": {},
   "outputs": [
    {
     "data": {
      "image/png": "[encoded data removed]",
      "text/plain": [
       "<Figure size 432x288 with 1 Axes>"
      ]
     },
     "metadata": {
      "needs_background": "light"
     },
     "output_type": "display_data"
    }
   ],
   "source": [
    "plt.plot(history.history['loss'])\n",
    "plt.plot(history.history['val_loss'])\n",
    "plt.title('Model Loss')\n",
    "plt.ylabel('Loss')\n",
    "plt.xlabel('Epoch')\n",
    "plt.legend(['Data Latih', 'Data Testing'], loc='upper left')\n",
    "plt.show()"
   ]
  }
 ],
 "metadata": {
  "kernelspec": {
   "display_name": "Python 3",
   "language": "python",
   "name": "python3"
  },
  "language_info": {
   "codemirror_mode": {
    "name": "ipython",
    "version": 3
   },
   "file_extension": ".py",
   "mimetype": "text/x-python",
   "name": "python",
   "nbconvert_exporter": "python",
   "pygments_lexer": "ipython3",
   "version": "3.7.4"
  }
 },
 "nbformat": 4,
 "nbformat_minor": 2
}
