{
 "cells": [
  {
   "cell_type": "markdown",
   "metadata": {},
   "source": [
    "# M.Taufiq Qurahman \n",
    "# 09011381722092"
   ]
  },
  {
   "cell_type": "markdown",
   "metadata": {},
   "source": [
    "# Implementasi Neural Network dalam mendeteksi Quality Anggur"
   ]
  },
  {
   "cell_type": "markdown",
   "metadata": {},
   "source": [
    "Pada kasus program yang saya buat ini merupakan dari kasus kualitas anggur putih atau minuman yang menggandung sari anggur anggur putih, dataset yang saya dapatkan dari sebuah website UCI dan di dalam UCI tersebut terdapat dua dataset terkait dengan varian anggur merah dan putih dari anggur \"Vinho Verde\". \"Vinho Verde merupakan perusahaan produksi angggur terbesar di Portugis\". Karena masalah privasi dan logistik Vinho Verde, hanya menyediakan data yang tersusun dari beberapa variabel fisikokimia yang menetukan (input) dan 1 sensorik (output) yang tersedia kekurangan dari dataset ini tidak menapilkan merek dari data tentang jenis anggur, merek anggur, harga jual anggur, dll.\n",
    "\n",
    "Kumpulan data ini dapat dilihat klasifikasi atau regresi. Kelas-kelas tersebut tidak seimbang (misalnya ada lebih banyak anggur normal daripada yang sangat baik atau yang buruk). Algoritma deteksi pendeteksian dapat digunakan untuk mendeteksi beberapa anggur yang sangat baik atau buruk."
   ]
  },
  {
   "cell_type": "markdown",
   "metadata": {},
   "source": [
    "# 1. Import Library"
   ]
  },
  {
   "cell_type": "markdown",
   "metadata": {},
   "source": [
    "Langkah pertama yang kita lakukan sebelum menjalankan programnya kita terlebih dahulu melakukan Import Library, library disini adalah kumpulan code yang biasanya terkumpul dalam sebuah namespace/ module/ package yang dapat di import kedalam program lain."
   ]
  },
  {
   "cell_type": "code",
   "execution_count": 56,
   "metadata": {},
   "outputs": [],
   "source": [
    "import numpy as np\n",
    "import pandas as pd\n",
    "from sklearn.preprocessing import MinMaxScaler\n",
    "import matplotlib.pyplot as plt\n",
    "from sklearn.model_selection import train_test_split \n",
    "from sklearn.preprocessing import OneHotEncoder, StandardScaler\n",
    "from keras.optimizers import Adam\n",
    "from keras.models import Sequential\n",
    "from keras.layers import Dense, Dropout\n",
    "from keras.activations import relu\n",
    "from keras.utils.np_utils import to_categorical\n",
    "import seaborn as sns"
   ]
  },
  {
   "cell_type": "markdown",
   "metadata": {},
   "source": [
    "Library yang di pakai ialah yang telah tertera pada line diatas, diantaranya :\n",
    "* Library Numpy \n",
    "berfungsi untuk mengolah data dalam bentuk angka (array)\n",
    "* Library Matplotlib \n",
    "berfungsi untuk membantu visualisasi dataset sehingga memudahkan untuk dipahami\n",
    "* Library Sklearn \n",
    "digunakan pada tahap Preprosesing untuk mengubah data menjadi format yang lebih efektif diproses dalam jaringan saraf\n",
    "* Library Pandas\n",
    "Berfungsi untuk membaca file dataset dalam bentuk .CSV\n",
    "* Library Seaborn\n",
    "sama seperti Matplotlib,yakni berfungsi untuk membantu visualisasi dataset"
   ]
  },
  {
   "cell_type": "markdown",
   "metadata": {},
   "source": [
    "# 2. import Dataset"
   ]
  },
  {
   "cell_type": "markdown",
   "metadata": {},
   "source": [
    "Memasukkan dataset. dataset yang dipakai adalah dataset \"winequalityN\" yang sudah tersusun dalam kondisi berformat .csv dan didalam terdapat sekumpulan angka dan huruf, dimana huruf tidak bisa diproses oleh python dan harus diganti dengan angka dan menetukan X dan Y, dimana X merupakan inputtan yang akan di proses dan Y merupakan Class atau ouput yang akan di tamplikan.\n",
    "\n",
    "pada dataset ini memiliki 13 kolom dan 6464 baris dengan 12 kolom sebagai features dan 1 kolom (quality) sebagai label yang memiliki varian nilai kualitas dari anggur dikarenakan dataset ini adalah dataset multiclass"
   ]
  },
  {
   "cell_type": "code",
   "execution_count": 57,
   "metadata": {},
   "outputs": [
    {
     "data": {
      "text/html": [
       "<div>\n",
       "<style scoped>\n",
       "    .dataframe tbody tr th:only-of-type {\n",
       "        vertical-align: middle;\n",
       "    }\n",
       "\n",
       "    .dataframe tbody tr th {\n",
       "        vertical-align: top;\n",
       "    }\n",
       "\n",
       "    .dataframe thead th {\n",
       "        text-align: right;\n",
       "    }\n",
       "</style>\n",
       "<table border=\"1\" class=\"dataframe\">\n",
       "  <thead>\n",
       "    <tr style=\"text-align: right;\">\n",
       "      <th></th>\n",
       "      <th>type</th>\n",
       "      <th>fixed acidity</th>\n",
       "      <th>volatile acidity</th>\n",
       "      <th>citric acid</th>\n",
       "      <th>residual sugar</th>\n",
       "      <th>chlorides</th>\n",
       "      <th>free sulfur dioxide</th>\n",
       "      <th>total sulfur dioxide</th>\n",
       "      <th>density</th>\n",
       "      <th>pH</th>\n",
       "      <th>sulphates</th>\n",
       "      <th>alcohol</th>\n",
       "      <th>quality</th>\n",
       "    </tr>\n",
       "  </thead>\n",
       "  <tbody>\n",
       "    <tr>\n",
       "      <th>0</th>\n",
       "      <td>1</td>\n",
       "      <td>7.0</td>\n",
       "      <td>0.27</td>\n",
       "      <td>0.36</td>\n",
       "      <td>20.7</td>\n",
       "      <td>0.045</td>\n",
       "      <td>45.0</td>\n",
       "      <td>170.0</td>\n",
       "      <td>1.0010</td>\n",
       "      <td>3.00</td>\n",
       "      <td>0.45</td>\n",
       "      <td>8.8</td>\n",
       "      <td>6</td>\n",
       "    </tr>\n",
       "    <tr>\n",
       "      <th>1</th>\n",
       "      <td>1</td>\n",
       "      <td>6.3</td>\n",
       "      <td>0.30</td>\n",
       "      <td>0.34</td>\n",
       "      <td>1.6</td>\n",
       "      <td>0.049</td>\n",
       "      <td>14.0</td>\n",
       "      <td>132.0</td>\n",
       "      <td>0.9940</td>\n",
       "      <td>3.30</td>\n",
       "      <td>0.49</td>\n",
       "      <td>9.5</td>\n",
       "      <td>6</td>\n",
       "    </tr>\n",
       "    <tr>\n",
       "      <th>2</th>\n",
       "      <td>1</td>\n",
       "      <td>8.1</td>\n",
       "      <td>0.28</td>\n",
       "      <td>0.40</td>\n",
       "      <td>6.9</td>\n",
       "      <td>0.050</td>\n",
       "      <td>30.0</td>\n",
       "      <td>97.0</td>\n",
       "      <td>0.9951</td>\n",
       "      <td>3.26</td>\n",
       "      <td>0.44</td>\n",
       "      <td>10.1</td>\n",
       "      <td>6</td>\n",
       "    </tr>\n",
       "    <tr>\n",
       "      <th>3</th>\n",
       "      <td>1</td>\n",
       "      <td>7.2</td>\n",
       "      <td>0.23</td>\n",
       "      <td>0.32</td>\n",
       "      <td>8.5</td>\n",
       "      <td>0.058</td>\n",
       "      <td>47.0</td>\n",
       "      <td>186.0</td>\n",
       "      <td>0.9956</td>\n",
       "      <td>3.19</td>\n",
       "      <td>0.40</td>\n",
       "      <td>9.9</td>\n",
       "      <td>6</td>\n",
       "    </tr>\n",
       "    <tr>\n",
       "      <th>4</th>\n",
       "      <td>1</td>\n",
       "      <td>7.2</td>\n",
       "      <td>0.23</td>\n",
       "      <td>0.32</td>\n",
       "      <td>8.5</td>\n",
       "      <td>0.058</td>\n",
       "      <td>47.0</td>\n",
       "      <td>186.0</td>\n",
       "      <td>0.9956</td>\n",
       "      <td>3.19</td>\n",
       "      <td>0.40</td>\n",
       "      <td>9.9</td>\n",
       "      <td>6</td>\n",
       "    </tr>\n",
       "  </tbody>\n",
       "</table>\n",
       "</div>"
      ],
      "text/plain": [
       "   type  fixed acidity  volatile acidity  citric acid  residual sugar  \\\n",
       "0     1            7.0              0.27         0.36            20.7   \n",
       "1     1            6.3              0.30         0.34             1.6   \n",
       "2     1            8.1              0.28         0.40             6.9   \n",
       "3     1            7.2              0.23         0.32             8.5   \n",
       "4     1            7.2              0.23         0.32             8.5   \n",
       "\n",
       "   chlorides  free sulfur dioxide  total sulfur dioxide  density    pH  \\\n",
       "0      0.045                 45.0                 170.0   1.0010  3.00   \n",
       "1      0.049                 14.0                 132.0   0.9940  3.30   \n",
       "2      0.050                 30.0                  97.0   0.9951  3.26   \n",
       "3      0.058                 47.0                 186.0   0.9956  3.19   \n",
       "4      0.058                 47.0                 186.0   0.9956  3.19   \n",
       "\n",
       "   sulphates  alcohol  quality  \n",
       "0       0.45      8.8        6  \n",
       "1       0.49      9.5        6  \n",
       "2       0.44     10.1        6  \n",
       "3       0.40      9.9        6  \n",
       "4       0.40      9.9        6  "
      ]
     },
     "execution_count": 57,
     "metadata": {},
     "output_type": "execute_result"
    }
   ],
   "source": [
    "dataset=pd.read_csv(\"winequalityN.csv\", delimiter=\",\")\n",
    "dataset.head()"
   ]
  },
  {
   "cell_type": "markdown",
   "metadata": {},
   "source": [
    "# 3. Mengecek data kosong"
   ]
  },
  {
   "cell_type": "markdown",
   "metadata": {},
   "source": [
    "agar program yang dijalankan dan hasilnya tidak melenceng jauh dari perkiraan, perlu dilakukan pengecekan data setealah dilakukan import dataset, pengecekan ini bertujuan untuk mengetahui apakah dari dataset yang dipakai terdapat data yang kosong.\n",
    "untuk pengecekannya bisa dilakukan dengan menjalankan syntax berikut"
   ]
  },
  {
   "cell_type": "code",
   "execution_count": 58,
   "metadata": {},
   "outputs": [
    {
     "data": {
      "text/plain": [
       "0"
      ]
     },
     "execution_count": 58,
     "metadata": {},
     "output_type": "execute_result"
    }
   ],
   "source": [
    "dataset.isnull().any().sum()"
   ]
  },
  {
   "cell_type": "markdown",
   "metadata": {},
   "source": [
    "# 4. Visualisasi data"
   ]
  },
  {
   "cell_type": "markdown",
   "metadata": {},
   "source": [
    "Untuk mengetahui berapa banyak persebaran data terhadap nilai kualitas anggur maka kita perlu melakukan visualisasi data agar lebih muda dipahami. Dengan bantuan library matplotlib dan seaborn seperti berikut ini"
   ]
  },
  {
   "cell_type": "code",
   "execution_count": 59,
   "metadata": {
    "scrolled": true
   },
   "outputs": [
    {
     "data": {
      "text/plain": [
       "6    2820\n",
       "5    2128\n",
       "7    1074\n",
       "4     214\n",
       "8     192\n",
       "3      30\n",
       "9       5\n",
       "Name: quality, dtype: int64"
      ]
     },
     "execution_count": 59,
     "metadata": {},
     "output_type": "execute_result"
    }
   ],
   "source": [
    "dataset.quality.value_counts()"
   ]
  },
  {
   "cell_type": "markdown",
   "metadata": {},
   "source": [
    "dari visualisasi diatas diketahui bahwa terdapat 7 nilai yang melambangkan kulitas dari anggur yang akan dijadikan sebagai bahan minuman, 7 nilai tersebut yaitu kualitas anggur dengan nilai 6 sebanyak 2820, kualitas anggur dengan nilai 5 sebanyak 2128, kualitas anggur dengan nilai 7 sebanyak 1074, kualitas anggur dengan nilai 4 sebanyak 214, kualitas anggur dengan nilai 8 sebanyak 192, kualitas anggur dengan nilai 3 sebanyak 30, dan kualitas anggur dengan nilai 9 sebanyak 5."
   ]
  },
  {
   "cell_type": "code",
   "execution_count": 60,
   "metadata": {},
   "outputs": [
    {
     "data": {
      "image/png": "[encoded data removed]",
      "text/plain": [
       "<Figure size 432x288 with 1 Axes>"
      ]
     },
     "metadata": {
      "needs_background": "light"
     },
     "output_type": "display_data"
    }
   ],
   "source": [
    "sns.countplot(x=\"quality\", data=dataset, palette=\"bwr\")\n",
    "plt.show()"
   ]
  },
  {
   "cell_type": "markdown",
   "metadata": {},
   "source": [
    "grafik batang diatas merupakan visualisasi perbandingan dari nilai kualitas anggur"
   ]
  },
  {
   "cell_type": "markdown",
   "metadata": {},
   "source": [
    "# 5. Menentukan Features dan Labels"
   ]
  },
  {
   "cell_type": "markdown",
   "metadata": {},
   "source": [
    "disini saya menentukan feature dan label, dimana feature dimulai dari kolom 0 sampai 12 sedankan label pada kolom terakhir yaitu kolom 13"
   ]
  },
  {
   "cell_type": "code",
   "execution_count": 61,
   "metadata": {},
   "outputs": [],
   "source": [
    "features = dataset.iloc[:,0:12].values\n",
    "labels = dataset.iloc [:,12].values"
   ]
  },
  {
   "cell_type": "markdown",
   "metadata": {},
   "source": [
    "# 6. Normalisasi"
   ]
  },
  {
   "cell_type": "markdown",
   "metadata": {},
   "source": [
    "untuk normalisasi datanya saya menggunakan metode MinMaxScaler, dikarenakan dataset yang saya pakai merupakan dataset multiclass disini saya juga menambahkan t_categorical yang berfungsi untuk mengkonversi beberapa data class yang telah ditentukan menjadi data yang dapat dikelompokkan"
   ]
  },
  {
   "cell_type": "code",
   "execution_count": 62,
   "metadata": {},
   "outputs": [],
   "source": [
    "scaler = MinMaxScaler()\n",
    "features = scaler.fit_transform(features)\n",
    "features_scale = scaler.fit_transform(features)"
   ]
  },
  {
   "cell_type": "code",
   "execution_count": 63,
   "metadata": {},
   "outputs": [
    {
     "data": {
      "text/plain": [
       "(6463, 10)"
      ]
     },
     "execution_count": 63,
     "metadata": {},
     "output_type": "execute_result"
    }
   ],
   "source": [
    "labels_categorical = to_categorical(labels)\n",
    "labels_categorical.shape"
   ]
  },
  {
   "cell_type": "markdown",
   "metadata": {},
   "source": [
    "# 7. Splitting dan Modelling "
   ]
  },
  {
   "cell_type": "markdown",
   "metadata": {},
   "source": [
    "Pada tahap ini saya membuat file test berukuran 20 % dari jumlah keseluruhan data yang tersedia dan 80% sisanya sebagai file training  "
   ]
  },
  {
   "cell_type": "code",
   "execution_count": 64,
   "metadata": {},
   "outputs": [],
   "source": [
    "training_data, testing_data, training_label, testing_label = train_test_split(features_scale,labels_categorical , test_size=0.2, shuffle=True, stratify=labels)"
   ]
  },
  {
   "cell_type": "markdown",
   "metadata": {},
   "source": [
    "pada tahap pembuatan model dibawah ini, saya membuat 1 layer input sebanyak 100 neuron dan terdapat 2 hidden layer dan masing masing layer memiliki 50 neuron, pada 1 layer terakhir terdapat 10 neuron sebagai output kategori"
   ]
  },
  {
   "cell_type": "code",
   "execution_count": 65,
   "metadata": {},
   "outputs": [],
   "source": [
    "model = Sequential()\n",
    "model.add(Dense(units= 100, input_dim = training_data.shape[1], activation=relu))\n",
    "model.add(Dense(units= 50, activation=relu))\n",
    "model.add(Dense(units= 50, activation=relu))\n",
    "model.add(Dense(10, activation='sigmoid'))\n",
    "model.compile(optimizer='adam', loss='binary_crossentropy', metrics=['accuracy'])\n",
    "model.save('model.h5')"
   ]
  },
  {
   "cell_type": "code",
   "execution_count": 66,
   "metadata": {},
   "outputs": [
    {
     "name": "stdout",
     "output_type": "stream",
     "text": [
      "Train on 5170 samples, validate on 1293 samples\n",
      "Epoch 1/100\n",
      "5170/5170 [==============================] - 2s 312us/step - loss: 0.2589 - accuracy: 0.8921 - val_loss: 0.1966 - val_accuracy: 0.9064\n",
      "Epoch 2/100\n",
      "5170/5170 [==============================] - 1s 157us/step - loss: 0.1929 - accuracy: 0.9027 - val_loss: 0.1875 - val_accuracy: 0.9063\n",
      "Epoch 3/100\n",
      "5170/5170 [==============================] - 1s 158us/step - loss: 0.1880 - accuracy: 0.9048 - val_loss: 0.1881 - val_accuracy: 0.9049\n",
      "Epoch 4/100\n",
      "5170/5170 [==============================] - 1s 157us/step - loss: 0.1861 - accuracy: 0.9061 - val_loss: 0.1849 - val_accuracy: 0.9085\n",
      "Epoch 5/100\n",
      "5170/5170 [==============================] - 1s 167us/step - loss: 0.1846 - accuracy: 0.9069 - val_loss: 0.1839 - val_accuracy: 0.9067\n",
      "Epoch 6/100\n",
      "5170/5170 [==============================] - 1s 167us/step - loss: 0.1833 - accuracy: 0.9086 - val_loss: 0.1824 - val_accuracy: 0.9082\n",
      "Epoch 7/100\n",
      "5170/5170 [==============================] - 1s 163us/step - loss: 0.1830 - accuracy: 0.9082 - val_loss: 0.1809 - val_accuracy: 0.9130\n",
      "Epoch 8/100\n",
      "5170/5170 [==============================] - 1s 166us/step - loss: 0.1816 - accuracy: 0.9102 - val_loss: 0.1811 - val_accuracy: 0.9121\n",
      "Epoch 9/100\n",
      "5170/5170 [==============================] - 1s 166us/step - loss: 0.1808 - accuracy: 0.9107 - val_loss: 0.1791 - val_accuracy: 0.9117\n",
      "Epoch 10/100\n",
      "5170/5170 [==============================] - 1s 165us/step - loss: 0.1803 - accuracy: 0.9112 - val_loss: 0.1791 - val_accuracy: 0.9141\n",
      "Epoch 11/100\n",
      "5170/5170 [==============================] - 1s 283us/step - loss: 0.1794 - accuracy: 0.9117 - val_loss: 0.1793 - val_accuracy: 0.9131\n",
      "Epoch 12/100\n",
      "5170/5170 [==============================] - 1s 169us/step - loss: 0.1789 - accuracy: 0.9109 - val_loss: 0.1789 - val_accuracy: 0.9118\n",
      "Epoch 13/100\n",
      "5170/5170 [==============================] - 1s 166us/step - loss: 0.1785 - accuracy: 0.9116 - val_loss: 0.1788 - val_accuracy: 0.9116\n",
      "Epoch 14/100\n",
      "5170/5170 [==============================] - 1s 173us/step - loss: 0.1777 - accuracy: 0.9124 - val_loss: 0.1788 - val_accuracy: 0.9145\n",
      "Epoch 15/100\n",
      "5170/5170 [==============================] - 1s 169us/step - loss: 0.1770 - accuracy: 0.9125 - val_loss: 0.1776 - val_accuracy: 0.9117\n",
      "Epoch 16/100\n",
      "5170/5170 [==============================] - 1s 166us/step - loss: 0.1772 - accuracy: 0.9123 - val_loss: 0.1795 - val_accuracy: 0.9111\n",
      "Epoch 17/100\n",
      "5170/5170 [==============================] - 1s 172us/step - loss: 0.1760 - accuracy: 0.9136 - val_loss: 0.1767 - val_accuracy: 0.9135\n",
      "Epoch 18/100\n",
      "5170/5170 [==============================] - 1s 173us/step - loss: 0.1754 - accuracy: 0.9137 - val_loss: 0.1783 - val_accuracy: 0.9109\n",
      "Epoch 19/100\n",
      "5170/5170 [==============================] - 1s 176us/step - loss: 0.1751 - accuracy: 0.9135 - val_loss: 0.1763 - val_accuracy: 0.9139\n",
      "Epoch 20/100\n",
      "5170/5170 [==============================] - 1s 175us/step - loss: 0.1746 - accuracy: 0.9138 - val_loss: 0.1767 - val_accuracy: 0.9139\n",
      "Epoch 21/100\n",
      "5170/5170 [==============================] - 1s 168us/step - loss: 0.1741 - accuracy: 0.9154 - val_loss: 0.1774 - val_accuracy: 0.9137\n",
      "Epoch 22/100\n",
      "5170/5170 [==============================] - 1s 174us/step - loss: 0.1735 - accuracy: 0.9149 - val_loss: 0.1764 - val_accuracy: 0.9159\n",
      "Epoch 23/100\n",
      "5170/5170 [==============================] - 1s 176us/step - loss: 0.1738 - accuracy: 0.9149 - val_loss: 0.1755 - val_accuracy: 0.9139\n",
      "Epoch 24/100\n",
      "5170/5170 [==============================] - 1s 174us/step - loss: 0.1729 - accuracy: 0.9154 - val_loss: 0.1769 - val_accuracy: 0.9135\n",
      "Epoch 25/100\n",
      "5170/5170 [==============================] - ETA: 0s - loss: 0.1726 - accuracy: 0.91 - 1s 173us/step - loss: 0.1725 - accuracy: 0.9156 - val_loss: 0.1775 - val_accuracy: 0.9118\n",
      "Epoch 26/100\n",
      "5170/5170 [==============================] - 1s 285us/step - loss: 0.1723 - accuracy: 0.9164 - val_loss: 0.1798 - val_accuracy: 0.9088\n",
      "Epoch 27/100\n",
      "5170/5170 [==============================] - 1s 177us/step - loss: 0.1722 - accuracy: 0.9152 - val_loss: 0.1755 - val_accuracy: 0.9150\n",
      "Epoch 28/100\n",
      "5170/5170 [==============================] - 1s 171us/step - loss: 0.1716 - accuracy: 0.9158 - val_loss: 0.1772 - val_accuracy: 0.9135\n",
      "Epoch 29/100\n",
      "5170/5170 [==============================] - 1s 192us/step - loss: 0.1717 - accuracy: 0.9162 - val_loss: 0.1769 - val_accuracy: 0.9132\n",
      "Epoch 30/100\n",
      "5170/5170 [==============================] - 1s 175us/step - loss: 0.1714 - accuracy: 0.9153 - val_loss: 0.1751 - val_accuracy: 0.9148\n",
      "Epoch 31/100\n",
      "5170/5170 [==============================] - 1s 174us/step - loss: 0.1710 - accuracy: 0.9167 - val_loss: 0.1761 - val_accuracy: 0.9131\n",
      "Epoch 32/100\n",
      "5170/5170 [==============================] - 1s 170us/step - loss: 0.1708 - accuracy: 0.9156 - val_loss: 0.1763 - val_accuracy: 0.9152\n",
      "Epoch 33/100\n",
      "5170/5170 [==============================] - 1s 170us/step - loss: 0.1702 - accuracy: 0.9170 - val_loss: 0.1771 - val_accuracy: 0.9122\n",
      "Epoch 34/100\n",
      "5170/5170 [==============================] - 1s 177us/step - loss: 0.1705 - accuracy: 0.9170 - val_loss: 0.1748 - val_accuracy: 0.9145\n",
      "Epoch 35/100\n",
      "5170/5170 [==============================] - 1s 168us/step - loss: 0.1698 - accuracy: 0.9171 - val_loss: 0.1760 - val_accuracy: 0.9139\n",
      "Epoch 36/100\n",
      "5170/5170 [==============================] - 1s 167us/step - loss: 0.1698 - accuracy: 0.9168 - val_loss: 0.1769 - val_accuracy: 0.9127\n",
      "Epoch 37/100\n",
      "5170/5170 [==============================] - 1s 167us/step - loss: 0.1699 - accuracy: 0.9164 - val_loss: 0.1745 - val_accuracy: 0.9158\n",
      "Epoch 38/100\n",
      "5170/5170 [==============================] - 1s 168us/step - loss: 0.1696 - accuracy: 0.9176 - val_loss: 0.1759 - val_accuracy: 0.9155\n",
      "Epoch 39/100\n",
      "5170/5170 [==============================] - 1s 167us/step - loss: 0.1691 - accuracy: 0.9176 - val_loss: 0.1758 - val_accuracy: 0.9117\n",
      "Epoch 40/100\n",
      "5170/5170 [==============================] - 1s 170us/step - loss: 0.1696 - accuracy: 0.9167 - val_loss: 0.1764 - val_accuracy: 0.9154\n",
      "Epoch 41/100\n",
      "5170/5170 [==============================] - 1s 174us/step - loss: 0.1689 - accuracy: 0.9178 - val_loss: 0.1748 - val_accuracy: 0.9136\n",
      "Epoch 42/100\n",
      "5170/5170 [==============================] - 1s 170us/step - loss: 0.1688 - accuracy: 0.9177 - val_loss: 0.1744 - val_accuracy: 0.9145\n",
      "Epoch 43/100\n",
      "5170/5170 [==============================] - 2s 299us/step - loss: 0.1684 - accuracy: 0.9173 - val_loss: 0.1743 - val_accuracy: 0.9132\n",
      "Epoch 44/100\n",
      "5170/5170 [==============================] - 1s 171us/step - loss: 0.1685 - accuracy: 0.9172 - val_loss: 0.1740 - val_accuracy: 0.9170\n",
      "Epoch 45/100\n",
      "5170/5170 [==============================] - 1s 177us/step - loss: 0.1682 - accuracy: 0.9183 - val_loss: 0.1736 - val_accuracy: 0.9183\n",
      "Epoch 46/100\n",
      "5170/5170 [==============================] - 1s 170us/step - loss: 0.1676 - accuracy: 0.9179 - val_loss: 0.1748 - val_accuracy: 0.9159\n",
      "Epoch 47/100\n",
      "5170/5170 [==============================] - 1s 168us/step - loss: 0.1676 - accuracy: 0.9181 - val_loss: 0.1755 - val_accuracy: 0.9129\n",
      "Epoch 48/100\n",
      "5170/5170 [==============================] - 1s 170us/step - loss: 0.1675 - accuracy: 0.9184 - val_loss: 0.1753 - val_accuracy: 0.9157\n",
      "Epoch 49/100\n",
      "5170/5170 [==============================] - 1s 168us/step - loss: 0.1674 - accuracy: 0.9184 - val_loss: 0.1750 - val_accuracy: 0.9128\n",
      "Epoch 50/100\n",
      "5170/5170 [==============================] - 1s 171us/step - loss: 0.1672 - accuracy: 0.9186 - val_loss: 0.1731 - val_accuracy: 0.9199\n",
      "Epoch 51/100\n",
      "5170/5170 [==============================] - 1s 171us/step - loss: 0.1668 - accuracy: 0.9194 - val_loss: 0.1741 - val_accuracy: 0.9146\n",
      "Epoch 52/100\n",
      "5170/5170 [==============================] - 1s 171us/step - loss: 0.1668 - accuracy: 0.9187 - val_loss: 0.1736 - val_accuracy: 0.9178\n",
      "Epoch 53/100\n",
      "5170/5170 [==============================] - 1s 170us/step - loss: 0.1667 - accuracy: 0.9189 - val_loss: 0.1747 - val_accuracy: 0.9160\n",
      "Epoch 54/100\n",
      "5170/5170 [==============================] - 1s 174us/step - loss: 0.1661 - accuracy: 0.9191 - val_loss: 0.1731 - val_accuracy: 0.9169\n",
      "Epoch 55/100\n",
      "5170/5170 [==============================] - 2s 332us/step - loss: 0.1656 - accuracy: 0.9193 - val_loss: 0.1748 - val_accuracy: 0.9139\n"
     ]
    },
    {
     "name": "stdout",
     "output_type": "stream",
     "text": [
      "Epoch 56/100\n",
      "5170/5170 [==============================] - 2s 311us/step - loss: 0.1658 - accuracy: 0.9199 - val_loss: 0.1740 - val_accuracy: 0.9152\n",
      "Epoch 57/100\n",
      "5170/5170 [==============================] - 2s 291us/step - loss: 0.1654 - accuracy: 0.9197 - val_loss: 0.1737 - val_accuracy: 0.9181\n",
      "Epoch 58/100\n",
      "5170/5170 [==============================] - 1s 168us/step - loss: 0.1656 - accuracy: 0.9197 - val_loss: 0.1756 - val_accuracy: 0.9131\n",
      "Epoch 59/100\n",
      "5170/5170 [==============================] - 1s 256us/step - loss: 0.1656 - accuracy: 0.9193 - val_loss: 0.1757 - val_accuracy: 0.9136\n",
      "Epoch 60/100\n",
      "5170/5170 [==============================] - 1s 147us/step - loss: 0.1650 - accuracy: 0.9211 - val_loss: 0.1735 - val_accuracy: 0.9176\n",
      "Epoch 61/100\n",
      "5170/5170 [==============================] - 1s 149us/step - loss: 0.1650 - accuracy: 0.9196 - val_loss: 0.1744 - val_accuracy: 0.9165\n",
      "Epoch 62/100\n",
      "5170/5170 [==============================] - 1s 149us/step - loss: 0.1644 - accuracy: 0.9202 - val_loss: 0.1744 - val_accuracy: 0.9168\n",
      "Epoch 63/100\n",
      "5170/5170 [==============================] - 1s 146us/step - loss: 0.1640 - accuracy: 0.9204 - val_loss: 0.1741 - val_accuracy: 0.9138\n",
      "Epoch 64/100\n",
      "5170/5170 [==============================] - 1s 147us/step - loss: 0.1646 - accuracy: 0.9200 - val_loss: 0.1777 - val_accuracy: 0.9135\n",
      "Epoch 65/100\n",
      "5170/5170 [==============================] - 1s 150us/step - loss: 0.1643 - accuracy: 0.9203 - val_loss: 0.1729 - val_accuracy: 0.9172\n",
      "Epoch 66/100\n",
      "5170/5170 [==============================] - 1s 147us/step - loss: 0.1639 - accuracy: 0.9209 - val_loss: 0.1750 - val_accuracy: 0.9166\n",
      "Epoch 67/100\n",
      "5170/5170 [==============================] - 1s 145us/step - loss: 0.1638 - accuracy: 0.9210 - val_loss: 0.1758 - val_accuracy: 0.9161\n",
      "Epoch 68/100\n",
      "5170/5170 [==============================] - 1s 150us/step - loss: 0.1631 - accuracy: 0.9211 - val_loss: 0.1755 - val_accuracy: 0.9155\n",
      "Epoch 69/100\n",
      "5170/5170 [==============================] - 1s 149us/step - loss: 0.1628 - accuracy: 0.9221 - val_loss: 0.1748 - val_accuracy: 0.9175\n",
      "Epoch 70/100\n",
      "5170/5170 [==============================] - 1s 147us/step - loss: 0.1632 - accuracy: 0.9213 - val_loss: 0.1739 - val_accuracy: 0.9186\n",
      "Epoch 71/100\n",
      "5170/5170 [==============================] - 1s 154us/step - loss: 0.1624 - accuracy: 0.9223 - val_loss: 0.1770 - val_accuracy: 0.9149\n",
      "Epoch 72/100\n",
      "5170/5170 [==============================] - 1s 148us/step - loss: 0.1626 - accuracy: 0.9214 - val_loss: 0.1750 - val_accuracy: 0.9162\n",
      "Epoch 73/100\n",
      "5170/5170 [==============================] - 1s 149us/step - loss: 0.1621 - accuracy: 0.9221 - val_loss: 0.1761 - val_accuracy: 0.9170\n",
      "Epoch 74/100\n",
      "5170/5170 [==============================] - 1s 148us/step - loss: 0.1620 - accuracy: 0.9209 - val_loss: 0.1761 - val_accuracy: 0.9156\n",
      "Epoch 75/100\n",
      "5170/5170 [==============================] - 1s 150us/step - loss: 0.1618 - accuracy: 0.9217 - val_loss: 0.1742 - val_accuracy: 0.9187\n",
      "Epoch 76/100\n",
      "5170/5170 [==============================] - 1s 149us/step - loss: 0.1619 - accuracy: 0.9217 - val_loss: 0.1754 - val_accuracy: 0.9150\n",
      "Epoch 77/100\n",
      "5170/5170 [==============================] - 1s 153us/step - loss: 0.1618 - accuracy: 0.9222 - val_loss: 0.1748 - val_accuracy: 0.9152\n",
      "Epoch 78/100\n",
      "5170/5170 [==============================] - 1s 266us/step - loss: 0.1613 - accuracy: 0.9224 - val_loss: 0.1784 - val_accuracy: 0.9133\n",
      "Epoch 79/100\n",
      "5170/5170 [==============================] - 1s 151us/step - loss: 0.1614 - accuracy: 0.9220 - val_loss: 0.1742 - val_accuracy: 0.9169\n",
      "Epoch 80/100\n",
      "5170/5170 [==============================] - 1s 154us/step - loss: 0.1600 - accuracy: 0.9226 - val_loss: 0.1775 - val_accuracy: 0.9150\n",
      "Epoch 81/100\n",
      "5170/5170 [==============================] - 1s 150us/step - loss: 0.1610 - accuracy: 0.9217 - val_loss: 0.1741 - val_accuracy: 0.9183\n",
      "Epoch 82/100\n",
      "5170/5170 [==============================] - 1s 150us/step - loss: 0.1603 - accuracy: 0.9222 - val_loss: 0.1741 - val_accuracy: 0.9193\n",
      "Epoch 83/100\n",
      "5170/5170 [==============================] - 1s 148us/step - loss: 0.1599 - accuracy: 0.9231 - val_loss: 0.1745 - val_accuracy: 0.9196\n",
      "Epoch 84/100\n",
      "5170/5170 [==============================] - 1s 151us/step - loss: 0.1595 - accuracy: 0.9228 - val_loss: 0.1765 - val_accuracy: 0.9169\n",
      "Epoch 85/100\n",
      "5170/5170 [==============================] - 1s 152us/step - loss: 0.1592 - accuracy: 0.9230 - val_loss: 0.1744 - val_accuracy: 0.9197\n",
      "Epoch 86/100\n",
      "5170/5170 [==============================] - 1s 150us/step - loss: 0.1590 - accuracy: 0.9228 - val_loss: 0.1755 - val_accuracy: 0.9152\n",
      "Epoch 87/100\n",
      "5170/5170 [==============================] - 1s 154us/step - loss: 0.1588 - accuracy: 0.9233 - val_loss: 0.1740 - val_accuracy: 0.9172\n",
      "Epoch 88/100\n",
      "5170/5170 [==============================] - 1s 150us/step - loss: 0.1581 - accuracy: 0.9243 - val_loss: 0.1738 - val_accuracy: 0.9180\n",
      "Epoch 89/100\n",
      "5170/5170 [==============================] - 1s 149us/step - loss: 0.1584 - accuracy: 0.9238 - val_loss: 0.1728 - val_accuracy: 0.9172\n",
      "Epoch 90/100\n",
      "5170/5170 [==============================] - 1s 154us/step - loss: 0.1580 - accuracy: 0.9239 - val_loss: 0.1736 - val_accuracy: 0.9200\n",
      "Epoch 91/100\n",
      "5170/5170 [==============================] - 1s 158us/step - loss: 0.1580 - accuracy: 0.9236 - val_loss: 0.1741 - val_accuracy: 0.9173\n",
      "Epoch 92/100\n",
      "5170/5170 [==============================] - 1s 150us/step - loss: 0.1574 - accuracy: 0.9242 - val_loss: 0.1769 - val_accuracy: 0.9169\n",
      "Epoch 93/100\n",
      "5170/5170 [==============================] - 1s 150us/step - loss: 0.1577 - accuracy: 0.9236 - val_loss: 0.1753 - val_accuracy: 0.9178\n",
      "Epoch 94/100\n",
      "5170/5170 [==============================] - 1s 158us/step - loss: 0.1573 - accuracy: 0.9235 - val_loss: 0.1749 - val_accuracy: 0.9187\n",
      "Epoch 95/100\n",
      "5170/5170 [==============================] - 1s 154us/step - loss: 0.1575 - accuracy: 0.9233 - val_loss: 0.1752 - val_accuracy: 0.9191\n",
      "Epoch 96/100\n",
      "5170/5170 [==============================] - 1s 154us/step - loss: 0.1562 - accuracy: 0.9242 - val_loss: 0.1749 - val_accuracy: 0.9189\n",
      "Epoch 97/100\n",
      "5170/5170 [==============================] - 1s 155us/step - loss: 0.1561 - accuracy: 0.9246 - val_loss: 0.1733 - val_accuracy: 0.9191\n",
      "Epoch 98/100\n",
      "5170/5170 [==============================] - 1s 154us/step - loss: 0.1555 - accuracy: 0.9252 - val_loss: 0.1758 - val_accuracy: 0.9172\n",
      "Epoch 99/100\n",
      "5170/5170 [==============================] - 1s 154us/step - loss: 0.1561 - accuracy: 0.9249 - val_loss: 0.1742 - val_accuracy: 0.9173\n",
      "Epoch 100/100\n",
      "5170/5170 [==============================] - 1s 269us/step - loss: 0.1560 - accuracy: 0.9251 - val_loss: 0.1732 - val_accuracy: 0.9176\n",
      "1293/1293 [==============================] - 0s 35us/step\n"
     ]
    }
   ],
   "source": [
    "acc_training = model.fit(training_data, training_label, validation_data=(testing_data, testing_label), batch_size=20, epochs=100)\n",
    "acc_testing  = model.evaluate(testing_data, testing_label) "
   ]
  },
  {
   "cell_type": "code",
   "execution_count": 67,
   "metadata": {},
   "outputs": [
    {
     "name": "stdout",
     "output_type": "stream",
     "text": [
      "accuracy 0.9175559878349304\n"
     ]
    }
   ],
   "source": [
    "print('accuracy {}'.format(acc_testing[1]))"
   ]
  },
  {
   "cell_type": "code",
   "execution_count": 68,
   "metadata": {},
   "outputs": [
    {
     "name": "stdout",
     "output_type": "stream",
     "text": [
      "accuracy : 91.76%\n"
     ]
    }
   ],
   "source": [
    "persentase = acc_testing\n",
    "print(\"%s : %.2f%%\" % (model.metrics_names[1],persentase[1]*100))"
   ]
  },
  {
   "cell_type": "code",
   "execution_count": 69,
   "metadata": {},
   "outputs": [
    {
     "data": {
      "text/plain": [
       "{'val_loss': [0.1966495480034025,\n",
       "  0.18753101383404314,\n",
       "  0.18811863529433231,\n",
       "  0.18490446500094104,\n",
       "  0.18385908311868213,\n",
       "  0.1823901100414074,\n",
       "  0.1809186779498501,\n",
       "  0.18110203795993596,\n",
       "  0.17907554210845758,\n",
       "  0.1790551352044546,\n",
       "  0.17932312628463176,\n",
       "  0.1788983783653699,\n",
       "  0.17876812845629864,\n",
       "  0.17876398074746777,\n",
       "  0.17764041580300136,\n",
       "  0.17952281228581418,\n",
       "  0.17674093597265333,\n",
       "  0.17832701561622444,\n",
       "  0.1763394657761573,\n",
       "  0.17671471457332028,\n",
       "  0.17741542810261574,\n",
       "  0.17644678584061568,\n",
       "  0.1755415090782552,\n",
       "  0.17690695671268147,\n",
       "  0.17749174484336275,\n",
       "  0.17979772145768422,\n",
       "  0.17548429435846516,\n",
       "  0.17719235914858017,\n",
       "  0.17692570397536697,\n",
       "  0.175050327184121,\n",
       "  0.17612373316048285,\n",
       "  0.17626736876075802,\n",
       "  0.17707585388389743,\n",
       "  0.1748438675737344,\n",
       "  0.17601942568902165,\n",
       "  0.17693360606230052,\n",
       "  0.17449441813768016,\n",
       "  0.17589343975932673,\n",
       "  0.17577833888010747,\n",
       "  0.17637271697403198,\n",
       "  0.17476804128056428,\n",
       "  0.17444103143746229,\n",
       "  0.17434802502739458,\n",
       "  0.1740014141645896,\n",
       "  0.17356319255314404,\n",
       "  0.1748033063133281,\n",
       "  0.17550625301154196,\n",
       "  0.17529851307679034,\n",
       "  0.17498998272492733,\n",
       "  0.17308408165982964,\n",
       "  0.17409918827781914,\n",
       "  0.17364211714691832,\n",
       "  0.17469149796841038,\n",
       "  0.17312128531868293,\n",
       "  0.1747506784429314,\n",
       "  0.17396803070018205,\n",
       "  0.17374893856988982,\n",
       "  0.17556946905011458,\n",
       "  0.17570243945254527,\n",
       "  0.1735228346077306,\n",
       "  0.17436135496313224,\n",
       "  0.17441687484582266,\n",
       "  0.17406867592028658,\n",
       "  0.17767352412029097,\n",
       "  0.17293493425486536,\n",
       "  0.1750212210098718,\n",
       "  0.17579932808184567,\n",
       "  0.17554329052187173,\n",
       "  0.17480133675551654,\n",
       "  0.17392299625639387,\n",
       "  0.17699605339456692,\n",
       "  0.17502488895432486,\n",
       "  0.17611703380354596,\n",
       "  0.1761066319863186,\n",
       "  0.17416884923571316,\n",
       "  0.17542653850640608,\n",
       "  0.17475390555272247,\n",
       "  0.17838512945341123,\n",
       "  0.1741672552378714,\n",
       "  0.17751600762162204,\n",
       "  0.17405001516039761,\n",
       "  0.17406950529149035,\n",
       "  0.1745118375605423,\n",
       "  0.17652310976111787,\n",
       "  0.17444840020572872,\n",
       "  0.17546079311828142,\n",
       "  0.17396981096830094,\n",
       "  0.17377616894955056,\n",
       "  0.17283200601091334,\n",
       "  0.17356756864272618,\n",
       "  0.17413726933041193,\n",
       "  0.17686348267285656,\n",
       "  0.17526770427488855,\n",
       "  0.17488940619076304,\n",
       "  0.17519243607803175,\n",
       "  0.1748700792233518,\n",
       "  0.17328890556525742,\n",
       "  0.17578738106145292,\n",
       "  0.17421133148974444,\n",
       "  0.1731650446586985],\n",
       " 'val_accuracy': [0.9064192771911621,\n",
       "  0.9062645435333252,\n",
       "  0.9049497842788696,\n",
       "  0.908507227897644,\n",
       "  0.9067285656929016,\n",
       "  0.9081979990005493,\n",
       "  0.9129929542541504,\n",
       "  0.9121422171592712,\n",
       "  0.91167813539505,\n",
       "  0.9140756130218506,\n",
       "  0.9130704402923584,\n",
       "  0.9118329286575317,\n",
       "  0.9116008877754211,\n",
       "  0.9145398139953613,\n",
       "  0.9116783142089844,\n",
       "  0.9111368656158447,\n",
       "  0.9135346412658691,\n",
       "  0.9109050035476685,\n",
       "  0.9139209985733032,\n",
       "  0.9139209985733032,\n",
       "  0.913689136505127,\n",
       "  0.9159318804740906,\n",
       "  0.9139209985733032,\n",
       "  0.9134570360183716,\n",
       "  0.9117555022239685,\n",
       "  0.9088165163993835,\n",
       "  0.915003776550293,\n",
       "  0.9135342836380005,\n",
       "  0.9132251143455505,\n",
       "  0.9147719740867615,\n",
       "  0.9130701422691345,\n",
       "  0.9152358174324036,\n",
       "  0.9122196435928345,\n",
       "  0.9145398139953613,\n",
       "  0.913921058177948,\n",
       "  0.9126837849617004,\n",
       "  0.9157772660255432,\n",
       "  0.9155451655387878,\n",
       "  0.9116783142089844,\n",
       "  0.9153905510902405,\n",
       "  0.9136117696762085,\n",
       "  0.9144625067710876,\n",
       "  0.9132249355316162,\n",
       "  0.9170145392417908,\n",
       "  0.9182522296905518,\n",
       "  0.9158547520637512,\n",
       "  0.9129157066345215,\n",
       "  0.9156998991966248,\n",
       "  0.9127611517906189,\n",
       "  0.9198761582374573,\n",
       "  0.9146168828010559,\n",
       "  0.9177878499031067,\n",
       "  0.9160093665122986,\n",
       "  0.9168599247932434,\n",
       "  0.913921058177948,\n",
       "  0.9152358770370483,\n",
       "  0.9180974364280701,\n",
       "  0.913147509098053,\n",
       "  0.9136115908622742,\n",
       "  0.9176332950592041,\n",
       "  0.9164731502532959,\n",
       "  0.916782796382904,\n",
       "  0.9138437509536743,\n",
       "  0.9135344624519348,\n",
       "  0.9172468185424805,\n",
       "  0.9165507555007935,\n",
       "  0.916086733341217,\n",
       "  0.9155451059341431,\n",
       "  0.9174786806106567,\n",
       "  0.9186386466026306,\n",
       "  0.9149265289306641,\n",
       "  0.9162415266036987,\n",
       "  0.9170146584510803,\n",
       "  0.9156225919723511,\n",
       "  0.9187160730361938,\n",
       "  0.915003776550293,\n",
       "  0.9151583909988403,\n",
       "  0.9133024215698242,\n",
       "  0.9169373512268066,\n",
       "  0.9150039553642273,\n",
       "  0.9182522296905518,\n",
       "  0.9193346500396729,\n",
       "  0.919644296169281,\n",
       "  0.916860044002533,\n",
       "  0.9197214245796204,\n",
       "  0.9151585698127747,\n",
       "  0.9172466993331909,\n",
       "  0.9180201292037964,\n",
       "  0.9171693921089172,\n",
       "  0.9200308918952942,\n",
       "  0.9173241257667542,\n",
       "  0.9169371724128723,\n",
       "  0.9177883267402649,\n",
       "  0.9187161922454834,\n",
       "  0.9191029071807861,\n",
       "  0.918948233127594,\n",
       "  0.9191027879714966,\n",
       "  0.9172466397285461,\n",
       "  0.9173240065574646,\n",
       "  0.91755610704422],\n",
       " 'loss': [0.2588857123249965,\n",
       "  0.19293214017579358,\n",
       "  0.18800235670816506,\n",
       "  0.18610738981623254,\n",
       "  0.1845991976371817,\n",
       "  0.18328844829385008,\n",
       "  0.183046939409909,\n",
       "  0.18157646065754401,\n",
       "  0.18079218614262815,\n",
       "  0.18031648190501118,\n",
       "  0.17943052555537087,\n",
       "  0.17889357008025542,\n",
       "  0.1785071323872535,\n",
       "  0.1776677267463802,\n",
       "  0.1769948691648487,\n",
       "  0.17715149852708414,\n",
       "  0.17598658650248838,\n",
       "  0.17543984753596714,\n",
       "  0.1751323866890293,\n",
       "  0.174621812321923,\n",
       "  0.17411973429717686,\n",
       "  0.1735324254349537,\n",
       "  0.17376471050011583,\n",
       "  0.1728968171824339,\n",
       "  0.1725059348506208,\n",
       "  0.17227040672210014,\n",
       "  0.1721639380694819,\n",
       "  0.1716238610749088,\n",
       "  0.17172156265671987,\n",
       "  0.17141034792770038,\n",
       "  0.17099858059528025,\n",
       "  0.17078854224322151,\n",
       "  0.17024369206373188,\n",
       "  0.1705382700642027,\n",
       "  0.16984199437112826,\n",
       "  0.1697549154149725,\n",
       "  0.1698842218408732,\n",
       "  0.1696204997354135,\n",
       "  0.16913433214451404,\n",
       "  0.16963150036634744,\n",
       "  0.16894352003730242,\n",
       "  0.16878847463679728,\n",
       "  0.16843120079321833,\n",
       "  0.1685248680225424,\n",
       "  0.16820447619579285,\n",
       "  0.16758686497202233,\n",
       "  0.16763944825881685,\n",
       "  0.1675308355106837,\n",
       "  0.16741332855630428,\n",
       "  0.16716310436651832,\n",
       "  0.1668422707794252,\n",
       "  0.16680471639453326,\n",
       "  0.1667000506094853,\n",
       "  0.16614308033851868,\n",
       "  0.1656191160531293,\n",
       "  0.1657959334624344,\n",
       "  0.1654082937904668,\n",
       "  0.1655922237805287,\n",
       "  0.16561020657103112,\n",
       "  0.16497549446339302,\n",
       "  0.16497401443510037,\n",
       "  0.16444557988781994,\n",
       "  0.16401884740856215,\n",
       "  0.16462041085993068,\n",
       "  0.1642782112125963,\n",
       "  0.1638778589046209,\n",
       "  0.16378077758004173,\n",
       "  0.16313825680278027,\n",
       "  0.16280072457670475,\n",
       "  0.16318100128805615,\n",
       "  0.16242891302191773,\n",
       "  0.16257821671967349,\n",
       "  0.16208211927741362,\n",
       "  0.16196778335930992,\n",
       "  0.1618323521238231,\n",
       "  0.1619465795257336,\n",
       "  0.16178872679833978,\n",
       "  0.16130277214705138,\n",
       "  0.16142084321270136,\n",
       "  0.15999245960661707,\n",
       "  0.161029688379866,\n",
       "  0.16028186237904274,\n",
       "  0.15988207021926312,\n",
       "  0.15949003435887496,\n",
       "  0.15920666514443704,\n",
       "  0.15899892551986577,\n",
       "  0.15880470364075333,\n",
       "  0.15814862623666656,\n",
       "  0.15838770634662253,\n",
       "  0.15798499892020826,\n",
       "  0.15799936856822303,\n",
       "  0.1574449279495088,\n",
       "  0.1577445811644283,\n",
       "  0.15731703693216498,\n",
       "  0.15754360868460435,\n",
       "  0.15618459277964652,\n",
       "  0.15614435696394346,\n",
       "  0.15554407132317527,\n",
       "  0.1560807431574255,\n",
       "  0.15599224366233244],\n",
       " 'accuracy': [0.8920889,\n",
       "  0.902727,\n",
       "  0.9048164,\n",
       "  0.9060542,\n",
       "  0.906944,\n",
       "  0.90864617,\n",
       "  0.90816206,\n",
       "  0.9101936,\n",
       "  0.9106964,\n",
       "  0.91117996,\n",
       "  0.91172147,\n",
       "  0.91087025,\n",
       "  0.91162467,\n",
       "  0.91239876,\n",
       "  0.9124561,\n",
       "  0.9122629,\n",
       "  0.91363615,\n",
       "  0.9137137,\n",
       "  0.9134619,\n",
       "  0.91377187,\n",
       "  0.91539675,\n",
       "  0.9149127,\n",
       "  0.9148936,\n",
       "  0.9153777,\n",
       "  0.9156097,\n",
       "  0.91638285,\n",
       "  0.91518384,\n",
       "  0.91584116,\n",
       "  0.9162283,\n",
       "  0.9152999,\n",
       "  0.9166537,\n",
       "  0.9156287,\n",
       "  0.91698295,\n",
       "  0.9169632,\n",
       "  0.9170602,\n",
       "  0.91678923,\n",
       "  0.91642153,\n",
       "  0.9176209,\n",
       "  0.9176212,\n",
       "  0.9167314,\n",
       "  0.9178338,\n",
       "  0.9176598,\n",
       "  0.91729224,\n",
       "  0.9171565,\n",
       "  0.9182591,\n",
       "  0.91794956,\n",
       "  0.9181046,\n",
       "  0.91843307,\n",
       "  0.9184139,\n",
       "  0.9185883,\n",
       "  0.91936153,\n",
       "  0.9187233,\n",
       "  0.9188585,\n",
       "  0.9190526,\n",
       "  0.919304,\n",
       "  0.9199033,\n",
       "  0.9196903,\n",
       "  0.91970956,\n",
       "  0.91930336,\n",
       "  0.9210639,\n",
       "  0.9196128,\n",
       "  0.9201545,\n",
       "  0.9204449,\n",
       "  0.9200384,\n",
       "  0.92027104,\n",
       "  0.9209091,\n",
       "  0.9209863,\n",
       "  0.92110205,\n",
       "  0.92206955,\n",
       "  0.9212573,\n",
       "  0.9223016,\n",
       "  0.92135406,\n",
       "  0.9221085,\n",
       "  0.9209283,\n",
       "  0.92170256,\n",
       "  0.9217215,\n",
       "  0.92222434,\n",
       "  0.92243713,\n",
       "  0.92201215,\n",
       "  0.92259187,\n",
       "  0.9216637,\n",
       "  0.9222052,\n",
       "  0.9231334,\n",
       "  0.9228047,\n",
       "  0.9230364,\n",
       "  0.92284316,\n",
       "  0.92334616,\n",
       "  0.924255,\n",
       "  0.9238299,\n",
       "  0.9239461,\n",
       "  0.9236367,\n",
       "  0.92417806,\n",
       "  0.9235598,\n",
       "  0.92346233,\n",
       "  0.9232883,\n",
       "  0.92423624,\n",
       "  0.92458415,\n",
       "  0.9252417,\n",
       "  0.9248742,\n",
       "  0.925087]}"
      ]
     },
     "execution_count": 69,
     "metadata": {},
     "output_type": "execute_result"
    }
   ],
   "source": [
    "acc_training.history"
   ]
  },
  {
   "cell_type": "markdown",
   "metadata": {},
   "source": [
    "# 8. Plotting Model Akurasi dan Loss Akurasi"
   ]
  },
  {
   "cell_type": "code",
   "execution_count": 70,
   "metadata": {},
   "outputs": [
    {
     "data": {
      "image/png": "[encoded data removed]",
      "text/plain": [
       "<Figure size 864x360 with 1 Axes>"
      ]
     },
     "metadata": {
      "needs_background": "light"
     },
     "output_type": "display_data"
    }
   ],
   "source": [
    "fig,(ax0) = plt.subplots(nrows=1, figsize=(12,5))\n",
    "ax0.plot(acc_training.history['accuracy'],'red', label='Akurasi Training')\n",
    "ax0.plot(acc_training.history['val_accuracy'], 'blue', label='Akurasi Validasi')\n",
    "ax0.plot(label='Accuracy', loc='upper left')\n",
    "ax0.set_title('Model Accuracy')\n",
    "ax0.set_xlabel(\"Epoch\")\n",
    "ax0.set_ylabel(\"Accuracy\")\n",
    "ax0.legend()\n",
    "plt.savefig('Grafik Akurasi.png')"
   ]
  },
  {
   "cell_type": "code",
   "execution_count": 71,
   "metadata": {},
   "outputs": [
    {
     "data": {
      "image/png": "[encoded data removed]",
      "text/plain": [
       "<Figure size 864x360 with 1 Axes>"
      ]
     },
     "metadata": {
      "needs_background": "light"
     },
     "output_type": "display_data"
    }
   ],
   "source": [
    "fig,(ax1) = plt.subplots(nrows=1, figsize=(12,5))\n",
    "ax1.plot(acc_training.history['loss'],'red', label='Loss Training')\n",
    "ax1.plot(acc_training.history['val_loss'], 'blue', label='Loss Validasi')\n",
    "ax1.plot(label='Loss', loc='upper left')\n",
    "ax1.set_title('Model Loss')\n",
    "ax1.set_xlabel(\"Epoch\")\n",
    "ax1.set_ylabel(\"Loss\")\n",
    "ax1.legend()\n",
    "plt.savefig('Grafik Loss.png')"
   ]
  },
  {
   "cell_type": "markdown",
   "metadata": {},
   "source": [
    "# 9. Evaluate Model\n",
    "Menampilkan hasil dari akurasi dataset kualitas anggur dari banyaknya epoch 100"
   ]
  },
  {
   "cell_type": "code",
   "execution_count": 72,
   "metadata": {},
   "outputs": [],
   "source": [
    "predict = model.predict(features)"
   ]
  },
  {
   "cell_type": "code",
   "execution_count": 73,
   "metadata": {},
   "outputs": [
    {
     "name": "stdout",
     "output_type": "stream",
     "text": [
      "6463/6463 [==============================] - 0s 37us/step\n",
      "\n",
      "accuracy: 92.55%\n"
     ]
    }
   ],
   "source": [
    "scores = model.evaluate(features, labels_categorical)\n",
    "print(\"\\n%s: %.2f%%\" % (model.metrics_names[1], scores[1]*100))"
   ]
  },
  {
   "cell_type": "markdown",
   "metadata": {},
   "source": [
    "Setelah mendapatkan hasil akurasis, selanjutnya dapat dilakukan analisis performance dengan membuat confusion matrix dari labels yang telah diubah menjadi categorical dan nilai prediksi dari model neural network terhadap features yang telah di preprocessing."
   ]
  },
  {
   "cell_type": "markdown",
   "metadata": {},
   "source": [
    "# 10. Matriks Confusion\n",
    "Confusion matrix adalah suatu metode yang biasanya digunakan untuk melakukan perhitungan akurasi pada konsep data mining. Rumus ini melakukan perhitungan dengan 4 keluaran, yaitu: recall, precision, acuraccy dan error rate.\n",
    "\n",
    "Confusion Matriks memiliki 4 instilah yaitu\n",
    "\n",
    "    -True Positif\n",
    "    -False Positif\n",
    "    -False Negative\n",
    "    -True Negativ\n",
    "    \n",
    "    \n",
    "1. True Positives (TP): True positif adalah kasus ketika kelas sebenarnya dari titik data adalah 1 (Benar) dan prediksi juga 1 (Benar)\n",
    "\n",
    "2. Negatif Benar (TN): True Negatif adalah kasus ketika kelas sebenarnya dari titik data adalah 0 (Salah) dan prediksi juga 0 (Salah\n",
    "\n",
    "3. Salah Positif (FP): False positif adalah kasus ketika kelas sebenarnya dari titik data adalah 0 (Salah) dan yang diprediksi adalah 1 (Benar).\n",
    "\n",
    "4. Negatif Palsu (FN): False Negatif adalah kasus ketika kelas sebenarnya dari titik data adalah 1 (Benar) dan prediksi adalah 0 (Salah)."
   ]
  },
  {
   "cell_type": "code",
   "execution_count": 74,
   "metadata": {},
   "outputs": [],
   "source": [
    "from sklearn.metrics import confusion_matrix\n",
    "cm = confusion_matrix(labels_categorical.argmax (axis=1), predict.argmax(axis=1))"
   ]
  },
  {
   "cell_type": "code",
   "execution_count": 75,
   "metadata": {},
   "outputs": [
    {
     "data": {
      "text/plain": [
       "array([[  10,    1,   10,    9,    0,    0,    0],\n",
       "       [   2,   38,  123,   49,    2,    0,    0],\n",
       "       [   4,   12, 1481,  611,   19,    1,    0],\n",
       "       [   2,    4,  583, 2006,  225,    0,    0],\n",
       "       [   0,    0,   28,  603,  435,    8,    0],\n",
       "       [   0,    0,    4,   88,   92,    8,    0],\n",
       "       [   0,    0,    0,    2,    3,    0,    0]], dtype=int64)"
      ]
     },
     "execution_count": 75,
     "metadata": {},
     "output_type": "execute_result"
    }
   ],
   "source": [
    "cm"
   ]
  },
  {
   "cell_type": "code",
   "execution_count": 76,
   "metadata": {},
   "outputs": [],
   "source": [
    "accuracy=((10+38+1481+2006+435+8+0)/(10+1+10+9+0+0+0+2+38+123+49+2+0+0+4+12+1481+611+19+1+0+2+4+583+2006+225+0+0+0+0+28+603+435+8+0+0+0+4+88+92+8+0+0+0+0+2+3+0+0))*100"
   ]
  },
  {
   "cell_type": "code",
   "execution_count": 77,
   "metadata": {},
   "outputs": [
    {
     "data": {
      "text/plain": [
       "61.55036360823147"
      ]
     },
     "execution_count": 77,
     "metadata": {},
     "output_type": "execute_result"
    }
   ],
   "source": [
    "accuracy"
   ]
  },
  {
   "cell_type": "markdown",
   "metadata": {},
   "source": [
    "# Referensi\n",
    "Paper : Classifiation of Wine With Artificial Neural Network\n",
    "        https://pdfs.semanticscholar.org/d951/feb47d8476c3b5ad3dbb0d46198b1660e19a.pdf\n",
    "        \n",
    "Dataset : winequalityN\n",
    "          https://www.kaggle.com/rajyellow46/wine-quality"
   ]
  }
 ],
 "metadata": {
  "kernelspec": {
   "display_name": "Python 3",
   "language": "python",
   "name": "python3"
  },
  "language_info": {
   "codemirror_mode": {
    "name": "ipython",
    "version": 3
   },
   "file_extension": ".py",
   "mimetype": "text/x-python",
   "name": "python",
   "nbconvert_exporter": "python",
   "pygments_lexer": "ipython3",
   "version": "3.7.0"
  }
 },
 "nbformat": 4,
 "nbformat_minor": 2
}
