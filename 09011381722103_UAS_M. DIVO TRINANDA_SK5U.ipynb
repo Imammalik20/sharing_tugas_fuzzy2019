{
 "cells": [
  {
   "cell_type": "markdown",
   "metadata": {},
   "source": [
    "# M. Divo Trinanda (09011381722103)\n",
    "# Implementasi Neural Network Dalam Mendeteksi Penipuan Kartu Kredit"
   ]
  },
  {
   "cell_type": "markdown",
   "metadata": {},
   "source": [
    "Munculnya kartu kredit dan peningkatan fungsinya tidak hanya memberi orang lebih banyak kenyamanan pribadi, tetapi juga menarik minat karakter jahat. Penipuan kartu kredit (J.W.Goethe) merupakan sebuah aktivitas akun yang tidak sah yang dilakukan oleh seseorang yang tidak bertanggung jawab. Deteksi penipuan diberikan satu set transaksi kartu kredit proses mengidentifikasi transaksi-transaksi yang curang misalnya mengklasifikasikan transaksi menjadi dua kelas: kelas normal dan kelas transaksi penipuan. Dari lalu lintas data yang tinggi dari 400.000 transaksi per hari, pengurangan 2,5% dari penipuan memicu penghematan satu juta dolar per tahun (J.W.Goethe).\n"
   ]
  },
  {
   "cell_type": "markdown",
   "metadata": {},
   "source": [
    "# Dataset"
   ]
  },
  {
   "cell_type": "markdown",
   "metadata": {},
   "source": [
    "Dataset ini berisi mengenai transaksi yang dilakukan dengan kartu kredit pada September 2013 oleh pemegang kartu di Eropa. Dataset ini menyajikan transaksi yang terjadi dalam dua hari, di mana kami memiliki 492 penipuan dari 284.807 transaksi. Dataset sangat tidak seimbang, kelas positif (penipuan) menyumbang 0,172% dari semua transaksi.\n",
    "\n",
    "Dataset ini hanya berisi variabel input numerik yang merupakan hasil dari transformasi PCA. Sayangnya, karena masalah kerahasiaan, kami tidak dapat menyediakan fitur asli dan informasi latar belakang lainnya tentang data. Fitur V1, V2, ... V28 adalah komponen utama yang diperoleh dengan PCA, satu-satunya fitur yang belum ditransformasikan dengan PCA adalah ‘Waktu’ dan ‘Jumlah’. Fitur ‘Waktu’ berisi detik yang berlalu antara setiap transaksi dan transaksi pertama dalam dataset. Fitur ‘Jumlah’ adalah Jumlah transaksi, fitur ini dapat digunakan sebagai contoh pembelajaran yang bergantung pada biaya. Fitur ‘Kelas’ adalah variabel respons dan dibutuhkan nilai 1 jika terjadi penipuan dan 0 sebaliknya\n",
    "\n",
    "Pada percobaan ini kami melakukan dua kali training yang pertama tidak menggunakan SMOTE sedangkan yang kedua dengan menggunakan SMOTE. SMOTE sendiri biasanya digunakan pada data yang unbalace yaitu data yang perbandingannya itu melebihi dari 1:3"
   ]
  },
  {
   "cell_type": "markdown",
   "metadata": {},
   "source": [
    "# Import Libraries"
   ]
  },
  {
   "cell_type": "code",
   "execution_count": 85,
   "metadata": {},
   "outputs": [],
   "source": [
    "import numpy as np \n",
    "import pandas as pd \n",
    "import keras\n",
    "import matplotlib.pyplot as plt\n",
    "import seaborn as sns"
   ]
  },
  {
   "cell_type": "markdown",
   "metadata": {},
   "source": [
    "### Library Numpy \n",
    "berfungsi untuk mengolah data dalam bentuk angka (array)\n",
    "### Library Pandas\n",
    "Berfungsi untuk membaca file dataset dalam bentuk .CSV\n",
    "### Library Keras\n",
    "Keras adalah high-level neural network API yang dikembangkan dengan Python dengan fokus tujuan untuk mempercepat proses riset atau percobaan\n",
    "### Library Matplotlib \n",
    "berfungsi untuk membantu visualisasi dataset sehingga memudahkan untuk dipahami\n",
    "### Library Seaborn\n",
    "sama seperti Matplotlib,yakni berfungsi untuk membantu visualisasi dataset"
   ]
  },
  {
   "cell_type": "markdown",
   "metadata": {},
   "source": [
    "# Membaca Data"
   ]
  },
  {
   "cell_type": "markdown",
   "metadata": {},
   "source": [
    "Dataset ini memiliki 29 kolom dan 1025 baris dengan 28 kolom sebagai features dan 1 kolom (Class) sebagai label yang memiliki nilai 0 (normal) dan 1 (penipuan) "
   ]
  },
  {
   "cell_type": "code",
   "execution_count": 86,
   "metadata": {},
   "outputs": [
    {
     "data": {
      "text/html": [
       "<div>\n",
       "<style scoped>\n",
       "    .dataframe tbody tr th:only-of-type {\n",
       "        vertical-align: middle;\n",
       "    }\n",
       "\n",
       "    .dataframe tbody tr th {\n",
       "        vertical-align: top;\n",
       "    }\n",
       "\n",
       "    .dataframe thead th {\n",
       "        text-align: right;\n",
       "    }\n",
       "</style>\n",
       "<table border=\"1\" class=\"dataframe\">\n",
       "  <thead>\n",
       "    <tr style=\"text-align: right;\">\n",
       "      <th></th>\n",
       "      <th>Time</th>\n",
       "      <th>V1</th>\n",
       "      <th>V2</th>\n",
       "      <th>V3</th>\n",
       "      <th>V4</th>\n",
       "      <th>V5</th>\n",
       "      <th>V6</th>\n",
       "      <th>V7</th>\n",
       "      <th>V8</th>\n",
       "      <th>V9</th>\n",
       "      <th>...</th>\n",
       "      <th>V21</th>\n",
       "      <th>V22</th>\n",
       "      <th>V23</th>\n",
       "      <th>V24</th>\n",
       "      <th>V25</th>\n",
       "      <th>V26</th>\n",
       "      <th>V27</th>\n",
       "      <th>V28</th>\n",
       "      <th>Amount</th>\n",
       "      <th>Class</th>\n",
       "    </tr>\n",
       "  </thead>\n",
       "  <tbody>\n",
       "    <tr>\n",
       "      <th>0</th>\n",
       "      <td>0.0</td>\n",
       "      <td>-1.359807</td>\n",
       "      <td>-0.072781</td>\n",
       "      <td>2.536347</td>\n",
       "      <td>1.378155</td>\n",
       "      <td>-0.338321</td>\n",
       "      <td>0.462388</td>\n",
       "      <td>0.239599</td>\n",
       "      <td>0.098698</td>\n",
       "      <td>0.363787</td>\n",
       "      <td>...</td>\n",
       "      <td>-0.018307</td>\n",
       "      <td>0.277838</td>\n",
       "      <td>-0.110474</td>\n",
       "      <td>0.066928</td>\n",
       "      <td>0.128539</td>\n",
       "      <td>-0.189115</td>\n",
       "      <td>0.133558</td>\n",
       "      <td>-0.021053</td>\n",
       "      <td>149.62</td>\n",
       "      <td>0</td>\n",
       "    </tr>\n",
       "    <tr>\n",
       "      <th>1</th>\n",
       "      <td>0.0</td>\n",
       "      <td>1.191857</td>\n",
       "      <td>0.266151</td>\n",
       "      <td>0.166480</td>\n",
       "      <td>0.448154</td>\n",
       "      <td>0.060018</td>\n",
       "      <td>-0.082361</td>\n",
       "      <td>-0.078803</td>\n",
       "      <td>0.085102</td>\n",
       "      <td>-0.255425</td>\n",
       "      <td>...</td>\n",
       "      <td>-0.225775</td>\n",
       "      <td>-0.638672</td>\n",
       "      <td>0.101288</td>\n",
       "      <td>-0.339846</td>\n",
       "      <td>0.167170</td>\n",
       "      <td>0.125895</td>\n",
       "      <td>-0.008983</td>\n",
       "      <td>0.014724</td>\n",
       "      <td>2.69</td>\n",
       "      <td>0</td>\n",
       "    </tr>\n",
       "    <tr>\n",
       "      <th>2</th>\n",
       "      <td>1.0</td>\n",
       "      <td>-1.358354</td>\n",
       "      <td>-1.340163</td>\n",
       "      <td>1.773209</td>\n",
       "      <td>0.379780</td>\n",
       "      <td>-0.503198</td>\n",
       "      <td>1.800499</td>\n",
       "      <td>0.791461</td>\n",
       "      <td>0.247676</td>\n",
       "      <td>-1.514654</td>\n",
       "      <td>...</td>\n",
       "      <td>0.247998</td>\n",
       "      <td>0.771679</td>\n",
       "      <td>0.909412</td>\n",
       "      <td>-0.689281</td>\n",
       "      <td>-0.327642</td>\n",
       "      <td>-0.139097</td>\n",
       "      <td>-0.055353</td>\n",
       "      <td>-0.059752</td>\n",
       "      <td>378.66</td>\n",
       "      <td>0</td>\n",
       "    </tr>\n",
       "    <tr>\n",
       "      <th>3</th>\n",
       "      <td>1.0</td>\n",
       "      <td>-0.966272</td>\n",
       "      <td>-0.185226</td>\n",
       "      <td>1.792993</td>\n",
       "      <td>-0.863291</td>\n",
       "      <td>-0.010309</td>\n",
       "      <td>1.247203</td>\n",
       "      <td>0.237609</td>\n",
       "      <td>0.377436</td>\n",
       "      <td>-1.387024</td>\n",
       "      <td>...</td>\n",
       "      <td>-0.108300</td>\n",
       "      <td>0.005274</td>\n",
       "      <td>-0.190321</td>\n",
       "      <td>-1.175575</td>\n",
       "      <td>0.647376</td>\n",
       "      <td>-0.221929</td>\n",
       "      <td>0.062723</td>\n",
       "      <td>0.061458</td>\n",
       "      <td>123.50</td>\n",
       "      <td>0</td>\n",
       "    </tr>\n",
       "    <tr>\n",
       "      <th>4</th>\n",
       "      <td>2.0</td>\n",
       "      <td>-1.158233</td>\n",
       "      <td>0.877737</td>\n",
       "      <td>1.548718</td>\n",
       "      <td>0.403034</td>\n",
       "      <td>-0.407193</td>\n",
       "      <td>0.095921</td>\n",
       "      <td>0.592941</td>\n",
       "      <td>-0.270533</td>\n",
       "      <td>0.817739</td>\n",
       "      <td>...</td>\n",
       "      <td>-0.009431</td>\n",
       "      <td>0.798278</td>\n",
       "      <td>-0.137458</td>\n",
       "      <td>0.141267</td>\n",
       "      <td>-0.206010</td>\n",
       "      <td>0.502292</td>\n",
       "      <td>0.219422</td>\n",
       "      <td>0.215153</td>\n",
       "      <td>69.99</td>\n",
       "      <td>0</td>\n",
       "    </tr>\n",
       "  </tbody>\n",
       "</table>\n",
       "<p>5 rows × 31 columns</p>\n",
       "</div>"
      ],
      "text/plain": [
       "   Time        V1        V2        V3        V4        V5        V6        V7  \\\n",
       "0   0.0 -1.359807 -0.072781  2.536347  1.378155 -0.338321  0.462388  0.239599   \n",
       "1   0.0  1.191857  0.266151  0.166480  0.448154  0.060018 -0.082361 -0.078803   \n",
       "2   1.0 -1.358354 -1.340163  1.773209  0.379780 -0.503198  1.800499  0.791461   \n",
       "3   1.0 -0.966272 -0.185226  1.792993 -0.863291 -0.010309  1.247203  0.237609   \n",
       "4   2.0 -1.158233  0.877737  1.548718  0.403034 -0.407193  0.095921  0.592941   \n",
       "\n",
       "         V8        V9  ...       V21       V22       V23       V24       V25  \\\n",
       "0  0.098698  0.363787  ... -0.018307  0.277838 -0.110474  0.066928  0.128539   \n",
       "1  0.085102 -0.255425  ... -0.225775 -0.638672  0.101288 -0.339846  0.167170   \n",
       "2  0.247676 -1.514654  ...  0.247998  0.771679  0.909412 -0.689281 -0.327642   \n",
       "3  0.377436 -1.387024  ... -0.108300  0.005274 -0.190321 -1.175575  0.647376   \n",
       "4 -0.270533  0.817739  ... -0.009431  0.798278 -0.137458  0.141267 -0.206010   \n",
       "\n",
       "        V26       V27       V28  Amount  Class  \n",
       "0 -0.189115  0.133558 -0.021053  149.62      0  \n",
       "1  0.125895 -0.008983  0.014724    2.69      0  \n",
       "2 -0.139097 -0.055353 -0.059752  378.66      0  \n",
       "3 -0.221929  0.062723  0.061458  123.50      0  \n",
       "4  0.502292  0.219422  0.215153   69.99      0  \n",
       "\n",
       "[5 rows x 31 columns]"
      ]
     },
     "execution_count": 86,
     "metadata": {},
     "output_type": "execute_result"
    }
   ],
   "source": [
    "df=pd.read_csv('creditcard.csv')\n",
    "\n",
    "# Menampilkan Lima baris pertama dari data\n",
    "df.head()"
   ]
  },
  {
   "cell_type": "markdown",
   "metadata": {},
   "source": [
    "# Telusuri Data"
   ]
  },
  {
   "cell_type": "code",
   "execution_count": 87,
   "metadata": {},
   "outputs": [
    {
     "data": {
      "text/plain": [
       "0    284315\n",
       "1       492\n",
       "Name: Class, dtype: int64"
      ]
     },
     "execution_count": 87,
     "metadata": {},
     "output_type": "execute_result"
    }
   ],
   "source": [
    "df.Class.value_counts()"
   ]
  },
  {
   "cell_type": "markdown",
   "metadata": {},
   "source": [
    "Transaksi normal sebanyak 284315 kali sedangkan transaksi dengan penipuan sebanyak 492 kali"
   ]
  },
  {
   "cell_type": "markdown",
   "metadata": {},
   "source": [
    "- Perintah diatas berfungsi untuk melihat jumlah data yang berlabel 1 (penipuan) yakni sebanyak 492 sedangkan data yang berlabel 0 (normal) sebanyak 284.315.\n",
    "- Sedangkan pada perintah dibawah ini berfugsi untuk menampilkan jumlah data yang dihasilkan pada perintah diatas dalam bentuk Bar menggunakan bantuan library seaborn "
   ]
  },
  {
   "cell_type": "code",
   "execution_count": 88,
   "metadata": {},
   "outputs": [
    {
     "data": {
      "image/png": "[encoded data removed]",
      "text/plain": [
       "<Figure size 432x288 with 1 Axes>"
      ]
     },
     "metadata": {
      "needs_background": "light"
     },
     "output_type": "display_data"
    }
   ],
   "source": [
    "sns.countplot(x=\"Class\", data=df, palette=\"bwr\")\n",
    "plt.show()"
   ]
  },
  {
   "cell_type": "markdown",
   "metadata": {},
   "source": [
    "Dari data ini kami memiliki 492 penipuan dan 284315 transaksi normal dari 284.807 transaksi. Dataset ini sangat tidak seimbang dikarena perbandingan dari penipuan dengan transaksi normal yaitu 1:577"
   ]
  },
  {
   "cell_type": "markdown",
   "metadata": {},
   "source": [
    "# Mengecek apakah ada data kosong\n",
    "Setelah kita menimport dataset ada baiknya kita terlebih dahulu melakukan pegecekaan terhadap dataset kita, apakah data tersebih sudah bersih atau masih ada data kosong."
   ]
  },
  {
   "cell_type": "code",
   "execution_count": 89,
   "metadata": {},
   "outputs": [
    {
     "data": {
      "text/plain": [
       "0"
      ]
     },
     "execution_count": 89,
     "metadata": {},
     "output_type": "execute_result"
    }
   ],
   "source": [
    "df.isnull().any().sum()"
   ]
  },
  {
   "cell_type": "markdown",
   "metadata": {},
   "source": [
    "## Seberapa banyak jumlah uang yang digunakan dalam kelas transaksi yang berbeda?"
   ]
  },
  {
   "cell_type": "markdown",
   "metadata": {},
   "source": [
    "Untuk mengecek peredaran uang yang berada dalam beberapa kelas transaksi"
   ]
  },
  {
   "cell_type": "code",
   "execution_count": 90,
   "metadata": {},
   "outputs": [],
   "source": [
    "frauds = df[df.Class == 1]\n",
    "normal = df[df.Class == 0]"
   ]
  },
  {
   "cell_type": "code",
   "execution_count": 91,
   "metadata": {
    "scrolled": true
   },
   "outputs": [
    {
     "data": {
      "text/plain": [
       "count     492.000000\n",
       "mean      122.211321\n",
       "std       256.683288\n",
       "min         0.000000\n",
       "25%         1.000000\n",
       "50%         9.250000\n",
       "75%       105.890000\n",
       "max      2125.870000\n",
       "Name: Amount, dtype: float64"
      ]
     },
     "execution_count": 91,
     "metadata": {},
     "output_type": "execute_result"
    }
   ],
   "source": [
    "frauds.Amount.describe()"
   ]
  },
  {
   "cell_type": "code",
   "execution_count": 92,
   "metadata": {},
   "outputs": [
    {
     "data": {
      "text/plain": [
       "count    284315.000000\n",
       "mean         88.291022\n",
       "std         250.105092\n",
       "min           0.000000\n",
       "25%           5.650000\n",
       "50%          22.000000\n",
       "75%          77.050000\n",
       "max       25691.160000\n",
       "Name: Amount, dtype: float64"
      ]
     },
     "execution_count": 92,
     "metadata": {},
     "output_type": "execute_result"
    }
   ],
   "source": [
    "normal.Amount.describe()"
   ]
  },
  {
   "cell_type": "markdown",
   "metadata": {},
   "source": [
    "## Mari kita memiliki representasi yang lebih grafis:"
   ]
  },
  {
   "cell_type": "code",
   "execution_count": 93,
   "metadata": {
    "scrolled": true
   },
   "outputs": [
    {
     "data": {
      "image/png": "[encoded data removed]",
      "text/plain": [
       "<Figure size 432x288 with 2 Axes>"
      ]
     },
     "metadata": {
      "needs_background": "light"
     },
     "output_type": "display_data"
    }
   ],
   "source": [
    "f, (ax1, ax2) = plt.subplots(2, 1, sharex=True)\n",
    "f.suptitle('Amount per transaction by class')\n",
    "\n",
    "bins = 50\n",
    "\n",
    "ax1.hist(frauds.Amount, bins = bins)\n",
    "ax1.set_title('Fraud')\n",
    "\n",
    "ax2.hist(normal.Amount, bins = bins)\n",
    "ax2.set_title('Normal')\n",
    "\n",
    "plt.xlabel('Amount ($)')\n",
    "plt.ylabel('Number of Transactions')\n",
    "plt.xlim((0, 20000))\n",
    "plt.yscale('log')\n",
    "plt.show();"
   ]
  },
  {
   "cell_type": "markdown",
   "metadata": {},
   "source": [
    "## Apakah transaksi penipuan lebih sering terjadi selama waktu tertentu?"
   ]
  },
  {
   "cell_type": "code",
   "execution_count": 94,
   "metadata": {},
   "outputs": [
    {
     "data": {
      "image/png": "[encoded data removed]",
      "text/plain": [
       "<Figure size 432x288 with 2 Axes>"
      ]
     },
     "metadata": {
      "needs_background": "light"
     },
     "output_type": "display_data"
    }
   ],
   "source": [
    "f, (ax1, ax2) = plt.subplots(2, 1, sharex=True)\n",
    "f.suptitle('Time of transaction vs Amount by class')\n",
    "\n",
    "ax1.scatter(frauds.Time, frauds.Amount)\n",
    "ax1.set_title('Fraud')\n",
    "\n",
    "ax2.scatter(normal.Time, normal.Amount)\n",
    "ax2.set_title('Normal')\n",
    "\n",
    "plt.xlabel('Time (in Seconds)')\n",
    "plt.ylabel('Amount')\n",
    "plt.show()"
   ]
  },
  {
   "cell_type": "markdown",
   "metadata": {},
   "source": [
    "Dari grafik diatas dapat disimpulkan jika waktu transaksi tidak terlalu penting atau berpengaruh dalam penipuan ini."
   ]
  },
  {
   "cell_type": "markdown",
   "metadata": {},
   "source": [
    "# Menyiapkan data"
   ]
  },
  {
   "cell_type": "markdown",
   "metadata": {},
   "source": [
    "Pertama, mari kita lepaskan kolom Waktu (tidak akan menggunakannya) dan gunakan StandardScaler scikit pada Jumlah. Scaler menghapus nilai rata-rata dan menskalakan nilai ke varians unit:"
   ]
  },
  {
   "cell_type": "code",
   "execution_count": 95,
   "metadata": {},
   "outputs": [],
   "source": [
    "from sklearn.preprocessing import StandardScaler\n",
    "data = df.drop(['Time'], axis=1)\n",
    "data['Amount'] = StandardScaler().fit_transform(data['Amount'].values.reshape(-1, 1))"
   ]
  },
  {
   "cell_type": "markdown",
   "metadata": {},
   "source": [
    "Pelatihan Autoencoder kami akan sedikit berbeda dari yang biasa kami lakukan. Katakanlah Anda memiliki dataset yang berisi banyak transaksi tidak curang. Anda ingin mendeteksi adanya anomali pada transaksi baru. Kami akan menciptakan situasi ini dengan hanya melatih model kami pada transaksi normal. Pemesanan kelas yang benar pada set tes akan memberi kita cara untuk mengevaluasi kinerja model kami. Kami akan memesan 20% dari data kami untuk pengujian"
   ]
  },
  {
   "cell_type": "markdown",
   "metadata": {},
   "source": [
    "# Menentukan Features dan Labels\n",
    "Labelnya adalah Class sedangkan untuk featuresnya adalah kolom selain class. Pada percobaan kali ini Features = X dan Label = y"
   ]
  },
  {
   "cell_type": "code",
   "execution_count": 96,
   "metadata": {},
   "outputs": [],
   "source": [
    "X = data.iloc[:, data.columns != 'Class']\n",
    "y = data.iloc[:, data.columns == 'Class']"
   ]
  },
  {
   "cell_type": "markdown",
   "metadata": {},
   "source": [
    "# Data Split"
   ]
  },
  {
   "cell_type": "code",
   "execution_count": 97,
   "metadata": {},
   "outputs": [],
   "source": [
    "from sklearn.model_selection import train_test_split\n",
    "X_train,X_test,y_train,y_test=train_test_split(X,y,test_size=0.2,random_state=5)"
   ]
  },
  {
   "cell_type": "markdown",
   "metadata": {},
   "source": [
    "Pada tahap ini kita membuat file test berukuran 20 % dari jumlah keseluruhan data yang tersedia. Setelah itu kita membuat model NN dengan 50 hiden layer pertama dan 50 hiden layer kedua.selain itu kita membuat output layer 1 (iya atau tidak) "
   ]
  },
  {
   "cell_type": "markdown",
   "metadata": {},
   "source": [
    "# Deep Learning Tanpa SMOTE"
   ]
  },
  {
   "cell_type": "code",
   "execution_count": 98,
   "metadata": {},
   "outputs": [],
   "source": [
    "from keras.models import Sequential\n",
    "from keras.layers import Dense\n",
    "from keras.layers import Dropout\n",
    "model = Sequential([\n",
    "    Dense(units=18, input_dim = 29,activation='relu'),\n",
    "    Dense(units=26,activation='relu'),\n",
    "    Dropout(0.5),\n",
    "    Dense(22,activation='relu'),\n",
    "    Dense(22,activation='relu'),\n",
    "    Dense(1,activation='sigmoid'),\n",
    "])"
   ]
  },
  {
   "cell_type": "markdown",
   "metadata": {},
   "source": [
    "Mari kita latih model dengan 100 epochs dan ukuran batch 100 sampel dan simpan model berkinerja terbaik ke sebuah file. "
   ]
  },
  {
   "cell_type": "code",
   "execution_count": 99,
   "metadata": {},
   "outputs": [
    {
     "name": "stdout",
     "output_type": "stream",
     "text": [
      "Train on 227845 samples, validate on 56962 samples\n",
      "Epoch 1/100\n",
      "227845/227845 [==============================] - 6s 27us/step - loss: 0.0183 - accuracy: 0.9960 - val_loss: 0.0044 - val_accuracy: 0.9994\n",
      "Epoch 2/100\n",
      "227845/227845 [==============================] - 8s 37us/step - loss: 0.0037 - accuracy: 0.9993 - val_loss: 0.0040 - val_accuracy: 0.9994\n",
      "Epoch 3/100\n",
      "227845/227845 [==============================] - 9s 39us/step - loss: 0.0034 - accuracy: 0.9994 - val_loss: 0.0038 - val_accuracy: 0.9994\n",
      "Epoch 4/100\n",
      "227845/227845 [==============================] - 6s 26us/step - loss: 0.0032 - accuracy: 0.9994 - val_loss: 0.0034 - val_accuracy: 0.9993\n",
      "Epoch 5/100\n",
      "227845/227845 [==============================] - 6s 26us/step - loss: 0.0029 - accuracy: 0.9994 - val_loss: 0.0034 - val_accuracy: 0.9995\n",
      "Epoch 6/100\n",
      "227845/227845 [==============================] - 6s 26us/step - loss: 0.0028 - accuracy: 0.9994 - val_loss: 0.0035 - val_accuracy: 0.9995\n",
      "Epoch 7/100\n",
      "227845/227845 [==============================] - 8s 34us/step - loss: 0.0028 - accuracy: 0.9994 - val_loss: 0.0037 - val_accuracy: 0.9995\n",
      "Epoch 8/100\n",
      "227845/227845 [==============================] - 6s 25us/step - loss: 0.0025 - accuracy: 0.9994 - val_loss: 0.0035 - val_accuracy: 0.9995\n",
      "Epoch 9/100\n",
      "227845/227845 [==============================] - 6s 25us/step - loss: 0.0026 - accuracy: 0.9994 - val_loss: 0.0037 - val_accuracy: 0.9994\n",
      "Epoch 10/100\n",
      "227845/227845 [==============================] - 6s 27us/step - loss: 0.0025 - accuracy: 0.9995 - val_loss: 0.0034 - val_accuracy: 0.9995\n",
      "Epoch 11/100\n",
      "227845/227845 [==============================] - 6s 25us/step - loss: 0.0025 - accuracy: 0.9994 - val_loss: 0.0035 - val_accuracy: 0.9995\n",
      "Epoch 12/100\n",
      "227845/227845 [==============================] - 7s 33us/step - loss: 0.0024 - accuracy: 0.9995 - val_loss: 0.0038 - val_accuracy: 0.9994\n",
      "Epoch 13/100\n",
      "227845/227845 [==============================] - 7s 31us/step - loss: 0.0022 - accuracy: 0.9995 - val_loss: 0.0035 - val_accuracy: 0.9995\n",
      "Epoch 14/100\n",
      "227845/227845 [==============================] - 6s 27us/step - loss: 0.0023 - accuracy: 0.9995 - val_loss: 0.0037 - val_accuracy: 0.9995\n",
      "Epoch 15/100\n",
      "227845/227845 [==============================] - 6s 25us/step - loss: 0.0022 - accuracy: 0.9995 - val_loss: 0.0038 - val_accuracy: 0.9995\n",
      "Epoch 16/100\n",
      "227845/227845 [==============================] - 5s 24us/step - loss: 0.0021 - accuracy: 0.9995 - val_loss: 0.0041 - val_accuracy: 0.9994\n",
      "Epoch 17/100\n",
      "227845/227845 [==============================] - 6s 25us/step - loss: 0.0022 - accuracy: 0.9995 - val_loss: 0.0037 - val_accuracy: 0.9995\n",
      "Epoch 18/100\n",
      "227845/227845 [==============================] - 6s 25us/step - loss: 0.0020 - accuracy: 0.9995 - val_loss: 0.0037 - val_accuracy: 0.9995\n",
      "Epoch 19/100\n",
      "227845/227845 [==============================] - 6s 26us/step - loss: 0.0019 - accuracy: 0.9995 - val_loss: 0.0039 - val_accuracy: 0.9995\n",
      "Epoch 20/100\n",
      "227845/227845 [==============================] - 6s 24us/step - loss: 0.0019 - accuracy: 0.9995 - val_loss: 0.0040 - val_accuracy: 0.9994\n",
      "Epoch 21/100\n",
      "227845/227845 [==============================] - 5s 23us/step - loss: 0.0019 - accuracy: 0.9995 - val_loss: 0.0046 - val_accuracy: 0.9993\n",
      "Epoch 22/100\n",
      "227845/227845 [==============================] - 5s 22us/step - loss: 0.0020 - accuracy: 0.9995 - val_loss: 0.0041 - val_accuracy: 0.9994\n",
      "Epoch 23/100\n",
      "227845/227845 [==============================] - 5s 24us/step - loss: 0.0019 - accuracy: 0.9995 - val_loss: 0.0048 - val_accuracy: 0.9994\n",
      "Epoch 24/100\n",
      "227845/227845 [==============================] - 5s 22us/step - loss: 0.0018 - accuracy: 0.9995 - val_loss: 0.0044 - val_accuracy: 0.9994\n",
      "Epoch 25/100\n",
      "227845/227845 [==============================] - 5s 23us/step - loss: 0.0019 - accuracy: 0.9995 - val_loss: 0.0043 - val_accuracy: 0.9994\n",
      "Epoch 26/100\n",
      "227845/227845 [==============================] - 6s 26us/step - loss: 0.0019 - accuracy: 0.9995 - val_loss: 0.0049 - val_accuracy: 0.9992\n",
      "Epoch 27/100\n",
      "227845/227845 [==============================] - 6s 25us/step - loss: 0.0018 - accuracy: 0.9995 - val_loss: 0.0043 - val_accuracy: 0.9994\n",
      "Epoch 28/100\n",
      "227845/227845 [==============================] - 7s 30us/step - loss: 0.0018 - accuracy: 0.9995 - val_loss: 0.0042 - val_accuracy: 0.9993\n",
      "Epoch 29/100\n",
      "227845/227845 [==============================] - 6s 27us/step - loss: 0.0018 - accuracy: 0.9996 - val_loss: 0.0046 - val_accuracy: 0.9994\n",
      "Epoch 30/100\n",
      "227845/227845 [==============================] - 6s 26us/step - loss: 0.0017 - accuracy: 0.9996 - val_loss: 0.0048 - val_accuracy: 0.9992\n",
      "Epoch 31/100\n",
      "227845/227845 [==============================] - 6s 27us/step - loss: 0.0017 - accuracy: 0.9996 - val_loss: 0.0046 - val_accuracy: 0.9994\n",
      "Epoch 32/100\n",
      "227845/227845 [==============================] - 6s 26us/step - loss: 0.0017 - accuracy: 0.9995 - val_loss: 0.0050 - val_accuracy: 0.9994\n",
      "Epoch 33/100\n",
      "227845/227845 [==============================] - 6s 28us/step - loss: 0.0016 - accuracy: 0.9995 - val_loss: 0.0048 - val_accuracy: 0.9995\n",
      "Epoch 34/100\n",
      "227845/227845 [==============================] - 6s 27us/step - loss: 0.0016 - accuracy: 0.9996 - val_loss: 0.0048 - val_accuracy: 0.9994\n",
      "Epoch 35/100\n",
      "227845/227845 [==============================] - 6s 27us/step - loss: 0.0015 - accuracy: 0.9996 - val_loss: 0.0058 - val_accuracy: 0.9994\n",
      "Epoch 36/100\n",
      "227845/227845 [==============================] - 6s 27us/step - loss: 0.0016 - accuracy: 0.9996 - val_loss: 0.0051 - val_accuracy: 0.9993\n",
      "Epoch 37/100\n",
      "227845/227845 [==============================] - 6s 28us/step - loss: 0.0017 - accuracy: 0.9995 - val_loss: 0.0055 - val_accuracy: 0.9994\n",
      "Epoch 38/100\n",
      "227845/227845 [==============================] - 6s 25us/step - loss: 0.0016 - accuracy: 0.9996 - val_loss: 0.0060 - val_accuracy: 0.9993\n",
      "Epoch 39/100\n",
      "227845/227845 [==============================] - 6s 26us/step - loss: 0.0016 - accuracy: 0.9995 - val_loss: 0.0055 - val_accuracy: 0.9994\n",
      "Epoch 40/100\n",
      "227845/227845 [==============================] - 6s 25us/step - loss: 0.0016 - accuracy: 0.9996 - val_loss: 0.0066 - val_accuracy: 0.9993\n",
      "Epoch 41/100\n",
      "227845/227845 [==============================] - 6s 25us/step - loss: 0.0015 - accuracy: 0.9996 - val_loss: 0.0060 - val_accuracy: 0.9994\n",
      "Epoch 42/100\n",
      "227845/227845 [==============================] - 6s 26us/step - loss: 0.0015 - accuracy: 0.9996 - val_loss: 0.0067 - val_accuracy: 0.9994\n",
      "Epoch 43/100\n",
      "227845/227845 [==============================] - 6s 25us/step - loss: 0.0015 - accuracy: 0.9996 - val_loss: 0.0058 - val_accuracy: 0.9994\n",
      "Epoch 44/100\n",
      "227845/227845 [==============================] - 7s 29us/step - loss: 0.0015 - accuracy: 0.9996 - val_loss: 0.0066 - val_accuracy: 0.9994\n",
      "Epoch 45/100\n",
      "227845/227845 [==============================] - 8s 37us/step - loss: 0.0014 - accuracy: 0.9996 - val_loss: 0.0086 - val_accuracy: 0.9989\n",
      "Epoch 46/100\n",
      "227845/227845 [==============================] - 6s 27us/step - loss: 0.0014 - accuracy: 0.9996 - val_loss: 0.0068 - val_accuracy: 0.9994\n",
      "Epoch 47/100\n",
      "227845/227845 [==============================] - 7s 29us/step - loss: 0.0014 - accuracy: 0.9996 - val_loss: 0.0079 - val_accuracy: 0.9994\n",
      "Epoch 48/100\n",
      "227845/227845 [==============================] - 7s 29us/step - loss: 0.0014 - accuracy: 0.9996 - val_loss: 0.0086 - val_accuracy: 0.9994\n",
      "Epoch 49/100\n",
      "227845/227845 [==============================] - 6s 27us/step - loss: 0.0015 - accuracy: 0.9996 - val_loss: 0.0086 - val_accuracy: 0.9994\n",
      "Epoch 50/100\n",
      "227845/227845 [==============================] - 6s 27us/step - loss: 0.0015 - accuracy: 0.9996 - val_loss: 0.0082 - val_accuracy: 0.9993\n",
      "Epoch 51/100\n",
      "227845/227845 [==============================] - 6s 26us/step - loss: 0.0014 - accuracy: 0.9996 - val_loss: 0.0071 - val_accuracy: 0.9993\n",
      "Epoch 52/100\n",
      "227845/227845 [==============================] - 6s 27us/step - loss: 0.0014 - accuracy: 0.9996 - val_loss: 0.0091 - val_accuracy: 0.9993\n",
      "Epoch 53/100\n",
      "227845/227845 [==============================] - 6s 26us/step - loss: 0.0013 - accuracy: 0.9996 - val_loss: 0.0102 - val_accuracy: 0.9994\n",
      "Epoch 54/100\n",
      "227845/227845 [==============================] - 6s 26us/step - loss: 0.0013 - accuracy: 0.9996 - val_loss: 0.0102 - val_accuracy: 0.9994\n",
      "Epoch 55/100\n",
      "227845/227845 [==============================] - 6s 26us/step - loss: 0.0015 - accuracy: 0.9996 - val_loss: 0.0105 - val_accuracy: 0.9993\n",
      "Epoch 56/100\n",
      "227845/227845 [==============================] - 6s 26us/step - loss: 0.0013 - accuracy: 0.9996 - val_loss: 0.0082 - val_accuracy: 0.9992\n",
      "Epoch 57/100\n",
      "227845/227845 [==============================] - 6s 26us/step - loss: 0.0014 - accuracy: 0.9996 - val_loss: 0.0091 - val_accuracy: 0.9993\n",
      "Epoch 58/100\n",
      "227845/227845 [==============================] - 6s 26us/step - loss: 0.0013 - accuracy: 0.9996 - val_loss: 0.0072 - val_accuracy: 0.9994\n",
      "Epoch 59/100\n",
      "227845/227845 [==============================] - 6s 25us/step - loss: 0.0014 - accuracy: 0.9996 - val_loss: 0.0094 - val_accuracy: 0.9993\n",
      "Epoch 60/100\n",
      "227845/227845 [==============================] - 6s 27us/step - loss: 0.0013 - accuracy: 0.9996 - val_loss: 0.0080 - val_accuracy: 0.9993\n",
      "Epoch 61/100\n",
      "227845/227845 [==============================] - 6s 25us/step - loss: 0.0013 - accuracy: 0.9996 - val_loss: 0.0096 - val_accuracy: 0.9993\n",
      "Epoch 62/100\n",
      "227845/227845 [==============================] - 6s 26us/step - loss: 0.0013 - accuracy: 0.9996 - val_loss: 0.0084 - val_accuracy: 0.9994\n",
      "Epoch 63/100\n",
      "227845/227845 [==============================] - 6s 27us/step - loss: 0.0013 - accuracy: 0.9997 - val_loss: 0.0101 - val_accuracy: 0.9993\n",
      "Epoch 64/100\n",
      "227845/227845 [==============================] - 6s 26us/step - loss: 0.0013 - accuracy: 0.9996 - val_loss: 0.0100 - val_accuracy: 0.9994\n",
      "Epoch 65/100\n",
      "227845/227845 [==============================] - 6s 26us/step - loss: 0.0015 - accuracy: 0.9996 - val_loss: 0.0086 - val_accuracy: 0.9994\n",
      "Epoch 66/100\n",
      "227845/227845 [==============================] - 6s 27us/step - loss: 0.0013 - accuracy: 0.9996 - val_loss: 0.0076 - val_accuracy: 0.9993\n",
      "Epoch 67/100\n",
      "227845/227845 [==============================] - 6s 26us/step - loss: 0.0013 - accuracy: 0.9996 - val_loss: 0.0094 - val_accuracy: 0.9993\n",
      "Epoch 68/100\n",
      "227845/227845 [==============================] - 6s 27us/step - loss: 0.0012 - accuracy: 0.9996 - val_loss: 0.0112 - val_accuracy: 0.9993\n",
      "Epoch 69/100\n",
      "227845/227845 [==============================] - 6s 25us/step - loss: 0.0012 - accuracy: 0.9996 - val_loss: 0.0085 - val_accuracy: 0.9994\n",
      "Epoch 70/100\n",
      "227845/227845 [==============================] - 6s 26us/step - loss: 0.0013 - accuracy: 0.9996 - val_loss: 0.0142 - val_accuracy: 0.9993\n",
      "Epoch 71/100\n",
      "227845/227845 [==============================] - 6s 27us/step - loss: 0.0013 - accuracy: 0.9996 - val_loss: 0.0114 - val_accuracy: 0.9994\n",
      "Epoch 72/100\n",
      "227845/227845 [==============================] - 6s 26us/step - loss: 0.0013 - accuracy: 0.9996 - val_loss: 0.0095 - val_accuracy: 0.9994\n",
      "Epoch 73/100\n",
      "227845/227845 [==============================] - 6s 26us/step - loss: 0.0012 - accuracy: 0.9997 - val_loss: 0.0098 - val_accuracy: 0.9993\n",
      "Epoch 74/100\n",
      "227845/227845 [==============================] - 6s 26us/step - loss: 0.0012 - accuracy: 0.9996 - val_loss: 0.0104 - val_accuracy: 0.9993\n",
      "Epoch 75/100\n",
      "227845/227845 [==============================] - 6s 25us/step - loss: 0.0012 - accuracy: 0.9996 - val_loss: 0.0132 - val_accuracy: 0.9992\n",
      "Epoch 76/100\n",
      "227845/227845 [==============================] - 6s 27us/step - loss: 0.0013 - accuracy: 0.9996 - val_loss: 0.0116 - val_accuracy: 0.9994\n",
      "Epoch 77/100\n",
      "227845/227845 [==============================] - 6s 26us/step - loss: 0.0012 - accuracy: 0.9996 - val_loss: 0.0119 - val_accuracy: 0.9994\n",
      "Epoch 78/100\n",
      "227845/227845 [==============================] - 8s 34us/step - loss: 0.0012 - accuracy: 0.9996 - val_loss: 0.0091 - val_accuracy: 0.9992\n",
      "Epoch 79/100\n",
      "227845/227845 [==============================] - 8s 33us/step - loss: 0.0013 - accuracy: 0.9996 - val_loss: 0.0114 - val_accuracy: 0.9994\n",
      "Epoch 80/100\n",
      "227845/227845 [==============================] - 6s 27us/step - loss: 0.0011 - accuracy: 0.9996 - val_loss: 0.0147 - val_accuracy: 0.9994\n",
      "Epoch 81/100\n",
      "227845/227845 [==============================] - 6s 28us/step - loss: 0.0011 - accuracy: 0.9996 - val_loss: 0.0138 - val_accuracy: 0.9992\n",
      "Epoch 82/100\n",
      "227845/227845 [==============================] - 6s 26us/step - loss: 0.0012 - accuracy: 0.9997 - val_loss: 0.0107 - val_accuracy: 0.9993\n",
      "Epoch 83/100\n",
      "227845/227845 [==============================] - 6s 28us/step - loss: 0.0011 - accuracy: 0.9996 - val_loss: 0.0233 - val_accuracy: 0.9993\n",
      "Epoch 84/100\n",
      "227845/227845 [==============================] - 6s 28us/step - loss: 0.0014 - accuracy: 0.9996 - val_loss: 0.0103 - val_accuracy: 0.9993\n",
      "Epoch 85/100\n",
      "227845/227845 [==============================] - 6s 27us/step - loss: 0.0011 - accuracy: 0.9996 - val_loss: 0.0114 - val_accuracy: 0.9994\n",
      "Epoch 86/100\n",
      "227845/227845 [==============================] - 7s 29us/step - loss: 0.0011 - accuracy: 0.9996 - val_loss: 0.0124 - val_accuracy: 0.9992\n",
      "Epoch 87/100\n",
      "227845/227845 [==============================] - 6s 27us/step - loss: 0.0012 - accuracy: 0.9996 - val_loss: 0.0121 - val_accuracy: 0.9993\n",
      "Epoch 88/100\n",
      "227845/227845 [==============================] - 6s 27us/step - loss: 0.0011 - accuracy: 0.9997 - val_loss: 0.0153 - val_accuracy: 0.9992\n",
      "Epoch 89/100\n",
      "227845/227845 [==============================] - 6s 28us/step - loss: 0.0011 - accuracy: 0.9996 - val_loss: 0.0156 - val_accuracy: 0.9993\n",
      "Epoch 90/100\n",
      "227845/227845 [==============================] - 6s 27us/step - loss: 0.0013 - accuracy: 0.9996 - val_loss: 0.0117 - val_accuracy: 0.9993\n",
      "Epoch 91/100\n",
      "227845/227845 [==============================] - 6s 28us/step - loss: 0.0012 - accuracy: 0.9996 - val_loss: 0.0134 - val_accuracy: 0.9993\n",
      "Epoch 92/100\n",
      "227845/227845 [==============================] - 6s 27us/step - loss: 0.0011 - accuracy: 0.9997 - val_loss: 0.0265 - val_accuracy: 0.9992\n",
      "Epoch 93/100\n",
      "227845/227845 [==============================] - 6s 28us/step - loss: 0.0013 - accuracy: 0.9996 - val_loss: 0.0159 - val_accuracy: 0.9993\n",
      "Epoch 94/100\n",
      "227845/227845 [==============================] - 7s 29us/step - loss: 9.9223e-04 - accuracy: 0.9997 - val_loss: 0.0229 - val_accuracy: 0.9993\n",
      "Epoch 95/100\n",
      "227845/227845 [==============================] - 6s 27us/step - loss: 0.0011 - accuracy: 0.9996 - val_loss: 0.0172 - val_accuracy: 0.9994\n",
      "Epoch 96/100\n",
      "227845/227845 [==============================] - 7s 29us/step - loss: 0.0010 - accuracy: 0.9997 - val_loss: 0.0132 - val_accuracy: 0.9993\n",
      "Epoch 97/100\n",
      "227845/227845 [==============================] - 6s 27us/step - loss: 0.0010 - accuracy: 0.9997 - val_loss: 0.0129 - val_accuracy: 0.9994\n",
      "Epoch 98/100\n",
      "227845/227845 [==============================] - 6s 27us/step - loss: 0.0011 - accuracy: 0.9997 - val_loss: 0.0176 - val_accuracy: 0.9993\n",
      "Epoch 99/100\n",
      "227845/227845 [==============================] - 6s 29us/step - loss: 0.0011 - accuracy: 0.9997 - val_loss: 0.0149 - val_accuracy: 0.9992\n",
      "Epoch 100/100\n",
      "227845/227845 [==============================] - 6s 28us/step - loss: 0.0012 - accuracy: 0.9996 - val_loss: 0.0122 - val_accuracy: 0.9993\n",
      "56962/56962 [==============================] - 1s 26us/step\n"
     ]
    }
   ],
   "source": [
    "model.compile(optimizer='adam',loss='binary_crossentropy',metrics=['accuracy'])\n",
    "acc_training = model.fit(X_train, y_train, validation_data=(X_test, y_test), batch_size=100, epochs=100)\n",
    "acc_testing  = model.evaluate(X_test, y_test) "
   ]
  },
  {
   "cell_type": "code",
   "execution_count": 100,
   "metadata": {},
   "outputs": [
    {
     "name": "stdout",
     "output_type": "stream",
     "text": [
      "akurasinya adalah 99.93%\n",
      "Test Loss: 0.07%\n"
     ]
    }
   ],
   "source": [
    "print('akurasinya adalah {:.2f}%\\nTest Loss: {:.2f}%'.format(acc_testing[1]*100,100-acc_testing[1]*100))"
   ]
  },
  {
   "cell_type": "code",
   "execution_count": 101,
   "metadata": {},
   "outputs": [
    {
     "data": {
      "text/plain": [
       "{'val_loss': [0.0044469673190837816,\n",
       "  0.004027516257135663,\n",
       "  0.0037523012511913745,\n",
       "  0.003380422272068938,\n",
       "  0.0034480009499058524,\n",
       "  0.003477081707772175,\n",
       "  0.0037416003110380814,\n",
       "  0.003484249000885357,\n",
       "  0.0037326541019841405,\n",
       "  0.0034052316972827275,\n",
       "  0.003519342340118595,\n",
       "  0.003844103029952596,\n",
       "  0.0035144099435469663,\n",
       "  0.0036773433954228915,\n",
       "  0.0038499041037447492,\n",
       "  0.004056946840746532,\n",
       "  0.0036747529988004645,\n",
       "  0.003745238744749253,\n",
       "  0.0039047682377039324,\n",
       "  0.003985775996242745,\n",
       "  0.004583678994761818,\n",
       "  0.004081478077896145,\n",
       "  0.004763786050368164,\n",
       "  0.004356376759664727,\n",
       "  0.004278933197154409,\n",
       "  0.004913999329227712,\n",
       "  0.0042872822703661105,\n",
       "  0.004232400799227292,\n",
       "  0.004619514035481669,\n",
       "  0.004750163310958588,\n",
       "  0.0046493428712860545,\n",
       "  0.004962740737241322,\n",
       "  0.004800401250454724,\n",
       "  0.004778220795355079,\n",
       "  0.005771098597994518,\n",
       "  0.005105489539924878,\n",
       "  0.005534731261801085,\n",
       "  0.006015428342814106,\n",
       "  0.00551773754940801,\n",
       "  0.006648191136191646,\n",
       "  0.005997269052953345,\n",
       "  0.0066629611577939075,\n",
       "  0.00581816451787498,\n",
       "  0.0066160846770410685,\n",
       "  0.008583316896728909,\n",
       "  0.006808813500102435,\n",
       "  0.00789046015558108,\n",
       "  0.008642997290319202,\n",
       "  0.008617904836307201,\n",
       "  0.008189883058776957,\n",
       "  0.0071088573322042395,\n",
       "  0.009081239239998236,\n",
       "  0.010208957904577376,\n",
       "  0.010220525262415266,\n",
       "  0.01046033475010452,\n",
       "  0.008203623932413305,\n",
       "  0.009115229657556997,\n",
       "  0.007235045678556503,\n",
       "  0.00936712291180868,\n",
       "  0.008045614777472647,\n",
       "  0.009606778865606128,\n",
       "  0.008432192686224924,\n",
       "  0.010071798449317455,\n",
       "  0.01003437637969152,\n",
       "  0.008585706215713178,\n",
       "  0.007557017621053458,\n",
       "  0.009430366951302232,\n",
       "  0.011229820635257893,\n",
       "  0.008450955913945624,\n",
       "  0.014225538079752824,\n",
       "  0.011412208360208264,\n",
       "  0.009549334771679258,\n",
       "  0.00975875116938589,\n",
       "  0.010445715051321313,\n",
       "  0.013174884866587262,\n",
       "  0.011552530268087799,\n",
       "  0.011890917697489446,\n",
       "  0.009141045820833018,\n",
       "  0.011436469387140793,\n",
       "  0.01473545834574982,\n",
       "  0.01384506806554966,\n",
       "  0.01066678129620063,\n",
       "  0.023250322928611084,\n",
       "  0.010326987480071454,\n",
       "  0.011363849686538986,\n",
       "  0.012396778464635444,\n",
       "  0.012107129455126424,\n",
       "  0.015255312769709253,\n",
       "  0.01561984585366955,\n",
       "  0.011730387419309386,\n",
       "  0.013400775645452207,\n",
       "  0.026463354552426637,\n",
       "  0.015883807694476663,\n",
       "  0.02294501591030579,\n",
       "  0.017245207872670074,\n",
       "  0.01321001571052868,\n",
       "  0.012932032198465419,\n",
       "  0.01755529440572984,\n",
       "  0.014929469641505346,\n",
       "  0.012227340503143669],\n",
       " 'val_accuracy': [0.9993504285812378,\n",
       "  0.9994382262229919,\n",
       "  0.9994382262229919,\n",
       "  0.9993329048156738,\n",
       "  0.9994733333587646,\n",
       "  0.9994733333587646,\n",
       "  0.9995084404945374,\n",
       "  0.9994733333587646,\n",
       "  0.9993680119514465,\n",
       "  0.9994733333587646,\n",
       "  0.9994557499885559,\n",
       "  0.9994031190872192,\n",
       "  0.9994733333587646,\n",
       "  0.9994733333587646,\n",
       "  0.9994557499885559,\n",
       "  0.9994206428527832,\n",
       "  0.9994909167289734,\n",
       "  0.9994557499885559,\n",
       "  0.9995260238647461,\n",
       "  0.9994031190872192,\n",
       "  0.9992626905441284,\n",
       "  0.9993855357170105,\n",
       "  0.9994382262229919,\n",
       "  0.9993855357170105,\n",
       "  0.9993680119514465,\n",
       "  0.9991748929023743,\n",
       "  0.9994206428527832,\n",
       "  0.9993153214454651,\n",
       "  0.9994206428527832,\n",
       "  0.9991924166679382,\n",
       "  0.9994382262229919,\n",
       "  0.9993680119514465,\n",
       "  0.9994557499885559,\n",
       "  0.9994206428527832,\n",
       "  0.9993680119514465,\n",
       "  0.9993329048156738,\n",
       "  0.9993504285812378,\n",
       "  0.9993329048156738,\n",
       "  0.9993504285812378,\n",
       "  0.9993329048156738,\n",
       "  0.9993504285812378,\n",
       "  0.9994206428527832,\n",
       "  0.9993680119514465,\n",
       "  0.9993680119514465,\n",
       "  0.9989115595817566,\n",
       "  0.9993504285812378,\n",
       "  0.9993504285812378,\n",
       "  0.9993680119514465,\n",
       "  0.9994031190872192,\n",
       "  0.9993329048156738,\n",
       "  0.9993153214454651,\n",
       "  0.9992802143096924,\n",
       "  0.9993855357170105,\n",
       "  0.9994031190872192,\n",
       "  0.9992977976799011,\n",
       "  0.9992451071739197,\n",
       "  0.9992977976799011,\n",
       "  0.9993680119514465,\n",
       "  0.9992802143096924,\n",
       "  0.9992802143096924,\n",
       "  0.9992977976799011,\n",
       "  0.9993855357170105,\n",
       "  0.9993329048156738,\n",
       "  0.9993855357170105,\n",
       "  0.9993680119514465,\n",
       "  0.9993153214454651,\n",
       "  0.9993153214454651,\n",
       "  0.9993153214454651,\n",
       "  0.9994031190872192,\n",
       "  0.9993329048156738,\n",
       "  0.9993680119514465,\n",
       "  0.9993680119514465,\n",
       "  0.9993329048156738,\n",
       "  0.9993329048156738,\n",
       "  0.9991748929023743,\n",
       "  0.9994031190872192,\n",
       "  0.9993680119514465,\n",
       "  0.999210000038147,\n",
       "  0.9993504285812378,\n",
       "  0.9993504285812378,\n",
       "  0.9992451071739197,\n",
       "  0.9992626905441284,\n",
       "  0.9993153214454651,\n",
       "  0.9992977976799011,\n",
       "  0.9994031190872192,\n",
       "  0.9991748929023743,\n",
       "  0.9992977976799011,\n",
       "  0.9992275834083557,\n",
       "  0.9993329048156738,\n",
       "  0.9992626905441284,\n",
       "  0.9992977976799011,\n",
       "  0.999210000038147,\n",
       "  0.9992802143096924,\n",
       "  0.9993153214454651,\n",
       "  0.9993855357170105,\n",
       "  0.9992802143096924,\n",
       "  0.9993504285812378,\n",
       "  0.9992626905441284,\n",
       "  0.9992451071739197,\n",
       "  0.9992626905441284],\n",
       " 'loss': [0.0183297653598446,\n",
       "  0.0037097733522195625,\n",
       "  0.0033612006297973323,\n",
       "  0.003225528880259245,\n",
       "  0.0029117065485239004,\n",
       "  0.002808750215154678,\n",
       "  0.0027828775346666343,\n",
       "  0.00253443557983921,\n",
       "  0.0025729146808215007,\n",
       "  0.002492373888960309,\n",
       "  0.0025176716384971718,\n",
       "  0.0023864151726524455,\n",
       "  0.002230692619661697,\n",
       "  0.0022952168688309357,\n",
       "  0.0021531790202192137,\n",
       "  0.0021410745519231996,\n",
       "  0.002201055815563587,\n",
       "  0.001978538367672882,\n",
       "  0.0019498186051287996,\n",
       "  0.0018871434434013427,\n",
       "  0.0018846248621956464,\n",
       "  0.001971154439055711,\n",
       "  0.0018664033523165054,\n",
       "  0.0017909069472084118,\n",
       "  0.0018631937185883591,\n",
       "  0.0018609347439151656,\n",
       "  0.001754032900799353,\n",
       "  0.0018230730948353498,\n",
       "  0.0017671307005319987,\n",
       "  0.0017029079942218392,\n",
       "  0.0017184490842263994,\n",
       "  0.001727320023629154,\n",
       "  0.0016464861618037871,\n",
       "  0.0016063527726421466,\n",
       "  0.0015237767724455137,\n",
       "  0.0015524692021181838,\n",
       "  0.0016662673488482798,\n",
       "  0.001608473842634932,\n",
       "  0.0015697299510187604,\n",
       "  0.0015780042571997663,\n",
       "  0.0014501584491174349,\n",
       "  0.0015365759361311005,\n",
       "  0.0014994978849089875,\n",
       "  0.0015255054560929513,\n",
       "  0.0014187436002352978,\n",
       "  0.0014362957717381538,\n",
       "  0.0013944617128987353,\n",
       "  0.0014464639543964848,\n",
       "  0.001480358713363457,\n",
       "  0.0014687729792630115,\n",
       "  0.0014353046419510545,\n",
       "  0.0014149451427959672,\n",
       "  0.0012947599261325863,\n",
       "  0.001327298456006079,\n",
       "  0.0014586534134355441,\n",
       "  0.0012674628971289517,\n",
       "  0.0013824660680099774,\n",
       "  0.0013270209118062563,\n",
       "  0.0013729461670418525,\n",
       "  0.0013148055917993663,\n",
       "  0.0012854648913361315,\n",
       "  0.0012848383432312598,\n",
       "  0.0012881313727746602,\n",
       "  0.0013446037978894073,\n",
       "  0.0014926523932016348,\n",
       "  0.001328290978930257,\n",
       "  0.0013081997063029618,\n",
       "  0.001192573626079766,\n",
       "  0.0012355959575636687,\n",
       "  0.0013167182723950806,\n",
       "  0.001324400000693847,\n",
       "  0.0012529900238583225,\n",
       "  0.0011854463990187652,\n",
       "  0.0011635762150538822,\n",
       "  0.0012203873781707858,\n",
       "  0.0013156473742108748,\n",
       "  0.0011901011180266376,\n",
       "  0.0012300740897176865,\n",
       "  0.0012677762434047913,\n",
       "  0.00110747333012449,\n",
       "  0.0011161477375418209,\n",
       "  0.0012042301450584463,\n",
       "  0.0010922172194856802,\n",
       "  0.0014228707301114,\n",
       "  0.0011462991920112467,\n",
       "  0.0010598165292146024,\n",
       "  0.001210496389703454,\n",
       "  0.0010529613753255214,\n",
       "  0.001096392443823788,\n",
       "  0.0012789877642443203,\n",
       "  0.00116281405506167,\n",
       "  0.0010686164492585742,\n",
       "  0.0013078777604401026,\n",
       "  0.000992227012264675,\n",
       "  0.0011491482451404676,\n",
       "  0.001040588050428875,\n",
       "  0.0010269738248723688,\n",
       "  0.0010808643104621438,\n",
       "  0.0010939758795860787,\n",
       "  0.0011576475483846117],\n",
       " 'accuracy': [0.9959534,\n",
       "  0.9992978,\n",
       "  0.9993592,\n",
       "  0.9993504,\n",
       "  0.9993987,\n",
       "  0.9993812,\n",
       "  0.9994338,\n",
       "  0.9994426,\n",
       "  0.9994338,\n",
       "  0.99946016,\n",
       "  0.9994426,\n",
       "  0.99949527,\n",
       "  0.99947774,\n",
       "  0.9994514,\n",
       "  0.9994821,\n",
       "  0.9995304,\n",
       "  0.99951285,\n",
       "  0.9995348,\n",
       "  0.99954355,\n",
       "  0.99947333,\n",
       "  0.9995216,\n",
       "  0.9994865,\n",
       "  0.99954355,\n",
       "  0.99951285,\n",
       "  0.9994997,\n",
       "  0.9995348,\n",
       "  0.99953914,\n",
       "  0.9994997,\n",
       "  0.99956113,\n",
       "  0.9995523,\n",
       "  0.99956113,\n",
       "  0.9995172,\n",
       "  0.99953914,\n",
       "  0.9995874,\n",
       "  0.9995874,\n",
       "  0.99958307,\n",
       "  0.99954796,\n",
       "  0.9995874,\n",
       "  0.99953914,\n",
       "  0.99957424,\n",
       "  0.9996357,\n",
       "  0.9996094,\n",
       "  0.99957865,\n",
       "  0.9995523,\n",
       "  0.9995874,\n",
       "  0.99963135,\n",
       "  0.99959624,\n",
       "  0.9996006,\n",
       "  0.99959624,\n",
       "  0.9996182,\n",
       "  0.99963135,\n",
       "  0.999605,\n",
       "  0.9996182,\n",
       "  0.999605,\n",
       "  0.99961376,\n",
       "  0.9996225,\n",
       "  0.9996006,\n",
       "  0.9995918,\n",
       "  0.9996006,\n",
       "  0.99964887,\n",
       "  0.99962693,\n",
       "  0.9996445,\n",
       "  0.9996533,\n",
       "  0.9996225,\n",
       "  0.9996357,\n",
       "  0.99963135,\n",
       "  0.99961376,\n",
       "  0.9996006,\n",
       "  0.9996401,\n",
       "  0.9996225,\n",
       "  0.9996225,\n",
       "  0.9996225,\n",
       "  0.9996533,\n",
       "  0.9996225,\n",
       "  0.999605,\n",
       "  0.9996182,\n",
       "  0.9996357,\n",
       "  0.99964887,\n",
       "  0.9996006,\n",
       "  0.9996182,\n",
       "  0.99964887,\n",
       "  0.99966645,\n",
       "  0.99964887,\n",
       "  0.99963135,\n",
       "  0.9996094,\n",
       "  0.9996357,\n",
       "  0.9996401,\n",
       "  0.9996577,\n",
       "  0.9996357,\n",
       "  0.999605,\n",
       "  0.9996357,\n",
       "  0.9996752,\n",
       "  0.9996225,\n",
       "  0.999684,\n",
       "  0.9996401,\n",
       "  0.99966204,\n",
       "  0.9996533,\n",
       "  0.99966204,\n",
       "  0.99966204,\n",
       "  0.99963135]}"
      ]
     },
     "execution_count": 101,
     "metadata": {},
     "output_type": "execute_result"
    }
   ],
   "source": [
    "acc_training.history"
   ]
  },
  {
   "cell_type": "code",
   "execution_count": 102,
   "metadata": {},
   "outputs": [
    {
     "data": {
      "image/png": "[encoded data removed]",
      "text/plain": [
       "<Figure size 864x360 with 1 Axes>"
      ]
     },
     "metadata": {
      "needs_background": "light"
     },
     "output_type": "display_data"
    }
   ],
   "source": [
    "fig,(ax0) = plt.subplots(nrows=1, figsize=(12,5))\n",
    "ax0.plot(acc_training.history['accuracy'],'red', label='Akurasi Training')\n",
    "ax0.plot(acc_training.history['val_accuracy'], 'blue', label='Akurasi Validasi')\n",
    "ax0.plot(label='Accuracy', loc='upper left')\n",
    "ax0.set_title('Model Accuracy')\n",
    "ax0.set_xlabel(\"Epoch\")\n",
    "ax0.set_ylabel(\"Accuracy\")\n",
    "ax0.legend()\n",
    "plt.savefig('Grafik Akurasi.png')"
   ]
  },
  {
   "cell_type": "code",
   "execution_count": 103,
   "metadata": {},
   "outputs": [
    {
     "data": {
      "image/png": "[encoded data removed]",
      "text/plain": [
       "<Figure size 864x360 with 1 Axes>"
      ]
     },
     "metadata": {
      "needs_background": "light"
     },
     "output_type": "display_data"
    }
   ],
   "source": [
    "fig,(ax1) = plt.subplots(nrows=1, figsize=(12,5))\n",
    "ax1.plot(acc_training.history['loss'],'red', label='Loss Training')\n",
    "ax1.plot(acc_training.history['val_loss'], 'blue', label='Loss Validasi')\n",
    "ax1.plot(label='Loss', loc='upper left')\n",
    "ax1.set_title('Model Loss')\n",
    "ax1.set_xlabel(\"Epoch\")\n",
    "ax1.set_ylabel(\"Loss\")\n",
    "ax1.legend()\n",
    "plt.savefig('Grafik Loss.png')"
   ]
  },
  {
   "cell_type": "markdown",
   "metadata": {},
   "source": [
    "Kesalahan rekonstruksi pada data pelatihan dan pengujian ini tampaknya bagus. Apakah cukup rendah? Mari kita lihat lebih dekat distribusi kesalahan:"
   ]
  },
  {
   "cell_type": "markdown",
   "metadata": {},
   "source": [
    "# Matriks Confusion\n",
    "Confusion matrix adalah suatu metode yang biasanya digunakan untuk melakukan perhitungan akurasi pada konsep data mining. Rumus ini melakukan perhitungan dengan 4 keluaran, yaitu: recall, precision, acuraccy dan error rate.\n",
    "\n",
    "Confusion Matriks memiliki 4 instilah yaitu\n",
    "\n",
    "    -True Positif\n",
    "    -False Positif\n",
    "    -False Negative\n",
    "    -True Negativ\n",
    "    \n",
    "    \n",
    "1. True Positives (TP): True positif adalah kasus ketika kelas sebenarnya dari titik data adalah 1 (Benar) dan prediksi juga 1 (Benar)\n",
    "\n",
    "2. Negatif Benar (TN): True Negatif adalah kasus ketika kelas sebenarnya dari titik data adalah 0 (Salah) dan prediksi juga 0 (Salah\n",
    "\n",
    "3. Salah Positif (FP): False positif adalah kasus ketika kelas sebenarnya dari titik data adalah 0 (Salah) dan yang diprediksi adalah 1 (Benar).\n",
    "\n",
    "4. Negatif Palsu (FN): False Negatif adalah kasus ketika kelas sebenarnya dari titik data adalah 1 (Benar) dan prediksi adalah 0 (Salah)."
   ]
  },
  {
   "cell_type": "markdown",
   "metadata": {},
   "source": [
    "BENTUK CONFUSION MATRIX DARI MODEL TRAINING"
   ]
  },
  {
   "cell_type": "code",
   "execution_count": 104,
   "metadata": {},
   "outputs": [
    {
     "name": "stdout",
     "output_type": "stream",
     "text": [
      "[[56844    14]\n",
      " [   28    76]]\n"
     ]
    }
   ],
   "source": [
    "from sklearn.metrics import confusion_matrix, classification_report\n",
    "\n",
    "y_pred = model.predict(X_test)\n",
    "training_cm = confusion_matrix(y_test, y_pred.round())\n",
    "print(training_cm)"
   ]
  },
  {
   "cell_type": "markdown",
   "metadata": {},
   "source": [
    "BENTUK CONFUSION MATRIX DARI MODEL TESTING"
   ]
  },
  {
   "cell_type": "code",
   "execution_count": 105,
   "metadata": {},
   "outputs": [
    {
     "name": "stdout",
     "output_type": "stream",
     "text": [
      "[[284294     21]\n",
      " [    87    405]]\n"
     ]
    }
   ],
   "source": [
    "y_pred = model.predict(X)\n",
    "testing_cm = confusion_matrix(y, y_pred.round())\n",
    "print(testing_cm)"
   ]
  },
  {
   "cell_type": "markdown",
   "metadata": {},
   "source": [
    "# Deep Learning dengan SMOTE"
   ]
  },
  {
   "cell_type": "markdown",
   "metadata": {},
   "source": [
    "Dikarenakan dataset yang digunakan tidak balance maka diperlukan library SMOTE. SMOTE merupakan metode yang populer diterapkan dalam rangka menangani ketidak seimbangan kelas. Teknik ini mensintesis sampel baru dari kelas minoritas untuk menyeimbangkan dataset dengan cara membuat instance baru dari minority class dengan pembentukan convex kombanasi dari instances yang saling berdekatan"
   ]
  },
  {
   "cell_type": "code",
   "execution_count": 57,
   "metadata": {},
   "outputs": [],
   "source": [
    "from imblearn.over_sampling import SMOTE"
   ]
  },
  {
   "cell_type": "code",
   "execution_count": 83,
   "metadata": {},
   "outputs": [],
   "source": [
    "X_resample, y_resample = SMOTE().fit_sample(X,y.values.ravel())\n",
    "y_resample = pd.DataFrame(y_resample)\n",
    "X_resample = pd.DataFrame(X_resample)\n",
    "X_train, X_test, y_train, y_test = train_test_split(X_resample,y_resample,test_size=0.2)\n",
    "X_train = np.array(X_train)\n",
    "X_test = np.array(X_test)\n",
    "y_train = np.array(y_train)\n",
    "y_test = np.array(y_test)"
   ]
  },
  {
   "cell_type": "markdown",
   "metadata": {},
   "source": [
    "SMOTE merupakan library yang digunakan untuk menyeimbangkan data"
   ]
  },
  {
   "cell_type": "code",
   "execution_count": 59,
   "metadata": {},
   "outputs": [
    {
     "name": "stdout",
     "output_type": "stream",
     "text": [
      "Train on 284315 samples, validate on 284315 samples\n",
      "Epoch 1/100\n",
      "284315/284315 [==============================] - 13s 45us/step - loss: 0.0481 - accuracy: 0.9865 - val_loss: 0.0252 - val_accuracy: 0.9913\n",
      "Epoch 2/100\n",
      "284315/284315 [==============================] - 9s 32us/step - loss: 0.0172 - accuracy: 0.9946 - val_loss: 0.0150 - val_accuracy: 0.9952\n",
      "Epoch 3/100\n",
      "284315/284315 [==============================] - 10s 35us/step - loss: 0.0120 - accuracy: 0.9967 - val_loss: 0.0118 - val_accuracy: 0.9964\n",
      "Epoch 4/100\n",
      "284315/284315 [==============================] - 9s 33us/step - loss: 0.0095 - accuracy: 0.9976 - val_loss: 0.0111 - val_accuracy: 0.9968\n",
      "Epoch 5/100\n",
      "284315/284315 [==============================] - 9s 33us/step - loss: 0.0082 - accuracy: 0.9980 - val_loss: 0.0088 - val_accuracy: 0.9977\n",
      "Epoch 6/100\n",
      "284315/284315 [==============================] - 10s 34us/step - loss: 0.0071 - accuracy: 0.9983 - val_loss: 0.0088 - val_accuracy: 0.9977\n",
      "Epoch 7/100\n",
      "284315/284315 [==============================] - 10s 34us/step - loss: 0.0064 - accuracy: 0.9985 - val_loss: 0.0063 - val_accuracy: 0.9985\n",
      "Epoch 8/100\n",
      "284315/284315 [==============================] - 10s 34us/step - loss: 0.0060 - accuracy: 0.9986 - val_loss: 0.0066 - val_accuracy: 0.9983\n",
      "Epoch 9/100\n",
      "284315/284315 [==============================] - 10s 34us/step - loss: 0.0053 - accuracy: 0.9988 - val_loss: 0.0066 - val_accuracy: 0.9984\n",
      "Epoch 10/100\n",
      "284315/284315 [==============================] - 9s 33us/step - loss: 0.0050 - accuracy: 0.9989 - val_loss: 0.0071 - val_accuracy: 0.9982\n",
      "Epoch 11/100\n",
      "284315/284315 [==============================] - 10s 34us/step - loss: 0.0053 - accuracy: 0.9989 - val_loss: 0.0053 - val_accuracy: 0.9988\n",
      "Epoch 12/100\n",
      "284315/284315 [==============================] - 9s 32us/step - loss: 0.0047 - accuracy: 0.9990 - val_loss: 0.0046 - val_accuracy: 0.9990\n",
      "Epoch 13/100\n",
      "284315/284315 [==============================] - 10s 34us/step - loss: 0.0045 - accuracy: 0.9991 - val_loss: 0.0066 - val_accuracy: 0.9983\n",
      "Epoch 14/100\n",
      "284315/284315 [==============================] - 10s 34us/step - loss: 0.0044 - accuracy: 0.9991 - val_loss: 0.0053 - val_accuracy: 0.9988\n",
      "Epoch 15/100\n",
      "284315/284315 [==============================] - 9s 33us/step - loss: 0.0044 - accuracy: 0.9990 - val_loss: 0.0051 - val_accuracy: 0.9988\n",
      "Epoch 16/100\n",
      "284315/284315 [==============================] - 10s 34us/step - loss: 0.0045 - accuracy: 0.9991 - val_loss: 0.0049 - val_accuracy: 0.9989\n",
      "Epoch 17/100\n",
      "284315/284315 [==============================] - 9s 33us/step - loss: 0.0043 - accuracy: 0.9991 - val_loss: 0.0043 - val_accuracy: 0.9991\n",
      "Epoch 18/100\n",
      "284315/284315 [==============================] - 10s 34us/step - loss: 0.0040 - accuracy: 0.9992 - val_loss: 0.0049 - val_accuracy: 0.9990\n",
      "Epoch 19/100\n",
      "284315/284315 [==============================] - 10s 33us/step - loss: 0.0039 - accuracy: 0.9992 - val_loss: 0.0060 - val_accuracy: 0.9987\n",
      "Epoch 20/100\n",
      "284315/284315 [==============================] - 9s 33us/step - loss: 0.0039 - accuracy: 0.9992 - val_loss: 0.0060 - val_accuracy: 0.9986\n",
      "Epoch 21/100\n",
      "284315/284315 [==============================] - 10s 34us/step - loss: 0.0042 - accuracy: 0.9991 - val_loss: 0.0048 - val_accuracy: 0.9990\n",
      "Epoch 22/100\n",
      "284315/284315 [==============================] - 9s 33us/step - loss: 0.0037 - accuracy: 0.9993 - val_loss: 0.0044 - val_accuracy: 0.9991\n",
      "Epoch 23/100\n",
      "284315/284315 [==============================] - 10s 34us/step - loss: 0.0038 - accuracy: 0.9991 - val_loss: 0.0078 - val_accuracy: 0.9982\n",
      "Epoch 24/100\n",
      "284315/284315 [==============================] - 9s 33us/step - loss: 0.0037 - accuracy: 0.9993 - val_loss: 0.0045 - val_accuracy: 0.9990\n",
      "Epoch 25/100\n",
      "284315/284315 [==============================] - 9s 33us/step - loss: 0.0037 - accuracy: 0.9992 - val_loss: 0.0045 - val_accuracy: 0.9990\n",
      "Epoch 26/100\n",
      "284315/284315 [==============================] - 10s 34us/step - loss: 0.0033 - accuracy: 0.9993 - val_loss: 0.0045 - val_accuracy: 0.9990\n",
      "Epoch 27/100\n",
      "284315/284315 [==============================] - 10s 34us/step - loss: 0.0036 - accuracy: 0.9993 - val_loss: 0.0039 - val_accuracy: 0.9992\n",
      "Epoch 28/100\n",
      "284315/284315 [==============================] - 10s 35us/step - loss: 0.0036 - accuracy: 0.9993 - val_loss: 0.0048 - val_accuracy: 0.9990\n",
      "Epoch 29/100\n",
      "284315/284315 [==============================] - 10s 34us/step - loss: 0.0034 - accuracy: 0.9993 - val_loss: 0.0057 - val_accuracy: 0.9986\n",
      "Epoch 30/100\n",
      "284315/284315 [==============================] - 9s 33us/step - loss: 0.0038 - accuracy: 0.9992 - val_loss: 0.0044 - val_accuracy: 0.9991\n",
      "Epoch 31/100\n",
      "284315/284315 [==============================] - 10s 34us/step - loss: 0.0030 - accuracy: 0.9995 - val_loss: 0.0042 - val_accuracy: 0.9992\n",
      "Epoch 32/100\n",
      "284315/284315 [==============================] - 9s 33us/step - loss: 0.0036 - accuracy: 0.9993 - val_loss: 0.0045 - val_accuracy: 0.9991\n",
      "Epoch 33/100\n",
      "284315/284315 [==============================] - 10s 36us/step - loss: 0.0032 - accuracy: 0.9994 - val_loss: 0.0044 - val_accuracy: 0.9991\n",
      "Epoch 34/100\n",
      "284315/284315 [==============================] - 10s 35us/step - loss: 0.0032 - accuracy: 0.9993 - val_loss: 0.0043 - val_accuracy: 0.9991\n",
      "Epoch 35/100\n",
      "284315/284315 [==============================] - 10s 35us/step - loss: 0.0032 - accuracy: 0.9993 - val_loss: 0.0049 - val_accuracy: 0.9989\n",
      "Epoch 36/100\n",
      "284315/284315 [==============================] - 10s 36us/step - loss: 0.0029 - accuracy: 0.9995 - val_loss: 0.0042 - val_accuracy: 0.9991\n",
      "Epoch 37/100\n",
      "284315/284315 [==============================] - 10s 35us/step - loss: 0.0033 - accuracy: 0.9993 - val_loss: 0.0043 - val_accuracy: 0.9991\n",
      "Epoch 38/100\n",
      "284315/284315 [==============================] - 10s 35us/step - loss: 0.0031 - accuracy: 0.9993 - val_loss: 0.0041 - val_accuracy: 0.9992\n",
      "Epoch 39/100\n",
      "284315/284315 [==============================] - 10s 36us/step - loss: 0.0031 - accuracy: 0.9994 - val_loss: 0.0043 - val_accuracy: 0.9992\n",
      "Epoch 40/100\n",
      "284315/284315 [==============================] - 10s 34us/step - loss: 0.0030 - accuracy: 0.9994 - val_loss: 0.0052 - val_accuracy: 0.9990\n",
      "Epoch 41/100\n",
      "284315/284315 [==============================] - 10s 35us/step - loss: 0.0031 - accuracy: 0.9994 - val_loss: 0.0056 - val_accuracy: 0.9988\n",
      "Epoch 42/100\n",
      "284315/284315 [==============================] - 10s 35us/step - loss: 0.0029 - accuracy: 0.9994 - val_loss: 0.0056 - val_accuracy: 0.9987\n",
      "Epoch 43/100\n",
      "284315/284315 [==============================] - 10s 34us/step - loss: 0.0030 - accuracy: 0.9994 - val_loss: 0.0052 - val_accuracy: 0.9988\n",
      "Epoch 44/100\n",
      "284315/284315 [==============================] - 10s 35us/step - loss: 0.0027 - accuracy: 0.9995 - val_loss: 0.0042 - val_accuracy: 0.9993\n",
      "Epoch 45/100\n",
      "284315/284315 [==============================] - 10s 34us/step - loss: 0.0027 - accuracy: 0.9995 - val_loss: 0.0057 - val_accuracy: 0.9989\n",
      "Epoch 46/100\n",
      "284315/284315 [==============================] - 10s 37us/step - loss: 0.0030 - accuracy: 0.9994 - val_loss: 0.0037 - val_accuracy: 0.9993\n",
      "Epoch 47/100\n",
      "284315/284315 [==============================] - 10s 34us/step - loss: 0.0030 - accuracy: 0.9994 - val_loss: 0.0049 - val_accuracy: 0.9990\n",
      "Epoch 48/100\n",
      "284315/284315 [==============================] - 10s 35us/step - loss: 0.0030 - accuracy: 0.9993 - val_loss: 0.0040 - val_accuracy: 0.9993\n",
      "Epoch 49/100\n",
      "284315/284315 [==============================] - 11s 37us/step - loss: 0.0027 - accuracy: 0.9995 - val_loss: 0.0038 - val_accuracy: 0.9994\n",
      "Epoch 50/100\n",
      "284315/284315 [==============================] - 10s 34us/step - loss: 0.0028 - accuracy: 0.9994 - val_loss: 0.0038 - val_accuracy: 0.9993\n",
      "Epoch 51/100\n",
      "284315/284315 [==============================] - 9s 31us/step - loss: 0.0028 - accuracy: 0.9994 - val_loss: 0.0049 - val_accuracy: 0.9991\n",
      "Epoch 52/100\n",
      "284315/284315 [==============================] - 9s 33us/step - loss: 0.0027 - accuracy: 0.9994 - val_loss: 0.0038 - val_accuracy: 0.9993\n",
      "Epoch 53/100\n",
      "284315/284315 [==============================] - 9s 30us/step - loss: 0.0024 - accuracy: 0.9996 - val_loss: 0.0038 - val_accuracy: 0.9993\n",
      "Epoch 54/100\n",
      "284315/284315 [==============================] - 9s 31us/step - loss: 0.0029 - accuracy: 0.9995 - val_loss: 0.0039 - val_accuracy: 0.9993\n",
      "Epoch 55/100\n",
      "284315/284315 [==============================] - 9s 32us/step - loss: 0.0029 - accuracy: 0.9994 - val_loss: 0.0044 - val_accuracy: 0.9992\n",
      "Epoch 56/100\n",
      "284315/284315 [==============================] - 10s 35us/step - loss: 0.0026 - accuracy: 0.9995 - val_loss: 0.0039 - val_accuracy: 0.9993\n",
      "Epoch 57/100\n",
      "284315/284315 [==============================] - 9s 31us/step - loss: 0.0027 - accuracy: 0.9995 - val_loss: 0.0036 - val_accuracy: 0.9994\n",
      "Epoch 58/100\n",
      "284315/284315 [==============================] - 9s 30us/step - loss: 0.0026 - accuracy: 0.9995 - val_loss: 0.0036 - val_accuracy: 0.9994\n",
      "Epoch 59/100\n",
      "284315/284315 [==============================] - 9s 30us/step - loss: 0.0029 - accuracy: 0.9994 - val_loss: 0.0035 - val_accuracy: 0.9993\n",
      "Epoch 60/100\n",
      "284315/284315 [==============================] - 9s 31us/step - loss: 0.0025 - accuracy: 0.9995 - val_loss: 0.0042 - val_accuracy: 0.9992\n",
      "Epoch 61/100\n",
      "284315/284315 [==============================] - 9s 32us/step - loss: 0.0027 - accuracy: 0.9995 - val_loss: 0.0035 - val_accuracy: 0.9993\n",
      "Epoch 62/100\n",
      "284315/284315 [==============================] - 8s 30us/step - loss: 0.0026 - accuracy: 0.9995 - val_loss: 0.0042 - val_accuracy: 0.9992\n",
      "Epoch 63/100\n",
      "284315/284315 [==============================] - 9s 31us/step - loss: 0.0029 - accuracy: 0.9995 - val_loss: 0.0037 - val_accuracy: 0.9993\n",
      "Epoch 64/100\n",
      "284315/284315 [==============================] - 8s 29us/step - loss: 0.0025 - accuracy: 0.9995 - val_loss: 0.0039 - val_accuracy: 0.9993\n",
      "Epoch 65/100\n",
      "284315/284315 [==============================] - 9s 30us/step - loss: 0.0028 - accuracy: 0.9995 - val_loss: 0.0050 - val_accuracy: 0.9989\n",
      "Epoch 66/100\n",
      "284315/284315 [==============================] - 8s 29us/step - loss: 0.0026 - accuracy: 0.9995 - val_loss: 0.0040 - val_accuracy: 0.9992\n",
      "Epoch 67/100\n",
      "284315/284315 [==============================] - 8s 30us/step - loss: 0.0027 - accuracy: 0.9995 - val_loss: 0.0045 - val_accuracy: 0.9990\n",
      "Epoch 68/100\n",
      "284315/284315 [==============================] - 8s 28us/step - loss: 0.0026 - accuracy: 0.9995 - val_loss: 0.0038 - val_accuracy: 0.9993\n",
      "Epoch 69/100\n",
      "284315/284315 [==============================] - 8s 29us/step - loss: 0.0027 - accuracy: 0.9995 - val_loss: 0.0039 - val_accuracy: 0.9992\n",
      "Epoch 70/100\n",
      "284315/284315 [==============================] - 8s 29us/step - loss: 0.0027 - accuracy: 0.9995 - val_loss: 0.0044 - val_accuracy: 0.9991\n",
      "Epoch 71/100\n",
      "284315/284315 [==============================] - 8s 30us/step - loss: 0.0025 - accuracy: 0.9995 - val_loss: 0.0039 - val_accuracy: 0.9993\n",
      "Epoch 72/100\n",
      "284315/284315 [==============================] - 8s 29us/step - loss: 0.0025 - accuracy: 0.9995 - val_loss: 0.0036 - val_accuracy: 0.9994\n",
      "Epoch 73/100\n",
      "284315/284315 [==============================] - 9s 32us/step - loss: 0.0025 - accuracy: 0.9995 - val_loss: 0.0043 - val_accuracy: 0.9993\n",
      "Epoch 74/100\n",
      "284315/284315 [==============================] - 10s 37us/step - loss: 0.0029 - accuracy: 0.9994 - val_loss: 0.0035 - val_accuracy: 0.9994\n",
      "Epoch 75/100\n",
      "284315/284315 [==============================] - 10s 34us/step - loss: 0.0024 - accuracy: 0.9995 - val_loss: 0.0047 - val_accuracy: 0.9991\n",
      "Epoch 76/100\n",
      "284315/284315 [==============================] - 10s 35us/step - loss: 0.0026 - accuracy: 0.9995 - val_loss: 0.0041 - val_accuracy: 0.9993\n",
      "Epoch 77/100\n",
      "284315/284315 [==============================] - 11s 39us/step - loss: 0.0023 - accuracy: 0.9995 - val_loss: 0.0038 - val_accuracy: 0.9994\n",
      "Epoch 78/100\n",
      "284315/284315 [==============================] - 11s 38us/step - loss: 0.0026 - accuracy: 0.9995 - val_loss: 0.0044 - val_accuracy: 0.9991\n",
      "Epoch 79/100\n",
      "284315/284315 [==============================] - 11s 38us/step - loss: 0.0025 - accuracy: 0.9995 - val_loss: 0.0055 - val_accuracy: 0.9988\n",
      "Epoch 80/100\n",
      "284315/284315 [==============================] - 12s 41us/step - loss: 0.0024 - accuracy: 0.9995 - val_loss: 0.0039 - val_accuracy: 0.9994\n",
      "Epoch 81/100\n",
      "284315/284315 [==============================] - 12s 44us/step - loss: 0.0025 - accuracy: 0.9995 - val_loss: 0.0040 - val_accuracy: 0.9993\n",
      "Epoch 82/100\n",
      "284315/284315 [==============================] - 10s 35us/step - loss: 0.0024 - accuracy: 0.9995 - val_loss: 0.0037 - val_accuracy: 0.9994\n",
      "Epoch 83/100\n",
      "284315/284315 [==============================] - 14s 49us/step - loss: 0.0024 - accuracy: 0.9995 - val_loss: 0.0051 - val_accuracy: 0.9989\n",
      "Epoch 84/100\n",
      "284315/284315 [==============================] - 12s 41us/step - loss: 0.0025 - accuracy: 0.9995 - val_loss: 0.0044 - val_accuracy: 0.9991\n",
      "Epoch 85/100\n",
      "284315/284315 [==============================] - 12s 41us/step - loss: 0.0024 - accuracy: 0.9996 - val_loss: 0.0040 - val_accuracy: 0.9992\n",
      "Epoch 86/100\n",
      "284315/284315 [==============================] - 14s 48us/step - loss: 0.0025 - accuracy: 0.9995 - val_loss: 0.0043 - val_accuracy: 0.9993\n",
      "Epoch 87/100\n",
      "284315/284315 [==============================] - 16s 57us/step - loss: 0.0023 - accuracy: 0.9996 - val_loss: 0.0039 - val_accuracy: 0.9993\n",
      "Epoch 88/100\n",
      "284315/284315 [==============================] - 11s 37us/step - loss: 0.0025 - accuracy: 0.9995 - val_loss: 0.0040 - val_accuracy: 0.9993\n",
      "Epoch 89/100\n",
      "284315/284315 [==============================] - 11s 40us/step - loss: 0.0026 - accuracy: 0.9995 - val_loss: 0.0046 - val_accuracy: 0.9992\n",
      "Epoch 90/100\n",
      "284315/284315 [==============================] - 11s 38us/step - loss: 0.0023 - accuracy: 0.9996 - val_loss: 0.0042 - val_accuracy: 0.9992\n",
      "Epoch 91/100\n",
      "284315/284315 [==============================] - 11s 39us/step - loss: 0.0026 - accuracy: 0.9996 - val_loss: 0.0041 - val_accuracy: 0.9993\n",
      "Epoch 92/100\n",
      "284315/284315 [==============================] - 11s 38us/step - loss: 0.0026 - accuracy: 0.9995 - val_loss: 0.0041 - val_accuracy: 0.9993\n",
      "Epoch 93/100\n",
      "284315/284315 [==============================] - 11s 37us/step - loss: 0.0022 - accuracy: 0.9996 - val_loss: 0.0041 - val_accuracy: 0.9993\n",
      "Epoch 94/100\n",
      "284315/284315 [==============================] - 10s 36us/step - loss: 0.0025 - accuracy: 0.9995 - val_loss: 0.0037 - val_accuracy: 0.9994\n",
      "Epoch 95/100\n",
      "284315/284315 [==============================] - 10s 35us/step - loss: 0.0022 - accuracy: 0.9996 - val_loss: 0.0038 - val_accuracy: 0.9993\n",
      "Epoch 96/100\n",
      "284315/284315 [==============================] - 11s 38us/step - loss: 0.0020 - accuracy: 0.9997 - val_loss: 0.0051 - val_accuracy: 0.9991\n",
      "Epoch 97/100\n",
      "284315/284315 [==============================] - 11s 39us/step - loss: 0.0027 - accuracy: 0.9995 - val_loss: 0.0042 - val_accuracy: 0.9992\n",
      "Epoch 98/100\n",
      "284315/284315 [==============================] - 12s 43us/step - loss: 0.0022 - accuracy: 0.9996 - val_loss: 0.0041 - val_accuracy: 0.9993\n",
      "Epoch 99/100\n",
      "284315/284315 [==============================] - 10s 36us/step - loss: 0.0023 - accuracy: 0.9996 - val_loss: 0.0045 - val_accuracy: 0.9993\n",
      "Epoch 100/100\n",
      "284315/284315 [==============================] - 10s 34us/step - loss: 0.0023 - accuracy: 0.9996 - val_loss: 0.0046 - val_accuracy: 0.9991\n",
      "284315/284315 [==============================] - 7s 25us/step\n"
     ]
    }
   ],
   "source": [
    "X_resample, y_resample = SMOTE().fit_sample(X,y.values.ravel())\n",
    "y_resample = pd.DataFrame(y_resample)\n",
    "X_resample = pd.DataFrame(X_resample)\n",
    "X_train, X_test, y_train, y_test = train_test_split(X_resample,y_resample,test_size=0.5)\n",
    "X_train = np.array(X_train)\n",
    "X_test = np.array(X_test)\n",
    "y_train = np.array(y_train)\n",
    "y_test = np.array(y_test)\n",
    "\n",
    "model.compile(optimizer='adam',loss='binary_crossentropy',metrics=['accuracy'])\n",
    "acc_training = model.fit(X_train, y_train, validation_data=(X_test, y_test), batch_size=100, epochs=100)\n",
    "acc_testing  = model.evaluate(X_test, y_test) "
   ]
  },
  {
   "cell_type": "code",
   "execution_count": 60,
   "metadata": {},
   "outputs": [
    {
     "name": "stdout",
     "output_type": "stream",
     "text": [
      "akurasinya adalah 99.91%\n",
      "Test Loss: 0.09%\n"
     ]
    }
   ],
   "source": [
    "print('akurasinya adalah {:.2f}%\\nTest Loss: {:.2f}%'.format(acc_testing[1]*100,100-acc_testing[1]*100))"
   ]
  },
  {
   "cell_type": "code",
   "execution_count": 61,
   "metadata": {},
   "outputs": [
    {
     "data": {
      "text/plain": [
       "{'val_loss': [0.025161276762817354,\n",
       "  0.014981831580623883,\n",
       "  0.011753449501511448,\n",
       "  0.011103832456586762,\n",
       "  0.008795105347824355,\n",
       "  0.008839830666512857,\n",
       "  0.006326638182895646,\n",
       "  0.006585601935808988,\n",
       "  0.0065688086662942765,\n",
       "  0.007111894242561547,\n",
       "  0.005289444838528309,\n",
       "  0.004600959007810946,\n",
       "  0.00657720065374269,\n",
       "  0.005263601597566459,\n",
       "  0.005134603766842993,\n",
       "  0.0048947406718555355,\n",
       "  0.004333054068222715,\n",
       "  0.00486728261326238,\n",
       "  0.005972805521055799,\n",
       "  0.005983865832690562,\n",
       "  0.004772963834898999,\n",
       "  0.004416497577934274,\n",
       "  0.0077587911868994,\n",
       "  0.004543659075192311,\n",
       "  0.00449985862408089,\n",
       "  0.004541969001345245,\n",
       "  0.0038928119296812035,\n",
       "  0.0048445998367099416,\n",
       "  0.005727391042431893,\n",
       "  0.004411134084474574,\n",
       "  0.0042042005039748245,\n",
       "  0.004538527204375622,\n",
       "  0.004395497697672976,\n",
       "  0.0042993596927341175,\n",
       "  0.004944098719641151,\n",
       "  0.004203684579810848,\n",
       "  0.0043124103910941024,\n",
       "  0.004148738317264092,\n",
       "  0.00429725566423533,\n",
       "  0.005200959990899497,\n",
       "  0.005590884606454174,\n",
       "  0.005601269131573263,\n",
       "  0.005212079837060469,\n",
       "  0.004176192974675718,\n",
       "  0.005650129692095561,\n",
       "  0.003676281337750721,\n",
       "  0.004921723734650938,\n",
       "  0.003987849512477659,\n",
       "  0.0037888063806611116,\n",
       "  0.003780896869960363,\n",
       "  0.004907063360970169,\n",
       "  0.0038114136382139435,\n",
       "  0.0038032695929703484,\n",
       "  0.0038507205935555716,\n",
       "  0.004372114202914681,\n",
       "  0.003854177331163349,\n",
       "  0.003590834570708054,\n",
       "  0.003645287254067338,\n",
       "  0.003507459782232032,\n",
       "  0.0042005722997498175,\n",
       "  0.0035413180568812986,\n",
       "  0.004172841050374979,\n",
       "  0.0037401968352447734,\n",
       "  0.003877768001453532,\n",
       "  0.004963779680954296,\n",
       "  0.003988071928877336,\n",
       "  0.00446560676780875,\n",
       "  0.0038045360200476175,\n",
       "  0.003879557925539818,\n",
       "  0.004443466725090627,\n",
       "  0.0038566788970328812,\n",
       "  0.003641074433751376,\n",
       "  0.004322181538900159,\n",
       "  0.00351984120722191,\n",
       "  0.004745718968566526,\n",
       "  0.004120411835890926,\n",
       "  0.0038385194352138037,\n",
       "  0.004425137370416199,\n",
       "  0.005513395137380398,\n",
       "  0.003888535480867287,\n",
       "  0.0039909668937925065,\n",
       "  0.003682181512136404,\n",
       "  0.00514362872374158,\n",
       "  0.004391763265913727,\n",
       "  0.0040154209931151435,\n",
       "  0.004256474860553642,\n",
       "  0.003885896052735544,\n",
       "  0.004032474300241867,\n",
       "  0.004563681417946789,\n",
       "  0.004193613552280975,\n",
       "  0.004117617708709177,\n",
       "  0.004117469506583767,\n",
       "  0.004117558521662373,\n",
       "  0.0037495708316299518,\n",
       "  0.0037576639292806815,\n",
       "  0.005068687281211193,\n",
       "  0.004180760276946261,\n",
       "  0.004050107416195464,\n",
       "  0.004461299961548728,\n",
       "  0.004642535187893538],\n",
       " 'val_accuracy': [0.9913300275802612,\n",
       "  0.9952270984649658,\n",
       "  0.9963701963424683,\n",
       "  0.9967676401138306,\n",
       "  0.9976856708526611,\n",
       "  0.9976856708526611,\n",
       "  0.9984700083732605,\n",
       "  0.9983223080635071,\n",
       "  0.998392641544342,\n",
       "  0.9982167482376099,\n",
       "  0.9988041520118713,\n",
       "  0.9989940524101257,\n",
       "  0.9982906579971313,\n",
       "  0.9988252520561218,\n",
       "  0.9988182187080383,\n",
       "  0.9989131689071655,\n",
       "  0.9990890622138977,\n",
       "  0.99896240234375,\n",
       "  0.9987443685531616,\n",
       "  0.9986036419868469,\n",
       "  0.9990151524543762,\n",
       "  0.999057412147522,\n",
       "  0.9981675148010254,\n",
       "  0.9989940524101257,\n",
       "  0.9990081191062927,\n",
       "  0.999018669128418,\n",
       "  0.9991910457611084,\n",
       "  0.9989835023880005,\n",
       "  0.9985579252243042,\n",
       "  0.9991171956062317,\n",
       "  0.9991593956947327,\n",
       "  0.9990503787994385,\n",
       "  0.9991453289985657,\n",
       "  0.9991136789321899,\n",
       "  0.9989377856254578,\n",
       "  0.9991453289985657,\n",
       "  0.9991312623023987,\n",
       "  0.9991910457611084,\n",
       "  0.9992226958274841,\n",
       "  0.99896240234375,\n",
       "  0.9988393187522888,\n",
       "  0.9987303018569946,\n",
       "  0.9988393187522888,\n",
       "  0.9992543458938599,\n",
       "  0.9988991022109985,\n",
       "  0.9993070960044861,\n",
       "  0.9989729523658752,\n",
       "  0.9992789626121521,\n",
       "  0.9993703961372375,\n",
       "  0.9992789626121521,\n",
       "  0.9990644454956055,\n",
       "  0.9992930293083191,\n",
       "  0.9992824792861938,\n",
       "  0.9992789626121521,\n",
       "  0.9992437958717346,\n",
       "  0.9993070960044861,\n",
       "  0.9993598461151123,\n",
       "  0.999363362789154,\n",
       "  0.9993492960929871,\n",
       "  0.9992402791976929,\n",
       "  0.9992965459823608,\n",
       "  0.9991875290870667,\n",
       "  0.9992508292198181,\n",
       "  0.9992895126342773,\n",
       "  0.9988533854484558,\n",
       "  0.9992156624794006,\n",
       "  0.9989588856697083,\n",
       "  0.9993000626564026,\n",
       "  0.9992226958274841,\n",
       "  0.9991347789764404,\n",
       "  0.9993281960487366,\n",
       "  0.9993950128555298,\n",
       "  0.9993176460266113,\n",
       "  0.9993739128112793,\n",
       "  0.9990890622138977,\n",
       "  0.9993141293525696,\n",
       "  0.9993703961372375,\n",
       "  0.9991453289985657,\n",
       "  0.9987900853157043,\n",
       "  0.9993739128112793,\n",
       "  0.9993422627449036,\n",
       "  0.9994090795516968,\n",
       "  0.998878002166748,\n",
       "  0.9991418123245239,\n",
       "  0.9992191791534424,\n",
       "  0.9992895126342773,\n",
       "  0.9993035793304443,\n",
       "  0.9993246793746948,\n",
       "  0.9991840124130249,\n",
       "  0.9992437958717346,\n",
       "  0.9992895126342773,\n",
       "  0.9992754459381104,\n",
       "  0.9992930293083191,\n",
       "  0.999377429485321,\n",
       "  0.9993387460708618,\n",
       "  0.9991277456283569,\n",
       "  0.9992262125015259,\n",
       "  0.9992859959602356,\n",
       "  0.9992859959602356,\n",
       "  0.999099612236023],\n",
       " 'loss': [0.04812157428905549,\n",
       "  0.017242560046091336,\n",
       "  0.011986785746851721,\n",
       "  0.009499812356395571,\n",
       "  0.008174384959823254,\n",
       "  0.0070774142235873316,\n",
       "  0.006364453108468486,\n",
       "  0.006006151296387555,\n",
       "  0.005275719750825631,\n",
       "  0.0049724639057167124,\n",
       "  0.005278346851743439,\n",
       "  0.00467990059293527,\n",
       "  0.004495834362875532,\n",
       "  0.004416646399430327,\n",
       "  0.004425254229783975,\n",
       "  0.004474818226892132,\n",
       "  0.004308636076711438,\n",
       "  0.0040187332842788765,\n",
       "  0.003914502723503799,\n",
       "  0.0039388905615171475,\n",
       "  0.004246311115431274,\n",
       "  0.003741241474821118,\n",
       "  0.003797717699565439,\n",
       "  0.0037100885175861565,\n",
       "  0.003737564617043085,\n",
       "  0.0033309956814231126,\n",
       "  0.0036229039431301016,\n",
       "  0.0036224367999084833,\n",
       "  0.0034267171133402765,\n",
       "  0.0037692782904913207,\n",
       "  0.0030486562007199813,\n",
       "  0.003554854120110991,\n",
       "  0.003204344595164905,\n",
       "  0.0031824842720412105,\n",
       "  0.003235239177059147,\n",
       "  0.0029385428714959814,\n",
       "  0.003260568762421348,\n",
       "  0.0031477473181383774,\n",
       "  0.00314198400564578,\n",
       "  0.0030230650201715933,\n",
       "  0.003115648147817122,\n",
       "  0.0029327196190081445,\n",
       "  0.002956495690670197,\n",
       "  0.00265485248029833,\n",
       "  0.002696792457516416,\n",
       "  0.0029508333006385704,\n",
       "  0.002998109017108413,\n",
       "  0.003045549725218401,\n",
       "  0.002733651073030813,\n",
       "  0.002847581074043591,\n",
       "  0.0027705135114084243,\n",
       "  0.002737606849299138,\n",
       "  0.002391634654518797,\n",
       "  0.0029490143509627795,\n",
       "  0.002930722265804748,\n",
       "  0.002621627071275033,\n",
       "  0.002658929204768746,\n",
       "  0.0026034473992458443,\n",
       "  0.0028531198614807473,\n",
       "  0.002479985377419927,\n",
       "  0.0026859891871502148,\n",
       "  0.0025985771458843353,\n",
       "  0.002882364958255624,\n",
       "  0.002477122315530576,\n",
       "  0.0027916947942666238,\n",
       "  0.0026408084637876902,\n",
       "  0.002670647156352303,\n",
       "  0.0026453165283819584,\n",
       "  0.0027040021855972447,\n",
       "  0.002663881920803658,\n",
       "  0.002473277661535081,\n",
       "  0.0025110064348181304,\n",
       "  0.002504945649040815,\n",
       "  0.002927314345441064,\n",
       "  0.002415927197184422,\n",
       "  0.002641726433565403,\n",
       "  0.0023346909931343165,\n",
       "  0.0026037916431958263,\n",
       "  0.002534320912441026,\n",
       "  0.002361103781180002,\n",
       "  0.002457237248119336,\n",
       "  0.0023602155587638977,\n",
       "  0.002365177454184452,\n",
       "  0.0024628785521233093,\n",
       "  0.0024142362945924383,\n",
       "  0.00250668359215329,\n",
       "  0.0023404774047886775,\n",
       "  0.0024794149483421883,\n",
       "  0.0026044368966385988,\n",
       "  0.0023343652228401328,\n",
       "  0.0025592457514147533,\n",
       "  0.0025704575314815735,\n",
       "  0.0022346870658063295,\n",
       "  0.0025252262168614825,\n",
       "  0.0021560404672243275,\n",
       "  0.0019778729879485076,\n",
       "  0.0026821991230562927,\n",
       "  0.0022378533347571505,\n",
       "  0.0022981442207985594,\n",
       "  0.0022909553609267853],\n",
       " 'accuracy': [0.98645866,\n",
       "  0.9946116,\n",
       "  0.9966516,\n",
       "  0.99755204,\n",
       "  0.99800223,\n",
       "  0.9983153,\n",
       "  0.9984911,\n",
       "  0.99864936,\n",
       "  0.99884635,\n",
       "  0.99889207,\n",
       "  0.9989237,\n",
       "  0.9990222,\n",
       "  0.9991207,\n",
       "  0.99906445,\n",
       "  0.9990046,\n",
       "  0.9990574,\n",
       "  0.9991348,\n",
       "  0.9991805,\n",
       "  0.99923676,\n",
       "  0.9991805,\n",
       "  0.99911016,\n",
       "  0.9992614,\n",
       "  0.99914885,\n",
       "  0.99927896,\n",
       "  0.99919456,\n",
       "  0.9993071,\n",
       "  0.99927545,\n",
       "  0.999293,\n",
       "  0.9993282,\n",
       "  0.9992227,\n",
       "  0.9994619,\n",
       "  0.9992825,\n",
       "  0.99940205,\n",
       "  0.9993141,\n",
       "  0.9993106,\n",
       "  0.99945134,\n",
       "  0.9993071,\n",
       "  0.9993317,\n",
       "  0.99935985,\n",
       "  0.9993528,\n",
       "  0.9993704,\n",
       "  0.9993669,\n",
       "  0.99943376,\n",
       "  0.999483,\n",
       "  0.9995076,\n",
       "  0.99938446,\n",
       "  0.9994126,\n",
       "  0.9993493,\n",
       "  0.99945134,\n",
       "  0.99940205,\n",
       "  0.9994196,\n",
       "  0.99943376,\n",
       "  0.9995709,\n",
       "  0.99945486,\n",
       "  0.9993704,\n",
       "  0.99953574,\n",
       "  0.99951816,\n",
       "  0.9994865,\n",
       "  0.9994408,\n",
       "  0.9995111,\n",
       "  0.9995006,\n",
       "  0.999483,\n",
       "  0.99945134,\n",
       "  0.9995287,\n",
       "  0.99945134,\n",
       "  0.9995076,\n",
       "  0.9994619,\n",
       "  0.9995006,\n",
       "  0.99949,\n",
       "  0.9994865,\n",
       "  0.9994654,\n",
       "  0.99951464,\n",
       "  0.99949706,\n",
       "  0.9994408,\n",
       "  0.9995322,\n",
       "  0.99947596,\n",
       "  0.9995076,\n",
       "  0.9995217,\n",
       "  0.9995076,\n",
       "  0.99953926,\n",
       "  0.9995217,\n",
       "  0.99953926,\n",
       "  0.9995428,\n",
       "  0.9995287,\n",
       "  0.9995709,\n",
       "  0.9995498,\n",
       "  0.9995744,\n",
       "  0.999483,\n",
       "  0.9995111,\n",
       "  0.9995744,\n",
       "  0.9996272,\n",
       "  0.9994865,\n",
       "  0.999592,\n",
       "  0.9994654,\n",
       "  0.999585,\n",
       "  0.9996518,\n",
       "  0.999483,\n",
       "  0.9996307,\n",
       "  0.9995533,\n",
       "  0.9995639]}"
      ]
     },
     "execution_count": 61,
     "metadata": {},
     "output_type": "execute_result"
    }
   ],
   "source": [
    "acc_training.history"
   ]
  },
  {
   "cell_type": "code",
   "execution_count": 62,
   "metadata": {},
   "outputs": [
    {
     "data": {
      "image/png": "[encoded data removed]",
      "text/plain": [
       "<Figure size 864x360 with 1 Axes>"
      ]
     },
     "metadata": {
      "needs_background": "light"
     },
     "output_type": "display_data"
    }
   ],
   "source": [
    "fig,(ax0) = plt.subplots(nrows=1, figsize=(12,5))\n",
    "ax0.plot(acc_training.history['accuracy'],'red', label='Akurasi Training')\n",
    "ax0.plot(acc_training.history['val_accuracy'], 'blue', label='Akurasi Validasi')\n",
    "ax0.plot(label='Accuracy', loc='upper left')\n",
    "ax0.set_title('Model Accuracy')\n",
    "ax0.set_xlabel(\"Epoch\")\n",
    "ax0.set_ylabel(\"Accuracy\")\n",
    "ax0.legend()\n",
    "plt.savefig('Grafik Akurasi.png')"
   ]
  },
  {
   "cell_type": "code",
   "execution_count": 63,
   "metadata": {},
   "outputs": [
    {
     "data": {
      "image/png": "[encoded data removed]",
      "text/plain": [
       "<Figure size 864x360 with 1 Axes>"
      ]
     },
     "metadata": {
      "needs_background": "light"
     },
     "output_type": "display_data"
    }
   ],
   "source": [
    "fig,(ax1) = plt.subplots(nrows=1, figsize=(12,5))\n",
    "ax1.plot(acc_training.history['loss'],'red', label='Loss Training')\n",
    "ax1.plot(acc_training.history['val_loss'], 'blue', label='Loss Validasi')\n",
    "ax1.plot(label='Loss', loc='upper left')\n",
    "ax1.set_title('Model Loss')\n",
    "ax1.set_xlabel(\"Epoch\")\n",
    "ax1.set_ylabel(\"Loss\")\n",
    "ax1.legend()\n",
    "plt.savefig('Grafik Loss.png')"
   ]
  },
  {
   "cell_type": "code",
   "execution_count": 64,
   "metadata": {},
   "outputs": [],
   "source": [
    "training_predicted = model.predict(X_train)\n",
    "testing_predicted = model.predict(X_test)"
   ]
  },
  {
   "cell_type": "code",
   "execution_count": 65,
   "metadata": {},
   "outputs": [
    {
     "data": {
      "text/plain": [
       "array([[1.],\n",
       "       [1.],\n",
       "       [0.],\n",
       "       ...,\n",
       "       [1.],\n",
       "       [1.],\n",
       "       [1.]], dtype=float32)"
      ]
     },
     "execution_count": 65,
     "metadata": {},
     "output_type": "execute_result"
    }
   ],
   "source": [
    "training_predicted.round()"
   ]
  },
  {
   "cell_type": "markdown",
   "metadata": {},
   "source": [
    "BENTUK CONFUSION MATRIX DARI MODEL TRAINING"
   ]
  },
  {
   "cell_type": "code",
   "execution_count": 66,
   "metadata": {},
   "outputs": [
    {
     "name": "stdout",
     "output_type": "stream",
     "text": [
      "[[142178    191]\n",
      " [    65 141881]]\n"
     ]
    }
   ],
   "source": [
    "from sklearn.metrics import confusion_matrix, classification_report\n",
    "\n",
    "y_pred = model.predict(X_test)\n",
    "training_cm = confusion_matrix(y_test, y_pred.round())\n",
    "print(training_cm)"
   ]
  },
  {
   "cell_type": "markdown",
   "metadata": {},
   "source": [
    "BENTUK CONFUSION MATRIX DARI MODEL TESTING"
   ]
  },
  {
   "cell_type": "code",
   "execution_count": 67,
   "metadata": {},
   "outputs": [
    {
     "name": "stdout",
     "output_type": "stream",
     "text": [
      "[[284041    274]\n",
      " [     2    490]]\n"
     ]
    }
   ],
   "source": [
    "y_pred = model.predict(X)\n",
    "testing_cm = confusion_matrix(y, y_pred.round())\n",
    "print(testing_cm)"
   ]
  },
  {
   "cell_type": "code",
   "execution_count": 68,
   "metadata": {},
   "outputs": [
    {
     "name": "stdout",
     "output_type": "stream",
     "text": [
      "Accuracy training 0.9990995902432162\n",
      "Specificity training 0.9995420793823003\n",
      "Sensitivity training 0.9986584158068119\n",
      "Precision training 0.9995430355096561\n",
      "F1 Score training 0.9991005298441388\n"
     ]
    }
   ],
   "source": [
    "#training\n",
    "tp = training_cm[0][0]\n",
    "fn = training_cm[0][1]\n",
    "fp = training_cm[1][0]\n",
    "tn = training_cm[1][1]\n",
    "\n",
    "accuracy = (tp+tn)/(tp+tn+fp+fn)\n",
    "specificity = tn/(tn+fp)\n",
    "sensitivity = tp/(tp+fn)\n",
    "precision = tp/(tp+fp)\n",
    "f1_score = (2*sensitivity*precision)/(sensitivity+precision)\n",
    "\n",
    "print(\"Accuracy training {0}\".format(accuracy))\n",
    "print(\"Specificity training {0}\".format(specificity))\n",
    "print(\"Sensitivity training {0}\".format(sensitivity))\n",
    "print(\"Precision training {0}\".format(precision))\n",
    "print(\"F1 Score training {0}\".format(f1_score))"
   ]
  },
  {
   "cell_type": "code",
   "execution_count": 69,
   "metadata": {},
   "outputs": [
    {
     "name": "stdout",
     "output_type": "stream",
     "text": [
      "Accuracy testing 0.999030922695018\n",
      "Specificity testing 0.9959349593495935\n",
      "Sensitivity testing 0.9990362801821923\n",
      "Precision testing 0.9999929588125741\n",
      "F1 Score testing 0.9995143905777696\n"
     ]
    }
   ],
   "source": [
    "#Testing\n",
    "tp = testing_cm[0][0]\n",
    "fn = testing_cm[0][1]\n",
    "fp = testing_cm[1][0]\n",
    "tn = testing_cm[1][1]\n",
    "\n",
    "accuracy = (tp+tn)/(tp+tn+fp+fn)\n",
    "specificity = tn/(tn+fp)\n",
    "sensitivity = tp/(tp+fn)\n",
    "precision = tp/(tp+fp)\n",
    "f1_score = (2*sensitivity*precision)/(sensitivity+precision)\n",
    "\n",
    "print(\"Accuracy testing {0}\".format(accuracy))\n",
    "print(\"Specificity testing {0}\".format(specificity))\n",
    "print(\"Sensitivity testing {0}\".format(sensitivity))\n",
    "print(\"Precision testing {0}\".format(precision))\n",
    "print(\"F1 Score testing {0}\".format(f1_score))"
   ]
  },
  {
   "cell_type": "markdown",
   "metadata": {},
   "source": [
    "## Mengecek berapa banyak data yang digunakan untuk testing dan training"
   ]
  },
  {
   "cell_type": "code",
   "execution_count": 84,
   "metadata": {
    "scrolled": true
   },
   "outputs": [
    {
     "name": "stdout",
     "output_type": "stream",
     "text": [
      "training instances of data: 454904\n",
      "training instances of fraud 227549\n",
      "testing instances of data: 113726\n",
      "testing instances of fraud: 56766\n"
     ]
    }
   ],
   "source": [
    "print ('training instances of data:' , len(y_train)) \n",
    "print ('training instances of fraud' , np.count_nonzero(y_train))\n",
    "print ('testing instances of data:' , len(y_test))\n",
    "print ('testing instances of fraud:' , np.count_nonzero(y_test))"
   ]
  },
  {
   "cell_type": "markdown",
   "metadata": {},
   "source": [
    "# Kesimpulan\n",
    "Dari kedua percobaan diatas maka dapat disimpulkan jika pada percobaan pertama yang tidak menggunakan SMOTE grafik yang dihasilkan tidak terlalu baik walupun akurasinya sudah baik sedangkan jika menggunakan SMOTE grafiknya akan menjadi lebih bagus"
   ]
  },
  {
   "cell_type": "markdown",
   "metadata": {},
   "source": [
    "# Referensi \n",
    "- Paper : Neural Data Mining Untuk Penipuan Kartu Kredit\n",
    "- dataset : https://www.kaggle.com/ronitf/heart-disease-uci    "
   ]
  }
 ],
 "metadata": {
  "kernelspec": {
   "display_name": "Python 3",
   "language": "python",
   "name": "python3"
  },
  "language_info": {
   "codemirror_mode": {
    "name": "ipython",
    "version": 3
   },
   "file_extension": ".py",
   "mimetype": "text/x-python",
   "name": "python",
   "nbconvert_exporter": "python",
   "pygments_lexer": "ipython3",
   "version": "3.6.9"
  }
 },
 "nbformat": 4,
 "nbformat_minor": 2
}
