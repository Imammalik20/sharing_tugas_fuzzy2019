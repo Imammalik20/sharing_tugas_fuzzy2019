{
 "cells": [
  {
   "cell_type": "markdown",
   "metadata": {},
   "source": [
    "<h1 align='center'>Name Disambiguation in AMiner, Implementasi Dataset Bibliorafi Menggunakan Artificial Neural Network</h1>"
   ]
  },
  {
   "cell_type": "markdown",
   "metadata": {},
   "source": [
    "Tujuan model jaringan saraf tiruan adalah memprediksi apakah dua nama pada jurnal/paper/riset yang berbeda adalah sama berdasarkan kemiripan fitur dalam data bibliografi"
   ]
  },
  {
   "cell_type": "markdown",
   "metadata": {},
   "source": [
    "<img src=\"https://lh3.googleusercontent.com/ykW1LDV4HqkjU1dVxfvNTM7QSK3LB4L7XhjpMKiPOf7m1TFed2ogSmGnFZf77cIs8XQE6jjGgrH4a1x81qlwL7Dm05oBoeHEz7ic9o41PGujBHs7JEVXLG0o_iNUGgq1wyxM69n1q4pdmFZ02LUNWtp8USdjHhxSbS3RiwmTKbjlz6soB0KvpIHCZu-k3QqSf8hXOFpvlaO-2e4YU8a1mTz-5EVt1iR2bwB2KPDvQx9R_I-phPIL3t2l5_q7SCobcmu4n8Wd_p4tXvOyWqhYyxJY9Td8Qd_RThoTQ6JCTUHi9PoM3w1ZkrVgv2rYzJ38ybcAzWhIwpmpRbt1yTaNGIngUadPgWUZDmnwhYt_2FpfTXFRQfND-l8lLWSEB6HqCplNQGCy_MiMNQqoxZcn3ES30-bkWI9xxgyCCMuYx6ipDnOMfmwyKycsg7KcCi8Tdsfpe6MCWbs4zVXj5FQNOS3vXJ-Vbj5b_Dwk6TyrL9bDBL0wGd5hKiYC9KGUrLDuOJRNdPxET5-XECkiHEBsFvGUFNp8VMElmZ-4JAZRut9LVHeF41-LM_C4mQbeQtR0E5_KBeY3t8fzc5jDhg45HPMG6C3eiPjrlbvSSRiHvL9ba00pzeAO2PYpZOQaxRVuO8yZUt9guQ4ypj6vnOXZKHZEzJn0ECzHC6QoMycvOjrtQwbepEMtxpXN=w1892-h253-no\" caption=\"Dataset yang digunakan dalam format .json\"></img>"
   ]
  },
  {
   "cell_type": "markdown",
   "metadata": {},
   "source": [
    "Dataset yang digunakan adalah dataset <a href=\"https://github.com/neozhangthe1/disambiguation\">Name Disambiguation in AMiner pada situs GitHub</a> yang berasal dari paper penelitian <a href=\"http://keg.cs.tsinghua.edu.cn/jietang/publications/kdd18_yutao-AMiner-Name-Disambiguation.pdf\">Name Disambiguation in AMiner: Clustering, Maintenance, and\n",
    "Human in the Loop</a>."
   ]
  },
  {
   "cell_type": "code",
   "execution_count": 1,
   "metadata": {},
   "outputs": [
    {
     "name": "stderr",
     "output_type": "stream",
     "text": [
      "Using TensorFlow backend.\n",
      "C:\\Users\\User\\Anaconda3\\lib\\site-packages\\tensorflow\\python\\framework\\dtypes.py:526: FutureWarning: Passing (type, 1) or '1type' as a synonym of type is deprecated; in a future version of numpy, it will be understood as (type, (1,)) / '(1,)type'.\n",
      "  _np_qint8 = np.dtype([(\"qint8\", np.int8, 1)])\n",
      "C:\\Users\\User\\Anaconda3\\lib\\site-packages\\tensorflow\\python\\framework\\dtypes.py:527: FutureWarning: Passing (type, 1) or '1type' as a synonym of type is deprecated; in a future version of numpy, it will be understood as (type, (1,)) / '(1,)type'.\n",
      "  _np_quint8 = np.dtype([(\"quint8\", np.uint8, 1)])\n",
      "C:\\Users\\User\\Anaconda3\\lib\\site-packages\\tensorflow\\python\\framework\\dtypes.py:528: FutureWarning: Passing (type, 1) or '1type' as a synonym of type is deprecated; in a future version of numpy, it will be understood as (type, (1,)) / '(1,)type'.\n",
      "  _np_qint16 = np.dtype([(\"qint16\", np.int16, 1)])\n",
      "C:\\Users\\User\\Anaconda3\\lib\\site-packages\\tensorflow\\python\\framework\\dtypes.py:529: FutureWarning: Passing (type, 1) or '1type' as a synonym of type is deprecated; in a future version of numpy, it will be understood as (type, (1,)) / '(1,)type'.\n",
      "  _np_quint16 = np.dtype([(\"quint16\", np.uint16, 1)])\n",
      "C:\\Users\\User\\Anaconda3\\lib\\site-packages\\tensorflow\\python\\framework\\dtypes.py:530: FutureWarning: Passing (type, 1) or '1type' as a synonym of type is deprecated; in a future version of numpy, it will be understood as (type, (1,)) / '(1,)type'.\n",
      "  _np_qint32 = np.dtype([(\"qint32\", np.int32, 1)])\n",
      "C:\\Users\\User\\Anaconda3\\lib\\site-packages\\tensorflow\\python\\framework\\dtypes.py:535: FutureWarning: Passing (type, 1) or '1type' as a synonym of type is deprecated; in a future version of numpy, it will be understood as (type, (1,)) / '(1,)type'.\n",
      "  np_resource = np.dtype([(\"resource\", np.ubyte, 1)])\n"
     ]
    }
   ],
   "source": [
    "from keras.models import Sequential\n",
    "from keras.layers import Dense\n",
    "from keras import layers\n",
    "from keras.wrappers.scikit_learn import KerasClassifier\n",
    "from keras.utils import to_categorical\n",
    "from sklearn.preprocessing import MinMaxScaler\n",
    "from sklearn.model_selection import train_test_split\n",
    "import pandas as pd"
   ]
  },
  {
   "cell_type": "markdown",
   "metadata": {},
   "source": [
    "Dataset yang akan diolah pada Jupyter Notebook ini sudah dibersihkan (preprocessing) sehingga menghasilkan sebuah tabel/dataframe berupa angka/nilai kemiripan antar fitur dari dua orang. Fitur-fitur ini antara lain:\n",
    "1. Nama Author\n",
    "2. Nama-nama Co-Author\n",
    "3. Judul Paper\n",
    "4. Nama Jurnal/Publikasi\n",
    "\n",
    "Dataframe juga dilengkapi label apakah author satu dan yang lain sama. Label dibuat menggunakan author-id yang berbeda setiap orangnya."
   ]
  },
  {
   "cell_type": "markdown",
   "metadata": {},
   "source": [
    "# Import Dataset "
   ]
  },
  {
   "cell_type": "code",
   "execution_count": 2,
   "metadata": {},
   "outputs": [],
   "source": [
    "df=pd.read_pickle(\"D:/kemiripan.pkl\")"
   ]
  },
  {
   "cell_type": "code",
   "execution_count": 3,
   "metadata": {
    "scrolled": true
   },
   "outputs": [
    {
     "data": {
      "text/html": [
       "<div>\n",
       "<style scoped>\n",
       "    .dataframe tbody tr th:only-of-type {\n",
       "        vertical-align: middle;\n",
       "    }\n",
       "\n",
       "    .dataframe tbody tr th {\n",
       "        vertical-align: top;\n",
       "    }\n",
       "\n",
       "    .dataframe thead th {\n",
       "        text-align: right;\n",
       "    }\n",
       "</style>\n",
       "<table border=\"1\" class=\"dataframe\">\n",
       "  <thead>\n",
       "    <tr style=\"text-align: right;\">\n",
       "      <th></th>\n",
       "      <th>1</th>\n",
       "      <th>2</th>\n",
       "      <th>author</th>\n",
       "      <th>co-author</th>\n",
       "      <th>title</th>\n",
       "      <th>venue</th>\n",
       "      <th>id</th>\n",
       "    </tr>\n",
       "  </thead>\n",
       "  <tbody>\n",
       "    <tr>\n",
       "      <th>0</th>\n",
       "      <td>Yongqing Huang</td>\n",
       "      <td>Shie-Ming Peng</td>\n",
       "      <td>0.452381</td>\n",
       "      <td>0.658323</td>\n",
       "      <td>0.620002</td>\n",
       "      <td>0.508503</td>\n",
       "      <td>False</td>\n",
       "    </tr>\n",
       "    <tr>\n",
       "      <th>1</th>\n",
       "      <td>Yongqing Huang</td>\n",
       "      <td>Xuesi Chen</td>\n",
       "      <td>0.393651</td>\n",
       "      <td>0.661703</td>\n",
       "      <td>0.671015</td>\n",
       "      <td>0.505663</td>\n",
       "      <td>False</td>\n",
       "    </tr>\n",
       "    <tr>\n",
       "      <th>2</th>\n",
       "      <td>Yongqing Huang</td>\n",
       "      <td>Quan Liu</td>\n",
       "      <td>0.511905</td>\n",
       "      <td>0.666618</td>\n",
       "      <td>0.655586</td>\n",
       "      <td>0.537345</td>\n",
       "      <td>False</td>\n",
       "    </tr>\n",
       "    <tr>\n",
       "      <th>3</th>\n",
       "      <td>Yongqing Huang</td>\n",
       "      <td>Guangtian Zou</td>\n",
       "      <td>0.584249</td>\n",
       "      <td>0.701879</td>\n",
       "      <td>0.709529</td>\n",
       "      <td>0.579301</td>\n",
       "      <td>False</td>\n",
       "    </tr>\n",
       "    <tr>\n",
       "      <th>4</th>\n",
       "      <td>Yongqing Huang</td>\n",
       "      <td>Da Xing</td>\n",
       "      <td>0.452381</td>\n",
       "      <td>0.593137</td>\n",
       "      <td>0.717037</td>\n",
       "      <td>0.618576</td>\n",
       "      <td>False</td>\n",
       "    </tr>\n",
       "  </tbody>\n",
       "</table>\n",
       "</div>"
      ],
      "text/plain": [
       "                1               2    author  co-author     title     venue  \\\n",
       "0  Yongqing Huang  Shie-Ming Peng  0.452381   0.658323  0.620002  0.508503   \n",
       "1  Yongqing Huang      Xuesi Chen  0.393651   0.661703  0.671015  0.505663   \n",
       "2  Yongqing Huang        Quan Liu  0.511905   0.666618  0.655586  0.537345   \n",
       "3  Yongqing Huang   Guangtian Zou  0.584249   0.701879  0.709529  0.579301   \n",
       "4  Yongqing Huang         Da Xing  0.452381   0.593137  0.717037  0.618576   \n",
       "\n",
       "      id  \n",
       "0  False  \n",
       "1  False  \n",
       "2  False  \n",
       "3  False  \n",
       "4  False  "
      ]
     },
     "execution_count": 3,
     "metadata": {},
     "output_type": "execute_result"
    }
   ],
   "source": [
    "df.head()"
   ]
  },
  {
   "cell_type": "markdown",
   "metadata": {},
   "source": [
    "Dataset yang berupa teks diubah menjadi angka/nilai menggunakan algoritma Text-Distance Jaro-Winkler <img src=\"https://blogs.sap.com/wp-content/uploads/2013/12/p_336669.jpg\"></img>"
   ]
  },
  {
   "cell_type": "markdown",
   "metadata": {},
   "source": [
    "# Membuat Data Input dan Label"
   ]
  },
  {
   "cell_type": "code",
   "execution_count": 4,
   "metadata": {
    "scrolled": true
   },
   "outputs": [
    {
     "data": {
      "text/html": [
       "<div>\n",
       "<style scoped>\n",
       "    .dataframe tbody tr th:only-of-type {\n",
       "        vertical-align: middle;\n",
       "    }\n",
       "\n",
       "    .dataframe tbody tr th {\n",
       "        vertical-align: top;\n",
       "    }\n",
       "\n",
       "    .dataframe thead th {\n",
       "        text-align: right;\n",
       "    }\n",
       "</style>\n",
       "<table border=\"1\" class=\"dataframe\">\n",
       "  <thead>\n",
       "    <tr style=\"text-align: right;\">\n",
       "      <th></th>\n",
       "      <th>author</th>\n",
       "      <th>co-author</th>\n",
       "      <th>title</th>\n",
       "      <th>venue</th>\n",
       "    </tr>\n",
       "  </thead>\n",
       "  <tbody>\n",
       "    <tr>\n",
       "      <th>0</th>\n",
       "      <td>0.452381</td>\n",
       "      <td>0.658323</td>\n",
       "      <td>0.620002</td>\n",
       "      <td>0.508503</td>\n",
       "    </tr>\n",
       "    <tr>\n",
       "      <th>1</th>\n",
       "      <td>0.393651</td>\n",
       "      <td>0.661703</td>\n",
       "      <td>0.671015</td>\n",
       "      <td>0.505663</td>\n",
       "    </tr>\n",
       "    <tr>\n",
       "      <th>2</th>\n",
       "      <td>0.511905</td>\n",
       "      <td>0.666618</td>\n",
       "      <td>0.655586</td>\n",
       "      <td>0.537345</td>\n",
       "    </tr>\n",
       "    <tr>\n",
       "      <th>3</th>\n",
       "      <td>0.584249</td>\n",
       "      <td>0.701879</td>\n",
       "      <td>0.709529</td>\n",
       "      <td>0.579301</td>\n",
       "    </tr>\n",
       "    <tr>\n",
       "      <th>4</th>\n",
       "      <td>0.452381</td>\n",
       "      <td>0.593137</td>\n",
       "      <td>0.717037</td>\n",
       "      <td>0.618576</td>\n",
       "    </tr>\n",
       "    <tr>\n",
       "      <th>...</th>\n",
       "      <td>...</td>\n",
       "      <td>...</td>\n",
       "      <td>...</td>\n",
       "      <td>...</td>\n",
       "    </tr>\n",
       "    <tr>\n",
       "      <th>3126245</th>\n",
       "      <td>0.430556</td>\n",
       "      <td>0.648140</td>\n",
       "      <td>0.571007</td>\n",
       "      <td>0.448127</td>\n",
       "    </tr>\n",
       "    <tr>\n",
       "      <th>3126246</th>\n",
       "      <td>0.430556</td>\n",
       "      <td>0.744101</td>\n",
       "      <td>0.647284</td>\n",
       "      <td>0.442652</td>\n",
       "    </tr>\n",
       "    <tr>\n",
       "      <th>3126247</th>\n",
       "      <td>0.435897</td>\n",
       "      <td>0.643494</td>\n",
       "      <td>0.621490</td>\n",
       "      <td>0.540206</td>\n",
       "    </tr>\n",
       "    <tr>\n",
       "      <th>3126248</th>\n",
       "      <td>0.435897</td>\n",
       "      <td>0.670760</td>\n",
       "      <td>0.680431</td>\n",
       "      <td>0.633456</td>\n",
       "    </tr>\n",
       "    <tr>\n",
       "      <th>3126249</th>\n",
       "      <td>1.000000</td>\n",
       "      <td>0.657700</td>\n",
       "      <td>0.644811</td>\n",
       "      <td>0.541540</td>\n",
       "    </tr>\n",
       "  </tbody>\n",
       "</table>\n",
       "<p>3126250 rows × 4 columns</p>\n",
       "</div>"
      ],
      "text/plain": [
       "           author  co-author     title     venue\n",
       "0        0.452381   0.658323  0.620002  0.508503\n",
       "1        0.393651   0.661703  0.671015  0.505663\n",
       "2        0.511905   0.666618  0.655586  0.537345\n",
       "3        0.584249   0.701879  0.709529  0.579301\n",
       "4        0.452381   0.593137  0.717037  0.618576\n",
       "...           ...        ...       ...       ...\n",
       "3126245  0.430556   0.648140  0.571007  0.448127\n",
       "3126246  0.430556   0.744101  0.647284  0.442652\n",
       "3126247  0.435897   0.643494  0.621490  0.540206\n",
       "3126248  0.435897   0.670760  0.680431  0.633456\n",
       "3126249  1.000000   0.657700  0.644811  0.541540\n",
       "\n",
       "[3126250 rows x 4 columns]"
      ]
     },
     "execution_count": 4,
     "metadata": {},
     "output_type": "execute_result"
    }
   ],
   "source": [
    "X=df[[\"author\",\"co-author\",\"title\",\"venue\"]]\n",
    "X.reset_index(drop=True)"
   ]
  },
  {
   "cell_type": "code",
   "execution_count": 5,
   "metadata": {
    "scrolled": true
   },
   "outputs": [
    {
     "data": {
      "text/plain": [
       "0          False\n",
       "1          False\n",
       "2          False\n",
       "3          False\n",
       "4          False\n",
       "           ...  \n",
       "3126245    False\n",
       "3126246    False\n",
       "3126247    False\n",
       "3126248    False\n",
       "3126249     True\n",
       "Name: id, Length: 3126250, dtype: bool"
      ]
     },
     "execution_count": 5,
     "metadata": {},
     "output_type": "execute_result"
    }
   ],
   "source": [
    "Y=df[\"id\"]\n",
    "Y.reset_index(drop=True)"
   ]
  },
  {
   "cell_type": "markdown",
   "metadata": {},
   "source": [
    "# Normalisasi / Scaling"
   ]
  },
  {
   "cell_type": "code",
   "execution_count": 6,
   "metadata": {},
   "outputs": [],
   "source": [
    "scaler = MinMaxScaler() \n",
    "X=scaler.fit_transform(X)"
   ]
  },
  {
   "cell_type": "markdown",
   "metadata": {},
   "source": [
    "Menormalisasi data apabila proporsi dalam satu fitur tidak seimbang. Hal ini dilakukan untuk meminimalisir error yang terjadi akibat nilai pengecualian (nilai yang jauh dari yang lain)."
   ]
  },
  {
   "cell_type": "markdown",
   "metadata": {},
   "source": [
    "# Membagi Data Training dan Testing "
   ]
  },
  {
   "cell_type": "code",
   "execution_count": 7,
   "metadata": {},
   "outputs": [],
   "source": [
    "X_train,X_test,y_train,y_test=train_test_split(X,Y,test_size=0.1,random_state = 123,stratify=Y)"
   ]
  },
  {
   "cell_type": "markdown",
   "metadata": {},
   "source": [
    "Dataset dibagi menjadi data training dan testing dengan perbandingan 9:1 lalu dikaregorikan labelnya"
   ]
  },
  {
   "cell_type": "code",
   "execution_count": 8,
   "metadata": {},
   "outputs": [],
   "source": [
    "y_train_one_hot = to_categorical(y_train)\n",
    "y_test_one_hot = to_categorical(y_test)"
   ]
  },
  {
   "cell_type": "markdown",
   "metadata": {},
   "source": [
    "# Membuat Model ANN"
   ]
  },
  {
   "cell_type": "code",
   "execution_count": 9,
   "metadata": {},
   "outputs": [
    {
     "name": "stdout",
     "output_type": "stream",
     "text": [
      "WARNING:tensorflow:From C:\\Users\\User\\Anaconda3\\lib\\site-packages\\tensorflow\\python\\framework\\op_def_library.py:263: colocate_with (from tensorflow.python.framework.ops) is deprecated and will be removed in a future version.\n",
      "Instructions for updating:\n",
      "Colocations handled automatically by placer.\n"
     ]
    }
   ],
   "source": [
    "model = Sequential()\n",
    "model.add(Dense(8, input_dim=4, activation='relu'))\n",
    "model.add(Dense(2, activation='sigmoid'))\n",
    "model.compile(loss='binary_crossentropy', optimizer='adam', metrics=['accuracy'])"
   ]
  },
  {
   "cell_type": "markdown",
   "metadata": {},
   "source": [
    "Model terdiri dari 4 neuron input, 8 neuron hidden layer, dan 2 neuron output sigmoid"
   ]
  },
  {
   "cell_type": "markdown",
   "metadata": {},
   "source": [
    "<img src=\"https://lh3.googleusercontent.com/nHB6w6lLB_KEzJte1Ifsk0eY5nWlF318UrZSv3P99sWGt0YQYqKfmT_gYFhV0p0LONWckHHTg7XZ7hGnNWrlOhGogjpDZUuHlydHafNSBP1cIU3PAsKPpTeKcpl0zo2U9RuEAvlJgHpIRLdCv-y9IU5UYBsE53L7bGzfc9zpqX_VFtedr09JCx56o4uWR_U3DqB2wvi2fS12r1RvpIytLVcT6KHFlkSxnq8bR_lPaw37XMzRcnM0M3Cuypy96V2ULDg9-OoIfq8YgSUnRdDnl9_vw3aPh35JXacwtAzCAVUVCQeV_7bCykawL34qGsOTz5RdconFQN6Tcev37rX994MWy61mE3GavXuokV1ZiZGx1iAPCKdH0AFVZKnN1dpbj0FNzTu41qFUammKcRiL91LpZa-nFR2XM909Cr9g6zkVbbxN4ujiqiCTutyIGhVjaXBatsrNp8hzSqaFbJgx9cmClsImze_Oa3vMf_Xd2ksIm49FKcfjkyvjPI_8kC-lCqsJnYRCxXvYljYHP06zurBi8HZGRDWeIa3Y8NqLnKX8eTe1-hYB2CFMr79JvIR_HTrn3Ozjii3CMnbImqoIv8p_js-RRz0y-H-kTabJ3NbUlTS21P2TPqFkd34XDgzlKD-PBz8xVqEG-aglyfRKLEWq0A7M0c_32f_t9lE5lveUERFUo3ZNLXLP=w703-h716-no\" width=300 align=\"center\"><img>"
   ]
  },
  {
   "cell_type": "markdown",
   "metadata": {},
   "source": [
    "# Training Model"
   ]
  },
  {
   "cell_type": "code",
   "execution_count": 10,
   "metadata": {
    "scrolled": true
   },
   "outputs": [
    {
     "name": "stdout",
     "output_type": "stream",
     "text": [
      "WARNING:tensorflow:From C:\\Users\\User\\Anaconda3\\lib\\site-packages\\tensorflow\\python\\ops\\math_ops.py:3066: to_int32 (from tensorflow.python.ops.math_ops) is deprecated and will be removed in a future version.\n",
      "Instructions for updating:\n",
      "Use tf.cast instead.\n",
      "Train on 2813625 samples, validate on 312625 samples\n",
      "Epoch 1/200\n",
      "2813625/2813625 [==============================] - 85s 30us/step - loss: 0.0207 - acc: 0.9944 - val_loss: 0.0118 - val_acc: 0.9969\n",
      "Epoch 2/200\n",
      "2813625/2813625 [==============================] - 83s 30us/step - loss: 0.0121 - acc: 0.9973 - val_loss: 0.0117 - val_acc: 0.9968\n",
      "Epoch 3/200\n",
      "2813625/2813625 [==============================] - 78s 28us/step - loss: 0.0121 - acc: 0.9974 - val_loss: 0.0116 - val_acc: 0.9973\n",
      "Epoch 4/200\n",
      "2813625/2813625 [==============================] - 76s 27us/step - loss: 0.0121 - acc: 0.9974 - val_loss: 0.0116 - val_acc: 0.9976\n",
      "Epoch 5/200\n",
      "2813625/2813625 [==============================] - 73s 26us/step - loss: 0.0121 - acc: 0.9974 - val_loss: 0.0116 - val_acc: 0.9970\n",
      "Epoch 6/200\n",
      "2813625/2813625 [==============================] - 76s 27us/step - loss: 0.0121 - acc: 0.9973 - val_loss: 0.0117 - val_acc: 0.9980\n",
      "Epoch 7/200\n",
      "2813625/2813625 [==============================] - 74s 26us/step - loss: 0.0121 - acc: 0.9973 - val_loss: 0.0116 - val_acc: 0.9972\n",
      "Epoch 8/200\n",
      "2813625/2813625 [==============================] - 73s 26us/step - loss: 0.0121 - acc: 0.9973 - val_loss: 0.0118 - val_acc: 0.9966\n",
      "Epoch 9/200\n",
      "2813625/2813625 [==============================] - 73s 26us/step - loss: 0.0121 - acc: 0.9974 - val_loss: 0.0119 - val_acc: 0.9965\n",
      "Epoch 10/200\n",
      "2813625/2813625 [==============================] - 73s 26us/step - loss: 0.0121 - acc: 0.9974 - val_loss: 0.0119 - val_acc: 0.9965\n",
      "Epoch 11/200\n",
      "2813625/2813625 [==============================] - 74s 26us/step - loss: 0.0121 - acc: 0.9973 - val_loss: 0.0125 - val_acc: 0.9956\n",
      "Epoch 12/200\n",
      "2813625/2813625 [==============================] - 74s 26us/step - loss: 0.0113 - acc: 0.9975 - val_loss: 0.0103 - val_acc: 0.9979\n",
      "Epoch 13/200\n",
      "2813625/2813625 [==============================] - 73s 26us/step - loss: 0.0095 - acc: 0.9978 - val_loss: 0.0087 - val_acc: 0.9981\n",
      "Epoch 14/200\n",
      "2813625/2813625 [==============================] - 73s 26us/step - loss: 0.0088 - acc: 0.9979 - val_loss: 0.0086 - val_acc: 0.9974\n",
      "Epoch 15/200\n",
      "2813625/2813625 [==============================] - 73s 26us/step - loss: 0.0086 - acc: 0.9979 - val_loss: 0.0083 - val_acc: 0.9980\n",
      "Epoch 16/200\n",
      "2813625/2813625 [==============================] - 73s 26us/step - loss: 0.0084 - acc: 0.9979 - val_loss: 0.0080 - val_acc: 0.9981\n",
      "Epoch 17/200\n",
      "2813625/2813625 [==============================] - 73s 26us/step - loss: 0.0083 - acc: 0.9979 - val_loss: 0.0080 - val_acc: 0.9981\n",
      "Epoch 18/200\n",
      "2813625/2813625 [==============================] - 73s 26us/step - loss: 0.0083 - acc: 0.9979 - val_loss: 0.0084 - val_acc: 0.9979\n",
      "Epoch 19/200\n",
      "2813625/2813625 [==============================] - 74s 26us/step - loss: 0.0082 - acc: 0.9979 - val_loss: 0.0079 - val_acc: 0.9981\n",
      "Epoch 20/200\n",
      "2813625/2813625 [==============================] - 74s 26us/step - loss: 0.0082 - acc: 0.9979 - val_loss: 0.0080 - val_acc: 0.9980\n",
      "Epoch 21/200\n",
      "2813625/2813625 [==============================] - 74s 26us/step - loss: 0.0082 - acc: 0.9979 - val_loss: 0.0082 - val_acc: 0.9974\n",
      "Epoch 22/200\n",
      "2813625/2813625 [==============================] - 73s 26us/step - loss: 0.0082 - acc: 0.9979 - val_loss: 0.0082 - val_acc: 0.9970\n",
      "Epoch 23/200\n",
      "2813625/2813625 [==============================] - 74s 26us/step - loss: 0.0081 - acc: 0.9979 - val_loss: 0.0078 - val_acc: 0.9981\n",
      "Epoch 24/200\n",
      "2813625/2813625 [==============================] - 73s 26us/step - loss: 0.0081 - acc: 0.9979 - val_loss: 0.0086 - val_acc: 0.9978\n",
      "Epoch 25/200\n",
      "2813625/2813625 [==============================] - 73s 26us/step - loss: 0.0081 - acc: 0.9979 - val_loss: 0.0084 - val_acc: 0.9980\n",
      "Epoch 26/200\n",
      "2813625/2813625 [==============================] - 73s 26us/step - loss: 0.0081 - acc: 0.9979 - val_loss: 0.0081 - val_acc: 0.9976\n",
      "Epoch 27/200\n",
      "2813625/2813625 [==============================] - 74s 26us/step - loss: 0.0081 - acc: 0.9979 - val_loss: 0.0085 - val_acc: 0.9980\n",
      "Epoch 28/200\n",
      "2813625/2813625 [==============================] - 74s 26us/step - loss: 0.0081 - acc: 0.9979 - val_loss: 0.0079 - val_acc: 0.9981\n",
      "Epoch 29/200\n",
      "2813625/2813625 [==============================] - 73s 26us/step - loss: 0.0081 - acc: 0.9979 - val_loss: 0.0079 - val_acc: 0.9981\n",
      "Epoch 30/200\n",
      "2813625/2813625 [==============================] - 73s 26us/step - loss: 0.0081 - acc: 0.9979 - val_loss: 0.0077 - val_acc: 0.9981\n",
      "Epoch 31/200\n",
      "2813625/2813625 [==============================] - 74s 26us/step - loss: 0.0081 - acc: 0.9979 - val_loss: 0.0088 - val_acc: 0.9978\n",
      "Epoch 32/200\n",
      "2813625/2813625 [==============================] - 73s 26us/step - loss: 0.0081 - acc: 0.9979 - val_loss: 0.0080 - val_acc: 0.9980\n",
      "Epoch 33/200\n",
      "2813625/2813625 [==============================] - 73s 26us/step - loss: 0.0081 - acc: 0.9979 - val_loss: 0.0082 - val_acc: 0.9981\n",
      "Epoch 34/200\n",
      "2813625/2813625 [==============================] - 74s 26us/step - loss: 0.0081 - acc: 0.9979 - val_loss: 0.0086 - val_acc: 0.9980\n",
      "Epoch 35/200\n",
      "2813625/2813625 [==============================] - 74s 26us/step - loss: 0.0081 - acc: 0.9979 - val_loss: 0.0078 - val_acc: 0.9981\n",
      "Epoch 36/200\n",
      "2813625/2813625 [==============================] - 73s 26us/step - loss: 0.0081 - acc: 0.9979 - val_loss: 0.0083 - val_acc: 0.9981\n",
      "Epoch 37/200\n",
      "2813625/2813625 [==============================] - 74s 26us/step - loss: 0.0081 - acc: 0.9979 - val_loss: 0.0081 - val_acc: 0.9980\n",
      "Epoch 38/200\n",
      "2813625/2813625 [==============================] - 73s 26us/step - loss: 0.0081 - acc: 0.9979 - val_loss: 0.0079 - val_acc: 0.9981\n",
      "Epoch 39/200\n",
      "2813625/2813625 [==============================] - 74s 26us/step - loss: 0.0081 - acc: 0.9979 - val_loss: 0.0077 - val_acc: 0.9981\n",
      "Epoch 40/200\n",
      "2813625/2813625 [==============================] - 74s 26us/step - loss: 0.0081 - acc: 0.9979 - val_loss: 0.0082 - val_acc: 0.9980\n",
      "Epoch 41/200\n",
      "2813625/2813625 [==============================] - 75s 27us/step - loss: 0.0081 - acc: 0.9979 - val_loss: 0.0078 - val_acc: 0.9981\n",
      "Epoch 42/200\n",
      "2813625/2813625 [==============================] - 74s 26us/step - loss: 0.0081 - acc: 0.9979 - val_loss: 0.0078 - val_acc: 0.9981\n",
      "Epoch 43/200\n",
      "2813625/2813625 [==============================] - 74s 26us/step - loss: 0.0081 - acc: 0.9979 - val_loss: 0.0085 - val_acc: 0.9978\n",
      "Epoch 44/200\n",
      "2813625/2813625 [==============================] - 73s 26us/step - loss: 0.0081 - acc: 0.9979 - val_loss: 0.0078 - val_acc: 0.9980\n",
      "Epoch 45/200\n",
      "2813625/2813625 [==============================] - 73s 26us/step - loss: 0.0081 - acc: 0.9979 - val_loss: 0.0078 - val_acc: 0.9981\n",
      "Epoch 46/200\n",
      "2813625/2813625 [==============================] - 73s 26us/step - loss: 0.0081 - acc: 0.9979 - val_loss: 0.0080 - val_acc: 0.9981\n",
      "Epoch 47/200\n",
      "2813625/2813625 [==============================] - 74s 26us/step - loss: 0.0081 - acc: 0.9979 - val_loss: 0.0088 - val_acc: 0.9978\n",
      "Epoch 48/200\n",
      "2813625/2813625 [==============================] - 73s 26us/step - loss: 0.0081 - acc: 0.9979 - val_loss: 0.0082 - val_acc: 0.9981\n",
      "Epoch 49/200\n",
      "2813625/2813625 [==============================] - 73s 26us/step - loss: 0.0081 - acc: 0.9979 - val_loss: 0.0081 - val_acc: 0.9980\n",
      "Epoch 50/200\n",
      "2813625/2813625 [==============================] - 73s 26us/step - loss: 0.0081 - acc: 0.9979 - val_loss: 0.0090 - val_acc: 0.9978\n",
      "Epoch 51/200\n",
      "2813625/2813625 [==============================] - 73s 26us/step - loss: 0.0081 - acc: 0.9979 - val_loss: 0.0078 - val_acc: 0.9978\n",
      "Epoch 52/200\n",
      "2813625/2813625 [==============================] - 74s 26us/step - loss: 0.0081 - acc: 0.9979 - val_loss: 0.0088 - val_acc: 0.9978\n",
      "Epoch 53/200\n",
      "2813625/2813625 [==============================] - 74s 26us/step - loss: 0.0081 - acc: 0.9979 - val_loss: 0.0081 - val_acc: 0.9981\n",
      "Epoch 54/200\n",
      "2813625/2813625 [==============================] - 73s 26us/step - loss: 0.0081 - acc: 0.9979 - val_loss: 0.0078 - val_acc: 0.9981\n",
      "Epoch 55/200\n",
      "2813625/2813625 [==============================] - 74s 26us/step - loss: 0.0081 - acc: 0.9979 - val_loss: 0.0077 - val_acc: 0.9981\n"
     ]
    },
    {
     "name": "stdout",
     "output_type": "stream",
     "text": [
      "Epoch 56/200\n",
      "2813625/2813625 [==============================] - 80s 28us/step - loss: 0.0081 - acc: 0.9979 - val_loss: 0.0078 - val_acc: 0.9981\n",
      "Epoch 57/200\n",
      "2813625/2813625 [==============================] - 72s 26us/step - loss: 0.0080 - acc: 0.9979 - val_loss: 0.0078 - val_acc: 0.9981\n",
      "Epoch 58/200\n",
      "2813625/2813625 [==============================] - 72s 25us/step - loss: 0.0081 - acc: 0.9979 - val_loss: 0.0080 - val_acc: 0.9981\n",
      "Epoch 59/200\n",
      "2813625/2813625 [==============================] - 72s 25us/step - loss: 0.0081 - acc: 0.9979 - val_loss: 0.0078 - val_acc: 0.9981\n",
      "Epoch 60/200\n",
      "2813625/2813625 [==============================] - 72s 26us/step - loss: 0.0081 - acc: 0.9979 - val_loss: 0.0086 - val_acc: 0.9978\n",
      "Epoch 61/200\n",
      "2813625/2813625 [==============================] - 72s 25us/step - loss: 0.0081 - acc: 0.9979 - val_loss: 0.0089 - val_acc: 0.9978\n",
      "Epoch 62/200\n",
      "2813625/2813625 [==============================] - 72s 25us/step - loss: 0.0081 - acc: 0.9979 - val_loss: 0.0081 - val_acc: 0.9966\n",
      "Epoch 63/200\n",
      "2813625/2813625 [==============================] - 72s 25us/step - loss: 0.0081 - acc: 0.9979 - val_loss: 0.0078 - val_acc: 0.9980\n",
      "Epoch 64/200\n",
      "2813625/2813625 [==============================] - 72s 26us/step - loss: 0.0081 - acc: 0.9979 - val_loss: 0.0082 - val_acc: 0.9980\n",
      "Epoch 65/200\n",
      "2813625/2813625 [==============================] - 72s 26us/step - loss: 0.0081 - acc: 0.9979 - val_loss: 0.0077 - val_acc: 0.9980\n",
      "Epoch 66/200\n",
      "2813625/2813625 [==============================] - 71s 25us/step - loss: 0.0080 - acc: 0.9979 - val_loss: 0.0077 - val_acc: 0.9981\n",
      "Epoch 67/200\n",
      "2813625/2813625 [==============================] - 72s 26us/step - loss: 0.0081 - acc: 0.9979 - val_loss: 0.0079 - val_acc: 0.9981\n",
      "Epoch 68/200\n",
      "2813625/2813625 [==============================] - 72s 26us/step - loss: 0.0080 - acc: 0.9979 - val_loss: 0.0078 - val_acc: 0.9981\n",
      "Epoch 69/200\n",
      "2813625/2813625 [==============================] - 72s 25us/step - loss: 0.0081 - acc: 0.9979 - val_loss: 0.0077 - val_acc: 0.9980\n",
      "Epoch 70/200\n",
      "2813625/2813625 [==============================] - 72s 25us/step - loss: 0.0080 - acc: 0.9979 - val_loss: 0.0084 - val_acc: 0.9978\n",
      "Epoch 71/200\n",
      "2813625/2813625 [==============================] - 72s 25us/step - loss: 0.0081 - acc: 0.9979 - val_loss: 0.0077 - val_acc: 0.9980\n",
      "Epoch 72/200\n",
      "2813625/2813625 [==============================] - 72s 26us/step - loss: 0.0080 - acc: 0.9979 - val_loss: 0.0078 - val_acc: 0.9981\n",
      "Epoch 73/200\n",
      "2813625/2813625 [==============================] - 72s 26us/step - loss: 0.0080 - acc: 0.9979 - val_loss: 0.0079 - val_acc: 0.9981\n",
      "Epoch 74/200\n",
      "2813625/2813625 [==============================] - 72s 26us/step - loss: 0.0080 - acc: 0.9979 - val_loss: 0.0083 - val_acc: 0.9980\n",
      "Epoch 75/200\n",
      "2813625/2813625 [==============================] - 72s 26us/step - loss: 0.0080 - acc: 0.9979 - val_loss: 0.0079 - val_acc: 0.9981\n",
      "Epoch 76/200\n",
      "2813625/2813625 [==============================] - 72s 26us/step - loss: 0.0080 - acc: 0.9979 - val_loss: 0.0079 - val_acc: 0.9981\n",
      "Epoch 77/200\n",
      "2813625/2813625 [==============================] - 72s 26us/step - loss: 0.0080 - acc: 0.9979 - val_loss: 0.0077 - val_acc: 0.9981\n",
      "Epoch 78/200\n",
      "2813625/2813625 [==============================] - 72s 26us/step - loss: 0.0080 - acc: 0.9979 - val_loss: 0.0082 - val_acc: 0.9980\n",
      "Epoch 79/200\n",
      "2813625/2813625 [==============================] - 72s 26us/step - loss: 0.0080 - acc: 0.9979 - val_loss: 0.0086 - val_acc: 0.9979\n",
      "Epoch 80/200\n",
      "2813625/2813625 [==============================] - 72s 26us/step - loss: 0.0080 - acc: 0.9979 - val_loss: 0.0081 - val_acc: 0.9966\n",
      "Epoch 81/200\n",
      "2813625/2813625 [==============================] - 72s 25us/step - loss: 0.0080 - acc: 0.9979 - val_loss: 0.0078 - val_acc: 0.9981\n",
      "Epoch 82/200\n",
      "2813625/2813625 [==============================] - 72s 26us/step - loss: 0.0080 - acc: 0.9979 - val_loss: 0.0078 - val_acc: 0.9981\n",
      "Epoch 83/200\n",
      "2813625/2813625 [==============================] - 72s 26us/step - loss: 0.0080 - acc: 0.9979 - val_loss: 0.0079 - val_acc: 0.9979\n",
      "Epoch 84/200\n",
      "2813625/2813625 [==============================] - 72s 26us/step - loss: 0.0080 - acc: 0.9979 - val_loss: 0.0081 - val_acc: 0.9980\n",
      "Epoch 85/200\n",
      "2813625/2813625 [==============================] - 73s 26us/step - loss: 0.0080 - acc: 0.9979 - val_loss: 0.0085 - val_acc: 0.9980\n",
      "Epoch 86/200\n",
      "2813625/2813625 [==============================] - 72s 26us/step - loss: 0.0080 - acc: 0.9979 - val_loss: 0.0089 - val_acc: 0.9964\n",
      "Epoch 87/200\n",
      "2813625/2813625 [==============================] - 73s 26us/step - loss: 0.0080 - acc: 0.9979 - val_loss: 0.0079 - val_acc: 0.9981\n",
      "Epoch 88/200\n",
      "2813625/2813625 [==============================] - 72s 26us/step - loss: 0.0080 - acc: 0.9979 - val_loss: 0.0082 - val_acc: 0.9980\n",
      "Epoch 89/200\n",
      "2813625/2813625 [==============================] - 73s 26us/step - loss: 0.0080 - acc: 0.9979 - val_loss: 0.0078 - val_acc: 0.9981\n",
      "Epoch 90/200\n",
      "2813625/2813625 [==============================] - 73s 26us/step - loss: 0.0080 - acc: 0.9979 - val_loss: 0.0077 - val_acc: 0.9981\n",
      "Epoch 91/200\n",
      "2813625/2813625 [==============================] - 72s 26us/step - loss: 0.0080 - acc: 0.9979 - val_loss: 0.0077 - val_acc: 0.9980\n",
      "Epoch 92/200\n",
      "2813625/2813625 [==============================] - 72s 26us/step - loss: 0.0080 - acc: 0.9979 - val_loss: 0.0081 - val_acc: 0.9981\n",
      "Epoch 93/200\n",
      "2813625/2813625 [==============================] - 73s 26us/step - loss: 0.0080 - acc: 0.9980 - val_loss: 0.0078 - val_acc: 0.9980\n",
      "Epoch 94/200\n",
      "2813625/2813625 [==============================] - 72s 26us/step - loss: 0.0080 - acc: 0.9979 - val_loss: 0.0079 - val_acc: 0.9978\n",
      "Epoch 95/200\n",
      "2813625/2813625 [==============================] - 72s 26us/step - loss: 0.0080 - acc: 0.9979 - val_loss: 0.0079 - val_acc: 0.9981\n",
      "Epoch 96/200\n",
      "2813625/2813625 [==============================] - 72s 26us/step - loss: 0.0080 - acc: 0.9979 - val_loss: 0.0079 - val_acc: 0.9981\n",
      "Epoch 97/200\n",
      "2813625/2813625 [==============================] - 73s 26us/step - loss: 0.0080 - acc: 0.9980 - val_loss: 0.0079 - val_acc: 0.9981\n",
      "Epoch 98/200\n",
      "2813625/2813625 [==============================] - 72s 26us/step - loss: 0.0080 - acc: 0.9979 - val_loss: 0.0077 - val_acc: 0.9981\n",
      "Epoch 99/200\n",
      "2813625/2813625 [==============================] - 72s 26us/step - loss: 0.0080 - acc: 0.9979 - val_loss: 0.0082 - val_acc: 0.9966\n",
      "Epoch 100/200\n",
      "2813625/2813625 [==============================] - 73s 26us/step - loss: 0.0080 - acc: 0.9979 - val_loss: 0.0078 - val_acc: 0.9981\n",
      "Epoch 101/200\n",
      "2813625/2813625 [==============================] - 73s 26us/step - loss: 0.0080 - acc: 0.9979 - val_loss: 0.0077 - val_acc: 0.9981\n",
      "Epoch 102/200\n",
      "2813625/2813625 [==============================] - 72s 26us/step - loss: 0.0080 - acc: 0.9979 - val_loss: 0.0077 - val_acc: 0.9981\n",
      "Epoch 103/200\n",
      "2813625/2813625 [==============================] - 73s 26us/step - loss: 0.0080 - acc: 0.9979 - val_loss: 0.0078 - val_acc: 0.9981\n",
      "Epoch 104/200\n",
      "2813625/2813625 [==============================] - 72s 26us/step - loss: 0.0080 - acc: 0.9979 - val_loss: 0.0077 - val_acc: 0.9981\n",
      "Epoch 105/200\n",
      "2813625/2813625 [==============================] - 73s 26us/step - loss: 0.0080 - acc: 0.9979 - val_loss: 0.0078 - val_acc: 0.9981\n",
      "Epoch 106/200\n",
      "2813625/2813625 [==============================] - 72s 26us/step - loss: 0.0080 - acc: 0.9980 - val_loss: 0.0077 - val_acc: 0.9981\n",
      "Epoch 107/200\n",
      "2813625/2813625 [==============================] - 72s 26us/step - loss: 0.0080 - acc: 0.9979 - val_loss: 0.0079 - val_acc: 0.9981\n",
      "Epoch 108/200\n",
      "2813625/2813625 [==============================] - 72s 26us/step - loss: 0.0080 - acc: 0.9979 - val_loss: 0.0079 - val_acc: 0.9981\n",
      "Epoch 109/200\n",
      "2813625/2813625 [==============================] - 72s 26us/step - loss: 0.0080 - acc: 0.9979 - val_loss: 0.0078 - val_acc: 0.9981\n",
      "Epoch 110/200\n",
      "2813625/2813625 [==============================] - 73s 26us/step - loss: 0.0080 - acc: 0.9979 - val_loss: 0.0077 - val_acc: 0.9981\n",
      "Epoch 111/200\n",
      "2813625/2813625 [==============================] - 72s 26us/step - loss: 0.0080 - acc: 0.9979 - val_loss: 0.0078 - val_acc: 0.9981\n",
      "Epoch 112/200\n",
      "2813625/2813625 [==============================] - 72s 26us/step - loss: 0.0080 - acc: 0.9979 - val_loss: 0.0077 - val_acc: 0.9981\n"
     ]
    },
    {
     "name": "stdout",
     "output_type": "stream",
     "text": [
      "Epoch 113/200\n",
      "2813625/2813625 [==============================] - 72s 25us/step - loss: 0.0080 - acc: 0.9979 - val_loss: 0.0078 - val_acc: 0.9978\n",
      "Epoch 114/200\n",
      "2813625/2813625 [==============================] - 72s 25us/step - loss: 0.0080 - acc: 0.9979 - val_loss: 0.0077 - val_acc: 0.9981\n",
      "Epoch 115/200\n",
      "2813625/2813625 [==============================] - 72s 26us/step - loss: 0.0080 - acc: 0.9979 - val_loss: 0.0078 - val_acc: 0.9981\n",
      "Epoch 116/200\n",
      "2813625/2813625 [==============================] - 72s 25us/step - loss: 0.0080 - acc: 0.9979 - val_loss: 0.0079 - val_acc: 0.9981\n",
      "Epoch 117/200\n",
      "2813625/2813625 [==============================] - 71s 25us/step - loss: 0.0080 - acc: 0.9979 - val_loss: 0.0078 - val_acc: 0.9979\n",
      "Epoch 118/200\n",
      "2813625/2813625 [==============================] - 72s 26us/step - loss: 0.0080 - acc: 0.9979 - val_loss: 0.0078 - val_acc: 0.9981\n",
      "Epoch 119/200\n",
      "2813625/2813625 [==============================] - 72s 25us/step - loss: 0.0080 - acc: 0.9979 - val_loss: 0.0078 - val_acc: 0.9981\n",
      "Epoch 120/200\n",
      "2813625/2813625 [==============================] - 72s 26us/step - loss: 0.0080 - acc: 0.9979 - val_loss: 0.0077 - val_acc: 0.9981\n",
      "Epoch 121/200\n",
      "2813625/2813625 [==============================] - 72s 25us/step - loss: 0.0080 - acc: 0.9979 - val_loss: 0.0078 - val_acc: 0.9981\n",
      "Epoch 122/200\n",
      "2813625/2813625 [==============================] - 72s 26us/step - loss: 0.0080 - acc: 0.9979 - val_loss: 0.0079 - val_acc: 0.9972\n",
      "Epoch 123/200\n",
      "2813625/2813625 [==============================] - 72s 26us/step - loss: 0.0080 - acc: 0.9979 - val_loss: 0.0077 - val_acc: 0.9980\n",
      "Epoch 124/200\n",
      "2813625/2813625 [==============================] - 72s 25us/step - loss: 0.0080 - acc: 0.9979 - val_loss: 0.0077 - val_acc: 0.9981\n",
      "Epoch 125/200\n",
      "2813625/2813625 [==============================] - 72s 26us/step - loss: 0.0080 - acc: 0.9979 - val_loss: 0.0078 - val_acc: 0.9981\n",
      "Epoch 126/200\n",
      "2813625/2813625 [==============================] - 72s 26us/step - loss: 0.0080 - acc: 0.9979 - val_loss: 0.0077 - val_acc: 0.9979\n",
      "Epoch 127/200\n",
      "2813625/2813625 [==============================] - 72s 25us/step - loss: 0.0080 - acc: 0.9979 - val_loss: 0.0077 - val_acc: 0.9981\n",
      "Epoch 128/200\n",
      "2813625/2813625 [==============================] - 72s 26us/step - loss: 0.0080 - acc: 0.9979 - val_loss: 0.0077 - val_acc: 0.9980\n",
      "Epoch 129/200\n",
      "2813625/2813625 [==============================] - 72s 25us/step - loss: 0.0080 - acc: 0.9979 - val_loss: 0.0079 - val_acc: 0.9972\n",
      "Epoch 130/200\n",
      "2813625/2813625 [==============================] - 72s 26us/step - loss: 0.0080 - acc: 0.9979 - val_loss: 0.0078 - val_acc: 0.9981\n",
      "Epoch 131/200\n",
      "2813625/2813625 [==============================] - 72s 26us/step - loss: 0.0080 - acc: 0.9979 - val_loss: 0.0081 - val_acc: 0.9981\n",
      "Epoch 132/200\n",
      "2813625/2813625 [==============================] - 72s 26us/step - loss: 0.0080 - acc: 0.9979 - val_loss: 0.0080 - val_acc: 0.9972\n",
      "Epoch 133/200\n",
      "2813625/2813625 [==============================] - 72s 26us/step - loss: 0.0080 - acc: 0.9979 - val_loss: 0.0088 - val_acc: 0.9967\n",
      "Epoch 134/200\n",
      "2813625/2813625 [==============================] - 72s 25us/step - loss: 0.0080 - acc: 0.9979 - val_loss: 0.0077 - val_acc: 0.9980\n",
      "Epoch 135/200\n",
      "2813625/2813625 [==============================] - 73s 26us/step - loss: 0.0080 - acc: 0.9979 - val_loss: 0.0077 - val_acc: 0.9981\n",
      "Epoch 136/200\n",
      "2813625/2813625 [==============================] - 72s 26us/step - loss: 0.0080 - acc: 0.9979 - val_loss: 0.0085 - val_acc: 0.9980\n",
      "Epoch 137/200\n",
      "2813625/2813625 [==============================] - 73s 26us/step - loss: 0.0080 - acc: 0.9980 - val_loss: 0.0077 - val_acc: 0.9981\n",
      "Epoch 138/200\n",
      "2813625/2813625 [==============================] - 72s 26us/step - loss: 0.0080 - acc: 0.9979 - val_loss: 0.0077 - val_acc: 0.9981\n",
      "Epoch 139/200\n",
      "2813625/2813625 [==============================] - 73s 26us/step - loss: 0.0080 - acc: 0.9979 - val_loss: 0.0084 - val_acc: 0.9980\n",
      "Epoch 140/200\n",
      "2813625/2813625 [==============================] - 74s 26us/step - loss: 0.0080 - acc: 0.9979 - val_loss: 0.0080 - val_acc: 0.9981\n",
      "Epoch 141/200\n",
      "2813625/2813625 [==============================] - 72s 26us/step - loss: 0.0080 - acc: 0.9979 - val_loss: 0.0080 - val_acc: 0.9981\n",
      "Epoch 142/200\n",
      "2813625/2813625 [==============================] - 72s 26us/step - loss: 0.0080 - acc: 0.9980 - val_loss: 0.0077 - val_acc: 0.9981\n",
      "Epoch 143/200\n",
      "2813625/2813625 [==============================] - 73s 26us/step - loss: 0.0080 - acc: 0.9979 - val_loss: 0.0077 - val_acc: 0.9981\n",
      "Epoch 144/200\n",
      "2813625/2813625 [==============================] - 72s 26us/step - loss: 0.0080 - acc: 0.9979 - val_loss: 0.0080 - val_acc: 0.9981\n",
      "Epoch 145/200\n",
      "2813625/2813625 [==============================] - 72s 26us/step - loss: 0.0080 - acc: 0.9980 - val_loss: 0.0079 - val_acc: 0.9981\n",
      "Epoch 146/200\n",
      "2813625/2813625 [==============================] - 72s 26us/step - loss: 0.0080 - acc: 0.9980 - val_loss: 0.0084 - val_acc: 0.9970\n",
      "Epoch 147/200\n",
      "2813625/2813625 [==============================] - 73s 26us/step - loss: 0.0080 - acc: 0.9979 - val_loss: 0.0078 - val_acc: 0.9981\n",
      "Epoch 148/200\n",
      "2813625/2813625 [==============================] - 72s 26us/step - loss: 0.0080 - acc: 0.9980 - val_loss: 0.0083 - val_acc: 0.9980\n",
      "Epoch 149/200\n",
      "2813625/2813625 [==============================] - 72s 26us/step - loss: 0.0080 - acc: 0.9979 - val_loss: 0.0077 - val_acc: 0.9981\n",
      "Epoch 150/200\n",
      "2813625/2813625 [==============================] - 72s 26us/step - loss: 0.0080 - acc: 0.9980 - val_loss: 0.0079 - val_acc: 0.9981\n",
      "Epoch 151/200\n",
      "2813625/2813625 [==============================] - 73s 26us/step - loss: 0.0080 - acc: 0.9980 - val_loss: 0.0078 - val_acc: 0.9979\n",
      "Epoch 152/200\n",
      "2813625/2813625 [==============================] - 72s 26us/step - loss: 0.0080 - acc: 0.9979 - val_loss: 0.0079 - val_acc: 0.9981\n",
      "Epoch 153/200\n",
      "2813625/2813625 [==============================] - 73s 26us/step - loss: 0.0080 - acc: 0.9979 - val_loss: 0.0077 - val_acc: 0.9980\n",
      "Epoch 154/200\n",
      "2813625/2813625 [==============================] - 72s 26us/step - loss: 0.0080 - acc: 0.9980 - val_loss: 0.0077 - val_acc: 0.9980\n",
      "Epoch 155/200\n",
      "2813625/2813625 [==============================] - 72s 26us/step - loss: 0.0080 - acc: 0.9979 - val_loss: 0.0087 - val_acc: 0.9979\n",
      "Epoch 156/200\n",
      "2813625/2813625 [==============================] - 72s 26us/step - loss: 0.0080 - acc: 0.9979 - val_loss: 0.0077 - val_acc: 0.9981\n",
      "Epoch 157/200\n",
      "2813625/2813625 [==============================] - 72s 26us/step - loss: 0.0080 - acc: 0.9979 - val_loss: 0.0077 - val_acc: 0.9981\n",
      "Epoch 158/200\n",
      "2813625/2813625 [==============================] - 72s 26us/step - loss: 0.0080 - acc: 0.9980 - val_loss: 0.0077 - val_acc: 0.9981\n",
      "Epoch 159/200\n",
      "2813625/2813625 [==============================] - 72s 26us/step - loss: 0.0080 - acc: 0.9980 - val_loss: 0.0082 - val_acc: 0.9981\n",
      "Epoch 160/200\n",
      "2813625/2813625 [==============================] - 73s 26us/step - loss: 0.0080 - acc: 0.9980 - val_loss: 0.0078 - val_acc: 0.9981\n",
      "Epoch 161/200\n",
      "2813625/2813625 [==============================] - 72s 26us/step - loss: 0.0080 - acc: 0.9979 - val_loss: 0.0078 - val_acc: 0.9978\n",
      "Epoch 162/200\n",
      "2813625/2813625 [==============================] - 72s 26us/step - loss: 0.0080 - acc: 0.9980 - val_loss: 0.0085 - val_acc: 0.9979\n",
      "Epoch 163/200\n",
      "2813625/2813625 [==============================] - 72s 26us/step - loss: 0.0080 - acc: 0.9979 - val_loss: 0.0084 - val_acc: 0.9965\n",
      "Epoch 164/200\n",
      "2813625/2813625 [==============================] - 72s 26us/step - loss: 0.0080 - acc: 0.9980 - val_loss: 0.0079 - val_acc: 0.9980\n",
      "Epoch 165/200\n",
      "2813625/2813625 [==============================] - 73s 26us/step - loss: 0.0080 - acc: 0.9979 - val_loss: 0.0078 - val_acc: 0.9981\n",
      "Epoch 166/200\n",
      "2813625/2813625 [==============================] - 72s 26us/step - loss: 0.0080 - acc: 0.9980 - val_loss: 0.0084 - val_acc: 0.9964\n",
      "Epoch 167/200\n",
      "2813625/2813625 [==============================] - 72s 26us/step - loss: 0.0080 - acc: 0.9980 - val_loss: 0.0085 - val_acc: 0.9976\n",
      "Epoch 168/200\n",
      "2813625/2813625 [==============================] - 73s 26us/step - loss: 0.0080 - acc: 0.9980 - val_loss: 0.0078 - val_acc: 0.9981\n",
      "Epoch 169/200\n",
      "2813625/2813625 [==============================] - 71s 25us/step - loss: 0.0080 - acc: 0.9979 - val_loss: 0.0077 - val_acc: 0.9980\n",
      "Epoch 170/200\n",
      "2813625/2813625 [==============================] - 72s 25us/step - loss: 0.0080 - acc: 0.9979 - val_loss: 0.0078 - val_acc: 0.9981\n",
      "Epoch 171/200\n",
      "2813625/2813625 [==============================] - 71s 25us/step - loss: 0.0080 - acc: 0.9979 - val_loss: 0.0077 - val_acc: 0.9980\n",
      "Epoch 172/200\n",
      "2813625/2813625 [==============================] - 72s 25us/step - loss: 0.0080 - acc: 0.9980 - val_loss: 0.0078 - val_acc: 0.9981\n",
      "Epoch 173/200\n",
      "2813625/2813625 [==============================] - 72s 26us/step - loss: 0.0080 - acc: 0.9979 - val_loss: 0.0078 - val_acc: 0.9981\n",
      "Epoch 174/200\n",
      "2813625/2813625 [==============================] - 71s 25us/step - loss: 0.0080 - acc: 0.9980 - val_loss: 0.0077 - val_acc: 0.9980\n",
      "Epoch 175/200\n",
      "2813625/2813625 [==============================] - 72s 25us/step - loss: 0.0080 - acc: 0.9980 - val_loss: 0.0079 - val_acc: 0.9981\n",
      "Epoch 176/200\n",
      "2813625/2813625 [==============================] - 72s 26us/step - loss: 0.0080 - acc: 0.9980 - val_loss: 0.0077 - val_acc: 0.9981\n",
      "Epoch 177/200\n",
      "2813625/2813625 [==============================] - 72s 26us/step - loss: 0.0080 - acc: 0.9980 - val_loss: 0.0080 - val_acc: 0.9981\n",
      "Epoch 178/200\n",
      "2813625/2813625 [==============================] - 72s 26us/step - loss: 0.0080 - acc: 0.9980 - val_loss: 0.0081 - val_acc: 0.9981\n",
      "Epoch 179/200\n",
      "2813625/2813625 [==============================] - 72s 25us/step - loss: 0.0080 - acc: 0.9980 - val_loss: 0.0077 - val_acc: 0.9981\n",
      "Epoch 180/200\n",
      "2813625/2813625 [==============================] - 72s 26us/step - loss: 0.0080 - acc: 0.9980 - val_loss: 0.0078 - val_acc: 0.9981\n",
      "Epoch 181/200\n",
      "2813625/2813625 [==============================] - 72s 25us/step - loss: 0.0080 - acc: 0.9979 - val_loss: 0.0078 - val_acc: 0.9981\n",
      "Epoch 182/200\n",
      "2813625/2813625 [==============================] - 71s 25us/step - loss: 0.0080 - acc: 0.9979 - val_loss: 0.0077 - val_acc: 0.9981\n",
      "Epoch 183/200\n",
      "2813625/2813625 [==============================] - 72s 25us/step - loss: 0.0080 - acc: 0.9980 - val_loss: 0.0079 - val_acc: 0.9981\n",
      "Epoch 184/200\n",
      "2813625/2813625 [==============================] - 72s 25us/step - loss: 0.0080 - acc: 0.9980 - val_loss: 0.0083 - val_acc: 0.9980\n",
      "Epoch 185/200\n",
      "2813625/2813625 [==============================] - 72s 26us/step - loss: 0.0080 - acc: 0.9980 - val_loss: 0.0077 - val_acc: 0.9981\n",
      "Epoch 186/200\n",
      "2813625/2813625 [==============================] - 72s 25us/step - loss: 0.0080 - acc: 0.9980 - val_loss: 0.0081 - val_acc: 0.9981\n",
      "Epoch 187/200\n",
      "2813625/2813625 [==============================] - 72s 25us/step - loss: 0.0080 - acc: 0.9980 - val_loss: 0.0081 - val_acc: 0.9981\n",
      "Epoch 188/200\n",
      "2813625/2813625 [==============================] - 72s 26us/step - loss: 0.0080 - acc: 0.9980 - val_loss: 0.0078 - val_acc: 0.9981\n",
      "Epoch 189/200\n",
      "2813625/2813625 [==============================] - 73s 26us/step - loss: 0.0080 - acc: 0.9979 - val_loss: 0.0079 - val_acc: 0.9981\n",
      "Epoch 190/200\n",
      "2813625/2813625 [==============================] - 72s 26us/step - loss: 0.0080 - acc: 0.9979 - val_loss: 0.0077 - val_acc: 0.9981\n",
      "Epoch 191/200\n",
      "2813625/2813625 [==============================] - 72s 26us/step - loss: 0.0080 - acc: 0.9980 - val_loss: 0.0077 - val_acc: 0.9980\n",
      "Epoch 192/200\n",
      "2813625/2813625 [==============================] - 72s 25us/step - loss: 0.0080 - acc: 0.9979 - val_loss: 0.0079 - val_acc: 0.9981\n",
      "Epoch 193/200\n",
      "2813625/2813625 [==============================] - 72s 26us/step - loss: 0.0080 - acc: 0.9980 - val_loss: 0.0083 - val_acc: 0.9980\n",
      "Epoch 194/200\n",
      "2813625/2813625 [==============================] - 72s 25us/step - loss: 0.0080 - acc: 0.9980 - val_loss: 0.0077 - val_acc: 0.9981\n",
      "Epoch 195/200\n",
      "2813625/2813625 [==============================] - 72s 26us/step - loss: 0.0080 - acc: 0.9980 - val_loss: 0.0078 - val_acc: 0.9981\n",
      "Epoch 196/200\n",
      "2813625/2813625 [==============================] - 72s 26us/step - loss: 0.0080 - acc: 0.9980 - val_loss: 0.0077 - val_acc: 0.9981\n",
      "Epoch 197/200\n",
      "2813625/2813625 [==============================] - 72s 26us/step - loss: 0.0080 - acc: 0.9980 - val_loss: 0.0078 - val_acc: 0.9981\n",
      "Epoch 198/200\n",
      "2813625/2813625 [==============================] - 72s 26us/step - loss: 0.0080 - acc: 0.9980 - val_loss: 0.0077 - val_acc: 0.9981\n",
      "Epoch 199/200\n",
      "2813625/2813625 [==============================] - 72s 25us/step - loss: 0.0080 - acc: 0.9980 - val_loss: 0.0077 - val_acc: 0.9981\n",
      "Epoch 200/200\n",
      "2813625/2813625 [==============================] - 72s 25us/step - loss: 0.0080 - acc: 0.9980 - val_loss: 0.0077 - val_acc: 0.9980\n"
     ]
    }
   ],
   "source": [
    "history = model.fit(X_train, y_train_one_hot,validation_data=(X_test,y_test_one_hot),epochs=200,verbose=1)"
   ]
  },
  {
   "cell_type": "markdown",
   "metadata": {},
   "source": [
    "# Grafik Training Model"
   ]
  },
  {
   "cell_type": "code",
   "execution_count": 1,
   "metadata": {},
   "outputs": [],
   "source": [
    "#Simpan grafik\n",
    "import pandas as pd\n",
    "#save=pd.Dataframe(history.history)\n",
    "#save.to_pickle(\"hasil.pkl\")\n",
    "save=pd.read_pickle(\"hasil.pkl\")"
   ]
  },
  {
   "cell_type": "code",
   "execution_count": 3,
   "metadata": {
    "scrolled": false
   },
   "outputs": [
    {
     "data": {
      "image/png": "[encoded data removed]",
      "text/plain": [
       "<Figure size 576x432 with 1 Axes>"
      ]
     },
     "metadata": {
      "needs_background": "light"
     },
     "output_type": "display_data"
    },
    {
     "data": {
      "image/png": "[encoded data removed]",
      "text/plain": [
       "<Figure size 576x432 with 1 Axes>"
      ]
     },
     "metadata": {
      "needs_background": "light"
     },
     "output_type": "display_data"
    }
   ],
   "source": [
    "import matplotlib.pyplot as plt\n",
    "plt.rcParams[\"figure.figsize\"] = (8,6)\n",
    "# AKURASI\n",
    "plt.plot(save['acc'])\n",
    "plt.plot(save['val_acc'])\n",
    "plt.title('Model accuracy')\n",
    "plt.ylabel('Accuracy')\n",
    "plt.xlabel('Epoch')\n",
    "plt.legend(['Train', 'Test'], loc='upper left')\n",
    "plt.ylim()\n",
    "plt.show()\n",
    "\n",
    "# LOSS\n",
    "plt.plot(save['loss'])\n",
    "plt.plot(save['val_loss'])\n",
    "plt.title('Model loss')\n",
    "plt.ylabel('Loss')\n",
    "plt.xlabel('Epoch')\n",
    "plt.legend(['Train', 'Test'], loc='upper left')\n",
    "plt.ylim()\n",
    "plt.show()"
   ]
  },
  {
   "cell_type": "markdown",
   "metadata": {},
   "source": [
    "Terlihat hasil pelatihan bagus karena perbandingan antara pelatihan dan validasi mirip, tidak terjadi overfitting ataupun underfitting."
   ]
  },
  {
   "cell_type": "markdown",
   "metadata": {},
   "source": [
    "# Hasil Evaluasi"
   ]
  },
  {
   "cell_type": "code",
   "execution_count": 12,
   "metadata": {},
   "outputs": [],
   "source": [
    "y_pred = model.predict_classes(X_test)"
   ]
  },
  {
   "cell_type": "code",
   "execution_count": 13,
   "metadata": {},
   "outputs": [],
   "source": [
    "# Model evaluation\n",
    "from sklearn.metrics import confusion_matrix\n",
    "cm = confusion_matrix(y_test, y_pred)"
   ]
  },
  {
   "cell_type": "code",
   "execution_count": 14,
   "metadata": {},
   "outputs": [
    {
     "data": {
      "text/plain": [
       "array([[297622,     31],\n",
       "       [   579,  14393]], dtype=int64)"
      ]
     },
     "execution_count": 14,
     "metadata": {},
     "output_type": "execute_result"
    }
   ],
   "source": [
    "cm"
   ]
  },
  {
   "cell_type": "code",
   "execution_count": 15,
   "metadata": {},
   "outputs": [],
   "source": [
    "tp=cm[0][0]\n",
    "tn=cm[1][1]\n",
    "fp=cm[1][0]\n",
    "fn=cm[0][1]\n",
    "p=tp+fn\n",
    "n=tn+fp"
   ]
  },
  {
   "cell_type": "code",
   "execution_count": 16,
   "metadata": {},
   "outputs": [],
   "source": [
    "accuracy=(tp+tn)/(p+n)\n",
    "recall=tp/p\n",
    "precision=tp/(tp+fp)\n",
    "fscore=(2*precision*recall)/(precision+recall)\n",
    "report={'precision':precision,'recall':recall,'accuracy':accuracy,'fscore':fscore}"
   ]
  },
  {
   "cell_type": "code",
   "execution_count": 17,
   "metadata": {},
   "outputs": [
    {
     "name": "stdout",
     "output_type": "stream",
     "text": [
      "{'precision': 0.9980583566118155, 'recall': 0.9998958518812174, 'accuracy': 0.9980487804878049, 'fscore': 0.9989762592849927}\n"
     ]
    }
   ],
   "source": [
    "print(report)"
   ]
  },
  {
   "cell_type": "markdown",
   "metadata": {},
   "source": [
    "<html>\n",
    "    <a href=\"http://www.unsri.ac.id/?act=detil_mahasiswa&mhs=09011281722064-9-10003&akt=2017\" target=\"_blank\">Mohammad El Qiliqsandy<br>09011281722064<br><img src=\"https://akademik.unsri.ac.id/images/foto_mhs/2017/09011281722064.jpg\" width=100 align=\"left\"><img></a>\n",
    "    <a href=\"http://unsri.ac.id\"><img src=\"https://upload.wikimedia.org/wikipedia/en/9/92/UNSRI_Logo.png\" align=\"right\" width=140></img></a>\n",
    "</html>"
   ]
  }
 ],
 "metadata": {
  "kernelspec": {
   "display_name": "Python 3",
   "language": "python",
   "name": "python3"
  },
  "language_info": {
   "codemirror_mode": {
    "name": "ipython",
    "version": 3
   },
   "file_extension": ".py",
   "mimetype": "text/x-python",
   "name": "python",
   "nbconvert_exporter": "python",
   "pygments_lexer": "ipython3",
   "version": "3.6.9"
  }
 },
 "nbformat": 4,
 "nbformat_minor": 2
}
