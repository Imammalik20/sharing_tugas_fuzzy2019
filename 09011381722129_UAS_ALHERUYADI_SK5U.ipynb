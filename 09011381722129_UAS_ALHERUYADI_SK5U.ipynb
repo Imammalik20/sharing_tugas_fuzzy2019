{
 "cells": [
  {
   "cell_type": "markdown",
   "metadata": {},
   "source": [
    "# AL HERUYADI\n",
    "# 09011381722129\n",
    "## Judul Paper: Jaringan Syaraf Tiruan Dengan  Backpropagasi Untuk Memprediksi Penyakit Asma\n",
    "## Data sheet dari : Paper tersebut"
   ]
  },
  {
   "cell_type": "code",
   "execution_count": 1,
   "metadata": {
    "scrolled": true
   },
   "outputs": [
    {
     "name": "stderr",
     "output_type": "stream",
     "text": [
      "C:\\Users\\cosmos\\Anaconda3\\lib\\site-packages\\h5py\\__init__.py:36: FutureWarning: Conversion of the second argument of issubdtype from `float` to `np.floating` is deprecated. In future, it will be treated as `np.float64 == np.dtype(float).type`.\n",
      "  from ._conv import register_converters as _register_converters\n",
      "Using TensorFlow backend.\n"
     ]
    }
   ],
   "source": [
    "from keras.models import Sequential\n",
    "from keras.layers import Dense\n",
    "import numpy as np\n",
    "np.random.seed(7)"
   ]
  },
  {
   "cell_type": "code",
   "execution_count": 56,
   "metadata": {},
   "outputs": [],
   "source": [
    "dataset = np.loadtxt(\"heru.csv\", delimiter=\",\")\n",
    "X = dataset[:,0:20]\n",
    "Y = dataset[:,20]"
   ]
  },
  {
   "cell_type": "code",
   "execution_count": 57,
   "metadata": {},
   "outputs": [],
   "source": [
    "X = np.array(X)\n",
    "Y = np.array(Y)"
   ]
  },
  {
   "cell_type": "code",
   "execution_count": 58,
   "metadata": {},
   "outputs": [],
   "source": [
    "from sklearn.preprocessing import MinMaxScaler\n",
    "scaler = MinMaxScaler()"
   ]
  },
  {
   "cell_type": "code",
   "execution_count": 59,
   "metadata": {},
   "outputs": [],
   "source": [
    "X_scaled = scaler.fit_transform(X)"
   ]
  },
  {
   "cell_type": "code",
   "execution_count": 60,
   "metadata": {},
   "outputs": [
    {
     "data": {
      "text/plain": [
       "(20, 20)"
      ]
     },
     "execution_count": 60,
     "metadata": {},
     "output_type": "execute_result"
    }
   ],
   "source": [
    "X_scaled.shape"
   ]
  },
  {
   "cell_type": "code",
   "execution_count": 61,
   "metadata": {},
   "outputs": [],
   "source": [
    "from keras.utils.np_utils import to_categorical\n",
    "\n",
    "Y_categorical = to_categorical(Y)"
   ]
  },
  {
   "cell_type": "code",
   "execution_count": 62,
   "metadata": {},
   "outputs": [
    {
     "data": {
      "text/plain": [
       "(20, 2)"
      ]
     },
     "execution_count": 62,
     "metadata": {},
     "output_type": "execute_result"
    }
   ],
   "source": [
    "Y_categorical.shape"
   ]
  },
  {
   "cell_type": "code",
   "execution_count": 63,
   "metadata": {},
   "outputs": [
    {
     "name": "stdout",
     "output_type": "stream",
     "text": [
      "Epoch 1/100\n",
      "20/20 [==============================] - 31s 2s/step - loss: 0.6655 - acc: 0.8000\n"
     ]
    },
    {
     "name": "stderr",
     "output_type": "stream",
     "text": [
      "C:\\Users\\cosmos\\Anaconda3\\lib\\site-packages\\keras\\callbacks.py:122: UserWarning: Method on_batch_end() is slow compared to the batch update (0.174510). Check your callbacks.\n",
      "  % delta_t_median)\n"
     ]
    },
    {
     "name": "stdout",
     "output_type": "stream",
     "text": [
      "Epoch 2/100\n",
      "20/20 [==============================] - 0s 23ms/step - loss: 0.6472 - acc: 0.8000\n",
      "Epoch 3/100\n",
      "20/20 [==============================] - 0s 22ms/step - loss: 0.6303 - acc: 1.0000\n",
      "Epoch 4/100\n",
      "20/20 [==============================] - 1s 28ms/step - loss: 0.6142 - acc: 1.0000\n",
      "Epoch 5/100\n",
      "20/20 [==============================] - 0s 600us/step - loss: 0.5985 - acc: 1.0000\n",
      "Epoch 6/100\n",
      "20/20 [==============================] - 0s 600us/step - loss: 0.5816 - acc: 1.0000\n",
      "Epoch 7/100\n",
      "20/20 [==============================] - 0s 20ms/step - loss: 0.5641 - acc: 1.0000\n",
      "Epoch 8/100\n",
      "20/20 [==============================] - 0s 12ms/step - loss: 0.5461 - acc: 1.0000\n",
      "Epoch 9/100\n",
      "20/20 [==============================] - 0s 1ms/step - loss: 0.5274 - acc: 1.0000\n",
      "Epoch 10/100\n",
      "20/20 [==============================] - 0s 850us/step - loss: 0.5074 - acc: 1.0000\n",
      "Epoch 11/100\n",
      "20/20 [==============================] - 0s 900us/step - loss: 0.4867 - acc: 1.0000\n",
      "Epoch 12/100\n",
      "20/20 [==============================] - 0s 900us/step - loss: 0.4656 - acc: 1.0000\n",
      "Epoch 13/100\n",
      "20/20 [==============================] - 0s 1ms/step - loss: 0.4449 - acc: 1.0000\n",
      "Epoch 14/100\n",
      "20/20 [==============================] - 0s 950us/step - loss: 0.4240 - acc: 1.0000\n",
      "Epoch 15/100\n",
      "20/20 [==============================] - 0s 11ms/step - loss: 0.4027 - acc: 1.0000\n",
      "Epoch 16/100\n",
      "20/20 [==============================] - 0s 850us/step - loss: 0.3807 - acc: 1.0000\n",
      "Epoch 17/100\n",
      "20/20 [==============================] - 0s 700us/step - loss: 0.3586 - acc: 1.0000\n",
      "Epoch 18/100\n",
      "20/20 [==============================] - 0s 800us/step - loss: 0.3367 - acc: 1.0000\n",
      "Epoch 19/100\n",
      "20/20 [==============================] - 0s 5ms/step - loss: 0.3150 - acc: 1.0000\n",
      "Epoch 20/100\n",
      "20/20 [==============================] - 0s 800us/step - loss: 0.2941 - acc: 1.0000\n",
      "Epoch 21/100\n",
      "20/20 [==============================] - 0s 800us/step - loss: 0.2735 - acc: 1.0000\n",
      "Epoch 22/100\n",
      "20/20 [==============================] - 1s 35ms/step - loss: 0.2538 - acc: 1.0000\n",
      "Epoch 23/100\n",
      "20/20 [==============================] - 0s 950us/step - loss: 0.2345 - acc: 1.0000\n",
      "Epoch 24/100\n",
      "20/20 [==============================] - 0s 900us/step - loss: 0.2161 - acc: 1.0000\n",
      "Epoch 25/100\n",
      "20/20 [==============================] - 0s 750us/step - loss: 0.1983 - acc: 1.0000\n",
      "Epoch 26/100\n",
      "20/20 [==============================] - 0s 700us/step - loss: 0.1809 - acc: 1.0000\n",
      "Epoch 27/100\n",
      "20/20 [==============================] - 0s 650us/step - loss: 0.1645 - acc: 1.0000\n",
      "Epoch 28/100\n",
      "20/20 [==============================] - 0s 750us/step - loss: 0.1491 - acc: 1.0000\n",
      "Epoch 29/100\n",
      "20/20 [==============================] - 0s 2ms/step - loss: 0.1349 - acc: 1.0000\n",
      "Epoch 30/100\n",
      "20/20 [==============================] - 0s 1ms/step - loss: 0.1220 - acc: 1.0000\n",
      "Epoch 31/100\n",
      "20/20 [==============================] - 0s 900us/step - loss: 0.1099 - acc: 1.0000\n",
      "Epoch 32/100\n",
      "20/20 [==============================] - 0s 700us/step - loss: 0.0990 - acc: 1.0000\n",
      "Epoch 33/100\n",
      "20/20 [==============================] - 0s 650us/step - loss: 0.0894 - acc: 1.0000\n",
      "Epoch 34/100\n",
      "20/20 [==============================] - 0s 2ms/step - loss: 0.0805 - acc: 1.0000\n",
      "Epoch 35/100\n",
      "20/20 [==============================] - 0s 650us/step - loss: 0.0728 - acc: 1.0000\n",
      "Epoch 36/100\n",
      "20/20 [==============================] - 0s 750us/step - loss: 0.0658 - acc: 1.0000\n",
      "Epoch 37/100\n",
      "20/20 [==============================] - 0s 700us/step - loss: 0.0595 - acc: 1.0000\n",
      "Epoch 38/100\n",
      "20/20 [==============================] - 0s 1ms/step - loss: 0.0539 - acc: 1.0000\n",
      "Epoch 39/100\n",
      "20/20 [==============================] - 0s 3ms/step - loss: 0.0491 - acc: 1.0000\n",
      "Epoch 40/100\n",
      "20/20 [==============================] - 0s 750us/step - loss: 0.0446 - acc: 1.0000\n",
      "Epoch 41/100\n",
      "20/20 [==============================] - 0s 1ms/step - loss: 0.0409 - acc: 1.0000\n",
      "Epoch 42/100\n",
      "20/20 [==============================] - 0s 1ms/step - loss: 0.0375 - acc: 1.0000\n",
      "Epoch 43/100\n",
      "20/20 [==============================] - 0s 4ms/step - loss: 0.0343 - acc: 1.0000\n",
      "Epoch 44/100\n",
      "20/20 [==============================] - 0s 700us/step - loss: 0.0316 - acc: 1.0000\n",
      "Epoch 45/100\n",
      "20/20 [==============================] - 0s 700us/step - loss: 0.0291 - acc: 1.0000\n",
      "Epoch 46/100\n",
      "20/20 [==============================] - 0s 700us/step - loss: 0.0270 - acc: 1.0000\n",
      "Epoch 47/100\n",
      "20/20 [==============================] - 0s 3ms/step - loss: 0.0250 - acc: 1.0000\n",
      "Epoch 48/100\n",
      "20/20 [==============================] - 0s 800us/step - loss: 0.0232 - acc: 1.0000\n",
      "Epoch 49/100\n",
      "20/20 [==============================] - 0s 750us/step - loss: 0.0217 - acc: 1.0000\n",
      "Epoch 50/100\n",
      "20/20 [==============================] - 0s 700us/step - loss: 0.0202 - acc: 1.0000\n",
      "Epoch 51/100\n",
      "20/20 [==============================] - 0s 950us/step - loss: 0.0188 - acc: 1.0000\n",
      "Epoch 52/100\n",
      "20/20 [==============================] - 0s 1ms/step - loss: 0.0177 - acc: 1.0000\n",
      "Epoch 53/100\n",
      "20/20 [==============================] - 0s 6ms/step - loss: 0.0165 - acc: 1.0000\n",
      "Epoch 54/100\n",
      "20/20 [==============================] - 0s 600us/step - loss: 0.0155 - acc: 1.0000\n",
      "Epoch 55/100\n",
      "20/20 [==============================] - 0s 750us/step - loss: 0.0146 - acc: 1.0000\n",
      "Epoch 56/100\n",
      "20/20 [==============================] - 0s 750us/step - loss: 0.0137 - acc: 1.0000\n",
      "Epoch 57/100\n",
      "20/20 [==============================] - 0s 750us/step - loss: 0.0129 - acc: 1.0000\n",
      "Epoch 58/100\n",
      "20/20 [==============================] - 0s 700us/step - loss: 0.0122 - acc: 1.0000\n",
      "Epoch 59/100\n",
      "20/20 [==============================] - 0s 600us/step - loss: 0.0116 - acc: 1.0000\n",
      "Epoch 60/100\n",
      "20/20 [==============================] - 0s 750us/step - loss: 0.0110 - acc: 1.0000\n",
      "Epoch 61/100\n",
      "20/20 [==============================] - 0s 700us/step - loss: 0.0104 - acc: 1.0000\n",
      "Epoch 62/100\n",
      "20/20 [==============================] - 0s 700us/step - loss: 0.0099 - acc: 1.0000\n",
      "Epoch 63/100\n",
      "20/20 [==============================] - 0s 950us/step - loss: 0.0094 - acc: 1.0000\n",
      "Epoch 64/100\n",
      "20/20 [==============================] - 0s 700us/step - loss: 0.0090 - acc: 1.0000\n",
      "Epoch 65/100\n",
      "20/20 [==============================] - 0s 1ms/step - loss: 0.0085 - acc: 1.0000\n",
      "Epoch 66/100\n",
      "20/20 [==============================] - 0s 750us/step - loss: 0.0082 - acc: 1.0000\n",
      "Epoch 67/100\n",
      "20/20 [==============================] - 0s 750us/step - loss: 0.0078 - acc: 1.0000\n",
      "Epoch 68/100\n",
      "20/20 [==============================] - 0s 750us/step - loss: 0.0074 - acc: 1.0000\n",
      "Epoch 69/100\n",
      "20/20 [==============================] - 0s 1ms/step - loss: 0.0071 - acc: 1.0000\n",
      "Epoch 70/100\n",
      "20/20 [==============================] - 0s 3ms/step - loss: 0.0068 - acc: 1.0000\n",
      "Epoch 71/100\n",
      "20/20 [==============================] - 0s 750us/step - loss: 0.0065 - acc: 1.0000\n",
      "Epoch 72/100\n",
      "20/20 [==============================] - 0s 2ms/step - loss: 0.0063 - acc: 1.0000\n",
      "Epoch 73/100\n",
      "20/20 [==============================] - 0s 800us/step - loss: 0.0060 - acc: 1.0000\n",
      "Epoch 74/100\n",
      "20/20 [==============================] - 0s 750us/step - loss: 0.0057 - acc: 1.0000\n",
      "Epoch 75/100\n",
      "20/20 [==============================] - 0s 700us/step - loss: 0.0055 - acc: 1.0000\n",
      "Epoch 76/100\n",
      "20/20 [==============================] - 0s 700us/step - loss: 0.0053 - acc: 1.0000\n",
      "Epoch 77/100\n",
      "20/20 [==============================] - 0s 700us/step - loss: 0.0051 - acc: 1.0000\n",
      "Epoch 78/100\n",
      "20/20 [==============================] - 0s 800us/step - loss: 0.0049 - acc: 1.0000\n",
      "Epoch 79/100\n",
      "20/20 [==============================] - 0s 600us/step - loss: 0.0047 - acc: 1.0000\n",
      "Epoch 80/100\n",
      "20/20 [==============================] - 0s 3ms/step - loss: 0.0045 - acc: 1.0000\n",
      "Epoch 81/100\n",
      "20/20 [==============================] - 0s 850us/step - loss: 0.0043 - acc: 1.0000\n",
      "Epoch 82/100\n",
      "20/20 [==============================] - 0s 750us/step - loss: 0.0041 - acc: 1.0000\n",
      "Epoch 83/100\n",
      "20/20 [==============================] - 0s 650us/step - loss: 0.0040 - acc: 1.0000\n",
      "Epoch 84/100\n",
      "20/20 [==============================] - 0s 1ms/step - loss: 0.0038 - acc: 1.0000\n",
      "Epoch 85/100\n",
      "20/20 [==============================] - 0s 950us/step - loss: 0.0037 - acc: 1.0000\n",
      "Epoch 86/100\n",
      "20/20 [==============================] - 0s 650us/step - loss: 0.0035 - acc: 1.0000\n",
      "Epoch 87/100\n"
     ]
    },
    {
     "name": "stdout",
     "output_type": "stream",
     "text": [
      "20/20 [==============================] - 0s 650us/step - loss: 0.0034 - acc: 1.0000\n",
      "Epoch 88/100\n",
      "20/20 [==============================] - 0s 750us/step - loss: 0.0033 - acc: 1.0000\n",
      "Epoch 89/100\n",
      "20/20 [==============================] - 0s 750us/step - loss: 0.0032 - acc: 1.0000\n",
      "Epoch 90/100\n",
      "20/20 [==============================] - 0s 900us/step - loss: 0.0030 - acc: 1.0000\n",
      "Epoch 91/100\n",
      "20/20 [==============================] - 0s 750us/step - loss: 0.0029 - acc: 1.0000\n",
      "Epoch 92/100\n",
      "20/20 [==============================] - 0s 850us/step - loss: 0.0028 - acc: 1.0000\n",
      "Epoch 93/100\n",
      "20/20 [==============================] - 0s 850us/step - loss: 0.0027 - acc: 1.0000\n",
      "Epoch 94/100\n",
      "20/20 [==============================] - 0s 600us/step - loss: 0.0026 - acc: 1.0000\n",
      "Epoch 95/100\n",
      "20/20 [==============================] - 0s 800us/step - loss: 0.0025 - acc: 1.0000\n",
      "Epoch 96/100\n",
      "20/20 [==============================] - 0s 700us/step - loss: 0.0025 - acc: 1.0000\n",
      "Epoch 97/100\n",
      "20/20 [==============================] - 0s 2ms/step - loss: 0.0024 - acc: 1.0000\n",
      "Epoch 98/100\n",
      "20/20 [==============================] - 0s 800us/step - loss: 0.0023 - acc: 1.0000\n",
      "Epoch 99/100\n",
      "20/20 [==============================] - 0s 800us/step - loss: 0.0022 - acc: 1.0000\n",
      "Epoch 100/100\n",
      "20/20 [==============================] - 0s 750us/step - loss: 0.0022 - acc: 1.0000\n"
     ]
    },
    {
     "data": {
      "text/plain": [
       "<keras.callbacks.History at 0x9f4df0ada0>"
      ]
     },
     "execution_count": 63,
     "metadata": {},
     "output_type": "execute_result"
    }
   ],
   "source": [
    "from keras.models import Sequential\n",
    "from keras.layers import Dense \n",
    "\n",
    "model = Sequential()\n",
    "model.add(Dense(units=20, input_dim=20, activation='relu'))\n",
    "model.add(Dense(units=10, activation='relu'))\n",
    "model.add(Dense(units=20,activation='relu'))\n",
    "model.add(Dense(2, activation='softmax'))\n",
    "model.compile(optimizer='adam', loss='categorical_crossentropy', metrics=['accuracy'])\n",
    "model.fit(X_scaled, Y_categorical, epochs = 100, batch_size = 16)"
   ]
  },
  {
   "cell_type": "code",
   "execution_count": 64,
   "metadata": {},
   "outputs": [],
   "source": [
    "loss = model.history.history['loss']\n",
    "acc = model.history.history['acc']"
   ]
  },
  {
   "cell_type": "code",
   "execution_count": 65,
   "metadata": {},
   "outputs": [
    {
     "data": {
      "text/plain": [
       "[<matplotlib.lines.Line2D at 0x9f4decc198>]"
      ]
     },
     "execution_count": 65,
     "metadata": {},
     "output_type": "execute_result"
    },
    {
     "data": {
      "image/png": "[encoded data removed]",
      "text/plain": [
       "<Figure size 720x720 with 1 Axes>"
      ]
     },
     "metadata": {},
     "output_type": "display_data"
    }
   ],
   "source": [
    "import matplotlib.pyplot as plt\n",
    "fig, (ax0) = plt.subplots(nrows=1, figsize= (10,10))\n",
    "ax0.plot(np.arange(100), loss, 'r')"
   ]
  },
  {
   "cell_type": "code",
   "execution_count": 26,
   "metadata": {},
   "outputs": [
    {
     "data": {
      "text/plain": [
       "[<matplotlib.lines.Line2D at 0x9f4bff6cc0>]"
      ]
     },
     "execution_count": 26,
     "metadata": {},
     "output_type": "execute_result"
    },
    {
     "data": {
      "image/png": "[encoded data removed]",
      "text/plain": [
       "<Figure size 720x720 with 1 Axes>"
      ]
     },
     "metadata": {},
     "output_type": "display_data"
    }
   ],
   "source": [
    "import matplotlib.pyplot as plt\n",
    "fig, (ax0) = plt.subplots(nrows=1, figsize=(10,10))\n",
    "ax0.plot(np.arange(100), acc, 'r')"
   ]
  },
  {
   "cell_type": "code",
   "execution_count": 66,
   "metadata": {},
   "outputs": [
    {
     "data": {
      "text/plain": [
       "array([[3.5845954e-03, 9.9641538e-01],\n",
       "       [1.6881750e-03, 9.9831188e-01],\n",
       "       [3.5845954e-03, 9.9641538e-01],\n",
       "       [1.6881750e-03, 9.9831188e-01],\n",
       "       [7.4469927e-04, 9.9925524e-01],\n",
       "       [2.5702519e-03, 9.9742979e-01],\n",
       "       [1.6881750e-03, 9.9831188e-01],\n",
       "       [1.9233804e-03, 9.9807656e-01],\n",
       "       [1.6881750e-03, 9.9831188e-01],\n",
       "       [7.4469927e-04, 9.9925524e-01],\n",
       "       [2.5702519e-03, 9.9742979e-01],\n",
       "       [3.0605698e-03, 9.9693942e-01],\n",
       "       [2.5702519e-03, 9.9742979e-01],\n",
       "       [7.4469927e-04, 9.9925524e-01],\n",
       "       [3.5845954e-03, 9.9641538e-01],\n",
       "       [1.6881750e-03, 9.9831188e-01],\n",
       "       [2.5702519e-03, 9.9742979e-01],\n",
       "       [1.6881750e-03, 9.9831188e-01],\n",
       "       [7.4469927e-04, 9.9925524e-01],\n",
       "       [2.5702519e-03, 9.9742979e-01]], dtype=float32)"
      ]
     },
     "execution_count": 66,
     "metadata": {},
     "output_type": "execute_result"
    }
   ],
   "source": [
    "predict = model.predict(X_scaled)\n",
    "\n",
    "predict"
   ]
  },
  {
   "cell_type": "code",
   "execution_count": 67,
   "metadata": {},
   "outputs": [
    {
     "name": "stdout",
     "output_type": "stream",
     "text": [
      "20/20 [==============================] - 4s 192ms/step\n",
      "1.0\n"
     ]
    }
   ],
   "source": [
    "acc = model.evaluate(X_scaled, Y_categorical)\n",
    "print(acc[1])"
   ]
  },
  {
   "cell_type": "code",
   "execution_count": 68,
   "metadata": {},
   "outputs": [
    {
     "data": {
      "text/plain": [
       "array([[20]], dtype=int64)"
      ]
     },
     "execution_count": 68,
     "metadata": {},
     "output_type": "execute_result"
    }
   ],
   "source": [
    "from sklearn.metrics import confusion_matrix\n",
    "cm = confusion_matrix(Y_categorical.argmax(axis=1), predict.argmax(axis=1))\n",
    "\n",
    "cm"
   ]
  },
  {
   "cell_type": "code",
   "execution_count": 71,
   "metadata": {},
   "outputs": [
    {
     "name": "stdout",
     "output_type": "stream",
     "text": [
      "100.0\n"
     ]
    }
   ],
   "source": [
    "akurasi = ((20)/(20+0+0))*100\n",
    "\n",
    "print(akurasi)"
   ]
  },
  {
   "cell_type": "markdown",
   "metadata": {},
   "source": [
    "# Confusion Matrix"
   ]
  },
  {
   "cell_type": "code",
   "execution_count": 72,
   "metadata": {},
   "outputs": [
    {
     "data": {
      "image/png": "[encoded data removed]",
      "text/plain": [
       "<Figure size 432x288 with 1 Axes>"
      ]
     },
     "metadata": {},
     "output_type": "display_data"
    }
   ],
   "source": [
    "import matplotlib.pyplot as plt\n",
    "plt.title('model accuracy')\n",
    "plt.ylabel('accuracy')\n",
    "plt.xlabel('epochs')\n",
    "plt.legend(['train', 'test'], loc = 'upper left')\n",
    "plt.show()\n"
   ]
  },
  {
   "cell_type": "code",
   "execution_count": 73,
   "metadata": {},
   "outputs": [
    {
     "name": "stdout",
     "output_type": "stream",
     "text": [
      "20/20 [==============================] - 4s 217ms/step\n",
      "1.0\n"
     ]
    }
   ],
   "source": [
    "acc = model.evaluate(X_scaled, Y_categorical)\n",
    "print(acc[1])"
   ]
  },
  {
   "cell_type": "code",
   "execution_count": 74,
   "metadata": {},
   "outputs": [
    {
     "data": {
      "text/plain": [
       "array([[3.5845954e-03, 9.9641538e-01],\n",
       "       [1.6881750e-03, 9.9831188e-01],\n",
       "       [3.5845954e-03, 9.9641538e-01],\n",
       "       [1.6881750e-03, 9.9831188e-01],\n",
       "       [7.4469927e-04, 9.9925524e-01],\n",
       "       [2.5702519e-03, 9.9742979e-01],\n",
       "       [1.6881750e-03, 9.9831188e-01],\n",
       "       [1.9233804e-03, 9.9807656e-01],\n",
       "       [1.6881750e-03, 9.9831188e-01],\n",
       "       [7.4469927e-04, 9.9925524e-01],\n",
       "       [2.5702519e-03, 9.9742979e-01],\n",
       "       [3.0605698e-03, 9.9693942e-01],\n",
       "       [2.5702519e-03, 9.9742979e-01],\n",
       "       [7.4469927e-04, 9.9925524e-01],\n",
       "       [3.5845954e-03, 9.9641538e-01],\n",
       "       [1.6881750e-03, 9.9831188e-01],\n",
       "       [2.5702519e-03, 9.9742979e-01],\n",
       "       [1.6881750e-03, 9.9831188e-01],\n",
       "       [7.4469927e-04, 9.9925524e-01],\n",
       "       [2.5702519e-03, 9.9742979e-01]], dtype=float32)"
      ]
     },
     "execution_count": 74,
     "metadata": {},
     "output_type": "execute_result"
    }
   ],
   "source": [
    "predict = model.predict(X_scaled)\n",
    "\n",
    "predict"
   ]
  },
  {
   "cell_type": "code",
   "execution_count": 75,
   "metadata": {},
   "outputs": [],
   "source": [
    "from sklearn.metrics import confusion_matrix\n",
    "cm = confusion_matrix"
   ]
  },
  {
   "cell_type": "code",
   "execution_count": 76,
   "metadata": {},
   "outputs": [
    {
     "data": {
      "text/plain": [
       "<function sklearn.metrics.classification.confusion_matrix(y_true, y_pred, labels=None, sample_weight=None)>"
      ]
     },
     "execution_count": 76,
     "metadata": {},
     "output_type": "execute_result"
    }
   ],
   "source": [
    "cm"
   ]
  },
  {
   "cell_type": "code",
   "execution_count": 77,
   "metadata": {},
   "outputs": [
    {
     "name": "stdout",
     "output_type": "stream",
     "text": [
      "100.0\n"
     ]
    }
   ],
   "source": [
    "akurasi = ((20)/(20+0+0))*100\n",
    "\n",
    "print(akurasi)"
   ]
  },
  {
   "cell_type": "code",
   "execution_count": null,
   "metadata": {},
   "outputs": [],
   "source": []
  }
 ],
 "metadata": {
  "kernelspec": {
   "display_name": "Python 3",
   "language": "python",
   "name": "python3"
  },
  "language_info": {
   "codemirror_mode": {
    "name": "ipython",
    "version": 3
   },
   "file_extension": ".py",
   "mimetype": "text/x-python",
   "name": "python",
   "nbconvert_exporter": "python",
   "pygments_lexer": "ipython3",
   "version": "3.7.3"
  }
 },
 "nbformat": 4,
 "nbformat_minor": 2
}
