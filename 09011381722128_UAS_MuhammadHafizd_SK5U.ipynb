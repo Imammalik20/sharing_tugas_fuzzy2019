{
 "cells": [
  {
   "cell_type": "markdown",
   "metadata": {},
   "source": [
    "  # ARTIFICIAL NEURAL NETWORK"
   ]
  },
  {
   "cell_type": "markdown",
   "metadata": {},
   "source": [
    "# Nama : Muhammad Hafizd\n",
    "# Nim    : 09011381722128\n",
    "# Kelas : SK5U"
   ]
  },
  {
   "cell_type": "markdown",
   "metadata": {},
   "source": [
    "# HEPATITIS\n",
    "\n",
    "Penyakit hepatitis adalah penyakit yang disebabkan oleh virus hepatitis akibat dari adanya peradangan hati. Ada 5 jenis virus hepatitis: A, B, C, D, dan E. Karakteristik dari masing-masing jenis ini berbeda, maka dari itu gejala dan pengobatannya juga beragam."
   ]
  },
  {
   "cell_type": "markdown",
   "metadata": {},
   "source": [
    "#  Mengimport library </h1>\n",
    "\n",
    "Pada kasus ini library yang digunakan adalah \n",
    "\n",
    "-Numpy\n",
    "\n",
    "-Squential\n",
    "\n",
    "-Dense\n",
    "\n",
    "-MinMaxScaler \n",
    "\n",
    "-to_categorical.\n",
    "\n",
    "Dimana numpy digunakan untuk mengelola data."
   ]
  },
  {
   "cell_type": "code",
   "execution_count": 1,
   "metadata": {},
   "outputs": [
    {
     "name": "stderr",
     "output_type": "stream",
     "text": [
      "C:\\Users\\Hafidz\\Anaconda3\\lib\\site-packages\\h5py\\__init__.py:36: FutureWarning: Conversion of the second argument of issubdtype from `float` to `np.floating` is deprecated. In future, it will be treated as `np.float64 == np.dtype(float).type`.\n",
      "  from ._conv import register_converters as _register_converters\n",
      "Using TensorFlow backend.\n"
     ]
    }
   ],
   "source": [
    "#mengimport numpy untuk membaca file direktori\n",
    "import numpy\n",
    "# from keras.models import Sequential\n",
    "from keras.models import Sequential\n",
    "#mengimport dense pada direktori keras.layer, untuk membuat hidden layer\n",
    "from keras.layers import Dense\n",
    "#menggunakan metode StandarScaler\n",
    "from sklearn.preprocessing import MinMaxScaler\n",
    "#untuk mengkonversi data binary menjadi data yang dapat diolah menjadi confusion matrix\n",
    "from keras.utils.np_utils import to_categorical \n",
    "# fix random seed for reproducibility\n",
    "numpy.random.seed(19)\n",
    "from sklearn.model_selection import train_test_split\n",
    "import matplotlib.pyplot as plt"
   ]
  },
  {
   "cell_type": "markdown",
   "metadata": {},
   "source": [
    "###  Load Data\n",
    "Dataset yang digunakan pada proses Neural Network kali ini menggunakan dengan bentuk format .csv yang merupakan data vektor yang berisi angka-angka sehingga dapat diproses oleh IDE dengan lebih mudah."
   ]
  },
  {
   "cell_type": "code",
   "execution_count": 2,
   "metadata": {},
   "outputs": [],
   "source": [
    "dataset = numpy.loadtxt(\"data_hepatitis.csv\", delimiter=\";\")\n",
    "\n",
    "X = dataset[:,0:18]\n",
    "Y = dataset[:,18]"
   ]
  },
  {
   "cell_type": "code",
   "execution_count": 3,
   "metadata": {},
   "outputs": [
    {
     "data": {
      "text/plain": [
       "array([[30. ,  2. ,  1. , ..., 18. ,  4. ,  0. ],\n",
       "       [50. ,  1. ,  1. , ..., 42. ,  3.5,  0. ],\n",
       "       [78. ,  1. ,  2. , ..., 32. ,  4. ,  0. ],\n",
       "       ...,\n",
       "       [61. ,  1. ,  1. , ..., 20. ,  4.1,  0. ],\n",
       "       [53. ,  2. ,  1. , ..., 19. ,  4.1, 48. ],\n",
       "       [43. ,  1. ,  2. , ..., 19. ,  3.1, 42. ]])"
      ]
     },
     "execution_count": 3,
     "metadata": {},
     "output_type": "execute_result"
    }
   ],
   "source": [
    "X"
   ]
  },
  {
   "cell_type": "code",
   "execution_count": 4,
   "metadata": {},
   "outputs": [
    {
     "data": {
      "text/plain": [
       "array([0., 0., 0., 0., 0., 0., 0., 0., 0., 0., 0., 0., 0., 0., 0., 0., 0.,\n",
       "       0., 1., 0., 0., 0., 0., 0., 0., 0., 0., 0., 0., 0., 0., 0., 0., 0.,\n",
       "       0., 0., 0., 0., 0., 1., 0., 0., 0., 0., 0., 0., 0., 0., 0., 0., 0.,\n",
       "       0., 0., 0., 0., 0., 0., 0., 0., 0., 0., 0., 0., 0., 0., 0., 0., 0.,\n",
       "       0., 0., 0., 0., 0., 0., 0., 0., 0., 0., 0., 0., 0., 0., 0., 0., 0.,\n",
       "       0., 1., 1., 1., 1., 1., 1., 1., 1., 1., 1., 1., 1., 1., 1., 1., 1.,\n",
       "       1., 1., 1., 1., 1., 1., 1., 1., 1., 1., 1., 0., 1., 1., 1., 1., 1.,\n",
       "       1., 1., 1., 1., 1., 1., 1., 1., 1., 1., 1., 1., 1., 1., 1., 1., 1.,\n",
       "       1., 1., 1., 1., 1., 1., 1., 1., 1., 1., 1., 1., 1., 1., 1., 1., 1.,\n",
       "       1., 1.])"
      ]
     },
     "execution_count": 4,
     "metadata": {},
     "output_type": "execute_result"
    }
   ],
   "source": [
    "Y"
   ]
  },
  {
   "cell_type": "markdown",
   "metadata": {},
   "source": [
    "# Processing medote\n",
    "Dalam memproses dataset yang akan digunakan, disini saya menggunakan metode minMaxscaler untuk variabel X."
   ]
  },
  {
   "cell_type": "code",
   "execution_count": 5,
   "metadata": {},
   "outputs": [],
   "source": [
    "sc = MinMaxScaler()\n",
    "X = sc.fit_transform(X)"
   ]
  },
  {
   "cell_type": "markdown",
   "metadata": {},
   "source": [
    "# Categorical\n",
    "Untuk melihat performance dari neural network, sehingga diperlukan confusion matrix dimana dengan mengubah kasifikasi data yang pada awalnya binary classification menjadi categorical classification."
   ]
  },
  {
   "cell_type": "code",
   "execution_count": 6,
   "metadata": {},
   "outputs": [
    {
     "data": {
      "text/plain": [
       "(155, 2)"
      ]
     },
     "execution_count": 6,
     "metadata": {},
     "output_type": "execute_result"
    }
   ],
   "source": [
    "Y_Categorical = to_categorical(Y)\n",
    "Y_Categorical.shape"
   ]
  },
  {
   "cell_type": "markdown",
   "metadata": {},
   "source": [
    "# splitting and modeling\n",
    "Pada tahap ini kita membuat file test berukuran 20% dari jumlah keseluruhan data yang tersedia secara acak."
   ]
  },
  {
   "cell_type": "code",
   "execution_count": 7,
   "metadata": {},
   "outputs": [],
   "source": [
    "X_train, X_test, Y_train, Y_test = train_test_split(X,Y, test_size=0.2, shuffle=True, stratify=Y)"
   ]
  },
  {
   "cell_type": "markdown",
   "metadata": {},
   "source": [
    "Setelah itu kita membuat model NN dengan 50 hiden layer pertama, 50 hiden layer kedua, 50 hiden layer ketiga dan 50 hiden layer keempat. Selain itu kita membuat output layer 1 (iya atau tidak)"
   ]
  },
  {
   "cell_type": "code",
   "execution_count": 8,
   "metadata": {},
   "outputs": [],
   "source": [
    "model = Sequential()\n",
    "model.add(Dense(100, input_dim=X_train.shape[1], activation='relu'))\n",
    "model.add(Dense(50, activation='relu'))\n",
    "model.add(Dense(50, activation='relu'))\n",
    "model.add(Dense(1, activation='sigmoid'))"
   ]
  },
  {
   "cell_type": "markdown",
   "metadata": {},
   "source": [
    "# Compile Model\n",
    "Setelah melakukan proses definisi model, selanjutnya ialah mengcompile dari setiap model tersebut sehingga menjadi satu kesatuan hidden yang biasa disebut dengan Hidden Layer."
   ]
  },
  {
   "cell_type": "code",
   "execution_count": 9,
   "metadata": {},
   "outputs": [],
   "source": [
    "model.compile(loss='binary_crossentropy', optimizer='adam', metrics=['accuracy'])"
   ]
  },
  {
   "cell_type": "markdown",
   "metadata": {},
   "source": [
    "Setalah itu kita lakukan fit model.\n",
    "\n",
    "pada proses ini terjadi proses training dengan parameter:\n",
    "\n",
    "1. X yang telah di preprocessing yaitu X_train\n",
    "2. Y yang telah dikonversi menjadi categorical yaitu Y_Categorical\n",
    "3. Banyaknya Epochs yang saya gunakan adalah 130\n",
    "4. Validation_split yang saya gunakan adalah 0.2\n",
    "5. batch_size yang saya gunakan adalah 10"
   ]
  },
  {
   "cell_type": "code",
   "execution_count": 10,
   "metadata": {},
   "outputs": [
    {
     "name": "stdout",
     "output_type": "stream",
     "text": [
      "Train on 99 samples, validate on 25 samples\n",
      "Epoch 1/250\n",
      "99/99 [==============================] - 1s 10ms/step - loss: 0.6895 - accuracy: 0.5354 - val_loss: 0.6806 - val_accuracy: 0.5600\n",
      "Epoch 2/250\n",
      "99/99 [==============================] - 0s 356us/step - loss: 0.6753 - accuracy: 0.5556 - val_loss: 0.6772 - val_accuracy: 0.5600\n",
      "Epoch 3/250\n",
      "99/99 [==============================] - 0s 212us/step - loss: 0.6710 - accuracy: 0.5960 - val_loss: 0.6734 - val_accuracy: 0.5600\n",
      "Epoch 4/250\n",
      "99/99 [==============================] - 0s 195us/step - loss: 0.6642 - accuracy: 0.6061 - val_loss: 0.6683 - val_accuracy: 0.5600\n",
      "Epoch 5/250\n",
      "99/99 [==============================] - 0s 166us/step - loss: 0.6586 - accuracy: 0.5859 - val_loss: 0.6665 - val_accuracy: 0.5600\n",
      "Epoch 6/250\n",
      "99/99 [==============================] - 0s 165us/step - loss: 0.6521 - accuracy: 0.6061 - val_loss: 0.6640 - val_accuracy: 0.6000\n",
      "Epoch 7/250\n",
      "99/99 [==============================] - 0s 179us/step - loss: 0.6462 - accuracy: 0.6667 - val_loss: 0.6629 - val_accuracy: 0.6400\n",
      "Epoch 8/250\n",
      "99/99 [==============================] - 0s 181us/step - loss: 0.6437 - accuracy: 0.6869 - val_loss: 0.6615 - val_accuracy: 0.6400\n",
      "Epoch 9/250\n",
      "99/99 [==============================] - 0s 195us/step - loss: 0.6443 - accuracy: 0.6566 - val_loss: 0.6651 - val_accuracy: 0.6000\n",
      "Epoch 10/250\n",
      "99/99 [==============================] - 0s 153us/step - loss: 0.6347 - accuracy: 0.6465 - val_loss: 0.6569 - val_accuracy: 0.6400\n",
      "Epoch 11/250\n",
      "99/99 [==============================] - 0s 241us/step - loss: 0.6338 - accuracy: 0.6768 - val_loss: 0.6549 - val_accuracy: 0.6800\n",
      "Epoch 12/250\n",
      "99/99 [==============================] - 0s 127us/step - loss: 0.6303 - accuracy: 0.6869 - val_loss: 0.6464 - val_accuracy: 0.7200\n",
      "Epoch 13/250\n",
      "99/99 [==============================] - 0s 232us/step - loss: 0.6229 - accuracy: 0.6970 - val_loss: 0.6383 - val_accuracy: 0.6000\n",
      "Epoch 14/250\n",
      "99/99 [==============================] - 0s 179us/step - loss: 0.6168 - accuracy: 0.6566 - val_loss: 0.6440 - val_accuracy: 0.5600\n",
      "Epoch 15/250\n",
      "99/99 [==============================] - 0s 160us/step - loss: 0.6260 - accuracy: 0.6566 - val_loss: 0.6397 - val_accuracy: 0.5600\n",
      "Epoch 16/250\n",
      "99/99 [==============================] - 0s 129us/step - loss: 0.6166 - accuracy: 0.6465 - val_loss: 0.6288 - val_accuracy: 0.6400\n",
      "Epoch 17/250\n",
      "99/99 [==============================] - 0s 186us/step - loss: 0.6028 - accuracy: 0.6768 - val_loss: 0.6188 - val_accuracy: 0.6800\n",
      "Epoch 18/250\n",
      "99/99 [==============================] - 0s 138us/step - loss: 0.5969 - accuracy: 0.6869 - val_loss: 0.6131 - val_accuracy: 0.7600\n",
      "Epoch 19/250\n",
      "99/99 [==============================] - 0s 199us/step - loss: 0.6169 - accuracy: 0.6970 - val_loss: 0.6231 - val_accuracy: 0.6800\n",
      "Epoch 20/250\n",
      "99/99 [==============================] - 0s 182us/step - loss: 0.6164 - accuracy: 0.6566 - val_loss: 0.6080 - val_accuracy: 0.7200\n",
      "Epoch 21/250\n",
      "99/99 [==============================] - 0s 173us/step - loss: 0.5894 - accuracy: 0.7778 - val_loss: 0.6044 - val_accuracy: 0.7200\n",
      "Epoch 22/250\n",
      "99/99 [==============================] - 0s 194us/step - loss: 0.5808 - accuracy: 0.7172 - val_loss: 0.6042 - val_accuracy: 0.6400\n",
      "Epoch 23/250\n",
      "99/99 [==============================] - 0s 201us/step - loss: 0.5759 - accuracy: 0.7172 - val_loss: 0.6017 - val_accuracy: 0.7200\n",
      "Epoch 24/250\n",
      "99/99 [==============================] - 0s 171us/step - loss: 0.5696 - accuracy: 0.7576 - val_loss: 0.5993 - val_accuracy: 0.7600\n",
      "Epoch 25/250\n",
      "99/99 [==============================] - 0s 172us/step - loss: 0.5750 - accuracy: 0.7677 - val_loss: 0.6018 - val_accuracy: 0.7200\n",
      "Epoch 26/250\n",
      "99/99 [==============================] - 0s 180us/step - loss: 0.5812 - accuracy: 0.7172 - val_loss: 0.6036 - val_accuracy: 0.7200\n",
      "Epoch 27/250\n",
      "99/99 [==============================] - 0s 165us/step - loss: 0.5594 - accuracy: 0.7778 - val_loss: 0.6188 - val_accuracy: 0.6400\n",
      "Epoch 28/250\n",
      "99/99 [==============================] - 0s 168us/step - loss: 0.5689 - accuracy: 0.6970 - val_loss: 0.6419 - val_accuracy: 0.6000\n",
      "Epoch 29/250\n",
      "99/99 [==============================] - 0s 164us/step - loss: 0.5667 - accuracy: 0.6869 - val_loss: 0.6103 - val_accuracy: 0.7600\n",
      "Epoch 30/250\n",
      "99/99 [==============================] - 0s 179us/step - loss: 0.5520 - accuracy: 0.7879 - val_loss: 0.6112 - val_accuracy: 0.7600\n",
      "Epoch 31/250\n",
      "99/99 [==============================] - 0s 132us/step - loss: 0.5549 - accuracy: 0.7374 - val_loss: 0.6093 - val_accuracy: 0.7600\n",
      "Epoch 32/250\n",
      "99/99 [==============================] - 0s 206us/step - loss: 0.5430 - accuracy: 0.7980 - val_loss: 0.6104 - val_accuracy: 0.7600\n",
      "Epoch 33/250\n",
      "99/99 [==============================] - 0s 149us/step - loss: 0.5306 - accuracy: 0.7778 - val_loss: 0.6194 - val_accuracy: 0.7200\n",
      "Epoch 34/250\n",
      "99/99 [==============================] - 0s 175us/step - loss: 0.5277 - accuracy: 0.7273 - val_loss: 0.6169 - val_accuracy: 0.7200\n",
      "Epoch 35/250\n",
      "99/99 [==============================] - 0s 165us/step - loss: 0.5266 - accuracy: 0.7374 - val_loss: 0.5951 - val_accuracy: 0.7600\n",
      "Epoch 36/250\n",
      "99/99 [==============================] - 0s 138us/step - loss: 0.5253 - accuracy: 0.7576 - val_loss: 0.5882 - val_accuracy: 0.7600\n",
      "Epoch 37/250\n",
      "99/99 [==============================] - 0s 142us/step - loss: 0.5151 - accuracy: 0.7677 - val_loss: 0.6431 - val_accuracy: 0.6400\n",
      "Epoch 38/250\n",
      "99/99 [==============================] - 0s 144us/step - loss: 0.5629 - accuracy: 0.6667 - val_loss: 0.6498 - val_accuracy: 0.6400\n",
      "Epoch 39/250\n",
      "99/99 [==============================] - 0s 194us/step - loss: 0.5429 - accuracy: 0.7071 - val_loss: 0.5885 - val_accuracy: 0.7600\n",
      "Epoch 40/250\n",
      "99/99 [==============================] - 0s 167us/step - loss: 0.5273 - accuracy: 0.7879 - val_loss: 0.5852 - val_accuracy: 0.8000\n",
      "Epoch 41/250\n",
      "99/99 [==============================] - 0s 200us/step - loss: 0.5405 - accuracy: 0.6970 - val_loss: 0.5824 - val_accuracy: 0.7600\n",
      "Epoch 42/250\n",
      "99/99 [==============================] - 0s 158us/step - loss: 0.5045 - accuracy: 0.7677 - val_loss: 0.6412 - val_accuracy: 0.6800\n",
      "Epoch 43/250\n",
      "99/99 [==============================] - 0s 200us/step - loss: 0.5036 - accuracy: 0.7475 - val_loss: 0.5963 - val_accuracy: 0.7600\n",
      "Epoch 44/250\n",
      "99/99 [==============================] - 0s 191us/step - loss: 0.5093 - accuracy: 0.7273 - val_loss: 0.6151 - val_accuracy: 0.7600\n",
      "Epoch 45/250\n",
      "99/99 [==============================] - 0s 164us/step - loss: 0.5189 - accuracy: 0.7374 - val_loss: 0.6177 - val_accuracy: 0.7600\n",
      "Epoch 46/250\n",
      "99/99 [==============================] - 0s 165us/step - loss: 0.4796 - accuracy: 0.7677 - val_loss: 0.6635 - val_accuracy: 0.6800\n",
      "Epoch 47/250\n",
      "99/99 [==============================] - 0s 199us/step - loss: 0.5045 - accuracy: 0.7273 - val_loss: 0.6371 - val_accuracy: 0.7200\n",
      "Epoch 48/250\n",
      "99/99 [==============================] - 0s 180us/step - loss: 0.4775 - accuracy: 0.7778 - val_loss: 0.6068 - val_accuracy: 0.7600\n",
      "Epoch 49/250\n",
      "99/99 [==============================] - 0s 214us/step - loss: 0.5101 - accuracy: 0.7475 - val_loss: 0.5996 - val_accuracy: 0.7600\n",
      "Epoch 50/250\n",
      "99/99 [==============================] - 0s 192us/step - loss: 0.4884 - accuracy: 0.7980 - val_loss: 0.6522 - val_accuracy: 0.6800\n",
      "Epoch 51/250\n",
      "99/99 [==============================] - 0s 177us/step - loss: 0.4995 - accuracy: 0.7677 - val_loss: 0.6250 - val_accuracy: 0.7600\n",
      "Epoch 52/250\n",
      "99/99 [==============================] - 0s 170us/step - loss: 0.4814 - accuracy: 0.7576 - val_loss: 0.6036 - val_accuracy: 0.7600\n",
      "Epoch 53/250\n",
      "99/99 [==============================] - 0s 210us/step - loss: 0.4752 - accuracy: 0.8283 - val_loss: 0.6195 - val_accuracy: 0.7600\n",
      "Epoch 54/250\n",
      "99/99 [==============================] - 0s 235us/step - loss: 0.4632 - accuracy: 0.7980 - val_loss: 0.6258 - val_accuracy: 0.7600\n",
      "Epoch 55/250\n",
      "99/99 [==============================] - 0s 199us/step - loss: 0.4611 - accuracy: 0.7879 - val_loss: 0.6285 - val_accuracy: 0.7600\n",
      "Epoch 56/250\n",
      "99/99 [==============================] - 0s 177us/step - loss: 0.4785 - accuracy: 0.7778 - val_loss: 0.6696 - val_accuracy: 0.6800\n",
      "Epoch 57/250\n"
     ]
    },
    {
     "name": "stdout",
     "output_type": "stream",
     "text": [
      "99/99 [==============================] - 0s 175us/step - loss: 0.4589 - accuracy: 0.7677 - val_loss: 0.6325 - val_accuracy: 0.7600\n",
      "Epoch 58/250\n",
      "99/99 [==============================] - 0s 218us/step - loss: 0.4583 - accuracy: 0.7980 - val_loss: 0.6328 - val_accuracy: 0.6800\n",
      "Epoch 59/250\n",
      "99/99 [==============================] - ETA: 0s - loss: 0.5364 - accuracy: 0.65 - 0s 240us/step - loss: 0.5170 - accuracy: 0.7071 - val_loss: 0.6380 - val_accuracy: 0.7200\n",
      "Epoch 60/250\n",
      "99/99 [==============================] - 0s 199us/step - loss: 0.4799 - accuracy: 0.7576 - val_loss: 0.6560 - val_accuracy: 0.7600\n",
      "Epoch 61/250\n",
      "99/99 [==============================] - 0s 233us/step - loss: 0.4707 - accuracy: 0.7677 - val_loss: 0.7201 - val_accuracy: 0.6000\n",
      "Epoch 62/250\n",
      "99/99 [==============================] - 0s 191us/step - loss: 0.4816 - accuracy: 0.7778 - val_loss: 0.6485 - val_accuracy: 0.7600\n",
      "Epoch 63/250\n",
      "99/99 [==============================] - 0s 227us/step - loss: 0.4392 - accuracy: 0.8283 - val_loss: 0.6477 - val_accuracy: 0.7200\n",
      "Epoch 64/250\n",
      "99/99 [==============================] - 0s 247us/step - loss: 0.5379 - accuracy: 0.6667 - val_loss: 0.6668 - val_accuracy: 0.6800\n",
      "Epoch 65/250\n",
      "99/99 [==============================] - 0s 228us/step - loss: 0.5168 - accuracy: 0.6768 - val_loss: 0.6289 - val_accuracy: 0.7600\n",
      "Epoch 66/250\n",
      "99/99 [==============================] - 0s 194us/step - loss: 0.4401 - accuracy: 0.8081 - val_loss: 0.6596 - val_accuracy: 0.7600\n",
      "Epoch 67/250\n",
      "99/99 [==============================] - 0s 185us/step - loss: 0.4471 - accuracy: 0.7879 - val_loss: 0.6537 - val_accuracy: 0.8000\n",
      "Epoch 68/250\n",
      "99/99 [==============================] - 0s 190us/step - loss: 0.4420 - accuracy: 0.8081 - val_loss: 0.6508 - val_accuracy: 0.8000\n",
      "Epoch 69/250\n",
      "99/99 [==============================] - 0s 211us/step - loss: 0.4319 - accuracy: 0.8081 - val_loss: 0.6364 - val_accuracy: 0.7600\n",
      "Epoch 70/250\n",
      "99/99 [==============================] - 0s 226us/step - loss: 0.4254 - accuracy: 0.8384 - val_loss: 0.6378 - val_accuracy: 0.7200\n",
      "Epoch 71/250\n",
      "99/99 [==============================] - 0s 194us/step - loss: 0.4315 - accuracy: 0.8182 - val_loss: 0.6410 - val_accuracy: 0.7200\n",
      "Epoch 72/250\n",
      "99/99 [==============================] - 0s 242us/step - loss: 0.4232 - accuracy: 0.8384 - val_loss: 0.6803 - val_accuracy: 0.8000\n",
      "Epoch 73/250\n",
      "99/99 [==============================] - 0s 213us/step - loss: 0.4285 - accuracy: 0.8081 - val_loss: 0.7298 - val_accuracy: 0.6400\n",
      "Epoch 74/250\n",
      "99/99 [==============================] - 0s 191us/step - loss: 0.4443 - accuracy: 0.7778 - val_loss: 0.6969 - val_accuracy: 0.7600\n",
      "Epoch 75/250\n",
      "99/99 [==============================] - 0s 178us/step - loss: 0.3944 - accuracy: 0.8485 - val_loss: 0.6744 - val_accuracy: 0.7200\n",
      "Epoch 76/250\n",
      "99/99 [==============================] - 0s 195us/step - loss: 0.4544 - accuracy: 0.7879 - val_loss: 0.6791 - val_accuracy: 0.7200\n",
      "Epoch 77/250\n",
      "99/99 [==============================] - 0s 247us/step - loss: 0.4042 - accuracy: 0.8182 - val_loss: 0.7556 - val_accuracy: 0.6400\n",
      "Epoch 78/250\n",
      "99/99 [==============================] - 0s 196us/step - loss: 0.4414 - accuracy: 0.7879 - val_loss: 0.7468 - val_accuracy: 0.6800\n",
      "Epoch 79/250\n",
      "99/99 [==============================] - 0s 246us/step - loss: 0.4276 - accuracy: 0.7879 - val_loss: 0.6878 - val_accuracy: 0.7200\n",
      "Epoch 80/250\n",
      "99/99 [==============================] - 0s 185us/step - loss: 0.3870 - accuracy: 0.8485 - val_loss: 0.6778 - val_accuracy: 0.7600\n",
      "Epoch 81/250\n",
      "99/99 [==============================] - 0s 189us/step - loss: 0.4344 - accuracy: 0.7677 - val_loss: 0.6734 - val_accuracy: 0.7200\n",
      "Epoch 82/250\n",
      "99/99 [==============================] - 0s 224us/step - loss: 0.3794 - accuracy: 0.8384 - val_loss: 0.7202 - val_accuracy: 0.6800\n",
      "Epoch 83/250\n",
      "99/99 [==============================] - 0s 178us/step - loss: 0.4219 - accuracy: 0.8182 - val_loss: 0.7500 - val_accuracy: 0.6400\n",
      "Epoch 84/250\n",
      "99/99 [==============================] - 0s 187us/step - loss: 0.4189 - accuracy: 0.8182 - val_loss: 0.6887 - val_accuracy: 0.7600\n",
      "Epoch 85/250\n",
      "99/99 [==============================] - 0s 218us/step - loss: 0.3802 - accuracy: 0.8687 - val_loss: 0.6902 - val_accuracy: 0.6800\n",
      "Epoch 86/250\n",
      "99/99 [==============================] - 0s 175us/step - loss: 0.4070 - accuracy: 0.8081 - val_loss: 0.6986 - val_accuracy: 0.7200\n",
      "Epoch 87/250\n",
      "99/99 [==============================] - 0s 179us/step - loss: 0.3741 - accuracy: 0.8889 - val_loss: 0.7373 - val_accuracy: 0.7200\n",
      "Epoch 88/250\n",
      "99/99 [==============================] - 0s 210us/step - loss: 0.3764 - accuracy: 0.8586 - val_loss: 0.7168 - val_accuracy: 0.7600\n",
      "Epoch 89/250\n",
      "99/99 [==============================] - 0s 197us/step - loss: 0.3661 - accuracy: 0.8586 - val_loss: 0.7043 - val_accuracy: 0.6800\n",
      "Epoch 90/250\n",
      "99/99 [==============================] - 0s 178us/step - loss: 0.3904 - accuracy: 0.8081 - val_loss: 0.7102 - val_accuracy: 0.6400\n",
      "Epoch 91/250\n",
      "99/99 [==============================] - 0s 204us/step - loss: 0.3539 - accuracy: 0.8990 - val_loss: 0.7736 - val_accuracy: 0.6400\n",
      "Epoch 92/250\n",
      "99/99 [==============================] - 0s 208us/step - loss: 0.4031 - accuracy: 0.7980 - val_loss: 0.8000 - val_accuracy: 0.6400\n",
      "Epoch 93/250\n",
      "99/99 [==============================] - 0s 247us/step - loss: 0.3853 - accuracy: 0.8485 - val_loss: 0.7257 - val_accuracy: 0.7200\n",
      "Epoch 94/250\n",
      "99/99 [==============================] - 0s 170us/step - loss: 0.3604 - accuracy: 0.8788 - val_loss: 0.7272 - val_accuracy: 0.7200\n",
      "Epoch 95/250\n",
      "99/99 [==============================] - 0s 238us/step - loss: 0.3757 - accuracy: 0.8586 - val_loss: 0.7274 - val_accuracy: 0.7600\n",
      "Epoch 96/250\n",
      "99/99 [==============================] - 0s 180us/step - loss: 0.3605 - accuracy: 0.8485 - val_loss: 0.7311 - val_accuracy: 0.7200\n",
      "Epoch 97/250\n",
      "99/99 [==============================] - 0s 177us/step - loss: 0.3777 - accuracy: 0.8586 - val_loss: 0.7910 - val_accuracy: 0.6800\n",
      "Epoch 98/250\n",
      "99/99 [==============================] - 0s 170us/step - loss: 0.3606 - accuracy: 0.8485 - val_loss: 0.7197 - val_accuracy: 0.7200\n",
      "Epoch 99/250\n",
      "99/99 [==============================] - 0s 189us/step - loss: 0.3588 - accuracy: 0.8485 - val_loss: 0.7194 - val_accuracy: 0.7600\n",
      "Epoch 100/250\n",
      "99/99 [==============================] - 0s 205us/step - loss: 0.3847 - accuracy: 0.7879 - val_loss: 0.6982 - val_accuracy: 0.6800\n",
      "Epoch 101/250\n",
      "99/99 [==============================] - 0s 223us/step - loss: 0.3421 - accuracy: 0.8788 - val_loss: 0.7283 - val_accuracy: 0.7600\n",
      "Epoch 102/250\n",
      "99/99 [==============================] - 0s 179us/step - loss: 0.3460 - accuracy: 0.8485 - val_loss: 0.7046 - val_accuracy: 0.6800\n",
      "Epoch 103/250\n",
      "99/99 [==============================] - 0s 183us/step - loss: 0.3641 - accuracy: 0.8283 - val_loss: 0.7634 - val_accuracy: 0.6800\n",
      "Epoch 104/250\n",
      "99/99 [==============================] - 0s 188us/step - loss: 0.4159 - accuracy: 0.7879 - val_loss: 0.7379 - val_accuracy: 0.6800\n",
      "Epoch 105/250\n",
      "99/99 [==============================] - 0s 224us/step - loss: 0.3326 - accuracy: 0.8687 - val_loss: 0.7937 - val_accuracy: 0.6400\n",
      "Epoch 106/250\n",
      "99/99 [==============================] - 0s 201us/step - loss: 0.3513 - accuracy: 0.8485 - val_loss: 0.7832 - val_accuracy: 0.7200\n",
      "Epoch 107/250\n",
      "99/99 [==============================] - 0s 226us/step - loss: 0.3314 - accuracy: 0.8687 - val_loss: 0.7447 - val_accuracy: 0.7200\n",
      "Epoch 108/250\n",
      "99/99 [==============================] - 0s 174us/step - loss: 0.3078 - accuracy: 0.8788 - val_loss: 0.7490 - val_accuracy: 0.6800\n",
      "Epoch 109/250\n",
      "99/99 [==============================] - 0s 221us/step - loss: 0.3085 - accuracy: 0.8788 - val_loss: 0.7556 - val_accuracy: 0.6800\n",
      "Epoch 110/250\n",
      "99/99 [==============================] - 0s 224us/step - loss: 0.3021 - accuracy: 0.8889 - val_loss: 0.7674 - val_accuracy: 0.6800\n",
      "Epoch 111/250\n",
      "99/99 [==============================] - 0s 157us/step - loss: 0.3268 - accuracy: 0.8384 - val_loss: 0.7951 - val_accuracy: 0.6800\n",
      "Epoch 112/250\n",
      "99/99 [==============================] - 0s 202us/step - loss: 0.3203 - accuracy: 0.8687 - val_loss: 0.8309 - val_accuracy: 0.6800\n",
      "Epoch 113/250\n"
     ]
    },
    {
     "name": "stdout",
     "output_type": "stream",
     "text": [
      "99/99 [==============================] - 0s 219us/step - loss: 0.3430 - accuracy: 0.8788 - val_loss: 0.8576 - val_accuracy: 0.6800\n",
      "Epoch 114/250\n",
      "99/99 [==============================] - 0s 152us/step - loss: 0.2984 - accuracy: 0.9091 - val_loss: 0.8357 - val_accuracy: 0.6400\n",
      "Epoch 115/250\n",
      "99/99 [==============================] - 0s 198us/step - loss: 0.3726 - accuracy: 0.7980 - val_loss: 0.7920 - val_accuracy: 0.6000\n",
      "Epoch 116/250\n",
      "99/99 [==============================] - 0s 267us/step - loss: 0.3170 - accuracy: 0.8687 - val_loss: 0.7798 - val_accuracy: 0.6400\n",
      "Epoch 117/250\n",
      "99/99 [==============================] - 0s 177us/step - loss: 0.3049 - accuracy: 0.8788 - val_loss: 0.7824 - val_accuracy: 0.6400\n",
      "Epoch 118/250\n",
      "99/99 [==============================] - 0s 200us/step - loss: 0.2982 - accuracy: 0.8889 - val_loss: 0.8170 - val_accuracy: 0.7200\n",
      "Epoch 119/250\n",
      "99/99 [==============================] - 0s 268us/step - loss: 0.2855 - accuracy: 0.9091 - val_loss: 0.8157 - val_accuracy: 0.6800\n",
      "Epoch 120/250\n",
      "99/99 [==============================] - 0s 236us/step - loss: 0.2841 - accuracy: 0.9091 - val_loss: 0.8267 - val_accuracy: 0.6800\n",
      "Epoch 121/250\n",
      "99/99 [==============================] - 0s 189us/step - loss: 0.2776 - accuracy: 0.9293 - val_loss: 0.9061 - val_accuracy: 0.6400\n",
      "Epoch 122/250\n",
      "99/99 [==============================] - 0s 181us/step - loss: 0.3239 - accuracy: 0.8586 - val_loss: 0.8404 - val_accuracy: 0.6800\n",
      "Epoch 123/250\n",
      "99/99 [==============================] - 0s 280us/step - loss: 0.2842 - accuracy: 0.8889 - val_loss: 0.8373 - val_accuracy: 0.6400\n",
      "Epoch 124/250\n",
      "99/99 [==============================] - 0s 275us/step - loss: 0.3214 - accuracy: 0.8485 - val_loss: 0.8445 - val_accuracy: 0.6800\n",
      "Epoch 125/250\n",
      "99/99 [==============================] - 0s 321us/step - loss: 0.2582 - accuracy: 0.8990 - val_loss: 0.9098 - val_accuracy: 0.6400\n",
      "Epoch 126/250\n",
      "99/99 [==============================] - 0s 248us/step - loss: 0.3029 - accuracy: 0.8788 - val_loss: 0.8909 - val_accuracy: 0.6800\n",
      "Epoch 127/250\n",
      "99/99 [==============================] - 0s 224us/step - loss: 0.2903 - accuracy: 0.8889 - val_loss: 0.9428 - val_accuracy: 0.6400\n",
      "Epoch 128/250\n",
      "99/99 [==============================] - 0s 222us/step - loss: 0.4048 - accuracy: 0.7778 - val_loss: 0.8915 - val_accuracy: 0.6800\n",
      "Epoch 129/250\n",
      "99/99 [==============================] - 0s 253us/step - loss: 0.3009 - accuracy: 0.8889 - val_loss: 1.1010 - val_accuracy: 0.6400\n",
      "Epoch 130/250\n",
      "99/99 [==============================] - 0s 190us/step - loss: 0.4708 - accuracy: 0.7576 - val_loss: 0.9999 - val_accuracy: 0.6400\n",
      "Epoch 131/250\n",
      "99/99 [==============================] - 0s 249us/step - loss: 0.3150 - accuracy: 0.8687 - val_loss: 0.8542 - val_accuracy: 0.6800\n",
      "Epoch 132/250\n",
      "99/99 [==============================] - 0s 240us/step - loss: 0.3945 - accuracy: 0.8081 - val_loss: 0.9020 - val_accuracy: 0.6800\n",
      "Epoch 133/250\n",
      "99/99 [==============================] - 0s 227us/step - loss: 0.3677 - accuracy: 0.7980 - val_loss: 0.8455 - val_accuracy: 0.6800\n",
      "Epoch 134/250\n",
      "99/99 [==============================] - 0s 195us/step - loss: 0.2596 - accuracy: 0.9091 - val_loss: 0.8621 - val_accuracy: 0.6800\n",
      "Epoch 135/250\n",
      "99/99 [==============================] - 0s 199us/step - loss: 0.2702 - accuracy: 0.9192 - val_loss: 0.8444 - val_accuracy: 0.6400\n",
      "Epoch 136/250\n",
      "99/99 [==============================] - 0s 214us/step - loss: 0.2557 - accuracy: 0.9293 - val_loss: 0.8555 - val_accuracy: 0.6400\n",
      "Epoch 137/250\n",
      "99/99 [==============================] - 0s 240us/step - loss: 0.2633 - accuracy: 0.9192 - val_loss: 0.8701 - val_accuracy: 0.6800\n",
      "Epoch 138/250\n",
      "99/99 [==============================] - 0s 275us/step - loss: 0.2618 - accuracy: 0.9091 - val_loss: 0.8807 - val_accuracy: 0.6400\n",
      "Epoch 139/250\n",
      "99/99 [==============================] - 0s 201us/step - loss: 0.2719 - accuracy: 0.8788 - val_loss: 0.8850 - val_accuracy: 0.6800\n",
      "Epoch 140/250\n",
      "99/99 [==============================] - 0s 231us/step - loss: 0.2493 - accuracy: 0.9091 - val_loss: 0.9084 - val_accuracy: 0.6800\n",
      "Epoch 141/250\n",
      "99/99 [==============================] - 0s 223us/step - loss: 0.2516 - accuracy: 0.9091 - val_loss: 0.8972 - val_accuracy: 0.6800\n",
      "Epoch 142/250\n",
      "99/99 [==============================] - 0s 267us/step - loss: 0.2375 - accuracy: 0.9091 - val_loss: 0.8789 - val_accuracy: 0.6800\n",
      "Epoch 143/250\n",
      "99/99 [==============================] - 0s 218us/step - loss: 0.2499 - accuracy: 0.9091 - val_loss: 0.9100 - val_accuracy: 0.6400\n",
      "Epoch 144/250\n",
      "99/99 [==============================] - 0s 235us/step - loss: 0.2508 - accuracy: 0.8990 - val_loss: 0.9297 - val_accuracy: 0.6400\n",
      "Epoch 145/250\n",
      "99/99 [==============================] - 0s 229us/step - loss: 0.2370 - accuracy: 0.8990 - val_loss: 0.9377 - val_accuracy: 0.6000\n",
      "Epoch 146/250\n",
      "99/99 [==============================] - 0s 257us/step - loss: 0.2320 - accuracy: 0.9091 - val_loss: 0.9592 - val_accuracy: 0.6400\n",
      "Epoch 147/250\n",
      "99/99 [==============================] - 0s 258us/step - loss: 0.2237 - accuracy: 0.9091 - val_loss: 1.0007 - val_accuracy: 0.6800\n",
      "Epoch 148/250\n",
      "99/99 [==============================] - 0s 280us/step - loss: 0.2206 - accuracy: 0.9293 - val_loss: 0.9942 - val_accuracy: 0.6400\n",
      "Epoch 149/250\n",
      "99/99 [==============================] - 0s 253us/step - loss: 0.2111 - accuracy: 0.9091 - val_loss: 0.9958 - val_accuracy: 0.6800\n",
      "Epoch 150/250\n",
      "99/99 [==============================] - 0s 229us/step - loss: 0.2061 - accuracy: 0.9293 - val_loss: 1.0217 - val_accuracy: 0.6800\n",
      "Epoch 151/250\n",
      "99/99 [==============================] - 0s 247us/step - loss: 0.2181 - accuracy: 0.9293 - val_loss: 1.0258 - val_accuracy: 0.6800\n",
      "Epoch 152/250\n",
      "99/99 [==============================] - 0s 211us/step - loss: 0.2053 - accuracy: 0.9293 - val_loss: 0.9857 - val_accuracy: 0.6800\n",
      "Epoch 153/250\n",
      "99/99 [==============================] - 0s 238us/step - loss: 0.2689 - accuracy: 0.8788 - val_loss: 0.9721 - val_accuracy: 0.6400\n",
      "Epoch 154/250\n",
      "99/99 [==============================] - 0s 269us/step - loss: 0.2188 - accuracy: 0.9293 - val_loss: 1.0139 - val_accuracy: 0.6800\n",
      "Epoch 155/250\n",
      "99/99 [==============================] - 0s 241us/step - loss: 0.2393 - accuracy: 0.9091 - val_loss: 1.0774 - val_accuracy: 0.6400\n",
      "Epoch 156/250\n",
      "99/99 [==============================] - 0s 205us/step - loss: 0.2309 - accuracy: 0.8990 - val_loss: 1.0011 - val_accuracy: 0.6000\n",
      "Epoch 157/250\n",
      "99/99 [==============================] - 0s 235us/step - loss: 0.2027 - accuracy: 0.9192 - val_loss: 1.0196 - val_accuracy: 0.6000\n",
      "Epoch 158/250\n",
      "99/99 [==============================] - 0s 320us/step - loss: 0.2828 - accuracy: 0.8687 - val_loss: 1.0166 - val_accuracy: 0.6400\n",
      "Epoch 159/250\n",
      "99/99 [==============================] - 0s 259us/step - loss: 0.2025 - accuracy: 0.9293 - val_loss: 1.1064 - val_accuracy: 0.6400\n",
      "Epoch 160/250\n",
      "99/99 [==============================] - 0s 221us/step - loss: 0.2337 - accuracy: 0.8889 - val_loss: 1.0451 - val_accuracy: 0.6000\n",
      "Epoch 161/250\n",
      "99/99 [==============================] - 0s 325us/step - loss: 0.2055 - accuracy: 0.9192 - val_loss: 1.0961 - val_accuracy: 0.6400\n",
      "Epoch 162/250\n",
      "99/99 [==============================] - 0s 213us/step - loss: 0.4010 - accuracy: 0.7980 - val_loss: 1.0410 - val_accuracy: 0.6400\n",
      "Epoch 163/250\n",
      "99/99 [==============================] - 0s 267us/step - loss: 0.2161 - accuracy: 0.9192 - val_loss: 1.1199 - val_accuracy: 0.6400\n",
      "Epoch 164/250\n",
      "99/99 [==============================] - 0s 207us/step - loss: 0.2379 - accuracy: 0.8889 - val_loss: 0.9925 - val_accuracy: 0.6000\n",
      "Epoch 165/250\n",
      "99/99 [==============================] - 0s 188us/step - loss: 0.2017 - accuracy: 0.9293 - val_loss: 0.9646 - val_accuracy: 0.6000\n",
      "Epoch 166/250\n",
      "99/99 [==============================] - 0s 247us/step - loss: 0.2047 - accuracy: 0.9293 - val_loss: 0.9678 - val_accuracy: 0.6800\n",
      "Epoch 167/250\n",
      "99/99 [==============================] - 0s 224us/step - loss: 0.1871 - accuracy: 0.9495 - val_loss: 1.0090 - val_accuracy: 0.6800\n",
      "Epoch 168/250\n",
      "99/99 [==============================] - 0s 209us/step - loss: 0.1881 - accuracy: 0.9394 - val_loss: 1.0548 - val_accuracy: 0.6800\n",
      "Epoch 169/250\n"
     ]
    },
    {
     "name": "stdout",
     "output_type": "stream",
     "text": [
      "99/99 [==============================] - 0s 198us/step - loss: 0.1912 - accuracy: 0.9293 - val_loss: 1.0616 - val_accuracy: 0.6800\n",
      "Epoch 170/250\n",
      "99/99 [==============================] - 0s 199us/step - loss: 0.1810 - accuracy: 0.9495 - val_loss: 1.0603 - val_accuracy: 0.6000\n",
      "Epoch 171/250\n",
      "99/99 [==============================] - 0s 226us/step - loss: 0.1832 - accuracy: 0.9394 - val_loss: 1.0763 - val_accuracy: 0.6000\n",
      "Epoch 172/250\n",
      "99/99 [==============================] - 0s 204us/step - loss: 0.1669 - accuracy: 0.9495 - val_loss: 1.1008 - val_accuracy: 0.6400\n",
      "Epoch 173/250\n",
      "99/99 [==============================] - 0s 259us/step - loss: 0.1655 - accuracy: 0.9394 - val_loss: 1.1495 - val_accuracy: 0.6400\n",
      "Epoch 174/250\n",
      "99/99 [==============================] - 0s 263us/step - loss: 0.1841 - accuracy: 0.9293 - val_loss: 1.1158 - val_accuracy: 0.6000\n",
      "Epoch 175/250\n",
      "99/99 [==============================] - 0s 210us/step - loss: 0.1779 - accuracy: 0.9394 - val_loss: 1.1390 - val_accuracy: 0.5600\n",
      "Epoch 176/250\n",
      "99/99 [==============================] - 0s 209us/step - loss: 0.1677 - accuracy: 0.9394 - val_loss: 1.2399 - val_accuracy: 0.6400\n",
      "Epoch 177/250\n",
      "99/99 [==============================] - 0s 241us/step - loss: 0.2418 - accuracy: 0.9091 - val_loss: 1.1859 - val_accuracy: 0.6400\n",
      "Epoch 178/250\n",
      "99/99 [==============================] - 0s 215us/step - loss: 0.1893 - accuracy: 0.9192 - val_loss: 1.1310 - val_accuracy: 0.6000\n",
      "Epoch 179/250\n",
      "99/99 [==============================] - 0s 214us/step - loss: 0.1767 - accuracy: 0.9495 - val_loss: 1.1068 - val_accuracy: 0.6400\n",
      "Epoch 180/250\n",
      "99/99 [==============================] - ETA: 0s - loss: 0.1195 - accuracy: 0.96 - 0s 196us/step - loss: 0.1654 - accuracy: 0.9293 - val_loss: 1.1052 - val_accuracy: 0.5600\n",
      "Epoch 181/250\n",
      "99/99 [==============================] - 0s 236us/step - loss: 0.1633 - accuracy: 0.9495 - val_loss: 1.1030 - val_accuracy: 0.6000\n",
      "Epoch 182/250\n",
      "99/99 [==============================] - 0s 303us/step - loss: 0.1654 - accuracy: 0.9495 - val_loss: 1.0901 - val_accuracy: 0.6000\n",
      "Epoch 183/250\n",
      "99/99 [==============================] - 0s 238us/step - loss: 0.2251 - accuracy: 0.9091 - val_loss: 1.0834 - val_accuracy: 0.6000\n",
      "Epoch 184/250\n",
      "99/99 [==============================] - 0s 214us/step - loss: 0.1653 - accuracy: 0.9394 - val_loss: 1.1822 - val_accuracy: 0.6400\n",
      "Epoch 185/250\n",
      "99/99 [==============================] - 0s 188us/step - loss: 0.2100 - accuracy: 0.8990 - val_loss: 1.1203 - val_accuracy: 0.6400\n",
      "Epoch 186/250\n",
      "99/99 [==============================] - 0s 213us/step - loss: 0.1415 - accuracy: 0.9798 - val_loss: 1.1457 - val_accuracy: 0.6000\n",
      "Epoch 187/250\n",
      "99/99 [==============================] - 0s 226us/step - loss: 0.2381 - accuracy: 0.8990 - val_loss: 1.1120 - val_accuracy: 0.5600\n",
      "Epoch 188/250\n",
      "99/99 [==============================] - 0s 217us/step - loss: 0.1599 - accuracy: 0.9596 - val_loss: 1.1303 - val_accuracy: 0.6000\n",
      "Epoch 189/250\n",
      "99/99 [==============================] - 0s 202us/step - loss: 0.1462 - accuracy: 0.9697 - val_loss: 1.2479 - val_accuracy: 0.6000\n",
      "Epoch 190/250\n",
      "99/99 [==============================] - 0s 199us/step - loss: 0.2574 - accuracy: 0.8788 - val_loss: 1.2185 - val_accuracy: 0.6400\n",
      "Epoch 191/250\n",
      "99/99 [==============================] - 0s 200us/step - loss: 0.1656 - accuracy: 0.9192 - val_loss: 1.2042 - val_accuracy: 0.6400\n",
      "Epoch 192/250\n",
      "99/99 [==============================] - 0s 190us/step - loss: 0.1823 - accuracy: 0.9091 - val_loss: 1.1326 - val_accuracy: 0.7200\n",
      "Epoch 193/250\n",
      "99/99 [==============================] - 0s 178us/step - loss: 0.1711 - accuracy: 0.9293 - val_loss: 1.0559 - val_accuracy: 0.6000\n",
      "Epoch 194/250\n",
      "99/99 [==============================] - 0s 245us/step - loss: 0.2077 - accuracy: 0.8990 - val_loss: 1.1268 - val_accuracy: 0.6000\n",
      "Epoch 195/250\n",
      "99/99 [==============================] - 0s 220us/step - loss: 0.1640 - accuracy: 0.9596 - val_loss: 1.2023 - val_accuracy: 0.6400\n",
      "Epoch 196/250\n",
      "99/99 [==============================] - 0s 212us/step - loss: 0.2606 - accuracy: 0.8889 - val_loss: 1.3951 - val_accuracy: 0.6800\n",
      "Epoch 197/250\n",
      "99/99 [==============================] - 0s 207us/step - loss: 0.2733 - accuracy: 0.8788 - val_loss: 1.0990 - val_accuracy: 0.6400\n",
      "Epoch 198/250\n",
      "99/99 [==============================] - 0s 264us/step - loss: 0.1830 - accuracy: 0.9293 - val_loss: 1.1357 - val_accuracy: 0.6000\n",
      "Epoch 199/250\n",
      "99/99 [==============================] - 0s 205us/step - loss: 0.1951 - accuracy: 0.8990 - val_loss: 1.1497 - val_accuracy: 0.6400\n",
      "Epoch 200/250\n",
      "99/99 [==============================] - 0s 249us/step - loss: 0.1323 - accuracy: 0.9596 - val_loss: 1.2445 - val_accuracy: 0.6400\n",
      "Epoch 201/250\n",
      "99/99 [==============================] - 0s 290us/step - loss: 0.1850 - accuracy: 0.9293 - val_loss: 1.1990 - val_accuracy: 0.6800\n",
      "Epoch 202/250\n",
      "99/99 [==============================] - 0s 285us/step - loss: 0.1524 - accuracy: 0.9394 - val_loss: 1.1666 - val_accuracy: 0.5600\n",
      "Epoch 203/250\n",
      "99/99 [==============================] - 0s 201us/step - loss: 0.2143 - accuracy: 0.8990 - val_loss: 1.1483 - val_accuracy: 0.5600\n",
      "Epoch 204/250\n",
      "99/99 [==============================] - 0s 225us/step - loss: 0.1353 - accuracy: 0.9798 - val_loss: 1.2124 - val_accuracy: 0.6800\n",
      "Epoch 205/250\n",
      "99/99 [==============================] - 0s 277us/step - loss: 0.1574 - accuracy: 0.9394 - val_loss: 1.2535 - val_accuracy: 0.6400\n",
      "Epoch 206/250\n",
      "99/99 [==============================] - 0s 202us/step - loss: 0.1502 - accuracy: 0.9495 - val_loss: 1.1924 - val_accuracy: 0.6000\n",
      "Epoch 207/250\n",
      "99/99 [==============================] - 0s 274us/step - loss: 0.1325 - accuracy: 0.9697 - val_loss: 1.2033 - val_accuracy: 0.5600\n",
      "Epoch 208/250\n",
      "99/99 [==============================] - 0s 202us/step - loss: 0.1349 - accuracy: 0.9798 - val_loss: 1.2245 - val_accuracy: 0.6400\n",
      "Epoch 209/250\n",
      "99/99 [==============================] - 0s 175us/step - loss: 0.1396 - accuracy: 0.9495 - val_loss: 1.2875 - val_accuracy: 0.6800\n",
      "Epoch 210/250\n",
      "99/99 [==============================] - 0s 213us/step - loss: 0.1565 - accuracy: 0.9293 - val_loss: 1.2067 - val_accuracy: 0.6400\n",
      "Epoch 211/250\n",
      "99/99 [==============================] - 0s 260us/step - loss: 0.1043 - accuracy: 0.9798 - val_loss: 1.1961 - val_accuracy: 0.5600\n",
      "Epoch 212/250\n",
      "99/99 [==============================] - 0s 220us/step - loss: 0.1682 - accuracy: 0.9394 - val_loss: 1.1999 - val_accuracy: 0.5600\n",
      "Epoch 213/250\n",
      "99/99 [==============================] - 0s 182us/step - loss: 0.1146 - accuracy: 0.9798 - val_loss: 1.2440 - val_accuracy: 0.6400\n",
      "Epoch 214/250\n",
      "99/99 [==============================] - 0s 244us/step - loss: 0.1195 - accuracy: 0.9495 - val_loss: 1.2698 - val_accuracy: 0.6000\n",
      "Epoch 215/250\n",
      "99/99 [==============================] - 0s 201us/step - loss: 0.1091 - accuracy: 0.9596 - val_loss: 1.2655 - val_accuracy: 0.6000\n",
      "Epoch 216/250\n",
      "99/99 [==============================] - 0s 199us/step - loss: 0.1063 - accuracy: 0.9798 - val_loss: 1.2807 - val_accuracy: 0.6000\n",
      "Epoch 217/250\n",
      "99/99 [==============================] - 0s 227us/step - loss: 0.1088 - accuracy: 0.9697 - val_loss: 1.3334 - val_accuracy: 0.6400\n",
      "Epoch 218/250\n",
      "99/99 [==============================] - 0s 246us/step - loss: 0.1486 - accuracy: 0.9394 - val_loss: 1.3095 - val_accuracy: 0.6400\n",
      "Epoch 219/250\n",
      "99/99 [==============================] - 0s 237us/step - loss: 0.1486 - accuracy: 0.9394 - val_loss: 1.3258 - val_accuracy: 0.5600\n",
      "Epoch 220/250\n",
      "99/99 [==============================] - 0s 209us/step - loss: 0.1796 - accuracy: 0.9394 - val_loss: 1.2961 - val_accuracy: 0.5600\n",
      "Epoch 221/250\n",
      "99/99 [==============================] - 0s 240us/step - loss: 0.1005 - accuracy: 0.9798 - val_loss: 1.3645 - val_accuracy: 0.6000\n",
      "Epoch 222/250\n",
      "99/99 [==============================] - 0s 227us/step - loss: 0.1725 - accuracy: 0.9091 - val_loss: 1.4017 - val_accuracy: 0.6800\n",
      "Epoch 223/250\n",
      "99/99 [==============================] - 0s 209us/step - loss: 0.1533 - accuracy: 0.9394 - val_loss: 1.3011 - val_accuracy: 0.6000\n",
      "Epoch 224/250\n",
      "99/99 [==============================] - 0s 203us/step - loss: 0.1284 - accuracy: 0.9596 - val_loss: 1.3068 - val_accuracy: 0.5600\n",
      "Epoch 225/250\n"
     ]
    },
    {
     "name": "stdout",
     "output_type": "stream",
     "text": [
      "99/99 [==============================] - 0s 225us/step - loss: 0.1183 - accuracy: 0.9596 - val_loss: 1.2862 - val_accuracy: 0.6400\n",
      "Epoch 226/250\n",
      "99/99 [==============================] - 0s 206us/step - loss: 0.1466 - accuracy: 0.9596 - val_loss: 1.3210 - val_accuracy: 0.6800\n",
      "Epoch 227/250\n",
      "99/99 [==============================] - 0s 262us/step - loss: 0.1390 - accuracy: 0.9596 - val_loss: 1.2863 - val_accuracy: 0.5600\n",
      "Epoch 228/250\n",
      "99/99 [==============================] - 0s 548us/step - loss: 0.1235 - accuracy: 0.9697 - val_loss: 1.3257 - val_accuracy: 0.5600\n",
      "Epoch 229/250\n",
      "99/99 [==============================] - 0s 233us/step - loss: 0.1090 - accuracy: 0.9697 - val_loss: 1.3670 - val_accuracy: 0.6000\n",
      "Epoch 230/250\n",
      "99/99 [==============================] - 0s 199us/step - loss: 0.1002 - accuracy: 0.9798 - val_loss: 1.3828 - val_accuracy: 0.6000\n",
      "Epoch 231/250\n",
      "99/99 [==============================] - 0s 153us/step - loss: 0.0975 - accuracy: 0.9697 - val_loss: 1.3754 - val_accuracy: 0.5600\n",
      "Epoch 232/250\n",
      "99/99 [==============================] - 0s 323us/step - loss: 0.1396 - accuracy: 0.9495 - val_loss: 1.3612 - val_accuracy: 0.5600\n",
      "Epoch 233/250\n",
      "99/99 [==============================] - 0s 223us/step - loss: 0.1103 - accuracy: 0.9697 - val_loss: 1.4131 - val_accuracy: 0.6000\n",
      "Epoch 234/250\n",
      "99/99 [==============================] - 0s 215us/step - loss: 0.1205 - accuracy: 0.9596 - val_loss: 1.4040 - val_accuracy: 0.5600\n",
      "Epoch 235/250\n",
      "99/99 [==============================] - 0s 239us/step - loss: 0.1130 - accuracy: 0.9596 - val_loss: 1.4160 - val_accuracy: 0.5600\n",
      "Epoch 236/250\n",
      "99/99 [==============================] - 0s 281us/step - loss: 0.1126 - accuracy: 0.9697 - val_loss: 1.4372 - val_accuracy: 0.6000\n",
      "Epoch 237/250\n",
      "99/99 [==============================] - 0s 182us/step - loss: 0.1553 - accuracy: 0.9394 - val_loss: 1.4698 - val_accuracy: 0.6000\n",
      "Epoch 238/250\n",
      "99/99 [==============================] - 0s 210us/step - loss: 0.1184 - accuracy: 0.9495 - val_loss: 1.4962 - val_accuracy: 0.6000\n",
      "Epoch 239/250\n",
      "99/99 [==============================] - 0s 179us/step - loss: 0.1291 - accuracy: 0.9394 - val_loss: 1.4055 - val_accuracy: 0.6800\n",
      "Epoch 240/250\n",
      "99/99 [==============================] - 0s 216us/step - loss: 0.1452 - accuracy: 0.9394 - val_loss: 1.2811 - val_accuracy: 0.6000\n",
      "Epoch 241/250\n",
      "99/99 [==============================] - 0s 223us/step - loss: 0.1611 - accuracy: 0.9394 - val_loss: 1.3022 - val_accuracy: 0.6000\n",
      "Epoch 242/250\n",
      "99/99 [==============================] - 0s 255us/step - loss: 0.1318 - accuracy: 0.9798 - val_loss: 1.4403 - val_accuracy: 0.6800\n",
      "Epoch 243/250\n",
      "99/99 [==============================] - 0s 213us/step - loss: 0.1325 - accuracy: 0.9596 - val_loss: 1.4989 - val_accuracy: 0.6400\n",
      "Epoch 244/250\n",
      "99/99 [==============================] - 0s 227us/step - loss: 0.1097 - accuracy: 0.9596 - val_loss: 1.5247 - val_accuracy: 0.6000\n",
      "Epoch 245/250\n",
      "99/99 [==============================] - 0s 215us/step - loss: 0.0967 - accuracy: 0.9899 - val_loss: 1.5404 - val_accuracy: 0.6000\n",
      "Epoch 246/250\n",
      "99/99 [==============================] - 0s 231us/step - loss: 0.0924 - accuracy: 0.9899 - val_loss: 1.5488 - val_accuracy: 0.5600\n",
      "Epoch 247/250\n",
      "99/99 [==============================] - 0s 209us/step - loss: 0.1755 - accuracy: 0.9192 - val_loss: 1.5818 - val_accuracy: 0.5600\n",
      "Epoch 248/250\n",
      "99/99 [==============================] - 0s 259us/step - loss: 0.1685 - accuracy: 0.9293 - val_loss: 1.5984 - val_accuracy: 0.6000\n",
      "Epoch 249/250\n",
      "99/99 [==============================] - 0s 222us/step - loss: 0.1028 - accuracy: 0.9394 - val_loss: 1.6134 - val_accuracy: 0.6000\n",
      "Epoch 250/250\n",
      "99/99 [==============================] - 0s 240us/step - loss: 0.1390 - accuracy: 0.9293 - val_loss: 1.5205 - val_accuracy: 0.6000\n"
     ]
    }
   ],
   "source": [
    "# Fit the model\n",
    "history=model.fit(X_train, Y_train, validation_split=0.2, epochs=250, batch_size=32)"
   ]
  },
  {
   "cell_type": "markdown",
   "metadata": {},
   "source": [
    "#Setelah data di training, lalu data dapat dievaluasi melalui proses evaluasi model dan hasil dari akurasi akan dapat ditampilkan. Pada tahap ini akurasi yang saya dapatkan adalah sebesar 91,94%."
   ]
  },
  {
   "cell_type": "code",
   "execution_count": 11,
   "metadata": {
    "scrolled": true
   },
   "outputs": [
    {
     "name": "stdout",
     "output_type": "stream",
     "text": [
      "124/124 [==============================] - 0s 101us/step\n",
      "\n",
      "accuracy: 91.13%\n"
     ]
    }
   ],
   "source": [
    "# evaluate the model\n",
    "scores = model.evaluate(X_train, Y_train)\n",
    "print(\"\\n%s: %.2f%%\" % (model.metrics_names[1], scores[1]*100))"
   ]
  },
  {
   "cell_type": "markdown",
   "metadata": {},
   "source": [
    "# PREDICT MODEL"
   ]
  },
  {
   "cell_type": "code",
   "execution_count": 12,
   "metadata": {},
   "outputs": [],
   "source": [
    "predict = model.predict(X_train)"
   ]
  },
  {
   "cell_type": "code",
   "execution_count": 13,
   "metadata": {},
   "outputs": [
    {
     "data": {
      "text/plain": [
       "array([[9.95553374e-01],\n",
       "       [9.96446490e-01],\n",
       "       [1.15354061e-02],\n",
       "       [9.96852160e-01],\n",
       "       [9.92804766e-03],\n",
       "       [3.59362662e-02],\n",
       "       [1.81436539e-04],\n",
       "       [1.29551291e-02],\n",
       "       [9.99737382e-01],\n",
       "       [7.49796629e-04],\n",
       "       [9.31770444e-01],\n",
       "       [8.89746428e-01],\n",
       "       [3.87027860e-03],\n",
       "       [1.24436915e-02],\n",
       "       [9.98771191e-01],\n",
       "       [6.99022412e-03],\n",
       "       [2.34979391e-03],\n",
       "       [9.98202324e-01],\n",
       "       [9.67685580e-02],\n",
       "       [1.83401704e-02],\n",
       "       [1.58444881e-01],\n",
       "       [9.44878221e-01],\n",
       "       [9.97099876e-01],\n",
       "       [1.48051977e-03],\n",
       "       [7.68065453e-04],\n",
       "       [4.37948108e-03],\n",
       "       [9.98044848e-01],\n",
       "       [1.06182069e-01],\n",
       "       [5.88165820e-02],\n",
       "       [2.52272785e-02],\n",
       "       [4.47034836e-07],\n",
       "       [2.55528986e-02],\n",
       "       [5.40445149e-01],\n",
       "       [3.86536121e-05],\n",
       "       [1.20925903e-03],\n",
       "       [5.46979904e-02],\n",
       "       [1.51315629e-02],\n",
       "       [5.52245855e-01],\n",
       "       [7.59160817e-02],\n",
       "       [7.28194714e-02],\n",
       "       [9.95936036e-01],\n",
       "       [2.10092843e-01],\n",
       "       [9.22688246e-01],\n",
       "       [9.85886276e-01],\n",
       "       [4.06804681e-03],\n",
       "       [3.58355045e-02],\n",
       "       [9.96412754e-01],\n",
       "       [2.06679106e-03],\n",
       "       [9.47812319e-01],\n",
       "       [2.88536251e-02],\n",
       "       [3.97880673e-02],\n",
       "       [1.51467919e-02],\n",
       "       [7.50422478e-04],\n",
       "       [6.80277407e-01],\n",
       "       [9.90621567e-01],\n",
       "       [9.98670578e-01],\n",
       "       [5.21025062e-03],\n",
       "       [9.92656946e-01],\n",
       "       [9.58864093e-01],\n",
       "       [9.89458084e-01],\n",
       "       [8.07059824e-01],\n",
       "       [3.00264657e-02],\n",
       "       [8.09511542e-02],\n",
       "       [6.09459400e-01],\n",
       "       [2.11956501e-02],\n",
       "       [7.90286303e-01],\n",
       "       [3.63034010e-03],\n",
       "       [6.58181131e-01],\n",
       "       [9.88920569e-01],\n",
       "       [9.90560651e-01],\n",
       "       [1.61647052e-01],\n",
       "       [7.15871155e-02],\n",
       "       [1.48057938e-04],\n",
       "       [9.98685718e-01],\n",
       "       [9.88101840e-01],\n",
       "       [1.91748142e-04],\n",
       "       [9.89653587e-01],\n",
       "       [9.40926194e-01],\n",
       "       [5.53505301e-01],\n",
       "       [3.78408730e-01],\n",
       "       [2.13342011e-02],\n",
       "       [1.03357434e-03],\n",
       "       [9.20597911e-01],\n",
       "       [9.86951828e-01],\n",
       "       [9.99751329e-01],\n",
       "       [9.14931297e-06],\n",
       "       [3.28030884e-01],\n",
       "       [6.84490800e-03],\n",
       "       [8.37385654e-04],\n",
       "       [1.80939734e-02],\n",
       "       [1.55734181e-01],\n",
       "       [9.99586701e-01],\n",
       "       [9.85527515e-01],\n",
       "       [9.94308591e-01],\n",
       "       [1.54442191e-02],\n",
       "       [3.08519602e-03],\n",
       "       [9.99422789e-01],\n",
       "       [9.45093036e-01],\n",
       "       [9.88056779e-01],\n",
       "       [1.50433183e-03],\n",
       "       [7.53812194e-01],\n",
       "       [9.61724639e-01],\n",
       "       [1.49103999e-02],\n",
       "       [6.19061172e-01],\n",
       "       [4.18305397e-04],\n",
       "       [6.28481984e-01],\n",
       "       [8.26910138e-03],\n",
       "       [9.46505547e-01],\n",
       "       [7.53590465e-03],\n",
       "       [7.91738629e-01],\n",
       "       [9.98382509e-01],\n",
       "       [6.46710396e-06],\n",
       "       [9.63595748e-01],\n",
       "       [5.14709949e-03],\n",
       "       [1.49607658e-05],\n",
       "       [9.93200123e-01],\n",
       "       [1.46345794e-02],\n",
       "       [1.17391348e-03],\n",
       "       [3.16590071e-04],\n",
       "       [6.06726110e-02],\n",
       "       [9.55287457e-01],\n",
       "       [9.89328921e-01],\n",
       "       [4.21159863e-02],\n",
       "       [2.69184053e-01]], dtype=float32)"
      ]
     },
     "execution_count": 13,
     "metadata": {},
     "output_type": "execute_result"
    }
   ],
   "source": [
    "predict"
   ]
  },
  {
   "cell_type": "code",
   "execution_count": 14,
   "metadata": {},
   "outputs": [
    {
     "name": "stdout",
     "output_type": "stream",
     "text": [
      "0.9112903475761414\n"
     ]
    }
   ],
   "source": [
    "print(scores[1]) #menampilkan nilai predict secara langsung"
   ]
  },
  {
   "cell_type": "markdown",
   "metadata": {},
   "source": [
    "# Visualisasi\n",
    "Dari proses training diatas, setiap loss pada epochs yang terjadi ketika training dapat kita ditampilkan dalam bentuk grafik. setiap komponen pada grafik pun dapat ditentukan sesuai keperluan masing-masing."
   ]
  },
  {
   "cell_type": "code",
   "execution_count": 15,
   "metadata": {},
   "outputs": [
    {
     "data": {
      "image/png": "[encoded data removed]",
      "text/plain": [
       "<matplotlib.figure.Figure at 0x187dade7978>"
      ]
     },
     "metadata": {},
     "output_type": "display_data"
    }
   ],
   "source": [
    "fig,(ax0) = plt.subplots(nrows=1, figsize=(12,5))\n",
    "plt.plot(history.history['accuracy'])\n",
    "plt.plot(history.history['val_accuracy'])\n",
    "plt.title('model accuracy')\n",
    "plt.ylabel('accuracy')\n",
    "plt.xlabel('epoch')\n",
    "plt.legend(['train', 'test'], loc='upper left')\n",
    "plt.show()"
   ]
  },
  {
   "cell_type": "code",
   "execution_count": 16,
   "metadata": {},
   "outputs": [
    {
     "data": {
      "image/png": "[encoded data removed]",
      "text/plain": [
       "<matplotlib.figure.Figure at 0x187dae5ff28>"
      ]
     },
     "metadata": {},
     "output_type": "display_data"
    }
   ],
   "source": [
    "fig,(ax1) = plt.subplots(nrows=1, figsize=(12,5))\n",
    "plt.plot(history.history['loss'])\n",
    "plt.plot(history.history['val_loss'])\n",
    "plt.title('model loss')\n",
    "plt.ylabel('loss')\n",
    "plt.xlabel('epoch')\n",
    "plt.legend(['train', 'test'], loc='upper left')\n",
    "plt.show()"
   ]
  },
  {
   "cell_type": "markdown",
   "metadata": {},
   "source": [
    "# Confusion Matrix¶\n",
    "Confusion matrix merupakan salah satu metode yang dapat digunakan untuk mengukur kinerja suatu metode klasifikasi.Pada pengukuran kinerja menggunakan confusion matrix, terdapat 4 (empat) istilah sebagai representasi hasil proses klasifikasi yaitu :\n",
    "\n",
    "1.TP adalah True Positive, yaitu jumlah data positif yang terklasifikasi dengan benar oleh sistem.\n",
    "\n",
    "2.TN adalah True Negative, yaitu jumlah data negatif yang terklasifikasi dengan benar oleh sistem.\n",
    "\n",
    "3.FN adalah False Negative, yaitu jumlah data negatif namun terklasifikasi salah oleh sistem.\n",
    "\n",
    "4.FP adalah False Positive, yaitu jumlah data positif namun terklasifikasi salah oleh sistem"
   ]
  },
  {
   "cell_type": "code",
   "execution_count": 17,
   "metadata": {},
   "outputs": [],
   "source": [
    "training_predicted = model.predict(X_train)\n",
    "testing_predicted = model.predict(X_test)"
   ]
  },
  {
   "cell_type": "code",
   "execution_count": 18,
   "metadata": {},
   "outputs": [],
   "source": [
    "from sklearn.metrics import confusion_matrix\n",
    "\n",
    "training_cm = confusion_matrix(Y_train,training_predicted.round())\n",
    "testing_cm = confusion_matrix(Y_test,testing_predicted.round())"
   ]
  },
  {
   "cell_type": "code",
   "execution_count": 19,
   "metadata": {},
   "outputs": [
    {
     "data": {
      "text/plain": [
       "array([[63,  5],\n",
       "       [ 6, 50]], dtype=int64)"
      ]
     },
     "execution_count": 19,
     "metadata": {},
     "output_type": "execute_result"
    }
   ],
   "source": [
    "training_cm"
   ]
  },
  {
   "cell_type": "markdown",
   "metadata": {},
   "source": [
    "Berikut adalah hasil perolehan nilai Accuracy, Specificity, Sensitivity, Precision, dan F1 Score pada data training"
   ]
  },
  {
   "cell_type": "code",
   "execution_count": 20,
   "metadata": {},
   "outputs": [
    {
     "name": "stdout",
     "output_type": "stream",
     "text": [
      "Accuracy training 0.9112903225806451\n",
      "Specificity training 0.8928571428571429\n",
      "Sensitivity training 0.9264705882352942\n",
      "Precision training 0.9130434782608695\n",
      "F1 Score training 0.9197080291970804\n"
     ]
    }
   ],
   "source": [
    "#training\n",
    "tp = training_cm[0][0]\n",
    "fn = training_cm[0][1]\n",
    "fp = training_cm[1][0]\n",
    "tn = training_cm[1][1]\n",
    "\n",
    "accuracy = (tp+tn)/(tp+tn+fp+fn)\n",
    "specificity = tn/(tn+fp)\n",
    "sensitivity = tp/(tp+fn)\n",
    "precision = tp/(tp+fp)\n",
    "f1_score = (2*sensitivity*precision)/(sensitivity+precision)\n",
    "\n",
    "print(\"Accuracy training {0}\".format(accuracy))\n",
    "print(\"Specificity training {0}\".format(specificity))\n",
    "print(\"Sensitivity training {0}\".format(sensitivity))\n",
    "print(\"Precision training {0}\".format(precision))\n",
    "print(\"F1 Score training {0}\".format(f1_score))"
   ]
  },
  {
   "cell_type": "markdown",
   "metadata": {},
   "source": [
    "ini adalah hasil Confusion Matrix dari data testing"
   ]
  },
  {
   "cell_type": "code",
   "execution_count": 21,
   "metadata": {},
   "outputs": [
    {
     "name": "stdout",
     "output_type": "stream",
     "text": [
      "[[ 8  9]\n",
      " [ 4 10]]\n"
     ]
    }
   ],
   "source": [
    "print(testing_cm)"
   ]
  },
  {
   "cell_type": "code",
   "execution_count": 22,
   "metadata": {},
   "outputs": [
    {
     "name": "stdout",
     "output_type": "stream",
     "text": [
      "Accuracy testing 0.5806451612903226\n",
      "Specificity testing 0.7142857142857143\n",
      "Sensitivity testing 0.47058823529411764\n",
      "Precision testing 0.6666666666666666\n",
      "F1 Score testing 0.5517241379310345\n"
     ]
    }
   ],
   "source": [
    "tp = testing_cm[0][0]\n",
    "fn = testing_cm[0][1]\n",
    "fp = testing_cm[1][0]\n",
    "tn = testing_cm[1][1]\n",
    "\n",
    "accuracy = (tp+tn)/(tp+tn+fp+fn)\n",
    "specificity = tn/(tn+fp)\n",
    "sensitivity = tp/(tp+fn)\n",
    "precision = tp/(tp+fp)\n",
    "f1_score = (2*sensitivity*precision)/(sensitivity+precision)\n",
    "\n",
    "print(\"Accuracy testing {0}\".format(accuracy))\n",
    "print(\"Specificity testing {0}\".format(specificity))\n",
    "print(\"Sensitivity testing {0}\".format(sensitivity))\n",
    "print(\"Precision testing {0}\".format(precision))\n",
    "print(\"F1 Score testing {0}\".format(f1_score))"
   ]
  },
  {
   "cell_type": "markdown",
   "metadata": {},
   "source": [
    "# Kesimpulan\n",
    "Dari hasil percobaan diatas dapat disimpulkan bahwa dataset hepatitis yang memiliki jumlah data sebanyak 155 mendapatkan akurasi sebesar 91,94% dengan menggunakan Artificial Neural Network."
   ]
  },
  {
   "cell_type": "code",
   "execution_count": null,
   "metadata": {},
   "outputs": [],
   "source": []
  }
 ],
 "metadata": {
  "kernelspec": {
   "display_name": "Python 3",
   "language": "python",
   "name": "python3"
  },
  "language_info": {
   "codemirror_mode": {
    "name": "ipython",
    "version": 3
   },
   "file_extension": ".py",
   "mimetype": "text/x-python",
   "name": "python",
   "nbconvert_exporter": "python",
   "pygments_lexer": "ipython3",
   "version": "3.6.4"
  }
 },
 "nbformat": 4,
 "nbformat_minor": 2
}
