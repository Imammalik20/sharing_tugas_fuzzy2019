{
 "cells": [
  {
   "cell_type": "markdown",
   "metadata": {},
   "source": [
    "### Diagnosa Penyakit Kanker Payudara Menggunakan Jaringan Saraf Tiruan\n",
    "\n",
    "#### NAMA : Ahmad Naufal Irfan\n",
    "#### NIM : 09011381722102"
   ]
  },
  {
   "cell_type": "markdown",
   "metadata": {},
   "source": [
    "Kanker payudara adalah salah satu bentuk yang paling sering kanker di kalangan perempuan diseluruh dunia.\n",
    "Kanker payudara merupakan kondisi ketika sel kanker terbentuk di jaringan payudara. Kanker bisa terbentuk di kelenjar yang menghasilkan susu (lobulus), atau di saluran (duktus) yang membawa air susu dari kelenjar ke puting payudara. Kanker juga bisa terbentuk di jaringan lemak atau jaringan ikat di dalam payudara."
   ]
  },
  {
   "cell_type": "markdown",
   "metadata": {},
   "source": [
    "# Mengimport Library yang diperlukan"
   ]
  },
  {
   "cell_type": "code",
   "execution_count": 1,
   "metadata": {},
   "outputs": [
    {
     "name": "stderr",
     "output_type": "stream",
     "text": [
      "Using TensorFlow backend.\n"
     ]
    }
   ],
   "source": [
    "import numpy as np\n",
    "import matplotlib.pyplot as plt\n",
    "import keras\n",
    "from keras.models import Sequential\n",
    "from keras.layers import Dense\n",
    "from sklearn.model_selection import train_test_split\n",
    "from sklearn.preprocessing import MinMaxScaler\n",
    "np.random.seed(7)"
   ]
  },
  {
   "cell_type": "markdown",
   "metadata": {},
   "source": [
    "Berikut adalah Daftar Modul yang digunakan :\n",
    "\n",
    "   #### Numpy\n",
    "   untuk melakukan beberapa fungsi matematika seperti array, dan matriks. Pada program ini numpy digunakan untuk generate array untuk membuat grafik confusion matriks.\n",
    "\n",
    "   #### Matplotlib\n",
    "   untuk mencetak grafik pada beberapa event seperti grafik distribusi variabel, grafik confusion matrix, grafik akurasi, dll.\n",
    "\n",
    "   #### Keras\n",
    "   digunakan untuk membuat, menambah, dan mengevaluasi model neural network.\n",
    "\n",
    "   #### Sklearn \n",
    "   ini adalah salah satu modul utama yang digunakan untuk mengolah data Machine Learning seperti preprocessing, dan lainnya."
   ]
  },
  {
   "cell_type": "markdown",
   "metadata": {},
   "source": [
    "## Dataset"
   ]
  },
  {
   "cell_type": "markdown",
   "metadata": {},
   "source": [
    "### informasi dataset"
   ]
  },
  {
   "cell_type": "markdown",
   "metadata": {},
   "source": [
    "Dataset dapat didownload pada\n",
    "\n",
    "https://www.kaggle.com/zzero0/uci-breast-cancer-wisconsin-original"
   ]
  },
  {
   "cell_type": "markdown",
   "metadata": {},
   "source": [
    "### Import Dataset"
   ]
  },
  {
   "cell_type": "code",
   "execution_count": 2,
   "metadata": {},
   "outputs": [],
   "source": [
    "df = np.loadtxt(\"KankerPayudara.csv\", delimiter=\",\")"
   ]
  },
  {
   "cell_type": "markdown",
   "metadata": {},
   "source": [
    "Kode di atas digunakan untuk load dataset dengan nama \"KankerPayudara.csv\""
   ]
  },
  {
   "cell_type": "code",
   "execution_count": 3,
   "metadata": {
    "scrolled": true
   },
   "outputs": [
    {
     "data": {
      "text/plain": [
       "array([[ 5.,  1.,  1., ...,  3.,  1.,  1.],\n",
       "       [ 5.,  4.,  4., ...,  3.,  2.,  1.],\n",
       "       [ 3.,  1.,  1., ...,  3.,  1.,  1.],\n",
       "       ...,\n",
       "       [ 5., 10., 10., ...,  8., 10.,  2.],\n",
       "       [ 4.,  8.,  6., ..., 10.,  6.,  1.],\n",
       "       [ 4.,  8.,  8., ..., 10.,  4.,  1.]])"
      ]
     },
     "execution_count": 3,
     "metadata": {},
     "output_type": "execute_result"
    }
   ],
   "source": [
    "X = df[:,0:9]\n",
    "Y = df[:,9]\n",
    "X"
   ]
  },
  {
   "cell_type": "markdown",
   "metadata": {},
   "source": [
    "X adalah Nilai Input.\n"
   ]
  },
  {
   "cell_type": "code",
   "execution_count": 4,
   "metadata": {},
   "outputs": [
    {
     "data": {
      "text/plain": [
       "array([0., 0., 0., 0., 0., 1., 0., 0., 0., 0., 0., 0., 1., 0., 1., 1., 0.,\n",
       "       0., 1., 0., 1., 1., 0., 0., 1., 0., 0., 0., 0., 0., 0., 1., 0., 0.,\n",
       "       0., 1., 0., 1., 1., 1., 1., 1., 1., 0., 1., 0., 0., 1., 1., 1., 1.,\n",
       "       1., 1., 1., 1., 1., 1., 1., 1., 0., 1., 1., 0., 1., 0., 1., 1., 0.,\n",
       "       0., 1., 0., 1., 1., 0., 0., 0., 0., 0., 0., 0., 0., 0., 1., 1., 1.,\n",
       "       1., 0., 0., 0., 0., 0., 0., 0., 0., 0., 0., 1., 1., 1., 1., 0., 1.,\n",
       "       1., 1., 1., 1., 0., 1., 0., 1., 1., 1., 0., 0., 0., 1., 0., 0., 0.,\n",
       "       0., 1., 1., 1., 0., 1., 0., 1., 0., 0., 0., 1., 0., 0., 0., 0., 0.,\n",
       "       0., 0., 0., 1., 0., 0., 1., 0., 0., 1., 0., 1., 1., 0., 0., 1., 0.,\n",
       "       0., 1., 1., 0., 0., 0., 0., 1., 1., 0., 0., 0., 0., 0., 1., 1., 1.,\n",
       "       0., 1., 0., 1., 0., 0., 0., 1., 1., 0., 1., 1., 1., 0., 1., 1., 0.,\n",
       "       0., 0., 0., 0., 0., 0., 0., 1., 1., 0., 0., 0., 1., 1., 0., 0., 0.,\n",
       "       1., 1., 0., 1., 1., 1., 0., 0., 1., 0., 0., 1., 1., 1., 1., 0., 1.,\n",
       "       1., 0., 1., 1., 1., 0., 1., 0., 1., 1., 1., 1., 0., 0., 0., 0., 0.,\n",
       "       0., 1., 1., 0., 0., 1., 0., 1., 1., 1., 0., 0., 0., 0., 1., 1., 1.,\n",
       "       1., 1., 0., 1., 1., 1., 0., 1., 0., 1., 1., 0., 0., 0., 0., 1., 0.,\n",
       "       0., 1., 1., 1., 1., 1., 0., 1., 1., 0., 0., 1., 1., 0., 0., 1., 1.,\n",
       "       0., 1., 0., 1., 1., 0., 0., 1., 0., 0., 0., 1., 0., 0., 1., 1., 0.,\n",
       "       0., 1., 0., 1., 0., 0., 1., 0., 1., 1., 1., 0., 0., 1., 1., 0., 1.,\n",
       "       0., 0., 1., 1., 0., 0., 0., 1., 0., 0., 0., 1., 1., 0., 0., 0., 1.,\n",
       "       0., 0., 1., 1., 1., 1., 1., 1., 0., 0., 0., 0., 1., 1., 0., 0., 0.,\n",
       "       0., 0., 0., 0., 0., 0., 0., 0., 0., 0., 1., 0., 0., 0., 0., 1., 0.,\n",
       "       0., 0., 0., 1., 0., 0., 0., 0., 0., 0., 0., 0., 1., 0., 0., 0., 0.,\n",
       "       0., 0., 0., 0., 0., 0., 1., 0., 1., 0., 1., 0., 0., 0., 0., 1., 0.,\n",
       "       0., 0., 1., 0., 1., 0., 0., 0., 0., 0., 0., 0., 1., 1., 0., 0., 0.,\n",
       "       1., 0., 0., 0., 0., 0., 0., 0., 0., 1., 0., 0., 0., 1., 0., 1., 1.,\n",
       "       1., 0., 0., 0., 0., 0., 0., 0., 1., 1., 1., 0., 0., 0., 0., 0., 0.,\n",
       "       0., 0., 0., 0., 0., 1., 0., 0., 1., 1., 0., 0., 0., 1., 1., 1., 0.,\n",
       "       1., 0., 1., 0., 0., 0., 0., 0., 0., 0., 0., 0., 0., 0., 0., 1., 0.,\n",
       "       0., 0., 0., 0., 0., 0., 1., 1., 0., 0., 0., 1., 0., 0., 1., 1., 0.,\n",
       "       0., 0., 0., 0., 0., 1., 0., 0., 0., 0., 0., 0., 0., 0., 0., 0., 0.,\n",
       "       0., 0., 0., 0., 1., 0., 0., 1., 0., 0., 0., 0., 0., 0., 0., 0., 0.,\n",
       "       0., 0., 0., 0., 0., 0., 1., 0., 0., 1., 1., 1., 1., 0., 0., 1., 0.,\n",
       "       0., 0., 0., 0., 0., 1., 1., 0., 0., 0., 1., 0., 1., 0., 1., 1., 1.,\n",
       "       0., 1., 0., 0., 0., 0., 0., 0., 0., 0., 1., 1., 1., 0., 0., 1., 0.,\n",
       "       1., 1., 1., 0., 0., 0., 0., 0., 0., 0., 0., 0., 0., 0., 0., 1., 0.,\n",
       "       0., 0., 0., 0., 0., 1., 0., 0., 1., 0., 0., 0., 0., 0., 0., 0., 0.,\n",
       "       0., 0., 0., 1., 0., 0., 0., 0., 0., 0., 0., 0., 0., 1., 0., 0., 0.,\n",
       "       0., 0., 0., 0., 0., 0., 1., 1., 1., 0., 0., 0., 0., 0., 0., 0., 0.,\n",
       "       0., 1., 1., 0., 0., 0., 0., 0., 0., 0., 0., 0., 1., 0., 0., 0., 0.,\n",
       "       1., 1., 1.])"
      ]
     },
     "execution_count": 4,
     "metadata": {},
     "output_type": "execute_result"
    }
   ],
   "source": [
    "Y"
   ]
  },
  {
   "cell_type": "markdown",
   "metadata": {},
   "source": [
    "Y adalah Output\n",
    "\n",
    "Nilai Outputnya adalah 0 dan 1."
   ]
  },
  {
   "cell_type": "code",
   "execution_count": 5,
   "metadata": {},
   "outputs": [],
   "source": [
    "scaler = MinMaxScaler()\n",
    "KankerPayudara = scaler.fit_transform(X)"
   ]
  },
  {
   "cell_type": "markdown",
   "metadata": {},
   "source": [
    "## Categorical"
   ]
  },
  {
   "cell_type": "code",
   "execution_count": 6,
   "metadata": {},
   "outputs": [
    {
     "data": {
      "text/plain": [
       "(683, 2)"
      ]
     },
     "execution_count": 6,
     "metadata": {},
     "output_type": "execute_result"
    }
   ],
   "source": [
    "from keras.utils.np_utils import to_categorical\n",
    "Y_categorical = to_categorical(Y)\n",
    "Y_categorical.shape"
   ]
  },
  {
   "cell_type": "markdown",
   "metadata": {},
   "source": [
    "## Model"
   ]
  },
  {
   "cell_type": "code",
   "execution_count": 7,
   "metadata": {},
   "outputs": [],
   "source": [
    "# Membuat variabel yang digunakan sebagai penampung fungsi Sequential()\n",
    "model = Sequential()\n",
    "\n",
    "# Menambahkan layer input kedalam model\n",
    "model.add(Dense(50, input_dim=9, activation='relu'))\n",
    "model.add(Dense(40, activation='relu'))\n",
    "\n",
    "# menambahkan layer output kedalam model\n",
    "model.add(Dense(2, activation='softmax'))"
   ]
  },
  {
   "cell_type": "markdown",
   "metadata": {},
   "source": [
    "- Dense 50 = Neural Network pada layer pertama terdiri dari 50 neuron.\n",
    "\n",
    "- Dense 40 = Neural Network pada layer pertama ini terdiri dari 40 neuron.\n",
    "\n",
    "- Dense 2 = Neural Network yang saya buat pada layer terakhir ini terdiri dari 2 neuron, neuron inilah yang akan menghasilkan output berdasarkan dataset yang ada dan memprediksi apakah terdapat penipuan kartu kredit atau tidak.\n",
    "\n",
    "- Input dim 9 = Berdasarkan dataset yang dipakai, terdiri dari 10 kategori. 9 kategori input, dan 1 kategori output.\n",
    "\n",
    "- Relu = Merupakan fungsi aktivasi yang digunakan pada layer ini.\n",
    "\n",
    "- Softmax = Merupakan fungsi lapisan jaringan saraf yang digunakan pada layer ini. Probabilitas yang dihitung akan berada dikisaran 0 dan 1, jumlah semua probabilitas akan sama dengan 1."
   ]
  },
  {
   "cell_type": "markdown",
   "metadata": {},
   "source": [
    "## Compile Model"
   ]
  },
  {
   "cell_type": "code",
   "execution_count": 8,
   "metadata": {},
   "outputs": [],
   "source": [
    "model.compile(loss='categorical_crossentropy',optimizer='adam', metrics=['accuracy'] )"
   ]
  },
  {
   "cell_type": "markdown",
   "metadata": {},
   "source": [
    "Fungsi kompilasi pada model\n",
    "\n",
    "- Loss = Pengidentifikasi string dari fungsi kerugian yang ada (seperti kategorikal_crossentropy), atau dapat menjadi fungsi obyektif. Tujuan yang akan coba diminimalkan oleh model.\n",
    "\n",
    "- Optimizer = Pengenal string dari pengoptimal yang ada (seperti adam), atau turunan dari kelas Pengoptimal. \n",
    "\n",
    "- Metrics = Untuk masalah klasifikasi apa pun, mengaturnya ke metrik = ['akurasi']. Metrik bisa menjadi pengidentifikasi string dari metrik yang ada atau fungsi metrik khusus."
   ]
  },
  {
   "cell_type": "code",
   "execution_count": 9,
   "metadata": {},
   "outputs": [
    {
     "name": "stdout",
     "output_type": "stream",
     "text": [
      "WARNING:tensorflow:From C:\\Users\\ASUS X441N\\Anaconda3\\lib\\site-packages\\keras\\backend\\tensorflow_backend.py:422: The name tf.global_variables is deprecated. Please use tf.compat.v1.global_variables instead.\n",
      "\n",
      "Train on 341 samples, validate on 342 samples\n",
      "Epoch 1/100\n",
      "341/341 [==============================] - 2s 7ms/step - loss: 0.5793 - accuracy: 0.8123 - val_loss: 0.5692 - val_accuracy: 0.7924\n",
      "Epoch 2/100\n",
      "341/341 [==============================] - 1s 2ms/step - loss: 0.4053 - accuracy: 0.9326 - val_loss: 0.3706 - val_accuracy: 0.9649\n",
      "Epoch 3/100\n",
      "341/341 [==============================] - 1s 2ms/step - loss: 0.2521 - accuracy: 0.9589 - val_loss: 0.1942 - val_accuracy: 0.9766\n",
      "Epoch 4/100\n",
      "341/341 [==============================] - 1s 2ms/step - loss: 0.1719 - accuracy: 0.9589 - val_loss: 0.1221 - val_accuracy: 0.9795\n",
      "Epoch 5/100\n",
      "341/341 [==============================] - 1s 2ms/step - loss: 0.1386 - accuracy: 0.9560 - val_loss: 0.0872 - val_accuracy: 0.9795\n",
      "Epoch 6/100\n",
      "341/341 [==============================] - 1s 4ms/step - loss: 0.1276 - accuracy: 0.9560 - val_loss: 0.0743 - val_accuracy: 0.9766\n",
      "Epoch 7/100\n",
      "341/341 [==============================] - 1s 2ms/step - loss: 0.1187 - accuracy: 0.9648 - val_loss: 0.0694 - val_accuracy: 0.9766\n",
      "Epoch 8/100\n",
      "341/341 [==============================] - 0s 1ms/step - loss: 0.1138 - accuracy: 0.9619 - val_loss: 0.0617 - val_accuracy: 0.9854\n",
      "Epoch 9/100\n",
      "341/341 [==============================] - 0s 1ms/step - loss: 0.1114 - accuracy: 0.9677 - val_loss: 0.0605 - val_accuracy: 0.9825\n",
      "Epoch 10/100\n",
      "341/341 [==============================] - ETA: 0s - loss: 0.0943 - accuracy: 0.96 - 0s 1ms/step - loss: 0.1077 - accuracy: 0.9619 - val_loss: 0.0553 - val_accuracy: 0.9825\n",
      "Epoch 11/100\n",
      "341/341 [==============================] - 0s 1ms/step - loss: 0.1061 - accuracy: 0.9677 - val_loss: 0.0549 - val_accuracy: 0.9854\n",
      "Epoch 12/100\n",
      "341/341 [==============================] - 0s 1ms/step - loss: 0.1025 - accuracy: 0.9677 - val_loss: 0.0521 - val_accuracy: 0.9825\n",
      "Epoch 13/100\n",
      "341/341 [==============================] - 1s 2ms/step - loss: 0.1011 - accuracy: 0.9648 - val_loss: 0.0536 - val_accuracy: 0.9854\n",
      "Epoch 14/100\n",
      "341/341 [==============================] - 0s 1ms/step - loss: 0.0986 - accuracy: 0.9677 - val_loss: 0.0506 - val_accuracy: 0.9854\n",
      "Epoch 15/100\n",
      "341/341 [==============================] - 0s 1ms/step - loss: 0.0976 - accuracy: 0.9677 - val_loss: 0.0530 - val_accuracy: 0.9854\n",
      "Epoch 16/100\n",
      "341/341 [==============================] - 0s 1ms/step - loss: 0.0984 - accuracy: 0.9677 - val_loss: 0.0487 - val_accuracy: 0.9825\n",
      "Epoch 17/100\n",
      "341/341 [==============================] - 0s 1ms/step - loss: 0.0965 - accuracy: 0.9677 - val_loss: 0.0469 - val_accuracy: 0.9825\n",
      "Epoch 18/100\n",
      "341/341 [==============================] - 1s 2ms/step - loss: 0.0933 - accuracy: 0.9648 - val_loss: 0.0487 - val_accuracy: 0.9825\n",
      "Epoch 19/100\n",
      "341/341 [==============================] - 1s 3ms/step - loss: 0.0902 - accuracy: 0.9677 - val_loss: 0.0500 - val_accuracy: 0.9854\n",
      "Epoch 20/100\n",
      "341/341 [==============================] - 1s 2ms/step - loss: 0.0910 - accuracy: 0.9648 - val_loss: 0.0516 - val_accuracy: 0.9854\n",
      "Epoch 21/100\n",
      "341/341 [==============================] - 0s 1ms/step - loss: 0.0876 - accuracy: 0.9707 - val_loss: 0.0485 - val_accuracy: 0.9854\n",
      "Epoch 22/100\n",
      "341/341 [==============================] - 0s 1ms/step - loss: 0.0860 - accuracy: 0.9677 - val_loss: 0.0482 - val_accuracy: 0.9825\n",
      "Epoch 23/100\n",
      "341/341 [==============================] - 0s 1ms/step - loss: 0.0873 - accuracy: 0.9707 - val_loss: 0.0491 - val_accuracy: 0.9854\n",
      "Epoch 24/100\n",
      "341/341 [==============================] - 1s 2ms/step - loss: 0.0843 - accuracy: 0.9677 - val_loss: 0.0475 - val_accuracy: 0.9825\n",
      "Epoch 25/100\n",
      "341/341 [==============================] - 1s 4ms/step - loss: 0.0821 - accuracy: 0.9707 - val_loss: 0.0489 - val_accuracy: 0.9854\n",
      "Epoch 26/100\n",
      "341/341 [==============================] - 1s 3ms/step - loss: 0.0823 - accuracy: 0.9736 - val_loss: 0.0495 - val_accuracy: 0.9854\n",
      "Epoch 27/100\n",
      "341/341 [==============================] - 1s 4ms/step - loss: 0.0814 - accuracy: 0.9736 - val_loss: 0.0480 - val_accuracy: 0.9825\n",
      "Epoch 28/100\n",
      "341/341 [==============================] - 1s 2ms/step - loss: 0.0785 - accuracy: 0.9736 - val_loss: 0.0479 - val_accuracy: 0.9825\n",
      "Epoch 29/100\n",
      "341/341 [==============================] - 1s 2ms/step - loss: 0.0822 - accuracy: 0.9677 - val_loss: 0.0516 - val_accuracy: 0.9825\n",
      "Epoch 30/100\n",
      "341/341 [==============================] - 0s 1ms/step - loss: 0.0787 - accuracy: 0.9765 - val_loss: 0.0481 - val_accuracy: 0.9854\n",
      "Epoch 31/100\n",
      "341/341 [==============================] - 0s 1ms/step - loss: 0.0778 - accuracy: 0.9736 - val_loss: 0.0476 - val_accuracy: 0.9854\n",
      "Epoch 32/100\n",
      "341/341 [==============================] - 1s 2ms/step - loss: 0.0768 - accuracy: 0.9736 - val_loss: 0.0458 - val_accuracy: 0.9825\n",
      "Epoch 33/100\n",
      "341/341 [==============================] - 1s 2ms/step - loss: 0.0758 - accuracy: 0.9707 - val_loss: 0.0484 - val_accuracy: 0.9825\n",
      "Epoch 34/100\n",
      "341/341 [==============================] - 0s 1ms/step - loss: 0.0816 - accuracy: 0.9765 - val_loss: 0.0468 - val_accuracy: 0.9825\n",
      "Epoch 35/100\n",
      "341/341 [==============================] - 0s 1ms/step - loss: 0.0725 - accuracy: 0.9795 - val_loss: 0.0467 - val_accuracy: 0.9854\n",
      "Epoch 36/100\n",
      "341/341 [==============================] - 0s 1ms/step - loss: 0.0702 - accuracy: 0.9765 - val_loss: 0.0477 - val_accuracy: 0.9854\n",
      "Epoch 37/100\n",
      "341/341 [==============================] - 0s 1ms/step - loss: 0.0716 - accuracy: 0.9765 - val_loss: 0.0482 - val_accuracy: 0.9825\n",
      "Epoch 38/100\n",
      "341/341 [==============================] - 0s 1ms/step - loss: 0.0709 - accuracy: 0.9765 - val_loss: 0.0462 - val_accuracy: 0.9854\n",
      "Epoch 39/100\n",
      "341/341 [==============================] - 0s 1ms/step - loss: 0.0684 - accuracy: 0.9736 - val_loss: 0.0453 - val_accuracy: 0.9825\n",
      "Epoch 40/100\n",
      "341/341 [==============================] - 1s 2ms/step - loss: 0.0675 - accuracy: 0.9765 - val_loss: 0.0470 - val_accuracy: 0.9854\n",
      "Epoch 41/100\n",
      "341/341 [==============================] - 0s 1ms/step - loss: 0.0687 - accuracy: 0.9795 - val_loss: 0.0497 - val_accuracy: 0.9825\n",
      "Epoch 42/100\n",
      "341/341 [==============================] - ETA: 0s - loss: 0.0656 - accuracy: 0.97 - 0s 1ms/step - loss: 0.0670 - accuracy: 0.9765 - val_loss: 0.0470 - val_accuracy: 0.9825\n",
      "Epoch 43/100\n",
      "341/341 [==============================] - 0s 1ms/step - loss: 0.0662 - accuracy: 0.9795 - val_loss: 0.0456 - val_accuracy: 0.9854\n",
      "Epoch 44/100\n",
      "341/341 [==============================] - 0s 1ms/step - loss: 0.0639 - accuracy: 0.9765 - val_loss: 0.0473 - val_accuracy: 0.9825\n",
      "Epoch 45/100\n",
      "341/341 [==============================] - 1s 2ms/step - loss: 0.0625 - accuracy: 0.9795 - val_loss: 0.0491 - val_accuracy: 0.9825\n",
      "Epoch 46/100\n",
      "341/341 [==============================] - 1s 2ms/step - loss: 0.0624 - accuracy: 0.9765 - val_loss: 0.0474 - val_accuracy: 0.9825\n",
      "Epoch 47/100\n",
      "341/341 [==============================] - 1s 2ms/step - loss: 0.0620 - accuracy: 0.9795 - val_loss: 0.0486 - val_accuracy: 0.9825\n",
      "Epoch 48/100\n",
      "341/341 [==============================] - 2s 6ms/step - loss: 0.0596 - accuracy: 0.9795 - val_loss: 0.0486 - val_accuracy: 0.9795\n",
      "Epoch 49/100\n",
      "341/341 [==============================] - 2s 5ms/step - loss: 0.0585 - accuracy: 0.9795 - val_loss: 0.0505 - val_accuracy: 0.9825\n",
      "Epoch 50/100\n",
      "341/341 [==============================] - 2s 5ms/step - loss: 0.0599 - accuracy: 0.9765 - val_loss: 0.0493 - val_accuracy: 0.9795\n",
      "Epoch 51/100\n",
      "341/341 [==============================] - 2s 5ms/step - loss: 0.0581 - accuracy: 0.9765 - val_loss: 0.0501 - val_accuracy: 0.9825\n",
      "Epoch 52/100\n",
      "341/341 [==============================] - 1s 3ms/step - loss: 0.0567 - accuracy: 0.9795 - val_loss: 0.0508 - val_accuracy: 0.9795\n",
      "Epoch 53/100\n",
      "341/341 [==============================] - 2s 5ms/step - loss: 0.0560 - accuracy: 0.9795 - val_loss: 0.0520 - val_accuracy: 0.9825\n",
      "Epoch 54/100\n",
      "341/341 [==============================] - 1s 3ms/step - loss: 0.0568 - accuracy: 0.9765 - val_loss: 0.0516 - val_accuracy: 0.9795\n",
      "Epoch 55/100\n"
     ]
    },
    {
     "name": "stdout",
     "output_type": "stream",
     "text": [
      "341/341 [==============================] - 1s 2ms/step - loss: 0.0542 - accuracy: 0.9824 - val_loss: 0.0513 - val_accuracy: 0.9795\n",
      "Epoch 56/100\n",
      "341/341 [==============================] - 1s 4ms/step - loss: 0.0529 - accuracy: 0.9795 - val_loss: 0.0519 - val_accuracy: 0.9795\n",
      "Epoch 57/100\n",
      "341/341 [==============================] - 2s 7ms/step - loss: 0.0539 - accuracy: 0.9765 - val_loss: 0.0524 - val_accuracy: 0.9825\n",
      "Epoch 58/100\n",
      "341/341 [==============================] - 1s 4ms/step - loss: 0.0524 - accuracy: 0.9795 - val_loss: 0.0533 - val_accuracy: 0.9795\n",
      "Epoch 59/100\n",
      "341/341 [==============================] - 1s 2ms/step - loss: 0.0518 - accuracy: 0.9795 - val_loss: 0.0517 - val_accuracy: 0.9795\n",
      "Epoch 60/100\n",
      "341/341 [==============================] - 0s 824us/step - loss: 0.0537 - accuracy: 0.9765 - val_loss: 0.0529 - val_accuracy: 0.9795\n",
      "Epoch 61/100\n",
      "341/341 [==============================] - 0s 733us/step - loss: 0.0506 - accuracy: 0.9824 - val_loss: 0.0561 - val_accuracy: 0.9854\n",
      "Epoch 62/100\n",
      "341/341 [==============================] - 0s 916us/step - loss: 0.0481 - accuracy: 0.9795 - val_loss: 0.0546 - val_accuracy: 0.9795\n",
      "Epoch 63/100\n",
      "341/341 [==============================] - 0s 1ms/step - loss: 0.0466 - accuracy: 0.9824 - val_loss: 0.0564 - val_accuracy: 0.9795\n",
      "Epoch 64/100\n",
      "341/341 [==============================] - 0s 962us/step - loss: 0.0469 - accuracy: 0.9853 - val_loss: 0.0560 - val_accuracy: 0.9795\n",
      "Epoch 65/100\n",
      "341/341 [==============================] - 0s 916us/step - loss: 0.0463 - accuracy: 0.9853 - val_loss: 0.0577 - val_accuracy: 0.9795\n",
      "Epoch 66/100\n",
      "341/341 [==============================] - 0s 916us/step - loss: 0.0456 - accuracy: 0.9824 - val_loss: 0.0587 - val_accuracy: 0.9766\n",
      "Epoch 67/100\n",
      "341/341 [==============================] - 0s 1ms/step - loss: 0.0437 - accuracy: 0.9853 - val_loss: 0.0621 - val_accuracy: 0.9854\n",
      "Epoch 68/100\n",
      "341/341 [==============================] - 0s 1ms/step - loss: 0.0463 - accuracy: 0.9795 - val_loss: 0.0577 - val_accuracy: 0.9795\n",
      "Epoch 69/100\n",
      "341/341 [==============================] - 0s 916us/step - loss: 0.0427 - accuracy: 0.9824 - val_loss: 0.0600 - val_accuracy: 0.9825\n",
      "Epoch 70/100\n",
      "341/341 [==============================] - 0s 1ms/step - loss: 0.0419 - accuracy: 0.9824 - val_loss: 0.0640 - val_accuracy: 0.9825\n",
      "Epoch 71/100\n",
      "341/341 [==============================] - 0s 916us/step - loss: 0.0427 - accuracy: 0.9853 - val_loss: 0.0603 - val_accuracy: 0.9766\n",
      "Epoch 72/100\n",
      "341/341 [==============================] - 0s 1ms/step - loss: 0.0436 - accuracy: 0.9824 - val_loss: 0.0606 - val_accuracy: 0.9795\n",
      "Epoch 73/100\n",
      "341/341 [==============================] - 0s 1ms/step - loss: 0.0390 - accuracy: 0.9853 - val_loss: 0.0628 - val_accuracy: 0.9795\n",
      "Epoch 74/100\n",
      "341/341 [==============================] - 0s 1ms/step - loss: 0.0384 - accuracy: 0.9853 - val_loss: 0.0645 - val_accuracy: 0.9825\n",
      "Epoch 75/100\n",
      "341/341 [==============================] - 0s 1ms/step - loss: 0.0363 - accuracy: 0.9853 - val_loss: 0.0675 - val_accuracy: 0.9825\n",
      "Epoch 76/100\n",
      "341/341 [==============================] - 0s 1ms/step - loss: 0.0359 - accuracy: 0.9883 - val_loss: 0.0659 - val_accuracy: 0.9825\n",
      "Epoch 77/100\n",
      "341/341 [==============================] - 0s 1ms/step - loss: 0.0368 - accuracy: 0.9883 - val_loss: 0.0656 - val_accuracy: 0.9795\n",
      "Epoch 78/100\n",
      "341/341 [==============================] - 0s 1ms/step - loss: 0.0340 - accuracy: 0.9883 - val_loss: 0.0672 - val_accuracy: 0.9825\n",
      "Epoch 79/100\n",
      "341/341 [==============================] - 0s 1ms/step - loss: 0.0353 - accuracy: 0.9824 - val_loss: 0.0683 - val_accuracy: 0.9795\n",
      "Epoch 80/100\n",
      "341/341 [==============================] - 0s 1ms/step - loss: 0.0349 - accuracy: 0.9853 - val_loss: 0.0683 - val_accuracy: 0.9825\n",
      "Epoch 81/100\n",
      "341/341 [==============================] - 0s 1ms/step - loss: 0.0338 - accuracy: 0.9883 - val_loss: 0.0708 - val_accuracy: 0.9825\n",
      "Epoch 82/100\n",
      "341/341 [==============================] - 0s 1ms/step - loss: 0.0332 - accuracy: 0.9853 - val_loss: 0.0701 - val_accuracy: 0.9825\n",
      "Epoch 83/100\n",
      "341/341 [==============================] - 0s 1ms/step - loss: 0.0299 - accuracy: 0.9883 - val_loss: 0.0714 - val_accuracy: 0.9825\n",
      "Epoch 84/100\n",
      "341/341 [==============================] - 0s 1ms/step - loss: 0.0328 - accuracy: 0.9853 - val_loss: 0.0737 - val_accuracy: 0.9825\n",
      "Epoch 85/100\n",
      "341/341 [==============================] - 0s 1ms/step - loss: 0.0290 - accuracy: 0.9883 - val_loss: 0.0740 - val_accuracy: 0.9825\n",
      "Epoch 86/100\n",
      "341/341 [==============================] - 0s 1ms/step - loss: 0.0279 - accuracy: 0.9883 - val_loss: 0.0772 - val_accuracy: 0.9795\n",
      "Epoch 87/100\n",
      "341/341 [==============================] - 0s 1ms/step - loss: 0.0274 - accuracy: 0.9883 - val_loss: 0.0738 - val_accuracy: 0.9825\n",
      "Epoch 88/100\n",
      "341/341 [==============================] - 0s 1ms/step - loss: 0.0275 - accuracy: 0.9883 - val_loss: 0.0837 - val_accuracy: 0.9766\n",
      "Epoch 89/100\n",
      "341/341 [==============================] - 0s 1ms/step - loss: 0.0259 - accuracy: 0.9883 - val_loss: 0.0756 - val_accuracy: 0.9825\n",
      "Epoch 90/100\n",
      "341/341 [==============================] - 0s 1ms/step - loss: 0.0268 - accuracy: 0.9941 - val_loss: 0.0777 - val_accuracy: 0.9825\n",
      "Epoch 91/100\n",
      "341/341 [==============================] - 0s 1ms/step - loss: 0.0248 - accuracy: 0.9883 - val_loss: 0.0789 - val_accuracy: 0.9825\n",
      "Epoch 92/100\n",
      "341/341 [==============================] - 0s 1ms/step - loss: 0.0236 - accuracy: 0.9941 - val_loss: 0.0831 - val_accuracy: 0.9766\n",
      "Epoch 93/100\n",
      "341/341 [==============================] - 0s 1ms/step - loss: 0.0235 - accuracy: 0.9912 - val_loss: 0.0818 - val_accuracy: 0.9825\n",
      "Epoch 94/100\n",
      "341/341 [==============================] - 0s 1ms/step - loss: 0.0220 - accuracy: 0.9941 - val_loss: 0.0814 - val_accuracy: 0.9825\n",
      "Epoch 95/100\n",
      "341/341 [==============================] - 0s 1ms/step - loss: 0.0228 - accuracy: 0.9941 - val_loss: 0.0836 - val_accuracy: 0.9766\n",
      "Epoch 96/100\n",
      "341/341 [==============================] - 2s 5ms/step - loss: 0.0218 - accuracy: 0.9941 - val_loss: 0.0898 - val_accuracy: 0.9766\n",
      "Epoch 97/100\n",
      "341/341 [==============================] - 1s 2ms/step - loss: 0.0210 - accuracy: 0.9941 - val_loss: 0.0916 - val_accuracy: 0.9766\n",
      "Epoch 98/100\n",
      "341/341 [==============================] - 1s 3ms/step - loss: 0.0195 - accuracy: 0.9971 - val_loss: 0.0943 - val_accuracy: 0.9766\n",
      "Epoch 99/100\n",
      "341/341 [==============================] - 3s 10ms/step - loss: 0.0208 - accuracy: 0.9912 - val_loss: 0.0874 - val_accuracy: 0.9825\n",
      "Epoch 100/100\n",
      "341/341 [==============================] - 2s 7ms/step - loss: 0.0194 - accuracy: 0.9971 - val_loss: 0.0945 - val_accuracy: 0.9766\n"
     ]
    }
   ],
   "source": [
    "history=model.fit(KankerPayudara, Y_categorical, validation_split=0.5, epochs=100, batch_size=12)"
   ]
  },
  {
   "cell_type": "markdown",
   "metadata": {},
   "source": [
    "Objek histori dikembalikan dari panggilan ke fungsi fit () yang digunakan untuk train model.\n",
    "\n",
    "#### Epoch \n",
    "ketika seluruh dataset sudah melalui proses training pada Neural Netwok sampai dikembalikan ke awal untuk sekali putaran (backpropagation). \n",
    "\n",
    "#### Batch Size \n",
    "jumlah sampel data yang disebarkan ke Neural Network. Pada format diatas menggunakan angka 12, jadi dataset akan dibagi menjadi 12 bagian untuk memudahkan index pada saat pelatihan. \n",
    "\n",
    "#### Validation Split\n",
    "Adalah ukuran data yang akan digunakan untuk testing dan training, data training sebesar 0,5 atau 50%, dan data testing sebesar 0,5 atau 50%."
   ]
  },
  {
   "cell_type": "markdown",
   "metadata": {},
   "source": [
    "## Prediksi Model"
   ]
  },
  {
   "cell_type": "code",
   "execution_count": 10,
   "metadata": {
    "scrolled": true
   },
   "outputs": [
    {
     "data": {
      "text/plain": [
       "array([[9.9999881e-01, 1.2338505e-06],\n",
       "       [6.2552160e-01, 3.7447840e-01],\n",
       "       [9.9999988e-01, 1.6565484e-07],\n",
       "       ...,\n",
       "       [5.7595922e-04, 9.9942410e-01],\n",
       "       [1.0743002e-01, 8.9256996e-01],\n",
       "       [2.8273379e-04, 9.9971730e-01]], dtype=float32)"
      ]
     },
     "execution_count": 10,
     "metadata": {},
     "output_type": "execute_result"
    }
   ],
   "source": [
    "predict = model.predict(KankerPayudara)\n",
    "predict"
   ]
  },
  {
   "cell_type": "markdown",
   "metadata": {},
   "source": [
    "Parameter pertama menjadi array numpy, menyediakan daftar yang tidak memiliki atribut bentuk yang memiliki array numpy."
   ]
  },
  {
   "cell_type": "markdown",
   "metadata": {},
   "source": [
    "## Evaliasi Model"
   ]
  },
  {
   "cell_type": "code",
   "execution_count": 11,
   "metadata": {},
   "outputs": [
    {
     "name": "stdout",
     "output_type": "stream",
     "text": [
      "683/683 [==============================] - 1s 1ms/step\n",
      "\n",
      "accuracy: 98.68%\n"
     ]
    }
   ],
   "source": [
    "scores = model.evaluate(KankerPayudara, Y_categorical)\n",
    "print(\"\\n%s: %.2f%%\" % (model.metrics_names[1], scores[1]*100))"
   ]
  },
  {
   "cell_type": "markdown",
   "metadata": {},
   "source": [
    "## Performance"
   ]
  },
  {
   "cell_type": "code",
   "execution_count": 12,
   "metadata": {},
   "outputs": [],
   "source": [
    "from sklearn.metrics import confusion_matrix\n",
    "cm = confusion_matrix(Y_categorical.argmax(axis=1),predict.argmax(axis=1))"
   ]
  },
  {
   "cell_type": "markdown",
   "metadata": {},
   "source": [
    "## Confusion Matrix"
   ]
  },
  {
   "cell_type": "code",
   "execution_count": 13,
   "metadata": {},
   "outputs": [
    {
     "data": {
      "text/plain": [
       "array([[436,   8],\n",
       "       [  1, 238]], dtype=int64)"
      ]
     },
     "execution_count": 13,
     "metadata": {},
     "output_type": "execute_result"
    }
   ],
   "source": [
    "cm"
   ]
  },
  {
   "attachments": {
    "1_Z54JgbS4DUwWSknhDCvNTQ.png": {
     "image/png": "[encoded data removed]"
    }
   },
   "cell_type": "markdown",
   "metadata": {},
   "source": [
    "Confusion matrix adalah Untuk melakukan perhitungan akurasi pada konsep data mining.\n",
    "![1_Z54JgbS4DUwWSknhDCvNTQ.png](attachment:1_Z54JgbS4DUwWSknhDCvNTQ.png)"
   ]
  },
  {
   "cell_type": "code",
   "execution_count": 14,
   "metadata": {},
   "outputs": [
    {
     "name": "stdout",
     "output_type": "stream",
     "text": [
      "\n",
      "Akurasi : 98.68%\n"
     ]
    }
   ],
   "source": [
    "ac = ((436+238)/(436+238+8+1))\n",
    "print(\"\\n%s: %.2f%%\" % (\"Akurasi \", ac*100))"
   ]
  },
  {
   "attachments": {
    "2018-12-06%20%2811%29.png": {
     "image/png": "[encoded data removed]"
    }
   },
   "cell_type": "markdown",
   "metadata": {},
   "source": [
    "Rumus untuk mencari akurasi berdasarkan Confusion Matrix :\n",
    "![2018-12-06%20%2811%29.png](attachment:2018-12-06%20%2811%29.png)"
   ]
  },
  {
   "cell_type": "code",
   "execution_count": 15,
   "metadata": {},
   "outputs": [
    {
     "name": "stdout",
     "output_type": "stream",
     "text": [
      "\n",
      "Presisi: 98.20%\n"
     ]
    }
   ],
   "source": [
    "prec = ((436)/(8+436))\n",
    "print(\"\\n%s: %.2f%%\" %(\"Presisi\", prec*100))"
   ]
  },
  {
   "attachments": {
    "2018-12-06%20%285%29.png": {
     "image/png": "[encoded data removed]"
    }
   },
   "cell_type": "markdown",
   "metadata": {},
   "source": [
    "Rumus untuk mencari presisi berdasarkan Confusion Matrix :\n",
    "![2018-12-06%20%285%29.png](attachment:2018-12-06%20%285%29.png)"
   ]
  },
  {
   "cell_type": "code",
   "execution_count": 16,
   "metadata": {},
   "outputs": [
    {
     "name": "stdout",
     "output_type": "stream",
     "text": [
      "\n",
      "Recall: 99.77%\n"
     ]
    }
   ],
   "source": [
    "rec = ((436)/(1+436))\n",
    "print(\"\\n%s: %.2f%%\" %(\"Recall\", rec*100))"
   ]
  },
  {
   "attachments": {
    "2018-12-06%20%286%29.png": {
     "image/png": "[encoded data removed]"
    }
   },
   "cell_type": "markdown",
   "metadata": {},
   "source": [
    "Rumus untuk mencari recall berdasarkan Confusion Matrix :\n",
    "![2018-12-06%20%286%29.png](attachment:2018-12-06%20%286%29.png)"
   ]
  },
  {
   "cell_type": "code",
   "execution_count": 17,
   "metadata": {},
   "outputs": [
    {
     "name": "stdout",
     "output_type": "stream",
     "text": [
      "\n",
      "Skor True Negative Rate: 0.02%\n"
     ]
    }
   ],
   "source": [
    "TNR = ((8)/(436+8))\n",
    "print(\"\\n%s: %.2f%%\" %(\"Skor True Negative Rate\", TNR))"
   ]
  },
  {
   "cell_type": "code",
   "execution_count": 18,
   "metadata": {},
   "outputs": [],
   "source": [
    "acc = history.history['accuracy']\n",
    "val_acc = history.history['val_accuracy']\n",
    "loss = history.history['loss']\n",
    "val_loss = history.history['val_loss']\n",
    "epochs = range(1, len(acc) + 1)"
   ]
  },
  {
   "cell_type": "markdown",
   "metadata": {},
   "source": [
    "# Model Accuracy"
   ]
  },
  {
   "cell_type": "code",
   "execution_count": 19,
   "metadata": {},
   "outputs": [
    {
     "data": {
      "image/png": "[encoded data removed]",
      "text/plain": [
       "<Figure size 432x288 with 1 Axes>"
      ]
     },
     "metadata": {
      "needs_background": "light"
     },
     "output_type": "display_data"
    }
   ],
   "source": [
    "plt.plot(epochs, acc, 'b',color='yellow', label='Akurasi Training')\n",
    "plt.plot(epochs, val_acc, 'b',color='blue', label='Akurasi Testing')\n",
    "plt.title('Akurasi Training dan Testing')\n",
    "plt.legend()\n",
    "plt.show()"
   ]
  },
  {
   "cell_type": "markdown",
   "metadata": {},
   "source": [
    "# Model Loss"
   ]
  },
  {
   "cell_type": "code",
   "execution_count": 20,
   "metadata": {},
   "outputs": [
    {
     "data": {
      "image/png": "[encoded data removed]",
      "text/plain": [
       "<Figure size 432x288 with 1 Axes>"
      ]
     },
     "metadata": {
      "needs_background": "light"
     },
     "output_type": "display_data"
    }
   ],
   "source": [
    "plt.plot(epochs, loss, 'b',color='yellow', label='Training loss')\n",
    "plt.plot(epochs, val_loss, 'b',color='blue', label='Testing loss')\n",
    "plt.title('Training and Testing loss')\n",
    "plt.legend()\n",
    "plt.show()"
   ]
  },
  {
   "cell_type": "code",
   "execution_count": null,
   "metadata": {},
   "outputs": [],
   "source": []
  },
  {
   "cell_type": "code",
   "execution_count": null,
   "metadata": {},
   "outputs": [],
   "source": []
  },
  {
   "cell_type": "code",
   "execution_count": null,
   "metadata": {},
   "outputs": [],
   "source": []
  },
  {
   "cell_type": "code",
   "execution_count": null,
   "metadata": {},
   "outputs": [],
   "source": []
  },
  {
   "cell_type": "code",
   "execution_count": null,
   "metadata": {},
   "outputs": [],
   "source": []
  }
 ],
 "metadata": {
  "kernelspec": {
   "display_name": "Python 3",
   "language": "python",
   "name": "python3"
  },
  "language_info": {
   "codemirror_mode": {
    "name": "ipython",
    "version": 3
   },
   "file_extension": ".py",
   "mimetype": "text/x-python",
   "name": "python",
   "nbconvert_exporter": "python",
   "pygments_lexer": "ipython3",
   "version": "3.7.3"
  }
 },
 "nbformat": 4,
 "nbformat_minor": 2
}
