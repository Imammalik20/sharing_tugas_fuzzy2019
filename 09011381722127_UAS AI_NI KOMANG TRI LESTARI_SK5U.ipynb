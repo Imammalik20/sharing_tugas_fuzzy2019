{
 "cells": [
  {
   "cell_type": "markdown",
   "metadata": {},
   "source": [
    "# NAMA : Ni komang Tri Lestari\n",
    "\n",
    "# NIM  : 09011381722127\n",
    "\n",
    "# KELAS : SK5U"
   ]
  },
  {
   "cell_type": "markdown",
   "metadata": {},
   "source": [
    "# BREAST CANCER DIAGNOSIS USING ANN"
   ]
  },
  {
   "cell_type": "markdown",
   "metadata": {},
   "source": [
    "# Referensi \n",
    "\n",
    "Paper: Breast Cancer Diagnosis Using ANN\n",
    "\n",
    "Dataset: https://www.kaggle.com/sandeep3031/breast-cancer-diagnosis-using-ann"
   ]
  },
  {
   "cell_type": "markdown",
   "metadata": {},
   "source": [
    "kanker payudara adalah suatu kanker yang terbentuk di sel-sel payudara. lebih dari 150 ribu per tahun(indonesia) terkena kanker payudara. kanker payudara dapat ditangani oleh tenaga medis profesional, membutuhkan diagnosis medis dan selalu memerlukan uji  laboratorium. \n",
    "\n",
    "Dataset ini merupakan data dari rumah sakit yang memberitahukan berapa banyak orang yang di diagnosis kanker payudara yang ganas maupun jinak."
   ]
  },
  {
   "cell_type": "markdown",
   "metadata": {},
   "source": [
    "# Import Library"
   ]
  },
  {
   "cell_type": "code",
   "execution_count": 1,
   "metadata": {},
   "outputs": [],
   "source": [
    "import pandas as pd\n",
    "import numpy as np\n",
    "from sklearn.model_selection import train_test_split\n",
    "from sklearn.preprocessing import StandardScaler\n",
    "import matplotlib.pyplot as plt\n",
    "import warnings\n",
    "warnings.filterwarnings(\"ignore\")"
   ]
  },
  {
   "cell_type": "markdown",
   "metadata": {},
   "source": [
    " pertama-tama yang kita lakukan adalah mengimport library yang akan digunakan:\n",
    "1. Library pandas\n",
    "    berfungsi untuk membaca file dataset dalam bentuk. CVS\n",
    "    \n",
    "2. Library Numpy \n",
    "   berfungsi untuk mengolah data dalam bentuk angka (array)\n",
    "  \n",
    "3. Library sklearn.model_selection\n",
    "\n",
    "4. library sklearn.preprocessing\n",
    "\n",
    "5. Library Matplotlib \n",
    "   berfungsi untuk membantu visualisasi dataset sehingga memudahkan untuk dipahami\n",
    "    \n",
    "6. library warnings\n",
    "  "
   ]
  },
  {
   "cell_type": "markdown",
   "metadata": {},
   "source": [
    "# Reading Data"
   ]
  },
  {
   "cell_type": "code",
   "execution_count": 2,
   "metadata": {},
   "outputs": [],
   "source": [
    "data=pd.read_csv(\"breast-cancer-wisconsin-data.csv\")"
   ]
  },
  {
   "cell_type": "markdown",
   "metadata": {},
   "source": [
    "#  Uderstanding Data"
   ]
  },
  {
   "cell_type": "code",
   "execution_count": 3,
   "metadata": {},
   "outputs": [
    {
     "data": {
      "text/html": [
       "<div>\n",
       "<style scoped>\n",
       "    .dataframe tbody tr th:only-of-type {\n",
       "        vertical-align: middle;\n",
       "    }\n",
       "\n",
       "    .dataframe tbody tr th {\n",
       "        vertical-align: top;\n",
       "    }\n",
       "\n",
       "    .dataframe thead th {\n",
       "        text-align: right;\n",
       "    }\n",
       "</style>\n",
       "<table border=\"1\" class=\"dataframe\">\n",
       "  <thead>\n",
       "    <tr style=\"text-align: right;\">\n",
       "      <th></th>\n",
       "      <th>id</th>\n",
       "      <th>diagnosis</th>\n",
       "      <th>radius_mean</th>\n",
       "      <th>texture_mean</th>\n",
       "      <th>perimeter_mean</th>\n",
       "      <th>area_mean</th>\n",
       "      <th>smoothness_mean</th>\n",
       "      <th>compactness_mean</th>\n",
       "      <th>concavity_mean</th>\n",
       "      <th>concave points_mean</th>\n",
       "      <th>...</th>\n",
       "      <th>texture_worst</th>\n",
       "      <th>perimeter_worst</th>\n",
       "      <th>area_worst</th>\n",
       "      <th>smoothness_worst</th>\n",
       "      <th>compactness_worst</th>\n",
       "      <th>concavity_worst</th>\n",
       "      <th>concave points_worst</th>\n",
       "      <th>symmetry_worst</th>\n",
       "      <th>fractal_dimension_worst</th>\n",
       "      <th>Unnamed: 32</th>\n",
       "    </tr>\n",
       "  </thead>\n",
       "  <tbody>\n",
       "    <tr>\n",
       "      <th>0</th>\n",
       "      <td>842302</td>\n",
       "      <td>M</td>\n",
       "      <td>17.99</td>\n",
       "      <td>10.38</td>\n",
       "      <td>122.80</td>\n",
       "      <td>1001.0</td>\n",
       "      <td>0.11840</td>\n",
       "      <td>0.27760</td>\n",
       "      <td>0.3001</td>\n",
       "      <td>0.14710</td>\n",
       "      <td>...</td>\n",
       "      <td>17.33</td>\n",
       "      <td>184.60</td>\n",
       "      <td>2019.0</td>\n",
       "      <td>0.1622</td>\n",
       "      <td>0.6656</td>\n",
       "      <td>0.7119</td>\n",
       "      <td>0.2654</td>\n",
       "      <td>0.4601</td>\n",
       "      <td>0.11890</td>\n",
       "      <td>NaN</td>\n",
       "    </tr>\n",
       "    <tr>\n",
       "      <th>1</th>\n",
       "      <td>842517</td>\n",
       "      <td>M</td>\n",
       "      <td>20.57</td>\n",
       "      <td>17.77</td>\n",
       "      <td>132.90</td>\n",
       "      <td>1326.0</td>\n",
       "      <td>0.08474</td>\n",
       "      <td>0.07864</td>\n",
       "      <td>0.0869</td>\n",
       "      <td>0.07017</td>\n",
       "      <td>...</td>\n",
       "      <td>23.41</td>\n",
       "      <td>158.80</td>\n",
       "      <td>1956.0</td>\n",
       "      <td>0.1238</td>\n",
       "      <td>0.1866</td>\n",
       "      <td>0.2416</td>\n",
       "      <td>0.1860</td>\n",
       "      <td>0.2750</td>\n",
       "      <td>0.08902</td>\n",
       "      <td>NaN</td>\n",
       "    </tr>\n",
       "    <tr>\n",
       "      <th>2</th>\n",
       "      <td>84300903</td>\n",
       "      <td>M</td>\n",
       "      <td>19.69</td>\n",
       "      <td>21.25</td>\n",
       "      <td>130.00</td>\n",
       "      <td>1203.0</td>\n",
       "      <td>0.10960</td>\n",
       "      <td>0.15990</td>\n",
       "      <td>0.1974</td>\n",
       "      <td>0.12790</td>\n",
       "      <td>...</td>\n",
       "      <td>25.53</td>\n",
       "      <td>152.50</td>\n",
       "      <td>1709.0</td>\n",
       "      <td>0.1444</td>\n",
       "      <td>0.4245</td>\n",
       "      <td>0.4504</td>\n",
       "      <td>0.2430</td>\n",
       "      <td>0.3613</td>\n",
       "      <td>0.08758</td>\n",
       "      <td>NaN</td>\n",
       "    </tr>\n",
       "    <tr>\n",
       "      <th>3</th>\n",
       "      <td>84348301</td>\n",
       "      <td>M</td>\n",
       "      <td>11.42</td>\n",
       "      <td>20.38</td>\n",
       "      <td>77.58</td>\n",
       "      <td>386.1</td>\n",
       "      <td>0.14250</td>\n",
       "      <td>0.28390</td>\n",
       "      <td>0.2414</td>\n",
       "      <td>0.10520</td>\n",
       "      <td>...</td>\n",
       "      <td>26.50</td>\n",
       "      <td>98.87</td>\n",
       "      <td>567.7</td>\n",
       "      <td>0.2098</td>\n",
       "      <td>0.8663</td>\n",
       "      <td>0.6869</td>\n",
       "      <td>0.2575</td>\n",
       "      <td>0.6638</td>\n",
       "      <td>0.17300</td>\n",
       "      <td>NaN</td>\n",
       "    </tr>\n",
       "    <tr>\n",
       "      <th>4</th>\n",
       "      <td>84358402</td>\n",
       "      <td>M</td>\n",
       "      <td>20.29</td>\n",
       "      <td>14.34</td>\n",
       "      <td>135.10</td>\n",
       "      <td>1297.0</td>\n",
       "      <td>0.10030</td>\n",
       "      <td>0.13280</td>\n",
       "      <td>0.1980</td>\n",
       "      <td>0.10430</td>\n",
       "      <td>...</td>\n",
       "      <td>16.67</td>\n",
       "      <td>152.20</td>\n",
       "      <td>1575.0</td>\n",
       "      <td>0.1374</td>\n",
       "      <td>0.2050</td>\n",
       "      <td>0.4000</td>\n",
       "      <td>0.1625</td>\n",
       "      <td>0.2364</td>\n",
       "      <td>0.07678</td>\n",
       "      <td>NaN</td>\n",
       "    </tr>\n",
       "  </tbody>\n",
       "</table>\n",
       "<p>5 rows × 33 columns</p>\n",
       "</div>"
      ],
      "text/plain": [
       "         id diagnosis  radius_mean  texture_mean  perimeter_mean  area_mean  \\\n",
       "0    842302         M        17.99         10.38          122.80     1001.0   \n",
       "1    842517         M        20.57         17.77          132.90     1326.0   \n",
       "2  84300903         M        19.69         21.25          130.00     1203.0   \n",
       "3  84348301         M        11.42         20.38           77.58      386.1   \n",
       "4  84358402         M        20.29         14.34          135.10     1297.0   \n",
       "\n",
       "   smoothness_mean  compactness_mean  concavity_mean  concave points_mean  \\\n",
       "0          0.11840           0.27760          0.3001              0.14710   \n",
       "1          0.08474           0.07864          0.0869              0.07017   \n",
       "2          0.10960           0.15990          0.1974              0.12790   \n",
       "3          0.14250           0.28390          0.2414              0.10520   \n",
       "4          0.10030           0.13280          0.1980              0.10430   \n",
       "\n",
       "   ...  texture_worst  perimeter_worst  area_worst  smoothness_worst  \\\n",
       "0  ...          17.33           184.60      2019.0            0.1622   \n",
       "1  ...          23.41           158.80      1956.0            0.1238   \n",
       "2  ...          25.53           152.50      1709.0            0.1444   \n",
       "3  ...          26.50            98.87       567.7            0.2098   \n",
       "4  ...          16.67           152.20      1575.0            0.1374   \n",
       "\n",
       "   compactness_worst  concavity_worst  concave points_worst  symmetry_worst  \\\n",
       "0             0.6656           0.7119                0.2654          0.4601   \n",
       "1             0.1866           0.2416                0.1860          0.2750   \n",
       "2             0.4245           0.4504                0.2430          0.3613   \n",
       "3             0.8663           0.6869                0.2575          0.6638   \n",
       "4             0.2050           0.4000                0.1625          0.2364   \n",
       "\n",
       "   fractal_dimension_worst  Unnamed: 32  \n",
       "0                  0.11890          NaN  \n",
       "1                  0.08902          NaN  \n",
       "2                  0.08758          NaN  \n",
       "3                  0.17300          NaN  \n",
       "4                  0.07678          NaN  \n",
       "\n",
       "[5 rows x 33 columns]"
      ]
     },
     "execution_count": 3,
     "metadata": {},
     "output_type": "execute_result"
    }
   ],
   "source": [
    "data.head()"
   ]
  },
  {
   "cell_type": "markdown",
   "metadata": {},
   "source": [
    "Pada data diatas dapat di lihat bahwa diagnosis dilambangkan dengan M dimana M adalah ganas dan jika B adalah jinak.\n",
    "diatas itu adalah M, jadi data diagnosis kanker payudara adalah ganas."
   ]
  },
  {
   "cell_type": "markdown",
   "metadata": {},
   "source": [
    "# Deleting unwanted colums"
   ]
  },
  {
   "cell_type": "code",
   "execution_count": 4,
   "metadata": {},
   "outputs": [],
   "source": [
    "drop_cols=[\"id\",\"Unnamed: 32\"]\n",
    "data.drop(drop_cols,axis=1,inplace=True)"
   ]
  },
  {
   "cell_type": "code",
   "execution_count": 5,
   "metadata": {},
   "outputs": [
    {
     "data": {
      "text/plain": [
       "Index(['diagnosis', 'radius_mean', 'texture_mean', 'perimeter_mean',\n",
       "       'area_mean', 'smoothness_mean', 'compactness_mean', 'concavity_mean',\n",
       "       'concave points_mean', 'symmetry_mean', 'fractal_dimension_mean',\n",
       "       'radius_se', 'texture_se', 'perimeter_se', 'area_se', 'smoothness_se',\n",
       "       'compactness_se', 'concavity_se', 'concave points_se', 'symmetry_se',\n",
       "       'fractal_dimension_se', 'radius_worst', 'texture_worst',\n",
       "       'perimeter_worst', 'area_worst', 'smoothness_worst',\n",
       "       'compactness_worst', 'concavity_worst', 'concave points_worst',\n",
       "       'symmetry_worst', 'fractal_dimension_worst'],\n",
       "      dtype='object')"
      ]
     },
     "execution_count": 5,
     "metadata": {},
     "output_type": "execute_result"
    }
   ],
   "source": [
    "data.columns"
   ]
  },
  {
   "cell_type": "markdown",
   "metadata": {},
   "source": [
    "# Checking The Null values"
   ]
  },
  {
   "cell_type": "markdown",
   "metadata": {},
   "source": [
    "Setelah saya mengimport dataset, saya melakukan pegecekaan terhadap dataset saya, apakah data tersebut sudah bersih atau masih ada data kosong."
   ]
  },
  {
   "cell_type": "code",
   "execution_count": 6,
   "metadata": {},
   "outputs": [
    {
     "data": {
      "text/plain": [
       "diagnosis                  0\n",
       "radius_mean                0\n",
       "texture_mean               0\n",
       "perimeter_mean             0\n",
       "area_mean                  0\n",
       "smoothness_mean            0\n",
       "compactness_mean           0\n",
       "concavity_mean             0\n",
       "concave points_mean        0\n",
       "symmetry_mean              0\n",
       "fractal_dimension_mean     0\n",
       "radius_se                  0\n",
       "texture_se                 0\n",
       "perimeter_se               0\n",
       "area_se                    0\n",
       "smoothness_se              0\n",
       "compactness_se             0\n",
       "concavity_se               0\n",
       "concave points_se          0\n",
       "symmetry_se                0\n",
       "fractal_dimension_se       0\n",
       "radius_worst               0\n",
       "texture_worst              0\n",
       "perimeter_worst            0\n",
       "area_worst                 0\n",
       "smoothness_worst           0\n",
       "compactness_worst          0\n",
       "concavity_worst            0\n",
       "concave points_worst       0\n",
       "symmetry_worst             0\n",
       "fractal_dimension_worst    0\n",
       "dtype: int64"
      ]
     },
     "execution_count": 6,
     "metadata": {},
     "output_type": "execute_result"
    }
   ],
   "source": [
    "data.isna().sum()"
   ]
  },
  {
   "cell_type": "markdown",
   "metadata": {},
   "source": [
    "#  Converting M to 1 and B to 0 "
   ]
  },
  {
   "cell_type": "code",
   "execution_count": 7,
   "metadata": {},
   "outputs": [],
   "source": [
    "data['diagnosis']=[1 if x=='M' else 0 for x in data['diagnosis']]"
   ]
  },
  {
   "cell_type": "code",
   "execution_count": 8,
   "metadata": {},
   "outputs": [
    {
     "data": {
      "text/plain": [
       "0    357\n",
       "1    212\n",
       "Name: diagnosis, dtype: int64"
      ]
     },
     "execution_count": 8,
     "metadata": {},
     "output_type": "execute_result"
    }
   ],
   "source": [
    "data.diagnosis.value_counts()"
   ]
  },
  {
   "cell_type": "markdown",
   "metadata": {},
   "source": [
    "Jadi hasilnya adalah diagnosis kanker payudara B(jinak)= 0 berjumlah 357 dan M(ganas)= 1 berjumlah 212."
   ]
  },
  {
   "cell_type": "markdown",
   "metadata": {},
   "source": [
    "# Separating the dependent and independent features"
   ]
  },
  {
   "cell_type": "code",
   "execution_count": 9,
   "metadata": {},
   "outputs": [],
   "source": [
    "y=data.diagnosis\n",
    "X=data\n",
    "X.drop(\"diagnosis\",axis=1,inplace=True)"
   ]
  },
  {
   "cell_type": "code",
   "execution_count": 10,
   "metadata": {},
   "outputs": [
    {
     "data": {
      "text/html": [
       "<div>\n",
       "<style scoped>\n",
       "    .dataframe tbody tr th:only-of-type {\n",
       "        vertical-align: middle;\n",
       "    }\n",
       "\n",
       "    .dataframe tbody tr th {\n",
       "        vertical-align: top;\n",
       "    }\n",
       "\n",
       "    .dataframe thead th {\n",
       "        text-align: right;\n",
       "    }\n",
       "</style>\n",
       "<table border=\"1\" class=\"dataframe\">\n",
       "  <thead>\n",
       "    <tr style=\"text-align: right;\">\n",
       "      <th></th>\n",
       "      <th>radius_mean</th>\n",
       "      <th>texture_mean</th>\n",
       "      <th>perimeter_mean</th>\n",
       "      <th>area_mean</th>\n",
       "      <th>smoothness_mean</th>\n",
       "      <th>compactness_mean</th>\n",
       "      <th>concavity_mean</th>\n",
       "      <th>concave points_mean</th>\n",
       "      <th>symmetry_mean</th>\n",
       "      <th>fractal_dimension_mean</th>\n",
       "      <th>...</th>\n",
       "      <th>radius_worst</th>\n",
       "      <th>texture_worst</th>\n",
       "      <th>perimeter_worst</th>\n",
       "      <th>area_worst</th>\n",
       "      <th>smoothness_worst</th>\n",
       "      <th>compactness_worst</th>\n",
       "      <th>concavity_worst</th>\n",
       "      <th>concave points_worst</th>\n",
       "      <th>symmetry_worst</th>\n",
       "      <th>fractal_dimension_worst</th>\n",
       "    </tr>\n",
       "  </thead>\n",
       "  <tbody>\n",
       "    <tr>\n",
       "      <th>0</th>\n",
       "      <td>17.99</td>\n",
       "      <td>10.38</td>\n",
       "      <td>122.80</td>\n",
       "      <td>1001.0</td>\n",
       "      <td>0.11840</td>\n",
       "      <td>0.27760</td>\n",
       "      <td>0.3001</td>\n",
       "      <td>0.14710</td>\n",
       "      <td>0.2419</td>\n",
       "      <td>0.07871</td>\n",
       "      <td>...</td>\n",
       "      <td>25.38</td>\n",
       "      <td>17.33</td>\n",
       "      <td>184.60</td>\n",
       "      <td>2019.0</td>\n",
       "      <td>0.1622</td>\n",
       "      <td>0.6656</td>\n",
       "      <td>0.7119</td>\n",
       "      <td>0.2654</td>\n",
       "      <td>0.4601</td>\n",
       "      <td>0.11890</td>\n",
       "    </tr>\n",
       "    <tr>\n",
       "      <th>1</th>\n",
       "      <td>20.57</td>\n",
       "      <td>17.77</td>\n",
       "      <td>132.90</td>\n",
       "      <td>1326.0</td>\n",
       "      <td>0.08474</td>\n",
       "      <td>0.07864</td>\n",
       "      <td>0.0869</td>\n",
       "      <td>0.07017</td>\n",
       "      <td>0.1812</td>\n",
       "      <td>0.05667</td>\n",
       "      <td>...</td>\n",
       "      <td>24.99</td>\n",
       "      <td>23.41</td>\n",
       "      <td>158.80</td>\n",
       "      <td>1956.0</td>\n",
       "      <td>0.1238</td>\n",
       "      <td>0.1866</td>\n",
       "      <td>0.2416</td>\n",
       "      <td>0.1860</td>\n",
       "      <td>0.2750</td>\n",
       "      <td>0.08902</td>\n",
       "    </tr>\n",
       "    <tr>\n",
       "      <th>2</th>\n",
       "      <td>19.69</td>\n",
       "      <td>21.25</td>\n",
       "      <td>130.00</td>\n",
       "      <td>1203.0</td>\n",
       "      <td>0.10960</td>\n",
       "      <td>0.15990</td>\n",
       "      <td>0.1974</td>\n",
       "      <td>0.12790</td>\n",
       "      <td>0.2069</td>\n",
       "      <td>0.05999</td>\n",
       "      <td>...</td>\n",
       "      <td>23.57</td>\n",
       "      <td>25.53</td>\n",
       "      <td>152.50</td>\n",
       "      <td>1709.0</td>\n",
       "      <td>0.1444</td>\n",
       "      <td>0.4245</td>\n",
       "      <td>0.4504</td>\n",
       "      <td>0.2430</td>\n",
       "      <td>0.3613</td>\n",
       "      <td>0.08758</td>\n",
       "    </tr>\n",
       "    <tr>\n",
       "      <th>3</th>\n",
       "      <td>11.42</td>\n",
       "      <td>20.38</td>\n",
       "      <td>77.58</td>\n",
       "      <td>386.1</td>\n",
       "      <td>0.14250</td>\n",
       "      <td>0.28390</td>\n",
       "      <td>0.2414</td>\n",
       "      <td>0.10520</td>\n",
       "      <td>0.2597</td>\n",
       "      <td>0.09744</td>\n",
       "      <td>...</td>\n",
       "      <td>14.91</td>\n",
       "      <td>26.50</td>\n",
       "      <td>98.87</td>\n",
       "      <td>567.7</td>\n",
       "      <td>0.2098</td>\n",
       "      <td>0.8663</td>\n",
       "      <td>0.6869</td>\n",
       "      <td>0.2575</td>\n",
       "      <td>0.6638</td>\n",
       "      <td>0.17300</td>\n",
       "    </tr>\n",
       "    <tr>\n",
       "      <th>4</th>\n",
       "      <td>20.29</td>\n",
       "      <td>14.34</td>\n",
       "      <td>135.10</td>\n",
       "      <td>1297.0</td>\n",
       "      <td>0.10030</td>\n",
       "      <td>0.13280</td>\n",
       "      <td>0.1980</td>\n",
       "      <td>0.10430</td>\n",
       "      <td>0.1809</td>\n",
       "      <td>0.05883</td>\n",
       "      <td>...</td>\n",
       "      <td>22.54</td>\n",
       "      <td>16.67</td>\n",
       "      <td>152.20</td>\n",
       "      <td>1575.0</td>\n",
       "      <td>0.1374</td>\n",
       "      <td>0.2050</td>\n",
       "      <td>0.4000</td>\n",
       "      <td>0.1625</td>\n",
       "      <td>0.2364</td>\n",
       "      <td>0.07678</td>\n",
       "    </tr>\n",
       "  </tbody>\n",
       "</table>\n",
       "<p>5 rows × 30 columns</p>\n",
       "</div>"
      ],
      "text/plain": [
       "   radius_mean  texture_mean  perimeter_mean  area_mean  smoothness_mean  \\\n",
       "0        17.99         10.38          122.80     1001.0          0.11840   \n",
       "1        20.57         17.77          132.90     1326.0          0.08474   \n",
       "2        19.69         21.25          130.00     1203.0          0.10960   \n",
       "3        11.42         20.38           77.58      386.1          0.14250   \n",
       "4        20.29         14.34          135.10     1297.0          0.10030   \n",
       "\n",
       "   compactness_mean  concavity_mean  concave points_mean  symmetry_mean  \\\n",
       "0           0.27760          0.3001              0.14710         0.2419   \n",
       "1           0.07864          0.0869              0.07017         0.1812   \n",
       "2           0.15990          0.1974              0.12790         0.2069   \n",
       "3           0.28390          0.2414              0.10520         0.2597   \n",
       "4           0.13280          0.1980              0.10430         0.1809   \n",
       "\n",
       "   fractal_dimension_mean  ...  radius_worst  texture_worst  perimeter_worst  \\\n",
       "0                 0.07871  ...         25.38          17.33           184.60   \n",
       "1                 0.05667  ...         24.99          23.41           158.80   \n",
       "2                 0.05999  ...         23.57          25.53           152.50   \n",
       "3                 0.09744  ...         14.91          26.50            98.87   \n",
       "4                 0.05883  ...         22.54          16.67           152.20   \n",
       "\n",
       "   area_worst  smoothness_worst  compactness_worst  concavity_worst  \\\n",
       "0      2019.0            0.1622             0.6656           0.7119   \n",
       "1      1956.0            0.1238             0.1866           0.2416   \n",
       "2      1709.0            0.1444             0.4245           0.4504   \n",
       "3       567.7            0.2098             0.8663           0.6869   \n",
       "4      1575.0            0.1374             0.2050           0.4000   \n",
       "\n",
       "   concave points_worst  symmetry_worst  fractal_dimension_worst  \n",
       "0                0.2654          0.4601                  0.11890  \n",
       "1                0.1860          0.2750                  0.08902  \n",
       "2                0.2430          0.3613                  0.08758  \n",
       "3                0.2575          0.6638                  0.17300  \n",
       "4                0.1625          0.2364                  0.07678  \n",
       "\n",
       "[5 rows x 30 columns]"
      ]
     },
     "execution_count": 10,
     "metadata": {},
     "output_type": "execute_result"
    }
   ],
   "source": [
    "X.head()"
   ]
  },
  {
   "cell_type": "markdown",
   "metadata": {},
   "source": [
    "variabel independen(variabel Bebas) adalah variabel yang mempengaruhi atau sebab perubahan timbulnya variabel terikat yaitu dependen.  pada data diatas terdapat beberapa variabel bebas dan tidak bebas, diantaranya adalah sebagai berikut:\n",
    "1. rata-rata radius berjumlah (17.99) (20.57) (19.69) (1.42) (20.29)\n",
    "2. rata-rata tekstur berjumlah (10.38) (17.77) (21.25) (20.38) (14.34)\n",
    "3. rata-rata perimeter berjumlah (122.80( (132.90) (130.00) (77.58) (135.10)\n",
    "4. rata-rata area berjumlah (1001.0) (1326.0) (1203.0) (386.1) (1297.0)\n",
    "5. rata-rata kehalusan berjumlah (0.11840) (0.08474) (0.10960) (0.14250) (0.10030)\n",
    "6. rata-rata kekompakan berjumlah (0.27760) (0.07864) (0.15990) (0.28390) (0.132800)\n",
    "7. rata-rata konkavitas berjumlah (0.3001) (0.0869) (0.1974) (0.2414) (0.1980)\n",
    "8. rata-rata titik cekung berjumlah (0.14710) (0.07017) (0.12790) (0.10520) (0.10430)\n",
    "9. rata-rata simetri berjumlah (0.2419) (0.1812) (0.2069) (0.2597) (0.1809)\n",
    "10. rata-rata dimensi fraktal berjumlah (0.07871) (0.05667) (0.05999) (0.09744) (0.05883)\n",
    "11. radius terburuk berjumlah (25.38) (24.99) (23.57) (14.91) (22.54)\n",
    "12. tekstur terburuk berjumlah (17.33) (23.41) (25.53) (26.50) (16.67)\n",
    "13. premeter terburuk berjumlah (184.60) (158.80) (152.50) (98.87) (152.20)\n",
    "14. daerah yang lebih buruk berjumlah (2019.0) (1956.0) (1709.0) (567.7) (1575.0)\n",
    "15. kelancaran terburuk berjumlah (0.1622) (0.1238) (0.1444) (0.2098) (0.1374)\n",
    "16. kekompakan terburuk berjumlah (0.6656) (0.1866) (0.4245) (0.8663) (0.2050)\n",
    "17. cekung terburuk berjumlah (0.7119) (0.2416) (0.4504) (0.6869) (0.4000)      \n",
    "18. cat cekung terburuk berjumlah (0.2654) (0.1860) (0.2430) (0.2575) (0.1625)\n",
    "19. simetri terburuk berjumlah (0.4601) (0.2750) (0.3613) (0.6638) (0.2364)\n",
    "20. dimensi fraktal terburuk berjumlah (0.11890) (0.08902) (0.08758) (0.17300) (0.07678)\n"
   ]
  },
  {
   "cell_type": "markdown",
   "metadata": {},
   "source": [
    "# Spliting and modelling"
   ]
  },
  {
   "cell_type": "code",
   "execution_count": 11,
   "metadata": {},
   "outputs": [
    {
     "name": "stdout",
     "output_type": "stream",
     "text": [
      "(398, 30)\n",
      "(171, 30)\n",
      "(398,)\n",
      "(171,)\n"
     ]
    }
   ],
   "source": [
    "train_X,test_X,train_y,test_y=train_test_split(X,y,test_size=0.3,random_state=123)\n",
    "print(train_X.shape)\n",
    "print(test_X.shape)\n",
    "print(train_y.shape)\n",
    "print(test_y.shape)"
   ]
  },
  {
   "cell_type": "markdown",
   "metadata": {},
   "source": [
    "1. jadi pada train_X.shape jumlahnya 398 dan 30\n",
    "2. pada test_X.shape jumlahnya adalah 171 dan 30\n",
    "3. train_y.shape jumlahnya 398\n",
    "4. test_y.shape jumlahnya 171."
   ]
  },
  {
   "cell_type": "markdown",
   "metadata": {},
   "source": [
    "# Standardizing the data"
   ]
  },
  {
   "cell_type": "code",
   "execution_count": 12,
   "metadata": {},
   "outputs": [],
   "source": [
    "std=StandardScaler()\n",
    "std.fit(train_X)\n",
    "train_X=pd.DataFrame(std.transform(train_X),index=train_X.index)\n",
    "test_X=pd.DataFrame(std.transform(test_X),index=test_X.index)"
   ]
  },
  {
   "cell_type": "code",
   "execution_count": 13,
   "metadata": {},
   "outputs": [
    {
     "data": {
      "text/html": [
       "<div>\n",
       "<style scoped>\n",
       "    .dataframe tbody tr th:only-of-type {\n",
       "        vertical-align: middle;\n",
       "    }\n",
       "\n",
       "    .dataframe tbody tr th {\n",
       "        vertical-align: top;\n",
       "    }\n",
       "\n",
       "    .dataframe thead th {\n",
       "        text-align: right;\n",
       "    }\n",
       "</style>\n",
       "<table border=\"1\" class=\"dataframe\">\n",
       "  <thead>\n",
       "    <tr style=\"text-align: right;\">\n",
       "      <th></th>\n",
       "      <th>0</th>\n",
       "      <th>1</th>\n",
       "      <th>2</th>\n",
       "      <th>3</th>\n",
       "      <th>4</th>\n",
       "      <th>5</th>\n",
       "      <th>6</th>\n",
       "      <th>7</th>\n",
       "      <th>8</th>\n",
       "      <th>9</th>\n",
       "      <th>...</th>\n",
       "      <th>20</th>\n",
       "      <th>21</th>\n",
       "      <th>22</th>\n",
       "      <th>23</th>\n",
       "      <th>24</th>\n",
       "      <th>25</th>\n",
       "      <th>26</th>\n",
       "      <th>27</th>\n",
       "      <th>28</th>\n",
       "      <th>29</th>\n",
       "    </tr>\n",
       "  </thead>\n",
       "  <tbody>\n",
       "    <tr>\n",
       "      <th>559</th>\n",
       "      <td>-0.754501</td>\n",
       "      <td>1.016591</td>\n",
       "      <td>-0.731287</td>\n",
       "      <td>-0.732655</td>\n",
       "      <td>-0.244628</td>\n",
       "      <td>-0.046204</td>\n",
       "      <td>0.276113</td>\n",
       "      <td>-0.209613</td>\n",
       "      <td>-1.463648</td>\n",
       "      <td>0.393141</td>\n",
       "      <td>...</td>\n",
       "      <td>-0.786560</td>\n",
       "      <td>1.835601</td>\n",
       "      <td>-0.748038</td>\n",
       "      <td>-0.715894</td>\n",
       "      <td>-0.048296</td>\n",
       "      <td>0.013325</td>\n",
       "      <td>0.464941</td>\n",
       "      <td>-0.272555</td>\n",
       "      <td>-1.224122</td>\n",
       "      <td>0.246375</td>\n",
       "    </tr>\n",
       "    <tr>\n",
       "      <th>295</th>\n",
       "      <td>-0.107318</td>\n",
       "      <td>-1.377551</td>\n",
       "      <td>-0.167357</td>\n",
       "      <td>-0.212302</td>\n",
       "      <td>-0.290236</td>\n",
       "      <td>-0.806690</td>\n",
       "      <td>-0.982285</td>\n",
       "      <td>-0.780715</td>\n",
       "      <td>-0.758709</td>\n",
       "      <td>-0.498156</td>\n",
       "      <td>...</td>\n",
       "      <td>-0.330400</td>\n",
       "      <td>-1.399872</td>\n",
       "      <td>-0.391399</td>\n",
       "      <td>-0.384622</td>\n",
       "      <td>-0.624296</td>\n",
       "      <td>-0.968536</td>\n",
       "      <td>-1.127291</td>\n",
       "      <td>-0.871529</td>\n",
       "      <td>-0.081993</td>\n",
       "      <td>-0.899752</td>\n",
       "    </tr>\n",
       "    <tr>\n",
       "      <th>264</th>\n",
       "      <td>0.872048</td>\n",
       "      <td>0.598852</td>\n",
       "      <td>0.813064</td>\n",
       "      <td>0.791235</td>\n",
       "      <td>0.092006</td>\n",
       "      <td>-0.277838</td>\n",
       "      <td>0.018477</td>\n",
       "      <td>0.422567</td>\n",
       "      <td>0.191577</td>\n",
       "      <td>-0.947868</td>\n",
       "      <td>...</td>\n",
       "      <td>1.108900</td>\n",
       "      <td>0.583315</td>\n",
       "      <td>0.998261</td>\n",
       "      <td>0.988855</td>\n",
       "      <td>1.121705</td>\n",
       "      <td>0.047299</td>\n",
       "      <td>0.591565</td>\n",
       "      <td>1.311903</td>\n",
       "      <td>0.549310</td>\n",
       "      <td>-0.440828</td>\n",
       "    </tr>\n",
       "    <tr>\n",
       "      <th>125</th>\n",
       "      <td>-0.084408</td>\n",
       "      <td>-0.492662</td>\n",
       "      <td>-0.151531</td>\n",
       "      <td>-0.194880</td>\n",
       "      <td>-0.589225</td>\n",
       "      <td>-0.822895</td>\n",
       "      <td>-0.937614</td>\n",
       "      <td>-0.983264</td>\n",
       "      <td>-0.682686</td>\n",
       "      <td>-0.527956</td>\n",
       "      <td>...</td>\n",
       "      <td>-0.159600</td>\n",
       "      <td>-0.336308</td>\n",
       "      <td>-0.207531</td>\n",
       "      <td>-0.269767</td>\n",
       "      <td>-0.682796</td>\n",
       "      <td>-0.779638</td>\n",
       "      <td>-0.913008</td>\n",
       "      <td>-0.980094</td>\n",
       "      <td>-0.819317</td>\n",
       "      <td>-0.670290</td>\n",
       "    </tr>\n",
       "    <tr>\n",
       "      <th>280</th>\n",
       "      <td>1.436186</td>\n",
       "      <td>1.616250</td>\n",
       "      <td>1.421142</td>\n",
       "      <td>1.400153</td>\n",
       "      <td>0.435156</td>\n",
       "      <td>0.777386</td>\n",
       "      <td>1.288387</td>\n",
       "      <td>1.241373</td>\n",
       "      <td>0.312522</td>\n",
       "      <td>-0.080953</td>\n",
       "      <td>...</td>\n",
       "      <td>1.554646</td>\n",
       "      <td>1.634084</td>\n",
       "      <td>1.577161</td>\n",
       "      <td>1.499322</td>\n",
       "      <td>2.129706</td>\n",
       "      <td>0.912967</td>\n",
       "      <td>1.503354</td>\n",
       "      <td>1.137701</td>\n",
       "      <td>0.616777</td>\n",
       "      <td>0.830675</td>\n",
       "    </tr>\n",
       "  </tbody>\n",
       "</table>\n",
       "<p>5 rows × 30 columns</p>\n",
       "</div>"
      ],
      "text/plain": [
       "           0         1         2         3         4         5         6   \\\n",
       "559 -0.754501  1.016591 -0.731287 -0.732655 -0.244628 -0.046204  0.276113   \n",
       "295 -0.107318 -1.377551 -0.167357 -0.212302 -0.290236 -0.806690 -0.982285   \n",
       "264  0.872048  0.598852  0.813064  0.791235  0.092006 -0.277838  0.018477   \n",
       "125 -0.084408 -0.492662 -0.151531 -0.194880 -0.589225 -0.822895 -0.937614   \n",
       "280  1.436186  1.616250  1.421142  1.400153  0.435156  0.777386  1.288387   \n",
       "\n",
       "           7         8         9   ...        20        21        22  \\\n",
       "559 -0.209613 -1.463648  0.393141  ... -0.786560  1.835601 -0.748038   \n",
       "295 -0.780715 -0.758709 -0.498156  ... -0.330400 -1.399872 -0.391399   \n",
       "264  0.422567  0.191577 -0.947868  ...  1.108900  0.583315  0.998261   \n",
       "125 -0.983264 -0.682686 -0.527956  ... -0.159600 -0.336308 -0.207531   \n",
       "280  1.241373  0.312522 -0.080953  ...  1.554646  1.634084  1.577161   \n",
       "\n",
       "           23        24        25        26        27        28        29  \n",
       "559 -0.715894 -0.048296  0.013325  0.464941 -0.272555 -1.224122  0.246375  \n",
       "295 -0.384622 -0.624296 -0.968536 -1.127291 -0.871529 -0.081993 -0.899752  \n",
       "264  0.988855  1.121705  0.047299  0.591565  1.311903  0.549310 -0.440828  \n",
       "125 -0.269767 -0.682796 -0.779638 -0.913008 -0.980094 -0.819317 -0.670290  \n",
       "280  1.499322  2.129706  0.912967  1.503354  1.137701  0.616777  0.830675  \n",
       "\n",
       "[5 rows x 30 columns]"
      ]
     },
     "execution_count": 13,
     "metadata": {},
     "output_type": "execute_result"
    }
   ],
   "source": [
    "train_X.head()"
   ]
  },
  {
   "cell_type": "markdown",
   "metadata": {},
   "source": [
    "# Importing the keras and other libraries "
   ]
  },
  {
   "cell_type": "code",
   "execution_count": 14,
   "metadata": {},
   "outputs": [
    {
     "name": "stderr",
     "output_type": "stream",
     "text": [
      "Using TensorFlow backend.\n"
     ]
    }
   ],
   "source": [
    "import keras\n",
    "from keras.models import Sequential\n",
    "from keras.layers import Dense\n",
    "from keras import regularizers,optimizers\n",
    "from keras.callbacks import EarlyStopping,ReduceLROnPlateau"
   ]
  },
  {
   "cell_type": "code",
   "execution_count": 15,
   "metadata": {},
   "outputs": [],
   "source": [
    "adam=keras.optimizers.adam(lr=0.001,decay=0.0005)\n",
    "model=Sequential()\n",
    "model.add(Dense(16,input_shape=(30,)))\n",
    "model.add(Dense(8,init=\"uniform\",activation=\"relu\"))\n",
    "model.add(Dense(4,init=\"uniform\",activation=\"relu\"))\n",
    "model.add(Dense(1,activation=\"sigmoid\",kernel_regularizer=regularizers.l2()))"
   ]
  },
  {
   "cell_type": "markdown",
   "metadata": {},
   "source": [
    "Ditambahkan lapisan lain ke model ini karena menerapkan Deep Learning, yang merupakan jaringan saraf tiruan dengan banyak lapisan.\n",
    "\n",
    "Relu melakukan trshold dari 0 hingga infinity, Relu juga dapat menutupi kelemahan yang dimiliki oleh sigmoid dan Tanh. \n"
   ]
  },
  {
   "cell_type": "code",
   "execution_count": 16,
   "metadata": {},
   "outputs": [],
   "source": [
    "## Callbacks\n",
    "earlystopper = EarlyStopping(monitor='val_loss', patience=10)\n",
    "reduce_lr = ReduceLROnPlateau(patience=5, verbose=1)"
   ]
  },
  {
   "cell_type": "code",
   "execution_count": 17,
   "metadata": {},
   "outputs": [
    {
     "name": "stdout",
     "output_type": "stream",
     "text": [
      "WARNING:tensorflow:From C:\\Users\\dell\\Anaconda3\\lib\\site-packages\\tensorflow\\python\\ops\\nn_impl.py:180: add_dispatch_support.<locals>.wrapper (from tensorflow.python.ops.array_ops) is deprecated and will be removed in a future version.\n",
      "Instructions for updating:\n",
      "Use tf.where in 2.0, which has the same broadcast rule as np.where\n"
     ]
    }
   ],
   "source": [
    "#compiling our model and defining the loss function\n",
    "model.compile(optimizer=adam,loss=\"binary_crossentropy\",metrics=[\"accuracy\"])"
   ]
  },
  {
   "cell_type": "markdown",
   "metadata": {},
   "source": [
    "# Training"
   ]
  },
  {
   "cell_type": "code",
   "execution_count": 18,
   "metadata": {},
   "outputs": [
    {
     "name": "stdout",
     "output_type": "stream",
     "text": [
      "WARNING:tensorflow:From C:\\Users\\dell\\Anaconda3\\lib\\site-packages\\keras\\backend\\tensorflow_backend.py:422: The name tf.global_variables is deprecated. Please use tf.compat.v1.global_variables instead.\n",
      "\n",
      "Train on 398 samples, validate on 171 samples\n",
      "Epoch 1/50\n",
      "398/398 [==============================] - 1s 3ms/step - loss: 0.7060 - accuracy: 0.6005 - val_loss: 0.7043 - val_accuracy: 0.6023\n",
      "Epoch 2/50\n",
      "398/398 [==============================] - 0s 423us/step - loss: 0.6982 - accuracy: 0.6583 - val_loss: 0.6879 - val_accuracy: 0.7018\n",
      "Epoch 3/50\n",
      "398/398 [==============================] - 0s 259us/step - loss: 0.6642 - accuracy: 0.8417 - val_loss: 0.6210 - val_accuracy: 0.9415\n",
      "Epoch 4/50\n",
      "398/398 [==============================] - 0s 247us/step - loss: 0.5565 - accuracy: 0.9196 - val_loss: 0.4444 - val_accuracy: 0.9649\n",
      "Epoch 5/50\n",
      "398/398 [==============================] - 0s 302us/step - loss: 0.3706 - accuracy: 0.9246 - val_loss: 0.2561 - val_accuracy: 0.9649\n",
      "Epoch 6/50\n",
      "398/398 [==============================] - 0s 251us/step - loss: 0.2375 - accuracy: 0.9246 - val_loss: 0.1680 - val_accuracy: 0.9766\n",
      "Epoch 7/50\n",
      "398/398 [==============================] - 0s 318us/step - loss: 0.1775 - accuracy: 0.9372 - val_loss: 0.1339 - val_accuracy: 0.9825\n",
      "Epoch 8/50\n",
      "398/398 [==============================] - 0s 284us/step - loss: 0.1483 - accuracy: 0.9548 - val_loss: 0.1160 - val_accuracy: 0.9766\n",
      "Epoch 9/50\n",
      "398/398 [==============================] - ETA: 0s - loss: 0.1365 - accuracy: 0.95 - 0s 277us/step - loss: 0.1296 - accuracy: 0.9598 - val_loss: 0.1052 - val_accuracy: 0.9825\n",
      "Epoch 10/50\n",
      "398/398 [==============================] - 0s 236us/step - loss: 0.1165 - accuracy: 0.9749 - val_loss: 0.0992 - val_accuracy: 0.9825\n",
      "Epoch 11/50\n",
      "398/398 [==============================] - 0s 249us/step - loss: 0.1065 - accuracy: 0.9774 - val_loss: 0.0940 - val_accuracy: 0.9825\n",
      "Epoch 12/50\n",
      "398/398 [==============================] - 0s 266us/step - loss: 0.0992 - accuracy: 0.9774 - val_loss: 0.0902 - val_accuracy: 0.9825\n",
      "Epoch 13/50\n",
      "398/398 [==============================] - 0s 259us/step - loss: 0.0940 - accuracy: 0.9824 - val_loss: 0.0871 - val_accuracy: 0.9825\n",
      "Epoch 14/50\n",
      "398/398 [==============================] - 0s 282us/step - loss: 0.0896 - accuracy: 0.9824 - val_loss: 0.0846 - val_accuracy: 0.9825\n",
      "Epoch 15/50\n",
      "398/398 [==============================] - 0s 242us/step - loss: 0.0863 - accuracy: 0.9799 - val_loss: 0.0828 - val_accuracy: 0.9825\n",
      "Epoch 16/50\n",
      "398/398 [==============================] - 0s 230us/step - loss: 0.0841 - accuracy: 0.9824 - val_loss: 0.0817 - val_accuracy: 0.9825\n",
      "Epoch 17/50\n",
      "398/398 [==============================] - 0s 304us/step - loss: 0.0821 - accuracy: 0.9824 - val_loss: 0.0795 - val_accuracy: 0.9825\n",
      "Epoch 18/50\n",
      "398/398 [==============================] - 0s 243us/step - loss: 0.0802 - accuracy: 0.9824 - val_loss: 0.0783 - val_accuracy: 0.9883\n",
      "Epoch 19/50\n",
      "398/398 [==============================] - 0s 322us/step - loss: 0.0793 - accuracy: 0.9824 - val_loss: 0.0771 - val_accuracy: 0.9883\n",
      "Epoch 20/50\n",
      "398/398 [==============================] - 0s 275us/step - loss: 0.0772 - accuracy: 0.9824 - val_loss: 0.0761 - val_accuracy: 0.9883\n",
      "Epoch 21/50\n",
      "398/398 [==============================] - 0s 254us/step - loss: 0.0756 - accuracy: 0.9824 - val_loss: 0.0752 - val_accuracy: 0.9883\n",
      "Epoch 22/50\n",
      "398/398 [==============================] - 0s 241us/step - loss: 0.0744 - accuracy: 0.9824 - val_loss: 0.0742 - val_accuracy: 0.9883\n",
      "Epoch 23/50\n",
      "398/398 [==============================] - 0s 293us/step - loss: 0.0735 - accuracy: 0.9824 - val_loss: 0.0736 - val_accuracy: 0.9883\n",
      "Epoch 24/50\n",
      "398/398 [==============================] - 0s 271us/step - loss: 0.0725 - accuracy: 0.9824 - val_loss: 0.0727 - val_accuracy: 0.9883\n",
      "Epoch 25/50\n",
      "398/398 [==============================] - 0s 265us/step - loss: 0.0716 - accuracy: 0.9824 - val_loss: 0.0721 - val_accuracy: 0.9883\n",
      "Epoch 26/50\n",
      "398/398 [==============================] - 0s 240us/step - loss: 0.0708 - accuracy: 0.9824 - val_loss: 0.0713 - val_accuracy: 0.9883\n",
      "Epoch 27/50\n",
      "398/398 [==============================] - 0s 240us/step - loss: 0.0698 - accuracy: 0.9824 - val_loss: 0.0709 - val_accuracy: 0.9883\n",
      "Epoch 28/50\n",
      "398/398 [==============================] - 0s 255us/step - loss: 0.0692 - accuracy: 0.9824 - val_loss: 0.0703 - val_accuracy: 0.9883\n",
      "Epoch 29/50\n",
      "398/398 [==============================] - 0s 252us/step - loss: 0.0685 - accuracy: 0.9824 - val_loss: 0.0699 - val_accuracy: 0.9883\n",
      "Epoch 30/50\n",
      "398/398 [==============================] - 0s 308us/step - loss: 0.0677 - accuracy: 0.9824 - val_loss: 0.0691 - val_accuracy: 0.9883\n",
      "Epoch 31/50\n",
      "398/398 [==============================] - 0s 261us/step - loss: 0.0671 - accuracy: 0.9824 - val_loss: 0.0690 - val_accuracy: 0.9883\n",
      "Epoch 32/50\n",
      "398/398 [==============================] - 0s 305us/step - loss: 0.0667 - accuracy: 0.9824 - val_loss: 0.0684 - val_accuracy: 0.9883\n",
      "Epoch 33/50\n",
      "398/398 [==============================] - 0s 316us/step - loss: 0.0660 - accuracy: 0.9824 - val_loss: 0.0679 - val_accuracy: 0.9883\n",
      "Epoch 34/50\n",
      "398/398 [==============================] - 0s 281us/step - loss: 0.0656 - accuracy: 0.9824 - val_loss: 0.0675 - val_accuracy: 0.9883\n",
      "Epoch 35/50\n",
      "398/398 [==============================] - 0s 267us/step - loss: 0.0652 - accuracy: 0.9824 - val_loss: 0.0669 - val_accuracy: 0.9883\n",
      "Epoch 36/50\n",
      "398/398 [==============================] - 0s 255us/step - loss: 0.0643 - accuracy: 0.9824 - val_loss: 0.0663 - val_accuracy: 0.9883\n",
      "Epoch 37/50\n",
      "398/398 [==============================] - 0s 289us/step - loss: 0.0640 - accuracy: 0.9824 - val_loss: 0.0661 - val_accuracy: 0.9883\n",
      "Epoch 38/50\n",
      "398/398 [==============================] - 0s 336us/step - loss: 0.0635 - accuracy: 0.9824 - val_loss: 0.0660 - val_accuracy: 0.9883\n",
      "Epoch 39/50\n",
      "398/398 [==============================] - 0s 289us/step - loss: 0.0628 - accuracy: 0.9824 - val_loss: 0.0655 - val_accuracy: 0.9883\n",
      "Epoch 40/50\n",
      "398/398 [==============================] - 0s 283us/step - loss: 0.0624 - accuracy: 0.9824 - val_loss: 0.0649 - val_accuracy: 0.9883\n",
      "Epoch 41/50\n",
      "398/398 [==============================] - 0s 279us/step - loss: 0.0619 - accuracy: 0.9824 - val_loss: 0.0647 - val_accuracy: 0.9883\n",
      "Epoch 42/50\n",
      "398/398 [==============================] - 0s 267us/step - loss: 0.0616 - accuracy: 0.9824 - val_loss: 0.0643 - val_accuracy: 0.9883\n",
      "Epoch 43/50\n",
      "398/398 [==============================] - 0s 266us/step - loss: 0.0611 - accuracy: 0.9824 - val_loss: 0.0642 - val_accuracy: 0.9883\n",
      "Epoch 44/50\n",
      "398/398 [==============================] - 0s 281us/step - loss: 0.0609 - accuracy: 0.9824 - val_loss: 0.0634 - val_accuracy: 0.9883\n",
      "Epoch 45/50\n",
      "398/398 [==============================] - 0s 249us/step - loss: 0.0607 - accuracy: 0.9824 - val_loss: 0.0631 - val_accuracy: 0.9942\n",
      "Epoch 46/50\n",
      "398/398 [==============================] - 0s 250us/step - loss: 0.0598 - accuracy: 0.9824 - val_loss: 0.0628 - val_accuracy: 0.9942\n",
      "Epoch 47/50\n",
      "398/398 [==============================] - 0s 282us/step - loss: 0.0596 - accuracy: 0.9824 - val_loss: 0.0627 - val_accuracy: 0.9942\n",
      "Epoch 48/50\n",
      "398/398 [==============================] - 0s 262us/step - loss: 0.0592 - accuracy: 0.9824 - val_loss: 0.0625 - val_accuracy: 0.9942\n",
      "Epoch 49/50\n",
      "398/398 [==============================] - 0s 254us/step - loss: 0.0586 - accuracy: 0.9824 - val_loss: 0.0622 - val_accuracy: 0.9942\n",
      "Epoch 50/50\n",
      "398/398 [==============================] - 0s 263us/step - loss: 0.0584 - accuracy: 0.9824 - val_loss: 0.0618 - val_accuracy: 0.9942\n"
     ]
    }
   ],
   "source": [
    "#training the neural nets\n",
    "history=model.fit(train_X,train_y,validation_data=(test_X,test_y),epochs=50,batch_size=16,callbacks=[earlystopper,reduce_lr])"
   ]
  },
  {
   "cell_type": "code",
   "execution_count": 20,
   "metadata": {},
   "outputs": [
    {
     "name": "stdout",
     "output_type": "stream",
     "text": [
      "398/398 [==============================] - 0s 40us/step\n",
      "\n",
      "accuracy:98.49%\n"
     ]
    }
   ],
   "source": [
    "Hasil =model.evaluate (train_X, train_y)\n",
    "print(\"\\n%s:%.2f%%\" % (model.metrics_names[1], Hasil[1]*100))"
   ]
  },
  {
   "cell_type": "markdown",
   "metadata": {},
   "source": [
    "Jadi akurasinya adalah 98.49%"
   ]
  },
  {
   "cell_type": "markdown",
   "metadata": {},
   "source": [
    "# Ploting model accuracy and loss accuracy"
   ]
  },
  {
   "cell_type": "code",
   "execution_count": 21,
   "metadata": {},
   "outputs": [],
   "source": [
    "train_acc = history.history['accuracy']\n",
    "train_loss = history.history['loss']\n",
    "\n",
    "val_acc = history.history['val_accuracy']\n",
    "val_loss = history.history['val_loss']"
   ]
  },
  {
   "cell_type": "code",
   "execution_count": 22,
   "metadata": {},
   "outputs": [
    {
     "data": {
      "text/plain": [
       "[<matplotlib.lines.Line2D at 0x23b67c171d0>]"
      ]
     },
     "execution_count": 22,
     "metadata": {},
     "output_type": "execute_result"
    },
    {
     "data": {
      "image/png": "[encoded data removed]",
      "text/plain": [
       "<Figure size 1440x360 with 1 Axes>"
      ]
     },
     "metadata": {},
     "output_type": "display_data"
    }
   ],
   "source": [
    "from matplotlib import pyplot as plt  \n",
    "%matplotlib inline \n",
    "plt.figure(figsize=(20,5))\n",
    "plt.subplot(1,2,2)\n",
    "plt.xlabel('Epochs')\n",
    "plt.ylabel('Accuracy')\n",
    "plt.plot(train_acc)\n",
    "plt.plot(val_acc)"
   ]
  },
  {
   "cell_type": "markdown",
   "metadata": {},
   "source": [
    "grafik diatas merupakan accurcy dengan Epochs 50."
   ]
  },
  {
   "cell_type": "code",
   "execution_count": 23,
   "metadata": {},
   "outputs": [
    {
     "data": {
      "text/plain": [
       "[<matplotlib.lines.Line2D at 0x23b67c64f28>]"
      ]
     },
     "execution_count": 23,
     "metadata": {},
     "output_type": "execute_result"
    },
    {
     "data": {
      "image/png": "[encoded data removed]",
      "text/plain": [
       "<Figure size 1440x360 with 1 Axes>"
      ]
     },
     "metadata": {},
     "output_type": "display_data"
    }
   ],
   "source": [
    "from matplotlib import pyplot as plt \n",
    "%matplotlib inline \n",
    "plt.figure(figsize=(20,5))\n",
    "plt.subplot(1,2,1)\n",
    "plt.xlabel('Epochs')\n",
    "plt.ylabel('Loss')\n",
    "plt.plot(train_loss)\n",
    "plt.plot(val_loss)"
   ]
  },
  {
   "cell_type": "markdown",
   "metadata": {},
   "source": [
    "grafik diatas merupakan loss dengan epochs 50"
   ]
  },
  {
   "cell_type": "markdown",
   "metadata": {},
   "source": [
    "# Using Sklearn MLP Classifier With Grid Search"
   ]
  },
  {
   "cell_type": "code",
   "execution_count": 24,
   "metadata": {},
   "outputs": [
    {
     "data": {
      "text/plain": [
       "MLPClassifier(activation='logistic', alpha=0.0001, batch_size=32, beta_1=0.9,\n",
       "       beta_2=0.999, early_stopping=False, epsilon=1e-08,\n",
       "       hidden_layer_sizes=(11,), learning_rate='constant',\n",
       "       learning_rate_init=0.001, max_iter=50, momentum=0.9,\n",
       "       nesterovs_momentum=True, power_t=0.5, random_state=123,\n",
       "       shuffle=True, solver='adam', tol=0.0001, validation_fraction=0.1,\n",
       "       verbose=False, warm_start=False)"
      ]
     },
     "execution_count": 24,
     "metadata": {},
     "output_type": "execute_result"
    }
   ],
   "source": [
    "from sklearn.model_selection import GridSearchCV\n",
    "from sklearn.neural_network import MLPClassifier\n",
    "\n",
    "classifier=MLPClassifier(activation=\"logistic\",random_state=123)\n",
    "\n",
    "param= {\"batch_size\" : [16, 32, 64, 128],\n",
    "           \"hidden_layer_sizes\" : [(11,), (15,), (19,),(21,)],\n",
    "           \"max_iter\" : [50, 100, 150, 200]}\n",
    "\n",
    "grid=GridSearchCV(estimator=classifier,param_grid=param,cv=5,n_jobs=1)\n",
    "grid.fit(train_X,train_y)\n",
    "grid.best_estimator_"
   ]
  },
  {
   "cell_type": "markdown",
   "metadata": {},
   "source": [
    "# Train and Test Acuracy"
   ]
  },
  {
   "cell_type": "code",
   "execution_count": 25,
   "metadata": {},
   "outputs": [],
   "source": [
    "train_preds=grid.best_estimator_.predict(train_X)\n",
    "test_preds=grid.best_estimator_.predict(test_X)"
   ]
  },
  {
   "cell_type": "code",
   "execution_count": 26,
   "metadata": {},
   "outputs": [
    {
     "name": "stdout",
     "output_type": "stream",
     "text": [
      "Train Accuracy  :   0.9824120603015075\n",
      "Test Accuracy   :   0.9883040935672515\n"
     ]
    }
   ],
   "source": [
    "from sklearn.metrics import accuracy_score\n",
    "print(\"Train Accuracy  :  \",accuracy_score(train_y,train_preds))\n",
    "print(\"Test Accuracy   :  \",accuracy_score(test_y,test_preds))"
   ]
  },
  {
   "cell_type": "markdown",
   "metadata": {},
   "source": [
    "dataset yang digunakan adalah train dan test. maka dengan itu saya disini mencari jumlah accuracynya :\n",
    "    1. train accuracy adalah 0.9824 atau 98.24%\n",
    "    2. test accuracy adalah 0.9883 atau 98.83%"
   ]
  },
  {
   "cell_type": "markdown",
   "metadata": {},
   "source": [
    "# Matriks Confusion"
   ]
  },
  {
   "cell_type": "markdown",
   "metadata": {},
   "source": [
    "Confusion matrix merupakan salah satu metode yang dapat digunakan untuk mengukur kinerja suatu metode klasifikasi. Pada dasarnya confusion matrix mengandung informasi yang membandingkan hasil klasifikasi yang dilakukan oleh sistem dengan hasil klasifikasi yang seharusnya.\n",
    "\n",
    "Pada pengukuran kinerja menggunakan confusion matrix, terdapat 4 (empat) istilah sebagai representasi hasil proses klasifikasi. Keempat istilah tersebut adalah:\n",
    "\n",
    "1) True Positive (TP) merupakan data positif yang terdeteksi benar.\n",
    "\n",
    "2) True Negative (TN) merupakan jumlah data negatif yang terdeteksi dengan benar\n",
    "\n",
    "3) False Positive (FP) merupakan data negatif namun terdeteksi sebagai data positif\n",
    "\n",
    "4) False Negative (FN) False Negative (FN) merupakan kebalikan dari True Positive, sehingga data posifit, namun terdeteksi sebagai data negatif.\n"
   ]
  },
  {
   "cell_type": "code",
   "execution_count": 36,
   "metadata": {},
   "outputs": [],
   "source": [
    "from sklearn.model_selection import train_test_split\n",
    "x_train, x_test, y_train, y_test = train_test_split(X, y, test_size=0.3, random_state=42)"
   ]
  },
  {
   "cell_type": "code",
   "execution_count": 37,
   "metadata": {},
   "outputs": [],
   "source": [
    "y_pred=model.predict(x_test)\n",
    "y_pred=(y_pred>0.5)"
   ]
  },
  {
   "cell_type": "code",
   "execution_count": 38,
   "metadata": {},
   "outputs": [],
   "source": [
    "from sklearn.metrics import confusion_matrix,classification_report\n",
    "cm=confusion_matrix(y_test, y_pred)"
   ]
  },
  {
   "cell_type": "code",
   "execution_count": 39,
   "metadata": {},
   "outputs": [
    {
     "data": {
      "text/plain": [
       "array([[  0, 108],\n",
       "       [  0,  63]], dtype=int64)"
      ]
     },
     "execution_count": 39,
     "metadata": {},
     "output_type": "execute_result"
    }
   ],
   "source": [
    "cm"
   ]
  },
  {
   "cell_type": "markdown",
   "metadata": {},
   "source": [
    "Hasil perolehan nilai Accuracy, Specificity, Sensitivity, Precision, dan F1 Score pada data training"
   ]
  },
  {
   "cell_type": "code",
   "execution_count": 40,
   "metadata": {},
   "outputs": [
    {
     "data": {
      "image/png": "[encoded data removed]",
      "text/plain": [
       "<Figure size 432x288 with 1 Axes>"
      ]
     },
     "metadata": {},
     "output_type": "display_data"
    }
   ],
   "source": [
    "plt.clf()\n",
    "plt.imshow(cm,cmap=plt.cm.Dark2)\n",
    "classNames = ['Negative', 'Positive']\n",
    "plt.ylabel('True label')\n",
    "plt.xlabel('Predicted label')\n",
    "for i in range(2):\n",
    "    for j in range(2):\n",
    "        plt.text(j,i, str(cm[i][j]))\n",
    "plt.show()"
   ]
  },
  {
   "cell_type": "markdown",
   "metadata": {},
   "source": [
    "gambar diatas adalah matriks yang dihasilkan. yaitu : [0, 108] & [0, 63]"
   ]
  },
  {
   "cell_type": "code",
   "execution_count": 41,
   "metadata": {},
   "outputs": [
    {
     "name": "stdout",
     "output_type": "stream",
     "text": [
      "             precision    recall  f1-score   support\n",
      "\n",
      "          0       0.00      0.00      0.00       108\n",
      "          1       0.37      1.00      0.54        63\n",
      "\n",
      "avg / total       0.14      0.37      0.20       171\n",
      "\n"
     ]
    }
   ],
   "source": [
    "print(classification_report(y_test, y_pred))"
   ]
  },
  {
   "cell_type": "markdown",
   "metadata": {},
   "source": [
    "jadi total nya adalah :\n",
    "    1. precision 0.14\n",
    "    2. recall 0.37\n",
    "    3. f1-score 0.20\n",
    "    4. support 171"
   ]
  }
 ],
 "metadata": {
  "kernelspec": {
   "display_name": "Python 3",
   "language": "python",
   "name": "python3"
  },
  "language_info": {
   "codemirror_mode": {
    "name": "ipython",
    "version": 3
   },
   "file_extension": ".py",
   "mimetype": "text/x-python",
   "name": "python",
   "nbconvert_exporter": "python",
   "pygments_lexer": "ipython3",
   "version": "3.6.5"
  }
 },
 "nbformat": 4,
 "nbformat_minor": 2
}
