{
 "cells": [
  {
   "cell_type": "markdown",
   "metadata": {},
   "source": [
    "# Nama : Ribowo Agusti Sunoki\n",
    "# NIM : 09011281722047\n",
    "# Kelas : SK5A"
   ]
  },
  {
   "cell_type": "markdown",
   "metadata": {},
   "source": [
    "<h1 align = \"center\"> <font color='darkblue'>PENDETEKSIAN DETAK JANTUNG</h1> </font>\n",
    "<h3 align = \"center\"> <font color='black'>Dengan data PTB ECG</h5> </font>"
   ]
  },
  {
   "cell_type": "markdown",
   "metadata": {},
   "source": [
    "<h3 align = \"left\"> <font color='black'>DATASET</h5> </font>"
   ]
  },
  {
   "cell_type": "markdown",
   "metadata": {},
   "source": [
    "Informasi:\n",
    "Dataset diambil dari sumber PTB Diagnostic Ecg Database bisa di download di kaggle.\n",
    "Link: https://www.kaggle.com/shayanfazeli/heartbeat\n",
    "\n",
    "Data yang didapat sudah di scaling menjadi 0 dan 1, data sinyal dipotong sebanyak 187node per beat.\n",
    "Memiliki data jantung yang diantaranya 'Normal' dan 'MI(Myocardial Infarction)'"
   ]
  },
  {
   "cell_type": "markdown",
   "metadata": {},
   "source": [
    "<h3 align = \"left\"> <font color='black'>IMPORT LIBRARY</h5> </font>"
   ]
  },
  {
   "cell_type": "markdown",
   "metadata": {},
   "source": [
    "MODUL yang diperlukan:\n",
    "\n",
    "1. numpy = Digunakan Untuk Menginput Array\n",
    "2. pandas = Fungsinya Seperti Numpy, Namun Lebih Kearah Matriks Dengan Baris Dan Kolom Yang Telah Dimuat Dalam Bentuk Tabel\n",
    "3. matplotlib.pyplot = Digunakan Untuk Membuat Grafik Dataset Yang Telah Valid\n",
    "4. sklearn: \n",
    "           a. train_test_split  \n",
    "           b. confusion_matrix \n",
    "           c. classification_report \n",
    "           d. PCA(Principal Component Analysis) \n",
    "5. keras:\n",
    "        a. Optimizers Adam\n",
    "        b. Model Sequential\n",
    "        c. Layers Dense\n",
    "        d. Aktivasi Relu\n",
    "        e. utils to_categorical\n",
    "        "
   ]
  },
  {
   "cell_type": "markdown",
   "metadata": {},
   "source": [
    "<h3 align = \"left\"> <font color='black'>MEMANGGIL DATASET</h5> </font>"
   ]
  },
  {
   "cell_type": "markdown",
   "metadata": {},
   "source": [
    "Memanggil dataset ptbdb yang telah digabung secara manual dengan menggunakan fitur pandas"
   ]
  },
  {
   "cell_type": "code",
   "execution_count": 5,
   "metadata": {},
   "outputs": [
    {
     "name": "stderr",
     "output_type": "stream",
     "text": [
      "Using TensorFlow backend.\n",
      "D:\\Anaconda3\\lib\\site-packages\\tensorflow\\python\\framework\\dtypes.py:516: FutureWarning: Passing (type, 1) or '1type' as a synonym of type is deprecated; in a future version of numpy, it will be understood as (type, (1,)) / '(1,)type'.\n",
      "  _np_qint8 = np.dtype([(\"qint8\", np.int8, 1)])\n",
      "D:\\Anaconda3\\lib\\site-packages\\tensorflow\\python\\framework\\dtypes.py:517: FutureWarning: Passing (type, 1) or '1type' as a synonym of type is deprecated; in a future version of numpy, it will be understood as (type, (1,)) / '(1,)type'.\n",
      "  _np_quint8 = np.dtype([(\"quint8\", np.uint8, 1)])\n",
      "D:\\Anaconda3\\lib\\site-packages\\tensorflow\\python\\framework\\dtypes.py:518: FutureWarning: Passing (type, 1) or '1type' as a synonym of type is deprecated; in a future version of numpy, it will be understood as (type, (1,)) / '(1,)type'.\n",
      "  _np_qint16 = np.dtype([(\"qint16\", np.int16, 1)])\n",
      "D:\\Anaconda3\\lib\\site-packages\\tensorflow\\python\\framework\\dtypes.py:519: FutureWarning: Passing (type, 1) or '1type' as a synonym of type is deprecated; in a future version of numpy, it will be understood as (type, (1,)) / '(1,)type'.\n",
      "  _np_quint16 = np.dtype([(\"quint16\", np.uint16, 1)])\n",
      "D:\\Anaconda3\\lib\\site-packages\\tensorflow\\python\\framework\\dtypes.py:520: FutureWarning: Passing (type, 1) or '1type' as a synonym of type is deprecated; in a future version of numpy, it will be understood as (type, (1,)) / '(1,)type'.\n",
      "  _np_qint32 = np.dtype([(\"qint32\", np.int32, 1)])\n",
      "D:\\Anaconda3\\lib\\site-packages\\tensorflow\\python\\framework\\dtypes.py:525: FutureWarning: Passing (type, 1) or '1type' as a synonym of type is deprecated; in a future version of numpy, it will be understood as (type, (1,)) / '(1,)type'.\n",
      "  np_resource = np.dtype([(\"resource\", np.ubyte, 1)])\n",
      "D:\\Anaconda3\\lib\\site-packages\\tensorboard\\compat\\tensorflow_stub\\dtypes.py:541: FutureWarning: Passing (type, 1) or '1type' as a synonym of type is deprecated; in a future version of numpy, it will be understood as (type, (1,)) / '(1,)type'.\n",
      "  _np_qint8 = np.dtype([(\"qint8\", np.int8, 1)])\n",
      "D:\\Anaconda3\\lib\\site-packages\\tensorboard\\compat\\tensorflow_stub\\dtypes.py:542: FutureWarning: Passing (type, 1) or '1type' as a synonym of type is deprecated; in a future version of numpy, it will be understood as (type, (1,)) / '(1,)type'.\n",
      "  _np_quint8 = np.dtype([(\"quint8\", np.uint8, 1)])\n",
      "D:\\Anaconda3\\lib\\site-packages\\tensorboard\\compat\\tensorflow_stub\\dtypes.py:543: FutureWarning: Passing (type, 1) or '1type' as a synonym of type is deprecated; in a future version of numpy, it will be understood as (type, (1,)) / '(1,)type'.\n",
      "  _np_qint16 = np.dtype([(\"qint16\", np.int16, 1)])\n",
      "D:\\Anaconda3\\lib\\site-packages\\tensorboard\\compat\\tensorflow_stub\\dtypes.py:544: FutureWarning: Passing (type, 1) or '1type' as a synonym of type is deprecated; in a future version of numpy, it will be understood as (type, (1,)) / '(1,)type'.\n",
      "  _np_quint16 = np.dtype([(\"quint16\", np.uint16, 1)])\n",
      "D:\\Anaconda3\\lib\\site-packages\\tensorboard\\compat\\tensorflow_stub\\dtypes.py:545: FutureWarning: Passing (type, 1) or '1type' as a synonym of type is deprecated; in a future version of numpy, it will be understood as (type, (1,)) / '(1,)type'.\n",
      "  _np_qint32 = np.dtype([(\"qint32\", np.int32, 1)])\n",
      "D:\\Anaconda3\\lib\\site-packages\\tensorboard\\compat\\tensorflow_stub\\dtypes.py:550: FutureWarning: Passing (type, 1) or '1type' as a synonym of type is deprecated; in a future version of numpy, it will be understood as (type, (1,)) / '(1,)type'.\n",
      "  np_resource = np.dtype([(\"resource\", np.ubyte, 1)])\n"
     ]
    }
   ],
   "source": [
    "import numpy as np\n",
    "import pandas as pd\n",
    "import matplotlib.pyplot as plt\n",
    "\n",
    "from sklearn.model_selection import train_test_split\n",
    "from sklearn.decomposition import PCA\n",
    "from sklearn.metrics import classification_report, confusion_matrix, coverage_error\n",
    "from keras.optimizers import Adam\n",
    "from keras.models import Sequential\n",
    "from keras.layers import Dense\n",
    "from keras.activations import relu\n",
    "from keras.utils import to_categorical\n",
    "from mlxtend.plotting import plot_confusion_matrix"
   ]
  },
  {
   "cell_type": "code",
   "execution_count": 2,
   "metadata": {},
   "outputs": [],
   "source": [
    "df = np.loadtxt('data/ptbdb.csv', delimiter=',')"
   ]
  },
  {
   "cell_type": "markdown",
   "metadata": {},
   "source": [
    "<h3 align = \"left\"> <font color='black'>Features dan Labels</h5> </font>"
   ]
  },
  {
   "cell_type": "markdown",
   "metadata": {},
   "source": [
    "Pada Dataset, Features dan Label dipisahkan supaya bisa dipelajari oleh mesin\n",
    "\n",
    "leat= Features dengan 187node\n",
    "\n",
    "label= Labels yang mewakili 2 kelas"
   ]
  },
  {
   "cell_type": "code",
   "execution_count": 3,
   "metadata": {},
   "outputs": [],
   "source": [
    "feat = df[:,0:187]\n",
    "label = df[:,187]"
   ]
  },
  {
   "cell_type": "markdown",
   "metadata": {},
   "source": [
    "<h3 align = \"left\"> <font color='black'>Mereduksi Fitur</h5> </font>"
   ]
  },
  {
   "cell_type": "markdown",
   "metadata": {},
   "source": [
    "Menggunakan PCA ( Principal Component Analysis ) untuk mereduksi fitur yang banyak menjadi lebih sedikit namun bisa merepresentasikan semua fitur tanpa mengurangi informasi yang banyak."
   ]
  },
  {
   "cell_type": "code",
   "execution_count": 4,
   "metadata": {},
   "outputs": [],
   "source": [
    "pca = PCA(n_components=36)\n",
    "all_feat_pca = pca.fit_transform(feat)"
   ]
  },
  {
   "cell_type": "markdown",
   "metadata": {},
   "source": [
    "<h3 align = \"left\"> <font color='black'>Splitting</h5> </font>"
   ]
  },
  {
   "cell_type": "markdown",
   "metadata": {},
   "source": [
    "Data fitur dan label dibagi menjadi data train dan test dengan ratio 9 : 1"
   ]
  },
  {
   "cell_type": "code",
   "execution_count": 5,
   "metadata": {},
   "outputs": [],
   "source": [
    "feat_train, feat_test, label_train, label_test = train_test_split(all_feat_pca, label, test_size=0.1, random_state=2)"
   ]
  },
  {
   "cell_type": "code",
   "execution_count": 6,
   "metadata": {},
   "outputs": [
    {
     "data": {
      "text/plain": [
       "(array([ 413.,    0.,    0.,    0.,    0.,    0.,    0.,    0.,    0.,\n",
       "        1043.]),\n",
       " array([0. , 0.1, 0.2, 0.3, 0.4, 0.5, 0.6, 0.7, 0.8, 0.9, 1. ]),\n",
       " <a list of 10 Patch objects>)"
      ]
     },
     "execution_count": 6,
     "metadata": {},
     "output_type": "execute_result"
    },
    {
     "data": {
      "image/png": "[encoded data removed]",
      "text/plain": [
       "<Figure size 432x288 with 1 Axes>"
      ]
     },
     "metadata": {
      "needs_background": "light"
     },
     "output_type": "display_data"
    }
   ],
   "source": [
    "plt.hist(label_test)"
   ]
  },
  {
   "cell_type": "markdown",
   "metadata": {},
   "source": [
    "<h3 align = \"left\"> <font color='black'>ANN(Artificial Neural Network)</h5> </font>"
   ]
  },
  {
   "cell_type": "markdown",
   "metadata": {},
   "source": [
    "Menggunakan model `Sequential()`. Pada Model ini terdapat `Input layer` , `Hidden layer` dan `Output layer`. \n",
    "- Input layer          -> Layer pertama terbentuk dari layer Neural sesuai fitur dengan menggunakan activation relu.   \n",
    "- Hidden Layer pertama -> 100 units Neural Network dengan menggunakan activation relu.\n",
    "- Hidden Layer Kedua   -> 100 units Neural Network dengan menggunakan activation relu.\n",
    "- Output layer         -> 1 unit Neural Network dengan menggunakan activation sigmoid."
   ]
  },
  {
   "cell_type": "code",
   "execution_count": 7,
   "metadata": {},
   "outputs": [],
   "source": [
    "model = Sequential()\n",
    "model.add(Dense(units= 100, input_dim =36 , activation=relu))\n",
    "model.add(Dense(units= 100, activation=relu))\n",
    "model.add(Dense(units= 1, activation='sigmoid'))"
   ]
  },
  {
   "cell_type": "markdown",
   "metadata": {},
   "source": [
    "<h3 align = \"left\"> <font color='black'>Compile Model</h5> </font>"
   ]
  },
  {
   "cell_type": "code",
   "execution_count": 8,
   "metadata": {},
   "outputs": [
    {
     "name": "stdout",
     "output_type": "stream",
     "text": [
      "WARNING:tensorflow:From D:\\Anaconda3\\lib\\site-packages\\tensorflow\\python\\ops\\nn_impl.py:180: add_dispatch_support.<locals>.wrapper (from tensorflow.python.ops.array_ops) is deprecated and will be removed in a future version.\n",
      "Instructions for updating:\n",
      "Use tf.where in 2.0, which has the same broadcast rule as np.where\n"
     ]
    }
   ],
   "source": [
    "model.compile(optimizer=Adam(learning_rate=0.00001), loss='binary_crossentropy', metrics=['accuracy'])"
   ]
  },
  {
   "cell_type": "markdown",
   "metadata": {},
   "source": [
    "Setalah itu fit model. Pada tahap ini dilakukan proses untuk mendapatkan akurasi dan loss dari dataset."
   ]
  },
  {
   "cell_type": "code",
   "execution_count": 9,
   "metadata": {},
   "outputs": [
    {
     "name": "stdout",
     "output_type": "stream",
     "text": [
      "WARNING:tensorflow:From D:\\Anaconda3\\lib\\site-packages\\keras\\backend\\tensorflow_backend.py:422: The name tf.global_variables is deprecated. Please use tf.compat.v1.global_variables instead.\n",
      "\n",
      "Train on 13096 samples, validate on 1456 samples\n",
      "Epoch 1/200\n",
      "13096/13096 [==============================] - 1s 71us/step - loss: 0.6244 - accuracy: 0.7129 - val_loss: 0.6079 - val_accuracy: 0.7157\n",
      "Epoch 2/200\n",
      "13096/13096 [==============================] - 1s 50us/step - loss: 0.5902 - accuracy: 0.7226 - val_loss: 0.5795 - val_accuracy: 0.7163\n",
      "Epoch 3/200\n",
      "13096/13096 [==============================] - 1s 49us/step - loss: 0.5653 - accuracy: 0.7226 - val_loss: 0.5584 - val_accuracy: 0.7163\n",
      "Epoch 4/200\n",
      "13096/13096 [==============================] - 1s 50us/step - loss: 0.5465 - accuracy: 0.7226 - val_loss: 0.5423 - val_accuracy: 0.7163\n",
      "Epoch 5/200\n",
      "13096/13096 [==============================] - 1s 50us/step - loss: 0.5319 - accuracy: 0.7226 - val_loss: 0.5294 - val_accuracy: 0.7163\n",
      "Epoch 6/200\n",
      "13096/13096 [==============================] - 1s 49us/step - loss: 0.5198 - accuracy: 0.7226 - val_loss: 0.5184 - val_accuracy: 0.7163\n",
      "Epoch 7/200\n",
      "13096/13096 [==============================] - 1s 48us/step - loss: 0.5093 - accuracy: 0.7226 - val_loss: 0.5086 - val_accuracy: 0.7163\n",
      "Epoch 8/200\n",
      "13096/13096 [==============================] - 1s 51us/step - loss: 0.4999 - accuracy: 0.7226 - val_loss: 0.4996 - val_accuracy: 0.7163\n",
      "Epoch 9/200\n",
      "13096/13096 [==============================] - 1s 53us/step - loss: 0.4910 - accuracy: 0.7226 - val_loss: 0.4910 - val_accuracy: 0.7163\n",
      "Epoch 10/200\n",
      "13096/13096 [==============================] - 1s 48us/step - loss: 0.4827 - accuracy: 0.7235 - val_loss: 0.4828 - val_accuracy: 0.7218\n",
      "Epoch 11/200\n",
      "13096/13096 [==============================] - 1s 49us/step - loss: 0.4747 - accuracy: 0.7248 - val_loss: 0.4750 - val_accuracy: 0.7239\n",
      "Epoch 12/200\n",
      "13096/13096 [==============================] - 1s 50us/step - loss: 0.4670 - accuracy: 0.7287 - val_loss: 0.4675 - val_accuracy: 0.7315\n",
      "Epoch 13/200\n",
      "13096/13096 [==============================] - 1s 48us/step - loss: 0.4597 - accuracy: 0.7381 - val_loss: 0.4603 - val_accuracy: 0.7445\n",
      "Epoch 14/200\n",
      "13096/13096 [==============================] - 1s 47us/step - loss: 0.4528 - accuracy: 0.7473 - val_loss: 0.4535 - val_accuracy: 0.7479\n",
      "Epoch 15/200\n",
      "13096/13096 [==============================] - 1s 48us/step - loss: 0.4462 - accuracy: 0.7586 - val_loss: 0.4471 - val_accuracy: 0.7555\n",
      "Epoch 16/200\n",
      "13096/13096 [==============================] - 1s 49us/step - loss: 0.4400 - accuracy: 0.7668 - val_loss: 0.4409 - val_accuracy: 0.7706\n",
      "Epoch 17/200\n",
      "13096/13096 [==============================] - 1s 49us/step - loss: 0.4341 - accuracy: 0.7757 - val_loss: 0.4351 - val_accuracy: 0.7802\n",
      "Epoch 18/200\n",
      "13096/13096 [==============================] - 1s 49us/step - loss: 0.4285 - accuracy: 0.7855 - val_loss: 0.4296 - val_accuracy: 0.7816\n",
      "Epoch 19/200\n",
      "13096/13096 [==============================] - 1s 49us/step - loss: 0.4232 - accuracy: 0.7902 - val_loss: 0.4245 - val_accuracy: 0.7891\n",
      "Epoch 20/200\n",
      "13096/13096 [==============================] - 1s 50us/step - loss: 0.4183 - accuracy: 0.7952 - val_loss: 0.4196 - val_accuracy: 0.7885\n",
      "Epoch 21/200\n",
      "13096/13096 [==============================] - 1s 49us/step - loss: 0.4137 - accuracy: 0.7999 - val_loss: 0.4150 - val_accuracy: 0.7933\n",
      "Epoch 22/200\n",
      "13096/13096 [==============================] - 1s 50us/step - loss: 0.4093 - accuracy: 0.8037 - val_loss: 0.4107 - val_accuracy: 0.7967\n",
      "Epoch 23/200\n",
      "13096/13096 [==============================] - 1s 50us/step - loss: 0.4051 - accuracy: 0.8051 - val_loss: 0.4066 - val_accuracy: 0.7981\n",
      "Epoch 24/200\n",
      "13096/13096 [==============================] - 1s 50us/step - loss: 0.4012 - accuracy: 0.8061 - val_loss: 0.4028 - val_accuracy: 0.8008\n",
      "Epoch 25/200\n",
      "13096/13096 [==============================] - 1s 50us/step - loss: 0.3976 - accuracy: 0.8067 - val_loss: 0.3991 - val_accuracy: 0.8036\n",
      "Epoch 26/200\n",
      "13096/13096 [==============================] - 1s 50us/step - loss: 0.3941 - accuracy: 0.8062 - val_loss: 0.3957 - val_accuracy: 0.8029\n",
      "Epoch 27/200\n",
      "13096/13096 [==============================] - 1s 50us/step - loss: 0.3909 - accuracy: 0.8083 - val_loss: 0.3925 - val_accuracy: 0.8015\n",
      "Epoch 28/200\n",
      "13096/13096 [==============================] - 1s 48us/step - loss: 0.3878 - accuracy: 0.8086 - val_loss: 0.3894 - val_accuracy: 0.8022\n",
      "Epoch 29/200\n",
      "13096/13096 [==============================] - 1s 49us/step - loss: 0.3848 - accuracy: 0.8104 - val_loss: 0.3864 - val_accuracy: 0.8056\n",
      "Epoch 30/200\n",
      "13096/13096 [==============================] - 1s 49us/step - loss: 0.3821 - accuracy: 0.8110 - val_loss: 0.3836 - val_accuracy: 0.8063\n",
      "Epoch 31/200\n",
      "13096/13096 [==============================] - 1s 49us/step - loss: 0.3794 - accuracy: 0.8122 - val_loss: 0.3809 - val_accuracy: 0.8063\n",
      "Epoch 32/200\n",
      "13096/13096 [==============================] - 1s 49us/step - loss: 0.3769 - accuracy: 0.8144 - val_loss: 0.3783 - val_accuracy: 0.8070\n",
      "Epoch 33/200\n",
      "13096/13096 [==============================] - 1s 49us/step - loss: 0.3745 - accuracy: 0.8153 - val_loss: 0.3759 - val_accuracy: 0.8104\n",
      "Epoch 34/200\n",
      "13096/13096 [==============================] - 1s 49us/step - loss: 0.3721 - accuracy: 0.8167 - val_loss: 0.3735 - val_accuracy: 0.8132\n",
      "Epoch 35/200\n",
      "13096/13096 [==============================] - 1s 50us/step - loss: 0.3699 - accuracy: 0.8198 - val_loss: 0.3712 - val_accuracy: 0.8118\n",
      "Epoch 36/200\n",
      "13096/13096 [==============================] - 1s 48us/step - loss: 0.3678 - accuracy: 0.8213 - val_loss: 0.3690 - val_accuracy: 0.8118\n",
      "Epoch 37/200\n",
      "13096/13096 [==============================] - 1s 49us/step - loss: 0.3657 - accuracy: 0.8228 - val_loss: 0.3669 - val_accuracy: 0.8146\n",
      "Epoch 38/200\n",
      "13096/13096 [==============================] - 1s 49us/step - loss: 0.3637 - accuracy: 0.8242 - val_loss: 0.3647 - val_accuracy: 0.8152\n",
      "Epoch 39/200\n",
      "13096/13096 [==============================] - 1s 48us/step - loss: 0.3617 - accuracy: 0.8257 - val_loss: 0.3628 - val_accuracy: 0.8166\n",
      "Epoch 40/200\n",
      "13096/13096 [==============================] - 1s 48us/step - loss: 0.3598 - accuracy: 0.8277 - val_loss: 0.3607 - val_accuracy: 0.8180\n",
      "Epoch 41/200\n",
      "13096/13096 [==============================] - 1s 49us/step - loss: 0.3580 - accuracy: 0.8280 - val_loss: 0.3589 - val_accuracy: 0.8194\n",
      "Epoch 42/200\n",
      "13096/13096 [==============================] - 1s 49us/step - loss: 0.3562 - accuracy: 0.8290 - val_loss: 0.3570 - val_accuracy: 0.8194\n",
      "Epoch 43/200\n",
      "13096/13096 [==============================] - 1s 49us/step - loss: 0.3545 - accuracy: 0.8306 - val_loss: 0.3551 - val_accuracy: 0.8214\n",
      "Epoch 44/200\n",
      "13096/13096 [==============================] - 1s 48us/step - loss: 0.3528 - accuracy: 0.8324 - val_loss: 0.3534 - val_accuracy: 0.8249\n",
      "Epoch 45/200\n",
      "13096/13096 [==============================] - 1s 49us/step - loss: 0.3511 - accuracy: 0.8331 - val_loss: 0.3516 - val_accuracy: 0.8276\n",
      "Epoch 46/200\n",
      "13096/13096 [==============================] - 1s 48us/step - loss: 0.3495 - accuracy: 0.8349 - val_loss: 0.3498 - val_accuracy: 0.8283\n",
      "Epoch 47/200\n",
      "13096/13096 [==============================] - 1s 49us/step - loss: 0.3479 - accuracy: 0.8354 - val_loss: 0.3481 - val_accuracy: 0.8331\n",
      "Epoch 48/200\n",
      "13096/13096 [==============================] - 1s 48us/step - loss: 0.3464 - accuracy: 0.8371 - val_loss: 0.3465 - val_accuracy: 0.8324\n",
      "Epoch 49/200\n",
      "13096/13096 [==============================] - 1s 48us/step - loss: 0.3449 - accuracy: 0.8386 - val_loss: 0.3449 - val_accuracy: 0.8345\n",
      "Epoch 50/200\n",
      "13096/13096 [==============================] - 1s 48us/step - loss: 0.3434 - accuracy: 0.8400 - val_loss: 0.3432 - val_accuracy: 0.8372\n",
      "Epoch 51/200\n",
      "13096/13096 [==============================] - 1s 49us/step - loss: 0.3419 - accuracy: 0.8418 - val_loss: 0.3416 - val_accuracy: 0.8393\n",
      "Epoch 52/200\n",
      "13096/13096 [==============================] - 1s 48us/step - loss: 0.3405 - accuracy: 0.8416 - val_loss: 0.3401 - val_accuracy: 0.8400\n",
      "Epoch 53/200\n",
      "13096/13096 [==============================] - 1s 48us/step - loss: 0.3391 - accuracy: 0.8435 - val_loss: 0.3386 - val_accuracy: 0.8413\n",
      "Epoch 54/200\n",
      "13096/13096 [==============================] - 1s 48us/step - loss: 0.3377 - accuracy: 0.8441 - val_loss: 0.3371 - val_accuracy: 0.8420\n",
      "Epoch 55/200\n",
      "13096/13096 [==============================] - 1s 48us/step - loss: 0.3364 - accuracy: 0.8453 - val_loss: 0.3357 - val_accuracy: 0.8441\n",
      "Epoch 56/200\n",
      "13096/13096 [==============================] - 1s 48us/step - loss: 0.3350 - accuracy: 0.8459 - val_loss: 0.3341 - val_accuracy: 0.8434\n",
      "Epoch 57/200\n",
      "13096/13096 [==============================] - 1s 48us/step - loss: 0.3337 - accuracy: 0.8474 - val_loss: 0.3328 - val_accuracy: 0.8441\n",
      "Epoch 58/200\n",
      "13096/13096 [==============================] - 1s 49us/step - loss: 0.3324 - accuracy: 0.8485 - val_loss: 0.3313 - val_accuracy: 0.8455\n",
      "Epoch 59/200\n",
      "13096/13096 [==============================] - 1s 53us/step - loss: 0.3311 - accuracy: 0.8495 - val_loss: 0.3299 - val_accuracy: 0.8455\n",
      "Epoch 60/200\n",
      "13096/13096 [==============================] - 1s 48us/step - loss: 0.3298 - accuracy: 0.8502 - val_loss: 0.3285 - val_accuracy: 0.8489\n",
      "Epoch 61/200\n",
      "13096/13096 [==============================] - 1s 48us/step - loss: 0.3286 - accuracy: 0.8521 - val_loss: 0.3271 - val_accuracy: 0.8496\n",
      "Epoch 62/200\n",
      "13096/13096 [==============================] - 1s 48us/step - loss: 0.3273 - accuracy: 0.8530 - val_loss: 0.3258 - val_accuracy: 0.8510\n",
      "Epoch 63/200\n",
      "13096/13096 [==============================] - 1s 48us/step - loss: 0.3261 - accuracy: 0.8541 - val_loss: 0.3244 - val_accuracy: 0.8510\n",
      "Epoch 64/200\n",
      "13096/13096 [==============================] - 1s 48us/step - loss: 0.3249 - accuracy: 0.8544 - val_loss: 0.3231 - val_accuracy: 0.8503\n",
      "Epoch 65/200\n",
      "13096/13096 [==============================] - 1s 48us/step - loss: 0.3237 - accuracy: 0.8551 - val_loss: 0.3217 - val_accuracy: 0.8516\n",
      "Epoch 66/200\n",
      "13096/13096 [==============================] - 1s 51us/step - loss: 0.3225 - accuracy: 0.8563 - val_loss: 0.3205 - val_accuracy: 0.8523\n",
      "Epoch 67/200\n",
      "13096/13096 [==============================] - 1s 49us/step - loss: 0.3213 - accuracy: 0.8569 - val_loss: 0.3192 - val_accuracy: 0.8516\n",
      "Epoch 68/200\n",
      "13096/13096 [==============================] - ETA: 0s - loss: 0.3207 - accuracy: 0.85 - 1s 49us/step - loss: 0.3202 - accuracy: 0.8588 - val_loss: 0.3179 - val_accuracy: 0.8544\n",
      "Epoch 69/200\n",
      "13096/13096 [==============================] - 1s 49us/step - loss: 0.3190 - accuracy: 0.8598 - val_loss: 0.3167 - val_accuracy: 0.8544\n",
      "Epoch 70/200\n",
      "13096/13096 [==============================] - 1s 49us/step - loss: 0.3179 - accuracy: 0.8608 - val_loss: 0.3154 - val_accuracy: 0.8551\n",
      "Epoch 71/200\n",
      "13096/13096 [==============================] - 1s 48us/step - loss: 0.3168 - accuracy: 0.8620 - val_loss: 0.3142 - val_accuracy: 0.8565\n",
      "Epoch 72/200\n",
      "13096/13096 [==============================] - 1s 48us/step - loss: 0.3157 - accuracy: 0.8624 - val_loss: 0.3129 - val_accuracy: 0.8558\n",
      "Epoch 73/200\n",
      "13096/13096 [==============================] - 1s 49us/step - loss: 0.3146 - accuracy: 0.8634 - val_loss: 0.3117 - val_accuracy: 0.8578\n",
      "Epoch 74/200\n",
      "13096/13096 [==============================] - 1s 49us/step - loss: 0.3135 - accuracy: 0.8641 - val_loss: 0.3106 - val_accuracy: 0.8606\n",
      "Epoch 75/200\n",
      "13096/13096 [==============================] - 1s 48us/step - loss: 0.3124 - accuracy: 0.8658 - val_loss: 0.3093 - val_accuracy: 0.8633\n",
      "Epoch 76/200\n",
      "13096/13096 [==============================] - 1s 48us/step - loss: 0.3113 - accuracy: 0.8668 - val_loss: 0.3081 - val_accuracy: 0.8620\n",
      "Epoch 77/200\n",
      "13096/13096 [==============================] - 1s 48us/step - loss: 0.3102 - accuracy: 0.8666 - val_loss: 0.3071 - val_accuracy: 0.8640\n",
      "Epoch 78/200\n",
      "13096/13096 [==============================] - 1s 48us/step - loss: 0.3092 - accuracy: 0.8687 - val_loss: 0.3058 - val_accuracy: 0.8647\n",
      "Epoch 79/200\n",
      "13096/13096 [==============================] - 1s 48us/step - loss: 0.3081 - accuracy: 0.8687 - val_loss: 0.3047 - val_accuracy: 0.8647\n",
      "Epoch 80/200\n",
      "13096/13096 [==============================] - 1s 49us/step - loss: 0.3071 - accuracy: 0.8703 - val_loss: 0.3035 - val_accuracy: 0.8647\n",
      "Epoch 81/200\n",
      "13096/13096 [==============================] - 1s 49us/step - loss: 0.3060 - accuracy: 0.8710 - val_loss: 0.3023 - val_accuracy: 0.8661\n",
      "Epoch 82/200\n",
      "13096/13096 [==============================] - 1s 49us/step - loss: 0.3050 - accuracy: 0.8716 - val_loss: 0.3012 - val_accuracy: 0.8668\n",
      "Epoch 83/200\n",
      "13096/13096 [==============================] - 1s 49us/step - loss: 0.3040 - accuracy: 0.8724 - val_loss: 0.3001 - val_accuracy: 0.8668\n",
      "Epoch 84/200\n",
      "13096/13096 [==============================] - 1s 48us/step - loss: 0.3030 - accuracy: 0.8730 - val_loss: 0.2990 - val_accuracy: 0.8681\n",
      "Epoch 85/200\n",
      "13096/13096 [==============================] - 1s 48us/step - loss: 0.3020 - accuracy: 0.8736 - val_loss: 0.2979 - val_accuracy: 0.8688\n",
      "Epoch 86/200\n",
      "13096/13096 [==============================] - 1s 48us/step - loss: 0.3010 - accuracy: 0.8747 - val_loss: 0.2968 - val_accuracy: 0.8681\n",
      "Epoch 87/200\n",
      "13096/13096 [==============================] - 1s 48us/step - loss: 0.3000 - accuracy: 0.8756 - val_loss: 0.2958 - val_accuracy: 0.8695\n",
      "Epoch 88/200\n",
      "13096/13096 [==============================] - 1s 48us/step - loss: 0.2990 - accuracy: 0.8759 - val_loss: 0.2947 - val_accuracy: 0.8702\n",
      "Epoch 89/200\n",
      "13096/13096 [==============================] - 1s 48us/step - loss: 0.2980 - accuracy: 0.8774 - val_loss: 0.2936 - val_accuracy: 0.8709\n",
      "Epoch 90/200\n",
      "13096/13096 [==============================] - 1s 49us/step - loss: 0.2970 - accuracy: 0.8779 - val_loss: 0.2925 - val_accuracy: 0.8716\n",
      "Epoch 91/200\n",
      "13096/13096 [==============================] - 1s 48us/step - loss: 0.2961 - accuracy: 0.8788 - val_loss: 0.2915 - val_accuracy: 0.8723\n",
      "Epoch 92/200\n",
      "13096/13096 [==============================] - 1s 48us/step - loss: 0.2951 - accuracy: 0.8804 - val_loss: 0.2905 - val_accuracy: 0.8723\n",
      "Epoch 93/200\n",
      "13096/13096 [==============================] - 1s 48us/step - loss: 0.2941 - accuracy: 0.8800 - val_loss: 0.2895 - val_accuracy: 0.8723\n",
      "Epoch 94/200\n",
      "13096/13096 [==============================] - 1s 48us/step - loss: 0.2932 - accuracy: 0.8805 - val_loss: 0.2884 - val_accuracy: 0.8729\n",
      "Epoch 95/200\n",
      "13096/13096 [==============================] - 1s 49us/step - loss: 0.2923 - accuracy: 0.8814 - val_loss: 0.2874 - val_accuracy: 0.8736\n",
      "Epoch 96/200\n",
      "13096/13096 [==============================] - 1s 48us/step - loss: 0.2913 - accuracy: 0.8822 - val_loss: 0.2864 - val_accuracy: 0.8743\n",
      "Epoch 97/200\n",
      "13096/13096 [==============================] - 1s 48us/step - loss: 0.2904 - accuracy: 0.8823 - val_loss: 0.2853 - val_accuracy: 0.8743\n",
      "Epoch 98/200\n",
      "13096/13096 [==============================] - 1s 48us/step - loss: 0.2894 - accuracy: 0.8827 - val_loss: 0.2844 - val_accuracy: 0.8743\n",
      "Epoch 99/200\n",
      "13096/13096 [==============================] - 1s 48us/step - loss: 0.2886 - accuracy: 0.8841 - val_loss: 0.2834 - val_accuracy: 0.8750\n",
      "Epoch 100/200\n",
      "13096/13096 [==============================] - 1s 48us/step - loss: 0.2876 - accuracy: 0.8841 - val_loss: 0.2824 - val_accuracy: 0.8750\n",
      "Epoch 101/200\n",
      "13096/13096 [==============================] - 1s 48us/step - loss: 0.2867 - accuracy: 0.8848 - val_loss: 0.2815 - val_accuracy: 0.8771\n",
      "Epoch 102/200\n",
      "13096/13096 [==============================] - 1s 49us/step - loss: 0.2858 - accuracy: 0.8857 - val_loss: 0.2805 - val_accuracy: 0.8777\n",
      "Epoch 103/200\n",
      "13096/13096 [==============================] - 1s 48us/step - loss: 0.2849 - accuracy: 0.8857 - val_loss: 0.2795 - val_accuracy: 0.8791\n",
      "Epoch 104/200\n",
      "13096/13096 [==============================] - 1s 48us/step - loss: 0.2840 - accuracy: 0.8864 - val_loss: 0.2785 - val_accuracy: 0.8791\n",
      "Epoch 105/200\n",
      "13096/13096 [==============================] - 1s 49us/step - loss: 0.2831 - accuracy: 0.8862 - val_loss: 0.2777 - val_accuracy: 0.8805\n",
      "Epoch 106/200\n",
      "13096/13096 [==============================] - 1s 49us/step - loss: 0.2823 - accuracy: 0.8871 - val_loss: 0.2767 - val_accuracy: 0.8812\n",
      "Epoch 107/200\n",
      "13096/13096 [==============================] - 1s 48us/step - loss: 0.2814 - accuracy: 0.8879 - val_loss: 0.2757 - val_accuracy: 0.8819\n",
      "Epoch 108/200\n",
      "13096/13096 [==============================] - 1s 49us/step - loss: 0.2805 - accuracy: 0.8887 - val_loss: 0.2748 - val_accuracy: 0.8819\n"
     ]
    },
    {
     "name": "stdout",
     "output_type": "stream",
     "text": [
      "Epoch 109/200\n",
      "13096/13096 [==============================] - 1s 48us/step - loss: 0.2796 - accuracy: 0.8888 - val_loss: 0.2739 - val_accuracy: 0.8826\n",
      "Epoch 110/200\n",
      "13096/13096 [==============================] - 1s 48us/step - loss: 0.2788 - accuracy: 0.8897 - val_loss: 0.2729 - val_accuracy: 0.8832\n",
      "Epoch 111/200\n",
      "13096/13096 [==============================] - 1s 49us/step - loss: 0.2779 - accuracy: 0.8899 - val_loss: 0.2721 - val_accuracy: 0.8846\n",
      "Epoch 112/200\n",
      "13096/13096 [==============================] - 1s 50us/step - loss: 0.2771 - accuracy: 0.8907 - val_loss: 0.2712 - val_accuracy: 0.8846\n",
      "Epoch 113/200\n",
      "13096/13096 [==============================] - 1s 50us/step - loss: 0.2762 - accuracy: 0.8912 - val_loss: 0.2702 - val_accuracy: 0.8860\n",
      "Epoch 114/200\n",
      "13096/13096 [==============================] - 1s 50us/step - loss: 0.2754 - accuracy: 0.8921 - val_loss: 0.2693 - val_accuracy: 0.8853\n",
      "Epoch 115/200\n",
      "13096/13096 [==============================] - 1s 48us/step - loss: 0.2746 - accuracy: 0.8924 - val_loss: 0.2684 - val_accuracy: 0.8880\n",
      "Epoch 116/200\n",
      "13096/13096 [==============================] - 1s 48us/step - loss: 0.2737 - accuracy: 0.8931 - val_loss: 0.2676 - val_accuracy: 0.8887\n",
      "Epoch 117/200\n",
      "13096/13096 [==============================] - 1s 48us/step - loss: 0.2729 - accuracy: 0.8943 - val_loss: 0.2667 - val_accuracy: 0.8894\n",
      "Epoch 118/200\n",
      "13096/13096 [==============================] - 1s 48us/step - loss: 0.2721 - accuracy: 0.8948 - val_loss: 0.2658 - val_accuracy: 0.8908\n",
      "Epoch 119/200\n",
      "13096/13096 [==============================] - 1s 48us/step - loss: 0.2712 - accuracy: 0.8949 - val_loss: 0.2649 - val_accuracy: 0.8908\n",
      "Epoch 120/200\n",
      "13096/13096 [==============================] - 1s 48us/step - loss: 0.2704 - accuracy: 0.8957 - val_loss: 0.2641 - val_accuracy: 0.8908\n",
      "Epoch 121/200\n",
      "13096/13096 [==============================] - 1s 51us/step - loss: 0.2696 - accuracy: 0.8967 - val_loss: 0.2632 - val_accuracy: 0.8908\n",
      "Epoch 122/200\n",
      "13096/13096 [==============================] - 1s 50us/step - loss: 0.2688 - accuracy: 0.8971 - val_loss: 0.2623 - val_accuracy: 0.8908\n",
      "Epoch 123/200\n",
      "13096/13096 [==============================] - 1s 50us/step - loss: 0.2680 - accuracy: 0.8977 - val_loss: 0.2615 - val_accuracy: 0.8922\n",
      "Epoch 124/200\n",
      "13096/13096 [==============================] - 1s 50us/step - loss: 0.2672 - accuracy: 0.8981 - val_loss: 0.2606 - val_accuracy: 0.8922\n",
      "Epoch 125/200\n",
      "13096/13096 [==============================] - 1s 50us/step - loss: 0.2664 - accuracy: 0.8990 - val_loss: 0.2599 - val_accuracy: 0.8929\n",
      "Epoch 126/200\n",
      "13096/13096 [==============================] - 1s 49us/step - loss: 0.2657 - accuracy: 0.8994 - val_loss: 0.2590 - val_accuracy: 0.8929\n",
      "Epoch 127/200\n",
      "13096/13096 [==============================] - 1s 50us/step - loss: 0.2649 - accuracy: 0.8994 - val_loss: 0.2582 - val_accuracy: 0.8929\n",
      "Epoch 128/200\n",
      "13096/13096 [==============================] - 1s 50us/step - loss: 0.2641 - accuracy: 0.9001 - val_loss: 0.2573 - val_accuracy: 0.8935\n",
      "Epoch 129/200\n",
      "13096/13096 [==============================] - 1s 51us/step - loss: 0.2633 - accuracy: 0.9007 - val_loss: 0.2566 - val_accuracy: 0.8977\n",
      "Epoch 130/200\n",
      "13096/13096 [==============================] - 1s 50us/step - loss: 0.2626 - accuracy: 0.9016 - val_loss: 0.2557 - val_accuracy: 0.8970\n",
      "Epoch 131/200\n",
      "13096/13096 [==============================] - 1s 50us/step - loss: 0.2618 - accuracy: 0.9019 - val_loss: 0.2549 - val_accuracy: 0.8977\n",
      "Epoch 132/200\n",
      "13096/13096 [==============================] - 1s 50us/step - loss: 0.2610 - accuracy: 0.9025 - val_loss: 0.2542 - val_accuracy: 0.8990\n",
      "Epoch 133/200\n",
      "13096/13096 [==============================] - 1s 50us/step - loss: 0.2603 - accuracy: 0.9035 - val_loss: 0.2533 - val_accuracy: 0.9004\n",
      "Epoch 134/200\n",
      "13096/13096 [==============================] - 1s 50us/step - loss: 0.2595 - accuracy: 0.9041 - val_loss: 0.2526 - val_accuracy: 0.9011\n",
      "Epoch 135/200\n",
      "13096/13096 [==============================] - 1s 50us/step - loss: 0.2588 - accuracy: 0.9044 - val_loss: 0.2518 - val_accuracy: 0.9011\n",
      "Epoch 136/200\n",
      "13096/13096 [==============================] - 1s 51us/step - loss: 0.2581 - accuracy: 0.9041 - val_loss: 0.2510 - val_accuracy: 0.9032\n",
      "Epoch 137/200\n",
      "13096/13096 [==============================] - 1s 51us/step - loss: 0.2573 - accuracy: 0.9047 - val_loss: 0.2503 - val_accuracy: 0.9038\n",
      "Epoch 138/200\n",
      "13096/13096 [==============================] - 1s 50us/step - loss: 0.2566 - accuracy: 0.9049 - val_loss: 0.2495 - val_accuracy: 0.9038\n",
      "Epoch 139/200\n",
      "13096/13096 [==============================] - 1s 50us/step - loss: 0.2559 - accuracy: 0.9052 - val_loss: 0.2487 - val_accuracy: 0.9045\n",
      "Epoch 140/200\n",
      "13096/13096 [==============================] - 1s 50us/step - loss: 0.2551 - accuracy: 0.9056 - val_loss: 0.2479 - val_accuracy: 0.9038\n",
      "Epoch 141/200\n",
      "13096/13096 [==============================] - 1s 49us/step - loss: 0.2544 - accuracy: 0.9062 - val_loss: 0.2472 - val_accuracy: 0.9052\n",
      "Epoch 142/200\n",
      "13096/13096 [==============================] - 1s 50us/step - loss: 0.2537 - accuracy: 0.9062 - val_loss: 0.2464 - val_accuracy: 0.9052\n",
      "Epoch 143/200\n",
      "13096/13096 [==============================] - 1s 50us/step - loss: 0.2530 - accuracy: 0.9071 - val_loss: 0.2457 - val_accuracy: 0.9059\n",
      "Epoch 144/200\n",
      "13096/13096 [==============================] - 1s 51us/step - loss: 0.2523 - accuracy: 0.9070 - val_loss: 0.2451 - val_accuracy: 0.9066\n",
      "Epoch 145/200\n",
      "13096/13096 [==============================] - 1s 50us/step - loss: 0.2516 - accuracy: 0.9071 - val_loss: 0.2442 - val_accuracy: 0.9073\n",
      "Epoch 146/200\n",
      "13096/13096 [==============================] - 1s 50us/step - loss: 0.2509 - accuracy: 0.9081 - val_loss: 0.2434 - val_accuracy: 0.9073\n",
      "Epoch 147/200\n",
      "13096/13096 [==============================] - 1s 49us/step - loss: 0.2502 - accuracy: 0.9088 - val_loss: 0.2427 - val_accuracy: 0.9073\n",
      "Epoch 148/200\n",
      "13096/13096 [==============================] - 1s 48us/step - loss: 0.2495 - accuracy: 0.9090 - val_loss: 0.2419 - val_accuracy: 0.9080\n",
      "Epoch 149/200\n",
      "13096/13096 [==============================] - 1s 48us/step - loss: 0.2488 - accuracy: 0.9088 - val_loss: 0.2412 - val_accuracy: 0.9080\n",
      "Epoch 150/200\n",
      "13096/13096 [==============================] - 1s 48us/step - loss: 0.2481 - accuracy: 0.9092 - val_loss: 0.2405 - val_accuracy: 0.9093\n",
      "Epoch 151/200\n",
      "13096/13096 [==============================] - 1s 50us/step - loss: 0.2474 - accuracy: 0.9102 - val_loss: 0.2397 - val_accuracy: 0.9087\n",
      "Epoch 152/200\n",
      "13096/13096 [==============================] - 1s 51us/step - loss: 0.2467 - accuracy: 0.9104 - val_loss: 0.2392 - val_accuracy: 0.9107\n",
      "Epoch 153/200\n",
      "13096/13096 [==============================] - 1s 49us/step - loss: 0.2461 - accuracy: 0.9104 - val_loss: 0.2384 - val_accuracy: 0.9100\n",
      "Epoch 154/200\n",
      "13096/13096 [==============================] - 1s 50us/step - loss: 0.2454 - accuracy: 0.9107 - val_loss: 0.2377 - val_accuracy: 0.9100\n",
      "Epoch 155/200\n",
      "13096/13096 [==============================] - 1s 50us/step - loss: 0.2447 - accuracy: 0.9113 - val_loss: 0.2370 - val_accuracy: 0.9107\n",
      "Epoch 156/200\n",
      "13096/13096 [==============================] - 1s 50us/step - loss: 0.2441 - accuracy: 0.9120 - val_loss: 0.2363 - val_accuracy: 0.9100\n",
      "Epoch 157/200\n",
      "13096/13096 [==============================] - 1s 50us/step - loss: 0.2434 - accuracy: 0.9122 - val_loss: 0.2357 - val_accuracy: 0.9107\n",
      "Epoch 158/200\n",
      "13096/13096 [==============================] - 1s 49us/step - loss: 0.2427 - accuracy: 0.9123 - val_loss: 0.2350 - val_accuracy: 0.9114\n",
      "Epoch 159/200\n",
      "13096/13096 [==============================] - 1s 51us/step - loss: 0.2421 - accuracy: 0.9127 - val_loss: 0.2343 - val_accuracy: 0.9114\n",
      "Epoch 160/200\n",
      "13096/13096 [==============================] - 1s 49us/step - loss: 0.2414 - accuracy: 0.9134 - val_loss: 0.2336 - val_accuracy: 0.9114\n",
      "Epoch 161/200\n",
      "13096/13096 [==============================] - 1s 48us/step - loss: 0.2408 - accuracy: 0.9137 - val_loss: 0.2329 - val_accuracy: 0.9128\n",
      "Epoch 162/200\n",
      "13096/13096 [==============================] - 1s 48us/step - loss: 0.2402 - accuracy: 0.9135 - val_loss: 0.2322 - val_accuracy: 0.9121\n",
      "Epoch 163/200\n",
      "13096/13096 [==============================] - 1s 48us/step - loss: 0.2395 - accuracy: 0.9134 - val_loss: 0.2316 - val_accuracy: 0.9128\n",
      "Epoch 164/200\n",
      "13096/13096 [==============================] - 1s 48us/step - loss: 0.2389 - accuracy: 0.9143 - val_loss: 0.2309 - val_accuracy: 0.9135\n",
      "Epoch 165/200\n",
      "13096/13096 [==============================] - 1s 48us/step - loss: 0.2383 - accuracy: 0.9143 - val_loss: 0.2303 - val_accuracy: 0.9141\n",
      "Epoch 166/200\n",
      "13096/13096 [==============================] - 1s 48us/step - loss: 0.2376 - accuracy: 0.9142 - val_loss: 0.2297 - val_accuracy: 0.9162\n",
      "Epoch 167/200\n",
      "13096/13096 [==============================] - 1s 49us/step - loss: 0.2370 - accuracy: 0.9152 - val_loss: 0.2290 - val_accuracy: 0.9190\n",
      "Epoch 168/200\n",
      "13096/13096 [==============================] - 1s 48us/step - loss: 0.2364 - accuracy: 0.9149 - val_loss: 0.2284 - val_accuracy: 0.9183\n",
      "Epoch 169/200\n",
      "13096/13096 [==============================] - 1s 48us/step - loss: 0.2358 - accuracy: 0.9159 - val_loss: 0.2278 - val_accuracy: 0.9190\n",
      "Epoch 170/200\n",
      "13096/13096 [==============================] - 1s 48us/step - loss: 0.2352 - accuracy: 0.9156 - val_loss: 0.2271 - val_accuracy: 0.9190\n",
      "Epoch 171/200\n",
      "13096/13096 [==============================] - 1s 48us/step - loss: 0.2346 - accuracy: 0.9158 - val_loss: 0.2265 - val_accuracy: 0.9203\n",
      "Epoch 172/200\n",
      "13096/13096 [==============================] - 1s 48us/step - loss: 0.2339 - accuracy: 0.9166 - val_loss: 0.2260 - val_accuracy: 0.9190\n",
      "Epoch 173/200\n",
      "13096/13096 [==============================] - 1s 48us/step - loss: 0.2333 - accuracy: 0.9162 - val_loss: 0.2252 - val_accuracy: 0.9203\n",
      "Epoch 174/200\n",
      "13096/13096 [==============================] - 1s 48us/step - loss: 0.2327 - accuracy: 0.9170 - val_loss: 0.2246 - val_accuracy: 0.9203\n",
      "Epoch 175/200\n",
      "13096/13096 [==============================] - 1s 49us/step - loss: 0.2321 - accuracy: 0.9167 - val_loss: 0.2240 - val_accuracy: 0.9203\n",
      "Epoch 176/200\n",
      "13096/13096 [==============================] - 1s 48us/step - loss: 0.2316 - accuracy: 0.9177 - val_loss: 0.2234 - val_accuracy: 0.9203\n",
      "Epoch 177/200\n",
      "13096/13096 [==============================] - 1s 48us/step - loss: 0.2310 - accuracy: 0.9173 - val_loss: 0.2228 - val_accuracy: 0.9210\n",
      "Epoch 178/200\n",
      "13096/13096 [==============================] - 1s 48us/step - loss: 0.2304 - accuracy: 0.9177 - val_loss: 0.2222 - val_accuracy: 0.9217\n",
      "Epoch 179/200\n",
      "13096/13096 [==============================] - 1s 48us/step - loss: 0.2298 - accuracy: 0.9184 - val_loss: 0.2216 - val_accuracy: 0.9217\n",
      "Epoch 180/200\n",
      "13096/13096 [==============================] - 1s 50us/step - loss: 0.2292 - accuracy: 0.9184 - val_loss: 0.2210 - val_accuracy: 0.9217\n",
      "Epoch 181/200\n",
      "13096/13096 [==============================] - 1s 48us/step - loss: 0.2287 - accuracy: 0.9183 - val_loss: 0.2204 - val_accuracy: 0.9217\n",
      "Epoch 182/200\n",
      "13096/13096 [==============================] - 1s 48us/step - loss: 0.2280 - accuracy: 0.9188 - val_loss: 0.2198 - val_accuracy: 0.9217\n",
      "Epoch 183/200\n",
      "13096/13096 [==============================] - 1s 49us/step - loss: 0.2275 - accuracy: 0.9190 - val_loss: 0.2193 - val_accuracy: 0.9217\n",
      "Epoch 184/200\n",
      "13096/13096 [==============================] - 1s 48us/step - loss: 0.2269 - accuracy: 0.9185 - val_loss: 0.2187 - val_accuracy: 0.9217\n",
      "Epoch 185/200\n",
      "13096/13096 [==============================] - 1s 48us/step - loss: 0.2264 - accuracy: 0.9188 - val_loss: 0.2181 - val_accuracy: 0.9217\n",
      "Epoch 186/200\n",
      "13096/13096 [==============================] - 1s 48us/step - loss: 0.2258 - accuracy: 0.9194 - val_loss: 0.2175 - val_accuracy: 0.9217\n",
      "Epoch 187/200\n",
      "13096/13096 [==============================] - 1s 49us/step - loss: 0.2253 - accuracy: 0.9194 - val_loss: 0.2169 - val_accuracy: 0.9210\n",
      "Epoch 188/200\n",
      "13096/13096 [==============================] - 1s 48us/step - loss: 0.2247 - accuracy: 0.9198 - val_loss: 0.2163 - val_accuracy: 0.9224\n",
      "Epoch 189/200\n",
      "13096/13096 [==============================] - 1s 49us/step - loss: 0.2241 - accuracy: 0.9202 - val_loss: 0.2157 - val_accuracy: 0.9210\n",
      "Epoch 190/200\n",
      "13096/13096 [==============================] - 1s 51us/step - loss: 0.2236 - accuracy: 0.9204 - val_loss: 0.2153 - val_accuracy: 0.9217\n",
      "Epoch 191/200\n",
      "13096/13096 [==============================] - 1s 49us/step - loss: 0.2230 - accuracy: 0.9206 - val_loss: 0.2147 - val_accuracy: 0.9217\n",
      "Epoch 192/200\n",
      "13096/13096 [==============================] - 1s 51us/step - loss: 0.2225 - accuracy: 0.9208 - val_loss: 0.2143 - val_accuracy: 0.9217\n",
      "Epoch 193/200\n",
      "13096/13096 [==============================] - 1s 49us/step - loss: 0.2220 - accuracy: 0.9208 - val_loss: 0.2138 - val_accuracy: 0.9217\n",
      "Epoch 194/200\n",
      "13096/13096 [==============================] - 1s 48us/step - loss: 0.2214 - accuracy: 0.9210 - val_loss: 0.2131 - val_accuracy: 0.9217\n",
      "Epoch 195/200\n",
      "13096/13096 [==============================] - 1s 52us/step - loss: 0.2209 - accuracy: 0.9214 - val_loss: 0.2126 - val_accuracy: 0.9217\n",
      "Epoch 196/200\n",
      "13096/13096 [==============================] - 1s 49us/step - loss: 0.2204 - accuracy: 0.9224 - val_loss: 0.2119 - val_accuracy: 0.9238\n",
      "Epoch 197/200\n",
      "13096/13096 [==============================] - 1s 49us/step - loss: 0.2198 - accuracy: 0.9220 - val_loss: 0.2114 - val_accuracy: 0.9224\n",
      "Epoch 198/200\n",
      "13096/13096 [==============================] - 1s 46us/step - loss: 0.2193 - accuracy: 0.9220 - val_loss: 0.2110 - val_accuracy: 0.9224\n",
      "Epoch 199/200\n",
      "13096/13096 [==============================] - 1s 48us/step - loss: 0.2188 - accuracy: 0.9222 - val_loss: 0.2105 - val_accuracy: 0.9231\n",
      "Epoch 200/200\n",
      "13096/13096 [==============================] - 1s 49us/step - loss: 0.2183 - accuracy: 0.9227 - val_loss: 0.2098 - val_accuracy: 0.9258\n"
     ]
    }
   ],
   "source": [
    "acc_training = model.fit(feat_train, label_train, validation_data=(feat_test, label_test), batch_size=40, epochs=200)"
   ]
  },
  {
   "cell_type": "markdown",
   "metadata": {},
   "source": [
    "<h3 align = \"left\"> <font color='black'>Menghitung Akurasi</h5> </font>"
   ]
  },
  {
   "cell_type": "code",
   "execution_count": 10,
   "metadata": {},
   "outputs": [
    {
     "name": "stdout",
     "output_type": "stream",
     "text": [
      "1456/1456 [==============================] - 0s 29us/step\n"
     ]
    },
    {
     "data": {
      "text/plain": [
       "[0.2098444272856136, 0.9258241653442383]"
      ]
     },
     "execution_count": 10,
     "metadata": {},
     "output_type": "execute_result"
    }
   ],
   "source": [
    "acc_testing = model.evaluate(feat_test, label_test) \n",
    "acc_testing"
   ]
  },
  {
   "cell_type": "markdown",
   "metadata": {},
   "source": [
    "<h3 align = \"left\"> <font color='black'>Plotting MODEL AKURASI DAN MODEL LOSS</h5> </font>"
   ]
  },
  {
   "cell_type": "code",
   "execution_count": 11,
   "metadata": {},
   "outputs": [
    {
     "data": {
      "image/png": "[encoded data removed]",
      "text/plain": [
       "<Figure size 432x288 with 1 Axes>"
      ]
     },
     "metadata": {
      "needs_background": "light"
     },
     "output_type": "display_data"
    }
   ],
   "source": [
    "plt.plot(acc_training.history['accuracy'])\n",
    "plt.plot(acc_training.history['val_accuracy'])\n",
    "plt.title('MODEL AKURASI')\n",
    "plt.ylabel('Acc')\n",
    "plt.xlabel('Epoch')\n",
    "plt.legend(['Training', 'Testing'], loc='upper left')\n",
    "plt.show()"
   ]
  },
  {
   "cell_type": "code",
   "execution_count": 12,
   "metadata": {},
   "outputs": [
    {
     "data": {
      "image/png": "[encoded data removed]",
      "text/plain": [
       "<Figure size 432x288 with 1 Axes>"
      ]
     },
     "metadata": {
      "needs_background": "light"
     },
     "output_type": "display_data"
    }
   ],
   "source": [
    "plt.plot(acc_training.history['loss'])\n",
    "plt.plot(acc_training.history['val_loss'])\n",
    "plt.title('MODEL LOSS')\n",
    "plt.ylabel('Loss')\n",
    "plt.xlabel('Epoch')\n",
    "plt.legend(['Training', 'Testing'], loc='upper left')\n",
    "plt.show()"
   ]
  },
  {
   "cell_type": "markdown",
   "metadata": {},
   "source": [
    "<h3 align = \"left\"> <font color='black'>CONFUSION MATRIKS</h5> </font>"
   ]
  },
  {
   "cell_type": "markdown",
   "metadata": {},
   "source": [
    "\n",
    "Confusion matrix adalah suatu metode yang biasanya digunakan untuk melakukan perhitungan akurasi pada konsep data mining. Rumus ini melakukan perhitungan dengan 4 keluaran, yaitu: recall, precision, acuraccy dan error rate.\n",
    "\n",
    "Confusion Matriks terdiri dari\n",
    "- True Positif\n",
    "- False Positif\n",
    "- False Negative\n",
    "- True Negativ\n",
    "\n",
    "True Positives (TP): True positif adalah kasus ketika kelas sebenarnya dari titik data adalah 1 (Benar) dan prediksi juga 1 (Benar)\n",
    "\n",
    "Negatif Benar (TN): True Negatif adalah kasus ketika kelas sebenarnya dari titik data adalah 0 (Salah) dan prediksi juga 0 (Salah\n",
    "\n",
    "Salah Positif (FP): False positif adalah kasus ketika kelas sebenarnya dari titik data adalah 0 (Salah) dan yang diprediksi adalah 1 (Benar).\n",
    "\n",
    "Negatif Palsu (FN): False Negatif adalah kasus ketika kelas sebenarnya dari titik data adalah 1 (Benar) dan prediksi adalah 0 (Salah).\n",
    "\n",
    "Berdasarkan nilai True Negative (TN), False Positive (FP), False Negative (FN), dan True Positive (TP) dapat diperoleh nilai Accuracy, Specificity, Sensitivity, Precision, dan F1 Score. Untuk memperoleh nilai akurasi, presisi dan recall kita dapat menggunakan rumus:\n",
    "\n",
    "<font size = 3>\n",
    "$$\n",
    "F1 Score = \\frac {2 x Sensitivity x Precision}{Sensitivity + Precision}\n",
    "$$\n",
    "</font>"
   ]
  },
  {
   "cell_type": "code",
   "execution_count": 13,
   "metadata": {
    "scrolled": true
   },
   "outputs": [
    {
     "name": "stdout",
     "output_type": "stream",
     "text": [
      "Confussion matriks:\n",
      " [[360  53]\n",
      " [ 55 988]]\n"
     ]
    },
    {
     "data": {
      "text/plain": [
       "<Figure size 432x288 with 0 Axes>"
      ]
     },
     "metadata": {},
     "output_type": "display_data"
    },
    {
     "data": {
      "image/png": "[encoded data removed]",
      "text/plain": [
       "<Figure size 432x288 with 1 Axes>"
      ]
     },
     "metadata": {
      "needs_background": "light"
     },
     "output_type": "display_data"
    }
   ],
   "source": [
    "prediction = model.predict_classes(feat_test)\n",
    "cm = confusion_matrix(label_test, prediction)\n",
    "tp = cm[0,0]\n",
    "tn = cm[1,1]\n",
    "fp = cm[0,1]\n",
    "fn = cm[1,0]\n",
    "print (\"Confussion matriks:\\n\",cm)\n",
    "\n",
    "plt.figure()\n",
    "plot_confusion_matrix(cm,figsize=(6,4), hide_ticks=True,cmap=plt.cm.Blues)\n",
    "plt.xticks(range(2), ['Normal', 'MI'], fontsize=14)\n",
    "plt.yticks(range(2), ['Normal', 'MI'], fontsize=14)\n",
    "plt.show()"
   ]
  },
  {
   "cell_type": "markdown",
   "metadata": {},
   "source": [
    "<h3 align = \"left\"> <font color='black'>EVALUASI MODEL</h5> </font>"
   ]
  },
  {
   "cell_type": "code",
   "execution_count": 14,
   "metadata": {
    "scrolled": true
   },
   "outputs": [
    {
     "name": "stdout",
     "output_type": "stream",
     "text": [
      "precesion :  87.16707021791767\n",
      "recall :  86.74698795180723\n",
      "F1 :  86.95652173913044\n",
      "akurasi :  92.58241758241759\n"
     ]
    }
   ],
   "source": [
    "precision = tp / ( tp + fp)\n",
    "recall = tp/(tp+fn)\n",
    "f1=(2*precision*recall)/ (precision+recall)\n",
    "akurasi = (tp+tn)/(tp+tn+fp+fn)\n",
    "\n",
    "\n",
    "print (\"precesion : \",precision*100)\n",
    "print(\"recall : \",recall*100)\n",
    "print (\"F1 : \",f1*100)\n",
    "print(\"akurasi : \",akurasi*100)"
   ]
  },
  {
   "cell_type": "code",
   "execution_count": 15,
   "metadata": {
    "scrolled": true
   },
   "outputs": [
    {
     "name": "stdout",
     "output_type": "stream",
     "text": [
      "              precision    recall  f1-score   support\n",
      "\n",
      "         0.0       0.87      0.87      0.87       413\n",
      "         1.0       0.95      0.95      0.95      1043\n",
      "\n",
      "    accuracy                           0.93      1456\n",
      "   macro avg       0.91      0.91      0.91      1456\n",
      "weighted avg       0.93      0.93      0.93      1456\n",
      "\n"
     ]
    }
   ],
   "source": [
    "print(classification_report(label_test,prediction))"
   ]
  },
  {
   "cell_type": "markdown",
   "metadata": {},
   "source": [
    "<h3 align = \"left\"> <font color='black'>KESIMPULAN</h5> </font>"
   ]
  },
  {
   "cell_type": "markdown",
   "metadata": {},
   "source": [
    "Dari percobaan yang telah dilakukan maka dapat disimpulkan bahwa dataset PTB ECG mendapatkan akurasi sebesar 92% dengan menggunakan metode Artificial Neural Network."
   ]
  }
 ],
 "metadata": {
  "kernelspec": {
   "display_name": "Python 3",
   "language": "python",
   "name": "python3"
  },
  "language_info": {
   "codemirror_mode": {
    "name": "ipython",
    "version": 3
   },
   "file_extension": ".py",
   "mimetype": "text/x-python",
   "name": "python",
   "nbconvert_exporter": "python",
   "pygments_lexer": "ipython3",
   "version": "3.7.5"
  }
 },
 "nbformat": 4,
 "nbformat_minor": 2
}
