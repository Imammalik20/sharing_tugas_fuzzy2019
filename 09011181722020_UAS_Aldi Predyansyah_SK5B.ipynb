{
 "cells": [
  {
   "cell_type": "markdown",
   "metadata": {},
   "source": [
    "<div class=\"alert alert-success\">\n",
    "<font size=\"4\"><p align=\"justify\"><b>\n",
    "<div class=\"\">\n",
    "<br><br>\n",
    "<center><br><font size=\"12\"><font face=\"calibri\"><strong>UJIAN AKHIR SEMESTER MACHINE LEARNING\n",
    "<center><br><font size=\"5\"><font face=\"calibri\"><strong>Prediksi Penyakit Liver Menggunakan Metode Artificial Neural Network\n",
    "<br><br>\n",
    "<br><strong>Oleh :\n",
    "<br>\n",
    "<br><strong>Aldi Predyansyah\n",
    "<br><strong>09011181722020\n",
    "<br><br>\n",
    "<br><strong>Mata Kuliah Kecerdasan Buatan\n",
    "<br>\n",
    "<br><strong>Dosen Pengampuh : \n",
    "<br><strong>Prof. Dr. Ir. Siti Nurmaini, M.T.\n",
    "<br><br><br>\n",
    "<br><strong>Jurusan Sistem Komputer\n",
    "<br><strong>Fakultas Ilmu Komputer\n",
    "<br><strong>Universitas Sriwijaya\n",
    "<br><strong>2019"
   ]
  },
  {
   "cell_type": "markdown",
   "metadata": {},
   "source": [
    "<div class=\"alert alert-success\">\n",
    "<font size=\"5\"><p align=\"justify\"><b>PENYAKIT LIVER"
   ]
  },
  {
   "cell_type": "markdown",
   "metadata": {},
   "source": [
    "Penyakit liver merupakan penyakit yang terjadi ketika hati mengalami kerusakan yang cukup lumayan yang menyebabkan fungsi liver menjadi terngganggu bahkan jika kerusakan sudah parah akan membuat liver menjadi gagal fungsi dan harus di lakukan transplantasi hati . Penyakit liver sendiri terbagi menjadi dua yaitu:\n",
    "- Penyakit Liver Akut\n",
    "- Penyakit liver kronis\n",
    "<br><br>\n",
    "Dan berikut merupakan Penyebab dari penyakit Liver baik akut maupun Kronis :<br>\n",
    "- Virus (seperti virus hepatitis)\n",
    "- Minum alkohol berat\n",
    "- Obat-obatan tertentu–misalnya, acetaminophen (Tylenol), dapat menyebabkan kerusakan liver yang parah pada orang yang juga memiliki penggunaan alkohol berat\n",
    "- Paparan bahan kimia industri, termasuk pembersihan pelarut, cat aerosolized dan pengencer cat.\n",
    "<br><br>\n",
    "Serta berikut ini adalah gejala dari penyakit liver itu sendiri :<br>\n",
    "- Kelelahan atau kelemahan\n",
    "- Penyakit kuning (menguning mata dan kulit)\n",
    "- Demam\n",
    "- Mual dan muntah\n",
    "- Urin Gelap atau tinja berwarna sangat pucat\n",
    "- Sakit di bawah tulang rusuk di sisi kanan"
   ]
  },
  {
   "cell_type": "markdown",
   "metadata": {},
   "source": [
    "<div class=\"alert alert-success\">\n",
    "<font size=\"5\"><p align=\"justify\"><b>DATASET INDIAN LIVER PATIENT"
   ]
  },
  {
   "cell_type": "markdown",
   "metadata": {},
   "source": [
    "Saya menggunakan dataset Indian Liver Patient yang memiliki 583 data yang menjelaskan tentang data penyakit liver pada pasien di India. Dataset ini memiliki 10 variabel sebagai berikut:\n",
    "1. Age (Age of the patient)\n",
    "2. TB (Total Bilirubin)\n",
    "3. DB (Direct Bilirubin)\n",
    "4. Alkphos (Alkaline Phosphotase)\n",
    "5. Sgpt (Alamine Aminotransferase)\n",
    "6. Sgot (Aspartate Aminotransferase)\n",
    "7. TP (Total Protiens)\n",
    "8. ALB (Albumin)\n",
    "9. A/G (Ratio Albumin and Globulin Ratio)\n",
    "10. Class\n",
    "    - 0 : Tidak Terdiagnosa Penyakit Liver\n",
    "    - 1 : Terdiagnosa Penyakit Liver\n",
    "    \n",
    "Link Dataset : http://archive.ics.uci.edu/ml/datasets/ILPD+%28Indian+Liver+Patient+Dataset%29/3/machine-learning-databases/machine-learning-databases/machine-learning-databases/00225/"
   ]
  },
  {
   "cell_type": "markdown",
   "metadata": {},
   "source": [
    "<div class=\"alert alert-success\">\n",
    "<font size=\"5\"><p align=\"justify\"><b>MEMANGGIL LIBRARY"
   ]
  },
  {
   "cell_type": "markdown",
   "metadata": {},
   "source": [
    "Berikut library yang digunakan pada program kali ini :"
   ]
  },
  {
   "cell_type": "code",
   "execution_count": 1,
   "metadata": {
    "scrolled": true
   },
   "outputs": [
    {
     "name": "stderr",
     "output_type": "stream",
     "text": [
      "Using TensorFlow backend.\n"
     ]
    }
   ],
   "source": [
    "import numpy as np\n",
    "from sklearn.preprocessing import MinMaxScaler\n",
    "import matplotlib.pyplot as plt\n",
    "from sklearn.model_selection import train_test_split \n",
    "from keras.optimizers import Adam\n",
    "from keras.models import Sequential\n",
    "from keras.layers import Dense, Dropout\n",
    "from keras.activations import relu\n",
    "from keras.optimizers import Adam\n",
    "import pandas as pd\n",
    "import sklearn"
   ]
  },
  {
   "cell_type": "markdown",
   "metadata": {},
   "source": [
    "<div class=\"alert alert-success\">\n",
    "<font size=\"5\"><p align=\"justify\"><b>MEMANGGIL DATASET"
   ]
  },
  {
   "cell_type": "markdown",
   "metadata": {},
   "source": [
    "Memanggil dataset yang berada di direktori disk"
   ]
  },
  {
   "cell_type": "code",
   "execution_count": 2,
   "metadata": {},
   "outputs": [],
   "source": [
    "dataset = pd.read_csv(\"C:/Users/aldipred/Downloads/liver.csv\")"
   ]
  },
  {
   "cell_type": "markdown",
   "metadata": {},
   "source": [
    "Memanggil 5 data pertama dan 5 data terakhir dari dataset"
   ]
  },
  {
   "cell_type": "code",
   "execution_count": 3,
   "metadata": {
    "scrolled": true
   },
   "outputs": [
    {
     "data": {
      "text/html": [
       "<div>\n",
       "<style scoped>\n",
       "    .dataframe tbody tr th:only-of-type {\n",
       "        vertical-align: middle;\n",
       "    }\n",
       "\n",
       "    .dataframe tbody tr th {\n",
       "        vertical-align: top;\n",
       "    }\n",
       "\n",
       "    .dataframe thead th {\n",
       "        text-align: right;\n",
       "    }\n",
       "</style>\n",
       "<table border=\"1\" class=\"dataframe\">\n",
       "  <thead>\n",
       "    <tr style=\"text-align: right;\">\n",
       "      <th></th>\n",
       "      <th>age</th>\n",
       "      <th>TB</th>\n",
       "      <th>DB</th>\n",
       "      <th>alkphos</th>\n",
       "      <th>sgpt</th>\n",
       "      <th>sgot</th>\n",
       "      <th>TP</th>\n",
       "      <th>ALB</th>\n",
       "      <th>A_G</th>\n",
       "      <th>class</th>\n",
       "    </tr>\n",
       "  </thead>\n",
       "  <tbody>\n",
       "    <tr>\n",
       "      <th>0</th>\n",
       "      <td>65</td>\n",
       "      <td>0.7</td>\n",
       "      <td>0.1</td>\n",
       "      <td>187</td>\n",
       "      <td>16</td>\n",
       "      <td>18</td>\n",
       "      <td>6.8</td>\n",
       "      <td>3.3</td>\n",
       "      <td>0.90</td>\n",
       "      <td>0</td>\n",
       "    </tr>\n",
       "    <tr>\n",
       "      <th>1</th>\n",
       "      <td>62</td>\n",
       "      <td>10.9</td>\n",
       "      <td>5.5</td>\n",
       "      <td>699</td>\n",
       "      <td>64</td>\n",
       "      <td>100</td>\n",
       "      <td>7.5</td>\n",
       "      <td>3.2</td>\n",
       "      <td>0.74</td>\n",
       "      <td>0</td>\n",
       "    </tr>\n",
       "    <tr>\n",
       "      <th>2</th>\n",
       "      <td>62</td>\n",
       "      <td>7.3</td>\n",
       "      <td>4.1</td>\n",
       "      <td>490</td>\n",
       "      <td>60</td>\n",
       "      <td>68</td>\n",
       "      <td>7.0</td>\n",
       "      <td>3.3</td>\n",
       "      <td>0.89</td>\n",
       "      <td>0</td>\n",
       "    </tr>\n",
       "    <tr>\n",
       "      <th>3</th>\n",
       "      <td>58</td>\n",
       "      <td>1.0</td>\n",
       "      <td>0.4</td>\n",
       "      <td>182</td>\n",
       "      <td>14</td>\n",
       "      <td>20</td>\n",
       "      <td>6.8</td>\n",
       "      <td>3.4</td>\n",
       "      <td>1.00</td>\n",
       "      <td>0</td>\n",
       "    </tr>\n",
       "    <tr>\n",
       "      <th>4</th>\n",
       "      <td>72</td>\n",
       "      <td>3.9</td>\n",
       "      <td>2.0</td>\n",
       "      <td>195</td>\n",
       "      <td>27</td>\n",
       "      <td>59</td>\n",
       "      <td>7.3</td>\n",
       "      <td>2.4</td>\n",
       "      <td>0.40</td>\n",
       "      <td>0</td>\n",
       "    </tr>\n",
       "  </tbody>\n",
       "</table>\n",
       "</div>"
      ],
      "text/plain": [
       "   age    TB   DB  alkphos  sgpt  sgot   TP  ALB   A_G  class\n",
       "0   65   0.7  0.1      187    16    18  6.8  3.3  0.90      0\n",
       "1   62  10.9  5.5      699    64   100  7.5  3.2  0.74      0\n",
       "2   62   7.3  4.1      490    60    68  7.0  3.3  0.89      0\n",
       "3   58   1.0  0.4      182    14    20  6.8  3.4  1.00      0\n",
       "4   72   3.9  2.0      195    27    59  7.3  2.4  0.40      0"
      ]
     },
     "execution_count": 3,
     "metadata": {},
     "output_type": "execute_result"
    }
   ],
   "source": [
    "#memanggil 5 data pertama\n",
    "dataset.head()"
   ]
  },
  {
   "cell_type": "code",
   "execution_count": 4,
   "metadata": {
    "scrolled": true
   },
   "outputs": [
    {
     "data": {
      "text/html": [
       "<div>\n",
       "<style scoped>\n",
       "    .dataframe tbody tr th:only-of-type {\n",
       "        vertical-align: middle;\n",
       "    }\n",
       "\n",
       "    .dataframe tbody tr th {\n",
       "        vertical-align: top;\n",
       "    }\n",
       "\n",
       "    .dataframe thead th {\n",
       "        text-align: right;\n",
       "    }\n",
       "</style>\n",
       "<table border=\"1\" class=\"dataframe\">\n",
       "  <thead>\n",
       "    <tr style=\"text-align: right;\">\n",
       "      <th></th>\n",
       "      <th>age</th>\n",
       "      <th>TB</th>\n",
       "      <th>DB</th>\n",
       "      <th>alkphos</th>\n",
       "      <th>sgpt</th>\n",
       "      <th>sgot</th>\n",
       "      <th>TP</th>\n",
       "      <th>ALB</th>\n",
       "      <th>A_G</th>\n",
       "      <th>class</th>\n",
       "    </tr>\n",
       "  </thead>\n",
       "  <tbody>\n",
       "    <tr>\n",
       "      <th>578</th>\n",
       "      <td>60</td>\n",
       "      <td>0.5</td>\n",
       "      <td>0.1</td>\n",
       "      <td>500</td>\n",
       "      <td>20</td>\n",
       "      <td>34</td>\n",
       "      <td>5.9</td>\n",
       "      <td>1.6</td>\n",
       "      <td>0.37</td>\n",
       "      <td>1</td>\n",
       "    </tr>\n",
       "    <tr>\n",
       "      <th>579</th>\n",
       "      <td>40</td>\n",
       "      <td>0.6</td>\n",
       "      <td>0.1</td>\n",
       "      <td>98</td>\n",
       "      <td>35</td>\n",
       "      <td>31</td>\n",
       "      <td>6.0</td>\n",
       "      <td>3.2</td>\n",
       "      <td>1.10</td>\n",
       "      <td>0</td>\n",
       "    </tr>\n",
       "    <tr>\n",
       "      <th>580</th>\n",
       "      <td>52</td>\n",
       "      <td>0.8</td>\n",
       "      <td>0.2</td>\n",
       "      <td>245</td>\n",
       "      <td>48</td>\n",
       "      <td>49</td>\n",
       "      <td>6.4</td>\n",
       "      <td>3.2</td>\n",
       "      <td>1.00</td>\n",
       "      <td>0</td>\n",
       "    </tr>\n",
       "    <tr>\n",
       "      <th>581</th>\n",
       "      <td>31</td>\n",
       "      <td>1.3</td>\n",
       "      <td>0.5</td>\n",
       "      <td>184</td>\n",
       "      <td>29</td>\n",
       "      <td>32</td>\n",
       "      <td>6.8</td>\n",
       "      <td>3.4</td>\n",
       "      <td>1.00</td>\n",
       "      <td>0</td>\n",
       "    </tr>\n",
       "    <tr>\n",
       "      <th>582</th>\n",
       "      <td>38</td>\n",
       "      <td>1.0</td>\n",
       "      <td>0.3</td>\n",
       "      <td>216</td>\n",
       "      <td>21</td>\n",
       "      <td>24</td>\n",
       "      <td>7.3</td>\n",
       "      <td>4.4</td>\n",
       "      <td>1.50</td>\n",
       "      <td>1</td>\n",
       "    </tr>\n",
       "  </tbody>\n",
       "</table>\n",
       "</div>"
      ],
      "text/plain": [
       "     age   TB   DB  alkphos  sgpt  sgot   TP  ALB   A_G  class\n",
       "578   60  0.5  0.1      500    20    34  5.9  1.6  0.37      1\n",
       "579   40  0.6  0.1       98    35    31  6.0  3.2  1.10      0\n",
       "580   52  0.8  0.2      245    48    49  6.4  3.2  1.00      0\n",
       "581   31  1.3  0.5      184    29    32  6.8  3.4  1.00      0\n",
       "582   38  1.0  0.3      216    21    24  7.3  4.4  1.50      1"
      ]
     },
     "execution_count": 4,
     "metadata": {},
     "output_type": "execute_result"
    }
   ],
   "source": [
    "#memanggil 5 data terakhir\n",
    "dataset.tail()"
   ]
  },
  {
   "cell_type": "markdown",
   "metadata": {},
   "source": [
    "Menampilkan informasi dari dataset"
   ]
  },
  {
   "cell_type": "code",
   "execution_count": 5,
   "metadata": {
    "scrolled": true
   },
   "outputs": [
    {
     "name": "stdout",
     "output_type": "stream",
     "text": [
      "<class 'pandas.core.frame.DataFrame'>\n",
      "RangeIndex: 583 entries, 0 to 582\n",
      "Data columns (total 10 columns):\n",
      "age        583 non-null int64\n",
      "TB         583 non-null float64\n",
      "DB         583 non-null float64\n",
      "alkphos    583 non-null int64\n",
      "sgpt       583 non-null int64\n",
      "sgot       583 non-null int64\n",
      "TP         583 non-null float64\n",
      "ALB        583 non-null float64\n",
      "A_G        583 non-null float64\n",
      "class      583 non-null int64\n",
      "dtypes: float64(5), int64(5)\n",
      "memory usage: 45.7 KB\n"
     ]
    }
   ],
   "source": [
    "#menampilkan informasi\n",
    "dataset.info()"
   ]
  },
  {
   "cell_type": "markdown",
   "metadata": {},
   "source": [
    "Terlihat diatas bahwa dataset memiliki 583 baris dimulai dari 0 sampai 582, dengan 10 variabel"
   ]
  },
  {
   "cell_type": "markdown",
   "metadata": {},
   "source": [
    "<div class=\"alert alert-success\">\n",
    "<font size=\"5\"><p align=\"justify\"><b>PREPROCESSING"
   ]
  },
  {
   "cell_type": "markdown",
   "metadata": {},
   "source": [
    "Berikut merupakan perintah untuk memisahkan antara fitur dan label:"
   ]
  },
  {
   "cell_type": "code",
   "execution_count": 6,
   "metadata": {},
   "outputs": [],
   "source": [
    "fitur = dataset.iloc[:, 0:9].values #variabel fitur sebagai inputan dari 0 sampai 9\n",
    "label = dataset.iloc[:, -1].values #variabel label sebagai outputan pada kolom terakhir"
   ]
  },
  {
   "cell_type": "markdown",
   "metadata": {},
   "source": [
    "<div class=\"alert alert-success\">\n",
    "<font size=\"5\"><p align=\"justify\"><b>SEBARAN FITUR DIAGNOSIS"
   ]
  },
  {
   "cell_type": "markdown",
   "metadata": {},
   "source": [
    "<div class=\"alert alert-success\">\n",
    "<font size=\"3\"><p align=\"justify\"><b>Inputan Dengan Histogram"
   ]
  },
  {
   "cell_type": "code",
   "execution_count": 7,
   "metadata": {},
   "outputs": [
    {
     "data": {
      "image/png": "[encoded data removed]",
      "text/plain": [
       "<Figure size 1008x1008 with 12 Axes>"
      ]
     },
     "metadata": {
      "needs_background": "light"
     },
     "output_type": "display_data"
    }
   ],
   "source": [
    "dataset.hist(figsize=(14,14)) #dataset ditampilkan dengan histogram\n",
    "plt.show() #perintah menampilkan"
   ]
  },
  {
   "cell_type": "markdown",
   "metadata": {},
   "source": [
    "<div class=\"alert alert-success\">\n",
    "<font size=\"3\"><p align=\"justify\"><b>Output Dengan Seaborn"
   ]
  },
  {
   "cell_type": "code",
   "execution_count": 8,
   "metadata": {
    "scrolled": true
   },
   "outputs": [
    {
     "data": {
      "text/plain": [
       "<matplotlib.axes._subplots.AxesSubplot at 0x22a1e334108>"
      ]
     },
     "execution_count": 8,
     "metadata": {},
     "output_type": "execute_result"
    },
    {
     "data": {
      "image/png": "[encoded data removed]",
      "text/plain": [
       "<Figure size 432x288 with 1 Axes>"
      ]
     },
     "metadata": {
      "needs_background": "light"
     },
     "output_type": "display_data"
    }
   ],
   "source": [
    "import seaborn as sns\n",
    "sns.countplot(label) #persebaran output ditampilkan dengan seaborn"
   ]
  },
  {
   "cell_type": "markdown",
   "metadata": {},
   "source": [
    "<div class=\"alert alert-success\">\n",
    "<font size=\"3\"><p align=\"justify\"><b>SPLITTING DATA"
   ]
  },
  {
   "cell_type": "markdown",
   "metadata": {},
   "source": [
    "Untuk parameter:\n",
    "\n",
    "- test_size : proporsi test set, dalam hal ini 0.2.\n",
    "- train_size: proporsi train size. Jika tidak di set, maka akan menyesuaikan dengan test size (dalam kasus ini 0.8). Berlaku kebalikannya.\n",
    "- random_state : konstan ini akan membuat hasil splitting tetap sama antar runtime atau antar mesin."
   ]
  },
  {
   "cell_type": "code",
   "execution_count": 9,
   "metadata": {},
   "outputs": [],
   "source": [
    "from sklearn.model_selection import train_test_split\n",
    "X_train, X_test, y_train, y_test = train_test_split(fitur, label, test_size=0.2, random_state=20)"
   ]
  },
  {
   "cell_type": "markdown",
   "metadata": {},
   "source": [
    "<div class=\"alert alert-success\">\n",
    "<font size=\"3\"><p align=\"justify\"><b>FEATURE SCALLING"
   ]
  },
  {
   "cell_type": "markdown",
   "metadata": {},
   "source": [
    "Selanjutnya kita perlu menskalakan kolom-kolom yang dibutuhkan. Dalam hal ini saya menggunakan metode **Min-Max Scalling** <br><br>\n",
    "&ensp; **Min-Max Scalling** bekerja dengan scaling data/menyesuaikan data dalam rentang/range tertentu (range nilai minimum hingga nilai maksimum), dengan rentang yang biasa digunakan adalah 0"
   ]
  },
  {
   "cell_type": "code",
   "execution_count": 10,
   "metadata": {},
   "outputs": [],
   "source": [
    "from sklearn.preprocessing import MinMaxScaler\n",
    "scaler = MinMaxScaler() #menggunakan metode MinMaxScaler\n",
    "X_train = scaler.fit_transform(X_train)\n",
    "X_test = scaler.transform(X_test)"
   ]
  },
  {
   "cell_type": "code",
   "execution_count": 11,
   "metadata": {},
   "outputs": [
    {
     "name": "stderr",
     "output_type": "stream",
     "text": [
      "C:\\Users\\aldipred\\Anaconda3\\lib\\site-packages\\sklearn\\preprocessing\\_encoders.py:415: FutureWarning: The handling of integer data will change in version 0.22. Currently, the categories are determined based on the range [0, max(values)], while in the future they will be determined based on the unique values.\n",
      "If you want the future behaviour and silence this warning, you can specify \"categories='auto'\".\n",
      "In case you used a LabelEncoder before this OneHotEncoder to convert the categories to integers, then you can now use the OneHotEncoder directly.\n",
      "  warnings.warn(msg, FutureWarning)\n"
     ]
    }
   ],
   "source": [
    "# One hot encode target values\n",
    "from sklearn.preprocessing import LabelEncoder, OneHotEncoder\n",
    "one_hot = OneHotEncoder()\n",
    "y_train = one_hot.fit_transform(y_train.reshape(-1, 1)).todense()\n",
    "y_test = one_hot.transform(y_test.reshape(-1, 1)).todense()"
   ]
  },
  {
   "cell_type": "markdown",
   "metadata": {},
   "source": [
    "<div class=\"alert alert-success\">\n",
    "<font size=\"5\"><p align=\"justify\"><b>ARTIFICIAL NEURAL NETWORK"
   ]
  },
  {
   "cell_type": "markdown",
   "metadata": {},
   "source": [
    "- Artificial Neural Network adalah paradigma\n",
    "pengolahan informasi yang terinspirasi oleh sistem saraf secara biologis, seperti\n",
    "proses informasi pada otak manusia.\n",
    "- ANN adalah tools yang sangat baik untuk menemukan pola yang terlalu rumit atau banyak bagi seorang programmer untuk mengekstraksi dan mengajarkan mesin untuk mengenali sesuatu.\n",
    "- Lapisan-lapisan penyusun ANN dibagi menjadi 3, yaitu\n",
    "lapisan input (input layer), lapisan tersembunyi (hidden layer), dan lapisan output\n",
    "(ouput layer)"
   ]
  },
  {
   "cell_type": "markdown",
   "metadata": {},
   "source": [
    "<div class=\"alert alert-success\">\n",
    "<font size=\"3\"><p align=\"justify\"><b> MODEL ARTIFICIAL NEURAL NETWORK"
   ]
  },
  {
   "cell_type": "markdown",
   "metadata": {},
   "source": [
    "Dalam hal ini digunakan model Sequential(). \n",
    "1. Input layer -> Layer pertama terbentuk dari 9 layer Neural sesuai fitur dengan menggunakan activation relu.\n",
    "2. Hidden Layer -> 18 units Neural Network dengan menggunakan activation relu.\n",
    "3. Output layer -> 2 unit Neural Network dengan menggunakan activation sigmoid."
   ]
  },
  {
   "cell_type": "code",
   "execution_count": 12,
   "metadata": {},
   "outputs": [],
   "source": [
    "model = Sequential()\n",
    "\n",
    "#Hidden Layer Dan Input Layer\n",
    "model.add(Dense(units=18, input_dim = 9, activation='relu'))\n",
    "\n",
    "#Output Layer\n",
    "model.add(Dense(units= 2, activation='sigmoid'))\n",
    "model.compile(optimizer=Adam(lr=0.001), loss='binary_crossentropy', metrics=['accuracy'])"
   ]
  },
  {
   "cell_type": "markdown",
   "metadata": {},
   "source": [
    "<div class=\"alert alert-success\">\n",
    "<font size=\"3\"><p align=\"justify\"><b>TRAINING MODEL"
   ]
  },
  {
   "cell_type": "code",
   "execution_count": 13,
   "metadata": {
    "scrolled": false
   },
   "outputs": [
    {
     "name": "stdout",
     "output_type": "stream",
     "text": [
      "Train on 466 samples, validate on 117 samples\n",
      "Epoch 1/30\n",
      "466/466 [==============================] - 0s 1ms/step - loss: 0.6991 - accuracy: 0.4227 - val_loss: 0.6974 - val_accuracy: 0.4188\n",
      "Epoch 2/30\n",
      "466/466 [==============================] - 0s 86us/step - loss: 0.6939 - accuracy: 0.4635 - val_loss: 0.6919 - val_accuracy: 0.4786\n",
      "Epoch 3/30\n",
      "466/466 [==============================] - 0s 103us/step - loss: 0.6886 - accuracy: 0.5118 - val_loss: 0.6863 - val_accuracy: 0.5171\n",
      "Epoch 4/30\n",
      "466/466 [==============================] - 0s 77us/step - loss: 0.6833 - accuracy: 0.5451 - val_loss: 0.6805 - val_accuracy: 0.5385\n",
      "Epoch 5/30\n",
      "466/466 [==============================] - 0s 103us/step - loss: 0.6777 - accuracy: 0.5719 - val_loss: 0.6742 - val_accuracy: 0.6282\n",
      "Epoch 6/30\n",
      "466/466 [==============================] - 0s 69us/step - loss: 0.6717 - accuracy: 0.6298 - val_loss: 0.6674 - val_accuracy: 0.6880\n",
      "Epoch 7/30\n",
      "466/466 [==============================] - 0s 94us/step - loss: 0.6656 - accuracy: 0.6792 - val_loss: 0.6597 - val_accuracy: 0.7094\n",
      "Epoch 8/30\n",
      "466/466 [==============================] - 0s 94us/step - loss: 0.6588 - accuracy: 0.7039 - val_loss: 0.6516 - val_accuracy: 0.7179\n",
      "Epoch 9/30\n",
      "466/466 [==============================] - 0s 155us/step - loss: 0.6514 - accuracy: 0.7071 - val_loss: 0.6438 - val_accuracy: 0.7179\n",
      "Epoch 10/30\n",
      "466/466 [==============================] - 0s 86us/step - loss: 0.6444 - accuracy: 0.7114 - val_loss: 0.6364 - val_accuracy: 0.7179\n",
      "Epoch 11/30\n",
      "466/466 [==============================] - 0s 69us/step - loss: 0.6372 - accuracy: 0.7124 - val_loss: 0.6299 - val_accuracy: 0.7179\n",
      "Epoch 12/30\n",
      "466/466 [==============================] - 0s 86us/step - loss: 0.6311 - accuracy: 0.7124 - val_loss: 0.6230 - val_accuracy: 0.7179\n",
      "Epoch 13/30\n",
      "466/466 [==============================] - 0s 69us/step - loss: 0.6236 - accuracy: 0.7124 - val_loss: 0.6167 - val_accuracy: 0.7179\n",
      "Epoch 14/30\n",
      "466/466 [==============================] - 0s 86us/step - loss: 0.6173 - accuracy: 0.7124 - val_loss: 0.6105 - val_accuracy: 0.7179\n",
      "Epoch 15/30\n",
      "466/466 [==============================] - 0s 94us/step - loss: 0.6112 - accuracy: 0.7124 - val_loss: 0.6050 - val_accuracy: 0.7179\n",
      "Epoch 16/30\n",
      "466/466 [==============================] - 0s 94us/step - loss: 0.6060 - accuracy: 0.7124 - val_loss: 0.6001 - val_accuracy: 0.7179\n",
      "Epoch 17/30\n",
      "466/466 [==============================] - 0s 77us/step - loss: 0.6012 - accuracy: 0.7124 - val_loss: 0.5959 - val_accuracy: 0.7179\n",
      "Epoch 18/30\n",
      "466/466 [==============================] - 0s 69us/step - loss: 0.5977 - accuracy: 0.7124 - val_loss: 0.5923 - val_accuracy: 0.7179\n",
      "Epoch 19/30\n",
      "466/466 [==============================] - 0s 94us/step - loss: 0.5938 - accuracy: 0.7124 - val_loss: 0.5899 - val_accuracy: 0.7179\n",
      "Epoch 20/30\n",
      "466/466 [==============================] - 0s 86us/step - loss: 0.5913 - accuracy: 0.7124 - val_loss: 0.5878 - val_accuracy: 0.7179\n",
      "Epoch 21/30\n",
      "466/466 [==============================] - 0s 86us/step - loss: 0.5889 - accuracy: 0.7124 - val_loss: 0.5856 - val_accuracy: 0.7179\n",
      "Epoch 22/30\n",
      "466/466 [==============================] - 0s 77us/step - loss: 0.5862 - accuracy: 0.7124 - val_loss: 0.5839 - val_accuracy: 0.7179\n",
      "Epoch 23/30\n",
      "466/466 [==============================] - 0s 94us/step - loss: 0.5844 - accuracy: 0.7124 - val_loss: 0.5822 - val_accuracy: 0.7179\n",
      "Epoch 24/30\n",
      "466/466 [==============================] - 0s 94us/step - loss: 0.5823 - accuracy: 0.7124 - val_loss: 0.5809 - val_accuracy: 0.7179\n",
      "Epoch 25/30\n",
      "466/466 [==============================] - 0s 69us/step - loss: 0.5805 - accuracy: 0.7124 - val_loss: 0.5798 - val_accuracy: 0.7179\n",
      "Epoch 26/30\n",
      "466/466 [==============================] - 0s 94us/step - loss: 0.5787 - accuracy: 0.7124 - val_loss: 0.5786 - val_accuracy: 0.7179\n",
      "Epoch 27/30\n",
      "466/466 [==============================] - 0s 69us/step - loss: 0.5771 - accuracy: 0.7124 - val_loss: 0.5775 - val_accuracy: 0.7179\n",
      "Epoch 28/30\n",
      "466/466 [==============================] - 0s 137us/step - loss: 0.5755 - accuracy: 0.7124 - val_loss: 0.5763 - val_accuracy: 0.7179\n",
      "Epoch 29/30\n",
      "466/466 [==============================] - 0s 69us/step - loss: 0.5739 - accuracy: 0.7124 - val_loss: 0.5752 - val_accuracy: 0.7179\n",
      "Epoch 30/30\n",
      "466/466 [==============================] - 0s 69us/step - loss: 0.5722 - accuracy: 0.7124 - val_loss: 0.5743 - val_accuracy: 0.7179\n"
     ]
    }
   ],
   "source": [
    "#Proses training\n",
    "training = model.fit(X_train, y_train, validation_data=(X_test, y_test), batch_size=64, \n",
    "                         epochs=30)"
   ]
  },
  {
   "cell_type": "markdown",
   "metadata": {},
   "source": [
    "<div class=\"alert alert-success\">\n",
    "<font size=\"3\"><p align=\"justify\"><b>MENGHITUNG AKURASI"
   ]
  },
  {
   "cell_type": "markdown",
   "metadata": {},
   "source": [
    "Berikut hasil akurasinya:"
   ]
  },
  {
   "cell_type": "code",
   "execution_count": 14,
   "metadata": {
    "scrolled": true
   },
   "outputs": [
    {
     "name": "stdout",
     "output_type": "stream",
     "text": [
      "117/117 [==============================] - 0s 171us/step\n"
     ]
    },
    {
     "data": {
      "text/plain": [
       "[0.5742678071698571, 0.7179487347602844]"
      ]
     },
     "execution_count": 14,
     "metadata": {},
     "output_type": "execute_result"
    }
   ],
   "source": [
    "testing = model.evaluate(X_test, y_test)\n",
    "testing"
   ]
  },
  {
   "cell_type": "markdown",
   "metadata": {},
   "source": [
    "<div class=\"alert alert-success\">\n",
    "<font size=\"3\"><p align=\"justify\"><b> PLOT MODEL AKURASI"
   ]
  },
  {
   "cell_type": "code",
   "execution_count": 15,
   "metadata": {},
   "outputs": [
    {
     "data": {
      "image/png": "[encoded data removed]",
      "text/plain": [
       "<Figure size 432x288 with 1 Axes>"
      ]
     },
     "metadata": {
      "needs_background": "light"
     },
     "output_type": "display_data"
    }
   ],
   "source": [
    "plt.plot(training.history['accuracy'],color = 'red')\n",
    "plt.plot(training.history['val_accuracy'], color = 'blue')\n",
    "plt.title('model accuracy')\n",
    "plt.ylabel('Akurasi')\n",
    "plt.xlabel('Epoch')\n",
    "plt.legend(['Data Training', 'Data Testing'], loc='upper left')\n",
    "plt.show()"
   ]
  },
  {
   "cell_type": "markdown",
   "metadata": {},
   "source": [
    "<div class=\"alert alert-success\">\n",
    "<font size=\"3\"><p align=\"justify\"><b> PLOT MODEL LOSS"
   ]
  },
  {
   "cell_type": "code",
   "execution_count": 16,
   "metadata": {},
   "outputs": [
    {
     "data": {
      "image/png": "[encoded data removed]",
      "text/plain": [
       "<Figure size 432x288 with 1 Axes>"
      ]
     },
     "metadata": {
      "needs_background": "light"
     },
     "output_type": "display_data"
    }
   ],
   "source": [
    "plt.plot(training.history['loss'], color='red')\n",
    "plt.plot(training.history['val_loss'], color='blue')\n",
    "plt.title('Model Loss')\n",
    "plt.ylabel('Loss')\n",
    "plt.xlabel('Epoch')\n",
    "plt.legend(['Data Training', 'Data Testing'], loc='upper left')\n",
    "plt.show()"
   ]
  },
  {
   "cell_type": "code",
   "execution_count": 17,
   "metadata": {},
   "outputs": [],
   "source": [
    "prediction_x = model.predict_classes(X_test)"
   ]
  },
  {
   "cell_type": "code",
   "execution_count": 18,
   "metadata": {},
   "outputs": [],
   "source": [
    "#mengubah data y_test kedalam bentuk array\n",
    "prediction_y = [np.argmax(t) for t in y_test]\n",
    "prediction_y = np.array(prediction_y)"
   ]
  },
  {
   "cell_type": "markdown",
   "metadata": {},
   "source": [
    "<div class=\"alert alert-success\">\n",
    "<font size=\"5\"><p align=\"justify\"><b> EVALUASI MODEL"
   ]
  },
  {
   "cell_type": "markdown",
   "metadata": {},
   "source": [
    "**Confusion Matrix** adalah teknik untuk meringkas perfomance dari algoritma klasifikasinya.\n",
    "\n",
    "Klasifikasi akurasi bisa saja *misleading* jika memiliki jumlah pengamatan yang tidak sama di setiap kelas atau jika  memiliki lebih dari dua kelas dalam dataset Anda."
   ]
  },
  {
   "cell_type": "code",
   "execution_count": 19,
   "metadata": {},
   "outputs": [
    {
     "name": "stdout",
     "output_type": "stream",
     "text": [
      "Confusion Matrix : \n",
      " [[84 33]\n",
      " [ 0  0]]\n"
     ]
    }
   ],
   "source": [
    "from sklearn.metrics import confusion_matrix\n",
    "ConfusionMatrix = confusion_matrix(prediction_x, prediction_y)\n",
    "cm = ConfusionMatrix\n",
    "tp = cm[0,0]\n",
    "tn = cm[1,1]\n",
    "fp = cm[0,1]\n",
    "fn = cm[1,0]\n",
    "print(\"Confusion Matrix : \\n\", cm)"
   ]
  },
  {
   "cell_type": "markdown",
   "metadata": {},
   "source": [
    "<div class=\"alert alert-success\">\n",
    "<font size=\"5\"><p align=\"justify\"><b> EVALUASI MODEL DENGAN CONFUSION MATRIKS"
   ]
  },
  {
   "cell_type": "markdown",
   "metadata": {},
   "source": [
    "<div class=\"alert alert-success\">\n",
    "<font size=\"4\"><p align=\"justify\"><b> 1. AKURASI"
   ]
  },
  {
   "cell_type": "markdown",
   "metadata": {},
   "source": [
    "Akurasi adalah rasio prediksi Benar (positif dan negatif) dengan keseluruhan data.<br><br>\n",
    "Berikut cara menghitung nilai akurasi pada confusion matriks:\n",
    "\n",
    "\\begin{split}Akurasi = \\frac{TP+TN} {TP+FP+FN+TN}\\end{split}"
   ]
  },
  {
   "cell_type": "code",
   "execution_count": 20,
   "metadata": {},
   "outputs": [
    {
     "name": "stdout",
     "output_type": "stream",
     "text": [
      "Hasil Akurasi =  0.717948717948718\n"
     ]
    }
   ],
   "source": [
    "#rumus menghitung akurasi\n",
    "akurasi = (tp+tn) / (tp+fp+fn+tn)\n",
    "print(\"Hasil Akurasi = \", akurasi)"
   ]
  },
  {
   "cell_type": "markdown",
   "metadata": {},
   "source": [
    "<div class=\"alert alert-success\">\n",
    "<font size=\"4\"><p align=\"justify\"><b> 2. PRECISION"
   ]
  },
  {
   "cell_type": "markdown",
   "metadata": {},
   "source": [
    "Presisi adalah rasio prediksi benar positif dibandingkan dengan keseluruhan hasil yang diprediksi positif.<br><br>\n",
    "Berikut cara menghitung nilai precision pada confusion matriks:\n",
    "\n",
    "\\begin{split}Precision = \\frac{TP} {TP+FP}\\end{split}"
   ]
  },
  {
   "cell_type": "code",
   "execution_count": 21,
   "metadata": {},
   "outputs": [
    {
     "name": "stdout",
     "output_type": "stream",
     "text": [
      "Hasil Precision =  0.717948717948718\n"
     ]
    }
   ],
   "source": [
    "#rumus menghitung presisi\n",
    "precision = tp / ( tp + fp )\n",
    "print(\"Hasil Precision = \", precision)"
   ]
  },
  {
   "cell_type": "markdown",
   "metadata": {},
   "source": [
    "<div class=\"alert alert-success\">\n",
    "<font size=\"4\"><p align=\"justify\"><b> 3. RECALL"
   ]
  },
  {
   "cell_type": "markdown",
   "metadata": {},
   "source": [
    "Recall (Sensitifitas) adalah rasio prediksi benar positif dibandingkan dengan keseluruhan data yang benar positif.<br><br>\n",
    "Berikut cara menghitung nilai recall pada confusion matriks:\n",
    "\n",
    "\\begin{split}Recall = \\frac{TP} {TP+FN}\\end{split}"
   ]
  },
  {
   "cell_type": "code",
   "execution_count": 22,
   "metadata": {},
   "outputs": [
    {
     "name": "stdout",
     "output_type": "stream",
     "text": [
      "Hasil Recall =  1.0\n"
     ]
    }
   ],
   "source": [
    "#rumus menghitung recall\n",
    "recall = tp/(tp+fn)\n",
    "print(\"Hasil Recall = \",recall)"
   ]
  },
  {
   "cell_type": "markdown",
   "metadata": {},
   "source": [
    "<div class=\"alert alert-success\">\n",
    "<font size=\"4\"><p align=\"justify\"><b> 4. SPECIFICITY"
   ]
  },
  {
   "cell_type": "markdown",
   "metadata": {},
   "source": [
    "Specificity adalah kebenaran memprediksi negatif dibandingkan dengan keseluruhan data negatif.<br><br>\n",
    "Berikut cara menghitung nilai specificity pada confusion matriks:\n",
    "\\begin{split}Specificity = \\frac{TN} {TN+FP}\\end{split}"
   ]
  },
  {
   "cell_type": "code",
   "execution_count": 23,
   "metadata": {},
   "outputs": [
    {
     "name": "stdout",
     "output_type": "stream",
     "text": [
      "Hasil Specificity =  0.0\n"
     ]
    }
   ],
   "source": [
    "#rumus menghitung specificity\n",
    "specificity = tn/(tn+fp)\n",
    "print(\"Hasil Specificity = \", specificity)"
   ]
  },
  {
   "cell_type": "markdown",
   "metadata": {},
   "source": [
    "<div class=\"alert alert-success\">\n",
    "<font size=\"4\"><p align=\"justify\"><b> 5. F1 SCORE"
   ]
  },
  {
   "cell_type": "markdown",
   "metadata": {},
   "source": [
    "F1 Score adalah perbandingan rata-rata presisi dan recall yang dibobotkan.<br><br>\n",
    "Berikut cara menghitung nilai F1 pada confusion matriks:\n",
    "\n",
    "\\begin{split}F1  Score = \\frac {2 \\times Recall \\times Precision} {Recall + Precision}\\end{split}"
   ]
  },
  {
   "cell_type": "code",
   "execution_count": 24,
   "metadata": {},
   "outputs": [
    {
     "name": "stdout",
     "output_type": "stream",
     "text": [
      "Hasil F1 =  0.835820895522388\n"
     ]
    }
   ],
   "source": [
    "#rumus menghitung F1 score\n",
    "f1=(2*precision*recall)/ (precision+recall)\n",
    "print(\"Hasil F1 = \",f1)"
   ]
  }
 ],
 "metadata": {
  "kernelspec": {
   "display_name": "Python 3",
   "language": "python",
   "name": "python3"
  },
  "language_info": {
   "codemirror_mode": {
    "name": "ipython",
    "version": 3
   },
   "file_extension": ".py",
   "mimetype": "text/x-python",
   "name": "python",
   "nbconvert_exporter": "python",
   "pygments_lexer": "ipython3",
   "version": "3.7.5"
  }
 },
 "nbformat": 4,
 "nbformat_minor": 2
}
