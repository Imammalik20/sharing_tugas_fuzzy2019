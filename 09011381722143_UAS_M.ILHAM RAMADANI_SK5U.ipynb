{
 "cells": [
  {
   "cell_type": "markdown",
   "metadata": {},
   "source": [
    "# M.ILHAM RAMADANI\n",
    "## 09011381722143\n",
    "## Judul Paer: Implementasi Algoritma Jaringan Syaraf Tiruan (JST) Hopfield untuk Klasifikasi Kualitas Kesuburan Pria\n",
    "## Data sheet dari : http://archive.ics.uci.edu/ml/datasets/Fertility"
   ]
  },
  {
   "cell_type": "code",
   "execution_count": 1,
   "metadata": {
    "scrolled": true
   },
   "outputs": [
    {
     "name": "stderr",
     "output_type": "stream",
     "text": [
      "C:\\Users\\cosmos\\Anaconda3\\lib\\site-packages\\h5py\\__init__.py:36: FutureWarning: Conversion of the second argument of issubdtype from `float` to `np.floating` is deprecated. In future, it will be treated as `np.float64 == np.dtype(float).type`.\n",
      "  from ._conv import register_converters as _register_converters\n",
      "Using TensorFlow backend.\n"
     ]
    }
   ],
   "source": [
    "from keras.models import Sequential\n",
    "from keras.layers import Dense\n",
    "import numpy as np\n",
    "np.random.seed(7)"
   ]
  },
  {
   "cell_type": "code",
   "execution_count": 3,
   "metadata": {},
   "outputs": [
    {
     "ename": "NameError",
     "evalue": "name 'np' is not defined",
     "output_type": "error",
     "traceback": [
      "\u001b[1;31m---------------------------------------------------------------------------\u001b[0m",
      "\u001b[1;31mNameError\u001b[0m                                 Traceback (most recent call last)",
      "\u001b[1;32m<ipython-input-3-88034fbbfeca>\u001b[0m in \u001b[0;36m<module>\u001b[1;34m()\u001b[0m\n\u001b[1;32m----> 1\u001b[1;33m \u001b[0mdataset\u001b[0m \u001b[1;33m=\u001b[0m \u001b[0mnp\u001b[0m\u001b[1;33m.\u001b[0m\u001b[0mloadtxt\u001b[0m\u001b[1;33m(\u001b[0m\u001b[1;34m\"fitri.csv\"\u001b[0m\u001b[1;33m,\u001b[0m \u001b[0mdelimiter\u001b[0m\u001b[1;33m=\u001b[0m\u001b[1;34m\",\"\u001b[0m\u001b[1;33m)\u001b[0m\u001b[1;33m\u001b[0m\u001b[0m\n\u001b[0m\u001b[0;32m      2\u001b[0m \u001b[0mX\u001b[0m \u001b[1;33m=\u001b[0m \u001b[0mdataset\u001b[0m\u001b[1;33m[\u001b[0m\u001b[1;33m:\u001b[0m\u001b[1;33m,\u001b[0m\u001b[1;36m0\u001b[0m\u001b[1;33m:\u001b[0m\u001b[1;36m21\u001b[0m\u001b[1;33m]\u001b[0m\u001b[1;33m\u001b[0m\u001b[0m\n\u001b[0;32m      3\u001b[0m \u001b[0mY\u001b[0m \u001b[1;33m=\u001b[0m \u001b[0mdataset\u001b[0m\u001b[1;33m[\u001b[0m\u001b[1;33m:\u001b[0m\u001b[1;33m,\u001b[0m\u001b[1;36m21\u001b[0m\u001b[1;33m]\u001b[0m\u001b[1;33m\u001b[0m\u001b[0m\n",
      "\u001b[1;31mNameError\u001b[0m: name 'np' is not defined"
     ]
    }
   ],
   "source": [
    "dataset = np.loadtxt(\"ILHAM.csv\", delimiter=\",\")\n",
    "X = dataset[:,0:21]\n",
    "Y = dataset[:,21]"
   ]
  },
  {
   "cell_type": "code",
   "execution_count": 71,
   "metadata": {},
   "outputs": [],
   "source": [
    "X = np.array(X)\n",
    "Y = np.array(Y)"
   ]
  },
  {
   "cell_type": "code",
   "execution_count": 5,
   "metadata": {},
   "outputs": [],
   "source": [
    "from sklearn.preprocessing import MinMaxScaler\n",
    "scaler = MinMaxScaler()"
   ]
  },
  {
   "cell_type": "code",
   "execution_count": 6,
   "metadata": {},
   "outputs": [],
   "source": [
    "X_scaled = scaler.fit_transform(X)"
   ]
  },
  {
   "cell_type": "code",
   "execution_count": 7,
   "metadata": {},
   "outputs": [
    {
     "data": {
      "text/plain": [
       "(100, 9)"
      ]
     },
     "execution_count": 7,
     "metadata": {},
     "output_type": "execute_result"
    }
   ],
   "source": [
    "X_scaled.shape"
   ]
  },
  {
   "cell_type": "code",
   "execution_count": 8,
   "metadata": {},
   "outputs": [],
   "source": [
    "from keras.utils.np_utils import to_categorical\n",
    "\n",
    "Y_categorical = to_categorical(Y)"
   ]
  },
  {
   "cell_type": "code",
   "execution_count": 9,
   "metadata": {},
   "outputs": [
    {
     "data": {
      "text/plain": [
       "(100, 2)"
      ]
     },
     "execution_count": 9,
     "metadata": {},
     "output_type": "execute_result"
    }
   ],
   "source": [
    "Y_categorical.shape"
   ]
  },
  {
   "cell_type": "code",
   "execution_count": 23,
   "metadata": {},
   "outputs": [
    {
     "name": "stdout",
     "output_type": "stream",
     "text": [
      "Epoch 1/100\n",
      "100/100 [==============================] - 23s 235ms/step - loss: 0.5461 - acc: 0.8700\n",
      "Epoch 2/100\n",
      " 80/100 [=======================>......] - ETA: 0s - loss: 0.3661 - acc: 0.9000"
     ]
    },
    {
     "name": "stderr",
     "output_type": "stream",
     "text": [
      "C:\\Users\\cosmos\\Anaconda3\\lib\\site-packages\\keras\\callbacks.py:122: UserWarning: Method on_batch_end() is slow compared to the batch update (0.121787). Check your callbacks.\n",
      "  % delta_t_median)\n"
     ]
    },
    {
     "name": "stdout",
     "output_type": "stream",
     "text": [
      "100/100 [==============================] - 0s 2ms/step - loss: 0.3383 - acc: 0.9100\n",
      "Epoch 3/100\n",
      "100/100 [==============================] - 0s 710us/step - loss: 0.2959 - acc: 0.9100\n",
      "Epoch 4/100\n",
      "100/100 [==============================] - 0s 510us/step - loss: 0.3167 - acc: 0.9100\n",
      "Epoch 5/100\n",
      "100/100 [==============================] - 0s 940us/step - loss: 0.3000 - acc: 0.9100\n",
      "Epoch 6/100\n",
      "100/100 [==============================] - 0s 830us/step - loss: 0.2838 - acc: 0.9100\n",
      "Epoch 7/100\n",
      "100/100 [==============================] - 0s 600us/step - loss: 0.2806 - acc: 0.9100\n",
      "Epoch 8/100\n",
      "100/100 [==============================] - 0s 570us/step - loss: 0.2723 - acc: 0.9100\n",
      "Epoch 9/100\n",
      "100/100 [==============================] - 0s 630us/step - loss: 0.2665 - acc: 0.9100\n",
      "Epoch 10/100\n",
      "100/100 [==============================] - 0s 600us/step - loss: 0.2578 - acc: 0.9100\n",
      "Epoch 11/100\n",
      "100/100 [==============================] - 0s 1ms/step - loss: 0.2455 - acc: 0.9100\n",
      "Epoch 12/100\n",
      "100/100 [==============================] - 0s 590us/step - loss: 0.2412 - acc: 0.9100\n",
      "Epoch 13/100\n",
      "100/100 [==============================] - 0s 500us/step - loss: 0.2387 - acc: 0.9100\n",
      "Epoch 14/100\n",
      "100/100 [==============================] - 0s 800us/step - loss: 0.2231 - acc: 0.9100\n",
      "Epoch 15/100\n",
      "100/100 [==============================] - 0s 480us/step - loss: 0.2149 - acc: 0.9100\n",
      "Epoch 16/100\n",
      "100/100 [==============================] - 0s 490us/step - loss: 0.2003 - acc: 0.9100\n",
      "Epoch 17/100\n",
      "100/100 [==============================] - 0s 500us/step - loss: 0.1954 - acc: 0.9100\n",
      "Epoch 18/100\n",
      "100/100 [==============================] - 0s 510us/step - loss: 0.1847 - acc: 0.9100\n",
      "Epoch 19/100\n",
      "100/100 [==============================] - 0s 810us/step - loss: 0.1730 - acc: 0.9100\n",
      "Epoch 20/100\n",
      "100/100 [==============================] - 0s 820us/step - loss: 0.1631 - acc: 0.9200\n",
      "Epoch 21/100\n",
      "100/100 [==============================] - 0s 480us/step - loss: 0.1586 - acc: 0.9300\n",
      "Epoch 22/100\n",
      "100/100 [==============================] - 0s 590us/step - loss: 0.1453 - acc: 0.9300\n",
      "Epoch 23/100\n",
      "100/100 [==============================] - 0s 520us/step - loss: 0.1332 - acc: 0.9300\n",
      "Epoch 24/100\n",
      "100/100 [==============================] - 0s 740us/step - loss: 0.1222 - acc: 0.9500\n",
      "Epoch 25/100\n",
      "100/100 [==============================] - 0s 470us/step - loss: 0.1158 - acc: 0.9600\n",
      "Epoch 26/100\n",
      "100/100 [==============================] - 0s 610us/step - loss: 0.1070 - acc: 0.9500\n",
      "Epoch 27/100\n",
      "100/100 [==============================] - 0s 530us/step - loss: 0.0967 - acc: 0.9700\n",
      "Epoch 28/100\n",
      "100/100 [==============================] - 0s 550us/step - loss: 0.0883 - acc: 0.9700\n",
      "Epoch 29/100\n",
      "100/100 [==============================] - 0s 910us/step - loss: 0.0846 - acc: 0.9700\n",
      "Epoch 30/100\n",
      "100/100 [==============================] - 0s 610us/step - loss: 0.0750 - acc: 0.9800\n",
      "Epoch 31/100\n",
      "100/100 [==============================] - 0s 500us/step - loss: 0.0753 - acc: 0.9800\n",
      "Epoch 32/100\n",
      "100/100 [==============================] - 0s 510us/step - loss: 0.0691 - acc: 0.9800\n",
      "Epoch 33/100\n",
      "100/100 [==============================] - 0s 500us/step - loss: 0.0566 - acc: 0.9800\n",
      "Epoch 34/100\n",
      "100/100 [==============================] - 0s 480us/step - loss: 0.0552 - acc: 0.9800\n",
      "Epoch 35/100\n",
      "100/100 [==============================] - 0s 510us/step - loss: 0.0492 - acc: 0.9800\n",
      "Epoch 36/100\n",
      "100/100 [==============================] - 0s 510us/step - loss: 0.0456 - acc: 0.9800\n",
      "Epoch 37/100\n",
      "100/100 [==============================] - 0s 550us/step - loss: 0.0500 - acc: 0.9800\n",
      "Epoch 38/100\n",
      "100/100 [==============================] - 94s 938ms/step - loss: 0.0459 - acc: 0.9800\n",
      "Epoch 39/100\n",
      "100/100 [==============================] - 1s 6ms/step - loss: 0.0408 - acc: 0.9900\n",
      "Epoch 40/100\n",
      "100/100 [==============================] - 0s 2ms/step - loss: 0.0450 - acc: 0.9800\n",
      "Epoch 41/100\n",
      "100/100 [==============================] - 0s 2ms/step - loss: 0.0352 - acc: 1.0000\n",
      "Epoch 42/100\n",
      "100/100 [==============================] - 0s 600us/step - loss: 0.0305 - acc: 0.9900\n",
      "Epoch 43/100\n",
      "100/100 [==============================] - 0s 560us/step - loss: 0.0294 - acc: 1.0000\n",
      "Epoch 44/100\n",
      "100/100 [==============================] - 0s 530us/step - loss: 0.0293 - acc: 0.9900\n",
      "Epoch 45/100\n",
      "100/100 [==============================] - 0s 800us/step - loss: 0.0474 - acc: 0.9800\n",
      "Epoch 46/100\n",
      "100/100 [==============================] - 0s 520us/step - loss: 0.0283 - acc: 0.9900\n",
      "Epoch 47/100\n",
      "100/100 [==============================] - 0s 540us/step - loss: 0.0414 - acc: 0.9800\n",
      "Epoch 48/100\n",
      "100/100 [==============================] - 0s 520us/step - loss: 0.0284 - acc: 0.9900\n",
      "Epoch 49/100\n",
      "100/100 [==============================] - 0s 510us/step - loss: 0.0245 - acc: 1.0000\n",
      "Epoch 50/100\n",
      "100/100 [==============================] - 0s 550us/step - loss: 0.0201 - acc: 1.0000\n",
      "Epoch 51/100\n",
      "100/100 [==============================] - 0s 520us/step - loss: 0.0246 - acc: 1.0000\n",
      "Epoch 52/100\n",
      "100/100 [==============================] - 0s 460us/step - loss: 0.0169 - acc: 1.0000\n",
      "Epoch 53/100\n",
      "100/100 [==============================] - 0s 530us/step - loss: 0.0171 - acc: 1.0000\n",
      "Epoch 54/100\n",
      "100/100 [==============================] - 0s 580us/step - loss: 0.0173 - acc: 1.0000\n",
      "Epoch 55/100\n",
      "100/100 [==============================] - 0s 590us/step - loss: 0.0158 - acc: 1.0000\n",
      "Epoch 56/100\n",
      "100/100 [==============================] - 0s 670us/step - loss: 0.0128 - acc: 1.0000\n",
      "Epoch 57/100\n",
      "100/100 [==============================] - 0s 480us/step - loss: 0.0439 - acc: 0.9900\n",
      "Epoch 58/100\n",
      "100/100 [==============================] - 0s 590us/step - loss: 0.0254 - acc: 0.9800\n",
      "Epoch 59/100\n",
      "100/100 [==============================] - 0s 540us/step - loss: 0.0166 - acc: 1.0000\n",
      "Epoch 60/100\n",
      "100/100 [==============================] - 0s 570us/step - loss: 0.0147 - acc: 1.0000\n",
      "Epoch 61/100\n",
      "100/100 [==============================] - 0s 610us/step - loss: 0.0115 - acc: 1.0000\n",
      "Epoch 62/100\n",
      "100/100 [==============================] - 0s 580us/step - loss: 0.0106 - acc: 1.0000\n",
      "Epoch 63/100\n",
      "100/100 [==============================] - 0s 560us/step - loss: 0.0083 - acc: 1.0000\n",
      "Epoch 64/100\n",
      "100/100 [==============================] - 0s 470us/step - loss: 0.0080 - acc: 1.0000\n",
      "Epoch 65/100\n",
      "100/100 [==============================] - 0s 520us/step - loss: 0.0070 - acc: 1.0000\n",
      "Epoch 66/100\n",
      "100/100 [==============================] - 0s 570us/step - loss: 0.0069 - acc: 1.0000\n",
      "Epoch 67/100\n",
      "100/100 [==============================] - 0s 470us/step - loss: 0.0063 - acc: 1.0000\n",
      "Epoch 68/100\n",
      "100/100 [==============================] - 0s 550us/step - loss: 0.0063 - acc: 1.0000\n",
      "Epoch 69/100\n",
      "100/100 [==============================] - 0s 500us/step - loss: 0.0059 - acc: 1.0000\n",
      "Epoch 70/100\n",
      "100/100 [==============================] - 0s 450us/step - loss: 0.0088 - acc: 1.0000\n",
      "Epoch 71/100\n",
      "100/100 [==============================] - 0s 490us/step - loss: 0.0101 - acc: 1.0000\n",
      "Epoch 72/100\n",
      "100/100 [==============================] - 0s 520us/step - loss: 0.0509 - acc: 0.9800\n",
      "Epoch 73/100\n",
      "100/100 [==============================] - 0s 460us/step - loss: 0.0094 - acc: 1.0000\n",
      "Epoch 74/100\n",
      "100/100 [==============================] - 0s 500us/step - loss: 0.0149 - acc: 0.9900\n",
      "Epoch 75/100\n",
      "100/100 [==============================] - 0s 530us/step - loss: 0.0200 - acc: 0.9900\n",
      "Epoch 76/100\n",
      "100/100 [==============================] - 0s 500us/step - loss: 0.0583 - acc: 0.9800\n",
      "Epoch 77/100\n",
      "100/100 [==============================] - 0s 520us/step - loss: 0.0253 - acc: 0.9900\n",
      "Epoch 78/100\n",
      "100/100 [==============================] - 0s 500us/step - loss: 0.0073 - acc: 1.0000\n",
      "Epoch 79/100\n",
      "100/100 [==============================] - 0s 460us/step - loss: 0.0296 - acc: 0.9800\n",
      "Epoch 80/100\n",
      "100/100 [==============================] - 0s 490us/step - loss: 0.0107 - acc: 1.0000\n",
      "Epoch 81/100\n",
      "100/100 [==============================] - 0s 530us/step - loss: 0.0152 - acc: 1.0000\n",
      "Epoch 82/100\n",
      "100/100 [==============================] - 0s 550us/step - loss: 0.0088 - acc: 1.0000\n",
      "Epoch 83/100\n",
      "100/100 [==============================] - 0s 540us/step - loss: 0.0058 - acc: 1.0000\n",
      "Epoch 84/100\n",
      "100/100 [==============================] - 0s 490us/step - loss: 0.0332 - acc: 0.9900\n",
      "Epoch 85/100\n"
     ]
    },
    {
     "name": "stdout",
     "output_type": "stream",
     "text": [
      "100/100 [==============================] - 0s 610us/step - loss: 0.0160 - acc: 0.9900\n",
      "Epoch 86/100\n",
      "100/100 [==============================] - 0s 540us/step - loss: 0.0092 - acc: 1.0000\n",
      "Epoch 87/100\n",
      "100/100 [==============================] - 0s 520us/step - loss: 0.0055 - acc: 1.0000\n",
      "Epoch 88/100\n",
      "100/100 [==============================] - 0s 610us/step - loss: 0.0049 - acc: 1.0000\n",
      "Epoch 89/100\n",
      "100/100 [==============================] - 0s 530us/step - loss: 0.0041 - acc: 1.0000\n",
      "Epoch 90/100\n",
      "100/100 [==============================] - 0s 560us/step - loss: 0.0036 - acc: 1.0000\n",
      "Epoch 91/100\n",
      "100/100 [==============================] - 0s 480us/step - loss: 0.0034 - acc: 1.0000\n",
      "Epoch 92/100\n",
      "100/100 [==============================] - 0s 500us/step - loss: 0.0029 - acc: 1.0000\n",
      "Epoch 93/100\n",
      "100/100 [==============================] - 0s 510us/step - loss: 0.0026 - acc: 1.0000\n",
      "Epoch 94/100\n",
      "100/100 [==============================] - 0s 520us/step - loss: 0.0025 - acc: 1.0000\n",
      "Epoch 95/100\n",
      "100/100 [==============================] - 0s 490us/step - loss: 0.0024 - acc: 1.0000\n",
      "Epoch 96/100\n",
      "100/100 [==============================] - 0s 520us/step - loss: 0.0022 - acc: 1.0000\n",
      "Epoch 97/100\n",
      "100/100 [==============================] - 0s 750us/step - loss: 0.0022 - acc: 1.0000\n",
      "Epoch 98/100\n",
      "100/100 [==============================] - 0s 570us/step - loss: 0.0020 - acc: 1.0000\n",
      "Epoch 99/100\n",
      "100/100 [==============================] - 0s 480us/step - loss: 0.0020 - acc: 1.0000\n",
      "Epoch 100/100\n",
      "100/100 [==============================] - 0s 490us/step - loss: 0.0020 - acc: 1.0000\n"
     ]
    },
    {
     "data": {
      "text/plain": [
       "<keras.callbacks.History at 0x9f4bf67710>"
      ]
     },
     "execution_count": 23,
     "metadata": {},
     "output_type": "execute_result"
    }
   ],
   "source": [
    "from keras.models import Sequential\n",
    "from keras.layers import Dense \n",
    "\n",
    "model = Sequential()\n",
    "model.add(Dense(units=100, input_dim=9, activation='relu'))\n",
    "model.add(Dense(units=100, activation='relu'))\n",
    "model.add(Dense(units=100,activation='relu'))\n",
    "model.add(Dense(2, activation='softmax'))\n",
    "model.compile(optimizer='adam', loss='categorical_crossentropy', metrics=['accuracy'])\n",
    "model.fit(X_scaled, Y_categorical, epochs = 100, batch_size = 16)"
   ]
  },
  {
   "cell_type": "code",
   "execution_count": 24,
   "metadata": {},
   "outputs": [],
   "source": [
    "loss = model.history.history['loss']\n",
    "acc = model.history.history['acc']"
   ]
  },
  {
   "cell_type": "code",
   "execution_count": 25,
   "metadata": {},
   "outputs": [
    {
     "data": {
      "text/plain": [
       "[<matplotlib.lines.Line2D at 0x9f4c00a208>]"
      ]
     },
     "execution_count": 25,
     "metadata": {},
     "output_type": "execute_result"
    },
    {
     "data": {
      "image/png": "[encoded data removed]",
      "text/plain": [
       "<Figure size 720x720 with 1 Axes>"
      ]
     },
     "metadata": {},
     "output_type": "display_data"
    }
   ],
   "source": [
    "import matplotlib.pyplot as plt\n",
    "fig, (ax0) = plt.subplots(nrows=1, figsize= (10,10))\n",
    "ax0.plot(np.arange(100), loss, 'r')"
   ]
  },
  {
   "cell_type": "code",
   "execution_count": 26,
   "metadata": {},
   "outputs": [
    {
     "data": {
      "text/plain": [
       "[<matplotlib.lines.Line2D at 0x9f4bff6cc0>]"
      ]
     },
     "execution_count": 26,
     "metadata": {},
     "output_type": "execute_result"
    },
    {
     "data": {
      "image/png": "[encoded data removed]",
      "text/plain": [
       "<Figure size 720x720 with 1 Axes>"
      ]
     },
     "metadata": {},
     "output_type": "display_data"
    }
   ],
   "source": [
    "import matplotlib.pyplot as plt\n",
    "fig, (ax0) = plt.subplots(nrows=1, figsize=(10,10))\n",
    "ax0.plot(np.arange(100), acc, 'r')"
   ]
  },
  {
   "cell_type": "code",
   "execution_count": 27,
   "metadata": {},
   "outputs": [
    {
     "data": {
      "text/plain": [
       "array([[4.48009057e-04, 9.99551952e-01],\n",
       "       [9.98764753e-01, 1.23521604e-03],\n",
       "       [2.12830812e-11, 1.00000000e+00],\n",
       "       [8.55938306e-11, 1.00000000e+00],\n",
       "       [9.70401108e-01, 2.95989625e-02],\n",
       "       [2.27539963e-03, 9.97724593e-01],\n",
       "       [5.47744833e-07, 9.99999404e-01],\n",
       "       [6.35884044e-06, 9.99993682e-01],\n",
       "       [1.04261035e-05, 9.99989629e-01],\n",
       "       [2.49548071e-09, 1.00000000e+00],\n",
       "       [1.27265327e-08, 1.00000000e+00],\n",
       "       [2.90720959e-06, 9.99997139e-01],\n",
       "       [1.17463662e-06, 9.99998808e-01],\n",
       "       [1.84334787e-08, 1.00000000e+00],\n",
       "       [2.93621542e-06, 9.99997020e-01],\n",
       "       [3.09445204e-05, 9.99969006e-01],\n",
       "       [3.57118412e-03, 9.96428788e-01],\n",
       "       [9.93082643e-01, 6.91736629e-03],\n",
       "       [1.10679848e-05, 9.99988914e-01],\n",
       "       [9.72218096e-01, 2.77819149e-02],\n",
       "       [1.52766406e-05, 9.99984741e-01],\n",
       "       [1.04415966e-02, 9.89558339e-01],\n",
       "       [4.63383149e-05, 9.99953628e-01],\n",
       "       [9.97322381e-01, 2.67765136e-03],\n",
       "       [9.82368292e-05, 9.99901772e-01],\n",
       "       [5.13615150e-09, 1.00000000e+00],\n",
       "       [9.97913182e-01, 2.08683987e-03],\n",
       "       [9.88666773e-01, 1.13332495e-02],\n",
       "       [1.45811923e-08, 1.00000000e+00],\n",
       "       [9.98430312e-01, 1.56969484e-03],\n",
       "       [5.61895256e-04, 9.99438107e-01],\n",
       "       [2.09654516e-09, 1.00000000e+00],\n",
       "       [3.36965872e-11, 1.00000000e+00],\n",
       "       [4.09690210e-06, 9.99995947e-01],\n",
       "       [1.89174607e-05, 9.99981046e-01],\n",
       "       [7.86030432e-06, 9.99992132e-01],\n",
       "       [2.98641861e-10, 1.00000000e+00],\n",
       "       [5.62094433e-11, 1.00000000e+00],\n",
       "       [9.94826615e-01, 5.17339446e-03],\n",
       "       [5.40075276e-12, 1.00000000e+00],\n",
       "       [1.03901280e-11, 1.00000000e+00],\n",
       "       [8.74791084e-09, 1.00000000e+00],\n",
       "       [5.57258045e-06, 9.99994397e-01],\n",
       "       [1.95883435e-12, 1.00000000e+00],\n",
       "       [2.28881269e-08, 1.00000000e+00],\n",
       "       [5.42654063e-14, 1.00000000e+00],\n",
       "       [4.74179480e-11, 1.00000000e+00],\n",
       "       [6.15080680e-08, 9.99999881e-01],\n",
       "       [3.69951124e-07, 9.99999642e-01],\n",
       "       [4.24503497e-07, 9.99999523e-01],\n",
       "       [1.38085875e-06, 9.99998569e-01],\n",
       "       [1.05321142e-05, 9.99989510e-01],\n",
       "       [1.48659728e-05, 9.99985099e-01],\n",
       "       [3.77545328e-10, 1.00000000e+00],\n",
       "       [2.83249086e-08, 1.00000000e+00],\n",
       "       [5.13007362e-05, 9.99948740e-01],\n",
       "       [5.31674268e-05, 9.99946833e-01],\n",
       "       [1.02976619e-05, 9.99989748e-01],\n",
       "       [4.04688699e-10, 1.00000000e+00],\n",
       "       [1.08745618e-04, 9.99891281e-01],\n",
       "       [2.90148723e-08, 1.00000000e+00],\n",
       "       [2.22081034e-12, 1.00000000e+00],\n",
       "       [4.82177542e-09, 1.00000000e+00],\n",
       "       [4.76089532e-16, 1.00000000e+00],\n",
       "       [3.24187313e-15, 1.00000000e+00],\n",
       "       [3.87754762e-09, 1.00000000e+00],\n",
       "       [1.00707229e-08, 1.00000000e+00],\n",
       "       [4.43740740e-15, 1.00000000e+00],\n",
       "       [2.25082019e-11, 1.00000000e+00],\n",
       "       [1.53439745e-04, 9.99846578e-01],\n",
       "       [1.00707229e-08, 1.00000000e+00],\n",
       "       [3.14725053e-13, 1.00000000e+00],\n",
       "       [2.75192033e-05, 9.99972463e-01],\n",
       "       [7.45021974e-15, 1.00000000e+00],\n",
       "       [3.11863809e-14, 1.00000000e+00],\n",
       "       [3.03120714e-07, 9.99999642e-01],\n",
       "       [9.97755762e-08, 9.99999881e-01],\n",
       "       [5.35836098e-10, 1.00000000e+00],\n",
       "       [1.00135907e-07, 9.99999881e-01],\n",
       "       [4.00144955e-07, 9.99999642e-01],\n",
       "       [1.27604901e-04, 9.99872327e-01],\n",
       "       [3.05116679e-08, 1.00000000e+00],\n",
       "       [7.14873733e-12, 1.00000000e+00],\n",
       "       [3.38813422e-08, 1.00000000e+00],\n",
       "       [9.06954734e-10, 1.00000000e+00],\n",
       "       [8.74502803e-06, 9.99991298e-01],\n",
       "       [2.21676788e-09, 1.00000000e+00],\n",
       "       [1.55130223e-07, 9.99999881e-01],\n",
       "       [3.80859024e-06, 9.99996185e-01],\n",
       "       [4.10328721e-06, 9.99995947e-01],\n",
       "       [2.86770046e-06, 9.99997139e-01],\n",
       "       [7.31932931e-04, 9.99268115e-01],\n",
       "       [4.68785726e-02, 9.53121364e-01],\n",
       "       [9.31975059e-03, 9.90680277e-01],\n",
       "       [1.55826304e-02, 9.84417319e-01],\n",
       "       [9.12525437e-12, 1.00000000e+00],\n",
       "       [1.85468991e-08, 1.00000000e+00],\n",
       "       [2.32772255e-08, 1.00000000e+00],\n",
       "       [4.16515604e-08, 1.00000000e+00],\n",
       "       [5.95198335e-10, 1.00000000e+00]], dtype=float32)"
      ]
     },
     "execution_count": 27,
     "metadata": {},
     "output_type": "execute_result"
    }
   ],
   "source": [
    "predict = model.predict(X_scaled)\n",
    "\n",
    "predict"
   ]
  },
  {
   "cell_type": "code",
   "execution_count": 28,
   "metadata": {},
   "outputs": [
    {
     "name": "stdout",
     "output_type": "stream",
     "text": [
      "100/100 [==============================] - 1s 12ms/step\n",
      "1.0\n"
     ]
    }
   ],
   "source": [
    "acc = model.evaluate(X_scaled, Y_categorical)\n",
    "print(acc[1])"
   ]
  },
  {
   "cell_type": "code",
   "execution_count": 29,
   "metadata": {},
   "outputs": [
    {
     "data": {
      "text/plain": [
       "array([[ 9,  0],\n",
       "       [ 0, 91]], dtype=int64)"
      ]
     },
     "execution_count": 29,
     "metadata": {},
     "output_type": "execute_result"
    }
   ],
   "source": [
    "from sklearn.metrics import confusion_matrix\n",
    "cm = confusion_matrix(Y_categorical.argmax(axis=1), predict.argmax(axis=1))\n",
    "\n",
    "cm"
   ]
  },
  {
   "cell_type": "code",
   "execution_count": 31,
   "metadata": {},
   "outputs": [
    {
     "name": "stdout",
     "output_type": "stream",
     "text": [
      "100.0\n"
     ]
    }
   ],
   "source": [
    "akurasi = ((9+91)/(9+91+0+0))*100\n",
    "\n",
    "print(akurasi)"
   ]
  },
  {
   "cell_type": "markdown",
   "metadata": {},
   "source": [
    "# Confusion Matrix"
   ]
  },
  {
   "cell_type": "code",
   "execution_count": 43,
   "metadata": {},
   "outputs": [
    {
     "data": {
      "image/png": "[encoded data removed]",
      "text/plain": [
       "<Figure size 432x288 with 1 Axes>"
      ]
     },
     "metadata": {},
     "output_type": "display_data"
    }
   ],
   "source": [
    "import matplotlib.pyplot as plt\n",
    "plt.title('model accuracy')\n",
    "plt.ylabel('accuracy')\n",
    "plt.xlabel('epochs')\n",
    "plt.legend(['train', 'test'], loc = 'upper left')\n",
    "plt.show()\n"
   ]
  },
  {
   "cell_type": "code",
   "execution_count": 44,
   "metadata": {},
   "outputs": [
    {
     "name": "stdout",
     "output_type": "stream",
     "text": [
      "100/100 [==============================] - 5s 47ms/step\n",
      "1.0\n"
     ]
    }
   ],
   "source": [
    "acc = model.evaluate(X_scaled, Y_categorical)\n",
    "print(acc[1])"
   ]
  },
  {
   "cell_type": "code",
   "execution_count": 45,
   "metadata": {},
   "outputs": [
    {
     "data": {
      "text/plain": [
       "array([[4.48009057e-04, 9.99551952e-01],\n",
       "       [9.98764753e-01, 1.23521604e-03],\n",
       "       [2.12830812e-11, 1.00000000e+00],\n",
       "       [8.55938306e-11, 1.00000000e+00],\n",
       "       [9.70401108e-01, 2.95989625e-02],\n",
       "       [2.27539963e-03, 9.97724593e-01],\n",
       "       [5.47744833e-07, 9.99999404e-01],\n",
       "       [6.35884044e-06, 9.99993682e-01],\n",
       "       [1.04261035e-05, 9.99989629e-01],\n",
       "       [2.49548071e-09, 1.00000000e+00],\n",
       "       [1.27265327e-08, 1.00000000e+00],\n",
       "       [2.90720959e-06, 9.99997139e-01],\n",
       "       [1.17463662e-06, 9.99998808e-01],\n",
       "       [1.84334787e-08, 1.00000000e+00],\n",
       "       [2.93621542e-06, 9.99997020e-01],\n",
       "       [3.09445204e-05, 9.99969006e-01],\n",
       "       [3.57118412e-03, 9.96428788e-01],\n",
       "       [9.93082643e-01, 6.91736629e-03],\n",
       "       [1.10679848e-05, 9.99988914e-01],\n",
       "       [9.72218096e-01, 2.77819149e-02],\n",
       "       [1.52766406e-05, 9.99984741e-01],\n",
       "       [1.04415966e-02, 9.89558339e-01],\n",
       "       [4.63383149e-05, 9.99953628e-01],\n",
       "       [9.97322381e-01, 2.67765136e-03],\n",
       "       [9.82368292e-05, 9.99901772e-01],\n",
       "       [5.13615150e-09, 1.00000000e+00],\n",
       "       [9.97913182e-01, 2.08683987e-03],\n",
       "       [9.88666773e-01, 1.13332495e-02],\n",
       "       [1.45811923e-08, 1.00000000e+00],\n",
       "       [9.98430312e-01, 1.56969484e-03],\n",
       "       [5.61895256e-04, 9.99438107e-01],\n",
       "       [2.09654516e-09, 1.00000000e+00],\n",
       "       [3.36965872e-11, 1.00000000e+00],\n",
       "       [4.09690210e-06, 9.99995947e-01],\n",
       "       [1.89174607e-05, 9.99981046e-01],\n",
       "       [7.86030432e-06, 9.99992132e-01],\n",
       "       [2.98641861e-10, 1.00000000e+00],\n",
       "       [5.62094433e-11, 1.00000000e+00],\n",
       "       [9.94826615e-01, 5.17339446e-03],\n",
       "       [5.40075276e-12, 1.00000000e+00],\n",
       "       [1.03901280e-11, 1.00000000e+00],\n",
       "       [8.74791084e-09, 1.00000000e+00],\n",
       "       [5.57258045e-06, 9.99994397e-01],\n",
       "       [1.95883435e-12, 1.00000000e+00],\n",
       "       [2.28881269e-08, 1.00000000e+00],\n",
       "       [5.42654063e-14, 1.00000000e+00],\n",
       "       [4.74179480e-11, 1.00000000e+00],\n",
       "       [6.15080680e-08, 9.99999881e-01],\n",
       "       [3.69951124e-07, 9.99999642e-01],\n",
       "       [4.24503497e-07, 9.99999523e-01],\n",
       "       [1.38085875e-06, 9.99998569e-01],\n",
       "       [1.05321142e-05, 9.99989510e-01],\n",
       "       [1.48659728e-05, 9.99985099e-01],\n",
       "       [3.77545328e-10, 1.00000000e+00],\n",
       "       [2.83249086e-08, 1.00000000e+00],\n",
       "       [5.13007362e-05, 9.99948740e-01],\n",
       "       [5.31674268e-05, 9.99946833e-01],\n",
       "       [1.02976619e-05, 9.99989748e-01],\n",
       "       [4.04688699e-10, 1.00000000e+00],\n",
       "       [1.08745618e-04, 9.99891281e-01],\n",
       "       [2.90148723e-08, 1.00000000e+00],\n",
       "       [2.22081034e-12, 1.00000000e+00],\n",
       "       [4.82177542e-09, 1.00000000e+00],\n",
       "       [4.76089532e-16, 1.00000000e+00],\n",
       "       [3.24187313e-15, 1.00000000e+00],\n",
       "       [3.87754762e-09, 1.00000000e+00],\n",
       "       [1.00707229e-08, 1.00000000e+00],\n",
       "       [4.43740740e-15, 1.00000000e+00],\n",
       "       [2.25082019e-11, 1.00000000e+00],\n",
       "       [1.53439745e-04, 9.99846578e-01],\n",
       "       [1.00707229e-08, 1.00000000e+00],\n",
       "       [3.14725053e-13, 1.00000000e+00],\n",
       "       [2.75192033e-05, 9.99972463e-01],\n",
       "       [7.45021974e-15, 1.00000000e+00],\n",
       "       [3.11863809e-14, 1.00000000e+00],\n",
       "       [3.03120714e-07, 9.99999642e-01],\n",
       "       [9.97755762e-08, 9.99999881e-01],\n",
       "       [5.35836098e-10, 1.00000000e+00],\n",
       "       [1.00135907e-07, 9.99999881e-01],\n",
       "       [4.00144955e-07, 9.99999642e-01],\n",
       "       [1.27604901e-04, 9.99872327e-01],\n",
       "       [3.05116679e-08, 1.00000000e+00],\n",
       "       [7.14873733e-12, 1.00000000e+00],\n",
       "       [3.38813422e-08, 1.00000000e+00],\n",
       "       [9.06954734e-10, 1.00000000e+00],\n",
       "       [8.74502803e-06, 9.99991298e-01],\n",
       "       [2.21676788e-09, 1.00000000e+00],\n",
       "       [1.55130223e-07, 9.99999881e-01],\n",
       "       [3.80859024e-06, 9.99996185e-01],\n",
       "       [4.10328721e-06, 9.99995947e-01],\n",
       "       [2.86770046e-06, 9.99997139e-01],\n",
       "       [7.31932931e-04, 9.99268115e-01],\n",
       "       [4.68785726e-02, 9.53121364e-01],\n",
       "       [9.31975059e-03, 9.90680277e-01],\n",
       "       [1.55826304e-02, 9.84417319e-01],\n",
       "       [9.12525437e-12, 1.00000000e+00],\n",
       "       [1.85468991e-08, 1.00000000e+00],\n",
       "       [2.32772255e-08, 1.00000000e+00],\n",
       "       [4.16515604e-08, 1.00000000e+00],\n",
       "       [5.95198335e-10, 1.00000000e+00]], dtype=float32)"
      ]
     },
     "execution_count": 45,
     "metadata": {},
     "output_type": "execute_result"
    }
   ],
   "source": [
    "predict = model.predict(X_scaled)\n",
    "\n",
    "predict"
   ]
  },
  {
   "cell_type": "code",
   "execution_count": 46,
   "metadata": {},
   "outputs": [],
   "source": [
    "from sklearn.metrics import confusion_matrix\n",
    "cm = confusion_matrix"
   ]
  },
  {
   "cell_type": "code",
   "execution_count": 36,
   "metadata": {},
   "outputs": [
    {
     "data": {
      "text/plain": [
       "<function sklearn.metrics.classification.confusion_matrix(y_true, y_pred, labels=None, sample_weight=None)>"
      ]
     },
     "execution_count": 36,
     "metadata": {},
     "output_type": "execute_result"
    }
   ],
   "source": [
    "cm"
   ]
  },
  {
   "cell_type": "code",
   "execution_count": 47,
   "metadata": {},
   "outputs": [
    {
     "name": "stdout",
     "output_type": "stream",
     "text": [
      "100.0\n"
     ]
    }
   ],
   "source": [
    "akurasi = ((9+91)/(9+0+91))*100\n",
    "\n",
    "print(akurasi)"
   ]
  },
  {
   "cell_type": "code",
   "execution_count": null,
   "metadata": {},
   "outputs": [],
   "source": []
  }
 ],
 "metadata": {
  "kernelspec": {
   "display_name": "Python 3",
   "language": "python",
   "name": "python3"
  },
  "language_info": {
   "codemirror_mode": {
    "name": "ipython",
    "version": 3
   },
   "file_extension": ".py",
   "mimetype": "text/x-python",
   "name": "python",
   "nbconvert_exporter": "python",
   "pygments_lexer": "ipython3",
   "version": "3.7.3"
  }
 },
 "nbformat": 4,
 "nbformat_minor": 2
}
