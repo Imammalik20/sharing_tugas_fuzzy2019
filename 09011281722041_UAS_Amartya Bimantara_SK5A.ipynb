{
 "cells": [
  {
   "cell_type": "markdown",
   "metadata": {},
   "source": [
    "<div class=\"\">\n",
    "<br><br>\n",
    "<center><br><font size=\"7\"><font face=\"calibri\"><strong>Kecerdasan Buatan\n",
    "<center><br><font size=\"5\"><font face=\"calibri\"><strong>Deteksi serangan probe dengan menggunakan data NSL-KDD\n",
    "<br>\n",
    "<br><strong>Amartya Bimantara\n",
    "<br><strong>09011281722041\n",
    "<br>\n",
    "<br><strong>Dosen Pengampuh : \n",
    "<br><strong>Prof. Dr. Ir. Siti Nurmaini, M.T.\n",
    "<br>\n",
    "<br><strong>Jurusan Sistem Komputer\n",
    "<br><strong>Fakultas Ilmu Komputer\n",
    "<br><strong>Universitas Sriwijaya\n",
    "<br><strong>2019"
   ]
  },
  {
   "cell_type": "markdown",
   "metadata": {},
   "source": [
    "### Modul Yang Digunakan"
   ]
  },
  {
   "cell_type": "markdown",
   "metadata": {},
   "source": [
    "Modul Yang digunakan yaitu:\n",
    "1. `numpy dan Pandas ` \n",
    "\n",
    "2. `Matplotlib` \n",
    "\n",
    "3. `sklearn` \n",
    "\n",
    "4. `keras` \n",
    "\n",
    "    "
   ]
  },
  {
   "cell_type": "code",
   "execution_count": 1,
   "metadata": {},
   "outputs": [
    {
     "name": "stderr",
     "output_type": "stream",
     "text": [
      "Using TensorFlow backend.\n"
     ]
    }
   ],
   "source": [
    "from keras.models import Sequential\n",
    "from keras.layers import Dense\n",
    "from sklearn.utils import resample\n",
    "from sklearn.preprocessing import MinMaxScaler\n",
    "from sklearn.preprocessing import LabelEncoder\n",
    "scaler = MinMaxScaler\n",
    "import numpy as np\n",
    "np.random.seed(7)\n",
    "import pandas as pd\n",
    "import seaborn as sns\n",
    "import matplotlib.pyplot as plt\n",
    "from keras.optimizers import Adam\n",
    "from keras.utils import to_categorical\n",
    "from sklearn.metrics import confusion_matrix"
   ]
  },
  {
   "cell_type": "markdown",
   "metadata": {},
   "source": [
    "### Dataset\n",
    "    \n",
    "    Data set yang dipakai adalah NSL-KDD. Data ini bisa didapat di kaggle\n",
    "    Link Dataset nya : \n",
    "    \n",
    "https://www.kaggle.com/hassan06/nslkdd\n",
    "    \n",
    "<h3>NSL-KDD dataset</h3>\n",
    "<ul>\n",
    "    <li><strong> Jumlah data</strong> : 494021</li>\n",
    "</ul>\n",
    "\n",
    "### Serangan probe \n",
    "\n",
    "    Untuk sistem jaringan yang mempunyai keamanan canggih dan ketat pun masih memungkinkan sistem jaringan tersebut tak aman seratus persen  dari penyalahgunaan sumber daya atau serangan sistem jaringan para pencuri dunia maya. Terdapat banyak  jenis serangan sistem keamanan jaringan salah satunya adalah serangan probe. Probe merupakan usaha yang tak lazim untuk  memperoleh akses ke dalam suatu sistem/ untuk menemukan informasi tentang sistem tersebut. Dapat dianalogikan sebagai   usaha untuk memasuki sebuah ruangan dengan mencoba-coba apakah pintunya terkunci atau tidak."
   ]
  },
  {
   "cell_type": "markdown",
   "metadata": {},
   "source": [
    "### Import Data Set\n",
    "\n",
    "Dataset diubah menjadi.\n",
    "\n",
    "    1.kddcup_99_sample.csv   => Deteksi serangan probe\n",
    "\n",
    "Setelah data diload, selanjutnya drop kolom yang tidak terpakai yaitu \"Unnamed: 0\""
   ]
  },
  {
   "cell_type": "code",
   "execution_count": 2,
   "metadata": {},
   "outputs": [],
   "source": [
    "data = pd.read_csv (\"kddcup_99_sample.csv\")\n",
    "data1 = data.drop(columns=[\"Unnamed: 0\"])"
   ]
  },
  {
   "cell_type": "markdown",
   "metadata": {},
   "source": [
    "Menampilkan head dari data"
   ]
  },
  {
   "cell_type": "code",
   "execution_count": 3,
   "metadata": {},
   "outputs": [
    {
     "data": {
      "text/html": [
       "<div>\n",
       "<style scoped>\n",
       "    .dataframe tbody tr th:only-of-type {\n",
       "        vertical-align: middle;\n",
       "    }\n",
       "\n",
       "    .dataframe tbody tr th {\n",
       "        vertical-align: top;\n",
       "    }\n",
       "\n",
       "    .dataframe thead th {\n",
       "        text-align: right;\n",
       "    }\n",
       "</style>\n",
       "<table border=\"1\" class=\"dataframe\">\n",
       "  <thead>\n",
       "    <tr style=\"text-align: right;\">\n",
       "      <th></th>\n",
       "      <th>duration</th>\n",
       "      <th>protocol_type</th>\n",
       "      <th>service</th>\n",
       "      <th>flag</th>\n",
       "      <th>src_bytes</th>\n",
       "      <th>dst_bytes</th>\n",
       "      <th>land</th>\n",
       "      <th>wrong_fragment</th>\n",
       "      <th>urgent</th>\n",
       "      <th>hot</th>\n",
       "      <th>...</th>\n",
       "      <th>dst_host_srv_count</th>\n",
       "      <th>dst_host_same_srv_rate</th>\n",
       "      <th>dst_host_diff_srv_rate</th>\n",
       "      <th>dst_host_same_src_port_rate</th>\n",
       "      <th>dst_host_srv_diff_host_rate</th>\n",
       "      <th>dst_host_serror_rate</th>\n",
       "      <th>dst_host_srv_serror_rate</th>\n",
       "      <th>dst_host_rerror_rate</th>\n",
       "      <th>dst_host_srv_rerror_rate</th>\n",
       "      <th>Label</th>\n",
       "    </tr>\n",
       "  </thead>\n",
       "  <tbody>\n",
       "    <tr>\n",
       "      <th>0</th>\n",
       "      <td>799</td>\n",
       "      <td>udp</td>\n",
       "      <td>other</td>\n",
       "      <td>SF</td>\n",
       "      <td>146</td>\n",
       "      <td>105</td>\n",
       "      <td>0</td>\n",
       "      <td>0</td>\n",
       "      <td>0</td>\n",
       "      <td>0</td>\n",
       "      <td>...</td>\n",
       "      <td>1</td>\n",
       "      <td>0.00</td>\n",
       "      <td>0.58</td>\n",
       "      <td>0.96</td>\n",
       "      <td>0.00</td>\n",
       "      <td>0.0</td>\n",
       "      <td>0.0</td>\n",
       "      <td>0.0</td>\n",
       "      <td>0.0</td>\n",
       "      <td>0</td>\n",
       "    </tr>\n",
       "    <tr>\n",
       "      <th>1</th>\n",
       "      <td>0</td>\n",
       "      <td>tcp</td>\n",
       "      <td>private</td>\n",
       "      <td>S0</td>\n",
       "      <td>0</td>\n",
       "      <td>0</td>\n",
       "      <td>0</td>\n",
       "      <td>0</td>\n",
       "      <td>0</td>\n",
       "      <td>0</td>\n",
       "      <td>...</td>\n",
       "      <td>2</td>\n",
       "      <td>0.01</td>\n",
       "      <td>0.07</td>\n",
       "      <td>0.00</td>\n",
       "      <td>0.00</td>\n",
       "      <td>1.0</td>\n",
       "      <td>1.0</td>\n",
       "      <td>0.0</td>\n",
       "      <td>0.0</td>\n",
       "      <td>1</td>\n",
       "    </tr>\n",
       "    <tr>\n",
       "      <th>2</th>\n",
       "      <td>0</td>\n",
       "      <td>tcp</td>\n",
       "      <td>http</td>\n",
       "      <td>SF</td>\n",
       "      <td>236</td>\n",
       "      <td>2239</td>\n",
       "      <td>0</td>\n",
       "      <td>0</td>\n",
       "      <td>0</td>\n",
       "      <td>0</td>\n",
       "      <td>...</td>\n",
       "      <td>254</td>\n",
       "      <td>1.00</td>\n",
       "      <td>0.01</td>\n",
       "      <td>0.00</td>\n",
       "      <td>0.00</td>\n",
       "      <td>0.0</td>\n",
       "      <td>0.0</td>\n",
       "      <td>0.0</td>\n",
       "      <td>0.0</td>\n",
       "      <td>0</td>\n",
       "    </tr>\n",
       "    <tr>\n",
       "      <th>3</th>\n",
       "      <td>0</td>\n",
       "      <td>tcp</td>\n",
       "      <td>http</td>\n",
       "      <td>SF</td>\n",
       "      <td>227</td>\n",
       "      <td>355</td>\n",
       "      <td>0</td>\n",
       "      <td>0</td>\n",
       "      <td>0</td>\n",
       "      <td>0</td>\n",
       "      <td>...</td>\n",
       "      <td>255</td>\n",
       "      <td>1.00</td>\n",
       "      <td>0.00</td>\n",
       "      <td>0.50</td>\n",
       "      <td>0.04</td>\n",
       "      <td>0.0</td>\n",
       "      <td>0.0</td>\n",
       "      <td>0.0</td>\n",
       "      <td>0.0</td>\n",
       "      <td>0</td>\n",
       "    </tr>\n",
       "    <tr>\n",
       "      <th>4</th>\n",
       "      <td>4</td>\n",
       "      <td>tcp</td>\n",
       "      <td>smtp</td>\n",
       "      <td>SF</td>\n",
       "      <td>1451</td>\n",
       "      <td>329</td>\n",
       "      <td>0</td>\n",
       "      <td>0</td>\n",
       "      <td>0</td>\n",
       "      <td>0</td>\n",
       "      <td>...</td>\n",
       "      <td>147</td>\n",
       "      <td>0.26</td>\n",
       "      <td>0.09</td>\n",
       "      <td>0.03</td>\n",
       "      <td>0.02</td>\n",
       "      <td>0.0</td>\n",
       "      <td>0.0</td>\n",
       "      <td>0.0</td>\n",
       "      <td>0.0</td>\n",
       "      <td>0</td>\n",
       "    </tr>\n",
       "  </tbody>\n",
       "</table>\n",
       "<p>5 rows × 42 columns</p>\n",
       "</div>"
      ],
      "text/plain": [
       "   duration protocol_type  service flag  src_bytes  dst_bytes  land  \\\n",
       "0       799           udp    other   SF        146        105     0   \n",
       "1         0           tcp  private   S0          0          0     0   \n",
       "2         0           tcp     http   SF        236       2239     0   \n",
       "3         0           tcp     http   SF        227        355     0   \n",
       "4         4           tcp     smtp   SF       1451        329     0   \n",
       "\n",
       "   wrong_fragment  urgent  hot  ...  dst_host_srv_count  \\\n",
       "0               0       0    0  ...                   1   \n",
       "1               0       0    0  ...                   2   \n",
       "2               0       0    0  ...                 254   \n",
       "3               0       0    0  ...                 255   \n",
       "4               0       0    0  ...                 147   \n",
       "\n",
       "   dst_host_same_srv_rate  dst_host_diff_srv_rate  \\\n",
       "0                    0.00                    0.58   \n",
       "1                    0.01                    0.07   \n",
       "2                    1.00                    0.01   \n",
       "3                    1.00                    0.00   \n",
       "4                    0.26                    0.09   \n",
       "\n",
       "   dst_host_same_src_port_rate  dst_host_srv_diff_host_rate  \\\n",
       "0                         0.96                         0.00   \n",
       "1                         0.00                         0.00   \n",
       "2                         0.00                         0.00   \n",
       "3                         0.50                         0.04   \n",
       "4                         0.03                         0.02   \n",
       "\n",
       "   dst_host_serror_rate  dst_host_srv_serror_rate  dst_host_rerror_rate  \\\n",
       "0                   0.0                       0.0                   0.0   \n",
       "1                   1.0                       1.0                   0.0   \n",
       "2                   0.0                       0.0                   0.0   \n",
       "3                   0.0                       0.0                   0.0   \n",
       "4                   0.0                       0.0                   0.0   \n",
       "\n",
       "   dst_host_srv_rerror_rate  Label  \n",
       "0                       0.0      0  \n",
       "1                       0.0      1  \n",
       "2                       0.0      0  \n",
       "3                       0.0      0  \n",
       "4                       0.0      0  \n",
       "\n",
       "[5 rows x 42 columns]"
      ]
     },
     "execution_count": 3,
     "metadata": {},
     "output_type": "execute_result"
    }
   ],
   "source": [
    "data1.head()"
   ]
  },
  {
   "cell_type": "code",
   "execution_count": 4,
   "metadata": {},
   "outputs": [
    {
     "data": {
      "text/html": [
       "<div>\n",
       "<style scoped>\n",
       "    .dataframe tbody tr th:only-of-type {\n",
       "        vertical-align: middle;\n",
       "    }\n",
       "\n",
       "    .dataframe tbody tr th {\n",
       "        vertical-align: top;\n",
       "    }\n",
       "\n",
       "    .dataframe thead th {\n",
       "        text-align: right;\n",
       "    }\n",
       "</style>\n",
       "<table border=\"1\" class=\"dataframe\">\n",
       "  <thead>\n",
       "    <tr style=\"text-align: right;\">\n",
       "      <th></th>\n",
       "      <th>duration</th>\n",
       "      <th>protocol_type</th>\n",
       "      <th>service</th>\n",
       "      <th>flag</th>\n",
       "      <th>src_bytes</th>\n",
       "      <th>dst_bytes</th>\n",
       "      <th>land</th>\n",
       "      <th>wrong_fragment</th>\n",
       "      <th>urgent</th>\n",
       "      <th>hot</th>\n",
       "      <th>...</th>\n",
       "      <th>dst_host_srv_count</th>\n",
       "      <th>dst_host_same_srv_rate</th>\n",
       "      <th>dst_host_diff_srv_rate</th>\n",
       "      <th>dst_host_same_src_port_rate</th>\n",
       "      <th>dst_host_srv_diff_host_rate</th>\n",
       "      <th>dst_host_serror_rate</th>\n",
       "      <th>dst_host_srv_serror_rate</th>\n",
       "      <th>dst_host_rerror_rate</th>\n",
       "      <th>dst_host_srv_rerror_rate</th>\n",
       "      <th>Label</th>\n",
       "    </tr>\n",
       "  </thead>\n",
       "  <tbody>\n",
       "    <tr>\n",
       "      <th>0</th>\n",
       "      <td>323</td>\n",
       "      <td>2</td>\n",
       "      <td>2</td>\n",
       "      <td>3</td>\n",
       "      <td>36</td>\n",
       "      <td>26</td>\n",
       "      <td>0</td>\n",
       "      <td>0</td>\n",
       "      <td>0</td>\n",
       "      <td>0</td>\n",
       "      <td>...</td>\n",
       "      <td>1</td>\n",
       "      <td>0</td>\n",
       "      <td>58</td>\n",
       "      <td>96</td>\n",
       "      <td>0</td>\n",
       "      <td>0</td>\n",
       "      <td>0</td>\n",
       "      <td>0</td>\n",
       "      <td>0</td>\n",
       "      <td>0</td>\n",
       "    </tr>\n",
       "    <tr>\n",
       "      <th>1</th>\n",
       "      <td>0</td>\n",
       "      <td>1</td>\n",
       "      <td>3</td>\n",
       "      <td>2</td>\n",
       "      <td>0</td>\n",
       "      <td>0</td>\n",
       "      <td>0</td>\n",
       "      <td>0</td>\n",
       "      <td>0</td>\n",
       "      <td>0</td>\n",
       "      <td>...</td>\n",
       "      <td>2</td>\n",
       "      <td>1</td>\n",
       "      <td>7</td>\n",
       "      <td>0</td>\n",
       "      <td>0</td>\n",
       "      <td>77</td>\n",
       "      <td>23</td>\n",
       "      <td>0</td>\n",
       "      <td>0</td>\n",
       "      <td>1</td>\n",
       "    </tr>\n",
       "    <tr>\n",
       "      <th>2</th>\n",
       "      <td>0</td>\n",
       "      <td>1</td>\n",
       "      <td>1</td>\n",
       "      <td>3</td>\n",
       "      <td>126</td>\n",
       "      <td>2123</td>\n",
       "      <td>0</td>\n",
       "      <td>0</td>\n",
       "      <td>0</td>\n",
       "      <td>0</td>\n",
       "      <td>...</td>\n",
       "      <td>254</td>\n",
       "      <td>100</td>\n",
       "      <td>1</td>\n",
       "      <td>0</td>\n",
       "      <td>0</td>\n",
       "      <td>0</td>\n",
       "      <td>0</td>\n",
       "      <td>0</td>\n",
       "      <td>0</td>\n",
       "      <td>0</td>\n",
       "    </tr>\n",
       "    <tr>\n",
       "      <th>3</th>\n",
       "      <td>0</td>\n",
       "      <td>1</td>\n",
       "      <td>1</td>\n",
       "      <td>3</td>\n",
       "      <td>117</td>\n",
       "      <td>250</td>\n",
       "      <td>0</td>\n",
       "      <td>0</td>\n",
       "      <td>0</td>\n",
       "      <td>0</td>\n",
       "      <td>...</td>\n",
       "      <td>255</td>\n",
       "      <td>100</td>\n",
       "      <td>0</td>\n",
       "      <td>50</td>\n",
       "      <td>4</td>\n",
       "      <td>0</td>\n",
       "      <td>0</td>\n",
       "      <td>0</td>\n",
       "      <td>0</td>\n",
       "      <td>0</td>\n",
       "    </tr>\n",
       "    <tr>\n",
       "      <th>4</th>\n",
       "      <td>4</td>\n",
       "      <td>1</td>\n",
       "      <td>4</td>\n",
       "      <td>3</td>\n",
       "      <td>1309</td>\n",
       "      <td>224</td>\n",
       "      <td>0</td>\n",
       "      <td>0</td>\n",
       "      <td>0</td>\n",
       "      <td>0</td>\n",
       "      <td>...</td>\n",
       "      <td>147</td>\n",
       "      <td>26</td>\n",
       "      <td>9</td>\n",
       "      <td>3</td>\n",
       "      <td>2</td>\n",
       "      <td>0</td>\n",
       "      <td>0</td>\n",
       "      <td>0</td>\n",
       "      <td>0</td>\n",
       "      <td>0</td>\n",
       "    </tr>\n",
       "  </tbody>\n",
       "</table>\n",
       "<p>5 rows × 42 columns</p>\n",
       "</div>"
      ],
      "text/plain": [
       "   duration  protocol_type  service  flag  src_bytes  dst_bytes  land  \\\n",
       "0       323              2        2     3         36         26     0   \n",
       "1         0              1        3     2          0          0     0   \n",
       "2         0              1        1     3        126       2123     0   \n",
       "3         0              1        1     3        117        250     0   \n",
       "4         4              1        4     3       1309        224     0   \n",
       "\n",
       "   wrong_fragment  urgent  hot  ...  dst_host_srv_count  \\\n",
       "0               0       0    0  ...                   1   \n",
       "1               0       0    0  ...                   2   \n",
       "2               0       0    0  ...                 254   \n",
       "3               0       0    0  ...                 255   \n",
       "4               0       0    0  ...                 147   \n",
       "\n",
       "   dst_host_same_srv_rate  dst_host_diff_srv_rate  \\\n",
       "0                       0                      58   \n",
       "1                       1                       7   \n",
       "2                     100                       1   \n",
       "3                     100                       0   \n",
       "4                      26                       9   \n",
       "\n",
       "   dst_host_same_src_port_rate  dst_host_srv_diff_host_rate  \\\n",
       "0                           96                            0   \n",
       "1                            0                            0   \n",
       "2                            0                            0   \n",
       "3                           50                            4   \n",
       "4                            3                            2   \n",
       "\n",
       "   dst_host_serror_rate  dst_host_srv_serror_rate  dst_host_rerror_rate  \\\n",
       "0                     0                         0                     0   \n",
       "1                    77                        23                     0   \n",
       "2                     0                         0                     0   \n",
       "3                     0                         0                     0   \n",
       "4                     0                         0                     0   \n",
       "\n",
       "   dst_host_srv_rerror_rate  Label  \n",
       "0                         0      0  \n",
       "1                         0      1  \n",
       "2                         0      0  \n",
       "3                         0      0  \n",
       "4                         0      0  \n",
       "\n",
       "[5 rows x 42 columns]"
      ]
     },
     "execution_count": 4,
     "metadata": {},
     "output_type": "execute_result"
    }
   ],
   "source": [
    "enc = LabelEncoder()\n",
    "dataset = data1.apply(enc.fit_transform)\n",
    "dataset.head()"
   ]
  },
  {
   "cell_type": "markdown",
   "metadata": {},
   "source": [
    "### Pemisahan antara Fitur dan Label pada dataset\n",
    "\n",
    "    Fitur dan Label dipisah supaya mesin bisa mempelajari fitur dari label yang diberikan.\n"
   ]
  },
  {
   "cell_type": "code",
   "execution_count": 5,
   "metadata": {},
   "outputs": [
    {
     "name": "stderr",
     "output_type": "stream",
     "text": [
      "C:\\Users\\Lenovo\\Anaconda3\\lib\\site-packages\\ipykernel_launcher.py:1: DeprecationWarning: \n",
      ".ix is deprecated. Please use\n",
      ".loc for label based indexing or\n",
      ".iloc for positional indexing\n",
      "\n",
      "See the documentation here:\n",
      "http://pandas.pydata.org/pandas-docs/stable/indexing.html#ix-indexer-is-deprecated\n",
      "  \"\"\"Entry point for launching an IPython kernel.\n",
      "C:\\Users\\Lenovo\\Anaconda3\\lib\\site-packages\\ipykernel_launcher.py:2: DeprecationWarning: \n",
      ".ix is deprecated. Please use\n",
      ".loc for label based indexing or\n",
      ".iloc for positional indexing\n",
      "\n",
      "See the documentation here:\n",
      "http://pandas.pydata.org/pandas-docs/stable/indexing.html#ix-indexer-is-deprecated\n",
      "  \n"
     ]
    }
   ],
   "source": [
    "x= np.array(dataset.ix[:, 0:41])\n",
    "y = np.array(dataset.ix[:, 41])"
   ]
  },
  {
   "cell_type": "code",
   "execution_count": 6,
   "metadata": {},
   "outputs": [
    {
     "data": {
      "text/html": [
       "<div>\n",
       "<style scoped>\n",
       "    .dataframe tbody tr th:only-of-type {\n",
       "        vertical-align: middle;\n",
       "    }\n",
       "\n",
       "    .dataframe tbody tr th {\n",
       "        vertical-align: top;\n",
       "    }\n",
       "\n",
       "    .dataframe thead th {\n",
       "        text-align: right;\n",
       "    }\n",
       "</style>\n",
       "<table border=\"1\" class=\"dataframe\">\n",
       "  <thead>\n",
       "    <tr style=\"text-align: right;\">\n",
       "      <th></th>\n",
       "      <th>duration</th>\n",
       "      <th>protocol_type</th>\n",
       "      <th>service</th>\n",
       "      <th>flag</th>\n",
       "      <th>src_bytes</th>\n",
       "      <th>dst_bytes</th>\n",
       "      <th>land</th>\n",
       "      <th>wrong_fragment</th>\n",
       "      <th>urgent</th>\n",
       "      <th>hot</th>\n",
       "      <th>...</th>\n",
       "      <th>dst_host_srv_count</th>\n",
       "      <th>dst_host_same_srv_rate</th>\n",
       "      <th>dst_host_diff_srv_rate</th>\n",
       "      <th>dst_host_same_src_port_rate</th>\n",
       "      <th>dst_host_srv_diff_host_rate</th>\n",
       "      <th>dst_host_serror_rate</th>\n",
       "      <th>dst_host_srv_serror_rate</th>\n",
       "      <th>dst_host_rerror_rate</th>\n",
       "      <th>dst_host_srv_rerror_rate</th>\n",
       "      <th>Label</th>\n",
       "    </tr>\n",
       "  </thead>\n",
       "  <tbody>\n",
       "    <tr>\n",
       "      <th>count</th>\n",
       "      <td>177147.000000</td>\n",
       "      <td>177147.000000</td>\n",
       "      <td>177147.000000</td>\n",
       "      <td>177147.000000</td>\n",
       "      <td>177147.000000</td>\n",
       "      <td>177147.000000</td>\n",
       "      <td>177147.0</td>\n",
       "      <td>177147.000000</td>\n",
       "      <td>177147.0</td>\n",
       "      <td>177147.000000</td>\n",
       "      <td>...</td>\n",
       "      <td>177147.000000</td>\n",
       "      <td>177147.000000</td>\n",
       "      <td>177147.000000</td>\n",
       "      <td>177147.000000</td>\n",
       "      <td>177147.000000</td>\n",
       "      <td>177147.000000</td>\n",
       "      <td>177147.000000</td>\n",
       "      <td>177147.000000</td>\n",
       "      <td>177147.000000</td>\n",
       "      <td>177147.000000</td>\n",
       "    </tr>\n",
       "    <tr>\n",
       "      <th>mean</th>\n",
       "      <td>28.005001</td>\n",
       "      <td>0.821103</td>\n",
       "      <td>1.527528</td>\n",
       "      <td>2.659887</td>\n",
       "      <td>382.648631</td>\n",
       "      <td>930.276070</td>\n",
       "      <td>0.0</td>\n",
       "      <td>0.012464</td>\n",
       "      <td>0.0</td>\n",
       "      <td>0.025544</td>\n",
       "      <td>...</td>\n",
       "      <td>172.887607</td>\n",
       "      <td>70.279632</td>\n",
       "      <td>4.614106</td>\n",
       "      <td>31.543594</td>\n",
       "      <td>1.198502</td>\n",
       "      <td>19.220675</td>\n",
       "      <td>5.749186</td>\n",
       "      <td>3.291752</td>\n",
       "      <td>3.103366</td>\n",
       "      <td>0.521793</td>\n",
       "    </tr>\n",
       "    <tr>\n",
       "      <th>std</th>\n",
       "      <td>190.406310</td>\n",
       "      <td>0.551337</td>\n",
       "      <td>1.295959</td>\n",
       "      <td>0.637451</td>\n",
       "      <td>533.925211</td>\n",
       "      <td>2036.956663</td>\n",
       "      <td>0.0</td>\n",
       "      <td>0.152513</td>\n",
       "      <td>0.0</td>\n",
       "      <td>0.223103</td>\n",
       "      <td>...</td>\n",
       "      <td>110.453230</td>\n",
       "      <td>42.993490</td>\n",
       "      <td>13.638116</td>\n",
       "      <td>44.740125</td>\n",
       "      <td>3.491475</td>\n",
       "      <td>33.247630</td>\n",
       "      <td>9.920540</td>\n",
       "      <td>17.061381</td>\n",
       "      <td>16.434442</td>\n",
       "      <td>0.499526</td>\n",
       "    </tr>\n",
       "    <tr>\n",
       "      <th>min</th>\n",
       "      <td>0.000000</td>\n",
       "      <td>0.000000</td>\n",
       "      <td>0.000000</td>\n",
       "      <td>0.000000</td>\n",
       "      <td>0.000000</td>\n",
       "      <td>0.000000</td>\n",
       "      <td>0.0</td>\n",
       "      <td>0.000000</td>\n",
       "      <td>0.0</td>\n",
       "      <td>0.000000</td>\n",
       "      <td>...</td>\n",
       "      <td>0.000000</td>\n",
       "      <td>0.000000</td>\n",
       "      <td>0.000000</td>\n",
       "      <td>0.000000</td>\n",
       "      <td>0.000000</td>\n",
       "      <td>0.000000</td>\n",
       "      <td>0.000000</td>\n",
       "      <td>0.000000</td>\n",
       "      <td>0.000000</td>\n",
       "      <td>0.000000</td>\n",
       "    </tr>\n",
       "    <tr>\n",
       "      <th>25%</th>\n",
       "      <td>0.000000</td>\n",
       "      <td>0.000000</td>\n",
       "      <td>0.000000</td>\n",
       "      <td>2.000000</td>\n",
       "      <td>0.000000</td>\n",
       "      <td>0.000000</td>\n",
       "      <td>0.0</td>\n",
       "      <td>0.000000</td>\n",
       "      <td>0.0</td>\n",
       "      <td>0.000000</td>\n",
       "      <td>...</td>\n",
       "      <td>18.000000</td>\n",
       "      <td>7.000000</td>\n",
       "      <td>0.000000</td>\n",
       "      <td>0.000000</td>\n",
       "      <td>0.000000</td>\n",
       "      <td>0.000000</td>\n",
       "      <td>0.000000</td>\n",
       "      <td>0.000000</td>\n",
       "      <td>0.000000</td>\n",
       "      <td>0.000000</td>\n",
       "    </tr>\n",
       "    <tr>\n",
       "      <th>50%</th>\n",
       "      <td>0.000000</td>\n",
       "      <td>1.000000</td>\n",
       "      <td>1.000000</td>\n",
       "      <td>3.000000</td>\n",
       "      <td>128.000000</td>\n",
       "      <td>0.000000</td>\n",
       "      <td>0.0</td>\n",
       "      <td>0.000000</td>\n",
       "      <td>0.0</td>\n",
       "      <td>0.000000</td>\n",
       "      <td>...</td>\n",
       "      <td>255.000000</td>\n",
       "      <td>100.000000</td>\n",
       "      <td>0.000000</td>\n",
       "      <td>1.000000</td>\n",
       "      <td>0.000000</td>\n",
       "      <td>0.000000</td>\n",
       "      <td>0.000000</td>\n",
       "      <td>0.000000</td>\n",
       "      <td>0.000000</td>\n",
       "      <td>1.000000</td>\n",
       "    </tr>\n",
       "    <tr>\n",
       "      <th>75%</th>\n",
       "      <td>0.000000</td>\n",
       "      <td>1.000000</td>\n",
       "      <td>3.000000</td>\n",
       "      <td>3.000000</td>\n",
       "      <td>890.000000</td>\n",
       "      <td>577.000000</td>\n",
       "      <td>0.0</td>\n",
       "      <td>0.000000</td>\n",
       "      <td>0.0</td>\n",
       "      <td>0.000000</td>\n",
       "      <td>...</td>\n",
       "      <td>255.000000</td>\n",
       "      <td>100.000000</td>\n",
       "      <td>6.000000</td>\n",
       "      <td>100.000000</td>\n",
       "      <td>1.000000</td>\n",
       "      <td>9.000000</td>\n",
       "      <td>2.000000</td>\n",
       "      <td>0.000000</td>\n",
       "      <td>0.000000</td>\n",
       "      <td>1.000000</td>\n",
       "    </tr>\n",
       "    <tr>\n",
       "      <th>max</th>\n",
       "      <td>2229.000000</td>\n",
       "      <td>2.000000</td>\n",
       "      <td>4.000000</td>\n",
       "      <td>3.000000</td>\n",
       "      <td>3067.000000</td>\n",
       "      <td>10397.000000</td>\n",
       "      <td>0.0</td>\n",
       "      <td>2.000000</td>\n",
       "      <td>0.0</td>\n",
       "      <td>4.000000</td>\n",
       "      <td>...</td>\n",
       "      <td>255.000000</td>\n",
       "      <td>100.000000</td>\n",
       "      <td>100.000000</td>\n",
       "      <td>100.000000</td>\n",
       "      <td>59.000000</td>\n",
       "      <td>77.000000</td>\n",
       "      <td>23.000000</td>\n",
       "      <td>100.000000</td>\n",
       "      <td>100.000000</td>\n",
       "      <td>1.000000</td>\n",
       "    </tr>\n",
       "  </tbody>\n",
       "</table>\n",
       "<p>8 rows × 42 columns</p>\n",
       "</div>"
      ],
      "text/plain": [
       "            duration  protocol_type        service           flag  \\\n",
       "count  177147.000000  177147.000000  177147.000000  177147.000000   \n",
       "mean       28.005001       0.821103       1.527528       2.659887   \n",
       "std       190.406310       0.551337       1.295959       0.637451   \n",
       "min         0.000000       0.000000       0.000000       0.000000   \n",
       "25%         0.000000       0.000000       0.000000       2.000000   \n",
       "50%         0.000000       1.000000       1.000000       3.000000   \n",
       "75%         0.000000       1.000000       3.000000       3.000000   \n",
       "max      2229.000000       2.000000       4.000000       3.000000   \n",
       "\n",
       "           src_bytes      dst_bytes      land  wrong_fragment    urgent  \\\n",
       "count  177147.000000  177147.000000  177147.0   177147.000000  177147.0   \n",
       "mean      382.648631     930.276070       0.0        0.012464       0.0   \n",
       "std       533.925211    2036.956663       0.0        0.152513       0.0   \n",
       "min         0.000000       0.000000       0.0        0.000000       0.0   \n",
       "25%         0.000000       0.000000       0.0        0.000000       0.0   \n",
       "50%       128.000000       0.000000       0.0        0.000000       0.0   \n",
       "75%       890.000000     577.000000       0.0        0.000000       0.0   \n",
       "max      3067.000000   10397.000000       0.0        2.000000       0.0   \n",
       "\n",
       "                 hot  ...  dst_host_srv_count  dst_host_same_srv_rate  \\\n",
       "count  177147.000000  ...       177147.000000           177147.000000   \n",
       "mean        0.025544  ...          172.887607               70.279632   \n",
       "std         0.223103  ...          110.453230               42.993490   \n",
       "min         0.000000  ...            0.000000                0.000000   \n",
       "25%         0.000000  ...           18.000000                7.000000   \n",
       "50%         0.000000  ...          255.000000              100.000000   \n",
       "75%         0.000000  ...          255.000000              100.000000   \n",
       "max         4.000000  ...          255.000000              100.000000   \n",
       "\n",
       "       dst_host_diff_srv_rate  dst_host_same_src_port_rate  \\\n",
       "count           177147.000000                177147.000000   \n",
       "mean                 4.614106                    31.543594   \n",
       "std                 13.638116                    44.740125   \n",
       "min                  0.000000                     0.000000   \n",
       "25%                  0.000000                     0.000000   \n",
       "50%                  0.000000                     1.000000   \n",
       "75%                  6.000000                   100.000000   \n",
       "max                100.000000                   100.000000   \n",
       "\n",
       "       dst_host_srv_diff_host_rate  dst_host_serror_rate  \\\n",
       "count                177147.000000         177147.000000   \n",
       "mean                      1.198502             19.220675   \n",
       "std                       3.491475             33.247630   \n",
       "min                       0.000000              0.000000   \n",
       "25%                       0.000000              0.000000   \n",
       "50%                       0.000000              0.000000   \n",
       "75%                       1.000000              9.000000   \n",
       "max                      59.000000             77.000000   \n",
       "\n",
       "       dst_host_srv_serror_rate  dst_host_rerror_rate  \\\n",
       "count             177147.000000         177147.000000   \n",
       "mean                   5.749186              3.291752   \n",
       "std                    9.920540             17.061381   \n",
       "min                    0.000000              0.000000   \n",
       "25%                    0.000000              0.000000   \n",
       "50%                    0.000000              0.000000   \n",
       "75%                    2.000000              0.000000   \n",
       "max                   23.000000            100.000000   \n",
       "\n",
       "       dst_host_srv_rerror_rate          Label  \n",
       "count             177147.000000  177147.000000  \n",
       "mean                   3.103366       0.521793  \n",
       "std                   16.434442       0.499526  \n",
       "min                    0.000000       0.000000  \n",
       "25%                    0.000000       0.000000  \n",
       "50%                    0.000000       1.000000  \n",
       "75%                    0.000000       1.000000  \n",
       "max                  100.000000       1.000000  \n",
       "\n",
       "[8 rows x 42 columns]"
      ]
     },
     "execution_count": 6,
     "metadata": {},
     "output_type": "execute_result"
    }
   ],
   "source": [
    "dataset.describe()"
   ]
  },
  {
   "cell_type": "code",
   "execution_count": 7,
   "metadata": {},
   "outputs": [
    {
     "data": {
      "text/plain": [
       "(177147, 42)"
      ]
     },
     "execution_count": 7,
     "metadata": {},
     "output_type": "execute_result"
    }
   ],
   "source": [
    "dataset.shape"
   ]
  },
  {
   "cell_type": "markdown",
   "metadata": {},
   "source": [
    "### Preprocessing dataset.\n",
    "\n",
    "Dataset yang diambil dengan cara :\n",
    "    \n",
    "    1. Scaling: mengubah nilai data menjadi 0 sampai 1\n",
    "    2. Memotong sinyal sebanyak 42 node/beat. "
   ]
  },
  {
   "cell_type": "code",
   "execution_count": 8,
   "metadata": {},
   "outputs": [],
   "source": [
    "normal = dataset[dataset.Label==0]\n",
    "probe = dataset[dataset.Label==1]"
   ]
  },
  {
   "cell_type": "markdown",
   "metadata": {},
   "source": [
    "### Splitting Data"
   ]
  },
  {
   "cell_type": "code",
   "execution_count": 9,
   "metadata": {},
   "outputs": [
    {
     "data": {
      "text/plain": [
       "Text(0, 0.5, 'Frequency')"
      ]
     },
     "execution_count": 9,
     "metadata": {},
     "output_type": "execute_result"
    },
    {
     "data": {
      "image/png": "[encoded data removed]",
      "text/plain": [
       "<Figure size 432x288 with 1 Axes>"
      ]
     },
     "metadata": {
      "needs_background": "light"
     },
     "output_type": "display_data"
    }
   ],
   "source": [
    "labels = ['normal','probe']\n",
    "classes = pd.value_counts(data['Label'], sort = True)\n",
    "classes.plot(kind = 'bar', rot=0)\n",
    "plt.title(\"Transaction Label distribution\")\n",
    "plt.xticks(range(2), labels)\n",
    "plt.xlabel(\"Label\")\n",
    "plt.ylabel(\"Frequency\")"
   ]
  },
  {
   "cell_type": "code",
   "execution_count": 10,
   "metadata": {},
   "outputs": [
    {
     "data": {
      "text/plain": [
       "(177147, 41)"
      ]
     },
     "execution_count": 10,
     "metadata": {},
     "output_type": "execute_result"
    }
   ],
   "source": [
    "scaler= MinMaxScaler()\n",
    "feature_scaled=scaler.fit_transform(x)\n",
    "feature_scaled.shape"
   ]
  },
  {
   "cell_type": "code",
   "execution_count": 11,
   "metadata": {},
   "outputs": [
    {
     "name": "stdout",
     "output_type": "stream",
     "text": [
      "[0 1 0 ... 1 1 1]\n"
     ]
    }
   ],
   "source": [
    "print(y)"
   ]
  },
  {
   "cell_type": "code",
   "execution_count": 12,
   "metadata": {},
   "outputs": [],
   "source": [
    "from sklearn.model_selection import train_test_split"
   ]
  },
  {
   "cell_type": "markdown",
   "metadata": {},
   "source": [
    "#### Data fitur dan label dibagi menjadi data train dan test"
   ]
  },
  {
   "cell_type": "code",
   "execution_count": 13,
   "metadata": {},
   "outputs": [],
   "source": [
    "x_train, x_test, y_train, y_test = train_test_split(\n",
    "    x, y, test_size=0.2, random_state=2)"
   ]
  },
  {
   "cell_type": "markdown",
   "metadata": {},
   "source": [
    "### Model ANN"
   ]
  },
  {
   "cell_type": "markdown",
   "metadata": {},
   "source": [
    "Menggunakan model Sequential(). Pada Model ini terdapat Input layer , Hidden layer dan Output layer. \n",
    "\n",
    "<strong>Penentuan Jumlah Layer ditentukan sebagai berikut </strong>:\n",
    "\n",
    "    a. Jumlah dari input layer itu sama dengan jumlah fitur yang diberikan kepada mesin.\n",
    "    b. Jumlah dari Hidden layer ditentukan sesuai dengan atau lebih besar dari Input layer.\n",
    "    c. Jumlah dari Output Layer sesuai dengan kolom yang diberikan kepada mesin.\n",
    "  \n",
    "  \n",
    "<strong>Jumlah layer yang ditentukan adalah </strong>:\n",
    "\n",
    "    1. Input layer : Layer pertama terbentuk dari 42 layer Neural sesuai fitur dengan menggunakan activation                                    relu.\n",
    "    2. Hidden Layer pertama : 42 units Neural Network dengan menggunakan activation relu.\n",
    "    3. Hidden Layer Kedua : 42 units Neural Network dengan menggunakan activation relu.\n",
    "    4. Output layer : 1 unit Neural Network dengan menggunakan activation sigmoid."
   ]
  },
  {
   "cell_type": "code",
   "execution_count": 14,
   "metadata": {},
   "outputs": [],
   "source": [
    "model = Sequential()\n",
    "model.add(Dense(units= 100, input_dim =41 , activation='relu'))\n",
    "model.add(Dense(units= 50, activation='relu'))\n",
    "model.add(Dense(units= 1, activation='sigmoid'))"
   ]
  },
  {
   "cell_type": "markdown",
   "metadata": {},
   "source": [
    "### Compile Model\n",
    "\n",
    "Melakukan compile dengan Optimizer adam dengan fungsi loss Binary Crossentropy. Disini terdapat parameter optimizer adam  yaitu learning_rate.\n",
    "\n",
    "Learning_rate yaitu seberapa teliti mesin itu belajar. Semakin kecil nilai learning rate ,maka semakin teliti mesin belajar dan semakin tinggi kesempatan untuk mendapatkan hasil yang bagus. Learning rate yang tinggi memiliki kelemahan yaitu, waktu untuk proses training yang lama."
   ]
  },
  {
   "cell_type": "code",
   "execution_count": 15,
   "metadata": {},
   "outputs": [],
   "source": [
    "model.compile(optimizer=Adam(lr=0.001), loss='binary_crossentropy', metrics=['accuracy'])"
   ]
  },
  {
   "cell_type": "markdown",
   "metadata": {},
   "source": [
    "### Melakukan Training model dengan data train serta Validasi dengan data Test\n",
    "\n",
    "Model yang sudah dibentuk sesuai dengan **data train** dan menvalidasi proses dengan data validasi yaitu **data testing**. \n",
    "\n",
    "Adapula parameter yaitu :\n",
    "\n",
    "1. `batch_size` : Seberapa banyak sample yang dimasukkan ke dalam Model dalam satu iterasi\n",
    "2. `epochs`  : Seberapa banyak mesin mengulang pembelajaran sampai nilai weight tidak berubah lagi."
   ]
  },
  {
   "cell_type": "code",
   "execution_count": 16,
   "metadata": {},
   "outputs": [
    {
     "name": "stdout",
     "output_type": "stream",
     "text": [
      "Train on 141717 samples, validate on 35430 samples\n",
      "Epoch 1/10\n",
      "141717/141717 [==============================] - 5s 34us/step - loss: 0.1806 - accuracy: 0.9961 - val_loss: 0.0074 - val_accuracy: 0.9995\n",
      "Epoch 2/10\n",
      "141717/141717 [==============================] - 5s 32us/step - loss: 0.0255 - accuracy: 0.9992 - val_loss: 0.0013 - val_accuracy: 0.9998\n",
      "Epoch 3/10\n",
      "141717/141717 [==============================] - 5s 32us/step - loss: 0.0085 - accuracy: 0.9996 - val_loss: 0.0047 - val_accuracy: 0.9997\n",
      "Epoch 4/10\n",
      "141717/141717 [==============================] - 5s 34us/step - loss: 0.0054 - accuracy: 0.9997 - val_loss: 0.0016 - val_accuracy: 0.9998\n",
      "Epoch 5/10\n",
      "141717/141717 [==============================] - 5s 32us/step - loss: 0.0046 - accuracy: 0.9998 - val_loss: 0.0011 - val_accuracy: 0.9998\n",
      "Epoch 6/10\n",
      "141717/141717 [==============================] - 5s 33us/step - loss: 0.0035 - accuracy: 0.9998 - val_loss: 0.0020 - val_accuracy: 0.9998\n",
      "Epoch 7/10\n",
      "141717/141717 [==============================] - 5s 33us/step - loss: 0.0028 - accuracy: 0.9998 - val_loss: 0.0010 - val_accuracy: 0.9999\n",
      "Epoch 8/10\n",
      "141717/141717 [==============================] - 5s 33us/step - loss: 0.0016 - accuracy: 0.9999 - val_loss: 5.2970e-04 - val_accuracy: 0.9999\n",
      "Epoch 9/10\n",
      "141717/141717 [==============================] - 5s 33us/step - loss: 0.0030 - accuracy: 0.9999 - val_loss: 2.6664e-04 - val_accuracy: 1.0000\n",
      "Epoch 10/10\n",
      "141717/141717 [==============================] - 5s 33us/step - loss: 0.0028 - accuracy: 0.9999 - val_loss: 8.3822e-04 - val_accuracy: 0.9997\n"
     ]
    }
   ],
   "source": [
    "acc_training = model.fit(x_train, y_train, validation_data=(x_test, y_test), batch_size=32, \n",
    "                         epochs=10)"
   ]
  },
  {
   "cell_type": "markdown",
   "metadata": {},
   "source": [
    "### Melakukan Perhitungan Akurasi"
   ]
  },
  {
   "cell_type": "code",
   "execution_count": 25,
   "metadata": {},
   "outputs": [
    {
     "name": "stdout",
     "output_type": "stream",
     "text": [
      "35430/35430 [==============================] - 0s 13us/step\n"
     ]
    },
    {
     "data": {
      "text/plain": [
       "[0.0008382228429433551, 0.9997177720069885]"
      ]
     },
     "execution_count": 25,
     "metadata": {},
     "output_type": "execute_result"
    }
   ],
   "source": [
    "acc_testing  = model.evaluate(x_test, y_test) \n",
    "acc_testing"
   ]
  },
  {
   "cell_type": "markdown",
   "metadata": {},
   "source": [
    "### Evaluasi Model Plot \n",
    "\n",
    "1. `Underfitting`\n",
    "\n",
    "Underfitting terjadi apabila hasil akurasi dari data testing itu **lebih tinggi** daripada data training.\n",
    "\n",
    "2. `Overfitting` \n",
    "\n",
    "Overfitting terjadi apabila hasil akurasi dari data testing itu **lebih rendah** daripada data training.\n",
    "\n",
    "3. `Fit`\n",
    "\n",
    "Fit apabila hasil akurasi dari data testing **tidak berbeda jauh** daripada data training."
   ]
  },
  {
   "cell_type": "markdown",
   "metadata": {},
   "source": [
    "### Melakukan Plot hasil akurasi training dan akurasi testing"
   ]
  },
  {
   "cell_type": "code",
   "execution_count": 26,
   "metadata": {},
   "outputs": [
    {
     "data": {
      "image/png": "[encoded data removed]",
      "text/plain": [
       "<Figure size 432x288 with 1 Axes>"
      ]
     },
     "metadata": {
      "needs_background": "light"
     },
     "output_type": "display_data"
    }
   ],
   "source": [
    "plt.plot(acc_training.history['accuracy'])\n",
    "plt.plot(acc_training.history['val_accuracy'])\n",
    "plt.title('model accuracy')\n",
    "plt.ylabel('Akurasi')\n",
    "plt.xlabel('Epoch')\n",
    "plt.legend(['Data training', 'Data Testing'], loc='upper left')\n",
    "plt.show()"
   ]
  },
  {
   "cell_type": "markdown",
   "metadata": {},
   "source": [
    "### Melakukan Plot hasil Loss antara training dan testing"
   ]
  },
  {
   "cell_type": "code",
   "execution_count": 27,
   "metadata": {},
   "outputs": [
    {
     "data": {
      "image/png": "[encoded data removed]",
      "text/plain": [
       "<Figure size 432x288 with 1 Axes>"
      ]
     },
     "metadata": {
      "needs_background": "light"
     },
     "output_type": "display_data"
    }
   ],
   "source": [
    "plt.plot(acc_training.history['loss'])\n",
    "plt.plot(acc_training.history['val_loss'])\n",
    "plt.title('Model Loss')\n",
    "plt.ylabel('Loss')\n",
    "plt.xlabel('Epoch')\n",
    "plt.legend(['Data training', 'Data Testing'], loc='upper left')\n",
    "plt.show()"
   ]
  },
  {
   "cell_type": "markdown",
   "metadata": {},
   "source": [
    "### Confusion Matrix\n",
    "\n",
    "Confusion Matrix merupakan sebuah tabel yang berisi 2 jenis nilai yaitu Nilai prediksi dan Nilai Dataset(nilai yang benar). Nilai tersebut dipecah menjadi 4 dan akan dibandingkan untuk mendapatkan informasi tentang performa model learning.\n",
    "    \n",
    "Jika 0 ( positive ) dan 1 ( negative ).\n",
    "\n",
    "1. True Positive : Mesin memprediksi positive dan benar\n",
    "2. True Negative : Mesin memprediksi negative dan benar\n",
    "3. False Positive : Mesin memprediksi Positive dan padahal negative \n",
    "4. False Negative : Mesin memprediksi negative dan padahal positive\n"
   ]
  },
  {
   "cell_type": "code",
   "execution_count": 28,
   "metadata": {},
   "outputs": [],
   "source": [
    "prediction = model.predict_classes(x_test)\n",
    "cm = confusion_matrix(y_test, prediction)\n",
    "tp = cm[0,0]\n",
    "tn = cm[1,1]\n",
    "fp = cm[0,1]\n",
    "fn = cm[1,0]"
   ]
  },
  {
   "cell_type": "code",
   "execution_count": 29,
   "metadata": {},
   "outputs": [
    {
     "name": "stdout",
     "output_type": "stream",
     "text": [
      "Confussion matriks:\n",
      " [[16911     0]\n",
      " [   10 18509]]\n"
     ]
    }
   ],
   "source": [
    "print (\"Confussion matriks:\\n\",cm)"
   ]
  },
  {
   "cell_type": "markdown",
   "metadata": {},
   "source": [
    "### Melakukan Evaluasi Model dengan Confusion Matrix\n",
    "\n",
    "Pada Confusion matrik terdapat banyak penilaian yang bisa diambil untuk mengukur performa dari model learning. Namun yang sering dipakai adalah :\n",
    "\n",
    "1. Akurasi : Melakukan perbandingan Seberapa banyak model mengklasifikasikan kelas yang benar dengan total kelas yang ada.\n",
    "\n",
    "Akurasi = (TP+TN)/(TP+TN+FP+FN)\n",
    "\n",
    "2. Recall : Melihat seberapa akurat mesin untuk mengklasifikasikan kelas yang positif.\n",
    "\n",
    "Recall = TP/(TP+FN)\n",
    "\n",
    "3. Presisi : Melakukan perbandingan prediksi kelas yang positif yang benar dengan semua prediksi kelas positif.\n",
    "\n",
    "Presisi = TP/(TP+FP)\n",
    "        \n",
    "4. F1 : Nilai rata-rata dari Recall dan Presisi \n",
    "        \n",
    "F1 = (2*Presisi*recall) / (presisi+recall)"
   ]
  },
  {
   "cell_type": "code",
   "execution_count": 30,
   "metadata": {},
   "outputs": [],
   "source": [
    "precision = tp / ( tp + fp)\n",
    "recall = tp/(tp+fn)\n",
    "f1=(2*precision*recall)/ (precision+recall)\n",
    "akurasi = (tp+tn)/(tp+tn+fp+fn)\n",
    "Sensitivity = tp/(tp + fn)"
   ]
  },
  {
   "cell_type": "code",
   "execution_count": 31,
   "metadata": {},
   "outputs": [
    {
     "name": "stdout",
     "output_type": "stream",
     "text": [
      "Confussion matriks:\n",
      " [[16911     0]\n",
      " [   10 18509]]\n"
     ]
    }
   ],
   "source": [
    "prediction = model.predict_classes(x_test)\n",
    "cm = confusion_matrix(y_test, prediction)\n",
    "tp = cm[0,0]\n",
    "tn = cm[1,1]\n",
    "fp = cm[0,1]\n",
    "fn = cm[1,0]\n",
    "print (\"Confussion matriks:\\n\",cm)"
   ]
  },
  {
   "cell_type": "code",
   "execution_count": 32,
   "metadata": {},
   "outputs": [
    {
     "name": "stdout",
     "output_type": "stream",
     "text": [
      "precesion :  1.0\n",
      "recall :  0.9994090183795284\n",
      "F1 :  0.9997044218491369\n",
      "sensitivity :  0.9994090183795284\n",
      "akurasi :  0.9997177533163986\n"
     ]
    }
   ],
   "source": [
    "print (\"precesion : \",precision)\n",
    "print(\"recall : \",recall)\n",
    "print (\"F1 : \",f1)\n",
    "print(\"sensitivity : \",Sensitivity )\n",
    "print(\"akurasi : \",akurasi)"
   ]
  },
  {
   "cell_type": "markdown",
   "metadata": {},
   "source": [
    "### Referensi\n",
    "\n",
    "`Dataset` : https://www.kaggle.com/hassan06/nslkdd\n",
    "\n",
    "`Paper` : Nattawat Khamphakdee, Nunnapus Benjamas, and Saiyan Saiyod \"Improving Intrusion Detection System based on Snort rules for network probe attack detection.\"https://ieeexplore.ieee.org/abstract/document/6914042"
   ]
  }
 ],
 "metadata": {
  "kernelspec": {
   "display_name": "Python 3",
   "language": "python",
   "name": "python3"
  },
  "language_info": {
   "codemirror_mode": {
    "name": "ipython",
    "version": 3
   },
   "file_extension": ".py",
   "mimetype": "text/x-python",
   "name": "python",
   "nbconvert_exporter": "python",
   "pygments_lexer": "ipython3",
   "version": "3.7.3"
  }
 },
 "nbformat": 4,
 "nbformat_minor": 2
}
