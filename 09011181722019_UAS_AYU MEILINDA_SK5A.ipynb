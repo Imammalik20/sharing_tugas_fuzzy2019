{
 "cells": [
  {
   "cell_type": "markdown",
   "metadata": {},
   "source": [
    "<div class=\"\">\n",
    "<br><br>\n",
    "<center><br><font size=\"12\"><font face=\"calibri\"><strong>Deteksi Dini Penyakit Diabetes Menggunakan Algoritma Neural Network Berbasiskan Algoritma Genetika\n",
    "<center><br><font size=\"5\"><font face=\"calibri\"><strong>Pima Indians Diabetes Dataset by UCI Machine Learning\n",
    "<br><strong>Oleh :\n",
    "<br>\n",
    "<br><strong>AYU MEILINDA\n",
    "<br><strong>09011181722019\n",
    "<br><br>\n",
    "<br><strong>Mata Kuliah Kecerdasan Buatan\n",
    "<br>\n",
    "<br><strong>Dosen Pengampuh : \n",
    "<br><strong>Prof. Dr. Ir. Siti Nurmaini, M.T.\n",
    "<br><br><br>\n",
    "<br><strong>Jurusan Sistem Komputer\n",
    "<br><strong>Fakultas Ilmu Komputer\n",
    "<br><strong>Universitas Sriwijaya\n",
    "<br><strong>2019"
   ]
  },
  {
   "cell_type": "markdown",
   "metadata": {},
   "source": [
    "# Berdasarkan pada jurnal \"Deteksi Dini Penyakit Diabetes Menggunakan Algoritma Neural Network Berbasiskan Algoritma Genetika\" dan menggunakan Pima Indians Diabetes Dataset by UCI Machine Learning"
   ]
  },
  {
   "cell_type": "markdown",
   "metadata": {},
   "source": [
    "## IMPORT PACKAGES \n",
    "Berikut ini adalah paket-paket yang digunakan antara lain :\n",
    "\n",
    "Keras Applications adalah salah satu modul dalam pustaka Keras yang menyediakan arsitektur berbagai model Deep Learning ternama. Model-model itu sudah dilatih out of the box. Dengan kata lain, menggunakan Keras Applications sama halnya membuat sistem cerdas.\n",
    "\n",
    "Paket sklearn.utils\n",
    "\n",
    "Paket sklearn.preprocessing menyediakan beberapa fungsi utilitas umum dan kelas transformator untuk mengubah vektor fitur mentah menjadi representasi yang lebih sesuai untuk downstream estimator. Dalam hali ini diimportkan StandardScaler dan MinMaxScaler.\n",
    "\n",
    "NumPy adalah paket dasar untuk komputasi ilmiah dengan Python. NumPy juga dapat digunakan sebagai wadah data generik multidimensi yang efisien. Hal ini memungkinkan NumPy untuk terintegrasi dengan mudah dan cepat dengan berbagai macam database.\n",
    "\n",
    "Pandas merupakan toolkit yang powerfull sebagai alat analisis data dan struktur untuk bahasa pemrograman Python. \n",
    "\n",
    "Seaborn adalah library untuk membuat grafik statistik dengan Python. Ini dibangun di atas matplotlib dan terintegrasi dengan struktur data pandas.\n",
    "\n",
    "Matplotlib.pyplot berungsi untuk membuat suatu gambar, membuat sebuah plotting area pada gambar, membuat garis pada plotting area, dan-lain-lain."
   ]
  },
  {
   "cell_type": "code",
   "execution_count": 1,
   "metadata": {},
   "outputs": [
    {
     "name": "stderr",
     "output_type": "stream",
     "text": [
      "C:\\Users\\Ayu\\Anaconda3\\lib\\site-packages\\h5py\\__init__.py:36: FutureWarning: Conversion of the second argument of issubdtype from `float` to `np.floating` is deprecated. In future, it will be treated as `np.float64 == np.dtype(float).type`.\n",
      "  from ._conv import register_converters as _register_converters\n",
      "Using TensorFlow backend.\n"
     ]
    }
   ],
   "source": [
    "#memanggil library yang akan digunakan\n",
    "from keras.models import Sequential #library untuk model lapisan bertumpuk\n",
    "from keras.layers import Dense  #untuk menambahkan layer\n",
    "from sklearn.utils import resample\n",
    "from sklearn.preprocessing import MinMaxScaler\n",
    "scaler = MinMaxScaler #mengubah fitur dengan penskalaan setiap fitur ke rentang yang diberikan\n",
    "import numpy as np#untuk komputasi array\n",
    "np.random.seed(7)\n",
    "import pandas as pd #mengelolah data\n",
    "import seaborn as sns\n",
    "import matplotlib.pyplot as plt\n",
    "from sklearn.model_selection import train_test_split #membagikan data"
   ]
  },
  {
   "cell_type": "markdown",
   "metadata": {},
   "source": [
    "## IMPORT DATASET\n",
    "Dataset yang dugunakan dalam hal ini adalah breast-cancer-wisconsin by UCI Machine Learning."
   ]
  },
  {
   "cell_type": "code",
   "execution_count": 2,
   "metadata": {},
   "outputs": [
    {
     "name": "stderr",
     "output_type": "stream",
     "text": [
      "C:\\Users\\Ayu\\Anaconda3\\lib\\site-packages\\ipykernel_launcher.py:2: DeprecationWarning: \n",
      ".ix is deprecated. Please use\n",
      ".loc for label based indexing or\n",
      ".iloc for positional indexing\n",
      "\n",
      "See the documentation here:\n",
      "http://pandas.pydata.org/pandas-docs/stable/indexing.html#ix-indexer-is-deprecated\n",
      "  \n",
      "C:\\Users\\Ayu\\Anaconda3\\lib\\site-packages\\ipykernel_launcher.py:3: DeprecationWarning: \n",
      ".ix is deprecated. Please use\n",
      ".loc for label based indexing or\n",
      ".iloc for positional indexing\n",
      "\n",
      "See the documentation here:\n",
      "http://pandas.pydata.org/pandas-docs/stable/indexing.html#ix-indexer-is-deprecated\n",
      "  This is separate from the ipykernel package so we can avoid doing imports until\n"
     ]
    }
   ],
   "source": [
    "dataset = pd.read_csv (\"diabetes.csv\")\n",
    "feature = np.array(dataset.ix[:, 0:8])\n",
    "label = np.array(dataset.ix[:,8])"
   ]
  },
  {
   "cell_type": "code",
   "execution_count": 3,
   "metadata": {},
   "outputs": [
    {
     "data": {
      "text/html": [
       "<div>\n",
       "<style scoped>\n",
       "    .dataframe tbody tr th:only-of-type {\n",
       "        vertical-align: middle;\n",
       "    }\n",
       "\n",
       "    .dataframe tbody tr th {\n",
       "        vertical-align: top;\n",
       "    }\n",
       "\n",
       "    .dataframe thead th {\n",
       "        text-align: right;\n",
       "    }\n",
       "</style>\n",
       "<table border=\"1\" class=\"dataframe\">\n",
       "  <thead>\n",
       "    <tr style=\"text-align: right;\">\n",
       "      <th></th>\n",
       "      <th>Pregnancies</th>\n",
       "      <th>Glucose</th>\n",
       "      <th>BloodPressure</th>\n",
       "      <th>SkinThickness</th>\n",
       "      <th>Insulin</th>\n",
       "      <th>BMI</th>\n",
       "      <th>DiabetesPedigreeFunction</th>\n",
       "      <th>Age</th>\n",
       "      <th>Outcome</th>\n",
       "    </tr>\n",
       "  </thead>\n",
       "  <tbody>\n",
       "    <tr>\n",
       "      <th>0</th>\n",
       "      <td>6</td>\n",
       "      <td>148</td>\n",
       "      <td>72</td>\n",
       "      <td>35</td>\n",
       "      <td>0</td>\n",
       "      <td>33.6</td>\n",
       "      <td>0.627</td>\n",
       "      <td>50</td>\n",
       "      <td>1</td>\n",
       "    </tr>\n",
       "    <tr>\n",
       "      <th>1</th>\n",
       "      <td>1</td>\n",
       "      <td>85</td>\n",
       "      <td>66</td>\n",
       "      <td>29</td>\n",
       "      <td>0</td>\n",
       "      <td>26.6</td>\n",
       "      <td>0.351</td>\n",
       "      <td>31</td>\n",
       "      <td>0</td>\n",
       "    </tr>\n",
       "    <tr>\n",
       "      <th>2</th>\n",
       "      <td>8</td>\n",
       "      <td>183</td>\n",
       "      <td>64</td>\n",
       "      <td>0</td>\n",
       "      <td>0</td>\n",
       "      <td>23.3</td>\n",
       "      <td>0.672</td>\n",
       "      <td>32</td>\n",
       "      <td>1</td>\n",
       "    </tr>\n",
       "    <tr>\n",
       "      <th>3</th>\n",
       "      <td>1</td>\n",
       "      <td>89</td>\n",
       "      <td>66</td>\n",
       "      <td>23</td>\n",
       "      <td>94</td>\n",
       "      <td>28.1</td>\n",
       "      <td>0.167</td>\n",
       "      <td>21</td>\n",
       "      <td>0</td>\n",
       "    </tr>\n",
       "    <tr>\n",
       "      <th>4</th>\n",
       "      <td>0</td>\n",
       "      <td>137</td>\n",
       "      <td>40</td>\n",
       "      <td>35</td>\n",
       "      <td>168</td>\n",
       "      <td>43.1</td>\n",
       "      <td>2.288</td>\n",
       "      <td>33</td>\n",
       "      <td>1</td>\n",
       "    </tr>\n",
       "  </tbody>\n",
       "</table>\n",
       "</div>"
      ],
      "text/plain": [
       "   Pregnancies  Glucose  BloodPressure  SkinThickness  Insulin   BMI  \\\n",
       "0            6      148             72             35        0  33.6   \n",
       "1            1       85             66             29        0  26.6   \n",
       "2            8      183             64              0        0  23.3   \n",
       "3            1       89             66             23       94  28.1   \n",
       "4            0      137             40             35      168  43.1   \n",
       "\n",
       "   DiabetesPedigreeFunction  Age  Outcome  \n",
       "0                     0.627   50        1  \n",
       "1                     0.351   31        0  \n",
       "2                     0.672   32        1  \n",
       "3                     0.167   21        0  \n",
       "4                     2.288   33        1  "
      ]
     },
     "execution_count": 3,
     "metadata": {},
     "output_type": "execute_result"
    }
   ],
   "source": [
    "dataset.head() #head() berfungsi untuk melihat data sebanyak n pada kolom awal (jika tidak diisi, akan tampil secara random)."
   ]
  },
  {
   "cell_type": "code",
   "execution_count": 4,
   "metadata": {},
   "outputs": [
    {
     "data": {
      "text/plain": [
       "0    500\n",
       "1    268\n",
       "Name: Outcome, dtype: int64"
      ]
     },
     "execution_count": 4,
     "metadata": {},
     "output_type": "execute_result"
    }
   ],
   "source": [
    "dataset.Outcome.value_counts() #untuk mengetahui jumlah 0 dan 1 pada kolom Outcome"
   ]
  },
  {
   "cell_type": "code",
   "execution_count": 5,
   "metadata": {},
   "outputs": [
    {
     "data": {
      "text/html": [
       "<div>\n",
       "<style scoped>\n",
       "    .dataframe tbody tr th:only-of-type {\n",
       "        vertical-align: middle;\n",
       "    }\n",
       "\n",
       "    .dataframe tbody tr th {\n",
       "        vertical-align: top;\n",
       "    }\n",
       "\n",
       "    .dataframe thead th {\n",
       "        text-align: right;\n",
       "    }\n",
       "</style>\n",
       "<table border=\"1\" class=\"dataframe\">\n",
       "  <thead>\n",
       "    <tr style=\"text-align: right;\">\n",
       "      <th></th>\n",
       "      <th>Pregnancies</th>\n",
       "      <th>Glucose</th>\n",
       "      <th>BloodPressure</th>\n",
       "      <th>SkinThickness</th>\n",
       "      <th>Insulin</th>\n",
       "      <th>BMI</th>\n",
       "      <th>DiabetesPedigreeFunction</th>\n",
       "      <th>Age</th>\n",
       "      <th>Outcome</th>\n",
       "    </tr>\n",
       "  </thead>\n",
       "  <tbody>\n",
       "    <tr>\n",
       "      <th>count</th>\n",
       "      <td>768.000000</td>\n",
       "      <td>768.000000</td>\n",
       "      <td>768.000000</td>\n",
       "      <td>768.000000</td>\n",
       "      <td>768.000000</td>\n",
       "      <td>768.000000</td>\n",
       "      <td>768.000000</td>\n",
       "      <td>768.000000</td>\n",
       "      <td>768.000000</td>\n",
       "    </tr>\n",
       "    <tr>\n",
       "      <th>mean</th>\n",
       "      <td>3.845052</td>\n",
       "      <td>120.894531</td>\n",
       "      <td>69.105469</td>\n",
       "      <td>20.536458</td>\n",
       "      <td>79.799479</td>\n",
       "      <td>31.992578</td>\n",
       "      <td>0.471876</td>\n",
       "      <td>33.240885</td>\n",
       "      <td>0.348958</td>\n",
       "    </tr>\n",
       "    <tr>\n",
       "      <th>std</th>\n",
       "      <td>3.369578</td>\n",
       "      <td>31.972618</td>\n",
       "      <td>19.355807</td>\n",
       "      <td>15.952218</td>\n",
       "      <td>115.244002</td>\n",
       "      <td>7.884160</td>\n",
       "      <td>0.331329</td>\n",
       "      <td>11.760232</td>\n",
       "      <td>0.476951</td>\n",
       "    </tr>\n",
       "    <tr>\n",
       "      <th>min</th>\n",
       "      <td>0.000000</td>\n",
       "      <td>0.000000</td>\n",
       "      <td>0.000000</td>\n",
       "      <td>0.000000</td>\n",
       "      <td>0.000000</td>\n",
       "      <td>0.000000</td>\n",
       "      <td>0.078000</td>\n",
       "      <td>21.000000</td>\n",
       "      <td>0.000000</td>\n",
       "    </tr>\n",
       "    <tr>\n",
       "      <th>25%</th>\n",
       "      <td>1.000000</td>\n",
       "      <td>99.000000</td>\n",
       "      <td>62.000000</td>\n",
       "      <td>0.000000</td>\n",
       "      <td>0.000000</td>\n",
       "      <td>27.300000</td>\n",
       "      <td>0.243750</td>\n",
       "      <td>24.000000</td>\n",
       "      <td>0.000000</td>\n",
       "    </tr>\n",
       "    <tr>\n",
       "      <th>50%</th>\n",
       "      <td>3.000000</td>\n",
       "      <td>117.000000</td>\n",
       "      <td>72.000000</td>\n",
       "      <td>23.000000</td>\n",
       "      <td>30.500000</td>\n",
       "      <td>32.000000</td>\n",
       "      <td>0.372500</td>\n",
       "      <td>29.000000</td>\n",
       "      <td>0.000000</td>\n",
       "    </tr>\n",
       "    <tr>\n",
       "      <th>75%</th>\n",
       "      <td>6.000000</td>\n",
       "      <td>140.250000</td>\n",
       "      <td>80.000000</td>\n",
       "      <td>32.000000</td>\n",
       "      <td>127.250000</td>\n",
       "      <td>36.600000</td>\n",
       "      <td>0.626250</td>\n",
       "      <td>41.000000</td>\n",
       "      <td>1.000000</td>\n",
       "    </tr>\n",
       "    <tr>\n",
       "      <th>max</th>\n",
       "      <td>17.000000</td>\n",
       "      <td>199.000000</td>\n",
       "      <td>122.000000</td>\n",
       "      <td>99.000000</td>\n",
       "      <td>846.000000</td>\n",
       "      <td>67.100000</td>\n",
       "      <td>2.420000</td>\n",
       "      <td>81.000000</td>\n",
       "      <td>1.000000</td>\n",
       "    </tr>\n",
       "  </tbody>\n",
       "</table>\n",
       "</div>"
      ],
      "text/plain": [
       "       Pregnancies     Glucose  BloodPressure  SkinThickness     Insulin  \\\n",
       "count   768.000000  768.000000     768.000000     768.000000  768.000000   \n",
       "mean      3.845052  120.894531      69.105469      20.536458   79.799479   \n",
       "std       3.369578   31.972618      19.355807      15.952218  115.244002   \n",
       "min       0.000000    0.000000       0.000000       0.000000    0.000000   \n",
       "25%       1.000000   99.000000      62.000000       0.000000    0.000000   \n",
       "50%       3.000000  117.000000      72.000000      23.000000   30.500000   \n",
       "75%       6.000000  140.250000      80.000000      32.000000  127.250000   \n",
       "max      17.000000  199.000000     122.000000      99.000000  846.000000   \n",
       "\n",
       "              BMI  DiabetesPedigreeFunction         Age     Outcome  \n",
       "count  768.000000                768.000000  768.000000  768.000000  \n",
       "mean    31.992578                  0.471876   33.240885    0.348958  \n",
       "std      7.884160                  0.331329   11.760232    0.476951  \n",
       "min      0.000000                  0.078000   21.000000    0.000000  \n",
       "25%     27.300000                  0.243750   24.000000    0.000000  \n",
       "50%     32.000000                  0.372500   29.000000    0.000000  \n",
       "75%     36.600000                  0.626250   41.000000    1.000000  \n",
       "max     67.100000                  2.420000   81.000000    1.000000  "
      ]
     },
     "execution_count": 5,
     "metadata": {},
     "output_type": "execute_result"
    }
   ],
   "source": [
    "dataset.describe() #berfungsi untuk menunjukkan rangkuman statistik seperti rata-rata. median, dan lain sebagainnya pada kolom"
   ]
  },
  {
   "cell_type": "markdown",
   "metadata": {},
   "source": [
    "## ATTRIBUTE\n",
    "Atribut yang terdapat berdasarkan Pima Indians Diabetes Dataset adalah sebagai berikut : <br>\n",
    "\n",
    "|  No. |             Attribute          | Domain  | \n",
    "|------|--------------------------------|---------|\n",
    "|  1. |  Pregnancies                    | [1-20]  |\n",
    "|  2. |  Glucose                        | [1-200] |             \n",
    "|  3. |  BloodPressure                  | [1-200] |\n",
    "|  4. |  SkinThickness                  | [1-100] |          \n",
    "|  5. |  Insulin                        | [1-1000]|\n",
    "|  6. |  BMI                            | [1-100] |\n",
    "|  7. |  DiabetesPedigreeFunction       | [1-10]  |\n",
    "|  8. |  Age                            | [1-100] |\n",
    "|  9. |  Outcome                        | [1 for positive], [2 for negative]|"
   ]
  },
  {
   "cell_type": "code",
   "execution_count": 6,
   "metadata": {},
   "outputs": [],
   "source": [
    "negative = dataset[dataset.Outcome==0]"
   ]
  },
  {
   "cell_type": "code",
   "execution_count": 7,
   "metadata": {},
   "outputs": [],
   "source": [
    "positive = dataset[dataset.Outcome==1]"
   ]
  },
  {
   "cell_type": "markdown",
   "metadata": {},
   "source": [
    "## HISTOGRAM\n",
    "Histogram adalah plot yang memungkinkan dapat menemukan dan menunjukkan distribusi frekuensi (bentuk) yang mendasari serangkaian data.\n",
    "\n",
    "hist() befungsi untuk menemukan dan menunjukan distribusi frekuensi berdasarkan serangkaian data, dan plt.show() berfungsi untuk menampilkannya dalam bentuk grafik."
   ]
  },
  {
   "cell_type": "code",
   "execution_count": 8,
   "metadata": {},
   "outputs": [
    {
     "data": {
      "image/png": "[encoded data removed]",
      "text/plain": [
       "<Figure size 1080x1080 with 9 Axes>"
      ]
     },
     "metadata": {},
     "output_type": "display_data"
    }
   ],
   "source": [
    "dataset.hist(figsize=(15,15))\n",
    "plt.show()"
   ]
  },
  {
   "cell_type": "markdown",
   "metadata": {},
   "source": [
    "## BOX PLOT\n",
    "Penyajian grafis lainnya yang bisa merangkum informasi lebih detail mengenai distribusi nilai-nilai data pengamatan adalah Box and Whisker Plots atau lebih sering disebut dengan BoxPlot. Seperti namanya, Box and Whisker, bentuknya terdiri dari Box (kotak) dan Whisker. Boxplot merupakan ringkasan distribusi sampel yang disajikan secara grafis yang bisa menggambarkan bentuk distribusi data (skewness), ukuran tendensi sentral dan ukuran penyebaran (keragaman) data pengamatan. "
   ]
  },
  {
   "cell_type": "code",
   "execution_count": 9,
   "metadata": {},
   "outputs": [
    {
     "data": {
      "text/plain": [
       "Pregnancies                    AxesSubplot(0.125,0.821923;0.352273x0.0580769)\n",
       "Glucose                     AxesSubplot(0.547727,0.821923;0.352273x0.0580769)\n",
       "BloodPressure                  AxesSubplot(0.125,0.752231;0.352273x0.0580769)\n",
       "SkinThickness               AxesSubplot(0.547727,0.752231;0.352273x0.0580769)\n",
       "Insulin                        AxesSubplot(0.125,0.682538;0.352273x0.0580769)\n",
       "BMI                         AxesSubplot(0.547727,0.682538;0.352273x0.0580769)\n",
       "DiabetesPedigreeFunction       AxesSubplot(0.125,0.612846;0.352273x0.0580769)\n",
       "Age                         AxesSubplot(0.547727,0.612846;0.352273x0.0580769)\n",
       "Outcome                        AxesSubplot(0.125,0.543154;0.352273x0.0580769)\n",
       "dtype: object"
      ]
     },
     "execution_count": 9,
     "metadata": {},
     "output_type": "execute_result"
    },
    {
     "data": {
      "image/png": "[encoded data removed]",
      "text/plain": [
       "<Figure size 1440x3960 with 22 Axes>"
      ]
     },
     "metadata": {},
     "output_type": "display_data"
    }
   ],
   "source": [
    "dataset.plot(kind='box', subplots=True, layout=(11,2), sharex=False, sharey=False, figsize=(20,55))"
   ]
  },
  {
   "cell_type": "markdown",
   "metadata": {},
   "source": [
    "## FEATURE NORMALIZATION\n",
    "Normalisasi adalah konsep penting lainnya yang diperlukan untuk mengubah semua fitur ke skala yang sama. Hal ini memungkinkan konvergensi yang lebih cepat pada pembelajaran, dan pengaruh yang lebih seragam untuk semua bobot. Dalam hal ini digunakan MinMaxScaler yang mengubah fitur dengan penskalaan setiap fitur ke rentang yang diberikan (menjadi antara 0 dan 1)."
   ]
  },
  {
   "cell_type": "code",
   "execution_count": 10,
   "metadata": {},
   "outputs": [],
   "source": [
    "from sklearn.preprocessing import MinMaxScaler\n",
    "scaler= MinMaxScaler()"
   ]
  },
  {
   "cell_type": "code",
   "execution_count": 11,
   "metadata": {},
   "outputs": [],
   "source": [
    "feature_scaled=scaler.fit_transform(feature)"
   ]
  },
  {
   "cell_type": "code",
   "execution_count": 12,
   "metadata": {},
   "outputs": [
    {
     "data": {
      "text/plain": [
       "(768, 8)"
      ]
     },
     "execution_count": 12,
     "metadata": {},
     "output_type": "execute_result"
    }
   ],
   "source": [
    "feature_scaled.shape"
   ]
  },
  {
   "cell_type": "code",
   "execution_count": 13,
   "metadata": {},
   "outputs": [
    {
     "name": "stdout",
     "output_type": "stream",
     "text": [
      "[1 0 1 0 1 0 1 0 1 1 0 1 0 1 1 1 1 1 0 1 0 0 1 1 1 1 1 0 0 0 0 1 0 0 0 0 0\n",
      " 1 1 1 0 0 0 1 0 1 0 0 1 0 0 0 0 1 0 0 1 0 0 0 0 1 0 0 1 0 1 0 0 0 1 0 1 0\n",
      " 0 0 0 0 1 0 0 0 0 0 1 0 0 0 1 0 0 0 0 1 0 0 0 0 0 1 1 0 0 0 0 0 0 0 0 1 1\n",
      " 1 0 0 1 1 1 0 0 0 1 0 0 0 1 1 0 0 1 1 1 1 1 0 0 0 0 0 0 0 0 0 0 1 0 0 0 0\n",
      " 0 0 0 0 1 0 1 1 0 0 0 1 0 0 0 0 1 1 0 0 0 0 1 1 0 0 0 1 0 1 0 1 0 0 0 0 0\n",
      " 1 1 1 1 1 0 0 1 1 0 1 0 1 1 1 0 0 0 0 0 0 1 1 0 1 0 0 0 1 1 1 1 0 1 1 1 1\n",
      " 0 0 0 0 0 1 0 0 1 1 0 0 0 1 1 1 1 0 0 0 1 1 0 1 0 0 0 0 0 0 0 0 1 1 0 0 0\n",
      " 1 0 1 0 0 1 0 1 0 0 1 1 0 0 0 0 0 1 0 0 0 1 0 0 1 1 0 0 1 0 0 0 1 1 1 0 0\n",
      " 1 0 1 0 1 1 0 1 0 0 1 0 1 1 0 0 1 0 1 0 0 1 0 1 0 1 1 1 0 0 1 0 1 0 0 0 1\n",
      " 0 0 0 0 1 1 1 0 0 0 0 0 0 0 0 0 1 0 0 0 0 0 1 1 1 0 1 1 0 0 1 0 0 1 0 0 1\n",
      " 1 0 0 0 0 1 0 0 1 0 0 0 0 0 0 0 1 1 1 0 0 1 0 0 1 0 0 1 0 1 1 0 1 0 1 0 1\n",
      " 0 1 1 0 0 0 0 1 1 0 1 0 1 0 0 0 0 1 1 0 1 0 1 0 0 0 0 0 1 0 0 0 0 1 0 0 1\n",
      " 1 1 0 0 1 0 0 1 0 0 0 1 0 0 1 0 0 0 0 0 0 0 0 0 1 0 0 0 0 0 0 0 1 0 0 0 1\n",
      " 0 0 0 1 1 0 0 0 0 0 0 0 1 0 0 0 0 1 0 0 0 1 0 0 0 1 0 0 0 1 0 0 0 0 1 1 0\n",
      " 0 0 0 0 0 1 0 0 0 0 0 0 0 0 0 0 0 1 0 0 0 1 1 1 1 0 0 1 1 0 0 0 0 0 0 0 0\n",
      " 0 0 0 0 0 1 1 0 0 0 0 0 0 0 1 0 0 0 0 0 0 0 1 0 1 1 0 0 0 1 0 1 0 1 0 1 0\n",
      " 1 0 0 1 0 0 1 0 0 0 0 1 1 0 1 0 0 0 0 1 1 0 1 0 0 0 1 1 0 0 0 0 0 0 0 0 0\n",
      " 0 1 0 0 0 0 1 0 0 1 0 0 0 1 0 0 0 1 1 1 0 0 0 0 0 0 1 0 0 0 1 0 1 1 1 1 0\n",
      " 1 1 0 0 0 0 0 0 0 1 1 0 1 0 0 1 0 1 0 0 0 0 0 1 0 1 0 1 0 1 1 0 0 0 0 1 1\n",
      " 0 0 0 1 0 1 1 0 0 1 0 0 1 1 0 0 1 0 0 1 0 0 0 0 0 0 0 1 1 1 0 0 0 0 0 0 1\n",
      " 1 0 0 1 0 0 1 0 1 1 1 0 0 1 1 1 0 1 0 1 0 1 0 0 0 0 1 0]\n"
     ]
    }
   ],
   "source": [
    "print(label)"
   ]
  },
  {
   "cell_type": "code",
   "execution_count": 14,
   "metadata": {},
   "outputs": [
    {
     "data": {
      "text/plain": [
       "(768, 2)"
      ]
     },
     "execution_count": 14,
     "metadata": {},
     "output_type": "execute_result"
    }
   ],
   "source": [
    "#melakukan scaling dataset\n",
    "from keras.utils.np_utils import to_categorical\n",
    "scaler = MinMaxScaler() #mengubah fitur dengan penskalaan setiap fitur ke rentang yang diberikan\n",
    "\n",
    "label_categorical=to_categorical(label)\n",
    "label_categorical.shape"
   ]
  },
  {
   "cell_type": "code",
   "execution_count": 15,
   "metadata": {},
   "outputs": [],
   "source": [
    "f_train, f_test, l_train, l_test = train_test_split(feature_scaled, label_categorical, train_size=0.8, test_size=0.2, random_state=4)"
   ]
  },
  {
   "cell_type": "code",
   "execution_count": 16,
   "metadata": {},
   "outputs": [],
   "source": [
    "l_real=l_test"
   ]
  },
  {
   "cell_type": "code",
   "execution_count": 17,
   "metadata": {},
   "outputs": [
    {
     "name": "stdout",
     "output_type": "stream",
     "text": [
      "Train data shape:  (614, 8) (614, 2)\n",
      "Test data shape:  (154, 8) (154, 2)\n"
     ]
    }
   ],
   "source": [
    "print('Train data shape: ', f_train.shape, l_train.shape)\n",
    "print('Test data shape: ', f_test.shape, l_test.shape)"
   ]
  },
  {
   "cell_type": "code",
   "execution_count": 18,
   "metadata": {},
   "outputs": [
    {
     "name": "stdout",
     "output_type": "stream",
     "text": [
      "Total number of outputs:  [0. 1.]\n",
      "Output Classes :  2\n"
     ]
    }
   ],
   "source": [
    "classes = np.unique(l_train)\n",
    "nClasses = len(classes)\n",
    "print('Total number of outputs: ', classes)\n",
    "print('Output Classes : ', nClasses)"
   ]
  },
  {
   "cell_type": "markdown",
   "metadata": {},
   "source": [
    "## SEQUENTIAL MODEL\n",
    "Model Sekuensial adalah tumpukan lapisan linear. Dalam menentukan bentuk masukan, model perlu tahu bentuk masukan apa yang diharapkan. Lapisan pertama dalam model Sequential (dan hanya yang pertama, karena lapisan berikutnya dapat melakukan inferensi bentuk otomatis) perlu menerima informasi tentang bentuk inputnya. Kemudian untuk menambahkan lapisan cukup dengan menambahkan perintah add."
   ]
  },
  {
   "cell_type": "code",
   "execution_count": 19,
   "metadata": {},
   "outputs": [],
   "source": [
    "model = Sequential()"
   ]
  },
  {
   "cell_type": "code",
   "execution_count": 20,
   "metadata": {},
   "outputs": [],
   "source": [
    "model.add(Dense(units=8, input_dim=8, activation='relu'))"
   ]
  },
  {
   "cell_type": "code",
   "execution_count": 21,
   "metadata": {},
   "outputs": [],
   "source": [
    "model.add(Dense(units=17, activation='relu'))"
   ]
  },
  {
   "cell_type": "code",
   "execution_count": 22,
   "metadata": {},
   "outputs": [],
   "source": [
    "model.add(Dense(units=16, activation='relu'))"
   ]
  },
  {
   "cell_type": "code",
   "execution_count": 23,
   "metadata": {},
   "outputs": [],
   "source": [
    "model.add(Dense(units=2, activation='sigmoid'))"
   ]
  },
  {
   "cell_type": "code",
   "execution_count": 24,
   "metadata": {},
   "outputs": [
    {
     "name": "stdout",
     "output_type": "stream",
     "text": [
      "Model: \"sequential_1\"\n",
      "_________________________________________________________________\n",
      "Layer (type)                 Output Shape              Param #   \n",
      "=================================================================\n",
      "dense_1 (Dense)              (None, 8)                 72        \n",
      "_________________________________________________________________\n",
      "dense_2 (Dense)              (None, 17)                153       \n",
      "_________________________________________________________________\n",
      "dense_3 (Dense)              (None, 16)                288       \n",
      "_________________________________________________________________\n",
      "dense_4 (Dense)              (None, 2)                 34        \n",
      "=================================================================\n",
      "Total params: 547\n",
      "Trainable params: 547\n",
      "Non-trainable params: 0\n",
      "_________________________________________________________________\n"
     ]
    }
   ],
   "source": [
    "model.summary()"
   ]
  },
  {
   "cell_type": "markdown",
   "metadata": {},
   "source": [
    "compile() berfungsi mengembalikan objek kode Python dari sumber (string normal, string byte, atau objek AST). Dalam hal ini menggunakan optimizer adam dan categorical loss yaitu binary crossentropy."
   ]
  },
  {
   "cell_type": "code",
   "execution_count": 25,
   "metadata": {},
   "outputs": [],
   "source": [
    "from keras.optimizers import Adam\n",
    "model.compile(optimizer=Adam(lr=0.0001), loss='binary_crossentropy', metrics=['acc'])"
   ]
  },
  {
   "cell_type": "code",
   "execution_count": 26,
   "metadata": {},
   "outputs": [
    {
     "name": "stdout",
     "output_type": "stream",
     "text": [
      "Train on 614 samples, validate on 154 samples\n",
      "Epoch 1/100\n",
      "614/614 [==============================] - 0s 482us/step - loss: 0.6914 - acc: 0.5098 - val_loss: 0.6909 - val_acc: 0.5260\n",
      "Epoch 2/100\n",
      "614/614 [==============================] - 0s 125us/step - loss: 0.6901 - acc: 0.6099 - val_loss: 0.6896 - val_acc: 0.6818\n",
      "Epoch 3/100\n",
      "614/614 [==============================] - 0s 150us/step - loss: 0.6886 - acc: 0.6669 - val_loss: 0.6884 - val_acc: 0.6558\n",
      "Epoch 4/100\n",
      "614/614 [==============================] - 0s 99us/step - loss: 0.6872 - acc: 0.6539 - val_loss: 0.6871 - val_acc: 0.6429\n",
      "Epoch 5/100\n",
      "614/614 [==============================] - 0s 81us/step - loss: 0.6856 - acc: 0.6547 - val_loss: 0.6859 - val_acc: 0.6429\n",
      "Epoch 6/100\n",
      "614/614 [==============================] - 0s 83us/step - loss: 0.6840 - acc: 0.6531 - val_loss: 0.6844 - val_acc: 0.6429\n",
      "Epoch 7/100\n",
      "614/614 [==============================] - 0s 85us/step - loss: 0.6822 - acc: 0.6523 - val_loss: 0.6831 - val_acc: 0.6429\n",
      "Epoch 8/100\n",
      "614/614 [==============================] - 0s 83us/step - loss: 0.6806 - acc: 0.6523 - val_loss: 0.6816 - val_acc: 0.6429\n",
      "Epoch 9/100\n",
      "614/614 [==============================] - 0s 90us/step - loss: 0.6788 - acc: 0.6523 - val_loss: 0.6800 - val_acc: 0.6429\n",
      "Epoch 10/100\n",
      "614/614 [==============================] - 0s 83us/step - loss: 0.6770 - acc: 0.6523 - val_loss: 0.6786 - val_acc: 0.6429\n",
      "Epoch 11/100\n",
      "614/614 [==============================] - 0s 83us/step - loss: 0.6754 - acc: 0.6523 - val_loss: 0.6770 - val_acc: 0.6429\n",
      "Epoch 12/100\n",
      "614/614 [==============================] - 0s 85us/step - loss: 0.6736 - acc: 0.6523 - val_loss: 0.6754 - val_acc: 0.6429\n",
      "Epoch 13/100\n",
      "614/614 [==============================] - 0s 91us/step - loss: 0.6719 - acc: 0.6523 - val_loss: 0.6738 - val_acc: 0.6429\n",
      "Epoch 14/100\n",
      "614/614 [==============================] - 0s 81us/step - loss: 0.6701 - acc: 0.6531 - val_loss: 0.6724 - val_acc: 0.6429\n",
      "Epoch 15/100\n",
      "614/614 [==============================] - 0s 86us/step - loss: 0.6685 - acc: 0.6531 - val_loss: 0.6708 - val_acc: 0.6429\n",
      "Epoch 16/100\n",
      "614/614 [==============================] - 0s 85us/step - loss: 0.6668 - acc: 0.6531 - val_loss: 0.6693 - val_acc: 0.6429\n",
      "Epoch 17/100\n",
      "614/614 [==============================] - 0s 91us/step - loss: 0.6653 - acc: 0.6531 - val_loss: 0.6679 - val_acc: 0.6429\n",
      "Epoch 18/100\n",
      "614/614 [==============================] - 0s 86us/step - loss: 0.6637 - acc: 0.6531 - val_loss: 0.6664 - val_acc: 0.6429\n",
      "Epoch 19/100\n",
      "614/614 [==============================] - 0s 86us/step - loss: 0.6623 - acc: 0.6531 - val_loss: 0.6650 - val_acc: 0.6429\n",
      "Epoch 20/100\n",
      "614/614 [==============================] - 0s 135us/step - loss: 0.6609 - acc: 0.6531 - val_loss: 0.6639 - val_acc: 0.6429\n",
      "Epoch 21/100\n",
      "614/614 [==============================] - 0s 124us/step - loss: 0.6596 - acc: 0.6531 - val_loss: 0.6628 - val_acc: 0.6429\n",
      "Epoch 22/100\n",
      "614/614 [==============================] - 0s 98us/step - loss: 0.6583 - acc: 0.6531 - val_loss: 0.6617 - val_acc: 0.6429\n",
      "Epoch 23/100\n",
      "614/614 [==============================] - 0s 90us/step - loss: 0.6571 - acc: 0.6531 - val_loss: 0.6606 - val_acc: 0.6429\n",
      "Epoch 24/100\n",
      "614/614 [==============================] - 0s 114us/step - loss: 0.6558 - acc: 0.6531 - val_loss: 0.6597 - val_acc: 0.6429\n",
      "Epoch 25/100\n",
      "614/614 [==============================] - 0s 130us/step - loss: 0.6548 - acc: 0.6531 - val_loss: 0.6586 - val_acc: 0.6429\n",
      "Epoch 26/100\n",
      "614/614 [==============================] - 0s 210us/step - loss: 0.6536 - acc: 0.6531 - val_loss: 0.6578 - val_acc: 0.6429\n",
      "Epoch 27/100\n",
      "614/614 [==============================] - 0s 155us/step - loss: 0.6526 - acc: 0.6531 - val_loss: 0.6570 - val_acc: 0.6429\n",
      "Epoch 28/100\n",
      "614/614 [==============================] - 0s 98us/step - loss: 0.6516 - acc: 0.6531 - val_loss: 0.6563 - val_acc: 0.6429\n",
      "Epoch 29/100\n",
      "614/614 [==============================] - 0s 153us/step - loss: 0.6507 - acc: 0.6531 - val_loss: 0.6554 - val_acc: 0.6429\n",
      "Epoch 30/100\n",
      "614/614 [==============================] - 0s 166us/step - loss: 0.6497 - acc: 0.6531 - val_loss: 0.6547 - val_acc: 0.6429\n",
      "Epoch 31/100\n",
      "614/614 [==============================] - 0s 146us/step - loss: 0.6487 - acc: 0.6531 - val_loss: 0.6540 - val_acc: 0.6429\n",
      "Epoch 32/100\n",
      "614/614 [==============================] - 0s 132us/step - loss: 0.6479 - acc: 0.6531 - val_loss: 0.6532 - val_acc: 0.6429\n",
      "Epoch 33/100\n",
      "614/614 [==============================] - 0s 179us/step - loss: 0.6470 - acc: 0.6531 - val_loss: 0.6525 - val_acc: 0.6429\n",
      "Epoch 34/100\n",
      "614/614 [==============================] - 0s 98us/step - loss: 0.6462 - acc: 0.6531 - val_loss: 0.6518 - val_acc: 0.6429\n",
      "Epoch 35/100\n",
      "614/614 [==============================] - 0s 138us/step - loss: 0.6453 - acc: 0.6531 - val_loss: 0.6511 - val_acc: 0.6429\n",
      "Epoch 36/100\n",
      "614/614 [==============================] - 0s 137us/step - loss: 0.6446 - acc: 0.6531 - val_loss: 0.6503 - val_acc: 0.6429\n",
      "Epoch 37/100\n",
      "614/614 [==============================] - 0s 130us/step - loss: 0.6436 - acc: 0.6531 - val_loss: 0.6495 - val_acc: 0.6429\n",
      "Epoch 38/100\n",
      "614/614 [==============================] - 0s 130us/step - loss: 0.6427 - acc: 0.6531 - val_loss: 0.6486 - val_acc: 0.6429\n",
      "Epoch 39/100\n",
      "614/614 [==============================] - 0s 116us/step - loss: 0.6417 - acc: 0.6531 - val_loss: 0.6477 - val_acc: 0.6429\n",
      "Epoch 40/100\n",
      "614/614 [==============================] - 0s 98us/step - loss: 0.6407 - acc: 0.6531 - val_loss: 0.6468 - val_acc: 0.6429\n",
      "Epoch 41/100\n",
      "614/614 [==============================] - 0s 142us/step - loss: 0.6398 - acc: 0.6531 - val_loss: 0.6459 - val_acc: 0.6429\n",
      "Epoch 42/100\n",
      "614/614 [==============================] - 0s 135us/step - loss: 0.6388 - acc: 0.6531 - val_loss: 0.6450 - val_acc: 0.6429\n",
      "Epoch 43/100\n",
      "614/614 [==============================] - 0s 93us/step - loss: 0.6379 - acc: 0.6531 - val_loss: 0.6442 - val_acc: 0.6429\n",
      "Epoch 44/100\n",
      "614/614 [==============================] - 0s 98us/step - loss: 0.6370 - acc: 0.6531 - val_loss: 0.6432 - val_acc: 0.6429\n",
      "Epoch 45/100\n",
      "614/614 [==============================] - 0s 130us/step - loss: 0.6361 - acc: 0.6531 - val_loss: 0.6423 - val_acc: 0.6429\n",
      "Epoch 46/100\n",
      "614/614 [==============================] - 0s 112us/step - loss: 0.6351 - acc: 0.6531 - val_loss: 0.6414 - val_acc: 0.6429\n",
      "Epoch 47/100\n",
      "614/614 [==============================] - 0s 91us/step - loss: 0.6342 - acc: 0.6531 - val_loss: 0.6405 - val_acc: 0.6429\n",
      "Epoch 48/100\n",
      "614/614 [==============================] - 0s 88us/step - loss: 0.6333 - acc: 0.6531 - val_loss: 0.6395 - val_acc: 0.6429\n",
      "Epoch 49/100\n",
      "614/614 [==============================] - 0s 94us/step - loss: 0.6323 - acc: 0.6531 - val_loss: 0.6386 - val_acc: 0.6429\n",
      "Epoch 50/100\n",
      "614/614 [==============================] - 0s 114us/step - loss: 0.6315 - acc: 0.6531 - val_loss: 0.6377 - val_acc: 0.6429\n",
      "Epoch 51/100\n",
      "614/614 [==============================] - 0s 116us/step - loss: 0.6304 - acc: 0.6531 - val_loss: 0.6366 - val_acc: 0.6429\n",
      "Epoch 52/100\n",
      "614/614 [==============================] - 0s 99us/step - loss: 0.6295 - acc: 0.6531 - val_loss: 0.6356 - val_acc: 0.6429\n",
      "Epoch 53/100\n",
      "614/614 [==============================] - 0s 103us/step - loss: 0.6285 - acc: 0.6531 - val_loss: 0.6346 - val_acc: 0.6429\n",
      "Epoch 54/100\n",
      "614/614 [==============================] - 0s 119us/step - loss: 0.6275 - acc: 0.6531 - val_loss: 0.6336 - val_acc: 0.6429\n",
      "Epoch 55/100\n",
      "614/614 [==============================] - 0s 109us/step - loss: 0.6266 - acc: 0.6531 - val_loss: 0.6326 - val_acc: 0.6429\n",
      "Epoch 56/100\n",
      "614/614 [==============================] - 0s 81us/step - loss: 0.6256 - acc: 0.6531 - val_loss: 0.6315 - val_acc: 0.6429\n",
      "Epoch 57/100\n",
      "614/614 [==============================] - 0s 99us/step - loss: 0.6246 - acc: 0.6531 - val_loss: 0.6305 - val_acc: 0.6429\n",
      "Epoch 58/100\n",
      "614/614 [==============================] - 0s 96us/step - loss: 0.6237 - acc: 0.6531 - val_loss: 0.6295 - val_acc: 0.6429\n",
      "Epoch 59/100\n",
      "614/614 [==============================] - 0s 96us/step - loss: 0.6226 - acc: 0.6531 - val_loss: 0.6285 - val_acc: 0.6429\n",
      "Epoch 60/100\n",
      "614/614 [==============================] - 0s 85us/step - loss: 0.6216 - acc: 0.6531 - val_loss: 0.6273 - val_acc: 0.6429\n",
      "Epoch 61/100\n"
     ]
    },
    {
     "name": "stdout",
     "output_type": "stream",
     "text": [
      "614/614 [==============================] - 0s 104us/step - loss: 0.6207 - acc: 0.6531 - val_loss: 0.6261 - val_acc: 0.6429\n",
      "Epoch 62/100\n",
      "614/614 [==============================] - 0s 109us/step - loss: 0.6198 - acc: 0.6531 - val_loss: 0.6253 - val_acc: 0.6429\n",
      "Epoch 63/100\n",
      "614/614 [==============================] - 0s 93us/step - loss: 0.6185 - acc: 0.6531 - val_loss: 0.6240 - val_acc: 0.6429\n",
      "Epoch 64/100\n",
      "614/614 [==============================] - 0s 75us/step - loss: 0.6174 - acc: 0.6531 - val_loss: 0.6228 - val_acc: 0.6429\n",
      "Epoch 65/100\n",
      "614/614 [==============================] - 0s 91us/step - loss: 0.6163 - acc: 0.6531 - val_loss: 0.6216 - val_acc: 0.6429\n",
      "Epoch 66/100\n",
      "614/614 [==============================] - 0s 98us/step - loss: 0.6153 - acc: 0.6531 - val_loss: 0.6203 - val_acc: 0.6429\n",
      "Epoch 67/100\n",
      "614/614 [==============================] - 0s 112us/step - loss: 0.6142 - acc: 0.6539 - val_loss: 0.6191 - val_acc: 0.6429\n",
      "Epoch 68/100\n",
      "614/614 [==============================] - 0s 85us/step - loss: 0.6131 - acc: 0.6539 - val_loss: 0.6180 - val_acc: 0.6429\n",
      "Epoch 69/100\n",
      "614/614 [==============================] - 0s 109us/step - loss: 0.6121 - acc: 0.6572 - val_loss: 0.6166 - val_acc: 0.6429\n",
      "Epoch 70/100\n",
      "614/614 [==============================] - 0s 116us/step - loss: 0.6109 - acc: 0.6564 - val_loss: 0.6154 - val_acc: 0.6429\n",
      "Epoch 71/100\n",
      "614/614 [==============================] - 0s 99us/step - loss: 0.6098 - acc: 0.6588 - val_loss: 0.6142 - val_acc: 0.6429\n",
      "Epoch 72/100\n",
      "614/614 [==============================] - 0s 85us/step - loss: 0.6089 - acc: 0.6621 - val_loss: 0.6129 - val_acc: 0.6461\n",
      "Epoch 73/100\n",
      "614/614 [==============================] - 0s 114us/step - loss: 0.6076 - acc: 0.6637 - val_loss: 0.6117 - val_acc: 0.6461\n",
      "Epoch 74/100\n",
      "614/614 [==============================] - 0s 111us/step - loss: 0.6066 - acc: 0.6661 - val_loss: 0.6106 - val_acc: 0.6494\n",
      "Epoch 75/100\n",
      "614/614 [==============================] - 0s 94us/step - loss: 0.6055 - acc: 0.6702 - val_loss: 0.6092 - val_acc: 0.6494\n",
      "Epoch 76/100\n",
      "614/614 [==============================] - 0s 101us/step - loss: 0.6044 - acc: 0.6726 - val_loss: 0.6079 - val_acc: 0.6494\n",
      "Epoch 77/100\n",
      "614/614 [==============================] - 0s 137us/step - loss: 0.6033 - acc: 0.6735 - val_loss: 0.6067 - val_acc: 0.6591\n",
      "Epoch 78/100\n",
      "614/614 [==============================] - 0s 135us/step - loss: 0.6023 - acc: 0.6743 - val_loss: 0.6055 - val_acc: 0.6591\n",
      "Epoch 79/100\n",
      "614/614 [==============================] - 0s 96us/step - loss: 0.6011 - acc: 0.6783 - val_loss: 0.6042 - val_acc: 0.6558\n",
      "Epoch 80/100\n",
      "614/614 [==============================] - 0s 133us/step - loss: 0.6000 - acc: 0.6865 - val_loss: 0.6028 - val_acc: 0.6591\n",
      "Epoch 81/100\n",
      "614/614 [==============================] - 0s 135us/step - loss: 0.5988 - acc: 0.6849 - val_loss: 0.6015 - val_acc: 0.6591\n",
      "Epoch 82/100\n",
      "614/614 [==============================] - 0s 120us/step - loss: 0.5978 - acc: 0.6906 - val_loss: 0.6001 - val_acc: 0.6591\n",
      "Epoch 83/100\n",
      "614/614 [==============================] - 0s 99us/step - loss: 0.5966 - acc: 0.6906 - val_loss: 0.5991 - val_acc: 0.6591\n",
      "Epoch 84/100\n",
      "614/614 [==============================] - 0s 114us/step - loss: 0.5955 - acc: 0.6938 - val_loss: 0.5976 - val_acc: 0.6591\n",
      "Epoch 85/100\n",
      "614/614 [==============================] - 0s 119us/step - loss: 0.5946 - acc: 0.6922 - val_loss: 0.5965 - val_acc: 0.6623\n",
      "Epoch 86/100\n",
      "614/614 [==============================] - 0s 91us/step - loss: 0.5931 - acc: 0.6922 - val_loss: 0.5949 - val_acc: 0.6656\n",
      "Epoch 87/100\n",
      "614/614 [==============================] - 0s 122us/step - loss: 0.5922 - acc: 0.6963 - val_loss: 0.5934 - val_acc: 0.6656\n",
      "Epoch 88/100\n",
      "614/614 [==============================] - 0s 148us/step - loss: 0.5913 - acc: 0.6971 - val_loss: 0.5922 - val_acc: 0.6656\n",
      "Epoch 89/100\n",
      "614/614 [==============================] - 0s 85us/step - loss: 0.5899 - acc: 0.7068 - val_loss: 0.5910 - val_acc: 0.6591\n",
      "Epoch 90/100\n",
      "614/614 [==============================] - 0s 117us/step - loss: 0.5889 - acc: 0.7036 - val_loss: 0.5896 - val_acc: 0.6591\n",
      "Epoch 91/100\n",
      "614/614 [==============================] - 0s 88us/step - loss: 0.5876 - acc: 0.7085 - val_loss: 0.5884 - val_acc: 0.6656\n",
      "Epoch 92/100\n",
      "614/614 [==============================] - 0s 78us/step - loss: 0.5868 - acc: 0.7134 - val_loss: 0.5870 - val_acc: 0.6688\n",
      "Epoch 93/100\n",
      "614/614 [==============================] - 0s 81us/step - loss: 0.5854 - acc: 0.7109 - val_loss: 0.5856 - val_acc: 0.6688\n",
      "Epoch 94/100\n",
      "614/614 [==============================] - 0s 83us/step - loss: 0.5843 - acc: 0.7093 - val_loss: 0.5845 - val_acc: 0.6688\n",
      "Epoch 95/100\n",
      "614/614 [==============================] - 0s 103us/step - loss: 0.5832 - acc: 0.7134 - val_loss: 0.5833 - val_acc: 0.6688\n",
      "Epoch 96/100\n",
      "614/614 [==============================] - 0s 120us/step - loss: 0.5822 - acc: 0.7150 - val_loss: 0.5823 - val_acc: 0.6721\n",
      "Epoch 97/100\n",
      "614/614 [==============================] - 0s 117us/step - loss: 0.5812 - acc: 0.7142 - val_loss: 0.5810 - val_acc: 0.6753\n",
      "Epoch 98/100\n",
      "614/614 [==============================] - 0s 94us/step - loss: 0.5800 - acc: 0.7142 - val_loss: 0.5799 - val_acc: 0.6753\n",
      "Epoch 99/100\n",
      "614/614 [==============================] - 0s 122us/step - loss: 0.5791 - acc: 0.7142 - val_loss: 0.5786 - val_acc: 0.6753\n",
      "Epoch 100/100\n",
      "614/614 [==============================] - 0s 116us/step - loss: 0.5782 - acc: 0.7142 - val_loss: 0.5772 - val_acc: 0.6851\n"
     ]
    }
   ],
   "source": [
    "history=model.fit(feature_scaled, label_categorical,epochs=100, batch_size=25, validation_split=0.2)"
   ]
  },
  {
   "cell_type": "markdown",
   "metadata": {},
   "source": [
    "Berikut ini adalah tampilan prediksi data."
   ]
  },
  {
   "cell_type": "code",
   "execution_count": 27,
   "metadata": {},
   "outputs": [
    {
     "data": {
      "text/plain": [
       "array([[0.53730595, 0.4622049 ],\n",
       "       [0.7339641 , 0.22931278],\n",
       "       [0.49636012, 0.5237528 ],\n",
       "       ...,\n",
       "       [0.6208495 , 0.36571258],\n",
       "       [0.56472623, 0.4359883 ],\n",
       "       [0.75242126, 0.20845336]], dtype=float32)"
      ]
     },
     "execution_count": 27,
     "metadata": {},
     "output_type": "execute_result"
    }
   ],
   "source": [
    "predict = model.predict(feature_scaled)\n",
    "predict"
   ]
  },
  {
   "cell_type": "markdown",
   "metadata": {},
   "source": [
    "## ACCURACY \n",
    "Berikut ini akan ditampilkan nilai akurasi dan dalam hal ini akurasinya mencapai 65.10%."
   ]
  },
  {
   "cell_type": "code",
   "execution_count": 28,
   "metadata": {},
   "outputs": [
    {
     "name": "stdout",
     "output_type": "stream",
     "text": [
      "768/768 [==============================] - 0s 35us/step\n",
      "\n",
      "acc: 70.90%\n"
     ]
    }
   ],
   "source": [
    "scores = model.evaluate(feature_scaled, label_categorical)\n",
    "print(\"\\n%s: %.2f%%\" % (model.metrics_names[1], scores[1]*100))"
   ]
  },
  {
   "cell_type": "code",
   "execution_count": 29,
   "metadata": {},
   "outputs": [
    {
     "name": "stdout",
     "output_type": "stream",
     "text": [
      "0.708984375\n"
     ]
    }
   ],
   "source": [
    "print(scores[1]) #Mencetak nilai akurasi."
   ]
  },
  {
   "cell_type": "markdown",
   "metadata": {},
   "source": [
    "## CONFUSION MATRIX\n",
    "Confusion matrix merupakan salah satu metode yang dapat digunakan untuk mengukur kinerja suatu metode klasifikasi. Pada dasarnya confusion matrix mengandung informasi yang membandingkan hasil klasifikasi yang dilakukan oleh sistem dengan hasil klasifikasi yang seharusnya "
   ]
  },
  {
   "cell_type": "code",
   "execution_count": 30,
   "metadata": {},
   "outputs": [],
   "source": [
    "from sklearn.metrics import confusion_matrix\n",
    "ConfusionMatrix = confusion_matrix(label_categorical.argmax(axis=1), predict.argmax(axis=1))"
   ]
  },
  {
   "cell_type": "code",
   "execution_count": 31,
   "metadata": {},
   "outputs": [
    {
     "data": {
      "text/plain": [
       "array([[469,  31],\n",
       "       [190,  78]], dtype=int64)"
      ]
     },
     "execution_count": 31,
     "metadata": {},
     "output_type": "execute_result"
    }
   ],
   "source": [
    "ConfusionMatrix"
   ]
  },
  {
   "cell_type": "code",
   "execution_count": 32,
   "metadata": {},
   "outputs": [
    {
     "name": "stdout",
     "output_type": "stream",
     "text": [
      "\n",
      "Accuracy: 96.71%\n"
     ]
    }
   ],
   "source": [
    "accuracy = ((448+228) / (448+12+11+228))\n",
    "print(\"\\n%s: %.2f%%\" % (\"Accuracy\", accuracy*100))"
   ]
  },
  {
   "cell_type": "code",
   "execution_count": 33,
   "metadata": {},
   "outputs": [
    {
     "name": "stdout",
     "output_type": "stream",
     "text": [
      "dict_keys(['val_loss', 'val_acc', 'loss', 'acc'])\n"
     ]
    }
   ],
   "source": [
    "print(history.history.keys())"
   ]
  },
  {
   "cell_type": "code",
   "execution_count": 34,
   "metadata": {},
   "outputs": [],
   "source": [
    "acc = history.history['acc']\n",
    "val_acc = history.history['val_acc']\n",
    "loss = history.history['loss']\n",
    "val_loss = history.history['val_loss']\n",
    "epochs = range(1, len(acc) + 1 )"
   ]
  },
  {
   "cell_type": "code",
   "execution_count": 35,
   "metadata": {},
   "outputs": [
    {
     "data": {
      "text/plain": [
       "<Figure size 432x288 with 0 Axes>"
      ]
     },
     "execution_count": 35,
     "metadata": {},
     "output_type": "execute_result"
    },
    {
     "data": {
      "image/png": "[encoded data removed]",
      "text/plain": [
       "<Figure size 432x288 with 1 Axes>"
      ]
     },
     "metadata": {},
     "output_type": "display_data"
    },
    {
     "data": {
      "text/plain": [
       "<Figure size 432x288 with 0 Axes>"
      ]
     },
     "metadata": {},
     "output_type": "display_data"
    }
   ],
   "source": [
    "plt.plot(epochs, acc, 'g' , color='green', label='Akurasi Training')\n",
    "plt.plot(epochs, val_acc, 'r', color='red', label='Akurasi Testing')\n",
    "plt.title('Training and Testing Accuracy')\n",
    "plt.legend()\n",
    "plt.figure()"
   ]
  },
  {
   "cell_type": "code",
   "execution_count": 36,
   "metadata": {},
   "outputs": [
    {
     "data": {
      "text/plain": [
       "<Figure size 432x288 with 0 Axes>"
      ]
     },
     "execution_count": 36,
     "metadata": {},
     "output_type": "execute_result"
    },
    {
     "data": {
      "image/png": "[encoded data removed]",
      "text/plain": [
       "<Figure size 432x288 with 1 Axes>"
      ]
     },
     "metadata": {},
     "output_type": "display_data"
    },
    {
     "data": {
      "text/plain": [
       "<Figure size 432x288 with 0 Axes>"
      ]
     },
     "metadata": {},
     "output_type": "display_data"
    }
   ],
   "source": [
    "plt.plot(epochs, loss, 'g' , color='green', label='Training Loss')\n",
    "plt.plot(epochs, val_loss, 'r', color='red', label='Testing Loss')\n",
    "plt.title('Training and Testing Loss')\n",
    "plt.legend()\n",
    "plt.figure()"
   ]
  },
  {
   "cell_type": "code",
   "execution_count": 37,
   "metadata": {},
   "outputs": [
    {
     "name": "stdout",
     "output_type": "stream",
     "text": [
      "\n",
      "Accuracy: 97.28%\n",
      "\n",
      "Presisi: 98.45%\n",
      "\n",
      "recall: 97.38%\n"
     ]
    }
   ],
   "source": [
    "accuracy = ((446+234) / (446+12+7+234))\n",
    "presisi = ((446) / (446+7))\n",
    "recall = ((446) / (12+446))\n",
    "print(\"\\n%s: %.2f%%\" % (\"Accuracy\", accuracy*100))\n",
    "print(\"\\n%s: %.2f%%\" % (\"Presisi\", presisi*100))\n",
    "print(\"\\n%s: %.2f%%\" % (\"recall\", recall*100))"
   ]
  },
  {
   "cell_type": "code",
   "execution_count": null,
   "metadata": {},
   "outputs": [],
   "source": []
  }
 ],
 "metadata": {
  "kernelspec": {
   "display_name": "Python 3",
   "language": "python",
   "name": "python3"
  },
  "language_info": {
   "codemirror_mode": {
    "name": "ipython",
    "version": 3
   },
   "file_extension": ".py",
   "mimetype": "text/x-python",
   "name": "python",
   "nbconvert_exporter": "python",
   "pygments_lexer": "ipython3",
   "version": "3.6.5"
  }
 },
 "nbformat": 4,
 "nbformat_minor": 2
}
