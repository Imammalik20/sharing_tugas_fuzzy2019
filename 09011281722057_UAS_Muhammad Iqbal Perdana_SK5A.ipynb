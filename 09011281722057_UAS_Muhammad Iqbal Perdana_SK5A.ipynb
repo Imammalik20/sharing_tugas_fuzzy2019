{
 "cells": [
  {
   "cell_type": "markdown",
   "metadata": {},
   "source": [
    "    Nama  : Muhammad Iqbal Perdana\n",
    "    NIM   : 09011281722057\n",
    "    Kelas : SK5A\n",
    "    MK    : Kecerdasan Buatan (A.I.)\n",
    "    Dosen : Prof. Dr. Ir. Siti Nurmaini, M.T."
   ]
  },
  {
   "cell_type": "markdown",
   "metadata": {},
   "source": [
    "# Asteroid Classification using Artificial Neural Network"
   ]
  },
  {
   "cell_type": "markdown",
   "metadata": {},
   "source": [
    "Bagian pertama, import library dan sub-librarynya Numpy, Pandas, Matplotlib, Seaborn, Keras, dan Scikit-Learn"
   ]
  },
  {
   "cell_type": "code",
   "execution_count": 1,
   "metadata": {},
   "outputs": [
    {
     "name": "stderr",
     "output_type": "stream",
     "text": [
      "Using TensorFlow backend.\n"
     ]
    }
   ],
   "source": [
    "import numpy as np\n",
    "np.random.seed(7)\n",
    "import pandas as pd\n",
    "import seaborn as sns\n",
    "import matplotlib.pyplot as plt\n",
    "from keras.models import Sequential\n",
    "from keras.layers import Dense\n",
    "from keras.optimizers import Adam\n",
    "from sklearn.utils import resample\n",
    "from sklearn.preprocessing import MinMaxScaler\n",
    "scaler = MinMaxScaler\n",
    "from sklearn.preprocessing import LabelEncoder\n",
    "from sklearn.metrics import confusion_matrix\n",
    "from sklearn.model_selection import train_test_split"
   ]
  },
  {
   "cell_type": "markdown",
   "metadata": {},
   "source": [
    "Import dataset yang akan diproses dalam preprocessing"
   ]
  },
  {
   "cell_type": "code",
   "execution_count": 2,
   "metadata": {},
   "outputs": [
    {
     "data": {
      "text/html": [
       "<div>\n",
       "<style scoped>\n",
       "    .dataframe tbody tr th:only-of-type {\n",
       "        vertical-align: middle;\n",
       "    }\n",
       "\n",
       "    .dataframe tbody tr th {\n",
       "        vertical-align: top;\n",
       "    }\n",
       "\n",
       "    .dataframe thead th {\n",
       "        text-align: right;\n",
       "    }\n",
       "</style>\n",
       "<table border=\"1\" class=\"dataframe\">\n",
       "  <thead>\n",
       "    <tr style=\"text-align: right;\">\n",
       "      <th></th>\n",
       "      <th>Neo Reference ID</th>\n",
       "      <th>Name</th>\n",
       "      <th>Absolute Magnitude</th>\n",
       "      <th>Est Dia in KM(min)</th>\n",
       "      <th>Est Dia in KM(max)</th>\n",
       "      <th>Est Dia in M(min)</th>\n",
       "      <th>Est Dia in M(max)</th>\n",
       "      <th>Est Dia in Miles(min)</th>\n",
       "      <th>Est Dia in Miles(max)</th>\n",
       "      <th>Est Dia in Feet(min)</th>\n",
       "      <th>...</th>\n",
       "      <th>Asc Node Longitude</th>\n",
       "      <th>Orbital Period</th>\n",
       "      <th>Perihelion Distance</th>\n",
       "      <th>Perihelion Arg</th>\n",
       "      <th>Aphelion Dist</th>\n",
       "      <th>Perihelion Time</th>\n",
       "      <th>Mean Anomaly</th>\n",
       "      <th>Mean Motion</th>\n",
       "      <th>Equinox</th>\n",
       "      <th>Hazardous</th>\n",
       "    </tr>\n",
       "  </thead>\n",
       "  <tbody>\n",
       "    <tr>\n",
       "      <th>0</th>\n",
       "      <td>3703080</td>\n",
       "      <td>3703080</td>\n",
       "      <td>21.6</td>\n",
       "      <td>0.127220</td>\n",
       "      <td>0.284472</td>\n",
       "      <td>127.219879</td>\n",
       "      <td>284.472297</td>\n",
       "      <td>0.079051</td>\n",
       "      <td>0.176763</td>\n",
       "      <td>417.388066</td>\n",
       "      <td>...</td>\n",
       "      <td>314.373913</td>\n",
       "      <td>609.599786</td>\n",
       "      <td>0.808259</td>\n",
       "      <td>57.257470</td>\n",
       "      <td>2.005764</td>\n",
       "      <td>2.458162e+06</td>\n",
       "      <td>264.837533</td>\n",
       "      <td>0.590551</td>\n",
       "      <td>J2000</td>\n",
       "      <td>True</td>\n",
       "    </tr>\n",
       "    <tr>\n",
       "      <th>1</th>\n",
       "      <td>3723955</td>\n",
       "      <td>3723955</td>\n",
       "      <td>21.3</td>\n",
       "      <td>0.146068</td>\n",
       "      <td>0.326618</td>\n",
       "      <td>146.067964</td>\n",
       "      <td>326.617897</td>\n",
       "      <td>0.090762</td>\n",
       "      <td>0.202951</td>\n",
       "      <td>479.225620</td>\n",
       "      <td>...</td>\n",
       "      <td>136.717242</td>\n",
       "      <td>425.869294</td>\n",
       "      <td>0.718200</td>\n",
       "      <td>313.091975</td>\n",
       "      <td>1.497352</td>\n",
       "      <td>2.457795e+06</td>\n",
       "      <td>173.741112</td>\n",
       "      <td>0.845330</td>\n",
       "      <td>J2000</td>\n",
       "      <td>False</td>\n",
       "    </tr>\n",
       "    <tr>\n",
       "      <th>2</th>\n",
       "      <td>2446862</td>\n",
       "      <td>2446862</td>\n",
       "      <td>20.3</td>\n",
       "      <td>0.231502</td>\n",
       "      <td>0.517654</td>\n",
       "      <td>231.502122</td>\n",
       "      <td>517.654482</td>\n",
       "      <td>0.143849</td>\n",
       "      <td>0.321655</td>\n",
       "      <td>759.521423</td>\n",
       "      <td>...</td>\n",
       "      <td>259.475979</td>\n",
       "      <td>643.580228</td>\n",
       "      <td>0.950791</td>\n",
       "      <td>248.415038</td>\n",
       "      <td>1.966857</td>\n",
       "      <td>2.458120e+06</td>\n",
       "      <td>292.893654</td>\n",
       "      <td>0.559371</td>\n",
       "      <td>J2000</td>\n",
       "      <td>True</td>\n",
       "    </tr>\n",
       "    <tr>\n",
       "      <th>3</th>\n",
       "      <td>3092506</td>\n",
       "      <td>3092506</td>\n",
       "      <td>27.4</td>\n",
       "      <td>0.008801</td>\n",
       "      <td>0.019681</td>\n",
       "      <td>8.801465</td>\n",
       "      <td>19.680675</td>\n",
       "      <td>0.005469</td>\n",
       "      <td>0.012229</td>\n",
       "      <td>28.876199</td>\n",
       "      <td>...</td>\n",
       "      <td>57.173266</td>\n",
       "      <td>514.082140</td>\n",
       "      <td>0.983902</td>\n",
       "      <td>18.707701</td>\n",
       "      <td>1.527904</td>\n",
       "      <td>2.457902e+06</td>\n",
       "      <td>68.741007</td>\n",
       "      <td>0.700277</td>\n",
       "      <td>J2000</td>\n",
       "      <td>False</td>\n",
       "    </tr>\n",
       "    <tr>\n",
       "      <th>4</th>\n",
       "      <td>3514799</td>\n",
       "      <td>3514799</td>\n",
       "      <td>21.6</td>\n",
       "      <td>0.127220</td>\n",
       "      <td>0.284472</td>\n",
       "      <td>127.219879</td>\n",
       "      <td>284.472297</td>\n",
       "      <td>0.079051</td>\n",
       "      <td>0.176763</td>\n",
       "      <td>417.388066</td>\n",
       "      <td>...</td>\n",
       "      <td>84.629307</td>\n",
       "      <td>495.597821</td>\n",
       "      <td>0.967687</td>\n",
       "      <td>158.263596</td>\n",
       "      <td>1.483543</td>\n",
       "      <td>2.457814e+06</td>\n",
       "      <td>135.142133</td>\n",
       "      <td>0.726395</td>\n",
       "      <td>J2000</td>\n",
       "      <td>True</td>\n",
       "    </tr>\n",
       "  </tbody>\n",
       "</table>\n",
       "<p>5 rows × 40 columns</p>\n",
       "</div>"
      ],
      "text/plain": [
       "   Neo Reference ID     Name  Absolute Magnitude  Est Dia in KM(min)  \\\n",
       "0           3703080  3703080                21.6            0.127220   \n",
       "1           3723955  3723955                21.3            0.146068   \n",
       "2           2446862  2446862                20.3            0.231502   \n",
       "3           3092506  3092506                27.4            0.008801   \n",
       "4           3514799  3514799                21.6            0.127220   \n",
       "\n",
       "   Est Dia in KM(max)  Est Dia in M(min)  Est Dia in M(max)  \\\n",
       "0            0.284472         127.219879         284.472297   \n",
       "1            0.326618         146.067964         326.617897   \n",
       "2            0.517654         231.502122         517.654482   \n",
       "3            0.019681           8.801465          19.680675   \n",
       "4            0.284472         127.219879         284.472297   \n",
       "\n",
       "   Est Dia in Miles(min)  Est Dia in Miles(max)  Est Dia in Feet(min)  ...  \\\n",
       "0               0.079051               0.176763            417.388066  ...   \n",
       "1               0.090762               0.202951            479.225620  ...   \n",
       "2               0.143849               0.321655            759.521423  ...   \n",
       "3               0.005469               0.012229             28.876199  ...   \n",
       "4               0.079051               0.176763            417.388066  ...   \n",
       "\n",
       "   Asc Node Longitude Orbital Period  Perihelion Distance  Perihelion Arg  \\\n",
       "0          314.373913     609.599786             0.808259       57.257470   \n",
       "1          136.717242     425.869294             0.718200      313.091975   \n",
       "2          259.475979     643.580228             0.950791      248.415038   \n",
       "3           57.173266     514.082140             0.983902       18.707701   \n",
       "4           84.629307     495.597821             0.967687      158.263596   \n",
       "\n",
       "   Aphelion Dist  Perihelion Time  Mean Anomaly  Mean Motion  Equinox  \\\n",
       "0       2.005764     2.458162e+06    264.837533     0.590551    J2000   \n",
       "1       1.497352     2.457795e+06    173.741112     0.845330    J2000   \n",
       "2       1.966857     2.458120e+06    292.893654     0.559371    J2000   \n",
       "3       1.527904     2.457902e+06     68.741007     0.700277    J2000   \n",
       "4       1.483543     2.457814e+06    135.142133     0.726395    J2000   \n",
       "\n",
       "   Hazardous  \n",
       "0       True  \n",
       "1      False  \n",
       "2       True  \n",
       "3      False  \n",
       "4       True  \n",
       "\n",
       "[5 rows x 40 columns]"
      ]
     },
     "execution_count": 2,
     "metadata": {},
     "output_type": "execute_result"
    }
   ],
   "source": [
    "df = pd.read_csv('C:/Users/8Ball270/Downloads/nasa-asteroids-classification/nasa.csv')\n",
    "df.head()"
   ]
  },
  {
   "cell_type": "markdown",
   "metadata": {},
   "source": [
    "Melihat informasi mengenai isi dataset yang bersangkutan untuk melihat jumlah isi dan tipe data setiap kolom yang sudah tertera namanya"
   ]
  },
  {
   "cell_type": "code",
   "execution_count": 3,
   "metadata": {},
   "outputs": [
    {
     "name": "stdout",
     "output_type": "stream",
     "text": [
      "<class 'pandas.core.frame.DataFrame'>\n",
      "RangeIndex: 4687 entries, 0 to 4686\n",
      "Data columns (total 40 columns):\n",
      "Neo Reference ID                4687 non-null int64\n",
      "Name                            4687 non-null int64\n",
      "Absolute Magnitude              4687 non-null float64\n",
      "Est Dia in KM(min)              4687 non-null float64\n",
      "Est Dia in KM(max)              4687 non-null float64\n",
      "Est Dia in M(min)               4687 non-null float64\n",
      "Est Dia in M(max)               4687 non-null float64\n",
      "Est Dia in Miles(min)           4687 non-null float64\n",
      "Est Dia in Miles(max)           4687 non-null float64\n",
      "Est Dia in Feet(min)            4687 non-null float64\n",
      "Est Dia in Feet(max)            4687 non-null float64\n",
      "Close Approach Date             4687 non-null object\n",
      "Epoch Date Close Approach       4687 non-null int64\n",
      "Relative Velocity km per sec    4687 non-null float64\n",
      "Relative Velocity km per hr     4687 non-null float64\n",
      "Miles per hour                  4687 non-null float64\n",
      "Miss Dist.(Astronomical)        4687 non-null float64\n",
      "Miss Dist.(lunar)               4687 non-null float64\n",
      "Miss Dist.(kilometers)          4687 non-null float64\n",
      "Miss Dist.(miles)               4687 non-null float64\n",
      "Orbiting Body                   4687 non-null object\n",
      "Orbit ID                        4687 non-null int64\n",
      "Orbit Determination Date        4687 non-null object\n",
      "Orbit Uncertainity              4687 non-null int64\n",
      "Minimum Orbit Intersection      4687 non-null float64\n",
      "Jupiter Tisserand Invariant     4687 non-null float64\n",
      "Epoch Osculation                4687 non-null float64\n",
      "Eccentricity                    4687 non-null float64\n",
      "Semi Major Axis                 4687 non-null float64\n",
      "Inclination                     4687 non-null float64\n",
      "Asc Node Longitude              4687 non-null float64\n",
      "Orbital Period                  4687 non-null float64\n",
      "Perihelion Distance             4687 non-null float64\n",
      "Perihelion Arg                  4687 non-null float64\n",
      "Aphelion Dist                   4687 non-null float64\n",
      "Perihelion Time                 4687 non-null float64\n",
      "Mean Anomaly                    4687 non-null float64\n",
      "Mean Motion                     4687 non-null float64\n",
      "Equinox                         4687 non-null object\n",
      "Hazardous                       4687 non-null bool\n",
      "dtypes: bool(1), float64(30), int64(5), object(4)\n",
      "memory usage: 1.4+ MB\n"
     ]
    }
   ],
   "source": [
    "df.info()"
   ]
  },
  {
   "cell_type": "markdown",
   "metadata": {},
   "source": [
    "Membuat variabel dataframe baru (df_1) untuk memproses penghilangan kolom-kolom yang tidak perlu dari dataframe utama (df) dan menjadikan dataframe baru dengan variabel df_1"
   ]
  },
  {
   "cell_type": "code",
   "execution_count": 4,
   "metadata": {},
   "outputs": [
    {
     "data": {
      "text/html": [
       "<div>\n",
       "<style scoped>\n",
       "    .dataframe tbody tr th:only-of-type {\n",
       "        vertical-align: middle;\n",
       "    }\n",
       "\n",
       "    .dataframe tbody tr th {\n",
       "        vertical-align: top;\n",
       "    }\n",
       "\n",
       "    .dataframe thead th {\n",
       "        text-align: right;\n",
       "    }\n",
       "</style>\n",
       "<table border=\"1\" class=\"dataframe\">\n",
       "  <thead>\n",
       "    <tr style=\"text-align: right;\">\n",
       "      <th></th>\n",
       "      <th>Absolute Magnitude</th>\n",
       "      <th>Est Dia in KM(min)</th>\n",
       "      <th>Est Dia in KM(max)</th>\n",
       "      <th>Est Dia in M(min)</th>\n",
       "      <th>Est Dia in M(max)</th>\n",
       "      <th>Est Dia in Miles(min)</th>\n",
       "      <th>Est Dia in Miles(max)</th>\n",
       "      <th>Est Dia in Feet(min)</th>\n",
       "      <th>Est Dia in Feet(max)</th>\n",
       "      <th>Epoch Date Close Approach</th>\n",
       "      <th>...</th>\n",
       "      <th>Inclination</th>\n",
       "      <th>Asc Node Longitude</th>\n",
       "      <th>Orbital Period</th>\n",
       "      <th>Perihelion Distance</th>\n",
       "      <th>Perihelion Arg</th>\n",
       "      <th>Aphelion Dist</th>\n",
       "      <th>Perihelion Time</th>\n",
       "      <th>Mean Anomaly</th>\n",
       "      <th>Mean Motion</th>\n",
       "      <th>Hazardous</th>\n",
       "    </tr>\n",
       "  </thead>\n",
       "  <tbody>\n",
       "    <tr>\n",
       "      <th>0</th>\n",
       "      <td>21.6</td>\n",
       "      <td>0.127220</td>\n",
       "      <td>0.284472</td>\n",
       "      <td>127.219879</td>\n",
       "      <td>284.472297</td>\n",
       "      <td>0.079051</td>\n",
       "      <td>0.176763</td>\n",
       "      <td>417.388066</td>\n",
       "      <td>933.308089</td>\n",
       "      <td>788947200000</td>\n",
       "      <td>...</td>\n",
       "      <td>6.025981</td>\n",
       "      <td>314.373913</td>\n",
       "      <td>609.599786</td>\n",
       "      <td>0.808259</td>\n",
       "      <td>57.257470</td>\n",
       "      <td>2.005764</td>\n",
       "      <td>2.458162e+06</td>\n",
       "      <td>264.837533</td>\n",
       "      <td>0.590551</td>\n",
       "      <td>True</td>\n",
       "    </tr>\n",
       "    <tr>\n",
       "      <th>1</th>\n",
       "      <td>21.3</td>\n",
       "      <td>0.146068</td>\n",
       "      <td>0.326618</td>\n",
       "      <td>146.067964</td>\n",
       "      <td>326.617897</td>\n",
       "      <td>0.090762</td>\n",
       "      <td>0.202951</td>\n",
       "      <td>479.225620</td>\n",
       "      <td>1071.581063</td>\n",
       "      <td>788947200000</td>\n",
       "      <td>...</td>\n",
       "      <td>28.412996</td>\n",
       "      <td>136.717242</td>\n",
       "      <td>425.869294</td>\n",
       "      <td>0.718200</td>\n",
       "      <td>313.091975</td>\n",
       "      <td>1.497352</td>\n",
       "      <td>2.457795e+06</td>\n",
       "      <td>173.741112</td>\n",
       "      <td>0.845330</td>\n",
       "      <td>False</td>\n",
       "    </tr>\n",
       "    <tr>\n",
       "      <th>2</th>\n",
       "      <td>20.3</td>\n",
       "      <td>0.231502</td>\n",
       "      <td>0.517654</td>\n",
       "      <td>231.502122</td>\n",
       "      <td>517.654482</td>\n",
       "      <td>0.143849</td>\n",
       "      <td>0.321655</td>\n",
       "      <td>759.521423</td>\n",
       "      <td>1698.341531</td>\n",
       "      <td>789552000000</td>\n",
       "      <td>...</td>\n",
       "      <td>4.237961</td>\n",
       "      <td>259.475979</td>\n",
       "      <td>643.580228</td>\n",
       "      <td>0.950791</td>\n",
       "      <td>248.415038</td>\n",
       "      <td>1.966857</td>\n",
       "      <td>2.458120e+06</td>\n",
       "      <td>292.893654</td>\n",
       "      <td>0.559371</td>\n",
       "      <td>True</td>\n",
       "    </tr>\n",
       "    <tr>\n",
       "      <th>3</th>\n",
       "      <td>27.4</td>\n",
       "      <td>0.008801</td>\n",
       "      <td>0.019681</td>\n",
       "      <td>8.801465</td>\n",
       "      <td>19.680675</td>\n",
       "      <td>0.005469</td>\n",
       "      <td>0.012229</td>\n",
       "      <td>28.876199</td>\n",
       "      <td>64.569144</td>\n",
       "      <td>790156800000</td>\n",
       "      <td>...</td>\n",
       "      <td>7.905894</td>\n",
       "      <td>57.173266</td>\n",
       "      <td>514.082140</td>\n",
       "      <td>0.983902</td>\n",
       "      <td>18.707701</td>\n",
       "      <td>1.527904</td>\n",
       "      <td>2.457902e+06</td>\n",
       "      <td>68.741007</td>\n",
       "      <td>0.700277</td>\n",
       "      <td>False</td>\n",
       "    </tr>\n",
       "    <tr>\n",
       "      <th>4</th>\n",
       "      <td>21.6</td>\n",
       "      <td>0.127220</td>\n",
       "      <td>0.284472</td>\n",
       "      <td>127.219879</td>\n",
       "      <td>284.472297</td>\n",
       "      <td>0.079051</td>\n",
       "      <td>0.176763</td>\n",
       "      <td>417.388066</td>\n",
       "      <td>933.308089</td>\n",
       "      <td>790156800000</td>\n",
       "      <td>...</td>\n",
       "      <td>16.793382</td>\n",
       "      <td>84.629307</td>\n",
       "      <td>495.597821</td>\n",
       "      <td>0.967687</td>\n",
       "      <td>158.263596</td>\n",
       "      <td>1.483543</td>\n",
       "      <td>2.457814e+06</td>\n",
       "      <td>135.142133</td>\n",
       "      <td>0.726395</td>\n",
       "      <td>True</td>\n",
       "    </tr>\n",
       "  </tbody>\n",
       "</table>\n",
       "<p>5 rows × 33 columns</p>\n",
       "</div>"
      ],
      "text/plain": [
       "   Absolute Magnitude  Est Dia in KM(min)  Est Dia in KM(max)  \\\n",
       "0                21.6            0.127220            0.284472   \n",
       "1                21.3            0.146068            0.326618   \n",
       "2                20.3            0.231502            0.517654   \n",
       "3                27.4            0.008801            0.019681   \n",
       "4                21.6            0.127220            0.284472   \n",
       "\n",
       "   Est Dia in M(min)  Est Dia in M(max)  Est Dia in Miles(min)  \\\n",
       "0         127.219879         284.472297               0.079051   \n",
       "1         146.067964         326.617897               0.090762   \n",
       "2         231.502122         517.654482               0.143849   \n",
       "3           8.801465          19.680675               0.005469   \n",
       "4         127.219879         284.472297               0.079051   \n",
       "\n",
       "   Est Dia in Miles(max)  Est Dia in Feet(min)  Est Dia in Feet(max)  \\\n",
       "0               0.176763            417.388066            933.308089   \n",
       "1               0.202951            479.225620           1071.581063   \n",
       "2               0.321655            759.521423           1698.341531   \n",
       "3               0.012229             28.876199             64.569144   \n",
       "4               0.176763            417.388066            933.308089   \n",
       "\n",
       "   Epoch Date Close Approach  ...  Inclination  Asc Node Longitude  \\\n",
       "0               788947200000  ...     6.025981          314.373913   \n",
       "1               788947200000  ...    28.412996          136.717242   \n",
       "2               789552000000  ...     4.237961          259.475979   \n",
       "3               790156800000  ...     7.905894           57.173266   \n",
       "4               790156800000  ...    16.793382           84.629307   \n",
       "\n",
       "   Orbital Period  Perihelion Distance  Perihelion Arg  Aphelion Dist  \\\n",
       "0      609.599786             0.808259       57.257470       2.005764   \n",
       "1      425.869294             0.718200      313.091975       1.497352   \n",
       "2      643.580228             0.950791      248.415038       1.966857   \n",
       "3      514.082140             0.983902       18.707701       1.527904   \n",
       "4      495.597821             0.967687      158.263596       1.483543   \n",
       "\n",
       "   Perihelion Time  Mean Anomaly  Mean Motion  Hazardous  \n",
       "0     2.458162e+06    264.837533     0.590551       True  \n",
       "1     2.457795e+06    173.741112     0.845330      False  \n",
       "2     2.458120e+06    292.893654     0.559371       True  \n",
       "3     2.457902e+06     68.741007     0.700277      False  \n",
       "4     2.457814e+06    135.142133     0.726395       True  \n",
       "\n",
       "[5 rows x 33 columns]"
      ]
     },
     "execution_count": 4,
     "metadata": {},
     "output_type": "execute_result"
    }
   ],
   "source": [
    "df_1 = df.drop(columns=[\"Neo Reference ID\", \"Name\", \"Close Approach Date\", \"Orbiting Body\", \"Orbit Determination Date\", \"Orbit Uncertainity\", \"Equinox\"])\n",
    "df_1.head()"
   ]
  },
  {
   "cell_type": "markdown",
   "metadata": {},
   "source": [
    "Bagian preprocessing dibawah merupakan proses label encoder menjadikan angkanya lebih mudah untuk diolah, maka dataframe diatas (df_1) yang sudah diolah dengan label encoder menjadi dataframe baru dengan variabel df_2"
   ]
  },
  {
   "cell_type": "code",
   "execution_count": 5,
   "metadata": {},
   "outputs": [
    {
     "data": {
      "text/html": [
       "<div>\n",
       "<style scoped>\n",
       "    .dataframe tbody tr th:only-of-type {\n",
       "        vertical-align: middle;\n",
       "    }\n",
       "\n",
       "    .dataframe tbody tr th {\n",
       "        vertical-align: top;\n",
       "    }\n",
       "\n",
       "    .dataframe thead th {\n",
       "        text-align: right;\n",
       "    }\n",
       "</style>\n",
       "<table border=\"1\" class=\"dataframe\">\n",
       "  <thead>\n",
       "    <tr style=\"text-align: right;\">\n",
       "      <th></th>\n",
       "      <th>Absolute Magnitude</th>\n",
       "      <th>Est Dia in KM(min)</th>\n",
       "      <th>Est Dia in KM(max)</th>\n",
       "      <th>Est Dia in M(min)</th>\n",
       "      <th>Est Dia in M(max)</th>\n",
       "      <th>Est Dia in Miles(min)</th>\n",
       "      <th>Est Dia in Miles(max)</th>\n",
       "      <th>Est Dia in Feet(min)</th>\n",
       "      <th>Est Dia in Feet(max)</th>\n",
       "      <th>Epoch Date Close Approach</th>\n",
       "      <th>...</th>\n",
       "      <th>Inclination</th>\n",
       "      <th>Asc Node Longitude</th>\n",
       "      <th>Orbital Period</th>\n",
       "      <th>Perihelion Distance</th>\n",
       "      <th>Perihelion Arg</th>\n",
       "      <th>Aphelion Dist</th>\n",
       "      <th>Perihelion Time</th>\n",
       "      <th>Mean Anomaly</th>\n",
       "      <th>Mean Motion</th>\n",
       "      <th>Hazardous</th>\n",
       "    </tr>\n",
       "  </thead>\n",
       "  <tbody>\n",
       "    <tr>\n",
       "      <th>0</th>\n",
       "      <td>104</td>\n",
       "      <td>164</td>\n",
       "      <td>164</td>\n",
       "      <td>164</td>\n",
       "      <td>164</td>\n",
       "      <td>164</td>\n",
       "      <td>164</td>\n",
       "      <td>164</td>\n",
       "      <td>164</td>\n",
       "      <td>0</td>\n",
       "      <td>...</td>\n",
       "      <td>1153</td>\n",
       "      <td>3245</td>\n",
       "      <td>2059</td>\n",
       "      <td>1569</td>\n",
       "      <td>541</td>\n",
       "      <td>2138</td>\n",
       "      <td>3037</td>\n",
       "      <td>2664</td>\n",
       "      <td>1632</td>\n",
       "      <td>1</td>\n",
       "    </tr>\n",
       "    <tr>\n",
       "      <th>1</th>\n",
       "      <td>92</td>\n",
       "      <td>176</td>\n",
       "      <td>176</td>\n",
       "      <td>176</td>\n",
       "      <td>176</td>\n",
       "      <td>176</td>\n",
       "      <td>176</td>\n",
       "      <td>176</td>\n",
       "      <td>176</td>\n",
       "      <td>0</td>\n",
       "      <td>...</td>\n",
       "      <td>3320</td>\n",
       "      <td>1436</td>\n",
       "      <td>1132</td>\n",
       "      <td>1152</td>\n",
       "      <td>3193</td>\n",
       "      <td>1336</td>\n",
       "      <td>966</td>\n",
       "      <td>1758</td>\n",
       "      <td>2559</td>\n",
       "      <td>0</td>\n",
       "    </tr>\n",
       "    <tr>\n",
       "      <th>2</th>\n",
       "      <td>75</td>\n",
       "      <td>193</td>\n",
       "      <td>193</td>\n",
       "      <td>193</td>\n",
       "      <td>193</td>\n",
       "      <td>193</td>\n",
       "      <td>193</td>\n",
       "      <td>193</td>\n",
       "      <td>193</td>\n",
       "      <td>1</td>\n",
       "      <td>...</td>\n",
       "      <td>749</td>\n",
       "      <td>2796</td>\n",
       "      <td>2171</td>\n",
       "      <td>2289</td>\n",
       "      <td>2513</td>\n",
       "      <td>2097</td>\n",
       "      <td>2806</td>\n",
       "      <td>2934</td>\n",
       "      <td>1520</td>\n",
       "      <td>1</td>\n",
       "    </tr>\n",
       "    <tr>\n",
       "      <th>3</th>\n",
       "      <td>235</td>\n",
       "      <td>33</td>\n",
       "      <td>33</td>\n",
       "      <td>33</td>\n",
       "      <td>33</td>\n",
       "      <td>33</td>\n",
       "      <td>33</td>\n",
       "      <td>33</td>\n",
       "      <td>33</td>\n",
       "      <td>2</td>\n",
       "      <td>...</td>\n",
       "      <td>1532</td>\n",
       "      <td>654</td>\n",
       "      <td>1636</td>\n",
       "      <td>2520</td>\n",
       "      <td>173</td>\n",
       "      <td>1404</td>\n",
       "      <td>1497</td>\n",
       "      <td>787</td>\n",
       "      <td>2055</td>\n",
       "      <td>0</td>\n",
       "    </tr>\n",
       "    <tr>\n",
       "      <th>4</th>\n",
       "      <td>104</td>\n",
       "      <td>164</td>\n",
       "      <td>164</td>\n",
       "      <td>164</td>\n",
       "      <td>164</td>\n",
       "      <td>164</td>\n",
       "      <td>164</td>\n",
       "      <td>164</td>\n",
       "      <td>164</td>\n",
       "      <td>2</td>\n",
       "      <td>...</td>\n",
       "      <td>2575</td>\n",
       "      <td>923</td>\n",
       "      <td>1527</td>\n",
       "      <td>2418</td>\n",
       "      <td>1562</td>\n",
       "      <td>1303</td>\n",
       "      <td>1026</td>\n",
       "      <td>1426</td>\n",
       "      <td>2164</td>\n",
       "      <td>1</td>\n",
       "    </tr>\n",
       "  </tbody>\n",
       "</table>\n",
       "<p>5 rows × 33 columns</p>\n",
       "</div>"
      ],
      "text/plain": [
       "   Absolute Magnitude  Est Dia in KM(min)  Est Dia in KM(max)  \\\n",
       "0                 104                 164                 164   \n",
       "1                  92                 176                 176   \n",
       "2                  75                 193                 193   \n",
       "3                 235                  33                  33   \n",
       "4                 104                 164                 164   \n",
       "\n",
       "   Est Dia in M(min)  Est Dia in M(max)  Est Dia in Miles(min)  \\\n",
       "0                164                164                    164   \n",
       "1                176                176                    176   \n",
       "2                193                193                    193   \n",
       "3                 33                 33                     33   \n",
       "4                164                164                    164   \n",
       "\n",
       "   Est Dia in Miles(max)  Est Dia in Feet(min)  Est Dia in Feet(max)  \\\n",
       "0                    164                   164                   164   \n",
       "1                    176                   176                   176   \n",
       "2                    193                   193                   193   \n",
       "3                     33                    33                    33   \n",
       "4                    164                   164                   164   \n",
       "\n",
       "   Epoch Date Close Approach  ...  Inclination  Asc Node Longitude  \\\n",
       "0                          0  ...         1153                3245   \n",
       "1                          0  ...         3320                1436   \n",
       "2                          1  ...          749                2796   \n",
       "3                          2  ...         1532                 654   \n",
       "4                          2  ...         2575                 923   \n",
       "\n",
       "   Orbital Period  Perihelion Distance  Perihelion Arg  Aphelion Dist  \\\n",
       "0            2059                 1569             541           2138   \n",
       "1            1132                 1152            3193           1336   \n",
       "2            2171                 2289            2513           2097   \n",
       "3            1636                 2520             173           1404   \n",
       "4            1527                 2418            1562           1303   \n",
       "\n",
       "   Perihelion Time  Mean Anomaly  Mean Motion  Hazardous  \n",
       "0             3037          2664         1632          1  \n",
       "1              966          1758         2559          0  \n",
       "2             2806          2934         1520          1  \n",
       "3             1497           787         2055          0  \n",
       "4             1026          1426         2164          1  \n",
       "\n",
       "[5 rows x 33 columns]"
      ]
     },
     "execution_count": 5,
     "metadata": {},
     "output_type": "execute_result"
    }
   ],
   "source": [
    "enc = LabelEncoder()\n",
    "df_2 = df_1.apply(enc.fit_transform)\n",
    "df_2.head()"
   ]
  },
  {
   "cell_type": "markdown",
   "metadata": {},
   "source": [
    "Melihat informasi mengenai isi dataset df_2 untuk melihat jumlah isi dan tipe data setiap kolom yang sudah tertera namanya"
   ]
  },
  {
   "cell_type": "code",
   "execution_count": 6,
   "metadata": {},
   "outputs": [
    {
     "name": "stdout",
     "output_type": "stream",
     "text": [
      "<class 'pandas.core.frame.DataFrame'>\n",
      "RangeIndex: 4687 entries, 0 to 4686\n",
      "Data columns (total 33 columns):\n",
      "Absolute Magnitude              4687 non-null int64\n",
      "Est Dia in KM(min)              4687 non-null int64\n",
      "Est Dia in KM(max)              4687 non-null int64\n",
      "Est Dia in M(min)               4687 non-null int64\n",
      "Est Dia in M(max)               4687 non-null int64\n",
      "Est Dia in Miles(min)           4687 non-null int64\n",
      "Est Dia in Miles(max)           4687 non-null int64\n",
      "Est Dia in Feet(min)            4687 non-null int64\n",
      "Est Dia in Feet(max)            4687 non-null int64\n",
      "Epoch Date Close Approach       4687 non-null int64\n",
      "Relative Velocity km per sec    4687 non-null int64\n",
      "Relative Velocity km per hr     4687 non-null int64\n",
      "Miles per hour                  4687 non-null int64\n",
      "Miss Dist.(Astronomical)        4687 non-null int64\n",
      "Miss Dist.(lunar)               4687 non-null int64\n",
      "Miss Dist.(kilometers)          4687 non-null int64\n",
      "Miss Dist.(miles)               4687 non-null int64\n",
      "Orbit ID                        4687 non-null int64\n",
      "Minimum Orbit Intersection      4687 non-null int64\n",
      "Jupiter Tisserand Invariant     4687 non-null int64\n",
      "Epoch Osculation                4687 non-null int64\n",
      "Eccentricity                    4687 non-null int64\n",
      "Semi Major Axis                 4687 non-null int64\n",
      "Inclination                     4687 non-null int64\n",
      "Asc Node Longitude              4687 non-null int64\n",
      "Orbital Period                  4687 non-null int64\n",
      "Perihelion Distance             4687 non-null int64\n",
      "Perihelion Arg                  4687 non-null int64\n",
      "Aphelion Dist                   4687 non-null int64\n",
      "Perihelion Time                 4687 non-null int64\n",
      "Mean Anomaly                    4687 non-null int64\n",
      "Mean Motion                     4687 non-null int64\n",
      "Hazardous                       4687 non-null int64\n",
      "dtypes: int64(33)\n",
      "memory usage: 1.2 MB\n"
     ]
    }
   ],
   "source": [
    "df_2.info()"
   ]
  },
  {
   "cell_type": "markdown",
   "metadata": {},
   "source": [
    "Fungsi ini digunakan untuk melihat berapa jumlah baris dan jumlah kolom pada dataframe yang sudah diolah (df_2)"
   ]
  },
  {
   "cell_type": "code",
   "execution_count": 7,
   "metadata": {},
   "outputs": [
    {
     "data": {
      "text/plain": [
       "(4687, 33)"
      ]
     },
     "execution_count": 7,
     "metadata": {},
     "output_type": "execute_result"
    }
   ],
   "source": [
    "df_2.shape"
   ]
  },
  {
   "cell_type": "markdown",
   "metadata": {},
   "source": [
    "Fungsi ini digunakan untuk melihat banyaknya isi dari salah satu kolom tersebut"
   ]
  },
  {
   "cell_type": "code",
   "execution_count": 8,
   "metadata": {},
   "outputs": [
    {
     "data": {
      "text/plain": [
       "0    3932\n",
       "1     755\n",
       "Name: Hazardous, dtype: int64"
      ]
     },
     "execution_count": 8,
     "metadata": {},
     "output_type": "execute_result"
    }
   ],
   "source": [
    "df_2.Hazardous.value_counts()"
   ]
  },
  {
   "cell_type": "markdown",
   "metadata": {},
   "source": [
    "Jika label kolomnya menggunakan spasi, maka digunakan kurung siku dan tanda petik. Disarankan menggunakan nama label untuk kolomnya tanpa spasi agar syntaxnya seperti yang diatas (\"df_2.Hazardous.value_counts()\")"
   ]
  },
  {
   "cell_type": "code",
   "execution_count": 9,
   "metadata": {},
   "outputs": [
    {
     "data": {
      "text/plain": [
       "91     84\n",
       "85     84\n",
       "89     76\n",
       "104    73\n",
       "80     71\n",
       "       ..\n",
       "229     1\n",
       "221     1\n",
       "209     1\n",
       "205     1\n",
       "0       1\n",
       "Name: Absolute Magnitude, Length: 269, dtype: int64"
      ]
     },
     "execution_count": 9,
     "metadata": {},
     "output_type": "execute_result"
    }
   ],
   "source": [
    "df_2['Absolute Magnitude'].value_counts()"
   ]
  },
  {
   "cell_type": "markdown",
   "metadata": {},
   "source": [
    "pendefinisian variabel x dan y"
   ]
  },
  {
   "cell_type": "code",
   "execution_count": 10,
   "metadata": {},
   "outputs": [
    {
     "name": "stderr",
     "output_type": "stream",
     "text": [
      "C:\\Users\\8Ball270\\Anaconda3\\envs\\tensorflow-sessions\\lib\\site-packages\\ipykernel_launcher.py:1: FutureWarning: \n",
      ".ix is deprecated. Please use\n",
      ".loc for label based indexing or\n",
      ".iloc for positional indexing\n",
      "\n",
      "See the documentation here:\n",
      "http://pandas.pydata.org/pandas-docs/stable/user_guide/indexing.html#ix-indexer-is-deprecated\n",
      "  \"\"\"Entry point for launching an IPython kernel.\n",
      "C:\\Users\\8Ball270\\Anaconda3\\envs\\tensorflow-sessions\\lib\\site-packages\\pandas\\core\\indexing.py:822: FutureWarning: \n",
      ".ix is deprecated. Please use\n",
      ".loc for label based indexing or\n",
      ".iloc for positional indexing\n",
      "\n",
      "See the documentation here:\n",
      "http://pandas.pydata.org/pandas-docs/stable/user_guide/indexing.html#ix-indexer-is-deprecated\n",
      "  retval = getattr(retval, self.name)._getitem_axis(key, axis=i)\n",
      "C:\\Users\\8Ball270\\Anaconda3\\envs\\tensorflow-sessions\\lib\\site-packages\\ipykernel_launcher.py:2: FutureWarning: \n",
      ".ix is deprecated. Please use\n",
      ".loc for label based indexing or\n",
      ".iloc for positional indexing\n",
      "\n",
      "See the documentation here:\n",
      "http://pandas.pydata.org/pandas-docs/stable/user_guide/indexing.html#ix-indexer-is-deprecated\n",
      "  \n"
     ]
    }
   ],
   "source": [
    "x = np.array(df_2.ix[:, 0:32])\n",
    "y = np.array(df_2.ix[:, 32])"
   ]
  },
  {
   "cell_type": "markdown",
   "metadata": {},
   "source": [
    "mendeskripsi isi dataframe yang digunakan untuk melihat jumlah, rata-rata, maksimal, minimal, dan sebagainya"
   ]
  },
  {
   "cell_type": "code",
   "execution_count": 11,
   "metadata": {},
   "outputs": [
    {
     "data": {
      "text/html": [
       "<div>\n",
       "<style scoped>\n",
       "    .dataframe tbody tr th:only-of-type {\n",
       "        vertical-align: middle;\n",
       "    }\n",
       "\n",
       "    .dataframe tbody tr th {\n",
       "        vertical-align: top;\n",
       "    }\n",
       "\n",
       "    .dataframe thead th {\n",
       "        text-align: right;\n",
       "    }\n",
       "</style>\n",
       "<table border=\"1\" class=\"dataframe\">\n",
       "  <thead>\n",
       "    <tr style=\"text-align: right;\">\n",
       "      <th></th>\n",
       "      <th>Absolute Magnitude</th>\n",
       "      <th>Est Dia in KM(min)</th>\n",
       "      <th>Est Dia in KM(max)</th>\n",
       "      <th>Est Dia in M(min)</th>\n",
       "      <th>Est Dia in M(max)</th>\n",
       "      <th>Est Dia in Miles(min)</th>\n",
       "      <th>Est Dia in Miles(max)</th>\n",
       "      <th>Est Dia in Feet(min)</th>\n",
       "      <th>Est Dia in Feet(max)</th>\n",
       "      <th>Epoch Date Close Approach</th>\n",
       "      <th>...</th>\n",
       "      <th>Inclination</th>\n",
       "      <th>Asc Node Longitude</th>\n",
       "      <th>Orbital Period</th>\n",
       "      <th>Perihelion Distance</th>\n",
       "      <th>Perihelion Arg</th>\n",
       "      <th>Aphelion Dist</th>\n",
       "      <th>Perihelion Time</th>\n",
       "      <th>Mean Anomaly</th>\n",
       "      <th>Mean Motion</th>\n",
       "      <th>Hazardous</th>\n",
       "    </tr>\n",
       "  </thead>\n",
       "  <tbody>\n",
       "    <tr>\n",
       "      <th>count</th>\n",
       "      <td>4687.000000</td>\n",
       "      <td>4687.000000</td>\n",
       "      <td>4687.000000</td>\n",
       "      <td>4687.000000</td>\n",
       "      <td>4687.000000</td>\n",
       "      <td>4687.000000</td>\n",
       "      <td>4687.000000</td>\n",
       "      <td>4687.000000</td>\n",
       "      <td>4687.000000</td>\n",
       "      <td>4687.000000</td>\n",
       "      <td>...</td>\n",
       "      <td>4687.000000</td>\n",
       "      <td>4687.000000</td>\n",
       "      <td>4687.000000</td>\n",
       "      <td>4687.000000</td>\n",
       "      <td>4687.000000</td>\n",
       "      <td>4687.000000</td>\n",
       "      <td>4687.000000</td>\n",
       "      <td>4687.000000</td>\n",
       "      <td>4687.000000</td>\n",
       "      <td>4687.000000</td>\n",
       "    </tr>\n",
       "    <tr>\n",
       "      <th>mean</th>\n",
       "      <td>120.337529</td>\n",
       "      <td>147.662471</td>\n",
       "      <td>147.662471</td>\n",
       "      <td>147.662471</td>\n",
       "      <td>147.662471</td>\n",
       "      <td>147.662471</td>\n",
       "      <td>147.662471</td>\n",
       "      <td>147.662471</td>\n",
       "      <td>147.662471</td>\n",
       "      <td>442.498613</td>\n",
       "      <td>...</td>\n",
       "      <td>1854.651163</td>\n",
       "      <td>1834.113505</td>\n",
       "      <td>1676.884361</td>\n",
       "      <td>1736.378280</td>\n",
       "      <td>1846.204395</td>\n",
       "      <td>1687.447408</td>\n",
       "      <td>1874.314700</td>\n",
       "      <td>1862.514188</td>\n",
       "      <td>2014.115639</td>\n",
       "      <td>0.161084</td>\n",
       "    </tr>\n",
       "    <tr>\n",
       "      <th>std</th>\n",
       "      <td>60.378024</td>\n",
       "      <td>60.378024</td>\n",
       "      <td>60.378024</td>\n",
       "      <td>60.378024</td>\n",
       "      <td>60.378024</td>\n",
       "      <td>60.378024</td>\n",
       "      <td>60.378024</td>\n",
       "      <td>60.378024</td>\n",
       "      <td>60.378024</td>\n",
       "      <td>224.846778</td>\n",
       "      <td>...</td>\n",
       "      <td>1071.749891</td>\n",
       "      <td>1067.536800</td>\n",
       "      <td>1073.408458</td>\n",
       "      <td>1057.759595</td>\n",
       "      <td>1068.235512</td>\n",
       "      <td>1069.314527</td>\n",
       "      <td>1024.024202</td>\n",
       "      <td>1050.312378</td>\n",
       "      <td>1073.408458</td>\n",
       "      <td>0.367647</td>\n",
       "    </tr>\n",
       "    <tr>\n",
       "      <th>min</th>\n",
       "      <td>0.000000</td>\n",
       "      <td>0.000000</td>\n",
       "      <td>0.000000</td>\n",
       "      <td>0.000000</td>\n",
       "      <td>0.000000</td>\n",
       "      <td>0.000000</td>\n",
       "      <td>0.000000</td>\n",
       "      <td>0.000000</td>\n",
       "      <td>0.000000</td>\n",
       "      <td>0.000000</td>\n",
       "      <td>...</td>\n",
       "      <td>0.000000</td>\n",
       "      <td>0.000000</td>\n",
       "      <td>0.000000</td>\n",
       "      <td>0.000000</td>\n",
       "      <td>0.000000</td>\n",
       "      <td>0.000000</td>\n",
       "      <td>0.000000</td>\n",
       "      <td>0.000000</td>\n",
       "      <td>0.000000</td>\n",
       "      <td>0.000000</td>\n",
       "    </tr>\n",
       "    <tr>\n",
       "      <th>25%</th>\n",
       "      <td>70.000000</td>\n",
       "      <td>105.000000</td>\n",
       "      <td>105.000000</td>\n",
       "      <td>105.000000</td>\n",
       "      <td>105.000000</td>\n",
       "      <td>105.000000</td>\n",
       "      <td>105.000000</td>\n",
       "      <td>105.000000</td>\n",
       "      <td>105.000000</td>\n",
       "      <td>255.000000</td>\n",
       "      <td>...</td>\n",
       "      <td>918.500000</td>\n",
       "      <td>906.500000</td>\n",
       "      <td>730.000000</td>\n",
       "      <td>799.000000</td>\n",
       "      <td>925.500000</td>\n",
       "      <td>757.000000</td>\n",
       "      <td>1032.500000</td>\n",
       "      <td>966.500000</td>\n",
       "      <td>1097.500000</td>\n",
       "      <td>0.000000</td>\n",
       "    </tr>\n",
       "    <tr>\n",
       "      <th>50%</th>\n",
       "      <td>110.000000</td>\n",
       "      <td>158.000000</td>\n",
       "      <td>158.000000</td>\n",
       "      <td>158.000000</td>\n",
       "      <td>158.000000</td>\n",
       "      <td>158.000000</td>\n",
       "      <td>158.000000</td>\n",
       "      <td>158.000000</td>\n",
       "      <td>158.000000</td>\n",
       "      <td>468.000000</td>\n",
       "      <td>...</td>\n",
       "      <td>1883.000000</td>\n",
       "      <td>1835.000000</td>\n",
       "      <td>1577.000000</td>\n",
       "      <td>1686.000000</td>\n",
       "      <td>1856.000000</td>\n",
       "      <td>1590.000000</td>\n",
       "      <td>1899.000000</td>\n",
       "      <td>1872.000000</td>\n",
       "      <td>2114.000000</td>\n",
       "      <td>0.000000</td>\n",
       "    </tr>\n",
       "    <tr>\n",
       "      <th>75%</th>\n",
       "      <td>163.000000</td>\n",
       "      <td>198.000000</td>\n",
       "      <td>198.000000</td>\n",
       "      <td>198.000000</td>\n",
       "      <td>198.000000</td>\n",
       "      <td>198.000000</td>\n",
       "      <td>198.000000</td>\n",
       "      <td>198.000000</td>\n",
       "      <td>198.000000</td>\n",
       "      <td>642.000000</td>\n",
       "      <td>...</td>\n",
       "      <td>2789.500000</td>\n",
       "      <td>2754.500000</td>\n",
       "      <td>2593.500000</td>\n",
       "      <td>2621.500000</td>\n",
       "      <td>2773.500000</td>\n",
       "      <td>2595.500000</td>\n",
       "      <td>2730.500000</td>\n",
       "      <td>2770.000000</td>\n",
       "      <td>2961.000000</td>\n",
       "      <td>0.000000</td>\n",
       "    </tr>\n",
       "    <tr>\n",
       "      <th>max</th>\n",
       "      <td>268.000000</td>\n",
       "      <td>268.000000</td>\n",
       "      <td>268.000000</td>\n",
       "      <td>268.000000</td>\n",
       "      <td>268.000000</td>\n",
       "      <td>268.000000</td>\n",
       "      <td>268.000000</td>\n",
       "      <td>268.000000</td>\n",
       "      <td>268.000000</td>\n",
       "      <td>776.000000</td>\n",
       "      <td>...</td>\n",
       "      <td>3691.000000</td>\n",
       "      <td>3691.000000</td>\n",
       "      <td>3691.000000</td>\n",
       "      <td>3691.000000</td>\n",
       "      <td>3691.000000</td>\n",
       "      <td>3691.000000</td>\n",
       "      <td>3691.000000</td>\n",
       "      <td>3691.000000</td>\n",
       "      <td>3691.000000</td>\n",
       "      <td>1.000000</td>\n",
       "    </tr>\n",
       "  </tbody>\n",
       "</table>\n",
       "<p>8 rows × 33 columns</p>\n",
       "</div>"
      ],
      "text/plain": [
       "       Absolute Magnitude  Est Dia in KM(min)  Est Dia in KM(max)  \\\n",
       "count         4687.000000         4687.000000         4687.000000   \n",
       "mean           120.337529          147.662471          147.662471   \n",
       "std             60.378024           60.378024           60.378024   \n",
       "min              0.000000            0.000000            0.000000   \n",
       "25%             70.000000          105.000000          105.000000   \n",
       "50%            110.000000          158.000000          158.000000   \n",
       "75%            163.000000          198.000000          198.000000   \n",
       "max            268.000000          268.000000          268.000000   \n",
       "\n",
       "       Est Dia in M(min)  Est Dia in M(max)  Est Dia in Miles(min)  \\\n",
       "count        4687.000000        4687.000000            4687.000000   \n",
       "mean          147.662471         147.662471             147.662471   \n",
       "std            60.378024          60.378024              60.378024   \n",
       "min             0.000000           0.000000               0.000000   \n",
       "25%           105.000000         105.000000             105.000000   \n",
       "50%           158.000000         158.000000             158.000000   \n",
       "75%           198.000000         198.000000             198.000000   \n",
       "max           268.000000         268.000000             268.000000   \n",
       "\n",
       "       Est Dia in Miles(max)  Est Dia in Feet(min)  Est Dia in Feet(max)  \\\n",
       "count            4687.000000           4687.000000           4687.000000   \n",
       "mean              147.662471            147.662471            147.662471   \n",
       "std                60.378024             60.378024             60.378024   \n",
       "min                 0.000000              0.000000              0.000000   \n",
       "25%               105.000000            105.000000            105.000000   \n",
       "50%               158.000000            158.000000            158.000000   \n",
       "75%               198.000000            198.000000            198.000000   \n",
       "max               268.000000            268.000000            268.000000   \n",
       "\n",
       "       Epoch Date Close Approach  ...  Inclination  Asc Node Longitude  \\\n",
       "count                4687.000000  ...  4687.000000         4687.000000   \n",
       "mean                  442.498613  ...  1854.651163         1834.113505   \n",
       "std                   224.846778  ...  1071.749891         1067.536800   \n",
       "min                     0.000000  ...     0.000000            0.000000   \n",
       "25%                   255.000000  ...   918.500000          906.500000   \n",
       "50%                   468.000000  ...  1883.000000         1835.000000   \n",
       "75%                   642.000000  ...  2789.500000         2754.500000   \n",
       "max                   776.000000  ...  3691.000000         3691.000000   \n",
       "\n",
       "       Orbital Period  Perihelion Distance  Perihelion Arg  Aphelion Dist  \\\n",
       "count     4687.000000          4687.000000     4687.000000    4687.000000   \n",
       "mean      1676.884361          1736.378280     1846.204395    1687.447408   \n",
       "std       1073.408458          1057.759595     1068.235512    1069.314527   \n",
       "min          0.000000             0.000000        0.000000       0.000000   \n",
       "25%        730.000000           799.000000      925.500000     757.000000   \n",
       "50%       1577.000000          1686.000000     1856.000000    1590.000000   \n",
       "75%       2593.500000          2621.500000     2773.500000    2595.500000   \n",
       "max       3691.000000          3691.000000     3691.000000    3691.000000   \n",
       "\n",
       "       Perihelion Time  Mean Anomaly  Mean Motion    Hazardous  \n",
       "count      4687.000000   4687.000000  4687.000000  4687.000000  \n",
       "mean       1874.314700   1862.514188  2014.115639     0.161084  \n",
       "std        1024.024202   1050.312378  1073.408458     0.367647  \n",
       "min           0.000000      0.000000     0.000000     0.000000  \n",
       "25%        1032.500000    966.500000  1097.500000     0.000000  \n",
       "50%        1899.000000   1872.000000  2114.000000     0.000000  \n",
       "75%        2730.500000   2770.000000  2961.000000     0.000000  \n",
       "max        3691.000000   3691.000000  3691.000000     1.000000  \n",
       "\n",
       "[8 rows x 33 columns]"
      ]
     },
     "execution_count": 11,
     "metadata": {},
     "output_type": "execute_result"
    }
   ],
   "source": [
    "df_2.describe()"
   ]
  },
  {
   "cell_type": "markdown",
   "metadata": {},
   "source": [
    "Melihat grafik perbandingan seberapa banyak asteroid yang berbahaya udaranya"
   ]
  },
  {
   "cell_type": "code",
   "execution_count": 12,
   "metadata": {},
   "outputs": [],
   "source": [
    "true = df_2[df_2.Hazardous==1]\n",
    "false = df_2[df_2.Hazardous==0]"
   ]
  },
  {
   "cell_type": "code",
   "execution_count": 13,
   "metadata": {},
   "outputs": [
    {
     "data": {
      "text/plain": [
       "Text(0, 0.5, 'Frequency')"
      ]
     },
     "execution_count": 13,
     "metadata": {},
     "output_type": "execute_result"
    },
    {
     "data": {
      "image/png": "[encoded data removed]",
      "text/plain": [
       "<Figure size 432x288 with 1 Axes>"
      ]
     },
     "metadata": {
      "needs_background": "light"
     },
     "output_type": "display_data"
    }
   ],
   "source": [
    "hazardous = ['False','True']\n",
    "classes = pd.value_counts(df_2['Hazardous'], sort = True)\n",
    "classes.plot(kind = 'bar', rot=0)\n",
    "plt.title(\"Asteroids Hazardous Distribution\")\n",
    "plt.xticks(range(2), hazardous)\n",
    "plt.xlabel(\"Hazardous\")\n",
    "plt.ylabel(\"Frequency\")"
   ]
  },
  {
   "cell_type": "markdown",
   "metadata": {},
   "source": [
    "menampilkan grafik-grafik dari setiap kolom yang bersangkutan"
   ]
  },
  {
   "cell_type": "code",
   "execution_count": 14,
   "metadata": {},
   "outputs": [
    {
     "data": {
      "image/png": "[encoded data removed]",
      "text/plain": [
       "<Figure size 1080x1080 with 36 Axes>"
      ]
     },
     "metadata": {
      "needs_background": "light"
     },
     "output_type": "display_data"
    }
   ],
   "source": [
    "df_2.hist(figsize=(15,15))\n",
    "plt.show()"
   ]
  },
  {
   "cell_type": "code",
   "execution_count": 15,
   "metadata": {},
   "outputs": [
    {
     "data": {
      "text/plain": [
       "Absolute Magnitude                 AxesSubplot(0.125,0.821923;0.168478x0.0580769)\n",
       "Est Dia in KM(min)              AxesSubplot(0.327174,0.821923;0.168478x0.0580769)\n",
       "Est Dia in KM(max)              AxesSubplot(0.529348,0.821923;0.168478x0.0580769)\n",
       "Est Dia in M(min)               AxesSubplot(0.731522,0.821923;0.168478x0.0580769)\n",
       "Est Dia in M(max)                  AxesSubplot(0.125,0.752231;0.168478x0.0580769)\n",
       "Est Dia in Miles(min)           AxesSubplot(0.327174,0.752231;0.168478x0.0580769)\n",
       "Est Dia in Miles(max)           AxesSubplot(0.529348,0.752231;0.168478x0.0580769)\n",
       "Est Dia in Feet(min)            AxesSubplot(0.731522,0.752231;0.168478x0.0580769)\n",
       "Est Dia in Feet(max)               AxesSubplot(0.125,0.682538;0.168478x0.0580769)\n",
       "Epoch Date Close Approach       AxesSubplot(0.327174,0.682538;0.168478x0.0580769)\n",
       "Relative Velocity km per sec    AxesSubplot(0.529348,0.682538;0.168478x0.0580769)\n",
       "Relative Velocity km per hr     AxesSubplot(0.731522,0.682538;0.168478x0.0580769)\n",
       "Miles per hour                     AxesSubplot(0.125,0.612846;0.168478x0.0580769)\n",
       "Miss Dist.(Astronomical)        AxesSubplot(0.327174,0.612846;0.168478x0.0580769)\n",
       "Miss Dist.(lunar)               AxesSubplot(0.529348,0.612846;0.168478x0.0580769)\n",
       "Miss Dist.(kilometers)          AxesSubplot(0.731522,0.612846;0.168478x0.0580769)\n",
       "Miss Dist.(miles)                  AxesSubplot(0.125,0.543154;0.168478x0.0580769)\n",
       "Orbit ID                        AxesSubplot(0.327174,0.543154;0.168478x0.0580769)\n",
       "Minimum Orbit Intersection      AxesSubplot(0.529348,0.543154;0.168478x0.0580769)\n",
       "Jupiter Tisserand Invariant     AxesSubplot(0.731522,0.543154;0.168478x0.0580769)\n",
       "Epoch Osculation                   AxesSubplot(0.125,0.473462;0.168478x0.0580769)\n",
       "Eccentricity                    AxesSubplot(0.327174,0.473462;0.168478x0.0580769)\n",
       "Semi Major Axis                 AxesSubplot(0.529348,0.473462;0.168478x0.0580769)\n",
       "Inclination                     AxesSubplot(0.731522,0.473462;0.168478x0.0580769)\n",
       "Asc Node Longitude                 AxesSubplot(0.125,0.403769;0.168478x0.0580769)\n",
       "Orbital Period                  AxesSubplot(0.327174,0.403769;0.168478x0.0580769)\n",
       "Perihelion Distance             AxesSubplot(0.529348,0.403769;0.168478x0.0580769)\n",
       "Perihelion Arg                  AxesSubplot(0.731522,0.403769;0.168478x0.0580769)\n",
       "Aphelion Dist                      AxesSubplot(0.125,0.334077;0.168478x0.0580769)\n",
       "Perihelion Time                 AxesSubplot(0.327174,0.334077;0.168478x0.0580769)\n",
       "Mean Anomaly                    AxesSubplot(0.529348,0.334077;0.168478x0.0580769)\n",
       "Mean Motion                     AxesSubplot(0.731522,0.334077;0.168478x0.0580769)\n",
       "Hazardous                          AxesSubplot(0.125,0.264385;0.168478x0.0580769)\n",
       "dtype: object"
      ]
     },
     "execution_count": 15,
     "metadata": {},
     "output_type": "execute_result"
    },
    {
     "data": {
      "image/png": "[encoded data removed]",
      "text/plain": [
       "<Figure size 1440x3960 with 44 Axes>"
      ]
     },
     "metadata": {
      "needs_background": "light"
     },
     "output_type": "display_data"
    }
   ],
   "source": [
    "df_2.plot(kind='box', subplots=True, layout=(11,4), sharex=False, sharey=False, figsize=(20,55))"
   ]
  },
  {
   "cell_type": "markdown",
   "metadata": {},
   "source": [
    "fungsi untuk penskalaan maksimum dan minimum"
   ]
  },
  {
   "cell_type": "code",
   "execution_count": 16,
   "metadata": {},
   "outputs": [
    {
     "data": {
      "text/plain": [
       "(4687, 32)"
      ]
     },
     "execution_count": 16,
     "metadata": {},
     "output_type": "execute_result"
    }
   ],
   "source": [
    "scaler = MinMaxScaler()\n",
    "feature_scaled = scaler.fit_transform(x)\n",
    "feature_scaled.shape"
   ]
  },
  {
   "cell_type": "code",
   "execution_count": 17,
   "metadata": {},
   "outputs": [
    {
     "name": "stdout",
     "output_type": "stream",
     "text": [
      "[1 0 1 ... 0 0 0]\n"
     ]
    }
   ],
   "source": [
    "print(y)"
   ]
  },
  {
   "cell_type": "markdown",
   "metadata": {},
   "source": [
    "Pembagian x dan y yang mana ada trainer dan ada juga tester, tester diberi ukuran sebesar 0.2"
   ]
  },
  {
   "cell_type": "code",
   "execution_count": 18,
   "metadata": {},
   "outputs": [],
   "source": [
    "x_train, x_test, y_train, y_test = train_test_split(x, y, test_size=0.2, random_state=2)"
   ]
  },
  {
   "cell_type": "markdown",
   "metadata": {},
   "source": [
    "pendeklarasian model ANN untuk menentukan berapa banyak input, hidden layer, dan output"
   ]
  },
  {
   "cell_type": "code",
   "execution_count": 19,
   "metadata": {},
   "outputs": [
    {
     "name": "stdout",
     "output_type": "stream",
     "text": [
      "WARNING:tensorflow:From C:\\Users\\8Ball270\\Anaconda3\\envs\\tensorflow-sessions\\lib\\site-packages\\keras\\backend\\tensorflow_backend.py:74: The name tf.get_default_graph is deprecated. Please use tf.compat.v1.get_default_graph instead.\n",
      "\n",
      "WARNING:tensorflow:From C:\\Users\\8Ball270\\Anaconda3\\envs\\tensorflow-sessions\\lib\\site-packages\\keras\\backend\\tensorflow_backend.py:517: The name tf.placeholder is deprecated. Please use tf.compat.v1.placeholder instead.\n",
      "\n",
      "WARNING:tensorflow:From C:\\Users\\8Ball270\\Anaconda3\\envs\\tensorflow-sessions\\lib\\site-packages\\keras\\backend\\tensorflow_backend.py:4138: The name tf.random_uniform is deprecated. Please use tf.random.uniform instead.\n",
      "\n"
     ]
    }
   ],
   "source": [
    "model = Sequential()\n",
    "model.add(Dense(units= 50, input_dim= 32, activation='relu'))\n",
    "model.add(Dense(units= 50, activation='relu'))\n",
    "model.add(Dense(units= 3, activation='sigmoid'))"
   ]
  },
  {
   "cell_type": "markdown",
   "metadata": {},
   "source": [
    "kemudian menentukan optimizer adam sebesar 0.01, loss, dan metrics sebelum diproses untuk melihat akurasi"
   ]
  },
  {
   "cell_type": "code",
   "execution_count": 20,
   "metadata": {},
   "outputs": [
    {
     "name": "stdout",
     "output_type": "stream",
     "text": [
      "WARNING:tensorflow:From C:\\Users\\8Ball270\\Anaconda3\\envs\\tensorflow-sessions\\lib\\site-packages\\keras\\optimizers.py:790: The name tf.train.Optimizer is deprecated. Please use tf.compat.v1.train.Optimizer instead.\n",
      "\n",
      "WARNING:tensorflow:From C:\\Users\\8Ball270\\Anaconda3\\envs\\tensorflow-sessions\\lib\\site-packages\\keras\\backend\\tensorflow_backend.py:3341: The name tf.log is deprecated. Please use tf.math.log instead.\n",
      "\n"
     ]
    }
   ],
   "source": [
    "model.compile(optimizer=Adam(lr=0.01), loss='sparse_categorical_crossentropy', metrics=['accuracy'])"
   ]
  },
  {
   "cell_type": "markdown",
   "metadata": {},
   "source": [
    "setelah itu, ini adalah tahap untuk training dengan menentukan batch size dan banyaknya epochs"
   ]
  },
  {
   "cell_type": "code",
   "execution_count": 21,
   "metadata": {},
   "outputs": [
    {
     "name": "stdout",
     "output_type": "stream",
     "text": [
      "WARNING:tensorflow:From C:\\Users\\8Ball270\\Anaconda3\\envs\\tensorflow-sessions\\lib\\site-packages\\tensorflow_core\\python\\ops\\math_grad.py:1424: where (from tensorflow.python.ops.array_ops) is deprecated and will be removed in a future version.\n",
      "Instructions for updating:\n",
      "Use tf.where in 2.0, which has the same broadcast rule as np.where\n",
      "WARNING:tensorflow:From C:\\Users\\8Ball270\\Anaconda3\\envs\\tensorflow-sessions\\lib\\site-packages\\keras\\backend\\tensorflow_backend.py:986: The name tf.assign_add is deprecated. Please use tf.compat.v1.assign_add instead.\n",
      "\n",
      "WARNING:tensorflow:From C:\\Users\\8Ball270\\Anaconda3\\envs\\tensorflow-sessions\\lib\\site-packages\\keras\\backend\\tensorflow_backend.py:973: The name tf.assign is deprecated. Please use tf.compat.v1.assign instead.\n",
      "\n",
      "WARNING:tensorflow:From C:\\Users\\8Ball270\\Anaconda3\\envs\\tensorflow-sessions\\lib\\site-packages\\keras\\backend\\tensorflow_backend.py:2741: The name tf.Session is deprecated. Please use tf.compat.v1.Session instead.\n",
      "\n",
      "Train on 3749 samples, validate on 938 samples\n",
      "Epoch 1/20\n",
      "WARNING:tensorflow:From C:\\Users\\8Ball270\\Anaconda3\\envs\\tensorflow-sessions\\lib\\site-packages\\keras\\backend\\tensorflow_backend.py:174: The name tf.get_default_session is deprecated. Please use tf.compat.v1.get_default_session instead.\n",
      "\n",
      "WARNING:tensorflow:From C:\\Users\\8Ball270\\Anaconda3\\envs\\tensorflow-sessions\\lib\\site-packages\\keras\\backend\\tensorflow_backend.py:181: The name tf.ConfigProto is deprecated. Please use tf.compat.v1.ConfigProto instead.\n",
      "\n",
      "WARNING:tensorflow:From C:\\Users\\8Ball270\\Anaconda3\\envs\\tensorflow-sessions\\lib\\site-packages\\keras\\backend\\tensorflow_backend.py:190: The name tf.global_variables is deprecated. Please use tf.compat.v1.global_variables instead.\n",
      "\n",
      "WARNING:tensorflow:From C:\\Users\\8Ball270\\Anaconda3\\envs\\tensorflow-sessions\\lib\\site-packages\\keras\\backend\\tensorflow_backend.py:199: The name tf.is_variable_initialized is deprecated. Please use tf.compat.v1.is_variable_initialized instead.\n",
      "\n",
      "WARNING:tensorflow:From C:\\Users\\8Ball270\\Anaconda3\\envs\\tensorflow-sessions\\lib\\site-packages\\keras\\backend\\tensorflow_backend.py:206: The name tf.variables_initializer is deprecated. Please use tf.compat.v1.variables_initializer instead.\n",
      "\n",
      "3749/3749 [==============================] - 5s 1ms/step - loss: 3.2980 - acc: 0.8381 - val_loss: 3.3394 - val_acc: 0.8358\n",
      "Epoch 2/20\n",
      "3749/3749 [==============================] - 1s 231us/step - loss: 3.2770 - acc: 0.8397 - val_loss: 3.3394 - val_acc: 0.8358\n",
      "Epoch 3/20\n",
      "3749/3749 [==============================] - 1s 213us/step - loss: 3.2770 - acc: 0.8397 - val_loss: 3.3394 - val_acc: 0.8358\n",
      "Epoch 4/20\n",
      "3749/3749 [==============================] - 1s 262us/step - loss: 3.2770 - acc: 0.8397 - val_loss: 3.3394 - val_acc: 0.8358\n",
      "Epoch 5/20\n",
      "3749/3749 [==============================] - 1s 218us/step - loss: 3.2770 - acc: 0.8397 - val_loss: 3.3394 - val_acc: 0.8358\n",
      "Epoch 6/20\n",
      "3749/3749 [==============================] - 1s 196us/step - loss: 3.2770 - acc: 0.8397 - val_loss: 3.3394 - val_acc: 0.8358\n",
      "Epoch 7/20\n",
      "3749/3749 [==============================] - 1s 289us/step - loss: 3.2770 - acc: 0.8397 - val_loss: 3.3394 - val_acc: 0.8358\n",
      "Epoch 8/20\n",
      "3749/3749 [==============================] - 1s 205us/step - loss: 3.2770 - acc: 0.8397 - val_loss: 3.3394 - val_acc: 0.8358\n",
      "Epoch 9/20\n",
      "3749/3749 [==============================] - 1s 253us/step - loss: 3.2770 - acc: 0.8397 - val_loss: 3.3394 - val_acc: 0.8358\n",
      "Epoch 10/20\n",
      "3749/3749 [==============================] - 1s 209us/step - loss: 3.2770 - acc: 0.8397 - val_loss: 3.3394 - val_acc: 0.8358\n",
      "Epoch 11/20\n",
      "3749/3749 [==============================] - 1s 289us/step - loss: 3.2770 - acc: 0.8397 - val_loss: 3.3394 - val_acc: 0.8358\n",
      "Epoch 12/20\n",
      "3749/3749 [==============================] - 1s 222us/step - loss: 3.2770 - acc: 0.8397 - val_loss: 3.3394 - val_acc: 0.8358\n",
      "Epoch 13/20\n",
      "3749/3749 [==============================] - 1s 296us/step - loss: 3.2770 - acc: 0.8397 - val_loss: 3.3394 - val_acc: 0.8358\n",
      "Epoch 14/20\n",
      "3749/3749 [==============================] - 1s 241us/step - loss: 3.2770 - acc: 0.8397 - val_loss: 3.3394 - val_acc: 0.8358\n",
      "Epoch 15/20\n",
      "3749/3749 [==============================] - 1s 248us/step - loss: 3.2770 - acc: 0.8397 - val_loss: 3.3394 - val_acc: 0.8358\n",
      "Epoch 16/20\n",
      "3749/3749 [==============================] - 1s 244us/step - loss: 3.2770 - acc: 0.8397 - val_loss: 3.3394 - val_acc: 0.8358\n",
      "Epoch 17/20\n",
      "3749/3749 [==============================] - 1s 231us/step - loss: 3.2770 - acc: 0.8397 - val_loss: 3.3394 - val_acc: 0.8358\n",
      "Epoch 18/20\n",
      "3749/3749 [==============================] - 1s 262us/step - loss: 3.2770 - acc: 0.8397 - val_loss: 3.3394 - val_acc: 0.8358\n",
      "Epoch 19/20\n",
      "3749/3749 [==============================] - 1s 205us/step - loss: 3.2770 - acc: 0.8397 - val_loss: 3.3394 - val_acc: 0.8358\n",
      "Epoch 20/20\n",
      "3749/3749 [==============================] - 1s 226us/step - loss: 3.2770 - acc: 0.8397 - val_loss: 3.3394 - val_acc: 0.8358\n"
     ]
    }
   ],
   "source": [
    "acc_training = model.fit(x_train, y_train, validation_data=(x_test, y_test), batch_size=32, epochs=20)"
   ]
  },
  {
   "cell_type": "markdown",
   "metadata": {},
   "source": [
    "setelah tahap training, kemudian ada tahap testing dan melihat berapa besar akurasi yang didapat"
   ]
  },
  {
   "cell_type": "code",
   "execution_count": 22,
   "metadata": {},
   "outputs": [
    {
     "name": "stdout",
     "output_type": "stream",
     "text": [
      "938/938 [==============================] - 0s 160us/step\n",
      "\n",
      "Accuracy is 0.8358208953952992\n"
     ]
    }
   ],
   "source": [
    "acc_testing  = model.evaluate(x_test, y_test) \n",
    "print('\\nAccuracy is', acc_testing[1])"
   ]
  },
  {
   "cell_type": "markdown",
   "metadata": {},
   "source": [
    "Plotting perbandingan akurasi training data dan testing data"
   ]
  },
  {
   "cell_type": "code",
   "execution_count": 23,
   "metadata": {},
   "outputs": [
    {
     "data": {
      "image/png": "[encoded data removed]",
      "text/plain": [
       "<Figure size 432x288 with 1 Axes>"
      ]
     },
     "metadata": {
      "needs_background": "light"
     },
     "output_type": "display_data"
    }
   ],
   "source": [
    "plt.plot(acc_training.history['acc'])\n",
    "plt.plot(acc_training.history['val_acc'])\n",
    "plt.title('Accuracy Model')\n",
    "plt.ylabel('Accuracy')\n",
    "plt.xlabel('Epoch')\n",
    "plt.legend(['Training Data', 'Testing Data'], loc='center right')\n",
    "plt.show()"
   ]
  },
  {
   "cell_type": "markdown",
   "metadata": {},
   "source": [
    "Plotting perbandingan loss training data dan testing data"
   ]
  },
  {
   "cell_type": "code",
   "execution_count": 24,
   "metadata": {},
   "outputs": [
    {
     "data": {
      "image/png": "[encoded data removed]",
      "text/plain": [
       "<Figure size 432x288 with 1 Axes>"
      ]
     },
     "metadata": {
      "needs_background": "light"
     },
     "output_type": "display_data"
    }
   ],
   "source": [
    "plt.plot(acc_training.history['loss'])\n",
    "plt.plot(acc_training.history['val_loss'])\n",
    "plt.title('Loss Model')\n",
    "plt.ylabel('Loss')\n",
    "plt.xlabel('Epoch')\n",
    "plt.legend(['Training Data', 'Testing Data'], loc='center right')\n",
    "plt.show()"
   ]
  },
  {
   "cell_type": "markdown",
   "metadata": {},
   "source": [
    "menambahkan perdiction agar dapat membuat confusion matrix dan mendeklarasikan variabel-variabel yang mengambil nilai dari hasil proses confusion matrix"
   ]
  },
  {
   "cell_type": "code",
   "execution_count": 25,
   "metadata": {},
   "outputs": [],
   "source": [
    "prediction = model.predict_classes(x_test)\n",
    "cm = confusion_matrix(y_test, prediction)\n",
    "tp = cm[0,0]\n",
    "tn = cm[1,1]\n",
    "fp = cm[0,1]\n",
    "fn = cm[1,0]"
   ]
  },
  {
   "cell_type": "markdown",
   "metadata": {},
   "source": [
    "menampilkan apa isi dari sebuah confusion matrix yang sudah dibuat"
   ]
  },
  {
   "cell_type": "code",
   "execution_count": 26,
   "metadata": {},
   "outputs": [
    {
     "name": "stdout",
     "output_type": "stream",
     "text": [
      "Confussion matrix:\n",
      " [[784   0]\n",
      " [154   0]]\n"
     ]
    }
   ],
   "source": [
    "print(\"Confussion matrix:\\n\",cm)"
   ]
  },
  {
   "cell_type": "markdown",
   "metadata": {},
   "source": [
    "kemudian proses melakukan perhitungan, salah satunya menghitung akurasi dengan menggunakan angka-angka dari confusion matrix"
   ]
  },
  {
   "cell_type": "code",
   "execution_count": 27,
   "metadata": {},
   "outputs": [],
   "source": [
    "precision = tp / ( tp + fp)\n",
    "recall = tp/(tp+fn)\n",
    "f1=(2*precision*recall)/ (precision+recall)\n",
    "accuracy = (tp+tn)/(tp+tn+fp+fn)\n",
    "sensitivity = tp/(tp + fn)"
   ]
  },
  {
   "cell_type": "markdown",
   "metadata": {},
   "source": [
    "Menampilkan hasil perhitungan diatas"
   ]
  },
  {
   "cell_type": "code",
   "execution_count": 28,
   "metadata": {},
   "outputs": [
    {
     "name": "stdout",
     "output_type": "stream",
     "text": [
      "precesion   :  1.0\n",
      "recall      :  0.835820895522388\n",
      "F1          :  0.9105691056910569\n",
      "sensitivity :  0.835820895522388\n",
      "accuracy    :  0.835820895522388\n"
     ]
    }
   ],
   "source": [
    "print(\"precesion   : \",precision)\n",
    "print(\"recall      : \",recall)\n",
    "print(\"F1          : \",f1)\n",
    "print(\"sensitivity : \",sensitivity)\n",
    "print(\"accuracy    : \",accuracy)"
   ]
  },
  {
   "cell_type": "markdown",
   "metadata": {},
   "source": [
    "Datasets source : https://www.kaggle.com/shrutimehta/nasa-asteroids-classification"
   ]
  }
 ],
 "metadata": {
  "kernelspec": {
   "display_name": "Python 3",
   "language": "python",
   "name": "python3"
  },
  "language_info": {
   "codemirror_mode": {
    "name": "ipython",
    "version": 3
   },
   "file_extension": ".py",
   "mimetype": "text/x-python",
   "name": "python",
   "nbconvert_exporter": "python",
   "pygments_lexer": "ipython3",
   "version": "3.7.5"
  }
 },
 "nbformat": 4,
 "nbformat_minor": 2
}
